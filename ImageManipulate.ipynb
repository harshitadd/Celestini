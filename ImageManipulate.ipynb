{
  "nbformat": 4,
  "nbformat_minor": 0,
  "metadata": {
    "colab": {
      "name": "ImageManipulate.ipynb",
      "version": "0.3.2",
      "provenance": [],
      "include_colab_link": true
    },
    "kernelspec": {
      "name": "python3",
      "display_name": "Python 3"
    },
    "accelerator": "GPU"
  },
  "cells": [
    {
      "cell_type": "markdown",
      "metadata": {
        "id": "view-in-github",
        "colab_type": "text"
      },
      "source": [
        "<a href=\"https://colab.research.google.com/github/harshitadd/Celestini/blob/master/ImageManipulate.ipynb\" target=\"_parent\"><img src=\"https://colab.research.google.com/assets/colab-badge.svg\" alt=\"Open In Colab\"/></a>"
      ]
    },
    {
      "cell_type": "code",
      "metadata": {
        "id": "Y0iXkkesy1DG",
        "colab_type": "code",
        "colab": {}
      },
      "source": [
        "#!pip install firebase-admin\n",
        "import firebase_admin\n",
        "import cv2 \n",
        "from firebase_admin import credentials \n",
        "from google.colab.patches import cv2_imshow\n",
        "from firebase_admin import storage \n",
        "import numpy as np\n",
        "import matplotlib.pyplot as plt "
      ],
      "execution_count": 0,
      "outputs": []
    },
    {
      "cell_type": "code",
      "metadata": {
        "id": "oqOvmLSwzyQw",
        "colab_type": "code",
        "colab": {}
      },
      "source": [
        "cred = credentials.Certificate(\"credentials.json\")\n",
        "\n",
        "# Initialize the app with a service account, granting admin privileges\n",
        "app = firebase_admin.initialize_app(cred, {\n",
        "    'storageBucket': 'fir-4ca2c.appspot.com',\n",
        "}, name='storage')"
      ],
      "execution_count": 0,
      "outputs": []
    },
    {
      "cell_type": "code",
      "metadata": {
        "id": "nb5tec571jfO",
        "colab_type": "code",
        "colab": {}
      },
      "source": [
        "##GETTING NAMES  -- ##Location - SSCB and DTU : Rotated images  \n",
        "\n",
        "bucket = storage.bucket(app=app)\n",
        "blobs = bucket.list_blobs()\n",
        "\n",
        "#blobs is an interator :google.api_core.page_iterator.HTTPIterator object at 0x7f2cd11c84e0>\n",
        "\n",
        "imglenovo = [] #has all the lenovo images by their name \n",
        "ctr=0\n",
        "mits = set()\n",
        "for blob in blobs:\n",
        "  if blob.name[7:16]==\"lenovoinS\" :\n",
        "    if int(blob.name[-8:-6])<19 and int(blob.name[-8:-6])>5:\n",
        "      blob.download_to_filename('/content/' + \"lenovo\" + str(blob.name.split('/')[-1])+ '.jpeg')\n",
        "      imglenovo.append(\"lenovo\" + str(blob.name.split('/')[-1])+ '.jpeg') \n",
        "      print(\"lenovo\" + str(blob.name.split('/')[-1])+ '.jpeg')\n",
        "      ctr+=1\n",
        "      print(ctr)\n",
        "    "
      ],
      "execution_count": 0,
      "outputs": []
    },
    {
      "cell_type": "code",
      "metadata": {
        "id": "yGsY3dWi6sgE",
        "colab_type": "code",
        "colab": {}
      },
      "source": [
        "##READING THEM \n",
        "\n",
        "lenovo=[]\n",
        "for img in imglenovo:\n",
        "  if(img[11:16]>'07-02'):           ##These indicate the DTU Images - which need to be cropped and rotated \n",
        "    im = cv2.imread(img)\n",
        "    crop = im[700:3150, 0:3120]\n",
        "    crop = cv2.resize(crop, (int(np.shape(im)[1]*0.1), int(np.shape(im)[0]*0.1)))\n",
        "    im = cv2.resize(crop,(256,256))\n",
        "    im = cv2.rotate(im,rotateCode =cv2.ROTATE_90_COUNTERCLOCKWISE)\n",
        "    lenovo.append(im)\n",
        "  else:\n",
        "    im = cv2.imread(img)           ##These indicate the SSCB Images - rotation only \n",
        "    im = cv2.resize(im, (256,256))\n",
        "    im = cv2.rotate(im,rotateCode =cv2.ROTATE_90_CLOCKWISE)\n",
        "    lenovo.append(im)\n",
        "    \n",
        "    \n",
        "    "
      ],
      "execution_count": 0,
      "outputs": []
    },
    {
      "cell_type": "code",
      "metadata": {
        "id": "eitKE9Vs27qu",
        "colab_type": "code",
        "colab": {}
      },
      "source": [
        "## CHECKING BLOCK \n",
        "\n",
        "# print(len(lenovo))\n",
        "\n",
        "# cv2_imshow(lenovo[0])\n",
        "# cv2_imshow(lenovo[400])\n",
        "# cv2_imshow(lenovo[200])\n",
        "# cv2_imshow(lenovo[100])\n",
        "# cv2_imshow(lenovo[10])\n",
        "# cv2_imshow(lenovo[830])\n",
        "# cv2_imshow(lenovo[730])\n",
        "# cv2_imshow(lenovo[700])\n",
        "\n",
        "  "
      ],
      "execution_count": 0,
      "outputs": []
    },
    {
      "cell_type": "code",
      "metadata": {
        "id": "2l-4Btpf9Jl-",
        "colab_type": "code",
        "colab": {}
      },
      "source": [
        "##GETTING NAMES - PUNJABI BAGH \n",
        "\n",
        "bucket = storage.bucket(app=app)\n",
        "blobs = bucket.list_blobs()\n",
        "\n",
        "imgpb = [] #has all the minote pictures by their name \n",
        "ctr=0\n",
        "mits = set()\n",
        "for blob in blobs:\n",
        "  if blob.name.split('/')[1]==\"rivers.jpg\" :\n",
        "    if int(blob.name[-8:-6])<19 and int(blob.name[-8:-6])>5:\n",
        "        blob.download_to_filename('/content/' + \"pb\" + str(blob.name.split('/')[-1])+ '.jpeg')\n",
        "        imgpb.append(\"pb\" + str(blob.name.split('/')[-1])+ '.jpeg') \n",
        "        print(\"pb\" + str(blob.name.split('/')[-1])+ '.jpeg')\n",
        "        ctr+=1\n",
        "        "
      ],
      "execution_count": 0,
      "outputs": []
    },
    {
      "cell_type": "code",
      "metadata": {
        "id": "Z5nyBCSA5h3K",
        "colab_type": "code",
        "colab": {}
      },
      "source": [
        "##READING IMAGES - Rotated\n",
        "\n",
        "note4=[]\n",
        "for img in imgpb:\n",
        "  im = cv2.imread(img)\n",
        "  im = cv2.resize(im, (256,256))\n",
        "  im = cv2.rotate(im,rotateCode =cv2.ROTATE_90_CLOCKWISE)\n",
        "  note4.append(im)\n"
      ],
      "execution_count": 0,
      "outputs": []
    },
    {
      "cell_type": "code",
      "metadata": {
        "id": "F3u8_iLI9R16",
        "colab_type": "code",
        "colab": {}
      },
      "source": [
        "##CHECKING BLOCK \n",
        "\n",
        "# cv2_imshow(note4[0])\n",
        "\n",
        "# cv2_imshow(note4[1])\n",
        "\n",
        "# cv2_imshow(note4[200])\n",
        "# cv2_imshow(note4[110])"
      ],
      "execution_count": 0,
      "outputs": []
    },
    {
      "cell_type": "code",
      "metadata": {
        "id": "w4c6N8N9MMuM",
        "colab_type": "code",
        "colab": {}
      },
      "source": [
        "##GETTING NAMES - Location : DTU AND SHADIPUR \n",
        "\n",
        "bucket = storage.bucket(app=app)\n",
        "blobs = bucket.list_blobs()\n",
        "\n",
        "imgminote = [] #has all the minote pictures by their name \n",
        "ctr=0\n",
        "mits = set()\n",
        "for blob in blobs:\n",
        "  if blob.name[7:16]==\"minoteSSC\" :\n",
        "    if int(blob.name[-8:-6])<19 and int(blob.name[-8:-6])>5:\n",
        "        blob.download_to_filename('/content/' + \"minote\" + str(blob.name.split('/')[-1])+ '.jpeg')\n",
        "        imgminote.append(\"minote\" + str(blob.name.split('/')[-1])+ '.jpeg') \n",
        "        print(\"minote\" + str(blob.name.split('/')[-1])+ '.jpeg')\n",
        "        ctr+=1\n",
        "        \n",
        "      \n"
      ],
      "execution_count": 0,
      "outputs": []
    },
    {
      "cell_type": "code",
      "metadata": {
        "id": "FTDORaRQMyHx",
        "colab_type": "code",
        "colab": {}
      },
      "source": [
        "##READING IMAGES - Location - SSCB and SHADIPUR ; Rotation \n",
        "minote =[]\n",
        "for img in imgminote :     \n",
        "  if(img[11:16]>'07-05'):              ##Shadipur images needed rotating  \n",
        "    im = cv2.imread(img)\n",
        "    im = cv2.resize(im, (256,256))\n",
        "    im = cv2.rotate(im, rotateCode = cv2.ROTATE_90_COUNTERCLOCKWISE)\n",
        "    minote.append(im)\n",
        "    print('SHADIPUR')\n",
        "  else:\n",
        "    im = cv2.imread(img)               ##SSCB images did not need any rotating \n",
        "    im = cv2.resize(im, (256,256))\n",
        "    minote.append(im)\n",
        "    print('SSCB')\n",
        "    "
      ],
      "execution_count": 0,
      "outputs": []
    },
    {
      "cell_type": "code",
      "metadata": {
        "id": "Wp0OPjVSM72n",
        "colab_type": "code",
        "colab": {}
      },
      "source": [
        "##CHECKING BLOCK \n",
        "\n",
        "# cv2_imshow(minote[0])\n",
        "# cv2_imshow(minote[1])\n",
        "# cv2_imshow(minote[100])\n",
        "# cv2_imshow(minote[900])\n",
        "# cv2_imshow(minote[950])"
      ],
      "execution_count": 0,
      "outputs": []
    },
    {
      "cell_type": "code",
      "metadata": {
        "id": "ShyFyIDVO2fr",
        "colab_type": "code",
        "colab": {}
      },
      "source": [
        "##GETTING NAMES - ITO \n",
        "\n",
        "bucket = storage.bucket(app=app)\n",
        "blobs = bucket.list_blobs()\n",
        "\n",
        "imgito = [] #has all the minote pictures by their name \n",
        "ctr=0\n",
        "mits = set()\n",
        "for blob in blobs:\n",
        "  if blob.name.split('/')[1]==\"Lenovo.JPG\" :\n",
        "    if int(blob.name[-8:-6])<19 and int(blob.name[-8:-6])>5:\n",
        "        blob.download_to_filename('/content/' + \"ito\" + str(blob.name.split('/')[-1])+ '.jpeg')\n",
        "        imgito.append(\"ito\" + str(blob.name.split('/')[-1])+ '.jpeg') \n",
        "        print(\"ito\" + str(blob.name.split('/')[-1])+ '.jpeg')\n",
        "        ctr+=1\n",
        "        \n",
        "        \n",
        "        "
      ],
      "execution_count": 0,
      "outputs": []
    },
    {
      "cell_type": "code",
      "metadata": {
        "id": "Ts2As6x-Zt2e",
        "colab_type": "code",
        "colab": {}
      },
      "source": [
        "print(len(imgito))"
      ],
      "execution_count": 0,
      "outputs": []
    },
    {
      "cell_type": "code",
      "metadata": {
        "id": "45qtbzVHV_ha",
        "colab_type": "code",
        "colab": {}
      },
      "source": [
        "##READING BLOCK \n",
        "\n",
        "itolenovo=[]\n",
        "\n",
        "for img in imgito:\n",
        "  im = cv2.imread(img)\n",
        "  im = cv2.resize(im,(256,256))\n",
        "  im = cv2.rotate(im, rotateCode = cv2.ROTATE_90_COUNTERCLOCKWISE)\n",
        "  itolenovo.append(im) "
      ],
      "execution_count": 0,
      "outputs": []
    },
    {
      "cell_type": "code",
      "metadata": {
        "id": "GsrIISBbWLxN",
        "colab_type": "code",
        "colab": {}
      },
      "source": [
        "##CHECKING BLOCK \n",
        "\n",
        "# cv2_imshow(itolenovo[0])\n",
        "\n",
        "# cv2_imshow(itolenovo[100])\n",
        "\n",
        "# cv2_imshow(itolenovo[200])\n",
        "\n",
        "# cv2_imshow(itolenovo[400])"
      ],
      "execution_count": 0,
      "outputs": []
    },
    {
      "cell_type": "code",
      "metadata": {
        "id": "goSiQ9EMa3em",
        "colab_type": "code",
        "colab": {}
      },
      "source": [
        ""
      ],
      "execution_count": 0,
      "outputs": []
    }
  ]
}