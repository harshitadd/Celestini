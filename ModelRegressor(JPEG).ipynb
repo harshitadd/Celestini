{
  "nbformat": 4,
  "nbformat_minor": 0,
  "metadata": {
    "colab": {
      "name": "ModelRegressor(JPEG).ipynb",
      "version": "0.3.2",
      "provenance": [],
      "collapsed_sections": [],
      "include_colab_link": true
    },
    "kernelspec": {
      "name": "python3",
      "display_name": "Python 3"
    },
    "accelerator": "GPU"
  },
  "cells": [
    {
      "cell_type": "markdown",
      "metadata": {
        "id": "view-in-github",
        "colab_type": "text"
      },
      "source": [
        "<a href=\"https://colab.research.google.com/github/harshitadd/Celestini/blob/master/ModelRegressor(JPEG).ipynb\" target=\"_parent\"><img src=\"https://colab.research.google.com/assets/colab-badge.svg\" alt=\"Open In Colab\"/></a>"
      ]
    },
    {
      "cell_type": "markdown",
      "metadata": {
        "id": "x9GNzhfL8Pth",
        "colab_type": "text"
      },
      "source": [
        ""
      ]
    },
    {
      "cell_type": "code",
      "metadata": {
        "id": "Y0iXkkesy1DG",
        "colab_type": "code",
        "colab": {}
      },
      "source": [
        "!pip install firebase-admin\n",
        "from google.colab import drive \n",
        "drive.mount('/content/drive')\n",
        "import firebase_admin\n",
        "import cv2 \n",
        "from firebase_admin import credentials,db \n",
        "from google.colab.patches import cv2_imshow\n",
        "from sklearn.externals import joblib \n",
        "from firebase_admin import storage \n",
        "import pandas as pd \n",
        "import csv \n",
        "import json\n",
        "import pickle\n",
        "import numpy as np\n",
        "import math\n",
        "import matplotlib.pyplot as plt\n",
        "from sklearn.preprocessing import MinMaxScaler\n",
        "from sklearn.model_selection import train_test_split,cross_val_predict, cross_val_score\n",
        "from sklearn.metrics import mean_squared_error, mean_absolute_error\n",
        "from sklearn.linear_model import LinearRegression \n",
        "from sklearn.ensemble import RandomForestRegressor"
      ],
      "execution_count": 0,
      "outputs": []
    },
    {
      "cell_type": "code",
      "metadata": {
        "id": "oqOvmLSwzyQw",
        "colab_type": "code",
        "colab": {}
      },
      "source": [
        "cred = credentials.Certificate(\"credentials.json\")\n",
        "\n",
        "# Initialize the app with a service account, granting admin privileges\n",
        "app = firebase_admin.initialize_app(cred, {\n",
        "    'storageBucket': 'fir-4ca2c.appspot.com',\n",
        "}, name='images_old')"
      ],
      "execution_count": 0,
      "outputs": []
    },
    {
      "cell_type": "markdown",
      "metadata": {
        "id": "GIsZJu3Wesj4",
        "colab_type": "text"
      },
      "source": [
        "IMAGE GENERATION "
      ]
    },
    {
      "cell_type": "code",
      "metadata": {
        "id": "nb5tec571jfO",
        "colab_type": "code",
        "colab": {}
      },
      "source": [
        "##GETTING NAMES  -- ##Location - SSCB and DTU : Rotated images  \n",
        "\n",
        "bucket = storage.bucket(app=app)\n",
        "blobs = bucket.list_blobs()\n",
        "\n",
        "#blobs is an interator :google.api_core.page_iterator.HTTPIterator object at 0x7f2cd11c84e0>\n",
        "\n",
        "imglenovo = [] #has all the lenovo images by their name \n",
        "ctr=0\n",
        "mits = set()\n",
        "for blob in blobs:\n",
        "  if blob.name[7:16]==\"lenovoinS\" :\n",
        "    if int(blob.name[-8:-6])<19 and int(blob.name[-8:-6])>5:\n",
        "      blob.download_to_filename('/content/' + \"lenovo\" + str(blob.name.split('/')[-1])+ '.jpeg')\n",
        "      imglenovo.append(\"lenovo\" + str(blob.name.split('/')[-1])+ '.jpeg') \n",
        "      #print(\"lenovo\" + str(blob.name.split('/')[-1])+ '.jpeg')\n",
        "      ctr+=1\n",
        "      print(ctr)\n",
        "      \n",
        "    "
      ],
      "execution_count": 0,
      "outputs": []
    },
    {
      "cell_type": "code",
      "metadata": {
        "id": "yGsY3dWi6sgE",
        "colab_type": "code",
        "colab": {}
      },
      "source": [
        "##READING THEM \n",
        "\n",
        "dtu=[]\n",
        "sscb=[]\n",
        "for img in imglenovo:\n",
        "  if(img[11:16]>'07-02'):##These indicate the DTU Images - which need to be cropped and rotated \n",
        "    l=[]\n",
        "    l.append(img)\n",
        "    im = cv2.imread(img)\n",
        "    crop = im[700:3150, 0:3120]\n",
        "    crop = cv2.resize(crop, (int(np.shape(im)[1]*0.1), int(np.shape(im)[0]*0.1)))\n",
        "    im = cv2.resize(crop,(256,256))\n",
        "    im = cv2.rotate(im,rotateCode =cv2.ROTATE_90_COUNTERCLOCKWISE)\n",
        "    l.append(im)\n",
        "    dtu.append(l)\n",
        "  else:\n",
        "    l=[]\n",
        "    l.append(img)\n",
        "    im = cv2.imread(img)           ##These indicate the SSCB Images - rotation only \n",
        "    im = cv2.resize(im, (256,256))\n",
        "    im = cv2.rotate(im,rotateCode =cv2.ROTATE_90_CLOCKWISE)\n",
        "    l.append(im)\n",
        "    sscb.append(l)\n",
        "    \n",
        "    \n",
        "    "
      ],
      "execution_count": 0,
      "outputs": []
    },
    {
      "cell_type": "code",
      "metadata": {
        "id": "eitKE9Vs27qu",
        "colab_type": "code",
        "colab": {}
      },
      "source": [
        "## CHECKING BLOCK \n",
        "\n",
        "print(len(dtu))\n",
        "print(len(sscb))\n"
      ],
      "execution_count": 0,
      "outputs": []
    },
    {
      "cell_type": "code",
      "metadata": {
        "id": "2l-4Btpf9Jl-",
        "colab_type": "code",
        "colab": {}
      },
      "source": [
        "##GETTING NAMES - PUNJABI BAGH \n",
        "\n",
        "bucket = storage.bucket(app=app)\n",
        "blobs = bucket.list_blobs()\n",
        "count=0\n",
        "imgpb = [] #has all the minote pictures by their name \n",
        "ctr=0\n",
        "mits = set()\n",
        "for blob in blobs:  \n",
        "  if blob.name.split('/')[1]==\"rivers.jpg\" :\n",
        "    ctr+=1\n",
        "    if int(blob.name[-8:-6])<19 and int(blob.name[-8:-6])>5 and ctr%3==0:\n",
        "        blob.download_to_filename('/content/' + \"pb\" + str(blob.name.split('/')[-1])+ '.jpeg')\n",
        "        imgpb.append(\"pb\" + str(blob.name.split('/')[-1])+ '.jpeg') \n",
        "        #print(\"pb\" + str(blob.name.split('/')[-1])+ '.jpeg')\n",
        "        count=ctr\n",
        "        print(count)"
      ],
      "execution_count": 0,
      "outputs": []
    },
    {
      "cell_type": "code",
      "metadata": {
        "id": "Ie52XTD5wgKj",
        "colab_type": "code",
        "outputId": "0369603a-4764-4d7c-d8af-de427082edeb",
        "colab": {
          "base_uri": "https://localhost:8080/",
          "height": 34
        }
      },
      "source": [
        "print(len(imgpb))"
      ],
      "execution_count": 7,
      "outputs": [
        {
          "output_type": "stream",
          "text": [
            "161\n"
          ],
          "name": "stdout"
        }
      ]
    },
    {
      "cell_type": "code",
      "metadata": {
        "id": "Z5nyBCSA5h3K",
        "colab_type": "code",
        "colab": {}
      },
      "source": [
        "##READING IMAGES - Rotated\n",
        "\n",
        "pb=[]\n",
        "for img in imgpb:\n",
        "  l=[]\n",
        "  l.append(img)\n",
        "  im = cv2.imread(img)\n",
        "  im = cv2.resize(im, (256,256))\n",
        "  im = cv2.rotate(im,rotateCode =cv2.ROTATE_90_CLOCKWISE)\n",
        "  l.append(im)\n",
        "  pb.append(l)\n"
      ],
      "execution_count": 0,
      "outputs": []
    },
    {
      "cell_type": "code",
      "metadata": {
        "id": "w4c6N8N9MMuM",
        "colab_type": "code",
        "outputId": "e6af9f6d-575e-470b-d09e-1ee85c8fac5b",
        "colab": {
          "base_uri": "https://localhost:8080/",
          "height": 171
        }
      },
      "source": [
        "##GETTING NAMES - Location : DTU AND SHADIPUR \n",
        "\n",
        "bucket = storage.bucket(app=app)\n",
        "blobs = bucket.list_blobs()\n",
        "\n",
        "imgminote = [] #has all the minote pictures by their name \n",
        "ctr=0\n",
        "mits = set()\n",
        "for blob in blobs:\n",
        "  if blob.name[7:16]==\"minoteSSC\" :\n",
        "    if int(blob.name[-8:-6])<19 and int(blob.name[-8:-6])>5:\n",
        "        blob.download_to_filename('/content/' + \"minote\" + str(blob.name.split('/')[-1])+ '.jpeg')\n",
        "        imgminote.append(\"minote\" + str(blob.name.split('/')[-1])+ '.jpeg') \n",
        "        #print(\"minote\" + str(blob.name.split('/')[-1])+ '.jpeg')\n",
        "        ctr+=1\n",
        "        print(ctr)\n",
        "      \n"
      ],
      "execution_count": 9,
      "outputs": [
        {
          "output_type": "stream",
          "text": [
            "1054\n",
            "1055\n",
            "1056\n",
            "1057\n",
            "1058\n",
            "1059\n",
            "1060\n",
            "1061\n",
            "1062\n"
          ],
          "name": "stdout"
        }
      ]
    },
    {
      "cell_type": "code",
      "metadata": {
        "id": "FTDORaRQMyHx",
        "colab_type": "code",
        "colab": {}
      },
      "source": [
        "##READING IMAGES - Location - SSCB and SHADIPUR ; Rotation \n",
        "shadipur = []\n",
        "for img in imgminote : \n",
        "  if(img[11:16]>'07-05'):  ##Shadipur images needed rotating  \n",
        "    l=[]\n",
        "    l.append(img)\n",
        "    im = cv2.imread(img)\n",
        "    im = cv2.resize(im, (256,256))\n",
        "    im = cv2.rotate(im, rotateCode = cv2.ROTATE_90_COUNTERCLOCKWISE)\n",
        "    l.append(im)\n",
        "    shadipur.append(l)\n",
        "  else:\n",
        "    l=[]\n",
        "    l.append(img)\n",
        "    im = cv2.imread(img)               ##SSCB images did not need any rotating \n",
        "    im = cv2.resize(im, (256,256))\n",
        "    l.append(im)\n",
        "    sscb.append(l)\n",
        "    "
      ],
      "execution_count": 0,
      "outputs": []
    },
    {
      "cell_type": "code",
      "metadata": {
        "id": "7BDx9S9AJi3j",
        "colab_type": "code",
        "outputId": "7225439c-7c53-489f-fe81-7d56c3bf4dd9",
        "colab": {
          "base_uri": "https://localhost:8080/",
          "height": 51
        }
      },
      "source": [
        "print(len(shadipur))\n",
        "print(len(sscb))"
      ],
      "execution_count": 11,
      "outputs": [
        {
          "output_type": "stream",
          "text": [
            "244\n",
            "1320\n"
          ],
          "name": "stdout"
        }
      ]
    },
    {
      "cell_type": "code",
      "metadata": {
        "id": "r09m2_TnuJup",
        "colab_type": "code",
        "colab": {}
      },
      "source": [
        "\n",
        "\n",
        "bucket = storage.bucket(app=app)\n",
        "blobs = bucket.list_blobs()\n",
        "\n",
        "#blobs is an interator :google.api_core.page_iterator.HTTPIterator object at 0x7f2cd11c84e0>\n",
        "\n",
        "imgito = [] #has all the lenovo images by their name \n",
        "ctr=0\n",
        "mits = set()\n",
        "for blob in blobs:\n",
        "  if blob.name[7:17]==\"Lenovo.JPG\" :\n",
        "    if int(blob.name[-8:-6])<19 and int(blob.name[-8:-6])>5:\n",
        "      blob.download_to_filename('/content/' + \"ito\" + str(blob.name.split('/')[-1])+ '.jpeg')\n",
        "      imgito.append(\"ito\" + str(blob.name.split('/')[-1])+ '.jpeg') \n",
        "      #print(\"ito\" + str(blob.name.split('/')[-1])+ '.jpeg')\n",
        "      ctr+=1\n",
        "      print(ctr)\n"
      ],
      "execution_count": 0,
      "outputs": []
    },
    {
      "cell_type": "code",
      "metadata": {
        "id": "45qtbzVHV_ha",
        "colab_type": "code",
        "colab": {}
      },
      "source": [
        "##READING BLOCK \n",
        "\n",
        "ito=[]\n",
        "count=0\n",
        "\n",
        "for img in imgito:\n",
        "  l=[]\n",
        "  count+=1\n",
        "  if(count%2==0):\n",
        "    l.append(img)\n",
        "    im = cv2.imread(img)\n",
        "    im = cv2.resize(im,(256,256))\n",
        "    im = cv2.rotate(im, rotateCode = cv2.ROTATE_90_COUNTERCLOCKWISE)\n",
        "    l.append(im)\n",
        "    ito.append(l)\n"
      ],
      "execution_count": 0,
      "outputs": []
    },
    {
      "cell_type": "code",
      "metadata": {
        "id": "UtQR_lX9f89N",
        "colab_type": "code",
        "colab": {}
      },
      "source": [
        "## Concatenating Shanghai's data \n",
        "# import os\n",
        "\n",
        "\n",
        "# shanghai={}\n",
        "# ctr=0\n",
        "# source = os.listdir('/content/')\n",
        "\n",
        "\n",
        "# k=0\n",
        "# for file in source:\n",
        "#   k+=1\n",
        "#   if(file[:4]=='2014' and k%10==0):\n",
        "#     im = cv2.imread('/content/' + file)\n",
        "#     im = cv2.resize(im,(256,256))\n",
        "#     l=[]\n",
        "#     l.append(file[8:10])\n",
        "#     imc = cv2.resize(im,(32,32))\n",
        "#     #l.append(np.ndarray.flatten(transmission(imc)))\n",
        "#     l.append(entropy(im))\n",
        "#     l.append(contrast(im))\n",
        "#     l.append(trans_deg(imc))\n",
        "#     shanghai[file]=l\n",
        "#     print(k)\n",
        "    \n",
        "   \n"
      ],
      "execution_count": 0,
      "outputs": []
    },
    {
      "cell_type": "code",
      "metadata": {
        "id": "9n-O49FfewpL",
        "colab_type": "code",
        "outputId": "4edd3a91-5e57-4d4e-bfc2-c7078b1a7041",
        "colab": {
          "base_uri": "https://localhost:8080/",
          "height": 103
        }
      },
      "source": [
        "\n",
        "print(np.shape(sscb))    \n",
        "print(np.shape(ito))      \n",
        "print(np.shape(dtu))  \n",
        "print(np.shape(shadipur))     \n",
        "print(np.shape(pb))   \n",
        "#print(shanghai.keys())\n"
      ],
      "execution_count": 14,
      "outputs": [
        {
          "output_type": "stream",
          "text": [
            "(1320, 2)\n",
            "(249, 2)\n",
            "(369, 2)\n",
            "(244, 2)\n",
            "(161, 2)\n"
          ],
          "name": "stdout"
        }
      ]
    },
    {
      "cell_type": "code",
      "metadata": {
        "id": "gdaN8E-mwcy9",
        "colab_type": "code",
        "colab": {}
      },
      "source": [
        "cred = credentials.Certificate('/content/credentials_new.json')\n",
        "\n",
        "##  only take the part from where the actual name starts\n",
        "app = firebase_admin.initialize_app(cred, {\n",
        "    'storageBucket': 'location-5f194.appspot.com',\n",
        "}, name='images_diff')"
      ],
      "execution_count": 0,
      "outputs": []
    },
    {
      "cell_type": "code",
      "metadata": {
        "id": "Vp6nZN9hy1Y5",
        "colab_type": "code",
        "colab": {}
      },
      "source": [
        "## Reading the different locations images -- This includes \n",
        "\n",
        "s7_jpeg=[]\n",
        "note4_jpeg=[]\n",
        "minote_jpeg=[]\n",
        "PatelNagarMi_jpeg=[]\n",
        "gurgaonNote4_jpeg=[]\n",
        "\n",
        "\n",
        "bucket = storage.bucket(app = app)\n",
        "blobs = bucket.list_blobs()\n",
        "ctr=0\n",
        "\n",
        "\n",
        "## Reading all the LDR images \n",
        "for blob in blobs:\n",
        "  if('s7' in blob.name and 'jpeg' in blob.name and int(blob.name[-8:-6])<19 and int(blob.name[-8:-6])>5):\n",
        "      blob.download_to_filename('/content/' + \"s7_jpeg\" + str(blob.name.split('/')[-1])+ '.jpeg')\n",
        "      name = \"s7_jpeg\" + str(blob.name.split('/')[-1])+ '.jpeg' \n",
        "      ctr+=1\n",
        "      im = cv2.imread(name)\n",
        "      im = cv2.resize(im,(256,256))\n",
        "      l=[]\n",
        "      l.append(name)\n",
        "      l.append(im)\n",
        "      s7_jpeg.append(l) \n",
        "      print(name)\n",
        "  if('note4' in blob.name and 'jpeg' in blob.name and int(blob.name[-8:-6])<19 and int(blob.name[-8:-6])>5):\n",
        "      blob.download_to_filename('/content/' + \"note4_jpeg\" + str(blob.name.split('/')[-1])+ '.jpeg')\n",
        "      name = \"note4_jpeg\" + str(blob.name.split('/')[-1])+ '.jpeg' \n",
        "      ctr+=1\n",
        "      im = cv2.imread(name)\n",
        "      im = cv2.resize(im,(256,256))\n",
        "      l=[]\n",
        "      l.append(name)\n",
        "      l.append(im)\n",
        "      note4_jpeg.append(l)\n",
        "      print(name)\n",
        "  if('minote' in blob.name and 'jpeg' in blob.name and int(blob.name[-8:-6])<19 and int(blob.name[-8:-6])>5):\n",
        "      blob.download_to_filename('/content/' + \"minote_jpeg\" + str(blob.name.split('/')[-1])+ '.jpeg')\n",
        "      name = \"minote_jpeg\" + str(blob.name.split('/')[-1])+ '.jpeg' \n",
        "      ctr+=1\n",
        "      im = cv2.imread(name)\n",
        "      im = cv2.resize(im,(256,256))\n",
        "      l=[]\n",
        "      l.append(name)\n",
        "      l.append(im)\n",
        "      minote_jpeg.append(l)\n",
        "      print(name)\n",
        "  if('PatelNagarMi' in blob.name and 'jpeg' in blob.name and int(blob.name[-8:-6])<19 and int(blob.name[-8:-6])>5):\n",
        "      blob.download_to_filename('/content/' + \"PatelNagarMi_jpeg\" + str(blob.name.split('/')[-1])+ '.jpeg')\n",
        "      name = \"PatelNagarMi_jpeg\" + str(blob.name.split('/')[-1])+ '.jpeg' \n",
        "      ctr+=1\n",
        "      im = cv2.imread(name)\n",
        "      im = cv2.resize(im,(256,256))\n",
        "      l=[]\n",
        "      l.append(name)\n",
        "      l.append(im)\n",
        "      PatelNagarMi_jpeg.append(l)\n",
        "      print(name)\n",
        "  if('gurgaonNote4' in blob.name and 'jpeg' in blob.name and int(blob.name[-8:-6])<19 and int(blob.name[-8:-6])>5):\n",
        "      blob.download_to_filename('/content/' + \"gurgaonNote4_jpeg\" + str(blob.name.split('/')[-1])+ '.jpeg')\n",
        "      name = \"gurgaonNote4_jpeg\" + str(blob.name.split('/')[-1])+ '.jpeg' \n",
        "      ctr+=1\n",
        "      im = cv2.imread(name)\n",
        "      im = cv2.resize(im,(256,256))\n",
        "      l=[]\n",
        "      l.append(name)\n",
        "      l.append(im)\n",
        "      gurgaonNote4_jpeg.append(l)\n",
        "      print(name)\n"
      ],
      "execution_count": 0,
      "outputs": []
    },
    {
      "cell_type": "code",
      "metadata": {
        "id": "5QbpqC3t1P2W",
        "colab_type": "code",
        "outputId": "7c1d58be-f431-48a8-d7f9-1cb650bb828b",
        "colab": {
          "base_uri": "https://localhost:8080/",
          "height": 103
        }
      },
      "source": [
        "\n",
        "print(len(s7_jpeg))\n",
        "print(len(note4_jpeg))\n",
        "print(len(minote_jpeg))\n",
        "print(len(PatelNagarMi_jpeg))\n",
        "print(len(gurgaonNote4_jpeg))"
      ],
      "execution_count": 17,
      "outputs": [
        {
          "output_type": "stream",
          "text": [
            "94\n",
            "30\n",
            "80\n",
            "532\n",
            "184\n"
          ],
          "name": "stdout"
        }
      ]
    },
    {
      "cell_type": "markdown",
      "metadata": {
        "id": "ptqlPGjpBGcZ",
        "colab_type": "text"
      },
      "source": [
        "LABEL PROCESSING "
      ]
    },
    {
      "cell_type": "code",
      "metadata": {
        "id": "G9dZWeJkyceb",
        "colab_type": "code",
        "colab": {}
      },
      "source": [
        "with open('/content/labels_withprev.bin','rb') as file:\n",
        "  data = pickle.load(file)"
      ],
      "execution_count": 0,
      "outputs": []
    },
    {
      "cell_type": "code",
      "metadata": {
        "id": "VU_ob0CJydXF",
        "colab_type": "code",
        "colab": {}
      },
      "source": [
        "l_s7_jpeg=data['s7_jpeg']\n",
        "l_note4_jpeg=data['note4_jpeg']\n",
        "l_minote_jpeg=data['minote_jpeg']\n",
        "l_PatelNagarMi_jpeg=data['PatelNagarMi_jpeg']\n",
        "l_gurgaonNote4_jpeg=data['gurgaonNote4_jpeg']"
      ],
      "execution_count": 0,
      "outputs": []
    },
    {
      "cell_type": "code",
      "metadata": {
        "id": "vQaMAoH-0wPm",
        "colab_type": "code",
        "colab": {}
      },
      "source": [
        "feat=[]\n",
        "\n",
        "\n",
        "for img in s7_jpeg:\n",
        "  #print(img[0][7:])\n",
        "  for l  in l_s7_jpeg:\n",
        "    #print(l[0])\n",
        "    if(img[0][7:] == l[0]):\n",
        "      print('s7')\n",
        "      t=[]\n",
        "      im = img[1]\n",
        "      t.append(l[0])\n",
        "      t.append(entropy(im))\n",
        "      t.append(contrast(im))\n",
        "      t.append(trans_deg(img[1]))\n",
        "      t.append(l[1])\n",
        "      t.append(l[2]) ##--> prev hours reading \n",
        "      feat.append(t)\n",
        "\n",
        "for img in note4_jpeg:\n",
        "  #print(img[0][10:])\n",
        "  for l in l_note4_jpeg:\n",
        "    #print(l[0])\n",
        "    if(img[0][10:] == l[0]):\n",
        "      print('note4')\n",
        "      t=[]\n",
        "      im = img[1]\n",
        "      t.append(l[0])\n",
        "      t.append(entropy(im))\n",
        "      t.append(contrast(im))\n",
        "      t.append(trans_deg(img[1]))\n",
        "      t.append(l[1])\n",
        "      t.append(l[2]) ##--> prev hours reading \n",
        "      feat.append(t) \n",
        "  \n",
        "for img in minote_jpeg:  \n",
        "  for l in l_minote_jpeg:\n",
        "    if(img[0][11:] == l[0]):\n",
        "      print('minote')\n",
        "      t=[]\n",
        "      im = img[1]\n",
        "      t.append(l[0])\n",
        "      t.append(entropy(im))\n",
        "      t.append(contrast(im))\n",
        "      t.append(trans_deg(img[1]))\n",
        "      t.append(l[1])\n",
        "      t.append(l[2]) ##--> prev hours reading \n",
        "      feat.append(t)\n",
        "\n",
        "for img in PatelNagarMi_jpeg:\n",
        "  #print(img[0][17:])\n",
        "  for l  in l_PatelNagarMi_jpeg:\n",
        "    #print(l[0])\n",
        "    if(img[0][17:] == l[0]):\n",
        "      print('PatelNagar')\n",
        "      t=[]\n",
        "      im = img[1]\n",
        "      t.append(l[0])\n",
        "      t.append(entropy(im))\n",
        "      t.append(contrast(im))\n",
        "      t.append(trans_deg(img[1]))\n",
        "      t.append(l[1])\n",
        "      t.append(l[2]) ##--> prev hours reading \n",
        "      feat.append(t) \n",
        "\n",
        "for img in gurgaonNote4_jpeg:\n",
        "  #print(img[0][17:])\n",
        "  for l  in l_gurgaonNote4_jpeg:\n",
        "    #print(l[0])\n",
        "    if(img[0][17:] == l[0]):\n",
        "      print('Gurgaon')\n",
        "      t=[]\n",
        "      im = img[1]\n",
        "      t.append(l[0])\n",
        "      t.append(entropy(im))\n",
        "      t.append(contrast(im))\n",
        "      t.append(trans_deg(img[1]))\n",
        "      t.append(l[1])\n",
        "      t.append(l[2]) ##--> prev hours reading \n",
        "      feat.append(t) \n",
        "    \n"
      ],
      "execution_count": 0,
      "outputs": []
    },
    {
      "cell_type": "code",
      "metadata": {
        "id": "I19tXYV--TAB",
        "colab_type": "code",
        "colab": {}
      },
      "source": [
        "print(len(feat))"
      ],
      "execution_count": 0,
      "outputs": []
    },
    {
      "cell_type": "code",
      "metadata": {
        "id": "kRLzY46X_Tvj",
        "colab_type": "code",
        "colab": {}
      },
      "source": [
        "cred = credentials.Certificate('/content/credentials_weather.json')\n",
        "\n",
        "##The weather data after 1st July \n",
        "\n",
        "# Initialize the app with a service account, granting admin privileges\n",
        "new = firebase_admin.initialize_app(cred, {\n",
        "    'databaseURL': 'https://celestini-bd493.firebaseio.com/'\n",
        "})"
      ],
      "execution_count": 0,
      "outputs": []
    },
    {
      "cell_type": "code",
      "metadata": {
        "id": "EycOwfQ6AJ9x",
        "colab_type": "code",
        "colab": {}
      },
      "source": [
        "    \n",
        "ref = db.reference()\n",
        "df = ref.get()\n"
      ],
      "execution_count": 0,
      "outputs": []
    },
    {
      "cell_type": "code",
      "metadata": {
        "id": "9nKvvLa3AQ9h",
        "colab_type": "code",
        "colab": {}
      },
      "source": [
        "temp_weather = {}\n",
        "\n",
        "for key in df:\n",
        "  try:\n",
        "    l=[]\n",
        "    l.append(df[key]['main']['humidity'])\n",
        "    l.append(df[key]['main']['pressure'])\n",
        "    l.append(df[key]['main']['temp'])\n",
        "    l.append(df[key]['visibility'])\n",
        "    l.append(df[key]['wind']['deg'])\n",
        "    l.append(df[key]['wind']['speed'])\n",
        "    l.append(df[key]['clouds']['all'])\n",
        "    k = df[key]['weather'][0]['description']\n",
        "    if(k=='haze'):\n",
        "      l.append(0)\n",
        "    elif(k=='mist'):\n",
        "      l.append(1)\n",
        "    elif(k=='drizzle'):\n",
        "      l.append(2)\n",
        "    elif(k=='dust'):\n",
        "      l.append(3)\n",
        "    temp_weather[key]=l\n",
        "  except:\n",
        "    print(key)\n",
        "    "
      ],
      "execution_count": 0,
      "outputs": []
    },
    {
      "cell_type": "code",
      "metadata": {
        "id": "J0_8e6_pAVo9",
        "colab_type": "code",
        "colab": {}
      },
      "source": [
        "feat_a=[]\n",
        "for val in feat:\n",
        "  #print(val[0])\n",
        "  temp = val[0] \n",
        "  #print(temp)\n",
        "  temp=temp.split('-')\n",
        "  #print(temp)\n",
        "  newtemp=temp[2].split(' ')\n",
        "  #print(newtemp)\n",
        "  newesttemp=newtemp[1].split(':')\n",
        "  #print(newesttemp)\n",
        "  j=int(newesttemp[1])\n",
        "  if(j<=7.5):\n",
        "    final = newtemp[0] + '-' + temp[1] + '-' + temp[0] + ' ' + newesttemp[0] + ':' + '00'\n",
        "  elif(j<=15 or j<=22.5):\n",
        "    final = newtemp[0] + '-' + temp[1] + '-' + temp[0] + ' ' + newesttemp[0] + ':' + '15'\n",
        "  elif(j<=30 or j<=37.5):\n",
        "    final = newtemp[0] + '-' + temp[1] + '-' + temp[0] + ' ' + newesttemp[0] + ':' + '30'\n",
        "  elif(j<=45 or j<=52.5):\n",
        "    final = newtemp[0] + '-' + temp[1] + '-' + temp[0] + ' ' + newesttemp[0] + ':' + '45'\n",
        "  elif(j>52.5):\n",
        "    final = newtemp[0] + '-' + temp[1] + '-' + temp[0] + ' ' + newesttemp[0] + ':' + '00'\n",
        "  l=[]\n",
        "  l.append(final)\n",
        "  l.append(val[1])\n",
        "  l.append(val[2])\n",
        "  l.append(val[3])\n",
        "  l.append(val[4])\n",
        "  l.append(val[5]) #The previous hours reading \n",
        "  feat_a.append(l)\n"
      ],
      "execution_count": 0,
      "outputs": []
    },
    {
      "cell_type": "code",
      "metadata": {
        "id": "Vm4KqtIWAcWV",
        "colab_type": "code",
        "colab": {}
      },
      "source": [
        "print(len(feat_a))"
      ],
      "execution_count": 0,
      "outputs": []
    },
    {
      "cell_type": "code",
      "metadata": {
        "id": "hFJCJPcJAlm5",
        "colab_type": "code",
        "colab": {}
      },
      "source": [
        "weather={}\n",
        "for key in temp_weather:\n",
        "  temp=key.split('-')\n",
        "  newtemp=temp[2].split(' ')\n",
        "  newesttemp=newtemp[1].split(':')\n",
        "  j=int(newesttemp[1])\n",
        "  if(j<=7.5):\n",
        "    final = temp[0] + '-' + temp[1] + '-' + newtemp[0] + ' ' + newesttemp[0] + ':' + '00'\n",
        "  elif(j<=15 or j<=22.5):\n",
        "    final = temp[0] + '-' + temp[1] + '-' + newtemp[0] + ' ' + newesttemp[0] + ':' + '15'\n",
        "  elif(j<=30 or j<=37.5):\n",
        "    final = temp[0] + '-' + temp[1] + '-' + newtemp[0] + ' ' + newesttemp[0] + ':' + '30'\n",
        "  elif(j<=45 or j<=52.5):\n",
        "    final = temp[0] + '-' + temp[1] + '-' + newtemp[0] + ' ' + newesttemp[0] + ':' + '45'\n",
        "  elif(j>52.5):\n",
        "    final = temp[0] + '-' + temp[1] + '-' + newtemp[0] + ' ' + newesttemp[0] + ':' + '00'\n",
        "  if(final not in weather):\n",
        "    weather[final]=temp_weather[key]"
      ],
      "execution_count": 0,
      "outputs": []
    },
    {
      "cell_type": "code",
      "metadata": {
        "id": "Jb7_MwtlApB3",
        "colab_type": "code",
        "colab": {}
      },
      "source": [
        "trans=[]\n",
        "cont=[]\n",
        "ent=[]\n",
        "hours=[]\n",
        "hum=[]\n",
        "pressure=[]\n",
        "tempr=[]\n",
        "deg=[]\n",
        "speed=[]\n",
        "prev=[]\n",
        "\n",
        "index=0\n",
        "pm=[]\n",
        "\n",
        "## COMBINING 1ST 4 LOCATIONS DATA \n",
        "for e in feat_a:\n",
        "  #index+=1\n",
        "  for w in weather:\n",
        "    if(e[0] == w):\n",
        "      #c=0\n",
        "      hours.append(float(e[0][-5:-3]))\n",
        "      \n",
        "#       while(int(feat_a[index][0][-5:-3])!=(int(e[0][-5:-3])-1) and c<6):\n",
        "#           index-=1\n",
        "#       prev.append(float(feat_a[index][4]))\n",
        "      \n",
        "      pm.append(float(e[4]))\n",
        "      prev.append(float(e[5]))\n",
        "      trans.append(e[3])\n",
        "      ent.append(float(e[1]))\n",
        "      cont.append(float(e[2]))\n",
        "      hum.append(float(weather[w][0]))\n",
        "      pressure.append(float(weather[w][1]))\n",
        "      tempr.append(float(weather[w][2])) \n",
        "      deg.append(float(weather[w][4]))\n",
        "      speed.append(float(weather[w][5]))\n",
        "    "
      ],
      "execution_count": 0,
      "outputs": []
    },
    {
      "cell_type": "code",
      "metadata": {
        "id": "QcbhxoPVAw1o",
        "colab_type": "code",
        "colab": {}
      },
      "source": [
        "print(len(trans))\n",
        "print(len(hours))\n",
        "print(len(cont))\n",
        "print(len(ent))\n",
        "print(len(hum))\n",
        "print(len(pressure))\n",
        "print(len(tempr))\n",
        "print(len(deg))\n",
        "print(len(speed))\n",
        "print(len(pm))\n",
        "print(len(prev))"
      ],
      "execution_count": 0,
      "outputs": []
    },
    {
      "cell_type": "code",
      "metadata": {
        "id": "PzXsU2JnBtna",
        "colab_type": "code",
        "colab": {}
      },
      "source": [
        "print(trans)\n",
        "print(hours)\n",
        "print(cont)\n",
        "print(ent)\n",
        "print(hum)\n",
        "print(pressure)\n",
        "print(tempr)\n",
        "print(deg)\n",
        "print(speed)\n",
        "print(pm)\n",
        "print(prev)"
      ],
      "execution_count": 0,
      "outputs": []
    },
    {
      "cell_type": "code",
      "metadata": {
        "id": "PAhWOZEkVc90",
        "colab_type": "code",
        "colab": {
          "base_uri": "https://localhost:8080/",
          "height": 233
        },
        "outputId": "ab277a0e-df77-40d7-df2e-a686d9c61734"
      },
      "source": [
        "##SSCB \n",
        "df = pd.read_csv('/content/sscb_labels.csv')\n",
        "data = df.mask(df.eq('None')).dropna()\n",
        "file = data.to_csv('/content/sscb_labels_new.csv')\n",
        "\n",
        "k=0\n",
        "cpcb=[]\n",
        "val = '61'\n",
        "with open('/content/sscb_labels_new.csv') as file:\n",
        "  reader = csv.reader(file, delimiter =',')\n",
        "  for row in reader:\n",
        "    k+=1\n",
        "    if(k>3):\n",
        "      l=[]\n",
        "      l.append(row[1]) #DATE \n",
        "      l.append(row[3]) #PM\n",
        "      l.append(val)\n",
        "      if(k%5==0):\n",
        "        val=row[3]\n",
        "      cpcb.append(l) "
      ],
      "execution_count": 1,
      "outputs": [
        {
          "output_type": "error",
          "ename": "NameError",
          "evalue": "ignored",
          "traceback": [
            "\u001b[0;31m---------------------------------------------------------------------------\u001b[0m",
            "\u001b[0;31mNameError\u001b[0m                                 Traceback (most recent call last)",
            "\u001b[0;32m<ipython-input-1-f7480deccbcc>\u001b[0m in \u001b[0;36m<module>\u001b[0;34m()\u001b[0m\n\u001b[0;32m----> 1\u001b[0;31m \u001b[0mdf\u001b[0m \u001b[0;34m=\u001b[0m \u001b[0mpd\u001b[0m\u001b[0;34m.\u001b[0m\u001b[0mread_csv\u001b[0m\u001b[0;34m(\u001b[0m\u001b[0;34m'/content/sscb_labels.csv'\u001b[0m\u001b[0;34m)\u001b[0m\u001b[0;34m\u001b[0m\u001b[0;34m\u001b[0m\u001b[0m\n\u001b[0m\u001b[1;32m      2\u001b[0m \u001b[0mdata\u001b[0m \u001b[0;34m=\u001b[0m \u001b[0mdf\u001b[0m\u001b[0;34m.\u001b[0m\u001b[0mmask\u001b[0m\u001b[0;34m(\u001b[0m\u001b[0mdf\u001b[0m\u001b[0;34m.\u001b[0m\u001b[0meq\u001b[0m\u001b[0;34m(\u001b[0m\u001b[0;34m'None'\u001b[0m\u001b[0;34m)\u001b[0m\u001b[0;34m)\u001b[0m\u001b[0;34m.\u001b[0m\u001b[0mdropna\u001b[0m\u001b[0;34m(\u001b[0m\u001b[0;34m)\u001b[0m\u001b[0;34m\u001b[0m\u001b[0;34m\u001b[0m\u001b[0m\n\u001b[1;32m      3\u001b[0m \u001b[0mfile\u001b[0m \u001b[0;34m=\u001b[0m \u001b[0mdata\u001b[0m\u001b[0;34m.\u001b[0m\u001b[0mto_csv\u001b[0m\u001b[0;34m(\u001b[0m\u001b[0;34m'/content/sscb_labels_new.csv'\u001b[0m\u001b[0;34m)\u001b[0m\u001b[0;34m\u001b[0m\u001b[0;34m\u001b[0m\u001b[0m\n\u001b[1;32m      4\u001b[0m \u001b[0;34m\u001b[0m\u001b[0m\n\u001b[1;32m      5\u001b[0m \u001b[0mk\u001b[0m\u001b[0;34m=\u001b[0m\u001b[0;36m0\u001b[0m\u001b[0;34m\u001b[0m\u001b[0;34m\u001b[0m\u001b[0m\n",
            "\u001b[0;31mNameError\u001b[0m: name 'pd' is not defined"
          ]
        }
      ]
    },
    {
      "cell_type": "code",
      "metadata": {
        "id": "21pWKU-OXfJJ",
        "colab_type": "code",
        "outputId": "17b07c1d-e3cf-4df2-9c83-860483b50bcb",
        "colab": {
          "base_uri": "https://localhost:8080/",
          "height": 54
        }
      },
      "source": [
        "print(cpcb)"
      ],
      "execution_count": 36,
      "outputs": [
        {
          "output_type": "stream",
          "text": [
            "[['27-06-2019 00:00', '61', '61'], ['27-06-2019 00:15', '61', '61'], ['27-06-2019 00:30', '61', '61'], ['27-06-2019 00:45', '61', '61'], ['27-06-2019 01:00', '53', '61'], ['27-06-2019 01:15', '53', '61'], ['27-06-2019 01:30', '53', '61'], ['27-06-2019 01:45', '53', '53'], ['27-06-2019 02:00', '68', '53'], ['27-06-2019 02:15', '68', '53'], ['27-06-2019 02:30', '68', '53'], ['27-06-2019 02:45', '68', '53'], ['27-06-2019 03:00', '72', '68'], ['27-06-2019 03:15', '72', '68'], ['27-06-2019 03:30', '72', '68'], ['27-06-2019 03:45', '72', '68'], ['27-06-2019 04:00', '69', '68'], ['27-06-2019 04:15', '69', '69'], ['27-06-2019 04:30', '69', '69'], ['27-06-2019 04:45', '69', '69'], ['27-06-2019 05:00', '73', '69'], ['27-06-2019 05:15', '73', '69'], ['27-06-2019 05:30', '73', '73'], ['27-06-2019 05:45', '73', '73'], ['27-06-2019 06:00', '161', '73'], ['27-06-2019 06:15', '161', '73'], ['27-06-2019 06:30', '161', '73'], ['27-06-2019 06:45', '161', '161'], ['27-06-2019 07:00', '103', '161'], ['27-06-2019 07:15', '103', '161'], ['27-06-2019 07:30', '103', '161'], ['27-06-2019 07:45', '103', '161'], ['27-06-2019 08:00', '97', '103'], ['27-06-2019 08:15', '97', '103'], ['27-06-2019 08:30', '97', '103'], ['27-06-2019 08:45', '97', '103'], ['27-06-2019 09:00', '108', '103'], ['27-06-2019 09:15', '108', '108'], ['27-06-2019 09:30', '108', '108'], ['27-06-2019 09:45', '108', '108'], ['27-06-2019 10:00', '88', '108'], ['27-06-2019 10:15', '88', '108'], ['27-06-2019 10:30', '88', '88'], ['27-06-2019 10:45', '88', '88'], ['27-06-2019 11:00', '77', '88'], ['27-06-2019 11:15', '77', '88'], ['27-06-2019 11:30', '77', '88'], ['27-06-2019 11:45', '77', '77'], ['27-06-2019 12:00', '80', '77'], ['27-06-2019 12:15', '80', '77'], ['27-06-2019 12:30', '80', '77'], ['27-06-2019 12:45', '80', '77'], ['27-06-2019 13:00', '42', '80'], ['27-06-2019 13:15', '42', '80'], ['27-06-2019 13:30', '42', '80'], ['27-06-2019 13:45', '42', '80'], ['27-06-2019 14:00', '38', '80'], ['27-06-2019 14:15', '38', '38'], ['27-06-2019 14:30', '38', '38'], ['27-06-2019 14:45', '38', '38'], ['27-06-2019 15:00', '47', '38'], ['27-06-2019 15:15', '47', '38'], ['27-06-2019 15:30', '47', '47'], ['27-06-2019 15:45', '47', '47'], ['27-06-2019 16:00', '47', '47'], ['27-06-2019 16:15', '47', '47'], ['27-06-2019 16:30', '47', '47'], ['27-06-2019 16:45', '47', '47'], ['27-06-2019 17:00', '45', '47'], ['27-06-2019 17:15', '45', '47'], ['27-06-2019 17:30', '45', '47'], ['27-06-2019 17:45', '45', '47'], ['27-06-2019 18:00', '36', '45'], ['27-06-2019 18:15', '36', '45'], ['27-06-2019 18:30', '36', '45'], ['27-06-2019 18:45', '36', '45'], ['27-06-2019 19:00', '42', '45'], ['27-06-2019 19:15', '42', '42'], ['27-06-2019 19:30', '42', '42'], ['27-06-2019 19:45', '42', '42'], ['27-06-2019 20:00', '59', '42'], ['27-06-2019 20:15', '59', '42'], ['27-06-2019 20:30', '59', '59'], ['27-06-2019 20:45', '59', '59'], ['27-06-2019 21:00', '74', '59'], ['27-06-2019 21:15', '74', '59'], ['27-06-2019 21:30', '74', '59'], ['27-06-2019 21:45', '74', '74'], ['27-06-2019 22:00', '59', '74'], ['27-06-2019 22:15', '59', '74'], ['27-06-2019 22:30', '59', '74'], ['27-06-2019 22:45', '59', '74'], ['27-06-2019 23:00', '67', '59'], ['27-06-2019 23:15', '67', '59'], ['27-06-2019 23:30', '67', '59'], ['27-06-2019 23:45', '67', '59'], ['28-06-2019 00:00', '85', '59'], ['28-06-2019 00:15', '85', '85'], ['28-06-2019 00:30', '85', '85'], ['28-06-2019 00:45', '85', '85'], ['28-06-2019 01:00', '94', '85'], ['28-06-2019 01:15', '94', '85'], ['28-06-2019 01:30', '94', '94'], ['28-06-2019 01:45', '94', '94'], ['28-06-2019 02:00', '117', '94'], ['28-06-2019 02:15', '117', '94'], ['28-06-2019 02:30', '117', '94'], ['28-06-2019 02:45', '117', '117'], ['28-06-2019 03:00', '111', '117'], ['28-06-2019 03:15', '111', '117'], ['28-06-2019 03:30', '111', '117'], ['28-06-2019 03:45', '111', '117'], ['28-06-2019 04:00', '110', '111'], ['28-06-2019 04:15', '110', '111'], ['28-06-2019 04:30', '110', '111'], ['28-06-2019 04:45', '110', '111'], ['28-06-2019 05:00', '117', '111'], ['28-06-2019 05:15', '117', '117'], ['28-06-2019 05:30', '117', '117'], ['28-06-2019 05:45', '117', '117'], ['28-06-2019 06:00', '180', '117'], ['28-06-2019 06:15', '180', '117'], ['28-06-2019 06:30', '180', '180'], ['28-06-2019 06:45', '180', '180'], ['28-06-2019 07:00', '190', '180'], ['28-06-2019 07:15', '190', '180'], ['28-06-2019 07:30', '190', '180'], ['28-06-2019 07:45', '190', '190'], ['28-06-2019 08:00', '92', '190'], ['28-06-2019 08:15', '92', '190'], ['28-06-2019 08:30', '92', '190'], ['28-06-2019 08:45', '92', '190'], ['28-06-2019 09:00', '45', '92'], ['28-06-2019 09:15', '45', '92'], ['28-06-2019 09:30', '45', '92'], ['28-06-2019 09:45', '45', '92'], ['28-06-2019 10:00', '30', '92'], ['28-06-2019 10:15', '30', '30'], ['28-06-2019 10:30', '30', '30'], ['28-06-2019 10:45', '30', '30'], ['28-06-2019 11:00', '23', '30'], ['28-06-2019 11:15', '23', '30'], ['28-06-2019 11:30', '23', '23'], ['28-06-2019 11:45', '23', '23'], ['28-06-2019 12:00', '24', '23'], ['28-06-2019 12:15', '24', '23'], ['28-06-2019 12:30', '24', '23'], ['28-06-2019 12:45', '24', '24'], ['28-06-2019 13:00', '27', '24'], ['28-06-2019 13:15', '27', '24'], ['28-06-2019 13:30', '27', '24'], ['28-06-2019 13:45', '27', '24'], ['28-06-2019 14:00', '27', '27'], ['28-06-2019 14:15', '27', '27'], ['28-06-2019 14:30', '27', '27'], ['28-06-2019 14:45', '27', '27'], ['28-06-2019 15:00', '29', '27'], ['28-06-2019 15:15', '29', '29'], ['28-06-2019 15:30', '29', '29'], ['28-06-2019 15:45', '29', '29'], ['28-06-2019 16:00', '40', '29'], ['28-06-2019 16:15', '40', '29'], ['28-06-2019 16:30', '40', '40'], ['28-06-2019 16:45', '40', '40'], ['28-06-2019 17:00', '44', '40'], ['28-06-2019 17:15', '44', '40'], ['28-06-2019 17:30', '44', '40'], ['28-06-2019 17:45', '44', '44'], ['28-06-2019 18:00', '35', '44'], ['28-06-2019 18:15', '35', '44'], ['28-06-2019 18:30', '35', '44'], ['28-06-2019 18:45', '35', '44'], ['28-06-2019 19:00', '45', '35'], ['28-06-2019 19:15', '45', '35'], ['28-06-2019 19:30', '45', '35'], ['28-06-2019 19:45', '45', '35'], ['28-06-2019 20:00', '57', '35'], ['28-06-2019 20:15', '57', '57'], ['28-06-2019 20:30', '57', '57'], ['28-06-2019 20:45', '57', '57'], ['28-06-2019 21:00', '86', '57'], ['28-06-2019 21:15', '86', '57'], ['28-06-2019 21:30', '86', '86'], ['28-06-2019 21:45', '86', '86'], ['28-06-2019 22:00', '61', '86'], ['28-06-2019 22:15', '61', '86'], ['28-06-2019 22:30', '61', '86'], ['28-06-2019 22:45', '61', '61'], ['28-06-2019 23:00', '58', '61'], ['28-06-2019 23:15', '58', '61'], ['28-06-2019 23:30', '58', '61'], ['28-06-2019 23:45', '58', '61'], ['29-06-2019 00:00', '59', '58'], ['29-06-2019 00:15', '59', '58'], ['29-06-2019 00:30', '59', '58'], ['29-06-2019 00:45', '59', '58'], ['29-06-2019 01:00', '68', '58'], ['29-06-2019 01:15', '68', '68'], ['29-06-2019 01:30', '68', '68'], ['29-06-2019 01:45', '68', '68'], ['29-06-2019 02:00', '75', '68'], ['29-06-2019 02:15', '75', '68'], ['29-06-2019 02:30', '75', '75'], ['29-06-2019 02:45', '75', '75'], ['29-06-2019 03:00', '81', '75'], ['29-06-2019 03:15', '81', '75'], ['29-06-2019 03:30', '81', '75'], ['29-06-2019 03:45', '81', '81'], ['29-06-2019 04:00', '81', '81'], ['29-06-2019 04:15', '81', '81'], ['29-06-2019 04:30', '81', '81'], ['29-06-2019 04:45', '81', '81'], ['29-06-2019 05:00', '121', '81'], ['29-06-2019 05:15', '121', '81'], ['29-06-2019 05:30', '121', '81'], ['29-06-2019 05:45', '121', '81'], ['29-06-2019 06:00', '103', '81'], ['29-06-2019 06:15', '103', '103'], ['29-06-2019 06:30', '103', '103'], ['29-06-2019 06:45', '103', '103'], ['29-06-2019 07:00', '94', '103'], ['29-06-2019 07:15', '94', '103'], ['29-06-2019 07:30', '94', '94'], ['29-06-2019 07:45', '94', '94'], ['29-06-2019 08:00', '66', '94'], ['29-06-2019 08:15', '66', '94'], ['29-06-2019 08:30', '66', '94'], ['29-06-2019 08:45', '66', '66'], ['29-06-2019 09:00', '51', '66'], ['29-06-2019 09:15', '51', '66'], ['29-06-2019 09:30', '51', '66'], ['29-06-2019 09:45', '51', '66'], ['29-06-2019 10:00', '39', '51'], ['29-06-2019 10:15', '39', '51'], ['29-06-2019 10:30', '39', '51'], ['29-06-2019 10:45', '39', '51'], ['29-06-2019 11:00', '39', '51'], ['29-06-2019 11:15', '39', '39'], ['29-06-2019 11:30', '39', '39'], ['29-06-2019 11:45', '39', '39'], ['29-06-2019 12:00', '44', '39'], ['29-06-2019 12:15', '44', '39'], ['29-06-2019 12:30', '44', '44'], ['29-06-2019 12:45', '44', '44'], ['29-06-2019 13:00', '44', '44'], ['29-06-2019 13:15', '44', '44'], ['29-06-2019 13:30', '44', '44'], ['29-06-2019 13:45', '44', '44'], ['29-06-2019 14:00', '46', '44'], ['29-06-2019 14:15', '46', '44'], ['29-06-2019 14:30', '46', '44'], ['29-06-2019 14:45', '46', '44'], ['29-06-2019 15:00', '55', '46'], ['29-06-2019 15:15', '55', '46'], ['29-06-2019 15:30', '55', '46'], ['29-06-2019 15:45', '55', '46'], ['29-06-2019 16:00', '62', '46'], ['29-06-2019 16:15', '62', '62'], ['29-06-2019 16:30', '62', '62'], ['29-06-2019 16:45', '62', '62'], ['29-06-2019 17:00', '41', '62'], ['29-06-2019 17:15', '41', '62'], ['29-06-2019 17:30', '41', '41'], ['29-06-2019 17:45', '41', '41'], ['29-06-2019 18:00', '39', '41'], ['29-06-2019 18:15', '39', '41'], ['29-06-2019 18:30', '39', '41'], ['29-06-2019 18:45', '39', '39'], ['29-06-2019 19:00', '51', '39'], ['29-06-2019 19:15', '51', '39'], ['29-06-2019 19:30', '51', '39'], ['29-06-2019 19:45', '51', '39'], ['29-06-2019 20:00', '53', '51'], ['29-06-2019 20:15', '53', '51'], ['29-06-2019 20:30', '53', '51'], ['29-06-2019 20:45', '53', '51'], ['29-06-2019 21:00', '72', '51'], ['29-06-2019 21:15', '72', '72'], ['29-06-2019 21:30', '72', '72'], ['29-06-2019 21:45', '72', '72'], ['29-06-2019 22:00', '70', '72'], ['29-06-2019 22:15', '70', '72'], ['29-06-2019 22:30', '70', '70'], ['29-06-2019 22:45', '70', '70'], ['29-06-2019 23:00', '75', '70'], ['29-06-2019 23:15', '75', '70'], ['29-06-2019 23:30', '75', '70'], ['29-06-2019 23:45', '75', '75'], ['30-06-2019 00:00', '68', '75'], ['30-06-2019 00:15', '68', '75'], ['30-06-2019 00:30', '68', '75'], ['30-06-2019 00:45', '68', '75'], ['30-06-2019 01:00', '80', '68'], ['30-06-2019 01:15', '80', '68'], ['30-06-2019 01:30', '80', '68'], ['30-06-2019 01:45', '80', '68'], ['30-06-2019 02:00', '86', '68'], ['30-06-2019 02:15', '86', '86'], ['30-06-2019 02:30', '86', '86'], ['30-06-2019 02:45', '86', '86'], ['30-06-2019 03:00', '75', '86'], ['30-06-2019 03:15', '75', '86'], ['30-06-2019 03:30', '75', '75'], ['30-06-2019 04:00', '118', '75'], ['30-06-2019 04:15', '118', '75'], ['30-06-2019 04:45', '129', '75'], ['30-06-2019 05:00', '129', '75'], ['30-06-2019 05:15', '129', '129'], ['30-06-2019 05:45', '146', '129'], ['30-06-2019 06:00', '146', '129'], ['30-06-2019 06:15', '146', '129'], ['30-06-2019 06:45', '45', '129'], ['30-06-2019 07:00', '45', '45'], ['30-06-2019 07:15', '45', '45'], ['30-06-2019 07:45', '31', '45'], ['30-06-2019 08:00', '31', '45'], ['30-06-2019 08:15', '31', '45'], ['30-06-2019 08:45', '44', '31'], ['30-06-2019 09:00', '44', '31'], ['30-06-2019 09:15', '44', '31'], ['30-06-2019 09:45', '40', '31'], ['30-06-2019 10:00', '40', '31'], ['30-06-2019 10:15', '40', '40'], ['30-06-2019 10:45', '44', '40'], ['30-06-2019 11:00', '44', '40'], ['30-06-2019 11:15', '44', '40'], ['30-06-2019 11:45', '41', '40'], ['30-06-2019 12:00', '41', '41'], ['30-06-2019 12:15', '41', '41'], ['30-06-2019 12:45', '48', '41'], ['30-06-2019 13:00', '48', '41'], ['30-06-2019 13:15', '48', '41'], ['30-06-2019 13:45', '46', '48'], ['30-06-2019 14:00', '46', '48'], ['30-06-2019 14:15', '46', '48'], ['30-06-2019 14:45', '56', '48'], ['30-06-2019 15:00', '56', '48'], ['30-06-2019 15:15', '56', '56'], ['30-06-2019 15:45', '27', '56'], ['30-06-2019 16:00', '27', '56'], ['30-06-2019 16:15', '27', '56'], ['30-06-2019 16:45', '46', '56'], ['30-06-2019 17:00', '46', '46'], ['30-06-2019 17:15', '46', '46'], ['30-06-2019 17:45', '57', '46'], ['30-06-2019 18:00', '57', '46'], ['30-06-2019 18:15', '57', '46'], ['30-06-2019 18:45', '51', '57'], ['30-06-2019 19:00', '51', '57'], ['30-06-2019 19:15', '51', '57'], ['30-06-2019 19:45', '73', '57'], ['30-06-2019 20:00', '73', '57'], ['30-06-2019 20:15', '73', '73'], ['30-06-2019 20:45', '73', '73'], ['30-06-2019 21:00', '73', '73'], ['30-06-2019 21:15', '73', '73'], ['30-06-2019 21:45', '40', '73'], ['30-06-2019 22:00', '40', '40'], ['30-06-2019 22:15', '40', '40'], ['30-06-2019 22:45', '45', '40'], ['30-06-2019 23:00', '45', '40'], ['30-06-2019 23:15', '45', '40'], ['30-06-2019 23:45', '52', '45'], ['01-07-2019 00:00', '52', '45'], ['01-07-2019 00:15', '52', '45'], ['01-07-2019 00:45', '55', '45'], ['01-07-2019 01:00', '55', '45'], ['01-07-2019 01:15', '55', '55'], ['01-07-2019 01:45', '50', '55'], ['01-07-2019 02:00', '50', '55'], ['01-07-2019 02:15', '50', '55'], ['01-07-2019 02:45', '50', '55'], ['01-07-2019 03:00', '50', '50'], ['01-07-2019 03:15', '50', '50'], ['01-07-2019 03:45', '31', '50'], ['01-07-2019 04:00', '31', '50'], ['01-07-2019 04:15', '31', '50'], ['01-07-2019 04:45', '61', '31'], ['01-07-2019 05:00', '61', '31'], ['01-07-2019 05:15', '61', '31'], ['01-07-2019 05:45', '48', '31'], ['01-07-2019 06:00', '48', '31'], ['01-07-2019 06:15', '48', '48'], ['01-07-2019 06:45', '41', '48'], ['01-07-2019 07:00', '41', '48'], ['01-07-2019 07:15', '41', '48'], ['01-07-2019 07:45', '56', '48'], ['01-07-2019 08:00', '56', '56'], ['01-07-2019 08:15', '56', '56'], ['01-07-2019 08:45', '46', '56'], ['01-07-2019 09:00', '46', '56'], ['01-07-2019 09:15', '46', '56'], ['01-07-2019 09:45', '38', '46'], ['01-07-2019 10:00', '38', '46'], ['01-07-2019 10:15', '38', '46'], ['01-07-2019 10:45', '56', '46'], ['01-07-2019 11:00', '56', '46'], ['01-07-2019 11:15', '56', '56'], ['01-07-2019 11:45', '44', '56'], ['01-07-2019 12:00', '44', '56'], ['01-07-2019 12:15', '44', '56'], ['01-07-2019 12:45', '50', '56'], ['01-07-2019 13:00', '50', '50'], ['01-07-2019 13:15', '50', '50'], ['01-07-2019 13:45', '53', '50'], ['01-07-2019 14:00', '53', '50'], ['01-07-2019 14:15', '53', '50'], ['01-07-2019 14:45', '66', '53'], ['01-07-2019 15:00', '66', '53'], ['01-07-2019 15:15', '66', '53'], ['01-07-2019 15:45', '63', '53'], ['01-07-2019 16:00', '63', '53'], ['01-07-2019 16:15', '63', '63'], ['01-07-2019 16:45', '57', '63'], ['01-07-2019 17:00', '57', '63'], ['01-07-2019 17:15', '57', '63'], ['01-07-2019 17:45', '63', '63'], ['01-07-2019 18:00', '63', '63'], ['01-07-2019 18:15', '63', '63'], ['01-07-2019 18:45', '62', '63'], ['01-07-2019 19:00', '62', '63'], ['01-07-2019 19:15', '62', '63'], ['01-07-2019 19:45', '62', '62'], ['01-07-2019 20:00', '62', '62'], ['01-07-2019 20:15', '62', '62'], ['01-07-2019 20:45', '69', '62'], ['01-07-2019 21:00', '69', '62'], ['01-07-2019 21:15', '69', '69'], ['01-07-2019 21:45', '50', '69'], ['01-07-2019 22:00', '50', '69'], ['01-07-2019 22:15', '50', '69'], ['01-07-2019 22:45', '39', '69'], ['01-07-2019 23:00', '39', '39'], ['01-07-2019 23:15', '39', '39'], ['01-07-2019 23:45', '39', '39'], ['02-07-2019 00:00', '39', '39'], ['02-07-2019 00:15', '39', '39'], ['02-07-2019 00:45', '44', '39'], ['02-07-2019 01:00', '44', '39'], ['02-07-2019 01:15', '44', '39'], ['02-07-2019 01:45', '48', '39'], ['02-07-2019 02:00', '48', '39'], ['02-07-2019 02:15', '48', '48'], ['02-07-2019 02:45', '55', '48'], ['02-07-2019 03:00', '55', '48'], ['02-07-2019 03:15', '55', '48'], ['02-07-2019 03:45', '63', '48'], ['02-07-2019 04:00', '63', '63'], ['02-07-2019 04:15', '63', '63'], ['02-07-2019 04:45', '52', '63'], ['02-07-2019 05:00', '52', '63'], ['02-07-2019 05:15', '52', '63'], ['02-07-2019 05:45', '55', '52'], ['02-07-2019 06:00', '55', '52'], ['02-07-2019 06:15', '55', '52'], ['02-07-2019 06:45', '48', '52'], ['02-07-2019 07:00', '48', '52'], ['02-07-2019 07:15', '48', '48'], ['02-07-2019 07:45', '78', '48'], ['02-07-2019 08:00', '78', '48'], ['02-07-2019 08:15', '78', '48'], ['02-07-2019 08:45', '46', '48'], ['02-07-2019 09:00', '46', '46'], ['02-07-2019 09:15', '46', '46'], ['02-07-2019 09:45', '50', '46'], ['02-07-2019 10:00', '50', '46'], ['02-07-2019 10:15', '50', '46'], ['02-07-2019 10:45', '57', '50'], ['02-07-2019 11:00', '57', '50'], ['02-07-2019 11:15', '57', '50'], ['02-07-2019 11:45', '75', '50'], ['02-07-2019 12:00', '75', '50'], ['02-07-2019 12:15', '75', '75'], ['02-07-2019 12:45', '89', '75'], ['02-07-2019 13:00', '89', '75'], ['02-07-2019 13:15', '89', '75'], ['02-07-2019 13:45', '75', '75'], ['02-07-2019 14:00', '75', '75'], ['02-07-2019 14:15', '75', '75'], ['02-07-2019 14:45', '74', '75'], ['02-07-2019 15:00', '74', '75'], ['02-07-2019 15:15', '74', '75'], ['02-07-2019 15:45', '74', '74'], ['02-07-2019 16:00', '74', '74'], ['02-07-2019 16:15', '74', '74'], ['02-07-2019 16:45', '73', '74'], ['02-07-2019 17:00', '73', '74'], ['02-07-2019 17:15', '73', '73'], ['02-07-2019 17:45', '74', '73'], ['02-07-2019 18:00', '74', '73'], ['02-07-2019 18:15', '74', '73'], ['02-07-2019 18:45', '66', '73'], ['02-07-2019 19:00', '66', '66'], ['02-07-2019 19:15', '66', '66'], ['02-07-2019 19:45', '68', '66'], ['02-07-2019 20:00', '68', '66'], ['02-07-2019 20:15', '68', '66'], ['02-07-2019 20:45', '69', '68'], ['02-07-2019 21:00', '69', '68'], ['02-07-2019 21:15', '69', '68'], ['02-07-2019 21:45', '75', '68'], ['02-07-2019 22:00', '75', '68'], ['02-07-2019 22:15', '75', '75'], ['02-07-2019 22:45', '84', '75'], ['02-07-2019 23:00', '84', '75'], ['02-07-2019 23:15', '84', '75'], ['02-07-2019 23:45', '53', '75'], ['03-07-2019 00:00', '53', '53'], ['03-07-2019 00:15', '53', '53'], ['03-07-2019 00:45', '50', '53'], ['03-07-2019 01:00', '50', '53'], ['03-07-2019 01:15', '50', '53'], ['03-07-2019 01:45', '41', '50'], ['03-07-2019 02:00', '41', '50'], ['03-07-2019 02:15', '41', '50'], ['03-07-2019 02:45', '52', '50'], ['03-07-2019 03:00', '52', '50'], ['03-07-2019 03:15', '52', '52'], ['03-07-2019 03:45', '47', '52'], ['03-07-2019 04:00', '47', '52'], ['03-07-2019 04:15', '47', '52'], ['03-07-2019 04:45', '47', '52'], ['03-07-2019 05:00', '47', '47'], ['03-07-2019 05:15', '47', '47'], ['03-07-2019 05:45', '45', '47'], ['03-07-2019 06:00', '45', '47'], ['03-07-2019 06:15', '45', '47'], ['03-07-2019 06:45', '41', '45'], ['03-07-2019 07:00', '41', '45'], ['03-07-2019 07:15', '41', '45'], ['03-07-2019 07:45', '48', '45'], ['03-07-2019 08:00', '48', '45'], ['03-07-2019 08:15', '48', '48'], ['03-07-2019 08:45', '48', '48'], ['03-07-2019 09:00', '48', '48'], ['03-07-2019 09:15', '48', '48'], ['03-07-2019 09:45', '28', '48'], ['03-07-2019 10:00', '28', '28'], ['03-07-2019 10:15', '28', '28'], ['03-07-2019 10:45', '39', '28'], ['03-07-2019 11:00', '39', '28'], ['03-07-2019 11:15', '39', '28'], ['03-07-2019 11:45', '45', '39'], ['03-07-2019 12:00', '45', '39'], ['06-07-2019 00:00', '73.8', '39'], ['06-07-2019 00:15', '73.8', '39'], ['06-07-2019 00:30', '73.8', '39'], ['06-07-2019 00:45', '73.3', '73.8'], ['06-07-2019 01:00', '54.3', '73.8'], ['06-07-2019 01:15', '54.3', '73.8'], ['06-07-2019 01:30', '54.3', '73.8'], ['06-07-2019 01:45', '54.7', '73.8'], ['06-07-2019 02:00', '73', '54.7'], ['06-07-2019 02:15', '73', '54.7'], ['06-07-2019 02:30', '73', '54.7'], ['06-07-2019 02:45', '73', '54.7'], ['06-07-2019 03:00', '69', '54.7'], ['06-07-2019 03:15', '69', '69'], ['06-07-2019 03:30', '69', '69'], ['06-07-2019 03:45', '68.5', '69'], ['06-07-2019 04:00', '48.4', '69'], ['06-07-2019 04:15', '48.4', '69'], ['06-07-2019 04:30', '48.4', '48.4'], ['06-07-2019 04:45', '48.2', '48.4'], ['06-07-2019 05:00', '38', '48.4'], ['06-07-2019 05:15', '38', '48.4'], ['06-07-2019 05:30', '38', '48.4'], ['06-07-2019 05:45', '38.1', '38'], ['06-07-2019 06:00', '43.6', '38'], ['06-07-2019 06:15', '43.6', '38'], ['06-07-2019 06:30', '43.6', '38'], ['06-07-2019 06:45', '43.4', '38'], ['06-07-2019 07:00', '37.4', '43.4'], ['06-07-2019 07:15', '37.4', '43.4'], ['06-07-2019 07:30', '37.4', '43.4'], ['06-07-2019 07:45', '38', '43.4'], ['06-07-2019 08:00', '65.4', '43.4'], ['06-07-2019 08:15', '65.4', '65.4'], ['06-07-2019 08:30', '65.4', '65.4'], ['06-07-2019 08:45', '64.9', '65.4'], ['06-07-2019 09:00', '46.8', '65.4'], ['06-07-2019 09:15', '46.8', '65.4'], ['06-07-2019 09:30', '46.8', '46.8'], ['06-07-2019 09:45', '46.9', '46.8'], ['06-07-2019 10:00', '53.4', '46.8'], ['06-07-2019 10:15', '53.4', '46.8'], ['06-07-2019 10:30', '53.4', '46.8'], ['06-07-2019 10:45', '53.1', '53.4'], ['06-07-2019 11:00', '39.4', '53.4'], ['06-07-2019 11:15', '39.4', '53.4'], ['06-07-2019 11:30', '39.4', '53.4'], ['06-07-2019 11:45', '39.3', '53.4'], ['06-07-2019 12:00', '34.1', '39.3'], ['06-07-2019 12:15', '34.1', '39.3'], ['06-07-2019 12:30', '34.1', '39.3'], ['06-07-2019 13:00', '31.6', '39.3'], ['06-07-2019 13:15', '31.6', '39.3'], ['06-07-2019 13:30', '31.6', '31.6'], ['06-07-2019 13:45', '31.8', '31.6'], ['06-07-2019 14:00', '42', '31.6'], ['06-07-2019 14:15', '42', '31.6'], ['06-07-2019 14:30', '42', '31.6'], ['06-07-2019 14:45', '41.8', '42'], ['06-07-2019 15:00', '31.9', '42'], ['06-07-2019 15:15', '31.9', '42'], ['06-07-2019 15:30', '31.9', '42'], ['06-07-2019 15:45', '33.1', '42'], ['06-07-2019 16:00', '85', '33.1'], ['06-07-2019 16:15', '85', '33.1'], ['06-07-2019 16:30', '85', '33.1'], ['06-07-2019 16:45', '84.4', '33.1'], ['06-07-2019 17:00', '56.5', '33.1'], ['06-07-2019 17:15', '56.5', '56.5'], ['06-07-2019 17:30', '56.5', '56.5'], ['06-07-2019 17:45', '56.2', '56.5'], ['06-07-2019 18:00', '43.9', '56.5'], ['06-07-2019 18:15', '43.9', '56.5'], ['06-07-2019 18:30', '43.9', '43.9'], ['06-07-2019 18:45', '44', '43.9'], ['06-07-2019 19:00', '47.5', '43.9'], ['06-07-2019 19:15', '47.5', '43.9'], ['06-07-2019 19:30', '47.5', '43.9'], ['06-07-2019 19:45', '48', '47.5'], ['06-07-2019 20:00', '68.6', '47.5'], ['06-07-2019 20:15', '68.6', '47.5'], ['06-07-2019 20:30', '68.6', '47.5'], ['06-07-2019 20:45', '68.6', '47.5'], ['06-07-2019 21:00', '72.1', '68.6'], ['06-07-2019 21:15', '72.1', '68.6'], ['06-07-2019 21:30', '72.1', '68.6'], ['06-07-2019 21:45', '72', '68.6'], ['06-07-2019 22:00', '66.5', '68.6'], ['06-07-2019 22:15', '66.5', '66.5'], ['06-07-2019 22:30', '66.5', '66.5'], ['06-07-2019 22:45', '66.1', '66.5'], ['06-07-2019 23:00', '49.4', '66.5'], ['06-07-2019 23:15', '49.4', '66.5'], ['06-07-2019 23:30', '49.4', '49.4'], ['07-07-2019 00:00', '39.8', '49.4'], ['07-07-2019 00:15', '39.8', '49.4'], ['07-07-2019 00:30', '39.8', '49.4'], ['07-07-2019 00:45', '39.7', '49.4'], ['07-07-2019 01:00', '37.2', '39.7'], ['07-07-2019 01:15', '37.2', '39.7'], ['07-07-2019 01:30', '37.2', '39.7'], ['07-07-2019 01:45', '37.1', '39.7'], ['07-07-2019 02:00', '33.2', '39.7'], ['07-07-2019 02:15', '33.2', '33.2'], ['07-07-2019 02:30', '33.2', '33.2'], ['07-07-2019 02:45', '33.1', '33.2'], ['07-07-2019 03:00', '30.9', '33.2'], ['07-07-2019 03:15', '30.9', '33.2'], ['07-07-2019 03:30', '30.9', '30.9'], ['07-07-2019 03:45', '31.4', '30.9'], ['07-07-2019 04:00', '56.7', '30.9'], ['07-07-2019 04:15', '56.7', '30.9'], ['07-07-2019 04:30', '56.7', '30.9'], ['07-07-2019 04:45', '56.5', '56.7'], ['07-07-2019 05:00', '44', '56.7'], ['07-07-2019 05:15', '44', '56.7'], ['07-07-2019 05:30', '44', '56.7'], ['07-07-2019 05:45', '43.9', '56.7'], ['07-07-2019 06:00', '39.1', '43.9'], ['07-07-2019 06:15', '39.1', '43.9'], ['07-07-2019 06:30', '39.1', '43.9'], ['07-07-2019 06:45', '39.2', '43.9'], ['07-07-2019 07:00', '43.3', '43.9'], ['07-07-2019 07:15', '43.3', '43.3'], ['07-07-2019 07:30', '43.3', '43.3'], ['07-07-2019 07:45', '44.2', '43.3'], ['07-07-2019 08:00', '83.4', '43.3'], ['07-07-2019 08:15', '83.4', '43.3'], ['07-07-2019 08:30', '83.4', '83.4'], ['07-07-2019 08:45', '83.1', '83.4'], ['07-07-2019 09:00', '72.9', '83.4'], ['07-07-2019 09:15', '72.9', '83.4'], ['07-07-2019 09:30', '72.9', '83.4'], ['07-07-2019 09:45', '72.5', '72.9'], ['07-07-2019 10:00', '52.6', '72.9'], ['07-07-2019 10:15', '52.6', '72.9'], ['07-07-2019 10:30', '52.6', '72.9'], ['07-07-2019 10:45', '52.6', '72.9'], ['07-07-2019 11:00', '55.6', '52.6'], ['07-07-2019 11:15', '55.6', '52.6'], ['07-07-2019 11:30', '55.6', '52.6'], ['07-07-2019 11:45', '55.2', '52.6'], ['07-07-2019 12:00', '41.7', '52.6'], ['07-07-2019 12:15', '41.7', '41.7'], ['07-07-2019 12:30', '41.7', '41.7'], ['07-07-2019 12:45', '41.4', '41.7'], ['07-07-2019 13:00', '32.5', '41.7'], ['07-07-2019 13:15', '32.5', '41.7'], ['07-07-2019 13:30', '32.5', '32.5'], ['07-07-2019 13:45', '32.5', '32.5'], ['07-07-2019 14:00', '30.9', '32.5'], ['07-07-2019 14:15', '30.9', '32.5'], ['07-07-2019 14:30', '30.9', '32.5'], ['07-07-2019 14:45', '30.8', '30.9']]\n"
          ],
          "name": "stdout"
        }
      ]
    },
    {
      "cell_type": "code",
      "metadata": {
        "id": "8qDb7aGeIVLr",
        "colab_type": "code",
        "colab": {}
      },
      "source": [
        "##TIMESTAMP MODIFICATION \n",
        "m_tmp=[]\n",
        "for tmp in sscb:\n",
        "  l=[]\n",
        "  temp=tmp[0]\n",
        "  temp=temp[-24:-5]\n",
        "  temp=temp.split('-')\n",
        "  newtemp=temp[2].split(' ')\n",
        "  newesttemp=newtemp[1].split(':')\n",
        "  j=int(newesttemp[1])\n",
        "  #print(j)\n",
        "  if(j<=7.5):\n",
        "    final = newtemp[0] + '-' + temp[1] + '-' + temp[0] + ' ' + newesttemp[0] + ':' + '00'\n",
        "  elif(j<=15 or j<=22.5):\n",
        "    final = newtemp[0] + '-' + temp[1] + '-' + temp[0] + ' ' + newesttemp[0] + ':' + '15'\n",
        "  elif(j<=30 or j<=37.5):\n",
        "    final = newtemp[0] + '-' + temp[1] + '-' + temp[0] + ' ' + newesttemp[0] + ':' + '30'\n",
        "  elif(j<=45 or j<=52.5):\n",
        "    final = newtemp[0] + '-' + temp[1] + '-' + temp[0] + ' ' + newesttemp[0] + ':' + '45'\n",
        "  elif(j>52.5):\n",
        "    final = newtemp[0] + '-' + temp[1] + '-' + temp[0] + ' ' + newesttemp[0] + ':' + '00'\n",
        "  l.append(tmp[0])\n",
        "  l.append(final)\n",
        "  l.append(tmp[1])\n",
        "  m_tmp.append(l)  \n",
        "  \n",
        "  "
      ],
      "execution_count": 0,
      "outputs": []
    },
    {
      "cell_type": "code",
      "metadata": {
        "id": "PGu8N8reJBlI",
        "colab_type": "code",
        "colab": {}
      },
      "source": [
        "feat=[]\n",
        "for val in cpcb:\n",
        "  for date in m_tmp:\n",
        "    if(val[0] == date[1]):\n",
        "      im = date[2]\n",
        "      imc = date[2]\n",
        "      imc = cv2.resize(imc, (64,64))\n",
        "      l=[]\n",
        "      l.append(val[0])\n",
        "      #l.append(np.ndarray.flatten(transmission(imc)))\n",
        "      l.append(entropy(im))\n",
        "      l.append(contrast(im))\n",
        "      l.append(val[1])\n",
        "      l.append(val[2])\n",
        "      l.append(trans_deg(im))\n",
        "      #print('   -   -  ' + str(l))\n",
        "      feat.append(l)\n",
        "   "
      ],
      "execution_count": 0,
      "outputs": []
    },
    {
      "cell_type": "code",
      "metadata": {
        "id": "z9cWeEJ-3uAU",
        "colab_type": "code",
        "colab": {}
      },
      "source": [
        "\n",
        "df = pd.read_csv('/content/dtu_labels.csv')\n",
        "data = df.mask(df.eq('None')).dropna()\n",
        "file = data.to_csv('/content/dtu_labels_new.csv')\n",
        "k=0\n",
        "cpcb=[]\n",
        "val =' '\n",
        "with open('/content/dtu_labels_new.csv') as file:\n",
        "  reader = csv.reader(file, delimiter =',')\n",
        "  for row in reader:\n",
        "    k+=1\n",
        "    if(k>3):\n",
        "      l=[]\n",
        "      l.append(row[1]) #DATE \n",
        "      l.append(row[3]) #PM\n",
        "      l.append(val)\n",
        "      if(k%5==0):\n",
        "        val=row[3]\n",
        "      cpcb.append(l) "
      ],
      "execution_count": 0,
      "outputs": []
    },
    {
      "cell_type": "code",
      "metadata": {
        "id": "k5qFEFEnzypN",
        "colab_type": "code",
        "colab": {}
      },
      "source": [
        "##TIMESTAMP MODIFICATION \n",
        "\n",
        "\n",
        "m_tmp=[]\n",
        "for tmp in dtu:\n",
        "  l=[]\n",
        "  temp=tmp[0]\n",
        "  temp=temp[-24:-5]\n",
        "  temp=temp.split('-')\n",
        "  newtemp=temp[2].split(' ')\n",
        "  newesttemp=newtemp[1].split(':')\n",
        "  j=int(newesttemp[1])\n",
        "  #print(j)\n",
        "  if(j<=7.5):\n",
        "    final = newtemp[0] + '-' + temp[1] + '-' + temp[0] + ' ' + newesttemp[0] + ':' + '00'\n",
        "  elif(j<=15 or j<=22.5):\n",
        "    final = newtemp[0] + '-' + temp[1] + '-' + temp[0] + ' ' + newesttemp[0] + ':' + '15'\n",
        "  elif(j<=30 or j<=37.5):\n",
        "    final = newtemp[0] + '-' + temp[1] + '-' + temp[0] + ' ' + newesttemp[0] + ':' + '30'\n",
        "  elif(j<=45 or j<=52.5):\n",
        "    final = newtemp[0] + '-' + temp[1] + '-' + temp[0] + ' ' + newesttemp[0] + ':' + '45'\n",
        "  elif(j>52.5):\n",
        "    final = newtemp[0] + '-' + temp[1] + '-' + temp[0] + ' ' + newesttemp[0] + ':' + '00'\n",
        "  l.append(tmp[0])\n",
        "  l.append(final)\n",
        "  l.append(tmp[1])\n",
        "  m_tmp.append(l)  \n",
        "  "
      ],
      "execution_count": 0,
      "outputs": []
    },
    {
      "cell_type": "code",
      "metadata": {
        "id": "K7UAmzex0jTF",
        "colab_type": "code",
        "colab": {
          "base_uri": "https://localhost:8080/",
          "height": 353
        },
        "outputId": "0aed0ec1-a51b-4c59-fa9a-484b9653135b"
      },
      "source": [
        "\n",
        "for val in cpcb:\n",
        "  for date in m_tmp:\n",
        "    if(val[0] == date[1]):\n",
        "      im = date[2]\n",
        "      l=[]\n",
        "#       imc = date[2]\n",
        "#       imc = cv2.resize(imc, (64,64))\n",
        "      l.append(val[0])\n",
        "      #l.append(np.ndarray.flatten(transmission(im)))\n",
        "      l.append(entropy(im))\n",
        "      l.append(contrast(im))\n",
        "      l.append(val[1])\n",
        "      l.append(val[2])\n",
        "      l.append(trans_deg(im))\n",
        "      #print('   -   -  ' + str(l))\n",
        "      feat.append(l)\n",
        "      "
      ],
      "execution_count": 0,
      "outputs": [
        {
          "output_type": "error",
          "ename": "KeyboardInterrupt",
          "evalue": "ignored",
          "traceback": [
            "\u001b[0;31m---------------------------------------------------------------------------\u001b[0m",
            "\u001b[0;31mKeyboardInterrupt\u001b[0m                         Traceback (most recent call last)",
            "\u001b[0;32m<ipython-input-45-55aa9b154c2b>\u001b[0m in \u001b[0;36m<module>\u001b[0;34m()\u001b[0m\n\u001b[1;32m     13\u001b[0m       \u001b[0ml\u001b[0m\u001b[0;34m.\u001b[0m\u001b[0mappend\u001b[0m\u001b[0;34m(\u001b[0m\u001b[0mval\u001b[0m\u001b[0;34m[\u001b[0m\u001b[0;36m1\u001b[0m\u001b[0;34m]\u001b[0m\u001b[0;34m)\u001b[0m\u001b[0;34m\u001b[0m\u001b[0;34m\u001b[0m\u001b[0m\n\u001b[1;32m     14\u001b[0m       \u001b[0ml\u001b[0m\u001b[0;34m.\u001b[0m\u001b[0mappend\u001b[0m\u001b[0;34m(\u001b[0m\u001b[0mval\u001b[0m\u001b[0;34m[\u001b[0m\u001b[0;36m2\u001b[0m\u001b[0;34m]\u001b[0m\u001b[0;34m)\u001b[0m\u001b[0;34m\u001b[0m\u001b[0;34m\u001b[0m\u001b[0m\n\u001b[0;32m---> 15\u001b[0;31m       \u001b[0ml\u001b[0m\u001b[0;34m.\u001b[0m\u001b[0mappend\u001b[0m\u001b[0;34m(\u001b[0m\u001b[0mtrans_deg\u001b[0m\u001b[0;34m(\u001b[0m\u001b[0mim\u001b[0m\u001b[0;34m)\u001b[0m\u001b[0;34m)\u001b[0m\u001b[0;34m\u001b[0m\u001b[0;34m\u001b[0m\u001b[0m\n\u001b[0m\u001b[1;32m     16\u001b[0m       \u001b[0;31m#print('   -   -  ' + str(l))\u001b[0m\u001b[0;34m\u001b[0m\u001b[0;34m\u001b[0m\u001b[0;34m\u001b[0m\u001b[0m\n\u001b[1;32m     17\u001b[0m       \u001b[0mfeat\u001b[0m\u001b[0;34m.\u001b[0m\u001b[0mappend\u001b[0m\u001b[0;34m(\u001b[0m\u001b[0ml\u001b[0m\u001b[0;34m)\u001b[0m\u001b[0;34m\u001b[0m\u001b[0;34m\u001b[0m\u001b[0m\n",
            "\u001b[0;32m<ipython-input-23-c8ed96890af0>\u001b[0m in \u001b[0;36mtrans_deg\u001b[0;34m(im)\u001b[0m\n\u001b[1;32m     13\u001b[0m       \u001b[0mD\u001b[0m\u001b[0;34m[\u001b[0m\u001b[0mi\u001b[0m\u001b[0;34m]\u001b[0m\u001b[0;34m[\u001b[0m\u001b[0mj\u001b[0m\u001b[0;34m]\u001b[0m \u001b[0;34m=\u001b[0m \u001b[0mmin\u001b[0m\u001b[0;34m(\u001b[0m\u001b[0mb\u001b[0m\u001b[0;34m[\u001b[0m\u001b[0mi\u001b[0m\u001b[0;34m]\u001b[0m\u001b[0;34m[\u001b[0m\u001b[0mj\u001b[0m\u001b[0;34m]\u001b[0m\u001b[0;34m,\u001b[0m \u001b[0mg\u001b[0m\u001b[0;34m[\u001b[0m\u001b[0mi\u001b[0m\u001b[0;34m]\u001b[0m\u001b[0;34m[\u001b[0m\u001b[0mj\u001b[0m\u001b[0;34m]\u001b[0m\u001b[0;34m,\u001b[0m \u001b[0mr\u001b[0m\u001b[0;34m[\u001b[0m\u001b[0mi\u001b[0m\u001b[0;34m]\u001b[0m\u001b[0;34m[\u001b[0m\u001b[0mj\u001b[0m\u001b[0;34m]\u001b[0m\u001b[0;34m)\u001b[0m\u001b[0;34m\u001b[0m\u001b[0;34m\u001b[0m\u001b[0m\n\u001b[1;32m     14\u001b[0m       \u001b[0mB\u001b[0m\u001b[0;34m[\u001b[0m\u001b[0mi\u001b[0m\u001b[0;34m]\u001b[0m\u001b[0;34m[\u001b[0m\u001b[0mj\u001b[0m\u001b[0;34m]\u001b[0m \u001b[0;34m=\u001b[0m \u001b[0mmax\u001b[0m\u001b[0;34m(\u001b[0m\u001b[0mb\u001b[0m\u001b[0;34m[\u001b[0m\u001b[0mi\u001b[0m\u001b[0;34m]\u001b[0m\u001b[0;34m[\u001b[0m\u001b[0mj\u001b[0m\u001b[0;34m]\u001b[0m\u001b[0;34m,\u001b[0m \u001b[0mg\u001b[0m\u001b[0;34m[\u001b[0m\u001b[0mi\u001b[0m\u001b[0;34m]\u001b[0m\u001b[0;34m[\u001b[0m\u001b[0mj\u001b[0m\u001b[0;34m]\u001b[0m\u001b[0;34m,\u001b[0m \u001b[0mr\u001b[0m\u001b[0;34m[\u001b[0m\u001b[0mi\u001b[0m\u001b[0;34m]\u001b[0m\u001b[0;34m[\u001b[0m\u001b[0mj\u001b[0m\u001b[0;34m]\u001b[0m\u001b[0;34m)\u001b[0m\u001b[0;34m\u001b[0m\u001b[0;34m\u001b[0m\u001b[0m\n\u001b[0;32m---> 15\u001b[0;31m       \u001b[0mC\u001b[0m\u001b[0;34m[\u001b[0m\u001b[0mi\u001b[0m\u001b[0;34m]\u001b[0m\u001b[0;34m[\u001b[0m\u001b[0mj\u001b[0m\u001b[0;34m]\u001b[0m \u001b[0;34m=\u001b[0m \u001b[0mB\u001b[0m\u001b[0;34m[\u001b[0m\u001b[0mi\u001b[0m\u001b[0;34m]\u001b[0m\u001b[0;34m[\u001b[0m\u001b[0mj\u001b[0m\u001b[0;34m]\u001b[0m \u001b[0;34m-\u001b[0m \u001b[0mD\u001b[0m\u001b[0;34m[\u001b[0m\u001b[0mi\u001b[0m\u001b[0;34m]\u001b[0m\u001b[0;34m[\u001b[0m\u001b[0mj\u001b[0m\u001b[0;34m]\u001b[0m\u001b[0;34m\u001b[0m\u001b[0;34m\u001b[0m\u001b[0m\n\u001b[0m\u001b[1;32m     16\u001b[0m \u001b[0;34m\u001b[0m\u001b[0m\n\u001b[1;32m     17\u001b[0m   \u001b[0md\u001b[0m \u001b[0;34m=\u001b[0m \u001b[0mnp\u001b[0m\u001b[0;34m.\u001b[0m\u001b[0msum\u001b[0m\u001b[0;34m(\u001b[0m\u001b[0mD\u001b[0m\u001b[0;34m)\u001b[0m\u001b[0;34m/\u001b[0m\u001b[0mfloat\u001b[0m\u001b[0;34m(\u001b[0m\u001b[0mnp\u001b[0m\u001b[0;34m.\u001b[0m\u001b[0msize\u001b[0m\u001b[0;34m(\u001b[0m\u001b[0mD\u001b[0m\u001b[0;34m)\u001b[0m\u001b[0;34m)\u001b[0m\u001b[0;34m\u001b[0m\u001b[0;34m\u001b[0m\u001b[0m\n",
            "\u001b[0;31mKeyboardInterrupt\u001b[0m: "
          ]
        }
      ]
    },
    {
      "cell_type": "code",
      "metadata": {
        "id": "a_Vq-XytSz4q",
        "colab_type": "code",
        "colab": {}
      },
      "source": [
        "## PUNJABI BAGH \n",
        "\n",
        "df = pd.read_csv('/content/pb_labels.csv')\n",
        "data = df.mask(df.eq('None')).dropna()\n",
        "file = data.to_csv('/content/labels_pb_new.csv')\n",
        "\n",
        "\n",
        "k=0\n",
        "cpcb=[]\n",
        "val = ''\n",
        "with open('/content/labels_pb_new.csv') as file:\n",
        "  reader = csv.reader(file, delimiter =',')\n",
        "  for row in reader:\n",
        "    k+=1\n",
        "    if(k>3):\n",
        "      l=[]\n",
        "      l.append(row[1]) #DATE \n",
        "      l.append(row[3]) #PM\n",
        "      l.append(val)\n",
        "      if(k%5==0):\n",
        "        val=row[3]\n",
        "      cpcb.append(l) "
      ],
      "execution_count": 0,
      "outputs": []
    },
    {
      "cell_type": "code",
      "metadata": {
        "id": "y7cLQSiQTIVP",
        "colab_type": "code",
        "colab": {}
      },
      "source": [
        "##TIMESTAMP MODIFICATION \n",
        "\n",
        "m_tmp=[]\n",
        "for tmp in pb:\n",
        "  l=[]\n",
        "  temp=tmp[0]\n",
        "  temp=temp[-24:-5]\n",
        "  temp=temp.split('-')\n",
        "  newtemp=temp[2].split(' ')\n",
        "  newesttemp=newtemp[1].split(':')\n",
        "  j=int(newesttemp[1])\n",
        "  #print(j)\n",
        "  if(j<=7.5):\n",
        "    final = newtemp[0] + '-' + temp[1] + '-' + temp[0] + ' ' + newesttemp[0] + ':' + '00'\n",
        "  elif(j<=15 or j<=22.5):\n",
        "    final = newtemp[0] + '-' + temp[1] + '-' + temp[0] + ' ' + newesttemp[0] + ':' + '15'\n",
        "  elif(j<=30 or j<=37.5):\n",
        "    final = newtemp[0] + '-' + temp[1] + '-' + temp[0] + ' ' + newesttemp[0] + ':' + '30'\n",
        "  elif(j<=45 or j<=52.5):\n",
        "    final = newtemp[0] + '-' + temp[1] + '-' + temp[0] + ' ' + newesttemp[0] + ':' + '45'\n",
        "  elif(j>52.5):\n",
        "    final = newtemp[0] + '-' + temp[1] + '-' + temp[0] + ' ' + newesttemp[0] + ':' + '00'\n",
        "  l.append(tmp[0])\n",
        "  l.append(final)\n",
        "  l.append(tmp[1])\n",
        "  m_tmp.append(l)   "
      ],
      "execution_count": 0,
      "outputs": []
    },
    {
      "cell_type": "code",
      "metadata": {
        "id": "5lC01m43TO6z",
        "colab_type": "code",
        "colab": {}
      },
      "source": [
        "for val in cpcb:\n",
        "  for date in m_tmp:\n",
        "    if(val[0] == date[1]):\n",
        "      #print(date[0])\n",
        "      im = date[2]\n",
        "      l=[]\n",
        "      l.append(val[0])\n",
        "#       imc = date[2]\n",
        "#       imc = cv2.resize(imc,(64,64))\n",
        "      #l.append(transmission(im,retMean=True))\n",
        "      #l.append(np.ndarray.flatten(transmission(im)))\n",
        "      l.append(entropy(im))\n",
        "      l.append(contrast(im))\n",
        "      l.append(val[1])\n",
        "      l.append(val[2])\n",
        "      l.append(trans_deg(im))\n",
        "      #print('   -   -  ' + str(l))\n",
        "      feat.append(l)"
      ],
      "execution_count": 0,
      "outputs": []
    },
    {
      "cell_type": "code",
      "metadata": {
        "id": "GS5SblBb-2QT",
        "colab_type": "code",
        "colab": {}
      },
      "source": [
        "\n",
        "print(len(feat))"
      ],
      "execution_count": 0,
      "outputs": []
    },
    {
      "cell_type": "code",
      "metadata": {
        "id": "ZwnLQHaiUJR-",
        "colab_type": "code",
        "colab": {}
      },
      "source": [
        "\n",
        "## SHADIPUR \n",
        "\n",
        "df_ = pd.read_csv('/content/shadipur_labels.csv')\n",
        "data_ = df_.mask(df_.eq('None')).dropna()\n",
        "file_ = data_.to_csv('/content/shadipur_labels_new.csv')\n",
        "\n",
        "\n",
        "k=0\n",
        "cpcb=[]\n",
        "val = ''\n",
        "with open('/content/shadipur_labels_new.csv') as file:\n",
        "  reader = csv.reader(file, delimiter =',')\n",
        "  for row in reader:\n",
        "    k+=1\n",
        "    if(k>3):\n",
        "      l=[]\n",
        "      l.append(row[1]) #DATE \n",
        "      l.append(row[3]) #PM\n",
        "      l.append(val)\n",
        "      if(k%5==0):\n",
        "        val=row[3]\n",
        "      cpcb.append(l) "
      ],
      "execution_count": 0,
      "outputs": []
    },
    {
      "cell_type": "code",
      "metadata": {
        "id": "vtv6OHZ0UYhU",
        "colab_type": "code",
        "colab": {}
      },
      "source": [
        "\n",
        "##TIMESTAMP MODIFICATION \n",
        "m_tmp=[]\n",
        "for tmp in shadipur:\n",
        "  l=[]\n",
        "  temp=tmp[0]\n",
        "  temp=temp[-24:-5]\n",
        "  temp=temp.split('-')\n",
        "  newtemp=temp[2].split(' ')\n",
        "  newesttemp=newtemp[1].split(':')\n",
        "  j=int(newesttemp[1])\n",
        "  #print(j)\n",
        "  if(j<=7.5):\n",
        "    final = newtemp[0] + '-' + temp[1] + '-' + temp[0] + ' ' + newesttemp[0] + ':' + '00'\n",
        "  elif(j<=15 or j<=22.5):\n",
        "    final = newtemp[0] + '-' + temp[1] + '-' + temp[0] + ' ' + newesttemp[0] + ':' + '15'\n",
        "  elif(j<=30 or j<=37.5):\n",
        "    final = newtemp[0] + '-' + temp[1] + '-' + temp[0] + ' ' + newesttemp[0] + ':' + '30'\n",
        "  elif(j<=45 or j<=52.5):\n",
        "    final = newtemp[0] + '-' + temp[1] + '-' + temp[0] + ' ' + newesttemp[0] + ':' + '45'\n",
        "  elif(j>52.5):\n",
        "    final = newtemp[0] + '-' + temp[1] + '-' + temp[0] + ' ' + newesttemp[0] + ':' + '00'\n",
        "  l.append(tmp[0])\n",
        "  l.append(final)\n",
        "  l.append(tmp[1])\n",
        "  m_tmp.append(l) \n",
        " "
      ],
      "execution_count": 0,
      "outputs": []
    },
    {
      "cell_type": "code",
      "metadata": {
        "id": "W-AXAPbGUdAQ",
        "colab_type": "code",
        "colab": {}
      },
      "source": [
        "\n",
        "for val in cpcb:\n",
        "  for date in m_tmp:\n",
        "    if(val[0] == date[1]):\n",
        "      #print(date[0])\n",
        "      im = date[2]\n",
        "      l=[]\n",
        "      l.append(val[0])\n",
        "      #l.append(np.ndarray.flatten(transmission(im)))\n",
        "      l.append(entropy(im))\n",
        "      l.append(contrast(im))\n",
        "      l.append(val[1])\n",
        "      l.append(val[2])\n",
        "      l.append(trans_deg(im))\n",
        "      #print('   -   -  ' +str(l))\n",
        "      feat.append(l)"
      ],
      "execution_count": 0,
      "outputs": []
    },
    {
      "cell_type": "code",
      "metadata": {
        "id": "OzS07r9ITQyy",
        "colab_type": "code",
        "colab": {}
      },
      "source": [
        "# ITO \n",
        "df_ = pd.read_csv('/content/ito_labels.csv')\n",
        "data_ = df_.mask(df_.eq('None')).dropna()\n",
        "file_ = data_.to_csv('/content/ito_labels_new.csv')\n",
        "\n",
        "\n",
        "k=0\n",
        "cpcb=[]\n",
        "val =' '\n",
        "with open('/content/ito_labels_new.csv') as file:\n",
        "  reader = csv.reader(file, delimiter =',')\n",
        "  for row in reader:\n",
        "    k+=1\n",
        "    if(k>3):\n",
        "      l=[]\n",
        "      l.append(row[1]) #DATE \n",
        "      l.append(row[3]) #PM\n",
        "      l.append(val)\n",
        "      if(k%5==0):\n",
        "        val=row[3]\n",
        "      cpcb.append(l) "
      ],
      "execution_count": 0,
      "outputs": []
    },
    {
      "cell_type": "code",
      "metadata": {
        "id": "nP3rFX_CUAAC",
        "colab_type": "code",
        "colab": {}
      },
      "source": [
        "#TIMESTAMP MODIFICATION \n",
        "m_tmp=[]\n",
        "for tmp in ito:\n",
        "  l=[]\n",
        "  temp=tmp[0]\n",
        "  temp=temp[-24:-5]\n",
        "  temp=temp.split('-')\n",
        "  newtemp=temp[2].split(' ')\n",
        "  newesttemp=newtemp[1].split(':')\n",
        "  j=int(newesttemp[1])\n",
        "  #print(j)\n",
        "  if(j<=7.5):\n",
        "    final = newtemp[0] + '-' + temp[1] + '-' + temp[0] + ' ' + newesttemp[0] + ':' + '00'\n",
        "  elif(j<=15 or j<=22.5):\n",
        "    final = newtemp[0] + '-' + temp[1] + '-' + temp[0] + ' ' + newesttemp[0] + ':' + '15'\n",
        "  elif(j<=30 or j<=37.5):\n",
        "    final = newtemp[0] + '-' + temp[1] + '-' + temp[0] + ' ' + newesttemp[0] + ':' + '30'\n",
        "  elif(j<=45 or j<=52.5):\n",
        "    final = newtemp[0] + '-' + temp[1] + '-' + temp[0] + ' ' + newesttemp[0] + ':' + '45'\n",
        "  elif(j>52.5):\n",
        "    final = newtemp[0] + '-' + temp[1] + '-' + temp[0] + ' ' + newesttemp[0] + ':' + '00'\n",
        "  l.append(tmp[0])\n",
        "  l.append(final)\n",
        "  l.append(tmp[1])\n",
        "  m_tmp.append(l) "
      ],
      "execution_count": 0,
      "outputs": []
    },
    {
      "cell_type": "code",
      "metadata": {
        "id": "Ys06d0qgUHM6",
        "colab_type": "code",
        "colab": {}
      },
      "source": [
        "ito_tomatch=[]\n",
        "for val in cpcb:\n",
        "  for date in m_tmp:\n",
        "    if(val[0] == date[1]):\n",
        "      #print(date[0])\n",
        "      im = date[2]\n",
        "      l=[]\n",
        "      l.append(val[0])\n",
        "      #l.append(np.ndarray.flatten(transmission(im)))\n",
        "      l.append(entropy(im))\n",
        "      l.append(contrast(im))\n",
        "      l.append(val[1])\n",
        "      l.append(trans_deg(im))\n",
        "      ito_tomatch.append(l)"
      ],
      "execution_count": 0,
      "outputs": []
    },
    {
      "cell_type": "code",
      "metadata": {
        "id": "9j_bFL09om14",
        "colab_type": "code",
        "outputId": "865d0105-2c51-4b64-91d3-1712e0e42c90",
        "colab": {
          "base_uri": "https://localhost:8080/",
          "height": 34
        }
      },
      "source": [
        "print(len(feat))"
      ],
      "execution_count": 0,
      "outputs": [
        {
          "output_type": "stream",
          "text": [
            "1930\n"
          ],
          "name": "stdout"
        }
      ]
    },
    {
      "cell_type": "markdown",
      "metadata": {
        "id": "EVvr842DATmS",
        "colab_type": "text"
      },
      "source": [
        "Till here the feat for all 5 delhi locations is done \n",
        "now combining the shanghai data LABELS \n"
      ]
    },
    {
      "cell_type": "code",
      "metadata": {
        "id": "9J7N1kOo17JU",
        "colab_type": "code",
        "colab": {}
      },
      "source": [
        "# new_shanghai=[]\n",
        "\n",
        "\n",
        "\n",
        "# for key in shanghai:\n",
        "#   temp = key\n",
        "#   temp = temp[6:8] + '-' + temp[4:6] + '-' + temp[0:4] + ' ' + temp[8:10] + ':' + '00'\n",
        "#   #temp = temp[6:8] + '-' + temp[4:6] + '-' + temp[0:4] + ' ' + temp[8:10] + ':' + temp[10:12]\n",
        "#   l=[]\n",
        "#   l.append(temp)\n",
        "#   l.append(shanghai[key][1])\n",
        "#   l.append(shanghai[key][2])\n",
        "#   l.append(shanghai[key][3])\n",
        "#   l.append(shanghai[key][4])\n",
        "#   new_shanghai.append(l)\n",
        "  "
      ],
      "execution_count": 0,
      "outputs": []
    },
    {
      "cell_type": "code",
      "metadata": {
        "id": "1YGyzhkH-sQ_",
        "colab_type": "code",
        "colab": {}
      },
      "source": [
        "\n",
        "# ## Attaching labels \n",
        "\n",
        "# df_ = pd.read_csv('/content/s_labels.csv')\n",
        "# data_ = df_.mask(df_.eq('None')).dropna()\n",
        "# file_ = data_.to_csv('/content/s_labels_new.csv')\n",
        "\n",
        "# shanghai_labels={}\n",
        "# pm_s=[]\n",
        "\n",
        "# with open('/content/s_labels.csv') as file :\n",
        "#   read = csv.reader(file)\n",
        "#   for row in read:\n",
        "#     if(len(row[1])==1):\n",
        "#       row[1]='0' + row[1]\n",
        "#     if(len(row[2])==1):\n",
        "#       row[2]='0' + row[2]\n",
        "#     if(len(row[3])==1):\n",
        "#       row[3]='0' + row[3]\n",
        "#     temp = row[2] + '-' + row[1] + '-' + row[0] + ' ' +row[3] + ':' + '00'\n",
        "#     if(row[5]!='None'):\n",
        "#       shanghai_labels[temp]=row[5]\n",
        "    \n",
        "    "
      ],
      "execution_count": 0,
      "outputs": []
    },
    {
      "cell_type": "code",
      "metadata": {
        "id": "aOo6GV72-Q5l",
        "colab_type": "code",
        "colab": {}
      },
      "source": [
        "# match=[]\n",
        "\n",
        "# for key in shanghai_labels:\n",
        "#   for i in new_shanghai:\n",
        "#     if(i[0] == key):\n",
        "#       #print('match')\n",
        "#       l=[]\n",
        "#       l.append(key)\n",
        "#       l.append(i[1])\n",
        "#       l.append(i[2])\n",
        "#       l.append(i[3])\n",
        "#       l.append(shanghai_labels[key])\n",
        "#       match.append(l)\n",
        "      "
      ],
      "execution_count": 0,
      "outputs": []
    },
    {
      "cell_type": "markdown",
      "metadata": {
        "id": "skpHTzhPI9KM",
        "colab_type": "text"
      },
      "source": [
        "WEATHER DATA "
      ]
    },
    {
      "cell_type": "code",
      "metadata": {
        "id": "qNPdWBM9I88j",
        "colab_type": "code",
        "colab": {}
      },
      "source": [
        "cred = credentials.Certificate('credentials.json')\n",
        "\n",
        "# Initialize the app with a service account, granting admin privileges\n",
        "ito = firebase_admin.initialize_app(cred, {\n",
        "    'databaseURL': 'https://fir-4ca2c.firebaseio.com/'\n",
        "},name = 'w_ito')"
      ],
      "execution_count": 0,
      "outputs": []
    },
    {
      "cell_type": "code",
      "metadata": {
        "id": "SjDgCilSJhrT",
        "colab_type": "code",
        "colab": {}
      },
      "source": [
        "    \n",
        "ref = db.reference(app=ito)\n",
        "df = ref.get()\n"
      ],
      "execution_count": 0,
      "outputs": []
    },
    {
      "cell_type": "code",
      "metadata": {
        "id": "prjXlrRyJllI",
        "colab_type": "code",
        "outputId": "b1dc419d-0656-4842-8f77-59901d538043",
        "colab": {
          "base_uri": "https://localhost:8080/",
          "height": 566
        }
      },
      "source": [
        "temp_weather = {}\n",
        "\n",
        "for key in df:\n",
        "  try:\n",
        "    l=[]\n",
        "    l.append(df[key]['main']['humidity'])\n",
        "    l.append(df[key]['main']['pressure'])\n",
        "    l.append(df[key]['main']['temp'])\n",
        "    l.append(df[key]['visibility'])\n",
        "    l.append(df[key]['wind']['deg'])\n",
        "    l.append(df[key]['wind']['speed'])\n",
        "    l.append(df[key]['clouds']['all'])\n",
        "    k = df[key]['weather'][0]['description']\n",
        "    if(k=='haze'):\n",
        "      l.append(0)\n",
        "    elif(k=='mist'):\n",
        "      l.append(1)\n",
        "    elif(k=='drizzle'):\n",
        "      l.append(2)\n",
        "    elif(k=='dust'):\n",
        "      l.append(3)\n",
        "    temp_weather[key]=l\n",
        "  except:\n",
        "    print(key)"
      ],
      "execution_count": 0,
      "outputs": [
        {
          "output_type": "stream",
          "text": [
            "02-08-2019 24:45:42\n",
            "02-08-2019 24:50:42\n",
            "02-08-2019 24:55:42\n",
            "02-08-2019 24:60:42\n",
            "07-08-2019 08:05:56\n",
            "07-08-2019 08:10:56\n",
            "07-08-2019 08:15:56\n",
            "07-08-2019 08:20:56\n",
            "07-08-2019 08:25:56\n",
            "07-08-2019 08:30:56\n",
            "07-08-2019 08:35:56\n",
            "07-08-2019 08:40:56\n",
            "07-08-2019 08:45:56\n",
            "07-08-2019 08:50:56\n",
            "08-07-2019 02:52:50\n",
            "08-07-2019 02:57:50\n",
            "09-08-2019 05:45:16\n",
            "09-08-2019 05:50:16\n",
            "09-08-2019 05:55:16\n",
            "09-08-2019 05:60:16\n",
            "09-08-2019 06:05:16\n",
            "09-08-2019 06:10:16\n",
            "09-08-2019 06:15:16\n",
            "09-08-2019 06:20:16\n",
            "09-08-2019 06:25:16\n",
            "10-08-2019 02:33:38\n",
            "10-08-2019 02:38:38\n",
            "10-08-2019 02:43:38\n",
            "10-08-2019 02:48:38\n",
            "10-08-2019 02:53:38\n",
            "10-08-2019 03:03:38\n",
            "13-07-2019 12:43:49\n"
          ],
          "name": "stdout"
        }
      ]
    },
    {
      "cell_type": "code",
      "metadata": {
        "id": "Tcp7G_EVVjOd",
        "colab_type": "code",
        "colab": {}
      },
      "source": [
        "## COMBINING ITO DATA \n",
        "\n",
        "with open('/content/past-weather (1) (3).json') as file:\n",
        "  data = json.load(file)\n",
        "  source = data['data']['weather']\n"
      ],
      "execution_count": 0,
      "outputs": []
    },
    {
      "cell_type": "code",
      "metadata": {
        "id": "P25mDZ_1oRSV",
        "colab_type": "code",
        "colab": {}
      },
      "source": [
        "## MATCHING ITO DATA \n",
        "\n",
        "hour_i=[]\n",
        "pres_i=[]\n",
        "temp_i=[]\n",
        "deg_i=[]\n",
        "speed_i=[]\n",
        "\n",
        "ito_weather=[]\n",
        "\n",
        "with open('/content/past-weather (1) (3).json') as file:\n",
        "  data = json.load(file)\n",
        "  source = data['data']['weather']\n",
        "  \n",
        "  for i in source:\n",
        "    for j in range(0,24):\n",
        "      date = i['date']\n",
        "      date = date.split(' ')\n",
        "      date = date[0]\n",
        "      t = date.split('-')\n",
        "      t = t[2]+'-'+t[1]+'-'+t[0]\n",
        "      if(len(str(j))==1):\n",
        "        key = t + ' ' + '0' +str(j) + ':00' \n",
        "      else:\n",
        "        key = t + ' ' +str(j) + ':00'\n",
        "      l=[]\n",
        "      l.append(key)\n",
        "      l.append(i['hourly'][j]['humidity'])\n",
        "      l.append(i['hourly'][j]['tempC'])\n",
        "      l.append(i['hourly'][j]['windspeedKmph'])\n",
        "      l.append(i['hourly'][j]['winddirDegree'])\n",
        "      l.append(i['hourly'][j]['pressure'])\n",
        "      ito_weather.append(l)\n",
        "     "
      ],
      "execution_count": 0,
      "outputs": []
    },
    {
      "cell_type": "code",
      "metadata": {
        "id": "i8o_VjzfuH9l",
        "colab_type": "code",
        "outputId": "6e5d89ec-f14d-4329-b49a-f073610c2c44",
        "colab": {
          "base_uri": "https://localhost:8080/",
          "height": 34
        }
      },
      "source": [
        "print(len(ito_weather))"
      ],
      "execution_count": 0,
      "outputs": [
        {
          "output_type": "stream",
          "text": [
            "216\n"
          ],
          "name": "stdout"
        }
      ]
    },
    {
      "cell_type": "code",
      "metadata": {
        "id": "5ZtEqU5dJqT9",
        "colab_type": "code",
        "colab": {}
      },
      "source": [
        "weather={}\n",
        "for key in temp_weather:\n",
        "  temp=key.split('-')\n",
        "  newtemp=temp[2].split(' ')\n",
        "  newesttemp=newtemp[1].split(':')\n",
        "  j=int(newesttemp[1])\n",
        "  if(j<=7.5):\n",
        "    final = temp[0] + '-' + temp[1] + '-' + newtemp[0] + ' ' + newesttemp[0] + ':' + '00'\n",
        "  elif(j<=15 or j<=22.5):\n",
        "    final = temp[0] + '-' + temp[1] + '-' + newtemp[0] + ' ' + newesttemp[0] + ':' + '15'\n",
        "  elif(j<=30 or j<=37.5):\n",
        "    final = temp[0] + '-' + temp[1] + '-' + newtemp[0] + ' ' + newesttemp[0] + ':' + '30'\n",
        "  elif(j<=45 or j<=52.5):\n",
        "    final = temp[0] + '-' + temp[1] + '-' + newtemp[0] + ' ' + newesttemp[0] + ':' + '45'\n",
        "  elif(j>52.5):\n",
        "    final = temp[0] + '-' + temp[1] + '-' + newtemp[0] + ' ' + newesttemp[0] + ':' + '00'\n",
        "  if(final not in weather):\n",
        "    weather[final]=temp_weather[key]\n",
        "  \n",
        "  "
      ],
      "execution_count": 0,
      "outputs": []
    },
    {
      "cell_type": "code",
      "metadata": {
        "id": "BLPgYsdKh4Kb",
        "colab_type": "code",
        "outputId": "25b114d2-0e92-4e60-e810-1ae01c01838b",
        "colab": {
          "base_uri": "https://localhost:8080/",
          "height": 34
        }
      },
      "source": [
        "print(len(weather))"
      ],
      "execution_count": 0,
      "outputs": [
        {
          "output_type": "stream",
          "text": [
            "4485\n"
          ],
          "name": "stdout"
        }
      ]
    },
    {
      "cell_type": "code",
      "metadata": {
        "id": "FEuHqO0ptX0Z",
        "colab_type": "code",
        "outputId": "b1674371-7066-482a-bfa3-2b02f2cfc39d",
        "colab": {
          "base_uri": "https://localhost:8080/",
          "height": 34
        }
      },
      "source": [
        "print(len(feat))"
      ],
      "execution_count": 0,
      "outputs": [
        {
          "output_type": "stream",
          "text": [
            "1930\n"
          ],
          "name": "stdout"
        }
      ]
    },
    {
      "cell_type": "code",
      "metadata": {
        "id": "lojx00mxzcgp",
        "colab_type": "code",
        "colab": {}
      },
      "source": [
        "\n",
        "# trans=[]\n",
        "# cont=[]\n",
        "# ent=[]\n",
        "# hours=[]\n",
        "# hum=[]\n",
        "# pressure=[]\n",
        "# tempr=[]\n",
        "# deg=[]\n",
        "# speed=[]\n",
        "# omega=[]\n",
        "\n",
        "\n",
        "#cc=[]\n",
        "#vis=[]\n",
        "#desc=[]\n",
        "\n",
        "\n",
        "# pm=[]\n",
        "\n",
        "## COMBINING 1ST 4 LOCATIONS DATA \n",
        "for e in feat:\n",
        "  for w in weather:                             \n",
        "    if(e[0] == w):\n",
        "      hours.append(float(e[0][-5:-3]))\n",
        "      pm.append(float(e[3]))\n",
        "      trans.append(e[4])\n",
        "      ent.append(float(e[1]))\n",
        "      cont.append(float(e[2]))\n",
        "      hum.append(float(weather[w][0]))\n",
        "      pressure.append(float(weather[w][1]))\n",
        "      tempr.append(float(weather[w][2])) \n",
        "      deg.append(float(weather[w][4]))\n",
        "      speed.append(float(weather[w][5]))\n"
      ],
      "execution_count": 0,
      "outputs": []
    },
    {
      "cell_type": "code",
      "metadata": {
        "id": "EH35BQsttcNx",
        "colab_type": "code",
        "outputId": "3a6a8260-0cf5-45f5-acd3-b21fae2fbf60",
        "colab": {
          "base_uri": "https://localhost:8080/",
          "height": 34
        }
      },
      "source": [
        "print(len(hours))"
      ],
      "execution_count": 0,
      "outputs": [
        {
          "output_type": "stream",
          "text": [
            "2416\n"
          ],
          "name": "stdout"
        }
      ]
    },
    {
      "cell_type": "code",
      "metadata": {
        "id": "rXGAKKsKcTLR",
        "colab_type": "code",
        "colab": {}
      },
      "source": [
        "\n",
        "for e in ito_tomatch:\n",
        "  for w in ito_weather: \n",
        "    if(e[0] == w[0]):\n",
        "      hours.append(e[0][-5:-3])\n",
        "      trans.append(e[4])\n",
        "      ent.append(e[1])\n",
        "      cont.append(e[2])\n",
        "      pm.append(e[3])\n",
        "      hum.append(w[1])\n",
        "      tempr.append(w[2])\n",
        "      speed.append(w[3]) \n",
        "      deg.append(w[4])\n",
        "      pressure.append(w[5])\n",
        "\n",
        "  "
      ],
      "execution_count": 0,
      "outputs": []
    },
    {
      "cell_type": "code",
      "metadata": {
        "id": "SVmQqirkUmw5",
        "colab_type": "code",
        "colab": {}
      },
      "source": [
        "# shanghai_weather={}\n",
        "\n",
        "\n",
        "# df_ = pd.read_csv('/content/s_w_d.csv')\n",
        "# data_ = df_.mask(df_.eq('None')).dropna()\n",
        "# file_ = data_.to_csv('/content/s_w_d_new.csv')\n",
        "\n",
        "\n",
        "# with open('/content/s_w_d_new.csv') as file:\n",
        "#   read = csv.reader(file)\n",
        "#   k=0\n",
        "#   for row in read:\n",
        "#     k+=1\n",
        "#     if(k>1):\n",
        "#       if(len(row[3])==1):\n",
        "#         row[3]='0' + str(row[3])\n",
        "#       if(len(row[2])==1):\n",
        "#         row[2]='0' + row[2]\n",
        "#       if(len(row[4])==1):\n",
        "#         row[4]='0' + row[4]\n",
        "        \n",
        "#       temp = row[3] + '-' + row[2] + '-' + row[1] + ' ' + row[4] + ':' + '00'\n",
        "      \n",
        "  \n",
        "#       l=[]\n",
        "#       l.append(row[4])  ##hum\n",
        "#       l.append(row[5])  ##pressure\n",
        "#       l.append(row[6])  ##temp\n",
        "#       l.append(row[7])  ##deg\n",
        "#       l.append(row[8])  ##speed\n",
        "#       l.append(row[9])  ##prec\n",
        "#       shanghai_weather[temp]=l\n",
        "     "
      ],
      "execution_count": 0,
      "outputs": []
    },
    {
      "cell_type": "code",
      "metadata": {
        "id": "h1b87eeQYxf6",
        "colab_type": "code",
        "colab": {}
      },
      "source": [
        "#['27-06-2019 16:00', 0.2370663558652809, 5.071457862854004, 2.468056791148552, '47']\n",
        "\n",
        "# shanghai_final=[]\n",
        "# pm_s=[]\n",
        "# ctr=0\n",
        "# for key in match:\n",
        "#   for w in shanghai_weather:\n",
        "#     if(key[0] == w):\n",
        "#       ctr+=1\n",
        "#       print(ctr)\n",
        "#       l=[]\n",
        "#       l.append(key[0])\n",
        "#       l.append(key[1])\n",
        "#       l.append(float(key[2]))\n",
        "#       l.append(float(key[3]))\n",
        "#       l.append(float(shanghai_weather[w][0]))\n",
        "#       l.append(float(shanghai_weather[w][1]))\n",
        "#       l.append(float(shanghai_weather[w][2]))\n",
        "#       l.append(float(shanghai_weather[w][3]))\n",
        "#       l.append(float(shanghai_weather[w][4]))\n",
        "#       l.append(float(shanghai_weather[w][5]))\n",
        "#       pm_s.append(float(key[5]))\n",
        "#       shanghai_final.append(l)\n",
        "      \n",
        "      \n",
        "      \n",
        "  "
      ],
      "execution_count": 0,
      "outputs": []
    },
    {
      "cell_type": "code",
      "metadata": {
        "id": "eiSEazy0aMeQ",
        "colab_type": "code",
        "colab": {}
      },
      "source": [
        "# hour_s=[]\n",
        "# trans_s=[]\n",
        "# ent_s=[]\n",
        "# cont_s=[]\n",
        "# hum_s=[]\n",
        "# pressure_s=[]\n",
        "# tempr_s=[]\n",
        "# deg_s=[]\n",
        "# speed_s=[]\n",
        "# prec_s=[]\n",
        "# omega_s=[]\n",
        "\n",
        "# for i in shanghai_final:\n",
        "#   hour_s.append(float(i[0][11:13]))\n",
        "#   trans_s.append(i[1])\n",
        "#   ent_s.append(float(i[2]))\n",
        "#   cont_s.append(float(i[3]))\n",
        "#   hum_s.append(float(i[4]))\n",
        "#   pressure_s.append(float(i[5]))\n",
        "#   tempr_s.append(float(i[6]))\n",
        "#   deg_s.append(float(i[7]))\n",
        "#   speed_s.append(float(i[8]))\n",
        "#   prec_s.append(float(i[9]))"
      ],
      "execution_count": 0,
      "outputs": []
    },
    {
      "cell_type": "code",
      "metadata": {
        "id": "zYaK9SwPGgLz",
        "colab_type": "code",
        "colab": {}
      },
      "source": [
        "\n",
        "# print(len(trans_s))\n",
        "# print(len(hour_s))\n",
        "# print(len(cont_s))\n",
        "# print(len(ent_s))\n",
        "# print(len(hum_s))\n",
        "# print(len(pressure_s))\n",
        "# print(len(tempr_s))\n",
        "# print(len(deg_s))\n",
        "# print(len(speed_s))"
      ],
      "execution_count": 0,
      "outputs": []
    },
    {
      "cell_type": "code",
      "metadata": {
        "id": "z4GyhcSIkOq7",
        "colab_type": "code",
        "outputId": "97d010a6-33a4-4364-8438-ee9e93d969a6",
        "colab": {
          "base_uri": "https://localhost:8080/",
          "height": 171
        }
      },
      "source": [
        "print(len(trans))\n",
        "print(len(hours))\n",
        "print(len(cont))\n",
        "print(len(ent))\n",
        "print(len(hum))\n",
        "print(len(pressure))\n",
        "print(len(tempr))\n",
        "print(len(deg))\n",
        "print(len(speed))"
      ],
      "execution_count": 0,
      "outputs": [
        {
          "output_type": "stream",
          "text": [
            "2471\n",
            "2471\n",
            "2471\n",
            "2471\n",
            "2471\n",
            "2471\n",
            "2471\n",
            "2471\n",
            "2471\n"
          ],
          "name": "stdout"
        }
      ]
    },
    {
      "cell_type": "code",
      "metadata": {
        "id": "6oRI0Z3sWLvM",
        "colab_type": "code",
        "outputId": "13c63d3c-835b-4a0a-a4be-74be202b6f45",
        "colab": {
          "base_uri": "https://localhost:8080/",
          "height": 208
        }
      },
      "source": [
        "print(trans)\n",
        "print(hours)\n",
        "print(cont)\n",
        "print(ent)\n",
        "print(hum)\n",
        "print(pressure)\n",
        "print(tempr)\n",
        "print(deg)\n",
        "print(speed)\n",
        "print(pm)"
      ],
      "execution_count": 0,
      "outputs": [
        {
          "output_type": "stream",
          "text": [
            "[1, 1, 1, 3, 2, 1, 1, 2, 2, 2, 2, 2, 2, 2, 2, 2, 2, 1, 2, 1, 2, 1, 1, 1, 1, 2, 2, 1, 2, 2, 1, 2, 2, 2, 2, 3, 1, 1, 1, 2, 2, 2, 2, 2, 2, 1, 2, 1, 2, 2, 1, 2, 1, 2, 3, 1, 3, 1, 1, 2, 2, 2, 2, 2, 1, 1, 2, 2, 2, 2, 3, 2, 2, 2, 2, 2, 1, 1, 1, 1, 2, 2, 2, 2, 2, 2, 2, 3, 2, 2, 2, 2, 2, 2, 2, 2, 1, 2, 2, 2, 1, 2, 2, 1, 2, 2, 2, 2, 2, 2, 2, 2, 2, 2, 2, 2, 2, 2, 2, 2, 2, 2, 2, 1, 2, 1, 1, 1, 1, 2, 1, 2, 2, 2, 1, 1, 2, 2, 2, 2, 2, 2, 2, 2, 2, 2, 2, 2, 2, 2, 2, 2, 2, 1, 2, 2, 2, 2, 2, 2, 2, 2, 2, 2, 1, 2, 2, 2, 2, 1, 2, 1, 1, 1, 2, 2, 2, 1, 2, 1, 2, 1, 1, 2, 1, 2, 2, 2, 1, 1, 2, 2, 2, 2, 2, 2, 2, 2, 2, 2, 2, 2, 2, 1, 2, 2, 2, 3, 2, 2, 2, 2, 2, 3, 2, 2, 3, 2, 2, 2, 2, 3, 2, 2, 2, 2, 2, 2, 2, 3, 3, 2, 2, 2, 2, 2, 2, 2, 2, 2, 2, 2, 2, 2, 2, 2, 2, 2, 2, 2, 2, 2, 2, 2, 1, 1, 2, 2, 1, 1, 1, 1, 1, 1, 1, 1, 1, 1, 1, 1, 1, 2, 1, 1, 1, 1, 1, 1, 2, 2, 2, 2, 2, 2, 2, 2, 2, 2, 2, 1, 1, 1, 1, 1, 1, 1, 1, 1, 1, 1, 1, 1, 1, 0, 1, 1, 1, 2, 5, 0.9959810172352763, 2, 1, 2, 1, 2, 2, 2, 2, 1, 1, 1, 1, 1, 1, 1, 1, 1, 1, 1, 1, 1, 2, 1, 2, 2, 3, 3, 3, 3, 3, 3, 3, 3, 3, 3, 3, 3, 3, 3, 2, 3, 3, 3, 2, 2, 2, 3, 3, 3, 3, 3, 3, 3, 3, 3, 3, 3, 3, 3, 3, 3, 3, 3, 3, 3, 3, 3, 3, 3, 3, 3, 3, 3, 3, 3, 3, 3, 3, 3, 3, 3, 3, 3, 3, 3, 3, 3, 3, 3, 3, 3, 3, 3, 3, 3, 3, 3, 3, 3, 2, 2, 2, 2, 3, 2, 2, 2, 2, 3, 2, 2, 3, 3, 3, 3, 3, 2, 2, 2, 2, 2, 2, 2, 2, 2, 2, 2, 3, 2, 2, 2, 2, 2, 2, 2, 2, 2, 2, 2, 2, 3, 3, 3, 2, 3, 2, 2, 2, 2, 2, 2, 3, 3, 3, 3, 2, 3, 2, 2, 3, 3, 3, 2, 2, 2, 2, 2, 2, 2, 2, 2, 2, 2, 2, 2, 2, 1, 1, 2, 1, 2, 1, 1, 2, 2, 1, 1, 1, 1, 2, 1, 1, 1, 1, 1, 1, 1, 1, 1, 1, 1, 1, 2, 1, 1, 1, 1, 1, 1, 1, 1, 1, 1, 1, 1, 1, 1, 1, 1, 1, 1, 1, 1, 1, 1, 1, 1, 1, 1, 1, 1, 1, 1, 1, 1, 1, 1, 1, 1, 1, 1, 1, 1, 1, 1, 1, 1, 1, 1, 1, 1, 1, 1, 1, 1, 1, 1, 1, 1, 1, 1, 1, 1, 1, 1, 1, 1, 1, 1, 1, 1, 1, 1, 1, 1, 1, 1, 1, 1, 1, 1, 1, 1, 1, 1, 1, 1, 1, 1, 1, 1, 1, 1, 2, 1, 1, 1, 1, 2, 2, 2, 1, 1, 1, 2, 2, 2, 1, 1, 1, 2, 2, 2, 1, 1, 1, 2, 2, 2, 1, 1, 2, 2, 2, 1, 1, 1, 2, 2, 2, 1, 2, 2, 2, 2, 2, 1, 1, 1, 2, 2, 2, 1, 1, 2, 2, 2, 2, 1, 1, 1, 2, 2, 2, 1, 1, 1, 2, 2, 2, 1, 1, 2, 2, 2, 2, 2, 2, 2, 2, 2, 2, 2, 2, 2, 2, 2, 2, 2, 2, 2, 2, 2, 2, 2, 2, 2, 2, 2, 2, 2, 2, 2, 2, 2, 2, 2, 2, 2, 2, 2, 2, 2, 2, 2, 2, 2, 2, 2, 2, 2, 2, 2, 2, 2, 2, 2, 2, 2, 2, 2, 2, 2, 2, 2, 2, 2, 2, 2, 2, 2, 2, 2, 2, 2, 2, 2, 2, 1, 2, 1, 2, 2, 2, 2, 2, 2, 2, 2, 2, 2, 1, 2, 2, 2, 2, 1, 1, 2, 2, 2, 2, 2, 1, 2, 2, 2, 1, 1, 1, 2, 2, 2, 1, 1, 1, 2, 2, 2, 1, 1, 1, 2, 2, 2, 1, 1, 1, 2, 2, 1, 1, 1, 1, 1, 2, 1, 1, 1, 1, 1, 1, 2, 2, 1, 1, 1, 1, 2, 1, 1, 1, 1, 1, 2, 2, 1, 1, 1, 1, 1, 1, 1, 1, 1, 1, 1, 1, 1, 1, 1, 1, 1, 2, 1, 1, 1, 1, 1, 1, 1, 1, 1, 1, 1, 1, 1, 1, 1, 1, 1, 1, 1, 1, 1, 1, 1, 1, 1, 1, 1, 1, 1, 1, 1, 1, 1, 1, 1, 1, 1, 1, 1, 1, 1, 1, 1, 1, 1, 1, 1, 1, 1, 1, 1, 1, 1, 1, 1, 1, 1, 1, 1, 1, 1, 1, 1, 1, 1, 1, 1, 1, 1, 1, 1, 1, 1, 1, 1, 1, 2, 2, 2, 1, 1, 1, 2, 2, 2, 1, 1, 1, 2, 2, 2, 1, 1, 1, 2, 2, 2, 1, 2, 2, 2, 2, 2, 1, 1, 1, 2, 2, 2, 2, 2, 2, 2, 2, 2, 2, 2, 2, 2, 2, 2, 2, 2, 2, 2, 2, 2, 2, 2, 2, 2, 2, 2, 2, 2, 2, 2, 2, 2, 2, 2, 2, 2, 2, 2, 2, 2, 2, 2, 2, 2, 2, 2, 2, 2, 2, 2, 2, 2, 2, 2, 2, 2, 2, 2, 2, 2, 2, 2, 2, 2, 2, 2, 2, 2, 2, 2, 2, 2, 2, 2, 2, 2, 2, 2, 2, 2, 2, 2, 2, 2, 2, 2, 1, 1, 2, 2, 2, 2, 2, 2, 2, 2, 1, 2, 2, 2, 2, 2, 2, 2, 2, 2, 2, 2, 2, 2, 1, 2, 2, 2, 1, 1, 2, 2, 2, 2, 1, 2, 2, 2, 2, 2, 2, 1, 1, 2, 2, 2, 1, 1, 1, 2, 2, 2, 2, 1, 1, 1, 2, 2, 2, 1, 1, 1, 2, 2, 2, 1, 1, 1, 2, 2, 2, 1, 1, 1, 2, 2, 1, 1, 1, 2, 2, 2, 1, 1, 1, 2, 2, 2, 1, 1, 1, 2, 2, 2, 1, 1, 1, 1, 2, 1, 2, 1, 1, 1, 2, 2, 2, 1, 1, 1, 2, 2, 2, 1, 1, 1, 2, 2, 2, 2, 1, 1, 2, 1, 1, 2, 2, 2, 2, 2, 2, 1, 1, 1, 1, 1, 1, 1, 1, 2, 1, 1, 1, 1, 1, 1, 2, 2, 2, 2, 2, 2, 2, 2, 2, 1, 1, 1, 1, 1, 2, 2, 2, 2, 2, 2, 2, 2, 2, 2, 2, 2, 2, 2, 2, 2, 2, 2, 2, 2, 2, 2, 2, 2, 2, 2, 2, 2, 2, 2, 2, 2, 2, 2, 2, 2, 2, 2, 2, 2, 2, 2, 2, 2, 2, 2, 2, 2, 2, 2, 2, 2, 2, 2, 2, 2, 2, 2, 2, 2, 2, 2, 2, 2, 2, 2, 2, 2, 2, 2, 2, 2, 2, 2, 2, 2, 2, 2, 2, 1, 1, 2, 2, 1, 1, 1, 2, 2, 2, 1, 1, 1, 1, 1, 1, 1, 1, 1, 1, 1, 1, 1, 1, 1, 1, 1, 1, 1, 1, 1, 1, 1, 1, 1, 1, 1, 1, 1, 1, 1, 1, 1, 1, 1, 1, 1, 1, 1, 1, 1, 1, 1, 1, 1, 1, 1, 1, 1, 1, 1, 1, 1, 1, 1, 1, 1, 1, 2, 2, 1, 1, 1, 2, 2, 2, 1, 1, 1, 2, 2, 2, 1, 1, 2, 2, 2, 2, 2, 1, 1, 1, 2, 2, 2, 2, 2, 2, 2, 2, 2, 2, 2, 2, 2, 2, 2, 2, 2, 2, 2, 2, 2, 2, 2, 2, 2, 2, 2, 2, 2, 2, 2, 2, 2, 2, 2, 2, 2, 2, 2, 2, 2, 2, 2, 2, 2, 2, 2, 2, 2, 2, 2, 2, 2, 2, 2, 2, 2, 2, 2, 2, 2, 2, 2, 2, 2, 2, 2, 2, 2, 2, 2, 2, 2, 2, 2, 2, 2, 2, 2, 2, 2, 2, 2, 2, 2, 2, 2, 2, 2, 2, 2, 2, 2, 2, 2, 2, 2, 2, 1, 2, 1, 2, 2, 2, 2, 2, 1, 2, 2, 2, 1, 1, 1, 2, 2, 2, 1, 1, 1, 2, 2, 2, 2, 1, 1, 1, 2, 2, 2, 1, 1, 1, 2, 2, 2, 1, 1, 1, 1, 2, 2, 2, 1, 1, 1, 2, 2, 2, 1, 1, 1, 2, 2, 2, 1, 1, 1, 1, 1, 1, 1, 1, 1, 1, 1, 1, 1, 1, 1, 1, 1, 1, 1, 1, 1, 1, 1, 1, 1, 1, 1, 1, 2, 2, 2, 2, 2, 2, 2, 2, 2, 2, 2, 2, 2, 2, 2, 2, 2, 2, 2, 2, 2, 2, 2, 2, 2, 2, 2, 2, 2, 2, 2, 2, 2, 2, 2, 2, 2, 2, 2, 2, 2, 2, 2, 2, 2, 2, 2, 2, 2, 2, 2, 2, 2, 2, 2, 2, 2, 2, 2, 2, 2, 2, 2, 2, 2, 2, 2, 2, 2, 2, 2, 2, 2, 2, 2, 2, 2, 2, 2, 2, 2, 2, 2, 2, 2, 2, 2, 2, 2, 1, 1, 1, 1, 1, 1, 1, 1, 1, 1, 1, 1, 1, 1, 1, 1, 1, 1, 1, 1, 1, 1, 1, 1, 1, 1, 1, 1, 1, 1, 1, 1, 1, 1, 1, 1, 1, 1, 1, 2, 2, 2, 2, 2, 2, 2, 2, 2, 2, 2, 2, 2, 2, 2, 2, 2, 2, 2, 2, 2, 2, 2, 2, 2, 2, 2, 2, 2, 2, 2, 2, 2, 2, 2, 2, 2, 2, 2, 2, 2, 2, 2, 2, 2, 2, 2, 2, 2, 2, 2, 2, 2, 2, 2, 2, 2, 2, 2, 2, 2, 2, 2, 2, 2, 2, 2, 2, 2, 2, 2, 2, 2, 2, 2, 2, 2, 2, 2, 2, 2, 2, 2, 2, 2, 2, 2, 2, 2, 2, 2, 2, 1, 2, 2, 2, 2, 2, 2, 2, 2, 2, 2, 2, 2, 2, 2, 2, 2, 2, 2, 2, 2, 2, 2, 2, 2, 2, 2, 2, 2, 1, 1, 1, 2, 1, 2, 1, 1, 1, 1, 1, 1, 1, 2, 2, 1, 1, 1, 1, 2, 2, 2, 2, 2, 2, 2, 2, 2, 2, 2, 2, 2, 2, 2, 2, 2, 2, 2, 2, 2, 2, 2, 2, 2, 2, 2, 2, 2, 2, 2, 2, 2, 2, 2, 2, 2, 2, 2, 2, 2, 2, 2, 2, 2, 2, 2, 2, 2, 2, 2, 2, 2, 2, 2, 2, 2, 2, 2, 2, 2, 2, 2, 2, 2, 2, 2, 2, 2, 2, 2, 2, 2, 2, 2, 2, 2, 2, 2, 2, 2, 2, 2, 2, 2, 2, 2, 2, 2, 1, 2, 2, 2, 2, 2, 2, 2, 2, 2, 2, 2, 2, 2, 2, 2, 2, 2, 2, 2, 2, 2, 1, 1, 2, 2, 2, 2, 1, 1, 2, 2, 2, 2, 2, 2, 2, 2, 2, 2, 2, 2, 2, 2, 2, 2, 2, 2, 1, 1, 2, 2, 2, 2, 2, 2, 1, 1, 1, 1, 1, 1, 1, 1, 1, 1, 1, 1, 1, 1, 1, 1, 1, 1, 1, 1, 1, 1, 1, 1, 1, 1, 2, 2, 2, 2, 2, 2, 2, 2, 2, 2, 2, 2, 2, 2, 2, 2, 2, 2, 2, 2, 2, 2, 2, 2, 2, 1, 2, 1, 2, 2, 2, 2, 2, 2, 2, 2, 2, 2, 2, 2, 2, 2, 2, 2, 2, 2, 2, 2, 2, 2, 2, 2, 2, 2, 2, 2, 2, 2, 2, 2, 2, 2, 2, 2, 2, 2, 2, 2, 2, 2, 2, 2, 2, 2, 2, 2, 2, 2, 2, 2, 2, 2, 2, 2, 2, 2, 2, 2, 2, 2, 2, 2, 2, 2, 2, 2, 2, 2, 2, 2, 2, 2, 2, 2, 2, 2, 2, 2, 2, 2, 2, 2, 2, 2, 2, 2, 2, 2, 2, 2, 2, 2, 2, 2, 2, 2, 2, 2, 2, 2, 2, 2, 2, 2, 2, 2, 2, 2, 2, 2, 2, 2, 2, 2, 2, 2, 2, 2, 2, 2, 2, 2, 2, 2, 2, 2, 2, 2, 2, 2, 2, 2, 2, 2, 2, 2, 2, 2, 2, 2, 2, 2, 2, 2, 2, 2, 2, 2, 2, 2, 2, 2, 2, 1, 1, 1, 1, 1, 1, 1, 1, 1, 1, 1, 1, 1, 1, 1, 1, 1, 1, 1, 1, 1, 1, 1, 1, 1, 1, 1, 1, 1, 1, 1, 1, 1, 1, 1, 1, 1, 1, 1, 1, 1, 1, 1, 1, 1, 1, 1, 1, 1, 1, 1, 1, 1, 1, 1, 1, 1, 1, 1, 1, 1, 1, 1, 1, 1, 1, 1, 1, 1, 1, 1, 1, 1, 1, 1, 1, 1, 1, 1, 1, 1, 1, 1, 1, 1, 1, 1, 1, 1, 1, 1, 1, 1, 1, 1, 1, 1, 1, 1, 1, 1, 1, 1, 1, 1, 1, 1, 2, 1, 1, 1, 1, 1, 1, 1, 1, 1, 1, 1, 1, 1, 1, 1, 1, 1, 1, 1, 1, 1, 1, 1, 1, 1, 1, 1, 1, 1, 1, 1, 1, 1, 1, 1, 1, 1, 1, 1, 1, 1, 1, 1, 1, 1, 1, 1, 1, 1, 1, 1, 1, 1, 1, 1, 1, 1, 1, 1, 1, 1, 1, 1, 1, 1, 1, 1, 1, 1, 1, 1, 1, 1, 1, 1, 1, 1, 1, 1, 1, 1, 1, 1, 1, 1, 1, 1, 1, 1, 1, 1, 1, 1, 1, 1, 1, 1, 1, 1, 1, 1, 1, 1, 1, 1, 1, 1, 1, 1, 1, 1, 1, 1, 1, 1, 1, 1, 1, 1, 1, 1, 1, 1, 1, 1, 1, 1, 1, 1, 1, 1, 1, 1, 1, 1, 1, 2, 2, 2, 2, 2, 2, 2, 2, 1, 1, 1, 1, 2, 2, 2, 2, 2, 2, 2, 2, 2, 2, 2, 2, 2, 2, 2, 2, 1, 2, 1, 1, 1, 2, 2, 2, 2, 2, 2, 2, 2, 1, 2, 1, 2, 2, 2, 2, 2, 2, 2, 2, 2, 2, 2]\n",
            "[10.0, 10.0, 11.0, 13.0, 15.0, 15.0, 15.0, 16.0, 16.0, 16.0, 16.0, 16.0, 16.0, 16.0, 16.0, 16.0, 16.0, 16.0, 10.0, 11.0, 12.0, 12.0, 12.0, 12.0, 12.0, 12.0, 12.0, 13.0, 13.0, 13.0, 13.0, 13.0, 13.0, 13.0, 13.0, 13.0, 14.0, 14.0, 14.0, 14.0, 14.0, 14.0, 14.0, 14.0, 14.0, 14.0, 14.0, 14.0, 14.0, 14.0, 14.0, 15.0, 15.0, 15.0, 15.0, 15.0, 15.0, 15.0, 15.0, 15.0, 15.0, 15.0, 8.0, 8.0, 8.0, 8.0, 9.0, 9.0, 9.0, 9.0, 9.0, 9.0, 9.0, 9.0, 9.0, 9.0, 9.0, 9.0, 9.0, 13.0, 13.0, 13.0, 13.0, 13.0, 13.0, 13.0, 14.0, 14.0, 14.0, 14.0, 14.0, 14.0, 14.0, 14.0, 14.0, 14.0, 15.0, 16.0, 16.0, 16.0, 16.0, 16.0, 16.0, 18.0, 13.0, 13.0, 13.0, 13.0, 13.0, 13.0, 13.0, 13.0, 14.0, 14.0, 14.0, 14.0, 14.0, 14.0, 14.0, 14.0, 14.0, 14.0, 14.0, 14.0, 12.0, 12.0, 12.0, 12.0, 12.0, 12.0, 12.0, 12.0, 13.0, 13.0, 13.0, 13.0, 13.0, 13.0, 13.0, 13.0, 13.0, 13.0, 13.0, 13.0, 13.0, 13.0, 13.0, 13.0, 13.0, 13.0, 13.0, 14.0, 14.0, 14.0, 14.0, 14.0, 14.0, 14.0, 14.0, 14.0, 14.0, 14.0, 14.0, 15.0, 15.0, 15.0, 15.0, 15.0, 15.0, 15.0, 15.0, 15.0, 15.0, 15.0, 15.0, 15.0, 15.0, 15.0, 15.0, 15.0, 15.0, 15.0, 15.0, 16.0, 16.0, 16.0, 16.0, 16.0, 12.0, 13.0, 13.0, 13.0, 13.0, 13.0, 13.0, 13.0, 14.0, 14.0, 14.0, 14.0, 14.0, 14.0, 14.0, 14.0, 10.0, 10.0, 11.0, 11.0, 11.0, 11.0, 11.0, 11.0, 11.0, 11.0, 11.0, 11.0, 11.0, 11.0, 12.0, 12.0, 12.0, 12.0, 12.0, 12.0, 12.0, 12.0, 12.0, 12.0, 12.0, 13.0, 13.0, 13.0, 13.0, 13.0, 13.0, 13.0, 13.0, 13.0, 13.0, 13.0, 13.0, 13.0, 14.0, 14.0, 14.0, 14.0, 14.0, 14.0, 14.0, 14.0, 14.0, 14.0, 14.0, 14.0, 15.0, 15.0, 15.0, 15.0, 15.0, 15.0, 15.0, 15.0, 15.0, 15.0, 15.0, 15.0, 16.0, 16.0, 16.0, 16.0, 16.0, 16.0, 16.0, 16.0, 16.0, 16.0, 16.0, 16.0, 17.0, 17.0, 17.0, 17.0, 17.0, 17.0, 17.0, 17.0, 17.0, 17.0, 17.0, 17.0, 18.0, 18.0, 18.0, 18.0, 18.0, 18.0, 18.0, 18.0, 18.0, 18.0, 18.0, 18.0, 13.0, 13.0, 15.0, 15.0, 15.0, 15.0, 15.0, 15.0, 16.0, 16.0, 16.0, 17.0, 17.0, 17.0, 17.0, 17.0, 17.0, 17.0, 17.0, 17.0, 17.0, 18.0, 18.0, 18.0, 18.0, 18.0, 18.0, 18.0, 18.0, 18.0, 18.0, 18.0, 18.0, 6.0, 6.0, 6.0, 6.0, 6.0, 6.0, 6.0, 6.0, 6.0, 6.0, 6.0, 6.0, 7.0, 7.0, 7.0, 7.0, 7.0, 7.0, 7.0, 7.0, 7.0, 7.0, 7.0, 7.0, 8.0, 8.0, 8.0, 8.0, 8.0, 8.0, 8.0, 8.0, 8.0, 8.0, 8.0, 9.0, 9.0, 9.0, 9.0, 9.0, 9.0, 9.0, 9.0, 9.0, 9.0, 9.0, 9.0, 10.0, 10.0, 10.0, 10.0, 10.0, 10.0, 10.0, 10.0, 10.0, 10.0, 10.0, 10.0, 11.0, 11.0, 11.0, 11.0, 11.0, 11.0, 11.0, 11.0, 11.0, 11.0, 11.0, 11.0, 12.0, 12.0, 12.0, 12.0, 12.0, 12.0, 12.0, 12.0, 12.0, 12.0, 12.0, 12.0, 13.0, 13.0, 13.0, 13.0, 13.0, 13.0, 13.0, 13.0, 13.0, 14.0, 14.0, 14.0, 14.0, 14.0, 14.0, 14.0, 14.0, 14.0, 14.0, 14.0, 14.0, 15.0, 15.0, 15.0, 15.0, 15.0, 15.0, 15.0, 15.0, 15.0, 15.0, 15.0, 15.0, 16.0, 16.0, 16.0, 16.0, 16.0, 16.0, 16.0, 16.0, 16.0, 16.0, 16.0, 16.0, 17.0, 17.0, 17.0, 17.0, 17.0, 17.0, 17.0, 17.0, 17.0, 17.0, 17.0, 18.0, 18.0, 18.0, 18.0, 18.0, 18.0, 18.0, 18.0, 18.0, 18.0, 18.0, 18.0, 16.0, 16.0, 16.0, 16.0, 16.0, 16.0, 17.0, 17.0, 17.0, 17.0, 17.0, 17.0, 17.0, 17.0, 17.0, 17.0, 17.0, 17.0, 17.0, 17.0, 17.0, 18.0, 18.0, 18.0, 18.0, 18.0, 18.0, 18.0, 18.0, 18.0, 18.0, 18.0, 18.0, 18.0, 18.0, 18.0, 18.0, 18.0, 18.0, 18.0, 18.0, 18.0, 18.0, 18.0, 18.0, 6.0, 6.0, 6.0, 6.0, 6.0, 6.0, 6.0, 6.0, 6.0, 6.0, 6.0, 6.0, 6.0, 6.0, 6.0, 6.0, 6.0, 6.0, 6.0, 6.0, 6.0, 6.0, 6.0, 6.0, 7.0, 7.0, 7.0, 7.0, 7.0, 7.0, 7.0, 7.0, 7.0, 7.0, 7.0, 7.0, 7.0, 7.0, 7.0, 7.0, 7.0, 7.0, 7.0, 7.0, 7.0, 7.0, 7.0, 7.0, 7.0, 8.0, 8.0, 8.0, 8.0, 8.0, 8.0, 8.0, 8.0, 8.0, 8.0, 8.0, 8.0, 8.0, 8.0, 8.0, 8.0, 8.0, 8.0, 8.0, 8.0, 8.0, 8.0, 8.0, 8.0, 9.0, 9.0, 9.0, 9.0, 9.0, 9.0, 9.0, 9.0, 9.0, 9.0, 9.0, 9.0, 9.0, 9.0, 9.0, 9.0, 9.0, 9.0, 9.0, 9.0, 9.0, 9.0, 9.0, 9.0, 9.0, 10.0, 10.0, 10.0, 10.0, 10.0, 10.0, 10.0, 10.0, 10.0, 10.0, 10.0, 10.0, 10.0, 10.0, 10.0, 10.0, 10.0, 10.0, 10.0, 10.0, 10.0, 10.0, 10.0, 11.0, 11.0, 11.0, 11.0, 11.0, 11.0, 11.0, 11.0, 11.0, 11.0, 11.0, 11.0, 11.0, 11.0, 11.0, 11.0, 11.0, 11.0, 11.0, 11.0, 11.0, 11.0, 11.0, 11.0, 12.0, 12.0, 12.0, 12.0, 12.0, 12.0, 12.0, 12.0, 12.0, 12.0, 12.0, 12.0, 12.0, 12.0, 12.0, 12.0, 12.0, 12.0, 12.0, 12.0, 12.0, 12.0, 12.0, 13.0, 13.0, 13.0, 13.0, 13.0, 13.0, 13.0, 13.0, 13.0, 13.0, 13.0, 13.0, 13.0, 13.0, 13.0, 13.0, 13.0, 13.0, 13.0, 13.0, 13.0, 13.0, 13.0, 13.0, 13.0, 14.0, 14.0, 14.0, 14.0, 14.0, 14.0, 14.0, 14.0, 14.0, 14.0, 14.0, 14.0, 14.0, 14.0, 14.0, 14.0, 14.0, 14.0, 14.0, 14.0, 14.0, 14.0, 14.0, 14.0, 15.0, 15.0, 15.0, 15.0, 15.0, 15.0, 15.0, 15.0, 15.0, 15.0, 15.0, 15.0, 15.0, 15.0, 15.0, 15.0, 15.0, 15.0, 15.0, 15.0, 15.0, 15.0, 15.0, 16.0, 16.0, 16.0, 16.0, 16.0, 16.0, 16.0, 16.0, 16.0, 16.0, 16.0, 16.0, 16.0, 16.0, 16.0, 16.0, 16.0, 16.0, 16.0, 16.0, 16.0, 16.0, 16.0, 16.0, 17.0, 17.0, 17.0, 17.0, 17.0, 17.0, 17.0, 17.0, 17.0, 17.0, 17.0, 17.0, 17.0, 17.0, 17.0, 17.0, 17.0, 17.0, 17.0, 17.0, 17.0, 17.0, 17.0, 17.0, 17.0, 18.0, 18.0, 18.0, 18.0, 18.0, 18.0, 18.0, 18.0, 18.0, 18.0, 18.0, 18.0, 18.0, 18.0, 18.0, 18.0, 18.0, 18.0, 18.0, 18.0, 18.0, 18.0, 18.0, 18.0, 6.0, 6.0, 6.0, 6.0, 6.0, 6.0, 6.0, 6.0, 6.0, 6.0, 6.0, 6.0, 6.0, 6.0, 6.0, 6.0, 6.0, 6.0, 6.0, 6.0, 6.0, 6.0, 6.0, 6.0, 7.0, 7.0, 7.0, 7.0, 7.0, 7.0, 7.0, 7.0, 7.0, 7.0, 7.0, 7.0, 7.0, 7.0, 7.0, 7.0, 7.0, 7.0, 7.0, 7.0, 7.0, 7.0, 7.0, 7.0, 8.0, 8.0, 8.0, 8.0, 8.0, 8.0, 8.0, 8.0, 8.0, 8.0, 8.0, 8.0, 8.0, 8.0, 8.0, 8.0, 8.0, 8.0, 8.0, 8.0, 8.0, 8.0, 8.0, 8.0, 9.0, 9.0, 9.0, 9.0, 9.0, 9.0, 9.0, 9.0, 9.0, 9.0, 9.0, 9.0, 9.0, 9.0, 9.0, 9.0, 9.0, 9.0, 9.0, 9.0, 9.0, 9.0, 9.0, 9.0, 9.0, 10.0, 10.0, 10.0, 10.0, 10.0, 10.0, 10.0, 10.0, 10.0, 10.0, 10.0, 10.0, 10.0, 10.0, 10.0, 10.0, 10.0, 10.0, 10.0, 10.0, 10.0, 10.0, 10.0, 10.0, 11.0, 11.0, 11.0, 11.0, 11.0, 11.0, 11.0, 11.0, 11.0, 11.0, 11.0, 11.0, 11.0, 11.0, 11.0, 11.0, 11.0, 11.0, 11.0, 11.0, 11.0, 11.0, 11.0, 12.0, 12.0, 12.0, 12.0, 12.0, 12.0, 12.0, 12.0, 12.0, 12.0, 12.0, 12.0, 12.0, 12.0, 12.0, 12.0, 12.0, 12.0, 12.0, 12.0, 12.0, 12.0, 12.0, 12.0, 12.0, 13.0, 13.0, 13.0, 13.0, 13.0, 13.0, 13.0, 13.0, 13.0, 13.0, 13.0, 13.0, 13.0, 13.0, 13.0, 13.0, 13.0, 13.0, 13.0, 13.0, 13.0, 13.0, 13.0, 13.0, 14.0, 14.0, 14.0, 14.0, 14.0, 14.0, 14.0, 14.0, 14.0, 14.0, 14.0, 14.0, 14.0, 14.0, 14.0, 14.0, 14.0, 14.0, 14.0, 14.0, 14.0, 14.0, 15.0, 15.0, 15.0, 15.0, 15.0, 15.0, 15.0, 15.0, 15.0, 15.0, 15.0, 15.0, 15.0, 15.0, 15.0, 15.0, 15.0, 15.0, 15.0, 15.0, 15.0, 15.0, 15.0, 15.0, 16.0, 16.0, 16.0, 16.0, 16.0, 16.0, 16.0, 16.0, 16.0, 16.0, 16.0, 16.0, 16.0, 16.0, 16.0, 16.0, 16.0, 16.0, 16.0, 16.0, 16.0, 16.0, 16.0, 16.0, 16.0, 17.0, 17.0, 17.0, 17.0, 17.0, 17.0, 17.0, 17.0, 17.0, 17.0, 17.0, 17.0, 17.0, 17.0, 17.0, 17.0, 17.0, 17.0, 17.0, 17.0, 17.0, 17.0, 17.0, 18.0, 18.0, 18.0, 18.0, 18.0, 18.0, 18.0, 18.0, 18.0, 18.0, 18.0, 18.0, 18.0, 18.0, 18.0, 18.0, 18.0, 18.0, 18.0, 18.0, 18.0, 18.0, 18.0, 18.0, 18.0, 6.0, 6.0, 6.0, 6.0, 6.0, 6.0, 6.0, 6.0, 6.0, 6.0, 6.0, 6.0, 6.0, 6.0, 6.0, 6.0, 6.0, 6.0, 7.0, 7.0, 7.0, 7.0, 7.0, 7.0, 7.0, 7.0, 7.0, 7.0, 7.0, 7.0, 8.0, 8.0, 8.0, 8.0, 8.0, 8.0, 8.0, 8.0, 8.0, 9.0, 9.0, 9.0, 9.0, 9.0, 9.0, 9.0, 9.0, 9.0, 10.0, 10.0, 10.0, 10.0, 10.0, 10.0, 10.0, 10.0, 10.0, 11.0, 11.0, 11.0, 11.0, 11.0, 11.0, 11.0, 11.0, 11.0, 11.0, 12.0, 12.0, 12.0, 12.0, 12.0, 12.0, 12.0, 12.0, 12.0, 13.0, 13.0, 13.0, 13.0, 13.0, 13.0, 13.0, 13.0, 13.0, 14.0, 14.0, 14.0, 14.0, 14.0, 14.0, 14.0, 14.0, 14.0, 15.0, 15.0, 15.0, 15.0, 15.0, 15.0, 15.0, 15.0, 16.0, 16.0, 16.0, 16.0, 16.0, 16.0, 16.0, 16.0, 16.0, 16.0, 17.0, 17.0, 17.0, 17.0, 17.0, 17.0, 17.0, 17.0, 18.0, 18.0, 18.0, 18.0, 18.0, 18.0, 18.0, 18.0, 18.0, 18.0, 6.0, 6.0, 6.0, 6.0, 6.0, 6.0, 6.0, 6.0, 6.0, 6.0, 6.0, 6.0, 6.0, 6.0, 6.0, 6.0, 6.0, 6.0, 6.0, 7.0, 7.0, 7.0, 7.0, 7.0, 7.0, 7.0, 7.0, 7.0, 7.0, 7.0, 7.0, 7.0, 7.0, 7.0, 7.0, 7.0, 7.0, 8.0, 8.0, 8.0, 8.0, 8.0, 8.0, 8.0, 8.0, 8.0, 8.0, 8.0, 8.0, 8.0, 8.0, 8.0, 8.0, 8.0, 8.0, 9.0, 9.0, 9.0, 9.0, 9.0, 9.0, 9.0, 9.0, 9.0, 9.0, 9.0, 9.0, 9.0, 9.0, 9.0, 9.0, 9.0, 10.0, 10.0, 10.0, 10.0, 10.0, 10.0, 10.0, 10.0, 10.0, 10.0, 10.0, 10.0, 10.0, 10.0, 10.0, 10.0, 10.0, 10.0, 10.0, 11.0, 11.0, 11.0, 11.0, 11.0, 11.0, 11.0, 11.0, 11.0, 11.0, 11.0, 11.0, 11.0, 11.0, 11.0, 11.0, 11.0, 11.0, 12.0, 12.0, 12.0, 12.0, 12.0, 12.0, 12.0, 12.0, 12.0, 12.0, 12.0, 12.0, 12.0, 12.0, 12.0, 12.0, 12.0, 13.0, 13.0, 13.0, 13.0, 13.0, 13.0, 13.0, 13.0, 13.0, 13.0, 13.0, 13.0, 13.0, 13.0, 13.0, 13.0, 13.0, 13.0, 13.0, 14.0, 14.0, 14.0, 14.0, 14.0, 14.0, 14.0, 14.0, 14.0, 14.0, 14.0, 14.0, 14.0, 14.0, 14.0, 14.0, 14.0, 14.0, 15.0, 15.0, 15.0, 15.0, 15.0, 15.0, 15.0, 15.0, 15.0, 15.0, 15.0, 15.0, 15.0, 15.0, 15.0, 15.0, 15.0, 16.0, 16.0, 16.0, 16.0, 16.0, 16.0, 16.0, 16.0, 16.0, 16.0, 16.0, 16.0, 16.0, 16.0, 16.0, 16.0, 16.0, 16.0, 17.0, 17.0, 17.0, 17.0, 17.0, 17.0, 17.0, 17.0, 17.0, 17.0, 17.0, 17.0, 17.0, 17.0, 17.0, 17.0, 17.0, 17.0, 17.0, 18.0, 18.0, 18.0, 18.0, 18.0, 18.0, 18.0, 18.0, 18.0, 18.0, 18.0, 18.0, 18.0, 18.0, 18.0, 18.0, 18.0, 18.0, 18.0, 6.0, 6.0, 6.0, 6.0, 6.0, 6.0, 6.0, 6.0, 6.0, 7.0, 7.0, 7.0, 7.0, 7.0, 7.0, 7.0, 7.0, 7.0, 8.0, 8.0, 8.0, 8.0, 8.0, 8.0, 8.0, 8.0, 8.0, 9.0, 9.0, 9.0, 9.0, 9.0, 9.0, 9.0, 9.0, 9.0, 10.0, 10.0, 10.0, 10.0, 10.0, 10.0, 10.0, 10.0, 11.0, 11.0, 11.0, 11.0, 11.0, 11.0, 11.0, 11.0, 11.0, 11.0, 12.0, 12.0, 12.0, 12.0, 12.0, 12.0, 12.0, 12.0, 13.0, 13.0, 13.0, 13.0, 13.0, 13.0, 13.0, 13.0, 13.0, 14.0, 14.0, 14.0, 14.0, 14.0, 14.0, 14.0, 14.0, 14.0, 15.0, 15.0, 15.0, 15.0, 15.0, 15.0, 15.0, 15.0, 15.0, 16.0, 16.0, 16.0, 16.0, 16.0, 16.0, 16.0, 16.0, 16.0, 17.0, 17.0, 17.0, 17.0, 17.0, 17.0, 17.0, 17.0, 17.0, 18.0, 18.0, 18.0, 18.0, 18.0, 18.0, 18.0, 18.0, 18.0, 18.0, 6.0, 6.0, 6.0, 6.0, 16.0, 16.0, 16.0, 16.0, 16.0, 16.0, 16.0, 16.0, 16.0, 16.0, 17.0, 17.0, 17.0, 17.0, 17.0, 17.0, 17.0, 17.0, 17.0, 17.0, 17.0, 17.0, 18.0, 18.0, 18.0, 18.0, 18.0, 18.0, 18.0, 18.0, 18.0, 18.0, 18.0, 18.0, 18.0, 6.0, 6.0, 6.0, 6.0, 6.0, 6.0, 6.0, 6.0, 6.0, 6.0, 6.0, 6.0, 6.0, 7.0, 7.0, 7.0, 7.0, 7.0, 7.0, 7.0, 7.0, 7.0, 7.0, 7.0, 7.0, 8.0, 8.0, 8.0, 8.0, 8.0, 8.0, 8.0, 8.0, 8.0, 8.0, 8.0, 8.0, 9.0, 9.0, 9.0, 9.0, 9.0, 9.0, 9.0, 9.0, 9.0, 9.0, 9.0, 9.0, 10.0, 10.0, 10.0, 10.0, 10.0, 10.0, 10.0, 10.0, 10.0, 10.0, 10.0, 10.0, 11.0, 11.0, 11.0, 11.0, 11.0, 11.0, 11.0, 11.0, 11.0, 11.0, 11.0, 11.0, 12.0, 12.0, 12.0, 12.0, 12.0, 12.0, 12.0, 12.0, 12.0, 12.0, 12.0, 13.0, 13.0, 13.0, 13.0, 13.0, 13.0, 13.0, 13.0, 13.0, 13.0, 13.0, 13.0, 13.0, 14.0, 14.0, 14.0, 14.0, 14.0, 14.0, 14.0, 14.0, 14.0, 14.0, 14.0, 14.0, 15.0, 15.0, 15.0, 15.0, 15.0, 15.0, 15.0, 15.0, 15.0, 15.0, 15.0, 15.0, 16.0, 16.0, 16.0, 16.0, 16.0, 16.0, 16.0, 16.0, 16.0, 16.0, 16.0, 16.0, 17.0, 17.0, 17.0, 17.0, 17.0, 17.0, 17.0, 17.0, 17.0, 17.0, 17.0, 17.0, 18.0, 18.0, 18.0, 18.0, 18.0, 18.0, 18.0, 18.0, 18.0, 18.0, 18.0, 6.0, 6.0, 6.0, 6.0, 6.0, 6.0, 6.0, 6.0, 6.0, 6.0, 6.0, 6.0, 7.0, 7.0, 7.0, 7.0, 7.0, 7.0, 7.0, 7.0, 7.0, 7.0, 7.0, 7.0, 8.0, 8.0, 8.0, 8.0, 8.0, 8.0, 8.0, 8.0, 8.0, 8.0, 8.0, 8.0, 9.0, 9.0, 9.0, 9.0, 9.0, 9.0, 9.0, 9.0, 9.0, 9.0, 9.0, 10.0, 10.0, 10.0, 10.0, 10.0, 10.0, 10.0, 10.0, 10.0, 10.0, 10.0, 10.0, 10.0, 11.0, 11.0, 11.0, 11.0, 11.0, 11.0, 11.0, 11.0, 11.0, 11.0, 11.0, 12.0, 12.0, 12.0, 12.0, 12.0, 12.0, 12.0, 12.0, 12.0, 12.0, 12.0, 12.0, 12.0, 13.0, 13.0, 13.0, 13.0, 13.0, 13.0, 13.0, 13.0, 13.0, 13.0, 13.0, 14.0, 14.0, 14.0, 14.0, 14.0, 14.0, 14.0, 14.0, 14.0, 14.0, 14.0, 14.0, 15.0, 15.0, 15.0, 15.0, 15.0, 15.0, 15.0, 15.0, 15.0, 15.0, 15.0, 15.0, 16.0, 16.0, 16.0, 16.0, 16.0, 16.0, 16.0, 16.0, 16.0, 16.0, 16.0, 16.0, 16.0, 17.0, 17.0, 17.0, 17.0, 17.0, 17.0, 17.0, 17.0, 17.0, 17.0, 17.0, 18.0, 18.0, 18.0, 18.0, 18.0, 18.0, 18.0, 18.0, 18.0, 18.0, 18.0, 18.0, 6.0, 6.0, 6.0, 6.0, 6.0, 6.0, 6.0, 6.0, 6.0, 6.0, 6.0, 6.0, 7.0, 7.0, 7.0, 7.0, 7.0, 7.0, 7.0, 7.0, 7.0, 9.0, 10.0, 12.0, 12.0, 12.0, 12.0, 13.0, 13.0, 13.0, 13.0, 13.0, 13.0, 13.0, 13.0, 13.0, 13.0, 13.0, 13.0, 13.0, 13.0, 13.0, 13.0, 13.0, 13.0, 13.0, 13.0, 14.0, 14.0, 14.0, 14.0, 14.0, 14.0, 14.0, 14.0, 14.0, 14.0, 14.0, 14.0, 14.0, 14.0, 14.0, 14.0, 14.0, 14.0, 14.0, 14.0, 15.0, 15.0, 15.0, 15.0, 15.0, 15.0, 15.0, 15.0, 15.0, 15.0, 15.0, 15.0, 15.0, 15.0, 15.0, 15.0, 15.0, 15.0, 15.0, 16.0, 16.0, 16.0, 16.0, 16.0, 16.0, 16.0, 16.0, 16.0, 16.0, 16.0, 16.0, 16.0, 16.0, 16.0, 16.0, 16.0, 16.0, 16.0, 16.0, 17.0, 17.0, 17.0, 17.0, 17.0, 17.0, 17.0, 17.0, 17.0, 17.0, 17.0, 17.0, 17.0, 17.0, 17.0, 17.0, 17.0, 17.0, 17.0, 17.0, 18.0, 18.0, 18.0, 18.0, 18.0, 18.0, 18.0, 18.0, 18.0, 18.0, 18.0, 18.0, 18.0, 18.0, 18.0, 18.0, 18.0, 18.0, 18.0, 18.0, 6.0, 6.0, 6.0, 6.0, 7.0, 7.0, 7.0, 7.0, 8.0, 8.0, 8.0, 8.0, 9.0, 9.0, 9.0, 9.0, 10.0, 10.0, 10.0, 10.0, 11.0, 11.0, 11.0, 11.0, 12.0, 12.0, 12.0, 13.0, 13.0, 13.0, 13.0, 14.0, 14.0, 14.0, 14.0, 14.0, 14.0, 6.0, 6.0, 6.0, 6.0, 6.0, 6.0, 6.0, 6.0, 6.0, 6.0, 6.0, 6.0, 7.0, 7.0, 7.0, 7.0, 7.0, 7.0, 7.0, 7.0, 7.0, 7.0, 7.0, 7.0, 8.0, 8.0, 8.0, 8.0, 8.0, 8.0, 8.0, 8.0, 8.0, 8.0, 8.0, 8.0, 9.0, 9.0, 9.0, 9.0, 9.0, 9.0, 9.0, 9.0, 9.0, 9.0, 9.0, 9.0, 10.0, 10.0, 10.0, 10.0, 10.0, 10.0, 10.0, 10.0, 10.0, 10.0, 10.0, 10.0, 11.0, 11.0, 11.0, 11.0, 11.0, 11.0, 11.0, 11.0, 11.0, 11.0, 11.0, 11.0, 12.0, 12.0, 12.0, 12.0, 12.0, 12.0, 12.0, 12.0, 12.0, 12.0, 12.0, 12.0, 13.0, 13.0, 13.0, 13.0, 13.0, 13.0, 13.0, 13.0, 13.0, 13.0, 13.0, 13.0, 14.0, 14.0, 14.0, 14.0, 14.0, 14.0, 14.0, 14.0, 14.0, 14.0, 14.0, 14.0, 15.0, 15.0, 15.0, 15.0, 15.0, 15.0, 15.0, 15.0, 15.0, 15.0, 15.0, 15.0, 16.0, 16.0, 16.0, 16.0, 16.0, 16.0, 16.0, 16.0, 16.0, 16.0, 16.0, 16.0, 17.0, 17.0, 17.0, 17.0, 17.0, 17.0, 17.0, 17.0, 17.0, 17.0, 17.0, 17.0, 18.0, 18.0, 18.0, 18.0, 18.0, 18.0, 18.0, 18.0, 18.0, 18.0, 18.0, 18.0, 6.0, 6.0, 6.0, 6.0, 6.0, 6.0, 6.0, 6.0, 6.0, 6.0, 6.0, 6.0, 7.0, 7.0, 7.0, 7.0, 7.0, 7.0, 7.0, 7.0, 7.0, 7.0, 7.0, 7.0, 8.0, 8.0, 8.0, 8.0, 8.0, 8.0, 8.0, 8.0, 8.0, 8.0, 8.0, 8.0, 9.0, 9.0, 9.0, 9.0, 9.0, 9.0, 9.0, 9.0, 9.0, 9.0, 9.0, 9.0, 10.0, 10.0, 10.0, 10.0, 10.0, 10.0, 10.0, 10.0, 10.0, 10.0, 10.0, 10.0, 11.0, 11.0, 11.0, 11.0, 11.0, 11.0, 11.0, 11.0, 11.0, 11.0, 11.0, 11.0, 12.0, 12.0, 12.0, 12.0, 12.0, 12.0, 12.0, 12.0, 12.0, 12.0, 12.0, 12.0, 13.0, 13.0, 13.0, 13.0, '06', '07', '08', '09', '10', '12', '12', '13', '16', '16', '17', '18', '18', '06', '06', '07', '08', '09', '10', '06', '06', '07', '11', '12', '12', '12', '13', '13', '15', '16', '16', '18', '18', '06', '08', '08', '08', '09', '09', '14', '15', '15', '16', '17', '18', '06', '07', '08', '10', '10', '12', '13', '14', '15', '16']\n",
            "[13.988058316798687, 13.011225805526196, 72.93656036709747, 35.950088737028686, 77.1516869870556, 83.68864852792969, 82.21006548149384, 62.01478424259648, 67.14272841626783, 74.12818517502174, 67.38486811854757, 65.97570667218355, 75.54896815012775, 69.05298319315762, 69.09546901092793, 68.29873703177716, 68.06814892588854, 80.22990139899747, 33.741715174584364, 85.75180721332315, 55.95772904521862, 73.83635026282768, 77.35840756618462, 89.23249505069754, 78.45904241542834, 73.41751515775313, 72.2380210411711, 82.15827808577916, 78.07730609626857, 76.55939729446703, 78.16147869243694, 78.75348852762124, 68.09487522112238, 64.23127286150903, 57.610828284312376, 93.6343407580949, 84.64719535785886, 86.11943668470488, 74.37862972975603, 58.16027927685915, 39.11272312586041, 62.45755026033544, 60.54260350918501, 69.5303061368119, 66.22423294205207, 67.0570166899927, 64.09507574324691, 71.43257498690686, 74.7638436032912, 70.55102555766494, 80.13455109755783, 66.6378437954142, 82.97074343015584, 54.62083399918413, 87.38880594586014, 74.15845110948155, 90.89258805038894, 49.794147668164, 76.10909484157345, 44.36354599564673, 60.14096423073931, 56.65862506353603, 57.084216810208346, 76.21565796233436, 80.2951764371772, 87.49057693303543, 61.49388288713605, 54.66185478032814, 58.253300023697136, 60.55422519036091, 72.78532621472372, 60.55904523639603, 55.591835818290306, 55.14766689651706, 72.11097086404, 71.54779449300638, 78.96276273119436, 88.36454742023807, 87.57120150128884, 84.97379327081008, 84.29428195798863, 68.62644748097462, 73.80779027074388, 70.8012620807352, 72.45206525405163, 91.0793240769153, 69.54990831461586, 72.92474089150691, 72.43873636048119, 73.29646955727829, 72.8930553141883, 73.20519941762274, 80.43788143311353, 68.08229936560289, 70.9425850809023, 56.54802875887954, 77.83437907861625, 50.19067855270029, 72.29627983433684, 69.50721193850194, 70.41111262121515, 78.19932476455543, 76.35405584112434, 64.88812041936754, 83.70260418538858, 65.61522094481158, 57.57970350319679, 68.10788737258834, 68.14463128557213, 74.92238494413104, 89.14911034638689, 87.08393093298346, 63.26658326619818, 59.46260969559346, 69.50675739477508, 61.08576587396635, 74.11071348376517, 64.86674427492837, 68.70361662678422, 76.14219222223419, 76.40881787083595, 75.78102230548909, 76.02260662539187, 77.01232760305041, 58.43328238122404, 61.144554626925405, 74.48979786612759, 72.10539502699405, 78.03259741921215, 66.09988332176688, 73.69640059720649, 69.44749328336985, 69.51576505386673, 70.14551380686872, 76.44916134181554, 79.19313558391684, 70.45761486966263, 66.62281108036062, 64.32842506407904, 58.002525008411446, 67.6711873748212, 64.89779658577515, 60.02242454679889, 68.04185082456682, 66.15025033388683, 64.76532917242022, 64.78252444598516, 63.956164125950075, 65.34269853623886, 65.67295456258508, 57.986129322504304, 57.465009049045335, 59.209367319266946, 66.88102203525813, 63.72372334515084, 59.23730832076651, 60.88787508036906, 68.2936560139522, 59.47483074425392, 60.69250716257884, 61.85992249425015, 60.02342868282537, 57.66992195584285, 61.158059802729305, 62.698500052012825, 66.45348405280629, 63.91376639659508, 68.78369308538402, 60.13112956910902, 55.96749896309861, 52.00001025943951, 71.91497212691493, 70.20208573384006, 67.0772693843329, 57.08072372692859, 49.92397173341375, 60.26751511547094, 68.6250162398057, 66.13296073977337, 61.7024906746442, 67.77548257210253, 70.6150554176163, 74.37633364777996, 63.633995761897644, 77.53603733348912, 66.35319085670899, 66.04003755324604, 46.91324491002829, 47.17260262845441, 75.66940566985859, 71.55771195622432, 63.79834657304967, 63.24679685546751, 70.74878883979628, 71.7533726078159, 73.56701257813982, 62.12102801193578, 67.52540829772228, 63.2520419252166, 64.57137319150088, 64.8371839190845, 66.95945356547932, 67.68560920203221, 65.13843633658954, 63.483598463584045, 57.20370867354231, 61.73802540076352, 56.949635183916214, 57.51043363627688, 58.2379486173441, 75.1623563739374, 54.07117433802258, 60.1281031580228, 59.04578131744396, 56.83498213281105, 57.02642826756766, 59.00928278813154, 52.4543338660534, 51.32733976264825, 52.78877590779105, 53.29614139066392, 57.69687452437274, 50.48847869528, 54.1137704045773, 59.552969565835255, 58.85727768647428, 58.62422657722815, 60.10075710345453, 59.65691619647183, 59.454910804419285, 59.655587085501836, 47.026456497990054, 58.96813380644046, 59.65091256500512, 60.524469458922056, 56.07362571777536, 55.79975949653959, 56.511939669404796, 57.551163297648685, 60.105683641493656, 61.0311233875613, 62.277606955651706, 64.41397185394247, 60.16168274382938, 59.14583070133345, 59.88982868014867, 59.313448224939506, 56.471082286063506, 58.422897328772514, 60.56360372869976, 61.32081324208941, 59.28775895937194, 57.62130239022835, 55.801713231641834, 55.138605687795234, 56.17789969661617, 59.204063828806305, 54.77121410378687, 52.96027005372651, 52.25550163307123, 55.78888640932189, 52.89714432595569, 51.617195323598445, 52.10471762778288, 48.53000266681293, 53.59298201473093, 53.56007113076078, 54.69521069418438, 53.55981915417914, 57.031143397807654, 59.488668547891265, 61.04059789728445, 54.93586220958933, 55.39734990729973, 58.096321137865566, 58.49190156690969, 59.19649156614021, 57.81225859255746, 59.980951923179134, 57.625340459561556, 58.61712504363333, 59.459824275352915, 61.26557711166807, 60.1493607590276, 60.065168448353035, 58.83854741442801, 59.35964857900945, 63.429588911910145, 62.93999449172112, 60.9078480601684, 58.616832213150545, 58.4233999116413, 60.172795646406534, 59.47430724790884, 62.84001700628949, 63.053250636315475, 61.692462724354826, 61.31099496717719, 60.94476894747036, 61.80183539550329, 62.10905102978003, 63.70441491738802, 84.52202516042304, 5.270428200480588, 75.66304349867946, 0.7401840498268867, 41.816650429909274, 66.26359964976538, 43.647182667772626, 7.1710506049932174, 67.87093028826206, 38.306042512041685, 63.725076311249914, 74.97006524954895, 61.86318715440692, 63.46581201599955, 70.84202507521447, 67.1236828880082, 67.41760982594478, 68.18387073212094, 69.07900235694234, 68.52925488433624, 68.88142663987274, 69.30873615544319, 69.53268359774447, 69.08816131462247, 69.00848711530986, 67.93043944841577, 67.42555286424897, 66.50361543778766, 65.5784300794354, 63.0176977743008, 63.142588360233404, 62.626539194669604, 62.67870607578418, 53.7408756780525, 47.41037272225089, 47.647961530128924, 46.92503633028357, 45.76664370802764, 45.42271565852693, 46.100450127020245, 43.33933994091496, 41.16273671743193, 41.672304185549066, 43.423903342055624, 46.36202388736396, 48.38926008626256, 50.123082899446274, 51.30289440901001, 52.85066130990347, 53.86621935017103, 53.61212187980469, 54.43180097287164, 55.42763501638976, 55.12062542167407, 54.750076281840265, 53.8575840428778, 53.71330498824923, 52.73274891142139, 52.62201402000274, 52.05508939135601, 50.9028107404566, 49.644542280464634, 45.75218170547585, 45.46651157336299, 45.950641563856934, 44.974171754973604, 45.157386546324254, 42.63862730489985, 42.60469937086701, 43.3652345681547, 41.98686730593651, 41.845764670173736, 41.852284498528356, 41.58118603847337, 41.56749081583599, 41.78620554835149, 41.444557410153266, 41.39620076003551, 41.6084424724851, 41.90491415123452, 41.819060269005206, 41.813428681657875, 41.960158407036204, 41.55741269266431, 40.85967199305835, 42.11888923445067, 41.88868978968394, 42.04720428444887, 41.208762207199754, 40.70032618218238, 42.86559313936056, 43.70721663070626, 43.42297151351236, 42.45995686332171, 39.7658018115717, 39.808035081842256, 40.83972884206008, 45.2695426956436, 46.0567988614638, 46.1956688224198, 42.39902133505188, 50.702128374057594, 53.66354133642644, 54.74231505904606, 54.13022388134554, 57.588886517677956, 60.883315025183336, 63.24774937903855, 67.39239171936823, 67.37445462480147, 63.76719695608983, 61.289405155249725, 61.4235170130523, 62.2853666443122, 61.45719931851724, 51.79798602239403, 52.36658675310168, 57.23770328977348, 59.26968454587515, 48.64010763723931, 38.73370693161504, 32.01936691113039, 33.06695514577977, 38.43703178017549, 61.527944565208365, 64.59205075596255, 63.85376483562831, 61.7522672040798, 60.2095093142579, 62.41065866938788, 62.477262335851826, 61.36678967697325, 60.603211539620986, 60.25947373633893, 59.144417839740775, 58.7171900551687, 59.08104493402208, 59.975311053224246, 60.82912511825986, 61.256939730249634, 61.44935021391656, 61.32411680571342, 61.0676474535202, 60.26923087230666, 62.40061086573827, 62.75857803945984, 61.902038212835365, 59.67144683961845, 58.525292882578306, 56.949439053435114, 55.12491423677098, 55.01644998225938, 55.32903928991556, 54.82353970409836, 55.01280631035557, 56.51271780687585, 58.2641085716657, 60.6627531195857, 61.18058213517066, 59.41058179864333, 58.586578231969575, 55.76170335324337, 54.97543129867235, 56.06103758280839, 56.39679032567253, 58.827252795901764, 57.10821750293802, 56.24564172067953, 56.033823512535236, 56.11408260820653, 56.220287625519866, 56.80751146075628, 56.90794949472049, 57.951659475767194, 58.10214299455786, 57.98004508382531, 57.75027284487425, 59.41011621436491, 60.51020837272076, 60.34597195221021, 59.44235119077485, 59.88804046531398, 60.59319729960649, 60.938486792064516, 2.468056791148552, 59.820981855775706, 60.822207739303735, 2.470456806162675, 62.17865647994067, 57.058971414239934, 63.26486441079081, 64.30904471374883, 64.38469555959436, 65.99889562145044, 66.20686853553428, 68.67146570323897, 58.86145451756276, 64.74247894601672, 40.25388000166468, 64.60247938791454, 65.31793808429606, 65.72899746938376, 65.53632457149676, 66.24580180158023, 66.2885288711516, 74.48769690315639, 75.62142934320283, 66.45872824527432, 66.592678010113, 66.1960638347592, 65.52438423476798, 74.08944365510958, 74.53637196374706, 74.13895781280915, 66.39627383556662, 66.82344282236161, 66.46648504316654, 74.49885855740169, 74.5104422308926, 75.12800893480356, 66.74225182735567, 66.78107220016783, 66.65136188936815, 75.10691176477822, 75.55389686814975, 75.50077010387226, 66.63619356991165, 66.11292336052925, 66.13141446198864, 85.34357904222205, 84.59735897884056, 80.33562076820542, 67.84135869089083, 67.57758596822029, 63.52597155358138, 83.5042408123158, 83.26576628326725, 82.83105620518762, 67.81413916277145, 68.1168842108058, 68.20297194176418, 82.06611794106361, 81.00409176534399, 81.31181939511838, 67.82214251137003, 66.41872230944969, 66.11203078773411, 80.78871114770443, 81.51006159886808, 83.39884622169394, 66.30562161418231, 66.2472592464971, 68.80652709583843, 80.78435452834188, 80.92012739082769, 77.10389303423693, 64.6265090280035, 64.30593366153943, 63.921092225546595, 63.96280920819578, 80.3425024163148, 77.06561915263717, 78.2313291981804, 63.447623291461795, 63.49966149926749, 63.36597092893385, 80.10085733162545, 78.24114804009346, 79.61984847837262, 65.45613917476315, 63.47136559768532, 64.69211030122666, 78.40451067481426, 76.3061351894371, 76.3835149642535, 65.03573057928884, 64.70769603249694, 65.23838892556452, 76.61605490469785, 78.37392432398651, 70.58716403599973, 64.69535175447817, 63.57602662305918, 62.46806049180335, 77.20611724573054, 75.83113393545956, 77.35284408478272, 64.12659388512773, 63.93776466492645, 64.22568042929639, 73.86365119198085, 80.10561447492427, 72.15135926224953, 63.66285338244263, 66.89285437161016, 61.336251253606314, 73.45044466641423, 78.84199429899014, 67.5390435429969, 67.19260841078213, 67.82188797803036, 63.44491252013738, 71.53596035848008, 71.59467503729088, 71.78831257335935, 70.53614802998032, 63.602523753337685, 61.93659796102891, 61.591248128928434, 71.53344973324394, 71.81681089388238, 73.8102887621382, 63.595653589680396, 63.46365485655394, 63.69918621078828, 69.78039287425854, 70.64945919473702, 71.70226058033145, 61.212896058510566, 60.658105817927876, 61.92700265995793, 72.71756961146353, 73.04585785662508, 72.79343401665123, 62.66832259908767, 62.40755604648661, 62.29083707448646, 69.24287410129402, 68.48710286213243, 61.04365057787632, 61.3628453243708, 61.71712778419149, 70.97920533757915, 69.79441460431198, 67.6424631810563, 61.70537692004026, 60.84522145764721, 58.51874570113492, 68.98664160491253, 67.27516959202234, 66.76101259379054, 61.246479073339074, 59.01428713959127, 58.456938818220195, 69.54105041018332, 66.744832178426, 65.0376468065463, 60.98462970741591, 59.02030479049966, 59.070133417064845, 69.79079265575946, 69.35174745294597, 62.700690332053085, 62.344072312327285, 58.85317527137052, 59.061100934107024, 66.5979912590736, 68.45950914975572, 69.25537920680085, 59.45395682162586, 60.62379624523968, 61.644766260351425, 67.21500026691086, 66.59210941826053, 66.05785220306703, 60.750311406472036, 59.75219797517318, 58.89329041255316, 65.84360796890202, 63.07314764238231, 62.38757616192039, 59.03642692692688, 57.85178548932606, 59.234020671761336, 63.66939003336342, 63.700940333798606, 57.19461511784666, 59.09808470773485, 56.24163390645696, 63.08945124510382, 63.00838316892641, 61.85725949293714, 58.582706262364, 58.92461837350155, 58.31384670384955, 61.44520142939885, 59.46779895195107, 57.75093326448733, 58.576897591729065, 58.43409681750728, 57.273922585464895, 56.974391112037495, 58.89404809483126, 57.17565994186463, 56.575230968017514, 56.84899461053703, 54.05434599088278, 56.30621788971288, 56.01161561700121, 53.590459547433085, 53.302930694774304, 55.64826259071927, 55.297384975189075, 55.05910563194616, 55.51460546380004, 55.28212104453114, 54.81052989498427, 55.00490956264536, 54.90561912999146, 54.646646121283375, 54.43037888465873, 54.308077550742425, 54.46388561778827, 54.16334762208774, 54.266910831046, 54.315116830120694, 54.38721578601976, 53.94956895179985, 53.7155299830486, 54.22017576068429, 54.971646304024354, 54.95121076704979, 53.1944117195996, 57.354510957444184, 55.47710284028965, 55.41539366739991, 56.958014713878434, 55.94124589663588, 53.204676087246284, 53.052324017846594, 53.71641246145526, 55.866645819978935, 55.72006084561216, 55.387543575319654, 54.10594725649403, 54.14275823789172, 54.480895442121486, 55.40366279329636, 55.383044817479934, 55.41439304648974, 54.66026820448073, 55.41736036771057, 55.99283295797816, 55.04924361711605, 55.44762772939152, 55.846734241754575, 57.42215767415975, 59.07924040426946, 62.952789750445355, 56.94782735255775, 60.32153046811181, 59.68138667824354, 59.19221858083991, 60.128658388615435, 58.217220297303854, 57.76370169141424, 58.14177767928893, 61.261767985201175, 62.08611803270183, 64.41817069451383, 61.475403126445045, 59.60904338794895, 59.79659951429775, 61.47104964179489, 64.23212598634986, 61.444063008577245, 58.97596128625542, 64.77294593198657, 59.108804258136445, 64.41640799180018, 63.89080342194755, 69.2699025136958, 63.25955347221027, 61.06859091186619, 64.92340795908268, 63.589673836513974, 64.38144631088315, 65.03364223447461, 61.51682242325089, 61.91854423561022, 61.131669123380604, 65.54654203376772, 67.77523489401658, 66.77229576768096, 62.36982374422055, 64.13141701698052, 62.65991549103481, 67.02955719016391, 66.92506496016121, 67.6610962079671, 62.835759655582606, 62.98457349894451, 63.60000178391256, 70.2440784048099, 70.73285450461212, 72.49171890716804, 65.51726058997123, 66.00280977333328, 67.39665068968675, 67.13136831466828, 70.18600130309423, 70.79450238855588, 70.93254406742679, 65.8457828093588, 66.30271544066807, 65.67622307564862, 70.62947342872155, 71.0283954638727, 71.2492940075553, 66.33303283322908, 66.37093220279723, 66.81984080775543, 71.35810945053525, 71.6281447848178, 72.31827565997764, 66.72857100901628, 67.16329053003668, 67.12990454840049, 72.2697045212308, 72.0265767341911, 74.37770358468444, 67.01747521835209, 66.11820443718712, 65.27360008488878, 72.48883926313673, 72.98749528016512, 73.39796069976494, 66.93268912048669, 67.0828518611254, 66.89208241532837, 74.09353523418442, 74.30259464279254, 74.46691383684605, 66.38077713051985, 66.30554796954237, 66.54940973219877, 74.9792261966923, 75.41393197819411, 75.05928246857962, 66.4536965879764, 66.1653267885373, 66.23354385495648, 84.09974600331243, 84.51683630826675, 83.07636508313678, 67.0595354229999, 68.30385685170297, 66.46157023887733, 84.306574853249, 84.28199010092271, 83.87725784938232, 67.44313600443986, 67.87894003144969, 67.60949458725212, 83.50197033068554, 83.468966987748, 83.88908847359372, 67.69427163388164, 67.14007609412982, 68.81501789174807, 82.93459659737566, 81.56001669674572, 82.81601996470833, 67.38332778509735, 65.76507956612556, 66.95218673238179, 85.53652192229781, 83.7877949609449, 79.65202919093471, 66.49526887662667, 66.28120081526725, 65.93090784328601, 83.77936164213233, 83.36879253790671, 83.33590581649602, 69.04172218837695, 64.35793069160496, 65.36202306669384, 82.07421817255748, 81.52849863471036, 82.21564579788823, 69.41492948037468, 65.93620610899652, 66.58445784047044, 81.44902281343458, 81.14587593350906, 80.12094778294788, 66.50365483465964, 66.79066894580374, 66.34558202383283, 78.87914282763094, 78.0097907338417, 73.74955572416351, 65.4452012791877, 63.99843370275305, 64.19669710637018, 77.49667330468827, 78.29351506315818, 77.20542235689484, 65.57661333958772, 65.28096841038058, 64.92402962297747, 76.37825556737599, 76.3677951922958, 75.53017275923612, 65.26573937129565, 65.26266904528636, 64.38492927223815, 74.63192864811184, 74.665132343657, 74.71857014001328, 64.67447105087196, 64.74656787037047, 64.38748591203385, 73.61011790322334, 72.88555817689608, 69.00263657182558, 69.13128271564699, 64.03411581090172, 61.27574669193194, 61.56889582751829, 72.33059340660947, 72.15616596870687, 71.27076776628155, 63.69557973744545, 63.752823948365275, 63.869596489945515, 71.08814375552548, 70.05355996841139, 70.21488865018611, 63.867644110973686, 63.96086070528989, 63.30767512137324, 69.57408852227292, 69.89164354998164, 69.72013640461951, 62.792103301561205, 62.23096387284836, 61.726226265577104, 69.00132582255897, 65.47361601016318, 64.865032884074, 61.634678575568614, 60.998960433608815, 61.14558701933268, 69.10229182659035, 67.75448220162797, 67.50135013451776, 61.590399908443565, 61.47179505989279, 61.61608890031186, 67.35854266767383, 66.44766790169516, 66.33238304767626, 61.438647868009305, 61.53846044137388, 61.38523874140073, 66.28650249846814, 66.06116611634256, 65.18725652901361, 61.542289355505126, 61.31404441388987, 61.16256644473168, 64.33685670912662, 61.356162150489574, 60.631447799610406, 59.78557648771207, 60.04036501108056, 64.61958961601786, 64.03176033520384, 63.32474289533103, 60.89788011065622, 60.53323002232799, 60.22335026350195, 63.313404184676294, 62.68269345443024, 62.84745445215325, 61.05567326067024, 60.84801791236731, 60.96279021243266, 62.43464632294858, 62.67020550714425, 61.72212410742631, 60.57243771055302, 60.28072821888034, 60.072320283887834, 61.7430804458914, 61.04644422652641, 59.545327808825654, 58.712421375887764, 59.67583362508598, 57.3432127492067, 57.26067748483498, 65.86629527699236, 60.5827399101082, 60.41737412875609, 59.703212939839986, 59.16698808027184, 59.104594686372124, 59.953684259369474, 59.73704239217289, 60.34025587677675, 58.532034204384125, 58.404131035567225, 58.38416045241384, 58.98900586221179, 64.98674780702467, 60.17617830765646, 57.631665866889406, 58.13820874542989, 57.79082231738218, 58.6434776684299, 57.51709642123843, 57.73593172269607, 57.16261858772906, 56.019962583874566, 56.29656543323449, 58.817382507977854, 58.65594202559417, 57.949315369870284, 56.704754949002854, 56.61520029762204, 56.10482410680424, 58.748098475221056, 58.26391076706526, 58.45999149227687, 56.33649605269409, 56.24786291945187, 56.05187362200674, 57.88444673202786, 57.07655596259567, 56.914099128738115, 56.06138932102877, 55.89477792665008, 55.97847223874125, 72.56525933264825, 74.26284402975617, 65.45993841284297, 65.54860421148705, 62.34476307494596, 60.383708903084404, 57.2732324996063, 55.516069597661414, 57.303394899948294, 55.43125655646484, 71.84840612602547, 56.239519576038866, 57.236069466476756, 64.48554394304658, 54.580725820578195, 55.79552547095955, 57.3512198405532, 57.48724149881013, 57.96168183873152, 55.753592126640335, 59.746901660131904, 59.46741047861068, 68.74964991672746, 57.99253074966327, 72.77226492069525, 55.075529031768326, 55.29966988550392, 59.94556130288845, 58.59406679099395, 59.3904487087831, 69.24107781680746, 57.08911175858699, 57.47990940403023, 58.60565984429911, 60.195358750538986, 64.26733821090095, 60.87548023847342, 57.800887508150296, 58.81927415032356, 58.42775133270527, 58.73151520038262, 69.01699188000684, 73.26457012154067, 55.92186432786769, 57.414926666825885, 65.81668732459181, 62.40565046453192, 71.45630053926143, 68.27948057489216, 58.900063253361175, 65.11981545272381, 62.5342763839618, 62.888282439986355, 73.02468095559308, 64.10622476299496, 71.48090204711279, 62.71635611127707, 61.21256169531256, 64.30516057543562, 63.81716733278714, 63.835539921965186, 67.21212779639167, 59.084476314669246, 59.467499920115166, 63.0672621136332, 66.39963436596503, 69.02436021222707, 68.72564359843409, 61.64635093455154, 65.10767939396338, 63.266273121672405, 68.4476566905406, 69.69530097679296, 70.8817097358688, 64.41658754777963, 65.73947658617274, 69.82540663666238, 69.62155668319105, 70.199874571261, 64.13843874300306, 63.91011997235365, 64.68254026901678, 70.84230712796024, 69.80007833359646, 71.13612326265302, 64.87295016218633, 64.54814863645196, 64.67262879109528, 71.60057219053392, 71.71542014417413, 71.7131140262421, 65.7939306574473, 65.59228950958573, 65.9905310194456, 70.59194888254848, 70.56347103481302, 73.9529734101193, 75.44417681699008, 65.14122310199946, 64.55470169978976, 64.25181677954839, 70.09709679599911, 69.32148737550057, 69.3929671399744, 64.31004153189316, 62.40160753074768, 61.836190516807214, 68.74251403479147, 68.5331579260843, 68.3631360447981, 60.917556832728856, 60.87519832692471, 60.46100667406584, 68.52408192047994, 71.36290324734814, 73.41680452071164, 62.78382862766932, 63.3618562678157, 64.63289063954369, 64.08527728017451, 85.02770682863334, 85.19794467321128, 58.06136057741594, 74.21633163930244, 73.38196203861153, 62.82056848933039, 62.35468425889329, 63.04656829061962, 55.77423005783128, 55.92013050488235, 54.56677093210716, 83.82066268311202, 85.13698016137165, 86.12672891809609, 73.47825695017127, 73.27724214906394, 73.17594125442444, 83.48706603777748, 70.92907285917039, 59.30021606858933, 81.26062088885072, 77.76299768474283, 73.99376713471074, 68.53980986997833, 66.39692398576034, 64.2843994749124, 59.90912225675766, 59.81615246805685, 60.05333199524543, 60.428971072481474, 61.618140255942876, 64.32462888864046, 62.16705722936818, 61.92698694692793, 61.68606366943943, 63.81886362279189, 65.29182794266383, 64.71750827495693, 68.96149956405195, 69.58989456826254, 62.09548482986861, 63.642653468019596, 63.94141671786233, 63.34207683711294, 63.41247531217665, 63.91552673740812, 62.44118019897738, 61.89328962122973, 61.70531947183028, 61.280161657667755, 61.18545749652269, 61.21213540417879, 61.47015777783293, 61.392478805849684, 61.450027289221474, 61.29458761733164, 60.981883628435476, 61.101419607936016, 60.30037889674864, 60.41430568673678, 60.768107093406286, 60.761393639065055, 60.60094975483581, 60.73589854979669, 60.362707434601326, 60.42759099281395, 59.58074592376266, 57.251579466811236, 57.210430805035955, 59.41678381341884, 59.24361334274845, 59.36144694704147, 58.08789790035359, 57.7025761405973, 57.80019748317924, 56.93395561207138, 56.12901074324561, 56.392783695196776, 56.48181936332664, 56.10716447582096, 55.74336777299772, 55.62104598659337, 55.66111984464773, 55.8244030365886, 56.38318088030284, 57.55427599867446, 57.661023013072736, 56.7021606748908, 56.6611853704894, 57.012621096355275, 56.75081833672461, 56.96365994477221, 57.249518974042026, 57.78025056861965, 59.83354167336884, 58.45427837169947, 58.52467807772509, 58.912086547770244, 59.44037252261789, 59.50899077927673, 59.50412181266768, 59.67889091480291, 60.42362710796934, 61.456899493535765, 60.72581404219429, 60.34066566716204, 60.499279956949515, 59.52518820315754, 58.61224116038252, 58.83394149752845, 61.499222963622024, 60.55280902689063, 64.85762606965345, 60.34424384570421, 62.02840382109701, 61.205888328737004, 64.46429969033964, 64.78603009539219, 65.14060089069592, 65.0746594928206, 65.05021070665367, 61.76538022087864, 60.955508327663104, 65.26020875560157, 65.07743766253793, 64.6743173666204, 64.81375938387208, 63.439077819472054, 62.334274866889054, 86.11300420470904, 86.22524835950318, 81.89003213604674, 68.95048528813673, 69.19025121433823, 67.69835963879302, 67.21762102172552, 85.54300483203522, 84.84825360398287, 84.56064694229951, 69.49670980923061, 69.66799242453311, 69.89723702228474, 83.11795274181613, 82.60805785577735, 81.89135837421587, 69.60564107091739, 68.8277469246955, 68.08433974754884, 82.01129426093986, 82.59553703102515, 79.40962536926659, 66.50875059456045, 67.11699285754835, 66.28557550547458, 81.86983189235217, 81.56171901482438, 81.6054358367128, 67.23176529121145, 66.61498523435218, 66.96875803223996, 81.28073968244976, 80.46399641111104, 79.51280494082496, 67.50868633824453, 67.29428469463912, 66.86255191287059, 77.70039289729002, 77.05693713347969, 72.04541356475221, 65.9028594398084, 63.59367879854891, 63.742991690596355, 76.77611194269804, 76.45891139683903, 76.36204827284692, 65.79590158935285, 65.54754161604968, 65.46748756313045, 74.84428302644864, 73.82733521609234, 72.92109698414812, 64.52086376052038, 64.28438600621062, 63.585395043298476, 71.59922576811707, 71.40483564017, 69.21078884187995, 63.780422040477575, 61.50171712102283, 71.00561189981518, 70.33951958858809, 70.26075274594089, 63.95615220125249, 63.54983674178632, 63.58146535290422, 69.1447392920996, 69.30320135846101, 69.2723966957244, 62.3076631031579, 62.51468287273115, 61.972011888911446, 68.83906003349834, 67.21968152804762, 64.46867482447917, 61.27162737506081, 60.9694755571254, 60.559844070971465, 60.302139201814036, 66.78318207072317, 66.94700364993952, 66.92569150774916, 60.31502095286326, 60.3825045065971, 60.70765960698278, 65.54199161954406, 65.04943562513019, 64.78379955216018, 60.557173601130664, 60.80307084566046, 60.18757678483776, 64.31646134805209, 63.61449852303584, 61.04521694609393, 61.011469606632645, 58.84647533711078, 58.50465462922379, 63.479068834281435, 63.324410058714356, 62.78855882002758, 60.93252390185599, 61.11616226001118, 60.73029781147266, 61.06454966225734, 61.73595182636686, 60.772748450445455, 60.0061964801219, 59.67489653132098, 59.24028826841997, 60.18624084961513, 59.608371388252, 57.11775584339685, 58.44269432184366, 55.94037013205929, 59.398349552907185, 59.21483734403577, 59.153578872274835, 58.04131534926419, 57.91546523150691, 58.042750145101024, 58.29211028215464, 58.63998194621128, 57.641309711082194, 56.84448474691766, 56.42907943061737, 56.17696978632239, 56.91934354166981, 55.8538644375183, 53.937625336465146, 55.21778250589747, 55.21800251551402, 52.826190327113444, 52.767128820455305, 55.66478175153673, 55.62255166887393, 55.43358813608095, 54.82488189352431, 54.32054786302469, 53.845778285267386, 54.10283798517449, 54.29349576971068, 54.054399912053015, 53.24579571401322, 53.28413347051709, 53.3605003819033, 54.157359304696115, 54.12625112431884, 54.22559554388465, 52.85034221146285, 51.46292616682638, 51.758579096530916, 53.795960166457114, 54.32503961771448, 54.94967803303951, 53.306939194893076, 52.781827763890384, 53.072564501110875, 55.0214835554155, 54.62120213199596, 53.91658252441308, 52.81611127127761, 51.97754682290658, 51.534143036138985, 54.44966984592666, 55.70329667520476, 59.615080657080675, 52.595909477836486, 56.75062484411128, 55.738147065290256, 56.00268918639004, 56.51596586064906, 53.187471870382424, 53.72787994324115, 53.738060069162344, 57.76225433195952, 57.9381325559493, 58.359704992672405, 54.74522120570928, 55.2456354977097, 55.74728184123653, 60.40484679099534, 60.965001103485065, 65.75362224447377, 57.54486437179736, 57.96310421975802, 60.81967320199424, 60.98416620207502, 63.07583488146804, 62.98570505618914, 58.17043408038765, 58.93505498609727, 59.44077326195715, 64.57694425971113, 65.36271956403232, 65.80400521895555, 60.00485647521309, 60.12199637479657, 60.8738181116911, 66.61597325813797, 67.139217109762, 69.52106546518607, 61.76658050182106, 61.76469741073833, 63.6600100098251, 64.11736223306217, 67.58762812999414, 68.5315087535874, 68.29817081488453, 61.89723919168529, 62.09217505637993, 62.507628644451785, 69.32747002801607, 69.04286247667277, 69.5795256364521, 57.85954941299598, 63.98890085428417, 64.05165123598587, 69.93062286720405, 71.19128011579159, 64.399608133765, 64.87292593181407, 64.20243905922963, 57.96609145959366, 58.27490065630531, 70.07915029896702, 67.93314876550869, 66.15492310947954, 63.59784868191884, 62.15141080077167, 60.88891969873551, 65.13421277905525, 64.86072800786177, 64.10464686351585, 58.67289209264444, 58.73709049008531, 58.21562661488175, 63.293277026206496, 65.53921389519479, 65.15292314656115, 65.22986820626956, 65.23049197907955, 62.48261950880465, 65.70685942154186, 65.75342266061352, 65.63486072252869, 65.23401503245894, 65.98340291755281, 65.7147384251034, 65.44531281614404, 65.48506721846032, 65.26197916586597, 65.77377909473397, 66.19641794629152, 66.06063428240198, 65.43941554123909, 63.060652219245895, 63.638328589192554, 65.44731874134929, 65.28711792885173, 65.18103080358857, 63.615761241291025, 63.74931515050683, 63.47167380325803, 62.8304440974814, 62.028847290038925, 61.999464609421516, 63.01868696645641, 63.15443142023792, 62.721075583858806, 62.39075149192753, 62.127000465224825, 61.92628123888604, 61.73106125534271, 58.29530092780164, 61.582600239896614, 61.66390288525863, 61.43238106952081, 59.94950197176653, 59.14782726567981, 58.474816230627646, 58.02383445982814, 58.64502372545558, 57.836876192857446, 57.81563018226288, 58.84116395661388, 58.51352519531179, 58.346263888004955, 58.00396599571593, 58.019706683046785, 58.177943650827615, 57.42172413916258, 55.331747760039754, 57.23346371417085, 57.069770521944214, 56.96637811183599, 56.1192171795081, 55.7883272522196, 55.63387175592162, 55.382007917776605, 55.15132702115274, 53.45824406832862, 54.782729604647166, 54.892549717069016, 54.65778997093703, 53.79391515432667, 54.013132183464755, 53.75115820709733, 53.89855327499077, 53.89771927434496, 52.510515758609074, 53.38028361771999, 52.99285417439751, 52.741869962682344, 52.68470729349826, 52.13923135711761, 52.509708211892516, 52.496308290852205, 51.98604152452072, 51.08744532237067, 52.14692136814163, 52.598013599361444, 52.19129011589496, 50.32751096619133, 49.91845209105532, 49.72851012487991, 52.23669780388715, 53.14687860064954, 57.03657174141751, 54.2818231815144, 53.87444884633917, 55.355735737565354, 55.62840827259848, 58.38373086928934, 56.816894310960585, 57.83436744670227, 57.49951660982011, 58.76667496639086, 57.32111926511378, 57.225267165106935, 57.49545200789003, 58.35736762250952, 58.56003227700547, 58.51004808484235, 58.40504858404957, 58.61504991335102, 57.95781072130469, 57.71945809915711, 58.49083761748217, 58.24754342448959, 58.32162478954343, 59.189894445805706, 58.42928801097116, 58.04751442798159, 64.83576329737384, 65.18211738885972, 65.48314467540875, 65.49045857403102, 86.06920885429538, 85.93560556766379, 83.35990418815406, 81.99809791194996, 82.01107310915145, 83.83208922627172, 82.05574609291989, 83.00035372421691, 82.57183112338984, 84.48488377273497, 84.7995442084914, 79.98781416201287, 84.5032318955825, 81.77644150927144, 85.29843166799773, 83.11951422263822, 85.20100359181446, 85.36041493275818, 85.95750186154552, 86.59753142427073, 86.19587913515625, 86.0785663381433, 85.92155795013167, 86.10135821881946, 82.01552136538749, 80.04499059541436, 85.54438022075784, 85.75957322821796, 85.1839211223502, 83.8917754203283, 83.6058527304664, 81.94841272072236, 81.15013586185329, 81.22567308245084, 82.98113442344928, 80.83563300053557, 81.37998990991335, 69.77452993369975, 69.34570476624212, 79.60779112343666, 79.05497466052599, 77.60786895565424, 73.47446403051835, 68.35606375753638, 65.08975224928339, 65.66512700737879, 65.57760594518906, 68.0352796720816, 69.33862337287795, 63.734319137871175, 63.10497451636357, 68.23722818652013, 65.99232107331632, 65.14771772825824, 64.89057606440313, 64.99620240707921, 67.84373599548609, 68.35575556812745, 68.16588338056502, 62.78925957729621, 62.235678067075376, 63.3041256246955, 61.15508186912993, 56.976473243408876, 54.656657337911, 52.9950927202045, 53.1487782781714, 59.18690301083211, 55.6395136356583, 55.26614268550233, 56.06840745967228, 55.497061634025705, 62.49216801752508, 63.19946280446035, 58.383954675269585, 60.122928890610225, 58.0566048305179, 55.96421857015712, 55.94731190858992, 55.491154978340774, 56.43003049423461, 56.76173261202424, 62.07223101585653, 57.662213598281824, 58.55520123338457, 76.79742042942891, 72.85205996265381, 59.46428254256164, 57.91650273203854, 59.03870080558557, 62.44438095319752, 68.63269436526322, 62.528088428561354, 62.63903886106841, 70.68261722709259, 73.62809670120123, 67.68604956049316, 72.14033948499525, 69.65614322828492, 68.75912207634103, 72.06860091472026, 72.11938054439221, 69.77834430524021, 64.64377739187432, 55.878818779863245, 53.98209513379822, 51.99628363529926, 56.484667996941205, 66.43651678660399, 77.22513995153184, 62.84063206325813, 57.745307909950185, 67.49892239062962, 65.79476525242792, 63.45459486329427, 67.8802373881468, 66.8214351280255, 68.32151666688677, 72.67275662524077, 79.34182493038618, 80.82838842365075, 74.41265639690637, 71.56252678908135, 78.98429675467276, 75.58231895119205, 72.01435401733248, 70.60873950856195, 75.97380131075109, 74.3016729062198, 74.51590383317959, 73.50649106202282, 72.48700086711321, 67.0440017910604, 67.25423161957545, 68.80728589585742, 69.2263374494853, 70.23891249220586, 69.09401802645593, 69.93656996678867, 68.41483283291058, 66.93861142015601, 67.5640282381282, 69.44987756121293, 67.62819536030116, 69.60027346630065, 77.8543501097906, 78.73019421802726, 69.30836636507937, 71.77765093461302, 72.32635433645339, 74.71394779604671, 74.92958066431244, 76.6088598166076, 78.5213575789463, 76.53522071318105, 77.3616031579922, 79.4906981452267, 85.78648696920406, 85.25271551561299, 80.71522980202927, 81.44868850544414, 83.973139698401, 85.33570397022105, 84.19135575112975, 85.74599367165492, 85.39293903511796, 84.56033636820797, 84.79456963467473, 83.35705086685407, 72.0393080173884, 72.38134169972898, 82.2612025828995, 80.22661872793981, 79.55244522649069, 76.68827990177707, 74.52629814796447, 71.12505742659036, 70.94077007684575, 69.70775328828304, 70.97951236903793, 71.86480151882098, 72.51300949728018, 72.69223760033194, 71.57589433783768, 71.28209729036621, 70.32033104094243, 71.96462149917166, 72.4956909147334, 72.63878555978229, 73.50602058964004, 72.45561850649185, 69.74919738783625, 65.87046886696244, 65.61955046987556, 68.19734209155739, 70.73056758491802, 73.28269557358244, 73.10445049984557, 72.33578455901758, 72.33896093713123, 71.98737497528103, 70.67088112220155, 67.16331283944233, 64.12143971381326, 71.6211462656551, 71.95013513347935, 65.91900767234553, 68.07942955159581, 70.60927934470078, 71.708832941799, 73.31309818666854, 73.58773580846653, 72.6323405851111, 73.02696495687228, 72.59592768117413, 73.1853555430846, 71.63819108713432, 73.29335956979976, 71.70397300469703, 71.1995268312916, 71.11128972545397, 73.17372864894375, 74.33312402743549, 73.75193027186597, 71.50518465227829, 70.88808468873572, 70.89990604074931, 73.6066176131807, 67.71160685306822, 73.9757348740555, 74.81030329213922, 73.64182871874931, 70.77371973025127, 69.05671650473589, 65.8977581586048, 65.5702497262869, 67.73768403500274, 67.02160862585015, 67.36951553691841, 67.52004563004736, 62.41481943249869, 65.20283730791137, 70.83718972767316, 71.83341541803543, 69.44929426890641, 69.85195381564144, 71.48013312265098, 72.29536448606748, 74.59547307266494, 75.47596009548141, 68.89247839248715, 69.712205774556, 74.05512956515263, 69.31217677346281, 73.57370376350352, 72.16533344801005, 69.279099207788, 68.90430506460574, 67.58241610645251, 68.5752806051751, 69.79601674170378, 71.68442921189697, 74.71605812408555, 74.0940005038898, 73.61767043676548, 73.3059547686112, 74.10494848364345, 69.30654358391253, 69.53458515526532, 71.44328177775509, 74.25821459026321, 69.94167643909888, 73.68314411253442, 71.85938729936848, 71.34108366112078, 72.68019378879006, 75.70273862583046, 77.75849563604952, 66.66756011908225, 66.8401300761509, 67.56366093646001, 70.3201849412677, 64.11843831826523, 63.5948061991963, 72.40731992330313, 70.76341809578258, 79.2397348124807, 83.16371923779413, 77.98380537666151, 78.46262707775918, 77.81549117602759, 72.24569881651573, 74.6892927656674, 77.14451009332556, 74.11377181525393, 76.49283267962025, 78.12076040641904, 77.9295358133498, 78.2353421238804, 78.28170254022957, 74.89369375002556, 78.08762378904174, 77.22875389102306, 76.75149202379235, 76.06160061484545, 75.8441161574222, 75.9159404339357, 76.27412886969339, 76.08188514319767, 76.95715307004055, 76.61800781451504, 77.96849767599554, 81.98733742908342, 82.89862680301222, 79.9664008600724, 79.53481640483498, 77.42801900494163, 78.23220761164674, 78.44574179885292, 79.15868767409624, 79.64636050373839, 80.4415158762016, 80.20705812815024, 82.64414913676174, 86.6586107518954, 83.17536476204914, 83.27853341059931, 83.20974433266163, 83.49496701697218, 84.18489328854098, 84.57033958289124, 85.25316469842107, 85.4364226341514, 86.15748200725278, 86.49479095891878, 85.83644755088038, 76.21092963986085, 86.03501249786301, 85.11645311594042, 83.40284092191658, 83.41112481858535, 83.06777336043545, 82.87220632294904, 82.37620979102319, 81.91140898361724, 79.79747513656865, 69.93909698093101, 69.45715835877651, 63.11700025433872, 69.99106677721721, 69.94579194377745, 68.72978222477654, 69.16915503847754, 69.1935814857993, 67.6863316877902, 66.16183486143221, 65.39771527686301, 63.42578041758334, 63.14681820466912, 63.13615562532763, 62.30649992299969, 62.062344012880445, 61.14375577760161, 60.2603103074108, 60.525276809038075, 60.28437484311095, 60.073493925419974, 53.782417680756275, 57.72271446453684, 73.70845157017446, 71.24182355357836, 87.14618474424532, 69.9997547113679, 78.20810417221277, 62.168190065878555, 65.65867792455376, 64.55835926903468, 62.46975411412204, 73.36168491542388, 64.55863473206628, 63.393022453747946, 74.48179018819941, 72.77184569676373, 67.1405808717346, 69.10883196106494, 66.59284503640933, 67.32414200426584, 68.39671375525192, 67.00720793458113, 67.61238817583926, 67.39100659613177, 64.6804797914882, 65.54707044073692, 62.65636022536055, 61.14785443180463, 62.88798762973866, 60.80083132210865, 57.25506880927828, 54.95993512492615, 65.75418233034495, 62.95712876889074, 61.82035164007285, 61.761000720173065, 63.6821202573774, 61.9119973684541, 58.96766077777111, 60.217695049790834, 58.32293769276199, 60.60102677528796, 61.745096730956654, 59.697194103671684, 59.614897296363296, 61.074073399932196, 55.934260460977825, 57.32145935151182, 54.97172792117619, 55.077886681954205, 53.69139736140078, 54.25136441635344, 53.249376909957114, 52.804405392217596, 52.576911315931675, 52.3159826379366, 52.049033514294074, 51.83435254739008, 52.03132863181992, 52.0623997140488, 51.611754106732356, 52.023619883571676, 51.31131363691637, 51.34062762148361, 54.69023153373612, 55.954684298045834, 55.63816559549932, 55.73671399903398, 50.91212287215642, 53.03527237780598, 55.71089168395904, 55.79693084127662, 56.31063939274256, 56.73272958168828, 56.127875530402214, 55.51471445862568, 56.01140354345678, 54.772667632938145, 52.82943188639805, 54.14407919853808, 51.9207650016243, 51.841811046123055, 52.511197868061366, 53.64331876200539, 52.84243199789485, 55.44374362854052, 55.38036659492477, 55.56363290592641, 65.62329002600424, 64.9955912578523, 55.82389490525982, 56.221120781678174, 56.293482584337404, 56.50232878618169, 57.59059994867434, 58.2171056453981, 58.39647803725506, 60.39114692962572, 62.25746458637788, 63.05545432545749, 64.77486771126883, 66.14842427332886, 67.18281888509401, 66.79437978994466, 66.04859400460298, 62.23190083013382, 65.7157420285085, 66.62803696789764, 71.06741007564274, 70.57744630770185, 67.19196858826918, 67.63612072785189, 67.65446351745169, 67.11810755226551, 68.10928656505484, 69.43218938859762, 68.54825900272087, 69.90479110964318, 69.61580395334934, 69.73449146659735, 69.89781795003482, 70.79302296186064, 71.24447585145934, 71.72313721144265, 71.63714773392815, 73.93370855069263, 67.2074916929629, 70.44971624135906, 70.84597404201014, 72.49927821455208, 78.1265976946958, 75.28357453425818, 76.44494016412266, 70.93146895763654, 71.30268542654423, 70.95909218257295, 70.58793026465538, 69.53306081461703, 70.9275223642755, 70.64064281472653, 69.88878245795095, 63.644743458073265, 65.08592041788144, 61.3182606641686, 60.70051806483744, 69.47594790819117, 66.6850779315817, 63.70969248405364, 64.03733234987232, 67.63817583438598, 76.38718069543147, 70.45796904933408, 72.08560870059846, 72.06644740254184, 68.47572797752566, 69.77658570245046, 69.71227535373913, 68.01286488857535, 68.32592996256719, 68.00309067642061, 66.6710670764233, 67.04885828132682, 79.54891514830013, 78.68497408220485, 79.7805814016487, 79.15512153350036, 78.35325558384844, 78.92879896008706, 79.46126001917587, 79.47462306098902, 78.78903730106559, 79.18717900946682, 78.84829504870143, 78.88004696222511, 78.46713020515026, 72.4728938953354, 77.94727376185428, 77.44795314125281, 77.175891295138, 73.5959533828212, 73.39869582352388, 73.5542394849288, 72.91570860891183, 72.97872087471342, 72.58026577972659, 72.57801367152682, 72.74289917072646, 71.31102966988313, 71.81996884277275, 71.20880063864963, 71.48199320469051, 71.802029573806, 71.53750388491925, 71.73826045475431, 71.51652229331984, 72.01381600535636, 70.56498776653173, 70.23736911473704, 71.08904662490524, 69.27488727611596, 70.88879666931474, 70.89154669236888, 70.4757775282914, 70.12318803147151, 69.79324286834903, 69.83146119565897, 69.4758684794852, 69.68219676334323, 69.39654789974966, 69.2226193590422, 68.95532602301378, 67.88727875320984, 68.67555084000381, 68.61610446425166, 68.13072257724767, 68.4062105122501, 68.18995665813847, 68.57747592583415, 68.35249699235308, 67.98399078398869, 68.55830855234447, 67.9011095350862, 68.20960272295117, 67.99617726893436, 67.84540364559297, 67.9063188531222, 67.36338231145892, 67.9364297714749, 67.70104979346056, 67.78525047798419, 70.88480561724188, 67.57463284563684, 67.79360759425721, 68.04947190989924, 68.32687340077217, 70.79004786405042, 68.94501615528145, 68.69115934084714, 69.7366675394257, 69.12068442398188, 70.29696493746748, 69.24585734627773, 71.29156307674936, 72.1368325392859, 70.60912700049829, 70.10594551537945, 69.82526662568436, 71.22524751522138, 70.4278779120008, 70.51217259170268, 70.95747688603319, 70.49296450479339, 71.11643961445796, 71.26012267350768, 71.01426615895441, 72.07062759683153, 74.05323500355072, 70.4412558818327, 71.1518397963381, 75.94198176245362, 71.28131926776918, 70.60939562084971, 71.03083218368823, 71.51904064312095, 71.61281515166874, 70.6860599141092, 70.42828106776935, 70.609276183713, 69.10139232412244, 73.63956600464195, 72.01258545465983, 76.09113002330454, 71.93601253565322, 70.73222700613681, 72.8398899083951, 74.43242799786287, 75.32098420834974, 75.13359685186349, 75.31619681364478, 71.18967195673197, 71.59459015492786, 73.53360960411511, 76.60850050006535, 74.08999177197575, 78.51735619147601, 79.68194442058623, 79.2598132305256, 74.90343132556002, 76.22312062101435, 74.41301389422061, 76.31792857325983, 76.79685492376902, 79.26417410997249, 77.49099294363147, 73.53275042766406, 73.55875229138532, 72.9764247122047, 75.61977773247536, 75.5789292063818, 74.17217760700204, 74.48263723498077, 74.90752444296629, 73.65307550143768, 73.7864452281315, 73.38444838521795, 72.7478687836118, 74.06595150101955, 74.09826428800598, 73.77699526009648, 74.37483125990445, 75.5816744446197, 75.65603075507391, 75.92468326484732, 75.12377671922971, 74.24858321044051, 75.0074908221358, 74.02317612207906, 74.35633168181809, 76.56901973450836, 75.75586021842409, 72.54612787705366, 74.98650294314832, 73.16128162682298, 73.62763034388425, 73.3313856746642, 73.23290551393184, 73.13409629154438, 72.67892904079615, 71.46720419123871, 72.61998005871557, 71.0507272751653, 70.36801240379268, 73.80763823900517, 73.21376106306359, 73.15334289909933, 71.80698272970237, 68.93482226562104, 69.8729836520806, 69.15595711900926, 71.63358213344662, 72.88339357050256, 74.24653079596604, 72.47297759033009, 73.34914452054167, 72.12706296420532, 74.32083968077961, 73.17282519831775, 73.67887955299703, 74.78432593303758, 72.8991644478778, 72.90799551545787, 73.82289757039123, 74.38819959870908, 73.19538950851799, 72.12656791945996, 72.41707445298906, 72.40460180483093, 71.46200918266753, 71.13916483972267, 71.24274844674302, 72.02366303565086, 71.45269017671782, 71.40234585351992, 72.91911247460553, 73.08462942151036, 72.83909767528476, 74.1222186121553, 72.47622662235817, 81.23393410913754, 73.67804855245103, 70.75344066827714, 73.75396357579844, 72.57000248049307, 79.55876509076664, 77.12099938301458, 79.97092978936314, 80.02677800884005, 80.37300351741732, 79.93675428770277, 79.12794930827528, 72.71047507512671, 78.74388768788616, 74.93727213827998, 70.08392819783151, 72.7238514750134, 73.52005716060835, 74.17318885311975, 79.49723193656139, 74.89162796138622, 74.39547114510712, 69.60509790933024, 71.26816040543217, 69.53526292047283, 71.286272926371, 69.66663185310696, 68.6734066483701, 68.5527992103526, 67.44791035926987, 69.74356219730733, 69.44290801335984, 70.04891275570519, 69.12261856431061, 71.78835939847416, 70.80060868287596, 70.6533731450392, 71.84458007981512, 55.12470737041406, 47.47842659639436, 45.336669010982725, 45.11810459109016, 48.39974262730775, 53.140678647132574, 53.72197928031719, 58.20442966322038, 65.05902085090344, 65.99819942257454, 66.55477868320392, 69.16652607805335, 36.45355536750859, 59.87059050738194, 45.43680899282851, 46.86251531205941, 44.32070292601607, 43.26560042117071, 43.81172742386243, 56.90103545126287, 49.092234301045835, 48.63142940147788, 48.47845611915709, 53.3165094135792, 54.058676669948625, 57.99561194365828, 58.33963557806603, 60.303375221831836, 63.28214245341842, 64.23705743543522, 65.44153755868368, 67.70320866895219, 67.7151559928622, 56.661628680768494, 45.90889678829452, 45.666595480405675, 44.99380347125769, 45.089949611915195, 46.180599405979464, 63.66781812468264, 63.32748160894371, 67.24210760997113, 66.14389472382112, 67.55405690090973, 68.55544917025681, 47.45920496497844, 45.434800917126296, 52.55711061753255, 65.46287814559264, 59.44658512426182, 53.642843192311716, 58.81490437830871, 61.739050515158446, 60.53267742978209, 59.436772626021934]\n",
            "[18.30630111694336, 17.759958267211914, 38.76405715942383, 29.211015701293945, 39.25362014770508, 46.11984634399414, 44.386722564697266, 46.05776596069336, 53.52329635620117, 57.449180603027344, 47.027408599853516, 48.67979431152344, 44.30538558959961, 49.310577392578125, 50.211490631103516, 47.73347854614258, 48.74065017700195, 44.01187515258789, 29.10783576965332, 45.5201416015625, 53.77639389038086, 50.44172668457031, 51.36069869995117, 39.93488693237305, 43.43080520629883, 49.07674026489258, 46.269866943359375, 46.738136291503906, 35.55320739746094, 35.18395233154297, 47.48016357421875, 52.094398498535156, 44.09960174560547, 44.687400817871094, 45.898529052734375, 12.57230281829834, 42.62632369995117, 45.92339324951172, 34.580360412597656, 46.30495071411133, 42.26688003540039, 44.963741302490234, 48.9262580871582, 51.618309020996094, 47.5596809387207, 46.43819808959961, 39.59543228149414, 43.78755187988281, 50.878360748291016, 49.651939392089844, 49.18357467651367, 46.812034606933594, 47.070186614990234, 41.53636932373047, 14.293498992919922, 52.32029342651367, 14.855027198791504, 47.011932373046875, 44.34765625, 46.656890869140625, 49.73848342895508, 49.59410095214844, 38.87611770629883, 28.204431533813477, 45.63040542602539, 36.8070068359375, 44.19481658935547, 46.08799362182617, 48.55440902709961, 46.19702911376953, 29.743587493896484, 44.409393310546875, 42.65745544433594, 42.87989044189453, 43.189353942871094, 34.664573669433594, 31.333606719970703, 33.99447250366211, 33.69638442993164, 41.16373062133789, 37.19266128540039, 35.672813415527344, 36.07591247558594, 34.726348876953125, 36.204280853271484, 34.991024017333984, 41.030059814453125, 39.952335357666016, 40.242454528808594, 39.96603775024414, 42.43675231933594, 37.81515121459961, 35.86686706542969, 40.96156692504883, 46.79872131347656, 50.131858825683594, 50.89765930175781, 44.548179626464844, 53.54861068725586, 51.20248794555664, 48.359519958496094, 46.67847442626953, 43.33856201171875, 30.798250198364258, 37.338768005371094, 36.338436126708984, 42.04503631591797, 42.61661148071289, 39.54409408569336, 37.259246826171875, 34.59269332885742, 34.4604377746582, 41.99032211303711, 36.340450286865234, 43.92902374267578, 42.20547103881836, 44.812408447265625, 46.62139129638672, 43.88300704956055, 41.720638275146484, 41.486270904541016, 47.00477600097656, 34.34983825683594, 44.98011779785156, 47.309329986572266, 55.413516998291016, 50.38136291503906, 51.17060470581055, 46.168060302734375, 45.733314514160156, 50.62514114379883, 44.788326263427734, 49.63011932373047, 47.7735481262207, 45.94695281982422, 39.58819580078125, 44.559226989746094, 51.759979248046875, 50.43571853637695, 49.073570251464844, 50.722354888916016, 53.906490325927734, 49.37627029418945, 52.88906478881836, 46.77283477783203, 42.3004264831543, 44.026248931884766, 47.78462600708008, 43.44224548339844, 49.407073974609375, 48.35675048828125, 49.051979064941406, 52.430084228515625, 53.93732452392578, 51.017250061035156, 52.10947799682617, 52.8250846862793, 49.433658599853516, 47.67445373535156, 52.36701202392578, 48.042686462402344, 50.246028900146484, 47.8255615234375, 50.001399993896484, 45.457130432128906, 48.07451248168945, 50.10377502441406, 42.841529846191406, 51.548954010009766, 46.938507080078125, 49.22134780883789, 47.04494857788086, 41.75605392456055, 51.49847412109375, 51.20244216918945, 44.432247161865234, 49.901588439941406, 45.54985427856445, 52.18889236450195, 51.035682678222656, 44.61015701293945, 49.78721618652344, 47.26298141479492, 49.42181396484375, 45.96772003173828, 49.75815963745117, 50.33315658569336, 39.70380401611328, 45.88099670410156, 47.8079719543457, 45.82889175415039, 43.75241470336914, 44.19466018676758, 39.97808837890625, 45.947322845458984, 38.88817596435547, 47.28874206542969, 49.97951126098633, 42.77299499511719, 46.61635971069336, 47.776607513427734, 46.04389572143555, 44.775352478027344, 47.39664840698242, 53.250640869140625, 54.36772918701172, 48.3304557800293, 39.709556579589844, 48.02543640136719, 48.973838806152344, 23.593578338623047, 49.40530776977539, 48.4683837890625, 48.301998138427734, 50.225772857666016, 46.322105407714844, 45.118045806884766, 40.19747543334961, 36.832149505615234, 41.995277404785156, 43.48382568359375, 47.35060501098633, 20.134052276611328, 45.51449966430664, 45.910423278808594, 45.021636962890625, 46.84233474731445, 48.80107498168945, 45.99343490600586, 47.8128662109375, 45.172035217285156, 19.144254684448242, 49.33306121826172, 49.06117630004883, 50.27946472167969, 51.725975036621094, 51.821598052978516, 51.25701904296875, 48.6141242980957, 47.88846969604492, 50.39938735961914, 49.446651458740234, 48.649837493896484, 54.086570739746094, 52.76474380493164, 49.73623275756836, 47.99540710449219, 47.88673782348633, 46.189815521240234, 48.26655578613281, 49.26145553588867, 51.340667724609375, 51.57624053955078, 52.83629608154297, 53.1630859375, 51.670406341552734, 51.73775100708008, 53.1497688293457, 52.52869415283203, 51.8868522644043, 54.10910415649414, 51.2029914855957, 51.272789001464844, 51.451351165771484, 9.91714859008789, 51.704769134521484, 52.31168746948242, 53.779869079589844, 52.883785247802734, 52.734561920166016, 53.72590255737305, 55.888492584228516, 52.994415283203125, 52.42871856689453, 50.9708251953125, 53.51791000366211, 56.24620819091797, 55.02378845214844, 55.516014099121094, 47.455928802490234, 46.419403076171875, 40.891719818115234, 43.840301513671875, 46.022701263427734, 42.61981964111328, 45.932342529296875, 43.70745086669922, 44.134490966796875, 49.683067321777344, 55.094970703125, 53.93644714355469, 53.968563079833984, 54.72040939331055, 54.49378204345703, 55.7924690246582, 55.59185791015625, 54.87578582763672, 55.304100036621094, 55.1403923034668, 55.41205978393555, 54.784629821777344, 54.839149475097656, 42.51755142211914, 7.455005645751953, 44.35597610473633, 1.4675911664962769, 38.08696365356445, 48.111995697021484, 30.622175216674805, 12.270280838012695, 30.76756477355957, 40.52059555053711, 41.27230453491211, 43.099212646484375, 40.69575881958008, 40.70161056518555, 43.67477035522461, 43.08338928222656, 43.274105072021484, 42.766605377197266, 42.63794708251953, 42.770477294921875, 42.699031829833984, 42.43733596801758, 42.93175506591797, 43.71797180175781, 44.0652961730957, 44.549381256103516, 44.50425338745117, 45.65852737426758, 45.07615661621094, 45.16256332397461, 44.824195861816406, 45.50691604614258, 45.02973937988281, 41.16622543334961, 40.48667526245117, 38.455020904541016, 39.1548957824707, 39.5698127746582, 39.39211654663086, 40.135406494140625, 37.26827621459961, 31.37946891784668, 31.162111282348633, 33.76346206665039, 37.890743255615234, 37.955989837646484, 37.07170486450195, 39.47488021850586, 37.55855178833008, 37.672176361083984, 38.12765121459961, 39.14351272583008, 39.75537872314453, 39.838680267333984, 39.06014633178711, 36.59889221191406, 37.181827545166016, 38.26612091064453, 37.53180694580078, 38.06983184814453, 37.24460983276367, 39.0653076171875, 37.05998992919922, 36.724578857421875, 35.87633514404297, 34.03541946411133, 36.012794494628906, 32.052146911621094, 28.53375244140625, 27.39710807800293, 29.648778915405273, 29.22112464904785, 29.193132400512695, 29.282167434692383, 29.644309997558594, 31.703075408935547, 30.825550079345703, 31.270437240600586, 30.006959915161133, 30.71237564086914, 29.771013259887695, 30.281782150268555, 28.30838966369629, 28.76421546936035, 29.774084091186523, 26.347869873046875, 28.546329498291016, 27.873756408691406, 26.850141525268555, 27.043636322021484, 32.67948913574219, 34.917110443115234, 33.65599060058594, 32.16719436645508, 26.915714263916016, 27.324214935302734, 30.239131927490234, 37.24535369873047, 33.539207458496094, 36.28776168823242, 34.78754425048828, 34.8631706237793, 32.991859436035156, 34.752479553222656, 35.470924377441406, 33.03746032714844, 33.96955490112305, 33.304141998291016, 31.32664680480957, 31.08031463623047, 33.71721267700195, 35.050724029541016, 37.39163589477539, 36.68461608886719, 40.41274642944336, 46.93703079223633, 38.4498176574707, 45.83426284790039, 45.01799392700195, 35.49833297729492, 35.640777587890625, 31.52354621887207, 32.9974250793457, 34.98868179321289, 41.603065490722656, 42.06663131713867, 42.26640701293945, 39.31631088256836, 39.76172637939453, 40.83900833129883, 43.953277587890625, 45.5128059387207, 46.471473693847656, 44.515777587890625, 42.79338073730469, 39.5191535949707, 40.690921783447266, 43.353153228759766, 43.88206100463867, 44.16360092163086, 44.1306266784668, 43.65244674682617, 41.3956298828125, 39.75154113769531, 39.617286682128906, 40.052101135253906, 41.02626037597656, 39.38839340209961, 38.07697296142578, 37.85444641113281, 39.444759368896484, 42.01655960083008, 42.60575866699219, 43.551422119140625, 44.701507568359375, 46.23401641845703, 46.898948669433594, 46.36012268066406, 43.190635681152344, 39.1631965637207, 40.21417999267578, 39.493896484375, 39.63102340698242, 42.617549896240234, 39.282230377197266, 44.48899841308594, 41.65533447265625, 40.99854278564453, 40.16357421875, 40.68030548095703, 41.89622116088867, 42.89011764526367, 44.334022521972656, 45.824954986572266, 45.94160461425781, 45.50197982788086, 45.039058685302734, 45.56279754638672, 44.9193000793457, 45.15093231201172, 44.549468994140625, 43.95248794555664, 43.87408447265625, 43.480892181396484, 5.071457862854004, 40.19698715209961, 41.98408126831055, 5.048366069793701, 42.25675964355469, 45.038902282714844, 38.31585693359375, 42.740291595458984, 42.78096389770508, 42.9442253112793, 40.31647491455078, 40.947696685791016, 46.86836624145508, 42.75605773925781, 25.73710823059082, 42.497344970703125, 42.966426849365234, 42.832679748535156, 42.83359146118164, 43.24951934814453, 43.30516052246094, 37.427642822265625, 36.855712890625, 43.13401794433594, 42.93878173828125, 46.09401321411133, 46.49905776977539, 37.310855865478516, 36.598045349121094, 36.944580078125, 43.081520080566406, 43.41512680053711, 43.178680419921875, 36.66422653198242, 36.47767639160156, 36.49453353881836, 43.138980865478516, 42.983184814453125, 43.52179718017578, 36.31037521362305, 36.76790237426758, 36.717891693115234, 43.23454284667969, 44.51655197143555, 44.85469436645508, 38.451622009277344, 37.98000717163086, 41.00096130371094, 46.40052032470703, 46.354183197021484, 50.740821838378906, 37.99810791015625, 37.733734130859375, 37.733516693115234, 46.12541198730469, 46.73320770263672, 47.50563430786133, 37.25712203979492, 37.89278793334961, 37.71870422363281, 46.83939743041992, 48.51626205444336, 48.42802429199219, 38.52070617675781, 38.080841064453125, 35.77826690673828, 49.982017517089844, 50.2846565246582, 46.2404899597168, 39.53583526611328, 39.51521682739258, 46.03285598754883, 50.54508972167969, 50.85834884643555, 51.29647445678711, 50.369564056396484, 38.956363677978516, 44.26893997192383, 44.352203369140625, 51.46967315673828, 51.42826843261719, 52.583465576171875, 43.79643249511719, 47.88431930541992, 44.384422302246094, 49.67237091064453, 52.969696044921875, 52.46479034423828, 46.87828826904297, 49.228023529052734, 47.577239990234375, 53.83100509643555, 52.98187255859375, 51.66059112548828, 46.05499267578125, 47.47391128540039, 48.56776809692383, 49.774906158447266, 51.239540100097656, 51.760929107666016, 46.22962951660156, 45.154090881347656, 45.865081787109375, 50.92595672607422, 50.10752868652344, 50.21084213256836, 49.112693786621094, 42.42096710205078, 48.32048797607422, 53.036434173583984, 48.4515495300293, 52.602970123291016, 47.224098205566406, 40.337520599365234, 47.65727233886719, 47.83138656616211, 47.18918991088867, 50.487117767333984, 46.410682678222656, 45.038429260253906, 45.384490966796875, 47.65997314453125, 50.250057220458984, 49.86457824707031, 51.1200065612793, 42.27440643310547, 45.025245666503906, 43.99848175048828, 47.93642807006836, 48.86132049560547, 47.753135681152344, 48.399959564208984, 49.15561294555664, 48.68292236328125, 49.447509765625, 49.60646438598633, 50.506256103515625, 47.417724609375, 47.22915267944336, 46.842811584472656, 50.381771087646484, 50.63793182373047, 50.813194274902344, 50.29106521606445, 48.15008544921875, 51.73839569091797, 49.958709716796875, 49.42686080932617, 49.324859619140625, 49.3459587097168, 49.28902053833008, 51.57804489135742, 50.85227584838867, 49.2523193359375, 49.34548568725586, 47.77306365966797, 47.52876281738281, 51.3793830871582, 44.71875762939453, 49.35238265991211, 46.64547348022461, 48.01758575439453, 48.49728012084961, 50.50076675415039, 47.4376220703125, 47.868682861328125, 47.381797790527344, 47.40245056152344, 46.31945037841797, 49.99394226074219, 41.81300354003906, 44.61579895019531, 48.58905029296875, 48.136497497558594, 48.343570709228516, 49.75031661987305, 50.314857482910156, 49.766578674316406, 49.33428955078125, 49.37185287475586, 49.121742248535156, 49.92586135864258, 49.400306701660156, 47.90475845336914, 48.99673843383789, 48.139129638671875, 46.402923583984375, 47.48165512084961, 41.12189865112305, 39.942100524902344, 47.37578582763672, 48.611236572265625, 42.22271728515625, 44.36619567871094, 39.23055648803711, 48.06350326538086, 48.144309997558594, 46.62343215942383, 43.804256439208984, 44.14216995239258, 43.50141143798828, 45.001625061035156, 44.6099853515625, 43.23797607421875, 40.48162078857422, 39.59754943847656, 39.070899963378906, 42.974178314208984, 42.923641204833984, 43.12685012817383, 39.45138168334961, 39.99853515625, 46.510459899902344, 42.53434371948242, 41.659000396728516, 41.14966583251953, 40.6744384765625, 41.17436981201172, 40.84756851196289, 43.28181457519531, 40.839141845703125, 41.24884796142578, 41.50111389160156, 40.905059814453125, 41.189064025878906, 41.07472229003906, 41.74960708618164, 41.645198822021484, 41.421443939208984, 41.222755432128906, 41.36396789550781, 41.239906311035156, 41.80208206176758, 41.04440689086914, 41.409854888916016, 41.551513671875, 42.896907806396484, 42.94157028198242, 41.00962448120117, 38.82516860961914, 44.327781677246094, 44.41102600097656, 44.490013122558594, 43.33434295654297, 41.24305725097656, 40.64393615722656, 41.035057067871094, 44.84943771362305, 44.768741607666016, 45.16216278076172, 40.7554817199707, 40.4279899597168, 40.209815979003906, 44.94319534301758, 44.90348815917969, 44.588226318359375, 40.08637237548828, 39.970542907714844, 38.923866271972656, 43.65113067626953, 43.573753356933594, 43.96464920043945, 37.718475341796875, 38.23151779174805, 39.53520202636719, 43.47000503540039, 45.55120086669922, 39.21464538574219, 38.55116653442383, 38.29088592529297, 44.505550384521484, 43.365535736083984, 43.32503890991211, 36.73680114746094, 40.04206848144531, 42.723724365234375, 44.13730239868164, 43.665924072265625, 45.54943084716797, 40.850067138671875, 41.910560607910156, 42.26336669921875, 44.88726806640625, 45.25229263305664, 46.71083450317383, 39.754634857177734, 40.039642333984375, 40.34247970581055, 43.86315155029297, 44.18154525756836, 43.5246696472168, 41.12328338623047, 40.85868453979492, 39.70769119262695, 45.22916030883789, 44.81990051269531, 43.900760650634766, 39.64723205566406, 39.340179443359375, 40.22541427612305, 43.11723327636719, 42.4629020690918, 43.76988220214844, 41.10302734375, 40.05997085571289, 40.60765075683594, 44.191192626953125, 43.258731842041016, 43.678077697753906, 39.917484283447266, 40.03033447265625, 37.91440963745117, 43.10152053833008, 43.58074188232422, 42.37623977661133, 42.21363067626953, 39.85566329956055, 39.41408157348633, 39.43210983276367, 43.093563079833984, 43.661521911621094, 42.57889938354492, 39.15667724609375, 39.23601531982422, 37.977638244628906, 42.6540412902832, 42.35889434814453, 41.971885681152344, 38.44889831542969, 38.02770233154297, 37.91728210449219, 42.16611099243164, 42.390289306640625, 42.10350036621094, 37.903682708740234, 37.96809005737305, 41.0207405090332, 42.45342254638672, 48.50453186035156, 48.47434616088867, 37.97673416137695, 37.814796447753906, 37.89573287963867, 42.10002899169922, 42.27328872680664, 42.24126434326172, 38.033729553222656, 38.20022964477539, 38.780574798583984, 42.79938507080078, 43.16880416870117, 44.12356948852539, 38.930416107177734, 40.20078659057617, 40.808074951171875, 44.73534393310547, 45.485931396484375, 48.438602447509766, 39.36117935180664, 38.215572357177734, 37.29438781738281, 46.7039680480957, 49.14915084838867, 50.01307678222656, 38.10626983642578, 37.214046478271484, 37.02609634399414, 46.747596740722656, 46.37795639038086, 46.80503463745117, 36.842315673828125, 37.24179458618164, 36.78394317626953, 47.05069351196289, 47.59769821166992, 47.51258850097656, 37.47895050048828, 39.22284698486328, 37.39830780029297, 48.18763732910156, 49.483299255371094, 48.971435546875, 36.60573959350586, 37.64716720581055, 46.92622756958008, 50.435951232910156, 53.20588684082031, 53.36045455932617, 39.860740661621094, 38.28385925292969, 42.47066879272461, 48.09177780151367, 52.65483093261719, 52.990257263183594, 43.033477783203125, 44.063392639160156, 44.637786865234375, 48.600894927978516, 53.173240661621094, 53.155216217041016, 45.75700759887695, 45.73944091796875, 46.20246505737305, 53.168209075927734, 52.87885284423828, 53.029273986816406, 47.1900520324707, 47.42572021484375, 45.834625244140625, 53.480506896972656, 51.84205627441406, 51.81533432006836, 46.9871711730957, 47.49155044555664, 46.89130783081055, 53.254554748535156, 53.05308151245117, 52.91902542114258, 46.575172424316406, 46.37395477294922, 46.23698425292969, 52.89751434326172, 52.241764068603516, 52.41887664794922, 46.06462097167969, 45.9036865234375, 45.97627639770508, 52.49538040161133, 52.54515075683594, 52.209686279296875, 45.8992805480957, 45.65339279174805, 42.74415588378906, 42.30218505859375, 51.76091003417969, 46.13939666748047, 45.76809310913086, 45.508453369140625, 45.3518180847168, 44.760414123535156, 51.20310592651367, 50.80604553222656, 50.55085372924805, 44.75770950317383, 43.975181579589844, 43.97785568237305, 49.793087005615234, 49.564109802246094, 48.73672866821289, 43.472869873046875, 43.547969818115234, 43.14362335205078, 47.97426986694336, 47.407875061035156, 46.63566970825195, 42.07572937011719, 38.7449836730957, 38.45379638671875, 45.356529235839844, 42.38459777832031, 42.138465881347656, 41.942352294921875, 41.50322341918945, 40.72443389892578, 44.87428283691406, 44.9118766784668, 44.81369400024414, 40.82904052734375, 40.254615783691406, 39.93254470825195, 43.795082092285156, 43.54736328125, 43.18752670288086, 39.608455657958984, 39.40987777709961, 38.966915130615234, 43.148773193359375, 42.95566177368164, 42.68634033203125, 38.26523208618164, 36.561920166015625, 41.49916458129883, 36.47172164916992, 36.61690139770508, 38.13359451293945, 37.90489196777344, 37.53813171386719, 41.271209716796875, 40.554840087890625, 40.016258239746094, 37.597049713134766, 37.46723937988281, 37.48091125488281, 38.651397705078125, 38.49583435058594, 38.016136169433594, 37.26201248168945, 37.00029754638672, 36.74787521362305, 37.5311393737793, 36.86570739746094, 36.65312957763672, 36.763916015625, 36.541160583496094, 38.95343017578125, 39.60762405395508, 35.7547492980957, 35.87009048461914, 37.53135299682617, 37.64549255371094, 36.56317901611328, 36.32905578613281, 36.80800247192383, 35.508243560791016, 37.18000030517578, 35.80657958984375, 36.54342269897461, 37.64801788330078, 34.93149948120117, 35.12625503540039, 36.94679641723633, 37.428001403808594, 38.683250427246094, 37.27090835571289, 35.01880645751953, 36.475341796875, 36.20901107788086, 39.00822067260742, 41.10295104980469, 40.614524841308594, 37.51560974121094, 40.18030548095703, 40.73173904418945, 38.34756088256836, 38.1280632019043, 37.481327056884766, 36.18511962890625, 36.505950927734375, 35.6769905090332, 38.70833206176758, 39.334415435791016, 40.43030548095703, 37.18669891357422, 37.359275817871094, 37.710670471191406, 41.270565032958984, 40.68089294433594, 40.13207244873047, 39.00448989868164, 38.852455139160156, 38.80336380004883, 40.26089096069336, 38.21210861206055, 42.78612518310547, 42.2910041809082, 45.386417388916016, 41.37830352783203, 40.9250602722168, 41.503746032714844, 43.641780853271484, 41.50872802734375, 39.598106384277344, 41.39081573486328, 38.34516906738281, 43.5362434387207, 43.9953727722168, 42.45951843261719, 38.82389450073242, 38.8340950012207, 37.28886032104492, 42.942230224609375, 43.48786544799805, 43.7705078125, 40.179744720458984, 37.24068069458008, 40.146202087402344, 43.822166442871094, 42.992919921875, 45.24961471557617, 35.987998962402344, 35.370513916015625, 37.83830261230469, 42.29034423828125, 41.65312957763672, 42.91444778442383, 35.2338981628418, 38.29447937011719, 37.43256378173828, 42.560245513916016, 42.551666259765625, 41.24126052856445, 39.143882751464844, 40.931087493896484, 39.00679016113281, 42.75143814086914, 43.67044448852539, 42.875999450683594, 41.86504364013672, 36.375152587890625, 40.39921951293945, 45.74958801269531, 41.78062057495117, 42.11147689819336, 44.41737365722656, 38.953670501708984, 41.81729507446289, 40.99331283569336, 44.413230895996094, 44.93669509887695, 44.65983200073242, 40.94075393676758, 41.59640121459961, 40.305999755859375, 44.82361602783203, 43.97060012817383, 43.75826644897461, 39.714054107666016, 39.772308349609375, 37.84748840332031, 43.389976501464844, 43.86087417602539, 42.377864837646484, 43.12528991699219, 40.555850982666016, 39.02143096923828, 44.34185791015625, 43.75429916381836, 40.860130310058594, 39.712806701660156, 38.95163345336914, 44.12152862548828, 43.29425811767578, 43.154293060302734, 38.553836822509766, 38.902870178222656, 38.47917556762695, 42.685726165771484, 43.14467239379883, 42.43763732910156, 38.68196487426758, 38.49734878540039, 37.93731689453125, 42.91490173339844, 42.58045959472656, 42.30122756958008, 39.93901062011719, 41.206241607666016, 42.32925033569336, 45.0625114440918, 44.768253326416016, 45.10854721069336, 48.4067497253418, 42.94452667236328, 43.941314697265625, 45.0250129699707, 46.87578582763672, 48.683799743652344, 49.30289077758789, 45.69130325317383, 45.51968002319336, 43.33317947387695, 50.223167419433594, 49.91068649291992, 48.161991119384766, 41.782684326171875, 41.575748443603516, 41.50417709350586, 47.170040130615234, 49.271053314208984, 49.39752197265625, 48.310054779052734, 35.788246154785156, 36.330955505371094, 51.03690719604492, 41.08879089355469, 42.11050033569336, 47.00495910644531, 48.13290023803711, 50.76300811767578, 49.42012023925781, 47.99519729614258, 48.12348556518555, 37.37592697143555, 33.94762420654297, 36.685089111328125, 41.92626953125, 41.92765808105469, 41.3697509765625, 38.84214401245117, 43.93472671508789, 44.74740219116211, 40.19205093383789, 41.53587341308594, 43.50637435913086, 45.61438751220703, 47.48956298828125, 48.53583526611328, 45.17776870727539, 44.76506423950195, 44.79412841796875, 47.74609375, 51.79011917114258, 51.63993453979492, 49.91331100463867, 51.6253776550293, 53.47754669189453, 51.850852966308594, 50.707374572753906, 51.29973220825195, 46.60906982421875, 45.8204231262207, 47.3883171081543, 51.06250762939453, 51.30624771118164, 51.426883697509766, 48.483909606933594, 48.474891662597656, 47.37964630126953, 46.76609420776367, 46.485538482666016, 42.69502639770508, 45.99236297607422, 45.28300476074219, 45.0471305847168, 43.503273010253906, 43.061988830566406, 42.86270523071289, 42.45954132080078, 42.256046295166016, 37.16080093383789, 38.035362243652344, 41.85244369506836, 41.48695755004883, 41.160648345947266, 38.23767852783203, 37.121490478515625, 36.73764419555664, 36.190372467041016, 34.49563980102539, 34.64892578125, 35.97254180908203, 35.679439544677734, 35.59990310668945, 34.58973693847656, 34.412601470947266, 34.648658752441406, 34.42169952392578, 37.06439208984375, 38.13136291503906, 34.449886322021484, 34.40359878540039, 34.38446044921875, 34.984642028808594, 35.486087799072266, 36.09574890136719, 38.575557708740234, 44.02669906616211, 44.282901763916016, 41.15435791015625, 41.753055572509766, 42.70488739013672, 44.4732551574707, 44.191593170166016, 44.2298583984375, 44.64309310913086, 43.928466796875, 44.79400634765625, 44.22285079956055, 44.288082122802734, 43.92197799682617, 44.019371032714844, 43.49003601074219, 43.24462127685547, 43.26999282836914, 42.49274826049805, 42.62442398071289, 42.93973159790039, 42.898033142089844, 42.87370681762695, 45.53804397583008, 42.8851432800293, 43.255157470703125, 41.52470779418945, 43.9571647644043, 38.946495056152344, 42.308433532714844, 42.15752410888672, 43.102203369140625, 42.83072280883789, 43.10921096801758, 44.19480514526367, 43.8535270690918, 50.25688934326172, 51.00703430175781, 44.668418884277344, 45.07904815673828, 45.37528610229492, 49.13660430908203, 49.28170394897461, 49.68886947631836, 35.98561096191406, 35.1082763671875, 36.10085678100586, 48.1358642578125, 47.95108413696289, 50.267784118652344, 50.8310432434082, 34.673072814941406, 34.02761459350586, 34.40803909301758, 47.22828674316406, 46.63863754272461, 46.792686462402344, 34.44158935546875, 35.00117111206055, 35.89427185058594, 47.715057373046875, 48.18293762207031, 49.51820755004883, 37.199153900146484, 37.322879791259766, 46.65673828125, 51.468406677246094, 54.50069046020508, 54.25715255737305, 38.11990737915039, 39.28622055053711, 40.065185546875, 52.81904983520508, 52.977333068847656, 53.30448913574219, 44.56166458129883, 45.28934860229492, 45.58050537109375, 54.4865608215332, 54.53977584838867, 54.49357604980469, 46.780052185058594, 47.19654846191406, 45.992958068847656, 54.20307159423828, 51.916805267333984, 51.68666076660156, 47.15168762207031, 47.34716033935547, 47.122032165527344, 54.076297760009766, 53.73182678222656, 53.72307586669922, 46.798091888427734, 46.31825637817383, 46.15190505981445, 52.81171417236328, 52.41117477416992, 52.02738952636719, 45.640342712402344, 45.563777923583984, 44.950313568115234, 51.36875915527344, 47.306297302246094, 45.38978958129883, 44.842342376708984, 44.91315841674805, 51.06261444091797, 50.69724655151367, 50.205631256103516, 44.29874038696289, 44.75029754638672, 44.942047119140625, 48.45863342285156, 48.25785827636719, 47.93307876586914, 44.541255950927734, 43.853824615478516, 41.45032501220703, 46.661380767822266, 46.284297943115234, 42.7260856628418, 42.27166748046875, 43.59718322753906, 43.09046173095703, 43.32484436035156, 45.735694885253906, 45.385169982910156, 45.12046813964844, 42.62580108642578, 42.15520477294922, 41.64887237548828, 43.5289421081543, 43.48088073730469, 42.939273834228516, 40.80461502075195, 39.54787826538086, 37.24183654785156, 40.67381286621094, 34.691463470458984, 34.087215423583984, 39.52155685424805, 38.9570198059082, 38.606021881103516, 39.99995422363281, 39.39799118041992, 38.7499885559082, 37.78422927856445, 37.34164810180664, 36.70600509643555, 36.1931037902832, 35.525001525878906, 34.85175323486328, 36.68952560424805, 36.140018463134766, 33.32223129272461, 34.064422607421875, 33.33270263671875, 36.010467529296875, 35.4901123046875, 35.383880615234375, 33.68507766723633, 33.60702133178711, 33.44611358642578, 34.90489196777344, 34.528175354003906, 33.819576263427734, 33.17033386230469, 33.01464080810547, 32.83549118041992, 33.47819900512695, 33.22077178955078, 33.47005844116211, 33.54678726196289, 33.67182540893555, 36.17243576049805, 35.916324615478516, 33.15020751953125, 33.459346771240234, 33.15496063232422, 34.41108703613281, 34.502647399902344, 34.81665802001953, 33.60833740234375, 33.22461700439453, 33.406917572021484, 33.42903518676758, 33.73756790161133, 34.174659729003906, 33.03257751464844, 34.33631134033203, 35.798545837402344, 36.20259094238281, 39.58195495605469, 41.00708770751953, 34.03524398803711, 34.495277404785156, 35.00479507446289, 37.13874816894531, 37.39482879638672, 38.24483108520508, 35.56557846069336, 35.66017150878906, 34.27983474731445, 39.5642204284668, 39.53569793701172, 38.84484100341797, 36.62471389770508, 36.11146926879883, 36.603092193603516, 40.86149215698242, 42.13265609741211, 35.93489456176758, 35.61591339111328, 36.00883865356445, 40.981353759765625, 41.0057258605957, 41.306549072265625, 36.343284606933594, 36.586509704589844, 37.27421951293945, 41.501346588134766, 41.76929473876953, 42.081993103027344, 36.509273529052734, 37.182125091552734, 37.89234924316406, 41.98737335205078, 42.369140625, 41.757606506347656, 36.9209098815918, 37.249359130859375, 37.03168869018555, 42.33018493652344, 42.53057861328125, 42.26000213623047, 37.76978302001953, 37.35820388793945, 38.00465393066406, 41.8243293762207, 41.39497375488281, 41.50434112548828, 38.30567169189453, 38.225746154785156, 41.015045166015625, 42.1710205078125, 41.58830261230469, 46.22745895385742, 45.568016052246094, 38.301918029785156, 39.02481460571289, 38.900577545166016, 42.09021759033203, 42.07466125488281, 42.73380661010742, 39.822021484375, 39.67643356323242, 39.92740249633789, 15.639546394348145, 44.74220275878906, 45.00267791748047, 39.53080749511719, 40.37856674194336, 44.106300354003906, 44.49738311767578, 46.57463455200195, 49.57074737548828, 49.73755645751953, 40.933536529541016, 41.747249603271484, 41.70713806152344, 48.45108413696289, 48.725502014160156, 48.59935760498047, 44.86711120605469, 44.76996612548828, 44.467716217041016, 49.845211029052734, 50.29872512817383, 49.70112228393555, 48.78333282470703, 50.19051742553711, 50.03117370605469, 48.57774353027344, 48.523189544677734, 49.509765625, 49.31455993652344, 49.677120208740234, 49.90019607543945, 50.83957290649414, 51.81731414794922, 52.0335807800293, 50.76066970825195, 50.76211166381836, 50.854164123535156, 51.44737243652344, 51.484657287597656, 51.739341735839844, 52.419715881347656, 51.669273376464844, 51.423770904541016, 52.7652702331543, 52.727577209472656, 52.83330154418945, 51.865760803222656, 51.751243591308594, 52.091854095458984, 51.207332611083984, 50.24117660522461, 50.02134323120117, 51.109901428222656, 51.28457260131836, 51.01973342895508, 50.69298553466797, 50.490325927734375, 50.39125061035156, 49.680442810058594, 46.9795036315918, 49.477596282958984, 49.474666595458984, 49.17023849487305, 48.149322509765625, 47.37346649169922, 46.9780158996582, 46.499202728271484, 45.52131271362305, 43.22279357910156, 43.014095306396484, 45.58560562133789, 45.25299835205078, 45.19392395019531, 44.004581451416016, 43.8542366027832, 43.70023727416992, 42.62866973876953, 40.72431564331055, 42.54971694946289, 42.50253677368164, 42.45705032348633, 41.48564910888672, 40.894107818603516, 40.7611198425293, 40.54670333862305, 40.387115478515625, 39.58632278442383, 39.170196533203125, 40.18202209472656, 38.97670364379883, 36.85649871826172, 38.10448455810547, 39.17675018310547, 41.20588302612305, 41.24444580078125, 41.5662841796875, 40.83074188232422, 40.70367431640625, 40.11540985107422, 41.41175842285156, 41.38416290283203, 41.310325622558594, 42.00112533569336, 41.771419525146484, 40.90532684326172, 42.10690689086914, 41.502220153808594, 41.1049919128418, 39.37704086303711, 42.88844299316406, 40.15725326538086, 38.36097717285156, 41.57008361816406, 42.64836120605469, 41.09589767456055, 41.944244384765625, 41.63713836669922, 42.10300827026367, 44.10314178466797, 42.94477081298828, 43.73424530029297, 43.45191955566406, 45.78573989868164, 43.40430450439453, 43.63408660888672, 43.57671356201172, 44.71965408325195, 44.818023681640625, 45.58387756347656, 45.85073471069336, 46.02861022949219, 47.53581237792969, 47.52772903442383, 46.199241638183594, 45.74302291870117, 46.470680236816406, 47.59534454345703, 47.130680084228516, 47.13998031616211, 48.710365295410156, 48.209720611572266, 47.23472213745117, 47.222957611083984, 43.94867706298828, 44.03278732299805, 46.8581428527832, 47.97339630126953, 48.050804138183594, 47.41930389404297, 47.60153579711914, 46.583621978759766, 46.27571105957031, 45.93608093261719, 44.10636520385742, 47.326026916503906, 46.22364044189453, 46.98166275024414, 46.442771911621094, 47.3823127746582, 45.86275100708008, 45.2047004699707, 44.56365203857422, 45.19281005859375, 45.542213439941406, 46.82054901123047, 44.57762145996094, 44.45011901855469, 44.1231575012207, 41.06650924682617, 45.09456253051758, 44.504173278808594, 45.37848663330078, 46.55511474609375, 47.21182632446289, 46.94319152832031, 46.3134765625, 45.51871871948242, 45.31764221191406, 39.43787384033203, 35.78984451293945, 38.506195068359375, 38.5744743347168, 38.03511428833008, 40.17664337158203, 38.90853500366211, 39.30826187133789, 44.20527648925781, 39.25359344482422, 37.59233093261719, 35.22706985473633, 36.55118942260742, 43.236671447753906, 34.159019470214844, 35.33091735839844, 45.232730865478516, 47.6710205078125, 47.59740447998047, 47.30567932128906, 48.33149719238281, 48.001163482666016, 47.66741943359375, 44.41035842895508, 39.10307693481445, 33.2784538269043, 38.22201919555664, 45.82757568359375, 33.153533935546875, 29.915674209594727, 30.280046463012695, 33.38655090332031, 36.105411529541016, 32.37390899658203, 33.83450698852539, 31.4058780670166, 28.18128776550293, 44.62673568725586, 42.09341049194336, 42.94783020019531, 45.78425979614258, 44.670387268066406, 33.835811614990234, 34.46477127075195, 32.189937591552734, 36.46705627441406, 37.549781799316406, 40.764408111572266, 41.759708404541016, 45.89426803588867, 51.73257064819336, 52.27109909057617, 44.965091705322266, 41.886070251464844, 44.941104888916016, 45.8625602722168, 45.63548278808594, 51.51841354370117, 52.23660659790039, 51.79821014404297, 52.313941955566406, 52.605316162109375, 45.148406982421875, 45.76397705078125, 53.50466537475586, 51.16579055786133, 51.33964920043945, 53.431678771972656, 48.69670486450195, 44.48887252807617, 44.54820251464844, 46.559913635253906, 47.3226318359375, 43.29436111450195, 36.35411071777344, 43.861732482910156, 49.75172805786133, 55.56685256958008, 48.74037170410156, 44.09925079345703, 46.033329010009766, 43.110084533691406, 36.21638488769531, 41.20221710205078, 38.75446319580078, 42.08036422729492, 41.204200744628906, 45.817840576171875, 40.110233306884766, 42.17803192138672, 42.27024459838867, 48.60792541503906, 43.53127670288086, 43.31428527832031, 42.838584899902344, 42.62739562988281, 44.3774528503418, 43.912296295166016, 43.842769622802734, 43.80379104614258, 44.79505920410156, 44.91102981567383, 44.8255729675293, 45.1138801574707, 45.11499786376953, 44.028587341308594, 44.33795166015625, 44.349674224853516, 44.411399841308594, 43.840301513671875, 42.1354866027832, 41.98362350463867, 43.76118087768555, 42.30976867675781, 40.968849182128906, 40.6973762512207, 40.30299377441406, 40.854759216308594, 39.96613311767578, 40.04745864868164, 41.380523681640625, 41.14639663696289, 42.23454666137695, 41.338661193847656, 39.20844650268555, 40.265010833740234, 38.77434539794922, 37.0457763671875, 38.422698974609375, 41.142486572265625, 39.46037673950195, 40.94813537597656, 41.76634979248047, 43.66445541381836, 45.487518310546875, 46.892738342285156, 44.14687728881836, 44.1998405456543, 44.34450912475586, 44.0238037109375, 44.03107833862305, 42.79063415527344, 41.88738250732422, 39.09858703613281, 42.07440948486328, 48.00258255004883, 46.966888427734375, 45.86922073364258, 45.34542465209961, 46.34355163574219, 47.964534759521484, 47.406131744384766, 45.829830169677734, 46.5009765625, 45.787498474121094, 46.60332107543945, 44.095245361328125, 45.86099624633789, 46.19305419921875, 41.14360809326172, 42.63702392578125, 44.07802200317383, 45.05097961425781, 45.60529327392578, 46.793190002441406, 46.79991149902344, 47.08114242553711, 46.60338592529297, 46.13433837890625, 43.480831146240234, 43.701820373535156, 45.28509521484375, 41.61040496826172, 41.67869567871094, 42.45405197143555, 43.831722259521484, 42.93363571166992, 42.69055938720703, 43.1862907409668, 42.53131103515625, 43.900211334228516, 43.897674560546875, 44.12510299682617, 43.81230163574219, 42.76479721069336, 41.643798828125, 43.065547943115234, 43.070167541503906, 44.40532684326172, 45.75318145751953, 44.98295211791992, 43.84577941894531, 44.07661819458008, 40.28902053833008, 45.27183532714844, 44.47872543334961, 42.38984298706055, 40.971153259277344, 38.89462661743164, 40.88960647583008, 38.188411712646484, 41.95313262939453, 40.65349197387695, 37.23910140991211, 33.40380859375, 45.75550842285156, 45.7135009765625, 38.95326614379883, 41.703067779541016, 44.56204605102539, 43.138362884521484, 43.060237884521484, 41.4734001159668, 42.534507751464844, 41.71385955810547, 44.60726547241211, 44.47486114501953, 43.180458068847656, 42.49700927734375, 41.404083251953125, 42.26351547241211, 43.261234283447266, 43.63181686401367, 44.02900314331055, 43.33637237548828, 42.7808837890625, 43.44041061401367, 43.95994186401367, 43.34178924560547, 48.42286682128906, 47.85700225830078, 44.56241989135742, 43.9256477355957, 45.69978713989258, 42.452056884765625, 44.44691467285156, 47.79112243652344, 45.20016860961914, 46.58027267456055, 47.47608184814453, 47.732444763183594, 42.09381103515625, 43.6030158996582, 49.16463851928711, 48.84360122680664, 48.69580841064453, 48.54941940307617, 51.58707046508789, 55.41630554199219, 49.599552154541016, 49.73986053466797, 46.03905487060547, 46.533226013183594, 46.31171417236328, 44.90877151489258, 52.66333770751953, 52.27170181274414, 52.2878303527832, 50.92672348022461, 50.51738357543945, 48.695308685302734, 47.025115966796875, 45.993412017822266, 42.35204315185547, 44.64734649658203, 45.48759078979492, 42.75360107421875, 44.49858093261719, 46.05408477783203, 45.888423919677734, 44.447269439697266, 45.03816223144531, 42.91178512573242, 43.36753845214844, 46.404502868652344, 41.9370002746582, 41.468109130859375, 43.544029235839844, 45.032047271728516, 43.07234191894531, 43.408321380615234, 45.46689987182617, 42.707881927490234, 41.69843673706055, 46.762542724609375, 48.54484558105469, 47.96058654785156, 47.509037017822266, 45.55078887939453, 46.055049896240234, 46.11859130859375, 46.09980773925781, 46.020912170410156, 45.51949691772461, 45.092864990234375, 44.932945251464844, 45.458560943603516, 45.65342712402344, 45.461666107177734, 46.37017059326172, 46.20779037475586, 47.444435119628906, 46.022308349609375, 45.8142204284668, 45.75673294067383, 46.57164001464844, 47.246009826660156, 47.03118896484375, 46.86329650878906, 46.96382522583008, 47.20702362060547, 43.01713943481445, 43.728084564208984, 34.45517349243164, 41.52444839477539, 42.283348083496094, 43.008583068847656, 43.20502471923828, 42.375526428222656, 40.593441009521484, 37.23293685913086, 36.15702819824219, 34.33238220214844, 33.31620407104492, 32.09623718261719, 31.790021896362305, 32.105804443359375, 31.880584716796875, 31.75802230834961, 32.491634368896484, 32.64728546142578, 32.261138916015625, 28.288034439086914, 31.67783546447754, 44.84650421142578, 43.99489212036133, 27.03084945678711, 41.643821716308594, 48.000370025634766, 39.77643585205078, 40.43899917602539, 42.42698669433594, 40.84794235229492, 30.36174201965332, 36.81718063354492, 37.43336486816406, 45.62522506713867, 41.117855072021484, 40.46300506591797, 41.72124481201172, 41.09001541137695, 42.41992950439453, 42.95270919799805, 43.32246398925781, 43.95906448364258, 43.65009689331055, 41.60107421875, 43.770050048828125, 40.42620849609375, 39.58384704589844, 41.44731140136719, 35.303504943847656, 34.369014739990234, 34.2760124206543, 43.119720458984375, 41.81938934326172, 40.74379348754883, 40.02342224121094, 41.303401947021484, 40.55307388305664, 36.599586486816406, 37.35235595703125, 33.52839660644531, 34.67660140991211, 35.194862365722656, 33.50731658935547, 32.92137145996094, 34.77986145019531, 33.94630813598633, 34.12708282470703, 35.65662384033203, 35.424957275390625, 33.37844467163086, 33.853424072265625, 35.39251708984375, 37.87693786621094, 39.06657028198242, 39.50400924682617, 38.77254867553711, 40.181026458740234, 40.93743133544922, 40.42948532104492, 39.30942153930664, 37.02857208251953, 39.344032287597656, 38.964927673339844, 35.18741226196289, 35.53483581542969, 35.20610046386719, 35.88021469116211, 32.491302490234375, 32.752845764160156, 35.47331237792969, 34.917259216308594, 35.25566101074219, 35.549827575683594, 34.00891876220703, 33.6597900390625, 34.3801383972168, 33.27317428588867, 32.772308349609375, 31.824430465698242, 32.019012451171875, 32.304901123046875, 31.798093795776367, 32.31094741821289, 32.85630416870117, 33.31684875488281, 33.35747528076172, 33.27360534667969, 40.54258728027344, 40.89186096191406, 33.293792724609375, 33.42186737060547, 32.86410140991211, 32.72015380859375, 32.57271194458008, 32.856746673583984, 33.508663177490234, 33.93209457397461, 34.353607177734375, 34.744022369384766, 36.26826095581055, 39.674190521240234, 41.78004455566406, 41.6541862487793, 40.86058044433594, 40.60212326049805, 42.4056510925293, 43.05864334106445, 48.344566345214844, 48.06594467163086, 43.34912109375, 43.72441101074219, 44.41712188720703, 44.345252990722656, 44.459877014160156, 44.99480056762695, 44.594200134277344, 44.417911529541016, 44.893314361572266, 45.397544860839844, 46.643733978271484, 46.39075469970703, 47.14408493041992, 47.81333923339844, 48.44558334350586, 51.13113784790039, 41.36305236816406, 45.65599822998047, 52.609683990478516, 51.818641662597656, 42.4664192199707, 41.03298568725586, 44.302947998046875, 51.17847442626953, 53.136268615722656, 51.65346908569336, 52.20424270629883, 47.06841278076172, 49.8055534362793, 47.70137023925781, 45.13555145263672, 43.29218673706055, 46.194515228271484, 40.1721076965332, 45.580745697021484, 40.17436599731445, 41.3983039855957, 38.88397216796875, 43.64448165893555, 42.83796691894531, 34.43950271606445, 48.2115592956543, 47.440338134765625, 45.25159454345703, 48.56937789916992, 44.663330078125, 45.8408203125, 43.93928527832031, 44.78974533081055, 44.899845123291016, 45.45888137817383, 45.19880676269531, 51.09196472167969, 51.513912200927734, 50.78607177734375, 49.60020446777344, 49.743465423583984, 49.66383743286133, 49.48595428466797, 47.55215072631836, 47.65711975097656, 49.683345794677734, 51.59684371948242, 50.904823303222656, 53.007083892822266, 52.85658264160156, 53.702327728271484, 54.39867401123047, 54.43578338623047, 52.93586730957031, 53.06339645385742, 53.33715057373047, 53.109432220458984, 53.056270599365234, 52.894920349121094, 52.78996658325195, 52.70294952392578, 51.31281661987305, 51.76344680786133, 51.372066497802734, 52.14619064331055, 51.13908004760742, 50.41191482543945, 50.62836837768555, 50.391353607177734, 50.3023567199707, 50.660865783691406, 51.6522216796875, 50.350852966308594, 48.95695877075195, 49.96506881713867, 50.4278678894043, 49.834842681884766, 49.5797119140625, 48.32248306274414, 48.90520095825195, 48.86238098144531, 48.63662338256836, 48.58220291137695, 49.32986068725586, 48.2221794128418, 42.89680099487305, 46.84254837036133, 47.167598724365234, 46.87800216674805, 45.6368293762207, 43.64200973510742, 42.15449905395508, 43.45293045043945, 42.33295822143555, 42.50108337402344, 40.82978820800781, 43.519657135009766, 41.55337905883789, 44.266334533691406, 41.02497100830078, 38.64042663574219, 40.78480911254883, 42.05942916870117, 42.42028045654297, 39.54661178588867, 42.40911102294922, 42.36952590942383, 46.442291259765625, 44.85036849975586, 47.00395584106445, 44.377742767333984, 45.844444274902344, 47.44377899169922, 43.989280700683594, 47.622188568115234, 45.5583381652832, 43.93819808959961, 44.467742919921875, 45.166812896728516, 46.79458236694336, 46.339805603027344, 47.37357711791992, 43.31924057006836, 45.513912200927734, 43.22056579589844, 46.623348236083984, 46.66652297973633, 44.88241195678711, 45.836570739746094, 47.57954406738281, 47.38920593261719, 47.826290130615234, 44.90684509277344, 45.64496994018555, 47.37976837158203, 44.90138244628906, 48.42622756958008, 44.990882873535156, 46.032474517822266, 49.45662307739258, 51.386051177978516, 50.367401123046875, 45.50017547607422, 45.986534118652344, 46.35176086425781, 50.74528503417969, 50.580909729003906, 49.35424041748047, 45.4621696472168, 50.3917121887207, 48.87058639526367, 47.86497116088867, 48.94846725463867, 51.42992401123047, 50.19807052612305, 51.3148193359375, 53.7925910949707, 48.79662322998047, 49.245948791503906, 46.56868362426758, 47.88311767578125, 47.221797943115234, 48.55812454223633, 47.92132568359375, 49.82166290283203, 43.877140045166016, 47.57120895385742, 49.274070739746094, 50.555328369140625, 49.335182189941406, 47.36099624633789, 50.10699462890625, 50.45125961303711, 50.0403938293457, 47.545467376708984, 47.15504837036133, 48.70640563964844, 47.83916091918945, 48.21963882446289, 47.59135818481445, 47.26516342163086, 47.090179443359375, 49.324951171875, 47.32612609863281, 47.57308578491211, 47.384761810302734, 48.738826751708984, 48.56447982788086, 48.06196594238281, 48.99233627319336, 49.558349609375, 49.382789611816406, 51.022796630859375, 50.62105941772461, 51.84545135498047, 51.122379302978516, 50.667118072509766, 49.89242172241211, 47.75801086425781, 46.76944351196289, 48.31526184082031, 49.74003601074219, 49.79774475097656, 50.095706939697266, 53.12307357788086, 51.77428436279297, 48.2192497253418, 46.04830551147461, 48.61628723144531, 50.618507385253906, 53.010623931884766, 51.763954162597656, 51.17689514160156, 49.88212203979492, 48.28445053100586, 48.464935302734375, 48.879295349121094, 43.30467224121094, 47.638092041015625, 42.84404754638672, 43.315582275390625, 46.54094314575195, 47.867042541503906, 48.74962615966797, 49.508583068847656, 46.83808517456055, 47.239402770996094, 47.74656677246094, 49.223690032958984, 48.68022918701172, 48.50144577026367, 49.35432815551758, 49.97113800048828, 49.62126541137695, 48.969696044921875, 49.580745697021484, 50.116729736328125, 46.188636779785156, 47.035972595214844, 47.37992477416992, 46.46243667602539, 45.58836364746094, 39.04794692993164, 41.74989318847656, 43.49265670776367, 48.67063903808594, 50.953609466552734, 45.980690002441406, 44.04948425292969, 42.61819076538086, 45.68635940551758, 41.45281219482422, 43.144561767578125, 42.79816436767578, 45.99384307861328, 43.778812408447266, 42.368709564208984, 45.015254974365234, 46.316383361816406, 46.134586334228516, 44.126895904541016, 39.33920669555664, 41.27850341796875, 43.66526412963867, 51.11924743652344, 49.5908317565918, 42.636009216308594, 51.00465393066406, 47.737770080566406, 48.34135437011719, 46.792335510253906, 52.588401794433594, 53.203914642333984, 51.625362396240234, 45.33323287963867, 44.029930114746094, 45.947425842285156, 50.07875442504883, 50.798736572265625, 50.07415771484375, 46.158348083496094, 37.19507598876953, 30.800764083862305, 32.15869903564453, 32.72287368774414, 32.77495193481445, 32.20648193359375, 34.76860427856445, 49.577880859375, 50.95669174194336, 51.21722412109375, 52.79422378540039, 36.72134017944336, 50.059024810791016, 38.877113342285156, 35.66755294799805, 31.42304039001465, 31.271440505981445, 32.46610641479492, 43.36465072631836, 37.45490264892578, 37.67377853393555, 34.33221435546875, 34.576454162597656, 34.145843505859375, 32.521629333496094, 30.922367095947266, 35.301124572753906, 47.57149887084961, 49.26118850708008, 50.75554656982422, 50.501136779785156, 50.387821197509766, 46.867618560791016, 31.098388671875, 31.884790420532227, 31.286043167114258, 31.870250701904297, 36.042049407958984, 44.43503952026367, 45.34077072143555, 46.44303894042969, 47.955936431884766, 50.73711013793945, 49.4050407409668, 39.54072952270508, 38.33375930786133, 52.139320373535156, 46.14958953857422, 47.91789627075195, 49.77580261230469, 45.27071762084961, 46.397361755371094, 45.918678283691406, 51.381996154785156]\n",
            "[83.0, 83.0, 84.0, 63.0, 67.0, 67.0, 67.0, 75.0, 75.0, 75.0, 75.0, 75.0, 89.0, 89.0, 89.0, 89.0, 89.0, 89.0, 75.0, 70.0, 75.0, 70.0, 70.0, 70.0, 70.0, 75.0, 75.0, 70.0, 70.0, 70.0, 70.0, 70.0, 70.0, 70.0, 70.0, 70.0, 66.0, 66.0, 66.0, 66.0, 66.0, 66.0, 66.0, 66.0, 70.0, 70.0, 70.0, 70.0, 70.0, 70.0, 70.0, 67.0, 67.0, 67.0, 67.0, 67.0, 67.0, 67.0, 67.0, 67.0, 67.0, 67.0, 79.0, 79.0, 83.0, 83.0, 79.0, 79.0, 79.0, 79.0, 79.0, 79.0, 79.0, 79.0, 79.0, 79.0, 79.0, 79.0, 79.0, 67.0, 63.0, 63.0, 63.0, 67.0, 67.0, 67.0, 59.0, 59.0, 59.0, 59.0, 59.0, 59.0, 56.0, 56.0, 67.0, 67.0, 70.0, 75.0, 75.0, 75.0, 89.0, 89.0, 89.0, 63.0, 63.0, 63.0, 63.0, 63.0, 63.0, 67.0, 67.0, 67.0, 59.0, 59.0, 59.0, 59.0, 59.0, 59.0, 59.0, 59.0, 59.0, 59.0, 56.0, 56.0, 70.0, 70.0, 70.0, 70.0, 70.0, 70.0, 75.0, 75.0, 70.0, 70.0, 70.0, 70.0, 70.0, 70.0, 70.0, 70.0, 70.0, 70.0, 70.0, 70.0, 70.0, 70.0, 70.0, 70.0, 70.0, 70.0, 70.0, 66.0, 66.0, 66.0, 66.0, 66.0, 66.0, 70.0, 70.0, 70.0, 70.0, 70.0, 66.0, 67.0, 67.0, 67.0, 67.0, 67.0, 67.0, 67.0, 67.0, 67.0, 67.0, 67.0, 67.0, 67.0, 67.0, 67.0, 67.0, 67.0, 67.0, 67.0, 67.0, 71.0, 71.0, 71.0, 71.0, 71.0, 70.0, 67.0, 63.0, 63.0, 63.0, 67.0, 67.0, 67.0, 59.0, 59.0, 59.0, 59.0, 59.0, 59.0, 56.0, 56.0, 79.0, 79.0, 70.0, 70.0, 70.0, 70.0, 70.0, 70.0, 70.0, 70.0, 74.0, 74.0, 70.0, 70.0, 74.0, 74.0, 74.0, 74.0, 74.0, 74.0, 74.0, 74.0, 88.0, 88.0, 74.0, 88.0, 88.0, 88.0, 88.0, 88.0, 88.0, 79.0, 79.0, 79.0, 79.0, 79.0, 88.0, 88.0, 70.0, 70.0, 70.0, 70.0, 70.0, 70.0, 70.0, 70.0, 70.0, 70.0, 70.0, 70.0, 70.0, 70.0, 70.0, 70.0, 70.0, 66.0, 66.0, 66.0, 66.0, 66.0, 70.0, 70.0, 70.0, 70.0, 70.0, 70.0, 70.0, 70.0, 70.0, 70.0, 70.0, 70.0, 70.0, 70.0, 66.0, 66.0, 66.0, 66.0, 66.0, 66.0, 66.0, 63.0, 63.0, 63.0, 66.0, 66.0, 70.0, 70.0, 70.0, 70.0, 70.0, 70.0, 70.0, 70.0, 70.0, 70.0, 70.0, 70.0, 67.0, 67.0, 60.0, 60.0, 60.0, 56.0, 56.0, 56.0, 63.0, 63.0, 63.0, 60.0, 60.0, 60.0, 63.0, 63.0, 63.0, 63.0, 63.0, 63.0, 60.0, 63.0, 63.0, 59.0, 59.0, 56.0, 56.0, 56.0, 56.0, 56.0, 56.0, 56.0, 63.0, 94.0, 94.0, 94.0, 94.0, 94.0, 94.0, 94.0, 94.0, 100.0, 100.0, 100.0, 94.0, 94.0, 94.0, 94.0, 94.0, 94.0, 89.0, 89.0, 89.0, 89.0, 89.0, 89.0, 94.0, 79.0, 79.0, 79.0, 79.0, 79.0, 79.0, 79.0, 79.0, 79.0, 79.0, 79.0, 79.0, 79.0, 79.0, 79.0, 79.0, 79.0, 79.0, 79.0, 74.0, 74.0, 74.0, 79.0, 79.0, 79.0, 79.0, 79.0, 79.0, 79.0, 79.0, 79.0, 66.0, 66.0, 66.0, 79.0, 66.0, 66.0, 70.0, 70.0, 70.0, 67.0, 67.0, 67.0, 67.0, 67.0, 67.0, 66.0, 63.0, 63.0, 63.0, 63.0, 63.0, 63.0, 63.0, 63.0, 59.0, 59.0, 59.0, 63.0, 63.0, 63.0, 63.0, 63.0, 63.0, 63.0, 63.0, 63.0, 63.0, 70.0, 70.0, 70.0, 70.0, 70.0, 70.0, 70.0, 70.0, 66.0, 66.0, 66.0, 70.0, 79.0, 79.0, 79.0, 79.0, 79.0, 79.0, 79.0, 79.0, 79.0, 79.0, 79.0, 79.0, 79.0, 79.0, 79.0, 79.0, 79.0, 79.0, 79.0, 79.0, 83.0, 83.0, 83.0, 79.0, 79.0, 79.0, 79.0, 79.0, 79.0, 79.0, 79.0, 79.0, 79.0, 79.0, 79.0, 84.0, 84.0, 84.0, 84.0, 84.0, 84.0, 84.0, 84.0, 79.0, 79.0, 79.0, 84.0, 35.0, 35.0, 35.0, 35.0, 35.0, 35.0, 35.0, 35.0, 35.0, 35.0, 35.0, 35.0, 35.0, 35.0, 35.0, 35.0, 35.0, 35.0, 37.0, 37.0, 37.0, 42.0, 42.0, 42.0, 42.0, 42.0, 42.0, 42.0, 42.0, 42.0, 42.0, 42.0, 42.0, 42.0, 42.0, 42.0, 42.0, 42.0, 42.0, 42.0, 42.0, 42.0, 42.0, 42.0, 42.0, 51.0, 51.0, 51.0, 51.0, 51.0, 51.0, 54.0, 54.0, 54.0, 54.0, 54.0, 54.0, 54.0, 54.0, 54.0, 54.0, 54.0, 54.0, 51.0, 51.0, 51.0, 51.0, 51.0, 51.0, 48.0, 48.0, 48.0, 48.0, 48.0, 48.0, 48.0, 48.0, 48.0, 48.0, 48.0, 48.0, 48.0, 46.0, 46.0, 46.0, 46.0, 46.0, 46.0, 46.0, 46.0, 46.0, 46.0, 46.0, 46.0, 66.0, 66.0, 66.0, 66.0, 66.0, 66.0, 66.0, 66.0, 66.0, 66.0, 66.0, 66.0, 66.0, 66.0, 66.0, 66.0, 66.0, 66.0, 41.0, 41.0, 41.0, 41.0, 41.0, 41.0, 41.0, 41.0, 41.0, 41.0, 41.0, 41.0, 41.0, 41.0, 41.0, 41.0, 41.0, 41.0, 41.0, 41.0, 41.0, 41.0, 41.0, 41.0, 41.0, 41.0, 41.0, 41.0, 41.0, 41.0, 41.0, 38.0, 38.0, 38.0, 38.0, 38.0, 38.0, 38.0, 38.0, 38.0, 38.0, 38.0, 36.0, 36.0, 36.0, 36.0, 36.0, 36.0, 36.0, 36.0, 36.0, 36.0, 36.0, 36.0, 36.0, 36.0, 36.0, 36.0, 36.0, 36.0, 41.0, 41.0, 41.0, 41.0, 41.0, 41.0, 41.0, 41.0, 41.0, 41.0, 41.0, 41.0, 41.0, 41.0, 41.0, 41.0, 41.0, 41.0, 41.0, 41.0, 41.0, 41.0, 41.0, 44.0, 44.0, 44.0, 44.0, 44.0, 44.0, 44.0, 44.0, 44.0, 44.0, 44.0, 44.0, 30.0, 30.0, 30.0, 30.0, 30.0, 30.0, 37.0, 37.0, 37.0, 37.0, 37.0, 37.0, 37.0, 37.0, 37.0, 37.0, 37.0, 37.0, 37.0, 37.0, 37.0, 37.0, 37.0, 37.0, 37.0, 37.0, 37.0, 37.0, 37.0, 37.0, 37.0, 31.0, 31.0, 31.0, 31.0, 31.0, 31.0, 31.0, 31.0, 31.0, 31.0, 31.0, 31.0, 31.0, 31.0, 31.0, 31.0, 31.0, 31.0, 29.0, 29.0, 29.0, 29.0, 29.0, 29.0, 26.0, 26.0, 26.0, 26.0, 26.0, 26.0, 26.0, 26.0, 26.0, 26.0, 26.0, 26.0, 26.0, 26.0, 26.0, 26.0, 26.0, 24.0, 24.0, 24.0, 24.0, 24.0, 24.0, 26.0, 26.0, 26.0, 26.0, 26.0, 26.0, 26.0, 26.0, 26.0, 26.0, 26.0, 26.0, 26.0, 26.0, 26.0, 26.0, 26.0, 26.0, 26.0, 26.0, 26.0, 26.0, 26.0, 26.0, 26.0, 26.0, 26.0, 26.0, 26.0, 26.0, 26.0, 28.0, 28.0, 28.0, 28.0, 28.0, 28.0, 28.0, 28.0, 28.0, 28.0, 28.0, 28.0, 28.0, 28.0, 28.0, 28.0, 28.0, 28.0, 32.0, 32.0, 32.0, 32.0, 32.0, 32.0, 28.0, 28.0, 28.0, 28.0, 28.0, 28.0, 32.0, 32.0, 32.0, 32.0, 32.0, 32.0, 33.0, 33.0, 33.0, 33.0, 33.0, 33.0, 40.0, 40.0, 40.0, 40.0, 40.0, 40.0, 40.0, 40.0, 40.0, 40.0, 40.0, 40.0, 40.0, 40.0, 40.0, 40.0, 40.0, 40.0, 40.0, 40.0, 40.0, 40.0, 40.0, 40.0, 40.0, 40.0, 40.0, 40.0, 40.0, 40.0, 40.0, 40.0, 40.0, 40.0, 40.0, 40.0, 40.0, 40.0, 40.0, 40.0, 40.0, 40.0, 41.0, 41.0, 41.0, 41.0, 41.0, 41.0, 44.0, 44.0, 44.0, 44.0, 44.0, 44.0, 44.0, 44.0, 44.0, 44.0, 44.0, 44.0, 44.0, 44.0, 44.0, 44.0, 44.0, 44.0, 41.0, 41.0, 41.0, 41.0, 41.0, 41.0, 44.0, 44.0, 44.0, 44.0, 44.0, 44.0, 44.0, 44.0, 44.0, 44.0, 44.0, 44.0, 44.0, 44.0, 44.0, 44.0, 44.0, 44.0, 44.0, 41.0, 41.0, 41.0, 41.0, 41.0, 41.0, 39.0, 39.0, 39.0, 39.0, 39.0, 39.0, 39.0, 39.0, 39.0, 39.0, 39.0, 39.0, 39.0, 39.0, 39.0, 39.0, 39.0, 39.0, 39.0, 39.0, 39.0, 39.0, 39.0, 39.0, 37.0, 37.0, 37.0, 37.0, 37.0, 37.0, 37.0, 37.0, 37.0, 37.0, 37.0, 37.0, 37.0, 37.0, 37.0, 37.0, 37.0, 37.0, 37.0, 37.0, 37.0, 37.0, 37.0, 38.0, 38.0, 38.0, 38.0, 38.0, 38.0, 38.0, 38.0, 38.0, 38.0, 38.0, 38.0, 38.0, 38.0, 38.0, 38.0, 38.0, 38.0, 38.0, 38.0, 38.0, 38.0, 38.0, 38.0, 38.0, 38.0, 38.0, 38.0, 38.0, 38.0, 38.0, 36.0, 36.0, 36.0, 36.0, 36.0, 36.0, 36.0, 36.0, 36.0, 36.0, 36.0, 36.0, 36.0, 36.0, 36.0, 36.0, 36.0, 36.0, 32.0, 32.0, 32.0, 32.0, 32.0, 32.0, 32.0, 32.0, 32.0, 32.0, 32.0, 32.0, 32.0, 32.0, 32.0, 32.0, 32.0, 32.0, 32.0, 32.0, 32.0, 32.0, 30.0, 30.0, 30.0, 30.0, 30.0, 30.0, 30.0, 30.0, 30.0, 30.0, 30.0, 30.0, 30.0, 30.0, 30.0, 30.0, 30.0, 30.0, 25.0, 25.0, 25.0, 25.0, 25.0, 25.0, 28.0, 28.0, 28.0, 28.0, 28.0, 28.0, 28.0, 28.0, 28.0, 28.0, 28.0, 28.0, 28.0, 28.0, 28.0, 28.0, 28.0, 28.0, 28.0, 26.0, 26.0, 26.0, 26.0, 26.0, 26.0, 26.0, 26.0, 26.0, 26.0, 26.0, 26.0, 26.0, 26.0, 26.0, 26.0, 26.0, 28.0, 28.0, 28.0, 28.0, 28.0, 28.0, 28.0, 28.0, 28.0, 28.0, 28.0, 28.0, 28.0, 28.0, 28.0, 28.0, 28.0, 28.0, 28.0, 28.0, 28.0, 28.0, 28.0, 28.0, 28.0, 28.0, 28.0, 28.0, 28.0, 28.0, 28.0, 26.0, 26.0, 26.0, 26.0, 26.0, 26.0, 41.0, 41.0, 41.0, 41.0, 41.0, 41.0, 41.0, 41.0, 41.0, 41.0, 41.0, 41.0, 46.0, 46.0, 46.0, 46.0, 46.0, 46.0, 46.0, 46.0, 46.0, 46.0, 46.0, 46.0, 46.0, 46.0, 46.0, 36.0, 36.0, 36.0, 38.0, 38.0, 38.0, 38.0, 38.0, 38.0, 34.0, 34.0, 34.0, 41.0, 41.0, 41.0, 41.0, 41.0, 41.0, 41.0, 41.0, 41.0, 35.0, 35.0, 35.0, 35.0, 35.0, 35.0, 31.0, 31.0, 31.0, 35.0, 35.0, 35.0, 35.0, 35.0, 35.0, 35.0, 31.0, 31.0, 31.0, 31.0, 31.0, 31.0, 35.0, 35.0, 35.0, 35.0, 35.0, 35.0, 32.0, 32.0, 32.0, 32.0, 32.0, 32.0, 32.0, 32.0, 32.0, 32.0, 32.0, 32.0, 32.0, 32.0, 32.0, 34.0, 34.0, 34.0, 30.0, 30.0, 30.0, 30.0, 30.0, 30.0, 30.0, 30.0, 30.0, 30.0, 30.0, 30.0, 30.0, 30.0, 30.0, 32.0, 32.0, 32.0, 35.0, 35.0, 35.0, 35.0, 35.0, 33.0, 33.0, 33.0, 38.0, 38.0, 38.0, 38.0, 38.0, 38.0, 38.0, 38.0, 38.0, 38.0, 52.0, 52.0, 52.0, 52.0, 52.0, 52.0, 52.0, 52.0, 52.0, 52.0, 52.0, 52.0, 52.0, 55.0, 55.0, 55.0, 55.0, 55.0, 55.0, 55.0, 55.0, 55.0, 55.0, 55.0, 55.0, 55.0, 55.0, 55.0, 55.0, 55.0, 55.0, 55.0, 55.0, 55.0, 55.0, 55.0, 55.0, 52.0, 52.0, 52.0, 52.0, 52.0, 52.0, 52.0, 52.0, 52.0, 52.0, 52.0, 52.0, 55.0, 55.0, 55.0, 55.0, 55.0, 55.0, 52.0, 52.0, 52.0, 52.0, 52.0, 52.0, 52.0, 52.0, 52.0, 52.0, 52.0, 56.0, 56.0, 56.0, 56.0, 56.0, 56.0, 56.0, 56.0, 56.0, 56.0, 56.0, 56.0, 56.0, 56.0, 56.0, 56.0, 56.0, 56.0, 56.0, 53.0, 53.0, 53.0, 53.0, 53.0, 53.0, 53.0, 53.0, 53.0, 53.0, 53.0, 53.0, 47.0, 47.0, 47.0, 47.0, 47.0, 47.0, 42.0, 42.0, 42.0, 42.0, 42.0, 42.0, 40.0, 40.0, 40.0, 40.0, 40.0, 40.0, 40.0, 40.0, 40.0, 40.0, 40.0, 40.0, 40.0, 40.0, 40.0, 40.0, 40.0, 40.0, 40.0, 40.0, 40.0, 40.0, 40.0, 40.0, 40.0, 40.0, 40.0, 40.0, 40.0, 40.0, 40.0, 40.0, 40.0, 40.0, 40.0, 40.0, 37.0, 37.0, 37.0, 37.0, 37.0, 37.0, 37.0, 37.0, 37.0, 37.0, 37.0, 37.0, 35.0, 35.0, 35.0, 35.0, 35.0, 35.0, 36.0, 36.0, 36.0, 36.0, 36.0, 36.0, 36.0, 36.0, 36.0, 36.0, 36.0, 36.0, 36.0, 36.0, 36.0, 36.0, 36.0, 35.0, 35.0, 35.0, 35.0, 35.0, 35.0, 35.0, 35.0, 35.0, 35.0, 35.0, 35.0, 35.0, 35.0, 35.0, 35.0, 35.0, 35.0, 38.0, 38.0, 38.0, 38.0, 38.0, 38.0, 38.0, 38.0, 38.0, 38.0, 38.0, 38.0, 38.0, 38.0, 38.0, 38.0, 38.0, 38.0, 38.0, 38.0, 38.0, 38.0, 38.0, 38.0, 38.0, 38.0, 40.0, 40.0, 40.0, 40.0, 40.0, 40.0, 40.0, 40.0, 40.0, 40.0, 40.0, 40.0, 43.0, 43.0, 43.0, 43.0, 43.0, 43.0, 43.0, 43.0, 43.0, 49.0, 49.0, 49.0, 49.0, 49.0, 49.0, 46.0, 46.0, 46.0, 46.0, 46.0, 46.0, 55.0, 55.0, 55.0, 55.0, 55.0, 55.0, 49.0, 49.0, 49.0, 49.0, 49.0, 49.0, 38.0, 38.0, 38.0, 38.0, 38.0, 38.0, 38.0, 38.0, 39.0, 39.0, 39.0, 47.0, 47.0, 47.0, 47.0, 47.0, 47.0, 47.0, 44.0, 44.0, 44.0, 44.0, 44.0, 47.0, 47.0, 47.0, 47.0, 47.0, 47.0, 47.0, 47.0, 47.0, 53.0, 53.0, 53.0, 53.0, 53.0, 53.0, 48.0, 48.0, 48.0, 48.0, 48.0, 48.0, 48.0, 48.0, 48.0, 48.0, 48.0, 48.0, 38.0, 38.0, 38.0, 38.0, 38.0, 38.0, 43.0, 43.0, 43.0, 43.0, 43.0, 43.0, 43.0, 43.0, 43.0, 43.0, 43.0, 43.0, 43.0, 43.0, 43.0, 38.0, 38.0, 38.0, 38.0, 38.0, 38.0, 38.0, 38.0, 38.0, 38.0, 48.0, 48.0, 48.0, 66.0, 66.0, 66.0, 66.0, 39.0, 39.0, 39.0, 39.0, 39.0, 39.0, 39.0, 39.0, 39.0, 39.0, 39.0, 39.0, 39.0, 39.0, 39.0, 39.0, 39.0, 39.0, 39.0, 39.0, 39.0, 39.0, 39.0, 39.0, 39.0, 39.0, 39.0, 39.0, 39.0, 42.0, 42.0, 42.0, 42.0, 42.0, 42.0, 62.0, 62.0, 62.0, 62.0, 62.0, 62.0, 62.0, 62.0, 62.0, 62.0, 62.0, 62.0, 62.0, 62.0, 62.0, 62.0, 62.0, 62.0, 62.0, 62.0, 62.0, 62.0, 62.0, 62.0, 62.0, 62.0, 62.0, 62.0, 62.0, 62.0, 62.0, 59.0, 59.0, 59.0, 59.0, 59.0, 59.0, 56.0, 56.0, 56.0, 56.0, 56.0, 56.0, 56.0, 56.0, 53.0, 53.0, 53.0, 53.0, 53.0, 53.0, 53.0, 50.0, 50.0, 50.0, 50.0, 50.0, 50.0, 50.0, 50.0, 50.0, 50.0, 50.0, 50.0, 50.0, 50.0, 50.0, 50.0, 50.0, 47.0, 47.0, 47.0, 47.0, 47.0, 47.0, 47.0, 47.0, 47.0, 47.0, 47.0, 47.0, 47.0, 47.0, 47.0, 44.0, 44.0, 44.0, 44.0, 44.0, 44.0, 44.0, 47.0, 47.0, 47.0, 47.0, 47.0, 47.0, 47.0, 47.0, 59.0, 59.0, 59.0, 59.0, 79.0, 79.0, 79.0, 79.0, 79.0, 79.0, 79.0, 79.0, 79.0, 79.0, 79.0, 79.0, 79.0, 79.0, 88.0, 88.0, 88.0, 88.0, 88.0, 88.0, 88.0, 94.0, 94.0, 94.0, 94.0, 94.0, 94.0, 94.0, 94.0, 94.0, 88.0, 88.0, 88.0, 88.0, 88.0, 88.0, 88.0, 88.0, 88.0, 88.0, 88.0, 88.0, 88.0, 88.0, 88.0, 88.0, 88.0, 88.0, 88.0, 88.0, 88.0, 88.0, 88.0, 83.0, 83.0, 83.0, 83.0, 83.0, 83.0, 83.0, 83.0, 83.0, 83.0, 83.0, 83.0, 79.0, 79.0, 79.0, 79.0, 79.0, 79.0, 79.0, 79.0, 79.0, 83.0, 83.0, 83.0, 83.0, 83.0, 83.0, 83.0, 83.0, 83.0, 83.0, 83.0, 83.0, 83.0, 83.0, 83.0, 79.0, 79.0, 79.0, 79.0, 79.0, 79.0, 79.0, 79.0, 70.0, 70.0, 70.0, 70.0, 70.0, 70.0, 70.0, 70.0, 70.0, 70.0, 70.0, 70.0, 70.0, 70.0, 70.0, 70.0, 70.0, 70.0, 66.0, 66.0, 66.0, 66.0, 66.0, 66.0, 66.0, 66.0, 66.0, 66.0, 66.0, 66.0, 66.0, 66.0, 66.0, 66.0, 66.0, 66.0, 66.0, 66.0, 63.0, 63.0, 63.0, 63.0, 63.0, 63.0, 63.0, 63.0, 66.0, 66.0, 66.0, 66.0, 66.0, 70.0, 70.0, 70.0, 70.0, 70.0, 70.0, 70.0, 70.0, 70.0, 70.0, 74.0, 74.0, 74.0, 74.0, 74.0, 70.0, 70.0, 70.0, 70.0, 70.0, 70.0, 79.0, 79.0, 79.0, 74.0, 74.0, 74.0, 74.0, 74.0, 74.0, 74.0, 74.0, 74.0, 74.0, 79.0, 79.0, 79.0, 79.0, 79.0, 79.0, 79.0, 79.0, 79.0, 79.0, 79.0, 79.0, 79.0, 79.0, 70.0, 70.0, 70.0, 70.0, 70.0, 70.0, 70.0, 70.0, 70.0, 70.0, 70.0, 70.0, 83.0, 83.0, 83.0, 83.0, 83.0, 83.0, 94.0, 94.0, 94.0, 94.0, 94.0, 94.0, 83.0, 83.0, 83.0, 83.0, 83.0, 83.0, 83.0, 83.0, 83.0, 74.0, 66.0, 56.0, 56.0, 53.0, 53.0, 53.0, 53.0, 53.0, 53.0, 53.0, 53.0, 53.0, 53.0, 53.0, 53.0, 53.0, 53.0, 53.0, 53.0, 53.0, 47.0, 47.0, 47.0, 47.0, 47.0, 47.0, 47.0, 47.0, 47.0, 47.0, 47.0, 47.0, 47.0, 47.0, 47.0, 47.0, 47.0, 47.0, 47.0, 47.0, 44.0, 44.0, 44.0, 44.0, 44.0, 39.0, 39.0, 39.0, 39.0, 39.0, 39.0, 39.0, 39.0, 39.0, 39.0, 39.0, 39.0, 39.0, 39.0, 39.0, 39.0, 39.0, 39.0, 39.0, 39.0, 39.0, 39.0, 39.0, 39.0, 39.0, 39.0, 39.0, 39.0, 39.0, 39.0, 39.0, 39.0, 39.0, 39.0, 39.0, 39.0, 39.0, 39.0, 39.0, 39.0, 39.0, 39.0, 39.0, 39.0, 39.0, 39.0, 39.0, 39.0, 39.0, 39.0, 39.0, 39.0, 39.0, 39.0, 39.0, 39.0, 39.0, 39.0, 39.0, 39.0, 39.0, 39.0, 39.0, 39.0, 39.0, 39.0, 39.0, 39.0, 39.0, 42.0, 42.0, 42.0, 42.0, 42.0, 42.0, 42.0, 42.0, 42.0, 42.0, 62.0, 62.0, 62.0, 62.0, 62.0, 62.0, 62.0, 62.0, 62.0, 62.0, 59.0, 59.0, 56.0, 56.0, 56.0, 53.0, 53.0, 50.0, 50.0, 50.0, 50.0, 50.0, 50.0, 47.0, 47.0, 47.0, 47.0, 44.0, 44.0, 47.0, 47.0, 47.0, 59.0, 79.0, 79.0, 79.0, 79.0, 83.0, 83.0, 83.0, 83.0, 83.0, 83.0, 94.0, 94.0, 94.0, 94.0, 94.0, 94.0, 83.0, 83.0, 83.0, 83.0, 83.0, 83.0, 83.0, 83.0, 83.0, 83.0, 83.0, 83.0, 83.0, 83.0, 83.0, 83.0, 83.0, 83.0, 83.0, 83.0, 83.0, 74.0, 74.0, 74.0, 74.0, 74.0, 74.0, 74.0, 74.0, 74.0, 74.0, 74.0, 70.0, 70.0, 70.0, 70.0, 66.0, 66.0, 66.0, 66.0, 66.0, 66.0, 66.0, 66.0, 63.0, 63.0, 63.0, 63.0, 59.0, 59.0, 59.0, 59.0, 59.0, 59.0, 59.0, 59.0, 56.0, 56.0, 56.0, 56.0, 56.0, 56.0, 56.0, 56.0, 56.0, 50.0, 50.0, 50.0, 50.0, 50.0, 50.0, 50.0, 47.0, 47.0, 47.0, 47.0, 47.0, 47.0, 47.0, 47.0, 47.0, 47.0, 47.0, 47.0, 47.0, 47.0, 47.0, 47.0, 47.0, 47.0, 47.0, 47.0, 47.0, 47.0, 47.0, 47.0, 47.0, 47.0, 47.0, 47.0, 47.0, 47.0, 47.0, 47.0, 47.0, 47.0, 47.0, 47.0, 47.0, 47.0, 47.0, 47.0, 47.0, 47.0, 47.0, 47.0, 47.0, 47.0, 47.0, 47.0, 53.0, 53.0, 53.0, 53.0, 53.0, 53.0, 53.0, 53.0, 53.0, 53.0, 53.0, 53.0, 53.0, 53.0, 53.0, 53.0, 53.0, 53.0, 53.0, 53.0, 53.0, 53.0, 53.0, 53.0, 74.0, 74.0, 74.0, 74.0, 74.0, 74.0, 74.0, 74.0, 74.0, 74.0, 74.0, 74.0, 74.0, 74.0, 74.0, 74.0, 74.0, 74.0, 74.0, 74.0, 74.0, 74.0, 74.0, 74.0, 79.0, 79.0, 79.0, 79.0, 79.0, 79.0, 79.0, 79.0, 79.0, 79.0, 79.0, 79.0, 79.0, 79.0, 79.0, 79.0, 79.0, 79.0, 79.0, 79.0, 79.0, 79.0, 79.0, 79.0, 74.0, 74.0, 74.0, 74.0, 74.0, 75.0, 75.0, 75.0, 75.0, 75.0, 75.0, 75.0, 70.0, 70.0, 70.0, 70.0, 70.0, 70.0, 70.0, 70.0, 70.0, 70.0, 70.0, 70.0, 59.0, 59.0, 59.0, 59.0, 59.0, 59.0, 59.0, 59.0, 59.0, 59.0, 59.0, 59.0, 59.0, 59.0, 59.0, 59.0, '24', '25', '25', '26', '22', '15', '15', '14', '13', '13', '13', '13', '13', '23', '23', '23', '22', '22', '20', '27', '27', '25', '13', '9', '9', '9', '8', '8', '7', '6', '6', '6', '6', '28', '22', '22', '22', '19', '19', '8', '7', '7', '9', '11', '13', '34', '32', '31', '32', '32', '37', '41', '45', '49', '45']\n",
            "[1001.0, 1001.0, 1001.0, 1000.0, 999.0, 999.0, 999.0, 999.0, 999.0, 999.0, 999.0, 999.0, 999.0, 999.0, 999.0, 999.0, 999.0, 999.0, 1003.0, 1003.0, 1002.0, 1002.0, 1002.0, 1002.0, 1002.0, 1002.0, 1002.0, 1002.0, 1002.0, 1002.0, 1002.0, 1002.0, 1002.0, 1002.0, 1002.0, 1002.0, 1002.0, 1002.0, 1002.0, 1002.0, 1002.0, 1002.0, 1002.0, 1002.0, 1002.0, 1002.0, 1002.0, 1002.0, 1002.0, 1002.0, 1002.0, 1001.0, 1001.0, 1001.0, 1001.0, 1001.0, 1001.0, 1001.0, 1001.0, 1000.0, 1000.0, 1000.0, 1002.0, 1002.0, 1002.0, 1002.0, 1002.0, 1002.0, 1002.0, 1002.0, 1002.0, 1002.0, 1002.0, 1002.0, 1002.0, 1002.0, 1002.0, 1002.0, 1002.0, 1000.0, 1000.0, 1000.0, 1000.0, 1000.0, 1000.0, 1000.0, 1000.0, 1000.0, 1000.0, 1000.0, 1000.0, 1000.0, 1000.0, 1000.0, 1000.0, 1000.0, 999.0, 999.0, 999.0, 999.0, 999.0, 999.0, 999.0, 998.0, 1000.0, 1000.0, 1000.0, 1000.0, 1000.0, 1000.0, 1000.0, 1000.0, 1000.0, 1000.0, 1000.0, 1000.0, 1000.0, 1000.0, 1000.0, 1000.0, 1000.0, 1000.0, 1000.0, 1000.0, 1002.0, 1002.0, 1002.0, 1002.0, 1002.0, 1002.0, 1002.0, 1002.0, 1002.0, 1002.0, 1002.0, 1002.0, 1002.0, 1002.0, 1002.0, 1002.0, 1002.0, 1002.0, 1002.0, 1002.0, 1002.0, 1002.0, 1002.0, 1002.0, 1002.0, 1002.0, 1002.0, 1002.0, 1002.0, 1002.0, 1002.0, 1002.0, 1002.0, 1002.0, 1002.0, 1002.0, 1002.0, 1002.0, 1002.0, 1001.0, 1001.0, 1001.0, 1001.0, 1001.0, 1001.0, 1001.0, 1001.0, 1001.0, 1001.0, 1001.0, 1000.0, 1000.0, 1000.0, 1000.0, 1000.0, 1000.0, 1001.0, 1001.0, 1001.0, 1000.0, 1000.0, 1000.0, 1000.0, 1000.0, 1002.0, 1000.0, 1000.0, 1000.0, 1000.0, 1000.0, 1000.0, 1000.0, 1000.0, 1000.0, 1000.0, 1000.0, 1000.0, 1000.0, 1000.0, 1000.0, 1000.0, 1000.0, 1000.0, 1000.0, 1000.0, 1000.0, 1000.0, 1000.0, 1000.0, 1000.0, 1000.0, 1000.0, 1000.0, 1000.0, 1000.0, 1000.0, 1000.0, 1000.0, 1000.0, 1000.0, 1000.0, 1000.0, 1001.0, 1001.0, 1000.0, 1001.0, 1001.0, 1001.0, 1001.0, 1001.0, 1001.0, 1000.0, 1000.0, 1000.0, 1000.0, 1000.0, 1001.0, 1001.0, 1000.0, 1000.0, 1000.0, 1000.0, 1000.0, 1000.0, 1000.0, 1000.0, 1000.0, 1000.0, 1000.0, 1000.0, 999.0, 999.0, 999.0, 999.0, 999.0, 999.0, 999.0, 999.0, 999.0, 999.0, 999.0, 999.0, 999.0, 999.0, 999.0, 999.0, 999.0, 999.0, 999.0, 999.0, 999.0, 999.0, 999.0, 999.0, 998.0, 998.0, 998.0, 998.0, 998.0, 998.0, 998.0, 998.0, 998.0, 998.0, 998.0, 998.0, 998.0, 998.0, 998.0, 998.0, 998.0, 998.0, 998.0, 998.0, 998.0, 998.0, 998.0, 998.0, 1000.0, 1000.0, 999.0, 999.0, 999.0, 998.0, 998.0, 998.0, 998.0, 998.0, 998.0, 997.0, 997.0, 997.0, 997.0, 997.0, 997.0, 997.0, 997.0, 997.0, 997.0, 997.0, 997.0, 997.0, 997.0, 998.0, 998.0, 998.0, 998.0, 998.0, 998.0, 998.0, 997.0, 999.0, 999.0, 999.0, 999.0, 999.0, 999.0, 999.0, 999.0, 1000.0, 1000.0, 1000.0, 999.0, 1000.0, 1000.0, 1000.0, 1000.0, 1000.0, 1000.0, 1000.0, 1000.0, 1000.0, 1000.0, 1000.0, 1000.0, 1000.0, 1000.0, 1000.0, 1000.0, 1000.0, 1000.0, 1000.0, 1000.0, 1000.0, 1000.0, 1000.0, 1000.0, 1000.0, 1000.0, 1000.0, 1000.0, 1000.0, 1000.0, 1000.0, 1000.0, 1000.0, 1000.0, 1000.0, 1000.0, 1000.0, 1000.0, 1000.0, 1000.0, 1000.0, 1000.0, 1000.0, 1000.0, 1000.0, 1000.0, 1000.0, 1000.0, 1000.0, 1000.0, 1000.0, 1000.0, 999.0, 999.0, 999.0, 999.0, 999.0, 999.0, 1000.0, 999.0, 999.0, 999.0, 999.0, 999.0, 999.0, 999.0, 999.0, 999.0, 999.0, 999.0, 999.0, 999.0, 999.0, 999.0, 999.0, 999.0, 999.0, 999.0, 999.0, 999.0, 999.0, 999.0, 999.0, 999.0, 999.0, 999.0, 999.0, 999.0, 999.0, 999.0, 999.0, 999.0, 999.0, 999.0, 999.0, 999.0, 999.0, 999.0, 999.0, 999.0, 999.0, 999.0, 999.0, 999.0, 999.0, 999.0, 998.0, 998.0, 998.0, 998.0, 998.0, 998.0, 998.0, 998.0, 998.0, 999.0, 998.0, 998.0, 998.0, 998.0, 998.0, 998.0, 998.0, 997.0, 997.0, 997.0, 998.0, 997.0, 997.0, 997.0, 997.0, 997.0, 997.0, 997.0, 997.0, 997.0, 997.0, 997.0, 997.0, 997.0, 997.0, 996.0, 996.0, 996.0, 996.0, 996.0, 996.0, 996.0, 996.0, 996.0, 996.0, 996.0, 996.0, 996.0, 996.0, 996.0, 996.0, 996.0, 996.0, 996.0, 995.0, 995.0, 995.0, 995.0, 995.0, 995.0, 995.0, 995.0, 995.0, 995.0, 995.0, 995.0, 995.0, 995.0, 995.0, 995.0, 995.0, 995.0, 995.0, 995.0, 995.0, 995.0, 995.0, 995.0, 998.0, 998.0, 998.0, 998.0, 998.0, 998.0, 998.0, 998.0, 998.0, 998.0, 998.0, 998.0, 998.0, 998.0, 998.0, 998.0, 998.0, 998.0, 998.0, 998.0, 998.0, 998.0, 998.0, 998.0, 998.0, 998.0, 998.0, 998.0, 998.0, 998.0, 998.0, 998.0, 998.0, 998.0, 998.0, 998.0, 998.0, 999.0, 999.0, 999.0, 999.0, 999.0, 999.0, 999.0, 999.0, 999.0, 999.0, 999.0, 999.0, 998.0, 998.0, 998.0, 998.0, 998.0, 998.0, 998.0, 998.0, 998.0, 998.0, 998.0, 998.0, 998.0, 998.0, 998.0, 998.0, 998.0, 998.0, 1000.0, 1000.0, 1000.0, 1000.0, 1000.0, 1000.0, 1000.0, 1000.0, 1000.0, 1000.0, 1000.0, 1000.0, 1000.0, 1000.0, 1000.0, 1000.0, 1000.0, 1000.0, 1000.0, 1000.0, 1000.0, 1000.0, 1000.0, 1000.0, 1000.0, 1000.0, 1000.0, 1000.0, 1000.0, 1000.0, 1000.0, 1000.0, 1000.0, 1000.0, 1000.0, 1000.0, 1000.0, 1000.0, 1000.0, 1000.0, 1000.0, 1000.0, 1000.0, 1000.0, 1000.0, 1000.0, 1000.0, 1000.0, 1000.0, 1000.0, 1000.0, 1000.0, 1000.0, 1000.0, 1000.0, 1000.0, 1000.0, 1000.0, 1000.0, 1000.0, 999.0, 999.0, 999.0, 999.0, 999.0, 999.0, 999.0, 999.0, 999.0, 999.0, 999.0, 999.0, 999.0, 999.0, 999.0, 999.0, 999.0, 999.0, 999.0, 999.0, 999.0, 999.0, 999.0, 999.0, 999.0, 999.0, 999.0, 999.0, 999.0, 999.0, 999.0, 999.0, 999.0, 999.0, 999.0, 999.0, 999.0, 999.0, 999.0, 999.0, 999.0, 998.0, 998.0, 998.0, 998.0, 998.0, 998.0, 998.0, 998.0, 998.0, 998.0, 998.0, 998.0, 998.0, 998.0, 998.0, 998.0, 998.0, 998.0, 998.0, 997.0, 997.0, 997.0, 997.0, 997.0, 997.0, 997.0, 997.0, 997.0, 997.0, 997.0, 997.0, 997.0, 997.0, 997.0, 997.0, 997.0, 997.0, 997.0, 997.0, 997.0, 997.0, 997.0, 997.0, 996.0, 996.0, 996.0, 996.0, 996.0, 996.0, 996.0, 996.0, 996.0, 996.0, 996.0, 996.0, 996.0, 996.0, 996.0, 996.0, 996.0, 996.0, 996.0, 996.0, 996.0, 996.0, 996.0, 995.0, 995.0, 995.0, 995.0, 995.0, 995.0, 995.0, 995.0, 995.0, 995.0, 995.0, 995.0, 995.0, 995.0, 995.0, 995.0, 995.0, 995.0, 995.0, 995.0, 995.0, 995.0, 995.0, 995.0, 995.0, 995.0, 995.0, 995.0, 995.0, 995.0, 995.0, 995.0, 995.0, 995.0, 995.0, 995.0, 995.0, 994.0, 994.0, 994.0, 994.0, 994.0, 994.0, 994.0, 994.0, 994.0, 994.0, 994.0, 994.0, 994.0, 994.0, 994.0, 994.0, 994.0, 994.0, 994.0, 994.0, 994.0, 994.0, 994.0, 994.0, 994.0, 994.0, 994.0, 994.0, 994.0, 994.0, 994.0, 994.0, 994.0, 994.0, 994.0, 994.0, 993.0, 993.0, 993.0, 993.0, 993.0, 993.0, 998.0, 998.0, 998.0, 998.0, 998.0, 998.0, 998.0, 998.0, 998.0, 998.0, 998.0, 998.0, 998.0, 998.0, 998.0, 998.0, 998.0, 998.0, 998.0, 998.0, 998.0, 998.0, 998.0, 998.0, 998.0, 998.0, 998.0, 998.0, 998.0, 998.0, 998.0, 998.0, 998.0, 998.0, 998.0, 998.0, 998.0, 998.0, 998.0, 998.0, 998.0, 998.0, 998.0, 998.0, 998.0, 998.0, 998.0, 998.0, 998.0, 998.0, 998.0, 998.0, 998.0, 998.0, 998.0, 998.0, 998.0, 998.0, 998.0, 998.0, 998.0, 998.0, 998.0, 998.0, 998.0, 998.0, 998.0, 998.0, 998.0, 998.0, 998.0, 998.0, 998.0, 998.0, 998.0, 998.0, 998.0, 998.0, 998.0, 998.0, 998.0, 998.0, 998.0, 998.0, 998.0, 998.0, 998.0, 998.0, 998.0, 998.0, 998.0, 998.0, 998.0, 998.0, 998.0, 998.0, 998.0, 998.0, 998.0, 998.0, 998.0, 998.0, 998.0, 998.0, 998.0, 998.0, 998.0, 998.0, 998.0, 998.0, 998.0, 998.0, 998.0, 998.0, 998.0, 998.0, 998.0, 998.0, 998.0, 998.0, 998.0, 998.0, 998.0, 998.0, 998.0, 998.0, 998.0, 998.0, 998.0, 998.0, 998.0, 998.0, 998.0, 998.0, 998.0, 998.0, 998.0, 998.0, 998.0, 998.0, 998.0, 998.0, 998.0, 998.0, 997.0, 997.0, 997.0, 997.0, 997.0, 997.0, 997.0, 997.0, 997.0, 997.0, 997.0, 997.0, 997.0, 997.0, 997.0, 997.0, 997.0, 997.0, 997.0, 997.0, 997.0, 997.0, 997.0, 997.0, 997.0, 997.0, 997.0, 997.0, 997.0, 997.0, 997.0, 997.0, 997.0, 997.0, 997.0, 997.0, 997.0, 996.0, 996.0, 996.0, 996.0, 996.0, 996.0, 996.0, 996.0, 996.0, 996.0, 996.0, 996.0, 996.0, 996.0, 996.0, 996.0, 996.0, 996.0, 996.0, 996.0, 996.0, 996.0, 996.0, 996.0, 996.0, 996.0, 996.0, 996.0, 996.0, 996.0, 996.0, 996.0, 996.0, 996.0, 995.0, 995.0, 995.0, 995.0, 995.0, 995.0, 995.0, 995.0, 995.0, 995.0, 995.0, 995.0, 995.0, 995.0, 995.0, 995.0, 995.0, 995.0, 996.0, 996.0, 996.0, 996.0, 996.0, 996.0, 994.0, 994.0, 994.0, 994.0, 994.0, 994.0, 994.0, 994.0, 994.0, 994.0, 994.0, 994.0, 994.0, 994.0, 994.0, 994.0, 994.0, 994.0, 994.0, 995.0, 995.0, 995.0, 995.0, 995.0, 995.0, 994.0, 994.0, 994.0, 994.0, 994.0, 994.0, 994.0, 994.0, 994.0, 994.0, 994.0, 993.0, 993.0, 993.0, 993.0, 993.0, 993.0, 993.0, 993.0, 993.0, 993.0, 993.0, 993.0, 993.0, 993.0, 993.0, 993.0, 993.0, 993.0, 993.0, 993.0, 993.0, 993.0, 993.0, 993.0, 993.0, 993.0, 993.0, 993.0, 993.0, 993.0, 993.0, 993.0, 993.0, 993.0, 993.0, 993.0, 993.0, 997.0, 997.0, 997.0, 997.0, 997.0, 997.0, 997.0, 997.0, 997.0, 997.0, 997.0, 997.0, 998.0, 998.0, 998.0, 998.0, 998.0, 998.0, 998.0, 998.0, 998.0, 998.0, 998.0, 998.0, 998.0, 998.0, 998.0, 998.0, 998.0, 998.0, 997.0, 997.0, 997.0, 997.0, 997.0, 997.0, 997.0, 997.0, 997.0, 998.0, 998.0, 998.0, 998.0, 998.0, 998.0, 998.0, 998.0, 998.0, 998.0, 998.0, 998.0, 998.0, 998.0, 998.0, 998.0, 998.0, 998.0, 998.0, 998.0, 998.0, 998.0, 998.0, 998.0, 998.0, 998.0, 998.0, 998.0, 998.0, 998.0, 998.0, 998.0, 998.0, 998.0, 998.0, 998.0, 998.0, 997.0, 997.0, 997.0, 997.0, 997.0, 997.0, 997.0, 997.0, 997.0, 997.0, 997.0, 997.0, 997.0, 997.0, 997.0, 996.0, 996.0, 996.0, 996.0, 996.0, 996.0, 996.0, 996.0, 996.0, 996.0, 996.0, 996.0, 996.0, 996.0, 996.0, 995.0, 995.0, 995.0, 994.0, 994.0, 994.0, 994.0, 994.0, 994.0, 994.0, 994.0, 994.0, 994.0, 994.0, 993.0, 993.0, 993.0, 993.0, 993.0, 993.0, 993.0, 994.0, 994.0, 994.0, 999.0, 999.0, 999.0, 999.0, 999.0, 999.0, 999.0, 999.0, 999.0, 999.0, 999.0, 999.0, 999.0, 1000.0, 1000.0, 1000.0, 1000.0, 1000.0, 1000.0, 1000.0, 1000.0, 1000.0, 1000.0, 1000.0, 1000.0, 1000.0, 1000.0, 1000.0, 1000.0, 1000.0, 1000.0, 1000.0, 1000.0, 1000.0, 1000.0, 1000.0, 1000.0, 1000.0, 1000.0, 1000.0, 1000.0, 1000.0, 1000.0, 1000.0, 1000.0, 1000.0, 1000.0, 1000.0, 1000.0, 1000.0, 1000.0, 1000.0, 1000.0, 1000.0, 1000.0, 1000.0, 1000.0, 1000.0, 1000.0, 1000.0, 1000.0, 1000.0, 1000.0, 1000.0, 1000.0, 1000.0, 1000.0, 1000.0, 1000.0, 1000.0, 1000.0, 1000.0, 1000.0, 1000.0, 1000.0, 1000.0, 1000.0, 1000.0, 1000.0, 1000.0, 1000.0, 1000.0, 1000.0, 1000.0, 1000.0, 1000.0, 1000.0, 1000.0, 1000.0, 1000.0, 1000.0, 1000.0, 1000.0, 1000.0, 1000.0, 1000.0, 1000.0, 1000.0, 1000.0, 1000.0, 1000.0, 1000.0, 1000.0, 999.0, 999.0, 999.0, 999.0, 999.0, 999.0, 999.0, 999.0, 999.0, 999.0, 999.0, 999.0, 999.0, 999.0, 999.0, 999.0, 999.0, 999.0, 999.0, 999.0, 999.0, 999.0, 999.0, 998.0, 998.0, 998.0, 998.0, 998.0, 998.0, 998.0, 998.0, 998.0, 998.0, 998.0, 998.0, 998.0, 998.0, 998.0, 998.0, 998.0, 998.0, 998.0, 998.0, 998.0, 998.0, 998.0, 998.0, 998.0, 998.0, 998.0, 998.0, 998.0, 998.0, 998.0, 998.0, 998.0, 998.0, 998.0, 998.0, 998.0, 997.0, 997.0, 997.0, 997.0, 997.0, 997.0, 997.0, 997.0, 997.0, 997.0, 997.0, 996.0, 996.0, 996.0, 996.0, 996.0, 996.0, 996.0, 996.0, 996.0, 996.0, 996.0, 996.0, 996.0, 996.0, 996.0, 996.0, 996.0, 996.0, 995.0, 995.0, 995.0, 995.0, 995.0, 995.0, 995.0, 995.0, 995.0, 995.0, 995.0, 995.0, 995.0, 995.0, 995.0, 995.0, 995.0, 995.0, 995.0, 995.0, 995.0, 995.0, 995.0, 995.0, 995.0, 995.0, 995.0, 995.0, 995.0, 995.0, 995.0, 995.0, 994.0, 994.0, 994.0, 994.0, 994.0, 994.0, 994.0, 994.0, 994.0, 994.0, 994.0, 994.0, 999.0, 999.0, 999.0, 999.0, 999.0, 999.0, 999.0, 999.0, 999.0, 999.0, 999.0, 999.0, 999.0, 999.0, 999.0, 1000.0, 1000.0, 1000.0, 1000.0, 1000.0, 1000.0, 999.0, 999.0, 999.0, 999.0, 999.0, 999.0, 1001.0, 1001.0, 1001.0, 1001.0, 1001.0, 1001.0, 1002.0, 1002.0, 1002.0, 1002.0, 1002.0, 1002.0, 1002.0, 1002.0, 1002.0, 1002.0, 1002.0, 1001.0, 1001.0, 1001.0, 1001.0, 1001.0, 1001.0, 1001.0, 1001.0, 1001.0, 1001.0, 1001.0, 1001.0, 1001.0, 1001.0, 1001.0, 1000.0, 1000.0, 1000.0, 1000.0, 1000.0, 1000.0, 1000.0, 1000.0, 1000.0, 999.0, 999.0, 999.0, 999.0, 999.0, 999.0, 999.0, 999.0, 999.0, 999.0, 999.0, 999.0, 999.0, 999.0, 999.0, 999.0, 999.0, 999.0, 999.0, 999.0, 999.0, 998.0, 998.0, 998.0, 997.0, 997.0, 997.0, 997.0, 997.0, 997.0, 997.0, 997.0, 997.0, 997.0, 997.0, 997.0, 997.0, 997.0, 997.0, 997.0, 997.0, 997.0, 997.0, 997.0, 997.0, 997.0, 997.0, 997.0, 997.0, 1001.0, 1001.0, 1001.0, 1001.0, 999.0, 999.0, 999.0, 999.0, 999.0, 999.0, 999.0, 998.0, 998.0, 998.0, 998.0, 998.0, 998.0, 998.0, 998.0, 998.0, 997.0, 997.0, 997.0, 997.0, 997.0, 997.0, 998.0, 998.0, 998.0, 998.0, 998.0, 998.0, 998.0, 997.0, 997.0, 997.0, 997.0, 997.0, 997.0, 999.0, 999.0, 999.0, 999.0, 999.0, 999.0, 999.0, 999.0, 999.0, 999.0, 999.0, 999.0, 999.0, 999.0, 999.0, 999.0, 999.0, 999.0, 999.0, 999.0, 999.0, 1000.0, 1000.0, 1000.0, 1000.0, 1000.0, 1000.0, 1000.0, 1000.0, 1000.0, 1000.0, 1000.0, 1000.0, 1000.0, 1000.0, 1000.0, 1000.0, 1000.0, 1000.0, 1000.0, 1000.0, 1000.0, 1000.0, 1000.0, 1000.0, 1000.0, 1000.0, 1000.0, 1000.0, 1000.0, 1000.0, 1000.0, 1000.0, 1000.0, 1000.0, 1000.0, 1000.0, 999.0, 999.0, 999.0, 999.0, 999.0, 999.0, 999.0, 999.0, 999.0, 999.0, 999.0, 999.0, 999.0, 999.0, 999.0, 999.0, 999.0, 999.0, 999.0, 999.0, 999.0, 999.0, 999.0, 999.0, 999.0, 999.0, 999.0, 999.0, 999.0, 999.0, 999.0, 999.0, 999.0, 999.0, 999.0, 999.0, 999.0, 999.0, 999.0, 999.0, 999.0, 999.0, 999.0, 999.0, 999.0, 999.0, 1000.0, 1000.0, 1000.0, 1000.0, 1000.0, 1000.0, 1000.0, 1000.0, 1000.0, 1000.0, 1000.0, 1000.0, 1000.0, 1000.0, 1000.0, 1000.0, 1000.0, 1000.0, 1000.0, 1000.0, 1000.0, 999.0, 999.0, 999.0, 999.0, 999.0, 999.0, 999.0, 999.0, 999.0, 998.0, 998.0, 998.0, 998.0, 998.0, 998.0, 998.0, 998.0, 998.0, 998.0, 998.0, 998.0, 998.0, 997.0, 997.0, 997.0, 997.0, 997.0, 997.0, 997.0, 997.0, 997.0, 997.0, 998.0, 998.0, 998.0, 998.0, 998.0, 998.0, 998.0, 998.0, 998.0, 998.0, 998.0, 998.0, 998.0, 998.0, 998.0, 998.0, 998.0, 998.0, 998.0, 998.0, 998.0, 998.0, 998.0, 998.0, 998.0, 998.0, 998.0, 998.0, 998.0, 998.0, 998.0, 998.0, 998.0, 998.0, 998.0, 998.0, 998.0, 998.0, 998.0, 998.0, 998.0, 998.0, 998.0, 998.0, 999.0, 999.0, 999.0, 999.0, 999.0, 999.0, 999.0, 998.0, 998.0, 998.0, 998.0, 998.0, 998.0, 998.0, 998.0, 998.0, 998.0, 998.0, 998.0, 998.0, 998.0, 998.0, 998.0, 998.0, 998.0, 998.0, 998.0, 998.0, 998.0, 998.0, 998.0, 998.0, 998.0, 998.0, 998.0, 998.0, 998.0, 998.0, 997.0, 997.0, 998.0, 998.0, 998.0, 998.0, 998.0, 998.0, 998.0, 998.0, 998.0, 998.0, 998.0, 998.0, 998.0, 998.0, 998.0, 998.0, 998.0, 998.0, 998.0, 998.0, 998.0, 997.0, 997.0, 997.0, 997.0, 997.0, 996.0, 996.0, 996.0, 996.0, 996.0, 996.0, 996.0, 996.0, 996.0, 996.0, 996.0, 996.0, 996.0, 996.0, 996.0, 996.0, 996.0, 996.0, 996.0, 996.0, 996.0, 996.0, 995.0, 995.0, 995.0, 995.0, 995.0, 995.0, 995.0, 995.0, 995.0, 995.0, 995.0, 995.0, 995.0, 995.0, 995.0, 995.0, 995.0, 995.0, 995.0, 995.0, 995.0, 995.0, 995.0, 996.0, 996.0, 996.0, 996.0, 996.0, 996.0, 996.0, 996.0, 996.0, 996.0, 996.0, 996.0, 996.0, 996.0, 996.0, 996.0, 996.0, 996.0, 996.0, 996.0, 996.0, 997.0, 998.0, 1001.0, 1001.0, 1001.0, 1001.0, 1001.0, 1001.0, 1001.0, 1001.0, 1001.0, 1001.0, 1001.0, 1001.0, 1001.0, 1001.0, 1001.0, 1001.0, 1001.0, 1001.0, 1001.0, 1000.0, 1000.0, 1000.0, 1000.0, 1000.0, 1000.0, 1000.0, 1000.0, 1000.0, 1000.0, 1000.0, 1000.0, 1000.0, 1000.0, 1000.0, 1000.0, 1000.0, 1000.0, 1000.0, 1000.0, 1000.0, 1000.0, 1000.0, 1000.0, 1000.0, 999.0, 999.0, 999.0, 999.0, 999.0, 999.0, 999.0, 999.0, 999.0, 999.0, 999.0, 999.0, 999.0, 999.0, 999.0, 999.0, 999.0, 999.0, 999.0, 999.0, 999.0, 999.0, 999.0, 999.0, 999.0, 999.0, 999.0, 999.0, 999.0, 999.0, 999.0, 999.0, 999.0, 999.0, 998.0, 998.0, 998.0, 998.0, 998.0, 998.0, 998.0, 998.0, 998.0, 998.0, 998.0, 998.0, 998.0, 998.0, 998.0, 997.0, 997.0, 997.0, 997.0, 997.0, 997.0, 997.0, 997.0, 997.0, 997.0, 998.0, 998.0, 998.0, 998.0, 998.0, 998.0, 998.0, 998.0, 998.0, 998.0, 997.0, 997.0, 997.0, 997.0, 997.0, 997.0, 997.0, 997.0, 997.0, 997.0, 999.0, 999.0, 999.0, 999.0, 999.0, 999.0, 999.0, 1000.0, 1000.0, 1000.0, 1000.0, 1000.0, 1000.0, 1000.0, 1000.0, 1000.0, 1000.0, 1000.0, 1000.0, 999.0, 999.0, 999.0, 999.0, 999.0, 999.0, 999.0, 999.0, 999.0, 999.0, 999.0, 999.0, 999.0, 999.0, 1000.0, 1000.0, 1000.0, 1000.0, 996.0, 996.0, 996.0, 996.0, 996.0, 996.0, 996.0, 996.0, 996.0, 996.0, 996.0, 996.0, 996.0, 996.0, 996.0, 996.0, 996.0, 996.0, 996.0, 996.0, 996.0, 996.0, 996.0, 996.0, 997.0, 997.0, 997.0, 997.0, 997.0, 997.0, 997.0, 997.0, 997.0, 997.0, 997.0, 997.0, 997.0, 997.0, 997.0, 997.0, 997.0, 997.0, 997.0, 997.0, 998.0, 998.0, 998.0, 998.0, 998.0, 998.0, 998.0, 998.0, 998.0, 998.0, 998.0, 998.0, 998.0, 998.0, 998.0, 998.0, 997.0, 997.0, 997.0, 997.0, 997.0, 997.0, 997.0, 997.0, 997.0, 997.0, 997.0, 997.0, 997.0, 997.0, 996.0, 996.0, 996.0, 996.0, 996.0, 996.0, 996.0, 996.0, 996.0, 996.0, 996.0, 996.0, 996.0, 996.0, 996.0, 996.0, 996.0, 996.0, 996.0, 996.0, 996.0, 996.0, 996.0, 996.0, 996.0, 996.0, 996.0, 996.0, 996.0, 996.0, 996.0, 995.0, 995.0, 995.0, 995.0, 995.0, 995.0, 995.0, 995.0, 995.0, 995.0, 995.0, 995.0, 995.0, 995.0, 995.0, 995.0, 995.0, 994.0, 994.0, 994.0, 994.0, 994.0, 994.0, 994.0, 994.0, 994.0, 994.0, 994.0, 994.0, 994.0, 994.0, 994.0, 995.0, 995.0, 995.0, 995.0, 995.0, 995.0, 995.0, 995.0, 995.0, 995.0, 995.0, 995.0, 995.0, 995.0, 995.0, 995.0, 995.0, 995.0, 995.0, 996.0, 996.0, 996.0, 996.0, 996.0, 996.0, 996.0, 996.0, 996.0, 997.0, 997.0, 997.0, 997.0, 997.0, 997.0, 997.0, 997.0, 997.0, 997.0, 997.0, 997.0, 997.0, 997.0, 997.0, 997.0, 997.0, 997.0, 997.0, 997.0, 997.0, 997.0, 997.0, 997.0, 997.0, 997.0, 997.0, 997.0, 997.0, 997.0, 997.0, 997.0, 997.0, 997.0, 997.0, 997.0, 997.0, 997.0, 997.0, 997.0, 997.0, 997.0, 997.0, 997.0, 997.0, 997.0, 997.0, 997.0, 997.0, 997.0, 997.0, 997.0, 997.0, 997.0, 997.0, 997.0, 997.0, 997.0, 997.0, 997.0, 997.0, 997.0, 997.0, 997.0, 997.0, 997.0, 997.0, 997.0, 997.0, 997.0, 997.0, 997.0, 997.0, 997.0, 997.0, 997.0, 997.0, 997.0, 997.0, '996', '997', '997', '998', '997', '996', '996', '996', '994', '994', '994', '993', '993', '996', '996', '997', '997', '997', '997', '995', '995', '996', '996', '996', '996', '996', '995', '995', '993', '993', '993', '992', '992', '996', '996', '996', '996', '997', '997', '994', '993', '993', '993', '993', '993', '997', '997', '998', '998', '998', '997', '996', '996', '995', '995']\n",
            "[29.68, 29.68, 30.0, 31.2, 32.03, 32.03, 32.03, 28.91, 28.91, 28.91, 28.91, 28.91, 28.96, 28.96, 28.96, 28.96, 28.96, 28.96, 30.88, 32.0, 31.28, 31.57, 31.57, 31.57, 31.56, 31.28, 31.28, 31.48, 31.48, 31.48, 31.48, 32.49, 32.49, 32.49, 32.49, 31.49, 32.49, 32.49, 32.49, 32.49, 32.49, 32.49, 32.49, 32.49, 32.55, 32.55, 32.55, 32.55, 32.55, 32.55, 32.55, 32.98, 32.98, 32.98, 32.98, 32.98, 32.98, 32.98, 32.98, 33.49, 33.49, 33.49, 30.21, 30.21, 29.56, 29.56, 30.2, 30.2, 30.2, 30.2, 30.2, 30.2, 30.2, 30.2, 30.22, 30.22, 30.2, 30.2, 30.2, 33.98, 34.49, 34.49, 34.49, 33.98, 33.98, 33.98, 34.49, 34.49, 34.49, 34.49, 34.49, 34.49, 34.49, 34.49, 32.04, 32.04, 32.11, 28.91, 28.91, 28.91, 28.97, 28.97, 28.97, 32.64, 34.49, 34.49, 34.49, 34.49, 34.49, 33.98, 33.98, 33.98, 34.49, 34.49, 34.49, 34.49, 34.49, 34.49, 34.49, 34.49, 34.49, 34.49, 34.49, 34.49, 31.56, 31.56, 31.56, 31.56, 31.56, 31.56, 31.28, 31.28, 31.49, 31.48, 31.48, 31.48, 32.49, 32.49, 32.49, 32.49, 32.49, 32.49, 32.49, 32.49, 32.49, 32.49, 31.49, 31.49, 31.49, 31.49, 31.49, 32.49, 32.49, 32.49, 32.49, 32.49, 32.49, 32.55, 32.55, 32.55, 32.55, 32.55, 32.49, 32.98, 32.98, 32.98, 32.98, 32.98, 32.98, 32.98, 32.98, 32.98, 32.98, 32.98, 33.49, 33.49, 33.49, 33.49, 33.49, 33.49, 32.98, 32.98, 32.98, 34.0, 34.0, 34.0, 34.0, 34.0, 31.16, 33.98, 34.49, 34.49, 34.49, 33.98, 33.98, 33.98, 34.49, 34.49, 34.49, 34.49, 34.49, 34.49, 34.49, 34.49, 30.43, 30.43, 31.03, 31.03, 31.03, 31.03, 31.03, 31.03, 31.03, 31.03, 30.72, 30.72, 31.03, 31.03, 30.2, 30.39, 30.39, 30.39, 30.39, 30.38, 30.38, 30.38, 30.13, 30.13, 30.2, 30.17, 30.17, 30.17, 29.96, 29.96, 29.96, 31.06, 31.06, 31.06, 30.75, 30.75, 30.17, 30.17, 30.76, 30.76, 30.75, 30.75, 31.06, 31.06, 31.06, 31.06, 31.06, 31.06, 31.06, 30.76, 31.06, 31.06, 31.06, 31.06, 31.06, 31.45, 31.45, 31.45, 31.82, 31.82, 31.06, 31.06, 31.79, 31.79, 31.79, 31.79, 31.79, 31.83, 31.83, 31.83, 31.81, 31.81, 31.79, 31.79, 31.81, 31.82, 31.82, 31.82, 31.82, 32.12, 32.12, 32.51, 32.51, 32.51, 31.81, 31.81, 32.18, 32.2, 32.2, 32.2, 32.21, 32.21, 32.21, 32.42, 32.42, 32.42, 32.42, 32.18, 33.98, 33.98, 33.74, 33.74, 33.74, 34.39, 34.39, 34.63, 33.91, 33.91, 33.54, 33.67, 33.67, 33.67, 33.61, 33.61, 33.61, 33.67, 33.67, 33.67, 33.64, 33.89, 33.89, 33.35, 33.35, 33.31, 33.31, 33.31, 33.31, 33.35, 33.35, 33.35, 33.89, 30.27, 30.27, 30.04, 30.04, 30.04, 30.51, 30.51, 30.51, 30.33, 30.33, 30.33, 30.27, 30.03, 30.03, 30.04, 30.04, 30.04, 30.56, 30.56, 30.56, 30.48, 30.48, 30.48, 30.03, 30.5, 30.5, 30.47, 30.47, 30.47, 30.48, 30.48, 30.27, 30.27, 30.27, 30.5, 30.44, 30.44, 30.6, 30.6, 30.6, 30.6, 30.6, 30.6, 31.26, 31.26, 31.26, 30.44, 31.0, 31.0, 31.25, 31.25, 31.25, 31.0, 31.0, 31.0, 32.49, 32.49, 32.49, 31.0, 32.49, 32.49, 33.0, 33.0, 33.0, 32.98, 32.98, 32.98, 32.98, 32.98, 32.98, 32.49, 33.98, 33.98, 33.98, 33.98, 33.98, 33.98, 33.98, 33.98, 33.98, 33.98, 33.98, 33.98, 33.98, 33.98, 33.98, 33.98, 33.98, 33.98, 33.98, 33.98, 33.98, 31.28, 31.28, 31.28, 31.28, 31.28, 31.28, 31.28, 31.28, 31.22, 31.22, 31.22, 31.28, 28.75, 28.75, 28.75, 28.75, 28.75, 28.67, 28.67, 28.67, 28.66, 28.66, 28.66, 28.75, 28.57, 28.57, 28.61, 28.61, 28.61, 29.51, 29.51, 29.51, 29.11, 29.11, 29.11, 28.57, 29.3, 29.3, 29.3, 29.3, 30.85, 30.85, 30.85, 30.26, 30.26, 30.26, 29.3, 30.45, 30.45, 30.46, 30.46, 30.46, 30.42, 30.42, 30.42, 30.79, 30.79, 30.79, 30.45, 39.0, 39.0, 39.0, 39.0, 39.0, 39.0, 39.0, 39.0, 39.0, 39.0, 39.0, 39.0, 39.0, 39.0, 39.0, 39.0, 39.0, 39.0, 37.84, 37.84, 37.84, 37.85, 37.85, 37.85, 37.85, 37.85, 37.85, 37.84, 37.84, 37.84, 37.84, 37.84, 37.84, 37.83, 37.83, 37.83, 37.83, 37.83, 37.83, 37.84, 37.84, 37.84, 37.84, 37.84, 37.84, 33.21, 33.21, 33.21, 33.21, 33.21, 33.21, 33.24, 33.24, 33.24, 33.24, 33.24, 33.24, 32.44, 32.44, 32.44, 32.44, 32.44, 32.44, 33.29, 33.29, 33.29, 33.29, 33.29, 33.29, 33.21, 33.21, 33.21, 33.21, 33.21, 33.21, 33.21, 33.21, 33.21, 33.21, 33.21, 33.21, 33.21, 33.87, 33.87, 33.87, 33.87, 33.87, 33.87, 33.91, 33.91, 33.91, 33.91, 33.91, 33.91, 33.02, 33.02, 33.02, 33.02, 33.02, 33.02, 33.03, 33.03, 33.03, 33.03, 33.03, 33.03, 32.73, 32.73, 32.73, 32.73, 32.73, 32.73, 32.97, 32.97, 32.97, 32.97, 32.97, 32.97, 32.97, 32.97, 32.97, 32.97, 32.97, 32.97, 32.97, 33.51, 33.51, 33.51, 33.51, 33.51, 33.51, 33.51, 33.51, 33.51, 33.51, 33.51, 33.51, 33.6, 33.6, 33.6, 33.6, 33.6, 33.6, 34.56, 34.56, 34.56, 34.56, 34.56, 34.0, 34.0, 34.0, 34.0, 34.0, 34.0, 34.0, 34.0, 34.0, 34.0, 34.0, 34.0, 34.0, 34.0, 34.0, 34.0, 34.0, 34.0, 34.0, 34.0, 34.0, 34.0, 34.0, 34.0, 34.0, 34.0, 34.0, 34.0, 34.0, 34.0, 34.0, 34.0, 34.0, 34.0, 34.0, 34.0, 34.0, 34.0, 34.0, 34.0, 34.0, 34.0, 34.0, 34.0, 34.0, 34.0, 34.0, 35.0, 35.0, 35.0, 35.0, 35.0, 35.0, 35.0, 35.0, 35.0, 35.0, 35.0, 35.0, 35.45, 35.45, 35.45, 35.45, 35.45, 35.45, 37.0, 37.0, 37.0, 37.0, 37.0, 37.0, 37.0, 37.0, 37.0, 37.0, 37.0, 37.0, 37.0, 37.0, 37.0, 37.0, 37.0, 37.0, 37.0, 38.02, 38.02, 38.02, 38.02, 38.02, 38.02, 39.0, 39.0, 39.0, 39.0, 39.0, 39.0, 39.0, 39.0, 39.0, 39.0, 39.0, 39.0, 39.0, 39.0, 39.0, 39.0, 39.0, 39.0, 41.02, 41.02, 41.02, 41.02, 41.02, 41.02, 42.02, 42.02, 42.02, 42.02, 42.02, 42.02, 42.02, 42.02, 42.02, 42.02, 42.02, 42.02, 42.02, 42.02, 42.02, 42.02, 42.02, 42.02, 42.02, 42.02, 42.02, 42.02, 42.02, 42.02, 42.02, 42.02, 42.02, 42.02, 42.02, 42.02, 42.02, 42.02, 42.02, 42.02, 42.02, 42.02, 42.02, 42.02, 42.02, 42.02, 42.02, 42.02, 42.02, 42.02, 42.02, 42.02, 42.02, 42.02, 42.02, 42.02, 42.02, 42.02, 42.02, 42.02, 41.51, 41.51, 41.51, 41.51, 41.51, 41.51, 41.51, 41.51, 41.51, 41.51, 41.51, 41.51, 41.51, 41.51, 41.51, 41.51, 41.51, 41.51, 41.0, 41.0, 41.0, 41.0, 41.0, 41.0, 41.51, 41.51, 41.51, 41.51, 41.51, 41.51, 41.0, 41.0, 41.0, 41.0, 41.0, 41.0, 40.51, 40.51, 40.51, 40.51, 40.51, 40.51, 33.66, 33.66, 33.66, 33.66, 33.66, 33.66, 33.66, 33.66, 33.66, 33.66, 33.66, 33.66, 33.58, 33.58, 33.58, 33.58, 33.58, 33.58, 33.78, 33.78, 33.78, 33.78, 33.78, 33.78, 33.76, 33.76, 33.76, 33.76, 33.76, 33.76, 33.78, 33.78, 33.78, 33.78, 33.78, 33.78, 33.58, 33.58, 33.58, 33.58, 33.58, 33.58, 34.17, 34.17, 34.17, 34.17, 34.17, 34.17, 34.56, 34.56, 34.56, 34.56, 34.56, 34.56, 34.56, 34.56, 34.56, 34.56, 34.56, 34.56, 34.54, 34.54, 34.54, 34.54, 34.54, 34.54, 35.2, 35.2, 35.2, 35.2, 35.2, 35.2, 35.22, 35.22, 35.22, 35.22, 35.22, 35.22, 35.22, 35.2, 35.2, 35.2, 35.2, 35.2, 35.2, 35.2, 35.2, 35.2, 35.2, 35.2, 35.2, 35.83, 35.83, 35.83, 35.83, 35.83, 35.83, 36.46, 36.46, 36.46, 36.46, 36.46, 36.46, 36.46, 36.46, 36.46, 36.46, 36.46, 36.46, 36.45, 36.45, 36.45, 36.45, 36.45, 36.45, 37.01, 37.01, 37.01, 37.01, 37.01, 37.01, 39.0, 39.0, 39.0, 39.0, 39.0, 39.0, 39.0, 39.0, 39.0, 39.0, 39.0, 39.0, 39.0, 39.0, 39.0, 39.0, 39.0, 39.51, 39.51, 39.51, 39.51, 39.51, 39.51, 40.51, 40.51, 40.51, 40.51, 40.51, 40.51, 40.51, 40.51, 40.51, 40.51, 40.51, 40.51, 40.51, 38.98, 38.98, 38.98, 38.98, 38.98, 38.98, 38.93, 38.93, 38.93, 38.93, 38.93, 38.93, 39.17, 39.17, 39.17, 39.17, 39.17, 39.17, 41.51, 41.51, 41.51, 41.51, 41.51, 41.51, 41.51, 41.51, 41.51, 41.51, 41.51, 41.51, 41.51, 41.51, 41.51, 41.51, 41.51, 41.51, 42.51, 42.51, 42.51, 42.51, 42.51, 42.51, 42.51, 42.51, 42.51, 42.51, 42.51, 42.51, 42.51, 42.51, 42.51, 42.51, 42.51, 42.51, 42.51, 42.51, 42.51, 42.51, 42.51, 42.51, 42.51, 42.51, 42.51, 42.51, 42.51, 42.51, 42.51, 42.51, 42.51, 42.51, 42.51, 42.51, 42.51, 42.51, 42.51, 42.51, 42.45, 42.45, 42.45, 42.45, 42.45, 42.45, 42.0, 42.0, 42.0, 42.0, 42.0, 42.0, 42.0, 42.0, 42.0, 42.0, 42.0, 42.0, 42.0, 42.0, 42.0, 42.0, 42.0, 42.0, 42.0, 42.0, 42.0, 42.0, 42.0, 42.0, 42.0, 40.29, 40.29, 40.29, 40.29, 40.29, 40.29, 40.29, 40.29, 40.29, 40.29, 40.29, 39.85, 39.85, 39.85, 39.85, 39.85, 39.85, 41.51, 41.51, 41.51, 41.51, 41.51, 41.51, 41.51, 41.51, 41.51, 41.51, 41.51, 41.51, 41.51, 41.51, 41.51, 41.51, 41.51, 41.51, 41.51, 41.51, 41.51, 41.51, 41.51, 41.51, 41.51, 41.51, 41.51, 41.51, 41.51, 41.51, 41.51, 35.89, 35.89, 35.89, 35.89, 35.89, 35.89, 35.92, 35.92, 35.92, 35.92, 35.92, 35.92, 34.9, 34.9, 34.9, 34.9, 34.9, 34.9, 34.95, 34.95, 34.95, 34.57, 34.57, 34.57, 34.57, 34.57, 34.57, 35.05, 35.05, 35.05, 34.67, 34.67, 34.67, 34.69, 34.69, 34.69, 35.63, 35.63, 35.63, 35.94, 35.94, 35.94, 35.94, 35.94, 35.94, 36.56, 36.56, 36.56, 37.51, 37.51, 37.51, 37.51, 37.51, 37.51, 38.51, 38.51, 38.51, 39.0, 39.0, 39.0, 39.0, 39.0, 39.0, 39.0, 40.0, 40.0, 40.0, 40.0, 40.0, 40.0, 40.51, 40.51, 40.51, 40.51, 40.51, 40.51, 41.0, 41.0, 41.0, 41.0, 41.0, 41.0, 41.51, 41.51, 41.51, 42.51, 42.51, 42.51, 42.51, 42.51, 42.51, 42.0, 42.0, 42.0, 42.51, 42.51, 42.51, 42.51, 42.51, 41.49, 41.49, 41.49, 41.49, 41.49, 41.49, 41.49, 41.49, 41.49, 41.49, 41.0, 41.0, 41.0, 40.51, 40.51, 40.51, 40.51, 40.51, 40.51, 40.51, 40.51, 40.51, 40.51, 40.51, 40.51, 40.51, 40.51, 40.51, 40.0, 40.0, 40.0, 34.16, 34.16, 34.16, 34.16, 34.16, 34.16, 34.16, 34.6, 34.6, 34.6, 34.6, 34.6, 34.6, 34.27, 34.27, 34.27, 34.27, 34.27, 34.27, 34.55, 34.55, 34.55, 34.55, 34.55, 34.55, 34.29, 34.29, 34.29, 34.29, 34.29, 34.29, 33.98, 33.98, 33.98, 33.98, 33.98, 33.98, 34.04, 34.04, 34.04, 34.04, 34.04, 34.04, 34.06, 34.06, 34.06, 34.06, 34.06, 34.06, 34.16, 34.16, 34.16, 34.16, 34.16, 34.16, 34.56, 34.56, 34.56, 34.56, 34.56, 34.56, 34.56, 34.56, 34.56, 34.56, 34.56, 34.9, 34.9, 34.9, 34.9, 34.9, 34.9, 35.51, 35.51, 35.51, 35.51, 35.51, 35.51, 35.51, 35.51, 35.51, 35.51, 35.51, 35.51, 35.51, 36.51, 36.51, 36.51, 36.51, 36.51, 36.51, 36.51, 36.51, 36.51, 36.51, 36.51, 36.51, 37.51, 37.51, 37.51, 37.51, 37.51, 37.51, 37.52, 37.52, 37.52, 37.52, 37.52, 37.52, 37.82, 37.82, 37.82, 37.82, 37.82, 37.82, 37.82, 37.82, 37.82, 37.82, 37.82, 38.05, 38.05, 38.05, 38.05, 38.05, 38.05, 38.45, 38.45, 38.45, 38.45, 38.45, 38.45, 38.45, 38.44, 38.44, 38.44, 38.44, 38.44, 38.44, 39.51, 39.51, 39.51, 39.51, 39.51, 39.51, 39.69, 39.69, 39.69, 39.69, 39.69, 39.69, 39.7, 39.7, 39.7, 39.7, 39.7, 39.7, 40.0, 40.0, 40.0, 40.0, 40.0, 40.0, 40.89, 40.89, 40.89, 40.89, 40.89, 40.88, 40.88, 40.88, 40.88, 40.88, 40.88, 40.82, 40.82, 40.82, 40.82, 40.82, 40.82, 41.26, 41.26, 41.26, 41.26, 41.26, 41.26, 41.26, 41.26, 41.26, 41.26, 41.26, 41.26, 41.26, 41.26, 41.26, 41.26, 41.26, 41.26, 41.57, 41.57, 41.57, 41.57, 41.57, 41.57, 41.57, 41.57, 41.57, 41.57, 41.57, 41.57, 41.57, 41.57, 41.57, 41.57, 41.57, 41.57, 41.57, 41.17, 41.17, 41.17, 41.17, 41.17, 41.17, 41.17, 40.53, 40.53, 40.53, 40.53, 40.53, 40.53, 40.23, 40.23, 40.23, 40.23, 40.23, 40.23, 34.27, 34.27, 34.27, 34.28, 34.28, 34.28, 33.98, 33.98, 33.98, 34.42, 34.42, 34.42, 34.43, 34.43, 34.43, 34.76, 34.76, 34.76, 33.58, 33.58, 33.58, 32.0, 32.0, 32.0, 32.0, 32.0, 32.0, 33.0, 33.0, 33.0, 33.0, 33.0, 33.0, 34.45, 34.45, 34.45, 34.23, 34.23, 34.23, 34.23, 34.23, 34.45, 34.45, 34.45, 36.0, 36.0, 36.0, 36.0, 36.0, 36.0, 36.0, 36.24, 36.24, 36.24, 36.23, 36.23, 36.88, 36.88, 36.88, 37.52, 37.52, 37.52, 37.52, 37.52, 37.52, 37.18, 37.18, 37.18, 37.51, 37.51, 37.51, 39.0, 39.0, 39.0, 39.0, 39.0, 39.0, 39.51, 39.51, 39.51, 38.71, 38.71, 38.71, 38.95, 38.95, 38.95, 39.04, 39.04, 39.04, 41.0, 41.0, 41.0, 40.0, 40.0, 40.0, 40.0, 40.0, 40.0, 40.0, 40.0, 40.0, 40.0, 40.0, 40.0, 40.0, 40.0, 40.0, 40.0, 40.0, 40.0, 40.0, 40.0, 40.0, 40.0, 39.0, 39.0, 39.0, 33.35, 33.36, 33.36, 33.36, 37.59, 37.54, 37.54, 37.54, 37.59, 37.59, 37.59, 36.64, 36.64, 36.64, 36.65, 36.65, 36.65, 36.64, 36.64, 36.64, 36.9, 36.9, 36.9, 36.88, 36.88, 36.88, 36.9, 36.9, 36.9, 36.9, 36.88, 36.88, 36.88, 36.48, 36.48, 36.48, 36.82, 36.82, 36.82, 34.45, 34.45, 34.45, 34.45, 34.02, 34.02, 34.02, 34.55, 34.55, 34.55, 34.57, 34.57, 34.57, 34.93, 34.93, 34.93, 34.28, 34.28, 34.28, 33.87, 33.87, 33.36, 33.36, 33.36, 33.36, 33.52, 33.52, 33.52, 33.54, 33.54, 33.54, 34.17, 34.17, 34.43, 34.43, 34.43, 34.43, 35.17, 35.17, 35.17, 35.17, 35.17, 34.82, 34.82, 34.82, 35.31, 35.31, 35.31, 35.31, 35.32, 35.32, 35.32, 35.36, 35.36, 35.36, 35.58, 35.58, 35.62, 35.62, 35.62, 35.62, 36.06, 36.06, 36.06, 36.06, 36.06, 36.06, 36.06, 36.06, 36.06, 36.06, 36.06, 36.06, 36.48, 36.48, 36.5, 36.5, 36.5, 36.53, 36.53, 36.51, 36.51, 36.51, 36.51, 36.44, 36.44, 36.44, 36.44, 36.43, 36.43, 36.43, 36.39, 36.39, 36.4, 36.4, 36.4, 36.4, 36.41, 36.41, 34.72, 34.72, 34.72, 34.72, 33.41, 33.41, 32.95, 32.95, 32.95, 32.95, 32.74, 32.74, 32.74, 32.78, 32.78, 32.78, 32.23, 32.23, 32.77, 32.77, 32.77, 32.77, 32.91, 32.91, 32.91, 33.21, 33.21, 33.21, 34.02, 34.02, 34.02, 34.43, 34.43, 34.43, 32.77, 32.77, 32.77, 32.77, 32.77, 32.77, 32.74, 32.74, 32.81, 32.81, 32.81, 32.81, 31.98, 32.21, 32.21, 32.21, 32.21, 32.21, 32.21, 32.81, 32.81, 32.81, 32.81, 32.0, 32.0, 32.0, 31.28, 31.28, 31.28, 31.66, 31.66, 31.66, 31.28, 31.28, 31.28, 31.39, 31.39, 31.39, 31.4, 31.4, 31.4, 31.56, 31.56, 31.56, 31.87, 31.87, 31.87, 31.7, 31.7, 31.7, 31.71, 31.71, 31.71, 31.86, 31.86, 31.86, 31.72, 31.72, 31.72, 32.29, 32.29, 32.31, 32.31, 32.31, 32.05, 32.05, 32.05, 32.16, 32.16, 32.16, 32.2, 32.2, 32.2, 32.2, 32.46, 32.46, 32.46, 32.0, 32.0, 32.0, 33.05, 33.05, 33.05, 32.99, 32.99, 33.49, 33.49, 33.49, 33.5, 33.5, 33.5, 33.5, 33.5, 33.5, 33.49, 33.49, 33.49, 33.49, 33.49, 33.5, 33.5, 33.5, 33.5, 33.5, 33.5, 33.32, 33.32, 32.71, 32.71, 32.71, 32.71, 32.71, 32.71, 31.81, 31.81, 31.81, 31.8, 31.8, 31.45, 31.45, 31.45, 31.45, 31.46, 31.46, 32.52, 32.52, 32.52, 32.52, 31.72, 31.72, 31.57, 31.57, 31.57, 31.85, 31.85, 32.04, 32.04, 32.04, 32.04, 32.16, 32.16, 32.16, 32.36, 32.36, 32.36, 32.36, 32.38, 32.38, 32.38, 31.94, 31.94, 31.94, 31.65, 31.65, 31.65, 31.96, 31.96, 31.97, 31.97, 31.97, 31.99, 31.99, 31.99, 31.85, 31.85, 31.85, 32.46, 32.46, 32.46, 32.48, 32.48, 32.48, 32.52, 32.52, 32.52, 32.71, 32.71, 32.71, 30.34, 30.34, 30.34, 30.35, 30.35, 30.35, 30.04, 30.04, 30.04, 30.21, 30.21, 30.21, 30.98, 30.98, 30.66, 30.66, 30.66, 31.34, 31.34, 31.34, 30.79, 31.23, 32.0, 35.67, 35.67, 35.98, 35.98, 36.01, 36.01, 36.01, 36.01, 36.01, 36.14, 36.14, 36.14, 36.14, 36.14, 36.19, 36.19, 36.19, 36.19, 36.19, 36.52, 36.52, 36.52, 36.52, 36.52, 36.72, 36.72, 36.72, 36.72, 36.72, 36.72, 36.72, 36.72, 36.72, 36.72, 36.72, 36.73, 36.73, 36.73, 36.73, 36.82, 36.82, 36.82, 36.82, 36.82, 37.54, 37.54, 37.54, 37.54, 37.54, 37.54, 37.54, 37.54, 37.54, 37.52, 37.52, 37.52, 37.52, 37.52, 37.57, 37.57, 37.57, 37.57, 37.57, 37.59, 37.59, 37.59, 37.59, 37.59, 37.54, 37.54, 37.54, 37.54, 37.54, 37.59, 37.59, 37.59, 37.59, 37.59, 36.64, 36.64, 36.64, 36.64, 36.64, 36.65, 36.65, 36.65, 36.65, 36.65, 36.64, 36.64, 36.64, 36.64, 36.64, 36.9, 36.9, 36.9, 36.9, 36.9, 36.88, 36.88, 36.88, 36.88, 36.88, 36.9, 36.9, 36.9, 36.9, 36.9, 36.88, 36.88, 36.88, 36.88, 36.88, 36.48, 36.48, 36.48, 36.48, 36.48, 36.82, 36.82, 36.82, 36.82, 36.82, 34.45, 34.02, 34.55, 34.57, 34.93, 34.28, 33.87, 33.36, 33.52, 33.54, 34.17, 34.43, 35.17, 35.17, 34.82, 35.31, 35.32, 35.36, 35.58, 35.62, 36.06, 36.06, 36.06, 36.06, 36.5, 36.53, 36.51, 36.44, 36.43, 36.39, 36.4, 36.41, 34.72, 33.41, 33.41, 33.41, 33.41, 30.34, 30.34, 30.35, 30.35, 30.35, 30.35, 30.04, 30.04, 30.04, 30.21, 30.21, 30.21, 30.98, 30.98, 30.66, 30.66, 30.66, 31.34, 31.34, 31.34, 30.79, 30.79, 30.79, 30.79, 31.01, 31.01, 31.1, 31.1, 31.1, 30.99, 30.99, 30.99, 30.99, 31.64, 31.64, 31.64, 31.23, 31.23, 31.23, 31.23, 31.23, 31.25, 31.25, 31.25, 31.77, 31.77, 31.77, 31.77, 32.0, 32.0, 32.0, 32.0, 32.0, 32.0, 32.0, 32.0, 33.0, 33.0, 33.0, 33.0, 33.33, 33.33, 33.33, 33.32, 33.32, 33.32, 33.36, 33.36, 33.68, 33.68, 33.68, 33.68, 33.65, 33.65, 33.77, 33.77, 33.77, 34.12, 34.12, 34.12, 34.12, 34.21, 34.21, 34.21, 33.91, 33.91, 33.91, 33.91, 33.91, 34.31, 34.31, 34.31, 34.31, 34.52, 34.52, 34.52, 34.33, 34.33, 34.33, 34.33, 34.33, 34.25, 34.25, 34.25, 34.25, 34.02, 34.02, 34.02, 33.73, 33.73, 33.6, 33.6, 33.6, 36.0, 36.0, 36.0, 36.0, 34.96, 34.96, 34.96, 34.79, 34.79, 34.97, 34.97, 34.97, 34.97, 35.07, 35.07, 35.07, 35.05, 35.05, 35.05, 34.08, 34.08, 34.08, 34.07, 34.07, 33.96, 33.96, 33.96, 33.95, 33.95, 33.95, 33.95, 33.79, 33.79, 33.79, 33.74, 33.74, 33.74, 33.7, 33.7, 33.7, 33.77, 33.77, 33.77, 30.78, 30.78, 30.78, 30.79, 30.79, 30.82, 30.82, 30.82, 30.82, 31.09, 31.09, 31.09, 31.37, 31.37, 31.37, 31.42, 31.42, 30.56, 30.56, 30.56, 30.56, 30.8, 30.8, 30.8, 30.25, 30.25, 30.25, 30.26, 30.26, 30.28, 30.28, 30.28, 30.28, 30.48, 30.48, 30.48, 31.32, 31.32, 31.32, 31.32, 31.32, 31.32, 31.29, 31.29, 31.29, 31.67, 31.67, 31.67, 31.96, 31.96, 31.96, 31.96, 31.96, 32.61, 32.61, 32.61, 32.61, 32.61, 32.61, 32.61, 32.92, 32.92, 32.92, 32.92, 32.92, 33.24, 33.24, 33.24, 33.24, 33.23, 33.23, 33.23, 33.86, 33.86, 33.86, 33.85, 33.85, 33.85, 33.54, 33.54, 33.54, 33.55, 33.55, 33.55, 33.52, 33.52, 33.51, 33.51, '39', '40', '41', '41', '43', '46', '46', '46', '47', '47', '46', '46', '46', '39', '39', '40', '40', '41', '42', '38', '38', '39', '44', '46', '46', '46', '46', '46', '48', '47', '47', '46', '46', '37', '40', '40', '40', '41', '41', '46', '46', '46', '46', '45', '45', '36', '37', '38', '38', '38', '37', '36', '35', '33', '34']\n",
            "[60.0, 60.0, 90.0, 70.0, 70.0, 70.0, 70.0, 60.0, 60.0, 60.0, 60.0, 60.0, 70.0, 70.0, 70.0, 70.0, 70.0, 70.0, 40.0, 110.0, 110.0, 90.0, 90.0, 90.0, 90.0, 110.0, 110.0, 70.0, 70.0, 70.0, 70.0, 50.0, 50.0, 50.0, 50.0, 70.0, 50.0, 50.0, 50.0, 50.0, 50.0, 50.0, 50.0, 50.0, 90.0, 90.0, 90.0, 90.0, 90.0, 90.0, 90.0, 90.0, 90.0, 90.0, 90.0, 90.0, 90.0, 90.0, 90.0, 100.0, 100.0, 100.0, 80.0, 80.0, 60.0, 60.0, 110.0, 110.0, 110.0, 110.0, 110.0, 110.0, 110.0, 110.0, 70.0, 70.0, 110.0, 110.0, 110.0, 170.0, 90.0, 90.0, 90.0, 170.0, 170.0, 170.0, 90.0, 90.0, 90.0, 90.0, 90.0, 90.0, 100.0, 100.0, 90.0, 90.0, 90.0, 60.0, 60.0, 60.0, 70.0, 70.0, 70.0, 90.0, 90.0, 90.0, 90.0, 90.0, 90.0, 170.0, 170.0, 170.0, 90.0, 90.0, 90.0, 90.0, 90.0, 90.0, 90.0, 90.0, 90.0, 90.0, 100.0, 100.0, 90.0, 90.0, 90.0, 90.0, 90.0, 90.0, 110.0, 110.0, 70.0, 70.0, 70.0, 70.0, 50.0, 50.0, 50.0, 50.0, 50.0, 50.0, 50.0, 50.0, 50.0, 50.0, 70.0, 70.0, 70.0, 70.0, 70.0, 50.0, 50.0, 50.0, 50.0, 50.0, 50.0, 90.0, 90.0, 90.0, 90.0, 90.0, 50.0, 90.0, 90.0, 90.0, 90.0, 90.0, 90.0, 90.0, 90.0, 90.0, 90.0, 90.0, 100.0, 100.0, 100.0, 100.0, 100.0, 100.0, 90.0, 90.0, 90.0, 60.0, 60.0, 60.0, 60.0, 60.0, 80.0, 170.0, 90.0, 90.0, 90.0, 170.0, 170.0, 170.0, 90.0, 90.0, 90.0, 90.0, 90.0, 90.0, 100.0, 100.0, 100.0, 100.0, 80.0, 80.0, 80.0, 80.0, 80.0, 80.0, 80.0, 80.0, 80.0, 80.0, 80.0, 80.0, 50.0, 50.0, 50.0, 50.0, 50.0, 50.0, 50.0, 50.0, 120.0, 120.0, 50.0, 120.0, 120.0, 120.0, 120.0, 120.0, 120.0, 110.0, 110.0, 110.0, 110.0, 110.0, 120.0, 120.0, 120.0, 120.0, 120.0, 120.0, 120.0, 120.0, 120.0, 120.0, 110.0, 110.0, 110.0, 120.0, 100.0, 100.0, 100.0, 100.0, 100.0, 120.0, 120.0, 120.0, 120.0, 120.0, 100.0, 100.0, 120.0, 120.0, 120.0, 120.0, 120.0, 120.0, 120.0, 120.0, 120.0, 120.0, 120.0, 120.0, 130.0, 130.0, 130.0, 130.0, 130.0, 130.0, 130.0, 110.0, 110.0, 110.0, 130.0, 130.0, 110.0, 110.0, 110.0, 110.0, 100.0, 100.0, 100.0, 100.0, 100.0, 100.0, 100.0, 110.0, 170.0, 170.0, 70.0, 70.0, 70.0, 80.0, 80.0, 80.0, 40.0, 40.0, 70.0, 70.0, 70.0, 70.0, 110.0, 110.0, 110.0, 110.0, 110.0, 110.0, 70.0, 110.0, 110.0, 90.0, 90.0, 70.0, 70.0, 70.0, 70.0, 70.0, 70.0, 70.0, 110.0, 100.0, 100.0, 100.0, 100.0, 100.0, 100.0, 100.0, 100.0, 100.0, 100.0, 100.0, 100.0, 130.0, 130.0, 130.0, 130.0, 130.0, 120.0, 120.0, 120.0, 120.0, 120.0, 120.0, 130.0, 80.0, 80.0, 80.0, 80.0, 80.0, 80.0, 80.0, 100.0, 100.0, 100.0, 80.0, 100.0, 100.0, 140.0, 140.0, 140.0, 140.0, 140.0, 140.0, 140.0, 140.0, 140.0, 100.0, 140.0, 140.0, 140.0, 140.0, 140.0, 140.0, 140.0, 140.0, 120.0, 120.0, 120.0, 140.0, 120.0, 120.0, 150.0, 150.0, 150.0, 40.0, 40.0, 40.0, 40.0, 40.0, 40.0, 120.0, 90.0, 90.0, 90.0, 90.0, 90.0, 90.0, 90.0, 90.0, 70.0, 70.0, 70.0, 90.0, 70.0, 70.0, 70.0, 70.0, 70.0, 70.0, 70.0, 70.0, 70.0, 30.0, 30.0, 30.0, 30.0, 30.0, 30.0, 30.0, 30.0, 290.0, 290.0, 290.0, 30.0, 270.0, 270.0, 270.0, 270.0, 270.0, 230.0, 230.0, 230.0, 230.0, 230.0, 230.0, 270.0, 230.0, 230.0, 350.0, 350.0, 350.0, 350.0, 350.0, 350.0, 20.0, 20.0, 20.0, 230.0, 20.0, 20.0, 20.0, 20.0, 20.0, 20.0, 20.0, 40.0, 40.0, 40.0, 20.0, 20.0, 20.0, 20.0, 20.0, 20.0, 20.0, 20.0, 20.0, 60.0, 60.0, 60.0, 20.0, 250.0, 250.0, 260.0, 260.0, 260.0, 260.0, 260.0, 260.0, 260.0, 260.0, 340.0, 340.0, 340.0, 340.0, 340.0, 340.0, 340.0, 340.0, 340.0, 340.0, 340.0, 250.0, 250.0, 250.0, 250.0, 250.0, 250.0, 250.0, 250.0, 250.0, 250.0, 250.0, 250.0, 240.0, 240.0, 240.0, 240.0, 240.0, 240.0, 240.0, 240.0, 240.0, 240.0, 240.0, 240.0, 250.0, 250.0, 250.0, 250.0, 250.0, 250.0, 250.0, 250.0, 250.0, 250.0, 250.0, 250.0, 250.0, 250.0, 250.0, 250.0, 250.0, 250.0, 320.0, 320.0, 320.0, 320.0, 320.0, 320.0, 280.0, 280.0, 280.0, 280.0, 280.0, 280.0, 280.0, 280.0, 280.0, 280.0, 280.0, 280.0, 280.0, 270.0, 270.0, 270.0, 270.0, 270.0, 270.0, 270.0, 270.0, 270.0, 270.0, 270.0, 270.0, 292.017, 292.017, 292.017, 292.017, 292.017, 292.017, 292.017, 292.017, 292.017, 292.017, 292.017, 292.017, 292.017, 292.017, 292.017, 292.017, 292.017, 292.017, 270.0, 270.0, 270.0, 270.0, 270.0, 270.0, 270.0, 270.0, 270.0, 270.0, 270.0, 270.0, 270.0, 280.0, 280.0, 280.0, 280.0, 280.0, 280.0, 280.0, 280.0, 280.0, 280.0, 280.0, 280.0, 270.0, 270.0, 270.0, 270.0, 270.0, 270.0, 280.0, 280.0, 280.0, 280.0, 280.0, 280.0, 280.0, 280.0, 280.0, 280.0, 280.0, 270.0, 270.0, 270.0, 270.0, 270.0, 270.0, 270.0, 270.0, 270.0, 270.0, 270.0, 270.0, 270.0, 270.0, 270.0, 270.0, 270.0, 270.0, 340.0, 340.0, 340.0, 340.0, 340.0, 340.0, 340.0, 340.0, 340.0, 340.0, 340.0, 340.0, 270.0, 270.0, 270.0, 270.0, 270.0, 270.0, 270.0, 270.0, 270.0, 270.0, 270.0, 270.0, 270.0, 270.0, 270.0, 270.0, 270.0, 270.0, 270.0, 270.0, 270.0, 270.0, 270.0, 270.0, 270.0, 270.0, 270.0, 270.0, 270.0, 240.0, 240.0, 240.0, 240.0, 240.0, 240.0, 240.0, 240.0, 240.0, 240.0, 240.0, 240.0, 240.0, 240.0, 240.0, 240.0, 240.0, 240.0, 240.0, 260.0, 260.0, 260.0, 260.0, 260.0, 260.0, 250.0, 250.0, 250.0, 250.0, 250.0, 250.0, 250.0, 250.0, 250.0, 250.0, 250.0, 250.0, 250.0, 250.0, 250.0, 250.0, 250.0, 250.0, 270.0, 270.0, 270.0, 270.0, 270.0, 270.0, 270.0, 270.0, 270.0, 270.0, 270.0, 270.0, 270.0, 270.0, 270.0, 270.0, 270.0, 270.0, 270.0, 270.0, 270.0, 270.0, 270.0, 220.0, 220.0, 220.0, 220.0, 220.0, 220.0, 270.0, 270.0, 270.0, 270.0, 270.0, 270.0, 270.0, 270.0, 270.0, 270.0, 270.0, 270.0, 270.0, 270.0, 270.0, 270.0, 270.0, 270.0, 270.0, 270.0, 270.0, 270.0, 270.0, 270.0, 270.0, 270.0, 270.0, 270.0, 270.0, 270.0, 270.0, 270.0, 270.0, 270.0, 270.0, 270.0, 270.0, 270.0, 270.0, 270.0, 270.0, 270.0, 270.0, 270.0, 270.0, 270.0, 270.0, 270.0, 270.0, 270.0, 270.0, 270.0, 270.0, 270.0, 270.0, 270.0, 270.0, 270.0, 270.0, 270.0, 270.0, 270.0, 270.0, 270.0, 270.0, 270.0, 270.0, 270.0, 270.0, 270.0, 270.0, 270.0, 270.0, 240.0, 240.0, 240.0, 240.0, 240.0, 240.0, 240.0, 240.0, 240.0, 240.0, 240.0, 240.0, 240.0, 240.0, 240.0, 240.0, 240.0, 240.0, 240.0, 240.0, 240.0, 240.0, 240.0, 240.0, 250.0, 250.0, 250.0, 250.0, 250.0, 250.0, 250.0, 250.0, 250.0, 250.0, 250.0, 250.0, 250.0, 250.0, 250.0, 250.0, 250.0, 250.0, 240.0, 240.0, 240.0, 240.0, 240.0, 240.0, 270.0, 270.0, 270.0, 270.0, 270.0, 270.0, 270.0, 270.0, 270.0, 270.0, 270.0, 270.0, 270.0, 270.0, 270.0, 270.0, 270.0, 270.0, 240.0, 240.0, 240.0, 240.0, 240.0, 240.0, 250.0, 250.0, 250.0, 250.0, 250.0, 250.0, 250.0, 250.0, 250.0, 250.0, 250.0, 250.0, 250.0, 250.0, 250.0, 250.0, 250.0, 250.0, 250.0, 230.0, 230.0, 230.0, 230.0, 230.0, 230.0, 250.0, 250.0, 250.0, 250.0, 250.0, 250.0, 250.0, 250.0, 250.0, 250.0, 250.0, 250.0, 250.0, 250.0, 250.0, 250.0, 250.0, 250.0, 240.0, 240.0, 240.0, 240.0, 240.0, 240.0, 250.0, 250.0, 250.0, 250.0, 250.0, 250.0, 250.0, 250.0, 250.0, 250.0, 250.0, 250.0, 250.0, 250.0, 250.0, 250.0, 250.0, 250.0, 250.0, 250.0, 250.0, 250.0, 250.0, 250.0, 250.0, 250.0, 250.0, 250.0, 250.0, 250.0, 250.0, 250.0, 250.0, 250.0, 250.0, 250.0, 250.0, 250.0, 250.0, 250.0, 250.0, 250.0, 250.0, 250.0, 250.0, 250.0, 250.0, 250.0, 250.0, 250.0, 250.0, 250.0, 250.0, 250.0, 290.0, 290.0, 290.0, 290.0, 290.0, 290.0, 230.0, 230.0, 230.0, 230.0, 230.0, 230.0, 230.0, 230.0, 230.0, 230.0, 230.0, 230.0, 50.0, 50.0, 50.0, 50.0, 50.0, 50.0, 50.0, 50.0, 50.0, 50.0, 50.0, 50.0, 50.0, 50.0, 50.0, 50.0, 270.0, 270.0, 270.0, 270.0, 270.0, 270.0, 270.0, 270.0, 270.0, 270.0, 270.0, 270.0, 270.0, 270.0, 270.0, 270.0, 270.0, 270.0, 270.0, 270.0, 270.0, 270.0, 270.0, 270.0, 300.0, 300.0, 300.0, 300.0, 300.0, 300.0, 270.0, 270.0, 270.0, 270.0, 270.0, 270.0, 270.0, 270.0, 270.0, 270.0, 270.0, 270.0, 270.0, 270.0, 270.0, 270.0, 270.0, 270.0, 270.0, 300.0, 300.0, 300.0, 300.0, 300.0, 300.0, 270.0, 270.0, 270.0, 270.0, 270.0, 270.0, 270.0, 270.0, 270.0, 270.0, 270.0, 270.0, 270.0, 270.0, 270.0, 270.0, 270.0, 270.0, 270.0, 270.0, 270.0, 270.0, 270.0, 270.0, 270.0, 270.0, 270.0, 270.0, 270.0, 270.0, 270.0, 270.0, 270.0, 270.0, 270.0, 270.0, 270.0, 270.0, 270.0, 270.0, 270.0, 270.0, 250.0, 250.0, 250.0, 250.0, 250.0, 250.0, 240.0, 240.0, 240.0, 240.0, 240.0, 240.0, 240.0, 240.0, 240.0, 240.0, 240.0, 240.0, 290.0, 290.0, 290.0, 290.0, 290.0, 290.0, 290.0, 290.0, 290.0, 290.0, 290.0, 290.0, 290.0, 290.0, 290.0, 330.0, 330.0, 330.0, 230.0, 230.0, 230.0, 230.0, 230.0, 230.0, 210.0, 210.0, 210.0, 20.0, 20.0, 20.0, 20.0, 20.0, 20.0, 230.0, 230.0, 230.0, 260.0, 260.0, 260.0, 260.0, 260.0, 260.0, 270.0, 270.0, 270.0, 290.0, 290.0, 290.0, 290.0, 290.0, 290.0, 290.0, 300.0, 300.0, 300.0, 300.0, 300.0, 300.0, 270.0, 270.0, 270.0, 250.0, 250.0, 250.0, 300.0, 300.0, 300.0, 300.0, 300.0, 300.0, 340.0, 340.0, 340.0, 340.0, 340.0, 340.0, 340.0, 340.0, 340.0, 270.0, 270.0, 270.0, 270.0, 270.0, 270.0, 270.0, 270.0, 340.0, 340.0, 340.0, 340.0, 340.0, 340.0, 340.0, 340.0, 340.0, 340.0, 350.0, 350.0, 350.0, 340.0, 340.0, 340.0, 340.0, 340.0, 50.0, 50.0, 50.0, 50.0, 50.0, 50.0, 50.0, 50.0, 50.0, 50.0, 20.0, 20.0, 20.0, 260.0, 260.0, 260.0, 260.0, 260.0, 260.0, 260.0, 270.0, 270.0, 270.0, 270.0, 270.0, 270.0, 250.0, 250.0, 250.0, 250.0, 250.0, 250.0, 270.0, 270.0, 270.0, 270.0, 270.0, 270.0, 270.0, 270.0, 270.0, 270.0, 270.0, 270.0, 260.0, 260.0, 260.0, 260.0, 260.0, 260.0, 220.0, 220.0, 220.0, 220.0, 220.0, 220.0, 220.0, 220.0, 220.0, 220.0, 220.0, 220.0, 220.0, 220.0, 220.0, 220.0, 220.0, 220.0, 200.0, 200.0, 200.0, 200.0, 200.0, 200.0, 200.0, 200.0, 200.0, 200.0, 200.0, 50.0, 50.0, 50.0, 50.0, 50.0, 50.0, 230.0, 230.0, 230.0, 230.0, 230.0, 230.0, 230.0, 230.0, 230.0, 230.0, 230.0, 230.0, 230.0, 250.0, 250.0, 250.0, 250.0, 250.0, 250.0, 250.0, 250.0, 250.0, 250.0, 250.0, 250.0, 50.0, 50.0, 50.0, 50.0, 50.0, 50.0, 260.0, 260.0, 260.0, 260.0, 260.0, 260.0, 270.0, 270.0, 270.0, 270.0, 270.0, 270.0, 270.0, 270.0, 270.0, 270.0, 270.0, 270.0, 270.0, 270.0, 270.0, 270.0, 270.0, 50.0, 50.0, 50.0, 50.0, 50.0, 50.0, 50.0, 50.0, 50.0, 50.0, 50.0, 50.0, 50.0, 40.0, 40.0, 40.0, 40.0, 40.0, 40.0, 60.0, 60.0, 60.0, 60.0, 60.0, 60.0, 60.0, 60.0, 60.0, 60.0, 60.0, 60.0, 60.0, 60.0, 60.0, 60.0, 60.0, 60.0, 70.0, 70.0, 70.0, 70.0, 70.0, 70.0, 70.0, 70.0, 70.0, 70.0, 70.0, 50.0, 50.0, 50.0, 50.0, 50.0, 50.0, 50.0, 50.0, 50.0, 50.0, 50.0, 50.0, 50.0, 50.0, 50.0, 50.0, 50.0, 50.0, 30.0, 30.0, 30.0, 30.0, 30.0, 30.0, 40.0, 40.0, 40.0, 40.0, 40.0, 40.0, 40.0, 40.0, 40.0, 40.0, 40.0, 40.0, 40.0, 30.0, 30.0, 30.0, 30.0, 30.0, 30.0, 30.0, 30.0, 30.0, 30.0, 30.0, 30.0, 30.0, 50.0, 50.0, 50.0, 50.0, 50.0, 50.0, 40.0, 40.0, 40.0, 40.0, 40.0, 40.0, 320.0, 320.0, 320.0, 320.0, 320.0, 320.0, 100.0, 100.0, 100.0, 40.0, 40.0, 40.0, 40.0, 40.0, 40.0, 260.0, 260.0, 260.0, 260.0, 260.0, 260.0, 240.0, 240.0, 240.0, 260.0, 260.0, 260.0, 230.0, 230.0, 230.0, 230.0, 230.0, 230.0, 280.0, 280.0, 280.0, 280.0, 280.0, 280.0, 280.0, 280.0, 330.0, 330.0, 330.0, 290.0, 290.0, 290.0, 290.0, 290.0, 290.0, 290.0, 60.0, 60.0, 60.0, 60.0, 60.0, 50.0, 50.0, 50.0, 270.0, 270.0, 270.0, 270.0, 270.0, 270.0, 30.0, 30.0, 30.0, 50.0, 50.0, 50.0, 90.0, 90.0, 90.0, 90.0, 90.0, 90.0, 70.0, 70.0, 70.0, 70.0, 70.0, 70.0, 320.0, 320.0, 320.0, 320.0, 320.0, 320.0, 340.0, 340.0, 340.0, 20.0, 20.0, 20.0, 20.0, 20.0, 20.0, 20.0, 20.0, 20.0, 20.0, 20.0, 20.0, 20.0, 20.0, 20.0, 20.0, 20.0, 20.0, 20.0, 20.0, 20.0, 20.0, 50.0, 50.0, 50.0, 110.0, 110.0, 110.0, 110.0, 120.0, 60.0, 60.0, 60.0, 60.0, 60.0, 60.0, 50.0, 50.0, 50.0, 50.0, 50.0, 50.0, 50.0, 50.0, 50.0, 50.0, 50.0, 50.0, 50.0, 50.0, 50.0, 50.0, 50.0, 50.0, 50.0, 50.0, 50.0, 50.0, 50.0, 50.0, 50.0, 50.0, 50.0, 50.0, 140.0, 140.0, 140.0, 140.0, 140.0, 140.0, 140.0, 150.0, 150.0, 150.0, 150.0, 150.0, 150.0, 160.0, 160.0, 160.0, 160.0, 160.0, 160.0, 160.0, 160.0, 150.0, 150.0, 150.0, 150.0, 160.0, 160.0, 160.0, 160.0, 160.0, 160.0, 140.0, 140.0, 140.0, 140.0, 140.0, 140.0, 140.0, 140.0, 140.0, 140.0, 140.0, 140.0, 140.0, 140.0, 150.0, 150.0, 150.0, 150.0, 150.0, 150.0, 150.0, 170.0, 170.0, 170.0, 170.0, 170.0, 160.0, 160.0, 160.0, 160.0, 170.0, 170.0, 170.0, 170.0, 170.0, 170.0, 170.0, 170.0, 130.0, 130.0, 130.0, 130.0, 130.0, 130.0, 130.0, 130.0, 130.0, 130.0, 130.0, 120.0, 120.0, 120.0, 120.0, 140.0, 140.0, 140.0, 140.0, 140.0, 140.0, 140.0, 80.0, 80.0, 80.0, 80.0, 80.0, 80.0, 80.0, 80.0, 10.0, 10.0, 10.0, 10.0, 330.0, 330.0, 330.0, 330.0, 330.0, 330.0, 330.0, 330.0, 330.0, 330.0, 330.0, 330.0, 330.0, 330.0, 300.0, 300.0, 300.0, 300.0, 300.0, 300.0, 300.0, 260.0, 260.0, 260.0, 310.0, 310.0, 310.0, 310.0, 310.0, 310.0, 320.0, 320.0, 320.0, 320.0, 320.0, 320.0, 330.0, 330.0, 330.0, 330.0, 330.0, 330.0, 330.0, 60.0, 60.0, 60.0, 60.0, 60.0, 60.0, 130.0, 130.0, 130.0, 130.0, 155.4, 155.4, 155.4, 155.4, 155.4, 155.4, 320.0, 320.0, 320.0, 320.0, 320.0, 320.0, 170.264, 170.264, 170.264, 170.264, 170.264, 170.264, 170.264, 170.264, 170.264, 170.264, 170.264, 170.264, 340.0, 340.0, 340.0, 340.0, 340.0, 340.0, 340.0, 340.0, 340.0, 350.0, 350.0, 350.0, 170.264, 170.264, 170.264, 170.264, 170.264, 170.264, 170.264, 170.264, 170.264, 170.264, 170.264, 170.264, 170.264, 170.264, 170.264, 210.248, 210.248, 210.248, 210.248, 210.248, 210.248, 210.248, 210.248, 210.248, 210.248, 210.248, 270.0, 270.0, 270.0, 270.0, 270.0, 270.0, 300.0, 300.0, 300.0, 300.0, 300.0, 300.0, 300.0, 300.0, 300.0, 300.0, 300.0, 300.0, 300.0, 300.0, 310.0, 310.0, 290.0, 290.0, 290.0, 290.0, 290.0, 290.0, 120.0, 120.0, 120.0, 120.0, 120.0, 110.0, 110.0, 110.0, 110.0, 110.0, 110.0, 110.0, 110.0, 110.0, 110.0, 100.0, 100.0, 100.0, 100.0, 100.0, 270.0, 270.0, 270.0, 270.0, 270.0, 270.0, 80.0, 80.0, 80.0, 70.0, 70.0, 70.0, 70.0, 70.0, 70.0, 70.0, 70.0, 70.0, 70.0, 100.0, 100.0, 100.0, 100.0, 100.0, 100.0, 100.0, 100.0, 100.0, 100.0, 100.0, 110.0, 110.0, 110.0, 120.0, 120.0, 120.0, 120.0, 120.0, 120.0, 120.0, 120.0, 120.0, 120.0, 120.0, 120.0, 90.0, 90.0, 90.0, 90.0, 90.0, 90.0, 110.0, 110.0, 110.0, 110.0, 110.0, 110.0, 100.0, 100.0, 100.0, 100.0, 100.0, 120.0, 120.0, 120.0, 120.0, 140.0, 130.0, 100.0, 100.0, 110.0, 110.0, 110.0, 110.0, 110.0, 110.0, 110.0, 120.0, 120.0, 120.0, 120.0, 120.0, 120.0, 120.0, 120.0, 120.0, 120.0, 110.0, 110.0, 110.0, 110.0, 110.0, 100.0, 100.0, 100.0, 100.0, 100.0, 100.0, 100.0, 100.0, 100.0, 100.0, 100.0, 100.0, 100.0, 100.0, 100.0, 140.0, 140.0, 140.0, 140.0, 140.0, 90.0, 90.0, 90.0, 90.0, 90.0, 90.0, 90.0, 90.0, 90.0, 90.0, 90.0, 90.0, 90.0, 90.0, 120.0, 120.0, 120.0, 120.0, 120.0, 120.0, 120.0, 120.0, 120.0, 120.0, 60.0, 60.0, 60.0, 60.0, 60.0, 60.0, 60.0, 60.0, 60.0, 60.0, 50.0, 50.0, 50.0, 50.0, 50.0, 50.0, 50.0, 50.0, 50.0, 50.0, 50.0, 50.0, 50.0, 50.0, 50.0, 50.0, 50.0, 50.0, 50.0, 50.0, 50.0, 50.0, 50.0, 50.0, 50.0, 50.0, 50.0, 50.0, 50.0, 50.0, 50.0, 50.0, 50.0, 50.0, 50.0, 50.0, 50.0, 50.0, 50.0, 50.0, 50.0, 50.0, 50.0, 50.0, 50.0, 140.0, 140.0, 150.0, 150.0, 160.0, 160.0, 160.0, 150.0, 160.0, 160.0, 140.0, 140.0, 140.0, 140.0, 140.0, 150.0, 150.0, 170.0, 170.0, 160.0, 170.0, 170.0, 170.0, 130.0, 130.0, 130.0, 120.0, 140.0, 140.0, 80.0, 80.0, 80.0, 10.0, 330.0, 330.0, 330.0, 330.0, 90.0, 90.0, 90.0, 90.0, 90.0, 90.0, 110.0, 110.0, 110.0, 110.0, 110.0, 110.0, 100.0, 100.0, 100.0, 100.0, 100.0, 120.0, 120.0, 120.0, 120.0, 120.0, 120.0, 120.0, 110.0, 110.0, 110.0, 110.0, 110.0, 110.0, 110.0, 110.0, 110.0, 140.0, 140.0, 140.0, 140.0, 140.0, 140.0, 140.0, 140.0, 140.0, 140.0, 140.0, 140.0, 140.0, 140.0, 140.0, 130.0, 130.0, 130.0, 130.0, 130.0, 130.0, 130.0, 130.0, 130.0, 130.0, 130.0, 130.0, 120.0, 120.0, 120.0, 120.0, 120.0, 120.0, 120.0, 120.0, 60.0, 60.0, 60.0, 60.0, 60.0, 60.0, 110.0, 110.0, 110.0, 90.0, 90.0, 90.0, 90.0, 90.0, 90.0, 90.0, 110.0, 110.0, 110.0, 110.0, 110.0, 110.0, 110.0, 110.0, 110.0, 120.0, 120.0, 120.0, 120.0, 120.0, 120.0, 120.0, 120.0, 120.0, 120.0, 120.0, 120.0, 90.0, 90.0, 90.0, 90.0, 90.0, 90.0, 90.0, 90.0, 90.0, 90.0, 90.0, 90.0, 90.0, 90.0, 90.0, 90.0, 90.0, 110.0, 110.0, 110.0, 110.0, 110.0, 110.0, 110.0, 110.0, 110.0, 110.0, 100.0, 100.0, 100.0, 100.0, 100.0, 100.0, 100.0, 100.0, 100.0, 100.0, 100.0, 100.0, 100.0, 100.0, 100.0, 100.0, 100.0, 100.0, 100.0, 100.0, 100.0, 100.0, 100.0, 100.0, 94.119, 94.119, 94.119, 94.119, 94.119, 94.119, 94.119, 94.119, 94.119, 94.119, 94.119, 94.119, 205.498, 205.498, 205.498, 205.498, 205.498, 205.498, 205.498, 205.498, 205.498, 205.498, 205.498, 205.498, 220.0, 220.0, 220.0, 220.0, 220.0, 220.0, 220.0, 220.0, 220.0, 210.0, 210.0, 210.0, 230.0, 230.0, 230.0, 230.0, 230.0, 230.0, 230.0, 230.0, 230.0, 270.0, 270.0, 270.0, 260.0, 260.0, 260.0, 260.0, 260.0, 330.0, 330.0, 330.0, 330.0, 330.0, 330.0, 330.0, 70.0, 70.0, 70.0, 70.0, 70.0, 30.0, 30.0, 30.0, 30.0, 30.0, 30.0, 30.0, 340.0, 340.0, 340.0, 340.0, 340.0, 340.0, 40.0, 40.0, 40.0, 40.0, 40.0, 40.0, 210.0, 210.0, 210.0, 210.0, '234', '196', '158', '120', '144', '190', '190', '225', '283', '283', '271', '259', '259', '288', '288', '292', '296', '300', '298', '292', '292', '293', '301', '303', '303', '303', '302', '302', '299', '296', '296', '289', '289', '288', '289', '289', '289', '290', '290', '295', '294', '294', '290', '286', '282', '277', '281', '285', '281', '281', '265', '241', '217', '193', '202']\n",
            "[4.1, 4.1, 1.5, 3.1, 4.1, 4.1, 4.1, 2.6, 2.6, 2.6, 2.6, 2.6, 2.6, 2.6, 2.6, 2.6, 2.6, 2.6, 4.1, 5.7, 2.6, 2.1, 2.1, 2.1, 2.1, 2.6, 2.6, 2.6, 2.6, 2.6, 2.6, 2.1, 2.1, 2.1, 2.1, 2.6, 3.6, 3.6, 3.6, 3.6, 3.6, 3.6, 3.6, 3.6, 4.1, 4.1, 4.1, 4.1, 4.1, 4.1, 4.1, 2.1, 2.1, 2.1, 2.1, 2.1, 2.1, 2.1, 2.1, 2.1, 2.1, 2.1, 3.1, 3.1, 2.1, 2.1, 2.1, 2.1, 2.1, 2.1, 2.1, 2.1, 2.1, 2.1, 2.6, 2.6, 2.1, 2.1, 2.1, 3.6, 2.1, 2.1, 2.1, 3.6, 3.6, 3.6, 2.1, 2.1, 2.1, 2.1, 2.1, 2.1, 2.1, 2.1, 5.1, 5.1, 5.1, 2.6, 2.6, 2.6, 2.6, 2.6, 2.6, 2.1, 2.1, 2.1, 2.1, 2.1, 2.1, 3.6, 3.6, 3.6, 2.1, 2.1, 2.1, 2.1, 2.1, 2.1, 2.1, 2.1, 2.1, 2.1, 2.1, 2.1, 2.1, 2.1, 2.1, 2.1, 2.1, 2.1, 2.6, 2.6, 2.6, 2.6, 2.6, 2.6, 2.1, 2.1, 2.1, 2.1, 2.1, 2.1, 2.1, 2.1, 2.1, 2.1, 2.6, 2.6, 2.6, 2.6, 2.6, 3.6, 3.6, 3.6, 3.6, 3.6, 3.6, 4.1, 4.1, 4.1, 4.1, 4.1, 3.6, 2.1, 2.1, 2.1, 2.1, 2.1, 2.1, 2.1, 2.1, 2.1, 2.1, 2.1, 2.1, 2.1, 2.1, 2.1, 2.1, 2.1, 2.1, 2.1, 2.1, 3.6, 3.6, 3.6, 3.6, 3.6, 3.1, 3.6, 2.1, 2.1, 2.1, 3.6, 3.6, 3.6, 2.1, 2.1, 2.1, 2.1, 2.1, 2.1, 2.1, 2.1, 3.6, 3.6, 4.1, 4.1, 4.1, 4.1, 4.1, 4.1, 4.1, 4.1, 5.1, 5.1, 4.1, 4.1, 6.2, 6.2, 6.2, 6.2, 6.2, 6.2, 6.2, 6.2, 2.6, 2.6, 6.2, 2.6, 2.6, 2.6, 2.6, 2.6, 2.6, 5.7, 5.7, 5.7, 5.7, 5.7, 2.6, 2.6, 3.6, 3.6, 3.6, 3.6, 3.6, 3.6, 3.6, 3.6, 3.6, 3.6, 3.6, 3.6, 4.6, 4.6, 4.6, 4.6, 4.6, 4.6, 4.6, 4.6, 4.6, 4.6, 4.6, 4.6, 4.1, 4.1, 4.1, 4.1, 4.1, 4.1, 4.1, 4.1, 4.6, 4.6, 4.1, 4.1, 4.1, 4.1, 4.1, 4.1, 4.1, 4.1, 4.1, 2.6, 2.6, 2.6, 4.1, 4.1, 2.1, 2.1, 2.1, 2.1, 4.1, 4.1, 4.1, 4.1, 4.1, 4.1, 4.1, 2.1, 3.6, 3.6, 2.6, 2.6, 2.6, 2.6, 2.6, 2.6, 3.1, 3.1, 2.6, 2.1, 2.1, 2.1, 1.5, 1.5, 1.5, 1.5, 1.5, 1.5, 2.1, 1.5, 1.5, 2.1, 2.1, 2.1, 2.1, 2.1, 2.1, 2.1, 2.1, 2.1, 1.5, 2.6, 2.6, 2.6, 2.6, 2.6, 2.6, 2.6, 2.6, 1.5, 1.5, 1.5, 2.6, 2.1, 2.1, 2.1, 2.1, 2.1, 2.1, 2.1, 2.1, 2.1, 2.1, 2.1, 2.1, 2.1, 2.1, 2.1, 2.1, 2.1, 2.1, 2.1, 1.0, 1.0, 1.0, 2.1, 1.0, 1.0, 1.0, 1.0, 1.0, 1.0, 1.0, 1.0, 2.1, 2.1, 2.1, 1.0, 2.6, 2.6, 2.6, 2.6, 2.6, 2.6, 2.6, 2.6, 2.6, 2.6, 2.6, 2.6, 2.6, 2.6, 1.5, 1.5, 1.5, 2.1, 2.1, 2.1, 2.1, 2.1, 2.1, 2.6, 1.5, 1.5, 1.5, 1.5, 1.5, 1.5, 1.5, 1.5, 5.1, 5.1, 5.1, 1.5, 4.1, 4.1, 4.1, 4.1, 4.1, 4.1, 4.1, 4.1, 4.1, 2.6, 2.6, 2.6, 2.6, 2.6, 2.6, 2.6, 2.6, 3.1, 3.1, 3.1, 2.6, 2.6, 2.6, 2.6, 2.6, 2.6, 1.5, 1.5, 1.5, 1.5, 1.5, 1.5, 2.6, 1.5, 1.5, 1.0, 1.0, 1.0, 1.0, 1.0, 1.0, 1.0, 1.0, 1.0, 1.5, 1.0, 1.0, 1.0, 1.0, 1.0, 1.0, 1.0, 2.6, 2.6, 2.6, 1.0, 1.0, 1.0, 1.0, 1.0, 1.0, 1.0, 1.0, 1.0, 1.5, 1.5, 1.5, 1.0, 3.1, 3.1, 2.1, 2.1, 2.1, 2.1, 2.1, 2.1, 2.1, 2.1, 4.1, 4.1, 4.1, 4.1, 4.1, 4.1, 4.1, 4.1, 3.1, 3.1, 3.1, 4.1, 4.1, 4.1, 4.1, 4.1, 4.1, 4.1, 4.1, 4.1, 4.1, 4.1, 4.1, 3.6, 3.6, 3.6, 3.6, 3.6, 3.6, 3.6, 3.6, 3.6, 3.6, 3.6, 3.6, 2.6, 2.6, 2.6, 2.6, 2.6, 2.6, 2.1, 2.1, 2.1, 2.1, 2.1, 2.1, 2.1, 2.1, 2.1, 2.1, 2.1, 2.1, 3.1, 3.1, 3.1, 3.1, 3.1, 3.1, 2.6, 2.6, 2.6, 2.6, 2.6, 2.6, 2.6, 2.6, 2.6, 2.6, 2.6, 2.6, 2.6, 2.6, 2.6, 2.6, 2.6, 2.6, 2.6, 2.6, 2.6, 2.6, 2.6, 2.6, 2.6, 5.96, 5.96, 5.96, 5.96, 5.96, 5.96, 5.96, 5.96, 5.96, 5.96, 5.96, 5.96, 5.96, 5.96, 5.96, 5.96, 5.96, 5.96, 5.1, 5.1, 5.1, 5.1, 5.1, 5.1, 5.1, 5.1, 5.1, 5.1, 5.1, 5.1, 5.1, 5.1, 5.1, 5.1, 5.1, 5.1, 5.1, 5.1, 5.1, 5.1, 5.1, 5.1, 5.1, 5.1, 5.1, 5.1, 5.1, 5.1, 5.1, 4.1, 4.1, 4.1, 4.1, 4.1, 4.1, 4.1, 4.1, 4.1, 4.1, 4.1, 3.6, 3.6, 3.6, 3.6, 3.6, 3.6, 3.6, 3.6, 3.6, 3.6, 3.6, 3.6, 3.6, 3.6, 3.6, 3.6, 3.6, 3.6, 3.1, 3.1, 3.1, 3.1, 3.1, 3.1, 3.1, 3.1, 3.1, 3.1, 3.1, 3.1, 5.1, 5.1, 5.1, 5.1, 5.1, 5.1, 5.1, 5.1, 5.1, 5.1, 5.1, 4.1, 4.1, 4.1, 4.1, 4.1, 4.1, 4.1, 4.1, 4.1, 4.1, 4.1, 4.1, 3.6, 3.6, 3.6, 3.6, 3.6, 3.6, 2.6, 2.6, 2.6, 2.6, 2.6, 2.6, 2.6, 2.6, 2.6, 2.6, 2.6, 2.6, 2.6, 2.6, 2.6, 2.6, 2.6, 2.6, 2.6, 2.6, 2.6, 2.6, 2.6, 2.6, 2.6, 3.1, 3.1, 3.1, 3.1, 3.1, 3.1, 3.1, 3.1, 3.1, 3.1, 3.1, 3.1, 3.1, 3.1, 3.1, 3.1, 3.1, 3.1, 2.6, 2.6, 2.6, 2.6, 2.6, 2.6, 5.1, 5.1, 5.1, 5.1, 5.1, 5.1, 5.1, 5.1, 5.1, 5.1, 5.1, 5.1, 5.1, 5.1, 5.1, 5.1, 5.1, 2.6, 2.6, 2.6, 2.6, 2.6, 2.6, 3.6, 3.6, 3.6, 3.6, 3.6, 3.6, 3.6, 3.6, 3.6, 3.6, 3.6, 3.6, 3.6, 3.6, 3.6, 3.6, 3.6, 3.6, 5.1, 5.1, 5.1, 5.1, 5.1, 5.1, 5.1, 5.1, 5.1, 5.1, 5.1, 5.1, 5.1, 4.6, 4.6, 4.6, 4.6, 4.6, 4.6, 4.6, 4.6, 4.6, 4.6, 4.6, 4.6, 5.1, 5.1, 5.1, 5.1, 5.1, 5.1, 4.1, 4.1, 4.1, 4.1, 4.1, 4.1, 5.1, 5.1, 5.1, 5.1, 5.1, 5.1, 4.1, 4.1, 4.1, 4.1, 4.1, 4.1, 4.1, 4.1, 4.1, 4.1, 4.1, 4.1, 2.1, 2.1, 2.1, 2.1, 2.1, 2.1, 2.1, 2.1, 2.1, 2.1, 2.1, 2.1, 2.1, 2.1, 2.1, 2.1, 2.1, 2.1, 2.1, 2.1, 2.1, 2.1, 2.1, 2.1, 2.1, 2.1, 2.1, 2.1, 2.1, 2.1, 2.1, 2.1, 2.1, 2.1, 2.1, 2.1, 2.1, 2.1, 2.1, 2.1, 2.1, 2.1, 2.1, 2.1, 2.1, 2.1, 2.1, 2.1, 4.1, 4.1, 4.1, 4.1, 4.1, 4.1, 4.1, 4.1, 4.1, 4.1, 4.1, 4.1, 4.1, 4.1, 4.1, 4.1, 4.1, 4.1, 4.1, 4.1, 4.1, 4.1, 4.1, 4.1, 4.6, 4.6, 4.6, 4.6, 4.6, 4.6, 4.6, 4.6, 4.6, 4.6, 4.6, 4.6, 4.6, 4.6, 4.6, 4.6, 4.6, 4.6, 4.6, 4.1, 4.1, 4.1, 4.1, 4.1, 4.1, 4.1, 4.1, 4.1, 4.1, 4.1, 4.1, 4.1, 4.1, 4.1, 4.1, 4.1, 4.1, 4.1, 4.1, 4.1, 4.1, 4.1, 4.1, 5.1, 5.1, 5.1, 5.1, 5.1, 5.1, 6.2, 6.2, 6.2, 6.2, 6.2, 6.2, 6.2, 6.2, 6.2, 6.2, 6.2, 6.2, 6.2, 6.2, 6.2, 6.2, 6.2, 5.1, 5.1, 5.1, 5.1, 5.1, 5.1, 2.6, 2.6, 2.6, 2.6, 2.6, 2.6, 2.6, 2.6, 2.6, 2.6, 2.6, 2.6, 2.6, 2.6, 2.6, 2.6, 2.6, 2.6, 2.6, 4.1, 4.1, 4.1, 4.1, 4.1, 4.1, 4.1, 4.1, 4.1, 4.1, 4.1, 4.1, 3.6, 3.6, 3.6, 3.6, 3.6, 3.6, 4.1, 4.1, 4.1, 4.1, 4.1, 4.1, 4.1, 4.1, 4.1, 4.1, 4.1, 4.1, 3.1, 3.1, 3.1, 3.1, 3.1, 3.1, 3.1, 3.1, 3.1, 3.1, 3.1, 3.1, 3.1, 3.1, 3.1, 3.1, 3.1, 3.1, 3.1, 3.1, 3.1, 3.1, 5.1, 5.1, 5.1, 5.1, 5.1, 5.1, 5.1, 5.1, 5.1, 5.1, 5.1, 5.1, 5.1, 5.1, 5.1, 5.1, 5.1, 5.1, 4.1, 4.1, 4.1, 4.1, 4.1, 4.1, 2.1, 2.1, 2.1, 2.1, 2.1, 2.1, 2.1, 2.1, 2.1, 2.1, 2.1, 2.1, 2.1, 2.1, 2.1, 2.1, 2.1, 2.1, 2.1, 2.6, 2.6, 2.6, 2.6, 2.6, 2.6, 2.1, 2.1, 2.1, 2.1, 2.1, 2.1, 2.1, 2.1, 2.1, 2.1, 2.1, 4.1, 4.1, 4.1, 4.1, 4.1, 4.1, 4.1, 4.1, 4.1, 4.1, 4.1, 4.1, 3.1, 3.1, 3.1, 3.1, 3.1, 3.1, 3.1, 3.1, 3.1, 3.1, 3.1, 3.1, 3.1, 3.1, 3.1, 3.1, 3.1, 3.1, 3.1, 3.6, 3.6, 3.6, 3.6, 3.6, 3.6, 2.1, 2.1, 2.1, 2.1, 2.1, 2.1, 2.1, 2.1, 2.1, 2.1, 2.1, 2.1, 5.1, 5.1, 5.1, 5.1, 5.1, 5.1, 5.1, 5.1, 5.1, 5.1, 5.1, 5.1, 5.1, 5.1, 5.1, 4.1, 4.1, 4.1, 3.6, 3.6, 3.6, 3.6, 3.6, 3.6, 4.1, 4.1, 4.1, 1.5, 1.5, 1.5, 1.5, 1.5, 1.5, 3.1, 3.1, 3.1, 5.1, 5.1, 5.1, 5.1, 5.1, 5.1, 6.2, 6.2, 6.2, 4.1, 4.1, 4.1, 4.1, 4.1, 4.1, 4.1, 4.1, 4.1, 4.1, 4.1, 4.1, 4.1, 5.1, 5.1, 5.1, 4.1, 4.1, 4.1, 3.1, 3.1, 3.1, 3.1, 3.1, 3.1, 1.5, 1.5, 1.5, 4.6, 4.6, 4.6, 4.6, 4.6, 4.6, 6.2, 6.2, 6.2, 5.1, 5.1, 5.1, 5.1, 5.1, 7.7, 7.7, 7.7, 7.7, 7.7, 7.7, 7.7, 6.2, 6.2, 6.2, 6.2, 6.2, 6.2, 6.2, 6.2, 6.2, 6.2, 6.2, 3.6, 3.6, 3.6, 2.1, 2.1, 2.1, 2.1, 2.1, 2.1, 2.1, 4.1, 4.1, 4.1, 2.6, 2.6, 2.6, 2.6, 2.6, 2.6, 2.6, 1.5, 1.5, 1.5, 1.5, 1.5, 1.5, 1.5, 1.5, 1.5, 1.5, 1.5, 1.5, 2.6, 2.6, 2.6, 2.6, 2.6, 2.6, 2.6, 2.6, 2.6, 2.6, 2.6, 2.6, 2.6, 2.6, 2.6, 2.6, 2.6, 2.6, 2.1, 2.1, 2.1, 2.1, 2.1, 2.1, 2.1, 2.1, 2.1, 2.1, 2.1, 2.1, 1.5, 1.5, 1.5, 1.5, 1.5, 1.5, 1.0, 1.0, 1.0, 1.0, 1.0, 1.0, 1.0, 1.0, 1.0, 1.0, 1.0, 1.0, 1.0, 1.0, 1.0, 1.0, 1.0, 2.6, 2.6, 2.6, 2.6, 2.6, 2.6, 2.6, 2.6, 2.6, 2.6, 2.6, 2.6, 2.6, 1.5, 1.5, 1.5, 1.5, 1.5, 1.5, 1.5, 1.5, 1.5, 1.5, 1.5, 1.5, 1.0, 1.0, 1.0, 1.0, 1.0, 1.0, 2.1, 2.1, 2.1, 2.1, 2.1, 2.1, 2.1, 2.1, 2.1, 2.1, 2.1, 2.1, 2.1, 2.1, 2.1, 2.1, 2.1, 1.5, 1.5, 1.5, 1.5, 1.5, 1.5, 3.1, 3.1, 3.1, 3.1, 3.1, 3.1, 3.1, 3.1, 3.1, 3.1, 3.1, 3.1, 3.1, 1.5, 1.5, 1.5, 1.5, 1.5, 1.5, 1.5, 1.5, 1.5, 1.5, 1.5, 1.5, 1.5, 1.5, 1.5, 1.5, 1.5, 1.5, 3.1, 3.1, 3.1, 3.1, 3.1, 3.1, 2.1, 2.1, 2.1, 2.1, 2.1, 2.1, 2.1, 2.1, 2.1, 2.1, 2.1, 4.1, 4.1, 4.1, 4.1, 4.1, 4.1, 3.1, 3.1, 3.1, 3.1, 3.1, 3.1, 3.1, 3.1, 3.1, 3.1, 3.1, 3.1, 2.6, 2.6, 2.6, 2.6, 2.6, 2.6, 3.6, 3.6, 3.6, 3.6, 3.6, 3.6, 3.6, 3.6, 3.6, 3.6, 3.6, 3.6, 3.6, 2.6, 2.6, 2.6, 2.6, 2.6, 2.6, 2.6, 2.6, 2.6, 2.6, 2.6, 2.6, 2.6, 3.1, 3.1, 3.1, 3.1, 3.1, 3.1, 2.1, 2.1, 2.1, 2.1, 2.1, 2.1, 2.1, 2.1, 2.1, 2.1, 2.1, 2.1, 2.1, 2.1, 2.1, 2.1, 2.1, 2.1, 2.1, 2.1, 2.1, 2.6, 2.6, 2.6, 2.6, 2.6, 2.6, 1.0, 1.0, 1.0, 1.5, 1.5, 1.5, 2.1, 2.1, 2.1, 2.1, 2.1, 2.1, 3.1, 3.1, 3.1, 3.1, 3.1, 3.1, 3.1, 3.1, 3.6, 3.6, 3.6, 2.1, 2.1, 2.1, 2.1, 2.1, 2.1, 2.1, 1.0, 1.0, 1.0, 1.0, 1.0, 3.1, 3.1, 3.1, 2.1, 2.1, 2.1, 2.1, 2.1, 2.1, 3.1, 3.1, 3.1, 1.5, 1.5, 1.5, 1.5, 1.5, 1.5, 1.5, 1.5, 1.5, 2.1, 2.1, 2.1, 2.1, 2.1, 2.1, 2.6, 2.6, 2.6, 2.6, 2.6, 2.6, 4.1, 4.1, 4.1, 3.6, 3.6, 3.6, 3.6, 3.6, 3.6, 3.6, 3.6, 3.6, 3.6, 3.6, 3.6, 4.1, 4.1, 4.1, 4.1, 4.1, 4.1, 4.1, 4.1, 4.1, 4.1, 4.6, 4.6, 4.6, 2.6, 2.6, 2.6, 2.6, 4.1, 4.1, 4.1, 4.1, 4.1, 4.1, 4.1, 3.1, 3.1, 3.1, 4.1, 4.1, 4.1, 4.1, 4.1, 4.1, 3.1, 3.1, 3.1, 3.1, 3.1, 3.1, 3.6, 3.6, 3.6, 3.6, 3.6, 3.6, 3.6, 3.1, 3.1, 3.1, 3.1, 3.1, 3.1, 2.6, 2.6, 2.6, 2.6, 2.6, 2.6, 2.6, 2.6, 2.6, 2.6, 2.6, 2.6, 2.6, 2.6, 2.6, 2.6, 2.6, 2.6, 2.6, 2.6, 2.6, 2.1, 2.1, 2.1, 2.1, 2.1, 2.1, 2.1, 2.1, 2.1, 2.1, 3.6, 3.6, 3.6, 3.6, 3.6, 3.6, 4.1, 4.1, 4.1, 4.1, 4.1, 4.1, 4.1, 4.1, 3.6, 3.6, 3.6, 3.6, 3.6, 3.6, 3.6, 3.6, 3.6, 3.6, 3.6, 3.6, 4.1, 4.1, 4.1, 4.1, 3.6, 3.6, 3.6, 3.6, 3.6, 3.6, 3.6, 3.6, 4.1, 4.1, 4.1, 4.1, 4.1, 4.1, 4.1, 4.1, 4.1, 4.1, 4.1, 3.1, 3.1, 3.1, 3.1, 2.6, 2.6, 2.6, 2.6, 2.6, 2.6, 2.6, 2.6, 2.6, 2.6, 2.6, 2.6, 2.6, 2.6, 2.6, 5.1, 5.1, 5.1, 5.1, 1.5, 1.5, 1.5, 1.5, 1.5, 1.5, 1.5, 1.5, 1.5, 1.5, 1.5, 1.5, 1.5, 1.5, 4.1, 4.1, 4.1, 4.1, 4.1, 4.1, 4.1, 4.1, 4.1, 4.1, 2.1, 2.1, 2.1, 2.1, 2.1, 2.1, 3.1, 3.1, 3.1, 3.1, 3.1, 3.1, 3.1, 3.1, 3.1, 3.1, 3.1, 3.1, 3.1, 1.0, 1.0, 1.0, 1.0, 1.0, 1.0, 2.6, 2.6, 2.6, 2.6, 2.1, 2.1, 2.1, 2.1, 2.1, 2.1, 2.1, 2.1, 2.1, 2.1, 2.1, 2.1, 1.27, 1.27, 1.27, 1.27, 1.27, 1.27, 1.27, 1.27, 1.27, 1.27, 1.27, 1.27, 1.5, 1.5, 1.5, 1.5, 1.5, 1.5, 1.5, 1.5, 1.5, 1.5, 1.5, 1.5, 1.27, 1.27, 1.27, 1.27, 1.27, 1.27, 1.27, 1.27, 1.27, 1.27, 1.27, 1.27, 1.27, 1.27, 1.27, 2.53, 2.53, 2.53, 2.53, 2.53, 2.53, 2.53, 2.53, 2.53, 2.53, 2.53, 2.6, 2.6, 2.6, 2.6, 2.6, 2.6, 4.1, 4.1, 4.1, 3.1, 3.1, 3.1, 3.1, 3.1, 3.1, 3.1, 3.1, 3.1, 3.1, 3.1, 3.1, 3.1, 2.6, 2.6, 2.6, 2.6, 2.6, 2.6, 4.6, 4.6, 4.6, 4.6, 4.6, 6.7, 6.7, 6.7, 6.7, 6.7, 6.7, 6.7, 6.7, 6.7, 6.7, 3.1, 3.1, 3.1, 3.1, 3.1, 1.5, 1.5, 1.5, 1.5, 1.5, 1.5, 2.6, 2.6, 2.6, 4.6, 4.6, 4.6, 4.6, 4.6, 4.6, 4.6, 4.6, 4.6, 4.6, 5.7, 5.7, 5.7, 5.1, 5.1, 5.1, 5.1, 5.1, 5.1, 5.1, 5.1, 4.6, 4.6, 4.6, 4.1, 4.1, 4.1, 4.1, 4.1, 4.1, 4.1, 4.1, 4.1, 4.1, 4.1, 4.1, 2.6, 2.6, 2.6, 2.6, 2.6, 2.6, 2.6, 2.6, 2.6, 2.6, 2.6, 2.6, 2.6, 2.6, 2.6, 2.6, 2.6, 3.1, 3.1, 3.1, 3.1, 2.1, 2.1, 4.1, 4.1, 3.6, 3.6, 3.6, 3.6, 3.6, 3.6, 3.6, 4.1, 4.1, 4.1, 4.1, 4.1, 4.1, 4.1, 4.1, 4.1, 4.1, 3.1, 3.1, 3.1, 3.1, 3.1, 3.1, 3.1, 3.1, 3.1, 3.1, 3.1, 3.1, 3.1, 3.1, 3.1, 3.1, 3.1, 3.1, 3.1, 3.1, 4.1, 4.1, 4.1, 4.1, 4.1, 4.6, 4.6, 4.6, 4.6, 4.6, 4.6, 4.6, 4.6, 4.6, 4.6, 4.6, 4.6, 4.6, 4.6, 4.1, 4.1, 4.1, 4.1, 4.1, 4.1, 4.1, 4.1, 4.1, 4.1, 4.1, 4.1, 4.1, 4.1, 4.1, 4.1, 4.1, 4.1, 4.1, 4.1, 3.1, 3.1, 3.1, 3.1, 3.1, 4.1, 4.1, 4.1, 4.1, 4.1, 4.1, 4.1, 4.1, 4.1, 4.1, 3.1, 3.1, 3.1, 3.1, 3.1, 3.1, 3.1, 3.1, 3.1, 3.1, 3.6, 3.6, 3.6, 3.6, 3.6, 3.6, 3.6, 3.6, 3.6, 3.6, 3.1, 3.1, 3.1, 3.1, 3.1, 3.1, 3.1, 3.1, 3.1, 3.1, 2.6, 2.6, 2.6, 2.6, 2.6, 2.6, 2.6, 2.1, 2.1, 2.1, 3.6, 3.6, 4.1, 4.1, 4.1, 3.6, 3.6, 3.6, 3.6, 4.1, 3.6, 3.6, 3.6, 4.1, 4.1, 4.1, 3.1, 2.6, 2.6, 2.6, 2.6, 2.6, 5.1, 1.5, 1.5, 1.5, 1.5, 2.6, 2.6, 2.6, 2.6, 2.6, 2.6, 2.6, 2.6, 2.6, 2.6, 2.6, 2.6, 2.6, 2.6, 2.6, 2.6, 2.6, 3.1, 3.1, 3.1, 3.1, 3.1, 3.1, 3.1, 3.1, 3.1, 3.1, 3.1, 3.1, 3.1, 3.1, 3.1, 3.1, 2.1, 2.1, 2.1, 2.1, 2.1, 2.1, 2.1, 2.1, 2.1, 2.1, 2.1, 2.1, 2.1, 2.1, 2.1, 2.1, 2.1, 2.1, 2.1, 2.1, 2.1, 2.1, 2.1, 2.1, 2.1, 2.1, 2.1, 2.1, 2.1, 2.1, 2.1, 2.1, 2.1, 2.1, 2.1, 2.6, 2.6, 2.6, 2.6, 2.6, 2.6, 2.6, 2.6, 2.6, 2.6, 2.6, 2.6, 2.6, 2.6, 2.6, 2.6, 3.6, 3.6, 3.6, 3.6, 3.6, 3.6, 3.6, 3.6, 3.6, 3.6, 3.6, 3.6, 3.1, 3.1, 3.1, 3.1, 3.1, 3.1, 3.1, 3.1, 3.1, 4.6, 4.6, 4.6, 4.6, 4.6, 4.6, 4.6, 4.6, 4.6, 4.6, 4.6, 4.6, 4.6, 4.6, 4.6, 4.6, 4.6, 5.7, 5.7, 5.7, 5.7, 5.7, 5.7, 5.7, 5.7, 5.7, 5.7, 5.1, 5.1, 5.1, 5.1, 5.1, 3.6, 3.6, 3.6, 3.6, 3.6, 3.6, 3.6, 3.1, 3.1, 3.1, 3.1, 3.1, 3.1, 3.1, 3.1, 3.1, 3.1, 3.1, 3.1, 2.66, 2.66, 2.66, 2.66, 2.66, 2.66, 2.66, 2.66, 2.66, 2.66, 2.66, 2.66, 1.3, 1.3, 1.3, 1.3, 1.3, 1.3, 1.3, 1.3, 1.3, 1.3, 1.3, 1.3, 1.0, 1.0, 1.0, 1.0, 1.0, 1.0, 1.0, 1.0, 1.0, 1.0, 1.0, 1.0, 1.0, 1.0, 1.0, 1.0, 1.0, 1.0, 1.0, 1.0, 1.0, 2.1, 2.1, 2.1, 1.0, 1.0, 1.0, 1.0, 1.0, 1.0, 1.0, 1.0, 1.0, 1.0, 1.0, 1.0, 1.5, 1.5, 1.5, 1.5, 1.5, 1.5, 1.5, 1.5, 1.5, 1.5, 1.5, 1.5, 1.5, 1.5, 1.5, 1.5, 1.5, 1.5, 2.6, 2.6, 2.6, 2.6, 2.6, 2.6, 1.5, 1.5, 1.5, 1.5, '13', '14', '14', '14', '12', '7', '7', '7', '7', '7', '8', '9', '9', '19', '19', '19', '18', '18', '17', '19', '19', '19', '15', '14', '14', '14', '15', '15', '16', '16', '16', '17', '17', '21', '20', '20', '20', '20', '20', '19', '19', '19', '21', '23', '24', '24', '23', '22', '21', '21', '23', '25', '27', '28', '27']\n",
            "[47.0, 47.0, 47.0, 47.0, 64.0, 64.0, 64.0, 75.0, 75.0, 75.0, 75.0, 75.0, 81.0, 81.0, 81.0, 81.0, 81.0, 81.0, 38.0, 38.0, 35.0, 44.0, 29.0, 38.0, 41.0, 50.0, 47.0, 38.0, 38.0, 32.0, 32.0, 38.0, 56.0, 53.0, 47.0, 35.0, 60.0, 41.0, 44.0, 64.0, 63.0, 38.0, 35.0, 35.0, 29.0, 23.0, 32.0, 32.0, 29.0, 26.0, 32.0, 29.0, 29.0, 29.0, 26.0, 29.0, 29.0, 23.0, 23.0, 14.0, 17.0, 17.0, 38.0, 38.0, 41.0, 41.0, 38.0, 38.0, 38.0, 63.0, 44.0, 44.0, 41.0, 41.0, 56.0, 56.0, 32.0, 32.0, 32.0, 94.0, 94.0, 87.0, 97.0, 88.0, 93.0, 82.0, 81.0, 75.0, 76.0, 84.0, 78.0, 78.0, 73.0, 75.0, 66.0, 63.0, 66.0, 72.0, 72.0, 76.0, 81.0, 81.0, 81.0, 96.0, 94.0, 87.0, 97.0, 90.0, 90.0, 88.0, 76.0, 76.0, 81.0, 81.0, 79.0, 75.0, 73.0, 84.0, 79.0, 79.0, 75.0, 76.0, 69.0, 78.0, 73.0, 35.0, 26.0, 23.0, 26.0, 32.0, 53.0, 53.0, 32.0, 26.0, 26.0, 17.0, 14.0, 14.0, 14.0, 17.0, 20.0, 20.0, 17.0, 17.0, 17.0, 41.0, 41.0, 41.0, 44.0, 38.0, 38.0, 58.0, 58.0, 41.0, 44.0, 41.0, 47.0, 50.0, 50.0, 50.0, 50.0, 50.0, 50.0, 50.0, 50.0, 50.0, 50.0, 50.0, 50.0, 50.0, 50.0, 50.0, 50.0, 50.0, 50.0, 50.0, 50.0, 50.0, 50.0, 50.0, 50.0, 50.0, 50.0, 50.0, 50.0, 50.0, 50.0, 50.0, 50.0, 50.0, 50.0, 50.0, 50.0, 50.0, 50.0, 50.0, 50.0, 50.0, 50.0, 50.0, 50.0, 50.0, 50.0, 50.0, 35.0, 14.0, 50.0, 61.0, 66.0, 72.0, 69.0, 63.0, 64.0, 66.0, 58.0, 58.0, 60.0, 61.0, 60.0, 56.0, 44.0, 47.0, 50.0, 47.0, 38.0, 38.0, 32.0, 32.0, 26.0, 23.0, 26.0, 20.0, 17.0, 20.0, 20.0, 20.0, 20.0, 20.0, 23.0, 23.0, 20.0, 20.0, 20.0, 20.0, 20.0, 20.0, 20.0, 23.0, 23.0, 20.0, 23.0, 20.0, 17.0, 17.0, 17.0, 17.0, 17.0, 17.0, 17.0, 14.0, 14.0, 11.0, 11.0, 14.0, 14.0, 17.0, 17.0, 14.0, 14.0, 17.0, 17.0, 17.0, 17.0, 17.0, 17.0, 17.0, 17.0, 20.0, 17.0, 20.0, 20.0, 17.0, 17.0, 17.0, 17.0, 23.0, 14.0, 17.0, 17.0, 17.0, 20.0, 20.0, 23.0, 20.0, 20.0, 23.0, 26.0, 26.0, 26.0, 20.0, 20.0, 17.0, 96.0, 94.0, 63.0, 64.0, 67.0, 58.0, 58.0, 32.0, 35.0, 35.0, 35.0, 41.0, 41.0, 41.0, 41.0, 41.0, 44.0, 41.0, 41.0, 41.0, 38.0, 38.0, 41.0, 38.0, 38.0, 35.0, 72.0, 66.0, 32.0, 32.0, 32.0, 32.0, 32.0, 96.0, 96.0, 96.0, 96.0, 97.0, 100.0, 102.0, 102.0, 102.0, 105.0, 107.0, 105.0, 102.0, 107.0, 107.0, 105.0, 100.0, 107.0, 105.0, 105.0, 109.0, 109.0, 105.0, 102.0, 103.0, 103.0, 100.0, 99.0, 96.0, 102.0, 90.0, 94.0, 91.0, 91.0, 90.0, 91.0, 90.0, 90.0, 82.0, 84.0, 82.0, 82.0, 81.0, 76.0, 76.0, 72.0, 69.0, 70.0, 69.0, 69.0, 69.0, 69.0, 66.0, 66.0, 66.0, 60.0, 64.0, 76.0, 67.0, 64.0, 66.0, 67.0, 64.0, 63.0, 64.0, 67.0, 61.0, 63.0, 57.0, 61.0, 63.0, 63.0, 63.0, 58.0, 57.0, 61.0, 60.0, 63.0, 66.0, 67.0, 72.0, 75.0, 75.0, 78.0, 78.0, 84.0, 82.0, 85.0, 76.0, 82.0, 69.0, 64.0, 50.0, 41.0, 29.0, 35.0, 35.0, 29.0, 29.0, 26.0, 32.0, 29.0, 29.0, 35.0, 32.0, 32.0, 38.0, 41.0, 47.0, 47.0, 56.0, 56.0, 57.0, 58.0, 58.0, 61.0, 64.0, 61.0, 61.0, 61.0, 64.0, 63.0, 66.0, 64.0, 64.0, 67.0, 69.0, 72.0, 72.0, 73.0, 75.0, 75.0, 88.0, 87.0, 87.0, 88.0, 88.0, 91.0, 96.0, 94.0, 94.0, 90.0, 99.0, 91.0, 100.0, 99.0, 103.0, 102.0, 105.0, 100.0, 105.0, 47.0, 47.0, 47.0, 47.0, 47.0, 47.0, 45.0, 45.0, 45.0, 45.0, 45.0, 45.0, 45.0, 45.0, 45.0, 45.0, 45.0, 45.0, 45.0, 45.0, 45.0, 36.0, 36.0, 36.0, 36.0, 36.0, 36.0, 36.0, 36.0, 36.0, 36.0, 36.0, 36.0, 36.0, 36.0, 36.0, 36.0, 36.0, 36.0, 36.0, 36.0, 36.0, 36.0, 36.0, 36.0, 180.0, 180.0, 180.0, 180.0, 180.0, 180.0, 180.0, 180.0, 180.0, 180.0, 180.0, 180.0, 180.0, 180.0, 180.0, 180.0, 180.0, 180.0, 180.0, 180.0, 180.0, 180.0, 180.0, 180.0, 190.0, 190.0, 190.0, 190.0, 190.0, 190.0, 190.0, 190.0, 190.0, 190.0, 190.0, 190.0, 190.0, 190.0, 190.0, 190.0, 190.0, 190.0, 190.0, 190.0, 190.0, 190.0, 190.0, 190.0, 190.0, 92.0, 92.0, 92.0, 92.0, 92.0, 92.0, 92.0, 92.0, 92.0, 92.0, 92.0, 92.0, 92.0, 92.0, 92.0, 92.0, 92.0, 92.0, 92.0, 92.0, 92.0, 92.0, 92.0, 92.0, 45.0, 45.0, 45.0, 45.0, 45.0, 45.0, 45.0, 45.0, 45.0, 45.0, 45.0, 45.0, 45.0, 45.0, 45.0, 45.0, 45.0, 45.0, 45.0, 45.0, 45.0, 45.0, 45.0, 45.0, 45.0, 30.0, 30.0, 30.0, 30.0, 30.0, 30.0, 30.0, 30.0, 30.0, 30.0, 30.0, 30.0, 30.0, 30.0, 30.0, 30.0, 30.0, 30.0, 30.0, 30.0, 30.0, 30.0, 30.0, 23.0, 23.0, 23.0, 23.0, 23.0, 23.0, 23.0, 23.0, 23.0, 23.0, 23.0, 23.0, 23.0, 23.0, 23.0, 23.0, 23.0, 23.0, 23.0, 23.0, 23.0, 23.0, 23.0, 23.0, 24.0, 24.0, 24.0, 24.0, 24.0, 24.0, 24.0, 24.0, 24.0, 24.0, 24.0, 24.0, 24.0, 24.0, 24.0, 24.0, 24.0, 24.0, 24.0, 24.0, 24.0, 24.0, 24.0, 27.0, 27.0, 27.0, 27.0, 27.0, 27.0, 27.0, 27.0, 27.0, 27.0, 27.0, 27.0, 27.0, 27.0, 27.0, 27.0, 27.0, 27.0, 27.0, 27.0, 27.0, 27.0, 27.0, 27.0, 27.0, 27.0, 27.0, 27.0, 27.0, 27.0, 27.0, 27.0, 27.0, 27.0, 27.0, 27.0, 27.0, 27.0, 27.0, 27.0, 27.0, 27.0, 27.0, 27.0, 27.0, 27.0, 27.0, 27.0, 27.0, 29.0, 29.0, 29.0, 29.0, 29.0, 29.0, 29.0, 29.0, 29.0, 29.0, 29.0, 29.0, 29.0, 29.0, 29.0, 29.0, 29.0, 29.0, 29.0, 29.0, 29.0, 29.0, 29.0, 40.0, 40.0, 40.0, 40.0, 40.0, 40.0, 40.0, 40.0, 40.0, 40.0, 40.0, 40.0, 40.0, 40.0, 40.0, 40.0, 40.0, 40.0, 40.0, 40.0, 40.0, 40.0, 40.0, 40.0, 44.0, 44.0, 44.0, 44.0, 44.0, 44.0, 44.0, 44.0, 44.0, 44.0, 44.0, 44.0, 44.0, 44.0, 44.0, 44.0, 44.0, 44.0, 44.0, 44.0, 44.0, 44.0, 44.0, 44.0, 44.0, 35.0, 35.0, 35.0, 35.0, 35.0, 35.0, 35.0, 35.0, 35.0, 35.0, 35.0, 35.0, 35.0, 35.0, 35.0, 35.0, 35.0, 35.0, 35.0, 35.0, 35.0, 35.0, 35.0, 35.0, 103.0, 103.0, 103.0, 103.0, 103.0, 103.0, 103.0, 103.0, 103.0, 103.0, 103.0, 103.0, 103.0, 103.0, 103.0, 103.0, 103.0, 103.0, 103.0, 103.0, 103.0, 103.0, 103.0, 103.0, 94.0, 94.0, 94.0, 94.0, 94.0, 94.0, 94.0, 94.0, 94.0, 94.0, 94.0, 94.0, 94.0, 94.0, 94.0, 94.0, 94.0, 94.0, 94.0, 94.0, 94.0, 94.0, 94.0, 94.0, 66.0, 66.0, 66.0, 66.0, 66.0, 66.0, 66.0, 66.0, 66.0, 66.0, 66.0, 66.0, 66.0, 66.0, 66.0, 66.0, 66.0, 66.0, 66.0, 66.0, 66.0, 66.0, 66.0, 66.0, 51.0, 51.0, 51.0, 51.0, 51.0, 51.0, 51.0, 51.0, 51.0, 51.0, 51.0, 51.0, 51.0, 51.0, 51.0, 51.0, 51.0, 51.0, 51.0, 51.0, 51.0, 51.0, 51.0, 51.0, 51.0, 39.0, 39.0, 39.0, 39.0, 39.0, 39.0, 39.0, 39.0, 39.0, 39.0, 39.0, 39.0, 39.0, 39.0, 39.0, 39.0, 39.0, 39.0, 39.0, 39.0, 39.0, 39.0, 39.0, 39.0, 39.0, 39.0, 39.0, 39.0, 39.0, 39.0, 39.0, 39.0, 39.0, 39.0, 39.0, 39.0, 39.0, 39.0, 39.0, 39.0, 39.0, 39.0, 39.0, 39.0, 39.0, 39.0, 39.0, 44.0, 44.0, 44.0, 44.0, 44.0, 44.0, 44.0, 44.0, 44.0, 44.0, 44.0, 44.0, 44.0, 44.0, 44.0, 44.0, 44.0, 44.0, 44.0, 44.0, 44.0, 44.0, 44.0, 44.0, 44.0, 44.0, 44.0, 44.0, 44.0, 44.0, 44.0, 44.0, 44.0, 44.0, 44.0, 44.0, 44.0, 44.0, 44.0, 44.0, 44.0, 44.0, 44.0, 44.0, 44.0, 44.0, 44.0, 44.0, 44.0, 46.0, 46.0, 46.0, 46.0, 46.0, 46.0, 46.0, 46.0, 46.0, 46.0, 46.0, 46.0, 46.0, 46.0, 46.0, 46.0, 46.0, 46.0, 46.0, 46.0, 46.0, 46.0, 55.0, 55.0, 55.0, 55.0, 55.0, 55.0, 55.0, 55.0, 55.0, 55.0, 55.0, 55.0, 55.0, 55.0, 55.0, 55.0, 55.0, 55.0, 55.0, 55.0, 55.0, 55.0, 55.0, 55.0, 62.0, 62.0, 62.0, 62.0, 62.0, 62.0, 62.0, 62.0, 62.0, 62.0, 62.0, 62.0, 62.0, 62.0, 62.0, 62.0, 62.0, 62.0, 62.0, 62.0, 62.0, 62.0, 62.0, 62.0, 62.0, 41.0, 41.0, 41.0, 41.0, 41.0, 41.0, 41.0, 41.0, 41.0, 41.0, 41.0, 41.0, 41.0, 41.0, 41.0, 41.0, 41.0, 41.0, 41.0, 41.0, 41.0, 41.0, 41.0, 39.0, 39.0, 39.0, 39.0, 39.0, 39.0, 39.0, 39.0, 39.0, 39.0, 39.0, 39.0, 39.0, 39.0, 39.0, 39.0, 39.0, 39.0, 39.0, 39.0, 39.0, 39.0, 39.0, 39.0, 39.0, 146.0, 146.0, 146.0, 146.0, 146.0, 146.0, 146.0, 146.0, 146.0, 146.0, 146.0, 146.0, 45.0, 45.0, 45.0, 45.0, 45.0, 45.0, 45.0, 45.0, 45.0, 45.0, 45.0, 45.0, 45.0, 45.0, 45.0, 31.0, 31.0, 31.0, 31.0, 31.0, 31.0, 31.0, 31.0, 31.0, 44.0, 44.0, 44.0, 44.0, 44.0, 44.0, 44.0, 44.0, 44.0, 40.0, 40.0, 40.0, 40.0, 40.0, 40.0, 40.0, 40.0, 40.0, 44.0, 44.0, 44.0, 44.0, 44.0, 44.0, 44.0, 44.0, 44.0, 44.0, 41.0, 41.0, 41.0, 41.0, 41.0, 41.0, 41.0, 41.0, 41.0, 48.0, 48.0, 48.0, 48.0, 48.0, 48.0, 48.0, 48.0, 48.0, 46.0, 46.0, 46.0, 46.0, 46.0, 46.0, 46.0, 46.0, 46.0, 56.0, 56.0, 56.0, 56.0, 56.0, 56.0, 56.0, 56.0, 27.0, 27.0, 27.0, 27.0, 27.0, 27.0, 27.0, 27.0, 27.0, 27.0, 46.0, 46.0, 46.0, 46.0, 46.0, 46.0, 46.0, 46.0, 57.0, 57.0, 57.0, 57.0, 57.0, 57.0, 57.0, 57.0, 57.0, 57.0, 51.0, 51.0, 51.0, 48.0, 48.0, 48.0, 48.0, 48.0, 48.0, 48.0, 48.0, 48.0, 48.0, 48.0, 48.0, 48.0, 41.0, 41.0, 41.0, 41.0, 41.0, 41.0, 41.0, 41.0, 41.0, 41.0, 41.0, 41.0, 41.0, 41.0, 41.0, 41.0, 41.0, 41.0, 56.0, 56.0, 56.0, 56.0, 56.0, 56.0, 56.0, 56.0, 56.0, 56.0, 56.0, 56.0, 56.0, 56.0, 56.0, 56.0, 56.0, 56.0, 46.0, 46.0, 46.0, 46.0, 46.0, 46.0, 46.0, 46.0, 46.0, 46.0, 46.0, 46.0, 46.0, 46.0, 46.0, 46.0, 46.0, 38.0, 38.0, 38.0, 38.0, 38.0, 38.0, 38.0, 38.0, 38.0, 38.0, 38.0, 38.0, 38.0, 38.0, 38.0, 38.0, 38.0, 38.0, 38.0, 56.0, 56.0, 56.0, 56.0, 56.0, 56.0, 56.0, 56.0, 56.0, 56.0, 56.0, 56.0, 56.0, 56.0, 56.0, 56.0, 56.0, 56.0, 44.0, 44.0, 44.0, 44.0, 44.0, 44.0, 44.0, 44.0, 44.0, 44.0, 44.0, 44.0, 44.0, 44.0, 44.0, 44.0, 44.0, 50.0, 50.0, 50.0, 50.0, 50.0, 50.0, 50.0, 50.0, 50.0, 50.0, 50.0, 50.0, 50.0, 50.0, 50.0, 50.0, 50.0, 50.0, 50.0, 53.0, 53.0, 53.0, 53.0, 53.0, 53.0, 53.0, 53.0, 53.0, 53.0, 53.0, 53.0, 53.0, 53.0, 53.0, 53.0, 53.0, 53.0, 66.0, 66.0, 66.0, 66.0, 66.0, 66.0, 66.0, 66.0, 66.0, 66.0, 66.0, 66.0, 66.0, 66.0, 66.0, 66.0, 66.0, 63.0, 63.0, 63.0, 63.0, 63.0, 63.0, 63.0, 63.0, 63.0, 63.0, 63.0, 63.0, 63.0, 63.0, 63.0, 63.0, 63.0, 63.0, 57.0, 57.0, 57.0, 57.0, 57.0, 57.0, 57.0, 57.0, 57.0, 57.0, 57.0, 57.0, 57.0, 57.0, 57.0, 57.0, 57.0, 57.0, 57.0, 63.0, 63.0, 63.0, 63.0, 63.0, 63.0, 63.0, 63.0, 63.0, 63.0, 63.0, 63.0, 63.0, 63.0, 63.0, 63.0, 63.0, 63.0, 63.0, 62.0, 62.0, 62.0, 62.0, 62.0, 62.0, 55.0, 55.0, 55.0, 55.0, 55.0, 55.0, 48.0, 48.0, 48.0, 48.0, 48.0, 48.0, 48.0, 48.0, 48.0, 78.0, 78.0, 78.0, 78.0, 78.0, 78.0, 78.0, 78.0, 78.0, 46.0, 46.0, 46.0, 46.0, 46.0, 46.0, 46.0, 46.0, 46.0, 50.0, 50.0, 50.0, 50.0, 50.0, 50.0, 50.0, 50.0, 57.0, 57.0, 57.0, 57.0, 57.0, 57.0, 57.0, 57.0, 57.0, 57.0, 75.0, 75.0, 75.0, 75.0, 75.0, 75.0, 75.0, 75.0, 89.0, 89.0, 89.0, 89.0, 89.0, 89.0, 89.0, 89.0, 89.0, 75.0, 75.0, 75.0, 75.0, 75.0, 75.0, 75.0, 75.0, 75.0, 74.0, 74.0, 74.0, 74.0, 74.0, 74.0, 74.0, 74.0, 74.0, 74.0, 74.0, 74.0, 74.0, 74.0, 74.0, 74.0, 74.0, 74.0, 73.0, 73.0, 73.0, 73.0, 73.0, 73.0, 73.0, 73.0, 73.0, 74.0, 74.0, 74.0, 74.0, 74.0, 74.0, 74.0, 74.0, 74.0, 74.0, 66.0, 66.0, 66.0, 45.0, 45.0, 45.0, 45.0, 28.14, 29.15, 29.15, 29.15, 29.15, 29.15, 29.15, 29.15, 29.15, 29.15, 33.56, 33.56, 33.56, 34.16, 34.16, 34.16, 34.16, 34.16, 34.16, 34.16, 34.16, 34.16, 32.97, 32.97, 32.97, 32.97, 32.81, 32.81, 32.81, 32.81, 32.81, 32.81, 32.81, 32.81, 32.81, 31.85, 31.85, 31.85, 31.85, 31.68, 31.68, 31.68, 31.68, 31.68, 31.68, 31.68, 31.68, 31.68, 41.92, 41.92, 41.92, 43.27, 43.27, 43.27, 43.27, 43.27, 43.27, 43.27, 43.27, 43.27, 42.42, 42.42, 42.42, 42.31, 42.31, 42.31, 42.31, 42.31, 42.31, 42.31, 42.31, 42.31, 41.71, 41.71, 41.71, 41.63, 41.63, 41.63, 41.63, 41.63, 41.63, 41.63, 41.63, 41.63, 30.12, 30.12, 30.12, 28.6, 28.6, 28.6, 28.6, 28.6, 28.6, 28.6, 28.6, 28.6, 30.8, 30.8, 30.8, 31.09, 31.09, 31.09, 31.09, 31.09, 31.09, 31.09, 31.09, 31.09, 35.23, 35.23, 35.77, 35.77, 35.77, 35.77, 35.77, 35.77, 35.77, 35.77, 35.77, 39.85, 39.85, 39.85, 39.85, 40.39, 40.39, 40.39, 40.39, 40.39, 40.39, 40.39, 40.39, 40.39, 26.14, 26.14, 24.27, 24.27, 24.27, 24.27, 24.27, 24.27, 24.27, 24.27, 24.27, 24.27, 24.18, 24.18, 24.18, 24.17, 24.17, 24.17, 24.17, 24.17, 24.17, 24.17, 24.17, 24.17, 26.78, 26.78, 26.78, 27.12, 27.12, 27.12, 27.12, 27.12, 27.12, 27.12, 27.12, 27.12, 28.77, 28.77, 28.77, 28.99, 28.99, 28.99, 28.99, 28.99, 28.99, 28.99, 28.99, 28.99, 34.04, 34.7, 34.7, 34.7, 34.7, 34.7, 34.7, 34.7, 34.7, 34.7, 34.7, 62.52, 62.52, 62.52, 63.28, 63.28, 63.28, 63.28, 63.28, 63.28, 63.28, 63.28, 63.28, 66.78, 66.78, 66.78, 67.24, 67.24, 67.24, 67.24, 67.24, 67.24, 67.24, 67.24, 67.24, 79.49, 79.49, 79.49, 81.1, 81.1, 81.1, 81.1, 81.1, 81.1, 81.1, 81.1, 81.1, 81.19, 81.19, 81.2, 81.2, 81.2, 81.2, 81.2, 81.2, 81.2, 81.2, 81.2, 85.16, 85.16, 85.16, 85.16, 85.7, 85.7, 85.7, 85.7, 85.7, 85.7, 85.7, 85.7, 85.7, 57.39, 57.39, 53.67, 53.67, 53.67, 53.67, 53.67, 53.67, 53.67, 53.67, 53.67, 37.74, 37.74, 37.74, 37.74, 37.74, 35.67, 35.67, 35.67, 35.67, 35.67, 35.67, 35.67, 35.67, 33.77, 33.77, 33.77, 33.52, 33.52, 33.52, 33.52, 33.52, 33.52, 33.52, 33.52, 46.84, 46.84, 46.84, 46.84, 48.59, 48.59, 48.59, 48.59, 48.59, 48.59, 48.59, 48.59, 43.01, 43.01, 43.01, 42.29, 42.29, 42.29, 42.29, 42.29, 42.29, 42.29, 42.29, 42.29, 53.16, 53.16, 53.16, 53.16, 54.78, 54.78, 54.78, 54.78, 54.78, 54.78, 54.78, 54.78, 54.78, 37.26, 37.26, 34.95, 34.95, 34.95, 34.95, 34.95, 34.95, 34.95, 34.95, 34.95, 34.71, 34.71, 34.71, 34.68, 34.68, 34.68, 34.68, 34.68, 34.68, 34.68, 34.68, 34.68, 65.12, 65.12, 65.12, 66.88, 66.88, 66.88, 66.88, 66.88, 66.88, 66.88, 66.88, 66.88, 46.68, 46.68, 44.02, 44.02, 44.02, 44.02, 44.02, 44.02, 44.02, 44.67, 51.44, 48.3, 48.3, 46.0, 46.0, 45.1, 45.1, 45.1, 45.1, 45.1, 44.8, 44.8, 44.8, 44.8, 44.8, 45.2, 45.2, 45.2, 45.2, 45.2, 44.3, 44.3, 44.3, 44.3, 44.3, 42.8, 42.8, 42.8, 42.8, 42.8, 42.8, 42.7, 42.7, 42.7, 42.7, 42.7, 42.5, 42.5, 42.5, 42.5, 42.2, 42.2, 42.2, 42.2, 42.2, 42.5, 42.5, 42.5, 42.5, 41.6, 41.6, 41.6, 41.6, 41.6, 41.3, 41.3, 41.3, 41.3, 41.3, 41.7, 41.7, 41.7, 41.7, 41.7, 42.0, 42.0, 42.0, 42.0, 42.0, 43.0, 43.0, 43.0, 43.0, 43.0, 43.3, 43.3, 43.3, 43.3, 43.3, 43.2, 43.2, 43.2, 43.2, 43.2, 43.5, 43.5, 43.5, 43.5, 43.5, 43.8, 43.8, 43.8, 43.8, 43.8, 44.0, 44.0, 44.0, 44.0, 44.0, 44.8, 44.8, 44.8, 44.8, 44.8, 45.2, 45.2, 45.2, 45.2, 45.2, 45.2, 45.2, 45.2, 45.2, 45.2, 45.0, 45.0, 45.0, 45.0, 45.0, 45.0, 45.0, 45.0, 45.0, 45.0, 55.5, 55.5, 55.6, 57.5, 62.7, 65.4, 64.8, 61.6, 59.0, 56.4, 54.1, 52.0, 51.2, 50.0, 49.3, 48.0, 45.9, 45.5, 46.6, 46.6, 46.8, 45.6, 45.7, 44.6, 50.2, 50.8, 55.7, 58.4, 58.6, 58.7, 63.1, 65.9, 67.2, 66.9, 66.9, 66.9, 66.9, 65.12, 65.12, 66.88, 66.88, 66.88, 66.88, 66.88, 66.88, 66.88, 66.88, 66.88, 66.88, 46.68, 46.68, 44.02, 44.02, 44.02, 44.02, 44.02, 44.02, 44.02, 44.02, 44.02, 44.02, 37.53, 37.53, 36.69, 36.69, 36.69, 36.69, 36.69, 36.69, 36.69, 36.69, 36.69, 36.69, 43.74, 43.74, 44.67, 44.67, 44.67, 44.67, 44.67, 44.67, 44.67, 44.67, 44.67, 44.67, 51.44, 51.44, 52.33, 52.33, 52.33, 52.33, 52.33, 52.33, 52.33, 52.33, 52.33, 52.33, 53.32, 53.32, 53.32, 53.45, 53.45, 53.45, 53.45, 53.45, 53.45, 53.45, 53.45, 53.45, 51.19, 51.19, 50.9, 50.9, 50.9, 50.9, 50.9, 50.9, 50.9, 50.9, 50.9, 50.9, 46.27, 46.27, 45.67, 45.67, 45.67, 45.67, 45.67, 45.67, 45.67, 45.67, 45.67, 45.67, 55.55, 55.55, 56.85, 56.85, 56.85, 56.85, 56.85, 56.85, 56.85, 56.85, 56.85, 56.85, 42.7, 42.7, 40.84, 40.84, 40.84, 40.84, 40.84, 40.84, 40.84, 40.84, 40.84, 40.84, 36.18, 36.18, 35.58, 35.58, 35.58, 35.58, 35.58, 35.58, 35.58, 35.58, 35.58, 35.58, 28.47, 28.47, 28.47, 27.44, 27.44, 27.44, 27.44, 27.44, 27.44, 27.44, 27.44, 27.44, 31.41, 31.41, 31.41, 31.93, 31.93, 31.93, 31.93, 31.93, 31.93, 31.93, 31.93, 31.93, 63.77, 63.77, 63.77, 65.55, 65.55, 65.55, 65.55, 65.55, 65.55, 65.55, 65.55, 65.55, 61.42, 61.42, 61.42, 60.88, 60.88, 60.88, 60.88, 60.88, 60.88, 60.88, 60.88, 60.88, 63.12, 63.12, 63.12, 63.41, 63.41, 63.41, 63.41, 63.41, 63.41, 63.41, 63.41, 63.41, 55.83, 55.83, 55.83, 54.84, 54.84, 54.84, 54.84, 54.84, 54.84, 54.84, 54.84, 54.84, 52.53, 52.53, 52.53, 52.23, 52.23, 52.23, 52.23, 52.23, 52.23, 52.23, 52.23, 52.23, 47.98, 47.98, 47.98, 47.43, 47.43, 47.43, 47.43, 47.43, 47.43, 47.43, 47.43, 47.43, 37.64, 37.64, 37.64, 36.64, 36.64, 36.64, 36.64, 36.64, 36.64, 36.64, 36.64, 36.64, 44.58, 44.58, 45.62, 45.62, '42', '75', '51', '52', '45', '47', '47', '55', '61', '61', '60', '61', '61', '74', '74', '66', '68', '63', '46', '45', '45', '47', '48', '46', '46', '46', '50', '50', '49', '46', '46', '44', '44', '62', '106', '106', '106', '111', '111', '54', '52', '52', '55', '52', '48', '22', '26', '32', '32', '32', '27', '26', '29', '30', '28']\n"
          ],
          "name": "stdout"
        }
      ]
    },
    {
      "cell_type": "markdown",
      "metadata": {
        "id": "28cblVcMm65k",
        "colab_type": "text"
      },
      "source": [
        ""
      ]
    },
    {
      "cell_type": "code",
      "metadata": {
        "id": "faplE3CrmAB3",
        "colab_type": "code",
        "colab": {}
      },
      "source": [
        "prev=[]\n",
        "for i in range(1,len(pm)):\n",
        "  prev[i]=pm[i-1]\n",
        "  "
      ],
      "execution_count": 0,
      "outputs": []
    },
    {
      "cell_type": "code",
      "metadata": {
        "id": "oboQZqnmAATV",
        "colab_type": "code",
        "colab": {}
      },
      "source": [
        "final_shape=len(hours)\n",
        "\n",
        "#FEATURES \n",
        "\n",
        "trans= np.reshape(trans,(final_shape,1))\n",
        "hours = np.reshape(hours,(final_shape,1))\n",
        "cont = np.reshape(cont,(final_shape,1))\n",
        "ent = np.reshape(ent,(final_shape,1))\n",
        "hum = np.reshape(hum,(final_shape,1))\n",
        "pressure = np.reshape(pressure,(final_shape,1))\n",
        "tempr = np.reshape(tempr,(final_shape,1))\n",
        "deg = np.reshape(deg,(final_shape,1))\n",
        "speed = np.reshape(speed,(final_shape,1))\n",
        "\n",
        "\n",
        "# final_shape_s=len(hour_s)\n",
        "\n",
        "# trans_s= np.reshape(trans_s,(final_shape_s,1))\n",
        "# hour_s = np.reshape(hour_s,(final_shape_s,1))\n",
        "# cont_s = np.reshape(cont_s,(final_shape_s,1))\n",
        "# ent_s = np.reshape(ent_s,(final_shape_s,1))\n",
        "# hum_s = np.reshape(hum_s,(final_shape_s,1))\n",
        "# pressure_s = np.reshape(pressure_s,(final_shape_s,1))\n",
        "# tempr_s = np.reshape(tempr_s,(final_shape_s,1))\n",
        "# deg_s = np.reshape(deg_s,(final_shape_s,1))\n",
        "# speed_s = np.reshape(speed_s,(final_shape_s,1))\n",
        "\n",
        "#LABEL\n",
        "\n",
        "pm = np.reshape(pm,(final_shape,1))\n",
        "\n",
        "# pm_s = np.reshape(pm_s,(final_shape_s,1))\n",
        "\n",
        "\n",
        "#scaling \n",
        "\n",
        "# scaler = MinMaxScaler()\n",
        "\n",
        "# hours = scaler.fit_transform(hours)\n",
        "# cont = scaler.fit_transform(cont)\n",
        "# ent = scaler.fit_transform(ent)\n",
        "# hum = scaler.fit_transform(hum)\n",
        "# pressure = scaler.fit_transform(pressure)\n",
        "# tempr = scaler.fit_transform(tempr)\n",
        "# speed = scaler.fit_transform(speed)\n",
        "# hour_s = scaler.fit_transform(hour_s)\n",
        "# cont_s = scaler.fit_transform(cont_s)\n",
        "# ent_s = scaler.fit_transform(ent_s)\n",
        "# hum_s = scaler.fit_transform(hum_s)\n",
        "# deg_s = scaler.fit_transform(deg_s)\n",
        "# pressure_s = scaler.fit_transform(pressure_s)\n",
        "# tempr_s = scaler.fit_transform(tempr_s)\n",
        "# speed_s = scaler.fit_transform(speed_s)\n",
        "\n",
        "##SCALING \n",
        "\n",
        "s1 = MinMaxScaler()\n",
        "hours = s1.fit_transform(hours)\n",
        "s2 = MinMaxScaler()\n",
        "cont = s2.fit_transform(cont)\n",
        "s3 = MinMaxScaler()\n",
        "ent = s3.fit_transform(ent)\n",
        "s4 = MinMaxScaler()\n",
        "hum = s4.fit_transform(hum)\n",
        "s5 = MinMaxScaler()\n",
        "pressure = s5.fit_transform(pressure)\n",
        "s6 = MinMaxScaler()\n",
        "tempr = s6.fit_transform(tempr)\n",
        "s7 = MinMaxScaler()\n",
        "deg = s7.fit_transform(deg)\n",
        "s8 = MinMaxScaler()\n",
        "speed = s8.fit_transform(speed)\n",
        "\n",
        "\n",
        "\n",
        "# s1_s = MinMaxScaler()\n",
        "# hour_s = s1_s.fit_transform(hour_s)\n",
        "\n",
        "# s2_s = MinMaxScaler()\n",
        "# cont_s = s2_s.fit_transform(cont_s)\n",
        "\n",
        "# s3_s = MinMaxScaler()\n",
        "# ent_s = s3_s.fit_transform(ent_s)\n",
        "\n",
        "# s4_s = MinMaxScaler()\n",
        "# hum_s = s4_s.fit_transform(hum_s)\n",
        "\n",
        "# s5_s = MinMaxScaler()\n",
        "# pressure_s= s5_s.fit_transform(pressure_s)\n",
        "\n",
        "# s6_s = MinMaxScaler()\n",
        "# tempr_s = s6_s.fit_transform(tempr_s)\n",
        "\n",
        "# s7_s = MinMaxScaler()\n",
        "# deg_s = s7_s.fit_transform(deg_s)\n",
        "\n",
        "# s8_s = MinMaxScaler()\n",
        "# speed_s = s8_s.fit_transform(speed_s)\n",
        "\n",
        "#SAVING SCALERS \n",
        "\n",
        "with open('/content/S1.bin','wb') as file:\n",
        "  pickle.dump(s1,file)\n",
        "with open('/content/S2.bin','wb') as file:\n",
        "  pickle.dump(s2,file)\n",
        "with open('/content/S3.bin','wb') as file:\n",
        "  pickle.dump(s3,file)\n",
        "with open('/content/S4.bin','wb') as file:\n",
        "  pickle.dump(s4,file)\n",
        "with open('/content/S5.bin','wb') as file:\n",
        "  pickle.dump(s5,file)\n",
        "with open('/content/S6.bin','wb') as file:\n",
        "  pickle.dump(s6,file)\n",
        "with open('/content/S7.bin','wb') as file:\n",
        "  pickle.dump(s7,file)\n",
        "with open('/content/S8.bin','wb') as file:\n",
        "  pickle.dump(s8,file)\n",
        "  \n",
        "# with open('/content/S1_s.bin','wb') as file:\n",
        "#   pickle.dump(s1_s,file)\n",
        "# with open('/content/S2_s.bin','wb') as file:\n",
        "#   pickle.dump(s2_s,file)\n",
        "# with open('/content/S3_s.bin','wb') as file:\n",
        "#   pickle.dump(s3_s,file)\n",
        "# with open('/content/S4_s.bin','wb') as file:\n",
        "#   pickle.dump(s4_s,file)\n",
        "# with open('/content/S5_s.bin','wb') as file:\n",
        "#   pickle.dump(s5_s,file)\n",
        "# with open('/content/S6_s.bin','wb') as file:\n",
        "#   pickle.dump(s6_s,file)\n",
        "# with open('/content/S7_s.bin','wb') as file:\n",
        "#   pickle.dump(s7_s,file)\n",
        "# with open('/content/S8_s.bin','wb') as file:\n",
        "#   pickle.dump(s8_s,file)\n",
        "\n",
        "\n",
        "# joblib.dump(s1,'S1.pkl')\n",
        "# joblib.dump(s2,'S2.pkl')\n",
        "# joblib.dump(s3,'S3.pkl')\n",
        "# joblib.dump(s4,'S4.pkl')\n",
        "# joblib.dump(s5,'S5.pkl')\n",
        "# joblib.dump(s6,'S6.pkl')\n",
        "# joblib.dump(s7,'S7.pkl')\n",
        "# joblib.dump(s8,'S8.pkl')\n",
        "# joblib.dump(s9,'S9.pkl')\n",
        "# joblib.dump(s10,'S10.pkl')\n",
        "# joblib.dump(s11,'S11.pkl')\n",
        "\n",
        "#features = np.hstack((hours, cont, ent, hum, temp, vis, deg, speed,cc, desc,pressure,trans))\n",
        "\n",
        "\n",
        "# trans=list(map(float,trans))\n",
        "\n",
        "# trans_s=list(map(float,trans_s))\n",
        "\n",
        "#With ITO (2752)\n",
        "\n",
        "features = np.hstack((hours, cont, ent , hum, tempr, deg, speed, pressure,trans))\n",
        "\n",
        "#With Shanghai \n",
        "#shan_stack = np.hstack((hour_s, cont_s,ent_s, hum_s, tempr_s, deg_s, speed_s, pressure_s,trans_s))\n"
      ],
      "execution_count": 0,
      "outputs": []
    },
    {
      "cell_type": "code",
      "metadata": {
        "id": "l1RJhFwhI3lr",
        "colab_type": "code",
        "outputId": "ea0371d1-6395-46a7-b309-84166a00140c",
        "colab": {
          "base_uri": "https://localhost:8080/",
          "height": 171
        }
      },
      "source": [
        "# print(type(trans_s))\n",
        "# print(type(hour_s))\n",
        "# print(type(cont_s))\n",
        "# print(type(ent_s))\n",
        "# print(type(hum_s))\n",
        "# print(type(pressure_s))\n",
        "# print(type(tempr_s))\n",
        "# print(type(deg_s))\n",
        "# print(type(speed_s))\n"
      ],
      "execution_count": 0,
      "outputs": [
        {
          "output_type": "stream",
          "text": [
            "<class 'list'>\n",
            "<class 'numpy.ndarray'>\n",
            "<class 'numpy.ndarray'>\n",
            "<class 'numpy.ndarray'>\n",
            "<class 'numpy.ndarray'>\n",
            "<class 'numpy.ndarray'>\n",
            "<class 'numpy.ndarray'>\n",
            "<class 'numpy.ndarray'>\n",
            "<class 'numpy.ndarray'>\n"
          ],
          "name": "stdout"
        }
      ]
    },
    {
      "cell_type": "code",
      "metadata": {
        "id": "ZI2xIWJPJBzp",
        "colab_type": "code",
        "outputId": "f173fe58-7285-4553-c692-5cc73e4bd563",
        "colab": {
          "base_uri": "https://localhost:8080/",
          "height": 171
        }
      },
      "source": [
        "print(type(trans))\n",
        "print(type(hours))\n",
        "print(type(cont))\n",
        "print(type(ent))\n",
        "print(type(hum))\n",
        "print(type(pressure))\n",
        "print(type(tempr))\n",
        "print(type(deg))\n",
        "print(type(speed))"
      ],
      "execution_count": 0,
      "outputs": [
        {
          "output_type": "stream",
          "text": [
            "<class 'numpy.ndarray'>\n",
            "<class 'numpy.ndarray'>\n",
            "<class 'numpy.ndarray'>\n",
            "<class 'numpy.ndarray'>\n",
            "<class 'numpy.ndarray'>\n",
            "<class 'numpy.ndarray'>\n",
            "<class 'numpy.ndarray'>\n",
            "<class 'numpy.ndarray'>\n",
            "<class 'numpy.ndarray'>\n"
          ],
          "name": "stdout"
        }
      ]
    },
    {
      "cell_type": "markdown",
      "metadata": {
        "id": "MyWwvUgFtgDx",
        "colab_type": "text"
      },
      "source": [
        "FOR INCLUDING SHANGHAI DATA RUN THIS "
      ]
    },
    {
      "cell_type": "code",
      "metadata": {
        "id": "BeC75a6KC0xz",
        "colab_type": "code",
        "colab": {}
      },
      "source": [
        "# print(np.shape(features))\n",
        "# print(np.shape(shan_stack))"
      ],
      "execution_count": 0,
      "outputs": []
    },
    {
      "cell_type": "code",
      "metadata": {
        "id": "Rrl4Q94eKfpH",
        "colab_type": "code",
        "colab": {}
      },
      "source": [
        "\n",
        "# final_features = np.vstack((features, shan_stack))"
      ],
      "execution_count": 0,
      "outputs": []
    },
    {
      "cell_type": "code",
      "metadata": {
        "colab_type": "code",
        "id": "KcVHZ_4wHlfK",
        "colab": {}
      },
      "source": [
        "pm_final=[]\n",
        "for i in range(0,len(pm)):\n",
        "    pm_final.append(float(pm[i]))\n",
        "for i in range(0,len(pm_s)):\n",
        "   pm_final.append(float(pm_s[i]))"
      ],
      "execution_count": 0,
      "outputs": []
    },
    {
      "cell_type": "code",
      "metadata": {
        "id": "ZQBjx8fZugBe",
        "colab_type": "code",
        "colab": {}
      },
      "source": [
        "# import pickle\n",
        "# with open('/content/feat_Shanghai_ITO_withtrans.bin','wb') as file:\n",
        "#   pickle.dump(final_features,file)\n",
        "# with open('/content/Labels_Shanghai_ITO_withtras.bin','wb') as file:\n",
        "#   pickle.dump(pm_final,file)"
      ],
      "execution_count": 0,
      "outputs": []
    },
    {
      "cell_type": "code",
      "metadata": {
        "id": "mUAhqwnRQMg8",
        "colab_type": "code",
        "colab": {}
      },
      "source": [
        "features = list(map(np.float32,features))\n",
        "pm = list(map(np.float32,pm))"
      ],
      "execution_count": 0,
      "outputs": []
    },
    {
      "cell_type": "code",
      "metadata": {
        "id": "hFmu5z1pum9K",
        "colab_type": "code",
        "colab": {}
      },
      "source": [
        "with open('/content/featuresFinal_withDiffLocations.bin','wb') as file:\n",
        "  pickle.dump(features,file)\n",
        "with open('/content/labelsFinal_withDiffLocations.bin','wb') as file:\n",
        "  pickle.dump(pm,file)"
      ],
      "execution_count": 0,
      "outputs": []
    },
    {
      "cell_type": "code",
      "metadata": {
        "id": "oGezNp9f-nIH",
        "colab_type": "code",
        "outputId": "728f88c3-129a-40fc-a0c0-d4f6effd7f8a",
        "colab": {
          "base_uri": "https://localhost:8080/",
          "height": 86
        }
      },
      "source": [
        "print(type(features))\n",
        "print(type(pm))\n",
        "print(len(features))\n",
        "print(len(pm))"
      ],
      "execution_count": 0,
      "outputs": [
        {
          "output_type": "stream",
          "text": [
            "<class 'list'>\n",
            "<class 'list'>\n",
            "2471\n",
            "2471\n"
          ],
          "name": "stdout"
        }
      ]
    },
    {
      "cell_type": "code",
      "metadata": {
        "id": "U43D3JiECfXT",
        "colab_type": "code",
        "outputId": "4130db3b-1ab5-497a-ca34-c88b3a61da85",
        "colab": {
          "base_uri": "https://localhost:8080/",
          "height": 286
        }
      },
      "source": [
        "lineareg = LinearRegression(normalize =False)\n",
        "cross = cross_val_score(lineareg, features,pm, scoring ='neg_mean_absolute_error',cv=3)\n",
        "x_train, x_test, y_train, y_test = train_test_split(features, pm, test_size =0.3, random_state =42)\n",
        "\n",
        "# x_train=map(float,x_train)\n",
        "# y_train=map(float,y_train)\n",
        "# x_test=map(float,x_test)\n",
        "# y_test=map(float,y_test)\n",
        "\n",
        "lineareg.fit(x_train, y_train)\n",
        "\n",
        "pred = lineareg.predict(x_test)\n",
        "\n",
        "plt.plot(pred)\n",
        "plt.plot(y_test)\n",
        "\n",
        "print(mean_absolute_error(pred, y_test))\n",
        "\n",
        "\n",
        "#(500 IMAGES LESS THAN WITH THE PREVIOUS REGRESSOR !!!!! )\n"
      ],
      "execution_count": 0,
      "outputs": [
        {
          "output_type": "stream",
          "text": [
            "16.639256\n"
          ],
          "name": "stdout"
        },
        {
          "output_type": "display_data",
          "data": {
            "image/png": "[encoded data removed]",
            "text/plain": [
              "<Figure size 432x288 with 1 Axes>"
            ]
          },
          "metadata": {
            "tags": []
          }
        }
      ]
    },
    {
      "cell_type": "code",
      "metadata": {
        "id": "MbRzic2oEa88",
        "colab_type": "code",
        "colab": {}
      },
      "source": [
        "with open('/content/LR_WithDiffImages.bin','wb') as file:\n",
        "  pickle.dump(lineareg,file)\n",
        "\n"
      ],
      "execution_count": 0,
      "outputs": []
    },
    {
      "cell_type": "code",
      "metadata": {
        "id": "H_K8d837DeMO",
        "colab_type": "code",
        "outputId": "13a40798-f34f-4590-d939-139ced275e63",
        "colab": {
          "base_uri": "https://localhost:8080/",
          "height": 34
        }
      },
      "source": [
        "print(((-1)*cross))"
      ],
      "execution_count": 0,
      "outputs": [
        {
          "output_type": "stream",
          "text": [
            "[26.14634132 17.8191967  33.19472504]\n"
          ],
          "name": "stdout"
        }
      ]
    },
    {
      "cell_type": "code",
      "metadata": {
        "id": "6PIOW4xFDi3g",
        "colab_type": "code",
        "outputId": "0e0ff3c0-dc37-480b-df4a-8318f2e5dc6b",
        "colab": {
          "base_uri": "https://localhost:8080/",
          "height": 1000
        }
      },
      "source": [
        "d=[]\n",
        "for i in range(0,len(pred)):\n",
        "  print(str(y_test[i]) +'\\t'+ str(pred[i]))\n",
        "  k=y_test[i]-pred[i]\n",
        "  if(k>=10):\n",
        "    d.append(k)\n"
      ],
      "execution_count": 0,
      "outputs": [
        {
          "output_type": "stream",
          "text": [
            "[46.]\t[47.51139]\n",
            "[66.88]\t[78.68255]\n",
            "[42.31]\t[71.6793]\n",
            "[46.]\t[56.204033]\n",
            "[105.]\t[69.65656]\n",
            "[44.]\t[51.226982]\n",
            "[35.]\t[50.86978]\n",
            "[43.27]\t[68.675735]\n",
            "[14.]\t[37.552444]\n",
            "[34.95]\t[41.92048]\n",
            "[33.52]\t[47.322243]\n",
            "[28.6]\t[53.004036]\n",
            "[24.27]\t[44.13935]\n",
            "[42.7]\t[43.609825]\n",
            "[30.]\t[15.558678]\n",
            "[52.]\t[27.43563]\n",
            "[66.]\t[66.842094]\n",
            "[78.]\t[63.20063]\n",
            "[63.77]\t[80.60213]\n",
            "[46.]\t[54.180153]\n",
            "[50.]\t[57.449646]\n",
            "[41.]\t[44.17031]\n",
            "[35.]\t[33.82444]\n",
            "[67.24]\t[74.31942]\n",
            "[48.]\t[53.85676]\n",
            "[24.]\t[50.620323]\n",
            "[48.]\t[78.6903]\n",
            "[52.23]\t[62.2545]\n",
            "[41.]\t[67.57525]\n",
            "[103.]\t[77.11308]\n",
            "[44.]\t[54.359947]\n",
            "[41.]\t[68.4984]\n",
            "[48.]\t[51.97834]\n",
            "[69.]\t[64.057304]\n",
            "[36.69]\t[68.169426]\n",
            "[35.]\t[39.8862]\n",
            "[44.]\t[43.983635]\n",
            "[56.85]\t[54.197838]\n",
            "[50.]\t[57.93673]\n",
            "[46.]\t[65.39303]\n",
            "[55.]\t[44.63021]\n",
            "[55.55]\t[56.018845]\n",
            "[63.]\t[46.49238]\n",
            "[47.43]\t[64.3626]\n",
            "[29.]\t[49.141983]\n",
            "[41.]\t[50.05739]\n",
            "[40.84]\t[50.34124]\n",
            "[65.9]\t[45.888664]\n",
            "[24.17]\t[31.107277]\n",
            "[50.9]\t[62.74621]\n",
            "[65.55]\t[78.2646]\n",
            "[44.]\t[55.98185]\n",
            "[92.]\t[59.77172]\n",
            "[29.]\t[52.452057]\n",
            "[55.]\t[46.274513]\n",
            "[50.]\t[48.160538]\n",
            "[44.]\t[70.917595]\n",
            "[69.]\t[49.756096]\n",
            "[35.67]\t[50.319603]\n",
            "[26.]\t[42.021423]\n",
            "[62.]\t[51.126]\n",
            "[23.]\t[40.17478]\n",
            "[56.]\t[53.143074]\n",
            "[35.]\t[45.23079]\n",
            "[44.02]\t[73.57611]\n",
            "[75.]\t[46.219566]\n",
            "[44.]\t[68.82932]\n",
            "[23.]\t[41.0319]\n",
            "[44.]\t[51.01461]\n",
            "[57.]\t[53.249542]\n",
            "[26.]\t[27.618553]\n",
            "[67.]\t[54.079765]\n",
            "[44.02]\t[73.690994]\n",
            "[45.]\t[66.24456]\n",
            "[63.]\t[46.227577]\n",
            "[66.88]\t[80.63396]\n",
            "[44.67]\t[68.09055]\n",
            "[29.]\t[33.570107]\n",
            "[36.]\t[41.7014]\n",
            "[63.]\t[45.03492]\n",
            "[34.95]\t[41.684578]\n",
            "[44.]\t[57.91294]\n",
            "[74.]\t[43.64495]\n",
            "[44.3]\t[46.126266]\n",
            "[45.]\t[35.765846]\n",
            "[28.]\t[10.272217]\n",
            "[66.88]\t[80.077896]\n",
            "[44.8]\t[44.117004]\n",
            "[30.]\t[55.008614]\n",
            "[41.]\t[54.023094]\n",
            "[36.]\t[43.05237]\n",
            "[62.]\t[45.308746]\n",
            "[63.41]\t[72.760765]\n",
            "[60.88]\t[73.58321]\n",
            "[40.]\t[56.64099]\n",
            "[61.]\t[61.59066]\n",
            "[34.68]\t[40.05224]\n",
            "[74.]\t[34.06227]\n",
            "[94.]\t[70.91988]\n",
            "[48.]\t[53.829506]\n",
            "[45.]\t[37.693016]\n",
            "[20.]\t[40.943398]\n",
            "[48.]\t[70.95825]\n",
            "[44.]\t[57.64747]\n",
            "[56.]\t[60.7706]\n",
            "[76.]\t[47.648567]\n",
            "[29.]\t[43.32811]\n",
            "[48.]\t[72.592026]\n",
            "[48.]\t[78.83868]\n",
            "[39.]\t[44.444458]\n",
            "[50.2]\t[51.040062]\n",
            "[51.19]\t[61.31781]\n",
            "[37.74]\t[50.96035]\n",
            "[39.]\t[60.704315]\n",
            "[39.]\t[62.09751]\n",
            "[41.]\t[49.460976]\n",
            "[57.]\t[48.816154]\n",
            "[40.]\t[56.27398]\n",
            "[66.]\t[36.238747]\n",
            "[94.]\t[77.909515]\n",
            "[50.]\t[42.684196]\n",
            "[55.6]\t[71.88506]\n",
            "[20.]\t[39.42186]\n",
            "[66.]\t[50.756447]\n",
            "[44.]\t[59.95408]\n",
            "[92.]\t[63.933693]\n",
            "[55.]\t[47.44306]\n",
            "[84.]\t[47.467644]\n",
            "[62.]\t[47.529793]\n",
            "[40.39]\t[50.145226]\n",
            "[44.67]\t[67.622375]\n",
            "[51.]\t[41.652107]\n",
            "[45.2]\t[35.49964]\n",
            "[42.2]\t[45.320747]\n",
            "[37.64]\t[53.89012]\n",
            "[40.]\t[44.162598]\n",
            "[29.15]\t[42.981438]\n",
            "[30.]\t[51.98352]\n",
            "[46.]\t[53.358406]\n",
            "[50.]\t[35.964012]\n",
            "[36.]\t[38.824654]\n",
            "[40.39]\t[50.925606]\n",
            "[29.]\t[15.601517]\n",
            "[41.]\t[56.42507]\n",
            "[56.]\t[63.713737]\n",
            "[63.]\t[47.836205]\n",
            "[57.]\t[44.672905]\n",
            "[35.67]\t[51.768013]\n",
            "[17.]\t[39.31877]\n",
            "[27.]\t[33.918053]\n",
            "[54.78]\t[40.412094]\n",
            "[34.95]\t[42.627663]\n",
            "[17.]\t[36.963432]\n",
            "[54.78]\t[40.70562]\n",
            "[62.]\t[43.517174]\n",
            "[20.]\t[40.436783]\n",
            "[41.]\t[60.133614]\n",
            "[45.]\t[68.761375]\n",
            "[24.]\t[53.043625]\n",
            "[91.]\t[44.79203]\n",
            "[50.]\t[34.49066]\n",
            "[27.]\t[33.527306]\n",
            "[62.]\t[51.82071]\n",
            "[61.42]\t[72.670555]\n",
            "[35.67]\t[53.061775]\n",
            "[50.]\t[45.25096]\n",
            "[94.]\t[73.75168]\n",
            "[44.]\t[53.98983]\n",
            "[44.]\t[56.06373]\n",
            "[50.]\t[55.998863]\n",
            "[62.]\t[45.025658]\n",
            "[44.]\t[68.17075]\n",
            "[45.]\t[73.0587]\n",
            "[105.]\t[42.20655]\n",
            "[50.]\t[58.093178]\n",
            "[44.]\t[56.29138]\n",
            "[190.]\t[73.393456]\n",
            "[27.]\t[38.99048]\n",
            "[62.]\t[48.56774]\n",
            "[33.52]\t[47.68892]\n",
            "[45.]\t[55.577583]\n",
            "[30.]\t[53.623978]\n",
            "[30.]\t[52.093582]\n",
            "[26.]\t[27.962395]\n",
            "[46.]\t[38.856773]\n",
            "[45.]\t[58.06166]\n",
            "[106.]\t[53.052956]\n",
            "[31.41]\t[42.44644]\n",
            "[85.7]\t[60.85916]\n",
            "[66.]\t[62.73439]\n",
            "[53.67]\t[56.704605]\n",
            "[46.]\t[54.53148]\n",
            "[35.67]\t[52.603783]\n",
            "[41.]\t[59.998085]\n",
            "[91.]\t[72.729065]\n",
            "[48.]\t[71.03692]\n",
            "[75.]\t[53.17312]\n",
            "[27.]\t[54.273552]\n",
            "[41.]\t[53.198044]\n",
            "[47.98]\t[65.32465]\n",
            "[81.]\t[38.22724]\n",
            "[36.]\t[38.945267]\n",
            "[62.52]\t[75.14166]\n",
            "[41.]\t[40.329857]\n",
            "[50.]\t[35.469246]\n",
            "[41.]\t[68.57954]\n",
            "[43.27]\t[70.914505]\n",
            "[78.]\t[66.065094]\n",
            "[36.18]\t[47.6929]\n",
            "[20.]\t[38.153435]\n",
            "[27.]\t[52.473526]\n",
            "[53.]\t[59.179787]\n",
            "[41.63]\t[57.376984]\n",
            "[45.7]\t[56.498856]\n",
            "[50.]\t[36.982903]\n",
            "[46.]\t[60.954018]\n",
            "[44.]\t[42.593124]\n",
            "[36.]\t[39.837013]\n",
            "[45.2]\t[33.583885]\n",
            "[60.]\t[51.46644]\n",
            "[46.]\t[50.08999]\n",
            "[57.]\t[48.97409]\n",
            "[24.17]\t[36.373642]\n",
            "[30.]\t[53.204727]\n",
            "[29.]\t[51.80654]\n",
            "[66.]\t[62.807854]\n",
            "[48.]\t[75.92546]\n",
            "[29.]\t[42.104263]\n",
            "[36.]\t[41.984703]\n",
            "[88.]\t[45.051346]\n",
            "[79.49]\t[65.5167]\n",
            "[56.]\t[56.687325]\n",
            "[55.]\t[44.859818]\n",
            "[41.63]\t[63.36982]\n",
            "[41.]\t[75.396484]\n",
            "[44.]\t[43.137733]\n",
            "[42.2]\t[46.299652]\n",
            "[42.]\t[41.222816]\n",
            "[41.7]\t[43.019913]\n",
            "[44.8]\t[46.998375]\n",
            "[62.]\t[51.18637]\n",
            "[27.]\t[38.966835]\n",
            "[28.99]\t[30.60382]\n",
            "[66.]\t[39.86242]\n",
            "[36.]\t[38.83761]\n",
            "[30.]\t[55.21599]\n",
            "[81.1]\t[64.7512]\n",
            "[63.]\t[50.930824]\n",
            "[66.]\t[49.35177]\n",
            "[85.]\t[52.184654]\n",
            "[66.]\t[50.369408]\n",
            "[111.]\t[43.62265]\n",
            "[51.]\t[62.282745]\n",
            "[44.]\t[58.648674]\n",
            "[50.]\t[48.267853]\n",
            "[32.]\t[47.221886]\n",
            "[63.41]\t[71.38298]\n",
            "[47.]\t[41.72425]\n",
            "[56.]\t[42.662903]\n",
            "[30.]\t[53.166046]\n",
            "[29.]\t[48.34703]\n",
            "[46.]\t[59.327904]\n",
            "[51.44]\t[65.652534]\n",
            "[46.]\t[40.679962]\n",
            "[29.]\t[52.16655]\n",
            "[28.47]\t[44.86254]\n",
            "[24.17]\t[35.685524]\n",
            "[41.]\t[61.575134]\n",
            "[17.]\t[37.31482]\n",
            "[40.84]\t[51.53344]\n",
            "[66.]\t[51.606346]\n",
            "[35.67]\t[50.703133]\n",
            "[40.84]\t[52.182274]\n",
            "[91.]\t[71.70308]\n",
            "[57.]\t[47.839333]\n",
            "[27.44]\t[46.128654]\n",
            "[42.31]\t[70.46019]\n",
            "[66.88]\t[80.668655]\n",
            "[81.1]\t[64.34537]\n",
            "[24.18]\t[35.816574]\n",
            "[50.]\t[43.004578]\n",
            "[23.]\t[40.49859]\n",
            "[75.]\t[55.29235]\n",
            "[32.]\t[41.61097]\n",
            "[63.]\t[60.444443]\n",
            "[24.27]\t[37.990044]\n",
            "[63.]\t[49.37391]\n",
            "[39.]\t[57.95968]\n",
            "[32.]\t[38.216637]\n",
            "[27.]\t[36.720863]\n",
            "[85.7]\t[62.31254]\n",
            "[63.]\t[55.41459]\n",
            "[66.]\t[62.835617]\n",
            "[52.53]\t[64.70897]\n",
            "[45.]\t[66.991066]\n",
            "[92.]\t[59.692986]\n",
            "[20.]\t[55.85598]\n",
            "[27.]\t[50.406853]\n",
            "[44.02]\t[83.457375]\n",
            "[36.]\t[43.182503]\n",
            "[41.]\t[48.25184]\n",
            "[43.8]\t[44.766014]\n",
            "[61.]\t[44.271545]\n",
            "[46.68]\t[84.56482]\n",
            "[44.]\t[58.02468]\n",
            "[48.59]\t[39.232407]\n",
            "[44.]\t[44.49672]\n",
            "[62.]\t[50.43902]\n",
            "[20.]\t[35.48388]\n",
            "[180.]\t[80.23497]\n",
            "[46.]\t[50.884743]\n",
            "[75.]\t[53.51145]\n",
            "[28.6]\t[52.839386]\n",
            "[27.]\t[52.89939]\n",
            "[46.]\t[37.88349]\n",
            "[51.19]\t[60.17473]\n",
            "[46.]\t[55.742973]\n",
            "[43.01]\t[47.276115]\n",
            "[53.45]\t[65.37454]\n",
            "[66.]\t[65.63443]\n",
            "[50.]\t[51.084724]\n",
            "[52.33]\t[65.36166]\n",
            "[44.]\t[58.079628]\n",
            "[44.]\t[57.214676]\n",
            "[34.7]\t[32.58245]\n",
            "[37.74]\t[49.033348]\n",
            "[38.]\t[39.97017]\n",
            "[43.5]\t[44.415817]\n",
            "[29.]\t[46.0925]\n",
            "[62.]\t[48.48506]\n",
            "[39.]\t[54.24299]\n",
            "[66.88]\t[79.63716]\n",
            "[54.84]\t[66.59623]\n",
            "[23.]\t[50.906105]\n",
            "[44.]\t[53.262924]\n",
            "[45.]\t[54.684776]\n",
            "[50.]\t[34.96148]\n",
            "[24.]\t[49.488823]\n",
            "[43.01]\t[48.861855]\n",
            "[46.84]\t[42.961723]\n",
            "[53.45]\t[65.56235]\n",
            "[45.]\t[55.176445]\n",
            "[91.]\t[41.425613]\n",
            "[36.]\t[39.77848]\n",
            "[26.]\t[32.437653]\n",
            "[38.]\t[55.537857]\n",
            "[35.]\t[51.338135]\n",
            "[46.]\t[60.537285]\n",
            "[32.]\t[43.409187]\n",
            "[29.]\t[31.75483]\n",
            "[34.7]\t[32.531532]\n",
            "[46.]\t[63.890564]\n",
            "[44.]\t[44.80803]\n",
            "[53.]\t[52.813087]\n",
            "[73.]\t[44.94027]\n",
            "[32.81]\t[38.481995]\n",
            "[27.]\t[48.499123]\n",
            "[58.]\t[59.92444]\n",
            "[73.]\t[39.153145]\n",
            "[50.]\t[42.05207]\n",
            "[30.]\t[51.715256]\n",
            "[34.71]\t[40.183113]\n",
            "[45.]\t[36.94584]\n",
            "[78.]\t[63.176537]\n",
            "[56.]\t[55.317116]\n",
            "[44.]\t[50.9383]\n",
            "[100.]\t[69.07198]\n",
            "[50.]\t[48.428116]\n",
            "[39.]\t[41.49241]\n",
            "[56.]\t[41.166313]\n",
            "[40.39]\t[50.49302]\n",
            "[92.]\t[60.510765]\n",
            "[58.4]\t[47.797523]\n",
            "[66.]\t[49.118614]\n",
            "[20.]\t[39.512886]\n",
            "[81.1]\t[65.769455]\n",
            "[44.]\t[63.424194]\n",
            "[47.]\t[62.08541]\n",
            "[180.]\t[81.347534]\n",
            "[41.]\t[57.193542]\n",
            "[42.7]\t[42.904778]\n",
            "[105.]\t[69.551346]\n",
            "[45.67]\t[58.08468]\n",
            "[50.]\t[51.03115]\n",
            "[48.]\t[53.925896]\n",
            "[40.]\t[43.62729]\n",
            "[99.]\t[41.497337]\n",
            "[39.85]\t[52.212906]\n",
            "[75.]\t[55.447975]\n",
            "[45.]\t[62.41794]\n",
            "[50.]\t[32.57628]\n",
            "[41.]\t[60.885735]\n",
            "[44.02]\t[85.6927]\n",
            "[17.]\t[45.28296]\n",
            "[44.]\t[39.44635]\n",
            "[51.]\t[62.851234]\n",
            "[53.45]\t[63.985893]\n",
            "[65.4]\t[69.99603]\n",
            "[46.8]\t[55.76529]\n",
            "[29.]\t[36.550835]\n",
            "[45.2]\t[36.085205]\n",
            "[102.]\t[40.6009]\n",
            "[54.78]\t[45.18289]\n",
            "[17.]\t[31.872826]\n",
            "[39.]\t[44.900917]\n",
            "[56.]\t[58.628975]\n",
            "[57.]\t[46.74279]\n",
            "[54.]\t[28.539467]\n",
            "[53.]\t[52.071785]\n",
            "[38.]\t[53.360573]\n",
            "[47.43]\t[65.394806]\n",
            "[20.]\t[31.366264]\n",
            "[43.8]\t[44.62983]\n",
            "[46.]\t[53.63813]\n",
            "[43.27]\t[68.10536]\n",
            "[35.77]\t[50.564346]\n",
            "[63.]\t[39.403145]\n",
            "[32.97]\t[35.5877]\n",
            "[46.]\t[50.09681]\n",
            "[63.]\t[59.223587]\n",
            "[45.]\t[54.760796]\n",
            "[52.23]\t[65.81369]\n",
            "[63.]\t[45.8715]\n",
            "[44.02]\t[85.53195]\n",
            "[94.]\t[71.319725]\n",
            "[102.]\t[75.62941]\n",
            "[41.92]\t[69.030426]\n",
            "[40.]\t[43.54261]\n",
            "[75.]\t[54.374092]\n",
            "[20.]\t[27.468163]\n",
            "[190.]\t[69.87557]\n",
            "[44.]\t[44.853638]\n",
            "[44.]\t[56.887505]\n",
            "[180.]\t[73.807655]\n",
            "[30.8]\t[52.868874]\n",
            "[60.88]\t[75.63074]\n",
            "[44.]\t[47.805]\n",
            "[45.]\t[68.18472]\n",
            "[31.68]\t[76.051575]\n",
            "[85.7]\t[62.0634]\n",
            "[56.]\t[65.7788]\n",
            "[44.]\t[52.546494]\n",
            "[93.]\t[46.91149]\n",
            "[44.]\t[59.48484]\n",
            "[48.3]\t[44.421227]\n",
            "[79.49]\t[65.53556]\n",
            "[41.]\t[46.290108]\n",
            "[88.]\t[46.33721]\n",
            "[105.]\t[69.328445]\n",
            "[44.]\t[57.400215]\n",
            "[100.]\t[41.176598]\n",
            "[40.]\t[44.503838]\n",
            "[20.]\t[31.401207]\n",
            "[94.]\t[71.14208]\n",
            "[63.]\t[49.238853]\n",
            "[75.]\t[52.515015]\n",
            "[30.]\t[55.232384]\n",
            "[62.52]\t[74.10222]\n",
            "[63.]\t[63.6624]\n",
            "[24.18]\t[35.74787]\n",
            "[73.]\t[46.565414]\n",
            "[46.]\t[42.176956]\n",
            "[46.]\t[54.17974]\n",
            "[52.]\t[27.679283]\n",
            "[41.]\t[47.88714]\n",
            "[64.]\t[51.347298]\n",
            "[47.]\t[55.176674]\n",
            "[30.12]\t[50.700645]\n",
            "[41.]\t[69.41484]\n",
            "[52.33]\t[63.432793]\n",
            "[146.]\t[76.35551]\n",
            "[26.]\t[46.801712]\n",
            "[94.]\t[75.9639]\n",
            "[41.]\t[48.787636]\n",
            "[44.3]\t[46.08506]\n",
            "[37.26]\t[41.638046]\n",
            "[66.88]\t[83.85898]\n",
            "[42.29]\t[50.91073]\n",
            "[38.]\t[56.517136]\n",
            "[35.]\t[39.00448]\n",
            "[34.7]\t[37.47454]\n",
            "[74.]\t[38.76718]\n",
            "[27.]\t[48.40738]\n",
            "[146.]\t[81.17549]\n",
            "[103.]\t[78.052414]\n",
            "[56.]\t[53.248276]\n",
            "[45.]\t[59.26925]\n",
            "[32.]\t[63.27382]\n",
            "[81.2]\t[65.29532]\n",
            "[45.]\t[42.497124]\n",
            "[48.]\t[7.4160767]\n",
            "[46.]\t[51.27047]\n",
            "[48.59]\t[39.357582]\n",
            "[50.]\t[34.171783]\n",
            "[39.]\t[60.083763]\n",
            "[74.]\t[39.403893]\n",
            "[55.]\t[71.67882]\n",
            "[55.83]\t[67.113556]\n",
            "[103.]\t[78.30429]\n",
            "[45.]\t[38.720406]\n",
            "[28.99]\t[29.524895]\n",
            "[56.]\t[48.581535]\n",
            "[56.]\t[46.38315]\n",
            "[27.]\t[52.694176]\n",
            "[56.]\t[59.765068]\n",
            "[46.]\t[46.435875]\n",
            "[94.]\t[63.30301]\n",
            "[35.58]\t[49.3993]\n",
            "[20.]\t[37.81893]\n",
            "[72.]\t[46.627502]\n",
            "[48.]\t[69.48934]\n",
            "[44.]\t[59.00222]\n",
            "[44.67]\t[67.310585]\n",
            "[57.]\t[48.98974]\n",
            "[38.]\t[55.15444]\n",
            "[63.]\t[49.00432]\n",
            "[54.84]\t[64.960884]\n",
            "[53.32]\t[65.8518]\n",
            "[52.23]\t[62.1074]\n",
            "[32.81]\t[35.344795]\n",
            "[74.]\t[33.79093]\n",
            "[55.]\t[44.815636]\n",
            "[50.]\t[47.077515]\n",
            "[50.]\t[36.577446]\n",
            "[29.15]\t[36.256615]\n",
            "[42.31]\t[67.5355]\n",
            "[75.]\t[61.271126]\n",
            "[67.24]\t[73.50509]\n",
            "[40.]\t[44.11216]\n",
            "[26.]\t[45.680504]\n",
            "[100.]\t[74.50604]\n",
            "[66.]\t[31.818062]\n",
            "[45.]\t[58.72959]\n",
            "[27.12]\t[31.44297]\n",
            "[58.]\t[44.6164]\n",
            "[69.]\t[63.60087]\n",
            "[33.77]\t[47.831398]\n",
            "[40.84]\t[50.44297]\n",
            "[45.62]\t[52.845436]\n",
            "[50.]\t[39.745033]\n",
            "[64.]\t[49.210335]\n",
            "[27.]\t[52.312546]\n",
            "[42.42]\t[70.04241]\n",
            "[24.]\t[52.957893]\n",
            "[66.88]\t[78.40915]\n",
            "[50.]\t[33.18731]\n",
            "[63.]\t[46.87126]\n",
            "[48.59]\t[50.346]\n",
            "[61.42]\t[75.17856]\n",
            "[65.12]\t[83.48841]\n",
            "[51.]\t[64.37183]\n",
            "[74.]\t[44.07962]\n",
            "[92.]\t[59.293594]\n",
            "[35.77]\t[56.20977]\n",
            "[45.67]\t[59.00689]\n",
            "[29.]\t[41.545815]\n",
            "[52.33]\t[65.45523]\n",
            "[23.]\t[52.24964]\n",
            "[74.]\t[38.459183]\n",
            "[66.]\t[52.370506]\n",
            "[33.77]\t[49.91208]\n",
            "[79.]\t[44.373085]\n",
            "[63.]\t[41.911194]\n",
            "[17.]\t[38.862114]\n",
            "[45.2]\t[35.570236]\n",
            "[45.]\t[54.654472]\n",
            "[24.17]\t[34.96196]\n",
            "[45.]\t[57.811028]\n",
            "[45.]\t[66.99708]\n",
            "[94.]\t[71.76474]\n",
            "[38.]\t[55.02662]\n",
            "[190.]\t[75.858475]\n",
            "[49.]\t[29.386292]\n",
            "[66.9]\t[36.986885]\n",
            "[54.78]\t[40.942093]\n",
            "[50.]\t[43.29229]\n",
            "[29.15]\t[36.910164]\n",
            "[75.]\t[45.52678]\n",
            "[17.]\t[35.88983]\n",
            "[190.]\t[67.81638]\n",
            "[46.]\t[38.76931]\n",
            "[42.7]\t[53.589195]\n",
            "[17.]\t[32.031975]\n",
            "[66.]\t[63.693306]\n",
            "[44.]\t[38.633385]\n",
            "[103.]\t[69.31339]\n",
            "[44.]\t[59.854683]\n",
            "[63.]\t[42.62113]\n",
            "[34.7]\t[36.68696]\n",
            "[14.]\t[39.978523]\n",
            "[50.]\t[57.93342]\n",
            "[23.]\t[52.019173]\n",
            "[35.]\t[44.257607]\n",
            "[76.]\t[54.39274]\n",
            "[39.85]\t[51.00029]\n",
            "[31.93]\t[42.430428]\n",
            "[75.]\t[47.1267]\n",
            "[52.23]\t[66.682945]\n",
            "[41.]\t[64.85493]\n",
            "[74.]\t[43.583122]\n",
            "[56.]\t[55.025017]\n",
            "[44.]\t[42.565254]\n",
            "[32.97]\t[35.65168]\n",
            "[26.]\t[41.86377]\n",
            "[34.16]\t[42.501198]\n",
            "[35.77]\t[47.572212]\n",
            "[35.]\t[42.321594]\n",
            "[48.]\t[76.95044]\n",
            "[46.]\t[45.254356]\n",
            "[24.]\t[53.039223]\n",
            "[31.41]\t[43.509743]\n",
            "[84.]\t[70.57198]\n",
            "[103.]\t[82.60646]\n",
            "[24.27]\t[38.196083]\n",
            "[44.]\t[48.23728]\n",
            "[26.]\t[27.529633]\n",
            "[92.]\t[60.42887]\n",
            "[53.]\t[55.648537]\n",
            "[76.]\t[39.17205]\n",
            "[54.84]\t[65.40152]\n",
            "[44.]\t[53.245125]\n",
            "[44.]\t[55.337532]\n",
            "[36.]\t[39.120567]\n",
            "[34.68]\t[39.82038]\n",
            "[50.]\t[58.093018]\n",
            "[66.9]\t[37.11727]\n",
            "[50.]\t[30.979866]\n",
            "[38.]\t[62.439682]\n",
            "[42.]\t[43.03235]\n",
            "[63.28]\t[71.14749]\n",
            "[94.]\t[79.07614]\n",
            "[28.6]\t[53.377182]\n",
            "[36.]\t[37.30787]\n",
            "[29.]\t[45.30062]\n",
            "[41.]\t[50.4011]\n",
            "[38.]\t[53.069084]\n",
            "[48.]\t[77.41525]\n",
            "[45.]\t[56.716194]\n",
            "[47.43]\t[65.78309]\n",
            "[58.]\t[35.290123]\n",
            "[62.]\t[46.531822]\n",
            "[44.]\t[45.45713]\n",
            "[62.]\t[53.173683]\n",
            "[56.]\t[56.370567]\n",
            "[50.9]\t[64.64072]\n",
            "[38.]\t[48.770866]\n",
            "[50.]\t[33.58722]\n",
            "[39.]\t[53.763756]\n",
            "[51.]\t[59.537285]\n",
            "[63.41]\t[71.776085]\n",
            "[32.81]\t[37.9871]\n",
            "[46.84]\t[43.184303]\n",
            "[47.]\t[55.42569]\n",
            "[30.]\t[55.09742]\n",
            "[60.88]\t[74.92653]\n",
            "[35.]\t[45.022034]\n",
            "[100.]\t[69.48099]\n",
            "[180.]\t[76.06113]\n",
            "[62.]\t[49.005104]\n",
            "[67.]\t[47.691994]\n",
            "[17.]\t[39.71125]\n",
            "[51.]\t[59.01407]\n",
            "[30.]\t[53.210777]\n",
            "[39.]\t[58.203438]\n",
            "[38.]\t[62.614006]\n",
            "[44.]\t[52.374535]\n",
            "[27.]\t[51.64402]\n",
            "[46.]\t[56.3182]\n",
            "[35.]\t[39.07715]\n",
            "[39.]\t[51.823196]\n",
            "[45.]\t[75.337616]\n",
            "[45.1]\t[42.541275]\n",
            "[41.]\t[49.171944]\n",
            "[81.]\t[37.388924]\n",
            "[50.]\t[49.598076]\n",
            "[36.]\t[42.140686]\n",
            "[57.]\t[60.613686]\n",
            "[85.7]\t[63.74772]\n",
            "[41.]\t[44.376503]\n",
            "[46.6]\t[56.946175]\n",
            "[40.]\t[44.822685]\n",
            "[45.67]\t[60.235847]\n",
            "[55.]\t[44.970573]\n",
            "[35.]\t[44.568047]\n",
            "[70.]\t[63.86528]\n",
            "[39.]\t[53.340736]\n",
            "[89.]\t[48.432747]\n",
            "[34.7]\t[32.931602]\n",
            "[62.]\t[48.73497]\n",
            "[45.2]\t[36.569984]\n",
            "[27.]\t[33.858162]\n",
            "[14.]\t[37.400322]\n",
            "[45.]\t[36.61944]\n",
            "[27.]\t[49.050682]\n",
            "[72.]\t[54.436104]\n",
            "[94.]\t[74.5143]\n",
            "[102.]\t[69.74689]\n",
            "[50.]\t[54.57199]\n",
            "[75.]\t[37.997124]\n",
            "[56.]\t[58.847816]\n",
            "[41.]\t[43.365837]\n",
            "[63.]\t[44.062035]\n",
            "[50.]\t[50.094933]\n",
            "[87.]\t[51.118706]\n",
            "[66.]\t[51.87745]\n",
            "[76.]\t[42.676346]\n",
            "[27.44]\t[45.604927]\n",
            "[63.]\t[42.03689]\n",
            "[45.2]\t[35.52694]\n",
            "[48.]\t[70.86529]\n",
            "[28.6]\t[54.728127]\n",
            "[42.7]\t[44.17968]\n",
            "[75.]\t[45.328117]\n",
            "[63.]\t[44.89933]\n",
            "[42.29]\t[49.864372]\n",
            "[28.47]\t[45.494057]\n",
            "[103.]\t[82.88281]\n",
            "[41.]\t[55.644844]\n",
            "[23.]\t[51.916893]\n",
            "[56.85]\t[56.61106]\n",
            "[44.]\t[68.529106]\n",
            "[74.]\t[46.0026]\n",
            "[32.]\t[63.97268]\n",
            "[92.]\t[58.504677]\n",
            "[41.]\t[50.599792]\n",
            "[66.]\t[66.168144]\n",
            "[36.64]\t[57.783203]\n",
            "[31.]\t[69.50558]\n",
            "[103.]\t[83.41109]\n",
            "[180.]\t[71.8986]\n",
            "[75.]\t[45.989075]\n",
            "[24.]\t[51.4925]\n",
            "[50.9]\t[64.64255]\n",
            "[52.23]\t[63.13504]\n",
            "[75.]\t[52.501656]\n",
            "[146.]\t[77.18788]\n",
            "[44.8]\t[42.008064]\n",
            "[39.]\t[58.998802]\n",
            "[81.1]\t[66.1169]\n",
            "[180.]\t[81.66466]\n",
            "[41.71]\t[58.265236]\n",
            "[45.67]\t[60.280937]\n"
          ],
          "name": "stdout"
        }
      ]
    },
    {
      "cell_type": "code",
      "metadata": {
        "id": "5i4VCLdGd0Rq",
        "colab_type": "code",
        "outputId": "22889cbf-2cfe-40d7-ce0d-c5bff9747480",
        "colab": {
          "base_uri": "https://localhost:8080/",
          "height": 51
        }
      },
      "source": [
        "#plt.plot(d)\n",
        "\n",
        "##26% of our test data is more than 10 deviations \n",
        "print(len(y_test))\n",
        "print(len(d))"
      ],
      "execution_count": 0,
      "outputs": [
        {
          "output_type": "stream",
          "text": [
            "742\n",
            "195\n"
          ],
          "name": "stdout"
        }
      ]
    },
    {
      "cell_type": "code",
      "metadata": {
        "id": "bmD_qjXYMuP4",
        "colab_type": "code",
        "colab": {}
      },
      "source": [
        "d=[]\n",
        "\n",
        "#20% is out of bounds by 15 \n",
        "\n",
        "for i in range(0,len(pred)):\n",
        "  k=y_test[i]-pred[i]\n",
        "  if(k>=15):\n",
        "    d.append(k)\n"
      ],
      "execution_count": 0,
      "outputs": []
    },
    {
      "cell_type": "code",
      "metadata": {
        "id": "nKTTpKQAjp0z",
        "colab_type": "code",
        "outputId": "aafac5d5-4f5c-4ec1-d7d5-6c0312ad4e9b",
        "colab": {
          "base_uri": "https://localhost:8080/",
          "height": 51
        }
      },
      "source": [
        "print(len(y_test))\n",
        "print(len(d))"
      ],
      "execution_count": 0,
      "outputs": [
        {
          "output_type": "stream",
          "text": [
            "742\n",
            "146\n"
          ],
          "name": "stdout"
        }
      ]
    },
    {
      "cell_type": "markdown",
      "metadata": {
        "id": "KFdp-5SqjrKR",
        "colab_type": "text"
      },
      "source": [
        "RANDOM FOREST REGRESSOR "
      ]
    },
    {
      "cell_type": "code",
      "metadata": {
        "id": "a5ZyaLqBDsB7",
        "colab_type": "code",
        "outputId": "f8b506a4-6fd9-415d-c4a9-ba7bb4c9cfb6",
        "colab": {
          "base_uri": "https://localhost:8080/",
          "height": 580
        }
      },
      "source": [
        "reg = RandomForestRegressor(max_depth=3) \n",
        "cross = cross_val_score(reg, features, pm, scoring ='neg_mean_absolute_error',cv=3)\n",
        "x_train, x_test, y_train, y_test = train_test_split(features, pm, test_size =0.3, random_state =42)\n",
        "\n",
        "reg.fit(x_train, y_train)\n",
        "\n",
        "pred = reg.predict(x_test)\n",
        "\n",
        "plt.plot(pred)\n",
        "plt.plot(y_test)\n",
        "\n",
        "print(mean_absolute_error(pred, y_test))\n"
      ],
      "execution_count": 0,
      "outputs": [
        {
          "output_type": "stream",
          "text": [
            "/usr/local/lib/python3.6/dist-packages/sklearn/ensemble/forest.py:245: FutureWarning: The default value of n_estimators will change from 10 in version 0.20 to 100 in 0.22.\n",
            "  \"10 in version 0.20 to 100 in 0.22.\", FutureWarning)\n",
            "/usr/local/lib/python3.6/dist-packages/sklearn/model_selection/_validation.py:516: DataConversionWarning: A column-vector y was passed when a 1d array was expected. Please change the shape of y to (n_samples,), for example using ravel().\n",
            "  estimator.fit(X_train, y_train, **fit_params)\n",
            "/usr/local/lib/python3.6/dist-packages/sklearn/ensemble/forest.py:245: FutureWarning: The default value of n_estimators will change from 10 in version 0.20 to 100 in 0.22.\n",
            "  \"10 in version 0.20 to 100 in 0.22.\", FutureWarning)\n",
            "/usr/local/lib/python3.6/dist-packages/sklearn/model_selection/_validation.py:516: DataConversionWarning: A column-vector y was passed when a 1d array was expected. Please change the shape of y to (n_samples,), for example using ravel().\n",
            "  estimator.fit(X_train, y_train, **fit_params)\n",
            "/usr/local/lib/python3.6/dist-packages/sklearn/ensemble/forest.py:245: FutureWarning: The default value of n_estimators will change from 10 in version 0.20 to 100 in 0.22.\n",
            "  \"10 in version 0.20 to 100 in 0.22.\", FutureWarning)\n",
            "/usr/local/lib/python3.6/dist-packages/sklearn/model_selection/_validation.py:516: DataConversionWarning: A column-vector y was passed when a 1d array was expected. Please change the shape of y to (n_samples,), for example using ravel().\n",
            "  estimator.fit(X_train, y_train, **fit_params)\n",
            "/usr/local/lib/python3.6/dist-packages/sklearn/ensemble/forest.py:245: FutureWarning: The default value of n_estimators will change from 10 in version 0.20 to 100 in 0.22.\n",
            "  \"10 in version 0.20 to 100 in 0.22.\", FutureWarning)\n",
            "/usr/local/lib/python3.6/dist-packages/ipykernel_launcher.py:5: DataConversionWarning: A column-vector y was passed when a 1d array was expected. Please change the shape of y to (n_samples,), for example using ravel().\n",
            "  \"\"\"\n"
          ],
          "name": "stderr"
        },
        {
          "output_type": "stream",
          "text": [
            "12.165758940710797\n"
          ],
          "name": "stdout"
        },
        {
          "output_type": "display_data",
          "data": {
            "image/png": "[encoded data removed]",
            "text/plain": [
              "<Figure size 432x288 with 1 Axes>"
            ]
          },
          "metadata": {
            "tags": []
          }
        }
      ]
    },
    {
      "cell_type": "code",
      "metadata": {
        "id": "Gof3qo-0I8RY",
        "colab_type": "code",
        "outputId": "f53fb7da-0526-466b-cda0-051fb82b73f6",
        "colab": {
          "base_uri": "https://localhost:8080/",
          "height": 34
        }
      },
      "source": [
        "print(((-1)*cross))"
      ],
      "execution_count": 0,
      "outputs": [
        {
          "output_type": "stream",
          "text": [
            "[25.61452229 26.00251457 19.62932699]\n"
          ],
          "name": "stdout"
        }
      ]
    },
    {
      "cell_type": "code",
      "metadata": {
        "id": "pXP3k1G479in",
        "colab_type": "code",
        "colab": {}
      },
      "source": [
        "#joblib.dump(reg,'Random_withITO.pkl')\n",
        "with open('/content/RF_withDiffImages.bin','wb') as file:\n",
        "  pickle.dump(reg, file)\n",
        "\n"
      ],
      "execution_count": 0,
      "outputs": []
    },
    {
      "cell_type": "code",
      "metadata": {
        "id": "8zr2URGPKjfT",
        "colab_type": "code",
        "colab": {}
      },
      "source": [
        "\n",
        "for i in range(0,len(pred)):\n",
        "  print(str(y_test[i]) +'\\t'+ str(pred[i]))\n",
        "  \n",
        "  "
      ],
      "execution_count": 0,
      "outputs": []
    },
    {
      "cell_type": "code",
      "metadata": {
        "id": "Wa5JjlJM0rj2",
        "colab_type": "code",
        "colab": {}
      },
      "source": [
        "def trans_deg(im):\n",
        "#   im = cv2.imread(img)\n",
        "#   im = cv2.resize(im, (256,256))\n",
        "  B=np.zeros((256,256))\n",
        "  D=np.zeros((256,256))\n",
        "  C=np.zeros((256,256))\n",
        "  # 3rd channel or im[2] has been split as b,g,r \n",
        "\n",
        "  b,g,r = cv2.split(im)\n",
        "\n",
        "  for i in range(b.shape[0]):\n",
        "    for j in range(b.shape[1]):\n",
        "      D[i][j] = min(b[i][j], g[i][j], r[i][j])\n",
        "      B[i][j] = max(b[i][j], g[i][j], r[i][j])\n",
        "      C[i][j] = B[i][j] - D[i][j]\n",
        "\n",
        "  d = np.sum(D)/float(np.size(D))\n",
        "  b = np.sum(B)/float(np.size(B))\n",
        "  c = b-d \n",
        "  A = (0.33)*max(np.ndarray.flatten(B)) + (0.66)*b\n",
        "  \n",
        "  x1=((A - d)/float(A)) \n",
        "  x2=(c/float(A))\n",
        "  u = 10.127489\n",
        "  v= -8.336512\n",
        "  s = 0.13606234\n",
        "  \n",
        "  w = math.exp(-0.5*(u*x1 + v*x2)+s)\n",
        "  \n",
        "  if(w<=0.1):\n",
        "      w=0\n",
        "  elif(w<=0.3):\n",
        "    w=1\n",
        "  elif(w<=0.5):\n",
        "    w=2\n",
        "  elif(w<=0.7):\n",
        "    w=3\n",
        "  elif(w<=0.8):\n",
        "    w=4\n",
        "  elif(w<=0.9):\n",
        "    w=5\n",
        "    \n",
        "  return w"
      ],
      "execution_count": 0,
      "outputs": []
    },
    {
      "cell_type": "code",
      "metadata": {
        "id": "UAXvCI8ipRwm",
        "colab_type": "code",
        "colab": {}
      },
      "source": [
        "# def transmission(img, lt = 230, retMean = False):\n",
        "#   ker = np.ones((3, 3))/9.0\n",
        "#   imgrgb = cv2.cvtColor(img, cv2.COLOR_BGR2RGB)\n",
        "#   b, g, r = cv2.split(img)\n",
        "#   hsv = cv2.cvtColor(imgrgb, cv2.COLOR_RGB2HSV)\n",
        "#   _, _, v = cv2.split(hsv)\n",
        "#   v_blur = cv2.filter2D(v, -1, ker)\n",
        "#   _,building_mask = cv2.threshold(v_blur, lt, 255, cv2.THRESH_BINARY)\n",
        "#   sky = cv2.bitwise_and(imgrgb, imgrgb, mask = building_mask)\n",
        "#   sky_mask = cv2.bitwise_not(building_mask, building_mask.copy())\n",
        "#   building = cv2.bitwise_and(imgrgb, imgrgb, mask = sky_mask)\n",
        " \n",
        "#   al = max(v_blur.flatten())\n",
        "#   #Airlight Found. Now calculate Transmission Map\n",
        "#   img_norm = img/float(al)\n",
        "#   b, g, r = cv2.split(img_norm)\n",
        "#   kernel = np.ones((3,3),np.uint8)\n",
        "#   im_new = np.zeros((img.shape[0], img.shape[1]))\n",
        "#   for i in range(img.shape[0]):\n",
        "#     for j in range(img.shape[1]):\n",
        "#       im_new[i][j] = min(b[i][j], g[i][j], r[i][j])\n",
        "#   dcp = cv2.erode(im_new, kernel, iterations = 1)\n",
        "#   #ax[3].imshow(im_new, cmap = 'gray')\n",
        "#   #ax[4].imshow(dcp, cmap = 'gray')\n",
        "#   tr = np.ones((dcp.shape[0], dcp.shape[1]))\n",
        "#   for i in range(dcp.shape[0]):\n",
        "#     for j in range(dcp.shape[1]):\n",
        "#       tr[i][j] = 1 - dcp[i][j]\n",
        "#   #ax[1].imshow(tr, cmap = 'gray')\n",
        "#   if retMean == False:\n",
        "#     return tr\n",
        "#   elif retMean == True:\n",
        "#     return np.mean(tr)"
      ],
      "execution_count": 0,
      "outputs": []
    },
    {
      "cell_type": "code",
      "metadata": {
        "id": "0u8yXSvapSPG",
        "colab_type": "code",
        "colab": {}
      },
      "source": [
        "def entropy(image):\n",
        "  image = cv2.cvtColor(image, cv2.COLOR_BGR2GRAY)\n",
        "  hist = cv2.calcHist( [image.astype('float32')],\n",
        "              [0], \n",
        "              None,\n",
        "               [256], \n",
        "              [0,256] )\n",
        "  h_norm = 0\n",
        "  h_norm = cv2.normalize(hist, h_norm)\n",
        "  ent = 0\n",
        "  for p in h_norm:\n",
        "    try:\n",
        "      ent += p*math.log(p, 2)\n",
        "    except:\n",
        "      pass\n",
        "    \n",
        "  return (-1 * ent[0])"
      ],
      "execution_count": 0,
      "outputs": []
    },
    {
      "cell_type": "code",
      "metadata": {
        "id": "HB5IbHV9pUhK",
        "colab_type": "code",
        "colab": {}
      },
      "source": [
        "def contrast(image):\n",
        "  image = cv2.cvtColor(image, cv2.COLOR_BGR2GRAY)\n",
        "  s = 0\n",
        "  ss = 0\n",
        "  mean = np.mean(image)\n",
        "  x = (-1 * mean * (np.ones(image.shape)))\n",
        "  ss = np.square(np.add(image, x))\n",
        "  cont = np.sqrt(np.sum(ss)/float(image.size))\n",
        "  return cont"
      ],
      "execution_count": 0,
      "outputs": []
    },
    {
      "cell_type": "code",
      "metadata": {
        "id": "8LfQYWPVpWhG",
        "colab_type": "code",
        "colab": {}
      },
      "source": [
        "# from sklearn.ensemble import GradientBoostingRegressor\n",
        "\n",
        "# gbrt = GradientBoostingRegressor(max_depth=2,n_estimators=120)\n",
        "\n",
        "# cross = cross_val_score(gbrt, features, pm, scoring ='neg_mean_squared_error',cv=3)\n",
        "\n",
        "# x_train, x_test, y_train, y_test = train_test_split(features, pm, test_size =0.2, random_state =42)\n",
        "\n",
        "# gbrt.fit(x_train, y_train)\n",
        "\n",
        "# y_pred = gbrt.predict(x_test)\n",
        "\n",
        "# errors = [mean_squared_error(y_val, y_pred)\n",
        "# for y_pred in gbrt.staged_predict(X_val)]\n",
        "\n",
        "# bst_n_estimators = np.argmin(errors)\n",
        "\n",
        "# gbrt_best = GradientBoostingRegressor(max_depth=2,n_estimators=bst_n_estimators)\n",
        "# gbrt_best.fit(x_train, y_train) \n"
      ],
      "execution_count": 0,
      "outputs": []
    },
    {
      "cell_type": "code",
      "metadata": {
        "id": "_5cNHBH_cWDQ",
        "colab_type": "code",
        "colab": {}
      },
      "source": [
        "# print((cross*(-1))**0.5)"
      ],
      "execution_count": 0,
      "outputs": []
    },
    {
      "cell_type": "code",
      "metadata": {
        "id": "GxqXmou-bIAt",
        "colab_type": "code",
        "colab": {}
      },
      "source": [
        "# pred = gbrt_best.predict(x_test)\n",
        "\n",
        "# plt.plot(pred)\n",
        "# plt.plot(y_test)\n",
        "\n",
        "# print(mean_squared_error(pred, y_test)**0.5)"
      ],
      "execution_count": 0,
      "outputs": []
    },
    {
      "cell_type": "code",
      "metadata": {
        "id": "4vwWL2QIb6Kr",
        "colab_type": "code",
        "colab": {}
      },
      "source": [
        "# pred = reg.predict(x_test)\n",
        "\n",
        "# plt.plot(pred)\n",
        "# plt.plot(y_test)\n",
        "\n",
        "# print(mean_squared_error(pred, y_test)**0.5)"
      ],
      "execution_count": 0,
      "outputs": []
    },
    {
      "cell_type": "code",
      "metadata": {
        "id": "wMxE60xucMlv",
        "colab_type": "code",
        "colab": {}
      },
      "source": [
        "# print(((-1)*cross)**0.5)"
      ],
      "execution_count": 0,
      "outputs": []
    }
  ]
}