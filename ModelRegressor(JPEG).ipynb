{
  "nbformat": 4,
  "nbformat_minor": 0,
  "metadata": {
    "colab": {
      "name": "ModelRegressor(JPEG).ipynb",
      "version": "0.3.2",
      "provenance": [],
      "collapsed_sections": [],
      "include_colab_link": true
    },
    "kernelspec": {
      "name": "python3",
      "display_name": "Python 3"
    },
    "accelerator": "GPU"
  },
  "cells": [
    {
      "cell_type": "markdown",
      "metadata": {
        "id": "view-in-github",
        "colab_type": "text"
      },
      "source": [
        "<a href=\"https://colab.research.google.com/github/harshitadd/Celestini/blob/master/ModelRegressor(JPEG).ipynb\" target=\"_parent\"><img src=\"https://colab.research.google.com/assets/colab-badge.svg\" alt=\"Open In Colab\"/></a>"
      ]
    },
    {
      "cell_type": "markdown",
      "metadata": {
        "id": "x9GNzhfL8Pth",
        "colab_type": "text"
      },
      "source": [
        ""
      ]
    },
    {
      "cell_type": "code",
      "metadata": {
        "id": "Y0iXkkesy1DG",
        "colab_type": "code",
        "colab": {}
      },
      "source": [
        "!pip install firebase-admin\n",
        "from google.colab import drive \n",
        "drive.mount('/content/drive')\n",
        "import firebase_admin\n",
        "import cv2 \n",
        "from firebase_admin import credentials,db \n",
        "from google.colab.patches import cv2_imshow\n",
        "from sklearn.externals import joblib \n",
        "from firebase_admin import storage \n",
        "import pandas as pd \n",
        "import csv \n",
        "import json\n",
        "import pickle\n",
        "import numpy as np\n",
        "import math\n",
        "import matplotlib.pyplot as plt\n",
        "from sklearn.preprocessing import MinMaxScaler\n",
        "from sklearn.model_selection import train_test_split,cross_val_predict, cross_val_score\n",
        "from sklearn.metrics import mean_squared_error\n",
        "from sklearn.linear_model import LinearRegression \n",
        "from sklearn.ensemble import RandomForestRegressor"
      ],
      "execution_count": 0,
      "outputs": []
    },
    {
      "cell_type": "code",
      "metadata": {
        "id": "oqOvmLSwzyQw",
        "colab_type": "code",
        "colab": {}
      },
      "source": [
        "cred = credentials.Certificate(\"credentials.json\")\n",
        "\n",
        "# Initialize the app with a service account, granting admin privileges\n",
        "app = firebase_admin.initialize_app(cred, {\n",
        "    'storageBucket': 'fir-4ca2c.appspot.com',\n",
        "}, name='images_old')"
      ],
      "execution_count": 0,
      "outputs": []
    },
    {
      "cell_type": "markdown",
      "metadata": {
        "id": "GIsZJu3Wesj4",
        "colab_type": "text"
      },
      "source": [
        "IMAGE GENERATION "
      ]
    },
    {
      "cell_type": "code",
      "metadata": {
        "id": "nb5tec571jfO",
        "colab_type": "code",
        "colab": {}
      },
      "source": [
        "##GETTING NAMES  -- ##Location - SSCB and DTU : Rotated images  \n",
        "\n",
        "bucket = storage.bucket(app=app)\n",
        "blobs = bucket.list_blobs()\n",
        "\n",
        "#blobs is an interator :google.api_core.page_iterator.HTTPIterator object at 0x7f2cd11c84e0>\n",
        "\n",
        "imglenovo = [] #has all the lenovo images by their name \n",
        "ctr=0\n",
        "mits = set()\n",
        "for blob in blobs:\n",
        "  if blob.name[7:16]==\"lenovoinS\" :\n",
        "    if int(blob.name[-8:-6])<19 and int(blob.name[-8:-6])>5:\n",
        "      blob.download_to_filename('/content/' + \"lenovo\" + str(blob.name.split('/')[-1])+ '.jpeg')\n",
        "      imglenovo.append(\"lenovo\" + str(blob.name.split('/')[-1])+ '.jpeg') \n",
        "      #print(\"lenovo\" + str(blob.name.split('/')[-1])+ '.jpeg')\n",
        "      ctr+=1\n",
        "      print(ctr)\n",
        "      \n",
        "    "
      ],
      "execution_count": 0,
      "outputs": []
    },
    {
      "cell_type": "code",
      "metadata": {
        "id": "yGsY3dWi6sgE",
        "colab_type": "code",
        "colab": {}
      },
      "source": [
        "##READING THEM \n",
        "\n",
        "dtu=[]\n",
        "sscb=[]\n",
        "for img in imglenovo:\n",
        "  if(img[11:16]>'07-02'):##These indicate the DTU Images - which need to be cropped and rotated \n",
        "    l=[]\n",
        "    l.append(img)\n",
        "    im = cv2.imread(img)\n",
        "    crop = im[700:3150, 0:3120]\n",
        "    crop = cv2.resize(crop, (int(np.shape(im)[1]*0.1), int(np.shape(im)[0]*0.1)))\n",
        "    im = cv2.resize(crop,(256,256))\n",
        "    im = cv2.rotate(im,rotateCode =cv2.ROTATE_90_COUNTERCLOCKWISE)\n",
        "    l.append(im)\n",
        "    dtu.append(l)\n",
        "  else:\n",
        "    l=[]\n",
        "    l.append(img)\n",
        "    im = cv2.imread(img)           ##These indicate the SSCB Images - rotation only \n",
        "    im = cv2.resize(im, (256,256))\n",
        "    im = cv2.rotate(im,rotateCode =cv2.ROTATE_90_CLOCKWISE)\n",
        "    l.append(im)\n",
        "    sscb.append(l)\n",
        "    \n",
        "    \n",
        "    "
      ],
      "execution_count": 0,
      "outputs": []
    },
    {
      "cell_type": "code",
      "metadata": {
        "id": "eitKE9Vs27qu",
        "colab_type": "code",
        "colab": {}
      },
      "source": [
        "## CHECKING BLOCK \n",
        "\n",
        "print(len(dtu))\n",
        "print(len(sscb))\n"
      ],
      "execution_count": 0,
      "outputs": []
    },
    {
      "cell_type": "code",
      "metadata": {
        "id": "2l-4Btpf9Jl-",
        "colab_type": "code",
        "colab": {}
      },
      "source": [
        "##GETTING NAMES - PUNJABI BAGH \n",
        "\n",
        "bucket = storage.bucket(app=app)\n",
        "blobs = bucket.list_blobs()\n",
        "count=0\n",
        "imgpb = [] #has all the minote pictures by their name \n",
        "ctr=0\n",
        "mits = set()\n",
        "for blob in blobs:  \n",
        "  if blob.name.split('/')[1]==\"rivers.jpg\" :\n",
        "    ctr+=1\n",
        "    if int(blob.name[-8:-6])<19 and int(blob.name[-8:-6])>5 and ctr%3==0:\n",
        "        blob.download_to_filename('/content/' + \"pb\" + str(blob.name.split('/')[-1])+ '.jpeg')\n",
        "        imgpb.append(\"pb\" + str(blob.name.split('/')[-1])+ '.jpeg') \n",
        "        #print(\"pb\" + str(blob.name.split('/')[-1])+ '.jpeg')\n",
        "        count=ctr\n",
        "        print(count)"
      ],
      "execution_count": 0,
      "outputs": []
    },
    {
      "cell_type": "code",
      "metadata": {
        "id": "Ie52XTD5wgKj",
        "colab_type": "code",
        "colab": {}
      },
      "source": [
        "print(len(imgpb))"
      ],
      "execution_count": 0,
      "outputs": []
    },
    {
      "cell_type": "code",
      "metadata": {
        "id": "Z5nyBCSA5h3K",
        "colab_type": "code",
        "colab": {}
      },
      "source": [
        "##READING IMAGES - Rotated\n",
        "\n",
        "pb=[]\n",
        "for img in imgpb:\n",
        "  l=[]\n",
        "  l.append(img)\n",
        "  im = cv2.imread(img)\n",
        "  im = cv2.resize(im, (256,256))\n",
        "  im = cv2.rotate(im,rotateCode =cv2.ROTATE_90_CLOCKWISE)\n",
        "  l.append(im)\n",
        "  pb.append(l)\n"
      ],
      "execution_count": 0,
      "outputs": []
    },
    {
      "cell_type": "code",
      "metadata": {
        "id": "w4c6N8N9MMuM",
        "colab_type": "code",
        "colab": {}
      },
      "source": [
        "##GETTING NAMES - Location : DTU AND SHADIPUR \n",
        "\n",
        "bucket = storage.bucket(app=app)\n",
        "blobs = bucket.list_blobs()\n",
        "\n",
        "imgminote = [] #has all the minote pictures by their name \n",
        "ctr=0\n",
        "mits = set()\n",
        "for blob in blobs:\n",
        "  if blob.name[7:16]==\"minoteSSC\" :\n",
        "    if int(blob.name[-8:-6])<19 and int(blob.name[-8:-6])>5:\n",
        "        blob.download_to_filename('/content/' + \"minote\" + str(blob.name.split('/')[-1])+ '.jpeg')\n",
        "        imgminote.append(\"minote\" + str(blob.name.split('/')[-1])+ '.jpeg') \n",
        "        #print(\"minote\" + str(blob.name.split('/')[-1])+ '.jpeg')\n",
        "        ctr+=1\n",
        "        print(ctr)\n",
        "      \n"
      ],
      "execution_count": 0,
      "outputs": []
    },
    {
      "cell_type": "code",
      "metadata": {
        "id": "FTDORaRQMyHx",
        "colab_type": "code",
        "colab": {}
      },
      "source": [
        "##READING IMAGES - Location - SSCB and SHADIPUR ; Rotation \n",
        "shadipur = []\n",
        "for img in imgminote : \n",
        "  if(img[11:16]>'07-05'):  ##Shadipur images needed rotating  \n",
        "    l=[]\n",
        "    l.append(img)\n",
        "    im = cv2.imread(img)\n",
        "    im = cv2.resize(im, (256,256))\n",
        "    im = cv2.rotate(im, rotateCode = cv2.ROTATE_90_COUNTERCLOCKWISE)\n",
        "    l.append(im)\n",
        "    shadipur.append(l)\n",
        "  else:\n",
        "    l=[]\n",
        "    l.append(img)\n",
        "    im = cv2.imread(img)               ##SSCB images did not need any rotating \n",
        "    im = cv2.resize(im, (256,256))\n",
        "    l.append(im)\n",
        "    sscb.append(l)\n",
        "    "
      ],
      "execution_count": 0,
      "outputs": []
    },
    {
      "cell_type": "code",
      "metadata": {
        "id": "7BDx9S9AJi3j",
        "colab_type": "code",
        "colab": {}
      },
      "source": [
        "print(len(shadipur))\n",
        "print(len(sscb))"
      ],
      "execution_count": 0,
      "outputs": []
    },
    {
      "cell_type": "code",
      "metadata": {
        "id": "r09m2_TnuJup",
        "colab_type": "code",
        "colab": {}
      },
      "source": [
        "\n",
        "\n",
        "bucket = storage.bucket(app=app)\n",
        "blobs = bucket.list_blobs()\n",
        "\n",
        "#blobs is an interator :google.api_core.page_iterator.HTTPIterator object at 0x7f2cd11c84e0>\n",
        "\n",
        "imgito = [] #has all the lenovo images by their name \n",
        "ctr=0\n",
        "mits = set()\n",
        "for blob in blobs:\n",
        "  if blob.name[7:17]==\"Lenovo.JPG\" :\n",
        "    if int(blob.name[-8:-6])<19 and int(blob.name[-8:-6])>5:\n",
        "      blob.download_to_filename('/content/' + \"ito\" + str(blob.name.split('/')[-1])+ '.jpeg')\n",
        "      imgito.append(\"ito\" + str(blob.name.split('/')[-1])+ '.jpeg') \n",
        "      #print(\"ito\" + str(blob.name.split('/')[-1])+ '.jpeg')\n",
        "      ctr+=1\n",
        "      print(ctr)\n"
      ],
      "execution_count": 0,
      "outputs": []
    },
    {
      "cell_type": "code",
      "metadata": {
        "id": "45qtbzVHV_ha",
        "colab_type": "code",
        "colab": {}
      },
      "source": [
        "##READING BLOCK \n",
        "\n",
        "ito=[]\n",
        "count=0\n",
        "\n",
        "for img in imgito:\n",
        "  l=[]\n",
        "  count+=1\n",
        "  if(count%2==0):\n",
        "    l.append(img)\n",
        "    im = cv2.imread(img)\n",
        "    im = cv2.resize(im,(256,256))\n",
        "    im = cv2.rotate(im, rotateCode = cv2.ROTATE_90_COUNTERCLOCKWISE)\n",
        "    l.append(im)\n",
        "    ito.append(l)\n"
      ],
      "execution_count": 0,
      "outputs": []
    },
    {
      "cell_type": "code",
      "metadata": {
        "id": "UtQR_lX9f89N",
        "colab_type": "code",
        "colab": {}
      },
      "source": [
        "## Concatenating Shanghai's data \n",
        "# import os\n",
        "\n",
        "\n",
        "# shanghai={}\n",
        "# ctr=0\n",
        "# source = os.listdir('/content/')\n",
        "\n",
        "\n",
        "# k=0\n",
        "# for file in source:\n",
        "#   k+=1\n",
        "#   if(file[:4]=='2014' and k%10==0):\n",
        "#     im = cv2.imread('/content/' + file)\n",
        "#     im = cv2.resize(im,(256,256))\n",
        "#     l=[]\n",
        "#     l.append(file[8:10])\n",
        "#     imc = cv2.resize(im,(32,32))\n",
        "#     #l.append(np.ndarray.flatten(transmission(imc)))\n",
        "#     l.append(entropy(im))\n",
        "#     l.append(contrast(im))\n",
        "#     l.append(trans_deg(imc))\n",
        "#     shanghai[file]=l\n",
        "#     print(k)\n",
        "    \n",
        "   \n"
      ],
      "execution_count": 0,
      "outputs": []
    },
    {
      "cell_type": "code",
      "metadata": {
        "id": "9n-O49FfewpL",
        "colab_type": "code",
        "outputId": "66534436-d405-494c-facb-d1f4c2e68f2f",
        "colab": {
          "base_uri": "https://localhost:8080/",
          "height": 103
        }
      },
      "source": [
        "\n",
        "print(np.shape(sscb))    \n",
        "print(np.shape(ito))      \n",
        "print(np.shape(dtu))  \n",
        "print(np.shape(shadipur))     \n",
        "print(np.shape(pb))   \n",
        "#print(shanghai.keys())\n"
      ],
      "execution_count": 0,
      "outputs": [
        {
          "output_type": "stream",
          "text": [
            "(1320, 2)\n",
            "(249, 2)\n",
            "(369, 2)\n",
            "(244, 2)\n",
            "(161, 2)\n"
          ],
          "name": "stdout"
        }
      ]
    },
    {
      "cell_type": "code",
      "metadata": {
        "id": "gdaN8E-mwcy9",
        "colab_type": "code",
        "colab": {}
      },
      "source": [
        "cred = credentials.Certificate('/content/credentials_new.json')\n",
        "\n",
        "##  only take the part from where the actual name starts\n",
        "app = firebase_admin.initialize_app(cred, {\n",
        "    'storageBucket': 'location-5f194.appspot.com',\n",
        "}, name='images_diff')"
      ],
      "execution_count": 0,
      "outputs": []
    },
    {
      "cell_type": "code",
      "metadata": {
        "id": "Vp6nZN9hy1Y5",
        "colab_type": "code",
        "colab": {}
      },
      "source": [
        "## Reading the different locations images -- This includes \n",
        "\n",
        "s7_jpeg=[]\n",
        "note4_jpeg=[]\n",
        "minote_jpeg=[]\n",
        "PatelNagarMi_jpeg=[]\n",
        "gurgaonNote4_jpeg=[]\n",
        "\n",
        "\n",
        "bucket = storage.bucket(app = app)\n",
        "blobs = bucket.list_blobs()\n",
        "ctr=0\n",
        "\n",
        "\n",
        "## Reading all the LDR images \n",
        "for blob in blobs:\n",
        "  if('s7' in blob.name and 'jpeg' in blob.name and int(blob.name[-8:-6])<19 and int(blob.name[-8:-6])>5):\n",
        "      blob.download_to_filename('/content/' + \"s7_jpeg\" + str(blob.name.split('/')[-1])+ '.jpeg')\n",
        "      name = \"s7_jpeg\" + str(blob.name.split('/')[-1])+ '.jpeg' \n",
        "      ctr+=1\n",
        "      im = cv2.imread(name)\n",
        "      im = cv2.resize(im,(256,256))\n",
        "      l=[]\n",
        "      l.append(name)\n",
        "      l.append(im)\n",
        "      s7_jpeg.append(l) \n",
        "      print(name)\n",
        "  if('note4' in blob.name and 'jpeg' in blob.name and int(blob.name[-8:-6])<19 and int(blob.name[-8:-6])>5):\n",
        "      blob.download_to_filename('/content/' + \"note4_jpeg\" + str(blob.name.split('/')[-1])+ '.jpeg')\n",
        "      name = \"note4_jpeg\" + str(blob.name.split('/')[-1])+ '.jpeg' \n",
        "      ctr+=1\n",
        "      im = cv2.imread(name)\n",
        "      im = cv2.resize(im,(256,256))\n",
        "      l=[]\n",
        "      l.append(name)\n",
        "      l.append(im)\n",
        "      note4_jpeg.append(l)\n",
        "      print(name)\n",
        "  if('minote' in blob.name and 'jpeg' in blob.name and int(blob.name[-8:-6])<19 and int(blob.name[-8:-6])>5):\n",
        "      blob.download_to_filename('/content/' + \"minote_jpeg\" + str(blob.name.split('/')[-1])+ '.jpeg')\n",
        "      name = \"minote_jpeg\" + str(blob.name.split('/')[-1])+ '.jpeg' \n",
        "      ctr+=1\n",
        "      im = cv2.imread(name)\n",
        "      im = cv2.resize(im,(256,256))\n",
        "      l=[]\n",
        "      l.append(name)\n",
        "      l.append(im)\n",
        "      minote_jpeg.append(l)\n",
        "      print(name)\n",
        "  if('PatelNagarMi' in blob.name and 'jpeg' in blob.name and int(blob.name[-8:-6])<19 and int(blob.name[-8:-6])>5):\n",
        "      blob.download_to_filename('/content/' + \"PatelNagarMi_jpeg\" + str(blob.name.split('/')[-1])+ '.jpeg')\n",
        "      name = \"PatelNagarMi_jpeg\" + str(blob.name.split('/')[-1])+ '.jpeg' \n",
        "      ctr+=1\n",
        "      im = cv2.imread(name)\n",
        "      im = cv2.resize(im,(256,256))\n",
        "      l=[]\n",
        "      l.append(name)\n",
        "      l.append(im)\n",
        "      PatelNagarMi_jpeg.append(l)\n",
        "      print(name)\n",
        "  if('gurgaonNote4' in blob.name and 'jpeg' in blob.name and int(blob.name[-8:-6])<19 and int(blob.name[-8:-6])>5):\n",
        "      blob.download_to_filename('/content/' + \"gurgaonNote4_jpeg\" + str(blob.name.split('/')[-1])+ '.jpeg')\n",
        "      name = \"gurgaonNote4_jpeg\" + str(blob.name.split('/')[-1])+ '.jpeg' \n",
        "      ctr+=1\n",
        "      im = cv2.imread(name)\n",
        "      im = cv2.resize(im,(256,256))\n",
        "      l=[]\n",
        "      l.append(name)\n",
        "      l.append(im)\n",
        "      gurgaonNote4_jpeg.append(l)\n",
        "      print(name)\n"
      ],
      "execution_count": 0,
      "outputs": []
    },
    {
      "cell_type": "code",
      "metadata": {
        "id": "5QbpqC3t1P2W",
        "colab_type": "code",
        "outputId": "a88ff93f-c378-471b-ce40-8a80feac4f89",
        "colab": {
          "base_uri": "https://localhost:8080/",
          "height": 103
        }
      },
      "source": [
        "\n",
        "print(len(s7_jpeg))\n",
        "print(len(note4_jpeg))\n",
        "print(len(minote_jpeg))\n",
        "print(len(PatelNagarMi_jpeg))\n",
        "print(len(gurgaonNote4_jpeg))"
      ],
      "execution_count": 0,
      "outputs": [
        {
          "output_type": "stream",
          "text": [
            "94\n",
            "30\n",
            "80\n",
            "376\n",
            "184\n"
          ],
          "name": "stdout"
        }
      ]
    },
    {
      "cell_type": "markdown",
      "metadata": {
        "id": "ptqlPGjpBGcZ",
        "colab_type": "text"
      },
      "source": [
        "LABEL PROCESSING "
      ]
    },
    {
      "cell_type": "code",
      "metadata": {
        "id": "G9dZWeJkyceb",
        "colab_type": "code",
        "colab": {}
      },
      "source": [
        "with open('/content/labels_latestcorrectpakka.bin','rb') as file:\n",
        "  data = pickle.load(file)"
      ],
      "execution_count": 0,
      "outputs": []
    },
    {
      "cell_type": "code",
      "metadata": {
        "id": "VU_ob0CJydXF",
        "colab_type": "code",
        "outputId": "6b1a9f90-1dff-4e51-ab79-c1e5270c0fb1",
        "colab": {
          "base_uri": "https://localhost:8080/",
          "height": 233
        }
      },
      "source": [
        "l_s7_jpeg=data['s7_jpeg']\n",
        "l_note4_jpeg=data['note4_jpeg']\n",
        "l_minote_jpeg=data['minote_jpeg']\n",
        "l_PatelNagarMi_jpeg=data['PatelNagarMi_jpeg']\n",
        "l_gurgaonNote4_jpeg=data['gurgaonNote4_jpeg']"
      ],
      "execution_count": 0,
      "outputs": [
        {
          "output_type": "error",
          "ename": "KeyError",
          "evalue": "ignored",
          "traceback": [
            "\u001b[0;31m---------------------------------------------------------------------------\u001b[0m",
            "\u001b[0;31mKeyError\u001b[0m                                  Traceback (most recent call last)",
            "\u001b[0;32m<ipython-input-153-3971cd1f1bef>\u001b[0m in \u001b[0;36m<module>\u001b[0;34m()\u001b[0m\n\u001b[0;32m----> 1\u001b[0;31m \u001b[0ml_s7_jpeg\u001b[0m\u001b[0;34m=\u001b[0m\u001b[0mdata\u001b[0m\u001b[0;34m[\u001b[0m\u001b[0;34m's7_jpeg'\u001b[0m\u001b[0;34m]\u001b[0m\u001b[0;34m\u001b[0m\u001b[0;34m\u001b[0m\u001b[0m\n\u001b[0m\u001b[1;32m      2\u001b[0m \u001b[0ml_note4_jpeg\u001b[0m\u001b[0;34m=\u001b[0m\u001b[0mdata\u001b[0m\u001b[0;34m[\u001b[0m\u001b[0;34m'note4_jpeg'\u001b[0m\u001b[0;34m]\u001b[0m\u001b[0;34m\u001b[0m\u001b[0;34m\u001b[0m\u001b[0m\n\u001b[1;32m      3\u001b[0m \u001b[0ml_minote_jpeg\u001b[0m\u001b[0;34m=\u001b[0m\u001b[0mdata\u001b[0m\u001b[0;34m[\u001b[0m\u001b[0;34m'minote_jpeg'\u001b[0m\u001b[0;34m]\u001b[0m\u001b[0;34m\u001b[0m\u001b[0;34m\u001b[0m\u001b[0m\n\u001b[1;32m      4\u001b[0m \u001b[0ml_PatelNagarMi_jpeg\u001b[0m\u001b[0;34m=\u001b[0m\u001b[0mdata\u001b[0m\u001b[0;34m[\u001b[0m\u001b[0;34m'PatelNagarMi_jpeg'\u001b[0m\u001b[0;34m]\u001b[0m\u001b[0;34m\u001b[0m\u001b[0;34m\u001b[0m\u001b[0m\n\u001b[1;32m      5\u001b[0m \u001b[0ml_gurgaonNote4_jpeg\u001b[0m\u001b[0;34m=\u001b[0m\u001b[0mdata\u001b[0m\u001b[0;34m[\u001b[0m\u001b[0;34m'gurgaonNote4_jpeg'\u001b[0m\u001b[0;34m]\u001b[0m\u001b[0;34m\u001b[0m\u001b[0;34m\u001b[0m\u001b[0m\n",
            "\u001b[0;31mKeyError\u001b[0m: 's7_jpeg'"
          ]
        }
      ]
    },
    {
      "cell_type": "code",
      "metadata": {
        "id": "vQaMAoH-0wPm",
        "colab_type": "code",
        "colab": {}
      },
      "source": [
        "feat=[]\n",
        "\n",
        "for img in s7_jpeg:\n",
        "  #print(img[0][7:])\n",
        "  for l  in l_s7_jpeg:\n",
        "    #print(l[0])\n",
        "    if(img[0][7:] == l[0]):\n",
        "      print('s7')\n",
        "      t=[]\n",
        "      im = img[1]\n",
        "      t.append(l[0])\n",
        "      t.append(entropy(im))\n",
        "      t.append(contrast(im))\n",
        "      t.append(trans_deg(img[1]))\n",
        "      t.append(l[1])\n",
        "      feat.append(t)\n",
        "\n",
        "for img in note4_jpeg:\n",
        "  #print(img[0][10:])\n",
        "  for l in l_note4_jpeg:\n",
        "    #print(l[0])\n",
        "    if(img[0][10:] == l[0]):\n",
        "      print('note4')\n",
        "      t=[]\n",
        "      im = img[1]\n",
        "      t.append(l[0])\n",
        "      t.append(entropy(im))\n",
        "      t.append(contrast(im))\n",
        "      t.append(trans_deg(img[1]))\n",
        "      t.append(l[1])\n",
        "      feat.append(t) \n",
        "  \n",
        "for img in minote_jpeg:  \n",
        "  for l in l_minote_jpeg:\n",
        "    if(img[0][11:] == l[0]):\n",
        "      print('minote')\n",
        "      t=[]\n",
        "      im = img[1]\n",
        "      t.append(l[0])\n",
        "      t.append(entropy(im))\n",
        "      t.append(contrast(im))\n",
        "      t.append(trans_deg(img[1]))\n",
        "      t.append(l[1])\n",
        "      feat.append(t)\n",
        "\n",
        "for img in PatelNagarMi_jpeg:\n",
        "  #print(img[0][17:])\n",
        "  for l  in l_PatelNagarMi_jpeg:\n",
        "    #print(l[0])\n",
        "    if(img[0][17:] == l[0]):\n",
        "      print('PatelNagar')\n",
        "      t=[]\n",
        "      im = img[1]\n",
        "      t.append(l[0])\n",
        "      t.append(entropy(im))\n",
        "      t.append(contrast(im))\n",
        "      t.append(trans_deg(img[1]))\n",
        "      t.append(l[1])\n",
        "      feat.append(t) \n",
        "\n",
        "for img in gurgaonNote4_jpeg:\n",
        "  #print(img[0][17:])\n",
        "  for l  in l_gurgaonNote4_jpeg:\n",
        "    #print(l[0])\n",
        "    if(img[0][17:] == l[0]):\n",
        "      print('Gurgaon')\n",
        "      t=[]\n",
        "      im = img[1]\n",
        "      t.append(l[0])\n",
        "      t.append(entropy(im))\n",
        "      t.append(contrast(im))\n",
        "      t.append(trans_deg(img[1]))\n",
        "      t.append(l[1])\n",
        "      feat.append(t) \n",
        "    \n"
      ],
      "execution_count": 0,
      "outputs": []
    },
    {
      "cell_type": "code",
      "metadata": {
        "id": "cXaiaOMy-O60",
        "colab_type": "code",
        "outputId": "0cf7b5ef-32cb-4a4b-e97f-9ac79afb1e74",
        "colab": {
          "base_uri": "https://localhost:8080/",
          "height": 54
        }
      },
      "source": [
        "print(feat)"
      ],
      "execution_count": 0,
      "outputs": [
        {
          "output_type": "stream",
          "text": [
            "[['2019-07-28 10:41:44.jpeg', 18.30630111694336, 13.988058316798687, 1, 47], ['2019-07-28 10:43:12.jpeg', 17.759958267211914, 13.011225805526196, 1, 47], ['2019-07-28 11:33:35.jpeg', 38.76405715942383, 72.93656036709747, 1, 47], ['2019-07-28 13:05:03.jpeg', 29.211015701293945, 35.950088737028686, 3, 47], ['2019-07-28 15:35:39.jpeg', 39.25362014770508, 77.1516869870556, 2, 64], ['2019-07-28 15:35:53.jpeg', 46.11984634399414, 83.68864852792969, 1, 64], ['2019-07-28 15:35:59.jpeg', 44.386722564697266, 82.21006548149384, 1, 64], ['2019-07-28 16:04:13.jpeg', 46.05776596069336, 62.01478424259648, 2, 75], ['2019-07-28 16:04:31.jpeg', 53.52329635620117, 67.14272841626783, 2, 75], ['2019-07-28 16:05:35.jpeg', 57.449180603027344, 74.12818517502174, 2, 75], ['2019-07-28 16:05:48.jpeg', 47.027408599853516, 67.38486811854757, 2, 75], ['2019-07-28 16:05:50.jpeg', 48.67979431152344, 65.97570667218355, 2, 75], ['2019-07-28 16:38:45.jpeg', 44.30538558959961, 75.54896815012775, 2, 81], ['2019-07-28 16:39:00.jpeg', 49.310577392578125, 69.05298319315762, 2, 81], ['2019-07-28 16:39:01.jpeg', 50.211490631103516, 69.09546901092793, 2, 81], ['2019-07-28 16:39:02.jpeg', 47.73347854614258, 68.29873703177716, 2, 81], ['2019-07-28 16:39:03.jpeg', 48.74065017700195, 68.06814892588854, 2, 81], ['2019-07-28 16:39:23.jpeg', 44.01187515258789, 80.22990139899747, 1, 81], ['2019-07-29 10:50:16.jpeg', 29.10783576965332, 33.741715174584364, 2, 38], ['2019-07-29 11:50:44.jpeg', 45.5201416015625, 85.75180721332315, 1, 38], ['2019-07-29 12:03:33.jpeg', 53.77639389038086, 55.95772904521862, 2, 35], ['2019-07-29 12:23:39.jpeg', 50.44172668457031, 73.83635026282768, 1, 44], ['2019-07-29 12:28:02.jpeg', 51.36069869995117, 77.35840756618462, 1, 29], ['2019-07-29 12:37:45.jpeg', 39.93488693237305, 89.23249505069754, 1, 38], ['2019-07-29 12:39:19.jpeg', 43.43080520629883, 78.45904241542834, 1, 41], ['2019-07-29 12:55:30.jpeg', 49.07674026489258, 73.41751515775313, 2, 50], ['2019-07-29 12:55:52.jpeg', 46.269866943359375, 72.2380210411711, 2, 47], ['2019-07-29 13:15:42.jpeg', 46.738136291503906, 82.15827808577916, 1, 38], ['2019-07-29 13:15:57.jpeg', 35.55320739746094, 78.07730609626857, 2, 38], ['2019-07-29 13:16:26.jpeg', 35.18395233154297, 76.55939729446703, 2, 32], ['2019-07-29 13:16:44.jpeg', 47.48016357421875, 78.16147869243694, 1, 32], ['2019-07-29 13:24:41.jpeg', 52.094398498535156, 78.75348852762124, 2, 38], ['2019-07-29 13:33:18.jpeg', 44.09960174560547, 68.09487522112238, 2, 56], ['2019-07-29 13:33:37.jpeg', 44.687400817871094, 64.23127286150903, 2, 53], ['2019-07-29 13:42:19.jpeg', 45.898529052734375, 57.610828284312376, 2, 47], ['2019-07-29 13:55:58.jpeg', 12.57230281829834, 93.6343407580949, 3, 35], ['2019-07-29 14:00:05.jpeg', 42.62632369995117, 84.64719535785886, 1, 60], ['2019-07-29 14:00:58.jpeg', 45.92339324951172, 86.11943668470488, 1, 41], ['2019-07-29 14:01:18.jpeg', 34.580360412597656, 74.37862972975603, 1, 44], ['2019-07-29 14:14:27.jpeg', 46.30495071411133, 58.16027927685915, 2, 64], ['2019-07-29 14:14:52.jpeg', 42.26688003540039, 39.11272312586041, 2, 63], ['2019-07-29 14:19:13.jpeg', 44.963741302490234, 62.45755026033544, 2, 38], ['2019-07-29 14:19:32.jpeg', 48.9262580871582, 60.54260350918501, 2, 35], ['2019-07-29 14:19:51.jpeg', 51.618309020996094, 69.5303061368119, 2, 35], ['2019-07-29 14:25:20.jpeg', 47.5596809387207, 66.22423294205207, 2, 29], ['2019-07-29 14:25:45.jpeg', 46.43819808959961, 67.0570166899927, 1, 23], ['2019-07-29 14:33:51.jpeg', 39.59543228149414, 64.09507574324691, 2, 32], ['2019-07-29 14:34:08.jpeg', 43.78755187988281, 71.43257498690686, 1, 32], ['2019-07-29 14:34:38.jpeg', 50.878360748291016, 74.7638436032912, 2, 29], ['2019-07-29 14:44:08.jpeg', 49.651939392089844, 70.55102555766494, 2, 26], ['2019-07-29 14:52:49.jpeg', 49.18357467651367, 80.13455109755783, 1, 32], ['2019-07-29 15:01:25.jpeg', 46.812034606933594, 66.6378437954142, 2, 29], ['2019-07-29 15:01:51.jpeg', 47.070186614990234, 82.97074343015584, 1, 29], ['2019-07-29 15:02:29.jpeg', 41.53636932373047, 54.62083399918413, 2, 29], ['2019-07-29 15:09:41.jpeg', 14.293498992919922, 87.38880594586014, 3, 26], ['2019-07-29 15:09:58.jpeg', 52.32029342651367, 74.15845110948155, 1, 29], ['2019-07-29 15:10:23.jpeg', 14.855027198791504, 90.89258805038894, 3, 29], ['2019-07-29 15:18:20.jpeg', 47.011932373046875, 49.794147668164, 1, 23], ['2019-07-29 15:18:47.jpeg', 44.34765625, 76.10909484157345, 1, 23], ['2019-07-29 15:34:25.jpeg', 46.656890869140625, 44.36354599564673, 2, 14], ['2019-07-29 15:34:56.jpeg', 49.73848342895508, 60.14096423073931, 2, 17], ['2019-07-29 15:43:33.jpeg', 49.59410095214844, 56.65862506353603, 2, 17], ['2019-07-30 08:42:45.jpeg', 38.87611770629883, 57.084216810208346, 2, 38], ['2019-07-30 08:43:07.jpeg', 28.204431533813477, 76.21565796233436, 2, 38], ['2019-07-30 08:58:32.jpeg', 45.63040542602539, 80.2951764371772, 1, 41], ['2019-07-30 08:58:44.jpeg', 36.8070068359375, 87.49057693303543, 1, 41], ['2019-07-30 09:13:45.jpeg', 44.19481658935547, 61.49388288713605, 2, 38], ['2019-07-30 09:14:03.jpeg', 46.08799362182617, 54.66185478032814, 2, 38], ['2019-07-30 09:14:25.jpeg', 48.55440902709961, 58.253300023697136, 2, 38], ['2019-07-30 09:30:04.jpeg', 46.19702911376953, 60.55422519036091, 2, 63], ['2019-07-30 09:36:26.jpeg', 29.743587493896484, 72.78532621472372, 3, 44], ['2019-07-30 09:36:41.jpeg', 44.409393310546875, 60.55904523639603, 2, 44], ['2019-07-30 09:37:00.jpeg', 42.65745544433594, 55.591835818290306, 2, 41], ['2019-07-30 09:37:06.jpeg', 42.87989044189453, 55.14766689651706, 2, 41], ['2019-07-30 09:49:09.jpeg', 43.189353942871094, 72.11097086404, 2, 56], ['2019-07-30 09:49:16.jpeg', 34.664573669433594, 71.54779449300638, 2, 56], ['2019-07-30 09:58:30.jpeg', 31.333606719970703, 78.96276273119436, 1, 32], ['2019-07-30 09:58:42.jpeg', 33.99447250366211, 88.36454742023807, 1, 32], ['2019-07-30 09:58:53.jpeg', 33.69638442993164, 87.57120150128884, 1, 32], ['2019-08-01 13:33:06.jpeg', 41.16373062133789, 84.97379327081008, 1, 94], ['2019-08-01 13:38:25.jpeg', 37.19266128540039, 84.29428195798863, 2, 94], ['2019-08-01 13:45:56.jpeg', 35.672813415527344, 68.62644748097462, 2, 87], ['2019-08-01 13:49:42.jpeg', 36.07591247558594, 73.80779027074388, 2, 97], ['2019-08-01 13:53:59.jpeg', 34.726348876953125, 70.8012620807352, 2, 88], ['2019-08-01 13:54:28.jpeg', 36.204280853271484, 72.45206525405163, 2, 93], ['2019-08-01 13:57:29.jpeg', 34.991024017333984, 91.0793240769153, 2, 82], ['2019-08-01 14:02:58.jpeg', 41.030059814453125, 69.54990831461586, 2, 81], ['2019-08-01 14:05:19.jpeg', 39.952335357666016, 72.92474089150691, 3, 75], ['2019-08-01 14:06:18.jpeg', 40.242454528808594, 72.43873636048119, 2, 76], ['2019-08-01 14:10:38.jpeg', 39.96603775024414, 73.29646955727829, 2, 84], ['2019-08-01 14:12:07.jpeg', 42.43675231933594, 72.8930553141883, 2, 78], ['2019-08-01 14:16:12.jpeg', 37.81515121459961, 73.20519941762274, 2, 78], ['2019-08-01 14:26:55.jpeg', 35.86686706542969, 80.43788143311353, 2, 73], ['2019-08-01 14:27:45.jpeg', 40.96156692504883, 68.08229936560289, 2, 75], ['2019-07-28 14:46:27.jpeg', 46.79872131347656, 70.9425850809023, 2, 66], ['2019-07-28 14:47:17.jpeg', 50.131858825683594, 56.54802875887954, 2, 63], ['2019-07-28 15:38:26.jpeg', 50.89765930175781, 77.83437907861625, 1, 66], ['2019-07-28 16:00:43.jpeg', 44.548179626464844, 50.19067855270029, 2, 72], ['2019-07-28 16:01:30.jpeg', 53.54861068725586, 72.29627983433684, 2, 72], ['2019-07-28 16:02:26.jpeg', 51.20248794555664, 69.50721193850194, 2, 76], ['2019-07-28 16:36:14.jpeg', 48.359519958496094, 70.41111262121515, 1, 81], ['2019-07-28 16:36:41.jpeg', 46.67847442626953, 78.19932476455543, 2, 81], ['2019-07-28 16:37:10.jpeg', 43.33856201171875, 76.35405584112434, 2, 81], ['2019-07-31 18:05:56.jpeg', 30.798250198364258, 64.88812041936754, 1, 96], ['2019-08-01 13:38:38.jpeg', 37.338768005371094, 83.70260418538858, 2, 94], ['2019-08-01 13:45:37.jpeg', 36.338436126708984, 65.61522094481158, 2, 87], ['2019-08-01 13:46:43.jpeg', 42.04503631591797, 57.57970350319679, 2, 97], ['2019-08-01 13:49:06.jpeg', 42.61661148071289, 68.10788737258834, 2, 90], ['2019-08-01 13:49:30.jpeg', 39.54409408569336, 68.14463128557213, 2, 90], ['2019-08-01 13:53:45.jpeg', 37.259246826171875, 74.92238494413104, 2, 88], ['2019-08-01 13:57:38.jpeg', 34.59269332885742, 89.14911034638689, 2, 76], ['2019-08-01 13:58:15.jpeg', 34.4604377746582, 87.08393093298346, 2, 76], ['2019-08-01 14:02:39.jpeg', 41.99032211303711, 63.26658326619818, 2, 81], ['2019-08-01 14:03:00.jpeg', 36.340450286865234, 59.46260969559346, 2, 81], ['2019-08-01 14:04:50.jpeg', 43.92902374267578, 69.50675739477508, 2, 79], ['2019-08-01 14:05:21.jpeg', 42.20547103881836, 61.08576587396635, 2, 75], ['2019-08-01 14:05:59.jpeg', 44.812408447265625, 74.11071348376517, 2, 73], ['2019-08-01 14:10:19.jpeg', 46.62139129638672, 64.86674427492837, 2, 84], ['2019-08-01 14:11:22.jpeg', 43.88300704956055, 68.70361662678422, 2, 79], ['2019-08-01 14:11:42.jpeg', 41.720638275146484, 76.14219222223419, 2, 79], ['2019-08-01 14:16:33.jpeg', 41.486270904541016, 76.40881787083595, 2, 75], ['2019-08-01 14:17:15.jpeg', 47.00477600097656, 75.78102230548909, 2, 76], ['2019-08-01 14:26:09.jpeg', 34.34983825683594, 76.02260662539187, 2, 69], ['2019-08-01 14:27:09.jpeg', 44.98011779785156, 77.01232760305041, 1, 78], ['2019-07-29 12:40:41.jpeg', 47.309329986572266, 58.43328238122404, 2, 73], ['2019-07-29 12:44:20.jpeg', 55.413516998291016, 61.144554626925405, 1, 35], ['2019-07-29 12:44:58.jpeg', 50.38136291503906, 74.48979786612759, 1, 26], ['2019-07-29 12:45:38.jpeg', 51.17060470581055, 72.10539502699405, 1, 23], ['2019-07-29 12:47:42.jpeg', 46.168060302734375, 78.03259741921215, 1, 26], ['2019-07-29 12:52:50.jpeg', 45.733314514160156, 66.09988332176688, 2, 32], ['2019-07-29 12:56:44.jpeg', 50.62514114379883, 73.69640059720649, 1, 53], ['2019-07-29 12:57:36.jpeg', 44.788326263427734, 69.44749328336985, 2, 53], ['2019-07-29 13:07:56.jpeg', 49.63011932373047, 69.51576505386673, 2, 32], ['2019-07-29 13:09:27.jpeg', 47.7735481262207, 70.14551380686872, 2, 26], ['2019-07-29 13:13:02.jpeg', 45.94695281982422, 76.44916134181554, 1, 26], ['2019-07-29 13:17:45.jpeg', 39.58819580078125, 79.19313558391684, 1, 17], ['2019-07-29 13:26:42.jpeg', 44.559226989746094, 70.45761486966263, 2, 14], ['2019-07-29 13:27:26.jpeg', 51.759979248046875, 66.62281108036062, 2, 14], ['2019-07-29 13:27:48.jpeg', 50.43571853637695, 64.32842506407904, 2, 14], ['2019-07-29 13:34:32.jpeg', 49.073570251464844, 58.002525008411446, 2, 17], ['2019-07-29 13:35:51.jpeg', 50.722354888916016, 67.6711873748212, 2, 20], ['2019-07-29 13:37:27.jpeg', 53.906490325927734, 64.89779658577515, 2, 20], ['2019-07-29 13:38:06.jpeg', 49.37627029418945, 60.02242454679889, 2, 17], ['2019-07-29 13:39:03.jpeg', 52.88906478881836, 68.04185082456682, 2, 17], ['2019-07-29 13:40:24.jpeg', 46.77283477783203, 66.15025033388683, 2, 17], ['2019-07-29 13:52:32.jpeg', 42.3004264831543, 64.76532917242022, 2, 41], ['2019-07-29 13:53:03.jpeg', 44.026248931884766, 64.78252444598516, 2, 41], ['2019-07-29 13:53:36.jpeg', 47.78462600708008, 63.956164125950075, 2, 41], ['2019-07-29 13:57:25.jpeg', 43.44224548339844, 65.34269853623886, 2, 44], ['2019-07-29 13:58:03.jpeg', 49.407073974609375, 65.67295456258508, 2, 38], ['2019-07-29 13:59:14.jpeg', 48.35675048828125, 57.986129322504304, 2, 38], ['2019-07-29 14:05:37.jpeg', 49.051979064941406, 57.465009049045335, 2, 58], ['2019-07-29 14:06:20.jpeg', 52.430084228515625, 59.209367319266946, 2, 58], ['2019-07-29 14:10:59.jpeg', 53.93732452392578, 66.88102203525813, 1, 41], ['2019-07-29 14:12:08.jpeg', 51.017250061035156, 63.72372334515084, 2, 44], ['2019-07-29 14:13:21.jpeg', 52.10947799682617, 59.23730832076651, 2, 41], ['2019-07-29 14:14:36.jpeg', 52.8250846862793, 60.88787508036906, 2, 47], ['2019-07-29 14:36:18.jpeg', 49.433658599853516, 68.2936560139522, 2, 50], ['2019-07-29 14:36:35.jpeg', 47.67445373535156, 59.47483074425392, 2, 50], ['2019-07-29 14:45:50.jpeg', 52.36701202392578, 60.69250716257884, 2, 50], ['2019-07-29 14:49:43.jpeg', 48.042686462402344, 61.85992249425015, 2, 50], ['2019-07-29 14:52:18.jpeg', 50.246028900146484, 60.02342868282537, 2, 50], ['2019-07-29 14:54:10.jpeg', 47.8255615234375, 57.66992195584285, 2, 50], ['2019-07-29 15:01:06.jpeg', 50.001399993896484, 61.158059802729305, 2, 50], ['2019-07-29 15:01:33.jpeg', 45.457130432128906, 62.698500052012825, 1, 50], ['2019-07-29 15:02:34.jpeg', 48.07451248168945, 66.45348405280629, 2, 50], ['2019-07-29 15:03:45.jpeg', 50.10377502441406, 63.91376639659508, 2, 50], ['2019-07-29 15:04:00.jpeg', 42.841529846191406, 68.78369308538402, 2, 50], ['2019-07-29 15:08:35.jpeg', 51.548954010009766, 60.13112956910902, 2, 50], ['2019-07-29 15:09:13.jpeg', 46.938507080078125, 55.96749896309861, 1, 50], ['2019-07-29 15:09:45.jpeg', 49.22134780883789, 52.00001025943951, 2, 50], ['2019-07-29 15:18:33.jpeg', 47.04494857788086, 71.91497212691493, 1, 50], ['2019-07-29 15:20:01.jpeg', 41.75605392456055, 70.20208573384006, 1, 50], ['2019-07-29 15:21:33.jpeg', 51.49847412109375, 67.0772693843329, 1, 50], ['2019-07-29 15:32:20.jpeg', 51.20244216918945, 57.08072372692859, 2, 50], ['2019-07-29 15:36:10.jpeg', 44.432247161865234, 49.92397173341375, 2, 50], ['2019-07-29 15:42:05.jpeg', 49.901588439941406, 60.26751511547094, 2, 50], ['2019-07-29 15:42:58.jpeg', 45.54985427856445, 68.6250162398057, 1, 50], ['2019-07-29 15:45:23.jpeg', 52.18889236450195, 66.13296073977337, 2, 50], ['2019-07-29 15:52:15.jpeg', 51.035682678222656, 61.7024906746442, 1, 50], ['2019-07-29 15:53:49.jpeg', 44.61015701293945, 67.77548257210253, 2, 50], ['2019-07-29 15:56:31.jpeg', 49.78721618652344, 70.6150554176163, 1, 50], ['2019-07-29 15:59:02.jpeg', 47.26298141479492, 74.37633364777996, 1, 50], ['2019-07-29 16:00:49.jpeg', 49.42181396484375, 63.633995761897644, 2, 50], ['2019-07-29 16:04:15.jpeg', 45.96772003173828, 77.53603733348912, 1, 50], ['2019-07-29 16:05:47.jpeg', 49.75815963745117, 66.35319085670899, 2, 50], ['2019-07-29 16:08:49.jpeg', 50.33315658569336, 66.04003755324604, 2, 50], ['2019-07-29 16:15:54.jpeg', 39.70380401611328, 46.91324491002829, 2, 50], ['2019-07-30 12:39:24.jpeg', 45.88099670410156, 47.17260262845441, 1, 50], ['2019-08-01 13:33:10.jpeg', 47.8079719543457, 75.66940566985859, 1, 50], ['2019-08-01 13:38:29.jpeg', 45.82889175415039, 71.55771195622432, 2, 50], ['2019-08-01 13:45:58.jpeg', 43.75241470336914, 63.79834657304967, 2, 50], ['2019-08-01 13:49:48.jpeg', 44.19466018676758, 63.24679685546751, 2, 50], ['2019-08-01 13:54:02.jpeg', 39.97808837890625, 70.74878883979628, 2, 50], ['2019-08-01 13:54:34.jpeg', 45.947322845458984, 71.7533726078159, 2, 50], ['2019-08-01 13:57:36.jpeg', 38.88817596435547, 73.56701257813982, 2, 50], ['2019-08-01 14:03:01.jpeg', 47.28874206542969, 62.12102801193578, 2, 50], ['2019-08-01 14:05:21.jpeg', 49.97951126098633, 67.52540829772228, 2, 50], ['2019-08-01 14:06:19.jpeg', 42.77299499511719, 63.2520419252166, 2, 50], ['2019-08-01 14:10:41.jpeg', 46.61635971069336, 64.57137319150088, 2, 50], ['2019-08-01 14:12:12.jpeg', 47.776607513427734, 64.8371839190845, 2, 50], ['2019-08-01 14:16:14.jpeg', 46.04389572143555, 66.95945356547932, 2, 50], ['2019-08-01 14:26:59.jpeg', 44.775352478027344, 67.68560920203221, 2, 50], ['2019-08-01 14:27:48.jpeg', 47.39664840698242, 65.13843633658954, 1, 50], ['2019-08-10 10:53:39.jpeg', 53.250640869140625, 63.483598463584045, 2, 35], ['2019-08-10 10:57:43.jpeg', 54.36772918701172, 57.20370867354231, 2, 14], ['2019-08-10 11:03:13.jpeg', 48.3304557800293, 61.73802540076352, 2, 50], ['2019-08-10 11:08:00.jpeg', 39.709556579589844, 56.949635183916214, 3, 61], ['2019-08-10 11:13:15.jpeg', 48.02543640136719, 57.51043363627688, 2, 66], ['2019-08-10 11:18:38.jpeg', 48.973838806152344, 58.2379486173441, 2, 72], ['2019-08-10 11:23:03.jpeg', 23.593578338623047, 75.1623563739374, 2, 69], ['2019-08-10 11:27:36.jpeg', 49.40530776977539, 54.07117433802258, 2, 63], ['2019-08-10 11:32:35.jpeg', 48.4683837890625, 60.1281031580228, 2, 64], ['2019-08-10 11:37:59.jpeg', 48.301998138427734, 59.04578131744396, 3, 66], ['2019-08-10 11:42:34.jpeg', 50.225772857666016, 56.83498213281105, 2, 58], ['2019-08-10 11:49:41.jpeg', 46.322105407714844, 57.02642826756766, 2, 58], ['2019-08-10 11:53:11.jpeg', 45.118045806884766, 59.00928278813154, 3, 60], ['2019-08-10 11:57:33.jpeg', 40.19747543334961, 52.4543338660534, 2, 61], ['2019-08-10 12:02:58.jpeg', 36.832149505615234, 51.32733976264825, 2, 60], ['2019-08-10 12:08:00.jpeg', 41.995277404785156, 52.78877590779105, 2, 56], ['2019-08-10 12:12:37.jpeg', 43.48382568359375, 53.29614139066392, 2, 44], ['2019-08-10 12:18:53.jpeg', 47.35060501098633, 57.69687452437274, 3, 47], ['2019-08-10 12:22:36.jpeg', 20.134052276611328, 50.48847869528, 2, 50], ['2019-08-10 12:27:42.jpeg', 45.51449966430664, 54.1137704045773, 2, 47], ['2019-08-10 12:35:36.jpeg', 45.910423278808594, 59.552969565835255, 2, 38], ['2019-08-10 12:37:39.jpeg', 45.021636962890625, 58.85727768647428, 2, 38], ['2019-08-10 12:44:13.jpeg', 46.84233474731445, 58.62422657722815, 2, 32], ['2019-08-10 12:48:37.jpeg', 48.80107498168945, 60.10075710345453, 2, 32], ['2019-08-10 12:53:00.jpeg', 45.99343490600586, 59.65691619647183, 2, 26], ['2019-08-10 13:00:42.jpeg', 47.8128662109375, 59.454910804419285, 3, 23], ['2019-08-10 13:03:11.jpeg', 45.172035217285156, 59.655587085501836, 3, 26], ['2019-08-10 13:07:34.jpeg', 19.144254684448242, 47.026456497990054, 2, 20], ['2019-08-10 13:12:48.jpeg', 49.33306121826172, 58.96813380644046, 2, 17], ['2019-08-10 13:18:28.jpeg', 49.06117630004883, 59.65091256500512, 2, 20], ['2019-08-10 13:22:38.jpeg', 50.27946472167969, 60.524469458922056, 2, 20], ['2019-08-10 13:28:32.jpeg', 51.725975036621094, 56.07362571777536, 2, 20], ['2019-08-10 13:33:12.jpeg', 51.821598052978516, 55.79975949653959, 2, 20], ['2019-08-10 13:37:34.jpeg', 51.25701904296875, 56.511939669404796, 2, 20], ['2019-08-10 13:42:34.jpeg', 48.6141242980957, 57.551163297648685, 2, 23], ['2019-08-10 13:48:35.jpeg', 47.88846969604492, 60.105683641493656, 2, 23], ['2019-08-10 13:53:27.jpeg', 50.39938735961914, 61.0311233875613, 2, 20], ['2019-08-10 13:57:59.jpeg', 49.446651458740234, 62.277606955651706, 2, 20], ['2019-08-10 14:02:33.jpeg', 48.649837493896484, 64.41397185394247, 2, 20], ['2019-08-10 14:07:34.jpeg', 54.086570739746094, 60.16168274382938, 2, 20], ['2019-08-10 14:12:36.jpeg', 52.76474380493164, 59.14583070133345, 2, 20], ['2019-08-10 14:18:05.jpeg', 49.73623275756836, 59.88982868014867, 2, 20], ['2019-08-10 14:25:51.jpeg', 47.99540710449219, 59.313448224939506, 2, 20], ['2019-08-10 14:27:51.jpeg', 47.88673782348633, 56.471082286063506, 2, 23], ['2019-08-10 14:33:28.jpeg', 46.189815521240234, 58.422897328772514, 2, 23], ['2019-08-10 14:37:38.jpeg', 48.26655578613281, 60.56360372869976, 2, 20], ['2019-08-10 14:42:50.jpeg', 49.26145553588867, 61.32081324208941, 2, 23], ['2019-08-10 14:47:34.jpeg', 51.340667724609375, 59.28775895937194, 2, 20], ['2019-08-10 14:52:34.jpeg', 51.57624053955078, 57.62130239022835, 2, 17], ['2019-08-10 14:57:35.jpeg', 52.83629608154297, 55.801713231641834, 2, 17], ['2019-08-10 15:03:13.jpeg', 53.1630859375, 55.138605687795234, 1, 17], ['2019-08-10 15:07:39.jpeg', 51.670406341552734, 56.17789969661617, 1, 17], ['2019-08-10 15:12:34.jpeg', 51.73775100708008, 59.204063828806305, 2, 17], ['2019-08-10 15:18:38.jpeg', 53.1497688293457, 54.77121410378687, 2, 17], ['2019-08-10 15:22:40.jpeg', 52.52869415283203, 52.96027005372651, 1, 17], ['2019-08-10 15:29:25.jpeg', 51.8868522644043, 52.25550163307123, 1, 14], ['2019-08-10 15:32:37.jpeg', 54.10910415649414, 55.78888640932189, 1, 14], ['2019-08-10 15:37:39.jpeg', 51.2029914855957, 52.89714432595569, 1, 11], ['2019-08-10 15:43:45.jpeg', 51.272789001464844, 51.617195323598445, 1, 11], ['2019-08-10 15:48:01.jpeg', 51.451351165771484, 52.10471762778288, 1, 14], ['2019-08-10 15:53:03.jpeg', 9.91714859008789, 48.53000266681293, 1, 14], ['2019-08-10 15:57:37.jpeg', 51.704769134521484, 53.59298201473093, 1, 17], ['2019-08-10 16:03:14.jpeg', 52.31168746948242, 53.56007113076078, 1, 17], ['2019-08-10 16:11:18.jpeg', 53.779869079589844, 54.69521069418438, 1, 14], ['2019-08-10 16:12:34.jpeg', 52.883785247802734, 53.55981915417914, 1, 14], ['2019-08-10 16:20:38.jpeg', 52.734561920166016, 57.031143397807654, 1, 17], ['2019-08-10 16:22:37.jpeg', 53.72590255737305, 59.488668547891265, 1, 17], ['2019-08-10 16:28:54.jpeg', 55.888492584228516, 61.04059789728445, 2, 17], ['2019-08-10 16:32:34.jpeg', 52.994415283203125, 54.93586220958933, 1, 17], ['2019-08-10 16:37:40.jpeg', 52.42871856689453, 55.39734990729973, 1, 17], ['2019-08-10 16:42:50.jpeg', 50.9708251953125, 58.096321137865566, 1, 17], ['2019-08-10 16:48:18.jpeg', 53.51791000366211, 58.49190156690969, 1, 17], ['2019-08-10 16:53:01.jpeg', 56.24620819091797, 59.19649156614021, 1, 17], ['2019-08-10 16:57:34.jpeg', 55.02378845214844, 57.81225859255746, 1, 20], ['2019-08-10 17:03:14.jpeg', 55.516014099121094, 59.980951923179134, 2, 17], ['2019-08-10 17:11:18.jpeg', 47.455928802490234, 57.625340459561556, 2, 20], ['2019-08-10 17:13:02.jpeg', 46.419403076171875, 58.61712504363333, 2, 20], ['2019-08-10 17:17:33.jpeg', 40.891719818115234, 59.459824275352915, 2, 17], ['2019-08-10 17:22:39.jpeg', 43.840301513671875, 61.26557711166807, 2, 17], ['2019-08-10 17:28:48.jpeg', 46.022701263427734, 60.1493607590276, 2, 17], ['2019-08-10 17:33:02.jpeg', 42.61981964111328, 60.065168448353035, 2, 17], ['2019-08-10 17:38:52.jpeg', 45.932342529296875, 58.83854741442801, 2, 23], ['2019-08-10 17:42:37.jpeg', 43.70745086669922, 59.35964857900945, 2, 14], ['2019-08-10 17:48:23.jpeg', 44.134490966796875, 63.429588911910145, 2, 17], ['2019-08-10 17:54:21.jpeg', 49.683067321777344, 62.93999449172112, 2, 17], ['2019-08-10 17:57:34.jpeg', 55.094970703125, 60.9078480601684, 1, 17], ['2019-08-10 18:05:37.jpeg', 53.93644714355469, 58.616832213150545, 1, 20], ['2019-08-10 18:08:07.jpeg', 53.968563079833984, 58.4233999116413, 1, 20], ['2019-08-10 18:13:09.jpeg', 54.72040939331055, 60.172795646406534, 1, 23], ['2019-08-10 18:20:43.jpeg', 54.49378204345703, 59.47430724790884, 1, 20], ['2019-08-10 18:23:51.jpeg', 55.7924690246582, 62.84001700628949, 1, 20], ['2019-08-10 18:27:52.jpeg', 55.59185791015625, 63.053250636315475, 1, 23], ['2019-08-10 18:33:03.jpeg', 54.87578582763672, 61.692462724354826, 1, 26], ['2019-08-10 18:40:56.jpeg', 55.304100036621094, 61.31099496717719, 1, 26], ['2019-08-10 18:42:34.jpeg', 55.1403923034668, 60.94476894747036, 1, 26], ['2019-08-10 18:50:56.jpeg', 55.41205978393555, 61.80183539550329, 1, 20], ['2019-08-10 18:52:33.jpeg', 54.784629821777344, 62.10905102978003, 1, 20], ['2019-08-10 18:59:28.jpeg', 54.839149475097656, 63.70441491738802, 1, 17], ['2019-08-01 13:28:00.jpeg', 42.51755142211914, 84.52202516042304, 1, 96], ['2019-08-01 13:33:01.jpeg', 7.455005645751953, 5.270428200480588, 0, 94], ['2019-08-01 15:16:11.jpeg', 44.35597610473633, 75.66304349867946, 1, 63], ['2019-08-01 15:18:36.jpeg', 1.4675911664962769, 0.7401840498268867, 1, 64], ['2019-08-01 15:22:16.jpeg', 38.08696365356445, 41.816650429909274, 1, 67], ['2019-08-01 15:26:23.jpeg', 48.111995697021484, 66.26359964976538, 2, 58], ['2019-08-01 15:32:55.jpeg', 30.622175216674805, 43.647182667772626, 5, 58], ['2019-08-01 15:38:00.jpeg', 12.270280838012695, 7.1710506049932174, 0.9959810172352763, 32], ['2019-08-01 16:03:00.jpeg', 30.76756477355957, 67.87093028826206, 2, 35], ['2019-08-01 16:13:00.jpeg', 40.52059555053711, 38.306042512041685, 1, 35], ['2019-08-01 16:37:59.jpeg', 41.27230453491211, 63.725076311249914, 2, 35], ['2019-08-01 17:12:11.jpeg', 43.099212646484375, 74.97006524954895, 1, 41], ['2019-08-01 17:16:36.jpeg', 40.69575881958008, 61.86318715440692, 2, 41], ['2019-08-01 17:21:57.jpeg', 40.70161056518555, 63.46581201599955, 2, 41], ['2019-08-01 17:27:55.jpeg', 43.67477035522461, 70.84202507521447, 2, 41], ['2019-08-01 17:31:46.jpeg', 43.08338928222656, 67.1236828880082, 2, 41], ['2019-08-01 17:36:33.jpeg', 43.274105072021484, 67.41760982594478, 1, 44], ['2019-08-01 17:41:40.jpeg', 42.766605377197266, 68.18387073212094, 1, 41], ['2019-08-01 17:47:55.jpeg', 42.63794708251953, 69.07900235694234, 1, 41], ['2019-08-01 17:51:29.jpeg', 42.770477294921875, 68.52925488433624, 1, 41], ['2019-08-01 17:56:30.jpeg', 42.699031829833984, 68.88142663987274, 1, 38], ['2019-08-01 18:01:46.jpeg', 42.43733596801758, 69.30873615544319, 1, 38], ['2019-08-01 18:07:55.jpeg', 42.93175506591797, 69.53268359774447, 1, 41], ['2019-08-01 18:12:55.jpeg', 43.71797180175781, 69.08816131462247, 1, 38], ['2019-08-01 18:17:55.jpeg', 44.0652961730957, 69.00848711530986, 1, 38], ['2019-08-01 18:23:04.jpeg', 44.549381256103516, 67.93043944841577, 1, 35], ['2019-08-01 18:26:31.jpeg', 44.50425338745117, 67.42555286424897, 1, 72], ['2019-08-01 18:32:00.jpeg', 45.65852737426758, 66.50361543778766, 1, 66], ['2019-08-01 18:37:20.jpeg', 45.07615661621094, 65.5784300794354, 1, 32], ['2019-08-01 18:42:21.jpeg', 45.16256332397461, 63.0176977743008, 2, 32], ['2019-08-01 18:47:11.jpeg', 44.824195861816406, 63.142588360233404, 1, 32], ['2019-08-01 18:52:12.jpeg', 45.50691604614258, 62.626539194669604, 2, 32], ['2019-08-01 18:57:11.jpeg', 45.02973937988281, 62.67870607578418, 2, 32], ['2019-08-02 06:02:11.jpeg', 41.16622543334961, 53.7408756780525, 3, 96], ['2019-08-02 06:07:11.jpeg', 40.48667526245117, 47.41037272225089, 3, 96], ['2019-08-02 06:12:11.jpeg', 38.455020904541016, 47.647961530128924, 3, 96], ['2019-08-02 06:17:11.jpeg', 39.1548957824707, 46.92503633028357, 3, 96], ['2019-08-02 06:22:11.jpeg', 39.5698127746582, 45.76664370802764, 3, 97], ['2019-08-02 06:27:11.jpeg', 39.39211654663086, 45.42271565852693, 3, 100], ['2019-08-02 06:32:11.jpeg', 40.135406494140625, 46.100450127020245, 3, 102], ['2019-08-02 06:37:11.jpeg', 37.26827621459961, 43.33933994091496, 3, 102], ['2019-08-02 06:42:11.jpeg', 31.37946891784668, 41.16273671743193, 3, 102], ['2019-08-02 06:47:11.jpeg', 31.162111282348633, 41.672304185549066, 3, 105], ['2019-08-02 06:52:55.jpeg', 33.76346206665039, 43.423903342055624, 3, 107], ['2019-08-02 06:57:11.jpeg', 37.890743255615234, 46.36202388736396, 3, 105], ['2019-08-02 07:02:10.jpeg', 37.955989837646484, 48.38926008626256, 3, 102], ['2019-08-02 07:07:11.jpeg', 37.07170486450195, 50.123082899446274, 3, 107], ['2019-08-02 07:12:10.jpeg', 39.47488021850586, 51.30289440901001, 2, 107], ['2019-08-02 07:17:46.jpeg', 37.55855178833008, 52.85066130990347, 3, 105], ['2019-08-02 07:22:11.jpeg', 37.672176361083984, 53.86621935017103, 3, 100], ['2019-08-02 07:27:11.jpeg', 38.12765121459961, 53.61212187980469, 3, 107], ['2019-08-02 07:32:11.jpeg', 39.14351272583008, 54.43180097287164, 2, 105], ['2019-08-02 07:37:11.jpeg', 39.75537872314453, 55.42763501638976, 2, 105], ['2019-08-02 07:42:11.jpeg', 39.838680267333984, 55.12062542167407, 2, 109], ['2019-08-02 07:47:11.jpeg', 39.06014633178711, 54.750076281840265, 3, 109], ['2019-08-02 07:52:55.jpeg', 36.59889221191406, 53.8575840428778, 3, 105], ['2019-08-02 07:57:10.jpeg', 37.181827545166016, 53.71330498824923, 3, 102], ['2019-08-02 08:02:10.jpeg', 38.26612091064453, 52.73274891142139, 3, 103], ['2019-08-02 08:07:11.jpeg', 37.53180694580078, 52.62201402000274, 3, 103], ['2019-08-02 08:12:11.jpeg', 38.06983184814453, 52.05508939135601, 3, 100], ['2019-08-02 08:17:11.jpeg', 37.24460983276367, 50.9028107404566, 3, 99], ['2019-08-02 08:22:55.jpeg', 39.0653076171875, 49.644542280464634, 3, 96], ['2019-08-02 08:29:11.jpeg', 37.05998992919922, 45.75218170547585, 3, 102], ['2019-08-02 08:37:23.jpeg', 36.724578857421875, 45.46651157336299, 3, 90], ['2019-08-02 08:42:10.jpeg', 35.87633514404297, 45.950641563856934, 3, 94], ['2019-08-02 08:47:10.jpeg', 34.03541946411133, 44.974171754973604, 3, 91], ['2019-08-02 08:52:11.jpeg', 36.012794494628906, 45.157386546324254, 3, 91], ['2019-08-02 08:57:10.jpeg', 32.052146911621094, 42.63862730489985, 3, 90], ['2019-08-02 09:02:10.jpeg', 28.53375244140625, 42.60469937086701, 3, 91], ['2019-08-02 09:07:10.jpeg', 27.39710807800293, 43.3652345681547, 3, 90], ['2019-08-02 09:12:10.jpeg', 29.648778915405273, 41.98686730593651, 3, 90], ['2019-08-02 09:17:10.jpeg', 29.22112464904785, 41.845764670173736, 3, 82], ['2019-08-02 09:22:55.jpeg', 29.193132400512695, 41.852284498528356, 3, 84], ['2019-08-02 09:28:03.jpeg', 29.282167434692383, 41.58118603847337, 3, 82], ['2019-08-02 09:32:10.jpeg', 29.644309997558594, 41.56749081583599, 3, 82], ['2019-08-02 09:37:10.jpeg', 31.703075408935547, 41.78620554835149, 3, 81], ['2019-08-02 09:42:10.jpeg', 30.825550079345703, 41.444557410153266, 3, 76], ['2019-08-02 09:47:10.jpeg', 31.270437240600586, 41.39620076003551, 3, 76], ['2019-08-02 09:52:55.jpeg', 30.006959915161133, 41.6084424724851, 3, 72], ['2019-08-02 09:57:10.jpeg', 30.71237564086914, 41.90491415123452, 3, 69], ['2019-08-02 10:02:10.jpeg', 29.771013259887695, 41.819060269005206, 3, 70], ['2019-08-02 10:07:11.jpeg', 30.281782150268555, 41.813428681657875, 3, 69], ['2019-08-02 10:12:10.jpeg', 28.30838966369629, 41.960158407036204, 3, 69], ['2019-08-02 10:17:11.jpeg', 28.76421546936035, 41.55741269266431, 3, 69], ['2019-08-02 10:22:55.jpeg', 29.774084091186523, 40.85967199305835, 3, 69], ['2019-08-02 10:27:11.jpeg', 26.347869873046875, 42.11888923445067, 3, 66], ['2019-08-02 10:32:10.jpeg', 28.546329498291016, 41.88868978968394, 3, 66], ['2019-08-02 10:37:11.jpeg', 27.873756408691406, 42.04720428444887, 3, 66], ['2019-08-02 10:42:10.jpeg', 26.850141525268555, 41.208762207199754, 3, 60], ['2019-08-02 10:47:11.jpeg', 27.043636322021484, 40.70032618218238, 3, 64], ['2019-08-02 10:52:11.jpeg', 32.67948913574219, 42.86559313936056, 3, 76], ['2019-08-02 10:57:11.jpeg', 34.917110443115234, 43.70721663070626, 3, 67], ['2019-08-02 11:02:10.jpeg', 33.65599060058594, 43.42297151351236, 3, 64], ['2019-08-02 11:07:11.jpeg', 32.16719436645508, 42.45995686332171, 3, 66], ['2019-08-02 11:12:11.jpeg', 26.915714263916016, 39.7658018115717, 3, 67], ['2019-08-02 11:17:10.jpeg', 27.324214935302734, 39.808035081842256, 3, 64], ['2019-08-02 11:22:11.jpeg', 30.239131927490234, 40.83972884206008, 3, 63], ['2019-08-02 11:27:10.jpeg', 37.24535369873047, 45.2695426956436, 3, 64], ['2019-08-02 11:32:55.jpeg', 33.539207458496094, 46.0567988614638, 3, 67], ['2019-08-02 11:37:10.jpeg', 36.28776168823242, 46.1956688224198, 3, 61], ['2019-08-02 11:42:55.jpeg', 34.78754425048828, 42.39902133505188, 3, 63], ['2019-08-02 11:47:55.jpeg', 34.8631706237793, 50.702128374057594, 3, 57], ['2019-08-02 11:52:11.jpeg', 32.991859436035156, 53.66354133642644, 3, 61], ['2019-08-02 11:57:10.jpeg', 34.752479553222656, 54.74231505904606, 3, 63], ['2019-08-02 12:02:10.jpeg', 35.470924377441406, 54.13022388134554, 3, 63], ['2019-08-02 12:07:11.jpeg', 33.03746032714844, 57.588886517677956, 3, 63], ['2019-08-02 12:12:10.jpeg', 33.96955490112305, 60.883315025183336, 3, 58], ['2019-08-02 12:17:11.jpeg', 33.304141998291016, 63.24774937903855, 2, 57], ['2019-08-02 12:22:10.jpeg', 31.32664680480957, 67.39239171936823, 2, 61], ['2019-08-02 12:27:11.jpeg', 31.08031463623047, 67.37445462480147, 2, 60], ['2019-08-02 12:32:11.jpeg', 33.71721267700195, 63.76719695608983, 2, 63], ['2019-08-02 12:37:11.jpeg', 35.050724029541016, 61.289405155249725, 3, 66], ['2019-08-02 12:42:15.jpeg', 37.39163589477539, 61.4235170130523, 2, 67], ['2019-08-02 12:47:10.jpeg', 36.68461608886719, 62.2853666443122, 2, 72], ['2019-08-02 12:52:10.jpeg', 40.41274642944336, 61.45719931851724, 2, 75], ['2019-08-02 12:57:10.jpeg', 46.93703079223633, 51.79798602239403, 2, 75], ['2019-08-02 13:02:11.jpeg', 38.4498176574707, 52.36658675310168, 3, 78], ['2019-08-02 13:07:10.jpeg', 45.83426284790039, 57.23770328977348, 2, 78], ['2019-08-02 13:12:10.jpeg', 45.01799392700195, 59.26968454587515, 2, 84], ['2019-08-02 13:17:10.jpeg', 35.49833297729492, 48.64010763723931, 3, 82], ['2019-08-02 13:22:55.jpeg', 35.640777587890625, 38.73370693161504, 3, 85], ['2019-08-02 13:27:10.jpeg', 31.52354621887207, 32.01936691113039, 3, 76], ['2019-08-02 13:32:10.jpeg', 32.9974250793457, 33.06695514577977, 3, 82], ['2019-08-02 13:37:10.jpeg', 34.98868179321289, 38.43703178017549, 3, 69], ['2019-08-02 13:57:20.jpeg', 41.603065490722656, 61.527944565208365, 2, 64], ['2019-08-02 14:02:20.jpeg', 42.06663131713867, 64.59205075596255, 2, 50], ['2019-08-02 14:07:20.jpeg', 42.26640701293945, 63.85376483562831, 2, 41], ['2019-08-02 14:12:20.jpeg', 39.31631088256836, 61.7522672040798, 2, 29], ['2019-08-02 14:17:20.jpeg', 39.76172637939453, 60.2095093142579, 2, 35], ['2019-08-02 14:22:20.jpeg', 40.83900833129883, 62.41065866938788, 2, 35], ['2019-08-02 14:27:20.jpeg', 43.953277587890625, 62.477262335851826, 2, 29], ['2019-08-02 14:32:55.jpeg', 45.5128059387207, 61.36678967697325, 2, 29], ['2019-08-02 14:37:19.jpeg', 46.471473693847656, 60.603211539620986, 2, 26], ['2019-08-02 14:42:20.jpeg', 44.515777587890625, 60.25947373633893, 2, 32], ['2019-08-02 14:47:20.jpeg', 42.79338073730469, 59.144417839740775, 2, 29], ['2019-08-02 14:52:20.jpeg', 39.5191535949707, 58.7171900551687, 3, 29], ['2019-08-02 14:57:20.jpeg', 40.690921783447266, 59.08104493402208, 2, 35], ['2019-08-02 15:02:20.jpeg', 43.353153228759766, 59.975311053224246, 2, 32], ['2019-08-02 15:07:20.jpeg', 43.88206100463867, 60.82912511825986, 2, 32], ['2019-08-02 15:12:20.jpeg', 44.16360092163086, 61.256939730249634, 2, 38], ['2019-08-02 15:17:20.jpeg', 44.1306266784668, 61.44935021391656, 2, 41], ['2019-08-02 15:22:20.jpeg', 43.65244674682617, 61.32411680571342, 2, 47], ['2019-08-02 15:27:55.jpeg', 41.3956298828125, 61.0676474535202, 2, 47], ['2019-08-02 15:32:19.jpeg', 39.75154113769531, 60.26923087230666, 2, 56], ['2019-08-02 15:37:19.jpeg', 39.617286682128906, 62.40061086573827, 2, 56], ['2019-08-02 15:42:20.jpeg', 40.052101135253906, 62.75857803945984, 2, 57], ['2019-08-02 15:47:20.jpeg', 41.02626037597656, 61.902038212835365, 2, 58], ['2019-08-02 15:52:20.jpeg', 39.38839340209961, 59.67144683961845, 2, 58], ['2019-08-02 15:57:20.jpeg', 38.07697296142578, 58.525292882578306, 3, 61], ['2019-08-02 16:02:19.jpeg', 37.85444641113281, 56.949439053435114, 3, 64], ['2019-08-02 16:07:20.jpeg', 39.444759368896484, 55.12491423677098, 3, 61], ['2019-08-02 16:12:20.jpeg', 42.01655960083008, 55.01644998225938, 2, 61], ['2019-08-02 16:17:20.jpeg', 42.60575866699219, 55.32903928991556, 3, 61], ['2019-08-02 16:22:20.jpeg', 43.551422119140625, 54.82353970409836, 2, 64], ['2019-08-02 16:27:20.jpeg', 44.701507568359375, 55.01280631035557, 2, 63], ['2019-08-02 16:32:20.jpeg', 46.23401641845703, 56.51271780687585, 2, 66], ['2019-08-02 16:37:20.jpeg', 46.898948669433594, 58.2641085716657, 2, 64], ['2019-08-02 16:42:20.jpeg', 46.36012268066406, 60.6627531195857, 2, 64], ['2019-08-02 16:47:20.jpeg', 43.190635681152344, 61.18058213517066, 2, 67], ['2019-08-02 16:52:20.jpeg', 39.1631965637207, 59.41058179864333, 3, 69], ['2019-08-02 16:57:20.jpeg', 40.21417999267578, 58.586578231969575, 3, 72], ['2019-08-02 17:02:20.jpeg', 39.493896484375, 55.76170335324337, 3, 72], ['2019-08-02 17:07:20.jpeg', 39.63102340698242, 54.97543129867235, 3, 73], ['2019-08-02 17:12:20.jpeg', 42.617549896240234, 56.06103758280839, 2, 75], ['2019-08-02 17:17:20.jpeg', 39.282230377197266, 56.39679032567253, 3, 75], ['2019-08-02 17:27:20.jpeg', 44.48899841308594, 58.827252795901764, 2, 88], ['2019-08-02 17:32:20.jpeg', 41.65533447265625, 57.10821750293802, 2, 87], ['2019-08-02 17:37:20.jpeg', 40.99854278564453, 56.24564172067953, 3, 87], ['2019-08-02 17:42:20.jpeg', 40.16357421875, 56.033823512535236, 3, 88], ['2019-08-02 17:47:20.jpeg', 40.68030548095703, 56.11408260820653, 3, 88], ['2019-08-02 17:52:55.jpeg', 41.89622116088867, 56.220287625519866, 2, 91], ['2019-08-02 17:57:20.jpeg', 42.89011764526367, 56.80751146075628, 2, 96], ['2019-08-02 18:02:20.jpeg', 44.334022521972656, 56.90794949472049, 2, 94], ['2019-08-02 18:07:20.jpeg', 45.824954986572266, 57.951659475767194, 2, 94], ['2019-08-02 18:12:20.jpeg', 45.94160461425781, 58.10214299455786, 2, 90], ['2019-08-02 18:17:20.jpeg', 45.50197982788086, 57.98004508382531, 2, 99], ['2019-08-02 18:22:20.jpeg', 45.039058685302734, 57.75027284487425, 2, 91], ['2019-08-02 18:28:45.jpeg', 45.56279754638672, 59.41011621436491, 2, 100], ['2019-08-02 18:32:20.jpeg', 44.9193000793457, 60.51020837272076, 2, 99], ['2019-08-02 18:37:20.jpeg', 45.15093231201172, 60.34597195221021, 2, 103], ['2019-08-02 18:42:20.jpeg', 44.549468994140625, 59.44235119077485, 2, 102], ['2019-08-02 18:47:20.jpeg', 43.95248794555664, 59.88804046531398, 2, 105], ['2019-08-02 18:52:55.jpeg', 43.87408447265625, 60.59319729960649, 2, 100], ['2019-08-02 18:57:20.jpeg', 43.480892181396484, 60.938486792064516, 2, 105]]\n"
          ],
          "name": "stdout"
        }
      ]
    },
    {
      "cell_type": "code",
      "metadata": {
        "id": "I19tXYV--TAB",
        "colab_type": "code",
        "outputId": "f397db1e-9ffe-4c28-c243-e447509b497d",
        "colab": {
          "base_uri": "https://localhost:8080/",
          "height": 34
        }
      },
      "source": [
        "print(len(feat))"
      ],
      "execution_count": 0,
      "outputs": [
        {
          "output_type": "stream",
          "text": [
            "486\n"
          ],
          "name": "stdout"
        }
      ]
    },
    {
      "cell_type": "code",
      "metadata": {
        "id": "kRLzY46X_Tvj",
        "colab_type": "code",
        "colab": {}
      },
      "source": [
        "cred = credentials.Certificate('/content/credentials_weather.json')\n",
        "\n",
        "##The weather data after 1st July \n",
        "\n",
        "# Initialize the app with a service account, granting admin privileges\n",
        "new = firebase_admin.initialize_app(cred, {\n",
        "    'databaseURL': 'https://celestini-bd493.firebaseio.com/'\n",
        "})"
      ],
      "execution_count": 0,
      "outputs": []
    },
    {
      "cell_type": "code",
      "metadata": {
        "id": "EycOwfQ6AJ9x",
        "colab_type": "code",
        "colab": {}
      },
      "source": [
        "    \n",
        "ref = db.reference()\n",
        "df = ref.get()\n"
      ],
      "execution_count": 0,
      "outputs": []
    },
    {
      "cell_type": "code",
      "metadata": {
        "id": "9nKvvLa3AQ9h",
        "colab_type": "code",
        "outputId": "f8a96008-2fef-4f8e-da31-f772e7f7db25",
        "colab": {
          "base_uri": "https://localhost:8080/",
          "height": 1000
        }
      },
      "source": [
        "temp_weather = {}\n",
        "\n",
        "for key in df:\n",
        "  try:\n",
        "    l=[]\n",
        "    l.append(df[key]['main']['humidity'])\n",
        "    l.append(df[key]['main']['pressure'])\n",
        "    l.append(df[key]['main']['temp'])\n",
        "    l.append(df[key]['visibility'])\n",
        "    l.append(df[key]['wind']['deg'])\n",
        "    l.append(df[key]['wind']['speed'])\n",
        "    l.append(df[key]['clouds']['all'])\n",
        "    k = df[key]['weather'][0]['description']\n",
        "    if(k=='haze'):\n",
        "      l.append(0)\n",
        "    elif(k=='mist'):\n",
        "      l.append(1)\n",
        "    elif(k=='drizzle'):\n",
        "      l.append(2)\n",
        "    elif(k=='dust'):\n",
        "      l.append(3)\n",
        "    temp_weather[key]=l\n",
        "  except:\n",
        "    print(key)\n",
        "    "
      ],
      "execution_count": 0,
      "outputs": [
        {
          "output_type": "stream",
          "text": [
            "02-08-2019 24:49:49\n",
            "02-08-2019 24:54:49\n",
            "07-08-2019 07:57:31\n",
            "07-08-2019 08:02:31\n",
            "07-08-2019 08:07:31\n",
            "07-08-2019 08:12:31\n",
            "07-08-2019 08:17:31\n",
            "07-08-2019 08:22:31\n",
            "07-08-2019 08:27:31\n",
            "07-08-2019 08:32:31\n",
            "07-08-2019 08:37:31\n",
            "07-08-2019 08:42:31\n",
            "07-08-2019 08:47:31\n",
            "07-08-2019 08:57:00\n",
            "09-08-2019 05:41:06\n",
            "09-08-2019 05:46:06\n",
            "09-08-2019 05:51:06\n",
            "09-08-2019 05:56:06\n",
            "09-08-2019 06:01:06\n",
            "09-08-2019 06:06:06\n",
            "09-08-2019 06:11:06\n",
            "09-08-2019 06:16:06\n",
            "09-08-2019 06:21:06\n",
            "09-08-2019 06:26:06\n",
            "09-08-2019 06:31:06\n",
            "10-08-2019 02:30:04\n",
            "10-08-2019 02:35:04\n",
            "10-08-2019 02:40:04\n",
            "10-08-2019 02:45:04\n",
            "10-08-2019 02:50:04\n",
            "10-08-2019 02:55:04\n",
            "25-07-2019 02:44:11\n",
            "25-07-2019 02:49:11\n",
            "25-07-2019 02:54:11\n",
            "25-07-2019 02:59:11\n",
            "25-07-2019 03:04:11\n",
            "25-07-2019 03:09:11\n",
            "25-07-2019 03:14:11\n",
            "25-07-2019 03:19:11\n",
            "25-07-2019 03:24:11\n",
            "25-07-2019 03:29:11\n",
            "29-07-2019 23:00:27\n",
            "29-07-2019 23:05:27\n",
            "29-07-2019 23:10:27\n",
            "29-07-2019 23:15:27\n",
            "29-07-2019 23:20:27\n",
            "29-07-2019 23:25:27\n",
            "29-07-2019 23:30:27\n",
            "29-07-2019 24:55:27\n",
            "30-07-2019 01:00:27\n",
            "30-07-2019 01:05:27\n",
            "30-07-2019 01:10:27\n",
            "30-07-2019 01:15:27\n",
            "30-07-2019 01:20:27\n",
            "30-07-2019 01:25:27\n",
            "30-07-2019 01:30:27\n",
            "30-07-2019 01:35:27\n",
            "30-07-2019 01:40:27\n",
            "30-07-2019 01:45:27\n",
            "30-07-2019 01:50:27\n",
            "30-07-2019 01:55:27\n",
            "30-07-2019 02:00:27\n",
            "30-07-2019 02:05:27\n",
            "30-07-2019 02:10:27\n",
            "30-07-2019 02:15:27\n",
            "30-07-2019 02:20:27\n",
            "31-07-2019 05:44:59\n",
            "31-07-2019 05:49:59\n",
            "31-07-2019 05:54:59\n",
            "31-07-2019 05:59:59\n",
            "31-07-2019 06:04:59\n",
            "31-07-2019 06:12:44\n",
            "31-07-2019 06:17:44\n",
            "31-07-2019 06:22:44\n",
            "31-07-2019 06:27:44\n",
            "31-07-2019 06:32:44\n",
            "31-07-2019 06:37:44\n",
            "31-07-2019 06:42:44\n",
            "31-07-2019 06:47:44\n",
            "31-07-2019 06:52:44\n",
            "31-07-2019 06:57:44\n",
            "31-07-2019 07:02:44\n",
            "31-07-2019 07:07:44\n",
            "31-07-2019 07:12:44\n",
            "31-07-2019 07:17:44\n",
            "31-07-2019 07:22:44\n",
            "31-07-2019 07:27:44\n",
            "31-07-2019 07:32:44\n",
            "31-07-2019 07:37:44\n",
            "31-07-2019 07:42:44\n",
            "31-07-2019 07:47:44\n",
            "31-07-2019 07:52:44\n",
            "31-07-2019 07:57:44\n",
            "31-07-2019 08:02:44\n",
            "31-07-2019 08:07:44\n",
            "31-07-2019 08:12:44\n",
            "31-07-2019 08:17:44\n",
            "31-07-2019 08:22:44\n",
            "31-07-2019 08:27:44\n",
            "31-07-2019 08:32:44\n",
            "31-07-2019 08:37:44\n",
            "31-07-2019 08:42:44\n",
            "31-07-2019 08:47:44\n",
            "31-07-2019 08:52:44\n",
            "31-07-2019 08:57:44\n",
            "31-07-2019 09:02:44\n",
            "31-07-2019 09:07:44\n",
            "31-07-2019 09:12:44\n",
            "31-07-2019 09:17:44\n",
            "31-07-2019 09:22:44\n",
            "31-07-2019 09:27:44\n",
            "31-07-2019 09:32:44\n",
            "31-07-2019 09:37:44\n",
            "31-07-2019 09:42:44\n",
            "31-07-2019 09:47:44\n",
            "31-07-2019 09:52:44\n",
            "31-07-2019 09:57:44\n",
            "31-07-2019 10:02:44\n",
            "31-07-2019 10:07:44\n",
            "31-07-2019 10:12:44\n",
            "31-07-2019 10:17:44\n",
            "31-07-2019 10:22:44\n",
            "31-07-2019 10:27:44\n",
            "31-07-2019 10:32:44\n",
            "31-07-2019 10:37:44\n",
            "31-07-2019 10:42:44\n",
            "31-07-2019 10:47:44\n",
            "31-07-2019 10:52:44\n",
            "31-07-2019 10:57:44\n",
            "31-07-2019 11:02:44\n",
            "31-07-2019 11:07:44\n",
            "31-07-2019 11:12:44\n",
            "31-07-2019 11:17:44\n",
            "31-07-2019 11:22:44\n",
            "31-07-2019 11:27:44\n",
            "31-07-2019 11:32:44\n",
            "31-07-2019 11:37:44\n",
            "31-07-2019 11:42:44\n",
            "31-07-2019 11:47:44\n",
            "31-07-2019 11:52:44\n",
            "31-07-2019 11:57:44\n"
          ],
          "name": "stdout"
        }
      ]
    },
    {
      "cell_type": "code",
      "metadata": {
        "id": "J0_8e6_pAVo9",
        "colab_type": "code",
        "colab": {}
      },
      "source": [
        "feat_a=[]\n",
        "for val in feat:\n",
        "  #print(val[0])\n",
        "  temp = val[0] \n",
        "  #print(temp)\n",
        "  temp=temp.split('-')\n",
        "  #print(temp)\n",
        "  newtemp=temp[2].split(' ')\n",
        "  #print(newtemp)\n",
        "  newesttemp=newtemp[1].split(':')\n",
        "  #print(newesttemp)\n",
        "  j=int(newesttemp[1])\n",
        "  if(j<=7.5):\n",
        "    final = newtemp[0] + '-' + temp[1] + '-' + temp[0] + ' ' + newesttemp[0] + ':' + '00'\n",
        "  elif(j<=15 or j<=22.5):\n",
        "    final = newtemp[0] + '-' + temp[1] + '-' + temp[0] + ' ' + newesttemp[0] + ':' + '15'\n",
        "  elif(j<=30 or j<=37.5):\n",
        "    final = newtemp[0] + '-' + temp[1] + '-' + temp[0] + ' ' + newesttemp[0] + ':' + '30'\n",
        "  elif(j<=45 or j<=52.5):\n",
        "    final = newtemp[0] + '-' + temp[1] + '-' + temp[0] + ' ' + newesttemp[0] + ':' + '45'\n",
        "  elif(j>52.5):\n",
        "    final = newtemp[0] + '-' + temp[1] + '-' + temp[0] + ' ' + newesttemp[0] + ':' + '00'\n",
        "  l=[]\n",
        "  l.append(final)\n",
        "  l.append(val[1])\n",
        "  l.append(val[2])\n",
        "  l.append(val[3])\n",
        "  l.append(val[4])\n",
        "  feat_a.append(l)\n"
      ],
      "execution_count": 0,
      "outputs": []
    },
    {
      "cell_type": "code",
      "metadata": {
        "id": "Vm4KqtIWAcWV",
        "colab_type": "code",
        "outputId": "24805530-36c6-4e31-a3e6-4155dedc59e2",
        "colab": {
          "base_uri": "https://localhost:8080/",
          "height": 34
        }
      },
      "source": [
        "print(len(feat_a))"
      ],
      "execution_count": 0,
      "outputs": [
        {
          "output_type": "stream",
          "text": [
            "486\n"
          ],
          "name": "stdout"
        }
      ]
    },
    {
      "cell_type": "code",
      "metadata": {
        "id": "hFJCJPcJAlm5",
        "colab_type": "code",
        "colab": {}
      },
      "source": [
        "weather={}\n",
        "for key in temp_weather:\n",
        "  temp=key.split('-')\n",
        "  newtemp=temp[2].split(' ')\n",
        "  newesttemp=newtemp[1].split(':')\n",
        "  j=int(newesttemp[1])\n",
        "  if(j<=7.5):\n",
        "    final = temp[0] + '-' + temp[1] + '-' + newtemp[0] + ' ' + newesttemp[0] + ':' + '00'\n",
        "  elif(j<=15 or j<=22.5):\n",
        "    final = temp[0] + '-' + temp[1] + '-' + newtemp[0] + ' ' + newesttemp[0] + ':' + '15'\n",
        "  elif(j<=30 or j<=37.5):\n",
        "    final = temp[0] + '-' + temp[1] + '-' + newtemp[0] + ' ' + newesttemp[0] + ':' + '30'\n",
        "  elif(j<=45 or j<=52.5):\n",
        "    final = temp[0] + '-' + temp[1] + '-' + newtemp[0] + ' ' + newesttemp[0] + ':' + '45'\n",
        "  elif(j>52.5):\n",
        "    final = temp[0] + '-' + temp[1] + '-' + newtemp[0] + ' ' + newesttemp[0] + ':' + '00'\n",
        "  if(final not in weather):\n",
        "    weather[final]=temp_weather[key]"
      ],
      "execution_count": 0,
      "outputs": []
    },
    {
      "cell_type": "code",
      "metadata": {
        "id": "Jb7_MwtlApB3",
        "colab_type": "code",
        "colab": {}
      },
      "source": [
        "trans=[]\n",
        "cont=[]\n",
        "ent=[]\n",
        "hours=[]\n",
        "hum=[]\n",
        "pressure=[]\n",
        "tempr=[]\n",
        "deg=[]\n",
        "speed=[]\n",
        "\n",
        "\n",
        "pm=[]\n",
        "\n",
        "## COMBINING 1ST 4 LOCATIONS DATA \n",
        "for e in feat_a:\n",
        "  for w in weather:\n",
        "    if(e[0] == w):\n",
        "      hours.append(float(e[0][-5:-3]))\n",
        "      pm.append(float(e[4]))\n",
        "      trans.append(e[3])\n",
        "      ent.append(float(e[1]))\n",
        "      cont.append(float(e[2]))\n",
        "      hum.append(float(weather[w][0]))\n",
        "      pressure.append(float(weather[w][1]))\n",
        "      tempr.append(float(weather[w][2])) \n",
        "      deg.append(float(weather[w][4]))\n",
        "      speed.append(float(weather[w][5]))\n",
        "    "
      ],
      "execution_count": 0,
      "outputs": []
    },
    {
      "cell_type": "code",
      "metadata": {
        "id": "QcbhxoPVAw1o",
        "colab_type": "code",
        "outputId": "a6171d84-9386-4514-84d0-0021de10cb5f",
        "colab": {
          "base_uri": "https://localhost:8080/",
          "height": 188
        }
      },
      "source": [
        "print(len(trans))\n",
        "print(len(hours))\n",
        "print(len(cont))\n",
        "print(len(ent))\n",
        "print(len(hum))\n",
        "print(len(pressure))\n",
        "print(len(tempr))\n",
        "print(len(deg))\n",
        "print(len(speed))\n",
        "print(len(pm))"
      ],
      "execution_count": 0,
      "outputs": [
        {
          "output_type": "stream",
          "text": [
            "486\n",
            "486\n",
            "486\n",
            "486\n",
            "486\n",
            "486\n",
            "486\n",
            "486\n",
            "486\n",
            "486\n"
          ],
          "name": "stdout"
        }
      ]
    },
    {
      "cell_type": "code",
      "metadata": {
        "id": "PzXsU2JnBtna",
        "colab_type": "code",
        "outputId": "51777037-ea16-461c-d365-4f4115f22948",
        "colab": {
          "base_uri": "https://localhost:8080/",
          "height": 208
        }
      },
      "source": [
        "print(trans)\n",
        "print(hours)\n",
        "print(cont)\n",
        "print(ent)\n",
        "print(hum)\n",
        "print(pressure)\n",
        "print(tempr)\n",
        "print(deg)\n",
        "print(speed)\n",
        "print(pm)"
      ],
      "execution_count": 0,
      "outputs": [
        {
          "output_type": "stream",
          "text": [
            "[1, 1, 1, 3, 2, 1, 1, 2, 2, 2, 2, 2, 2, 2, 2, 2, 2, 1, 2, 1, 2, 1, 1, 1, 1, 2, 2, 1, 2, 2, 1, 2, 2, 2, 2, 3, 1, 1, 1, 2, 2, 2, 2, 2, 2, 1, 2, 1, 2, 2, 1, 2, 1, 2, 3, 1, 3, 1, 1, 2, 2, 2, 2, 2, 1, 1, 2, 2, 2, 2, 3, 2, 2, 2, 2, 2, 1, 1, 1, 1, 2, 2, 2, 2, 2, 2, 2, 3, 2, 2, 2, 2, 2, 2, 2, 2, 1, 2, 2, 2, 1, 2, 2, 1, 2, 2, 2, 2, 2, 2, 2, 2, 2, 2, 2, 2, 2, 2, 2, 2, 2, 2, 2, 1, 2, 1, 1, 1, 1, 2, 1, 2, 2, 2, 1, 1, 2, 2, 2, 2, 2, 2, 2, 2, 2, 2, 2, 2, 2, 2, 2, 2, 2, 1, 2, 2, 2, 2, 2, 2, 2, 2, 2, 2, 1, 2, 2, 2, 2, 1, 2, 1, 1, 1, 2, 2, 2, 1, 2, 1, 2, 1, 1, 2, 1, 2, 2, 2, 1, 1, 2, 2, 2, 2, 2, 2, 2, 2, 2, 2, 2, 2, 2, 1, 2, 2, 2, 3, 2, 2, 2, 2, 2, 3, 2, 2, 3, 2, 2, 2, 2, 3, 2, 2, 2, 2, 2, 2, 2, 3, 3, 2, 2, 2, 2, 2, 2, 2, 2, 2, 2, 2, 2, 2, 2, 2, 2, 2, 2, 2, 2, 2, 2, 2, 1, 1, 2, 2, 1, 1, 1, 1, 1, 1, 1, 1, 1, 1, 1, 1, 1, 2, 1, 1, 1, 1, 1, 1, 2, 2, 2, 2, 2, 2, 2, 2, 2, 2, 2, 1, 1, 1, 1, 1, 1, 1, 1, 1, 1, 1, 1, 1, 1, 0, 1, 1, 1, 2, 5, 0.9959810172352763, 2, 1, 2, 1, 2, 2, 2, 2, 1, 1, 1, 1, 1, 1, 1, 1, 1, 1, 1, 1, 1, 2, 1, 2, 2, 3, 3, 3, 3, 3, 3, 3, 3, 3, 3, 3, 3, 3, 3, 2, 3, 3, 3, 2, 2, 2, 3, 3, 3, 3, 3, 3, 3, 3, 3, 3, 3, 3, 3, 3, 3, 3, 3, 3, 3, 3, 3, 3, 3, 3, 3, 3, 3, 3, 3, 3, 3, 3, 3, 3, 3, 3, 3, 3, 3, 3, 3, 3, 3, 3, 3, 3, 3, 3, 3, 3, 3, 3, 3, 2, 2, 2, 2, 3, 2, 2, 2, 2, 3, 2, 2, 3, 3, 3, 3, 3, 2, 2, 2, 2, 2, 2, 2, 2, 2, 2, 2, 3, 2, 2, 2, 2, 2, 2, 2, 2, 2, 2, 2, 2, 3, 3, 3, 2, 3, 2, 2, 2, 2, 2, 2, 3, 3, 3, 3, 2, 3, 2, 2, 3, 3, 3, 2, 2, 2, 2, 2, 2, 2, 2, 2, 2, 2, 2, 2, 2]\n",
            "[10.0, 10.0, 11.0, 13.0, 15.0, 15.0, 15.0, 16.0, 16.0, 16.0, 16.0, 16.0, 16.0, 16.0, 16.0, 16.0, 16.0, 16.0, 10.0, 11.0, 12.0, 12.0, 12.0, 12.0, 12.0, 12.0, 12.0, 13.0, 13.0, 13.0, 13.0, 13.0, 13.0, 13.0, 13.0, 13.0, 14.0, 14.0, 14.0, 14.0, 14.0, 14.0, 14.0, 14.0, 14.0, 14.0, 14.0, 14.0, 14.0, 14.0, 14.0, 15.0, 15.0, 15.0, 15.0, 15.0, 15.0, 15.0, 15.0, 15.0, 15.0, 15.0, 8.0, 8.0, 8.0, 8.0, 9.0, 9.0, 9.0, 9.0, 9.0, 9.0, 9.0, 9.0, 9.0, 9.0, 9.0, 9.0, 9.0, 13.0, 13.0, 13.0, 13.0, 13.0, 13.0, 13.0, 14.0, 14.0, 14.0, 14.0, 14.0, 14.0, 14.0, 14.0, 14.0, 14.0, 15.0, 16.0, 16.0, 16.0, 16.0, 16.0, 16.0, 18.0, 13.0, 13.0, 13.0, 13.0, 13.0, 13.0, 13.0, 13.0, 14.0, 14.0, 14.0, 14.0, 14.0, 14.0, 14.0, 14.0, 14.0, 14.0, 14.0, 14.0, 12.0, 12.0, 12.0, 12.0, 12.0, 12.0, 12.0, 12.0, 13.0, 13.0, 13.0, 13.0, 13.0, 13.0, 13.0, 13.0, 13.0, 13.0, 13.0, 13.0, 13.0, 13.0, 13.0, 13.0, 13.0, 13.0, 13.0, 14.0, 14.0, 14.0, 14.0, 14.0, 14.0, 14.0, 14.0, 14.0, 14.0, 14.0, 14.0, 15.0, 15.0, 15.0, 15.0, 15.0, 15.0, 15.0, 15.0, 15.0, 15.0, 15.0, 15.0, 15.0, 15.0, 15.0, 15.0, 15.0, 15.0, 15.0, 15.0, 16.0, 16.0, 16.0, 16.0, 16.0, 12.0, 13.0, 13.0, 13.0, 13.0, 13.0, 13.0, 13.0, 14.0, 14.0, 14.0, 14.0, 14.0, 14.0, 14.0, 14.0, 10.0, 10.0, 11.0, 11.0, 11.0, 11.0, 11.0, 11.0, 11.0, 11.0, 11.0, 11.0, 11.0, 11.0, 12.0, 12.0, 12.0, 12.0, 12.0, 12.0, 12.0, 12.0, 12.0, 12.0, 12.0, 13.0, 13.0, 13.0, 13.0, 13.0, 13.0, 13.0, 13.0, 13.0, 13.0, 13.0, 13.0, 13.0, 14.0, 14.0, 14.0, 14.0, 14.0, 14.0, 14.0, 14.0, 14.0, 14.0, 14.0, 14.0, 15.0, 15.0, 15.0, 15.0, 15.0, 15.0, 15.0, 15.0, 15.0, 15.0, 15.0, 15.0, 16.0, 16.0, 16.0, 16.0, 16.0, 16.0, 16.0, 16.0, 16.0, 16.0, 16.0, 16.0, 17.0, 17.0, 17.0, 17.0, 17.0, 17.0, 17.0, 17.0, 17.0, 17.0, 17.0, 17.0, 18.0, 18.0, 18.0, 18.0, 18.0, 18.0, 18.0, 18.0, 18.0, 18.0, 18.0, 18.0, 13.0, 13.0, 15.0, 15.0, 15.0, 15.0, 15.0, 15.0, 16.0, 16.0, 16.0, 17.0, 17.0, 17.0, 17.0, 17.0, 17.0, 17.0, 17.0, 17.0, 17.0, 18.0, 18.0, 18.0, 18.0, 18.0, 18.0, 18.0, 18.0, 18.0, 18.0, 18.0, 18.0, 6.0, 6.0, 6.0, 6.0, 6.0, 6.0, 6.0, 6.0, 6.0, 6.0, 6.0, 6.0, 7.0, 7.0, 7.0, 7.0, 7.0, 7.0, 7.0, 7.0, 7.0, 7.0, 7.0, 7.0, 8.0, 8.0, 8.0, 8.0, 8.0, 8.0, 8.0, 8.0, 8.0, 8.0, 8.0, 9.0, 9.0, 9.0, 9.0, 9.0, 9.0, 9.0, 9.0, 9.0, 9.0, 9.0, 9.0, 10.0, 10.0, 10.0, 10.0, 10.0, 10.0, 10.0, 10.0, 10.0, 10.0, 10.0, 10.0, 11.0, 11.0, 11.0, 11.0, 11.0, 11.0, 11.0, 11.0, 11.0, 11.0, 11.0, 11.0, 12.0, 12.0, 12.0, 12.0, 12.0, 12.0, 12.0, 12.0, 12.0, 12.0, 12.0, 12.0, 13.0, 13.0, 13.0, 13.0, 13.0, 13.0, 13.0, 13.0, 13.0, 14.0, 14.0, 14.0, 14.0, 14.0, 14.0, 14.0, 14.0, 14.0, 14.0, 14.0, 14.0, 15.0, 15.0, 15.0, 15.0, 15.0, 15.0, 15.0, 15.0, 15.0, 15.0, 15.0, 15.0, 16.0, 16.0, 16.0, 16.0, 16.0, 16.0, 16.0, 16.0, 16.0, 16.0, 16.0, 16.0, 17.0, 17.0, 17.0, 17.0, 17.0, 17.0, 17.0, 17.0, 17.0, 17.0, 17.0, 18.0, 18.0, 18.0, 18.0, 18.0, 18.0, 18.0, 18.0, 18.0, 18.0, 18.0, 18.0]\n",
            "[13.988058316798687, 13.011225805526196, 72.93656036709747, 35.950088737028686, 77.1516869870556, 83.68864852792969, 82.21006548149384, 62.01478424259648, 67.14272841626783, 74.12818517502174, 67.38486811854757, 65.97570667218355, 75.54896815012775, 69.05298319315762, 69.09546901092793, 68.29873703177716, 68.06814892588854, 80.22990139899747, 33.741715174584364, 85.75180721332315, 55.95772904521862, 73.83635026282768, 77.35840756618462, 89.23249505069754, 78.45904241542834, 73.41751515775313, 72.2380210411711, 82.15827808577916, 78.07730609626857, 76.55939729446703, 78.16147869243694, 78.75348852762124, 68.09487522112238, 64.23127286150903, 57.610828284312376, 93.6343407580949, 84.64719535785886, 86.11943668470488, 74.37862972975603, 58.16027927685915, 39.11272312586041, 62.45755026033544, 60.54260350918501, 69.5303061368119, 66.22423294205207, 67.0570166899927, 64.09507574324691, 71.43257498690686, 74.7638436032912, 70.55102555766494, 80.13455109755783, 66.6378437954142, 82.97074343015584, 54.62083399918413, 87.38880594586014, 74.15845110948155, 90.89258805038894, 49.794147668164, 76.10909484157345, 44.36354599564673, 60.14096423073931, 56.65862506353603, 57.084216810208346, 76.21565796233436, 80.2951764371772, 87.49057693303543, 61.49388288713605, 54.66185478032814, 58.253300023697136, 60.55422519036091, 72.78532621472372, 60.55904523639603, 55.591835818290306, 55.14766689651706, 72.11097086404, 71.54779449300638, 78.96276273119436, 88.36454742023807, 87.57120150128884, 84.97379327081008, 84.29428195798863, 68.62644748097462, 73.80779027074388, 70.8012620807352, 72.45206525405163, 91.0793240769153, 69.54990831461586, 72.92474089150691, 72.43873636048119, 73.29646955727829, 72.8930553141883, 73.20519941762274, 80.43788143311353, 68.08229936560289, 70.9425850809023, 56.54802875887954, 77.83437907861625, 50.19067855270029, 72.29627983433684, 69.50721193850194, 70.41111262121515, 78.19932476455543, 76.35405584112434, 64.88812041936754, 83.70260418538858, 65.61522094481158, 57.57970350319679, 68.10788737258834, 68.14463128557213, 74.92238494413104, 89.14911034638689, 87.08393093298346, 63.26658326619818, 59.46260969559346, 69.50675739477508, 61.08576587396635, 74.11071348376517, 64.86674427492837, 68.70361662678422, 76.14219222223419, 76.40881787083595, 75.78102230548909, 76.02260662539187, 77.01232760305041, 58.43328238122404, 61.144554626925405, 74.48979786612759, 72.10539502699405, 78.03259741921215, 66.09988332176688, 73.69640059720649, 69.44749328336985, 69.51576505386673, 70.14551380686872, 76.44916134181554, 79.19313558391684, 70.45761486966263, 66.62281108036062, 64.32842506407904, 58.002525008411446, 67.6711873748212, 64.89779658577515, 60.02242454679889, 68.04185082456682, 66.15025033388683, 64.76532917242022, 64.78252444598516, 63.956164125950075, 65.34269853623886, 65.67295456258508, 57.986129322504304, 57.465009049045335, 59.209367319266946, 66.88102203525813, 63.72372334515084, 59.23730832076651, 60.88787508036906, 68.2936560139522, 59.47483074425392, 60.69250716257884, 61.85992249425015, 60.02342868282537, 57.66992195584285, 61.158059802729305, 62.698500052012825, 66.45348405280629, 63.91376639659508, 68.78369308538402, 60.13112956910902, 55.96749896309861, 52.00001025943951, 71.91497212691493, 70.20208573384006, 67.0772693843329, 57.08072372692859, 49.92397173341375, 60.26751511547094, 68.6250162398057, 66.13296073977337, 61.7024906746442, 67.77548257210253, 70.6150554176163, 74.37633364777996, 63.633995761897644, 77.53603733348912, 66.35319085670899, 66.04003755324604, 46.91324491002829, 47.17260262845441, 75.66940566985859, 71.55771195622432, 63.79834657304967, 63.24679685546751, 70.74878883979628, 71.7533726078159, 73.56701257813982, 62.12102801193578, 67.52540829772228, 63.2520419252166, 64.57137319150088, 64.8371839190845, 66.95945356547932, 67.68560920203221, 65.13843633658954, 63.483598463584045, 57.20370867354231, 61.73802540076352, 56.949635183916214, 57.51043363627688, 58.2379486173441, 75.1623563739374, 54.07117433802258, 60.1281031580228, 59.04578131744396, 56.83498213281105, 57.02642826756766, 59.00928278813154, 52.4543338660534, 51.32733976264825, 52.78877590779105, 53.29614139066392, 57.69687452437274, 50.48847869528, 54.1137704045773, 59.552969565835255, 58.85727768647428, 58.62422657722815, 60.10075710345453, 59.65691619647183, 59.454910804419285, 59.655587085501836, 47.026456497990054, 58.96813380644046, 59.65091256500512, 60.524469458922056, 56.07362571777536, 55.79975949653959, 56.511939669404796, 57.551163297648685, 60.105683641493656, 61.0311233875613, 62.277606955651706, 64.41397185394247, 60.16168274382938, 59.14583070133345, 59.88982868014867, 59.313448224939506, 56.471082286063506, 58.422897328772514, 60.56360372869976, 61.32081324208941, 59.28775895937194, 57.62130239022835, 55.801713231641834, 55.138605687795234, 56.17789969661617, 59.204063828806305, 54.77121410378687, 52.96027005372651, 52.25550163307123, 55.78888640932189, 52.89714432595569, 51.617195323598445, 52.10471762778288, 48.53000266681293, 53.59298201473093, 53.56007113076078, 54.69521069418438, 53.55981915417914, 57.031143397807654, 59.488668547891265, 61.04059789728445, 54.93586220958933, 55.39734990729973, 58.096321137865566, 58.49190156690969, 59.19649156614021, 57.81225859255746, 59.980951923179134, 57.625340459561556, 58.61712504363333, 59.459824275352915, 61.26557711166807, 60.1493607590276, 60.065168448353035, 58.83854741442801, 59.35964857900945, 63.429588911910145, 62.93999449172112, 60.9078480601684, 58.616832213150545, 58.4233999116413, 60.172795646406534, 59.47430724790884, 62.84001700628949, 63.053250636315475, 61.692462724354826, 61.31099496717719, 60.94476894747036, 61.80183539550329, 62.10905102978003, 63.70441491738802, 84.52202516042304, 5.270428200480588, 75.66304349867946, 0.7401840498268867, 41.816650429909274, 66.26359964976538, 43.647182667772626, 7.1710506049932174, 67.87093028826206, 38.306042512041685, 63.725076311249914, 74.97006524954895, 61.86318715440692, 63.46581201599955, 70.84202507521447, 67.1236828880082, 67.41760982594478, 68.18387073212094, 69.07900235694234, 68.52925488433624, 68.88142663987274, 69.30873615544319, 69.53268359774447, 69.08816131462247, 69.00848711530986, 67.93043944841577, 67.42555286424897, 66.50361543778766, 65.5784300794354, 63.0176977743008, 63.142588360233404, 62.626539194669604, 62.67870607578418, 53.7408756780525, 47.41037272225089, 47.647961530128924, 46.92503633028357, 45.76664370802764, 45.42271565852693, 46.100450127020245, 43.33933994091496, 41.16273671743193, 41.672304185549066, 43.423903342055624, 46.36202388736396, 48.38926008626256, 50.123082899446274, 51.30289440901001, 52.85066130990347, 53.86621935017103, 53.61212187980469, 54.43180097287164, 55.42763501638976, 55.12062542167407, 54.750076281840265, 53.8575840428778, 53.71330498824923, 52.73274891142139, 52.62201402000274, 52.05508939135601, 50.9028107404566, 49.644542280464634, 45.75218170547585, 45.46651157336299, 45.950641563856934, 44.974171754973604, 45.157386546324254, 42.63862730489985, 42.60469937086701, 43.3652345681547, 41.98686730593651, 41.845764670173736, 41.852284498528356, 41.58118603847337, 41.56749081583599, 41.78620554835149, 41.444557410153266, 41.39620076003551, 41.6084424724851, 41.90491415123452, 41.819060269005206, 41.813428681657875, 41.960158407036204, 41.55741269266431, 40.85967199305835, 42.11888923445067, 41.88868978968394, 42.04720428444887, 41.208762207199754, 40.70032618218238, 42.86559313936056, 43.70721663070626, 43.42297151351236, 42.45995686332171, 39.7658018115717, 39.808035081842256, 40.83972884206008, 45.2695426956436, 46.0567988614638, 46.1956688224198, 42.39902133505188, 50.702128374057594, 53.66354133642644, 54.74231505904606, 54.13022388134554, 57.588886517677956, 60.883315025183336, 63.24774937903855, 67.39239171936823, 67.37445462480147, 63.76719695608983, 61.289405155249725, 61.4235170130523, 62.2853666443122, 61.45719931851724, 51.79798602239403, 52.36658675310168, 57.23770328977348, 59.26968454587515, 48.64010763723931, 38.73370693161504, 32.01936691113039, 33.06695514577977, 38.43703178017549, 61.527944565208365, 64.59205075596255, 63.85376483562831, 61.7522672040798, 60.2095093142579, 62.41065866938788, 62.477262335851826, 61.36678967697325, 60.603211539620986, 60.25947373633893, 59.144417839740775, 58.7171900551687, 59.08104493402208, 59.975311053224246, 60.82912511825986, 61.256939730249634, 61.44935021391656, 61.32411680571342, 61.0676474535202, 60.26923087230666, 62.40061086573827, 62.75857803945984, 61.902038212835365, 59.67144683961845, 58.525292882578306, 56.949439053435114, 55.12491423677098, 55.01644998225938, 55.32903928991556, 54.82353970409836, 55.01280631035557, 56.51271780687585, 58.2641085716657, 60.6627531195857, 61.18058213517066, 59.41058179864333, 58.586578231969575, 55.76170335324337, 54.97543129867235, 56.06103758280839, 56.39679032567253, 58.827252795901764, 57.10821750293802, 56.24564172067953, 56.033823512535236, 56.11408260820653, 56.220287625519866, 56.80751146075628, 56.90794949472049, 57.951659475767194, 58.10214299455786, 57.98004508382531, 57.75027284487425, 59.41011621436491, 60.51020837272076, 60.34597195221021, 59.44235119077485, 59.88804046531398, 60.59319729960649, 60.938486792064516]\n",
            "[18.30630111694336, 17.759958267211914, 38.76405715942383, 29.211015701293945, 39.25362014770508, 46.11984634399414, 44.386722564697266, 46.05776596069336, 53.52329635620117, 57.449180603027344, 47.027408599853516, 48.67979431152344, 44.30538558959961, 49.310577392578125, 50.211490631103516, 47.73347854614258, 48.74065017700195, 44.01187515258789, 29.10783576965332, 45.5201416015625, 53.77639389038086, 50.44172668457031, 51.36069869995117, 39.93488693237305, 43.43080520629883, 49.07674026489258, 46.269866943359375, 46.738136291503906, 35.55320739746094, 35.18395233154297, 47.48016357421875, 52.094398498535156, 44.09960174560547, 44.687400817871094, 45.898529052734375, 12.57230281829834, 42.62632369995117, 45.92339324951172, 34.580360412597656, 46.30495071411133, 42.26688003540039, 44.963741302490234, 48.9262580871582, 51.618309020996094, 47.5596809387207, 46.43819808959961, 39.59543228149414, 43.78755187988281, 50.878360748291016, 49.651939392089844, 49.18357467651367, 46.812034606933594, 47.070186614990234, 41.53636932373047, 14.293498992919922, 52.32029342651367, 14.855027198791504, 47.011932373046875, 44.34765625, 46.656890869140625, 49.73848342895508, 49.59410095214844, 38.87611770629883, 28.204431533813477, 45.63040542602539, 36.8070068359375, 44.19481658935547, 46.08799362182617, 48.55440902709961, 46.19702911376953, 29.743587493896484, 44.409393310546875, 42.65745544433594, 42.87989044189453, 43.189353942871094, 34.664573669433594, 31.333606719970703, 33.99447250366211, 33.69638442993164, 41.16373062133789, 37.19266128540039, 35.672813415527344, 36.07591247558594, 34.726348876953125, 36.204280853271484, 34.991024017333984, 41.030059814453125, 39.952335357666016, 40.242454528808594, 39.96603775024414, 42.43675231933594, 37.81515121459961, 35.86686706542969, 40.96156692504883, 46.79872131347656, 50.131858825683594, 50.89765930175781, 44.548179626464844, 53.54861068725586, 51.20248794555664, 48.359519958496094, 46.67847442626953, 43.33856201171875, 30.798250198364258, 37.338768005371094, 36.338436126708984, 42.04503631591797, 42.61661148071289, 39.54409408569336, 37.259246826171875, 34.59269332885742, 34.4604377746582, 41.99032211303711, 36.340450286865234, 43.92902374267578, 42.20547103881836, 44.812408447265625, 46.62139129638672, 43.88300704956055, 41.720638275146484, 41.486270904541016, 47.00477600097656, 34.34983825683594, 44.98011779785156, 47.309329986572266, 55.413516998291016, 50.38136291503906, 51.17060470581055, 46.168060302734375, 45.733314514160156, 50.62514114379883, 44.788326263427734, 49.63011932373047, 47.7735481262207, 45.94695281982422, 39.58819580078125, 44.559226989746094, 51.759979248046875, 50.43571853637695, 49.073570251464844, 50.722354888916016, 53.906490325927734, 49.37627029418945, 52.88906478881836, 46.77283477783203, 42.3004264831543, 44.026248931884766, 47.78462600708008, 43.44224548339844, 49.407073974609375, 48.35675048828125, 49.051979064941406, 52.430084228515625, 53.93732452392578, 51.017250061035156, 52.10947799682617, 52.8250846862793, 49.433658599853516, 47.67445373535156, 52.36701202392578, 48.042686462402344, 50.246028900146484, 47.8255615234375, 50.001399993896484, 45.457130432128906, 48.07451248168945, 50.10377502441406, 42.841529846191406, 51.548954010009766, 46.938507080078125, 49.22134780883789, 47.04494857788086, 41.75605392456055, 51.49847412109375, 51.20244216918945, 44.432247161865234, 49.901588439941406, 45.54985427856445, 52.18889236450195, 51.035682678222656, 44.61015701293945, 49.78721618652344, 47.26298141479492, 49.42181396484375, 45.96772003173828, 49.75815963745117, 50.33315658569336, 39.70380401611328, 45.88099670410156, 47.8079719543457, 45.82889175415039, 43.75241470336914, 44.19466018676758, 39.97808837890625, 45.947322845458984, 38.88817596435547, 47.28874206542969, 49.97951126098633, 42.77299499511719, 46.61635971069336, 47.776607513427734, 46.04389572143555, 44.775352478027344, 47.39664840698242, 53.250640869140625, 54.36772918701172, 48.3304557800293, 39.709556579589844, 48.02543640136719, 48.973838806152344, 23.593578338623047, 49.40530776977539, 48.4683837890625, 48.301998138427734, 50.225772857666016, 46.322105407714844, 45.118045806884766, 40.19747543334961, 36.832149505615234, 41.995277404785156, 43.48382568359375, 47.35060501098633, 20.134052276611328, 45.51449966430664, 45.910423278808594, 45.021636962890625, 46.84233474731445, 48.80107498168945, 45.99343490600586, 47.8128662109375, 45.172035217285156, 19.144254684448242, 49.33306121826172, 49.06117630004883, 50.27946472167969, 51.725975036621094, 51.821598052978516, 51.25701904296875, 48.6141242980957, 47.88846969604492, 50.39938735961914, 49.446651458740234, 48.649837493896484, 54.086570739746094, 52.76474380493164, 49.73623275756836, 47.99540710449219, 47.88673782348633, 46.189815521240234, 48.26655578613281, 49.26145553588867, 51.340667724609375, 51.57624053955078, 52.83629608154297, 53.1630859375, 51.670406341552734, 51.73775100708008, 53.1497688293457, 52.52869415283203, 51.8868522644043, 54.10910415649414, 51.2029914855957, 51.272789001464844, 51.451351165771484, 9.91714859008789, 51.704769134521484, 52.31168746948242, 53.779869079589844, 52.883785247802734, 52.734561920166016, 53.72590255737305, 55.888492584228516, 52.994415283203125, 52.42871856689453, 50.9708251953125, 53.51791000366211, 56.24620819091797, 55.02378845214844, 55.516014099121094, 47.455928802490234, 46.419403076171875, 40.891719818115234, 43.840301513671875, 46.022701263427734, 42.61981964111328, 45.932342529296875, 43.70745086669922, 44.134490966796875, 49.683067321777344, 55.094970703125, 53.93644714355469, 53.968563079833984, 54.72040939331055, 54.49378204345703, 55.7924690246582, 55.59185791015625, 54.87578582763672, 55.304100036621094, 55.1403923034668, 55.41205978393555, 54.784629821777344, 54.839149475097656, 42.51755142211914, 7.455005645751953, 44.35597610473633, 1.4675911664962769, 38.08696365356445, 48.111995697021484, 30.622175216674805, 12.270280838012695, 30.76756477355957, 40.52059555053711, 41.27230453491211, 43.099212646484375, 40.69575881958008, 40.70161056518555, 43.67477035522461, 43.08338928222656, 43.274105072021484, 42.766605377197266, 42.63794708251953, 42.770477294921875, 42.699031829833984, 42.43733596801758, 42.93175506591797, 43.71797180175781, 44.0652961730957, 44.549381256103516, 44.50425338745117, 45.65852737426758, 45.07615661621094, 45.16256332397461, 44.824195861816406, 45.50691604614258, 45.02973937988281, 41.16622543334961, 40.48667526245117, 38.455020904541016, 39.1548957824707, 39.5698127746582, 39.39211654663086, 40.135406494140625, 37.26827621459961, 31.37946891784668, 31.162111282348633, 33.76346206665039, 37.890743255615234, 37.955989837646484, 37.07170486450195, 39.47488021850586, 37.55855178833008, 37.672176361083984, 38.12765121459961, 39.14351272583008, 39.75537872314453, 39.838680267333984, 39.06014633178711, 36.59889221191406, 37.181827545166016, 38.26612091064453, 37.53180694580078, 38.06983184814453, 37.24460983276367, 39.0653076171875, 37.05998992919922, 36.724578857421875, 35.87633514404297, 34.03541946411133, 36.012794494628906, 32.052146911621094, 28.53375244140625, 27.39710807800293, 29.648778915405273, 29.22112464904785, 29.193132400512695, 29.282167434692383, 29.644309997558594, 31.703075408935547, 30.825550079345703, 31.270437240600586, 30.006959915161133, 30.71237564086914, 29.771013259887695, 30.281782150268555, 28.30838966369629, 28.76421546936035, 29.774084091186523, 26.347869873046875, 28.546329498291016, 27.873756408691406, 26.850141525268555, 27.043636322021484, 32.67948913574219, 34.917110443115234, 33.65599060058594, 32.16719436645508, 26.915714263916016, 27.324214935302734, 30.239131927490234, 37.24535369873047, 33.539207458496094, 36.28776168823242, 34.78754425048828, 34.8631706237793, 32.991859436035156, 34.752479553222656, 35.470924377441406, 33.03746032714844, 33.96955490112305, 33.304141998291016, 31.32664680480957, 31.08031463623047, 33.71721267700195, 35.050724029541016, 37.39163589477539, 36.68461608886719, 40.41274642944336, 46.93703079223633, 38.4498176574707, 45.83426284790039, 45.01799392700195, 35.49833297729492, 35.640777587890625, 31.52354621887207, 32.9974250793457, 34.98868179321289, 41.603065490722656, 42.06663131713867, 42.26640701293945, 39.31631088256836, 39.76172637939453, 40.83900833129883, 43.953277587890625, 45.5128059387207, 46.471473693847656, 44.515777587890625, 42.79338073730469, 39.5191535949707, 40.690921783447266, 43.353153228759766, 43.88206100463867, 44.16360092163086, 44.1306266784668, 43.65244674682617, 41.3956298828125, 39.75154113769531, 39.617286682128906, 40.052101135253906, 41.02626037597656, 39.38839340209961, 38.07697296142578, 37.85444641113281, 39.444759368896484, 42.01655960083008, 42.60575866699219, 43.551422119140625, 44.701507568359375, 46.23401641845703, 46.898948669433594, 46.36012268066406, 43.190635681152344, 39.1631965637207, 40.21417999267578, 39.493896484375, 39.63102340698242, 42.617549896240234, 39.282230377197266, 44.48899841308594, 41.65533447265625, 40.99854278564453, 40.16357421875, 40.68030548095703, 41.89622116088867, 42.89011764526367, 44.334022521972656, 45.824954986572266, 45.94160461425781, 45.50197982788086, 45.039058685302734, 45.56279754638672, 44.9193000793457, 45.15093231201172, 44.549468994140625, 43.95248794555664, 43.87408447265625, 43.480892181396484]\n",
            "[83.0, 83.0, 84.0, 63.0, 67.0, 67.0, 67.0, 75.0, 75.0, 75.0, 75.0, 75.0, 89.0, 89.0, 89.0, 89.0, 89.0, 89.0, 75.0, 70.0, 75.0, 70.0, 70.0, 70.0, 70.0, 75.0, 75.0, 70.0, 70.0, 70.0, 70.0, 70.0, 70.0, 70.0, 70.0, 70.0, 66.0, 66.0, 66.0, 66.0, 66.0, 66.0, 66.0, 66.0, 70.0, 70.0, 70.0, 70.0, 70.0, 70.0, 70.0, 67.0, 67.0, 67.0, 67.0, 67.0, 67.0, 67.0, 67.0, 67.0, 67.0, 67.0, 79.0, 79.0, 83.0, 83.0, 79.0, 79.0, 79.0, 79.0, 79.0, 79.0, 79.0, 79.0, 79.0, 79.0, 79.0, 79.0, 79.0, 67.0, 63.0, 63.0, 63.0, 67.0, 67.0, 67.0, 59.0, 59.0, 59.0, 59.0, 59.0, 59.0, 56.0, 56.0, 67.0, 67.0, 70.0, 75.0, 75.0, 75.0, 89.0, 89.0, 89.0, 63.0, 63.0, 63.0, 63.0, 63.0, 63.0, 67.0, 67.0, 67.0, 59.0, 59.0, 59.0, 59.0, 59.0, 59.0, 59.0, 59.0, 59.0, 59.0, 56.0, 56.0, 70.0, 70.0, 70.0, 70.0, 70.0, 70.0, 75.0, 75.0, 70.0, 70.0, 70.0, 70.0, 70.0, 70.0, 70.0, 70.0, 70.0, 70.0, 70.0, 70.0, 70.0, 70.0, 70.0, 70.0, 70.0, 70.0, 70.0, 66.0, 66.0, 66.0, 66.0, 66.0, 66.0, 70.0, 70.0, 70.0, 70.0, 70.0, 66.0, 67.0, 67.0, 67.0, 67.0, 67.0, 67.0, 67.0, 67.0, 67.0, 67.0, 67.0, 67.0, 67.0, 67.0, 67.0, 67.0, 67.0, 67.0, 67.0, 67.0, 71.0, 71.0, 71.0, 71.0, 71.0, 70.0, 67.0, 63.0, 63.0, 63.0, 67.0, 67.0, 67.0, 59.0, 59.0, 59.0, 59.0, 59.0, 59.0, 56.0, 56.0, 79.0, 79.0, 70.0, 70.0, 70.0, 70.0, 70.0, 70.0, 70.0, 70.0, 74.0, 74.0, 70.0, 70.0, 74.0, 74.0, 74.0, 74.0, 74.0, 74.0, 74.0, 74.0, 88.0, 88.0, 74.0, 88.0, 88.0, 88.0, 88.0, 88.0, 88.0, 79.0, 79.0, 79.0, 79.0, 79.0, 88.0, 88.0, 70.0, 70.0, 70.0, 70.0, 70.0, 70.0, 70.0, 70.0, 70.0, 70.0, 70.0, 70.0, 70.0, 70.0, 70.0, 70.0, 70.0, 66.0, 66.0, 66.0, 66.0, 66.0, 70.0, 70.0, 70.0, 70.0, 70.0, 70.0, 70.0, 70.0, 70.0, 70.0, 70.0, 70.0, 70.0, 70.0, 66.0, 66.0, 66.0, 66.0, 66.0, 66.0, 66.0, 63.0, 63.0, 63.0, 66.0, 66.0, 70.0, 70.0, 70.0, 70.0, 70.0, 70.0, 70.0, 70.0, 70.0, 70.0, 70.0, 70.0, 67.0, 67.0, 60.0, 60.0, 60.0, 56.0, 56.0, 56.0, 63.0, 63.0, 63.0, 60.0, 60.0, 60.0, 63.0, 63.0, 63.0, 63.0, 63.0, 63.0, 60.0, 63.0, 63.0, 59.0, 59.0, 56.0, 56.0, 56.0, 56.0, 56.0, 56.0, 56.0, 63.0, 94.0, 94.0, 94.0, 94.0, 94.0, 94.0, 94.0, 94.0, 100.0, 100.0, 100.0, 94.0, 94.0, 94.0, 94.0, 94.0, 94.0, 89.0, 89.0, 89.0, 89.0, 89.0, 89.0, 94.0, 79.0, 79.0, 79.0, 79.0, 79.0, 79.0, 79.0, 79.0, 79.0, 79.0, 79.0, 79.0, 79.0, 79.0, 79.0, 79.0, 79.0, 79.0, 79.0, 74.0, 74.0, 74.0, 79.0, 79.0, 79.0, 79.0, 79.0, 79.0, 79.0, 79.0, 79.0, 66.0, 66.0, 66.0, 79.0, 66.0, 66.0, 70.0, 70.0, 70.0, 67.0, 67.0, 67.0, 67.0, 67.0, 67.0, 66.0, 63.0, 63.0, 63.0, 63.0, 63.0, 63.0, 63.0, 63.0, 59.0, 59.0, 59.0, 63.0, 63.0, 63.0, 63.0, 63.0, 63.0, 63.0, 63.0, 63.0, 63.0, 70.0, 70.0, 70.0, 70.0, 70.0, 70.0, 70.0, 70.0, 66.0, 66.0, 66.0, 70.0, 79.0, 79.0, 79.0, 79.0, 79.0, 79.0, 79.0, 79.0, 79.0, 79.0, 79.0, 79.0, 79.0, 79.0, 79.0, 79.0, 79.0, 79.0, 79.0, 79.0, 83.0, 83.0, 83.0, 79.0, 79.0, 79.0, 79.0, 79.0, 79.0, 79.0, 79.0, 79.0, 79.0, 79.0, 79.0, 84.0, 84.0, 84.0, 84.0, 84.0, 84.0, 84.0, 84.0, 79.0, 79.0, 79.0, 84.0]\n",
            "[1001.0, 1001.0, 1001.0, 1000.0, 999.0, 999.0, 999.0, 999.0, 999.0, 999.0, 999.0, 999.0, 999.0, 999.0, 999.0, 999.0, 999.0, 999.0, 1003.0, 1003.0, 1002.0, 1002.0, 1002.0, 1002.0, 1002.0, 1002.0, 1002.0, 1002.0, 1002.0, 1002.0, 1002.0, 1002.0, 1002.0, 1002.0, 1002.0, 1002.0, 1002.0, 1002.0, 1002.0, 1002.0, 1002.0, 1002.0, 1002.0, 1002.0, 1002.0, 1002.0, 1002.0, 1002.0, 1002.0, 1002.0, 1002.0, 1001.0, 1001.0, 1001.0, 1001.0, 1001.0, 1001.0, 1001.0, 1001.0, 1000.0, 1000.0, 1000.0, 1002.0, 1002.0, 1002.0, 1002.0, 1002.0, 1002.0, 1002.0, 1002.0, 1002.0, 1002.0, 1002.0, 1002.0, 1002.0, 1002.0, 1002.0, 1002.0, 1002.0, 1000.0, 1000.0, 1000.0, 1000.0, 1000.0, 1000.0, 1000.0, 1000.0, 1000.0, 1000.0, 1000.0, 1000.0, 1000.0, 1000.0, 1000.0, 1000.0, 1000.0, 999.0, 999.0, 999.0, 999.0, 999.0, 999.0, 999.0, 998.0, 1000.0, 1000.0, 1000.0, 1000.0, 1000.0, 1000.0, 1000.0, 1000.0, 1000.0, 1000.0, 1000.0, 1000.0, 1000.0, 1000.0, 1000.0, 1000.0, 1000.0, 1000.0, 1000.0, 1000.0, 1002.0, 1002.0, 1002.0, 1002.0, 1002.0, 1002.0, 1002.0, 1002.0, 1002.0, 1002.0, 1002.0, 1002.0, 1002.0, 1002.0, 1002.0, 1002.0, 1002.0, 1002.0, 1002.0, 1002.0, 1002.0, 1002.0, 1002.0, 1002.0, 1002.0, 1002.0, 1002.0, 1002.0, 1002.0, 1002.0, 1002.0, 1002.0, 1002.0, 1002.0, 1002.0, 1002.0, 1002.0, 1002.0, 1002.0, 1001.0, 1001.0, 1001.0, 1001.0, 1001.0, 1001.0, 1001.0, 1001.0, 1001.0, 1001.0, 1001.0, 1000.0, 1000.0, 1000.0, 1000.0, 1000.0, 1000.0, 1001.0, 1001.0, 1001.0, 1000.0, 1000.0, 1000.0, 1000.0, 1000.0, 1002.0, 1000.0, 1000.0, 1000.0, 1000.0, 1000.0, 1000.0, 1000.0, 1000.0, 1000.0, 1000.0, 1000.0, 1000.0, 1000.0, 1000.0, 1000.0, 1000.0, 1000.0, 1000.0, 1000.0, 1000.0, 1000.0, 1000.0, 1000.0, 1000.0, 1000.0, 1000.0, 1000.0, 1000.0, 1000.0, 1000.0, 1000.0, 1000.0, 1000.0, 1000.0, 1000.0, 1000.0, 1000.0, 1001.0, 1001.0, 1000.0, 1001.0, 1001.0, 1001.0, 1001.0, 1001.0, 1001.0, 1000.0, 1000.0, 1000.0, 1000.0, 1000.0, 1001.0, 1001.0, 1000.0, 1000.0, 1000.0, 1000.0, 1000.0, 1000.0, 1000.0, 1000.0, 1000.0, 1000.0, 1000.0, 1000.0, 999.0, 999.0, 999.0, 999.0, 999.0, 999.0, 999.0, 999.0, 999.0, 999.0, 999.0, 999.0, 999.0, 999.0, 999.0, 999.0, 999.0, 999.0, 999.0, 999.0, 999.0, 999.0, 999.0, 999.0, 998.0, 998.0, 998.0, 998.0, 998.0, 998.0, 998.0, 998.0, 998.0, 998.0, 998.0, 998.0, 998.0, 998.0, 998.0, 998.0, 998.0, 998.0, 998.0, 998.0, 998.0, 998.0, 998.0, 998.0, 1000.0, 1000.0, 999.0, 999.0, 999.0, 998.0, 998.0, 998.0, 998.0, 998.0, 998.0, 997.0, 997.0, 997.0, 997.0, 997.0, 997.0, 997.0, 997.0, 997.0, 997.0, 997.0, 997.0, 997.0, 997.0, 998.0, 998.0, 998.0, 998.0, 998.0, 998.0, 998.0, 997.0, 999.0, 999.0, 999.0, 999.0, 999.0, 999.0, 999.0, 999.0, 1000.0, 1000.0, 1000.0, 999.0, 1000.0, 1000.0, 1000.0, 1000.0, 1000.0, 1000.0, 1000.0, 1000.0, 1000.0, 1000.0, 1000.0, 1000.0, 1000.0, 1000.0, 1000.0, 1000.0, 1000.0, 1000.0, 1000.0, 1000.0, 1000.0, 1000.0, 1000.0, 1000.0, 1000.0, 1000.0, 1000.0, 1000.0, 1000.0, 1000.0, 1000.0, 1000.0, 1000.0, 1000.0, 1000.0, 1000.0, 1000.0, 1000.0, 1000.0, 1000.0, 1000.0, 1000.0, 1000.0, 1000.0, 1000.0, 1000.0, 1000.0, 1000.0, 1000.0, 1000.0, 1000.0, 1000.0, 999.0, 999.0, 999.0, 999.0, 999.0, 999.0, 1000.0, 999.0, 999.0, 999.0, 999.0, 999.0, 999.0, 999.0, 999.0, 999.0, 999.0, 999.0, 999.0, 999.0, 999.0, 999.0, 999.0, 999.0, 999.0, 999.0, 999.0, 999.0, 999.0, 999.0, 999.0, 999.0, 999.0, 999.0, 999.0, 999.0, 999.0, 999.0, 999.0, 999.0, 999.0, 999.0, 999.0, 999.0, 999.0, 999.0, 999.0, 999.0, 999.0, 999.0, 999.0, 999.0, 999.0, 999.0, 998.0, 998.0, 998.0, 998.0, 998.0, 998.0, 998.0, 998.0, 998.0, 999.0, 998.0, 998.0, 998.0, 998.0, 998.0, 998.0, 998.0, 997.0, 997.0, 997.0, 998.0, 997.0, 997.0, 997.0, 997.0, 997.0, 997.0, 997.0, 997.0, 997.0, 997.0, 997.0, 997.0]\n",
            "[29.68, 29.68, 30.0, 31.2, 32.03, 32.03, 32.03, 28.91, 28.91, 28.91, 28.91, 28.91, 28.96, 28.96, 28.96, 28.96, 28.96, 28.96, 30.88, 32.0, 31.28, 31.57, 31.57, 31.57, 31.56, 31.28, 31.28, 31.48, 31.48, 31.48, 31.48, 32.49, 32.49, 32.49, 32.49, 31.49, 32.49, 32.49, 32.49, 32.49, 32.49, 32.49, 32.49, 32.49, 32.55, 32.55, 32.55, 32.55, 32.55, 32.55, 32.55, 32.98, 32.98, 32.98, 32.98, 32.98, 32.98, 32.98, 32.98, 33.49, 33.49, 33.49, 30.21, 30.21, 29.56, 29.56, 30.2, 30.2, 30.2, 30.2, 30.2, 30.2, 30.2, 30.2, 30.22, 30.22, 30.2, 30.2, 30.2, 33.98, 34.49, 34.49, 34.49, 33.98, 33.98, 33.98, 34.49, 34.49, 34.49, 34.49, 34.49, 34.49, 34.49, 34.49, 32.04, 32.04, 32.11, 28.91, 28.91, 28.91, 28.97, 28.97, 28.97, 32.64, 34.49, 34.49, 34.49, 34.49, 34.49, 33.98, 33.98, 33.98, 34.49, 34.49, 34.49, 34.49, 34.49, 34.49, 34.49, 34.49, 34.49, 34.49, 34.49, 34.49, 31.56, 31.56, 31.56, 31.56, 31.56, 31.56, 31.28, 31.28, 31.49, 31.48, 31.48, 31.48, 32.49, 32.49, 32.49, 32.49, 32.49, 32.49, 32.49, 32.49, 32.49, 32.49, 31.49, 31.49, 31.49, 31.49, 31.49, 32.49, 32.49, 32.49, 32.49, 32.49, 32.49, 32.55, 32.55, 32.55, 32.55, 32.55, 32.49, 32.98, 32.98, 32.98, 32.98, 32.98, 32.98, 32.98, 32.98, 32.98, 32.98, 32.98, 33.49, 33.49, 33.49, 33.49, 33.49, 33.49, 32.98, 32.98, 32.98, 34.0, 34.0, 34.0, 34.0, 34.0, 31.16, 33.98, 34.49, 34.49, 34.49, 33.98, 33.98, 33.98, 34.49, 34.49, 34.49, 34.49, 34.49, 34.49, 34.49, 34.49, 30.43, 30.43, 31.03, 31.03, 31.03, 31.03, 31.03, 31.03, 31.03, 31.03, 30.72, 30.72, 31.03, 31.03, 30.2, 30.39, 30.39, 30.39, 30.39, 30.38, 30.38, 30.38, 30.13, 30.13, 30.2, 30.17, 30.17, 30.17, 29.96, 29.96, 29.96, 31.06, 31.06, 31.06, 30.75, 30.75, 30.17, 30.17, 30.76, 30.76, 30.75, 30.75, 31.06, 31.06, 31.06, 31.06, 31.06, 31.06, 31.06, 30.76, 31.06, 31.06, 31.06, 31.06, 31.06, 31.45, 31.45, 31.45, 31.82, 31.82, 31.06, 31.06, 31.79, 31.79, 31.79, 31.79, 31.79, 31.83, 31.83, 31.83, 31.81, 31.81, 31.79, 31.79, 31.81, 31.82, 31.82, 31.82, 31.82, 32.12, 32.12, 32.51, 32.51, 32.51, 31.81, 31.81, 32.18, 32.2, 32.2, 32.2, 32.21, 32.21, 32.21, 32.42, 32.42, 32.42, 32.42, 32.18, 33.98, 33.98, 33.74, 33.74, 33.74, 34.39, 34.39, 34.63, 33.91, 33.91, 33.54, 33.67, 33.67, 33.67, 33.61, 33.61, 33.61, 33.67, 33.67, 33.67, 33.64, 33.89, 33.89, 33.35, 33.35, 33.31, 33.31, 33.31, 33.31, 33.35, 33.35, 33.35, 33.89, 30.27, 30.27, 30.04, 30.04, 30.04, 30.51, 30.51, 30.51, 30.33, 30.33, 30.33, 30.27, 30.03, 30.03, 30.04, 30.04, 30.04, 30.56, 30.56, 30.56, 30.48, 30.48, 30.48, 30.03, 30.5, 30.5, 30.47, 30.47, 30.47, 30.48, 30.48, 30.27, 30.27, 30.27, 30.5, 30.44, 30.44, 30.6, 30.6, 30.6, 30.6, 30.6, 30.6, 31.26, 31.26, 31.26, 30.44, 31.0, 31.0, 31.25, 31.25, 31.25, 31.0, 31.0, 31.0, 32.49, 32.49, 32.49, 31.0, 32.49, 32.49, 33.0, 33.0, 33.0, 32.98, 32.98, 32.98, 32.98, 32.98, 32.98, 32.49, 33.98, 33.98, 33.98, 33.98, 33.98, 33.98, 33.98, 33.98, 33.98, 33.98, 33.98, 33.98, 33.98, 33.98, 33.98, 33.98, 33.98, 33.98, 33.98, 33.98, 33.98, 31.28, 31.28, 31.28, 31.28, 31.28, 31.28, 31.28, 31.28, 31.22, 31.22, 31.22, 31.28, 28.75, 28.75, 28.75, 28.75, 28.75, 28.67, 28.67, 28.67, 28.66, 28.66, 28.66, 28.75, 28.57, 28.57, 28.61, 28.61, 28.61, 29.51, 29.51, 29.51, 29.11, 29.11, 29.11, 28.57, 29.3, 29.3, 29.3, 29.3, 30.85, 30.85, 30.85, 30.26, 30.26, 30.26, 29.3, 30.45, 30.45, 30.46, 30.46, 30.46, 30.42, 30.42, 30.42, 30.79, 30.79, 30.79, 30.45]\n",
            "[60.0, 60.0, 90.0, 70.0, 70.0, 70.0, 70.0, 60.0, 60.0, 60.0, 60.0, 60.0, 70.0, 70.0, 70.0, 70.0, 70.0, 70.0, 40.0, 110.0, 110.0, 90.0, 90.0, 90.0, 90.0, 110.0, 110.0, 70.0, 70.0, 70.0, 70.0, 50.0, 50.0, 50.0, 50.0, 70.0, 50.0, 50.0, 50.0, 50.0, 50.0, 50.0, 50.0, 50.0, 90.0, 90.0, 90.0, 90.0, 90.0, 90.0, 90.0, 90.0, 90.0, 90.0, 90.0, 90.0, 90.0, 90.0, 90.0, 100.0, 100.0, 100.0, 80.0, 80.0, 60.0, 60.0, 110.0, 110.0, 110.0, 110.0, 110.0, 110.0, 110.0, 110.0, 70.0, 70.0, 110.0, 110.0, 110.0, 170.0, 90.0, 90.0, 90.0, 170.0, 170.0, 170.0, 90.0, 90.0, 90.0, 90.0, 90.0, 90.0, 100.0, 100.0, 90.0, 90.0, 90.0, 60.0, 60.0, 60.0, 70.0, 70.0, 70.0, 90.0, 90.0, 90.0, 90.0, 90.0, 90.0, 170.0, 170.0, 170.0, 90.0, 90.0, 90.0, 90.0, 90.0, 90.0, 90.0, 90.0, 90.0, 90.0, 100.0, 100.0, 90.0, 90.0, 90.0, 90.0, 90.0, 90.0, 110.0, 110.0, 70.0, 70.0, 70.0, 70.0, 50.0, 50.0, 50.0, 50.0, 50.0, 50.0, 50.0, 50.0, 50.0, 50.0, 70.0, 70.0, 70.0, 70.0, 70.0, 50.0, 50.0, 50.0, 50.0, 50.0, 50.0, 90.0, 90.0, 90.0, 90.0, 90.0, 50.0, 90.0, 90.0, 90.0, 90.0, 90.0, 90.0, 90.0, 90.0, 90.0, 90.0, 90.0, 100.0, 100.0, 100.0, 100.0, 100.0, 100.0, 90.0, 90.0, 90.0, 60.0, 60.0, 60.0, 60.0, 60.0, 80.0, 170.0, 90.0, 90.0, 90.0, 170.0, 170.0, 170.0, 90.0, 90.0, 90.0, 90.0, 90.0, 90.0, 100.0, 100.0, 100.0, 100.0, 80.0, 80.0, 80.0, 80.0, 80.0, 80.0, 80.0, 80.0, 80.0, 80.0, 80.0, 80.0, 50.0, 50.0, 50.0, 50.0, 50.0, 50.0, 50.0, 50.0, 120.0, 120.0, 50.0, 120.0, 120.0, 120.0, 120.0, 120.0, 120.0, 110.0, 110.0, 110.0, 110.0, 110.0, 120.0, 120.0, 120.0, 120.0, 120.0, 120.0, 120.0, 120.0, 120.0, 120.0, 110.0, 110.0, 110.0, 120.0, 100.0, 100.0, 100.0, 100.0, 100.0, 120.0, 120.0, 120.0, 120.0, 120.0, 100.0, 100.0, 120.0, 120.0, 120.0, 120.0, 120.0, 120.0, 120.0, 120.0, 120.0, 120.0, 120.0, 120.0, 130.0, 130.0, 130.0, 130.0, 130.0, 130.0, 130.0, 110.0, 110.0, 110.0, 130.0, 130.0, 110.0, 110.0, 110.0, 110.0, 100.0, 100.0, 100.0, 100.0, 100.0, 100.0, 100.0, 110.0, 170.0, 170.0, 70.0, 70.0, 70.0, 80.0, 80.0, 80.0, 40.0, 40.0, 70.0, 70.0, 70.0, 70.0, 110.0, 110.0, 110.0, 110.0, 110.0, 110.0, 70.0, 110.0, 110.0, 90.0, 90.0, 70.0, 70.0, 70.0, 70.0, 70.0, 70.0, 70.0, 110.0, 100.0, 100.0, 100.0, 100.0, 100.0, 100.0, 100.0, 100.0, 100.0, 100.0, 100.0, 100.0, 130.0, 130.0, 130.0, 130.0, 130.0, 120.0, 120.0, 120.0, 120.0, 120.0, 120.0, 130.0, 80.0, 80.0, 80.0, 80.0, 80.0, 80.0, 80.0, 100.0, 100.0, 100.0, 80.0, 100.0, 100.0, 140.0, 140.0, 140.0, 140.0, 140.0, 140.0, 140.0, 140.0, 140.0, 100.0, 140.0, 140.0, 140.0, 140.0, 140.0, 140.0, 140.0, 140.0, 120.0, 120.0, 120.0, 140.0, 120.0, 120.0, 150.0, 150.0, 150.0, 40.0, 40.0, 40.0, 40.0, 40.0, 40.0, 120.0, 90.0, 90.0, 90.0, 90.0, 90.0, 90.0, 90.0, 90.0, 70.0, 70.0, 70.0, 90.0, 70.0, 70.0, 70.0, 70.0, 70.0, 70.0, 70.0, 70.0, 70.0, 30.0, 30.0, 30.0, 30.0, 30.0, 30.0, 30.0, 30.0, 290.0, 290.0, 290.0, 30.0, 270.0, 270.0, 270.0, 270.0, 270.0, 230.0, 230.0, 230.0, 230.0, 230.0, 230.0, 270.0, 230.0, 230.0, 350.0, 350.0, 350.0, 350.0, 350.0, 350.0, 20.0, 20.0, 20.0, 230.0, 20.0, 20.0, 20.0, 20.0, 20.0, 20.0, 20.0, 40.0, 40.0, 40.0, 20.0, 20.0, 20.0, 20.0, 20.0, 20.0, 20.0, 20.0, 20.0, 60.0, 60.0, 60.0, 20.0]\n",
            "[4.1, 4.1, 1.5, 3.1, 4.1, 4.1, 4.1, 2.6, 2.6, 2.6, 2.6, 2.6, 2.6, 2.6, 2.6, 2.6, 2.6, 2.6, 4.1, 5.7, 2.6, 2.1, 2.1, 2.1, 2.1, 2.6, 2.6, 2.6, 2.6, 2.6, 2.6, 2.1, 2.1, 2.1, 2.1, 2.6, 3.6, 3.6, 3.6, 3.6, 3.6, 3.6, 3.6, 3.6, 4.1, 4.1, 4.1, 4.1, 4.1, 4.1, 4.1, 2.1, 2.1, 2.1, 2.1, 2.1, 2.1, 2.1, 2.1, 2.1, 2.1, 2.1, 3.1, 3.1, 2.1, 2.1, 2.1, 2.1, 2.1, 2.1, 2.1, 2.1, 2.1, 2.1, 2.6, 2.6, 2.1, 2.1, 2.1, 3.6, 2.1, 2.1, 2.1, 3.6, 3.6, 3.6, 2.1, 2.1, 2.1, 2.1, 2.1, 2.1, 2.1, 2.1, 5.1, 5.1, 5.1, 2.6, 2.6, 2.6, 2.6, 2.6, 2.6, 2.1, 2.1, 2.1, 2.1, 2.1, 2.1, 3.6, 3.6, 3.6, 2.1, 2.1, 2.1, 2.1, 2.1, 2.1, 2.1, 2.1, 2.1, 2.1, 2.1, 2.1, 2.1, 2.1, 2.1, 2.1, 2.1, 2.1, 2.6, 2.6, 2.6, 2.6, 2.6, 2.6, 2.1, 2.1, 2.1, 2.1, 2.1, 2.1, 2.1, 2.1, 2.1, 2.1, 2.6, 2.6, 2.6, 2.6, 2.6, 3.6, 3.6, 3.6, 3.6, 3.6, 3.6, 4.1, 4.1, 4.1, 4.1, 4.1, 3.6, 2.1, 2.1, 2.1, 2.1, 2.1, 2.1, 2.1, 2.1, 2.1, 2.1, 2.1, 2.1, 2.1, 2.1, 2.1, 2.1, 2.1, 2.1, 2.1, 2.1, 3.6, 3.6, 3.6, 3.6, 3.6, 3.1, 3.6, 2.1, 2.1, 2.1, 3.6, 3.6, 3.6, 2.1, 2.1, 2.1, 2.1, 2.1, 2.1, 2.1, 2.1, 3.6, 3.6, 4.1, 4.1, 4.1, 4.1, 4.1, 4.1, 4.1, 4.1, 5.1, 5.1, 4.1, 4.1, 6.2, 6.2, 6.2, 6.2, 6.2, 6.2, 6.2, 6.2, 2.6, 2.6, 6.2, 2.6, 2.6, 2.6, 2.6, 2.6, 2.6, 5.7, 5.7, 5.7, 5.7, 5.7, 2.6, 2.6, 3.6, 3.6, 3.6, 3.6, 3.6, 3.6, 3.6, 3.6, 3.6, 3.6, 3.6, 3.6, 4.6, 4.6, 4.6, 4.6, 4.6, 4.6, 4.6, 4.6, 4.6, 4.6, 4.6, 4.6, 4.1, 4.1, 4.1, 4.1, 4.1, 4.1, 4.1, 4.1, 4.6, 4.6, 4.1, 4.1, 4.1, 4.1, 4.1, 4.1, 4.1, 4.1, 4.1, 2.6, 2.6, 2.6, 4.1, 4.1, 2.1, 2.1, 2.1, 2.1, 4.1, 4.1, 4.1, 4.1, 4.1, 4.1, 4.1, 2.1, 3.6, 3.6, 2.6, 2.6, 2.6, 2.6, 2.6, 2.6, 3.1, 3.1, 2.6, 2.1, 2.1, 2.1, 1.5, 1.5, 1.5, 1.5, 1.5, 1.5, 2.1, 1.5, 1.5, 2.1, 2.1, 2.1, 2.1, 2.1, 2.1, 2.1, 2.1, 2.1, 1.5, 2.6, 2.6, 2.6, 2.6, 2.6, 2.6, 2.6, 2.6, 1.5, 1.5, 1.5, 2.6, 2.1, 2.1, 2.1, 2.1, 2.1, 2.1, 2.1, 2.1, 2.1, 2.1, 2.1, 2.1, 2.1, 2.1, 2.1, 2.1, 2.1, 2.1, 2.1, 1.0, 1.0, 1.0, 2.1, 1.0, 1.0, 1.0, 1.0, 1.0, 1.0, 1.0, 1.0, 2.1, 2.1, 2.1, 1.0, 2.6, 2.6, 2.6, 2.6, 2.6, 2.6, 2.6, 2.6, 2.6, 2.6, 2.6, 2.6, 2.6, 2.6, 1.5, 1.5, 1.5, 2.1, 2.1, 2.1, 2.1, 2.1, 2.1, 2.6, 1.5, 1.5, 1.5, 1.5, 1.5, 1.5, 1.5, 1.5, 5.1, 5.1, 5.1, 1.5, 4.1, 4.1, 4.1, 4.1, 4.1, 4.1, 4.1, 4.1, 4.1, 2.6, 2.6, 2.6, 2.6, 2.6, 2.6, 2.6, 2.6, 3.1, 3.1, 3.1, 2.6, 2.6, 2.6, 2.6, 2.6, 2.6, 1.5, 1.5, 1.5, 1.5, 1.5, 1.5, 2.6, 1.5, 1.5, 1.0, 1.0, 1.0, 1.0, 1.0, 1.0, 1.0, 1.0, 1.0, 1.5, 1.0, 1.0, 1.0, 1.0, 1.0, 1.0, 1.0, 2.6, 2.6, 2.6, 1.0, 1.0, 1.0, 1.0, 1.0, 1.0, 1.0, 1.0, 1.0, 1.5, 1.5, 1.5, 1.0]\n",
            "[47.0, 47.0, 47.0, 47.0, 64.0, 64.0, 64.0, 75.0, 75.0, 75.0, 75.0, 75.0, 81.0, 81.0, 81.0, 81.0, 81.0, 81.0, 38.0, 38.0, 35.0, 44.0, 29.0, 38.0, 41.0, 50.0, 47.0, 38.0, 38.0, 32.0, 32.0, 38.0, 56.0, 53.0, 47.0, 35.0, 60.0, 41.0, 44.0, 64.0, 63.0, 38.0, 35.0, 35.0, 29.0, 23.0, 32.0, 32.0, 29.0, 26.0, 32.0, 29.0, 29.0, 29.0, 26.0, 29.0, 29.0, 23.0, 23.0, 14.0, 17.0, 17.0, 38.0, 38.0, 41.0, 41.0, 38.0, 38.0, 38.0, 63.0, 44.0, 44.0, 41.0, 41.0, 56.0, 56.0, 32.0, 32.0, 32.0, 94.0, 94.0, 87.0, 97.0, 88.0, 93.0, 82.0, 81.0, 75.0, 76.0, 84.0, 78.0, 78.0, 73.0, 75.0, 66.0, 63.0, 66.0, 72.0, 72.0, 76.0, 81.0, 81.0, 81.0, 96.0, 94.0, 87.0, 97.0, 90.0, 90.0, 88.0, 76.0, 76.0, 81.0, 81.0, 79.0, 75.0, 73.0, 84.0, 79.0, 79.0, 75.0, 76.0, 69.0, 78.0, 73.0, 35.0, 26.0, 23.0, 26.0, 32.0, 53.0, 53.0, 32.0, 26.0, 26.0, 17.0, 14.0, 14.0, 14.0, 17.0, 20.0, 20.0, 17.0, 17.0, 17.0, 41.0, 41.0, 41.0, 44.0, 38.0, 38.0, 58.0, 58.0, 41.0, 44.0, 41.0, 47.0, 50.0, 50.0, 50.0, 50.0, 50.0, 50.0, 50.0, 50.0, 50.0, 50.0, 50.0, 50.0, 50.0, 50.0, 50.0, 50.0, 50.0, 50.0, 50.0, 50.0, 50.0, 50.0, 50.0, 50.0, 50.0, 50.0, 50.0, 50.0, 50.0, 50.0, 50.0, 50.0, 50.0, 50.0, 50.0, 50.0, 50.0, 50.0, 50.0, 50.0, 50.0, 50.0, 50.0, 50.0, 50.0, 50.0, 50.0, 35.0, 14.0, 50.0, 61.0, 66.0, 72.0, 69.0, 63.0, 64.0, 66.0, 58.0, 58.0, 60.0, 61.0, 60.0, 56.0, 44.0, 47.0, 50.0, 47.0, 38.0, 38.0, 32.0, 32.0, 26.0, 23.0, 26.0, 20.0, 17.0, 20.0, 20.0, 20.0, 20.0, 20.0, 23.0, 23.0, 20.0, 20.0, 20.0, 20.0, 20.0, 20.0, 20.0, 23.0, 23.0, 20.0, 23.0, 20.0, 17.0, 17.0, 17.0, 17.0, 17.0, 17.0, 17.0, 14.0, 14.0, 11.0, 11.0, 14.0, 14.0, 17.0, 17.0, 14.0, 14.0, 17.0, 17.0, 17.0, 17.0, 17.0, 17.0, 17.0, 17.0, 20.0, 17.0, 20.0, 20.0, 17.0, 17.0, 17.0, 17.0, 23.0, 14.0, 17.0, 17.0, 17.0, 20.0, 20.0, 23.0, 20.0, 20.0, 23.0, 26.0, 26.0, 26.0, 20.0, 20.0, 17.0, 96.0, 94.0, 63.0, 64.0, 67.0, 58.0, 58.0, 32.0, 35.0, 35.0, 35.0, 41.0, 41.0, 41.0, 41.0, 41.0, 44.0, 41.0, 41.0, 41.0, 38.0, 38.0, 41.0, 38.0, 38.0, 35.0, 72.0, 66.0, 32.0, 32.0, 32.0, 32.0, 32.0, 96.0, 96.0, 96.0, 96.0, 97.0, 100.0, 102.0, 102.0, 102.0, 105.0, 107.0, 105.0, 102.0, 107.0, 107.0, 105.0, 100.0, 107.0, 105.0, 105.0, 109.0, 109.0, 105.0, 102.0, 103.0, 103.0, 100.0, 99.0, 96.0, 102.0, 90.0, 94.0, 91.0, 91.0, 90.0, 91.0, 90.0, 90.0, 82.0, 84.0, 82.0, 82.0, 81.0, 76.0, 76.0, 72.0, 69.0, 70.0, 69.0, 69.0, 69.0, 69.0, 66.0, 66.0, 66.0, 60.0, 64.0, 76.0, 67.0, 64.0, 66.0, 67.0, 64.0, 63.0, 64.0, 67.0, 61.0, 63.0, 57.0, 61.0, 63.0, 63.0, 63.0, 58.0, 57.0, 61.0, 60.0, 63.0, 66.0, 67.0, 72.0, 75.0, 75.0, 78.0, 78.0, 84.0, 82.0, 85.0, 76.0, 82.0, 69.0, 64.0, 50.0, 41.0, 29.0, 35.0, 35.0, 29.0, 29.0, 26.0, 32.0, 29.0, 29.0, 35.0, 32.0, 32.0, 38.0, 41.0, 47.0, 47.0, 56.0, 56.0, 57.0, 58.0, 58.0, 61.0, 64.0, 61.0, 61.0, 61.0, 64.0, 63.0, 66.0, 64.0, 64.0, 67.0, 69.0, 72.0, 72.0, 73.0, 75.0, 75.0, 88.0, 87.0, 87.0, 88.0, 88.0, 91.0, 96.0, 94.0, 94.0, 90.0, 99.0, 91.0, 100.0, 99.0, 103.0, 102.0, 105.0, 100.0, 105.0]\n"
          ],
          "name": "stdout"
        }
      ]
    },
    {
      "cell_type": "code",
      "metadata": {
        "id": "PAhWOZEkVc90",
        "colab_type": "code",
        "colab": {}
      },
      "source": [
        "##SSCB \n",
        "df = pd.read_csv('/content/sscb_labels.csv')\n",
        "data = df.mask(df.eq('None')).dropna()\n",
        "file = data.to_csv('/content/sscb_labels_new.csv')\n",
        "\n",
        "k=0\n",
        "cpcb=[]\n",
        "\n",
        "with open('/content/sscb_labels_new.csv') as file:\n",
        "  reader = csv.reader(file, delimiter =',')\n",
        "  for row in reader:\n",
        "    k+=1\n",
        "    if(k>3):\n",
        "      l=[]\n",
        "      l.append(row[1]) #DATE \n",
        "      l.append(row[3]) #PM\n",
        "      cpcb.append(l) "
      ],
      "execution_count": 0,
      "outputs": []
    },
    {
      "cell_type": "code",
      "metadata": {
        "id": "21pWKU-OXfJJ",
        "colab_type": "code",
        "outputId": "f6e9294e-5165-4dbc-e27c-706201eac9ba",
        "colab": {
          "base_uri": "https://localhost:8080/",
          "height": 34
        }
      },
      "source": [
        "print(len(cpcb))"
      ],
      "execution_count": 0,
      "outputs": [
        {
          "output_type": "stream",
          "text": [
            "698\n"
          ],
          "name": "stdout"
        }
      ]
    },
    {
      "cell_type": "code",
      "metadata": {
        "id": "8qDb7aGeIVLr",
        "colab_type": "code",
        "colab": {}
      },
      "source": [
        "##TIMESTAMP MODIFICATION \n",
        "m_tmp=[]\n",
        "for tmp in sscb:\n",
        "  l=[]\n",
        "  temp=tmp[0]\n",
        "  temp=temp[-24:-5]\n",
        "  temp=temp.split('-')\n",
        "  newtemp=temp[2].split(' ')\n",
        "  newesttemp=newtemp[1].split(':')\n",
        "  j=int(newesttemp[1])\n",
        "  #print(j)\n",
        "  if(j<=7.5):\n",
        "    final = newtemp[0] + '-' + temp[1] + '-' + temp[0] + ' ' + newesttemp[0] + ':' + '00'\n",
        "  elif(j<=15 or j<=22.5):\n",
        "    final = newtemp[0] + '-' + temp[1] + '-' + temp[0] + ' ' + newesttemp[0] + ':' + '15'\n",
        "  elif(j<=30 or j<=37.5):\n",
        "    final = newtemp[0] + '-' + temp[1] + '-' + temp[0] + ' ' + newesttemp[0] + ':' + '30'\n",
        "  elif(j<=45 or j<=52.5):\n",
        "    final = newtemp[0] + '-' + temp[1] + '-' + temp[0] + ' ' + newesttemp[0] + ':' + '45'\n",
        "  elif(j>52.5):\n",
        "    final = newtemp[0] + '-' + temp[1] + '-' + temp[0] + ' ' + newesttemp[0] + ':' + '00'\n",
        "  l.append(tmp[0])\n",
        "  l.append(final)\n",
        "  l.append(tmp[1])\n",
        "  m_tmp.append(l)  \n",
        "  \n",
        "  "
      ],
      "execution_count": 0,
      "outputs": []
    },
    {
      "cell_type": "code",
      "metadata": {
        "id": "PGu8N8reJBlI",
        "colab_type": "code",
        "colab": {}
      },
      "source": [
        "feat=[]\n",
        "for val in cpcb:\n",
        "  for date in m_tmp:\n",
        "    if(val[0] == date[1]):\n",
        "      im = date[2]\n",
        "      imc = date[2]\n",
        "      imc = cv2.resize(imc, (64,64))\n",
        "      l=[]\n",
        "      l.append(val[0])\n",
        "      #l.append(np.ndarray.flatten(transmission(imc)))\n",
        "      l.append(entropy(im))\n",
        "      l.append(contrast(im))\n",
        "      l.append(val[1])\n",
        "      l.append(trans_deg(im))\n",
        "      #print('   -   -  ' + str(l))\n",
        "      feat.append(l)\n",
        "   "
      ],
      "execution_count": 0,
      "outputs": []
    },
    {
      "cell_type": "code",
      "metadata": {
        "id": "z9cWeEJ-3uAU",
        "colab_type": "code",
        "colab": {}
      },
      "source": [
        "\n",
        "df = pd.read_csv('/content/dtu_labels.csv')\n",
        "data = df.mask(df.eq('None')).dropna()\n",
        "file = data.to_csv('/content/dtu_labels_new.csv')\n",
        "k=0\n",
        "cpcb=[]\n",
        "with open('/content/dtu_labels_new.csv') as file:\n",
        "  reader = csv.reader(file, delimiter =',')\n",
        "  for row in reader:\n",
        "    k+=1\n",
        "    if(k>3):\n",
        "      l=[]\n",
        "      l.append(row[1]) #DATE \n",
        "      l.append(row[3]) #PM\n",
        "      cpcb.append(l) "
      ],
      "execution_count": 0,
      "outputs": []
    },
    {
      "cell_type": "code",
      "metadata": {
        "id": "k5qFEFEnzypN",
        "colab_type": "code",
        "colab": {}
      },
      "source": [
        "##TIMESTAMP MODIFICATION \n",
        "\n",
        "\n",
        "m_tmp=[]\n",
        "for tmp in dtu:\n",
        "  l=[]\n",
        "  temp=tmp[0]\n",
        "  temp=temp[-24:-5]\n",
        "  temp=temp.split('-')\n",
        "  newtemp=temp[2].split(' ')\n",
        "  newesttemp=newtemp[1].split(':')\n",
        "  j=int(newesttemp[1])\n",
        "  #print(j)\n",
        "  if(j<=7.5):\n",
        "    final = newtemp[0] + '-' + temp[1] + '-' + temp[0] + ' ' + newesttemp[0] + ':' + '00'\n",
        "  elif(j<=15 or j<=22.5):\n",
        "    final = newtemp[0] + '-' + temp[1] + '-' + temp[0] + ' ' + newesttemp[0] + ':' + '15'\n",
        "  elif(j<=30 or j<=37.5):\n",
        "    final = newtemp[0] + '-' + temp[1] + '-' + temp[0] + ' ' + newesttemp[0] + ':' + '30'\n",
        "  elif(j<=45 or j<=52.5):\n",
        "    final = newtemp[0] + '-' + temp[1] + '-' + temp[0] + ' ' + newesttemp[0] + ':' + '45'\n",
        "  elif(j>52.5):\n",
        "    final = newtemp[0] + '-' + temp[1] + '-' + temp[0] + ' ' + newesttemp[0] + ':' + '00'\n",
        "  l.append(tmp[0])\n",
        "  l.append(final)\n",
        "  l.append(tmp[1])\n",
        "  m_tmp.append(l)  \n",
        "  "
      ],
      "execution_count": 0,
      "outputs": []
    },
    {
      "cell_type": "code",
      "metadata": {
        "id": "K7UAmzex0jTF",
        "colab_type": "code",
        "colab": {}
      },
      "source": [
        "\n",
        "for val in cpcb:\n",
        "  for date in m_tmp:\n",
        "    if(val[0] == date[1]):\n",
        "      im = date[2]\n",
        "      l=[]\n",
        "#       imc = date[2]\n",
        "#       imc = cv2.resize(imc, (64,64))\n",
        "      l.append(val[0])\n",
        "      #l.append(np.ndarray.flatten(transmission(im)))\n",
        "      l.append(entropy(im))\n",
        "      l.append(contrast(im))\n",
        "      l.append(val[1])\n",
        "      l.append(trans_deg(im))\n",
        "      #print('   -   -  ' + str(l))\n",
        "      feat.append(l)\n",
        "      "
      ],
      "execution_count": 0,
      "outputs": []
    },
    {
      "cell_type": "code",
      "metadata": {
        "id": "a_Vq-XytSz4q",
        "colab_type": "code",
        "colab": {}
      },
      "source": [
        "## PUNJABI BAGH \n",
        "\n",
        "df = pd.read_csv('/content/pb_labels.csv')\n",
        "data = df.mask(df.eq('None')).dropna()\n",
        "file = data.to_csv('/content/labels_pb_new.csv')\n",
        "\n",
        "\n",
        "k=0\n",
        "cpcb=[]\n",
        "\n",
        "with open('/content/labels_pb_new.csv') as file:\n",
        "  reader = csv.reader(file, delimiter =',')\n",
        "  for row in reader:\n",
        "    k+=1\n",
        "    if(k>3):\n",
        "      l=[]\n",
        "      l.append(row[1]) #DATE \n",
        "      l.append(row[3]) #PM\n",
        "      cpcb.append(l) "
      ],
      "execution_count": 0,
      "outputs": []
    },
    {
      "cell_type": "code",
      "metadata": {
        "id": "y7cLQSiQTIVP",
        "colab_type": "code",
        "colab": {}
      },
      "source": [
        "##TIMESTAMP MODIFICATION \n",
        "\n",
        "m_tmp=[]\n",
        "for tmp in pb:\n",
        "  l=[]\n",
        "  temp=tmp[0]\n",
        "  temp=temp[-24:-5]\n",
        "  temp=temp.split('-')\n",
        "  newtemp=temp[2].split(' ')\n",
        "  newesttemp=newtemp[1].split(':')\n",
        "  j=int(newesttemp[1])\n",
        "  #print(j)\n",
        "  if(j<=7.5):\n",
        "    final = newtemp[0] + '-' + temp[1] + '-' + temp[0] + ' ' + newesttemp[0] + ':' + '00'\n",
        "  elif(j<=15 or j<=22.5):\n",
        "    final = newtemp[0] + '-' + temp[1] + '-' + temp[0] + ' ' + newesttemp[0] + ':' + '15'\n",
        "  elif(j<=30 or j<=37.5):\n",
        "    final = newtemp[0] + '-' + temp[1] + '-' + temp[0] + ' ' + newesttemp[0] + ':' + '30'\n",
        "  elif(j<=45 or j<=52.5):\n",
        "    final = newtemp[0] + '-' + temp[1] + '-' + temp[0] + ' ' + newesttemp[0] + ':' + '45'\n",
        "  elif(j>52.5):\n",
        "    final = newtemp[0] + '-' + temp[1] + '-' + temp[0] + ' ' + newesttemp[0] + ':' + '00'\n",
        "  l.append(tmp[0])\n",
        "  l.append(final)\n",
        "  l.append(tmp[1])\n",
        "  m_tmp.append(l)   "
      ],
      "execution_count": 0,
      "outputs": []
    },
    {
      "cell_type": "code",
      "metadata": {
        "id": "5lC01m43TO6z",
        "colab_type": "code",
        "colab": {}
      },
      "source": [
        "for val in cpcb:\n",
        "  for date in m_tmp:\n",
        "    if(val[0] == date[1]):\n",
        "      #print(date[0])\n",
        "      im = date[2]\n",
        "      l=[]\n",
        "      l.append(val[0])\n",
        "#       imc = date[2]\n",
        "#       imc = cv2.resize(imc,(64,64))\n",
        "      #l.append(transmission(im,retMean=True))\n",
        "      #l.append(np.ndarray.flatten(transmission(im)))\n",
        "      l.append(entropy(im))\n",
        "      l.append(contrast(im))\n",
        "      l.append(val[1])\n",
        "      l.append(trans_deg(im))\n",
        "      #print('   -   -  ' + str(l))\n",
        "      feat.append(l)"
      ],
      "execution_count": 0,
      "outputs": []
    },
    {
      "cell_type": "code",
      "metadata": {
        "id": "GS5SblBb-2QT",
        "colab_type": "code",
        "outputId": "4e2a2f85-a8cc-468e-9375-70253eb09cab",
        "colab": {
          "base_uri": "https://localhost:8080/",
          "height": 34
        }
      },
      "source": [
        "\n",
        "print(len(feat))"
      ],
      "execution_count": 0,
      "outputs": [
        {
          "output_type": "stream",
          "text": [
            "1686\n"
          ],
          "name": "stdout"
        }
      ]
    },
    {
      "cell_type": "code",
      "metadata": {
        "id": "ZwnLQHaiUJR-",
        "colab_type": "code",
        "colab": {}
      },
      "source": [
        "\n",
        "## SHADIPUR \n",
        "\n",
        "df_ = pd.read_csv('/content/shadipur_labels.csv')\n",
        "data_ = df_.mask(df_.eq('None')).dropna()\n",
        "file_ = data_.to_csv('/content/shadipur_labels_new.csv')\n",
        "\n",
        "\n",
        "k=0\n",
        "cpcb=[]\n",
        "\n",
        "with open('/content/shadipur_labels_new.csv') as file:\n",
        "  reader = csv.reader(file, delimiter =',')\n",
        "  for row in reader:\n",
        "    k+=1\n",
        "    if(k>3):\n",
        "      l=[]\n",
        "      l.append(row[1]) #DATE \n",
        "      l.append(row[3]) #PM\n",
        "      cpcb.append(l) "
      ],
      "execution_count": 0,
      "outputs": []
    },
    {
      "cell_type": "code",
      "metadata": {
        "id": "vtv6OHZ0UYhU",
        "colab_type": "code",
        "colab": {}
      },
      "source": [
        "\n",
        "##TIMESTAMP MODIFICATION \n",
        "m_tmp=[]\n",
        "for tmp in shadipur:\n",
        "  l=[]\n",
        "  temp=tmp[0]\n",
        "  temp=temp[-24:-5]\n",
        "  temp=temp.split('-')\n",
        "  newtemp=temp[2].split(' ')\n",
        "  newesttemp=newtemp[1].split(':')\n",
        "  j=int(newesttemp[1])\n",
        "  #print(j)\n",
        "  if(j<=7.5):\n",
        "    final = newtemp[0] + '-' + temp[1] + '-' + temp[0] + ' ' + newesttemp[0] + ':' + '00'\n",
        "  elif(j<=15 or j<=22.5):\n",
        "    final = newtemp[0] + '-' + temp[1] + '-' + temp[0] + ' ' + newesttemp[0] + ':' + '15'\n",
        "  elif(j<=30 or j<=37.5):\n",
        "    final = newtemp[0] + '-' + temp[1] + '-' + temp[0] + ' ' + newesttemp[0] + ':' + '30'\n",
        "  elif(j<=45 or j<=52.5):\n",
        "    final = newtemp[0] + '-' + temp[1] + '-' + temp[0] + ' ' + newesttemp[0] + ':' + '45'\n",
        "  elif(j>52.5):\n",
        "    final = newtemp[0] + '-' + temp[1] + '-' + temp[0] + ' ' + newesttemp[0] + ':' + '00'\n",
        "  l.append(tmp[0])\n",
        "  l.append(final)\n",
        "  l.append(tmp[1])\n",
        "  m_tmp.append(l) \n",
        " "
      ],
      "execution_count": 0,
      "outputs": []
    },
    {
      "cell_type": "code",
      "metadata": {
        "id": "W-AXAPbGUdAQ",
        "colab_type": "code",
        "colab": {}
      },
      "source": [
        "\n",
        "for val in cpcb:\n",
        "  for date in m_tmp:\n",
        "    if(val[0] == date[1]):\n",
        "      #print(date[0])\n",
        "      im = date[2]\n",
        "      l=[]\n",
        "      l.append(val[0])\n",
        "      #l.append(np.ndarray.flatten(transmission(im)))\n",
        "      l.append(entropy(im))\n",
        "      l.append(contrast(im))\n",
        "      l.append(val[1])\n",
        "      l.append(trans_deg(im))\n",
        "      #print('   -   -  ' +str(l))\n",
        "      feat.append(l)"
      ],
      "execution_count": 0,
      "outputs": []
    },
    {
      "cell_type": "code",
      "metadata": {
        "id": "OzS07r9ITQyy",
        "colab_type": "code",
        "colab": {}
      },
      "source": [
        "# ITO \n",
        "df_ = pd.read_csv('/content/ito_labels.csv')\n",
        "data_ = df_.mask(df_.eq('None')).dropna()\n",
        "file_ = data_.to_csv('/content/ito_labels_new.csv')\n",
        "\n",
        "\n",
        "k=0\n",
        "cpcb=[]\n",
        "\n",
        "with open('/content/ito_labels_new.csv') as file:\n",
        "  reader = csv.reader(file, delimiter =',')\n",
        "  for row in reader:\n",
        "    k+=1\n",
        "    if(k>3):\n",
        "      l=[]\n",
        "      l.append(row[1]) #DATE \n",
        "      l.append(row[3]) #PM\n",
        "      cpcb.append(l) "
      ],
      "execution_count": 0,
      "outputs": []
    },
    {
      "cell_type": "code",
      "metadata": {
        "id": "nP3rFX_CUAAC",
        "colab_type": "code",
        "outputId": "973659e3-bc2c-47f2-80e8-ea37da9430c6",
        "colab": {
          "base_uri": "https://localhost:8080/",
          "height": 233
        }
      },
      "source": [
        "#TIMESTAMP MODIFICATION \n",
        "m_tmp=[]\n",
        "for tmp in ito:\n",
        "  l=[]\n",
        "  temp=tmp[0]\n",
        "  temp=temp[-24:-5]\n",
        "  temp=temp.split('-')\n",
        "  newtemp=temp[2].split(' ')\n",
        "  newesttemp=newtemp[1].split(':')\n",
        "  j=int(newesttemp[1])\n",
        "  #print(j)\n",
        "  if(j<=7.5):\n",
        "    final = newtemp[0] + '-' + temp[1] + '-' + temp[0] + ' ' + newesttemp[0] + ':' + '00'\n",
        "  elif(j<=15 or j<=22.5):\n",
        "    final = newtemp[0] + '-' + temp[1] + '-' + temp[0] + ' ' + newesttemp[0] + ':' + '15'\n",
        "  elif(j<=30 or j<=37.5):\n",
        "    final = newtemp[0] + '-' + temp[1] + '-' + temp[0] + ' ' + newesttemp[0] + ':' + '30'\n",
        "  elif(j<=45 or j<=52.5):\n",
        "    final = newtemp[0] + '-' + temp[1] + '-' + temp[0] + ' ' + newesttemp[0] + ':' + '45'\n",
        "  elif(j>52.5):\n",
        "    final = newtemp[0] + '-' + temp[1] + '-' + temp[0] + ' ' + newesttemp[0] + ':' + '00'\n",
        "  l.append(tmp[0])\n",
        "  l.append(final)\n",
        "  l.append(tmp[1])\n",
        "  m_tmp.append(l) "
      ],
      "execution_count": 0,
      "outputs": [
        {
          "output_type": "error",
          "ename": "TypeError",
          "evalue": "ignored",
          "traceback": [
            "\u001b[0;31m---------------------------------------------------------------------------\u001b[0m",
            "\u001b[0;31mTypeError\u001b[0m                                 Traceback (most recent call last)",
            "\u001b[0;32m<ipython-input-180-20e4855b7945>\u001b[0m in \u001b[0;36m<module>\u001b[0;34m()\u001b[0m\n\u001b[1;32m      1\u001b[0m \u001b[0mm_tmp\u001b[0m\u001b[0;34m=\u001b[0m\u001b[0;34m[\u001b[0m\u001b[0;34m]\u001b[0m\u001b[0;34m\u001b[0m\u001b[0;34m\u001b[0m\u001b[0m\n\u001b[0;32m----> 2\u001b[0;31m \u001b[0;32mfor\u001b[0m \u001b[0mtmp\u001b[0m \u001b[0;32min\u001b[0m \u001b[0mito\u001b[0m\u001b[0;34m:\u001b[0m\u001b[0;34m\u001b[0m\u001b[0;34m\u001b[0m\u001b[0m\n\u001b[0m\u001b[1;32m      3\u001b[0m   \u001b[0ml\u001b[0m\u001b[0;34m=\u001b[0m\u001b[0;34m[\u001b[0m\u001b[0;34m]\u001b[0m\u001b[0;34m\u001b[0m\u001b[0;34m\u001b[0m\u001b[0m\n\u001b[1;32m      4\u001b[0m   \u001b[0mtemp\u001b[0m\u001b[0;34m=\u001b[0m\u001b[0mtmp\u001b[0m\u001b[0;34m[\u001b[0m\u001b[0;36m0\u001b[0m\u001b[0;34m]\u001b[0m\u001b[0;34m\u001b[0m\u001b[0;34m\u001b[0m\u001b[0m\n\u001b[1;32m      5\u001b[0m   \u001b[0mtemp\u001b[0m\u001b[0;34m=\u001b[0m\u001b[0mtemp\u001b[0m\u001b[0;34m[\u001b[0m\u001b[0;34m-\u001b[0m\u001b[0;36m24\u001b[0m\u001b[0;34m:\u001b[0m\u001b[0;34m-\u001b[0m\u001b[0;36m5\u001b[0m\u001b[0;34m]\u001b[0m\u001b[0;34m\u001b[0m\u001b[0;34m\u001b[0m\u001b[0m\n",
            "\u001b[0;31mTypeError\u001b[0m: 'App' object is not iterable"
          ]
        }
      ]
    },
    {
      "cell_type": "code",
      "metadata": {
        "id": "Ys06d0qgUHM6",
        "colab_type": "code",
        "colab": {}
      },
      "source": [
        "ito_tomatch=[]\n",
        "for val in cpcb:\n",
        "  for date in m_tmp:\n",
        "    if(val[0] == date[1]):\n",
        "      #print(date[0])\n",
        "      im = date[2]\n",
        "      l=[]\n",
        "      l.append(val[0])\n",
        "      #l.append(np.ndarray.flatten(transmission(im)))\n",
        "      l.append(entropy(im))\n",
        "      l.append(contrast(im))\n",
        "      l.append(val[1])\n",
        "      l.append(trans_deg(im))\n",
        "      ito_tomatch.append(l)"
      ],
      "execution_count": 0,
      "outputs": []
    },
    {
      "cell_type": "code",
      "metadata": {
        "id": "9j_bFL09om14",
        "colab_type": "code",
        "colab": {}
      },
      "source": [
        "print(len(feat))"
      ],
      "execution_count": 0,
      "outputs": []
    },
    {
      "cell_type": "markdown",
      "metadata": {
        "id": "EVvr842DATmS",
        "colab_type": "text"
      },
      "source": [
        "Till here the feat for all 5 delhi locations is done \n",
        "now combining the shanghai data LABELS \n"
      ]
    },
    {
      "cell_type": "code",
      "metadata": {
        "id": "9J7N1kOo17JU",
        "colab_type": "code",
        "colab": {}
      },
      "source": [
        "# new_shanghai=[]\n",
        "\n",
        "\n",
        "\n",
        "# for key in shanghai:\n",
        "#   temp = key\n",
        "#   temp = temp[6:8] + '-' + temp[4:6] + '-' + temp[0:4] + ' ' + temp[8:10] + ':' + '00'\n",
        "#   #temp = temp[6:8] + '-' + temp[4:6] + '-' + temp[0:4] + ' ' + temp[8:10] + ':' + temp[10:12]\n",
        "#   l=[]\n",
        "#   l.append(temp)\n",
        "#   l.append(shanghai[key][1])\n",
        "#   l.append(shanghai[key][2])\n",
        "#   l.append(shanghai[key][3])\n",
        "#   l.append(shanghai[key][4])\n",
        "#   new_shanghai.append(l)\n",
        "  "
      ],
      "execution_count": 0,
      "outputs": []
    },
    {
      "cell_type": "code",
      "metadata": {
        "id": "1YGyzhkH-sQ_",
        "colab_type": "code",
        "colab": {}
      },
      "source": [
        "\n",
        "# ## Attaching labels \n",
        "\n",
        "# df_ = pd.read_csv('/content/s_labels.csv')\n",
        "# data_ = df_.mask(df_.eq('None')).dropna()\n",
        "# file_ = data_.to_csv('/content/s_labels_new.csv')\n",
        "\n",
        "# shanghai_labels={}\n",
        "# pm_s=[]\n",
        "\n",
        "# with open('/content/s_labels.csv') as file :\n",
        "#   read = csv.reader(file)\n",
        "#   for row in read:\n",
        "#     if(len(row[1])==1):\n",
        "#       row[1]='0' + row[1]\n",
        "#     if(len(row[2])==1):\n",
        "#       row[2]='0' + row[2]\n",
        "#     if(len(row[3])==1):\n",
        "#       row[3]='0' + row[3]\n",
        "#     temp = row[2] + '-' + row[1] + '-' + row[0] + ' ' +row[3] + ':' + '00'\n",
        "#     if(row[5]!='None'):\n",
        "#       shanghai_labels[temp]=row[5]\n",
        "    \n",
        "    "
      ],
      "execution_count": 0,
      "outputs": []
    },
    {
      "cell_type": "code",
      "metadata": {
        "id": "aOo6GV72-Q5l",
        "colab_type": "code",
        "colab": {}
      },
      "source": [
        "# match=[]\n",
        "\n",
        "# for key in shanghai_labels:\n",
        "#   for i in new_shanghai:\n",
        "#     if(i[0] == key):\n",
        "#       #print('match')\n",
        "#       l=[]\n",
        "#       l.append(key)\n",
        "#       l.append(i[1])\n",
        "#       l.append(i[2])\n",
        "#       l.append(i[3])\n",
        "#       l.append(shanghai_labels[key])\n",
        "#       match.append(l)\n",
        "      "
      ],
      "execution_count": 0,
      "outputs": []
    },
    {
      "cell_type": "markdown",
      "metadata": {
        "id": "skpHTzhPI9KM",
        "colab_type": "text"
      },
      "source": [
        "WEATHER DATA "
      ]
    },
    {
      "cell_type": "code",
      "metadata": {
        "id": "qNPdWBM9I88j",
        "colab_type": "code",
        "colab": {}
      },
      "source": [
        "cred = credentials.Certificate('credentials.json')\n",
        "\n",
        "# Initialize the app with a service account, granting admin privileges\n",
        "ito = firebase_admin.initialize_app(cred, {\n",
        "    'databaseURL': 'https://fir-4ca2c.firebaseio.com/'\n",
        "},name = 'w_ito')"
      ],
      "execution_count": 0,
      "outputs": []
    },
    {
      "cell_type": "code",
      "metadata": {
        "id": "SjDgCilSJhrT",
        "colab_type": "code",
        "colab": {}
      },
      "source": [
        "    \n",
        "ref = db.reference(app=ito)\n",
        "df = ref.get()\n"
      ],
      "execution_count": 0,
      "outputs": []
    },
    {
      "cell_type": "code",
      "metadata": {
        "id": "prjXlrRyJllI",
        "colab_type": "code",
        "colab": {}
      },
      "source": [
        "temp_weather = {}\n",
        "\n",
        "for key in df:\n",
        "  try:\n",
        "    l=[]\n",
        "    l.append(df[key]['main']['humidity'])\n",
        "    l.append(df[key]['main']['pressure'])\n",
        "    l.append(df[key]['main']['temp'])\n",
        "    l.append(df[key]['visibility'])\n",
        "    l.append(df[key]['wind']['deg'])\n",
        "    l.append(df[key]['wind']['speed'])\n",
        "    l.append(df[key]['clouds']['all'])\n",
        "    k = df[key]['weather'][0]['description']\n",
        "    if(k=='haze'):\n",
        "      l.append(0)\n",
        "    elif(k=='mist'):\n",
        "      l.append(1)\n",
        "    elif(k=='drizzle'):\n",
        "      l.append(2)\n",
        "    elif(k=='dust'):\n",
        "      l.append(3)\n",
        "    temp_weather[key]=l\n",
        "  except:\n",
        "    print(key)"
      ],
      "execution_count": 0,
      "outputs": []
    },
    {
      "cell_type": "code",
      "metadata": {
        "id": "Tcp7G_EVVjOd",
        "colab_type": "code",
        "colab": {}
      },
      "source": [
        "## COMBINING ITO DATA \n",
        "\n",
        "with open('/content/past-weather (1) (3).json') as file:\n",
        "  data = json.load(file)\n",
        "  source = data['data']['weather']\n"
      ],
      "execution_count": 0,
      "outputs": []
    },
    {
      "cell_type": "code",
      "metadata": {
        "id": "P25mDZ_1oRSV",
        "colab_type": "code",
        "colab": {}
      },
      "source": [
        "## MATCHING ITO DATA \n",
        "\n",
        "hour_i=[]\n",
        "pres_i=[]\n",
        "temp_i=[]\n",
        "deg_i=[]\n",
        "speed_i=[]\n",
        "\n",
        "ito_weather=[]\n",
        "\n",
        "with open('/content/past-weather (1) (3).json') as file:\n",
        "  data = json.load(file)\n",
        "  source = data['data']['weather']\n",
        "  \n",
        "  for i in source:\n",
        "    for j in range(0,24):\n",
        "      date = i['date']\n",
        "      date = date.split(' ')\n",
        "      date = date[0]\n",
        "      t = date.split('-')\n",
        "      t = t[2]+'-'+t[1]+'-'+t[0]\n",
        "      if(len(str(j))==1):\n",
        "        key = t + ' ' + '0' +str(j) + ':00' \n",
        "      else:\n",
        "        key = t + ' ' +str(j) + ':00'\n",
        "      l=[]\n",
        "      l.append(key)\n",
        "      l.append(i['hourly'][j]['humidity'])\n",
        "      l.append(i['hourly'][j]['tempC'])\n",
        "      l.append(i['hourly'][j]['windspeedKmph'])\n",
        "      l.append(i['hourly'][j]['winddirDegree'])\n",
        "      l.append(i['hourly'][j]['pressure'])\n",
        "      ito_weather.append(l)\n",
        "     "
      ],
      "execution_count": 0,
      "outputs": []
    },
    {
      "cell_type": "code",
      "metadata": {
        "id": "i8o_VjzfuH9l",
        "colab_type": "code",
        "colab": {}
      },
      "source": [
        "print(len(ito_weather))"
      ],
      "execution_count": 0,
      "outputs": []
    },
    {
      "cell_type": "code",
      "metadata": {
        "id": "5ZtEqU5dJqT9",
        "colab_type": "code",
        "colab": {}
      },
      "source": [
        "weather={}\n",
        "for key in temp_weather:\n",
        "  temp=key.split('-')\n",
        "  newtemp=temp[2].split(' ')\n",
        "  newesttemp=newtemp[1].split(':')\n",
        "  j=int(newesttemp[1])\n",
        "  if(j<=7.5):\n",
        "    final = temp[0] + '-' + temp[1] + '-' + newtemp[0] + ' ' + newesttemp[0] + ':' + '00'\n",
        "  elif(j<=15 or j<=22.5):\n",
        "    final = temp[0] + '-' + temp[1] + '-' + newtemp[0] + ' ' + newesttemp[0] + ':' + '15'\n",
        "  elif(j<=30 or j<=37.5):\n",
        "    final = temp[0] + '-' + temp[1] + '-' + newtemp[0] + ' ' + newesttemp[0] + ':' + '30'\n",
        "  elif(j<=45 or j<=52.5):\n",
        "    final = temp[0] + '-' + temp[1] + '-' + newtemp[0] + ' ' + newesttemp[0] + ':' + '45'\n",
        "  elif(j>52.5):\n",
        "    final = temp[0] + '-' + temp[1] + '-' + newtemp[0] + ' ' + newesttemp[0] + ':' + '00'\n",
        "  if(final not in weather):\n",
        "    weather[final]=temp_weather[key]\n",
        "  \n",
        "  "
      ],
      "execution_count": 0,
      "outputs": []
    },
    {
      "cell_type": "code",
      "metadata": {
        "id": "BLPgYsdKh4Kb",
        "colab_type": "code",
        "colab": {}
      },
      "source": [
        "print(len(weather))"
      ],
      "execution_count": 0,
      "outputs": []
    },
    {
      "cell_type": "code",
      "metadata": {
        "id": "FEuHqO0ptX0Z",
        "colab_type": "code",
        "colab": {}
      },
      "source": [
        "print(len(feat))"
      ],
      "execution_count": 0,
      "outputs": []
    },
    {
      "cell_type": "code",
      "metadata": {
        "id": "lojx00mxzcgp",
        "colab_type": "code",
        "colab": {}
      },
      "source": [
        "\n",
        "# trans=[]\n",
        "# cont=[]\n",
        "# ent=[]\n",
        "# hours=[]\n",
        "# hum=[]\n",
        "# pressure=[]\n",
        "# tempr=[]\n",
        "# deg=[]\n",
        "# speed=[]\n",
        "# omega=[]\n",
        "\n",
        "\n",
        "#cc=[]\n",
        "#vis=[]\n",
        "#desc=[]\n",
        "\n",
        "\n",
        "# pm=[]\n",
        "\n",
        "## COMBINING 1ST 4 LOCATIONS DATA \n",
        "for e in feat:\n",
        "  for w in weather:                             \n",
        "    if(e[0] == w):\n",
        "      hours.append(float(e[0][-5:-3]))\n",
        "      pm.append(float(e[3]))\n",
        "      trans.append(e[4])\n",
        "      ent.append(float(e[1]))\n",
        "      cont.append(float(e[2]))\n",
        "      hum.append(float(weather[w][0]))\n",
        "      pressure.append(float(weather[w][1]))\n",
        "      tempr.append(float(weather[w][2])) \n",
        "      deg.append(float(weather[w][4]))\n",
        "      speed.append(float(weather[w][5]))\n"
      ],
      "execution_count": 0,
      "outputs": []
    },
    {
      "cell_type": "code",
      "metadata": {
        "id": "EH35BQsttcNx",
        "colab_type": "code",
        "colab": {}
      },
      "source": [
        "print(len(hours))"
      ],
      "execution_count": 0,
      "outputs": []
    },
    {
      "cell_type": "code",
      "metadata": {
        "id": "rXGAKKsKcTLR",
        "colab_type": "code",
        "colab": {}
      },
      "source": [
        "\n",
        "for e in ito_tomatch:\n",
        "  for w in ito_weather: \n",
        "    if(e[0] == w[0]):\n",
        "      hours.append(e[0][-5:-3])\n",
        "      trans.append(e[4])\n",
        "      ent.append(e[1])\n",
        "      cont.append(e[2])\n",
        "      pm.append(e[3])\n",
        "      hum.append(w[1])\n",
        "      tempr.append(w[2])\n",
        "      speed.append(w[3]) \n",
        "      deg.append(w[4])\n",
        "      pressure.append(w[5])\n",
        "\n",
        "  "
      ],
      "execution_count": 0,
      "outputs": []
    },
    {
      "cell_type": "code",
      "metadata": {
        "id": "SVmQqirkUmw5",
        "colab_type": "code",
        "colab": {}
      },
      "source": [
        "# shanghai_weather={}\n",
        "\n",
        "\n",
        "# df_ = pd.read_csv('/content/s_w_d.csv')\n",
        "# data_ = df_.mask(df_.eq('None')).dropna()\n",
        "# file_ = data_.to_csv('/content/s_w_d_new.csv')\n",
        "\n",
        "\n",
        "# with open('/content/s_w_d_new.csv') as file:\n",
        "#   read = csv.reader(file)\n",
        "#   k=0\n",
        "#   for row in read:\n",
        "#     k+=1\n",
        "#     if(k>1):\n",
        "#       if(len(row[3])==1):\n",
        "#         row[3]='0' + str(row[3])\n",
        "#       if(len(row[2])==1):\n",
        "#         row[2]='0' + row[2]\n",
        "#       if(len(row[4])==1):\n",
        "#         row[4]='0' + row[4]\n",
        "        \n",
        "#       temp = row[3] + '-' + row[2] + '-' + row[1] + ' ' + row[4] + ':' + '00'\n",
        "      \n",
        "  \n",
        "#       l=[]\n",
        "#       l.append(row[4])  ##hum\n",
        "#       l.append(row[5])  ##pressure\n",
        "#       l.append(row[6])  ##temp\n",
        "#       l.append(row[7])  ##deg\n",
        "#       l.append(row[8])  ##speed\n",
        "#       l.append(row[9])  ##prec\n",
        "#       shanghai_weather[temp]=l\n",
        "     "
      ],
      "execution_count": 0,
      "outputs": []
    },
    {
      "cell_type": "code",
      "metadata": {
        "id": "h1b87eeQYxf6",
        "colab_type": "code",
        "colab": {}
      },
      "source": [
        "#['27-06-2019 16:00', 0.2370663558652809, 5.071457862854004, 2.468056791148552, '47']\n",
        "\n",
        "# shanghai_final=[]\n",
        "# pm_s=[]\n",
        "# ctr=0\n",
        "# for key in match:\n",
        "#   for w in shanghai_weather:\n",
        "#     if(key[0] == w):\n",
        "#       ctr+=1\n",
        "#       print(ctr)\n",
        "#       l=[]\n",
        "#       l.append(key[0])\n",
        "#       l.append(key[1])\n",
        "#       l.append(float(key[2]))\n",
        "#       l.append(float(key[3]))\n",
        "#       l.append(float(shanghai_weather[w][0]))\n",
        "#       l.append(float(shanghai_weather[w][1]))\n",
        "#       l.append(float(shanghai_weather[w][2]))\n",
        "#       l.append(float(shanghai_weather[w][3]))\n",
        "#       l.append(float(shanghai_weather[w][4]))\n",
        "#       l.append(float(shanghai_weather[w][5]))\n",
        "#       pm_s.append(float(key[5]))\n",
        "#       shanghai_final.append(l)\n",
        "      \n",
        "      \n",
        "      \n",
        "  "
      ],
      "execution_count": 0,
      "outputs": []
    },
    {
      "cell_type": "code",
      "metadata": {
        "id": "eiSEazy0aMeQ",
        "colab_type": "code",
        "colab": {}
      },
      "source": [
        "# hour_s=[]\n",
        "# trans_s=[]\n",
        "# ent_s=[]\n",
        "# cont_s=[]\n",
        "# hum_s=[]\n",
        "# pressure_s=[]\n",
        "# tempr_s=[]\n",
        "# deg_s=[]\n",
        "# speed_s=[]\n",
        "# prec_s=[]\n",
        "# omega_s=[]\n",
        "\n",
        "# for i in shanghai_final:\n",
        "#   hour_s.append(float(i[0][11:13]))\n",
        "#   trans_s.append(i[1])\n",
        "#   ent_s.append(float(i[2]))\n",
        "#   cont_s.append(float(i[3]))\n",
        "#   hum_s.append(float(i[4]))\n",
        "#   pressure_s.append(float(i[5]))\n",
        "#   tempr_s.append(float(i[6]))\n",
        "#   deg_s.append(float(i[7]))\n",
        "#   speed_s.append(float(i[8]))\n",
        "#   prec_s.append(float(i[9]))"
      ],
      "execution_count": 0,
      "outputs": []
    },
    {
      "cell_type": "code",
      "metadata": {
        "id": "zYaK9SwPGgLz",
        "colab_type": "code",
        "colab": {}
      },
      "source": [
        "\n",
        "# print(len(trans_s))\n",
        "# print(len(hour_s))\n",
        "# print(len(cont_s))\n",
        "# print(len(ent_s))\n",
        "# print(len(hum_s))\n",
        "# print(len(pressure_s))\n",
        "# print(len(tempr_s))\n",
        "# print(len(deg_s))\n",
        "# print(len(speed_s))"
      ],
      "execution_count": 0,
      "outputs": []
    },
    {
      "cell_type": "code",
      "metadata": {
        "id": "z4GyhcSIkOq7",
        "colab_type": "code",
        "colab": {}
      },
      "source": [
        "print(len(trans))\n",
        "print(len(hours))\n",
        "print(len(cont))\n",
        "print(len(ent))\n",
        "print(len(hum))\n",
        "print(len(pressure))\n",
        "print(len(tempr))\n",
        "print(len(deg))\n",
        "print(len(speed))"
      ],
      "execution_count": 0,
      "outputs": []
    },
    {
      "cell_type": "code",
      "metadata": {
        "id": "6oRI0Z3sWLvM",
        "colab_type": "code",
        "outputId": "230782eb-5bc6-4531-dacd-5b3a08ba0470",
        "colab": {
          "base_uri": "https://localhost:8080/",
          "height": 208
        }
      },
      "source": [
        "print(trans)\n",
        "print(hours)\n",
        "print(cont)\n",
        "print(ent)\n",
        "print(hum)\n",
        "print(pressure)\n",
        "print(tempr)\n",
        "print(deg)\n",
        "print(speed)\n",
        "print(pm)"
      ],
      "execution_count": 0,
      "outputs": [
        {
          "output_type": "stream",
          "text": [
            "[1, 1, 1, 3, 2, 1, 1, 2, 2, 2, 2, 2, 2, 2, 2, 2, 2, 1, 2, 1, 2, 1, 1, 1, 1, 2, 2, 1, 2, 2, 1, 2, 2, 2, 2, 3, 1, 1, 1, 2, 2, 2, 2, 2, 2, 1, 2, 1, 2, 2, 1, 2, 1, 2, 3, 1, 3, 1, 1, 2, 2, 2, 2, 2, 1, 1, 2, 2, 2, 2, 3, 2, 2, 2, 2, 2, 1, 1, 1, 1, 2, 2, 2, 2, 2, 2, 2, 3, 2, 2, 2, 2, 2, 2, 2, 2, 1, 2, 2, 2, 1, 2, 2, 1, 2, 2, 2, 2, 2, 2, 2, 2, 2, 2, 2, 2, 2, 2, 2, 2, 2, 2, 2, 1, 2, 1, 1, 1, 1, 2, 1, 2, 2, 2, 1, 1, 2, 2, 2, 2, 2, 2, 2, 2, 2, 2, 2, 2, 2, 2, 2, 2, 2, 1, 2, 2, 2, 2, 2, 2, 2, 2, 2, 2, 1, 2, 2, 2, 2, 1, 2, 1, 1, 1, 2, 2, 2, 1, 2, 1, 2, 1, 1, 2, 1, 2, 2, 2, 1, 1, 2, 2, 2, 2, 2, 2, 2, 2, 2, 2, 2, 2, 2, 1, 2, 2, 2, 3, 2, 2, 2, 2, 2, 3, 2, 2, 3, 2, 2, 2, 2, 3, 2, 2, 2, 2, 2, 2, 2, 3, 3, 2, 2, 2, 2, 2, 2, 2, 2, 2, 2, 2, 2, 2, 2, 2, 2, 2, 2, 2, 2, 2, 2, 2, 1, 1, 2, 2, 1, 1, 1, 1, 1, 1, 1, 1, 1, 1, 1, 1, 1, 2, 1, 1, 1, 1, 1, 1, 2, 2, 2, 2, 2, 2, 2, 2, 2, 2, 2, 1, 1, 1, 1, 1, 1, 1, 1, 1, 1, 1, 1, 1, 1, 0, 1, 1, 1, 2, 5, 0.9959810172352763, 2, 1, 2, 1, 2, 2, 2, 2, 1, 1, 1, 1, 1, 1, 1, 1, 1, 1, 1, 1, 1, 2, 1, 2, 2, 3, 3, 3, 3, 3, 3, 3, 3, 3, 3, 3, 3, 3, 3, 2, 3, 3, 3, 2, 2, 2, 3, 3, 3, 3, 3, 3, 3, 3, 3, 3, 3, 3, 3, 3, 3, 3, 3, 3, 3, 3, 3, 3, 3, 3, 3, 3, 3, 3, 3, 3, 3, 3, 3, 3, 3, 3, 3, 3, 3, 3, 3, 3, 3, 3, 3, 3, 3, 3, 3, 3, 3, 3, 3, 2, 2, 2, 2, 3, 2, 2, 2, 2, 3, 2, 2, 3, 3, 3, 3, 3, 2, 2, 2, 2, 2, 2, 2, 2, 2, 2, 2, 3, 2, 2, 2, 2, 2, 2, 2, 2, 2, 2, 2, 2, 3, 3, 3, 2, 3, 2, 2, 2, 2, 2, 2, 3, 3, 3, 3, 2, 3, 2, 2, 3, 3, 3, 2, 2, 2, 2, 2, 2, 2, 2, 2, 2, 2, 2, 2, 2, 2, 2, 2, 2, 2, 2, 2, 2, 1, 1, 1, 1, 2, 2, 2, 2, 2, 2, 2, 2, 2, 2, 2, 2, 2, 2, 2, 2, 1, 2, 1, 1, 1, 2, 2, 2, 2, 2, 2, 2, 2, 1, 2, 1, 2, 2, 2, 2, 2, 2, 2, 2, 2, 2, 2]\n",
            "[10.0, 10.0, 11.0, 13.0, 15.0, 15.0, 15.0, 16.0, 16.0, 16.0, 16.0, 16.0, 16.0, 16.0, 16.0, 16.0, 16.0, 16.0, 10.0, 11.0, 12.0, 12.0, 12.0, 12.0, 12.0, 12.0, 12.0, 13.0, 13.0, 13.0, 13.0, 13.0, 13.0, 13.0, 13.0, 13.0, 14.0, 14.0, 14.0, 14.0, 14.0, 14.0, 14.0, 14.0, 14.0, 14.0, 14.0, 14.0, 14.0, 14.0, 14.0, 15.0, 15.0, 15.0, 15.0, 15.0, 15.0, 15.0, 15.0, 15.0, 15.0, 15.0, 8.0, 8.0, 8.0, 8.0, 9.0, 9.0, 9.0, 9.0, 9.0, 9.0, 9.0, 9.0, 9.0, 9.0, 9.0, 9.0, 9.0, 13.0, 13.0, 13.0, 13.0, 13.0, 13.0, 13.0, 14.0, 14.0, 14.0, 14.0, 14.0, 14.0, 14.0, 14.0, 14.0, 14.0, 15.0, 16.0, 16.0, 16.0, 16.0, 16.0, 16.0, 18.0, 13.0, 13.0, 13.0, 13.0, 13.0, 13.0, 13.0, 13.0, 14.0, 14.0, 14.0, 14.0, 14.0, 14.0, 14.0, 14.0, 14.0, 14.0, 14.0, 14.0, 12.0, 12.0, 12.0, 12.0, 12.0, 12.0, 12.0, 12.0, 13.0, 13.0, 13.0, 13.0, 13.0, 13.0, 13.0, 13.0, 13.0, 13.0, 13.0, 13.0, 13.0, 13.0, 13.0, 13.0, 13.0, 13.0, 13.0, 14.0, 14.0, 14.0, 14.0, 14.0, 14.0, 14.0, 14.0, 14.0, 14.0, 14.0, 14.0, 15.0, 15.0, 15.0, 15.0, 15.0, 15.0, 15.0, 15.0, 15.0, 15.0, 15.0, 15.0, 15.0, 15.0, 15.0, 15.0, 15.0, 15.0, 15.0, 15.0, 16.0, 16.0, 16.0, 16.0, 16.0, 12.0, 13.0, 13.0, 13.0, 13.0, 13.0, 13.0, 13.0, 14.0, 14.0, 14.0, 14.0, 14.0, 14.0, 14.0, 14.0, 10.0, 10.0, 11.0, 11.0, 11.0, 11.0, 11.0, 11.0, 11.0, 11.0, 11.0, 11.0, 11.0, 11.0, 12.0, 12.0, 12.0, 12.0, 12.0, 12.0, 12.0, 12.0, 12.0, 12.0, 12.0, 13.0, 13.0, 13.0, 13.0, 13.0, 13.0, 13.0, 13.0, 13.0, 13.0, 13.0, 13.0, 13.0, 14.0, 14.0, 14.0, 14.0, 14.0, 14.0, 14.0, 14.0, 14.0, 14.0, 14.0, 14.0, 15.0, 15.0, 15.0, 15.0, 15.0, 15.0, 15.0, 15.0, 15.0, 15.0, 15.0, 15.0, 16.0, 16.0, 16.0, 16.0, 16.0, 16.0, 16.0, 16.0, 16.0, 16.0, 16.0, 16.0, 17.0, 17.0, 17.0, 17.0, 17.0, 17.0, 17.0, 17.0, 17.0, 17.0, 17.0, 17.0, 18.0, 18.0, 18.0, 18.0, 18.0, 18.0, 18.0, 18.0, 18.0, 18.0, 18.0, 18.0, 13.0, 13.0, 15.0, 15.0, 15.0, 15.0, 15.0, 15.0, 16.0, 16.0, 16.0, 17.0, 17.0, 17.0, 17.0, 17.0, 17.0, 17.0, 17.0, 17.0, 17.0, 18.0, 18.0, 18.0, 18.0, 18.0, 18.0, 18.0, 18.0, 18.0, 18.0, 18.0, 18.0, 6.0, 6.0, 6.0, 6.0, 6.0, 6.0, 6.0, 6.0, 6.0, 6.0, 6.0, 6.0, 7.0, 7.0, 7.0, 7.0, 7.0, 7.0, 7.0, 7.0, 7.0, 7.0, 7.0, 7.0, 8.0, 8.0, 8.0, 8.0, 8.0, 8.0, 8.0, 8.0, 8.0, 8.0, 8.0, 9.0, 9.0, 9.0, 9.0, 9.0, 9.0, 9.0, 9.0, 9.0, 9.0, 9.0, 9.0, 10.0, 10.0, 10.0, 10.0, 10.0, 10.0, 10.0, 10.0, 10.0, 10.0, 10.0, 10.0, 11.0, 11.0, 11.0, 11.0, 11.0, 11.0, 11.0, 11.0, 11.0, 11.0, 11.0, 11.0, 12.0, 12.0, 12.0, 12.0, 12.0, 12.0, 12.0, 12.0, 12.0, 12.0, 12.0, 12.0, 13.0, 13.0, 13.0, 13.0, 13.0, 13.0, 13.0, 13.0, 13.0, 14.0, 14.0, 14.0, 14.0, 14.0, 14.0, 14.0, 14.0, 14.0, 14.0, 14.0, 14.0, 15.0, 15.0, 15.0, 15.0, 15.0, 15.0, 15.0, 15.0, 15.0, 15.0, 15.0, 15.0, 16.0, 16.0, 16.0, 16.0, 16.0, 16.0, 16.0, 16.0, 16.0, 16.0, 16.0, 16.0, 17.0, 17.0, 17.0, 17.0, 17.0, 17.0, 17.0, 17.0, 17.0, 17.0, 17.0, 18.0, 18.0, 18.0, 18.0, 18.0, 18.0, 18.0, 18.0, 18.0, 18.0, 18.0, 18.0, '06', '07', '08', '09', '10', '12', '12', '13', '16', '16', '17', '18', '18', '06', '06', '07', '08', '09', '10', '06', '06', '07', '11', '12', '12', '12', '13', '13', '15', '16', '16', '18', '18', '06', '08', '08', '08', '09', '09', '14', '15', '15', '16', '17', '18', '06', '07', '08', '10', '10', '12', '13', '14', '15', '16']\n",
            "[13.988058316798687, 13.011225805526196, 72.93656036709747, 35.950088737028686, 77.1516869870556, 83.68864852792969, 82.21006548149384, 62.01478424259648, 67.14272841626783, 74.12818517502174, 67.38486811854757, 65.97570667218355, 75.54896815012775, 69.05298319315762, 69.09546901092793, 68.29873703177716, 68.06814892588854, 80.22990139899747, 33.741715174584364, 85.75180721332315, 55.95772904521862, 73.83635026282768, 77.35840756618462, 89.23249505069754, 78.45904241542834, 73.41751515775313, 72.2380210411711, 82.15827808577916, 78.07730609626857, 76.55939729446703, 78.16147869243694, 78.75348852762124, 68.09487522112238, 64.23127286150903, 57.610828284312376, 93.6343407580949, 84.64719535785886, 86.11943668470488, 74.37862972975603, 58.16027927685915, 39.11272312586041, 62.45755026033544, 60.54260350918501, 69.5303061368119, 66.22423294205207, 67.0570166899927, 64.09507574324691, 71.43257498690686, 74.7638436032912, 70.55102555766494, 80.13455109755783, 66.6378437954142, 82.97074343015584, 54.62083399918413, 87.38880594586014, 74.15845110948155, 90.89258805038894, 49.794147668164, 76.10909484157345, 44.36354599564673, 60.14096423073931, 56.65862506353603, 57.084216810208346, 76.21565796233436, 80.2951764371772, 87.49057693303543, 61.49388288713605, 54.66185478032814, 58.253300023697136, 60.55422519036091, 72.78532621472372, 60.55904523639603, 55.591835818290306, 55.14766689651706, 72.11097086404, 71.54779449300638, 78.96276273119436, 88.36454742023807, 87.57120150128884, 84.97379327081008, 84.29428195798863, 68.62644748097462, 73.80779027074388, 70.8012620807352, 72.45206525405163, 91.0793240769153, 69.54990831461586, 72.92474089150691, 72.43873636048119, 73.29646955727829, 72.8930553141883, 73.20519941762274, 80.43788143311353, 68.08229936560289, 70.9425850809023, 56.54802875887954, 77.83437907861625, 50.19067855270029, 72.29627983433684, 69.50721193850194, 70.41111262121515, 78.19932476455543, 76.35405584112434, 64.88812041936754, 83.70260418538858, 65.61522094481158, 57.57970350319679, 68.10788737258834, 68.14463128557213, 74.92238494413104, 89.14911034638689, 87.08393093298346, 63.26658326619818, 59.46260969559346, 69.50675739477508, 61.08576587396635, 74.11071348376517, 64.86674427492837, 68.70361662678422, 76.14219222223419, 76.40881787083595, 75.78102230548909, 76.02260662539187, 77.01232760305041, 58.43328238122404, 61.144554626925405, 74.48979786612759, 72.10539502699405, 78.03259741921215, 66.09988332176688, 73.69640059720649, 69.44749328336985, 69.51576505386673, 70.14551380686872, 76.44916134181554, 79.19313558391684, 70.45761486966263, 66.62281108036062, 64.32842506407904, 58.002525008411446, 67.6711873748212, 64.89779658577515, 60.02242454679889, 68.04185082456682, 66.15025033388683, 64.76532917242022, 64.78252444598516, 63.956164125950075, 65.34269853623886, 65.67295456258508, 57.986129322504304, 57.465009049045335, 59.209367319266946, 66.88102203525813, 63.72372334515084, 59.23730832076651, 60.88787508036906, 68.2936560139522, 59.47483074425392, 60.69250716257884, 61.85992249425015, 60.02342868282537, 57.66992195584285, 61.158059802729305, 62.698500052012825, 66.45348405280629, 63.91376639659508, 68.78369308538402, 60.13112956910902, 55.96749896309861, 52.00001025943951, 71.91497212691493, 70.20208573384006, 67.0772693843329, 57.08072372692859, 49.92397173341375, 60.26751511547094, 68.6250162398057, 66.13296073977337, 61.7024906746442, 67.77548257210253, 70.6150554176163, 74.37633364777996, 63.633995761897644, 77.53603733348912, 66.35319085670899, 66.04003755324604, 46.91324491002829, 47.17260262845441, 75.66940566985859, 71.55771195622432, 63.79834657304967, 63.24679685546751, 70.74878883979628, 71.7533726078159, 73.56701257813982, 62.12102801193578, 67.52540829772228, 63.2520419252166, 64.57137319150088, 64.8371839190845, 66.95945356547932, 67.68560920203221, 65.13843633658954, 63.483598463584045, 57.20370867354231, 61.73802540076352, 56.949635183916214, 57.51043363627688, 58.2379486173441, 75.1623563739374, 54.07117433802258, 60.1281031580228, 59.04578131744396, 56.83498213281105, 57.02642826756766, 59.00928278813154, 52.4543338660534, 51.32733976264825, 52.78877590779105, 53.29614139066392, 57.69687452437274, 50.48847869528, 54.1137704045773, 59.552969565835255, 58.85727768647428, 58.62422657722815, 60.10075710345453, 59.65691619647183, 59.454910804419285, 59.655587085501836, 47.026456497990054, 58.96813380644046, 59.65091256500512, 60.524469458922056, 56.07362571777536, 55.79975949653959, 56.511939669404796, 57.551163297648685, 60.105683641493656, 61.0311233875613, 62.277606955651706, 64.41397185394247, 60.16168274382938, 59.14583070133345, 59.88982868014867, 59.313448224939506, 56.471082286063506, 58.422897328772514, 60.56360372869976, 61.32081324208941, 59.28775895937194, 57.62130239022835, 55.801713231641834, 55.138605687795234, 56.17789969661617, 59.204063828806305, 54.77121410378687, 52.96027005372651, 52.25550163307123, 55.78888640932189, 52.89714432595569, 51.617195323598445, 52.10471762778288, 48.53000266681293, 53.59298201473093, 53.56007113076078, 54.69521069418438, 53.55981915417914, 57.031143397807654, 59.488668547891265, 61.04059789728445, 54.93586220958933, 55.39734990729973, 58.096321137865566, 58.49190156690969, 59.19649156614021, 57.81225859255746, 59.980951923179134, 57.625340459561556, 58.61712504363333, 59.459824275352915, 61.26557711166807, 60.1493607590276, 60.065168448353035, 58.83854741442801, 59.35964857900945, 63.429588911910145, 62.93999449172112, 60.9078480601684, 58.616832213150545, 58.4233999116413, 60.172795646406534, 59.47430724790884, 62.84001700628949, 63.053250636315475, 61.692462724354826, 61.31099496717719, 60.94476894747036, 61.80183539550329, 62.10905102978003, 63.70441491738802, 84.52202516042304, 5.270428200480588, 75.66304349867946, 0.7401840498268867, 41.816650429909274, 66.26359964976538, 43.647182667772626, 7.1710506049932174, 67.87093028826206, 38.306042512041685, 63.725076311249914, 74.97006524954895, 61.86318715440692, 63.46581201599955, 70.84202507521447, 67.1236828880082, 67.41760982594478, 68.18387073212094, 69.07900235694234, 68.52925488433624, 68.88142663987274, 69.30873615544319, 69.53268359774447, 69.08816131462247, 69.00848711530986, 67.93043944841577, 67.42555286424897, 66.50361543778766, 65.5784300794354, 63.0176977743008, 63.142588360233404, 62.626539194669604, 62.67870607578418, 53.7408756780525, 47.41037272225089, 47.647961530128924, 46.92503633028357, 45.76664370802764, 45.42271565852693, 46.100450127020245, 43.33933994091496, 41.16273671743193, 41.672304185549066, 43.423903342055624, 46.36202388736396, 48.38926008626256, 50.123082899446274, 51.30289440901001, 52.85066130990347, 53.86621935017103, 53.61212187980469, 54.43180097287164, 55.42763501638976, 55.12062542167407, 54.750076281840265, 53.8575840428778, 53.71330498824923, 52.73274891142139, 52.62201402000274, 52.05508939135601, 50.9028107404566, 49.644542280464634, 45.75218170547585, 45.46651157336299, 45.950641563856934, 44.974171754973604, 45.157386546324254, 42.63862730489985, 42.60469937086701, 43.3652345681547, 41.98686730593651, 41.845764670173736, 41.852284498528356, 41.58118603847337, 41.56749081583599, 41.78620554835149, 41.444557410153266, 41.39620076003551, 41.6084424724851, 41.90491415123452, 41.819060269005206, 41.813428681657875, 41.960158407036204, 41.55741269266431, 40.85967199305835, 42.11888923445067, 41.88868978968394, 42.04720428444887, 41.208762207199754, 40.70032618218238, 42.86559313936056, 43.70721663070626, 43.42297151351236, 42.45995686332171, 39.7658018115717, 39.808035081842256, 40.83972884206008, 45.2695426956436, 46.0567988614638, 46.1956688224198, 42.39902133505188, 50.702128374057594, 53.66354133642644, 54.74231505904606, 54.13022388134554, 57.588886517677956, 60.883315025183336, 63.24774937903855, 67.39239171936823, 67.37445462480147, 63.76719695608983, 61.289405155249725, 61.4235170130523, 62.2853666443122, 61.45719931851724, 51.79798602239403, 52.36658675310168, 57.23770328977348, 59.26968454587515, 48.64010763723931, 38.73370693161504, 32.01936691113039, 33.06695514577977, 38.43703178017549, 61.527944565208365, 64.59205075596255, 63.85376483562831, 61.7522672040798, 60.2095093142579, 62.41065866938788, 62.477262335851826, 61.36678967697325, 60.603211539620986, 60.25947373633893, 59.144417839740775, 58.7171900551687, 59.08104493402208, 59.975311053224246, 60.82912511825986, 61.256939730249634, 61.44935021391656, 61.32411680571342, 61.0676474535202, 60.26923087230666, 62.40061086573827, 62.75857803945984, 61.902038212835365, 59.67144683961845, 58.525292882578306, 56.949439053435114, 55.12491423677098, 55.01644998225938, 55.32903928991556, 54.82353970409836, 55.01280631035557, 56.51271780687585, 58.2641085716657, 60.6627531195857, 61.18058213517066, 59.41058179864333, 58.586578231969575, 55.76170335324337, 54.97543129867235, 56.06103758280839, 56.39679032567253, 58.827252795901764, 57.10821750293802, 56.24564172067953, 56.033823512535236, 56.11408260820653, 56.220287625519866, 56.80751146075628, 56.90794949472049, 57.951659475767194, 58.10214299455786, 57.98004508382531, 57.75027284487425, 59.41011621436491, 60.51020837272076, 60.34597195221021, 59.44235119077485, 59.88804046531398, 60.59319729960649, 60.938486792064516, 55.12470737041406, 47.47842659639436, 45.336669010982725, 45.11810459109016, 48.39974262730775, 53.140678647132574, 53.72197928031719, 58.20442966322038, 65.05902085090344, 65.99819942257454, 66.55477868320392, 69.16652607805335, 36.45355536750859, 59.87059050738194, 45.43680899282851, 46.86251531205941, 44.32070292601607, 43.26560042117071, 43.81172742386243, 56.90103545126287, 49.092234301045835, 48.63142940147788, 48.47845611915709, 53.3165094135792, 54.058676669948625, 57.99561194365828, 58.33963557806603, 60.303375221831836, 63.28214245341842, 64.23705743543522, 65.44153755868368, 67.70320866895219, 67.7151559928622, 56.661628680768494, 45.90889678829452, 45.666595480405675, 44.99380347125769, 45.089949611915195, 46.180599405979464, 63.66781812468264, 63.32748160894371, 67.24210760997113, 66.14389472382112, 67.55405690090973, 68.55544917025681, 47.45920496497844, 45.434800917126296, 52.55711061753255, 65.46287814559264, 59.44658512426182, 53.642843192311716, 58.81490437830871, 61.739050515158446, 60.53267742978209, 59.436772626021934]\n",
            "[18.30630111694336, 17.759958267211914, 38.76405715942383, 29.211015701293945, 39.25362014770508, 46.11984634399414, 44.386722564697266, 46.05776596069336, 53.52329635620117, 57.449180603027344, 47.027408599853516, 48.67979431152344, 44.30538558959961, 49.310577392578125, 50.211490631103516, 47.73347854614258, 48.74065017700195, 44.01187515258789, 29.10783576965332, 45.5201416015625, 53.77639389038086, 50.44172668457031, 51.36069869995117, 39.93488693237305, 43.43080520629883, 49.07674026489258, 46.269866943359375, 46.738136291503906, 35.55320739746094, 35.18395233154297, 47.48016357421875, 52.094398498535156, 44.09960174560547, 44.687400817871094, 45.898529052734375, 12.57230281829834, 42.62632369995117, 45.92339324951172, 34.580360412597656, 46.30495071411133, 42.26688003540039, 44.963741302490234, 48.9262580871582, 51.618309020996094, 47.5596809387207, 46.43819808959961, 39.59543228149414, 43.78755187988281, 50.878360748291016, 49.651939392089844, 49.18357467651367, 46.812034606933594, 47.070186614990234, 41.53636932373047, 14.293498992919922, 52.32029342651367, 14.855027198791504, 47.011932373046875, 44.34765625, 46.656890869140625, 49.73848342895508, 49.59410095214844, 38.87611770629883, 28.204431533813477, 45.63040542602539, 36.8070068359375, 44.19481658935547, 46.08799362182617, 48.55440902709961, 46.19702911376953, 29.743587493896484, 44.409393310546875, 42.65745544433594, 42.87989044189453, 43.189353942871094, 34.664573669433594, 31.333606719970703, 33.99447250366211, 33.69638442993164, 41.16373062133789, 37.19266128540039, 35.672813415527344, 36.07591247558594, 34.726348876953125, 36.204280853271484, 34.991024017333984, 41.030059814453125, 39.952335357666016, 40.242454528808594, 39.96603775024414, 42.43675231933594, 37.81515121459961, 35.86686706542969, 40.96156692504883, 46.79872131347656, 50.131858825683594, 50.89765930175781, 44.548179626464844, 53.54861068725586, 51.20248794555664, 48.359519958496094, 46.67847442626953, 43.33856201171875, 30.798250198364258, 37.338768005371094, 36.338436126708984, 42.04503631591797, 42.61661148071289, 39.54409408569336, 37.259246826171875, 34.59269332885742, 34.4604377746582, 41.99032211303711, 36.340450286865234, 43.92902374267578, 42.20547103881836, 44.812408447265625, 46.62139129638672, 43.88300704956055, 41.720638275146484, 41.486270904541016, 47.00477600097656, 34.34983825683594, 44.98011779785156, 47.309329986572266, 55.413516998291016, 50.38136291503906, 51.17060470581055, 46.168060302734375, 45.733314514160156, 50.62514114379883, 44.788326263427734, 49.63011932373047, 47.7735481262207, 45.94695281982422, 39.58819580078125, 44.559226989746094, 51.759979248046875, 50.43571853637695, 49.073570251464844, 50.722354888916016, 53.906490325927734, 49.37627029418945, 52.88906478881836, 46.77283477783203, 42.3004264831543, 44.026248931884766, 47.78462600708008, 43.44224548339844, 49.407073974609375, 48.35675048828125, 49.051979064941406, 52.430084228515625, 53.93732452392578, 51.017250061035156, 52.10947799682617, 52.8250846862793, 49.433658599853516, 47.67445373535156, 52.36701202392578, 48.042686462402344, 50.246028900146484, 47.8255615234375, 50.001399993896484, 45.457130432128906, 48.07451248168945, 50.10377502441406, 42.841529846191406, 51.548954010009766, 46.938507080078125, 49.22134780883789, 47.04494857788086, 41.75605392456055, 51.49847412109375, 51.20244216918945, 44.432247161865234, 49.901588439941406, 45.54985427856445, 52.18889236450195, 51.035682678222656, 44.61015701293945, 49.78721618652344, 47.26298141479492, 49.42181396484375, 45.96772003173828, 49.75815963745117, 50.33315658569336, 39.70380401611328, 45.88099670410156, 47.8079719543457, 45.82889175415039, 43.75241470336914, 44.19466018676758, 39.97808837890625, 45.947322845458984, 38.88817596435547, 47.28874206542969, 49.97951126098633, 42.77299499511719, 46.61635971069336, 47.776607513427734, 46.04389572143555, 44.775352478027344, 47.39664840698242, 53.250640869140625, 54.36772918701172, 48.3304557800293, 39.709556579589844, 48.02543640136719, 48.973838806152344, 23.593578338623047, 49.40530776977539, 48.4683837890625, 48.301998138427734, 50.225772857666016, 46.322105407714844, 45.118045806884766, 40.19747543334961, 36.832149505615234, 41.995277404785156, 43.48382568359375, 47.35060501098633, 20.134052276611328, 45.51449966430664, 45.910423278808594, 45.021636962890625, 46.84233474731445, 48.80107498168945, 45.99343490600586, 47.8128662109375, 45.172035217285156, 19.144254684448242, 49.33306121826172, 49.06117630004883, 50.27946472167969, 51.725975036621094, 51.821598052978516, 51.25701904296875, 48.6141242980957, 47.88846969604492, 50.39938735961914, 49.446651458740234, 48.649837493896484, 54.086570739746094, 52.76474380493164, 49.73623275756836, 47.99540710449219, 47.88673782348633, 46.189815521240234, 48.26655578613281, 49.26145553588867, 51.340667724609375, 51.57624053955078, 52.83629608154297, 53.1630859375, 51.670406341552734, 51.73775100708008, 53.1497688293457, 52.52869415283203, 51.8868522644043, 54.10910415649414, 51.2029914855957, 51.272789001464844, 51.451351165771484, 9.91714859008789, 51.704769134521484, 52.31168746948242, 53.779869079589844, 52.883785247802734, 52.734561920166016, 53.72590255737305, 55.888492584228516, 52.994415283203125, 52.42871856689453, 50.9708251953125, 53.51791000366211, 56.24620819091797, 55.02378845214844, 55.516014099121094, 47.455928802490234, 46.419403076171875, 40.891719818115234, 43.840301513671875, 46.022701263427734, 42.61981964111328, 45.932342529296875, 43.70745086669922, 44.134490966796875, 49.683067321777344, 55.094970703125, 53.93644714355469, 53.968563079833984, 54.72040939331055, 54.49378204345703, 55.7924690246582, 55.59185791015625, 54.87578582763672, 55.304100036621094, 55.1403923034668, 55.41205978393555, 54.784629821777344, 54.839149475097656, 42.51755142211914, 7.455005645751953, 44.35597610473633, 1.4675911664962769, 38.08696365356445, 48.111995697021484, 30.622175216674805, 12.270280838012695, 30.76756477355957, 40.52059555053711, 41.27230453491211, 43.099212646484375, 40.69575881958008, 40.70161056518555, 43.67477035522461, 43.08338928222656, 43.274105072021484, 42.766605377197266, 42.63794708251953, 42.770477294921875, 42.699031829833984, 42.43733596801758, 42.93175506591797, 43.71797180175781, 44.0652961730957, 44.549381256103516, 44.50425338745117, 45.65852737426758, 45.07615661621094, 45.16256332397461, 44.824195861816406, 45.50691604614258, 45.02973937988281, 41.16622543334961, 40.48667526245117, 38.455020904541016, 39.1548957824707, 39.5698127746582, 39.39211654663086, 40.135406494140625, 37.26827621459961, 31.37946891784668, 31.162111282348633, 33.76346206665039, 37.890743255615234, 37.955989837646484, 37.07170486450195, 39.47488021850586, 37.55855178833008, 37.672176361083984, 38.12765121459961, 39.14351272583008, 39.75537872314453, 39.838680267333984, 39.06014633178711, 36.59889221191406, 37.181827545166016, 38.26612091064453, 37.53180694580078, 38.06983184814453, 37.24460983276367, 39.0653076171875, 37.05998992919922, 36.724578857421875, 35.87633514404297, 34.03541946411133, 36.012794494628906, 32.052146911621094, 28.53375244140625, 27.39710807800293, 29.648778915405273, 29.22112464904785, 29.193132400512695, 29.282167434692383, 29.644309997558594, 31.703075408935547, 30.825550079345703, 31.270437240600586, 30.006959915161133, 30.71237564086914, 29.771013259887695, 30.281782150268555, 28.30838966369629, 28.76421546936035, 29.774084091186523, 26.347869873046875, 28.546329498291016, 27.873756408691406, 26.850141525268555, 27.043636322021484, 32.67948913574219, 34.917110443115234, 33.65599060058594, 32.16719436645508, 26.915714263916016, 27.324214935302734, 30.239131927490234, 37.24535369873047, 33.539207458496094, 36.28776168823242, 34.78754425048828, 34.8631706237793, 32.991859436035156, 34.752479553222656, 35.470924377441406, 33.03746032714844, 33.96955490112305, 33.304141998291016, 31.32664680480957, 31.08031463623047, 33.71721267700195, 35.050724029541016, 37.39163589477539, 36.68461608886719, 40.41274642944336, 46.93703079223633, 38.4498176574707, 45.83426284790039, 45.01799392700195, 35.49833297729492, 35.640777587890625, 31.52354621887207, 32.9974250793457, 34.98868179321289, 41.603065490722656, 42.06663131713867, 42.26640701293945, 39.31631088256836, 39.76172637939453, 40.83900833129883, 43.953277587890625, 45.5128059387207, 46.471473693847656, 44.515777587890625, 42.79338073730469, 39.5191535949707, 40.690921783447266, 43.353153228759766, 43.88206100463867, 44.16360092163086, 44.1306266784668, 43.65244674682617, 41.3956298828125, 39.75154113769531, 39.617286682128906, 40.052101135253906, 41.02626037597656, 39.38839340209961, 38.07697296142578, 37.85444641113281, 39.444759368896484, 42.01655960083008, 42.60575866699219, 43.551422119140625, 44.701507568359375, 46.23401641845703, 46.898948669433594, 46.36012268066406, 43.190635681152344, 39.1631965637207, 40.21417999267578, 39.493896484375, 39.63102340698242, 42.617549896240234, 39.282230377197266, 44.48899841308594, 41.65533447265625, 40.99854278564453, 40.16357421875, 40.68030548095703, 41.89622116088867, 42.89011764526367, 44.334022521972656, 45.824954986572266, 45.94160461425781, 45.50197982788086, 45.039058685302734, 45.56279754638672, 44.9193000793457, 45.15093231201172, 44.549468994140625, 43.95248794555664, 43.87408447265625, 43.480892181396484, 46.158348083496094, 37.19507598876953, 30.800764083862305, 32.15869903564453, 32.72287368774414, 32.77495193481445, 32.20648193359375, 34.76860427856445, 49.577880859375, 50.95669174194336, 51.21722412109375, 52.79422378540039, 36.72134017944336, 50.059024810791016, 38.877113342285156, 35.66755294799805, 31.42304039001465, 31.271440505981445, 32.46610641479492, 43.36465072631836, 37.45490264892578, 37.67377853393555, 34.33221435546875, 34.576454162597656, 34.145843505859375, 32.521629333496094, 30.922367095947266, 35.301124572753906, 47.57149887084961, 49.26118850708008, 50.75554656982422, 50.501136779785156, 50.387821197509766, 46.867618560791016, 31.098388671875, 31.884790420532227, 31.286043167114258, 31.870250701904297, 36.042049407958984, 44.43503952026367, 45.34077072143555, 46.44303894042969, 47.955936431884766, 50.73711013793945, 49.4050407409668, 39.54072952270508, 38.33375930786133, 52.139320373535156, 46.14958953857422, 47.91789627075195, 49.77580261230469, 45.27071762084961, 46.397361755371094, 45.918678283691406, 51.381996154785156]\n",
            "[83.0, 83.0, 84.0, 63.0, 67.0, 67.0, 67.0, 75.0, 75.0, 75.0, 75.0, 75.0, 89.0, 89.0, 89.0, 89.0, 89.0, 89.0, 75.0, 70.0, 75.0, 70.0, 70.0, 70.0, 70.0, 75.0, 75.0, 70.0, 70.0, 70.0, 70.0, 70.0, 70.0, 70.0, 70.0, 70.0, 66.0, 66.0, 66.0, 66.0, 66.0, 66.0, 66.0, 66.0, 70.0, 70.0, 70.0, 70.0, 70.0, 70.0, 70.0, 67.0, 67.0, 67.0, 67.0, 67.0, 67.0, 67.0, 67.0, 67.0, 67.0, 67.0, 79.0, 79.0, 83.0, 83.0, 79.0, 79.0, 79.0, 79.0, 79.0, 79.0, 79.0, 79.0, 79.0, 79.0, 79.0, 79.0, 79.0, 67.0, 63.0, 63.0, 63.0, 67.0, 67.0, 67.0, 59.0, 59.0, 59.0, 59.0, 59.0, 59.0, 56.0, 56.0, 67.0, 67.0, 70.0, 75.0, 75.0, 75.0, 89.0, 89.0, 89.0, 63.0, 63.0, 63.0, 63.0, 63.0, 63.0, 67.0, 67.0, 67.0, 59.0, 59.0, 59.0, 59.0, 59.0, 59.0, 59.0, 59.0, 59.0, 59.0, 56.0, 56.0, 70.0, 70.0, 70.0, 70.0, 70.0, 70.0, 75.0, 75.0, 70.0, 70.0, 70.0, 70.0, 70.0, 70.0, 70.0, 70.0, 70.0, 70.0, 70.0, 70.0, 70.0, 70.0, 70.0, 70.0, 70.0, 70.0, 70.0, 66.0, 66.0, 66.0, 66.0, 66.0, 66.0, 70.0, 70.0, 70.0, 70.0, 70.0, 66.0, 67.0, 67.0, 67.0, 67.0, 67.0, 67.0, 67.0, 67.0, 67.0, 67.0, 67.0, 67.0, 67.0, 67.0, 67.0, 67.0, 67.0, 67.0, 67.0, 67.0, 71.0, 71.0, 71.0, 71.0, 71.0, 70.0, 67.0, 63.0, 63.0, 63.0, 67.0, 67.0, 67.0, 59.0, 59.0, 59.0, 59.0, 59.0, 59.0, 56.0, 56.0, 79.0, 79.0, 70.0, 70.0, 70.0, 70.0, 70.0, 70.0, 70.0, 70.0, 74.0, 74.0, 70.0, 70.0, 74.0, 74.0, 74.0, 74.0, 74.0, 74.0, 74.0, 74.0, 88.0, 88.0, 74.0, 88.0, 88.0, 88.0, 88.0, 88.0, 88.0, 79.0, 79.0, 79.0, 79.0, 79.0, 88.0, 88.0, 70.0, 70.0, 70.0, 70.0, 70.0, 70.0, 70.0, 70.0, 70.0, 70.0, 70.0, 70.0, 70.0, 70.0, 70.0, 70.0, 70.0, 66.0, 66.0, 66.0, 66.0, 66.0, 70.0, 70.0, 70.0, 70.0, 70.0, 70.0, 70.0, 70.0, 70.0, 70.0, 70.0, 70.0, 70.0, 70.0, 66.0, 66.0, 66.0, 66.0, 66.0, 66.0, 66.0, 63.0, 63.0, 63.0, 66.0, 66.0, 70.0, 70.0, 70.0, 70.0, 70.0, 70.0, 70.0, 70.0, 70.0, 70.0, 70.0, 70.0, 67.0, 67.0, 60.0, 60.0, 60.0, 56.0, 56.0, 56.0, 63.0, 63.0, 63.0, 60.0, 60.0, 60.0, 63.0, 63.0, 63.0, 63.0, 63.0, 63.0, 60.0, 63.0, 63.0, 59.0, 59.0, 56.0, 56.0, 56.0, 56.0, 56.0, 56.0, 56.0, 63.0, 94.0, 94.0, 94.0, 94.0, 94.0, 94.0, 94.0, 94.0, 100.0, 100.0, 100.0, 94.0, 94.0, 94.0, 94.0, 94.0, 94.0, 89.0, 89.0, 89.0, 89.0, 89.0, 89.0, 94.0, 79.0, 79.0, 79.0, 79.0, 79.0, 79.0, 79.0, 79.0, 79.0, 79.0, 79.0, 79.0, 79.0, 79.0, 79.0, 79.0, 79.0, 79.0, 79.0, 74.0, 74.0, 74.0, 79.0, 79.0, 79.0, 79.0, 79.0, 79.0, 79.0, 79.0, 79.0, 66.0, 66.0, 66.0, 79.0, 66.0, 66.0, 70.0, 70.0, 70.0, 67.0, 67.0, 67.0, 67.0, 67.0, 67.0, 66.0, 63.0, 63.0, 63.0, 63.0, 63.0, 63.0, 63.0, 63.0, 59.0, 59.0, 59.0, 63.0, 63.0, 63.0, 63.0, 63.0, 63.0, 63.0, 63.0, 63.0, 63.0, 70.0, 70.0, 70.0, 70.0, 70.0, 70.0, 70.0, 70.0, 66.0, 66.0, 66.0, 70.0, 79.0, 79.0, 79.0, 79.0, 79.0, 79.0, 79.0, 79.0, 79.0, 79.0, 79.0, 79.0, 79.0, 79.0, 79.0, 79.0, 79.0, 79.0, 79.0, 79.0, 83.0, 83.0, 83.0, 79.0, 79.0, 79.0, 79.0, 79.0, 79.0, 79.0, 79.0, 79.0, 79.0, 79.0, 79.0, 84.0, 84.0, 84.0, 84.0, 84.0, 84.0, 84.0, 84.0, 79.0, 79.0, 79.0, 84.0, '24', '25', '25', '26', '22', '15', '15', '14', '13', '13', '13', '13', '13', '23', '23', '23', '22', '22', '20', '27', '27', '25', '13', '9', '9', '9', '8', '8', '7', '6', '6', '6', '6', '28', '22', '22', '22', '19', '19', '8', '7', '7', '9', '11', '13', '34', '32', '31', '32', '32', '37', '41', '45', '49', '45']\n",
            "[1001.0, 1001.0, 1001.0, 1000.0, 999.0, 999.0, 999.0, 999.0, 999.0, 999.0, 999.0, 999.0, 999.0, 999.0, 999.0, 999.0, 999.0, 999.0, 1003.0, 1003.0, 1002.0, 1002.0, 1002.0, 1002.0, 1002.0, 1002.0, 1002.0, 1002.0, 1002.0, 1002.0, 1002.0, 1002.0, 1002.0, 1002.0, 1002.0, 1002.0, 1002.0, 1002.0, 1002.0, 1002.0, 1002.0, 1002.0, 1002.0, 1002.0, 1002.0, 1002.0, 1002.0, 1002.0, 1002.0, 1002.0, 1002.0, 1001.0, 1001.0, 1001.0, 1001.0, 1001.0, 1001.0, 1001.0, 1001.0, 1000.0, 1000.0, 1000.0, 1002.0, 1002.0, 1002.0, 1002.0, 1002.0, 1002.0, 1002.0, 1002.0, 1002.0, 1002.0, 1002.0, 1002.0, 1002.0, 1002.0, 1002.0, 1002.0, 1002.0, 1000.0, 1000.0, 1000.0, 1000.0, 1000.0, 1000.0, 1000.0, 1000.0, 1000.0, 1000.0, 1000.0, 1000.0, 1000.0, 1000.0, 1000.0, 1000.0, 1000.0, 999.0, 999.0, 999.0, 999.0, 999.0, 999.0, 999.0, 998.0, 1000.0, 1000.0, 1000.0, 1000.0, 1000.0, 1000.0, 1000.0, 1000.0, 1000.0, 1000.0, 1000.0, 1000.0, 1000.0, 1000.0, 1000.0, 1000.0, 1000.0, 1000.0, 1000.0, 1000.0, 1002.0, 1002.0, 1002.0, 1002.0, 1002.0, 1002.0, 1002.0, 1002.0, 1002.0, 1002.0, 1002.0, 1002.0, 1002.0, 1002.0, 1002.0, 1002.0, 1002.0, 1002.0, 1002.0, 1002.0, 1002.0, 1002.0, 1002.0, 1002.0, 1002.0, 1002.0, 1002.0, 1002.0, 1002.0, 1002.0, 1002.0, 1002.0, 1002.0, 1002.0, 1002.0, 1002.0, 1002.0, 1002.0, 1002.0, 1001.0, 1001.0, 1001.0, 1001.0, 1001.0, 1001.0, 1001.0, 1001.0, 1001.0, 1001.0, 1001.0, 1000.0, 1000.0, 1000.0, 1000.0, 1000.0, 1000.0, 1001.0, 1001.0, 1001.0, 1000.0, 1000.0, 1000.0, 1000.0, 1000.0, 1002.0, 1000.0, 1000.0, 1000.0, 1000.0, 1000.0, 1000.0, 1000.0, 1000.0, 1000.0, 1000.0, 1000.0, 1000.0, 1000.0, 1000.0, 1000.0, 1000.0, 1000.0, 1000.0, 1000.0, 1000.0, 1000.0, 1000.0, 1000.0, 1000.0, 1000.0, 1000.0, 1000.0, 1000.0, 1000.0, 1000.0, 1000.0, 1000.0, 1000.0, 1000.0, 1000.0, 1000.0, 1000.0, 1001.0, 1001.0, 1000.0, 1001.0, 1001.0, 1001.0, 1001.0, 1001.0, 1001.0, 1000.0, 1000.0, 1000.0, 1000.0, 1000.0, 1001.0, 1001.0, 1000.0, 1000.0, 1000.0, 1000.0, 1000.0, 1000.0, 1000.0, 1000.0, 1000.0, 1000.0, 1000.0, 1000.0, 999.0, 999.0, 999.0, 999.0, 999.0, 999.0, 999.0, 999.0, 999.0, 999.0, 999.0, 999.0, 999.0, 999.0, 999.0, 999.0, 999.0, 999.0, 999.0, 999.0, 999.0, 999.0, 999.0, 999.0, 998.0, 998.0, 998.0, 998.0, 998.0, 998.0, 998.0, 998.0, 998.0, 998.0, 998.0, 998.0, 998.0, 998.0, 998.0, 998.0, 998.0, 998.0, 998.0, 998.0, 998.0, 998.0, 998.0, 998.0, 1000.0, 1000.0, 999.0, 999.0, 999.0, 998.0, 998.0, 998.0, 998.0, 998.0, 998.0, 997.0, 997.0, 997.0, 997.0, 997.0, 997.0, 997.0, 997.0, 997.0, 997.0, 997.0, 997.0, 997.0, 997.0, 998.0, 998.0, 998.0, 998.0, 998.0, 998.0, 998.0, 997.0, 999.0, 999.0, 999.0, 999.0, 999.0, 999.0, 999.0, 999.0, 1000.0, 1000.0, 1000.0, 999.0, 1000.0, 1000.0, 1000.0, 1000.0, 1000.0, 1000.0, 1000.0, 1000.0, 1000.0, 1000.0, 1000.0, 1000.0, 1000.0, 1000.0, 1000.0, 1000.0, 1000.0, 1000.0, 1000.0, 1000.0, 1000.0, 1000.0, 1000.0, 1000.0, 1000.0, 1000.0, 1000.0, 1000.0, 1000.0, 1000.0, 1000.0, 1000.0, 1000.0, 1000.0, 1000.0, 1000.0, 1000.0, 1000.0, 1000.0, 1000.0, 1000.0, 1000.0, 1000.0, 1000.0, 1000.0, 1000.0, 1000.0, 1000.0, 1000.0, 1000.0, 1000.0, 1000.0, 999.0, 999.0, 999.0, 999.0, 999.0, 999.0, 1000.0, 999.0, 999.0, 999.0, 999.0, 999.0, 999.0, 999.0, 999.0, 999.0, 999.0, 999.0, 999.0, 999.0, 999.0, 999.0, 999.0, 999.0, 999.0, 999.0, 999.0, 999.0, 999.0, 999.0, 999.0, 999.0, 999.0, 999.0, 999.0, 999.0, 999.0, 999.0, 999.0, 999.0, 999.0, 999.0, 999.0, 999.0, 999.0, 999.0, 999.0, 999.0, 999.0, 999.0, 999.0, 999.0, 999.0, 999.0, 998.0, 998.0, 998.0, 998.0, 998.0, 998.0, 998.0, 998.0, 998.0, 999.0, 998.0, 998.0, 998.0, 998.0, 998.0, 998.0, 998.0, 997.0, 997.0, 997.0, 998.0, 997.0, 997.0, 997.0, 997.0, 997.0, 997.0, 997.0, 997.0, 997.0, 997.0, 997.0, 997.0, '996', '997', '997', '998', '997', '996', '996', '996', '994', '994', '994', '993', '993', '996', '996', '997', '997', '997', '997', '995', '995', '996', '996', '996', '996', '996', '995', '995', '993', '993', '993', '992', '992', '996', '996', '996', '996', '997', '997', '994', '993', '993', '993', '993', '993', '997', '997', '998', '998', '998', '997', '996', '996', '995', '995']\n",
            "[29.68, 29.68, 30.0, 31.2, 32.03, 32.03, 32.03, 28.91, 28.91, 28.91, 28.91, 28.91, 28.96, 28.96, 28.96, 28.96, 28.96, 28.96, 30.88, 32.0, 31.28, 31.57, 31.57, 31.57, 31.56, 31.28, 31.28, 31.48, 31.48, 31.48, 31.48, 32.49, 32.49, 32.49, 32.49, 31.49, 32.49, 32.49, 32.49, 32.49, 32.49, 32.49, 32.49, 32.49, 32.55, 32.55, 32.55, 32.55, 32.55, 32.55, 32.55, 32.98, 32.98, 32.98, 32.98, 32.98, 32.98, 32.98, 32.98, 33.49, 33.49, 33.49, 30.21, 30.21, 29.56, 29.56, 30.2, 30.2, 30.2, 30.2, 30.2, 30.2, 30.2, 30.2, 30.22, 30.22, 30.2, 30.2, 30.2, 33.98, 34.49, 34.49, 34.49, 33.98, 33.98, 33.98, 34.49, 34.49, 34.49, 34.49, 34.49, 34.49, 34.49, 34.49, 32.04, 32.04, 32.11, 28.91, 28.91, 28.91, 28.97, 28.97, 28.97, 32.64, 34.49, 34.49, 34.49, 34.49, 34.49, 33.98, 33.98, 33.98, 34.49, 34.49, 34.49, 34.49, 34.49, 34.49, 34.49, 34.49, 34.49, 34.49, 34.49, 34.49, 31.56, 31.56, 31.56, 31.56, 31.56, 31.56, 31.28, 31.28, 31.49, 31.48, 31.48, 31.48, 32.49, 32.49, 32.49, 32.49, 32.49, 32.49, 32.49, 32.49, 32.49, 32.49, 31.49, 31.49, 31.49, 31.49, 31.49, 32.49, 32.49, 32.49, 32.49, 32.49, 32.49, 32.55, 32.55, 32.55, 32.55, 32.55, 32.49, 32.98, 32.98, 32.98, 32.98, 32.98, 32.98, 32.98, 32.98, 32.98, 32.98, 32.98, 33.49, 33.49, 33.49, 33.49, 33.49, 33.49, 32.98, 32.98, 32.98, 34.0, 34.0, 34.0, 34.0, 34.0, 31.16, 33.98, 34.49, 34.49, 34.49, 33.98, 33.98, 33.98, 34.49, 34.49, 34.49, 34.49, 34.49, 34.49, 34.49, 34.49, 30.43, 30.43, 31.03, 31.03, 31.03, 31.03, 31.03, 31.03, 31.03, 31.03, 30.72, 30.72, 31.03, 31.03, 30.2, 30.39, 30.39, 30.39, 30.39, 30.38, 30.38, 30.38, 30.13, 30.13, 30.2, 30.17, 30.17, 30.17, 29.96, 29.96, 29.96, 31.06, 31.06, 31.06, 30.75, 30.75, 30.17, 30.17, 30.76, 30.76, 30.75, 30.75, 31.06, 31.06, 31.06, 31.06, 31.06, 31.06, 31.06, 30.76, 31.06, 31.06, 31.06, 31.06, 31.06, 31.45, 31.45, 31.45, 31.82, 31.82, 31.06, 31.06, 31.79, 31.79, 31.79, 31.79, 31.79, 31.83, 31.83, 31.83, 31.81, 31.81, 31.79, 31.79, 31.81, 31.82, 31.82, 31.82, 31.82, 32.12, 32.12, 32.51, 32.51, 32.51, 31.81, 31.81, 32.18, 32.2, 32.2, 32.2, 32.21, 32.21, 32.21, 32.42, 32.42, 32.42, 32.42, 32.18, 33.98, 33.98, 33.74, 33.74, 33.74, 34.39, 34.39, 34.63, 33.91, 33.91, 33.54, 33.67, 33.67, 33.67, 33.61, 33.61, 33.61, 33.67, 33.67, 33.67, 33.64, 33.89, 33.89, 33.35, 33.35, 33.31, 33.31, 33.31, 33.31, 33.35, 33.35, 33.35, 33.89, 30.27, 30.27, 30.04, 30.04, 30.04, 30.51, 30.51, 30.51, 30.33, 30.33, 30.33, 30.27, 30.03, 30.03, 30.04, 30.04, 30.04, 30.56, 30.56, 30.56, 30.48, 30.48, 30.48, 30.03, 30.5, 30.5, 30.47, 30.47, 30.47, 30.48, 30.48, 30.27, 30.27, 30.27, 30.5, 30.44, 30.44, 30.6, 30.6, 30.6, 30.6, 30.6, 30.6, 31.26, 31.26, 31.26, 30.44, 31.0, 31.0, 31.25, 31.25, 31.25, 31.0, 31.0, 31.0, 32.49, 32.49, 32.49, 31.0, 32.49, 32.49, 33.0, 33.0, 33.0, 32.98, 32.98, 32.98, 32.98, 32.98, 32.98, 32.49, 33.98, 33.98, 33.98, 33.98, 33.98, 33.98, 33.98, 33.98, 33.98, 33.98, 33.98, 33.98, 33.98, 33.98, 33.98, 33.98, 33.98, 33.98, 33.98, 33.98, 33.98, 31.28, 31.28, 31.28, 31.28, 31.28, 31.28, 31.28, 31.28, 31.22, 31.22, 31.22, 31.28, 28.75, 28.75, 28.75, 28.75, 28.75, 28.67, 28.67, 28.67, 28.66, 28.66, 28.66, 28.75, 28.57, 28.57, 28.61, 28.61, 28.61, 29.51, 29.51, 29.51, 29.11, 29.11, 29.11, 28.57, 29.3, 29.3, 29.3, 29.3, 30.85, 30.85, 30.85, 30.26, 30.26, 30.26, 29.3, 30.45, 30.45, 30.46, 30.46, 30.46, 30.42, 30.42, 30.42, 30.79, 30.79, 30.79, 30.45, '39', '40', '41', '41', '43', '46', '46', '46', '47', '47', '46', '46', '46', '39', '39', '40', '40', '41', '42', '38', '38', '39', '44', '46', '46', '46', '46', '46', '48', '47', '47', '46', '46', '37', '40', '40', '40', '41', '41', '46', '46', '46', '46', '45', '45', '36', '37', '38', '38', '38', '37', '36', '35', '33', '34']\n",
            "[60.0, 60.0, 90.0, 70.0, 70.0, 70.0, 70.0, 60.0, 60.0, 60.0, 60.0, 60.0, 70.0, 70.0, 70.0, 70.0, 70.0, 70.0, 40.0, 110.0, 110.0, 90.0, 90.0, 90.0, 90.0, 110.0, 110.0, 70.0, 70.0, 70.0, 70.0, 50.0, 50.0, 50.0, 50.0, 70.0, 50.0, 50.0, 50.0, 50.0, 50.0, 50.0, 50.0, 50.0, 90.0, 90.0, 90.0, 90.0, 90.0, 90.0, 90.0, 90.0, 90.0, 90.0, 90.0, 90.0, 90.0, 90.0, 90.0, 100.0, 100.0, 100.0, 80.0, 80.0, 60.0, 60.0, 110.0, 110.0, 110.0, 110.0, 110.0, 110.0, 110.0, 110.0, 70.0, 70.0, 110.0, 110.0, 110.0, 170.0, 90.0, 90.0, 90.0, 170.0, 170.0, 170.0, 90.0, 90.0, 90.0, 90.0, 90.0, 90.0, 100.0, 100.0, 90.0, 90.0, 90.0, 60.0, 60.0, 60.0, 70.0, 70.0, 70.0, 90.0, 90.0, 90.0, 90.0, 90.0, 90.0, 170.0, 170.0, 170.0, 90.0, 90.0, 90.0, 90.0, 90.0, 90.0, 90.0, 90.0, 90.0, 90.0, 100.0, 100.0, 90.0, 90.0, 90.0, 90.0, 90.0, 90.0, 110.0, 110.0, 70.0, 70.0, 70.0, 70.0, 50.0, 50.0, 50.0, 50.0, 50.0, 50.0, 50.0, 50.0, 50.0, 50.0, 70.0, 70.0, 70.0, 70.0, 70.0, 50.0, 50.0, 50.0, 50.0, 50.0, 50.0, 90.0, 90.0, 90.0, 90.0, 90.0, 50.0, 90.0, 90.0, 90.0, 90.0, 90.0, 90.0, 90.0, 90.0, 90.0, 90.0, 90.0, 100.0, 100.0, 100.0, 100.0, 100.0, 100.0, 90.0, 90.0, 90.0, 60.0, 60.0, 60.0, 60.0, 60.0, 80.0, 170.0, 90.0, 90.0, 90.0, 170.0, 170.0, 170.0, 90.0, 90.0, 90.0, 90.0, 90.0, 90.0, 100.0, 100.0, 100.0, 100.0, 80.0, 80.0, 80.0, 80.0, 80.0, 80.0, 80.0, 80.0, 80.0, 80.0, 80.0, 80.0, 50.0, 50.0, 50.0, 50.0, 50.0, 50.0, 50.0, 50.0, 120.0, 120.0, 50.0, 120.0, 120.0, 120.0, 120.0, 120.0, 120.0, 110.0, 110.0, 110.0, 110.0, 110.0, 120.0, 120.0, 120.0, 120.0, 120.0, 120.0, 120.0, 120.0, 120.0, 120.0, 110.0, 110.0, 110.0, 120.0, 100.0, 100.0, 100.0, 100.0, 100.0, 120.0, 120.0, 120.0, 120.0, 120.0, 100.0, 100.0, 120.0, 120.0, 120.0, 120.0, 120.0, 120.0, 120.0, 120.0, 120.0, 120.0, 120.0, 120.0, 130.0, 130.0, 130.0, 130.0, 130.0, 130.0, 130.0, 110.0, 110.0, 110.0, 130.0, 130.0, 110.0, 110.0, 110.0, 110.0, 100.0, 100.0, 100.0, 100.0, 100.0, 100.0, 100.0, 110.0, 170.0, 170.0, 70.0, 70.0, 70.0, 80.0, 80.0, 80.0, 40.0, 40.0, 70.0, 70.0, 70.0, 70.0, 110.0, 110.0, 110.0, 110.0, 110.0, 110.0, 70.0, 110.0, 110.0, 90.0, 90.0, 70.0, 70.0, 70.0, 70.0, 70.0, 70.0, 70.0, 110.0, 100.0, 100.0, 100.0, 100.0, 100.0, 100.0, 100.0, 100.0, 100.0, 100.0, 100.0, 100.0, 130.0, 130.0, 130.0, 130.0, 130.0, 120.0, 120.0, 120.0, 120.0, 120.0, 120.0, 130.0, 80.0, 80.0, 80.0, 80.0, 80.0, 80.0, 80.0, 100.0, 100.0, 100.0, 80.0, 100.0, 100.0, 140.0, 140.0, 140.0, 140.0, 140.0, 140.0, 140.0, 140.0, 140.0, 100.0, 140.0, 140.0, 140.0, 140.0, 140.0, 140.0, 140.0, 140.0, 120.0, 120.0, 120.0, 140.0, 120.0, 120.0, 150.0, 150.0, 150.0, 40.0, 40.0, 40.0, 40.0, 40.0, 40.0, 120.0, 90.0, 90.0, 90.0, 90.0, 90.0, 90.0, 90.0, 90.0, 70.0, 70.0, 70.0, 90.0, 70.0, 70.0, 70.0, 70.0, 70.0, 70.0, 70.0, 70.0, 70.0, 30.0, 30.0, 30.0, 30.0, 30.0, 30.0, 30.0, 30.0, 290.0, 290.0, 290.0, 30.0, 270.0, 270.0, 270.0, 270.0, 270.0, 230.0, 230.0, 230.0, 230.0, 230.0, 230.0, 270.0, 230.0, 230.0, 350.0, 350.0, 350.0, 350.0, 350.0, 350.0, 20.0, 20.0, 20.0, 230.0, 20.0, 20.0, 20.0, 20.0, 20.0, 20.0, 20.0, 40.0, 40.0, 40.0, 20.0, 20.0, 20.0, 20.0, 20.0, 20.0, 20.0, 20.0, 20.0, 60.0, 60.0, 60.0, 20.0, '234', '196', '158', '120', '144', '190', '190', '225', '283', '283', '271', '259', '259', '288', '288', '292', '296', '300', '298', '292', '292', '293', '301', '303', '303', '303', '302', '302', '299', '296', '296', '289', '289', '288', '289', '289', '289', '290', '290', '295', '294', '294', '290', '286', '282', '277', '281', '285', '281', '281', '265', '241', '217', '193', '202']\n",
            "[4.1, 4.1, 1.5, 3.1, 4.1, 4.1, 4.1, 2.6, 2.6, 2.6, 2.6, 2.6, 2.6, 2.6, 2.6, 2.6, 2.6, 2.6, 4.1, 5.7, 2.6, 2.1, 2.1, 2.1, 2.1, 2.6, 2.6, 2.6, 2.6, 2.6, 2.6, 2.1, 2.1, 2.1, 2.1, 2.6, 3.6, 3.6, 3.6, 3.6, 3.6, 3.6, 3.6, 3.6, 4.1, 4.1, 4.1, 4.1, 4.1, 4.1, 4.1, 2.1, 2.1, 2.1, 2.1, 2.1, 2.1, 2.1, 2.1, 2.1, 2.1, 2.1, 3.1, 3.1, 2.1, 2.1, 2.1, 2.1, 2.1, 2.1, 2.1, 2.1, 2.1, 2.1, 2.6, 2.6, 2.1, 2.1, 2.1, 3.6, 2.1, 2.1, 2.1, 3.6, 3.6, 3.6, 2.1, 2.1, 2.1, 2.1, 2.1, 2.1, 2.1, 2.1, 5.1, 5.1, 5.1, 2.6, 2.6, 2.6, 2.6, 2.6, 2.6, 2.1, 2.1, 2.1, 2.1, 2.1, 2.1, 3.6, 3.6, 3.6, 2.1, 2.1, 2.1, 2.1, 2.1, 2.1, 2.1, 2.1, 2.1, 2.1, 2.1, 2.1, 2.1, 2.1, 2.1, 2.1, 2.1, 2.1, 2.6, 2.6, 2.6, 2.6, 2.6, 2.6, 2.1, 2.1, 2.1, 2.1, 2.1, 2.1, 2.1, 2.1, 2.1, 2.1, 2.6, 2.6, 2.6, 2.6, 2.6, 3.6, 3.6, 3.6, 3.6, 3.6, 3.6, 4.1, 4.1, 4.1, 4.1, 4.1, 3.6, 2.1, 2.1, 2.1, 2.1, 2.1, 2.1, 2.1, 2.1, 2.1, 2.1, 2.1, 2.1, 2.1, 2.1, 2.1, 2.1, 2.1, 2.1, 2.1, 2.1, 3.6, 3.6, 3.6, 3.6, 3.6, 3.1, 3.6, 2.1, 2.1, 2.1, 3.6, 3.6, 3.6, 2.1, 2.1, 2.1, 2.1, 2.1, 2.1, 2.1, 2.1, 3.6, 3.6, 4.1, 4.1, 4.1, 4.1, 4.1, 4.1, 4.1, 4.1, 5.1, 5.1, 4.1, 4.1, 6.2, 6.2, 6.2, 6.2, 6.2, 6.2, 6.2, 6.2, 2.6, 2.6, 6.2, 2.6, 2.6, 2.6, 2.6, 2.6, 2.6, 5.7, 5.7, 5.7, 5.7, 5.7, 2.6, 2.6, 3.6, 3.6, 3.6, 3.6, 3.6, 3.6, 3.6, 3.6, 3.6, 3.6, 3.6, 3.6, 4.6, 4.6, 4.6, 4.6, 4.6, 4.6, 4.6, 4.6, 4.6, 4.6, 4.6, 4.6, 4.1, 4.1, 4.1, 4.1, 4.1, 4.1, 4.1, 4.1, 4.6, 4.6, 4.1, 4.1, 4.1, 4.1, 4.1, 4.1, 4.1, 4.1, 4.1, 2.6, 2.6, 2.6, 4.1, 4.1, 2.1, 2.1, 2.1, 2.1, 4.1, 4.1, 4.1, 4.1, 4.1, 4.1, 4.1, 2.1, 3.6, 3.6, 2.6, 2.6, 2.6, 2.6, 2.6, 2.6, 3.1, 3.1, 2.6, 2.1, 2.1, 2.1, 1.5, 1.5, 1.5, 1.5, 1.5, 1.5, 2.1, 1.5, 1.5, 2.1, 2.1, 2.1, 2.1, 2.1, 2.1, 2.1, 2.1, 2.1, 1.5, 2.6, 2.6, 2.6, 2.6, 2.6, 2.6, 2.6, 2.6, 1.5, 1.5, 1.5, 2.6, 2.1, 2.1, 2.1, 2.1, 2.1, 2.1, 2.1, 2.1, 2.1, 2.1, 2.1, 2.1, 2.1, 2.1, 2.1, 2.1, 2.1, 2.1, 2.1, 1.0, 1.0, 1.0, 2.1, 1.0, 1.0, 1.0, 1.0, 1.0, 1.0, 1.0, 1.0, 2.1, 2.1, 2.1, 1.0, 2.6, 2.6, 2.6, 2.6, 2.6, 2.6, 2.6, 2.6, 2.6, 2.6, 2.6, 2.6, 2.6, 2.6, 1.5, 1.5, 1.5, 2.1, 2.1, 2.1, 2.1, 2.1, 2.1, 2.6, 1.5, 1.5, 1.5, 1.5, 1.5, 1.5, 1.5, 1.5, 5.1, 5.1, 5.1, 1.5, 4.1, 4.1, 4.1, 4.1, 4.1, 4.1, 4.1, 4.1, 4.1, 2.6, 2.6, 2.6, 2.6, 2.6, 2.6, 2.6, 2.6, 3.1, 3.1, 3.1, 2.6, 2.6, 2.6, 2.6, 2.6, 2.6, 1.5, 1.5, 1.5, 1.5, 1.5, 1.5, 2.6, 1.5, 1.5, 1.0, 1.0, 1.0, 1.0, 1.0, 1.0, 1.0, 1.0, 1.0, 1.5, 1.0, 1.0, 1.0, 1.0, 1.0, 1.0, 1.0, 2.6, 2.6, 2.6, 1.0, 1.0, 1.0, 1.0, 1.0, 1.0, 1.0, 1.0, 1.0, 1.5, 1.5, 1.5, 1.0, '13', '14', '14', '14', '12', '7', '7', '7', '7', '7', '8', '9', '9', '19', '19', '19', '18', '18', '17', '19', '19', '19', '15', '14', '14', '14', '15', '15', '16', '16', '16', '17', '17', '21', '20', '20', '20', '20', '20', '19', '19', '19', '21', '23', '24', '24', '23', '22', '21', '21', '23', '25', '27', '28', '27']\n",
            "[47.0, 47.0, 47.0, 47.0, 64.0, 64.0, 64.0, 75.0, 75.0, 75.0, 75.0, 75.0, 81.0, 81.0, 81.0, 81.0, 81.0, 81.0, 38.0, 38.0, 35.0, 44.0, 29.0, 38.0, 41.0, 50.0, 47.0, 38.0, 38.0, 32.0, 32.0, 38.0, 56.0, 53.0, 47.0, 35.0, 60.0, 41.0, 44.0, 64.0, 63.0, 38.0, 35.0, 35.0, 29.0, 23.0, 32.0, 32.0, 29.0, 26.0, 32.0, 29.0, 29.0, 29.0, 26.0, 29.0, 29.0, 23.0, 23.0, 14.0, 17.0, 17.0, 38.0, 38.0, 41.0, 41.0, 38.0, 38.0, 38.0, 63.0, 44.0, 44.0, 41.0, 41.0, 56.0, 56.0, 32.0, 32.0, 32.0, 94.0, 94.0, 87.0, 97.0, 88.0, 93.0, 82.0, 81.0, 75.0, 76.0, 84.0, 78.0, 78.0, 73.0, 75.0, 66.0, 63.0, 66.0, 72.0, 72.0, 76.0, 81.0, 81.0, 81.0, 96.0, 94.0, 87.0, 97.0, 90.0, 90.0, 88.0, 76.0, 76.0, 81.0, 81.0, 79.0, 75.0, 73.0, 84.0, 79.0, 79.0, 75.0, 76.0, 69.0, 78.0, 73.0, 35.0, 26.0, 23.0, 26.0, 32.0, 53.0, 53.0, 32.0, 26.0, 26.0, 17.0, 14.0, 14.0, 14.0, 17.0, 20.0, 20.0, 17.0, 17.0, 17.0, 41.0, 41.0, 41.0, 44.0, 38.0, 38.0, 58.0, 58.0, 41.0, 44.0, 41.0, 47.0, 50.0, 50.0, 50.0, 50.0, 50.0, 50.0, 50.0, 50.0, 50.0, 50.0, 50.0, 50.0, 50.0, 50.0, 50.0, 50.0, 50.0, 50.0, 50.0, 50.0, 50.0, 50.0, 50.0, 50.0, 50.0, 50.0, 50.0, 50.0, 50.0, 50.0, 50.0, 50.0, 50.0, 50.0, 50.0, 50.0, 50.0, 50.0, 50.0, 50.0, 50.0, 50.0, 50.0, 50.0, 50.0, 50.0, 50.0, 35.0, 14.0, 50.0, 61.0, 66.0, 72.0, 69.0, 63.0, 64.0, 66.0, 58.0, 58.0, 60.0, 61.0, 60.0, 56.0, 44.0, 47.0, 50.0, 47.0, 38.0, 38.0, 32.0, 32.0, 26.0, 23.0, 26.0, 20.0, 17.0, 20.0, 20.0, 20.0, 20.0, 20.0, 23.0, 23.0, 20.0, 20.0, 20.0, 20.0, 20.0, 20.0, 20.0, 23.0, 23.0, 20.0, 23.0, 20.0, 17.0, 17.0, 17.0, 17.0, 17.0, 17.0, 17.0, 14.0, 14.0, 11.0, 11.0, 14.0, 14.0, 17.0, 17.0, 14.0, 14.0, 17.0, 17.0, 17.0, 17.0, 17.0, 17.0, 17.0, 17.0, 20.0, 17.0, 20.0, 20.0, 17.0, 17.0, 17.0, 17.0, 23.0, 14.0, 17.0, 17.0, 17.0, 20.0, 20.0, 23.0, 20.0, 20.0, 23.0, 26.0, 26.0, 26.0, 20.0, 20.0, 17.0, 96.0, 94.0, 63.0, 64.0, 67.0, 58.0, 58.0, 32.0, 35.0, 35.0, 35.0, 41.0, 41.0, 41.0, 41.0, 41.0, 44.0, 41.0, 41.0, 41.0, 38.0, 38.0, 41.0, 38.0, 38.0, 35.0, 72.0, 66.0, 32.0, 32.0, 32.0, 32.0, 32.0, 96.0, 96.0, 96.0, 96.0, 97.0, 100.0, 102.0, 102.0, 102.0, 105.0, 107.0, 105.0, 102.0, 107.0, 107.0, 105.0, 100.0, 107.0, 105.0, 105.0, 109.0, 109.0, 105.0, 102.0, 103.0, 103.0, 100.0, 99.0, 96.0, 102.0, 90.0, 94.0, 91.0, 91.0, 90.0, 91.0, 90.0, 90.0, 82.0, 84.0, 82.0, 82.0, 81.0, 76.0, 76.0, 72.0, 69.0, 70.0, 69.0, 69.0, 69.0, 69.0, 66.0, 66.0, 66.0, 60.0, 64.0, 76.0, 67.0, 64.0, 66.0, 67.0, 64.0, 63.0, 64.0, 67.0, 61.0, 63.0, 57.0, 61.0, 63.0, 63.0, 63.0, 58.0, 57.0, 61.0, 60.0, 63.0, 66.0, 67.0, 72.0, 75.0, 75.0, 78.0, 78.0, 84.0, 82.0, 85.0, 76.0, 82.0, 69.0, 64.0, 50.0, 41.0, 29.0, 35.0, 35.0, 29.0, 29.0, 26.0, 32.0, 29.0, 29.0, 35.0, 32.0, 32.0, 38.0, 41.0, 47.0, 47.0, 56.0, 56.0, 57.0, 58.0, 58.0, 61.0, 64.0, 61.0, 61.0, 61.0, 64.0, 63.0, 66.0, 64.0, 64.0, 67.0, 69.0, 72.0, 72.0, 73.0, 75.0, 75.0, 88.0, 87.0, 87.0, 88.0, 88.0, 91.0, 96.0, 94.0, 94.0, 90.0, 99.0, 91.0, 100.0, 99.0, 103.0, 102.0, 105.0, 100.0, 105.0, '42', '75', '51', '52', '45', '47', '47', '55', '61', '61', '60', '61', '61', '74', '74', '66', '68', '63', '46', '45', '45', '47', '48', '46', '46', '46', '50', '50', '49', '46', '46', '44', '44', '62', '106', '106', '106', '111', '111', '54', '52', '52', '55', '52', '48', '22', '26', '32', '32', '32', '27', '26', '29', '30', '28']\n"
          ],
          "name": "stdout"
        }
      ]
    },
    {
      "cell_type": "code",
      "metadata": {
        "id": "oboQZqnmAATV",
        "colab_type": "code",
        "colab": {}
      },
      "source": [
        "final_shape=len(hours)\n",
        "\n",
        "#FEATURES \n",
        "\n",
        "trans= np.reshape(trans,(final_shape,1))\n",
        "hours = np.reshape(hours,(final_shape,1))\n",
        "cont = np.reshape(cont,(final_shape,1))\n",
        "ent = np.reshape(ent,(final_shape,1))\n",
        "hum = np.reshape(hum,(final_shape,1))\n",
        "pressure = np.reshape(pressure,(final_shape,1))\n",
        "tempr = np.reshape(tempr,(final_shape,1))\n",
        "deg = np.reshape(deg,(final_shape,1))\n",
        "speed = np.reshape(speed,(final_shape,1))\n",
        "\n",
        "\n",
        "# final_shape_s=len(hour_s)\n",
        "\n",
        "# trans_s= np.reshape(trans_s,(final_shape_s,1))\n",
        "# hour_s = np.reshape(hour_s,(final_shape_s,1))\n",
        "# cont_s = np.reshape(cont_s,(final_shape_s,1))\n",
        "# ent_s = np.reshape(ent_s,(final_shape_s,1))\n",
        "# hum_s = np.reshape(hum_s,(final_shape_s,1))\n",
        "# pressure_s = np.reshape(pressure_s,(final_shape_s,1))\n",
        "# tempr_s = np.reshape(tempr_s,(final_shape_s,1))\n",
        "# deg_s = np.reshape(deg_s,(final_shape_s,1))\n",
        "# speed_s = np.reshape(speed_s,(final_shape_s,1))\n",
        "\n",
        "#LABEL\n",
        "\n",
        "pm = np.reshape(pm,(final_shape,1))\n",
        "\n",
        "# pm_s = np.reshape(pm_s,(final_shape_s,1))\n",
        "\n",
        "\n",
        "#scaling \n",
        "\n",
        "# scaler = MinMaxScaler()\n",
        "\n",
        "# hours = scaler.fit_transform(hours)\n",
        "# cont = scaler.fit_transform(cont)\n",
        "# ent = scaler.fit_transform(ent)\n",
        "# hum = scaler.fit_transform(hum)\n",
        "# pressure = scaler.fit_transform(pressure)\n",
        "# tempr = scaler.fit_transform(tempr)\n",
        "# speed = scaler.fit_transform(speed)\n",
        "# hour_s = scaler.fit_transform(hour_s)\n",
        "# cont_s = scaler.fit_transform(cont_s)\n",
        "# ent_s = scaler.fit_transform(ent_s)\n",
        "# hum_s = scaler.fit_transform(hum_s)\n",
        "# deg_s = scaler.fit_transform(deg_s)\n",
        "# pressure_s = scaler.fit_transform(pressure_s)\n",
        "# tempr_s = scaler.fit_transform(tempr_s)\n",
        "# speed_s = scaler.fit_transform(speed_s)\n",
        "\n",
        "##SCALING \n",
        "\n",
        "s1 = MinMaxScaler()\n",
        "hours = s1.fit_transform(hours)\n",
        "s2 = MinMaxScaler()\n",
        "cont = s2.fit_transform(cont)\n",
        "s3 = MinMaxScaler()\n",
        "ent = s3.fit_transform(ent)\n",
        "s4 = MinMaxScaler()\n",
        "hum = s4.fit_transform(hum)\n",
        "s5 = MinMaxScaler()\n",
        "pressure = s5.fit_transform(pressure)\n",
        "s6 = MinMaxScaler()\n",
        "tempr = s6.fit_transform(tempr)\n",
        "s7 = MinMaxScaler()\n",
        "deg = s7.fit_transform(deg)\n",
        "s8 = MinMaxScaler()\n",
        "speed = s8.fit_transform(speed)\n",
        "\n",
        "\n",
        "\n",
        "# s1_s = MinMaxScaler()\n",
        "# hour_s = s1_s.fit_transform(hour_s)\n",
        "\n",
        "# s2_s = MinMaxScaler()\n",
        "# cont_s = s2_s.fit_transform(cont_s)\n",
        "\n",
        "# s3_s = MinMaxScaler()\n",
        "# ent_s = s3_s.fit_transform(ent_s)\n",
        "\n",
        "# s4_s = MinMaxScaler()\n",
        "# hum_s = s4_s.fit_transform(hum_s)\n",
        "\n",
        "# s5_s = MinMaxScaler()\n",
        "# pressure_s= s5_s.fit_transform(pressure_s)\n",
        "\n",
        "# s6_s = MinMaxScaler()\n",
        "# tempr_s = s6_s.fit_transform(tempr_s)\n",
        "\n",
        "# s7_s = MinMaxScaler()\n",
        "# deg_s = s7_s.fit_transform(deg_s)\n",
        "\n",
        "# s8_s = MinMaxScaler()\n",
        "# speed_s = s8_s.fit_transform(speed_s)\n",
        "\n",
        "#SAVING SCALERS \n",
        "\n",
        "with open('/content/S1.bin','wb') as file:\n",
        "  pickle.dump(s1,file)\n",
        "with open('/content/S2.bin','wb') as file:\n",
        "  pickle.dump(s2,file)\n",
        "with open('/content/S3.bin','wb') as file:\n",
        "  pickle.dump(s3,file)\n",
        "with open('/content/S4.bin','wb') as file:\n",
        "  pickle.dump(s4,file)\n",
        "with open('/content/S5.bin','wb') as file:\n",
        "  pickle.dump(s5,file)\n",
        "with open('/content/S6.bin','wb') as file:\n",
        "  pickle.dump(s6,file)\n",
        "with open('/content/S7.bin','wb') as file:\n",
        "  pickle.dump(s7,file)\n",
        "with open('/content/S8.bin','wb') as file:\n",
        "  pickle.dump(s8,file)\n",
        "  \n",
        "# with open('/content/S1_s.bin','wb') as file:\n",
        "#   pickle.dump(s1_s,file)\n",
        "# with open('/content/S2_s.bin','wb') as file:\n",
        "#   pickle.dump(s2_s,file)\n",
        "# with open('/content/S3_s.bin','wb') as file:\n",
        "#   pickle.dump(s3_s,file)\n",
        "# with open('/content/S4_s.bin','wb') as file:\n",
        "#   pickle.dump(s4_s,file)\n",
        "# with open('/content/S5_s.bin','wb') as file:\n",
        "#   pickle.dump(s5_s,file)\n",
        "# with open('/content/S6_s.bin','wb') as file:\n",
        "#   pickle.dump(s6_s,file)\n",
        "# with open('/content/S7_s.bin','wb') as file:\n",
        "#   pickle.dump(s7_s,file)\n",
        "# with open('/content/S8_s.bin','wb') as file:\n",
        "#   pickle.dump(s8_s,file)\n",
        "\n",
        "\n",
        "# joblib.dump(s1,'S1.pkl')\n",
        "# joblib.dump(s2,'S2.pkl')\n",
        "# joblib.dump(s3,'S3.pkl')\n",
        "# joblib.dump(s4,'S4.pkl')\n",
        "# joblib.dump(s5,'S5.pkl')\n",
        "# joblib.dump(s6,'S6.pkl')\n",
        "# joblib.dump(s7,'S7.pkl')\n",
        "# joblib.dump(s8,'S8.pkl')\n",
        "# joblib.dump(s9,'S9.pkl')\n",
        "# joblib.dump(s10,'S10.pkl')\n",
        "# joblib.dump(s11,'S11.pkl')\n",
        "\n",
        "#features = np.hstack((hours, cont, ent, hum, temp, vis, deg, speed,cc, desc,pressure,trans))\n",
        "\n",
        "\n",
        "# trans=list(map(float,trans))\n",
        "\n",
        "# trans_s=list(map(float,trans_s))\n",
        "\n",
        "#With ITO (2752)\n",
        "\n",
        "features = np.hstack((hours, cont, ent , hum, tempr, deg, speed, pressure,trans))\n",
        "\n",
        "#With Shanghai \n",
        "#shan_stack = np.hstack((hour_s, cont_s,ent_s, hum_s, tempr_s, deg_s, speed_s, pressure_s,trans_s))\n"
      ],
      "execution_count": 0,
      "outputs": []
    },
    {
      "cell_type": "code",
      "metadata": {
        "id": "l1RJhFwhI3lr",
        "colab_type": "code",
        "outputId": "ea0371d1-6395-46a7-b309-84166a00140c",
        "colab": {
          "base_uri": "https://localhost:8080/",
          "height": 171
        }
      },
      "source": [
        "# print(type(trans_s))\n",
        "# print(type(hour_s))\n",
        "# print(type(cont_s))\n",
        "# print(type(ent_s))\n",
        "# print(type(hum_s))\n",
        "# print(type(pressure_s))\n",
        "# print(type(tempr_s))\n",
        "# print(type(deg_s))\n",
        "# print(type(speed_s))\n"
      ],
      "execution_count": 0,
      "outputs": [
        {
          "output_type": "stream",
          "text": [
            "<class 'list'>\n",
            "<class 'numpy.ndarray'>\n",
            "<class 'numpy.ndarray'>\n",
            "<class 'numpy.ndarray'>\n",
            "<class 'numpy.ndarray'>\n",
            "<class 'numpy.ndarray'>\n",
            "<class 'numpy.ndarray'>\n",
            "<class 'numpy.ndarray'>\n",
            "<class 'numpy.ndarray'>\n"
          ],
          "name": "stdout"
        }
      ]
    },
    {
      "cell_type": "code",
      "metadata": {
        "id": "ZI2xIWJPJBzp",
        "colab_type": "code",
        "outputId": "f173fe58-7285-4553-c692-5cc73e4bd563",
        "colab": {
          "base_uri": "https://localhost:8080/",
          "height": 171
        }
      },
      "source": [
        "print(type(trans))\n",
        "print(type(hours))\n",
        "print(type(cont))\n",
        "print(type(ent))\n",
        "print(type(hum))\n",
        "print(type(pressure))\n",
        "print(type(tempr))\n",
        "print(type(deg))\n",
        "print(type(speed))"
      ],
      "execution_count": 0,
      "outputs": [
        {
          "output_type": "stream",
          "text": [
            "<class 'numpy.ndarray'>\n",
            "<class 'numpy.ndarray'>\n",
            "<class 'numpy.ndarray'>\n",
            "<class 'numpy.ndarray'>\n",
            "<class 'numpy.ndarray'>\n",
            "<class 'numpy.ndarray'>\n",
            "<class 'numpy.ndarray'>\n",
            "<class 'numpy.ndarray'>\n",
            "<class 'numpy.ndarray'>\n"
          ],
          "name": "stdout"
        }
      ]
    },
    {
      "cell_type": "markdown",
      "metadata": {
        "id": "MyWwvUgFtgDx",
        "colab_type": "text"
      },
      "source": [
        "FOR INCLUDING SHANGHAI DATA RUN THIS "
      ]
    },
    {
      "cell_type": "code",
      "metadata": {
        "id": "BeC75a6KC0xz",
        "colab_type": "code",
        "outputId": "9db26bc9-b947-4ec9-e554-00d0494967a1",
        "colab": {
          "base_uri": "https://localhost:8080/",
          "height": 51
        }
      },
      "source": [
        "print(np.shape(features))\n",
        "print(np.shape(shan_stack))"
      ],
      "execution_count": 0,
      "outputs": [
        {
          "output_type": "stream",
          "text": [
            "(2495, 9)\n",
            "(314, 1032)\n"
          ],
          "name": "stdout"
        }
      ]
    },
    {
      "cell_type": "code",
      "metadata": {
        "id": "Rrl4Q94eKfpH",
        "colab_type": "code",
        "colab": {}
      },
      "source": [
        "\n",
        "final_features = np.vstack((features, shan_stack))"
      ],
      "execution_count": 0,
      "outputs": []
    },
    {
      "cell_type": "code",
      "metadata": {
        "colab_type": "code",
        "id": "KcVHZ_4wHlfK",
        "colab": {}
      },
      "source": [
        "pm_final=[]\n",
        "for i in range(0,len(pm)):\n",
        "    pm_final.append(float(pm[i]))\n",
        "for i in range(0,len(pm_s)):\n",
        "   pm_final.append(float(pm_s[i]))"
      ],
      "execution_count": 0,
      "outputs": []
    },
    {
      "cell_type": "code",
      "metadata": {
        "id": "ZQBjx8fZugBe",
        "colab_type": "code",
        "colab": {}
      },
      "source": [
        "# import pickle\n",
        "# with open('/content/feat_Shanghai_ITO_withtrans.bin','wb') as file:\n",
        "#   pickle.dump(final_features,file)\n",
        "# with open('/content/Labels_Shanghai_ITO_withtras.bin','wb') as file:\n",
        "#   pickle.dump(pm_final,file)"
      ],
      "execution_count": 0,
      "outputs": []
    },
    {
      "cell_type": "code",
      "metadata": {
        "id": "oxM5tDkA6sD-",
        "colab_type": "code",
        "outputId": "3839d961-ca81-421b-cb0b-9701f375a21e",
        "colab": {
          "base_uri": "https://localhost:8080/",
          "height": 34
        }
      },
      "source": [
        "print(np.shape(final_features))"
      ],
      "execution_count": 0,
      "outputs": [
        {
          "output_type": "stream",
          "text": [
            "(3963, 65544)\n"
          ],
          "name": "stdout"
        }
      ]
    },
    {
      "cell_type": "code",
      "metadata": {
        "id": "6iHAh_pWPtdj",
        "colab_type": "code",
        "outputId": "35e2c1af-a341-4736-bb86-49c1547dbe55",
        "colab": {
          "base_uri": "https://localhost:8080/",
          "height": 34
        }
      },
      "source": [
        "print(len(pm_final))"
      ],
      "execution_count": 0,
      "outputs": [
        {
          "output_type": "stream",
          "text": [
            "3963\n"
          ],
          "name": "stdout"
        }
      ]
    },
    {
      "cell_type": "code",
      "metadata": {
        "id": "gBIy64IMKaWQ",
        "colab_type": "code",
        "colab": {}
      },
      "source": [
        "features = list(map(np.float32, features))\n",
        "pm = list(map(np.float32,pm))"
      ],
      "execution_count": 0,
      "outputs": []
    },
    {
      "cell_type": "code",
      "metadata": {
        "id": "hFmu5z1pum9K",
        "colab_type": "code",
        "colab": {}
      },
      "source": [
        "with open('/content/features_withITO_Shanghai.bin','wb') as file:\n",
        "  pickle.dump(final_features,file)\n",
        "with open('/content/labels_withITO_Shanghai.bin','wb') as file:\n",
        "  pickle.dump(pm_final,file)"
      ],
      "execution_count": 0,
      "outputs": []
    },
    {
      "cell_type": "code",
      "metadata": {
        "id": "mUAhqwnRQMg8",
        "colab_type": "code",
        "colab": {}
      },
      "source": [
        "features = list(map(np.float32,features))\n",
        "pm = list(map(np.float32,pm))"
      ],
      "execution_count": 0,
      "outputs": []
    },
    {
      "cell_type": "code",
      "metadata": {
        "id": "DdadYEIV-Zyd",
        "colab_type": "code",
        "outputId": "2578e587-3ea0-4d60-b917-c11497089f7a",
        "colab": {
          "base_uri": "https://localhost:8080/",
          "height": 34
        }
      },
      "source": [
        "print(type(pm))"
      ],
      "execution_count": 0,
      "outputs": [
        {
          "output_type": "stream",
          "text": [
            "<class 'numpy.ndarray'>\n"
          ],
          "name": "stdout"
        }
      ]
    },
    {
      "cell_type": "code",
      "metadata": {
        "id": "yRoxxJbFqzuq",
        "colab_type": "code",
        "colab": {}
      },
      "source": [
        "with open('/content/features_withITO.bin','wb') as file:\n",
        "  pickle.dump(features,file)\n",
        "with open('/content/labels_withITO.bin','wb') as file:\n",
        "  pickle.dump(pm,file)"
      ],
      "execution_count": 0,
      "outputs": []
    },
    {
      "cell_type": "code",
      "metadata": {
        "id": "oGezNp9f-nIH",
        "colab_type": "code",
        "outputId": "00daf36c-86a3-4b10-e339-974d8dc8a89b",
        "colab": {
          "base_uri": "https://localhost:8080/",
          "height": 86
        }
      },
      "source": [
        "print(type(features))\n",
        "print(type(pm))\n",
        "print(len(features))\n",
        "print(len(pm))"
      ],
      "execution_count": 0,
      "outputs": [
        {
          "output_type": "stream",
          "text": [
            "<class 'numpy.ndarray'>\n",
            "<class 'numpy.ndarray'>\n",
            "1985\n",
            "1985\n"
          ],
          "name": "stdout"
        }
      ]
    },
    {
      "cell_type": "code",
      "metadata": {
        "id": "U43D3JiECfXT",
        "colab_type": "code",
        "outputId": "2e8588fb-6275-4dd8-d1d3-6bbcc59cff7b",
        "colab": {
          "base_uri": "https://localhost:8080/",
          "height": 286
        }
      },
      "source": [
        "lineareg = LinearRegression(normalize =False)\n",
        "cross = cross_val_score(lineareg, features,pm, scoring ='neg_mean_squared_error',cv=3)\n",
        "x_train, x_test, y_train, y_test = train_test_split(features, pm, test_size =0.3, random_state =42)\n",
        "\n",
        "# x_train=map(float,x_train)\n",
        "# y_train=map(float,y_train)\n",
        "# x_test=map(float,x_test)\n",
        "# y_test=map(float,y_test)\n",
        "\n",
        "lineareg.fit(x_train, y_train)\n",
        "\n",
        "pred = lineareg.predict(x_test)\n",
        "\n",
        "plt.plot(pred)\n",
        "plt.plot(y_test)\n",
        "\n",
        "print(mean_squared_error(pred, y_test)**0.5)\n",
        "\n",
        "\n",
        "#(500 IMAGES LESS THAN WITH THE PREVIOUS REGRESSOR !!!!! )\n"
      ],
      "execution_count": 0,
      "outputs": [
        {
          "output_type": "stream",
          "text": [
            "25.79080078775061\n"
          ],
          "name": "stdout"
        },
        {
          "output_type": "display_data",
          "data": {
            "image/png": "[encoded data removed]",
            "text/plain": [
              "<Figure size 432x288 with 1 Axes>"
            ]
          },
          "metadata": {
            "tags": []
          }
        }
      ]
    },
    {
      "cell_type": "code",
      "metadata": {
        "id": "MbRzic2oEa88",
        "colab_type": "code",
        "colab": {}
      },
      "source": [
        "with open('/content/Linear_withITO_Shanghai.bin','wb') as file:\n",
        "  pickle.dump(lineareg,file)\n",
        "\n"
      ],
      "execution_count": 0,
      "outputs": []
    },
    {
      "cell_type": "code",
      "metadata": {
        "id": "H_K8d837DeMO",
        "colab_type": "code",
        "outputId": "e5dede43-cb9f-4e72-d082-ad1d7be14dbc",
        "colab": {
          "base_uri": "https://localhost:8080/",
          "height": 34
        }
      },
      "source": [
        "print(((-1)*cross)**0.5)"
      ],
      "execution_count": 0,
      "outputs": [
        {
          "output_type": "stream",
          "text": [
            "[42.30825023 25.60483796 38.67711297]\n"
          ],
          "name": "stdout"
        }
      ]
    },
    {
      "cell_type": "code",
      "metadata": {
        "id": "6PIOW4xFDi3g",
        "colab_type": "code",
        "outputId": "7f1d84bb-0d7f-45d8-9017-a0137c244a12",
        "colab": {
          "base_uri": "https://localhost:8080/",
          "height": 1000
        }
      },
      "source": [
        "d=[]\n",
        "for i in range(0,len(pred)):\n",
        "  print(str(y_test[i]) +'\\t'+ str(pred[i]))\n",
        "  k=y_test[i]-pred[i]\n",
        "  if(k>=10):\n",
        "    d.append(k)\n"
      ],
      "execution_count": 0,
      "outputs": [
        {
          "output_type": "stream",
          "text": [
            "[62.]\t[48.804893]\n",
            "[27.]\t[51.959503]\n",
            "[17.]\t[35.661743]\n",
            "[44.]\t[56.586136]\n",
            "[63.]\t[58.780792]\n",
            "[30.]\t[49.674774]\n",
            "[27.]\t[23.102303]\n",
            "[52.33]\t[64.13626]\n",
            "[32.]\t[36.636086]\n",
            "[40.39]\t[49.542015]\n",
            "[92.]\t[58.718155]\n",
            "[63.12]\t[70.594025]\n",
            "[42.8]\t[44.37574]\n",
            "[24.17]\t[29.25476]\n",
            "[47.]\t[61.33084]\n",
            "[17.]\t[33.12986]\n",
            "[44.]\t[54.458908]\n",
            "[50.]\t[44.397194]\n",
            "[190.]\t[65.78136]\n",
            "[45.]\t[72.1971]\n",
            "[85.7]\t[60.538635]\n",
            "[48.]\t[71.10864]\n",
            "[56.85]\t[54.719116]\n",
            "[61.]\t[64.36154]\n",
            "[35.]\t[40.012924]\n",
            "[24.]\t[45.606735]\n",
            "[17.]\t[36.440582]\n",
            "[45.]\t[36.55043]\n",
            "[62.]\t[46.212524]\n",
            "[66.]\t[33.45436]\n",
            "[39.]\t[57.42325]\n",
            "[46.]\t[56.407814]\n",
            "[63.]\t[44.53042]\n",
            "[34.95]\t[41.05388]\n",
            "[46.27]\t[57.55156]\n",
            "[29.]\t[40.037933]\n",
            "[41.]\t[47.488266]\n",
            "[81.1]\t[62.95086]\n",
            "[92.]\t[56.50058]\n",
            "[79.]\t[43.59687]\n",
            "[38.]\t[63.93297]\n",
            "[40.84]\t[51.248184]\n",
            "[50.]\t[55.511864]\n",
            "[44.]\t[38.618484]\n",
            "[92.]\t[57.10144]\n",
            "[27.]\t[51.772667]\n",
            "[40.84]\t[50.166702]\n",
            "[85.7]\t[61.503204]\n",
            "[51.]\t[62.289383]\n",
            "[57.]\t[47.97351]\n",
            "[55.]\t[68.91933]\n",
            "[44.02]\t[74.66347]\n",
            "[34.16]\t[40.37523]\n",
            "[44.]\t[54.68371]\n",
            "[40.]\t[44.26705]\n",
            "[27.12]\t[29.925827]\n",
            "[94.]\t[69.041595]\n",
            "[94.]\t[72.80293]\n",
            "[62.]\t[49.068504]\n",
            "[63.]\t[51.67762]\n",
            "[24.]\t[48.040306]\n",
            "[44.]\t[43.807663]\n",
            "[56.]\t[59.29136]\n",
            "[180.]\t[77.63683]\n",
            "[48.]\t[53.464287]\n",
            "[66.]\t[36.439354]\n",
            "[63.]\t[49.433914]\n",
            "[54.78]\t[45.020927]\n",
            "[44.67]\t[67.50044]\n",
            "[37.53]\t[68.000534]\n",
            "[42.2]\t[44.095253]\n",
            "[39.]\t[57.31897]\n",
            "[62.]\t[50.531494]\n",
            "[92.]\t[57.566895]\n",
            "[45.]\t[67.52292]\n",
            "[44.02]\t[73.25018]\n",
            "[39.]\t[43.6856]\n",
            "[90.]\t[70.79262]\n",
            "[27.]\t[33.097847]\n",
            "[67.2]\t[44.575127]\n",
            "[31.41]\t[42.135025]\n",
            "[54.84]\t[62.929443]\n",
            "[45.]\t[53.615326]\n",
            "[40.]\t[46.24111]\n",
            "[39.]\t[41.257904]\n",
            "[57.]\t[48.665604]\n",
            "[46.]\t[60.157562]\n",
            "[48.]\t[75.36181]\n",
            "[74.]\t[36.31424]\n",
            "[47.]\t[39.6756]\n",
            "[44.]\t[42.672432]\n",
            "[41.3]\t[43.35119]\n",
            "[24.]\t[46.36155]\n",
            "[30.]\t[49.49553]\n",
            "[40.]\t[43.02533]\n",
            "[69.]\t[62.16575]\n",
            "[85.16]\t[63.55047]\n",
            "[102.]\t[77.75983]\n",
            "[42.31]\t[68.45896]\n",
            "[58.]\t[60.373306]\n",
            "[36.]\t[38.307953]\n",
            "[46.]\t[57.726494]\n",
            "[29.]\t[44.94433]\n",
            "[51.44]\t[61.614136]\n",
            "[46.]\t[42.11532]\n",
            "[57.]\t[48.342873]\n",
            "[27.12]\t[28.537735]\n",
            "[90.]\t[70.473495]\n",
            "[53.]\t[55.310814]\n",
            "[62.]\t[52.319427]\n",
            "[89.]\t[49.647186]\n",
            "[40.]\t[44.717567]\n",
            "[36.69]\t[67.917404]\n",
            "[63.28]\t[76.67955]\n",
            "[63.77]\t[80.897995]\n",
            "[39.]\t[54.733376]\n",
            "[73.]\t[41.34684]\n",
            "[40.39]\t[50.357582]\n",
            "[92.]\t[58.25186]\n",
            "[46.84]\t[41.08139]\n",
            "[23.]\t[39.299347]\n",
            "[23.]\t[48.743004]\n",
            "[42.31]\t[66.211365]\n",
            "[42.31]\t[68.01258]\n",
            "[190.]\t[67.191666]\n",
            "[57.]\t[45.636497]\n",
            "[35.77]\t[50.984016]\n",
            "[43.8]\t[44.15406]\n",
            "[63.]\t[59.97647]\n",
            "[190.]\t[72.84033]\n",
            "[94.]\t[68.953964]\n",
            "[29.]\t[46.0635]\n",
            "[92.]\t[58.132324]\n",
            "[27.]\t[51.765587]\n",
            "[63.28]\t[77.52327]\n",
            "[89.]\t[43.678917]\n",
            "[69.]\t[63.693268]\n",
            "[66.]\t[61.173843]\n",
            "[66.]\t[64.616425]\n",
            "[60.88]\t[74.04634]\n",
            "[37.26]\t[40.489273]\n",
            "[51.]\t[43.962578]\n",
            "[45.67]\t[57.066788]\n",
            "[23.]\t[49.226692]\n",
            "[61.42]\t[71.57649]\n",
            "[44.8]\t[44.125435]\n",
            "[45.2]\t[35.560356]\n",
            "[23.]\t[49.072243]\n",
            "[31.68]\t[77.3665]\n",
            "[53.45]\t[66.8475]\n",
            "[57.]\t[48.36821]\n",
            "[39.]\t[60.812386]\n",
            "[45.]\t[37.363953]\n",
            "[56.85]\t[54.144974]\n",
            "[46.]\t[60.127213]\n",
            "[60.88]\t[72.82509]\n",
            "[55.]\t[43.344604]\n",
            "[31.68]\t[75.67166]\n",
            "[105.]\t[70.45491]\n",
            "[44.02]\t[74.346924]\n",
            "[57.]\t[43.82084]\n",
            "[38.]\t[46.14984]\n",
            "[40.39]\t[49.413353]\n",
            "[74.]\t[36.641075]\n",
            "[66.]\t[53.609406]\n",
            "[27.]\t[52.923134]\n",
            "[99.]\t[70.28439]\n",
            "[34.95]\t[40.621048]\n",
            "[66.88]\t[78.14415]\n",
            "[42.5]\t[43.864265]\n",
            "[44.]\t[48.853996]\n",
            "[29.]\t[41.458267]\n",
            "[27.44]\t[43.586807]\n",
            "[29.]\t[44.23044]\n",
            "[190.]\t[72.54257]\n",
            "[62.]\t[49.084976]\n",
            "[35.]\t[45.236725]\n",
            "[39.]\t[57.560585]\n",
            "[27.]\t[49.854866]\n",
            "[37.74]\t[47.044174]\n",
            "[43.]\t[42.664]\n",
            "[103.]\t[74.56955]\n",
            "[46.]\t[38.44625]\n",
            "[27.]\t[47.66587]\n",
            "[31.]\t[67.93908]\n",
            "[14.]\t[51.174934]\n",
            "[41.]\t[46.70838]\n",
            "[190.]\t[66.0206]\n",
            "[57.]\t[46.785057]\n",
            "[50.]\t[59.065422]\n",
            "[35.67]\t[50.734795]\n",
            "[34.16]\t[40.86685]\n",
            "[56.]\t[57.83615]\n",
            "[47.]\t[45.938644]\n",
            "[48.]\t[74.31036]\n",
            "[85.16]\t[59.56566]\n",
            "[55.7]\t[49.807632]\n",
            "[56.85]\t[51.651108]\n",
            "[28.6]\t[52.46792]\n",
            "[44.]\t[71.38241]\n",
            "[54.78]\t[43.711227]\n",
            "[55.]\t[47.48208]\n",
            "[46.]\t[55.095177]\n",
            "[52.]\t[28.663391]\n",
            "[41.6]\t[45.605186]\n",
            "[190.]\t[67.45209]\n",
            "[40.39]\t[50.727684]\n",
            "[35.58]\t[47.289566]\n",
            "[38.]\t[51.99495]\n",
            "[63.77]\t[80.69621]\n",
            "[47.]\t[46.60492]\n",
            "[190.]\t[67.68167]\n",
            "[42.7]\t[42.445656]\n",
            "[73.]\t[45.282196]\n",
            "[56.]\t[52.02433]\n",
            "[36.]\t[41.107742]\n",
            "[41.]\t[58.99118]\n",
            "[56.]\t[62.848175]\n",
            "[37.74]\t[49.185097]\n",
            "[32.81]\t[37.230316]\n",
            "[44.]\t[54.893883]\n",
            "[54.78]\t[39.393417]\n",
            "[41.]\t[48.423004]\n",
            "[30.]\t[50.901794]\n",
            "[29.]\t[41.881393]\n",
            "[43.]\t[42.82647]\n",
            "[92.]\t[56.38257]\n",
            "[42.29]\t[47.009262]\n",
            "[75.]\t[55.380875]\n",
            "[56.]\t[57.657852]\n",
            "[26.14]\t[46.780495]\n",
            "[23.]\t[39.297432]\n",
            "[23.]\t[48.95806]\n",
            "[63.]\t[48.94252]\n",
            "[35.]\t[38.63159]\n",
            "[39.]\t[43.481415]\n",
            "[32.]\t[43.090492]\n",
            "[31.41]\t[41.154938]\n",
            "[14.]\t[36.065292]\n",
            "[55.]\t[44.425735]\n",
            "[74.]\t[40.55863]\n",
            "[63.]\t[50.16812]\n",
            "[53.67]\t[55.458443]\n",
            "[66.88]\t[80.719055]\n",
            "[40.84]\t[49.899994]\n",
            "[46.]\t[40.48745]\n",
            "[64.]\t[59.85939]\n",
            "[41.71]\t[57.273834]\n",
            "[50.]\t[43.215614]\n",
            "[60.88]\t[73.61647]\n",
            "[27.]\t[53.282326]\n",
            "[190.]\t[63.31389]\n",
            "[56.]\t[60.38797]\n",
            "[63.]\t[50.71785]\n",
            "[46.]\t[60.160233]\n",
            "[66.]\t[59.831802]\n",
            "[55.6]\t[72.10996]\n",
            "[94.]\t[41.21749]\n",
            "[47.43]\t[65.66104]\n",
            "[66.]\t[60.596786]\n",
            "[46.]\t[38.896126]\n",
            "[48.]\t[68.86134]\n",
            "[44.]\t[40.433243]\n",
            "[30.]\t[49.926033]\n",
            "[90.]\t[47.35739]\n",
            "[38.]\t[64.24965]\n",
            "[28.6]\t[55.68319]\n",
            "[103.]\t[76.25516]\n",
            "[44.]\t[53.65171]\n",
            "[30.]\t[49.686546]\n",
            "[26.]\t[41.586685]\n",
            "[85.16]\t[65.39419]\n",
            "[45.2]\t[40.859604]\n",
            "[43.8]\t[44.47908]\n",
            "[94.]\t[71.79053]\n",
            "[66.]\t[61.996048]\n",
            "[38.]\t[43.414413]\n",
            "[26.]\t[47.497963]\n",
            "[24.]\t[47.881096]\n",
            "[43.3]\t[43.60224]\n",
            "[46.]\t[62.575455]\n",
            "[45.]\t[52.565544]\n",
            "[46.]\t[55.940414]\n",
            "[39.]\t[42.664917]\n",
            "[73.]\t[40.158974]\n",
            "[41.3]\t[42.307213]\n",
            "[43.3]\t[43.230484]\n",
            "[39.]\t[58.070686]\n",
            "[34.16]\t[40.986496]\n",
            "[33.77]\t[45.446617]\n",
            "[69.]\t[64.60339]\n",
            "[17.]\t[30.216171]\n",
            "[79.]\t[43.535683]\n",
            "[180.]\t[74.16788]\n",
            "[41.3]\t[42.68184]\n",
            "[51.]\t[61.198708]\n",
            "[75.]\t[55.31423]\n",
            "[105.]\t[77.47136]\n",
            "[47.]\t[38.54751]\n",
            "[46.]\t[40.55886]\n",
            "[39.]\t[42.95491]\n",
            "[53.]\t[56.630196]\n",
            "[40.]\t[46.129066]\n",
            "[35.]\t[43.207397]\n",
            "[17.]\t[36.0244]\n",
            "[146.]\t[81.8535]\n",
            "[66.]\t[65.74234]\n",
            "[69.]\t[49.90541]\n",
            "[39.]\t[53.075027]\n",
            "[66.]\t[51.23649]\n",
            "[34.7]\t[37.884758]\n",
            "[52.23]\t[64.37755]\n",
            "[32.]\t[36.783302]\n",
            "[74.]\t[36.410286]\n",
            "[24.]\t[45.571663]\n",
            "[40.]\t[44.314384]\n",
            "[96.]\t[76.98597]\n",
            "[48.3]\t[43.861664]\n",
            "[75.]\t[48.093292]\n",
            "[41.]\t[49.26512]\n",
            "[48.]\t[71.72945]\n",
            "[61.]\t[40.864716]\n",
            "[103.]\t[75.99233]\n",
            "[34.95]\t[41.364594]\n",
            "[44.]\t[56.648735]\n",
            "[44.67]\t[66.750626]\n",
            "[92.]\t[59.849243]\n",
            "[34.68]\t[38.891434]\n",
            "[52.33]\t[62.302887]\n",
            "[32.]\t[36.540146]\n",
            "[48.59]\t[38.34725]\n",
            "[46.8]\t[55.026497]\n",
            "[37.53]\t[67.26012]\n",
            "[63.]\t[44.12828]\n",
            "[81.19]\t[67.64993]\n",
            "[65.55]\t[80.920135]\n",
            "[30.]\t[50.53572]\n",
            "[36.]\t[41.14586]\n",
            "[44.02]\t[73.777275]\n",
            "[190.]\t[70.33861]\n",
            "[45.]\t[38.6689]\n",
            "[40.]\t[55.56594]\n",
            "[28.14]\t[34.939743]\n",
            "[44.]\t[50.854454]\n",
            "[63.28]\t[69.63461]\n",
            "[44.]\t[52.37789]\n",
            "[31.09]\t[54.53057]\n",
            "[41.]\t[72.81311]\n",
            "[45.]\t[52.113075]\n",
            "[81.1]\t[63.975]\n",
            "[44.]\t[39.497406]\n",
            "[41.92]\t[73.77374]\n",
            "[46.]\t[41.828354]\n",
            "[105.]\t[71.55188]\n",
            "[72.]\t[38.67787]\n",
            "[39.]\t[58.633255]\n",
            "[17.]\t[31.818481]\n",
            "[29.]\t[43.45964]\n",
            "[35.67]\t[48.30152]\n",
            "[27.]\t[33.14624]\n",
            "[63.]\t[51.143715]\n",
            "[53.]\t[56.260986]\n",
            "[24.17]\t[28.628426]\n",
            "[29.]\t[51.046608]\n",
            "[103.]\t[76.13759]\n",
            "[29.]\t[42.461853]\n",
            "[45.]\t[52.929245]\n",
            "[34.7]\t[37.0567]\n",
            "[45.]\t[54.9525]\n",
            "[44.]\t[57.536186]\n",
            "[45.]\t[52.081223]\n",
            "[26.78]\t[24.48767]\n",
            "[56.]\t[58.82019]\n",
            "[57.]\t[47.1838]\n",
            "[66.]\t[60.81105]\n",
            "[66.]\t[51.118546]\n",
            "[32.]\t[38.44088]\n",
            "[44.]\t[58.18905]\n",
            "[30.]\t[51.133003]\n",
            "[41.]\t[43.70141]\n",
            "[43.2]\t[50.19478]\n",
            "[111.]\t[44.574394]\n",
            "[29.]\t[41.855064]\n",
            "[39.]\t[51.602455]\n",
            "[78.]\t[57.639893]\n",
            "[39.85]\t[47.84517]\n",
            "[36.64]\t[51.9653]\n",
            "[51.]\t[61.5748]\n",
            "[34.68]\t[38.16249]\n",
            "[54.84]\t[65.30914]\n",
            "[34.7]\t[36.87133]\n",
            "[63.]\t[44.470505]\n",
            "[69.]\t[64.80383]\n",
            "[62.52]\t[74.883484]\n",
            "[45.2]\t[41.28637]\n",
            "[40.]\t[43.32538]\n",
            "[94.]\t[71.20096]\n",
            "[24.]\t[45.476906]\n",
            "[44.]\t[67.33177]\n",
            "[91.]\t[41.633003]\n",
            "[31.68]\t[72.911736]\n",
            "[36.]\t[38.260376]\n",
            "[24.]\t[49.125755]\n",
            "[66.]\t[53.634872]\n",
            "[44.02]\t[74.35164]\n",
            "[64.]\t[41.543686]\n",
            "[67.24]\t[74.74188]\n",
            "[67.]\t[61.364227]\n",
            "[17.]\t[37.738]\n",
            "[81.1]\t[63.916496]\n",
            "[32.]\t[40.57287]\n",
            "[36.]\t[39.845276]\n",
            "[53.45]\t[65.62665]\n",
            "[62.]\t[50.62828]\n",
            "[35.58]\t[48.458527]\n",
            "[94.]\t[75.67093]\n",
            "[44.8]\t[41.00609]\n",
            "[46.]\t[58.96443]\n",
            "[53.32]\t[64.78308]\n",
            "[45.]\t[66.27603]\n",
            "[17.]\t[30.458344]\n",
            "[66.88]\t[80.72955]\n",
            "[97.]\t[76.84194]\n",
            "[66.9]\t[34.608437]\n",
            "[66.88]\t[80.14659]\n",
            "[51.]\t[60.50454]\n",
            "[35.]\t[38.226395]\n",
            "[44.]\t[55.819527]\n",
            "[68.]\t[53.623283]\n",
            "[47.43]\t[64.45607]\n",
            "[43.5]\t[44.250923]\n",
            "[56.]\t[48.36109]\n",
            "[56.]\t[59.39866]\n",
            "[36.]\t[39.624268]\n",
            "[81.2]\t[65.603386]\n",
            "[55.]\t[45.796432]\n",
            "[56.]\t[59.87403]\n",
            "[42.31]\t[67.32578]\n",
            "[31.85]\t[75.96177]\n",
            "[62.]\t[44.829765]\n",
            "[47.43]\t[67.5013]\n",
            "[50.]\t[41.673737]\n",
            "[44.8]\t[45.19198]\n",
            "[52.23]\t[59.37059]\n",
            "[29.]\t[52.79003]\n",
            "[44.]\t[55.101257]\n",
            "[82.]\t[70.68674]\n",
            "[40.]\t[55.158157]\n",
            "[45.]\t[70.50296]\n",
            "[45.67]\t[56.13875]\n",
            "[81.]\t[44.774223]\n",
            "[45.]\t[51.67433]\n",
            "[53.67]\t[51.817787]\n",
            "[37.74]\t[46.355545]\n",
            "[94.]\t[72.36008]\n",
            "[66.78]\t[73.707]\n",
            "[75.]\t[48.406067]\n",
            "[66.]\t[63.206116]\n",
            "[55.]\t[48.31646]\n",
            "[103.]\t[75.71501]\n",
            "[54.84]\t[65.01274]\n",
            "[29.15]\t[36.75212]\n",
            "[47.43]\t[65.21216]\n",
            "[74.]\t[36.969597]\n",
            "[43.01]\t[46.576653]\n",
            "[34.68]\t[38.635498]\n",
            "[45.67]\t[57.117874]\n",
            "[26.78]\t[23.656937]\n",
            "[51.44]\t[64.236145]\n",
            "[36.64]\t[56.948273]\n",
            "[63.41]\t[71.02838]\n",
            "[36.]\t[40.028915]\n",
            "[48.]\t[74.04173]\n",
            "[45.]\t[37.128784]\n",
            "[66.9]\t[34.851067]\n",
            "[56.4]\t[59.05919]\n",
            "[102.]\t[70.61687]\n",
            "[53.67]\t[54.47576]\n",
            "[31.09]\t[54.467148]\n",
            "[45.]\t[37.70436]\n",
            "[61.]\t[39.228355]\n",
            "[67.]\t[47.47535]\n",
            "[66.9]\t[34.81359]\n",
            "[38.]\t[52.80591]\n",
            "[57.]\t[50.835564]\n",
            "[17.]\t[31.730759]\n",
            "[84.]\t[70.699936]\n",
            "[27.]\t[51.48735]\n",
            "[66.78]\t[72.91297]\n",
            "[45.]\t[38.70897]\n",
            "[64.]\t[66.84029]\n",
            "[45.62]\t[50.936493]\n",
            "[38.]\t[54.16059]\n",
            "[46.]\t[48.401657]\n",
            "[48.3]\t[43.330933]\n",
            "[41.6]\t[43.73356]\n",
            "[52.53]\t[62.08159]\n",
            "[39.]\t[41.410774]\n",
            "[32.]\t[30.355347]\n",
            "[79.49]\t[63.56359]\n",
            "[62.]\t[50.049652]\n",
            "[66.]\t[51.892754]\n",
            "[55.]\t[45.46534]\n",
            "[42.31]\t[69.398735]\n",
            "[73.]\t[46.896156]\n",
            "[36.]\t[39.88095]\n",
            "[44.]\t[54.318764]\n",
            "[61.]\t[41.75479]\n",
            "[66.]\t[50.421333]\n",
            "[33.56]\t[37.203354]\n",
            "[35.]\t[41.11461]\n",
            "[190.]\t[70.43538]\n",
            "[46.]\t[59.861023]\n",
            "[60.88]\t[73.14321]\n",
            "[30.8]\t[52.496574]\n",
            "[62.]\t[47.96602]\n",
            "[45.2]\t[33.15078]\n",
            "[29.]\t[51.708847]\n",
            "[31.09]\t[51.14792]\n",
            "[180.]\t[72.1304]\n",
            "[46.]\t[43.37539]\n",
            "[55.]\t[68.89441]\n",
            "[46.]\t[58.061775]\n",
            "[44.67]\t[66.444244]\n",
            "[29.]\t[15.932312]\n",
            "[45.2]\t[35.22515]\n",
            "[43.8]\t[44.419746]\n",
            "[44.3]\t[45.59768]\n",
            "[35.]\t[39.74971]\n",
            "[51.2]\t[55.753677]\n",
            "[24.27]\t[44.601967]\n",
            "[75.]\t[45.689453]\n",
            "[88.]\t[45.903885]\n",
            "[45.]\t[37.31887]\n",
            "[92.]\t[57.481735]\n",
            "[14.]\t[36.417618]\n",
            "[50.]\t[57.78782]\n",
            "[17.]\t[30.569992]\n",
            "[63.]\t[47.383698]\n",
            "[31.93]\t[41.268967]\n",
            "[42.]\t[41.036545]\n",
            "[33.56]\t[36.195877]\n",
            "[17.]\t[31.780914]\n",
            "[63.]\t[51.268852]\n",
            "[31.41]\t[42.21791]\n",
            "[44.]\t[43.792267]\n",
            "[63.41]\t[72.79468]\n",
            "[31.09]\t[49.50953]\n",
            "[39.]\t[59.384666]\n",
            "[39.]\t[42.765114]\n",
            "[35.]\t[40.007904]\n",
            "[31.]\t[67.88779]\n",
            "[20.]\t[38.99598]\n",
            "[89.]\t[46.847443]\n",
            "[47.43]\t[65.256485]\n",
            "[60.88]\t[73.48919]\n",
            "[50.]\t[45.121674]\n",
            "[53.16]\t[46.046577]\n",
            "[57.]\t[45.809013]\n",
            "[24.]\t[52.13295]\n",
            "[45.]\t[66.250336]\n",
            "[30.]\t[51.502823]\n",
            "[41.3]\t[42.550858]\n",
            "[50.9]\t[62.12755]\n",
            "[63.]\t[51.524017]\n",
            "[44.02]\t[86.257935]\n",
            "[38.]\t[46.612556]\n",
            "[61.]\t[55.254402]\n",
            "[66.88]\t[85.127975]\n",
            "[57.]\t[46.964935]\n",
            "[56.]\t[62.536606]\n",
            "[56.]\t[60.444855]\n",
            "[40.39]\t[49.77791]\n",
            "[66.]\t[63.14572]\n",
            "[66.88]\t[84.83698]\n",
            "[46.]\t[55.346916]\n",
            "[43.01]\t[46.81774]\n",
            "[103.]\t[69.68274]\n",
            "[39.]\t[60.04313]\n",
            "[53.]\t[61.06037]\n",
            "[44.]\t[52.904778]\n",
            "[180.]\t[77.00258]\n",
            "[24.]\t[48.19477]\n",
            "[44.]\t[50.617638]\n",
            "[34.95]\t[41.261642]\n",
            "[107.]\t[70.216]\n",
            "[27.]\t[51.653114]\n",
            "[31.]\t[67.82891]\n",
            "[23.]\t[49.30813]\n",
            "[72.]\t[40.325348]\n",
            "[74.]\t[37.450996]\n",
            "[66.]\t[51.423416]\n",
            "[63.12]\t[69.978195]\n",
            "[49.3]\t[55.625816]\n",
            "[100.]\t[69.8302]\n",
            "[81.2]\t[66.33497]\n",
            "[46.]\t[50.757362]\n",
            "[46.]\t[43.79062]\n",
            "[41.]\t[43.23552]\n",
            "[42.2]\t[45.29589]\n",
            "[53.]\t[56.53721]\n",
            "[40.]\t[45.837692]\n",
            "[61.]\t[60.932526]\n",
            "[42.29]\t[46.89582]\n",
            "[28.99]\t[27.896896]\n",
            "[42.7]\t[43.208984]\n",
            "[41.]\t[47.07792]\n",
            "[57.]\t[45.194695]\n",
            "[88.]\t[44.748238]\n",
            "[53.]\t[55.919655]\n",
            "[39.]\t[59.16033]\n",
            "[180.]\t[74.050865]\n",
            "[24.]\t[50.229073]\n",
            "[40.]\t[45.877716]\n",
            "[28.47]\t[45.810913]\n",
            "[20.]\t[37.874016]\n",
            "[45.]\t[70.51204]\n",
            "[44.]\t[69.53405]\n",
            "[44.]\t[54.256348]\n",
            "[82.]\t[60.151047]\n",
            "[74.]\t[45.90789]\n",
            "[46.]\t[53.131805]\n",
            "[35.77]\t[47.965813]\n",
            "[24.27]\t[34.689774]\n",
            "[54.84]\t[65.04195]\n",
            "[57.]\t[44.04435]\n",
            "[92.]\t[57.03511]\n",
            "[46.]\t[26.91713]\n",
            "[55.]\t[45.548378]\n",
            "[45.]\t[36.67167]\n",
            "[45.]\t[53.611115]\n",
            "[17.]\t[39.211426]\n",
            "[76.]\t[41.74672]\n",
            "[44.]\t[58.267235]\n",
            "[103.]\t[74.89709]\n",
            "[53.45]\t[65.04909]\n",
            "[180.]\t[74.0157]\n",
            "[39.]\t[44.58313]\n",
            "[47.43]\t[65.44243]\n",
            "[24.27]\t[44.094902]\n",
            "[64.]\t[45.97081]\n",
            "[96.]\t[69.46675]\n",
            "[42.5]\t[44.806602]\n",
            "[48.59]\t[49.743477]\n",
            "[106.]\t[53.75019]\n",
            "[30.]\t[15.775909]\n",
            "[35.]\t[41.20511]\n",
            "[35.]\t[36.939102]\n",
            "[42.29]\t[51.032486]\n",
            "[28.6]\t[53.20806]\n",
            "[63.]\t[49.30822]\n",
            "[30.]\t[49.2586]\n",
            "[44.]\t[56.75785]\n",
            "[35.]\t[50.279762]\n",
            "[81.2]\t[67.60677]\n",
            "[82.]\t[69.257904]\n",
            "[53.]\t[61.13674]\n",
            "[27.]\t[50.628807]\n",
            "[190.]\t[67.62106]\n",
            "[43.27]\t[65.78411]\n",
            "[42.]\t[42.576164]\n",
            "[27.]\t[47.770767]\n",
            "[45.]\t[64.72235]\n",
            "[44.]\t[57.37628]\n",
            "[73.]\t[41.286804]\n",
            "[63.]\t[48.660934]\n",
            "[41.]\t[46.995018]\n",
            "[92.]\t[56.797913]\n",
            "[46.]\t[56.215523]\n",
            "[74.]\t[33.43689]\n",
            "[46.]\t[53.86222]\n",
            "[44.8]\t[46.902435]\n",
            "[42.5]\t[45.324097]\n",
            "[44.]\t[57.383354]\n",
            "[50.]\t[42.47825]\n",
            "[65.9]\t[45.696884]\n",
            "[63.]\t[51.00882]\n",
            "[58.]\t[42.676147]\n",
            "[62.]\t[46.368027]\n",
            "[27.]\t[52.42675]\n",
            "[44.02]\t[84.84034]\n",
            "[61.42]\t[72.26059]\n",
            "[56.]\t[41.672096]\n",
            "[42.8]\t[43.895973]\n",
            "[31.09]\t[53.07009]\n",
            "[92.]\t[56.90474]\n",
            "[41.3]\t[42.985207]\n",
            "[66.88]\t[83.243546]\n",
            "[180.]\t[73.91861]\n",
            "[55.83]\t[65.40993]\n",
            "[24.]\t[47.449272]\n",
            "[79.]\t[44.279457]\n",
            "[52.]\t[56.48472]\n",
            "[65.55]\t[83.08626]\n",
            "[46.]\t[54.10618]\n",
            "[50.]\t[58.968117]\n"
          ],
          "name": "stdout"
        }
      ]
    },
    {
      "cell_type": "code",
      "metadata": {
        "id": "5i4VCLdGd0Rq",
        "colab_type": "code",
        "outputId": "0746952b-25e2-4e03-9f34-4ec7c76bf619",
        "colab": {
          "base_uri": "https://localhost:8080/",
          "height": 51
        }
      },
      "source": [
        "#plt.plot(d)\n",
        "print(len(y_test))\n",
        "print(len(d))"
      ],
      "execution_count": 0,
      "outputs": [
        {
          "output_type": "stream",
          "text": [
            "696\n",
            "177\n"
          ],
          "name": "stdout"
        }
      ]
    },
    {
      "cell_type": "code",
      "metadata": {
        "id": "bmD_qjXYMuP4",
        "colab_type": "code",
        "colab": {}
      },
      "source": [
        ""
      ],
      "execution_count": 0,
      "outputs": []
    },
    {
      "cell_type": "code",
      "metadata": {
        "id": "a5ZyaLqBDsB7",
        "colab_type": "code",
        "outputId": "4af72b6f-c091-44c7-869b-122edc70a5c9",
        "colab": {
          "base_uri": "https://localhost:8080/",
          "height": 580
        }
      },
      "source": [
        "reg = RandomForestRegressor(max_depth=3) \n",
        "cross = cross_val_score(reg, features, pm, scoring ='neg_mean_squared_error',cv=3)\n",
        "x_train, x_test, y_train, y_test = train_test_split(features, pm, test_size =0.3, random_state =42)\n",
        "\n",
        "reg.fit(x_train, y_train)\n",
        "\n",
        "pred = reg.predict(x_test)\n",
        "\n",
        "plt.plot(pred)\n",
        "plt.plot(y_test)\n",
        "\n",
        "print(mean_squared_error(pred, y_test)**0.5)\n"
      ],
      "execution_count": 0,
      "outputs": [
        {
          "output_type": "stream",
          "text": [
            "/usr/local/lib/python3.6/dist-packages/sklearn/ensemble/forest.py:245: FutureWarning: The default value of n_estimators will change from 10 in version 0.20 to 100 in 0.22.\n",
            "  \"10 in version 0.20 to 100 in 0.22.\", FutureWarning)\n",
            "/usr/local/lib/python3.6/dist-packages/sklearn/model_selection/_validation.py:516: DataConversionWarning: A column-vector y was passed when a 1d array was expected. Please change the shape of y to (n_samples,), for example using ravel().\n",
            "  estimator.fit(X_train, y_train, **fit_params)\n",
            "/usr/local/lib/python3.6/dist-packages/sklearn/ensemble/forest.py:245: FutureWarning: The default value of n_estimators will change from 10 in version 0.20 to 100 in 0.22.\n",
            "  \"10 in version 0.20 to 100 in 0.22.\", FutureWarning)\n",
            "/usr/local/lib/python3.6/dist-packages/sklearn/model_selection/_validation.py:516: DataConversionWarning: A column-vector y was passed when a 1d array was expected. Please change the shape of y to (n_samples,), for example using ravel().\n",
            "  estimator.fit(X_train, y_train, **fit_params)\n",
            "/usr/local/lib/python3.6/dist-packages/sklearn/ensemble/forest.py:245: FutureWarning: The default value of n_estimators will change from 10 in version 0.20 to 100 in 0.22.\n",
            "  \"10 in version 0.20 to 100 in 0.22.\", FutureWarning)\n",
            "/usr/local/lib/python3.6/dist-packages/sklearn/model_selection/_validation.py:516: DataConversionWarning: A column-vector y was passed when a 1d array was expected. Please change the shape of y to (n_samples,), for example using ravel().\n",
            "  estimator.fit(X_train, y_train, **fit_params)\n",
            "/usr/local/lib/python3.6/dist-packages/sklearn/ensemble/forest.py:245: FutureWarning: The default value of n_estimators will change from 10 in version 0.20 to 100 in 0.22.\n",
            "  \"10 in version 0.20 to 100 in 0.22.\", FutureWarning)\n",
            "/usr/local/lib/python3.6/dist-packages/ipykernel_launcher.py:5: DataConversionWarning: A column-vector y was passed when a 1d array was expected. Please change the shape of y to (n_samples,), for example using ravel().\n",
            "  \"\"\"\n"
          ],
          "name": "stderr"
        },
        {
          "output_type": "stream",
          "text": [
            "16.24767663388954\n"
          ],
          "name": "stdout"
        },
        {
          "output_type": "display_data",
          "data": {
            "image/png": "[encoded data removed]",
            "text/plain": [
              "<Figure size 432x288 with 1 Axes>"
            ]
          },
          "metadata": {
            "tags": []
          }
        }
      ]
    },
    {
      "cell_type": "code",
      "metadata": {
        "id": "Gof3qo-0I8RY",
        "colab_type": "code",
        "outputId": "6ad85064-c97f-4064-bc7b-6638b42528ba",
        "colab": {
          "base_uri": "https://localhost:8080/",
          "height": 34
        }
      },
      "source": [
        "print(((-1)*cross)**0.5)"
      ],
      "execution_count": 0,
      "outputs": [
        {
          "output_type": "stream",
          "text": [
            "[41.18913367 44.01512265 24.32403346]\n"
          ],
          "name": "stdout"
        }
      ]
    },
    {
      "cell_type": "code",
      "metadata": {
        "id": "pXP3k1G479in",
        "colab_type": "code",
        "colab": {}
      },
      "source": [
        "#joblib.dump(reg,'Random_withITO.pkl')\n",
        "with open('/content/Randon_withITO_Shanghai.bin','wb') as file:\n",
        "  pickle.dump(reg, file)\n",
        "\n"
      ],
      "execution_count": 0,
      "outputs": []
    },
    {
      "cell_type": "code",
      "metadata": {
        "id": "8zr2URGPKjfT",
        "colab_type": "code",
        "colab": {}
      },
      "source": [
        "\n",
        "for i in range(0,len(pred)):\n",
        "  print(str(y_test[i]) +'\\t'+ str(pred[i]))\n",
        "  \n",
        "  "
      ],
      "execution_count": 0,
      "outputs": []
    },
    {
      "cell_type": "code",
      "metadata": {
        "id": "Wa5JjlJM0rj2",
        "colab_type": "code",
        "colab": {}
      },
      "source": [
        "def trans_deg(im):\n",
        "#   im = cv2.imread(img)\n",
        "#   im = cv2.resize(im, (256,256))\n",
        "  B=np.zeros((256,256))\n",
        "  D=np.zeros((256,256))\n",
        "  C=np.zeros((256,256))\n",
        "  # 3rd channel or im[2] has been split as b,g,r \n",
        "\n",
        "  b,g,r = cv2.split(im)\n",
        "\n",
        "  for i in range(b.shape[0]):\n",
        "    for j in range(b.shape[1]):\n",
        "      D[i][j] = min(b[i][j], g[i][j], r[i][j])\n",
        "      B[i][j] = max(b[i][j], g[i][j], r[i][j])\n",
        "      C[i][j] = B[i][j] - D[i][j]\n",
        "\n",
        "  d = np.sum(D)/float(np.size(D))\n",
        "  b = np.sum(B)/float(np.size(B))\n",
        "  c = b-d \n",
        "  A = (0.33)*max(np.ndarray.flatten(B)) + (0.66)*b\n",
        "  \n",
        "  x1=((A - d)/float(A)) \n",
        "  x2=(c/float(A))\n",
        "  u = 10.127489\n",
        "  v= -8.336512\n",
        "  s = 0.13606234\n",
        "  \n",
        "  w = math.exp(-0.5*(u*x1 + v*x2)+s)\n",
        "  \n",
        "  if(w<=0.1):\n",
        "      w=0\n",
        "  elif(w<=0.3):\n",
        "    w=1\n",
        "  elif(w<=0.5):\n",
        "    w=2\n",
        "  elif(w<=0.7):\n",
        "    w=3\n",
        "  elif(w<=0.8):\n",
        "    w=4\n",
        "  elif(w<=0.9):\n",
        "    w=5\n",
        "    \n",
        "  return w"
      ],
      "execution_count": 0,
      "outputs": []
    },
    {
      "cell_type": "code",
      "metadata": {
        "id": "UAXvCI8ipRwm",
        "colab_type": "code",
        "colab": {}
      },
      "source": [
        "# def transmission(img, lt = 230, retMean = False):\n",
        "#   ker = np.ones((3, 3))/9.0\n",
        "#   imgrgb = cv2.cvtColor(img, cv2.COLOR_BGR2RGB)\n",
        "#   b, g, r = cv2.split(img)\n",
        "#   hsv = cv2.cvtColor(imgrgb, cv2.COLOR_RGB2HSV)\n",
        "#   _, _, v = cv2.split(hsv)\n",
        "#   v_blur = cv2.filter2D(v, -1, ker)\n",
        "#   _,building_mask = cv2.threshold(v_blur, lt, 255, cv2.THRESH_BINARY)\n",
        "#   sky = cv2.bitwise_and(imgrgb, imgrgb, mask = building_mask)\n",
        "#   sky_mask = cv2.bitwise_not(building_mask, building_mask.copy())\n",
        "#   building = cv2.bitwise_and(imgrgb, imgrgb, mask = sky_mask)\n",
        " \n",
        "#   al = max(v_blur.flatten())\n",
        "#   #Airlight Found. Now calculate Transmission Map\n",
        "#   img_norm = img/float(al)\n",
        "#   b, g, r = cv2.split(img_norm)\n",
        "#   kernel = np.ones((3,3),np.uint8)\n",
        "#   im_new = np.zeros((img.shape[0], img.shape[1]))\n",
        "#   for i in range(img.shape[0]):\n",
        "#     for j in range(img.shape[1]):\n",
        "#       im_new[i][j] = min(b[i][j], g[i][j], r[i][j])\n",
        "#   dcp = cv2.erode(im_new, kernel, iterations = 1)\n",
        "#   #ax[3].imshow(im_new, cmap = 'gray')\n",
        "#   #ax[4].imshow(dcp, cmap = 'gray')\n",
        "#   tr = np.ones((dcp.shape[0], dcp.shape[1]))\n",
        "#   for i in range(dcp.shape[0]):\n",
        "#     for j in range(dcp.shape[1]):\n",
        "#       tr[i][j] = 1 - dcp[i][j]\n",
        "#   #ax[1].imshow(tr, cmap = 'gray')\n",
        "#   if retMean == False:\n",
        "#     return tr\n",
        "#   elif retMean == True:\n",
        "#     return np.mean(tr)"
      ],
      "execution_count": 0,
      "outputs": []
    },
    {
      "cell_type": "code",
      "metadata": {
        "id": "0u8yXSvapSPG",
        "colab_type": "code",
        "colab": {}
      },
      "source": [
        "def entropy(image):\n",
        "  image = cv2.cvtColor(image, cv2.COLOR_BGR2GRAY)\n",
        "  hist = cv2.calcHist( [image.astype('float32')],\n",
        "              [0], \n",
        "              None,\n",
        "               [256], \n",
        "              [0,256] )\n",
        "  h_norm = 0\n",
        "  h_norm = cv2.normalize(hist, h_norm)\n",
        "  ent = 0\n",
        "  for p in h_norm:\n",
        "    try:\n",
        "      ent += p*math.log(p, 2)\n",
        "    except:\n",
        "      pass\n",
        "    \n",
        "  return (-1 * ent[0])"
      ],
      "execution_count": 0,
      "outputs": []
    },
    {
      "cell_type": "code",
      "metadata": {
        "id": "HB5IbHV9pUhK",
        "colab_type": "code",
        "colab": {}
      },
      "source": [
        "def contrast(image):\n",
        "  image = cv2.cvtColor(image, cv2.COLOR_BGR2GRAY)\n",
        "  s = 0\n",
        "  ss = 0\n",
        "  mean = np.mean(image)\n",
        "  x = (-1 * mean * (np.ones(image.shape)))\n",
        "  ss = np.square(np.add(image, x))\n",
        "  cont = np.sqrt(np.sum(ss)/float(image.size))\n",
        "  return cont"
      ],
      "execution_count": 0,
      "outputs": []
    },
    {
      "cell_type": "code",
      "metadata": {
        "id": "8LfQYWPVpWhG",
        "colab_type": "code",
        "colab": {}
      },
      "source": [
        "# from sklearn.ensemble import GradientBoostingRegressor\n",
        "\n",
        "# gbrt = GradientBoostingRegressor(max_depth=2,n_estimators=120)\n",
        "\n",
        "# cross = cross_val_score(gbrt, features, pm, scoring ='neg_mean_squared_error',cv=3)\n",
        "\n",
        "# x_train, x_test, y_train, y_test = train_test_split(features, pm, test_size =0.2, random_state =42)\n",
        "\n",
        "# gbrt.fit(x_train, y_train)\n",
        "\n",
        "# y_pred = gbrt.predict(x_test)\n",
        "\n",
        "# errors = [mean_squared_error(y_val, y_pred)\n",
        "# for y_pred in gbrt.staged_predict(X_val)]\n",
        "\n",
        "# bst_n_estimators = np.argmin(errors)\n",
        "\n",
        "# gbrt_best = GradientBoostingRegressor(max_depth=2,n_estimators=bst_n_estimators)\n",
        "# gbrt_best.fit(x_train, y_train) \n"
      ],
      "execution_count": 0,
      "outputs": []
    },
    {
      "cell_type": "code",
      "metadata": {
        "id": "_5cNHBH_cWDQ",
        "colab_type": "code",
        "colab": {}
      },
      "source": [
        "# print((cross*(-1))**0.5)"
      ],
      "execution_count": 0,
      "outputs": []
    },
    {
      "cell_type": "code",
      "metadata": {
        "id": "GxqXmou-bIAt",
        "colab_type": "code",
        "colab": {}
      },
      "source": [
        "# pred = gbrt_best.predict(x_test)\n",
        "\n",
        "# plt.plot(pred)\n",
        "# plt.plot(y_test)\n",
        "\n",
        "# print(mean_squared_error(pred, y_test)**0.5)"
      ],
      "execution_count": 0,
      "outputs": []
    },
    {
      "cell_type": "code",
      "metadata": {
        "id": "4vwWL2QIb6Kr",
        "colab_type": "code",
        "colab": {}
      },
      "source": [
        "# pred = reg.predict(x_test)\n",
        "\n",
        "# plt.plot(pred)\n",
        "# plt.plot(y_test)\n",
        "\n",
        "# print(mean_squared_error(pred, y_test)**0.5)"
      ],
      "execution_count": 0,
      "outputs": []
    },
    {
      "cell_type": "code",
      "metadata": {
        "id": "wMxE60xucMlv",
        "colab_type": "code",
        "colab": {}
      },
      "source": [
        "# print(((-1)*cross)**0.5)"
      ],
      "execution_count": 0,
      "outputs": []
    }
  ]
}