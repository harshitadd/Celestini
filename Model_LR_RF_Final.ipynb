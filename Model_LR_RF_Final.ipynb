{
  "nbformat": 4,
  "nbformat_minor": 0,
  "metadata": {
    "colab": {
      "name": "Model_LR_RF_Final.ipynb",
      "provenance": [],
      "collapsed_sections": [],
      "include_colab_link": true
    },
    "kernelspec": {
      "name": "python3",
      "display_name": "Python 3"
    },
    "accelerator": "GPU"
  },
  "cells": [
    {
      "cell_type": "markdown",
      "metadata": {
        "id": "view-in-github",
        "colab_type": "text"
      },
      "source": [
        "<a href=\"https://colab.research.google.com/github/harshitadd/Celestini/blob/master/Model_LR_RF_Final.ipynb\" target=\"_parent\"><img src=\"https://colab.research.google.com/assets/colab-badge.svg\" alt=\"Open In Colab\"/></a>"
      ]
    },
    {
      "cell_type": "markdown",
      "metadata": {
        "id": "x9GNzhfL8Pth",
        "colab_type": "text"
      },
      "source": [
        ""
      ]
    },
    {
      "cell_type": "code",
      "metadata": {
        "id": "Y0iXkkesy1DG",
        "colab_type": "code",
        "colab": {}
      },
      "source": [
        "!pip install firebase-admin\n",
        "#from google.colab import drive \n",
        "import firebase_admin\n",
        "import cv2 \n",
        "from firebase_admin import credentials,db \n",
        "from google.colab.patches import cv2_imshow\n",
        "from sklearn.externals import joblib \n",
        "from firebase_admin import storage \n",
        "import pandas as pd \n",
        "import csv \n",
        "import json\n",
        "import pickle\n",
        "import numpy as np\n",
        "import math\n",
        "import matplotlib.pyplot as plt\n",
        "from sklearn.preprocessing import MinMaxScaler\n",
        "from sklearn.model_selection import train_test_split,cross_val_predict, cross_val_score\n",
        "from sklearn.metrics import mean_squared_error, mean_absolute_error\n",
        "from sklearn.linear_model import LinearRegression \n",
        "from sklearn.ensemble import RandomForestRegressor"
      ],
      "execution_count": 0,
      "outputs": []
    },
    {
      "cell_type": "code",
      "metadata": {
        "id": "oqOvmLSwzyQw",
        "colab_type": "code",
        "colab": {}
      },
      "source": [
        "cred = credentials.Certificate(\"credentials.json\")\n",
        "\n",
        "# Initialize the app with a service account, granting admin privileges\n",
        "app = firebase_admin.initialize_app(cred, {\n",
        "    'storageBucket': 'fir-4ca2c.appspot.com',\n",
        "}, name='images_old')"
      ],
      "execution_count": 0,
      "outputs": []
    },
    {
      "cell_type": "markdown",
      "metadata": {
        "id": "GIsZJu3Wesj4",
        "colab_type": "text"
      },
      "source": [
        "IMAGE GENERATION "
      ]
    },
    {
      "cell_type": "code",
      "metadata": {
        "id": "nb5tec571jfO",
        "colab_type": "code",
        "colab": {}
      },
      "source": [
        "##GETTING NAMES  -- ##Location - SSCB and DTU : Rotated images  \n",
        "\n",
        "bucket = storage.bucket(app=app)\n",
        "blobs = bucket.list_blobs()\n",
        "\n",
        "#blobs is an interator :google.api_core.page_iterator.HTTPIterator object at 0x7f2cd11c84e0>\n",
        "\n",
        "imglenovo = [] #has all the lenovo images by their name \n",
        "ctr=0\n",
        "mits = set()\n",
        "for blob in blobs:\n",
        "  if blob.name[7:16]==\"lenovoinS\" :\n",
        "    if int(blob.name[-8:-6])<19 and int(blob.name[-8:-6])>5:\n",
        "      blob.download_to_filename('/content/' + \"lenovo\" + str(blob.name.split('/')[-1])+ '.jpeg')\n",
        "      imglenovo.append(\"lenovo\" + str(blob.name.split('/')[-1])+ '.jpeg') \n",
        "      #print(\"lenovo\" + str(blob.name.split('/')[-1])+ '.jpeg')\n",
        "      ctr+=1\n",
        "      print(ctr)\n",
        "      \n",
        "    "
      ],
      "execution_count": 0,
      "outputs": []
    },
    {
      "cell_type": "code",
      "metadata": {
        "id": "yGsY3dWi6sgE",
        "colab_type": "code",
        "colab": {}
      },
      "source": [
        "##READING THEM \n",
        "\n",
        "dtu=[]\n",
        "sscb=[]\n",
        "for img in imglenovo:\n",
        "  if(img[11:16]>'07-02'):##These indicate the DTU Images - which need to be cropped and rotated \n",
        "    l=[]\n",
        "    l.append(img)\n",
        "    im = cv2.imread(img)\n",
        "    crop = im[700:3150, 0:3120]\n",
        "    crop = cv2.resize(crop, (int(np.shape(im)[1]*0.1), int(np.shape(im)[0]*0.1)))\n",
        "    im = cv2.resize(crop,(256,256))\n",
        "    im = cv2.rotate(im,rotateCode =cv2.ROTATE_90_COUNTERCLOCKWISE)\n",
        "    l.append(im)\n",
        "    dtu.append(l)\n",
        "  else:\n",
        "    l=[]\n",
        "    l.append(img)\n",
        "    im = cv2.imread(img)           ##These indicate the SSCB Images - rotation only \n",
        "    im = cv2.resize(im, (256,256))\n",
        "    im = cv2.rotate(im,rotateCode =cv2.ROTATE_90_CLOCKWISE)\n",
        "    l.append(im)\n",
        "    sscb.append(l)\n",
        "    \n",
        "    \n",
        "    "
      ],
      "execution_count": 0,
      "outputs": []
    },
    {
      "cell_type": "code",
      "metadata": {
        "id": "eitKE9Vs27qu",
        "colab_type": "code",
        "outputId": "b1a4f831-f797-473d-efe5-1bd9fcd125d6",
        "colab": {
          "base_uri": "https://localhost:8080/",
          "height": 51
        }
      },
      "source": [
        "## CHECKING BLOCK \n",
        "\n",
        "print(len(dtu))\n",
        "print(len(sscb))\n"
      ],
      "execution_count": 5,
      "outputs": [
        {
          "output_type": "stream",
          "text": [
            "369\n",
            "502\n"
          ],
          "name": "stdout"
        }
      ]
    },
    {
      "cell_type": "code",
      "metadata": {
        "id": "2l-4Btpf9Jl-",
        "colab_type": "code",
        "colab": {}
      },
      "source": [
        "##GETTING NAMES - PUNJABI BAGH \n",
        "\n",
        "bucket = storage.bucket(app=app)\n",
        "blobs = bucket.list_blobs()\n",
        "count=0\n",
        "imgpb = [] #has all the minote pictures by their name \n",
        "ctr=0\n",
        "mits = set()\n",
        "for blob in blobs:  \n",
        "  if blob.name.split('/')[1]==\"rivers.jpg\" :\n",
        "    ctr+=1\n",
        "    if int(blob.name[-8:-6])<19 and int(blob.name[-8:-6])>5 and ctr%3==0:\n",
        "        blob.download_to_filename('/content/' + \"pb\" + str(blob.name.split('/')[-1])+ '.jpeg')\n",
        "        imgpb.append(\"pb\" + str(blob.name.split('/')[-1])+ '.jpeg') \n",
        "        #print(\"pb\" + str(blob.name.split('/')[-1])+ '.jpeg')\n",
        "        count=ctr\n",
        "        print(count)"
      ],
      "execution_count": 0,
      "outputs": []
    },
    {
      "cell_type": "code",
      "metadata": {
        "id": "Ie52XTD5wgKj",
        "colab_type": "code",
        "outputId": "12d4a368-2756-4c25-b59d-ac1e0375aefc",
        "colab": {
          "base_uri": "https://localhost:8080/",
          "height": 34
        }
      },
      "source": [
        "print(len(imgpb))"
      ],
      "execution_count": 7,
      "outputs": [
        {
          "output_type": "stream",
          "text": [
            "161\n"
          ],
          "name": "stdout"
        }
      ]
    },
    {
      "cell_type": "code",
      "metadata": {
        "id": "Z5nyBCSA5h3K",
        "colab_type": "code",
        "colab": {}
      },
      "source": [
        "##READING IMAGES - Rotated\n",
        "\n",
        "pb=[]\n",
        "for img in imgpb:\n",
        "  l=[]\n",
        "  l.append(img)\n",
        "  im = cv2.imread(img)\n",
        "  im = cv2.resize(im, (256,256))\n",
        "  im = cv2.rotate(im,rotateCode =cv2.ROTATE_90_CLOCKWISE)\n",
        "  l.append(im)\n",
        "  pb.append(l)\n"
      ],
      "execution_count": 0,
      "outputs": []
    },
    {
      "cell_type": "code",
      "metadata": {
        "id": "w4c6N8N9MMuM",
        "colab_type": "code",
        "colab": {}
      },
      "source": [
        "##GETTING NAMES - Location : DTU AND SHADIPUR \n",
        "\n",
        "bucket = storage.bucket(app=app)\n",
        "blobs = bucket.list_blobs()\n",
        "\n",
        "imgminote = [] #has all the minote pictures by their name \n",
        "ctr=0\n",
        "mits = set()\n",
        "for blob in blobs:\n",
        "  if blob.name[7:16]==\"minoteSSC\" :\n",
        "    if int(blob.name[-8:-6])<19 and int(blob.name[-8:-6])>5:\n",
        "        blob.download_to_filename('/content/' + \"minote\" + str(blob.name.split('/')[-1])+ '.jpeg')\n",
        "        imgminote.append(\"minote\" + str(blob.name.split('/')[-1])+ '.jpeg') \n",
        "        #print(\"minote\" + str(blob.name.split('/')[-1])+ '.jpeg')\n",
        "        ctr+=1\n",
        "        print(ctr)\n",
        "      \n"
      ],
      "execution_count": 0,
      "outputs": []
    },
    {
      "cell_type": "code",
      "metadata": {
        "id": "FTDORaRQMyHx",
        "colab_type": "code",
        "colab": {}
      },
      "source": [
        "##READING IMAGES - Location - SSCB and SHADIPUR ; Rotation \n",
        "shadipur = []\n",
        "for img in imgminote : \n",
        "  if(img[11:16]>'07-05'):  ##Shadipur images needed rotating  \n",
        "    l=[]\n",
        "    l.append(img)\n",
        "    im = cv2.imread(img)\n",
        "    im = cv2.resize(im, (256,256))\n",
        "    im = cv2.rotate(im, rotateCode = cv2.ROTATE_90_COUNTERCLOCKWISE)\n",
        "    l.append(im)\n",
        "    shadipur.append(l)\n",
        "  else:\n",
        "    l=[]\n",
        "    l.append(img)\n",
        "    im = cv2.imread(img)               ##SSCB images did not need any rotating \n",
        "    im = cv2.resize(im, (256,256))\n",
        "    l.append(im)\n",
        "    sscb.append(l)\n",
        "    "
      ],
      "execution_count": 0,
      "outputs": []
    },
    {
      "cell_type": "code",
      "metadata": {
        "id": "7BDx9S9AJi3j",
        "colab_type": "code",
        "outputId": "30d7e9e7-70f4-46d1-e71f-d783ab754ddd",
        "colab": {
          "base_uri": "https://localhost:8080/",
          "height": 51
        }
      },
      "source": [
        "print(len(shadipur))\n",
        "print(len(sscb))"
      ],
      "execution_count": 11,
      "outputs": [
        {
          "output_type": "stream",
          "text": [
            "244\n",
            "1320\n"
          ],
          "name": "stdout"
        }
      ]
    },
    {
      "cell_type": "code",
      "metadata": {
        "id": "r09m2_TnuJup",
        "colab_type": "code",
        "colab": {}
      },
      "source": [
        "\n",
        "\n",
        "bucket = storage.bucket(app=app)\n",
        "blobs = bucket.list_blobs()\n",
        "\n",
        "#blobs is an interator :google.api_core.page_iterator.HTTPIterator object at 0x7f2cd11c84e0>\n",
        "\n",
        "imgito = [] #has all the lenovo images by their name \n",
        "ctr=0\n",
        "mits = set()\n",
        "for blob in blobs:\n",
        "  if blob.name[7:17]==\"Lenovo.JPG\" :\n",
        "    if int(blob.name[-8:-6])<19 and int(blob.name[-8:-6])>5:\n",
        "      blob.download_to_filename('/content/' + \"ito\" + str(blob.name.split('/')[-1])+ '.jpeg')\n",
        "      imgito.append(\"ito\" + str(blob.name.split('/')[-1])+ '.jpeg') \n",
        "      #print(\"ito\" + str(blob.name.split('/')[-1])+ '.jpeg')\n",
        "      ctr+=1\n",
        "      print(ctr)\n"
      ],
      "execution_count": 0,
      "outputs": []
    },
    {
      "cell_type": "code",
      "metadata": {
        "id": "45qtbzVHV_ha",
        "colab_type": "code",
        "colab": {}
      },
      "source": [
        "##READING BLOCK \n",
        "\n",
        "ito=[]\n",
        "count=0\n",
        "\n",
        "for img in imgito:\n",
        "  l=[]\n",
        "  count+=1\n",
        "  if(count%2==0):\n",
        "    l.append(img)\n",
        "    im = cv2.imread(img)\n",
        "    im = cv2.resize(im,(256,256))\n",
        "    im = cv2.rotate(im, rotateCode = cv2.ROTATE_90_COUNTERCLOCKWISE)\n",
        "    l.append(im)\n",
        "    ito.append(l)\n"
      ],
      "execution_count": 0,
      "outputs": []
    },
    {
      "cell_type": "code",
      "metadata": {
        "id": "9n-O49FfewpL",
        "colab_type": "code",
        "outputId": "a2b6d98a-bdd8-4e21-9c62-e79eece9d95e",
        "colab": {
          "base_uri": "https://localhost:8080/",
          "height": 103
        }
      },
      "source": [
        "\n",
        "print(np.shape(sscb))    \n",
        "print(np.shape(ito))      \n",
        "print(np.shape(dtu))  \n",
        "print(np.shape(shadipur))     \n",
        "print(np.shape(pb))   \n",
        "#print(shanghai.keys())\n"
      ],
      "execution_count": 140,
      "outputs": [
        {
          "output_type": "stream",
          "text": [
            "(1320, 2)\n",
            "(249, 2)\n",
            "(369, 2)\n",
            "(244, 2)\n",
            "(161, 2)\n"
          ],
          "name": "stdout"
        }
      ]
    },
    {
      "cell_type": "code",
      "metadata": {
        "id": "gdaN8E-mwcy9",
        "colab_type": "code",
        "colab": {}
      },
      "source": [
        "cred = credentials.Certificate('/content/credentials_new.json')\n",
        "\n",
        "##  only take the part from where the actual name starts\n",
        "app = firebase_admin.initialize_app(cred, {\n",
        "    'storageBucket': 'location-5f194.appspot.com',\n",
        "}, name='images_diff')"
      ],
      "execution_count": 0,
      "outputs": []
    },
    {
      "cell_type": "code",
      "metadata": {
        "id": "Vp6nZN9hy1Y5",
        "colab_type": "code",
        "colab": {}
      },
      "source": [
        "## Reading the different locations images -- This includes \n",
        "\n",
        "s7_jpeg=[]\n",
        "note4_jpeg=[]\n",
        "minote_jpeg=[]\n",
        "PatelNagarMi_jpeg=[]\n",
        "gurgaonNote4_jpeg=[]\n",
        "\n",
        "\n",
        "bucket = storage.bucket(app = app)\n",
        "blobs = bucket.list_blobs()\n",
        "ctr=0\n",
        "\n",
        "\n",
        "## Reading all the LDR images \n",
        "for blob in blobs:\n",
        "  if('s7' in blob.name and 'jpeg' in blob.name and int(blob.name[-8:-6])<19 and int(blob.name[-8:-6])>5):\n",
        "      blob.download_to_filename('/content/' + \"s7_jpeg\" + str(blob.name.split('/')[-1])+ '.jpeg')\n",
        "      name = \"s7_jpeg\" + str(blob.name.split('/')[-1])+ '.jpeg' \n",
        "      ctr+=1\n",
        "      im = cv2.imread(name)\n",
        "      im = cv2.resize(im,(256,256))\n",
        "      l=[]\n",
        "      l.append(name)\n",
        "      l.append(im)\n",
        "      s7_jpeg.append(l) \n",
        "      print(name)\n",
        "  if('note4' in blob.name and 'jpeg' in blob.name and int(blob.name[-8:-6])<19 and int(blob.name[-8:-6])>5):\n",
        "      blob.download_to_filename('/content/' + \"note4_jpeg\" + str(blob.name.split('/')[-1])+ '.jpeg')\n",
        "      name = \"note4_jpeg\" + str(blob.name.split('/')[-1])+ '.jpeg' \n",
        "      ctr+=1\n",
        "      im = cv2.imread(name)\n",
        "      im = cv2.resize(im,(256,256))\n",
        "      l=[]\n",
        "      l.append(name)\n",
        "      l.append(im)\n",
        "      note4_jpeg.append(l)\n",
        "      print(name)\n",
        "  if('minote' in blob.name and 'jpeg' in blob.name and int(blob.name[-8:-6])<19 and int(blob.name[-8:-6])>5):\n",
        "      blob.download_to_filename('/content/' + \"minote_jpeg\" + str(blob.name.split('/')[-1])+ '.jpeg')\n",
        "      name = \"minote_jpeg\" + str(blob.name.split('/')[-1])+ '.jpeg' \n",
        "      ctr+=1\n",
        "      im = cv2.imread(name)\n",
        "      im = cv2.resize(im,(256,256))\n",
        "      l=[]\n",
        "      l.append(name)\n",
        "      l.append(im)\n",
        "      minote_jpeg.append(l)\n",
        "      print(name)\n",
        "  if('PatelNagarMi' in blob.name and 'jpeg' in blob.name and int(blob.name[-8:-6])<19 and int(blob.name[-8:-6])>5):\n",
        "      blob.download_to_filename('/content/' + \"PatelNagarMi_jpeg\" + str(blob.name.split('/')[-1])+ '.jpeg')\n",
        "      name = \"PatelNagarMi_jpeg\" + str(blob.name.split('/')[-1])+ '.jpeg' \n",
        "      ctr+=1\n",
        "      im = cv2.imread(name)\n",
        "      im = cv2.resize(im,(256,256))\n",
        "      l=[]\n",
        "      l.append(name)\n",
        "      l.append(im)\n",
        "      PatelNagarMi_jpeg.append(l)\n",
        "      print(name)\n",
        "  if('gurgaonNote4' in blob.name and 'jpeg' in blob.name and int(blob.name[-8:-6])<19 and int(blob.name[-8:-6])>5):\n",
        "      blob.download_to_filename('/content/' + \"gurgaonNote4_jpeg\" + str(blob.name.split('/')[-1])+ '.jpeg')\n",
        "      name = \"gurgaonNote4_jpeg\" + str(blob.name.split('/')[-1])+ '.jpeg' \n",
        "      ctr+=1\n",
        "      im = cv2.imread(name)\n",
        "      im = cv2.resize(im,(256,256))\n",
        "      l=[]\n",
        "      l.append(name)\n",
        "      l.append(im)\n",
        "      gurgaonNote4_jpeg.append(l)\n",
        "      print(name)\n"
      ],
      "execution_count": 0,
      "outputs": []
    },
    {
      "cell_type": "code",
      "metadata": {
        "id": "5QbpqC3t1P2W",
        "colab_type": "code",
        "outputId": "7b1811a5-40e2-4ca7-b17c-b5dd5090fb7d",
        "colab": {
          "base_uri": "https://localhost:8080/",
          "height": 103
        }
      },
      "source": [
        "\n",
        "print(len(s7_jpeg))\n",
        "print(len(note4_jpeg))\n",
        "print(len(minote_jpeg))\n",
        "print(len(PatelNagarMi_jpeg))\n",
        "print(len(gurgaonNote4_jpeg))"
      ],
      "execution_count": 139,
      "outputs": [
        {
          "output_type": "stream",
          "text": [
            "94\n",
            "30\n",
            "80\n",
            "539\n",
            "184\n"
          ],
          "name": "stdout"
        }
      ]
    },
    {
      "cell_type": "markdown",
      "metadata": {
        "id": "ptqlPGjpBGcZ",
        "colab_type": "text"
      },
      "source": [
        "LABEL PROCESSING "
      ]
    },
    {
      "cell_type": "code",
      "metadata": {
        "id": "G9dZWeJkyceb",
        "colab_type": "code",
        "colab": {}
      },
      "source": [
        "with open('/content/labels_prevhour.bin','rb') as file:\n",
        "  data = pickle.load(file)"
      ],
      "execution_count": 0,
      "outputs": []
    },
    {
      "cell_type": "code",
      "metadata": {
        "id": "VU_ob0CJydXF",
        "colab_type": "code",
        "colab": {}
      },
      "source": [
        "l_s7_jpeg=data['s7_jpeg']\n",
        "l_note4_jpeg=data['note4_jpeg']\n",
        "l_minote_jpeg=data['minote_jpeg']\n",
        "l_PatelNagarMi_jpeg=data['PatelNagarMi_jpeg']\n",
        "l_gurgaonNote4_jpeg=data['gurgaonNote4_jpeg']"
      ],
      "execution_count": 0,
      "outputs": []
    },
    {
      "cell_type": "code",
      "metadata": {
        "id": "vQaMAoH-0wPm",
        "colab_type": "code",
        "colab": {}
      },
      "source": [
        "feat=[]\n",
        "\n",
        "\n",
        "for img in s7_jpeg:\n",
        "  #print(img[0][7:])\n",
        "  for l  in l_s7_jpeg:\n",
        "    #print(l[0])\n",
        "    if(img[0][7:] == l[0]):\n",
        "      print('s7')\n",
        "      t=[]\n",
        "      im = img[1]\n",
        "      t.append(l[0])\n",
        "      t.append(entropy(im))\n",
        "      t.append(contrast(im))\n",
        "      t.append(trans_deg(img[1]))\n",
        "      t.append(l[1])\n",
        "      t.append(l[2]) ##--> prev hours reading \n",
        "      feat.append(t)\n",
        "\n",
        "for img in note4_jpeg:\n",
        "  #print(img[0][10:])\n",
        "  for l in l_note4_jpeg:\n",
        "    #print(l[0])\n",
        "    if(img[0][10:] == l[0]):\n",
        "      print('note4')\n",
        "      t=[]\n",
        "      im = img[1]\n",
        "      t.append(l[0])\n",
        "      t.append(entropy(im))\n",
        "      t.append(contrast(im))\n",
        "      t.append(trans_deg(img[1]))\n",
        "      t.append(l[1])\n",
        "      t.append(l[2]) ##--> prev hours reading \n",
        "      feat.append(t) \n",
        "  \n",
        "for img in minote_jpeg:  \n",
        "  for l in l_minote_jpeg:\n",
        "    if(img[0][11:] == l[0]):\n",
        "      print('minote')\n",
        "      t=[]\n",
        "      im = img[1]\n",
        "      t.append(l[0])\n",
        "      t.append(entropy(im))\n",
        "      t.append(contrast(im))\n",
        "      t.append(trans_deg(img[1]))\n",
        "      t.append(l[1])\n",
        "      t.append(l[2]) ##--> prev hours reading \n",
        "      feat.append(t)\n",
        "\n",
        "for img in PatelNagarMi_jpeg:\n",
        "  #print(img[0][17:])\n",
        "  for l  in l_PatelNagarMi_jpeg:\n",
        "    #print(l[0])\n",
        "    if(img[0][17:] == l[0]):\n",
        "      print('PatelNagar')\n",
        "      t=[]\n",
        "      im = img[1]\n",
        "      t.append(l[0])\n",
        "      t.append(entropy(im))\n",
        "      t.append(contrast(im))\n",
        "      t.append(trans_deg(img[1]))\n",
        "      t.append(l[1])\n",
        "      t.append(l[2]) ##--> prev hours reading \n",
        "      feat.append(t) \n",
        "\n",
        "for img in gurgaonNote4_jpeg:\n",
        "  #print(img[0][17:])\n",
        "  for l  in l_gurgaonNote4_jpeg:\n",
        "    #print(l[0])\n",
        "    if(img[0][17:] == l[0]):\n",
        "      print('Gurgaon')\n",
        "      t=[]\n",
        "      im = img[1]\n",
        "      t.append(l[0])\n",
        "      t.append(entropy(im))\n",
        "      t.append(contrast(im))\n",
        "      t.append(trans_deg(img[1]))\n",
        "      t.append(l[1])\n",
        "      t.append(l[2]) ##--> prev hours reading \n",
        "      feat.append(t) \n",
        "    \n"
      ],
      "execution_count": 0,
      "outputs": []
    },
    {
      "cell_type": "code",
      "metadata": {
        "id": "I19tXYV--TAB",
        "colab_type": "code",
        "outputId": "1757c278-3758-4c15-ca27-53a66c40c500",
        "colab": {
          "base_uri": "https://localhost:8080/",
          "height": 34
        }
      },
      "source": [
        "print(len(feat))"
      ],
      "execution_count": 144,
      "outputs": [
        {
          "output_type": "stream",
          "text": [
            "486\n"
          ],
          "name": "stdout"
        }
      ]
    },
    {
      "cell_type": "code",
      "metadata": {
        "id": "kRLzY46X_Tvj",
        "colab_type": "code",
        "colab": {}
      },
      "source": [
        "cred = credentials.Certificate('/content/credentials_weather.json')\n",
        "\n",
        "##The weather data after 1st July \n",
        "\n",
        "# Initialize the app with a service account, granting admin privileges\n",
        "new = firebase_admin.initialize_app(cred, {\n",
        "    'databaseURL': 'https://celestini-bd493.firebaseio.com/'\n",
        "}, name ='w')"
      ],
      "execution_count": 0,
      "outputs": []
    },
    {
      "cell_type": "code",
      "metadata": {
        "id": "EycOwfQ6AJ9x",
        "colab_type": "code",
        "colab": {}
      },
      "source": [
        "    \n",
        "ref = db.reference(app=new)\n",
        "df = ref.get()\n"
      ],
      "execution_count": 0,
      "outputs": []
    },
    {
      "cell_type": "code",
      "metadata": {
        "id": "9nKvvLa3AQ9h",
        "colab_type": "code",
        "colab": {}
      },
      "source": [
        "temp_weather = {}\n",
        "\n",
        "for key in df:\n",
        "  try:\n",
        "    l=[]\n",
        "    l.append(df[key]['main']['humidity'])\n",
        "    l.append(df[key]['main']['pressure'])\n",
        "    l.append(df[key]['main']['temp'])\n",
        "    l.append(df[key]['visibility'])\n",
        "    l.append(df[key]['wind']['deg'])\n",
        "    l.append(df[key]['wind']['speed'])\n",
        "    l.append(df[key]['clouds']['all'])\n",
        "    k = df[key]['weather'][0]['description']\n",
        "    if(k=='haze'):\n",
        "      l.append(0)\n",
        "    elif(k=='mist'):\n",
        "      l.append(1)\n",
        "    elif(k=='drizzle'):\n",
        "      l.append(2)\n",
        "    elif(k=='dust'):\n",
        "      l.append(3)\n",
        "    temp_weather[key]=l\n",
        "  except:\n",
        "    print(key)\n",
        "    "
      ],
      "execution_count": 0,
      "outputs": []
    },
    {
      "cell_type": "code",
      "metadata": {
        "id": "J0_8e6_pAVo9",
        "colab_type": "code",
        "colab": {}
      },
      "source": [
        "feat_a=[]\n",
        "for val in feat:\n",
        "  #print(val[0])\n",
        "  temp = val[0] \n",
        "  #print(temp)\n",
        "  temp=temp.split('-')\n",
        "  #print(temp)\n",
        "  newtemp=temp[2].split(' ')\n",
        "  #print(newtemp)\n",
        "  newesttemp=newtemp[1].split(':')\n",
        "  #print(newesttemp)\n",
        "  j=int(newesttemp[1])\n",
        "  if(j<=7.5):\n",
        "    final = newtemp[0] + '-' + temp[1] + '-' + temp[0] + ' ' + newesttemp[0] + ':' + '00'\n",
        "  elif(j<=15 or j<=22.5):\n",
        "    final = newtemp[0] + '-' + temp[1] + '-' + temp[0] + ' ' + newesttemp[0] + ':' + '15'\n",
        "  elif(j<=30 or j<=37.5):\n",
        "    final = newtemp[0] + '-' + temp[1] + '-' + temp[0] + ' ' + newesttemp[0] + ':' + '30'\n",
        "  elif(j<=45 or j<=52.5):\n",
        "    final = newtemp[0] + '-' + temp[1] + '-' + temp[0] + ' ' + newesttemp[0] + ':' + '45'\n",
        "  elif(j>52.5):\n",
        "    final = newtemp[0] + '-' + temp[1] + '-' + temp[0] + ' ' + newesttemp[0] + ':' + '00'\n",
        "  l=[]\n",
        "  l.append(final)\n",
        "  l.append(val[1])\n",
        "  l.append(val[2])\n",
        "  l.append(val[3])\n",
        "  l.append(val[4])\n",
        "  l.append(val[5]) #The previous hours reading \n",
        "  feat_a.append(l)\n"
      ],
      "execution_count": 0,
      "outputs": []
    },
    {
      "cell_type": "code",
      "metadata": {
        "id": "Vm4KqtIWAcWV",
        "colab_type": "code",
        "outputId": "bd8ef18f-2b9c-47d6-fc19-5d41a2fc1438",
        "colab": {
          "base_uri": "https://localhost:8080/",
          "height": 34
        }
      },
      "source": [
        "print(len(feat_a))"
      ],
      "execution_count": 148,
      "outputs": [
        {
          "output_type": "stream",
          "text": [
            "486\n"
          ],
          "name": "stdout"
        }
      ]
    },
    {
      "cell_type": "code",
      "metadata": {
        "id": "IhGed-5V_BQV",
        "colab_type": "code",
        "outputId": "d870749c-9e67-4406-8da0-e88b5f669496",
        "colab": {
          "base_uri": "https://localhost:8080/",
          "height": 34
        }
      },
      "source": [
        "print(feat_a[0])"
      ],
      "execution_count": 149,
      "outputs": [
        {
          "output_type": "stream",
          "text": [
            "['28-07-2019 10:45', 18.30630111694336, 13.988058316798687, 1, 47, 47]\n"
          ],
          "name": "stdout"
        }
      ]
    },
    {
      "cell_type": "code",
      "metadata": {
        "id": "hFJCJPcJAlm5",
        "colab_type": "code",
        "colab": {}
      },
      "source": [
        "weather={}\n",
        "for key in temp_weather:\n",
        "  temp=key.split('-')\n",
        "  newtemp=temp[2].split(' ')\n",
        "  newesttemp=newtemp[1].split(':')\n",
        "  j=int(newesttemp[1])\n",
        "  if(j<=7.5):\n",
        "    final = temp[0] + '-' + temp[1] + '-' + newtemp[0] + ' ' + newesttemp[0] + ':' + '00'\n",
        "  elif(j<=15 or j<=22.5):\n",
        "    final = temp[0] + '-' + temp[1] + '-' + newtemp[0] + ' ' + newesttemp[0] + ':' + '15'\n",
        "  elif(j<=30 or j<=37.5):\n",
        "    final = temp[0] + '-' + temp[1] + '-' + newtemp[0] + ' ' + newesttemp[0] + ':' + '30'\n",
        "  elif(j<=45 or j<=52.5):\n",
        "    final = temp[0] + '-' + temp[1] + '-' + newtemp[0] + ' ' + newesttemp[0] + ':' + '45'\n",
        "  elif(j>52.5):\n",
        "    final = temp[0] + '-' + temp[1] + '-' + newtemp[0] + ' ' + newesttemp[0] + ':' + '00'\n",
        "  if(final not in weather):\n",
        "    weather[final]=temp_weather[key]"
      ],
      "execution_count": 0,
      "outputs": []
    },
    {
      "cell_type": "code",
      "metadata": {
        "id": "Jb7_MwtlApB3",
        "colab_type": "code",
        "colab": {}
      },
      "source": [
        "trans=[]\n",
        "cont=[]\n",
        "ent=[]\n",
        "hours=[]\n",
        "hum=[]\n",
        "pressure=[]\n",
        "tempr=[]\n",
        "deg=[]\n",
        "speed=[]\n",
        "prev=[]\n",
        "pm=[]\n",
        "\n",
        "## COMBINING 1ST 4 LOCATIONS DATA \n",
        "for e in feat_a:\n",
        "  #index+=1\n",
        "  for w in weather:\n",
        "    if(e[0] == w):\n",
        "      #c=0\n",
        "      hours.append(float(e[0][-5:-3]))\n",
        "      \n",
        "#       while(int(feat_a[index][0][-5:-3])!=(int(e[0][-5:-3])-1) and c<6):\n",
        "#           index-=1\n",
        "#       prev.append(float(feat_a[index][4]))\n",
        "      \n",
        "      pm.append(float(e[4]))\n",
        "      prev.append(float(e[5]))\n",
        "      trans.append(e[3])\n",
        "      ent.append(float(e[1]))\n",
        "      cont.append(float(e[2]))\n",
        "      hum.append(float(weather[w][0]))\n",
        "      pressure.append(float(weather[w][1]))\n",
        "      tempr.append(float(weather[w][2])) \n",
        "      deg.append(float(weather[w][4]))\n",
        "      speed.append(float(weather[w][5]))\n",
        "    "
      ],
      "execution_count": 0,
      "outputs": []
    },
    {
      "cell_type": "code",
      "metadata": {
        "id": "QcbhxoPVAw1o",
        "colab_type": "code",
        "outputId": "470c3b92-8448-4af4-a661-7b62d837cb5e",
        "colab": {
          "base_uri": "https://localhost:8080/",
          "height": 206
        }
      },
      "source": [
        "print(len(trans))\n",
        "print(len(hours))\n",
        "print(len(cont))\n",
        "print(len(ent))\n",
        "print(len(hum))\n",
        "print(len(pressure))\n",
        "print(len(tempr))\n",
        "print(len(deg))\n",
        "print(len(speed))\n",
        "print(len(pm))\n",
        "print(len(prev))"
      ],
      "execution_count": 152,
      "outputs": [
        {
          "output_type": "stream",
          "text": [
            "486\n",
            "486\n",
            "486\n",
            "486\n",
            "486\n",
            "486\n",
            "486\n",
            "486\n",
            "486\n",
            "486\n",
            "486\n"
          ],
          "name": "stdout"
        }
      ]
    },
    {
      "cell_type": "code",
      "metadata": {
        "id": "PzXsU2JnBtna",
        "colab_type": "code",
        "outputId": "b447ecd0-d8f9-44a4-cbee-1548fe9cc4a2",
        "colab": {
          "base_uri": "https://localhost:8080/",
          "height": 226
        }
      },
      "source": [
        "print(trans)\n",
        "print(hours)\n",
        "print(cont)\n",
        "print(ent)\n",
        "print(hum)\n",
        "print(pressure)\n",
        "print(tempr)\n",
        "print(deg)\n",
        "print(speed)\n",
        "print(pm)\n",
        "print(prev)"
      ],
      "execution_count": 153,
      "outputs": [
        {
          "output_type": "stream",
          "text": [
            "[1, 1, 1, 3, 2, 1, 1, 2, 2, 2, 2, 2, 2, 2, 2, 2, 2, 1, 2, 1, 2, 1, 1, 1, 1, 2, 2, 1, 2, 2, 1, 2, 2, 2, 2, 3, 1, 1, 1, 2, 2, 2, 2, 2, 2, 1, 2, 1, 2, 2, 1, 2, 1, 2, 3, 1, 3, 1, 1, 2, 2, 2, 2, 2, 1, 1, 2, 2, 2, 2, 3, 2, 2, 2, 2, 2, 1, 1, 1, 1, 2, 2, 2, 2, 2, 2, 2, 3, 2, 2, 2, 2, 2, 2, 2, 2, 1, 2, 2, 2, 1, 2, 2, 1, 2, 2, 2, 2, 2, 2, 2, 2, 2, 2, 2, 2, 2, 2, 2, 2, 2, 2, 2, 1, 2, 1, 1, 1, 1, 2, 1, 2, 2, 2, 1, 1, 2, 2, 2, 2, 2, 2, 2, 2, 2, 2, 2, 2, 2, 2, 2, 2, 2, 1, 2, 2, 2, 2, 2, 2, 2, 2, 2, 2, 1, 2, 2, 2, 2, 1, 2, 1, 1, 1, 2, 2, 2, 1, 2, 1, 2, 1, 1, 2, 1, 2, 2, 2, 1, 1, 2, 2, 2, 2, 2, 2, 2, 2, 2, 2, 2, 2, 2, 1, 2, 2, 2, 3, 2, 2, 2, 2, 2, 3, 2, 2, 3, 2, 2, 2, 2, 3, 2, 2, 2, 2, 2, 2, 2, 3, 3, 2, 2, 2, 2, 2, 2, 2, 2, 2, 2, 2, 2, 2, 2, 2, 2, 2, 2, 2, 2, 2, 2, 2, 1, 1, 2, 2, 1, 1, 1, 1, 1, 1, 1, 1, 1, 1, 1, 1, 1, 2, 1, 1, 1, 1, 1, 1, 2, 2, 2, 2, 2, 2, 2, 2, 2, 2, 2, 1, 1, 1, 1, 1, 1, 1, 1, 1, 1, 1, 1, 1, 1, 0, 1, 1, 1, 2, 5, 0.9959810172352763, 2, 1, 2, 1, 2, 2, 2, 2, 1, 1, 1, 1, 1, 1, 1, 1, 1, 1, 1, 1, 1, 2, 1, 2, 2, 3, 3, 3, 3, 3, 3, 3, 3, 3, 3, 3, 3, 3, 3, 2, 3, 3, 3, 2, 2, 2, 3, 3, 3, 3, 3, 3, 3, 3, 3, 3, 3, 3, 3, 3, 3, 3, 3, 3, 3, 3, 3, 3, 3, 3, 3, 3, 3, 3, 3, 3, 3, 3, 3, 3, 3, 3, 3, 3, 3, 3, 3, 3, 3, 3, 3, 3, 3, 3, 3, 3, 3, 3, 3, 2, 2, 2, 2, 3, 2, 2, 2, 2, 3, 2, 2, 3, 3, 3, 3, 3, 2, 2, 2, 2, 2, 2, 2, 2, 2, 2, 2, 3, 2, 2, 2, 2, 2, 2, 2, 2, 2, 2, 2, 2, 3, 3, 3, 2, 3, 2, 2, 2, 2, 2, 2, 3, 3, 3, 3, 2, 3, 2, 2, 3, 3, 3, 2, 2, 2, 2, 2, 2, 2, 2, 2, 2, 2, 2, 2, 2]\n",
            "[10.0, 10.0, 11.0, 13.0, 15.0, 15.0, 15.0, 16.0, 16.0, 16.0, 16.0, 16.0, 16.0, 16.0, 16.0, 16.0, 16.0, 16.0, 10.0, 11.0, 12.0, 12.0, 12.0, 12.0, 12.0, 12.0, 12.0, 13.0, 13.0, 13.0, 13.0, 13.0, 13.0, 13.0, 13.0, 13.0, 14.0, 14.0, 14.0, 14.0, 14.0, 14.0, 14.0, 14.0, 14.0, 14.0, 14.0, 14.0, 14.0, 14.0, 14.0, 15.0, 15.0, 15.0, 15.0, 15.0, 15.0, 15.0, 15.0, 15.0, 15.0, 15.0, 8.0, 8.0, 8.0, 8.0, 9.0, 9.0, 9.0, 9.0, 9.0, 9.0, 9.0, 9.0, 9.0, 9.0, 9.0, 9.0, 9.0, 13.0, 13.0, 13.0, 13.0, 13.0, 13.0, 13.0, 14.0, 14.0, 14.0, 14.0, 14.0, 14.0, 14.0, 14.0, 14.0, 14.0, 15.0, 16.0, 16.0, 16.0, 16.0, 16.0, 16.0, 18.0, 13.0, 13.0, 13.0, 13.0, 13.0, 13.0, 13.0, 13.0, 14.0, 14.0, 14.0, 14.0, 14.0, 14.0, 14.0, 14.0, 14.0, 14.0, 14.0, 14.0, 12.0, 12.0, 12.0, 12.0, 12.0, 12.0, 12.0, 12.0, 13.0, 13.0, 13.0, 13.0, 13.0, 13.0, 13.0, 13.0, 13.0, 13.0, 13.0, 13.0, 13.0, 13.0, 13.0, 13.0, 13.0, 13.0, 13.0, 14.0, 14.0, 14.0, 14.0, 14.0, 14.0, 14.0, 14.0, 14.0, 14.0, 14.0, 14.0, 15.0, 15.0, 15.0, 15.0, 15.0, 15.0, 15.0, 15.0, 15.0, 15.0, 15.0, 15.0, 15.0, 15.0, 15.0, 15.0, 15.0, 15.0, 15.0, 15.0, 16.0, 16.0, 16.0, 16.0, 16.0, 12.0, 13.0, 13.0, 13.0, 13.0, 13.0, 13.0, 13.0, 14.0, 14.0, 14.0, 14.0, 14.0, 14.0, 14.0, 14.0, 10.0, 10.0, 11.0, 11.0, 11.0, 11.0, 11.0, 11.0, 11.0, 11.0, 11.0, 11.0, 11.0, 11.0, 12.0, 12.0, 12.0, 12.0, 12.0, 12.0, 12.0, 12.0, 12.0, 12.0, 12.0, 13.0, 13.0, 13.0, 13.0, 13.0, 13.0, 13.0, 13.0, 13.0, 13.0, 13.0, 13.0, 13.0, 14.0, 14.0, 14.0, 14.0, 14.0, 14.0, 14.0, 14.0, 14.0, 14.0, 14.0, 14.0, 15.0, 15.0, 15.0, 15.0, 15.0, 15.0, 15.0, 15.0, 15.0, 15.0, 15.0, 15.0, 16.0, 16.0, 16.0, 16.0, 16.0, 16.0, 16.0, 16.0, 16.0, 16.0, 16.0, 16.0, 17.0, 17.0, 17.0, 17.0, 17.0, 17.0, 17.0, 17.0, 17.0, 17.0, 17.0, 17.0, 18.0, 18.0, 18.0, 18.0, 18.0, 18.0, 18.0, 18.0, 18.0, 18.0, 18.0, 18.0, 13.0, 13.0, 15.0, 15.0, 15.0, 15.0, 15.0, 15.0, 16.0, 16.0, 16.0, 17.0, 17.0, 17.0, 17.0, 17.0, 17.0, 17.0, 17.0, 17.0, 17.0, 18.0, 18.0, 18.0, 18.0, 18.0, 18.0, 18.0, 18.0, 18.0, 18.0, 18.0, 18.0, 6.0, 6.0, 6.0, 6.0, 6.0, 6.0, 6.0, 6.0, 6.0, 6.0, 6.0, 6.0, 7.0, 7.0, 7.0, 7.0, 7.0, 7.0, 7.0, 7.0, 7.0, 7.0, 7.0, 7.0, 8.0, 8.0, 8.0, 8.0, 8.0, 8.0, 8.0, 8.0, 8.0, 8.0, 8.0, 9.0, 9.0, 9.0, 9.0, 9.0, 9.0, 9.0, 9.0, 9.0, 9.0, 9.0, 9.0, 10.0, 10.0, 10.0, 10.0, 10.0, 10.0, 10.0, 10.0, 10.0, 10.0, 10.0, 10.0, 11.0, 11.0, 11.0, 11.0, 11.0, 11.0, 11.0, 11.0, 11.0, 11.0, 11.0, 11.0, 12.0, 12.0, 12.0, 12.0, 12.0, 12.0, 12.0, 12.0, 12.0, 12.0, 12.0, 12.0, 13.0, 13.0, 13.0, 13.0, 13.0, 13.0, 13.0, 13.0, 13.0, 14.0, 14.0, 14.0, 14.0, 14.0, 14.0, 14.0, 14.0, 14.0, 14.0, 14.0, 14.0, 15.0, 15.0, 15.0, 15.0, 15.0, 15.0, 15.0, 15.0, 15.0, 15.0, 15.0, 15.0, 16.0, 16.0, 16.0, 16.0, 16.0, 16.0, 16.0, 16.0, 16.0, 16.0, 16.0, 16.0, 17.0, 17.0, 17.0, 17.0, 17.0, 17.0, 17.0, 17.0, 17.0, 17.0, 17.0, 18.0, 18.0, 18.0, 18.0, 18.0, 18.0, 18.0, 18.0, 18.0, 18.0, 18.0, 18.0]\n",
            "[13.988058316798687, 13.011225805526196, 72.93656036709747, 35.950088737028686, 77.1516869870556, 83.68864852792969, 82.21006548149384, 62.01478424259648, 67.14272841626783, 74.12818517502174, 67.38486811854757, 65.97570667218355, 75.54896815012775, 69.05298319315762, 69.09546901092793, 68.29873703177716, 68.06814892588854, 80.22990139899747, 33.741715174584364, 85.75180721332315, 55.95772904521862, 73.83635026282768, 77.35840756618462, 89.23249505069754, 78.45904241542834, 73.41751515775313, 72.2380210411711, 82.15827808577916, 78.07730609626857, 76.55939729446703, 78.16147869243694, 78.75348852762124, 68.09487522112238, 64.23127286150903, 57.610828284312376, 93.6343407580949, 84.64719535785886, 86.11943668470488, 74.37862972975603, 58.16027927685915, 39.11272312586041, 62.45755026033544, 60.54260350918501, 69.5303061368119, 66.22423294205207, 67.0570166899927, 64.09507574324691, 71.43257498690686, 74.7638436032912, 70.55102555766494, 80.13455109755783, 66.6378437954142, 82.97074343015584, 54.62083399918413, 87.38880594586014, 74.15845110948155, 90.89258805038894, 49.794147668164, 76.10909484157345, 44.36354599564673, 60.14096423073931, 56.65862506353603, 57.084216810208346, 76.21565796233436, 80.2951764371772, 87.49057693303543, 61.49388288713605, 54.66185478032814, 58.253300023697136, 60.55422519036091, 72.78532621472372, 60.55904523639603, 55.591835818290306, 55.14766689651706, 72.11097086404, 71.54779449300638, 78.96276273119436, 88.36454742023807, 87.57120150128884, 84.97379327081008, 84.29428195798863, 68.62644748097462, 73.80779027074388, 70.8012620807352, 72.45206525405163, 91.0793240769153, 69.54990831461586, 72.92474089150691, 72.43873636048119, 73.29646955727829, 72.8930553141883, 73.20519941762274, 80.43788143311353, 68.08229936560289, 70.9425850809023, 56.54802875887954, 77.83437907861625, 50.19067855270029, 72.29627983433684, 69.50721193850194, 70.41111262121515, 78.19932476455543, 76.35405584112434, 64.88812041936754, 83.70260418538858, 65.61522094481158, 57.57970350319679, 68.10788737258834, 68.14463128557213, 74.92238494413104, 89.14911034638689, 87.08393093298346, 63.26658326619818, 59.46260969559346, 69.50675739477508, 61.08576587396635, 74.11071348376517, 64.86674427492837, 68.70361662678422, 76.14219222223419, 76.40881787083595, 75.78102230548909, 76.02260662539187, 77.01232760305041, 58.43328238122404, 61.144554626925405, 74.48979786612759, 72.10539502699405, 78.03259741921215, 66.09988332176688, 73.69640059720649, 69.44749328336985, 69.51576505386673, 70.14551380686872, 76.44916134181554, 79.19313558391684, 70.45761486966263, 66.62281108036062, 64.32842506407904, 58.002525008411446, 67.6711873748212, 64.89779658577515, 60.02242454679889, 68.04185082456682, 66.15025033388683, 64.76532917242022, 64.78252444598516, 63.956164125950075, 65.34269853623886, 65.67295456258508, 57.986129322504304, 57.465009049045335, 59.209367319266946, 66.88102203525813, 63.72372334515084, 59.23730832076651, 60.88787508036906, 68.2936560139522, 59.47483074425392, 60.69250716257884, 61.85992249425015, 60.02342868282537, 57.66992195584285, 61.158059802729305, 62.698500052012825, 66.45348405280629, 63.91376639659508, 68.78369308538402, 60.13112956910902, 55.96749896309861, 52.00001025943951, 71.91497212691493, 70.20208573384006, 67.0772693843329, 57.08072372692859, 49.92397173341375, 60.26751511547094, 68.6250162398057, 66.13296073977337, 61.7024906746442, 67.77548257210253, 70.6150554176163, 74.37633364777996, 63.633995761897644, 77.53603733348912, 66.35319085670899, 66.04003755324604, 46.91324491002829, 47.17260262845441, 75.66940566985859, 71.55771195622432, 63.79834657304967, 63.24679685546751, 70.74878883979628, 71.7533726078159, 73.56701257813982, 62.12102801193578, 67.52540829772228, 63.2520419252166, 64.57137319150088, 64.8371839190845, 66.95945356547932, 67.68560920203221, 65.13843633658954, 63.483598463584045, 57.20370867354231, 61.73802540076352, 56.949635183916214, 57.51043363627688, 58.2379486173441, 75.1623563739374, 54.07117433802258, 60.1281031580228, 59.04578131744396, 56.83498213281105, 57.02642826756766, 59.00928278813154, 52.4543338660534, 51.32733976264825, 52.78877590779105, 53.29614139066392, 57.69687452437274, 50.48847869528, 54.1137704045773, 59.552969565835255, 58.85727768647428, 58.62422657722815, 60.10075710345453, 59.65691619647183, 59.454910804419285, 59.655587085501836, 47.026456497990054, 58.96813380644046, 59.65091256500512, 60.524469458922056, 56.07362571777536, 55.79975949653959, 56.511939669404796, 57.551163297648685, 60.105683641493656, 61.0311233875613, 62.277606955651706, 64.41397185394247, 60.16168274382938, 59.14583070133345, 59.88982868014867, 59.313448224939506, 56.471082286063506, 58.422897328772514, 60.56360372869976, 61.32081324208941, 59.28775895937194, 57.62130239022835, 55.801713231641834, 55.138605687795234, 56.17789969661617, 59.204063828806305, 54.77121410378687, 52.96027005372651, 52.25550163307123, 55.78888640932189, 52.89714432595569, 51.617195323598445, 52.10471762778288, 48.53000266681293, 53.59298201473093, 53.56007113076078, 54.69521069418438, 53.55981915417914, 57.031143397807654, 59.488668547891265, 61.04059789728445, 54.93586220958933, 55.39734990729973, 58.096321137865566, 58.49190156690969, 59.19649156614021, 57.81225859255746, 59.980951923179134, 57.625340459561556, 58.61712504363333, 59.459824275352915, 61.26557711166807, 60.1493607590276, 60.065168448353035, 58.83854741442801, 59.35964857900945, 63.429588911910145, 62.93999449172112, 60.9078480601684, 58.616832213150545, 58.4233999116413, 60.172795646406534, 59.47430724790884, 62.84001700628949, 63.053250636315475, 61.692462724354826, 61.31099496717719, 60.94476894747036, 61.80183539550329, 62.10905102978003, 63.70441491738802, 84.52202516042304, 5.270428200480588, 75.66304349867946, 0.7401840498268867, 41.816650429909274, 66.26359964976538, 43.647182667772626, 7.1710506049932174, 67.87093028826206, 38.306042512041685, 63.725076311249914, 74.97006524954895, 61.86318715440692, 63.46581201599955, 70.84202507521447, 67.1236828880082, 67.41760982594478, 68.18387073212094, 69.07900235694234, 68.52925488433624, 68.88142663987274, 69.30873615544319, 69.53268359774447, 69.08816131462247, 69.00848711530986, 67.93043944841577, 67.42555286424897, 66.50361543778766, 65.5784300794354, 63.0176977743008, 63.142588360233404, 62.626539194669604, 62.67870607578418, 53.7408756780525, 47.41037272225089, 47.647961530128924, 46.92503633028357, 45.76664370802764, 45.42271565852693, 46.100450127020245, 43.33933994091496, 41.16273671743193, 41.672304185549066, 43.423903342055624, 46.36202388736396, 48.38926008626256, 50.123082899446274, 51.30289440901001, 52.85066130990347, 53.86621935017103, 53.61212187980469, 54.43180097287164, 55.42763501638976, 55.12062542167407, 54.750076281840265, 53.8575840428778, 53.71330498824923, 52.73274891142139, 52.62201402000274, 52.05508939135601, 50.9028107404566, 49.644542280464634, 45.75218170547585, 45.46651157336299, 45.950641563856934, 44.974171754973604, 45.157386546324254, 42.63862730489985, 42.60469937086701, 43.3652345681547, 41.98686730593651, 41.845764670173736, 41.852284498528356, 41.58118603847337, 41.56749081583599, 41.78620554835149, 41.444557410153266, 41.39620076003551, 41.6084424724851, 41.90491415123452, 41.819060269005206, 41.813428681657875, 41.960158407036204, 41.55741269266431, 40.85967199305835, 42.11888923445067, 41.88868978968394, 42.04720428444887, 41.208762207199754, 40.70032618218238, 42.86559313936056, 43.70721663070626, 43.42297151351236, 42.45995686332171, 39.7658018115717, 39.808035081842256, 40.83972884206008, 45.2695426956436, 46.0567988614638, 46.1956688224198, 42.39902133505188, 50.702128374057594, 53.66354133642644, 54.74231505904606, 54.13022388134554, 57.588886517677956, 60.883315025183336, 63.24774937903855, 67.39239171936823, 67.37445462480147, 63.76719695608983, 61.289405155249725, 61.4235170130523, 62.2853666443122, 61.45719931851724, 51.79798602239403, 52.36658675310168, 57.23770328977348, 59.26968454587515, 48.64010763723931, 38.73370693161504, 32.01936691113039, 33.06695514577977, 38.43703178017549, 61.527944565208365, 64.59205075596255, 63.85376483562831, 61.7522672040798, 60.2095093142579, 62.41065866938788, 62.477262335851826, 61.36678967697325, 60.603211539620986, 60.25947373633893, 59.144417839740775, 58.7171900551687, 59.08104493402208, 59.975311053224246, 60.82912511825986, 61.256939730249634, 61.44935021391656, 61.32411680571342, 61.0676474535202, 60.26923087230666, 62.40061086573827, 62.75857803945984, 61.902038212835365, 59.67144683961845, 58.525292882578306, 56.949439053435114, 55.12491423677098, 55.01644998225938, 55.32903928991556, 54.82353970409836, 55.01280631035557, 56.51271780687585, 58.2641085716657, 60.6627531195857, 61.18058213517066, 59.41058179864333, 58.586578231969575, 55.76170335324337, 54.97543129867235, 56.06103758280839, 56.39679032567253, 58.827252795901764, 57.10821750293802, 56.24564172067953, 56.033823512535236, 56.11408260820653, 56.220287625519866, 56.80751146075628, 56.90794949472049, 57.951659475767194, 58.10214299455786, 57.98004508382531, 57.75027284487425, 59.41011621436491, 60.51020837272076, 60.34597195221021, 59.44235119077485, 59.88804046531398, 60.59319729960649, 60.938486792064516]\n",
            "[18.30630111694336, 17.759958267211914, 38.76405715942383, 29.211015701293945, 39.25362014770508, 46.11984634399414, 44.386722564697266, 46.05776596069336, 53.52329635620117, 57.449180603027344, 47.027408599853516, 48.67979431152344, 44.30538558959961, 49.310577392578125, 50.211490631103516, 47.73347854614258, 48.74065017700195, 44.01187515258789, 29.10783576965332, 45.5201416015625, 53.77639389038086, 50.44172668457031, 51.36069869995117, 39.93488693237305, 43.43080520629883, 49.07674026489258, 46.269866943359375, 46.738136291503906, 35.55320739746094, 35.18395233154297, 47.48016357421875, 52.094398498535156, 44.09960174560547, 44.687400817871094, 45.898529052734375, 12.57230281829834, 42.62632369995117, 45.92339324951172, 34.580360412597656, 46.30495071411133, 42.26688003540039, 44.963741302490234, 48.9262580871582, 51.618309020996094, 47.5596809387207, 46.43819808959961, 39.59543228149414, 43.78755187988281, 50.878360748291016, 49.651939392089844, 49.18357467651367, 46.812034606933594, 47.070186614990234, 41.53636932373047, 14.293498992919922, 52.32029342651367, 14.855027198791504, 47.011932373046875, 44.34765625, 46.656890869140625, 49.73848342895508, 49.59410095214844, 38.87611770629883, 28.204431533813477, 45.63040542602539, 36.8070068359375, 44.19481658935547, 46.08799362182617, 48.55440902709961, 46.19702911376953, 29.743587493896484, 44.409393310546875, 42.65745544433594, 42.87989044189453, 43.189353942871094, 34.664573669433594, 31.333606719970703, 33.99447250366211, 33.69638442993164, 41.16373062133789, 37.19266128540039, 35.672813415527344, 36.07591247558594, 34.726348876953125, 36.204280853271484, 34.991024017333984, 41.030059814453125, 39.952335357666016, 40.242454528808594, 39.96603775024414, 42.43675231933594, 37.81515121459961, 35.86686706542969, 40.96156692504883, 46.79872131347656, 50.131858825683594, 50.89765930175781, 44.548179626464844, 53.54861068725586, 51.20248794555664, 48.359519958496094, 46.67847442626953, 43.33856201171875, 30.798250198364258, 37.338768005371094, 36.338436126708984, 42.04503631591797, 42.61661148071289, 39.54409408569336, 37.259246826171875, 34.59269332885742, 34.4604377746582, 41.99032211303711, 36.340450286865234, 43.92902374267578, 42.20547103881836, 44.812408447265625, 46.62139129638672, 43.88300704956055, 41.720638275146484, 41.486270904541016, 47.00477600097656, 34.34983825683594, 44.98011779785156, 47.309329986572266, 55.413516998291016, 50.38136291503906, 51.17060470581055, 46.168060302734375, 45.733314514160156, 50.62514114379883, 44.788326263427734, 49.63011932373047, 47.7735481262207, 45.94695281982422, 39.58819580078125, 44.559226989746094, 51.759979248046875, 50.43571853637695, 49.073570251464844, 50.722354888916016, 53.906490325927734, 49.37627029418945, 52.88906478881836, 46.77283477783203, 42.3004264831543, 44.026248931884766, 47.78462600708008, 43.44224548339844, 49.407073974609375, 48.35675048828125, 49.051979064941406, 52.430084228515625, 53.93732452392578, 51.017250061035156, 52.10947799682617, 52.8250846862793, 49.433658599853516, 47.67445373535156, 52.36701202392578, 48.042686462402344, 50.246028900146484, 47.8255615234375, 50.001399993896484, 45.457130432128906, 48.07451248168945, 50.10377502441406, 42.841529846191406, 51.548954010009766, 46.938507080078125, 49.22134780883789, 47.04494857788086, 41.75605392456055, 51.49847412109375, 51.20244216918945, 44.432247161865234, 49.901588439941406, 45.54985427856445, 52.18889236450195, 51.035682678222656, 44.61015701293945, 49.78721618652344, 47.26298141479492, 49.42181396484375, 45.96772003173828, 49.75815963745117, 50.33315658569336, 39.70380401611328, 45.88099670410156, 47.8079719543457, 45.82889175415039, 43.75241470336914, 44.19466018676758, 39.97808837890625, 45.947322845458984, 38.88817596435547, 47.28874206542969, 49.97951126098633, 42.77299499511719, 46.61635971069336, 47.776607513427734, 46.04389572143555, 44.775352478027344, 47.39664840698242, 53.250640869140625, 54.36772918701172, 48.3304557800293, 39.709556579589844, 48.02543640136719, 48.973838806152344, 23.593578338623047, 49.40530776977539, 48.4683837890625, 48.301998138427734, 50.225772857666016, 46.322105407714844, 45.118045806884766, 40.19747543334961, 36.832149505615234, 41.995277404785156, 43.48382568359375, 47.35060501098633, 20.134052276611328, 45.51449966430664, 45.910423278808594, 45.021636962890625, 46.84233474731445, 48.80107498168945, 45.99343490600586, 47.8128662109375, 45.172035217285156, 19.144254684448242, 49.33306121826172, 49.06117630004883, 50.27946472167969, 51.725975036621094, 51.821598052978516, 51.25701904296875, 48.6141242980957, 47.88846969604492, 50.39938735961914, 49.446651458740234, 48.649837493896484, 54.086570739746094, 52.76474380493164, 49.73623275756836, 47.99540710449219, 47.88673782348633, 46.189815521240234, 48.26655578613281, 49.26145553588867, 51.340667724609375, 51.57624053955078, 52.83629608154297, 53.1630859375, 51.670406341552734, 51.73775100708008, 53.1497688293457, 52.52869415283203, 51.8868522644043, 54.10910415649414, 51.2029914855957, 51.272789001464844, 51.451351165771484, 9.91714859008789, 51.704769134521484, 52.31168746948242, 53.779869079589844, 52.883785247802734, 52.734561920166016, 53.72590255737305, 55.888492584228516, 52.994415283203125, 52.42871856689453, 50.9708251953125, 53.51791000366211, 56.24620819091797, 55.02378845214844, 55.516014099121094, 47.455928802490234, 46.419403076171875, 40.891719818115234, 43.840301513671875, 46.022701263427734, 42.61981964111328, 45.932342529296875, 43.70745086669922, 44.134490966796875, 49.683067321777344, 55.094970703125, 53.93644714355469, 53.968563079833984, 54.72040939331055, 54.49378204345703, 55.7924690246582, 55.59185791015625, 54.87578582763672, 55.304100036621094, 55.1403923034668, 55.41205978393555, 54.784629821777344, 54.839149475097656, 42.51755142211914, 7.455005645751953, 44.35597610473633, 1.4675911664962769, 38.08696365356445, 48.111995697021484, 30.622175216674805, 12.270280838012695, 30.76756477355957, 40.52059555053711, 41.27230453491211, 43.099212646484375, 40.69575881958008, 40.70161056518555, 43.67477035522461, 43.08338928222656, 43.274105072021484, 42.766605377197266, 42.63794708251953, 42.770477294921875, 42.699031829833984, 42.43733596801758, 42.93175506591797, 43.71797180175781, 44.0652961730957, 44.549381256103516, 44.50425338745117, 45.65852737426758, 45.07615661621094, 45.16256332397461, 44.824195861816406, 45.50691604614258, 45.02973937988281, 41.16622543334961, 40.48667526245117, 38.455020904541016, 39.1548957824707, 39.5698127746582, 39.39211654663086, 40.135406494140625, 37.26827621459961, 31.37946891784668, 31.162111282348633, 33.76346206665039, 37.890743255615234, 37.955989837646484, 37.07170486450195, 39.47488021850586, 37.55855178833008, 37.672176361083984, 38.12765121459961, 39.14351272583008, 39.75537872314453, 39.838680267333984, 39.06014633178711, 36.59889221191406, 37.181827545166016, 38.26612091064453, 37.53180694580078, 38.06983184814453, 37.24460983276367, 39.0653076171875, 37.05998992919922, 36.724578857421875, 35.87633514404297, 34.03541946411133, 36.012794494628906, 32.052146911621094, 28.53375244140625, 27.39710807800293, 29.648778915405273, 29.22112464904785, 29.193132400512695, 29.282167434692383, 29.644309997558594, 31.703075408935547, 30.825550079345703, 31.270437240600586, 30.006959915161133, 30.71237564086914, 29.771013259887695, 30.281782150268555, 28.30838966369629, 28.76421546936035, 29.774084091186523, 26.347869873046875, 28.546329498291016, 27.873756408691406, 26.850141525268555, 27.043636322021484, 32.67948913574219, 34.917110443115234, 33.65599060058594, 32.16719436645508, 26.915714263916016, 27.324214935302734, 30.239131927490234, 37.24535369873047, 33.539207458496094, 36.28776168823242, 34.78754425048828, 34.8631706237793, 32.991859436035156, 34.752479553222656, 35.470924377441406, 33.03746032714844, 33.96955490112305, 33.304141998291016, 31.32664680480957, 31.08031463623047, 33.71721267700195, 35.050724029541016, 37.39163589477539, 36.68461608886719, 40.41274642944336, 46.93703079223633, 38.4498176574707, 45.83426284790039, 45.01799392700195, 35.49833297729492, 35.640777587890625, 31.52354621887207, 32.9974250793457, 34.98868179321289, 41.603065490722656, 42.06663131713867, 42.26640701293945, 39.31631088256836, 39.76172637939453, 40.83900833129883, 43.953277587890625, 45.5128059387207, 46.471473693847656, 44.515777587890625, 42.79338073730469, 39.5191535949707, 40.690921783447266, 43.353153228759766, 43.88206100463867, 44.16360092163086, 44.1306266784668, 43.65244674682617, 41.3956298828125, 39.75154113769531, 39.617286682128906, 40.052101135253906, 41.02626037597656, 39.38839340209961, 38.07697296142578, 37.85444641113281, 39.444759368896484, 42.01655960083008, 42.60575866699219, 43.551422119140625, 44.701507568359375, 46.23401641845703, 46.898948669433594, 46.36012268066406, 43.190635681152344, 39.1631965637207, 40.21417999267578, 39.493896484375, 39.63102340698242, 42.617549896240234, 39.282230377197266, 44.48899841308594, 41.65533447265625, 40.99854278564453, 40.16357421875, 40.68030548095703, 41.89622116088867, 42.89011764526367, 44.334022521972656, 45.824954986572266, 45.94160461425781, 45.50197982788086, 45.039058685302734, 45.56279754638672, 44.9193000793457, 45.15093231201172, 44.549468994140625, 43.95248794555664, 43.87408447265625, 43.480892181396484]\n",
            "[83.0, 83.0, 84.0, 63.0, 67.0, 67.0, 67.0, 75.0, 75.0, 75.0, 75.0, 75.0, 89.0, 89.0, 89.0, 89.0, 89.0, 89.0, 75.0, 70.0, 75.0, 70.0, 70.0, 70.0, 70.0, 75.0, 75.0, 70.0, 70.0, 70.0, 70.0, 70.0, 70.0, 70.0, 70.0, 70.0, 66.0, 66.0, 66.0, 66.0, 66.0, 66.0, 66.0, 66.0, 70.0, 70.0, 70.0, 70.0, 70.0, 70.0, 70.0, 67.0, 67.0, 67.0, 67.0, 67.0, 67.0, 67.0, 67.0, 67.0, 67.0, 67.0, 79.0, 79.0, 83.0, 83.0, 79.0, 79.0, 79.0, 79.0, 79.0, 79.0, 79.0, 79.0, 79.0, 79.0, 79.0, 79.0, 79.0, 67.0, 63.0, 63.0, 63.0, 67.0, 67.0, 67.0, 59.0, 59.0, 59.0, 59.0, 59.0, 59.0, 56.0, 56.0, 67.0, 67.0, 70.0, 75.0, 75.0, 75.0, 89.0, 89.0, 89.0, 63.0, 63.0, 63.0, 63.0, 63.0, 63.0, 67.0, 67.0, 67.0, 59.0, 59.0, 59.0, 59.0, 59.0, 59.0, 59.0, 59.0, 59.0, 59.0, 56.0, 56.0, 70.0, 70.0, 70.0, 70.0, 70.0, 70.0, 75.0, 75.0, 70.0, 70.0, 70.0, 70.0, 70.0, 70.0, 70.0, 70.0, 70.0, 70.0, 70.0, 70.0, 70.0, 70.0, 70.0, 70.0, 70.0, 70.0, 70.0, 66.0, 66.0, 66.0, 66.0, 66.0, 66.0, 70.0, 70.0, 70.0, 70.0, 70.0, 66.0, 67.0, 67.0, 67.0, 67.0, 67.0, 67.0, 67.0, 67.0, 67.0, 67.0, 67.0, 67.0, 67.0, 67.0, 67.0, 67.0, 67.0, 67.0, 67.0, 67.0, 71.0, 71.0, 71.0, 71.0, 71.0, 70.0, 67.0, 63.0, 63.0, 63.0, 67.0, 67.0, 67.0, 59.0, 59.0, 59.0, 59.0, 59.0, 59.0, 56.0, 56.0, 79.0, 79.0, 70.0, 70.0, 70.0, 70.0, 70.0, 70.0, 70.0, 70.0, 74.0, 74.0, 70.0, 70.0, 74.0, 74.0, 74.0, 74.0, 74.0, 74.0, 74.0, 74.0, 88.0, 88.0, 74.0, 88.0, 88.0, 88.0, 88.0, 88.0, 88.0, 79.0, 79.0, 79.0, 79.0, 79.0, 88.0, 88.0, 70.0, 70.0, 70.0, 70.0, 70.0, 70.0, 70.0, 70.0, 70.0, 70.0, 70.0, 70.0, 70.0, 70.0, 70.0, 70.0, 70.0, 66.0, 66.0, 66.0, 66.0, 66.0, 70.0, 70.0, 70.0, 70.0, 70.0, 70.0, 70.0, 70.0, 70.0, 70.0, 70.0, 70.0, 70.0, 70.0, 66.0, 66.0, 66.0, 66.0, 66.0, 66.0, 66.0, 63.0, 63.0, 63.0, 66.0, 66.0, 70.0, 70.0, 70.0, 70.0, 70.0, 70.0, 70.0, 70.0, 70.0, 70.0, 70.0, 70.0, 67.0, 67.0, 60.0, 60.0, 60.0, 56.0, 56.0, 56.0, 63.0, 63.0, 63.0, 60.0, 60.0, 60.0, 63.0, 63.0, 63.0, 63.0, 63.0, 63.0, 60.0, 63.0, 63.0, 59.0, 59.0, 56.0, 56.0, 56.0, 56.0, 56.0, 56.0, 56.0, 63.0, 94.0, 94.0, 94.0, 94.0, 94.0, 94.0, 94.0, 94.0, 100.0, 100.0, 100.0, 94.0, 94.0, 94.0, 94.0, 94.0, 94.0, 89.0, 89.0, 89.0, 89.0, 89.0, 89.0, 94.0, 79.0, 79.0, 79.0, 79.0, 79.0, 79.0, 79.0, 79.0, 79.0, 79.0, 79.0, 79.0, 79.0, 79.0, 79.0, 79.0, 79.0, 79.0, 79.0, 74.0, 74.0, 74.0, 79.0, 79.0, 79.0, 79.0, 79.0, 79.0, 79.0, 79.0, 79.0, 66.0, 66.0, 66.0, 79.0, 66.0, 66.0, 70.0, 70.0, 70.0, 67.0, 67.0, 67.0, 67.0, 67.0, 67.0, 66.0, 63.0, 63.0, 63.0, 63.0, 63.0, 63.0, 63.0, 63.0, 59.0, 59.0, 59.0, 63.0, 63.0, 63.0, 63.0, 63.0, 63.0, 63.0, 63.0, 63.0, 63.0, 70.0, 70.0, 70.0, 70.0, 70.0, 70.0, 70.0, 70.0, 66.0, 66.0, 66.0, 70.0, 79.0, 79.0, 79.0, 79.0, 79.0, 79.0, 79.0, 79.0, 79.0, 79.0, 79.0, 79.0, 79.0, 79.0, 79.0, 79.0, 79.0, 79.0, 79.0, 79.0, 83.0, 83.0, 83.0, 79.0, 79.0, 79.0, 79.0, 79.0, 79.0, 79.0, 79.0, 79.0, 79.0, 79.0, 79.0, 84.0, 84.0, 84.0, 84.0, 84.0, 84.0, 84.0, 84.0, 79.0, 79.0, 79.0, 84.0]\n",
            "[1001.0, 1001.0, 1001.0, 1000.0, 999.0, 999.0, 999.0, 999.0, 999.0, 999.0, 999.0, 999.0, 999.0, 999.0, 999.0, 999.0, 999.0, 999.0, 1003.0, 1003.0, 1002.0, 1002.0, 1002.0, 1002.0, 1002.0, 1002.0, 1002.0, 1002.0, 1002.0, 1002.0, 1002.0, 1002.0, 1002.0, 1002.0, 1002.0, 1002.0, 1002.0, 1002.0, 1002.0, 1002.0, 1002.0, 1002.0, 1002.0, 1002.0, 1002.0, 1002.0, 1002.0, 1002.0, 1002.0, 1002.0, 1002.0, 1001.0, 1001.0, 1001.0, 1001.0, 1001.0, 1001.0, 1001.0, 1001.0, 1000.0, 1000.0, 1000.0, 1002.0, 1002.0, 1002.0, 1002.0, 1002.0, 1002.0, 1002.0, 1002.0, 1002.0, 1002.0, 1002.0, 1002.0, 1002.0, 1002.0, 1002.0, 1002.0, 1002.0, 1000.0, 1000.0, 1000.0, 1000.0, 1000.0, 1000.0, 1000.0, 1000.0, 1000.0, 1000.0, 1000.0, 1000.0, 1000.0, 1000.0, 1000.0, 1000.0, 1000.0, 999.0, 999.0, 999.0, 999.0, 999.0, 999.0, 999.0, 998.0, 1000.0, 1000.0, 1000.0, 1000.0, 1000.0, 1000.0, 1000.0, 1000.0, 1000.0, 1000.0, 1000.0, 1000.0, 1000.0, 1000.0, 1000.0, 1000.0, 1000.0, 1000.0, 1000.0, 1000.0, 1002.0, 1002.0, 1002.0, 1002.0, 1002.0, 1002.0, 1002.0, 1002.0, 1002.0, 1002.0, 1002.0, 1002.0, 1002.0, 1002.0, 1002.0, 1002.0, 1002.0, 1002.0, 1002.0, 1002.0, 1002.0, 1002.0, 1002.0, 1002.0, 1002.0, 1002.0, 1002.0, 1002.0, 1002.0, 1002.0, 1002.0, 1002.0, 1002.0, 1002.0, 1002.0, 1002.0, 1002.0, 1002.0, 1002.0, 1001.0, 1001.0, 1001.0, 1001.0, 1001.0, 1001.0, 1001.0, 1001.0, 1001.0, 1001.0, 1001.0, 1000.0, 1000.0, 1000.0, 1000.0, 1000.0, 1000.0, 1001.0, 1001.0, 1001.0, 1000.0, 1000.0, 1000.0, 1000.0, 1000.0, 1002.0, 1000.0, 1000.0, 1000.0, 1000.0, 1000.0, 1000.0, 1000.0, 1000.0, 1000.0, 1000.0, 1000.0, 1000.0, 1000.0, 1000.0, 1000.0, 1000.0, 1000.0, 1000.0, 1000.0, 1000.0, 1000.0, 1000.0, 1000.0, 1000.0, 1000.0, 1000.0, 1000.0, 1000.0, 1000.0, 1000.0, 1000.0, 1000.0, 1000.0, 1000.0, 1000.0, 1000.0, 1000.0, 1001.0, 1001.0, 1000.0, 1001.0, 1001.0, 1001.0, 1001.0, 1001.0, 1001.0, 1000.0, 1000.0, 1000.0, 1000.0, 1000.0, 1001.0, 1001.0, 1000.0, 1000.0, 1000.0, 1000.0, 1000.0, 1000.0, 1000.0, 1000.0, 1000.0, 1000.0, 1000.0, 1000.0, 999.0, 999.0, 999.0, 999.0, 999.0, 999.0, 999.0, 999.0, 999.0, 999.0, 999.0, 999.0, 999.0, 999.0, 999.0, 999.0, 999.0, 999.0, 999.0, 999.0, 999.0, 999.0, 999.0, 999.0, 998.0, 998.0, 998.0, 998.0, 998.0, 998.0, 998.0, 998.0, 998.0, 998.0, 998.0, 998.0, 998.0, 998.0, 998.0, 998.0, 998.0, 998.0, 998.0, 998.0, 998.0, 998.0, 998.0, 998.0, 1000.0, 1000.0, 999.0, 999.0, 999.0, 998.0, 998.0, 998.0, 998.0, 998.0, 998.0, 997.0, 997.0, 997.0, 997.0, 997.0, 997.0, 997.0, 997.0, 997.0, 997.0, 997.0, 997.0, 997.0, 997.0, 998.0, 998.0, 998.0, 998.0, 998.0, 998.0, 998.0, 997.0, 999.0, 999.0, 999.0, 999.0, 999.0, 999.0, 999.0, 999.0, 1000.0, 1000.0, 1000.0, 999.0, 1000.0, 1000.0, 1000.0, 1000.0, 1000.0, 1000.0, 1000.0, 1000.0, 1000.0, 1000.0, 1000.0, 1000.0, 1000.0, 1000.0, 1000.0, 1000.0, 1000.0, 1000.0, 1000.0, 1000.0, 1000.0, 1000.0, 1000.0, 1000.0, 1000.0, 1000.0, 1000.0, 1000.0, 1000.0, 1000.0, 1000.0, 1000.0, 1000.0, 1000.0, 1000.0, 1000.0, 1000.0, 1000.0, 1000.0, 1000.0, 1000.0, 1000.0, 1000.0, 1000.0, 1000.0, 1000.0, 1000.0, 1000.0, 1000.0, 1000.0, 1000.0, 1000.0, 999.0, 999.0, 999.0, 999.0, 999.0, 999.0, 1000.0, 999.0, 999.0, 999.0, 999.0, 999.0, 999.0, 999.0, 999.0, 999.0, 999.0, 999.0, 999.0, 999.0, 999.0, 999.0, 999.0, 999.0, 999.0, 999.0, 999.0, 999.0, 999.0, 999.0, 999.0, 999.0, 999.0, 999.0, 999.0, 999.0, 999.0, 999.0, 999.0, 999.0, 999.0, 999.0, 999.0, 999.0, 999.0, 999.0, 999.0, 999.0, 999.0, 999.0, 999.0, 999.0, 999.0, 999.0, 998.0, 998.0, 998.0, 998.0, 998.0, 998.0, 998.0, 998.0, 998.0, 999.0, 998.0, 998.0, 998.0, 998.0, 998.0, 998.0, 998.0, 997.0, 997.0, 997.0, 998.0, 997.0, 997.0, 997.0, 997.0, 997.0, 997.0, 997.0, 997.0, 997.0, 997.0, 997.0, 997.0]\n",
            "[29.68, 29.68, 30.0, 31.2, 32.03, 32.03, 32.03, 28.91, 28.91, 28.91, 28.91, 28.91, 28.96, 28.96, 28.96, 28.96, 28.96, 28.96, 30.88, 32.0, 31.28, 31.57, 31.57, 31.57, 31.56, 31.28, 31.28, 31.48, 31.48, 31.48, 31.48, 32.49, 32.49, 32.49, 32.49, 31.49, 32.49, 32.49, 32.49, 32.49, 32.49, 32.49, 32.49, 32.49, 32.55, 32.55, 32.55, 32.55, 32.55, 32.55, 32.55, 32.98, 32.98, 32.98, 32.98, 32.98, 32.98, 32.98, 32.98, 33.49, 33.49, 33.49, 30.21, 30.21, 29.56, 29.56, 30.2, 30.2, 30.2, 30.2, 30.2, 30.2, 30.2, 30.2, 30.22, 30.22, 30.2, 30.2, 30.2, 33.98, 34.49, 34.49, 34.49, 33.98, 33.98, 33.98, 34.49, 34.49, 34.49, 34.49, 34.49, 34.49, 34.49, 34.49, 32.04, 32.04, 32.11, 28.91, 28.91, 28.91, 28.97, 28.97, 28.97, 32.64, 34.49, 34.49, 34.49, 34.49, 34.49, 33.98, 33.98, 33.98, 34.49, 34.49, 34.49, 34.49, 34.49, 34.49, 34.49, 34.49, 34.49, 34.49, 34.49, 34.49, 31.56, 31.56, 31.56, 31.56, 31.56, 31.56, 31.28, 31.28, 31.49, 31.48, 31.48, 31.48, 32.49, 32.49, 32.49, 32.49, 32.49, 32.49, 32.49, 32.49, 32.49, 32.49, 31.49, 31.49, 31.49, 31.49, 31.49, 32.49, 32.49, 32.49, 32.49, 32.49, 32.49, 32.55, 32.55, 32.55, 32.55, 32.55, 32.49, 32.98, 32.98, 32.98, 32.98, 32.98, 32.98, 32.98, 32.98, 32.98, 32.98, 32.98, 33.49, 33.49, 33.49, 33.49, 33.49, 33.49, 32.98, 32.98, 32.98, 34.0, 34.0, 34.0, 34.0, 34.0, 31.16, 33.98, 34.49, 34.49, 34.49, 33.98, 33.98, 33.98, 34.49, 34.49, 34.49, 34.49, 34.49, 34.49, 34.49, 34.49, 30.43, 30.43, 31.03, 31.03, 31.03, 31.03, 31.03, 31.03, 31.03, 31.03, 30.72, 30.72, 31.03, 31.03, 30.2, 30.39, 30.39, 30.39, 30.39, 30.38, 30.38, 30.38, 30.13, 30.13, 30.2, 30.17, 30.17, 30.17, 29.96, 29.96, 29.96, 31.06, 31.06, 31.06, 30.75, 30.75, 30.17, 30.17, 30.76, 30.76, 30.75, 30.75, 31.06, 31.06, 31.06, 31.06, 31.06, 31.06, 31.06, 30.76, 31.06, 31.06, 31.06, 31.06, 31.06, 31.45, 31.45, 31.45, 31.82, 31.82, 31.06, 31.06, 31.79, 31.79, 31.79, 31.79, 31.79, 31.83, 31.83, 31.83, 31.81, 31.81, 31.79, 31.79, 31.81, 31.82, 31.82, 31.82, 31.82, 32.12, 32.12, 32.51, 32.51, 32.51, 31.81, 31.81, 32.18, 32.2, 32.2, 32.2, 32.21, 32.21, 32.21, 32.42, 32.42, 32.42, 32.42, 32.18, 33.98, 33.98, 33.74, 33.74, 33.74, 34.39, 34.39, 34.63, 33.91, 33.91, 33.54, 33.67, 33.67, 33.67, 33.61, 33.61, 33.61, 33.67, 33.67, 33.67, 33.64, 33.89, 33.89, 33.35, 33.35, 33.31, 33.31, 33.31, 33.31, 33.35, 33.35, 33.35, 33.89, 30.27, 30.27, 30.04, 30.04, 30.04, 30.51, 30.51, 30.51, 30.33, 30.33, 30.33, 30.27, 30.03, 30.03, 30.04, 30.04, 30.04, 30.56, 30.56, 30.56, 30.48, 30.48, 30.48, 30.03, 30.5, 30.5, 30.47, 30.47, 30.47, 30.48, 30.48, 30.27, 30.27, 30.27, 30.5, 30.44, 30.44, 30.6, 30.6, 30.6, 30.6, 30.6, 30.6, 31.26, 31.26, 31.26, 30.44, 31.0, 31.0, 31.25, 31.25, 31.25, 31.0, 31.0, 31.0, 32.49, 32.49, 32.49, 31.0, 32.49, 32.49, 33.0, 33.0, 33.0, 32.98, 32.98, 32.98, 32.98, 32.98, 32.98, 32.49, 33.98, 33.98, 33.98, 33.98, 33.98, 33.98, 33.98, 33.98, 33.98, 33.98, 33.98, 33.98, 33.98, 33.98, 33.98, 33.98, 33.98, 33.98, 33.98, 33.98, 33.98, 31.28, 31.28, 31.28, 31.28, 31.28, 31.28, 31.28, 31.28, 31.22, 31.22, 31.22, 31.28, 28.75, 28.75, 28.75, 28.75, 28.75, 28.67, 28.67, 28.67, 28.66, 28.66, 28.66, 28.75, 28.57, 28.57, 28.61, 28.61, 28.61, 29.51, 29.51, 29.51, 29.11, 29.11, 29.11, 28.57, 29.3, 29.3, 29.3, 29.3, 30.85, 30.85, 30.85, 30.26, 30.26, 30.26, 29.3, 30.45, 30.45, 30.46, 30.46, 30.46, 30.42, 30.42, 30.42, 30.79, 30.79, 30.79, 30.45]\n",
            "[60.0, 60.0, 90.0, 70.0, 70.0, 70.0, 70.0, 60.0, 60.0, 60.0, 60.0, 60.0, 70.0, 70.0, 70.0, 70.0, 70.0, 70.0, 40.0, 110.0, 110.0, 90.0, 90.0, 90.0, 90.0, 110.0, 110.0, 70.0, 70.0, 70.0, 70.0, 50.0, 50.0, 50.0, 50.0, 70.0, 50.0, 50.0, 50.0, 50.0, 50.0, 50.0, 50.0, 50.0, 90.0, 90.0, 90.0, 90.0, 90.0, 90.0, 90.0, 90.0, 90.0, 90.0, 90.0, 90.0, 90.0, 90.0, 90.0, 100.0, 100.0, 100.0, 80.0, 80.0, 60.0, 60.0, 110.0, 110.0, 110.0, 110.0, 110.0, 110.0, 110.0, 110.0, 70.0, 70.0, 110.0, 110.0, 110.0, 170.0, 90.0, 90.0, 90.0, 170.0, 170.0, 170.0, 90.0, 90.0, 90.0, 90.0, 90.0, 90.0, 100.0, 100.0, 90.0, 90.0, 90.0, 60.0, 60.0, 60.0, 70.0, 70.0, 70.0, 90.0, 90.0, 90.0, 90.0, 90.0, 90.0, 170.0, 170.0, 170.0, 90.0, 90.0, 90.0, 90.0, 90.0, 90.0, 90.0, 90.0, 90.0, 90.0, 100.0, 100.0, 90.0, 90.0, 90.0, 90.0, 90.0, 90.0, 110.0, 110.0, 70.0, 70.0, 70.0, 70.0, 50.0, 50.0, 50.0, 50.0, 50.0, 50.0, 50.0, 50.0, 50.0, 50.0, 70.0, 70.0, 70.0, 70.0, 70.0, 50.0, 50.0, 50.0, 50.0, 50.0, 50.0, 90.0, 90.0, 90.0, 90.0, 90.0, 50.0, 90.0, 90.0, 90.0, 90.0, 90.0, 90.0, 90.0, 90.0, 90.0, 90.0, 90.0, 100.0, 100.0, 100.0, 100.0, 100.0, 100.0, 90.0, 90.0, 90.0, 60.0, 60.0, 60.0, 60.0, 60.0, 80.0, 170.0, 90.0, 90.0, 90.0, 170.0, 170.0, 170.0, 90.0, 90.0, 90.0, 90.0, 90.0, 90.0, 100.0, 100.0, 100.0, 100.0, 80.0, 80.0, 80.0, 80.0, 80.0, 80.0, 80.0, 80.0, 80.0, 80.0, 80.0, 80.0, 50.0, 50.0, 50.0, 50.0, 50.0, 50.0, 50.0, 50.0, 120.0, 120.0, 50.0, 120.0, 120.0, 120.0, 120.0, 120.0, 120.0, 110.0, 110.0, 110.0, 110.0, 110.0, 120.0, 120.0, 120.0, 120.0, 120.0, 120.0, 120.0, 120.0, 120.0, 120.0, 110.0, 110.0, 110.0, 120.0, 100.0, 100.0, 100.0, 100.0, 100.0, 120.0, 120.0, 120.0, 120.0, 120.0, 100.0, 100.0, 120.0, 120.0, 120.0, 120.0, 120.0, 120.0, 120.0, 120.0, 120.0, 120.0, 120.0, 120.0, 130.0, 130.0, 130.0, 130.0, 130.0, 130.0, 130.0, 110.0, 110.0, 110.0, 130.0, 130.0, 110.0, 110.0, 110.0, 110.0, 100.0, 100.0, 100.0, 100.0, 100.0, 100.0, 100.0, 110.0, 170.0, 170.0, 70.0, 70.0, 70.0, 80.0, 80.0, 80.0, 40.0, 40.0, 70.0, 70.0, 70.0, 70.0, 110.0, 110.0, 110.0, 110.0, 110.0, 110.0, 70.0, 110.0, 110.0, 90.0, 90.0, 70.0, 70.0, 70.0, 70.0, 70.0, 70.0, 70.0, 110.0, 100.0, 100.0, 100.0, 100.0, 100.0, 100.0, 100.0, 100.0, 100.0, 100.0, 100.0, 100.0, 130.0, 130.0, 130.0, 130.0, 130.0, 120.0, 120.0, 120.0, 120.0, 120.0, 120.0, 130.0, 80.0, 80.0, 80.0, 80.0, 80.0, 80.0, 80.0, 100.0, 100.0, 100.0, 80.0, 100.0, 100.0, 140.0, 140.0, 140.0, 140.0, 140.0, 140.0, 140.0, 140.0, 140.0, 100.0, 140.0, 140.0, 140.0, 140.0, 140.0, 140.0, 140.0, 140.0, 120.0, 120.0, 120.0, 140.0, 120.0, 120.0, 150.0, 150.0, 150.0, 40.0, 40.0, 40.0, 40.0, 40.0, 40.0, 120.0, 90.0, 90.0, 90.0, 90.0, 90.0, 90.0, 90.0, 90.0, 70.0, 70.0, 70.0, 90.0, 70.0, 70.0, 70.0, 70.0, 70.0, 70.0, 70.0, 70.0, 70.0, 30.0, 30.0, 30.0, 30.0, 30.0, 30.0, 30.0, 30.0, 290.0, 290.0, 290.0, 30.0, 270.0, 270.0, 270.0, 270.0, 270.0, 230.0, 230.0, 230.0, 230.0, 230.0, 230.0, 270.0, 230.0, 230.0, 350.0, 350.0, 350.0, 350.0, 350.0, 350.0, 20.0, 20.0, 20.0, 230.0, 20.0, 20.0, 20.0, 20.0, 20.0, 20.0, 20.0, 40.0, 40.0, 40.0, 20.0, 20.0, 20.0, 20.0, 20.0, 20.0, 20.0, 20.0, 20.0, 60.0, 60.0, 60.0, 20.0]\n",
            "[4.1, 4.1, 1.5, 3.1, 4.1, 4.1, 4.1, 2.6, 2.6, 2.6, 2.6, 2.6, 2.6, 2.6, 2.6, 2.6, 2.6, 2.6, 4.1, 5.7, 2.6, 2.1, 2.1, 2.1, 2.1, 2.6, 2.6, 2.6, 2.6, 2.6, 2.6, 2.1, 2.1, 2.1, 2.1, 2.6, 3.6, 3.6, 3.6, 3.6, 3.6, 3.6, 3.6, 3.6, 4.1, 4.1, 4.1, 4.1, 4.1, 4.1, 4.1, 2.1, 2.1, 2.1, 2.1, 2.1, 2.1, 2.1, 2.1, 2.1, 2.1, 2.1, 3.1, 3.1, 2.1, 2.1, 2.1, 2.1, 2.1, 2.1, 2.1, 2.1, 2.1, 2.1, 2.6, 2.6, 2.1, 2.1, 2.1, 3.6, 2.1, 2.1, 2.1, 3.6, 3.6, 3.6, 2.1, 2.1, 2.1, 2.1, 2.1, 2.1, 2.1, 2.1, 5.1, 5.1, 5.1, 2.6, 2.6, 2.6, 2.6, 2.6, 2.6, 2.1, 2.1, 2.1, 2.1, 2.1, 2.1, 3.6, 3.6, 3.6, 2.1, 2.1, 2.1, 2.1, 2.1, 2.1, 2.1, 2.1, 2.1, 2.1, 2.1, 2.1, 2.1, 2.1, 2.1, 2.1, 2.1, 2.1, 2.6, 2.6, 2.6, 2.6, 2.6, 2.6, 2.1, 2.1, 2.1, 2.1, 2.1, 2.1, 2.1, 2.1, 2.1, 2.1, 2.6, 2.6, 2.6, 2.6, 2.6, 3.6, 3.6, 3.6, 3.6, 3.6, 3.6, 4.1, 4.1, 4.1, 4.1, 4.1, 3.6, 2.1, 2.1, 2.1, 2.1, 2.1, 2.1, 2.1, 2.1, 2.1, 2.1, 2.1, 2.1, 2.1, 2.1, 2.1, 2.1, 2.1, 2.1, 2.1, 2.1, 3.6, 3.6, 3.6, 3.6, 3.6, 3.1, 3.6, 2.1, 2.1, 2.1, 3.6, 3.6, 3.6, 2.1, 2.1, 2.1, 2.1, 2.1, 2.1, 2.1, 2.1, 3.6, 3.6, 4.1, 4.1, 4.1, 4.1, 4.1, 4.1, 4.1, 4.1, 5.1, 5.1, 4.1, 4.1, 6.2, 6.2, 6.2, 6.2, 6.2, 6.2, 6.2, 6.2, 2.6, 2.6, 6.2, 2.6, 2.6, 2.6, 2.6, 2.6, 2.6, 5.7, 5.7, 5.7, 5.7, 5.7, 2.6, 2.6, 3.6, 3.6, 3.6, 3.6, 3.6, 3.6, 3.6, 3.6, 3.6, 3.6, 3.6, 3.6, 4.6, 4.6, 4.6, 4.6, 4.6, 4.6, 4.6, 4.6, 4.6, 4.6, 4.6, 4.6, 4.1, 4.1, 4.1, 4.1, 4.1, 4.1, 4.1, 4.1, 4.6, 4.6, 4.1, 4.1, 4.1, 4.1, 4.1, 4.1, 4.1, 4.1, 4.1, 2.6, 2.6, 2.6, 4.1, 4.1, 2.1, 2.1, 2.1, 2.1, 4.1, 4.1, 4.1, 4.1, 4.1, 4.1, 4.1, 2.1, 3.6, 3.6, 2.6, 2.6, 2.6, 2.6, 2.6, 2.6, 3.1, 3.1, 2.6, 2.1, 2.1, 2.1, 1.5, 1.5, 1.5, 1.5, 1.5, 1.5, 2.1, 1.5, 1.5, 2.1, 2.1, 2.1, 2.1, 2.1, 2.1, 2.1, 2.1, 2.1, 1.5, 2.6, 2.6, 2.6, 2.6, 2.6, 2.6, 2.6, 2.6, 1.5, 1.5, 1.5, 2.6, 2.1, 2.1, 2.1, 2.1, 2.1, 2.1, 2.1, 2.1, 2.1, 2.1, 2.1, 2.1, 2.1, 2.1, 2.1, 2.1, 2.1, 2.1, 2.1, 1.0, 1.0, 1.0, 2.1, 1.0, 1.0, 1.0, 1.0, 1.0, 1.0, 1.0, 1.0, 2.1, 2.1, 2.1, 1.0, 2.6, 2.6, 2.6, 2.6, 2.6, 2.6, 2.6, 2.6, 2.6, 2.6, 2.6, 2.6, 2.6, 2.6, 1.5, 1.5, 1.5, 2.1, 2.1, 2.1, 2.1, 2.1, 2.1, 2.6, 1.5, 1.5, 1.5, 1.5, 1.5, 1.5, 1.5, 1.5, 5.1, 5.1, 5.1, 1.5, 4.1, 4.1, 4.1, 4.1, 4.1, 4.1, 4.1, 4.1, 4.1, 2.6, 2.6, 2.6, 2.6, 2.6, 2.6, 2.6, 2.6, 3.1, 3.1, 3.1, 2.6, 2.6, 2.6, 2.6, 2.6, 2.6, 1.5, 1.5, 1.5, 1.5, 1.5, 1.5, 2.6, 1.5, 1.5, 1.0, 1.0, 1.0, 1.0, 1.0, 1.0, 1.0, 1.0, 1.0, 1.5, 1.0, 1.0, 1.0, 1.0, 1.0, 1.0, 1.0, 2.6, 2.6, 2.6, 1.0, 1.0, 1.0, 1.0, 1.0, 1.0, 1.0, 1.0, 1.0, 1.5, 1.5, 1.5, 1.0]\n",
            "[47.0, 47.0, 47.0, 47.0, 64.0, 64.0, 64.0, 75.0, 75.0, 75.0, 75.0, 75.0, 81.0, 81.0, 81.0, 81.0, 81.0, 81.0, 38.0, 38.0, 35.0, 44.0, 29.0, 38.0, 41.0, 50.0, 47.0, 38.0, 38.0, 32.0, 32.0, 38.0, 56.0, 53.0, 47.0, 35.0, 60.0, 41.0, 44.0, 64.0, 63.0, 38.0, 35.0, 35.0, 29.0, 23.0, 32.0, 32.0, 29.0, 26.0, 32.0, 29.0, 29.0, 29.0, 26.0, 29.0, 29.0, 23.0, 23.0, 14.0, 17.0, 17.0, 38.0, 38.0, 41.0, 41.0, 38.0, 38.0, 38.0, 63.0, 44.0, 44.0, 41.0, 41.0, 56.0, 56.0, 32.0, 32.0, 32.0, 94.0, 94.0, 87.0, 97.0, 88.0, 93.0, 82.0, 81.0, 75.0, 76.0, 84.0, 78.0, 78.0, 73.0, 75.0, 66.0, 63.0, 66.0, 72.0, 72.0, 76.0, 81.0, 81.0, 81.0, 96.0, 94.0, 87.0, 97.0, 90.0, 90.0, 88.0, 76.0, 76.0, 81.0, 81.0, 79.0, 75.0, 73.0, 84.0, 79.0, 79.0, 75.0, 76.0, 69.0, 78.0, 61.0, 69.0, 64.0, 76.0, 78.0, 63.0, 63.0, 63.0, 60.0, 58.0, 57.0, 53.0, 58.0, 58.0, 57.0, 60.0, 60.0, 60.0, 57.0, 57.0, 57.0, 56.0, 56.0, 56.0, 53.0, 56.0, 53.0, 56.0, 56.0, 38.0, 38.0, 44.0, 38.0, 44.0, 44.0, 44.0, 44.0, 44.0, 44.0, 44.0, 44.0, 44.0, 44.0, 44.0, 44.0, 44.0, 44.0, 44.0, 44.0, 44.0, 44.0, 44.0, 44.0, 44.0, 44.0, 44.0, 44.0, 44.0, 44.0, 44.0, 44.0, 44.0, 44.0, 44.0, 44.0, 44.0, 44.0, 44.0, 44.0, 44.0, 44.0, 44.0, 44.0, 44.0, 44.0, 44.0, 44.0, 44.0, 44.0, 44.0, 35.0, 14.0, 50.0, 61.0, 66.0, 72.0, 69.0, 63.0, 64.0, 66.0, 58.0, 58.0, 60.0, 61.0, 60.0, 56.0, 44.0, 47.0, 50.0, 47.0, 38.0, 38.0, 32.0, 32.0, 26.0, 23.0, 26.0, 20.0, 17.0, 20.0, 20.0, 20.0, 20.0, 20.0, 23.0, 23.0, 20.0, 20.0, 20.0, 20.0, 20.0, 20.0, 20.0, 23.0, 23.0, 20.0, 23.0, 20.0, 17.0, 17.0, 17.0, 17.0, 17.0, 17.0, 17.0, 14.0, 14.0, 11.0, 11.0, 14.0, 14.0, 17.0, 17.0, 14.0, 14.0, 17.0, 17.0, 17.0, 17.0, 17.0, 17.0, 17.0, 17.0, 20.0, 17.0, 20.0, 20.0, 17.0, 17.0, 17.0, 17.0, 23.0, 14.0, 17.0, 17.0, 17.0, 20.0, 20.0, 23.0, 20.0, 20.0, 23.0, 26.0, 26.0, 26.0, 20.0, 20.0, 17.0, 96.0, 94.0, 63.0, 64.0, 67.0, 58.0, 58.0, 32.0, 35.0, 35.0, 35.0, 41.0, 41.0, 41.0, 41.0, 41.0, 44.0, 41.0, 41.0, 41.0, 38.0, 38.0, 41.0, 38.0, 38.0, 35.0, 72.0, 66.0, 32.0, 32.0, 32.0, 32.0, 32.0, 96.0, 96.0, 96.0, 96.0, 97.0, 100.0, 102.0, 102.0, 102.0, 105.0, 107.0, 105.0, 102.0, 107.0, 107.0, 105.0, 100.0, 107.0, 105.0, 105.0, 109.0, 109.0, 105.0, 102.0, 103.0, 103.0, 100.0, 99.0, 96.0, 102.0, 90.0, 94.0, 91.0, 91.0, 90.0, 91.0, 90.0, 90.0, 82.0, 84.0, 82.0, 82.0, 81.0, 76.0, 76.0, 72.0, 69.0, 70.0, 69.0, 69.0, 69.0, 69.0, 66.0, 66.0, 66.0, 60.0, 64.0, 76.0, 67.0, 64.0, 66.0, 67.0, 64.0, 63.0, 64.0, 67.0, 61.0, 63.0, 57.0, 61.0, 63.0, 63.0, 63.0, 58.0, 57.0, 61.0, 60.0, 63.0, 66.0, 67.0, 72.0, 75.0, 75.0, 78.0, 78.0, 84.0, 82.0, 85.0, 76.0, 82.0, 69.0, 64.0, 50.0, 41.0, 29.0, 35.0, 35.0, 29.0, 29.0, 26.0, 32.0, 29.0, 29.0, 35.0, 32.0, 32.0, 38.0, 41.0, 47.0, 47.0, 56.0, 56.0, 57.0, 58.0, 58.0, 61.0, 64.0, 61.0, 61.0, 61.0, 64.0, 63.0, 66.0, 64.0, 64.0, 67.0, 69.0, 72.0, 72.0, 73.0, 75.0, 75.0, 88.0, 87.0, 87.0, 88.0, 88.0, 91.0, 96.0, 94.0, 94.0, 90.0, 99.0, 91.0, 100.0, 99.0, 103.0, 102.0, 105.0, 100.0, 105.0]\n",
            "[47.0, 47.0, 47.0, 47.0, 29.0, 29.0, 29.0, 61.0, 61.0, 61.0, 61.0, 61.0, 66.0, 66.0, 66.0, 66.0, 66.0, 66.0, 38.0, 38.0, 38.0, 38.0, 38.0, 38.0, 38.0, 38.0, 38.0, 135.0, 135.0, 35.0, 35.0, 44.0, 35.0, 35.0, 41.0, 47.0, 47.0, 35.0, 35.0, 38.0, 38.0, 32.0, 32.0, 32.0, 38.0, 38.0, 53.0, 53.0, 53.0, 47.0, 38.0, 44.0, 41.0, 38.0, 64.0, 64.0, 64.0, 35.0, 35.0, 29.0, 29.0, 29.0, 38.0, 38.0, 38.0, 38.0, 38.0, 38.0, 38.0, 38.0, 38.0, 38.0, 38.0, 38.0, 38.0, 38.0, 41.0, 41.0, 41.0, 96.0, 96.0, 96.0, 96.0, 96.0, 96.0, 96.0, 96.0, 96.0, 96.0, 96.0, 96.0, 96.0, 96.0, 96.0, 44.0, 44.0, 44.0, 44.0, 44.0, 44.0, 44.0, 44.0, 44.0, 44.0, 44.0, 44.0, 44.0, 44.0, 44.0, 44.0, 44.0, 44.0, 44.0, 44.0, 44.0, 44.0, 44.0, 44.0, 44.0, 44.0, 44.0, 44.0, 44.0, 44.0, 44.0, 44.0, 44.0, 44.0, 44.0, 44.0, 44.0, 44.0, 41.0, 41.0, 41.0, 41.0, 72.0, 72.0, 72.0, 72.0, 72.0, 72.0, 72.0, 72.0, 61.0, 63.0, 63.0, 58.0, 63.0, 63.0, 47.0, 67.0, 67.0, 57.0, 57.0, 57.0, 53.0, 60.0, 60.0, 35.0, 57.0, 56.0, 53.0, 58.0, 58.0, 50.0, 50.0, 50.0, 35.0, 35.0, 35.0, 38.0, 38.0, 38.0, 44.0, 44.0, 44.0, 44.0, 44.0, 44.0, 44.0, 44.0, 44.0, 44.0, 44.0, 44.0, 44.0, 44.0, 44.0, 44.0, 44.0, 44.0, 44.0, 44.0, 44.0, 44.0, 44.0, 44.0, 44.0, 44.0, 44.0, 44.0, 44.0, 44.0, 38.0, 35.0, 35.0, 38.0, 38.0, 47.0, 44.0, 44.0, 44.0, 38.0, 41.0, 38.0, 35.0, 14.0, 50.0, 61.0, 64.0, 70.0, 70.0, 63.0, 78.0, 66.0, 56.0, 56.0, 60.0, 60.0, 60.0, 56.0, 44.0, 50.0, 50.0, 50.0, 44.0, 38.0, 32.0, 32.0, 26.0, 26.0, 26.0, 20.0, 17.0, 20.0, 20.0, 23.0, 20.0, 20.0, 23.0, 20.0, 20.0, 20.0, 20.0, 20.0, 20.0, 20.0, 20.0, 23.0, 20.0, 20.0, 20.0, 20.0, 17.0, 17.0, 17.0, 17.0, 17.0, 17.0, 17.0, 14.0, 14.0, 11.0, 11.0, 14.0, 14.0, 17.0, 17.0, 14.0, 14.0, 14.0, 17.0, 17.0, 17.0, 17.0, 17.0, 17.0, 20.0, 20.0, 20.0, 20.0, 20.0, 17.0, 17.0, 17.0, 17.0, 14.0, 14.0, 17.0, 17.0, 17.0, 96.0, 96.0, 78.0, 76.0, 69.0, 69.0, 57.0, 57.0, 66.0, 64.0, 32.0, 35.0, 35.0, 35.0, 35.0, 35.0, 35.0, 41.0, 41.0, 41.0, 41.0, 41.0, 41.0, 41.0, 41.0, 41.0, 41.0, 41.0, 44.0, 41.0, 41.0, 41.0, 38.0, 102.0, 99.0, 97.0, 94.0, 93.0, 94.0, 96.0, 96.0, 90.0, 96.0, 97.0, 94.0, 96.0, 96.0, 96.0, 96.0, 97.0, 100.0, 102.0, 102.0, 102.0, 105.0, 107.0, 105.0, 102.0, 107.0, 107.0, 105.0, 100.0, 107.0, 105.0, 109.0, 109.0, 105.0, 102.0, 103.0, 103.0, 100.0, 99.0, 96.0, 102.0, 96.0, 90.0, 94.0, 91.0, 91.0, 90.0, 91.0, 90.0, 90.0, 82.0, 84.0, 82.0, 82.0, 81.0, 76.0, 76.0, 72.0, 69.0, 70.0, 69.0, 69.0, 69.0, 69.0, 66.0, 66.0, 66.0, 60.0, 64.0, 76.0, 67.0, 64.0, 66.0, 67.0, 64.0, 63.0, 64.0, 67.0, 61.0, 63.0, 57.0, 61.0, 63.0, 63.0, 63.0, 58.0, 57.0, 61.0, 60.0, 63.0, 66.0, 75.0, 78.0, 78.0, 84.0, 82.0, 85.0, 76.0, 82.0, 69.0, 69.0, 66.0, 70.0, 64.0, 50.0, 41.0, 29.0, 35.0, 35.0, 29.0, 29.0, 26.0, 32.0, 29.0, 29.0, 35.0, 32.0, 32.0, 38.0, 41.0, 47.0, 47.0, 56.0, 56.0, 57.0, 58.0, 58.0, 61.0, 64.0, 61.0, 61.0, 61.0, 63.0, 66.0, 64.0, 64.0, 67.0, 69.0, 72.0, 72.0, 73.0, 75.0, 75.0, 76.0, 88.0, 87.0, 87.0, 88.0, 88.0, 91.0, 96.0]\n"
          ],
          "name": "stdout"
        }
      ]
    },
    {
      "cell_type": "code",
      "metadata": {
        "id": "PAhWOZEkVc90",
        "colab_type": "code",
        "colab": {}
      },
      "source": [
        "##SSCB \n",
        "df = pd.read_csv('/content/sscb_labels.csv')\n",
        "data = df.mask(df.eq('None')).dropna()\n",
        "file = data.to_csv('/content/sscb_labels_new.csv')\n",
        "\n",
        "k=0\n",
        "cpcb=[]\n",
        "val = '61'\n",
        "with open('/content/sscb_labels_new.csv') as file:\n",
        "  reader = csv.reader(file, delimiter =',')\n",
        "  for row in reader:\n",
        "    k+=1\n",
        "    if(k>3):\n",
        "      l=[]\n",
        "      l.append(row[1]) #DATE \n",
        "      l.append(row[3]) #PM\n",
        "      l.append(val)\n",
        "      if(k%5==0):\n",
        "        val=row[3]\n",
        "      cpcb.append(l) "
      ],
      "execution_count": 0,
      "outputs": []
    },
    {
      "cell_type": "code",
      "metadata": {
        "id": "21pWKU-OXfJJ",
        "colab_type": "code",
        "outputId": "dd6c09fa-519b-48b7-f887-74101e614cc5",
        "colab": {
          "base_uri": "https://localhost:8080/",
          "height": 54
        }
      },
      "source": [
        "print(cpcb)"
      ],
      "execution_count": 155,
      "outputs": [
        {
          "output_type": "stream",
          "text": [
            "[['27-06-2019 00:00', '61', '61'], ['27-06-2019 00:15', '61', '61'], ['27-06-2019 00:30', '61', '61'], ['27-06-2019 00:45', '61', '61'], ['27-06-2019 01:00', '53', '61'], ['27-06-2019 01:15', '53', '61'], ['27-06-2019 01:30', '53', '61'], ['27-06-2019 01:45', '53', '53'], ['27-06-2019 02:00', '68', '53'], ['27-06-2019 02:15', '68', '53'], ['27-06-2019 02:30', '68', '53'], ['27-06-2019 02:45', '68', '53'], ['27-06-2019 03:00', '72', '68'], ['27-06-2019 03:15', '72', '68'], ['27-06-2019 03:30', '72', '68'], ['27-06-2019 03:45', '72', '68'], ['27-06-2019 04:00', '69', '68'], ['27-06-2019 04:15', '69', '69'], ['27-06-2019 04:30', '69', '69'], ['27-06-2019 04:45', '69', '69'], ['27-06-2019 05:00', '73', '69'], ['27-06-2019 05:15', '73', '69'], ['27-06-2019 05:30', '73', '73'], ['27-06-2019 05:45', '73', '73'], ['27-06-2019 06:00', '161', '73'], ['27-06-2019 06:15', '161', '73'], ['27-06-2019 06:30', '161', '73'], ['27-06-2019 06:45', '161', '161'], ['27-06-2019 07:00', '103', '161'], ['27-06-2019 07:15', '103', '161'], ['27-06-2019 07:30', '103', '161'], ['27-06-2019 07:45', '103', '161'], ['27-06-2019 08:00', '97', '103'], ['27-06-2019 08:15', '97', '103'], ['27-06-2019 08:30', '97', '103'], ['27-06-2019 08:45', '97', '103'], ['27-06-2019 09:00', '108', '103'], ['27-06-2019 09:15', '108', '108'], ['27-06-2019 09:30', '108', '108'], ['27-06-2019 09:45', '108', '108'], ['27-06-2019 10:00', '88', '108'], ['27-06-2019 10:15', '88', '108'], ['27-06-2019 10:30', '88', '88'], ['27-06-2019 10:45', '88', '88'], ['27-06-2019 11:00', '77', '88'], ['27-06-2019 11:15', '77', '88'], ['27-06-2019 11:30', '77', '88'], ['27-06-2019 11:45', '77', '77'], ['27-06-2019 12:00', '80', '77'], ['27-06-2019 12:15', '80', '77'], ['27-06-2019 12:30', '80', '77'], ['27-06-2019 12:45', '80', '77'], ['27-06-2019 13:00', '42', '80'], ['27-06-2019 13:15', '42', '80'], ['27-06-2019 13:30', '42', '80'], ['27-06-2019 13:45', '42', '80'], ['27-06-2019 14:00', '38', '80'], ['27-06-2019 14:15', '38', '38'], ['27-06-2019 14:30', '38', '38'], ['27-06-2019 14:45', '38', '38'], ['27-06-2019 15:00', '47', '38'], ['27-06-2019 15:15', '47', '38'], ['27-06-2019 15:30', '47', '47'], ['27-06-2019 15:45', '47', '47'], ['27-06-2019 16:00', '47', '47'], ['27-06-2019 16:15', '47', '47'], ['27-06-2019 16:30', '47', '47'], ['27-06-2019 16:45', '47', '47'], ['27-06-2019 17:00', '45', '47'], ['27-06-2019 17:15', '45', '47'], ['27-06-2019 17:30', '45', '47'], ['27-06-2019 17:45', '45', '47'], ['27-06-2019 18:00', '36', '45'], ['27-06-2019 18:15', '36', '45'], ['27-06-2019 18:30', '36', '45'], ['27-06-2019 18:45', '36', '45'], ['27-06-2019 19:00', '42', '45'], ['27-06-2019 19:15', '42', '42'], ['27-06-2019 19:30', '42', '42'], ['27-06-2019 19:45', '42', '42'], ['27-06-2019 20:00', '59', '42'], ['27-06-2019 20:15', '59', '42'], ['27-06-2019 20:30', '59', '59'], ['27-06-2019 20:45', '59', '59'], ['27-06-2019 21:00', '74', '59'], ['27-06-2019 21:15', '74', '59'], ['27-06-2019 21:30', '74', '59'], ['27-06-2019 21:45', '74', '74'], ['27-06-2019 22:00', '59', '74'], ['27-06-2019 22:15', '59', '74'], ['27-06-2019 22:30', '59', '74'], ['27-06-2019 22:45', '59', '74'], ['27-06-2019 23:00', '67', '59'], ['27-06-2019 23:15', '67', '59'], ['27-06-2019 23:30', '67', '59'], ['27-06-2019 23:45', '67', '59'], ['28-06-2019 00:00', '85', '59'], ['28-06-2019 00:15', '85', '85'], ['28-06-2019 00:30', '85', '85'], ['28-06-2019 00:45', '85', '85'], ['28-06-2019 01:00', '94', '85'], ['28-06-2019 01:15', '94', '85'], ['28-06-2019 01:30', '94', '94'], ['28-06-2019 01:45', '94', '94'], ['28-06-2019 02:00', '117', '94'], ['28-06-2019 02:15', '117', '94'], ['28-06-2019 02:30', '117', '94'], ['28-06-2019 02:45', '117', '117'], ['28-06-2019 03:00', '111', '117'], ['28-06-2019 03:15', '111', '117'], ['28-06-2019 03:30', '111', '117'], ['28-06-2019 03:45', '111', '117'], ['28-06-2019 04:00', '110', '111'], ['28-06-2019 04:15', '110', '111'], ['28-06-2019 04:30', '110', '111'], ['28-06-2019 04:45', '110', '111'], ['28-06-2019 05:00', '117', '111'], ['28-06-2019 05:15', '117', '117'], ['28-06-2019 05:30', '117', '117'], ['28-06-2019 05:45', '117', '117'], ['28-06-2019 06:00', '180', '117'], ['28-06-2019 06:15', '180', '117'], ['28-06-2019 06:30', '180', '180'], ['28-06-2019 06:45', '180', '180'], ['28-06-2019 07:00', '190', '180'], ['28-06-2019 07:15', '190', '180'], ['28-06-2019 07:30', '190', '180'], ['28-06-2019 07:45', '190', '190'], ['28-06-2019 08:00', '92', '190'], ['28-06-2019 08:15', '92', '190'], ['28-06-2019 08:30', '92', '190'], ['28-06-2019 08:45', '92', '190'], ['28-06-2019 09:00', '45', '92'], ['28-06-2019 09:15', '45', '92'], ['28-06-2019 09:30', '45', '92'], ['28-06-2019 09:45', '45', '92'], ['28-06-2019 10:00', '30', '92'], ['28-06-2019 10:15', '30', '30'], ['28-06-2019 10:30', '30', '30'], ['28-06-2019 10:45', '30', '30'], ['28-06-2019 11:00', '23', '30'], ['28-06-2019 11:15', '23', '30'], ['28-06-2019 11:30', '23', '23'], ['28-06-2019 11:45', '23', '23'], ['28-06-2019 12:00', '24', '23'], ['28-06-2019 12:15', '24', '23'], ['28-06-2019 12:30', '24', '23'], ['28-06-2019 12:45', '24', '24'], ['28-06-2019 13:00', '27', '24'], ['28-06-2019 13:15', '27', '24'], ['28-06-2019 13:30', '27', '24'], ['28-06-2019 13:45', '27', '24'], ['28-06-2019 14:00', '27', '27'], ['28-06-2019 14:15', '27', '27'], ['28-06-2019 14:30', '27', '27'], ['28-06-2019 14:45', '27', '27'], ['28-06-2019 15:00', '29', '27'], ['28-06-2019 15:15', '29', '29'], ['28-06-2019 15:30', '29', '29'], ['28-06-2019 15:45', '29', '29'], ['28-06-2019 16:00', '40', '29'], ['28-06-2019 16:15', '40', '29'], ['28-06-2019 16:30', '40', '40'], ['28-06-2019 16:45', '40', '40'], ['28-06-2019 17:00', '44', '40'], ['28-06-2019 17:15', '44', '40'], ['28-06-2019 17:30', '44', '40'], ['28-06-2019 17:45', '44', '44'], ['28-06-2019 18:00', '35', '44'], ['28-06-2019 18:15', '35', '44'], ['28-06-2019 18:30', '35', '44'], ['28-06-2019 18:45', '35', '44'], ['28-06-2019 19:00', '45', '35'], ['28-06-2019 19:15', '45', '35'], ['28-06-2019 19:30', '45', '35'], ['28-06-2019 19:45', '45', '35'], ['28-06-2019 20:00', '57', '35'], ['28-06-2019 20:15', '57', '57'], ['28-06-2019 20:30', '57', '57'], ['28-06-2019 20:45', '57', '57'], ['28-06-2019 21:00', '86', '57'], ['28-06-2019 21:15', '86', '57'], ['28-06-2019 21:30', '86', '86'], ['28-06-2019 21:45', '86', '86'], ['28-06-2019 22:00', '61', '86'], ['28-06-2019 22:15', '61', '86'], ['28-06-2019 22:30', '61', '86'], ['28-06-2019 22:45', '61', '61'], ['28-06-2019 23:00', '58', '61'], ['28-06-2019 23:15', '58', '61'], ['28-06-2019 23:30', '58', '61'], ['28-06-2019 23:45', '58', '61'], ['29-06-2019 00:00', '59', '58'], ['29-06-2019 00:15', '59', '58'], ['29-06-2019 00:30', '59', '58'], ['29-06-2019 00:45', '59', '58'], ['29-06-2019 01:00', '68', '58'], ['29-06-2019 01:15', '68', '68'], ['29-06-2019 01:30', '68', '68'], ['29-06-2019 01:45', '68', '68'], ['29-06-2019 02:00', '75', '68'], ['29-06-2019 02:15', '75', '68'], ['29-06-2019 02:30', '75', '75'], ['29-06-2019 02:45', '75', '75'], ['29-06-2019 03:00', '81', '75'], ['29-06-2019 03:15', '81', '75'], ['29-06-2019 03:30', '81', '75'], ['29-06-2019 03:45', '81', '81'], ['29-06-2019 04:00', '81', '81'], ['29-06-2019 04:15', '81', '81'], ['29-06-2019 04:30', '81', '81'], ['29-06-2019 04:45', '81', '81'], ['29-06-2019 05:00', '121', '81'], ['29-06-2019 05:15', '121', '81'], ['29-06-2019 05:30', '121', '81'], ['29-06-2019 05:45', '121', '81'], ['29-06-2019 06:00', '103', '81'], ['29-06-2019 06:15', '103', '103'], ['29-06-2019 06:30', '103', '103'], ['29-06-2019 06:45', '103', '103'], ['29-06-2019 07:00', '94', '103'], ['29-06-2019 07:15', '94', '103'], ['29-06-2019 07:30', '94', '94'], ['29-06-2019 07:45', '94', '94'], ['29-06-2019 08:00', '66', '94'], ['29-06-2019 08:15', '66', '94'], ['29-06-2019 08:30', '66', '94'], ['29-06-2019 08:45', '66', '66'], ['29-06-2019 09:00', '51', '66'], ['29-06-2019 09:15', '51', '66'], ['29-06-2019 09:30', '51', '66'], ['29-06-2019 09:45', '51', '66'], ['29-06-2019 10:00', '39', '51'], ['29-06-2019 10:15', '39', '51'], ['29-06-2019 10:30', '39', '51'], ['29-06-2019 10:45', '39', '51'], ['29-06-2019 11:00', '39', '51'], ['29-06-2019 11:15', '39', '39'], ['29-06-2019 11:30', '39', '39'], ['29-06-2019 11:45', '39', '39'], ['29-06-2019 12:00', '44', '39'], ['29-06-2019 12:15', '44', '39'], ['29-06-2019 12:30', '44', '44'], ['29-06-2019 12:45', '44', '44'], ['29-06-2019 13:00', '44', '44'], ['29-06-2019 13:15', '44', '44'], ['29-06-2019 13:30', '44', '44'], ['29-06-2019 13:45', '44', '44'], ['29-06-2019 14:00', '46', '44'], ['29-06-2019 14:15', '46', '44'], ['29-06-2019 14:30', '46', '44'], ['29-06-2019 14:45', '46', '44'], ['29-06-2019 15:00', '55', '46'], ['29-06-2019 15:15', '55', '46'], ['29-06-2019 15:30', '55', '46'], ['29-06-2019 15:45', '55', '46'], ['29-06-2019 16:00', '62', '46'], ['29-06-2019 16:15', '62', '62'], ['29-06-2019 16:30', '62', '62'], ['29-06-2019 16:45', '62', '62'], ['29-06-2019 17:00', '41', '62'], ['29-06-2019 17:15', '41', '62'], ['29-06-2019 17:30', '41', '41'], ['29-06-2019 17:45', '41', '41'], ['29-06-2019 18:00', '39', '41'], ['29-06-2019 18:15', '39', '41'], ['29-06-2019 18:30', '39', '41'], ['29-06-2019 18:45', '39', '39'], ['29-06-2019 19:00', '51', '39'], ['29-06-2019 19:15', '51', '39'], ['29-06-2019 19:30', '51', '39'], ['29-06-2019 19:45', '51', '39'], ['29-06-2019 20:00', '53', '51'], ['29-06-2019 20:15', '53', '51'], ['29-06-2019 20:30', '53', '51'], ['29-06-2019 20:45', '53', '51'], ['29-06-2019 21:00', '72', '51'], ['29-06-2019 21:15', '72', '72'], ['29-06-2019 21:30', '72', '72'], ['29-06-2019 21:45', '72', '72'], ['29-06-2019 22:00', '70', '72'], ['29-06-2019 22:15', '70', '72'], ['29-06-2019 22:30', '70', '70'], ['29-06-2019 22:45', '70', '70'], ['29-06-2019 23:00', '75', '70'], ['29-06-2019 23:15', '75', '70'], ['29-06-2019 23:30', '75', '70'], ['29-06-2019 23:45', '75', '75'], ['30-06-2019 00:00', '68', '75'], ['30-06-2019 00:15', '68', '75'], ['30-06-2019 00:30', '68', '75'], ['30-06-2019 00:45', '68', '75'], ['30-06-2019 01:00', '80', '68'], ['30-06-2019 01:15', '80', '68'], ['30-06-2019 01:30', '80', '68'], ['30-06-2019 01:45', '80', '68'], ['30-06-2019 02:00', '86', '68'], ['30-06-2019 02:15', '86', '86'], ['30-06-2019 02:30', '86', '86'], ['30-06-2019 02:45', '86', '86'], ['30-06-2019 03:00', '75', '86'], ['30-06-2019 03:15', '75', '86'], ['30-06-2019 03:30', '75', '75'], ['30-06-2019 04:00', '118', '75'], ['30-06-2019 04:15', '118', '75'], ['30-06-2019 04:45', '129', '75'], ['30-06-2019 05:00', '129', '75'], ['30-06-2019 05:15', '129', '129'], ['30-06-2019 05:45', '146', '129'], ['30-06-2019 06:00', '146', '129'], ['30-06-2019 06:15', '146', '129'], ['30-06-2019 06:45', '45', '129'], ['30-06-2019 07:00', '45', '45'], ['30-06-2019 07:15', '45', '45'], ['30-06-2019 07:45', '31', '45'], ['30-06-2019 08:00', '31', '45'], ['30-06-2019 08:15', '31', '45'], ['30-06-2019 08:45', '44', '31'], ['30-06-2019 09:00', '44', '31'], ['30-06-2019 09:15', '44', '31'], ['30-06-2019 09:45', '40', '31'], ['30-06-2019 10:00', '40', '31'], ['30-06-2019 10:15', '40', '40'], ['30-06-2019 10:45', '44', '40'], ['30-06-2019 11:00', '44', '40'], ['30-06-2019 11:15', '44', '40'], ['30-06-2019 11:45', '41', '40'], ['30-06-2019 12:00', '41', '41'], ['30-06-2019 12:15', '41', '41'], ['30-06-2019 12:45', '48', '41'], ['30-06-2019 13:00', '48', '41'], ['30-06-2019 13:15', '48', '41'], ['30-06-2019 13:45', '46', '48'], ['30-06-2019 14:00', '46', '48'], ['30-06-2019 14:15', '46', '48'], ['30-06-2019 14:45', '56', '48'], ['30-06-2019 15:00', '56', '48'], ['30-06-2019 15:15', '56', '56'], ['30-06-2019 15:45', '27', '56'], ['30-06-2019 16:00', '27', '56'], ['30-06-2019 16:15', '27', '56'], ['30-06-2019 16:45', '46', '56'], ['30-06-2019 17:00', '46', '46'], ['30-06-2019 17:15', '46', '46'], ['30-06-2019 17:45', '57', '46'], ['30-06-2019 18:00', '57', '46'], ['30-06-2019 18:15', '57', '46'], ['30-06-2019 18:45', '51', '57'], ['30-06-2019 19:00', '51', '57'], ['30-06-2019 19:15', '51', '57'], ['30-06-2019 19:45', '73', '57'], ['30-06-2019 20:00', '73', '57'], ['30-06-2019 20:15', '73', '73'], ['30-06-2019 20:45', '73', '73'], ['30-06-2019 21:00', '73', '73'], ['30-06-2019 21:15', '73', '73'], ['30-06-2019 21:45', '40', '73'], ['30-06-2019 22:00', '40', '40'], ['30-06-2019 22:15', '40', '40'], ['30-06-2019 22:45', '45', '40'], ['30-06-2019 23:00', '45', '40'], ['30-06-2019 23:15', '45', '40'], ['30-06-2019 23:45', '52', '45'], ['01-07-2019 00:00', '52', '45'], ['01-07-2019 00:15', '52', '45'], ['01-07-2019 00:45', '55', '45'], ['01-07-2019 01:00', '55', '45'], ['01-07-2019 01:15', '55', '55'], ['01-07-2019 01:45', '50', '55'], ['01-07-2019 02:00', '50', '55'], ['01-07-2019 02:15', '50', '55'], ['01-07-2019 02:45', '50', '55'], ['01-07-2019 03:00', '50', '50'], ['01-07-2019 03:15', '50', '50'], ['01-07-2019 03:45', '31', '50'], ['01-07-2019 04:00', '31', '50'], ['01-07-2019 04:15', '31', '50'], ['01-07-2019 04:45', '61', '31'], ['01-07-2019 05:00', '61', '31'], ['01-07-2019 05:15', '61', '31'], ['01-07-2019 05:45', '48', '31'], ['01-07-2019 06:00', '48', '31'], ['01-07-2019 06:15', '48', '48'], ['01-07-2019 06:45', '41', '48'], ['01-07-2019 07:00', '41', '48'], ['01-07-2019 07:15', '41', '48'], ['01-07-2019 07:45', '56', '48'], ['01-07-2019 08:00', '56', '56'], ['01-07-2019 08:15', '56', '56'], ['01-07-2019 08:45', '46', '56'], ['01-07-2019 09:00', '46', '56'], ['01-07-2019 09:15', '46', '56'], ['01-07-2019 09:45', '38', '46'], ['01-07-2019 10:00', '38', '46'], ['01-07-2019 10:15', '38', '46'], ['01-07-2019 10:45', '56', '46'], ['01-07-2019 11:00', '56', '46'], ['01-07-2019 11:15', '56', '56'], ['01-07-2019 11:45', '44', '56'], ['01-07-2019 12:00', '44', '56'], ['01-07-2019 12:15', '44', '56'], ['01-07-2019 12:45', '50', '56'], ['01-07-2019 13:00', '50', '50'], ['01-07-2019 13:15', '50', '50'], ['01-07-2019 13:45', '53', '50'], ['01-07-2019 14:00', '53', '50'], ['01-07-2019 14:15', '53', '50'], ['01-07-2019 14:45', '66', '53'], ['01-07-2019 15:00', '66', '53'], ['01-07-2019 15:15', '66', '53'], ['01-07-2019 15:45', '63', '53'], ['01-07-2019 16:00', '63', '53'], ['01-07-2019 16:15', '63', '63'], ['01-07-2019 16:45', '57', '63'], ['01-07-2019 17:00', '57', '63'], ['01-07-2019 17:15', '57', '63'], ['01-07-2019 17:45', '63', '63'], ['01-07-2019 18:00', '63', '63'], ['01-07-2019 18:15', '63', '63'], ['01-07-2019 18:45', '62', '63'], ['01-07-2019 19:00', '62', '63'], ['01-07-2019 19:15', '62', '63'], ['01-07-2019 19:45', '62', '62'], ['01-07-2019 20:00', '62', '62'], ['01-07-2019 20:15', '62', '62'], ['01-07-2019 20:45', '69', '62'], ['01-07-2019 21:00', '69', '62'], ['01-07-2019 21:15', '69', '69'], ['01-07-2019 21:45', '50', '69'], ['01-07-2019 22:00', '50', '69'], ['01-07-2019 22:15', '50', '69'], ['01-07-2019 22:45', '39', '69'], ['01-07-2019 23:00', '39', '39'], ['01-07-2019 23:15', '39', '39'], ['01-07-2019 23:45', '39', '39'], ['02-07-2019 00:00', '39', '39'], ['02-07-2019 00:15', '39', '39'], ['02-07-2019 00:45', '44', '39'], ['02-07-2019 01:00', '44', '39'], ['02-07-2019 01:15', '44', '39'], ['02-07-2019 01:45', '48', '39'], ['02-07-2019 02:00', '48', '39'], ['02-07-2019 02:15', '48', '48'], ['02-07-2019 02:45', '55', '48'], ['02-07-2019 03:00', '55', '48'], ['02-07-2019 03:15', '55', '48'], ['02-07-2019 03:45', '63', '48'], ['02-07-2019 04:00', '63', '63'], ['02-07-2019 04:15', '63', '63'], ['02-07-2019 04:45', '52', '63'], ['02-07-2019 05:00', '52', '63'], ['02-07-2019 05:15', '52', '63'], ['02-07-2019 05:45', '55', '52'], ['02-07-2019 06:00', '55', '52'], ['02-07-2019 06:15', '55', '52'], ['02-07-2019 06:45', '48', '52'], ['02-07-2019 07:00', '48', '52'], ['02-07-2019 07:15', '48', '48'], ['02-07-2019 07:45', '78', '48'], ['02-07-2019 08:00', '78', '48'], ['02-07-2019 08:15', '78', '48'], ['02-07-2019 08:45', '46', '48'], ['02-07-2019 09:00', '46', '46'], ['02-07-2019 09:15', '46', '46'], ['02-07-2019 09:45', '50', '46'], ['02-07-2019 10:00', '50', '46'], ['02-07-2019 10:15', '50', '46'], ['02-07-2019 10:45', '57', '50'], ['02-07-2019 11:00', '57', '50'], ['02-07-2019 11:15', '57', '50'], ['02-07-2019 11:45', '75', '50'], ['02-07-2019 12:00', '75', '50'], ['02-07-2019 12:15', '75', '75'], ['02-07-2019 12:45', '89', '75'], ['02-07-2019 13:00', '89', '75'], ['02-07-2019 13:15', '89', '75'], ['02-07-2019 13:45', '75', '75'], ['02-07-2019 14:00', '75', '75'], ['02-07-2019 14:15', '75', '75'], ['02-07-2019 14:45', '74', '75'], ['02-07-2019 15:00', '74', '75'], ['02-07-2019 15:15', '74', '75'], ['02-07-2019 15:45', '74', '74'], ['02-07-2019 16:00', '74', '74'], ['02-07-2019 16:15', '74', '74'], ['02-07-2019 16:45', '73', '74'], ['02-07-2019 17:00', '73', '74'], ['02-07-2019 17:15', '73', '73'], ['02-07-2019 17:45', '74', '73'], ['02-07-2019 18:00', '74', '73'], ['02-07-2019 18:15', '74', '73'], ['02-07-2019 18:45', '66', '73'], ['02-07-2019 19:00', '66', '66'], ['02-07-2019 19:15', '66', '66'], ['02-07-2019 19:45', '68', '66'], ['02-07-2019 20:00', '68', '66'], ['02-07-2019 20:15', '68', '66'], ['02-07-2019 20:45', '69', '68'], ['02-07-2019 21:00', '69', '68'], ['02-07-2019 21:15', '69', '68'], ['02-07-2019 21:45', '75', '68'], ['02-07-2019 22:00', '75', '68'], ['02-07-2019 22:15', '75', '75'], ['02-07-2019 22:45', '84', '75'], ['02-07-2019 23:00', '84', '75'], ['02-07-2019 23:15', '84', '75'], ['02-07-2019 23:45', '53', '75'], ['03-07-2019 00:00', '53', '53'], ['03-07-2019 00:15', '53', '53'], ['03-07-2019 00:45', '50', '53'], ['03-07-2019 01:00', '50', '53'], ['03-07-2019 01:15', '50', '53'], ['03-07-2019 01:45', '41', '50'], ['03-07-2019 02:00', '41', '50'], ['03-07-2019 02:15', '41', '50'], ['03-07-2019 02:45', '52', '50'], ['03-07-2019 03:00', '52', '50'], ['03-07-2019 03:15', '52', '52'], ['03-07-2019 03:45', '47', '52'], ['03-07-2019 04:00', '47', '52'], ['03-07-2019 04:15', '47', '52'], ['03-07-2019 04:45', '47', '52'], ['03-07-2019 05:00', '47', '47'], ['03-07-2019 05:15', '47', '47'], ['03-07-2019 05:45', '45', '47'], ['03-07-2019 06:00', '45', '47'], ['03-07-2019 06:15', '45', '47'], ['03-07-2019 06:45', '41', '45'], ['03-07-2019 07:00', '41', '45'], ['03-07-2019 07:15', '41', '45'], ['03-07-2019 07:45', '48', '45'], ['03-07-2019 08:00', '48', '45'], ['03-07-2019 08:15', '48', '48'], ['03-07-2019 08:45', '48', '48'], ['03-07-2019 09:00', '48', '48'], ['03-07-2019 09:15', '48', '48'], ['03-07-2019 09:45', '28', '48'], ['03-07-2019 10:00', '28', '28'], ['03-07-2019 10:15', '28', '28'], ['03-07-2019 10:45', '39', '28'], ['03-07-2019 11:00', '39', '28'], ['03-07-2019 11:15', '39', '28'], ['03-07-2019 11:45', '45', '39'], ['03-07-2019 12:00', '45', '39'], ['06-07-2019 00:00', '73.8', '39'], ['06-07-2019 00:15', '73.8', '39'], ['06-07-2019 00:30', '73.8', '39'], ['06-07-2019 00:45', '73.3', '73.8'], ['06-07-2019 01:00', '54.3', '73.8'], ['06-07-2019 01:15', '54.3', '73.8'], ['06-07-2019 01:30', '54.3', '73.8'], ['06-07-2019 01:45', '54.7', '73.8'], ['06-07-2019 02:00', '73', '54.7'], ['06-07-2019 02:15', '73', '54.7'], ['06-07-2019 02:30', '73', '54.7'], ['06-07-2019 02:45', '73', '54.7'], ['06-07-2019 03:00', '69', '54.7'], ['06-07-2019 03:15', '69', '69'], ['06-07-2019 03:30', '69', '69'], ['06-07-2019 03:45', '68.5', '69'], ['06-07-2019 04:00', '48.4', '69'], ['06-07-2019 04:15', '48.4', '69'], ['06-07-2019 04:30', '48.4', '48.4'], ['06-07-2019 04:45', '48.2', '48.4'], ['06-07-2019 05:00', '38', '48.4'], ['06-07-2019 05:15', '38', '48.4'], ['06-07-2019 05:30', '38', '48.4'], ['06-07-2019 05:45', '38.1', '38'], ['06-07-2019 06:00', '43.6', '38'], ['06-07-2019 06:15', '43.6', '38'], ['06-07-2019 06:30', '43.6', '38'], ['06-07-2019 06:45', '43.4', '38'], ['06-07-2019 07:00', '37.4', '43.4'], ['06-07-2019 07:15', '37.4', '43.4'], ['06-07-2019 07:30', '37.4', '43.4'], ['06-07-2019 07:45', '38', '43.4'], ['06-07-2019 08:00', '65.4', '43.4'], ['06-07-2019 08:15', '65.4', '65.4'], ['06-07-2019 08:30', '65.4', '65.4'], ['06-07-2019 08:45', '64.9', '65.4'], ['06-07-2019 09:00', '46.8', '65.4'], ['06-07-2019 09:15', '46.8', '65.4'], ['06-07-2019 09:30', '46.8', '46.8'], ['06-07-2019 09:45', '46.9', '46.8'], ['06-07-2019 10:00', '53.4', '46.8'], ['06-07-2019 10:15', '53.4', '46.8'], ['06-07-2019 10:30', '53.4', '46.8'], ['06-07-2019 10:45', '53.1', '53.4'], ['06-07-2019 11:00', '39.4', '53.4'], ['06-07-2019 11:15', '39.4', '53.4'], ['06-07-2019 11:30', '39.4', '53.4'], ['06-07-2019 11:45', '39.3', '53.4'], ['06-07-2019 12:00', '34.1', '39.3'], ['06-07-2019 12:15', '34.1', '39.3'], ['06-07-2019 12:30', '34.1', '39.3'], ['06-07-2019 13:00', '31.6', '39.3'], ['06-07-2019 13:15', '31.6', '39.3'], ['06-07-2019 13:30', '31.6', '31.6'], ['06-07-2019 13:45', '31.8', '31.6'], ['06-07-2019 14:00', '42', '31.6'], ['06-07-2019 14:15', '42', '31.6'], ['06-07-2019 14:30', '42', '31.6'], ['06-07-2019 14:45', '41.8', '42'], ['06-07-2019 15:00', '31.9', '42'], ['06-07-2019 15:15', '31.9', '42'], ['06-07-2019 15:30', '31.9', '42'], ['06-07-2019 15:45', '33.1', '42'], ['06-07-2019 16:00', '85', '33.1'], ['06-07-2019 16:15', '85', '33.1'], ['06-07-2019 16:30', '85', '33.1'], ['06-07-2019 16:45', '84.4', '33.1'], ['06-07-2019 17:00', '56.5', '33.1'], ['06-07-2019 17:15', '56.5', '56.5'], ['06-07-2019 17:30', '56.5', '56.5'], ['06-07-2019 17:45', '56.2', '56.5'], ['06-07-2019 18:00', '43.9', '56.5'], ['06-07-2019 18:15', '43.9', '56.5'], ['06-07-2019 18:30', '43.9', '43.9'], ['06-07-2019 18:45', '44', '43.9'], ['06-07-2019 19:00', '47.5', '43.9'], ['06-07-2019 19:15', '47.5', '43.9'], ['06-07-2019 19:30', '47.5', '43.9'], ['06-07-2019 19:45', '48', '47.5'], ['06-07-2019 20:00', '68.6', '47.5'], ['06-07-2019 20:15', '68.6', '47.5'], ['06-07-2019 20:30', '68.6', '47.5'], ['06-07-2019 20:45', '68.6', '47.5'], ['06-07-2019 21:00', '72.1', '68.6'], ['06-07-2019 21:15', '72.1', '68.6'], ['06-07-2019 21:30', '72.1', '68.6'], ['06-07-2019 21:45', '72', '68.6'], ['06-07-2019 22:00', '66.5', '68.6'], ['06-07-2019 22:15', '66.5', '66.5'], ['06-07-2019 22:30', '66.5', '66.5'], ['06-07-2019 22:45', '66.1', '66.5'], ['06-07-2019 23:00', '49.4', '66.5'], ['06-07-2019 23:15', '49.4', '66.5'], ['06-07-2019 23:30', '49.4', '49.4'], ['07-07-2019 00:00', '39.8', '49.4'], ['07-07-2019 00:15', '39.8', '49.4'], ['07-07-2019 00:30', '39.8', '49.4'], ['07-07-2019 00:45', '39.7', '49.4'], ['07-07-2019 01:00', '37.2', '39.7'], ['07-07-2019 01:15', '37.2', '39.7'], ['07-07-2019 01:30', '37.2', '39.7'], ['07-07-2019 01:45', '37.1', '39.7'], ['07-07-2019 02:00', '33.2', '39.7'], ['07-07-2019 02:15', '33.2', '33.2'], ['07-07-2019 02:30', '33.2', '33.2'], ['07-07-2019 02:45', '33.1', '33.2'], ['07-07-2019 03:00', '30.9', '33.2'], ['07-07-2019 03:15', '30.9', '33.2'], ['07-07-2019 03:30', '30.9', '30.9'], ['07-07-2019 03:45', '31.4', '30.9'], ['07-07-2019 04:00', '56.7', '30.9'], ['07-07-2019 04:15', '56.7', '30.9'], ['07-07-2019 04:30', '56.7', '30.9'], ['07-07-2019 04:45', '56.5', '56.7'], ['07-07-2019 05:00', '44', '56.7'], ['07-07-2019 05:15', '44', '56.7'], ['07-07-2019 05:30', '44', '56.7'], ['07-07-2019 05:45', '43.9', '56.7'], ['07-07-2019 06:00', '39.1', '43.9'], ['07-07-2019 06:15', '39.1', '43.9'], ['07-07-2019 06:30', '39.1', '43.9'], ['07-07-2019 06:45', '39.2', '43.9'], ['07-07-2019 07:00', '43.3', '43.9'], ['07-07-2019 07:15', '43.3', '43.3'], ['07-07-2019 07:30', '43.3', '43.3'], ['07-07-2019 07:45', '44.2', '43.3'], ['07-07-2019 08:00', '83.4', '43.3'], ['07-07-2019 08:15', '83.4', '43.3'], ['07-07-2019 08:30', '83.4', '83.4'], ['07-07-2019 08:45', '83.1', '83.4'], ['07-07-2019 09:00', '72.9', '83.4'], ['07-07-2019 09:15', '72.9', '83.4'], ['07-07-2019 09:30', '72.9', '83.4'], ['07-07-2019 09:45', '72.5', '72.9'], ['07-07-2019 10:00', '52.6', '72.9'], ['07-07-2019 10:15', '52.6', '72.9'], ['07-07-2019 10:30', '52.6', '72.9'], ['07-07-2019 10:45', '52.6', '72.9'], ['07-07-2019 11:00', '55.6', '52.6'], ['07-07-2019 11:15', '55.6', '52.6'], ['07-07-2019 11:30', '55.6', '52.6'], ['07-07-2019 11:45', '55.2', '52.6'], ['07-07-2019 12:00', '41.7', '52.6'], ['07-07-2019 12:15', '41.7', '41.7'], ['07-07-2019 12:30', '41.7', '41.7'], ['07-07-2019 12:45', '41.4', '41.7'], ['07-07-2019 13:00', '32.5', '41.7'], ['07-07-2019 13:15', '32.5', '41.7'], ['07-07-2019 13:30', '32.5', '32.5'], ['07-07-2019 13:45', '32.5', '32.5'], ['07-07-2019 14:00', '30.9', '32.5'], ['07-07-2019 14:15', '30.9', '32.5'], ['07-07-2019 14:30', '30.9', '32.5'], ['07-07-2019 14:45', '30.8', '30.9']]\n"
          ],
          "name": "stdout"
        }
      ]
    },
    {
      "cell_type": "code",
      "metadata": {
        "id": "8qDb7aGeIVLr",
        "colab_type": "code",
        "colab": {}
      },
      "source": [
        "##TIMESTAMP MODIFICATION \n",
        "m_tmp=[]\n",
        "for tmp in sscb:\n",
        "  l=[]\n",
        "  temp=tmp[0]\n",
        "  temp=temp[-24:-5]\n",
        "  temp=temp.split('-')\n",
        "  newtemp=temp[2].split(' ')\n",
        "  newesttemp=newtemp[1].split(':')\n",
        "  j=int(newesttemp[1])\n",
        "  #print(j)\n",
        "  if(j<=7.5):\n",
        "    final = newtemp[0] + '-' + temp[1] + '-' + temp[0] + ' ' + newesttemp[0] + ':' + '00'\n",
        "  elif(j<=15 or j<=22.5):\n",
        "    final = newtemp[0] + '-' + temp[1] + '-' + temp[0] + ' ' + newesttemp[0] + ':' + '15'\n",
        "  elif(j<=30 or j<=37.5):\n",
        "    final = newtemp[0] + '-' + temp[1] + '-' + temp[0] + ' ' + newesttemp[0] + ':' + '30'\n",
        "  elif(j<=45 or j<=52.5):\n",
        "    final = newtemp[0] + '-' + temp[1] + '-' + temp[0] + ' ' + newesttemp[0] + ':' + '45'\n",
        "  elif(j>52.5):\n",
        "    final = newtemp[0] + '-' + temp[1] + '-' + temp[0] + ' ' + newesttemp[0] + ':' + '00'\n",
        "  l.append(tmp[0])\n",
        "  l.append(final)\n",
        "  l.append(tmp[1])\n",
        "  m_tmp.append(l)  \n",
        "  \n",
        "  "
      ],
      "execution_count": 0,
      "outputs": []
    },
    {
      "cell_type": "code",
      "metadata": {
        "id": "PGu8N8reJBlI",
        "colab_type": "code",
        "colab": {}
      },
      "source": [
        "feat=[]\n",
        "for val in cpcb:\n",
        "  for date in m_tmp:\n",
        "    if(val[0] == date[1]):\n",
        "      im = date[2]\n",
        "      imc = date[2]\n",
        "      imc = cv2.resize(imc, (64,64))\n",
        "      l=[]\n",
        "      l.append(val[0])\n",
        "      #l.append(np.ndarray.flatten(transmission(imc)))\n",
        "      l.append(entropy(im))\n",
        "      l.append(contrast(im))\n",
        "      l.append(val[1])\n",
        "      l.append(val[2])\n",
        "      l.append(trans_deg(im))\n",
        "      #print('   -   -  ' + str(l))\n",
        "      feat.append(l)\n",
        "   "
      ],
      "execution_count": 0,
      "outputs": []
    },
    {
      "cell_type": "code",
      "metadata": {
        "id": "p0i2HdVFGLPU",
        "colab_type": "code",
        "outputId": "5247a49e-0bd4-4603-b1e2-7ec09e87d055",
        "colab": {
          "base_uri": "https://localhost:8080/",
          "height": 54
        }
      },
      "source": [
        "print(feat)"
      ],
      "execution_count": 158,
      "outputs": [
        {
          "output_type": "stream",
          "text": [
            "[['27-06-2019 16:00', 5.071457862854004, 2.468056791148552, '47', '47', 1], ['27-06-2019 16:00', 40.19698715209961, 59.820981855775706, '47', '47', 1], ['27-06-2019 16:45', 41.98408126831055, 60.822207739303735, '47', '47', 2], ['27-06-2019 16:45', 5.048366069793701, 2.470456806162675, '47', '47', 1], ['27-06-2019 16:45', 42.25675964355469, 62.17865647994067, '47', '47', 2], ['27-06-2019 16:45', 45.038902282714844, 57.058971414239934, '47', '47', 1], ['27-06-2019 17:00', 38.31585693359375, 63.26486441079081, '45', '47', 1], ['27-06-2019 17:00', 42.740291595458984, 64.30904471374883, '45', '47', 2], ['27-06-2019 17:00', 42.78096389770508, 64.38469555959436, '45', '47', 2], ['27-06-2019 17:00', 42.9442253112793, 65.99889562145044, '45', '47', 1], ['27-06-2019 17:15', 40.31647491455078, 66.20686853553428, '45', '47', 1], ['27-06-2019 17:15', 40.947696685791016, 68.67146570323897, '45', '47', 1], ['27-06-2019 17:15', 46.86836624145508, 58.86145451756276, '45', '47', 1], ['27-06-2019 17:15', 42.75605773925781, 64.74247894601672, '45', '47', 2], ['27-06-2019 17:15', 25.73710823059082, 40.25388000166468, '45', '47', 1], ['27-06-2019 17:30', 42.497344970703125, 64.60247938791454, '45', '47', 1], ['27-06-2019 17:30', 42.966426849365234, 65.31793808429606, '45', '47', 1], ['27-06-2019 17:30', 42.832679748535156, 65.72899746938376, '45', '47', 1], ['27-06-2019 17:45', 42.83359146118164, 65.53632457149676, '45', '47', 1], ['27-06-2019 17:45', 43.24951934814453, 66.24580180158023, '45', '47', 1], ['27-06-2019 17:45', 43.30516052246094, 66.2885288711516, '45', '47', 1], ['27-06-2019 18:00', 37.427642822265625, 74.48769690315639, '36', '45', 1], ['27-06-2019 18:00', 36.855712890625, 75.62142934320283, '36', '45', 1], ['27-06-2019 18:00', 43.13401794433594, 66.45872824527432, '36', '45', 1], ['27-06-2019 18:00', 42.93878173828125, 66.592678010113, '36', '45', 1], ['27-06-2019 18:00', 46.09401321411133, 66.1960638347592, '36', '45', 1], ['27-06-2019 18:00', 46.49905776977539, 65.52438423476798, '36', '45', 2], ['27-06-2019 18:15', 37.310855865478516, 74.08944365510958, '36', '45', 1], ['27-06-2019 18:15', 36.598045349121094, 74.53637196374706, '36', '45', 1], ['27-06-2019 18:15', 36.944580078125, 74.13895781280915, '36', '45', 1], ['27-06-2019 18:15', 43.081520080566406, 66.39627383556662, '36', '45', 1], ['27-06-2019 18:15', 43.41512680053711, 66.82344282236161, '36', '45', 1], ['27-06-2019 18:15', 43.178680419921875, 66.46648504316654, '36', '45', 1], ['27-06-2019 18:30', 36.66422653198242, 74.49885855740169, '36', '45', 1], ['27-06-2019 18:30', 36.47767639160156, 74.5104422308926, '36', '45', 1], ['27-06-2019 18:30', 36.49453353881836, 75.12800893480356, '36', '45', 1], ['27-06-2019 18:30', 43.138980865478516, 66.74225182735567, '36', '45', 1], ['27-06-2019 18:30', 42.983184814453125, 66.78107220016783, '36', '45', 1], ['27-06-2019 18:30', 43.52179718017578, 66.65136188936815, '36', '45', 1], ['27-06-2019 18:45', 36.31037521362305, 75.10691176477822, '36', '45', 1], ['27-06-2019 18:45', 36.76790237426758, 75.55389686814975, '36', '45', 1], ['27-06-2019 18:45', 36.717891693115234, 75.50077010387226, '36', '45', 1], ['27-06-2019 18:45', 43.23454284667969, 66.63619356991165, '36', '45', 1], ['27-06-2019 18:45', 44.51655197143555, 66.11292336052925, '36', '45', 1], ['27-06-2019 18:45', 44.85469436645508, 66.13141446198864, '36', '45', 1], ['28-06-2019 06:00', 38.451622009277344, 85.34357904222205, '180', '117', 1], ['28-06-2019 06:00', 37.98000717163086, 84.59735897884056, '180', '117', 1], ['28-06-2019 06:00', 41.00096130371094, 80.33562076820542, '180', '117', 1], ['28-06-2019 06:00', 46.40052032470703, 67.84135869089083, '180', '117', 1], ['28-06-2019 06:00', 46.354183197021484, 67.57758596822029, '180', '117', 1], ['28-06-2019 06:00', 50.740821838378906, 63.52597155358138, '180', '117', 1], ['28-06-2019 06:15', 37.99810791015625, 83.5042408123158, '180', '117', 1], ['28-06-2019 06:15', 37.733734130859375, 83.26576628326725, '180', '117', 1], ['28-06-2019 06:15', 37.733516693115234, 82.83105620518762, '180', '117', 1], ['28-06-2019 06:15', 46.12541198730469, 67.81413916277145, '180', '117', 1], ['28-06-2019 06:15', 46.73320770263672, 68.1168842108058, '180', '117', 1], ['28-06-2019 06:15', 47.50563430786133, 68.20297194176418, '180', '117', 1], ['28-06-2019 06:30', 37.25712203979492, 82.06611794106361, '180', '180', 1], ['28-06-2019 06:30', 37.89278793334961, 81.00409176534399, '180', '180', 1], ['28-06-2019 06:30', 37.71870422363281, 81.31181939511838, '180', '180', 1], ['28-06-2019 06:30', 46.83939743041992, 67.82214251137003, '180', '180', 1], ['28-06-2019 06:30', 48.51626205444336, 66.41872230944969, '180', '180', 1], ['28-06-2019 06:30', 48.42802429199219, 66.11203078773411, '180', '180', 1], ['28-06-2019 06:45', 38.52070617675781, 80.78871114770443, '180', '180', 1], ['28-06-2019 06:45', 38.080841064453125, 81.51006159886808, '180', '180', 1], ['28-06-2019 06:45', 35.77826690673828, 83.39884622169394, '180', '180', 1], ['28-06-2019 06:45', 49.982017517089844, 66.30562161418231, '180', '180', 1], ['28-06-2019 06:45', 50.2846565246582, 66.2472592464971, '180', '180', 1], ['28-06-2019 06:45', 46.2404899597168, 68.80652709583843, '180', '180', 1], ['28-06-2019 07:00', 39.53583526611328, 80.78435452834188, '190', '180', 1], ['28-06-2019 07:00', 39.51521682739258, 80.92012739082769, '190', '180', 1], ['28-06-2019 07:00', 46.03285598754883, 77.10389303423693, '190', '180', 1], ['28-06-2019 07:00', 50.54508972167969, 64.6265090280035, '190', '180', 1], ['28-06-2019 07:00', 50.85834884643555, 64.30593366153943, '190', '180', 1], ['28-06-2019 07:00', 51.29647445678711, 63.921092225546595, '190', '180', 1], ['28-06-2019 07:00', 50.369564056396484, 63.96280920819578, '190', '180', 1], ['28-06-2019 07:15', 38.956363677978516, 80.3425024163148, '190', '180', 1], ['28-06-2019 07:15', 44.26893997192383, 77.06561915263717, '190', '180', 1], ['28-06-2019 07:15', 44.352203369140625, 78.2313291981804, '190', '180', 1], ['28-06-2019 07:15', 51.46967315673828, 63.447623291461795, '190', '180', 1], ['28-06-2019 07:15', 51.42826843261719, 63.49966149926749, '190', '180', 1], ['28-06-2019 07:15', 52.583465576171875, 63.36597092893385, '190', '180', 1], ['28-06-2019 07:30', 43.79643249511719, 80.10085733162545, '190', '180', 1], ['28-06-2019 07:30', 47.88431930541992, 78.24114804009346, '190', '180', 1], ['28-06-2019 07:30', 44.384422302246094, 79.61984847837262, '190', '180', 1], ['28-06-2019 07:30', 49.67237091064453, 65.45613917476315, '190', '180', 1], ['28-06-2019 07:30', 52.969696044921875, 63.47136559768532, '190', '180', 1], ['28-06-2019 07:30', 52.46479034423828, 64.69211030122666, '190', '180', 1], ['28-06-2019 07:45', 46.87828826904297, 78.40451067481426, '190', '190', 1], ['28-06-2019 07:45', 49.228023529052734, 76.3061351894371, '190', '190', 1], ['28-06-2019 07:45', 47.577239990234375, 76.3835149642535, '190', '190', 1], ['28-06-2019 07:45', 53.83100509643555, 65.03573057928884, '190', '190', 1], ['28-06-2019 07:45', 52.98187255859375, 64.70769603249694, '190', '190', 1], ['28-06-2019 07:45', 51.66059112548828, 65.23838892556452, '190', '190', 1], ['28-06-2019 08:00', 46.05499267578125, 76.61605490469785, '92', '190', 1], ['28-06-2019 08:00', 47.47391128540039, 78.37392432398651, '92', '190', 1], ['28-06-2019 08:00', 48.56776809692383, 70.58716403599973, '92', '190', 1], ['28-06-2019 08:00', 49.774906158447266, 64.69535175447817, '92', '190', 1], ['28-06-2019 08:00', 51.239540100097656, 63.57602662305918, '92', '190', 1], ['28-06-2019 08:00', 51.760929107666016, 62.46806049180335, '92', '190', 1], ['28-06-2019 08:15', 46.22962951660156, 77.20611724573054, '92', '190', 1], ['28-06-2019 08:15', 45.154090881347656, 75.83113393545956, '92', '190', 1], ['28-06-2019 08:15', 45.865081787109375, 77.35284408478272, '92', '190', 1], ['28-06-2019 08:15', 50.92595672607422, 64.12659388512773, '92', '190', 1], ['28-06-2019 08:15', 50.10752868652344, 63.93776466492645, '92', '190', 1], ['28-06-2019 08:15', 50.21084213256836, 64.22568042929639, '92', '190', 1], ['28-06-2019 08:30', 49.112693786621094, 73.86365119198085, '92', '190', 1], ['28-06-2019 08:30', 42.42096710205078, 80.10561447492427, '92', '190', 1], ['28-06-2019 08:30', 48.32048797607422, 72.15135926224953, '92', '190', 1], ['28-06-2019 08:30', 53.036434173583984, 63.66285338244263, '92', '190', 1], ['28-06-2019 08:30', 48.4515495300293, 66.89285437161016, '92', '190', 1], ['28-06-2019 08:30', 52.602970123291016, 61.336251253606314, '92', '190', 1], ['28-06-2019 08:45', 47.224098205566406, 73.45044466641423, '92', '190', 1], ['28-06-2019 08:45', 40.337520599365234, 78.84199429899014, '92', '190', 1], ['28-06-2019 08:45', 47.65727233886719, 67.5390435429969, '92', '190', 1], ['28-06-2019 08:45', 47.83138656616211, 67.19260841078213, '92', '190', 1], ['28-06-2019 08:45', 47.18918991088867, 67.82188797803036, '92', '190', 1], ['28-06-2019 08:45', 50.487117767333984, 63.44491252013738, '92', '190', 2], ['28-06-2019 09:00', 46.410682678222656, 71.53596035848008, '45', '92', 1], ['28-06-2019 09:00', 45.038429260253906, 71.59467503729088, '45', '92', 1], ['28-06-2019 09:00', 45.384490966796875, 71.78831257335935, '45', '92', 1], ['28-06-2019 09:00', 47.65997314453125, 70.53614802998032, '45', '92', 1], ['28-06-2019 09:00', 50.250057220458984, 63.602523753337685, '45', '92', 2], ['28-06-2019 09:00', 49.86457824707031, 61.93659796102891, '45', '92', 2], ['28-06-2019 09:00', 51.1200065612793, 61.591248128928434, '45', '92', 2], ['28-06-2019 09:15', 42.27440643310547, 71.53344973324394, '45', '92', 1], ['28-06-2019 09:15', 45.025245666503906, 71.81681089388238, '45', '92', 1], ['28-06-2019 09:15', 43.99848175048828, 73.8102887621382, '45', '92', 1], ['28-06-2019 09:15', 47.93642807006836, 63.595653589680396, '45', '92', 2], ['28-06-2019 09:15', 48.86132049560547, 63.46365485655394, '45', '92', 2], ['28-06-2019 09:15', 47.753135681152344, 63.69918621078828, '45', '92', 2], ['28-06-2019 09:30', 48.399959564208984, 69.78039287425854, '45', '92', 1], ['28-06-2019 09:30', 49.15561294555664, 70.64945919473702, '45', '92', 1], ['28-06-2019 09:30', 48.68292236328125, 71.70226058033145, '45', '92', 1], ['28-06-2019 09:30', 49.447509765625, 61.212896058510566, '45', '92', 2], ['28-06-2019 09:30', 49.60646438598633, 60.658105817927876, '45', '92', 2], ['28-06-2019 09:30', 50.506256103515625, 61.92700265995793, '45', '92', 2], ['28-06-2019 09:45', 47.417724609375, 72.71756961146353, '45', '92', 1], ['28-06-2019 09:45', 47.22915267944336, 73.04585785662508, '45', '92', 1], ['28-06-2019 09:45', 46.842811584472656, 72.79343401665123, '45', '92', 1], ['28-06-2019 09:45', 50.381771087646484, 62.66832259908767, '45', '92', 2], ['28-06-2019 09:45', 50.63793182373047, 62.40755604648661, '45', '92', 2], ['28-06-2019 09:45', 50.813194274902344, 62.29083707448646, '45', '92', 2], ['28-06-2019 10:00', 50.29106521606445, 69.24287410129402, '30', '92', 1], ['28-06-2019 10:00', 48.15008544921875, 68.48710286213243, '30', '92', 1], ['28-06-2019 10:00', 51.73839569091797, 61.04365057787632, '30', '92', 2], ['28-06-2019 10:00', 49.958709716796875, 61.3628453243708, '30', '92', 2], ['28-06-2019 10:00', 49.42686080932617, 61.71712778419149, '30', '92', 2], ['28-06-2019 10:15', 49.324859619140625, 70.97920533757915, '30', '30', 1], ['28-06-2019 10:15', 49.3459587097168, 69.79441460431198, '30', '30', 1], ['28-06-2019 10:15', 49.28902053833008, 67.6424631810563, '30', '30', 1], ['28-06-2019 10:15', 51.57804489135742, 61.70537692004026, '30', '30', 2], ['28-06-2019 10:15', 50.85227584838867, 60.84522145764721, '30', '30', 2], ['28-06-2019 10:15', 49.2523193359375, 58.51874570113492, '30', '30', 2], ['28-06-2019 10:30', 49.34548568725586, 68.98664160491253, '30', '30', 1], ['28-06-2019 10:30', 47.77306365966797, 67.27516959202234, '30', '30', 2], ['28-06-2019 10:30', 47.52876281738281, 66.76101259379054, '30', '30', 2], ['28-06-2019 10:30', 51.3793830871582, 61.246479073339074, '30', '30', 2], ['28-06-2019 10:30', 44.71875762939453, 59.01428713959127, '30', '30', 2], ['28-06-2019 10:30', 49.35238265991211, 58.456938818220195, '30', '30', 2], ['28-06-2019 10:45', 46.64547348022461, 69.54105041018332, '30', '30', 1], ['28-06-2019 10:45', 48.01758575439453, 66.744832178426, '30', '30', 1], ['28-06-2019 10:45', 48.49728012084961, 65.0376468065463, '30', '30', 1], ['28-06-2019 10:45', 50.50076675415039, 60.98462970741591, '30', '30', 2], ['28-06-2019 10:45', 47.4376220703125, 59.02030479049966, '30', '30', 2], ['28-06-2019 10:45', 47.868682861328125, 59.070133417064845, '30', '30', 2], ['28-06-2019 11:00', 47.381797790527344, 69.79079265575946, '23', '30', 1], ['28-06-2019 11:00', 47.40245056152344, 69.35174745294597, '23', '30', 1], ['28-06-2019 11:00', 46.31945037841797, 62.700690332053085, '23', '30', 2], ['28-06-2019 11:00', 49.99394226074219, 62.344072312327285, '23', '30', 2], ['28-06-2019 11:00', 41.81300354003906, 58.85317527137052, '23', '30', 2], ['28-06-2019 11:00', 44.61579895019531, 59.061100934107024, '23', '30', 2], ['28-06-2019 11:15', 48.58905029296875, 66.5979912590736, '23', '30', 1], ['28-06-2019 11:15', 48.136497497558594, 68.45950914975572, '23', '30', 1], ['28-06-2019 11:15', 48.343570709228516, 69.25537920680085, '23', '30', 1], ['28-06-2019 11:15', 49.75031661987305, 59.45395682162586, '23', '30', 2], ['28-06-2019 11:15', 50.314857482910156, 60.62379624523968, '23', '30', 2], ['28-06-2019 11:15', 49.766578674316406, 61.644766260351425, '23', '30', 2], ['28-06-2019 11:30', 49.33428955078125, 67.21500026691086, '23', '23', 1], ['28-06-2019 11:30', 49.37185287475586, 66.59210941826053, '23', '23', 1], ['28-06-2019 11:30', 49.121742248535156, 66.05785220306703, '23', '23', 1], ['28-06-2019 11:30', 49.92586135864258, 60.750311406472036, '23', '23', 2], ['28-06-2019 11:30', 49.400306701660156, 59.75219797517318, '23', '23', 2], ['28-06-2019 11:30', 47.90475845336914, 58.89329041255316, '23', '23', 2], ['28-06-2019 11:45', 48.99673843383789, 65.84360796890202, '23', '23', 1], ['28-06-2019 11:45', 48.139129638671875, 63.07314764238231, '23', '23', 1], ['28-06-2019 11:45', 46.402923583984375, 62.38757616192039, '23', '23', 2], ['28-06-2019 11:45', 47.48165512084961, 59.03642692692688, '23', '23', 2], ['28-06-2019 11:45', 41.12189865112305, 57.85178548932606, '23', '23', 2], ['28-06-2019 11:45', 39.942100524902344, 59.234020671761336, '23', '23', 2], ['28-06-2019 12:00', 47.37578582763672, 63.66939003336342, '24', '23', 2], ['28-06-2019 12:00', 48.611236572265625, 63.700940333798606, '24', '23', 2], ['28-06-2019 12:00', 42.22271728515625, 57.19461511784666, '24', '23', 2], ['28-06-2019 12:00', 44.36619567871094, 59.09808470773485, '24', '23', 2], ['28-06-2019 12:00', 39.23055648803711, 56.24163390645696, '24', '23', 2], ['28-06-2019 12:15', 48.06350326538086, 63.08945124510382, '24', '23', 2], ['28-06-2019 12:15', 48.144309997558594, 63.00838316892641, '24', '23', 2], ['28-06-2019 12:15', 46.62343215942383, 61.85725949293714, '24', '23', 2], ['28-06-2019 12:15', 43.804256439208984, 58.582706262364, '24', '23', 2], ['28-06-2019 12:15', 44.14216995239258, 58.92461837350155, '24', '23', 2], ['28-06-2019 12:15', 43.50141143798828, 58.31384670384955, '24', '23', 2], ['28-06-2019 12:30', 45.001625061035156, 61.44520142939885, '24', '23', 2], ['28-06-2019 12:30', 44.6099853515625, 59.46779895195107, '24', '23', 2], ['28-06-2019 12:30', 43.23797607421875, 57.75093326448733, '24', '23', 2], ['28-06-2019 12:30', 40.48162078857422, 58.576897591729065, '24', '23', 2], ['28-06-2019 12:30', 39.59754943847656, 58.43409681750728, '24', '23', 2], ['28-06-2019 12:30', 39.070899963378906, 57.273922585464895, '24', '23', 2], ['28-06-2019 12:45', 42.974178314208984, 56.974391112037495, '24', '24', 2], ['28-06-2019 12:45', 42.923641204833984, 58.89404809483126, '24', '24', 2], ['28-06-2019 12:45', 43.12685012817383, 57.17565994186463, '24', '24', 2], ['28-06-2019 12:45', 39.45138168334961, 56.575230968017514, '24', '24', 2], ['28-06-2019 12:45', 39.99853515625, 56.84899461053703, '24', '24', 2], ['28-06-2019 12:45', 46.510459899902344, 54.05434599088278, '24', '24', 2], ['28-06-2019 13:00', 42.53434371948242, 56.30621788971288, '27', '24', 2], ['28-06-2019 13:00', 41.659000396728516, 56.01161561700121, '27', '24', 2], ['28-06-2019 13:00', 41.14966583251953, 53.590459547433085, '27', '24', 2], ['28-06-2019 13:00', 40.6744384765625, 53.302930694774304, '27', '24', 2], ['28-06-2019 13:00', 41.17436981201172, 55.64826259071927, '27', '24', 2], ['28-06-2019 13:00', 40.84756851196289, 55.297384975189075, '27', '24', 2], ['28-06-2019 13:00', 43.28181457519531, 55.05910563194616, '27', '24', 2], ['28-06-2019 13:15', 40.839141845703125, 55.51460546380004, '27', '24', 2], ['28-06-2019 13:15', 41.24884796142578, 55.28212104453114, '27', '24', 2], ['28-06-2019 13:15', 41.50111389160156, 54.81052989498427, '27', '24', 2], ['28-06-2019 13:15', 40.905059814453125, 55.00490956264536, '27', '24', 2], ['28-06-2019 13:15', 41.189064025878906, 54.90561912999146, '27', '24', 2], ['28-06-2019 13:15', 41.07472229003906, 54.646646121283375, '27', '24', 2], ['28-06-2019 13:30', 41.74960708618164, 54.43037888465873, '27', '24', 2], ['28-06-2019 13:30', 41.645198822021484, 54.308077550742425, '27', '24', 2], ['28-06-2019 13:30', 41.421443939208984, 54.46388561778827, '27', '24', 2], ['28-06-2019 13:30', 41.222755432128906, 54.16334762208774, '27', '24', 2], ['28-06-2019 13:30', 41.36396789550781, 54.266910831046, '27', '24', 2], ['28-06-2019 13:30', 41.239906311035156, 54.315116830120694, '27', '24', 2], ['28-06-2019 13:45', 41.80208206176758, 54.38721578601976, '27', '24', 2], ['28-06-2019 13:45', 41.04440689086914, 53.94956895179985, '27', '24', 2], ['28-06-2019 13:45', 41.409854888916016, 53.7155299830486, '27', '24', 2], ['28-06-2019 13:45', 41.551513671875, 54.22017576068429, '27', '24', 2], ['28-06-2019 13:45', 42.896907806396484, 54.971646304024354, '27', '24', 2], ['28-06-2019 13:45', 42.94157028198242, 54.95121076704979, '27', '24', 2], ['28-06-2019 14:00', 41.00962448120117, 53.1944117195996, '27', '27', 2], ['28-06-2019 14:00', 38.82516860961914, 57.354510957444184, '27', '27', 2], ['28-06-2019 14:00', 44.327781677246094, 55.47710284028965, '27', '27', 2], ['28-06-2019 14:00', 44.41102600097656, 55.41539366739991, '27', '27', 2], ['28-06-2019 14:00', 44.490013122558594, 56.958014713878434, '27', '27', 2], ['28-06-2019 14:00', 43.33434295654297, 55.94124589663588, '27', '27', 2], ['28-06-2019 14:15', 41.24305725097656, 53.204676087246284, '27', '27', 2], ['28-06-2019 14:15', 40.64393615722656, 53.052324017846594, '27', '27', 2], ['28-06-2019 14:15', 41.035057067871094, 53.71641246145526, '27', '27', 2], ['28-06-2019 14:15', 44.84943771362305, 55.866645819978935, '27', '27', 2], ['28-06-2019 14:15', 44.768741607666016, 55.72006084561216, '27', '27', 2], ['28-06-2019 14:15', 45.16216278076172, 55.387543575319654, '27', '27', 2], ['28-06-2019 14:30', 40.7554817199707, 54.10594725649403, '27', '27', 2], ['28-06-2019 14:30', 40.4279899597168, 54.14275823789172, '27', '27', 2], ['28-06-2019 14:30', 40.209815979003906, 54.480895442121486, '27', '27', 2], ['28-06-2019 14:30', 44.94319534301758, 55.40366279329636, '27', '27', 2], ['28-06-2019 14:30', 44.90348815917969, 55.383044817479934, '27', '27', 2], ['28-06-2019 14:30', 44.588226318359375, 55.41439304648974, '27', '27', 2], ['28-06-2019 14:45', 40.08637237548828, 54.66026820448073, '27', '27', 2], ['28-06-2019 14:45', 39.970542907714844, 55.41736036771057, '27', '27', 2], ['28-06-2019 14:45', 38.923866271972656, 55.99283295797816, '27', '27', 2], ['28-06-2019 14:45', 43.65113067626953, 55.04924361711605, '27', '27', 2], ['28-06-2019 14:45', 43.573753356933594, 55.44762772939152, '27', '27', 2], ['28-06-2019 14:45', 43.96464920043945, 55.846734241754575, '27', '27', 2], ['28-06-2019 15:00', 37.718475341796875, 57.42215767415975, '29', '27', 1], ['28-06-2019 15:00', 38.23151779174805, 59.07924040426946, '29', '27', 2], ['28-06-2019 15:00', 39.53520202636719, 62.952789750445355, '29', '27', 1], ['28-06-2019 15:00', 43.47000503540039, 56.94782735255775, '29', '27', 2], ['28-06-2019 15:00', 45.55120086669922, 60.32153046811181, '29', '27', 2], ['28-06-2019 15:15', 39.21464538574219, 59.68138667824354, '29', '29', 2], ['28-06-2019 15:15', 38.55116653442383, 59.19221858083991, '29', '29', 2], ['28-06-2019 15:15', 38.29088592529297, 60.128658388615435, '29', '29', 2], ['28-06-2019 15:15', 44.505550384521484, 58.217220297303854, '29', '29', 2], ['28-06-2019 15:15', 43.365535736083984, 57.76370169141424, '29', '29', 2], ['28-06-2019 15:15', 43.32503890991211, 58.14177767928893, '29', '29', 2], ['28-06-2019 15:30', 36.73680114746094, 61.261767985201175, '29', '29', 2], ['28-06-2019 15:30', 40.04206848144531, 62.08611803270183, '29', '29', 2], ['28-06-2019 15:30', 42.723724365234375, 64.41817069451383, '29', '29', 1], ['28-06-2019 15:30', 44.13730239868164, 61.475403126445045, '29', '29', 2], ['28-06-2019 15:30', 43.665924072265625, 59.60904338794895, '29', '29', 2], ['28-06-2019 15:30', 45.54943084716797, 59.79659951429775, '29', '29', 2], ['28-06-2019 15:45', 40.850067138671875, 61.47104964179489, '29', '29', 2], ['28-06-2019 15:45', 41.910560607910156, 64.23212598634986, '29', '29', 1], ['28-06-2019 15:45', 42.26336669921875, 61.444063008577245, '29', '29', 1], ['28-06-2019 15:45', 44.88726806640625, 58.97596128625542, '29', '29', 2], ['28-06-2019 15:45', 45.25229263305664, 64.77294593198657, '29', '29', 2], ['28-06-2019 15:45', 46.71083450317383, 59.108804258136445, '29', '29', 2], ['28-06-2019 16:00', 39.754634857177734, 64.41640799180018, '40', '29', 2], ['28-06-2019 16:00', 40.039642333984375, 63.89080342194755, '40', '29', 2], ['28-06-2019 16:00', 40.34247970581055, 69.2699025136958, '40', '29', 1], ['28-06-2019 16:00', 43.86315155029297, 63.25955347221027, '40', '29', 2], ['28-06-2019 16:00', 44.18154525756836, 61.06859091186619, '40', '29', 2], ['28-06-2019 16:00', 43.5246696472168, 64.92340795908268, '40', '29', 2], ['28-06-2019 16:15', 41.12328338623047, 63.589673836513974, '40', '29', 1], ['28-06-2019 16:15', 40.85868453979492, 64.38144631088315, '40', '29', 1], ['28-06-2019 16:15', 39.70769119262695, 65.03364223447461, '40', '29', 1], ['28-06-2019 16:15', 45.22916030883789, 61.51682242325089, '40', '29', 2], ['28-06-2019 16:15', 44.81990051269531, 61.91854423561022, '40', '29', 2], ['28-06-2019 16:15', 43.900760650634766, 61.131669123380604, '40', '29', 2], ['28-06-2019 16:30', 39.64723205566406, 65.54654203376772, '40', '40', 1], ['28-06-2019 16:30', 39.340179443359375, 67.77523489401658, '40', '40', 1], ['28-06-2019 16:30', 40.22541427612305, 66.77229576768096, '40', '40', 1], ['28-06-2019 16:30', 43.11723327636719, 62.36982374422055, '40', '40', 2], ['28-06-2019 16:30', 42.4629020690918, 64.13141701698052, '40', '40', 2], ['28-06-2019 16:30', 43.76988220214844, 62.65991549103481, '40', '40', 2], ['28-06-2019 16:45', 41.10302734375, 67.02955719016391, '40', '40', 1], ['28-06-2019 16:45', 40.05997085571289, 66.92506496016121, '40', '40', 1], ['28-06-2019 16:45', 40.60765075683594, 67.6610962079671, '40', '40', 1], ['28-06-2019 16:45', 44.191192626953125, 62.835759655582606, '40', '40', 2], ['28-06-2019 16:45', 43.258731842041016, 62.98457349894451, '40', '40', 2], ['28-06-2019 16:45', 43.678077697753906, 63.60000178391256, '40', '40', 2], ['28-06-2019 17:00', 39.917484283447266, 70.2440784048099, '44', '40', 1], ['28-06-2019 17:00', 40.03033447265625, 70.73285450461212, '44', '40', 1], ['28-06-2019 17:00', 37.91440963745117, 72.49171890716804, '44', '40', 1], ['28-06-2019 17:00', 43.10152053833008, 65.51726058997123, '44', '40', 2], ['28-06-2019 17:00', 43.58074188232422, 66.00280977333328, '44', '40', 2], ['28-06-2019 17:00', 42.37623977661133, 67.39665068968675, '44', '40', 1], ['28-06-2019 17:00', 42.21363067626953, 67.13136831466828, '44', '40', 1], ['28-06-2019 17:15', 39.85566329956055, 70.18600130309423, '44', '40', 1], ['28-06-2019 17:15', 39.41408157348633, 70.79450238855588, '44', '40', 1], ['28-06-2019 17:15', 39.43210983276367, 70.93254406742679, '44', '40', 1], ['28-06-2019 17:15', 43.093563079833984, 65.8457828093588, '44', '40', 2], ['28-06-2019 17:15', 43.661521911621094, 66.30271544066807, '44', '40', 1], ['28-06-2019 17:15', 42.57889938354492, 65.67622307564862, '44', '40', 1], ['28-06-2019 17:30', 39.15667724609375, 70.62947342872155, '44', '40', 1], ['28-06-2019 17:30', 39.23601531982422, 71.0283954638727, '44', '40', 1], ['28-06-2019 17:30', 37.977638244628906, 71.2492940075553, '44', '40', 1], ['28-06-2019 17:30', 42.6540412902832, 66.33303283322908, '44', '40', 1], ['28-06-2019 17:30', 42.35889434814453, 66.37093220279723, '44', '40', 2], ['28-06-2019 17:30', 41.971885681152344, 66.81984080775543, '44', '40', 2], ['28-06-2019 17:45', 38.44889831542969, 71.35810945053525, '44', '44', 1], ['28-06-2019 17:45', 38.02770233154297, 71.6281447848178, '44', '44', 1], ['28-06-2019 17:45', 37.91728210449219, 72.31827565997764, '44', '44', 1], ['28-06-2019 17:45', 42.16611099243164, 66.72857100901628, '44', '44', 1], ['28-06-2019 17:45', 42.390289306640625, 67.16329053003668, '44', '44', 2], ['28-06-2019 17:45', 42.10350036621094, 67.12990454840049, '44', '44', 1], ['28-06-2019 18:00', 37.903682708740234, 72.2697045212308, '35', '44', 1], ['28-06-2019 18:00', 37.96809005737305, 72.0265767341911, '35', '44', 1], ['28-06-2019 18:00', 41.0207405090332, 74.37770358468444, '35', '44', 1], ['28-06-2019 18:00', 42.45342254638672, 67.01747521835209, '35', '44', 1], ['28-06-2019 18:00', 48.50453186035156, 66.11820443718712, '35', '44', 2], ['28-06-2019 18:00', 48.47434616088867, 65.27360008488878, '35', '44', 2], ['28-06-2019 18:15', 37.97673416137695, 72.48883926313673, '35', '44', 1], ['28-06-2019 18:15', 37.814796447753906, 72.98749528016512, '35', '44', 1], ['28-06-2019 18:15', 37.89573287963867, 73.39796069976494, '35', '44', 1], ['28-06-2019 18:15', 42.10002899169922, 66.93268912048669, '35', '44', 1], ['28-06-2019 18:15', 42.27328872680664, 67.0828518611254, '35', '44', 1], ['28-06-2019 18:15', 42.24126434326172, 66.89208241532837, '35', '44', 1], ['28-06-2019 18:30', 38.033729553222656, 74.09353523418442, '35', '44', 1], ['28-06-2019 18:30', 38.20022964477539, 74.30259464279254, '35', '44', 1], ['28-06-2019 18:30', 38.780574798583984, 74.46691383684605, '35', '44', 1], ['28-06-2019 18:30', 42.79938507080078, 66.38077713051985, '35', '44', 1], ['28-06-2019 18:30', 43.16880416870117, 66.30554796954237, '35', '44', 1], ['28-06-2019 18:30', 44.12356948852539, 66.54940973219877, '35', '44', 1], ['28-06-2019 18:45', 38.930416107177734, 74.9792261966923, '35', '44', 1], ['28-06-2019 18:45', 40.20078659057617, 75.41393197819411, '35', '44', 1], ['28-06-2019 18:45', 40.808074951171875, 75.05928246857962, '35', '44', 1], ['28-06-2019 18:45', 44.73534393310547, 66.4536965879764, '35', '44', 1], ['28-06-2019 18:45', 45.485931396484375, 66.1653267885373, '35', '44', 1], ['28-06-2019 18:45', 48.438602447509766, 66.23354385495648, '35', '44', 2], ['29-06-2019 06:00', 39.36117935180664, 84.09974600331243, '103', '81', 1], ['29-06-2019 06:00', 38.215572357177734, 84.51683630826675, '103', '81', 1], ['29-06-2019 06:00', 37.29438781738281, 83.07636508313678, '103', '81', 1], ['29-06-2019 06:00', 46.7039680480957, 67.0595354229999, '103', '81', 1], ['29-06-2019 06:00', 49.14915084838867, 68.30385685170297, '103', '81', 1], ['29-06-2019 06:00', 50.01307678222656, 66.46157023887733, '103', '81', 1], ['29-06-2019 06:15', 38.10626983642578, 84.306574853249, '103', '103', 1], ['29-06-2019 06:15', 37.214046478271484, 84.28199010092271, '103', '103', 1], ['29-06-2019 06:15', 37.02609634399414, 83.87725784938232, '103', '103', 1], ['29-06-2019 06:15', 46.747596740722656, 67.44313600443986, '103', '103', 1], ['29-06-2019 06:15', 46.37795639038086, 67.87894003144969, '103', '103', 1], ['29-06-2019 06:15', 46.80503463745117, 67.60949458725212, '103', '103', 1], ['29-06-2019 06:30', 36.842315673828125, 83.50197033068554, '103', '103', 1], ['29-06-2019 06:30', 37.24179458618164, 83.468966987748, '103', '103', 1], ['29-06-2019 06:30', 36.78394317626953, 83.88908847359372, '103', '103', 1], ['29-06-2019 06:30', 47.05069351196289, 67.69427163388164, '103', '103', 1], ['29-06-2019 06:30', 47.59769821166992, 67.14007609412982, '103', '103', 1], ['29-06-2019 06:30', 47.51258850097656, 68.81501789174807, '103', '103', 1], ['29-06-2019 06:45', 37.47895050048828, 82.93459659737566, '103', '103', 1], ['29-06-2019 06:45', 39.22284698486328, 81.56001669674572, '103', '103', 1], ['29-06-2019 06:45', 37.39830780029297, 82.81601996470833, '103', '103', 1], ['29-06-2019 06:45', 48.18763732910156, 67.38332778509735, '103', '103', 1], ['29-06-2019 06:45', 49.483299255371094, 65.76507956612556, '103', '103', 1], ['29-06-2019 06:45', 48.971435546875, 66.95218673238179, '103', '103', 1], ['29-06-2019 07:00', 36.60573959350586, 85.53652192229781, '94', '103', 1], ['29-06-2019 07:00', 37.64716720581055, 83.7877949609449, '94', '103', 1], ['29-06-2019 07:00', 46.92622756958008, 79.65202919093471, '94', '103', 1], ['29-06-2019 07:00', 50.435951232910156, 66.49526887662667, '94', '103', 1], ['29-06-2019 07:00', 53.20588684082031, 66.28120081526725, '94', '103', 1], ['29-06-2019 07:00', 53.36045455932617, 65.93090784328601, '94', '103', 1], ['29-06-2019 07:15', 39.860740661621094, 83.77936164213233, '94', '103', 1], ['29-06-2019 07:15', 38.28385925292969, 83.36879253790671, '94', '103', 1], ['29-06-2019 07:15', 42.47066879272461, 83.33590581649602, '94', '103', 1], ['29-06-2019 07:15', 48.09177780151367, 69.04172218837695, '94', '103', 1], ['29-06-2019 07:15', 52.65483093261719, 64.35793069160496, '94', '103', 1], ['29-06-2019 07:15', 52.990257263183594, 65.36202306669384, '94', '103', 1], ['29-06-2019 07:30', 43.033477783203125, 82.07421817255748, '94', '94', 1], ['29-06-2019 07:30', 44.063392639160156, 81.52849863471036, '94', '94', 1], ['29-06-2019 07:30', 44.637786865234375, 82.21564579788823, '94', '94', 1], ['29-06-2019 07:30', 48.600894927978516, 69.41492948037468, '94', '94', 1], ['29-06-2019 07:30', 53.173240661621094, 65.93620610899652, '94', '94', 1], ['29-06-2019 07:30', 53.155216217041016, 66.58445784047044, '94', '94', 1], ['29-06-2019 07:45', 45.75700759887695, 81.44902281343458, '94', '94', 1], ['29-06-2019 07:45', 45.73944091796875, 81.14587593350906, '94', '94', 1], ['29-06-2019 07:45', 46.20246505737305, 80.12094778294788, '94', '94', 1], ['29-06-2019 07:45', 53.168209075927734, 66.50365483465964, '94', '94', 1], ['29-06-2019 07:45', 52.87885284423828, 66.79066894580374, '94', '94', 1], ['29-06-2019 07:45', 53.029273986816406, 66.34558202383283, '94', '94', 1], ['29-06-2019 08:00', 47.1900520324707, 78.87914282763094, '66', '94', 1], ['29-06-2019 08:00', 47.42572021484375, 78.0097907338417, '66', '94', 1], ['29-06-2019 08:00', 45.834625244140625, 73.74955572416351, '66', '94', 1], ['29-06-2019 08:00', 53.480506896972656, 65.4452012791877, '66', '94', 1], ['29-06-2019 08:00', 51.84205627441406, 63.99843370275305, '66', '94', 1], ['29-06-2019 08:00', 51.81533432006836, 64.19669710637018, '66', '94', 1], ['29-06-2019 08:15', 46.9871711730957, 77.49667330468827, '66', '94', 1], ['29-06-2019 08:15', 47.49155044555664, 78.29351506315818, '66', '94', 1], ['29-06-2019 08:15', 46.89130783081055, 77.20542235689484, '66', '94', 1], ['29-06-2019 08:15', 53.254554748535156, 65.57661333958772, '66', '94', 1], ['29-06-2019 08:15', 53.05308151245117, 65.28096841038058, '66', '94', 1], ['29-06-2019 08:15', 52.91902542114258, 64.92402962297747, '66', '94', 1], ['29-06-2019 08:30', 46.575172424316406, 76.37825556737599, '66', '94', 1], ['29-06-2019 08:30', 46.37395477294922, 76.3677951922958, '66', '94', 1], ['29-06-2019 08:30', 46.23698425292969, 75.53017275923612, '66', '94', 1], ['29-06-2019 08:30', 52.89751434326172, 65.26573937129565, '66', '94', 1], ['29-06-2019 08:30', 52.241764068603516, 65.26266904528636, '66', '94', 1], ['29-06-2019 08:30', 52.41887664794922, 64.38492927223815, '66', '94', 1], ['29-06-2019 08:45', 46.06462097167969, 74.63192864811184, '66', '66', 1], ['29-06-2019 08:45', 45.9036865234375, 74.665132343657, '66', '66', 1], ['29-06-2019 08:45', 45.97627639770508, 74.71857014001328, '66', '66', 1], ['29-06-2019 08:45', 52.49538040161133, 64.67447105087196, '66', '66', 1], ['29-06-2019 08:45', 52.54515075683594, 64.74656787037047, '66', '66', 1], ['29-06-2019 08:45', 52.209686279296875, 64.38748591203385, '66', '66', 1], ['29-06-2019 09:00', 45.8992805480957, 73.61011790322334, '51', '66', 1], ['29-06-2019 09:00', 45.65339279174805, 72.88555817689608, '51', '66', 1], ['29-06-2019 09:00', 42.74415588378906, 69.00263657182558, '51', '66', 1], ['29-06-2019 09:00', 42.30218505859375, 69.13128271564699, '51', '66', 1], ['29-06-2019 09:00', 51.76091003417969, 64.03411581090172, '51', '66', 2], ['29-06-2019 09:00', 46.13939666748047, 61.27574669193194, '51', '66', 2], ['29-06-2019 09:00', 45.76809310913086, 61.56889582751829, '51', '66', 2], ['29-06-2019 09:15', 45.508453369140625, 72.33059340660947, '51', '66', 1], ['29-06-2019 09:15', 45.3518180847168, 72.15616596870687, '51', '66', 1], ['29-06-2019 09:15', 44.760414123535156, 71.27076776628155, '51', '66', 1], ['29-06-2019 09:15', 51.20310592651367, 63.69557973744545, '51', '66', 2], ['29-06-2019 09:15', 50.80604553222656, 63.752823948365275, '51', '66', 2], ['29-06-2019 09:15', 50.55085372924805, 63.869596489945515, '51', '66', 2], ['29-06-2019 09:30', 44.75770950317383, 71.08814375552548, '51', '66', 1], ['29-06-2019 09:30', 43.975181579589844, 70.05355996841139, '51', '66', 1], ['29-06-2019 09:30', 43.97785568237305, 70.21488865018611, '51', '66', 1], ['29-06-2019 09:30', 49.793087005615234, 63.867644110973686, '51', '66', 2], ['29-06-2019 09:30', 49.564109802246094, 63.96086070528989, '51', '66', 2], ['29-06-2019 09:30', 48.73672866821289, 63.30767512137324, '51', '66', 2], ['29-06-2019 09:45', 43.472869873046875, 69.57408852227292, '51', '66', 1], ['29-06-2019 09:45', 43.547969818115234, 69.89164354998164, '51', '66', 1], ['29-06-2019 09:45', 43.14362335205078, 69.72013640461951, '51', '66', 1], ['29-06-2019 09:45', 47.97426986694336, 62.792103301561205, '51', '66', 2], ['29-06-2019 09:45', 47.407875061035156, 62.23096387284836, '51', '66', 2], ['29-06-2019 09:45', 46.63566970825195, 61.726226265577104, '51', '66', 2], ['29-06-2019 10:00', 42.07572937011719, 69.00132582255897, '39', '51', 1], ['29-06-2019 10:00', 38.7449836730957, 65.47361601016318, '39', '51', 2], ['29-06-2019 10:00', 38.45379638671875, 64.865032884074, '39', '51', 2], ['29-06-2019 10:00', 45.356529235839844, 61.634678575568614, '39', '51', 2], ['29-06-2019 10:00', 42.38459777832031, 60.998960433608815, '39', '51', 2], ['29-06-2019 10:00', 42.138465881347656, 61.14558701933268, '39', '51', 2], ['29-06-2019 10:15', 41.942352294921875, 69.10229182659035, '39', '51', 1], ['29-06-2019 10:15', 41.50322341918945, 67.75448220162797, '39', '51', 1], ['29-06-2019 10:15', 40.72443389892578, 67.50135013451776, '39', '51', 1], ['29-06-2019 10:15', 44.87428283691406, 61.590399908443565, '39', '51', 2], ['29-06-2019 10:15', 44.9118766784668, 61.47179505989279, '39', '51', 2], ['29-06-2019 10:15', 44.81369400024414, 61.61608890031186, '39', '51', 2], ['29-06-2019 10:30', 40.82904052734375, 67.35854266767383, '39', '51', 2], ['29-06-2019 10:30', 40.254615783691406, 66.44766790169516, '39', '51', 2], ['29-06-2019 10:30', 39.93254470825195, 66.33238304767626, '39', '51', 2], ['29-06-2019 10:30', 43.795082092285156, 61.438647868009305, '39', '51', 2], ['29-06-2019 10:30', 43.54736328125, 61.53846044137388, '39', '51', 2], ['29-06-2019 10:30', 43.18752670288086, 61.38523874140073, '39', '51', 2], ['29-06-2019 10:45', 39.608455657958984, 66.28650249846814, '39', '51', 2], ['29-06-2019 10:45', 39.40987777709961, 66.06116611634256, '39', '51', 2], ['29-06-2019 10:45', 38.966915130615234, 65.18725652901361, '39', '51', 2], ['29-06-2019 10:45', 43.148773193359375, 61.542289355505126, '39', '51', 2], ['29-06-2019 10:45', 42.95566177368164, 61.31404441388987, '39', '51', 2], ['29-06-2019 10:45', 42.68634033203125, 61.16256644473168, '39', '51', 2], ['29-06-2019 11:00', 38.26523208618164, 64.33685670912662, '39', '51', 2], ['29-06-2019 11:00', 36.561920166015625, 61.356162150489574, '39', '51', 2], ['29-06-2019 11:00', 41.49916458129883, 60.631447799610406, '39', '51', 2], ['29-06-2019 11:00', 36.47172164916992, 59.78557648771207, '39', '51', 2], ['29-06-2019 11:00', 36.61690139770508, 60.04036501108056, '39', '51', 2], ['29-06-2019 11:15', 38.13359451293945, 64.61958961601786, '39', '39', 2], ['29-06-2019 11:15', 37.90489196777344, 64.03176033520384, '39', '39', 2], ['29-06-2019 11:15', 37.53813171386719, 63.32474289533103, '39', '39', 2], ['29-06-2019 11:15', 41.271209716796875, 60.89788011065622, '39', '39', 2], ['29-06-2019 11:15', 40.554840087890625, 60.53323002232799, '39', '39', 2], ['29-06-2019 11:15', 40.016258239746094, 60.22335026350195, '39', '39', 2], ['29-06-2019 11:30', 37.597049713134766, 63.313404184676294, '39', '39', 2], ['29-06-2019 11:30', 37.46723937988281, 62.68269345443024, '39', '39', 2], ['29-06-2019 11:30', 37.48091125488281, 62.84745445215325, '39', '39', 2], ['29-06-2019 11:30', 38.651397705078125, 61.05567326067024, '39', '39', 2], ['29-06-2019 11:30', 38.49583435058594, 60.84801791236731, '39', '39', 2], ['29-06-2019 11:30', 38.016136169433594, 60.96279021243266, '39', '39', 2], ['29-06-2019 11:45', 37.26201248168945, 62.43464632294858, '39', '39', 2], ['29-06-2019 11:45', 37.00029754638672, 62.67020550714425, '39', '39', 2], ['29-06-2019 11:45', 36.74787521362305, 61.72212410742631, '39', '39', 2], ['29-06-2019 11:45', 37.5311393737793, 60.57243771055302, '39', '39', 2], ['29-06-2019 11:45', 36.86570739746094, 60.28072821888034, '39', '39', 2], ['29-06-2019 11:45', 36.65312957763672, 60.072320283887834, '39', '39', 2], ['29-06-2019 12:00', 36.763916015625, 61.7430804458914, '44', '39', 2], ['29-06-2019 12:00', 36.541160583496094, 61.04644422652641, '44', '39', 2], ['29-06-2019 12:00', 38.95343017578125, 59.545327808825654, '44', '39', 2], ['29-06-2019 12:00', 39.60762405395508, 58.712421375887764, '44', '39', 2], ['29-06-2019 12:00', 35.7547492980957, 59.67583362508598, '44', '39', 2], ['29-06-2019 12:00', 35.87009048461914, 57.3432127492067, '44', '39', 2], ['29-06-2019 12:00', 37.53135299682617, 57.26067748483498, '44', '39', 2], ['29-06-2019 12:15', 37.64549255371094, 65.86629527699236, '44', '39', 2], ['29-06-2019 12:15', 36.56317901611328, 60.5827399101082, '44', '39', 2], ['29-06-2019 12:15', 36.32905578613281, 60.41737412875609, '44', '39', 2], ['29-06-2019 12:15', 36.80800247192383, 59.703212939839986, '44', '39', 2], ['29-06-2019 12:15', 35.508243560791016, 59.16698808027184, '44', '39', 2], ['29-06-2019 12:15', 37.18000030517578, 59.104594686372124, '44', '39', 2], ['29-06-2019 12:30', 35.80657958984375, 59.953684259369474, '44', '44', 2], ['29-06-2019 12:30', 36.54342269897461, 59.73704239217289, '44', '44', 2], ['29-06-2019 12:30', 37.64801788330078, 60.34025587677675, '44', '44', 2], ['29-06-2019 12:30', 34.93149948120117, 58.532034204384125, '44', '44', 2], ['29-06-2019 12:30', 35.12625503540039, 58.404131035567225, '44', '44', 2], ['29-06-2019 12:30', 36.94679641723633, 58.38416045241384, '44', '44', 2], ['29-06-2019 12:45', 37.428001403808594, 58.98900586221179, '44', '44', 2], ['29-06-2019 12:45', 38.683250427246094, 64.98674780702467, '44', '44', 2], ['29-06-2019 12:45', 37.27090835571289, 60.17617830765646, '44', '44', 2], ['29-06-2019 12:45', 35.01880645751953, 57.631665866889406, '44', '44', 2], ['29-06-2019 12:45', 36.475341796875, 58.13820874542989, '44', '44', 2], ['29-06-2019 12:45', 36.20901107788086, 57.79082231738218, '44', '44', 2], ['29-06-2019 13:00', 39.00822067260742, 58.6434776684299, '44', '44', 2], ['29-06-2019 13:00', 41.10295104980469, 57.51709642123843, '44', '44', 2], ['29-06-2019 13:00', 40.614524841308594, 57.73593172269607, '44', '44', 2], ['29-06-2019 13:00', 37.51560974121094, 57.16261858772906, '44', '44', 2], ['29-06-2019 13:00', 40.18030548095703, 56.019962583874566, '44', '44', 2], ['29-06-2019 13:00', 40.73173904418945, 56.29656543323449, '44', '44', 2], ['29-06-2019 13:15', 38.34756088256836, 58.817382507977854, '44', '44', 2], ['29-06-2019 13:15', 38.1280632019043, 58.65594202559417, '44', '44', 2], ['29-06-2019 13:15', 37.481327056884766, 57.949315369870284, '44', '44', 2], ['29-06-2019 13:15', 36.18511962890625, 56.704754949002854, '44', '44', 2], ['29-06-2019 13:15', 36.505950927734375, 56.61520029762204, '44', '44', 2], ['29-06-2019 13:15', 35.6769905090332, 56.10482410680424, '44', '44', 2], ['29-06-2019 13:30', 38.70833206176758, 58.748098475221056, '44', '44', 2], ['29-06-2019 13:30', 39.334415435791016, 58.26391076706526, '44', '44', 2], ['29-06-2019 13:30', 40.43030548095703, 58.45999149227687, '44', '44', 2], ['29-06-2019 13:30', 37.18669891357422, 56.33649605269409, '44', '44', 2], ['29-06-2019 13:30', 37.359275817871094, 56.24786291945187, '44', '44', 2], ['29-06-2019 13:30', 37.710670471191406, 56.05187362200674, '44', '44', 2], ['29-06-2019 13:45', 41.270565032958984, 57.88444673202786, '44', '44', 2], ['29-06-2019 13:45', 40.68089294433594, 57.07655596259567, '44', '44', 2], ['29-06-2019 13:45', 40.13207244873047, 56.914099128738115, '44', '44', 2], ['29-06-2019 13:45', 39.00448989868164, 56.06138932102877, '44', '44', 2], ['29-06-2019 13:45', 38.852455139160156, 55.89477792665008, '44', '44', 2], ['29-06-2019 13:45', 38.80336380004883, 55.97847223874125, '44', '44', 2], ['29-06-2019 14:00', 40.26089096069336, 72.56525933264825, '46', '44', 1], ['29-06-2019 14:00', 38.21210861206055, 74.26284402975617, '46', '44', 1], ['29-06-2019 14:00', 42.78612518310547, 65.45993841284297, '46', '44', 2], ['29-06-2019 14:00', 42.2910041809082, 65.54860421148705, '46', '44', 2], ['29-06-2019 14:15', 45.386417388916016, 62.34476307494596, '46', '44', 2], ['29-06-2019 14:15', 41.37830352783203, 60.383708903084404, '46', '44', 2], ['29-06-2019 14:15', 40.9250602722168, 57.2732324996063, '46', '44', 2], ['29-06-2019 14:15', 41.503746032714844, 55.516069597661414, '46', '44', 2], ['29-06-2019 14:15', 43.641780853271484, 57.303394899948294, '46', '44', 2], ['29-06-2019 14:15', 41.50872802734375, 55.43125655646484, '46', '44', 2], ['29-06-2019 14:30', 39.598106384277344, 71.84840612602547, '46', '44', 1], ['29-06-2019 14:30', 41.39081573486328, 56.239519576038866, '46', '44', 2], ['29-06-2019 14:30', 38.34516906738281, 57.236069466476756, '46', '44', 2], ['29-06-2019 14:30', 43.5362434387207, 64.48554394304658, '46', '44', 2], ['29-06-2019 14:30', 43.9953727722168, 54.580725820578195, '46', '44', 2], ['29-06-2019 14:30', 42.45951843261719, 55.79552547095955, '46', '44', 2], ['29-06-2019 14:45', 38.82389450073242, 57.3512198405532, '46', '44', 2], ['29-06-2019 14:45', 38.8340950012207, 57.48724149881013, '46', '44', 2], ['29-06-2019 14:45', 37.28886032104492, 57.96168183873152, '46', '44', 2], ['29-06-2019 14:45', 42.942230224609375, 55.753592126640335, '46', '44', 2], ['29-06-2019 14:45', 43.48786544799805, 59.746901660131904, '46', '44', 2], ['29-06-2019 14:45', 43.7705078125, 59.46741047861068, '46', '44', 2], ['29-06-2019 15:00', 40.179744720458984, 68.74964991672746, '55', '46', 2], ['29-06-2019 15:00', 37.24068069458008, 57.99253074966327, '55', '46', 2], ['29-06-2019 15:00', 40.146202087402344, 72.77226492069525, '55', '46', 1], ['29-06-2019 15:00', 43.822166442871094, 55.075529031768326, '55', '46', 2], ['29-06-2019 15:00', 42.992919921875, 55.29966988550392, '55', '46', 2], ['29-06-2019 15:00', 45.24961471557617, 59.94556130288845, '55', '46', 2], ['29-06-2019 15:15', 35.987998962402344, 58.59406679099395, '55', '46', 1], ['29-06-2019 15:15', 35.370513916015625, 59.3904487087831, '55', '46', 1], ['29-06-2019 15:15', 37.83830261230469, 69.24107781680746, '55', '46', 2], ['29-06-2019 15:15', 42.29034423828125, 57.08911175858699, '55', '46', 2], ['29-06-2019 15:15', 41.65312957763672, 57.47990940403023, '55', '46', 2], ['29-06-2019 15:15', 42.91444778442383, 58.60565984429911, '55', '46', 2], ['29-06-2019 15:30', 35.2338981628418, 60.195358750538986, '55', '46', 1], ['29-06-2019 15:30', 38.29447937011719, 64.26733821090095, '55', '46', 2], ['29-06-2019 15:30', 37.43256378173828, 60.87548023847342, '55', '46', 2], ['29-06-2019 15:30', 42.560245513916016, 57.800887508150296, '55', '46', 2], ['29-06-2019 15:30', 42.551666259765625, 58.81927415032356, '55', '46', 2], ['29-06-2019 15:30', 41.24126052856445, 58.42775133270527, '55', '46', 2], ['29-06-2019 15:45', 39.143882751464844, 58.73151520038262, '55', '46', 2], ['29-06-2019 15:45', 40.931087493896484, 69.01699188000684, '55', '46', 1], ['29-06-2019 15:45', 39.00679016113281, 73.26457012154067, '55', '46', 1], ['29-06-2019 15:45', 42.75143814086914, 55.92186432786769, '55', '46', 2], ['29-06-2019 15:45', 43.67044448852539, 57.414926666825885, '55', '46', 2], ['29-06-2019 15:45', 42.875999450683594, 65.81668732459181, '55', '46', 2], ['29-06-2019 16:00', 41.86504364013672, 62.40565046453192, '62', '46', 1], ['29-06-2019 16:00', 36.375152587890625, 71.45630053926143, '62', '46', 1], ['29-06-2019 16:00', 40.39921951293945, 68.27948057489216, '62', '46', 1], ['29-06-2019 16:00', 45.74958801269531, 58.900063253361175, '62', '46', 2], ['29-06-2019 16:00', 41.78062057495117, 65.11981545272381, '62', '46', 2], ['29-06-2019 16:00', 42.11147689819336, 62.5342763839618, '62', '46', 2], ['29-06-2019 16:00', 44.41737365722656, 62.888282439986355, '62', '46', 2], ['29-06-2019 16:15', 38.953670501708984, 73.02468095559308, '62', '62', 1], ['29-06-2019 16:15', 41.81729507446289, 64.10622476299496, '62', '62', 1], ['29-06-2019 16:15', 40.99331283569336, 71.48090204711279, '62', '62', 1], ['29-06-2019 16:15', 44.413230895996094, 62.71635611127707, '62', '62', 2], ['29-06-2019 16:15', 44.93669509887695, 61.21256169531256, '62', '62', 2], ['29-06-2019 16:15', 44.65983200073242, 64.30516057543562, '62', '62', 2], ['29-06-2019 16:30', 40.94075393676758, 63.81716733278714, '62', '62', 1], ['29-06-2019 16:30', 41.59640121459961, 63.835539921965186, '62', '62', 1], ['29-06-2019 16:30', 40.305999755859375, 67.21212779639167, '62', '62', 1], ['29-06-2019 16:30', 44.82361602783203, 59.084476314669246, '62', '62', 2], ['29-06-2019 16:30', 43.97060012817383, 59.467499920115166, '62', '62', 2], ['29-06-2019 16:30', 43.75826644897461, 63.0672621136332, '62', '62', 2], ['29-06-2019 16:45', 39.714054107666016, 66.39963436596503, '62', '62', 1], ['29-06-2019 16:45', 39.772308349609375, 69.02436021222707, '62', '62', 1], ['29-06-2019 16:45', 37.84748840332031, 68.72564359843409, '62', '62', 1], ['29-06-2019 16:45', 43.389976501464844, 61.64635093455154, '62', '62', 2], ['29-06-2019 16:45', 43.86087417602539, 65.10767939396338, '62', '62', 2], ['29-06-2019 16:45', 42.377864837646484, 63.266273121672405, '62', '62', 2], ['29-06-2019 17:00', 43.12528991699219, 68.4476566905406, '41', '62', 1], ['29-06-2019 17:00', 40.555850982666016, 69.69530097679296, '41', '62', 1], ['29-06-2019 17:00', 39.02143096923828, 70.8817097358688, '41', '62', 1], ['29-06-2019 17:00', 44.34185791015625, 64.41658754777963, '41', '62', 2], ['29-06-2019 17:00', 43.75429916381836, 65.73947658617274, '41', '62', 2], ['29-06-2019 17:15', 40.860130310058594, 69.82540663666238, '41', '62', 1], ['29-06-2019 17:15', 39.712806701660156, 69.62155668319105, '41', '62', 1], ['29-06-2019 17:15', 38.95163345336914, 70.199874571261, '41', '62', 1], ['29-06-2019 17:15', 44.12152862548828, 64.13843874300306, '41', '62', 2], ['29-06-2019 17:15', 43.29425811767578, 63.91011997235365, '41', '62', 2], ['29-06-2019 17:15', 43.154293060302734, 64.68254026901678, '41', '62', 2], ['29-06-2019 17:30', 38.553836822509766, 70.84230712796024, '41', '41', 1], ['29-06-2019 17:30', 38.902870178222656, 69.80007833359646, '41', '41', 1], ['29-06-2019 17:30', 38.47917556762695, 71.13612326265302, '41', '41', 1], ['29-06-2019 17:30', 42.685726165771484, 64.87295016218633, '41', '41', 2], ['29-06-2019 17:30', 43.14467239379883, 64.54814863645196, '41', '41', 2], ['29-06-2019 17:30', 42.43763732910156, 64.67262879109528, '41', '41', 2], ['29-06-2019 17:45', 38.68196487426758, 71.60057219053392, '41', '41', 1], ['29-06-2019 17:45', 38.49734878540039, 71.71542014417413, '41', '41', 1], ['29-06-2019 17:45', 37.93731689453125, 71.7131140262421, '41', '41', 1], ['29-06-2019 17:45', 42.91490173339844, 65.7939306574473, '41', '41', 2], ['29-06-2019 17:45', 42.58045959472656, 65.59228950958573, '41', '41', 2], ['29-06-2019 17:45', 42.30122756958008, 65.9905310194456, '41', '41', 2], ['29-06-2019 18:00', 39.93901062011719, 70.59194888254848, '39', '41', 1], ['29-06-2019 18:00', 41.206241607666016, 70.56347103481302, '39', '41', 1], ['29-06-2019 18:00', 42.32925033569336, 73.9529734101193, '39', '41', 1], ['29-06-2019 18:00', 45.0625114440918, 75.44417681699008, '39', '41', 1], ['29-06-2019 18:00', 44.768253326416016, 65.14122310199946, '39', '41', 2], ['29-06-2019 18:00', 45.10854721069336, 64.55470169978976, '39', '41', 1], ['29-06-2019 18:00', 48.4067497253418, 64.25181677954839, '39', '41', 2], ['29-06-2019 18:15', 42.94452667236328, 70.09709679599911, '39', '41', 1], ['29-06-2019 18:15', 43.941314697265625, 69.32148737550057, '39', '41', 1], ['29-06-2019 18:15', 45.0250129699707, 69.3929671399744, '39', '41', 1], ['29-06-2019 18:15', 46.87578582763672, 64.31004153189316, '39', '41', 2], ['29-06-2019 18:15', 48.683799743652344, 62.40160753074768, '39', '41', 2], ['29-06-2019 18:15', 49.30289077758789, 61.836190516807214, '39', '41', 2], ['29-06-2019 18:30', 45.69130325317383, 68.74251403479147, '39', '41', 1], ['29-06-2019 18:30', 45.51968002319336, 68.5331579260843, '39', '41', 1], ['29-06-2019 18:30', 43.33317947387695, 68.3631360447981, '39', '41', 1], ['29-06-2019 18:30', 50.223167419433594, 60.917556832728856, '39', '41', 2], ['29-06-2019 18:30', 49.91068649291992, 60.87519832692471, '39', '41', 2], ['29-06-2019 18:30', 48.161991119384766, 60.46100667406584, '39', '41', 2], ['29-06-2019 18:45', 41.782684326171875, 68.52408192047994, '39', '39', 1], ['29-06-2019 18:45', 41.575748443603516, 71.36290324734814, '39', '39', 1], ['29-06-2019 18:45', 41.50417709350586, 73.41680452071164, '39', '39', 1], ['29-06-2019 18:45', 47.170040130615234, 62.78382862766932, '39', '39', 2], ['29-06-2019 18:45', 49.271053314208984, 63.3618562678157, '39', '39', 2], ['29-06-2019 18:45', 49.39752197265625, 64.63289063954369, '39', '39', 2], ['30-06-2019 06:00', 48.310054779052734, 64.08527728017451, '146', '129', 2], ['30-06-2019 06:00', 35.788246154785156, 85.02770682863334, '146', '129', 1], ['30-06-2019 06:00', 36.330955505371094, 85.19794467321128, '146', '129', 1], ['30-06-2019 06:00', 51.03690719604492, 58.06136057741594, '146', '129', 2], ['30-06-2019 06:00', 41.08879089355469, 74.21633163930244, '146', '129', 1], ['30-06-2019 06:00', 42.11050033569336, 73.38196203861153, '146', '129', 1], ['30-06-2019 06:15', 47.00495910644531, 62.82056848933039, '146', '129', 2], ['30-06-2019 06:15', 48.13290023803711, 62.35468425889329, '146', '129', 2], ['30-06-2019 06:15', 50.76300811767578, 63.04656829061962, '146', '129', 2], ['30-06-2019 06:15', 49.42012023925781, 55.77423005783128, '146', '129', 2], ['30-06-2019 06:15', 47.99519729614258, 55.92013050488235, '146', '129', 2], ['30-06-2019 06:15', 48.12348556518555, 54.56677093210716, '146', '129', 2], ['30-06-2019 06:45', 37.37592697143555, 83.82066268311202, '45', '129', 1], ['30-06-2019 06:45', 33.94762420654297, 85.13698016137165, '45', '129', 1], ['30-06-2019 06:45', 36.685089111328125, 86.12672891809609, '45', '129', 1], ['30-06-2019 06:45', 41.92626953125, 73.47825695017127, '45', '129', 1], ['30-06-2019 06:45', 41.92765808105469, 73.27724214906394, '45', '129', 1], ['30-06-2019 06:45', 41.3697509765625, 73.17594125442444, '45', '129', 1], ['30-06-2019 07:00', 38.84214401245117, 83.48706603777748, '45', '45', 1], ['30-06-2019 07:00', 43.93472671508789, 70.92907285917039, '45', '45', 1], ['30-06-2019 07:00', 44.74740219116211, 59.30021606858933, '45', '45', 2], ['30-06-2019 07:15', 40.19205093383789, 81.26062088885072, '45', '45', 1], ['30-06-2019 07:15', 41.53587341308594, 77.76299768474283, '45', '45', 1], ['30-06-2019 07:15', 43.50637435913086, 73.99376713471074, '45', '45', 1], ['30-06-2019 07:15', 45.61438751220703, 68.53980986997833, '45', '45', 1], ['30-06-2019 07:15', 47.48956298828125, 66.39692398576034, '45', '45', 1], ['30-06-2019 07:15', 48.53583526611328, 64.2843994749124, '45', '45', 1], ['30-06-2019 07:45', 45.17776870727539, 59.90912225675766, '31', '45', 2], ['30-06-2019 07:45', 44.76506423950195, 59.81615246805685, '31', '45', 2], ['30-06-2019 07:45', 44.79412841796875, 60.05333199524543, '31', '45', 2], ['30-06-2019 08:00', 47.74609375, 60.428971072481474, '31', '45', 2], ['30-06-2019 08:00', 51.79011917114258, 61.618140255942876, '31', '45', 2], ['30-06-2019 08:00', 51.63993453979492, 64.32462888864046, '31', '45', 2], ['30-06-2019 08:15', 49.91331100463867, 62.16705722936818, '31', '45', 2], ['30-06-2019 08:15', 51.6253776550293, 61.92698694692793, '31', '45', 2], ['30-06-2019 08:15', 53.47754669189453, 61.68606366943943, '31', '45', 2], ['30-06-2019 08:45', 51.850852966308594, 63.81886362279189, '44', '31', 1], ['30-06-2019 08:45', 50.707374572753906, 65.29182794266383, '44', '31', 1], ['30-06-2019 08:45', 51.29973220825195, 64.71750827495693, '44', '31', 1], ['30-06-2019 09:00', 46.60906982421875, 68.96149956405195, '44', '31', 1], ['30-06-2019 09:00', 45.8204231262207, 69.58989456826254, '44', '31', 1], ['30-06-2019 09:00', 47.3883171081543, 62.09548482986861, '44', '31', 2], ['30-06-2019 09:15', 51.06250762939453, 63.642653468019596, '44', '31', 2], ['30-06-2019 09:15', 51.30624771118164, 63.94141671786233, '44', '31', 2], ['30-06-2019 09:15', 51.426883697509766, 63.34207683711294, '44', '31', 2], ['30-06-2019 09:45', 48.483909606933594, 63.41247531217665, '40', '31', 2], ['30-06-2019 09:45', 48.474891662597656, 63.91552673740812, '40', '31', 2], ['30-06-2019 09:45', 47.37964630126953, 62.44118019897738, '40', '31', 2], ['30-06-2019 10:00', 46.76609420776367, 61.89328962122973, '40', '31', 2], ['30-06-2019 10:00', 46.485538482666016, 61.70531947183028, '40', '31', 2], ['30-06-2019 10:00', 42.69502639770508, 61.280161657667755, '40', '31', 2], ['30-06-2019 10:15', 45.99236297607422, 61.18545749652269, '40', '40', 2], ['30-06-2019 10:15', 45.28300476074219, 61.21213540417879, '40', '40', 2], ['30-06-2019 10:15', 45.0471305847168, 61.47015777783293, '40', '40', 2], ['30-06-2019 10:45', 43.503273010253906, 61.392478805849684, '44', '40', 2], ['30-06-2019 10:45', 43.061988830566406, 61.450027289221474, '44', '40', 2], ['30-06-2019 10:45', 42.86270523071289, 61.29458761733164, '44', '40', 2], ['30-06-2019 11:00', 42.45954132080078, 60.981883628435476, '44', '40', 2], ['30-06-2019 11:00', 42.256046295166016, 61.101419607936016, '44', '40', 2], ['30-06-2019 11:00', 37.16080093383789, 60.30037889674864, '44', '40', 2], ['30-06-2019 11:00', 38.035362243652344, 60.41430568673678, '44', '40', 2], ['30-06-2019 11:15', 41.85244369506836, 60.768107093406286, '44', '40', 2], ['30-06-2019 11:15', 41.48695755004883, 60.761393639065055, '44', '40', 2], ['30-06-2019 11:15', 41.160648345947266, 60.60094975483581, '44', '40', 2], ['30-06-2019 11:45', 38.23767852783203, 60.73589854979669, '41', '40', 2], ['30-06-2019 11:45', 37.121490478515625, 60.362707434601326, '41', '40', 2], ['30-06-2019 11:45', 36.73764419555664, 60.42759099281395, '41', '40', 2], ['30-06-2019 12:00', 36.190372467041016, 59.58074592376266, '41', '41', 2], ['30-06-2019 12:00', 34.49563980102539, 57.251579466811236, '41', '41', 2], ['30-06-2019 12:00', 34.64892578125, 57.210430805035955, '41', '41', 2], ['30-06-2019 12:15', 35.97254180908203, 59.41678381341884, '41', '41', 2], ['30-06-2019 12:15', 35.679439544677734, 59.24361334274845, '41', '41', 2], ['30-06-2019 12:15', 35.59990310668945, 59.36144694704147, '41', '41', 2], ['30-06-2019 12:45', 34.58973693847656, 58.08789790035359, '48', '41', 2], ['30-06-2019 12:45', 34.412601470947266, 57.7025761405973, '48', '41', 2], ['30-06-2019 12:45', 34.648658752441406, 57.80019748317924, '48', '41', 2], ['30-06-2019 13:00', 34.42169952392578, 56.93395561207138, '48', '41', 2], ['30-06-2019 13:00', 37.06439208984375, 56.12901074324561, '48', '41', 2], ['30-06-2019 13:00', 38.13136291503906, 56.392783695196776, '48', '41', 2], ['30-06-2019 13:15', 34.449886322021484, 56.48181936332664, '48', '41', 2], ['30-06-2019 13:15', 34.40359878540039, 56.10716447582096, '48', '41', 2], ['30-06-2019 13:15', 34.38446044921875, 55.74336777299772, '48', '41', 2], ['30-06-2019 13:45', 34.984642028808594, 55.62104598659337, '46', '48', 2], ['30-06-2019 13:45', 35.486087799072266, 55.66111984464773, '46', '48', 2], ['30-06-2019 13:45', 36.09574890136719, 55.8244030365886, '46', '48', 2], ['30-06-2019 14:00', 38.575557708740234, 56.38318088030284, '46', '48', 2], ['30-06-2019 14:00', 44.02669906616211, 57.55427599867446, '46', '48', 2], ['30-06-2019 14:00', 44.282901763916016, 57.661023013072736, '46', '48', 2], ['30-06-2019 14:15', 41.15435791015625, 56.7021606748908, '46', '48', 2], ['30-06-2019 14:15', 41.753055572509766, 56.6611853704894, '46', '48', 2], ['30-06-2019 14:15', 42.70488739013672, 57.012621096355275, '46', '48', 2], ['30-06-2019 14:45', 44.4732551574707, 56.75081833672461, '56', '48', 2], ['30-06-2019 14:45', 44.191593170166016, 56.96365994477221, '56', '48', 2], ['30-06-2019 14:45', 44.2298583984375, 57.249518974042026, '56', '48', 2], ['30-06-2019 15:00', 44.64309310913086, 57.78025056861965, '56', '48', 2], ['30-06-2019 15:00', 43.928466796875, 59.83354167336884, '56', '48', 2], ['30-06-2019 15:15', 44.79400634765625, 58.45427837169947, '56', '56', 2], ['30-06-2019 15:15', 44.22285079956055, 58.52467807772509, '56', '56', 2], ['30-06-2019 15:15', 44.288082122802734, 58.912086547770244, '56', '56', 2], ['30-06-2019 15:45', 43.92197799682617, 59.44037252261789, '27', '56', 2], ['30-06-2019 15:45', 44.019371032714844, 59.50899077927673, '27', '56', 2], ['30-06-2019 15:45', 43.49003601074219, 59.50412181266768, '27', '56', 2], ['30-06-2019 16:00', 43.24462127685547, 59.67889091480291, '27', '56', 2], ['30-06-2019 16:00', 43.26999282836914, 60.42362710796934, '27', '56', 2], ['30-06-2019 16:00', 42.49274826049805, 61.456899493535765, '27', '56', 2], ['30-06-2019 16:00', 42.62442398071289, 60.72581404219429, '27', '56', 2], ['30-06-2019 16:15', 42.93973159790039, 60.34066566716204, '27', '56', 2], ['30-06-2019 16:15', 42.898033142089844, 60.499279956949515, '27', '56', 2], ['30-06-2019 16:15', 42.87370681762695, 59.52518820315754, '27', '56', 2], ['30-06-2019 16:45', 45.53804397583008, 58.61224116038252, '46', '56', 2], ['30-06-2019 16:45', 42.8851432800293, 58.83394149752845, '46', '56', 2], ['30-06-2019 16:45', 43.255157470703125, 61.499222963622024, '46', '56', 2], ['30-06-2019 17:00', 41.52470779418945, 60.55280902689063, '46', '46', 2], ['30-06-2019 17:00', 43.9571647644043, 64.85762606965345, '46', '46', 2], ['30-06-2019 17:15', 38.946495056152344, 60.34424384570421, '46', '46', 2], ['30-06-2019 17:15', 42.308433532714844, 62.02840382109701, '46', '46', 2], ['30-06-2019 17:15', 42.15752410888672, 61.205888328737004, '46', '46', 2], ['30-06-2019 17:45', 43.102203369140625, 64.46429969033964, '57', '46', 2], ['30-06-2019 17:45', 42.83072280883789, 64.78603009539219, '57', '46', 2], ['30-06-2019 17:45', 43.10921096801758, 65.14060089069592, '57', '46', 2], ['30-06-2019 18:00', 44.19480514526367, 65.0746594928206, '57', '46', 1], ['30-06-2019 18:00', 43.8535270690918, 65.05021070665367, '57', '46', 1], ['30-06-2019 18:00', 50.25688934326172, 61.76538022087864, '57', '46', 2], ['30-06-2019 18:00', 51.00703430175781, 60.955508327663104, '57', '46', 2], ['30-06-2019 18:15', 44.668418884277344, 65.26020875560157, '57', '46', 1], ['30-06-2019 18:15', 45.07904815673828, 65.07743766253793, '57', '46', 1], ['30-06-2019 18:15', 45.37528610229492, 64.6743173666204, '57', '46', 1], ['30-06-2019 18:45', 49.13660430908203, 64.81375938387208, '51', '57', 2], ['30-06-2019 18:45', 49.28170394897461, 63.439077819472054, '51', '57', 2], ['30-06-2019 18:45', 49.68886947631836, 62.334274866889054, '51', '57', 2], ['01-07-2019 06:00', 35.98561096191406, 86.11300420470904, '48', '31', 1], ['01-07-2019 06:00', 35.1082763671875, 86.22524835950318, '48', '31', 1], ['01-07-2019 06:00', 36.10085678100586, 81.89003213604674, '48', '31', 1], ['01-07-2019 06:00', 48.1358642578125, 68.95048528813673, '48', '31', 1], ['01-07-2019 06:00', 47.95108413696289, 69.19025121433823, '48', '31', 1], ['01-07-2019 06:00', 50.267784118652344, 67.69835963879302, '48', '31', 1], ['01-07-2019 06:00', 50.8310432434082, 67.21762102172552, '48', '31', 1], ['01-07-2019 06:15', 34.673072814941406, 85.54300483203522, '48', '48', 1], ['01-07-2019 06:15', 34.02761459350586, 84.84825360398287, '48', '48', 1], ['01-07-2019 06:15', 34.40803909301758, 84.56064694229951, '48', '48', 1], ['01-07-2019 06:15', 47.22828674316406, 69.49670980923061, '48', '48', 1], ['01-07-2019 06:15', 46.63863754272461, 69.66799242453311, '48', '48', 1], ['01-07-2019 06:15', 46.792686462402344, 69.89723702228474, '48', '48', 1], ['01-07-2019 06:45', 34.44158935546875, 83.11795274181613, '41', '48', 1], ['01-07-2019 06:45', 35.00117111206055, 82.60805785577735, '41', '48', 1], ['01-07-2019 06:45', 35.89427185058594, 81.89135837421587, '41', '48', 1], ['01-07-2019 06:45', 47.715057373046875, 69.60564107091739, '41', '48', 1], ['01-07-2019 06:45', 48.18293762207031, 68.8277469246955, '41', '48', 1], ['01-07-2019 06:45', 49.51820755004883, 68.08433974754884, '41', '48', 1], ['01-07-2019 07:00', 37.199153900146484, 82.01129426093986, '41', '48', 1], ['01-07-2019 07:00', 37.322879791259766, 82.59553703102515, '41', '48', 1], ['01-07-2019 07:00', 46.65673828125, 79.40962536926659, '41', '48', 1], ['01-07-2019 07:00', 51.468406677246094, 66.50875059456045, '41', '48', 1], ['01-07-2019 07:00', 54.50069046020508, 67.11699285754835, '41', '48', 1], ['01-07-2019 07:00', 54.25715255737305, 66.28557550547458, '41', '48', 1], ['01-07-2019 07:15', 38.11990737915039, 81.86983189235217, '41', '48', 1], ['01-07-2019 07:15', 39.28622055053711, 81.56171901482438, '41', '48', 1], ['01-07-2019 07:15', 40.065185546875, 81.6054358367128, '41', '48', 1], ['01-07-2019 07:15', 52.81904983520508, 67.23176529121145, '41', '48', 1], ['01-07-2019 07:15', 52.977333068847656, 66.61498523435218, '41', '48', 1], ['01-07-2019 07:15', 53.30448913574219, 66.96875803223996, '41', '48', 1], ['01-07-2019 07:45', 44.56166458129883, 81.28073968244976, '56', '48', 1], ['01-07-2019 07:45', 45.28934860229492, 80.46399641111104, '56', '48', 1], ['01-07-2019 07:45', 45.58050537109375, 79.51280494082496, '56', '48', 1], ['01-07-2019 07:45', 54.4865608215332, 67.50868633824453, '56', '48', 1], ['01-07-2019 07:45', 54.53977584838867, 67.29428469463912, '56', '48', 1], ['01-07-2019 07:45', 54.49357604980469, 66.86255191287059, '56', '48', 1], ['01-07-2019 08:00', 46.780052185058594, 77.70039289729002, '56', '56', 1], ['01-07-2019 08:00', 47.19654846191406, 77.05693713347969, '56', '56', 1], ['01-07-2019 08:00', 45.992958068847656, 72.04541356475221, '56', '56', 1], ['01-07-2019 08:00', 54.20307159423828, 65.9028594398084, '56', '56', 1], ['01-07-2019 08:00', 51.916805267333984, 63.59367879854891, '56', '56', 1], ['01-07-2019 08:00', 51.68666076660156, 63.742991690596355, '56', '56', 1], ['01-07-2019 08:15', 47.15168762207031, 76.77611194269804, '56', '56', 1], ['01-07-2019 08:15', 47.34716033935547, 76.45891139683903, '56', '56', 1], ['01-07-2019 08:15', 47.122032165527344, 76.36204827284692, '56', '56', 1], ['01-07-2019 08:15', 54.076297760009766, 65.79590158935285, '56', '56', 1], ['01-07-2019 08:15', 53.73182678222656, 65.54754161604968, '56', '56', 1], ['01-07-2019 08:15', 53.72307586669922, 65.46748756313045, '56', '56', 1], ['01-07-2019 08:45', 46.798091888427734, 74.84428302644864, '46', '56', 1], ['01-07-2019 08:45', 46.31825637817383, 73.82733521609234, '46', '56', 1], ['01-07-2019 08:45', 46.15190505981445, 72.92109698414812, '46', '56', 1], ['01-07-2019 08:45', 52.81171417236328, 64.52086376052038, '46', '56', 1], ['01-07-2019 08:45', 52.41117477416992, 64.28438600621062, '46', '56', 1], ['01-07-2019 08:45', 52.02738952636719, 63.585395043298476, '46', '56', 1], ['01-07-2019 09:00', 45.640342712402344, 71.59922576811707, '46', '56', 1], ['01-07-2019 09:00', 45.563777923583984, 71.40483564017, '46', '56', 1], ['01-07-2019 09:00', 44.950313568115234, 69.21078884187995, '46', '56', 1], ['01-07-2019 09:00', 51.36875915527344, 63.780422040477575, '46', '56', 2], ['01-07-2019 09:00', 47.306297302246094, 61.50171712102283, '46', '56', 2], ['01-07-2019 09:15', 45.38978958129883, 71.00561189981518, '46', '56', 1], ['01-07-2019 09:15', 44.842342376708984, 70.33951958858809, '46', '56', 1], ['01-07-2019 09:15', 44.91315841674805, 70.26075274594089, '46', '56', 1], ['01-07-2019 09:15', 51.06261444091797, 63.95615220125249, '46', '56', 2], ['01-07-2019 09:15', 50.69724655151367, 63.54983674178632, '46', '56', 2], ['01-07-2019 09:15', 50.205631256103516, 63.58146535290422, '46', '56', 2], ['01-07-2019 09:45', 44.29874038696289, 69.1447392920996, '38', '46', 1], ['01-07-2019 09:45', 44.75029754638672, 69.30320135846101, '38', '46', 1], ['01-07-2019 09:45', 44.942047119140625, 69.2723966957244, '38', '46', 1], ['01-07-2019 09:45', 48.45863342285156, 62.3076631031579, '38', '46', 2], ['01-07-2019 09:45', 48.25785827636719, 62.51468287273115, '38', '46', 2], ['01-07-2019 09:45', 47.93307876586914, 61.972011888911446, '38', '46', 2], ['01-07-2019 10:00', 44.541255950927734, 68.83906003349834, '38', '46', 1], ['01-07-2019 10:00', 43.853824615478516, 67.21968152804762, '38', '46', 1], ['01-07-2019 10:00', 41.45032501220703, 64.46867482447917, '38', '46', 2], ['01-07-2019 10:00', 46.661380767822266, 61.27162737506081, '38', '46', 2], ['01-07-2019 10:00', 46.284297943115234, 60.9694755571254, '38', '46', 2], ['01-07-2019 10:00', 42.7260856628418, 60.559844070971465, '38', '46', 2], ['01-07-2019 10:00', 42.27166748046875, 60.302139201814036, '38', '46', 2], ['01-07-2019 10:15', 43.59718322753906, 66.78318207072317, '38', '46', 1], ['01-07-2019 10:15', 43.09046173095703, 66.94700364993952, '38', '46', 1], ['01-07-2019 10:15', 43.32484436035156, 66.92569150774916, '38', '46', 1], ['01-07-2019 10:15', 45.735694885253906, 60.31502095286326, '38', '46', 2], ['01-07-2019 10:15', 45.385169982910156, 60.3825045065971, '38', '46', 2], ['01-07-2019 10:15', 45.12046813964844, 60.70765960698278, '38', '46', 2], ['01-07-2019 10:45', 42.62580108642578, 65.54199161954406, '56', '46', 2], ['01-07-2019 10:45', 42.15520477294922, 65.04943562513019, '56', '46', 2], ['01-07-2019 10:45', 41.64887237548828, 64.78379955216018, '56', '46', 2], ['01-07-2019 10:45', 43.5289421081543, 60.557173601130664, '56', '46', 2], ['01-07-2019 10:45', 43.48088073730469, 60.80307084566046, '56', '46', 2], ['01-07-2019 10:45', 42.939273834228516, 60.18757678483776, '56', '46', 2], ['01-07-2019 11:00', 40.80461502075195, 64.31646134805209, '56', '46', 2], ['01-07-2019 11:00', 39.54787826538086, 63.61449852303584, '56', '46', 2], ['01-07-2019 11:00', 37.24183654785156, 61.04521694609393, '56', '46', 2], ['01-07-2019 11:00', 40.67381286621094, 61.011469606632645, '56', '46', 2], ['01-07-2019 11:00', 34.691463470458984, 58.84647533711078, '56', '46', 2], ['01-07-2019 11:00', 34.087215423583984, 58.50465462922379, '56', '46', 2], ['01-07-2019 11:15', 39.52155685424805, 63.479068834281435, '56', '56', 2], ['01-07-2019 11:15', 38.9570198059082, 63.324410058714356, '56', '56', 2], ['01-07-2019 11:15', 38.606021881103516, 62.78855882002758, '56', '56', 2], ['01-07-2019 11:15', 39.99995422363281, 60.93252390185599, '56', '56', 2], ['01-07-2019 11:15', 39.39799118041992, 61.11616226001118, '56', '56', 2], ['01-07-2019 11:15', 38.7499885559082, 60.73029781147266, '56', '56', 2], ['01-07-2019 11:45', 37.78422927856445, 61.06454966225734, '44', '56', 2], ['01-07-2019 11:45', 37.34164810180664, 61.73595182636686, '44', '56', 2], ['01-07-2019 11:45', 36.70600509643555, 60.772748450445455, '44', '56', 2], ['01-07-2019 11:45', 36.1931037902832, 60.0061964801219, '44', '56', 2], ['01-07-2019 11:45', 35.525001525878906, 59.67489653132098, '44', '56', 2], ['01-07-2019 11:45', 34.85175323486328, 59.24028826841997, '44', '56', 2], ['01-07-2019 12:00', 36.68952560424805, 60.18624084961513, '44', '56', 2], ['01-07-2019 12:00', 36.140018463134766, 59.608371388252, '44', '56', 2], ['01-07-2019 12:00', 33.32223129272461, 57.11775584339685, '44', '56', 2], ['01-07-2019 12:00', 34.064422607421875, 58.44269432184366, '44', '56', 2], ['01-07-2019 12:00', 33.33270263671875, 55.94037013205929, '44', '56', 2], ['01-07-2019 12:15', 36.010467529296875, 59.398349552907185, '44', '56', 2], ['01-07-2019 12:15', 35.4901123046875, 59.21483734403577, '44', '56', 2], ['01-07-2019 12:15', 35.383880615234375, 59.153578872274835, '44', '56', 2], ['01-07-2019 12:15', 33.68507766723633, 58.04131534926419, '44', '56', 2], ['01-07-2019 12:15', 33.60702133178711, 57.91546523150691, '44', '56', 2], ['01-07-2019 12:15', 33.44611358642578, 58.042750145101024, '44', '56', 2], ['01-07-2019 12:45', 34.90489196777344, 58.29211028215464, '50', '56', 2], ['01-07-2019 12:45', 34.528175354003906, 58.63998194621128, '50', '56', 2], ['01-07-2019 12:45', 33.819576263427734, 57.641309711082194, '50', '56', 2], ['01-07-2019 12:45', 33.17033386230469, 56.84448474691766, '50', '56', 2], ['01-07-2019 12:45', 33.01464080810547, 56.42907943061737, '50', '56', 2], ['01-07-2019 12:45', 32.83549118041992, 56.17696978632239, '50', '56', 2], ['01-07-2019 13:00', 33.47819900512695, 56.91934354166981, '50', '50', 2], ['01-07-2019 13:00', 33.22077178955078, 55.8538644375183, '50', '50', 2], ['01-07-2019 13:00', 33.47005844116211, 53.937625336465146, '50', '50', 2], ['01-07-2019 13:00', 33.54678726196289, 55.21778250589747, '50', '50', 2], ['01-07-2019 13:00', 33.67182540893555, 55.21800251551402, '50', '50', 2], ['01-07-2019 13:00', 36.17243576049805, 52.826190327113444, '50', '50', 2], ['01-07-2019 13:00', 35.916324615478516, 52.767128820455305, '50', '50', 2], ['01-07-2019 13:15', 33.15020751953125, 55.66478175153673, '50', '50', 2], ['01-07-2019 13:15', 33.459346771240234, 55.62255166887393, '50', '50', 2], ['01-07-2019 13:15', 33.15496063232422, 55.43358813608095, '50', '50', 2], ['01-07-2019 13:15', 34.41108703613281, 54.82488189352431, '50', '50', 2], ['01-07-2019 13:15', 34.502647399902344, 54.32054786302469, '50', '50', 2], ['01-07-2019 13:15', 34.81665802001953, 53.845778285267386, '50', '50', 2], ['01-07-2019 13:45', 33.60833740234375, 54.10283798517449, '53', '50', 2], ['01-07-2019 13:45', 33.22461700439453, 54.29349576971068, '53', '50', 2], ['01-07-2019 13:45', 33.406917572021484, 54.054399912053015, '53', '50', 2], ['01-07-2019 13:45', 33.42903518676758, 53.24579571401322, '53', '50', 2], ['01-07-2019 13:45', 33.73756790161133, 53.28413347051709, '53', '50', 2], ['01-07-2019 13:45', 34.174659729003906, 53.3605003819033, '53', '50', 2], ['01-07-2019 14:00', 33.03257751464844, 54.157359304696115, '53', '50', 2], ['01-07-2019 14:00', 34.33631134033203, 54.12625112431884, '53', '50', 2], ['01-07-2019 14:00', 35.798545837402344, 54.22559554388465, '53', '50', 2], ['01-07-2019 14:00', 36.20259094238281, 52.85034221146285, '53', '50', 2], ['01-07-2019 14:00', 39.58195495605469, 51.46292616682638, '53', '50', 2], ['01-07-2019 14:00', 41.00708770751953, 51.758579096530916, '53', '50', 2], ['01-07-2019 14:15', 34.03524398803711, 53.795960166457114, '53', '50', 2], ['01-07-2019 14:15', 34.495277404785156, 54.32503961771448, '53', '50', 2], ['01-07-2019 14:15', 35.00479507446289, 54.94967803303951, '53', '50', 2], ['01-07-2019 14:15', 37.13874816894531, 53.306939194893076, '53', '50', 2], ['01-07-2019 14:15', 37.39482879638672, 52.781827763890384, '53', '50', 2], ['01-07-2019 14:15', 38.24483108520508, 53.072564501110875, '53', '50', 2], ['01-07-2019 14:45', 35.56557846069336, 55.0214835554155, '66', '53', 2], ['01-07-2019 14:45', 35.66017150878906, 54.62120213199596, '66', '53', 2], ['01-07-2019 14:45', 34.27983474731445, 53.91658252441308, '66', '53', 2], ['01-07-2019 14:45', 39.5642204284668, 52.81611127127761, '66', '53', 2], ['01-07-2019 14:45', 39.53569793701172, 51.97754682290658, '66', '53', 2], ['01-07-2019 14:45', 38.84484100341797, 51.534143036138985, '66', '53', 2], ['01-07-2019 15:00', 36.62471389770508, 54.44966984592666, '66', '53', 2], ['01-07-2019 15:00', 36.11146926879883, 55.70329667520476, '66', '53', 2], ['01-07-2019 15:00', 36.603092193603516, 59.615080657080675, '66', '53', 2], ['01-07-2019 15:00', 40.86149215698242, 52.595909477836486, '66', '53', 2], ['01-07-2019 15:00', 42.13265609741211, 56.75062484411128, '66', '53', 2], ['01-07-2019 15:15', 35.93489456176758, 55.738147065290256, '66', '53', 2], ['01-07-2019 15:15', 35.61591339111328, 56.00268918639004, '66', '53', 2], ['01-07-2019 15:15', 36.00883865356445, 56.51596586064906, '66', '53', 2], ['01-07-2019 15:15', 40.981353759765625, 53.187471870382424, '66', '53', 2], ['01-07-2019 15:15', 41.0057258605957, 53.72787994324115, '66', '53', 2], ['01-07-2019 15:15', 41.306549072265625, 53.738060069162344, '66', '53', 2], ['01-07-2019 15:45', 36.343284606933594, 57.76225433195952, '63', '53', 2], ['01-07-2019 15:45', 36.586509704589844, 57.9381325559493, '63', '53', 2], ['01-07-2019 15:45', 37.27421951293945, 58.359704992672405, '63', '53', 2], ['01-07-2019 15:45', 41.501346588134766, 54.74522120570928, '63', '53', 2], ['01-07-2019 15:45', 41.76929473876953, 55.2456354977097, '63', '53', 2], ['01-07-2019 15:45', 42.081993103027344, 55.74728184123653, '63', '53', 2], ['01-07-2019 16:00', 36.509273529052734, 60.40484679099534, '63', '53', 1], ['01-07-2019 16:00', 37.182125091552734, 60.965001103485065, '63', '53', 2], ['01-07-2019 16:00', 37.89234924316406, 65.75362224447377, '63', '53', 1], ['01-07-2019 16:00', 41.98737335205078, 57.54486437179736, '63', '53', 2], ['01-07-2019 16:00', 42.369140625, 57.96310421975802, '63', '53', 2], ['01-07-2019 16:00', 41.757606506347656, 60.81967320199424, '63', '53', 2], ['01-07-2019 16:15', 36.9209098815918, 60.98416620207502, '63', '63', 2], ['01-07-2019 16:15', 37.249359130859375, 63.07583488146804, '63', '63', 2], ['01-07-2019 16:15', 37.03168869018555, 62.98570505618914, '63', '63', 1], ['01-07-2019 16:15', 42.33018493652344, 58.17043408038765, '63', '63', 2], ['01-07-2019 16:15', 42.53057861328125, 58.93505498609727, '63', '63', 2], ['01-07-2019 16:15', 42.26000213623047, 59.44077326195715, '63', '63', 2], ['01-07-2019 16:45', 37.76978302001953, 64.57694425971113, '57', '63', 1], ['01-07-2019 16:45', 37.35820388793945, 65.36271956403232, '57', '63', 1], ['01-07-2019 16:45', 38.00465393066406, 65.80400521895555, '57', '63', 1], ['01-07-2019 16:45', 41.8243293762207, 60.00485647521309, '57', '63', 2], ['01-07-2019 16:45', 41.39497375488281, 60.12199637479657, '57', '63', 2], ['01-07-2019 16:45', 41.50434112548828, 60.8738181116911, '57', '63', 2], ['01-07-2019 17:00', 38.30567169189453, 66.61597325813797, '57', '63', 1], ['01-07-2019 17:00', 38.225746154785156, 67.139217109762, '57', '63', 1], ['01-07-2019 17:00', 41.015045166015625, 69.52106546518607, '57', '63', 1], ['01-07-2019 17:00', 42.1710205078125, 61.76658050182106, '57', '63', 2], ['01-07-2019 17:00', 41.58830261230469, 61.76469741073833, '57', '63', 2], ['01-07-2019 17:00', 46.22745895385742, 63.6600100098251, '57', '63', 2], ['01-07-2019 17:00', 45.568016052246094, 64.11736223306217, '57', '63', 2], ['01-07-2019 17:15', 38.301918029785156, 67.58762812999414, '57', '63', 1], ['01-07-2019 17:15', 39.02481460571289, 68.5315087535874, '57', '63', 1], ['01-07-2019 17:15', 38.900577545166016, 68.29817081488453, '57', '63', 1], ['01-07-2019 17:15', 42.09021759033203, 61.89723919168529, '57', '63', 2], ['01-07-2019 17:15', 42.07466125488281, 62.09217505637993, '57', '63', 2], ['01-07-2019 17:15', 42.73380661010742, 62.507628644451785, '57', '63', 2], ['01-07-2019 17:45', 39.822021484375, 69.32747002801607, '63', '63', 1], ['01-07-2019 17:45', 39.67643356323242, 69.04286247667277, '63', '63', 1], ['01-07-2019 17:45', 39.92740249633789, 69.5795256364521, '63', '63', 1], ['01-07-2019 17:45', 15.639546394348145, 57.85954941299598, '63', '63', 2], ['01-07-2019 17:45', 44.74220275878906, 63.98890085428417, '63', '63', 2], ['01-07-2019 17:45', 45.00267791748047, 64.05165123598587, '63', '63', 2], ['01-07-2019 18:00', 39.53080749511719, 69.93062286720405, '63', '63', 1], ['01-07-2019 18:00', 40.37856674194336, 71.19128011579159, '63', '63', 1], ['01-07-2019 18:00', 44.106300354003906, 64.399608133765, '63', '63', 1], ['01-07-2019 18:00', 44.49738311767578, 64.87292593181407, '63', '63', 1], ['01-07-2019 18:00', 46.57463455200195, 64.20243905922963, '63', '63', 2], ['01-07-2019 18:00', 49.57074737548828, 57.96609145959366, '63', '63', 2], ['01-07-2019 18:00', 49.73755645751953, 58.27490065630531, '63', '63', 2], ['01-07-2019 18:15', 40.933536529541016, 70.07915029896702, '63', '63', 1], ['01-07-2019 18:15', 41.747249603271484, 67.93314876550869, '63', '63', 1], ['01-07-2019 18:15', 41.70713806152344, 66.15492310947954, '63', '63', 1], ['01-07-2019 18:15', 48.45108413696289, 63.59784868191884, '63', '63', 2], ['01-07-2019 18:15', 48.725502014160156, 62.15141080077167, '63', '63', 2], ['01-07-2019 18:15', 48.59935760498047, 60.88891969873551, '63', '63', 2], ['01-07-2019 18:45', 44.86711120605469, 65.13421277905525, '62', '63', 1], ['01-07-2019 18:45', 44.76996612548828, 64.86072800786177, '62', '63', 1], ['01-07-2019 18:45', 44.467716217041016, 64.10464686351585, '62', '63', 1], ['01-07-2019 18:45', 49.845211029052734, 58.67289209264444, '62', '63', 2], ['01-07-2019 18:45', 50.29872512817383, 58.73709049008531, '62', '63', 2], ['01-07-2019 18:45', 49.70112228393555, 58.21562661488175, '62', '63', 2], ['02-07-2019 06:00', 48.78333282470703, 63.293277026206496, '55', '52', 1], ['02-07-2019 06:00', 50.19051742553711, 65.53921389519479, '55', '52', 1], ['02-07-2019 06:00', 50.03117370605469, 65.15292314656115, '55', '52', 1], ['02-07-2019 06:15', 48.57774353027344, 65.22986820626956, '55', '52', 1], ['02-07-2019 06:15', 48.523189544677734, 65.23049197907955, '55', '52', 1], ['02-07-2019 06:15', 49.509765625, 62.48261950880465, '55', '52', 1], ['02-07-2019 06:45', 49.31455993652344, 65.70685942154186, '48', '52', 1], ['02-07-2019 06:45', 49.677120208740234, 65.75342266061352, '48', '52', 1], ['02-07-2019 06:45', 49.90019607543945, 65.63486072252869, '48', '52', 1], ['02-07-2019 07:00', 50.83957290649414, 65.23401503245894, '48', '52', 1], ['02-07-2019 07:00', 51.81731414794922, 65.98340291755281, '48', '52', 1], ['02-07-2019 07:00', 52.0335807800293, 65.7147384251034, '48', '52', 1], ['02-07-2019 07:15', 50.76066970825195, 65.44531281614404, '48', '48', 1], ['02-07-2019 07:15', 50.76211166381836, 65.48506721846032, '48', '48', 1], ['02-07-2019 07:15', 50.854164123535156, 65.26197916586597, '48', '48', 1], ['02-07-2019 07:45', 51.44737243652344, 65.77377909473397, '78', '48', 1], ['02-07-2019 07:45', 51.484657287597656, 66.19641794629152, '78', '48', 1], ['02-07-2019 07:45', 51.739341735839844, 66.06063428240198, '78', '48', 1], ['02-07-2019 08:00', 52.419715881347656, 65.43941554123909, '78', '48', 1], ['02-07-2019 08:00', 51.669273376464844, 63.060652219245895, '78', '48', 1], ['02-07-2019 08:00', 51.423770904541016, 63.638328589192554, '78', '48', 1], ['02-07-2019 08:15', 52.7652702331543, 65.44731874134929, '78', '48', 1], ['02-07-2019 08:15', 52.727577209472656, 65.28711792885173, '78', '48', 1], ['02-07-2019 08:15', 52.83330154418945, 65.18103080358857, '78', '48', 1], ['02-07-2019 08:45', 51.865760803222656, 63.615761241291025, '46', '48', 1], ['02-07-2019 08:45', 51.751243591308594, 63.74931515050683, '46', '48', 1], ['02-07-2019 08:45', 52.091854095458984, 63.47167380325803, '46', '48', 1], ['02-07-2019 09:00', 51.207332611083984, 62.8304440974814, '46', '46', 1], ['02-07-2019 09:00', 50.24117660522461, 62.028847290038925, '46', '46', 2], ['02-07-2019 09:00', 50.02134323120117, 61.999464609421516, '46', '46', 2], ['02-07-2019 09:15', 51.109901428222656, 63.01868696645641, '46', '46', 2], ['02-07-2019 09:15', 51.28457260131836, 63.15443142023792, '46', '46', 2], ['02-07-2019 09:15', 51.01973342895508, 62.721075583858806, '46', '46', 2], ['02-07-2019 09:45', 50.69298553466797, 62.39075149192753, '50', '46', 2], ['02-07-2019 09:45', 50.490325927734375, 62.127000465224825, '50', '46', 2], ['02-07-2019 09:45', 50.39125061035156, 61.92628123888604, '50', '46', 2], ['02-07-2019 10:00', 49.680442810058594, 61.73106125534271, '50', '46', 2], ['02-07-2019 10:00', 46.9795036315918, 58.29530092780164, '50', '46', 2], ['02-07-2019 10:15', 49.477596282958984, 61.582600239896614, '50', '46', 2], ['02-07-2019 10:15', 49.474666595458984, 61.66390288525863, '50', '46', 2], ['02-07-2019 10:15', 49.17023849487305, 61.43238106952081, '50', '46', 2], ['02-07-2019 10:45', 48.149322509765625, 59.94950197176653, '57', '50', 2], ['02-07-2019 10:45', 47.37346649169922, 59.14782726567981, '57', '50', 2], ['02-07-2019 10:45', 46.9780158996582, 58.474816230627646, '57', '50', 2], ['02-07-2019 11:00', 46.499202728271484, 58.02383445982814, '57', '50', 2], ['02-07-2019 11:00', 45.52131271362305, 58.64502372545558, '57', '50', 2], ['02-07-2019 11:00', 43.22279357910156, 57.836876192857446, '57', '50', 2], ['02-07-2019 11:00', 43.014095306396484, 57.81563018226288, '57', '50', 2], ['02-07-2019 11:15', 45.58560562133789, 58.84116395661388, '57', '50', 2], ['02-07-2019 11:15', 45.25299835205078, 58.51352519531179, '57', '50', 2], ['02-07-2019 11:15', 45.19392395019531, 58.346263888004955, '57', '50', 2], ['02-07-2019 11:45', 44.004581451416016, 58.00396599571593, '75', '50', 2], ['02-07-2019 11:45', 43.8542366027832, 58.019706683046785, '75', '50', 2], ['02-07-2019 11:45', 43.70023727416992, 58.177943650827615, '75', '50', 2], ['02-07-2019 12:00', 42.62866973876953, 57.42172413916258, '75', '50', 2], ['02-07-2019 12:00', 40.72431564331055, 55.331747760039754, '75', '50', 2], ['02-07-2019 12:15', 42.54971694946289, 57.23346371417085, '75', '75', 2], ['02-07-2019 12:15', 42.50253677368164, 57.069770521944214, '75', '75', 2], ['02-07-2019 12:15', 42.45705032348633, 56.96637811183599, '75', '75', 2], ['02-07-2019 12:45', 41.48564910888672, 56.1192171795081, '89', '75', 2], ['02-07-2019 12:45', 40.894107818603516, 55.7883272522196, '89', '75', 2], ['02-07-2019 12:45', 40.7611198425293, 55.63387175592162, '89', '75', 2], ['02-07-2019 13:00', 40.54670333862305, 55.382007917776605, '89', '75', 2], ['02-07-2019 13:00', 40.387115478515625, 55.15132702115274, '89', '75', 2], ['02-07-2019 13:00', 39.58632278442383, 53.45824406832862, '89', '75', 2], ['02-07-2019 13:15', 39.170196533203125, 54.782729604647166, '89', '75', 2], ['02-07-2019 13:15', 40.18202209472656, 54.892549717069016, '89', '75', 2], ['02-07-2019 13:15', 38.97670364379883, 54.65778997093703, '89', '75', 2], ['02-07-2019 13:45', 36.85649871826172, 53.79391515432667, '75', '75', 2], ['02-07-2019 13:45', 38.10448455810547, 54.013132183464755, '75', '75', 2], ['02-07-2019 13:45', 39.17675018310547, 53.75115820709733, '75', '75', 2], ['02-07-2019 14:00', 41.20588302612305, 53.89855327499077, '75', '75', 2], ['02-07-2019 14:00', 41.24444580078125, 53.89771927434496, '75', '75', 2], ['02-07-2019 14:00', 41.5662841796875, 52.510515758609074, '75', '75', 2], ['02-07-2019 14:15', 40.83074188232422, 53.38028361771999, '75', '75', 2], ['02-07-2019 14:15', 40.70367431640625, 52.99285417439751, '75', '75', 2], ['02-07-2019 14:15', 40.11540985107422, 52.741869962682344, '75', '75', 2], ['02-07-2019 14:45', 41.41175842285156, 52.68470729349826, '74', '75', 2], ['02-07-2019 14:45', 41.38416290283203, 52.13923135711761, '74', '75', 2], ['02-07-2019 14:45', 41.310325622558594, 52.509708211892516, '74', '75', 2], ['02-07-2019 15:00', 42.00112533569336, 52.496308290852205, '74', '75', 2], ['02-07-2019 15:00', 41.771419525146484, 51.98604152452072, '74', '75', 2], ['02-07-2019 15:00', 40.90532684326172, 51.08744532237067, '74', '75', 2], ['02-07-2019 15:15', 42.10690689086914, 52.14692136814163, '74', '75', 2], ['02-07-2019 15:15', 41.502220153808594, 52.598013599361444, '74', '75', 2], ['02-07-2019 15:15', 41.1049919128418, 52.19129011589496, '74', '75', 2], ['02-07-2019 15:45', 39.37704086303711, 50.32751096619133, '74', '74', 2], ['02-07-2019 15:45', 42.88844299316406, 49.91845209105532, '74', '74', 2], ['02-07-2019 15:45', 40.15725326538086, 49.72851012487991, '74', '74', 2], ['02-07-2019 16:00', 38.36097717285156, 52.23669780388715, '74', '74', 2], ['02-07-2019 16:00', 41.57008361816406, 53.14687860064954, '74', '74', 2], ['02-07-2019 16:00', 42.64836120605469, 57.03657174141751, '74', '74', 2], ['02-07-2019 16:15', 41.09589767456055, 54.2818231815144, '74', '74', 2], ['02-07-2019 16:15', 41.944244384765625, 53.87444884633917, '74', '74', 2], ['02-07-2019 16:15', 41.63713836669922, 55.355735737565354, '74', '74', 2], ['02-07-2019 16:45', 42.10300827026367, 55.62840827259848, '73', '74', 2], ['02-07-2019 16:45', 44.10314178466797, 58.38373086928934, '73', '74', 2], ['02-07-2019 16:45', 42.94477081298828, 56.816894310960585, '73', '74', 2], ['02-07-2019 17:00', 43.73424530029297, 57.83436744670227, '73', '74', 2], ['02-07-2019 17:00', 43.45191955566406, 57.49951660982011, '73', '74', 2], ['02-07-2019 17:00', 45.78573989868164, 58.76667496639086, '73', '74', 2], ['02-07-2019 17:15', 43.40430450439453, 57.32111926511378, '73', '73', 2], ['02-07-2019 17:15', 43.63408660888672, 57.225267165106935, '73', '73', 2], ['02-07-2019 17:15', 43.57671356201172, 57.49545200789003, '73', '73', 2], ['02-07-2019 17:45', 44.71965408325195, 58.35736762250952, '74', '73', 2], ['02-07-2019 17:45', 44.818023681640625, 58.56003227700547, '74', '73', 2], ['02-07-2019 17:45', 45.58387756347656, 58.51004808484235, '74', '73', 2], ['02-07-2019 18:00', 45.85073471069336, 58.40504858404957, '74', '73', 2], ['02-07-2019 18:00', 46.02861022949219, 58.61504991335102, '74', '73', 2], ['02-07-2019 18:00', 47.53581237792969, 57.95781072130469, '74', '73', 2], ['02-07-2019 18:00', 47.52772903442383, 57.71945809915711, '74', '73', 2], ['02-07-2019 18:15', 46.199241638183594, 58.49083761748217, '74', '73', 2], ['02-07-2019 18:15', 45.74302291870117, 58.24754342448959, '74', '73', 2], ['02-07-2019 18:15', 46.470680236816406, 58.32162478954343, '74', '73', 2], ['02-07-2019 18:45', 47.59534454345703, 59.189894445805706, '66', '73', 2], ['02-07-2019 18:45', 47.130680084228516, 58.42928801097116, '66', '73', 2], ['02-07-2019 18:45', 47.13998031616211, 58.04751442798159, '66', '73', 2], ['03-07-2019 06:00', 48.710365295410156, 64.83576329737384, '45', '47', 1], ['03-07-2019 06:15', 48.209720611572266, 65.18211738885972, '45', '47', 1], ['03-07-2019 06:15', 47.23472213745117, 65.48314467540875, '45', '47', 1], ['03-07-2019 06:15', 47.222957611083984, 65.49045857403102, '45', '47', 1]]\n"
          ],
          "name": "stdout"
        }
      ]
    },
    {
      "cell_type": "code",
      "metadata": {
        "id": "z9cWeEJ-3uAU",
        "colab_type": "code",
        "colab": {}
      },
      "source": [
        "\n",
        "df = pd.read_csv('/content/dtu_labels.csv')\n",
        "data = df.mask(df.eq('None')).dropna()\n",
        "file = data.to_csv('/content/dtu_labels_new.csv')\n",
        "k=0\n",
        "\n",
        "cpcb=[]\n",
        "\n",
        "\n",
        "\n",
        "val ='46.11'\n",
        "with open('/content/dtu_labels_new.csv') as file:\n",
        "  reader = csv.reader(file, delimiter =',')\n",
        "  for row in reader:\n",
        "    k+=1\n",
        "    if(k>3):\n",
        "      l=[]\n",
        "      l.append(row[1]) #DATE \n",
        "      l.append(row[3]) #PM\n",
        "      l.append(val)\n",
        "      if(k%5==0):\n",
        "        val=row[3]\n",
        "      cpcb.append(l) "
      ],
      "execution_count": 0,
      "outputs": []
    },
    {
      "cell_type": "code",
      "metadata": {
        "id": "IxcmA9nNGPaX",
        "colab_type": "code",
        "outputId": "e02e39ec-1777-4dd0-fde8-65fa3792f6fd",
        "colab": {
          "base_uri": "https://localhost:8080/",
          "height": 54
        }
      },
      "source": [
        "print(cpcb)"
      ],
      "execution_count": 160,
      "outputs": [
        {
          "output_type": "stream",
          "text": [
            "[['01-07-2019 00:00', '46.11', '46.11'], ['01-07-2019 00:15', '46.76', '46.11'], ['01-07-2019 00:30', '46.76', '46.76'], ['01-07-2019 00:45', '46.76', '46.76'], ['01-07-2019 01:00', '56.33', '46.76'], ['01-07-2019 01:15', '57.48', '46.76'], ['01-07-2019 01:30', '57.48', '46.76'], ['01-07-2019 01:45', '57.48', '57.48'], ['01-07-2019 02:00', '54.79', '57.48'], ['01-07-2019 02:15', '54.44', '57.48'], ['01-07-2019 02:30', '54.44', '57.48'], ['01-07-2019 02:45', '54.44', '57.48'], ['01-07-2019 03:00', '77.9', '54.44'], ['01-07-2019 03:15', '80.95', '54.44'], ['01-07-2019 03:30', '80.95', '54.44'], ['01-07-2019 03:45', '80.95', '54.44'], ['01-07-2019 04:00', '58.53', '54.44'], ['01-07-2019 04:15', '55.88', '58.53'], ['01-07-2019 04:30', '55.88', '58.53'], ['01-07-2019 04:45', '55.88', '58.53'], ['01-07-2019 05:00', '53.05', '58.53'], ['01-07-2019 05:15', '52.72', '58.53'], ['01-07-2019 05:30', '52.72', '52.72'], ['01-07-2019 05:45', '52.72', '52.72'], ['01-07-2019 06:00', '60.8', '52.72'], ['01-07-2019 06:15', '61.85', '52.72'], ['01-07-2019 06:30', '61.85', '52.72'], ['01-07-2019 06:45', '61.85', '61.85'], ['01-07-2019 07:00', '61.62', '61.85'], ['01-07-2019 07:15', '61.59', '61.85'], ['01-07-2019 07:30', '61.59', '61.85'], ['01-07-2019 07:45', '61.59', '61.85'], ['01-07-2019 08:00', '53.4', '61.59'], ['01-07-2019 08:15', '52.32', '61.59'], ['01-07-2019 08:30', '52.32', '61.59'], ['01-07-2019 08:45', '52.32', '61.59'], ['01-07-2019 09:00', '47.92', '61.59'], ['01-07-2019 09:15', '47.35', '47.92'], ['01-07-2019 09:30', '47.35', '47.92'], ['01-07-2019 09:45', '47.35', '47.92'], ['01-07-2019 10:00', '49.89', '47.92'], ['01-07-2019 10:15', '50.19', '47.92'], ['01-07-2019 10:30', '50.19', '50.19'], ['01-07-2019 10:45', '50.19', '50.19'], ['01-07-2019 11:00', '49.07', '50.19'], ['01-07-2019 11:15', '48.93', '50.19'], ['01-07-2019 11:30', '48.93', '50.19'], ['01-07-2019 11:45', '48.93', '48.93'], ['01-07-2019 12:00', '54.11', '48.93'], ['01-07-2019 12:15', '54.78', '48.93'], ['01-07-2019 12:30', '54.78', '48.93'], ['01-07-2019 12:45', '54.78', '48.93'], ['01-07-2019 13:00', '57.83', '54.78'], ['01-07-2019 13:15', '58.23', '54.78'], ['01-07-2019 13:30', '58.23', '54.78'], ['01-07-2019 13:45', '58.23', '54.78'], ['01-07-2019 14:00', '61.15', '54.78'], ['01-07-2019 14:15', '61.53', '61.15'], ['01-07-2019 14:30', '61.53', '61.15'], ['01-07-2019 14:45', '61.53', '61.15'], ['01-07-2019 15:00', '62.4', '61.15'], ['01-07-2019 15:15', '62.52', '61.15'], ['01-07-2019 15:30', '62.52', '62.52'], ['01-07-2019 15:45', '62.52', '62.52'], ['01-07-2019 16:00', '63.09', '62.52'], ['01-07-2019 16:15', '63.17', '62.52'], ['01-07-2019 16:30', '63.17', '62.52'], ['01-07-2019 16:45', '63.17', '63.17'], ['01-07-2019 17:00', '57.94', '63.17'], ['01-07-2019 17:15', '57.25', '63.17'], ['01-07-2019 17:30', '57.25', '63.17'], ['01-07-2019 17:45', '57.25', '63.17'], ['01-07-2019 18:00', '57.24', '57.25'], ['01-07-2019 18:15', '57.24', '57.25'], ['01-07-2019 18:30', '57.24', '57.25'], ['01-07-2019 18:45', '57.24', '57.25'], ['01-07-2019 19:00', '59.05', '57.25'], ['01-07-2019 19:15', '59.29', '59.05'], ['01-07-2019 19:30', '59.29', '59.05'], ['01-07-2019 19:45', '59.29', '59.05'], ['01-07-2019 20:00', '60.94', '59.05'], ['01-07-2019 20:15', '61.16', '59.05'], ['01-07-2019 20:30', '61.16', '61.16'], ['01-07-2019 20:45', '61.16', '61.16'], ['01-07-2019 21:00', '65.33', '61.16'], ['01-07-2019 21:15', '65.87', '61.16'], ['01-07-2019 21:30', '65.87', '61.16'], ['01-07-2019 21:45', '65.87', '65.87'], ['01-07-2019 22:00', '44.94', '65.87'], ['01-07-2019 22:15', '42.19', '65.87'], ['01-07-2019 22:30', '42.19', '65.87'], ['01-07-2019 22:45', '42.19', '65.87'], ['01-07-2019 23:00', '38.78', '42.19'], ['01-07-2019 23:15', '38.33', '42.19'], ['01-07-2019 23:30', '38.33', '42.19'], ['02-07-2019 00:00', '41.44', '42.19'], ['02-07-2019 00:15', '41.85', '42.19'], ['02-07-2019 00:30', '41.85', '41.85'], ['02-07-2019 00:45', '41.85', '41.85'], ['02-07-2019 01:00', '54.48', '41.85'], ['02-07-2019 01:15', '56.14', '41.85'], ['02-07-2019 01:30', '56.14', '41.85'], ['02-07-2019 01:45', '56.14', '56.14'], ['02-07-2019 02:00', '59.46', '56.14'], ['02-07-2019 02:15', '59.9', '56.14'], ['02-07-2019 02:30', '59.9', '56.14'], ['02-07-2019 02:45', '59.9', '56.14'], ['02-07-2019 03:00', '69.45', '59.9'], ['02-07-2019 03:15', '70.71', '59.9'], ['02-07-2019 03:30', '70.71', '59.9'], ['02-07-2019 03:45', '70.71', '59.9'], ['02-07-2019 04:00', '70.67', '59.9'], ['02-07-2019 04:15', '70.67', '70.67'], ['02-07-2019 04:30', '70.67', '70.67'], ['02-07-2019 04:45', '70.67', '70.67'], ['02-07-2019 05:00', '57.9', '70.67'], ['02-07-2019 05:15', '56.22', '70.67'], ['02-07-2019 05:30', '56.22', '56.22'], ['02-07-2019 05:45', '56.22', '56.22'], ['02-07-2019 06:00', '51.54', '56.22'], ['02-07-2019 06:15', '50.92', '56.22'], ['02-07-2019 06:30', '50.92', '56.22'], ['02-07-2019 06:45', '50.92', '50.92'], ['02-07-2019 07:00', '53.85', '50.92'], ['02-07-2019 07:15', '54.23', '50.92'], ['02-07-2019 07:30', '54.23', '50.92'], ['02-07-2019 07:45', '54.23', '50.92'], ['02-07-2019 08:00', '68.75', '54.23'], ['02-07-2019 08:15', '70.64', '54.23'], ['02-07-2019 08:30', '70.64', '54.23'], ['02-07-2019 08:45', '70.64', '54.23'], ['02-07-2019 09:00', '49.49', '54.23'], ['02-07-2019 09:15', '46.71', '49.49'], ['02-07-2019 09:30', '46.71', '49.49'], ['02-07-2019 09:45', '46.71', '49.49'], ['02-07-2019 10:00', '42.44', '49.49'], ['02-07-2019 10:15', '41.86', '49.49'], ['02-07-2019 10:30', '41.86', '41.86'], ['02-07-2019 10:45', '41.86', '41.86'], ['02-07-2019 11:00', '49.33', '41.86'], ['02-07-2019 11:15', '50.3', '41.86'], ['02-07-2019 11:30', '50.3', '41.86'], ['02-07-2019 11:45', '50.3', '50.3'], ['02-07-2019 12:00', '73.13', '50.3'], ['02-07-2019 12:15', '76.1', '50.3'], ['02-07-2019 12:30', '76.1', '50.3'], ['02-07-2019 12:45', '76.1', '50.3'], ['02-07-2019 13:00', '82.71', '76.1'], ['02-07-2019 13:15', '83.57', '76.1'], ['02-07-2019 13:30', '83.57', '76.1'], ['02-07-2019 13:45', '83.57', '76.1'], ['02-07-2019 14:00', '76.4', '76.1'], ['02-07-2019 14:15', '75.44', '76.4'], ['02-07-2019 14:30', '75.44', '76.4'], ['02-07-2019 14:45', '75.44', '76.4'], ['02-07-2019 15:00', '73.25', '76.4'], ['02-07-2019 15:15', '72.97', '76.4'], ['02-07-2019 15:30', '72.97', '72.97'], ['02-07-2019 15:45', '72.97', '72.97'], ['02-07-2019 16:00', '72.09', '72.97'], ['02-07-2019 16:15', '71.97', '72.97'], ['02-07-2019 16:30', '71.97', '72.97'], ['02-07-2019 16:45', '71.97', '71.97'], ['02-07-2019 17:00', '69.64', '71.97'], ['02-07-2019 17:15', '69.33', '71.97'], ['02-07-2019 17:30', '69.33', '71.97'], ['02-07-2019 17:45', '69.33', '71.97'], ['02-07-2019 18:00', '70.38', '69.33'], ['02-07-2019 18:15', '70.52', '69.33'], ['02-07-2019 18:30', '70.52', '69.33'], ['02-07-2019 18:45', '70.52', '69.33'], ['02-07-2019 19:00', '67.76', '69.33'], ['02-07-2019 19:15', '67.4', '67.76'], ['02-07-2019 19:30', '67.4', '67.76'], ['02-07-2019 19:45', '67.4', '67.76'], ['02-07-2019 20:00', '67.59', '67.76'], ['02-07-2019 20:15', '67.62', '67.76'], ['02-07-2019 20:30', '67.62', '67.62'], ['02-07-2019 20:45', '67.62', '67.62'], ['02-07-2019 21:00', '66.54', '67.62'], ['02-07-2019 21:15', '66.39', '67.62'], ['02-07-2019 21:30', '66.39', '67.62'], ['02-07-2019 21:45', '66.39', '66.39'], ['02-07-2019 22:00', '73.71', '66.39'], ['02-07-2019 22:15', '74.66', '66.39'], ['02-07-2019 22:30', '74.66', '66.39'], ['02-07-2019 22:45', '74.66', '66.39'], ['02-07-2019 23:00', '80.67', '74.66'], ['02-07-2019 23:15', '81.46', '74.66'], ['02-07-2019 23:30', '81.46', '74.66'], ['03-07-2019 00:00', '55.71', '74.66'], ['03-07-2019 00:15', '52.23', '74.66'], ['03-07-2019 00:30', '52.23', '52.23'], ['03-07-2019 00:45', '52.23', '52.23'], ['03-07-2019 01:00', '50.65', '52.23'], ['03-07-2019 01:15', '50.45', '52.23'], ['03-07-2019 01:30', '50.45', '52.23'], ['03-07-2019 01:45', '50.45', '50.45'], ['03-07-2019 02:00', '45.68', '50.45'], ['03-07-2019 02:15', '45.05', '50.45'], ['03-07-2019 02:30', '45.05', '50.45'], ['03-07-2019 02:45', '45.05', '50.45'], ['03-07-2019 03:00', '51.09', '45.05'], ['03-07-2019 03:15', '51.88', '45.05'], ['03-07-2019 03:30', '51.88', '45.05'], ['03-07-2019 03:45', '51.88', '45.05'], ['03-07-2019 04:00', '48.24', '45.05'], ['03-07-2019 04:15', '47.77', '48.24'], ['03-07-2019 04:30', '47.77', '48.24'], ['03-07-2019 04:45', '47.77', '48.24'], ['03-07-2019 05:00', '46.44', '48.24'], ['03-07-2019 05:15', '46.26', '48.24'], ['03-07-2019 05:30', '46.26', '46.26'], ['03-07-2019 05:45', '46.26', '46.26'], ['03-07-2019 06:00', '48.65', '46.26'], ['03-07-2019 06:15', '48.96', '46.26'], ['03-07-2019 06:30', '48.96', '46.26'], ['03-07-2019 06:45', '48.96', '48.96'], ['03-07-2019 07:00', '49.5', '48.96'], ['03-07-2019 07:15', '49.57', '48.96'], ['03-07-2019 07:30', '49.57', '48.96'], ['03-07-2019 07:45', '49.57', '48.96'], ['03-07-2019 08:00', '47.75', '49.57'], ['03-07-2019 08:15', '47.51', '49.57'], ['03-07-2019 08:30', '47.51', '49.57'], ['03-07-2019 08:45', '47.51', '49.57'], ['03-07-2019 09:00', '43.82', '49.57'], ['03-07-2019 09:15', '43.33', '43.82'], ['03-07-2019 09:30', '43.33', '43.82'], ['03-07-2019 09:45', '43.33', '43.82'], ['03-07-2019 10:00', '28.96', '43.82'], ['03-07-2019 10:15', '27.07', '43.82'], ['03-07-2019 10:30', '27.07', '27.07'], ['03-07-2019 10:45', '27.07', '27.07'], ['03-07-2019 11:00', '44.26', '27.07'], ['03-07-2019 11:15', '46.52', '27.07'], ['03-07-2019 11:30', '46.52', '27.07'], ['03-07-2019 11:45', '46.52', '46.52'], ['03-07-2019 12:00', '45.89', '46.52'], ['03-07-2019 12:15', '45.81', '46.52'], ['03-07-2019 12:30', '45.81', '46.52'], ['03-07-2019 12:45', '45.81', '46.52'], ['03-07-2019 13:00', '33.39', '45.81'], ['03-07-2019 13:15', '31.76', '45.81'], ['03-07-2019 13:30', '31.76', '45.81'], ['03-07-2019 13:45', '31.76', '45.81'], ['03-07-2019 14:00', '29.52', '45.81'], ['03-07-2019 14:15', '29.23', '29.52'], ['03-07-2019 14:30', '29.23', '29.52'], ['03-07-2019 14:45', '29.23', '29.52'], ['03-07-2019 15:00', '21.42', '29.52'], ['03-07-2019 15:15', '20.39', '29.52'], ['03-07-2019 15:30', '20.39', '20.39'], ['03-07-2019 15:45', '20.39', '20.39'], ['03-07-2019 16:00', '28.14', '20.39'], ['03-07-2019 16:15', '29.15', '20.39'], ['03-07-2019 16:30', '29.15', '20.39'], ['03-07-2019 16:45', '29.15', '29.15'], ['03-07-2019 17:00', '33.56', '29.15'], ['03-07-2019 17:15', '34.16', '29.15'], ['03-07-2019 17:30', '34.16', '29.15'], ['03-07-2019 17:45', '34.16', '29.15'], ['03-07-2019 18:00', '32.97', '34.16'], ['03-07-2019 18:15', '32.81', '34.16'], ['03-07-2019 18:30', '32.81', '34.16'], ['03-07-2019 18:45', '32.81', '34.16'], ['03-07-2019 19:00', '33.76', '34.16'], ['03-07-2019 19:15', '33.89', '33.76'], ['03-07-2019 19:30', '33.89', '33.76'], ['03-07-2019 19:45', '33.89', '33.76'], ['03-07-2019 20:00', '32.08', '33.76'], ['03-07-2019 20:15', '31.84', '33.76'], ['03-07-2019 20:30', '31.84', '31.84'], ['03-07-2019 21:00', '51.88', '31.84'], ['03-07-2019 21:15', '54.52', '31.84'], ['03-07-2019 21:30', '54.52', '31.84'], ['03-07-2019 21:45', '54.52', '31.84'], ['03-07-2019 22:00', '38.45', '54.52'], ['03-07-2019 22:15', '36.34', '54.52'], ['03-07-2019 22:30', '36.34', '54.52'], ['03-07-2019 22:45', '36.34', '54.52'], ['03-07-2019 23:00', '25.5', '54.52'], ['03-07-2019 23:15', '24.07', '25.5'], ['03-07-2019 23:30', '24.07', '25.5'], ['04-07-2019 00:00', '21.08', '25.5'], ['04-07-2019 00:15', '20.69', '25.5'], ['04-07-2019 00:30', '20.69', '25.5'], ['04-07-2019 00:45', '20.69', '20.69'], ['04-07-2019 01:00', '26.05', '20.69'], ['04-07-2019 01:15', '26.75', '20.69'], ['04-07-2019 01:30', '26.75', '20.69'], ['04-07-2019 01:45', '26.75', '20.69'], ['04-07-2019 02:00', '30.25', '26.75'], ['04-07-2019 02:15', '30.7', '26.75'], ['04-07-2019 02:30', '30.7', '26.75'], ['04-07-2019 02:45', '30.7', '26.75'], ['04-07-2019 03:00', '35.13', '26.75'], ['04-07-2019 03:15', '35.71', '35.13'], ['04-07-2019 03:30', '35.71', '35.13'], ['04-07-2019 03:45', '35.71', '35.13'], ['04-07-2019 04:00', '32.43', '35.13'], ['04-07-2019 04:15', '32', '35.13'], ['04-07-2019 04:30', '32', '32'], ['04-07-2019 04:45', '32', '32'], ['04-07-2019 05:00', '32.99', '32'], ['04-07-2019 05:15', '33.12', '32'], ['04-07-2019 05:30', '33.12', '32'], ['04-07-2019 05:45', '33.12', '33.12'], ['04-07-2019 06:00', '31.85', '33.12'], ['04-07-2019 06:15', '31.68', '33.12'], ['04-07-2019 06:30', '31.68', '33.12'], ['04-07-2019 06:45', '31.68', '33.12'], ['04-07-2019 07:00', '41.92', '31.68'], ['04-07-2019 07:15', '43.27', '31.68'], ['04-07-2019 07:30', '43.27', '31.68'], ['04-07-2019 07:45', '43.27', '31.68'], ['04-07-2019 08:00', '42.42', '31.68'], ['04-07-2019 08:15', '42.31', '42.42'], ['04-07-2019 08:30', '42.31', '42.42'], ['04-07-2019 08:45', '42.31', '42.42'], ['04-07-2019 09:00', '41.71', '42.42'], ['04-07-2019 09:15', '41.63', '42.42'], ['04-07-2019 09:30', '41.63', '41.63'], ['04-07-2019 09:45', '41.63', '41.63'], ['04-07-2019 10:00', '30.12', '41.63'], ['04-07-2019 10:15', '28.6', '41.63'], ['04-07-2019 10:30', '28.6', '41.63'], ['04-07-2019 10:45', '28.6', '28.6'], ['04-07-2019 11:00', '30.8', '28.6'], ['04-07-2019 11:15', '31.09', '28.6'], ['04-07-2019 11:30', '31.09', '28.6'], ['04-07-2019 11:45', '31.09', '28.6'], ['04-07-2019 12:00', '35.23', '31.09'], ['04-07-2019 12:15', '35.77', '31.09'], ['04-07-2019 12:30', '35.77', '31.09'], ['04-07-2019 12:45', '35.77', '31.09'], ['04-07-2019 13:00', '39.85', '31.09'], ['04-07-2019 13:15', '40.39', '39.85'], ['04-07-2019 13:30', '40.39', '39.85'], ['04-07-2019 13:45', '40.39', '39.85'], ['04-07-2019 14:00', '26.14', '39.85'], ['04-07-2019 14:15', '24.27', '39.85'], ['04-07-2019 14:30', '24.27', '24.27'], ['04-07-2019 14:45', '24.27', '24.27'], ['04-07-2019 15:00', '24.18', '24.27'], ['04-07-2019 15:15', '24.17', '24.27'], ['04-07-2019 15:30', '24.17', '24.27'], ['04-07-2019 15:45', '24.17', '24.17'], ['04-07-2019 16:00', '26.78', '24.17'], ['04-07-2019 16:15', '27.12', '24.17'], ['04-07-2019 16:30', '27.12', '24.17'], ['04-07-2019 16:45', '27.12', '24.17'], ['04-07-2019 17:00', '28.77', '27.12'], ['04-07-2019 17:15', '28.99', '27.12'], ['04-07-2019 17:30', '28.99', '27.12'], ['04-07-2019 17:45', '28.99', '27.12'], ['04-07-2019 18:00', '34.04', '27.12'], ['04-07-2019 18:15', '34.7', '34.04'], ['04-07-2019 18:30', '34.7', '34.04'], ['04-07-2019 18:45', '34.7', '34.04'], ['04-07-2019 19:00', '31.29', '34.04'], ['04-07-2019 19:15', '30.84', '34.04'], ['04-07-2019 19:30', '30.84', '30.84'], ['04-07-2019 19:45', '30.84', '30.84'], ['04-07-2019 20:00', '31.74', '30.84'], ['04-07-2019 20:15', '31.86', '30.84'], ['04-07-2019 20:30', '31.86', '30.84'], ['04-07-2019 20:45', '31.86', '31.86'], ['04-07-2019 21:00', '46.03', '31.86'], ['04-07-2019 21:15', '47.89', '31.86'], ['04-07-2019 21:30', '47.89', '31.86'], ['04-07-2019 21:45', '47.89', '31.86'], ['04-07-2019 22:15', '44.93', '47.89'], ['04-07-2019 22:30', '44.93', '47.89'], ['04-07-2019 22:45', '44.93', '47.89'], ['04-07-2019 23:00', '50.91', '47.89'], ['04-07-2019 23:15', '51.72', '47.89'], ['04-07-2019 23:30', '51.72', '51.72'], ['05-07-2019 00:00', '67.11', '51.72'], ['05-07-2019 00:15', '69.14', '51.72'], ['05-07-2019 00:30', '69.14', '51.72'], ['05-07-2019 00:45', '69.14', '51.72'], ['05-07-2019 01:00', '68.44', '69.14'], ['05-07-2019 01:15', '68.35', '69.14'], ['05-07-2019 01:30', '68.35', '69.14'], ['05-07-2019 01:45', '68.35', '69.14'], ['05-07-2019 02:00', '58.74', '69.14'], ['05-07-2019 02:15', '57.47', '58.74'], ['05-07-2019 02:30', '57.47', '58.74'], ['05-07-2019 02:45', '57.47', '58.74'], ['05-07-2019 03:00', '57.96', '58.74'], ['05-07-2019 03:15', '58.03', '58.74'], ['05-07-2019 03:30', '58.03', '58.03'], ['05-07-2019 03:45', '58.03', '58.03'], ['05-07-2019 04:00', '67.85', '58.03'], ['05-07-2019 04:15', '69.14', '58.03'], ['05-07-2019 04:30', '69.14', '58.03'], ['05-07-2019 04:45', '69.14', '69.14'], ['05-07-2019 05:00', '58.21', '69.14'], ['05-07-2019 05:15', '56.77', '69.14'], ['05-07-2019 05:30', '56.77', '69.14'], ['05-07-2019 05:45', '56.77', '69.14'], ['05-07-2019 06:00', '62.52', '56.77'], ['05-07-2019 06:15', '63.28', '56.77'], ['05-07-2019 06:30', '63.28', '56.77'], ['05-07-2019 06:45', '63.28', '56.77'], ['05-07-2019 07:00', '66.78', '56.77'], ['05-07-2019 07:15', '67.24', '66.78'], ['05-07-2019 07:30', '67.24', '66.78'], ['05-07-2019 07:45', '67.24', '66.78'], ['05-07-2019 08:00', '79.49', '66.78'], ['05-07-2019 08:15', '81.1', '66.78'], ['05-07-2019 08:30', '81.1', '81.1'], ['05-07-2019 08:45', '81.1', '81.1'], ['05-07-2019 09:00', '81.19', '81.1'], ['05-07-2019 09:15', '81.2', '81.1'], ['05-07-2019 09:30', '81.2', '81.1'], ['05-07-2019 09:45', '81.2', '81.2'], ['05-07-2019 10:00', '85.16', '81.2'], ['05-07-2019 10:15', '85.7', '81.2'], ['05-07-2019 10:30', '85.7', '81.2'], ['05-07-2019 10:45', '85.7', '81.2'], ['05-07-2019 11:00', '57.39', '85.7'], ['05-07-2019 11:15', '53.67', '85.7'], ['05-07-2019 11:30', '53.67', '85.7'], ['05-07-2019 11:45', '53.67', '85.7'], ['05-07-2019 12:00', '37.74', '85.7'], ['05-07-2019 12:15', '35.67', '37.74'], ['05-07-2019 12:30', '35.67', '37.74'], ['05-07-2019 12:45', '35.67', '37.74'], ['05-07-2019 13:00', '33.77', '37.74'], ['05-07-2019 13:15', '33.52', '37.74'], ['05-07-2019 13:30', '33.52', '33.52'], ['05-07-2019 13:45', '33.52', '33.52'], ['05-07-2019 14:00', '46.84', '33.52'], ['05-07-2019 14:15', '48.59', '33.52'], ['05-07-2019 14:30', '48.59', '33.52'], ['05-07-2019 14:45', '48.59', '48.59'], ['05-07-2019 15:00', '43.01', '48.59'], ['05-07-2019 15:15', '42.29', '48.59'], ['05-07-2019 15:30', '42.29', '48.59'], ['05-07-2019 15:45', '42.29', '48.59'], ['05-07-2019 16:00', '53.16', '42.29'], ['05-07-2019 16:15', '54.78', '42.29'], ['05-07-2019 16:30', '54.78', '42.29'], ['05-07-2019 16:45', '54.78', '42.29'], ['05-07-2019 17:00', '37.26', '42.29'], ['05-07-2019 17:15', '34.95', '37.26'], ['05-07-2019 17:30', '34.95', '37.26'], ['05-07-2019 17:45', '34.95', '37.26'], ['05-07-2019 18:00', '34.71', '37.26'], ['05-07-2019 18:15', '34.68', '37.26'], ['05-07-2019 18:30', '34.68', '34.68'], ['05-07-2019 18:45', '34.68', '34.68'], ['05-07-2019 19:00', '27.49', '34.68'], ['05-07-2019 19:15', '26.56', '34.68'], ['05-07-2019 19:30', '26.56', '34.68'], ['05-07-2019 19:45', '26.56', '26.56'], ['05-07-2019 20:00', '21.08', '26.56'], ['05-07-2019 20:15', '20.36', '26.56'], ['05-07-2019 20:30', '20.36', '26.56'], ['05-07-2019 20:45', '20.36', '26.56'], ['05-07-2019 21:00', '24.01', '20.36'], ['05-07-2019 21:15', '24.5', '20.36'], ['05-07-2019 21:30', '24.5', '20.36'], ['05-07-2019 21:45', '24.5', '20.36'], ['05-07-2019 22:00', '24.03', '20.36'], ['05-07-2019 22:15', '23.97', '24.03'], ['05-07-2019 22:30', '23.97', '24.03'], ['05-07-2019 22:45', '23.97', '24.03'], ['05-07-2019 23:00', '22.53', '24.03'], ['05-07-2019 23:15', '22.34', '24.03'], ['05-07-2019 23:30', '22.34', '22.34'], ['06-07-2019 00:00', '32.89', '22.34'], ['06-07-2019 00:15', '34.28', '22.34'], ['06-07-2019 00:30', '34.28', '22.34'], ['06-07-2019 00:45', '34.28', '22.34'], ['06-07-2019 01:00', '28.24', '34.28'], ['06-07-2019 01:15', '27.45', '34.28'], ['06-07-2019 01:30', '27.45', '34.28'], ['06-07-2019 01:45', '27.45', '34.28'], ['06-07-2019 02:00', '29.03', '34.28'], ['06-07-2019 02:15', '29.24', '29.03'], ['06-07-2019 02:30', '29.24', '29.03'], ['06-07-2019 02:45', '29.24', '29.03'], ['06-07-2019 03:00', '39.59', '29.03'], ['06-07-2019 03:15', '40.93', '29.03'], ['06-07-2019 03:30', '40.93', '40.93'], ['06-07-2019 03:45', '40.93', '40.93'], ['06-07-2019 04:00', '41.59', '40.93'], ['06-07-2019 04:15', '41.67', '40.93'], ['06-07-2019 04:45', '41.67', '40.93'], ['06-07-2019 05:00', '50.47', '41.67'], ['06-07-2019 05:15', '51.61', '41.67'], ['06-07-2019 05:30', '51.61', '41.67'], ['06-07-2019 05:45', '51.61', '41.67'], ['06-07-2019 06:00', '65.12', '41.67'], ['06-07-2019 06:15', '66.88', '65.12'], ['06-07-2019 06:30', '66.88', '65.12'], ['06-07-2019 06:45', '66.88', '65.12'], ['06-07-2019 07:00', '46.68', '65.12'], ['06-07-2019 07:15', '44.02', '65.12'], ['06-07-2019 07:30', '44.02', '44.02'], ['06-07-2019 07:45', '44.02', '44.02'], ['06-07-2019 08:00', '37.53', '44.02'], ['06-07-2019 08:15', '36.69', '44.02'], ['06-07-2019 08:30', '36.69', '44.02'], ['06-07-2019 08:45', '36.69', '36.69'], ['06-07-2019 09:00', '43.74', '36.69'], ['06-07-2019 09:15', '44.67', '36.69'], ['06-07-2019 09:30', '44.67', '36.69'], ['06-07-2019 09:45', '44.67', '36.69'], ['06-07-2019 10:00', '51.44', '44.67'], ['06-07-2019 10:15', '52.33', '44.67'], ['06-07-2019 10:30', '52.33', '44.67'], ['06-07-2019 10:45', '52.33', '44.67'], ['06-07-2019 11:00', '53.32', '44.67'], ['06-07-2019 11:15', '53.45', '53.32'], ['06-07-2019 11:30', '53.45', '53.32'], ['06-07-2019 11:45', '53.45', '53.32'], ['06-07-2019 12:00', '51.19', '53.32'], ['06-07-2019 12:15', '50.9', '53.32'], ['06-07-2019 12:30', '50.9', '50.9'], ['06-07-2019 12:45', '50.9', '50.9'], ['06-07-2019 13:00', '46.27', '50.9'], ['06-07-2019 13:15', '45.67', '50.9'], ['06-07-2019 13:30', '45.67', '50.9'], ['06-07-2019 13:45', '45.67', '45.67'], ['06-07-2019 14:00', '55.55', '45.67'], ['06-07-2019 14:15', '56.85', '45.67'], ['06-07-2019 14:30', '56.85', '45.67'], ['06-07-2019 14:45', '56.85', '45.67'], ['06-07-2019 15:00', '42.7', '56.85'], ['06-07-2019 15:15', '40.84', '56.85'], ['06-07-2019 15:30', '40.84', '56.85'], ['06-07-2019 15:45', '40.84', '56.85'], ['06-07-2019 16:00', '36.18', '56.85'], ['06-07-2019 16:15', '35.58', '36.18'], ['06-07-2019 16:30', '35.58', '36.18'], ['06-07-2019 16:45', '35.58', '36.18'], ['06-07-2019 17:00', '28.47', '36.18'], ['06-07-2019 17:15', '27.44', '36.18'], ['06-07-2019 17:30', '27.44', '27.44'], ['06-07-2019 17:45', '27.44', '27.44'], ['06-07-2019 18:00', '31.41', '27.44'], ['06-07-2019 18:15', '31.93', '27.44'], ['06-07-2019 18:30', '31.93', '27.44'], ['06-07-2019 18:45', '31.93', '31.93'], ['06-07-2019 19:00', '37.12', '31.93'], ['06-07-2019 19:15', '37.79', '31.93'], ['06-07-2019 19:30', '37.79', '31.93'], ['06-07-2019 19:45', '37.79', '31.93'], ['06-07-2019 20:00', '26.58', '37.79'], ['06-07-2019 20:15', '25.12', '37.79'], ['06-07-2019 20:30', '25.12', '37.79'], ['06-07-2019 20:45', '25.12', '37.79'], ['06-07-2019 21:00', '29.11', '37.79'], ['06-07-2019 21:15', '29.64', '29.11'], ['06-07-2019 21:30', '29.64', '29.11'], ['06-07-2019 21:45', '29.64', '29.11'], ['06-07-2019 22:00', '24.55', '29.11'], ['06-07-2019 22:15', '23.89', '29.11'], ['06-07-2019 22:30', '23.89', '23.89'], ['06-07-2019 22:45', '23.89', '23.89'], ['06-07-2019 23:00', '31.75', '23.89'], ['06-07-2019 23:15', '32.77', '23.89'], ['06-07-2019 23:30', '32.77', '23.89'], ['07-07-2019 00:00', '66.59', '32.77'], ['07-07-2019 00:15', '71.04', '32.77'], ['07-07-2019 00:30', '71.04', '32.77'], ['07-07-2019 00:45', '71.04', '32.77'], ['07-07-2019 01:00', '31.5', '32.77'], ['07-07-2019 01:15', '26.43', '31.5'], ['07-07-2019 01:30', '26.43', '31.5'], ['07-07-2019 01:45', '26.43', '31.5'], ['07-07-2019 02:00', '21.84', '31.5'], ['07-07-2019 02:15', '21.24', '31.5'], ['07-07-2019 02:30', '21.24', '21.24'], ['07-07-2019 02:45', '21.24', '21.24'], ['07-07-2019 03:00', '27.16', '21.24'], ['07-07-2019 03:15', '27.95', '21.24'], ['07-07-2019 03:30', '27.95', '21.24'], ['07-07-2019 03:45', '27.95', '27.95'], ['07-07-2019 04:00', '41.32', '27.95'], ['07-07-2019 04:15', '43.03', '27.95'], ['07-07-2019 04:30', '43.03', '27.95'], ['07-07-2019 04:45', '43.03', '27.95'], ['07-07-2019 05:00', '49.07', '43.03'], ['07-07-2019 05:15', '49.85', '43.03'], ['07-07-2019 05:30', '49.85', '43.03'], ['07-07-2019 05:45', '49.85', '43.03'], ['07-07-2019 06:00', '63.77', '43.03'], ['07-07-2019 06:15', '65.55', '63.77'], ['07-07-2019 06:30', '65.55', '63.77'], ['07-07-2019 06:45', '65.55', '63.77'], ['07-07-2019 07:00', '61.42', '63.77'], ['07-07-2019 07:15', '60.88', '63.77'], ['07-07-2019 07:30', '60.88', '60.88'], ['07-07-2019 07:45', '60.88', '60.88'], ['07-07-2019 08:00', '63.12', '60.88'], ['07-07-2019 08:15', '63.41', '60.88'], ['07-07-2019 08:30', '63.41', '60.88'], ['07-07-2019 08:45', '63.41', '63.41'], ['07-07-2019 09:00', '55.83', '63.41'], ['07-07-2019 09:15', '54.84', '63.41'], ['07-07-2019 09:30', '54.84', '63.41'], ['07-07-2019 09:45', '54.84', '63.41'], ['07-07-2019 10:00', '52.53', '54.84'], ['07-07-2019 10:15', '52.23', '54.84'], ['07-07-2019 10:30', '52.23', '54.84'], ['07-07-2019 10:45', '52.23', '54.84'], ['07-07-2019 11:00', '47.98', '54.84'], ['07-07-2019 11:15', '47.43', '47.98'], ['07-07-2019 11:30', '47.43', '47.98'], ['07-07-2019 11:45', '47.43', '47.98'], ['07-07-2019 12:00', '37.64', '47.98'], ['07-07-2019 12:15', '36.64', '47.98'], ['07-07-2019 12:30', '36.64', '36.64'], ['07-07-2019 12:45', '36.64', '36.64'], ['07-07-2019 13:00', '44.58', '36.64'], ['07-07-2019 13:15', '45.62', '36.64'], ['07-07-2019 13:30', '45.62', '36.64'], ['07-07-2019 13:45', '45.62', '45.62'], ['07-07-2019 14:00', '33.59', '45.62'], ['07-07-2019 14:15', '32.05', '45.62'], ['07-07-2019 14:30', '32.05', '45.62'], ['07-07-2019 14:45', '32.05', '45.62'], ['07-07-2019 15:00', '39.62', '32.05'], ['07-07-2019 15:15', '40.59', '32.05'], ['07-07-2019 15:30', '40.59', '32.05'], ['07-07-2019 15:45', '40.59', '32.05'], ['07-07-2019 16:00', '33.36', '32.05'], ['07-07-2019 16:15', '32.42', '33.36'], ['07-07-2019 16:30', '32.42', '33.36'], ['07-07-2019 16:45', '32.42', '33.36'], ['07-07-2019 17:00', '36.21', '33.36'], ['07-07-2019 17:15', '36.7', '33.36'], ['07-07-2019 17:30', '36.7', '36.7'], ['07-07-2019 17:45', '36.7', '36.7'], ['07-07-2019 18:00', '38.78', '36.7'], ['07-07-2019 18:15', '39.05', '36.7'], ['07-07-2019 18:30', '39.05', '36.7'], ['07-07-2019 18:45', '39.05', '39.05'], ['07-07-2019 19:00', '39.63', '39.05'], ['07-07-2019 19:15', '39.7', '39.05'], ['07-07-2019 19:30', '39.7', '39.05'], ['07-07-2019 19:45', '39.7', '39.05'], ['07-07-2019 20:00', '37.2', '39.7'], ['07-07-2019 20:15', '36.87', '39.7'], ['07-07-2019 20:30', '36.87', '39.7'], ['07-07-2019 20:45', '36.87', '39.7'], ['07-07-2019 21:00', '37.97', '39.7'], ['07-07-2019 21:15', '38.11', '37.97'], ['07-07-2019 21:30', '38.11', '37.97'], ['07-07-2019 21:45', '38.11', '37.97'], ['07-07-2019 22:00', '43.78', '37.97'], ['07-07-2019 22:15', '44.52', '37.97'], ['07-07-2019 22:30', '44.52', '44.52'], ['07-07-2019 22:45', '44.52', '44.52'], ['07-07-2019 23:00', '61.59', '44.52'], ['07-07-2019 23:15', '63.78', '44.52'], ['07-07-2019 23:30', '63.78', '44.52'], ['08-07-2019 00:00', '58.95', '63.78'], ['08-07-2019 00:15', '0', '63.78'], ['08-07-2019 00:30', '58.32', '63.78'], ['08-07-2019 00:45', '58.32', '63.78'], ['08-07-2019 01:00', '46.58', '63.78'], ['08-07-2019 01:15', '45.08', '46.58'], ['08-07-2019 01:30', '45.08', '46.58'], ['08-07-2019 01:45', '45.08', '46.58'], ['08-07-2019 02:00', '47.7', '46.58'], ['08-07-2019 02:15', '48.04', '46.58'], ['08-07-2019 02:30', '48.04', '48.04'], ['08-07-2019 02:45', '48.04', '48.04'], ['08-07-2019 03:00', '45.43', '48.04'], ['08-07-2019 03:15', '45.1', '48.04'], ['08-07-2019 03:30', '45.1', '48.04'], ['08-07-2019 03:45', '45.1', '45.1'], ['08-07-2019 04:00', '64.06', '45.1'], ['08-07-2019 04:15', '66.55', '45.1'], ['08-07-2019 04:30', '66.55', '45.1'], ['08-07-2019 04:45', '66.55', '45.1'], ['08-07-2019 05:00', '53.89', '66.55'], ['08-07-2019 05:15', '52.25', '66.55'], ['08-07-2019 05:30', '52.25', '66.55'], ['08-07-2019 05:45', '52.25', '66.55'], ['08-07-2019 06:00', '45.23', '66.55'], ['08-07-2019 06:15', '44.32', '45.23'], ['08-07-2019 06:30', '44.32', '45.23'], ['08-07-2019 06:45', '44.32', '45.23'], ['08-07-2019 07:00', '58.06', '45.23'], ['08-07-2019 07:15', '59.82', '45.23'], ['08-07-2019 07:30', '59.82', '59.82'], ['08-07-2019 07:45', '59.82', '59.82'], ['08-07-2019 08:00', '52.45', '59.82'], ['08-07-2019 08:15', '51.49', '59.82'], ['08-07-2019 08:30', '51.49', '59.82'], ['08-07-2019 08:45', '51.49', '51.49'], ['08-07-2019 09:00', '54.43', '51.49'], ['08-07-2019 09:15', '54.82', '51.49'], ['08-07-2019 09:30', '54.82', '51.49'], ['08-07-2019 09:45', '54.82', '51.49'], ['08-07-2019 10:00', '60.01', '54.82'], ['08-07-2019 10:15', '60.69', '54.82'], ['08-07-2019 10:30', '60.69', '54.82'], ['08-07-2019 10:45', '60.69', '54.82'], ['08-07-2019 11:00', '62.34', '54.82'], ['08-07-2019 11:15', '62.55', '62.34'], ['08-07-2019 11:30', '62.55', '62.34'], ['08-07-2019 11:45', '62.55', '62.34'], ['08-07-2019 12:00', '66.04', '62.34'], ['08-07-2019 12:15', '66.49', '62.34'], ['08-07-2019 12:30', '66.49', '66.49'], ['08-07-2019 12:45', '66.49', '66.49'], ['08-07-2019 13:00', '74.06', '66.49'], ['08-07-2019 13:15', '75.04', '66.49'], ['08-07-2019 13:30', '75.04', '66.49'], ['08-07-2019 13:45', '75.04', '75.04'], ['08-07-2019 14:00', '40.34', '75.04'], ['08-07-2019 14:15', '35.89', '75.04'], ['08-07-2019 14:30', '35.89', '75.04'], ['08-07-2019 14:45', '35.89', '75.04'], ['08-07-2019 15:00', '41.19', '35.89'], ['08-07-2019 15:15', '41.87', '35.89'], ['08-07-2019 15:30', '41.87', '35.89'], ['08-07-2019 15:45', '41.87', '35.89'], ['08-07-2019 16:00', '54.45', '35.89'], ['08-07-2019 16:15', '56.1', '54.45'], ['08-07-2019 16:30', '56.1', '54.45'], ['08-07-2019 16:45', '56.1', '54.45'], ['08-07-2019 17:00', '54.64', '54.45'], ['08-07-2019 17:15', '54.43', '54.45'], ['08-07-2019 17:30', '54.43', '54.43'], ['08-07-2019 17:45', '54.43', '54.43'], ['08-07-2019 18:00', '37.22', '54.43'], ['08-07-2019 18:15', '34.95', '54.43'], ['08-07-2019 18:30', '34.95', '54.43'], ['08-07-2019 18:45', '34.95', '34.95'], ['08-07-2019 19:00', '50.6', '34.95'], ['08-07-2019 19:15', '52.66', '34.95'], ['08-07-2019 19:30', '52.66', '34.95'], ['08-07-2019 19:45', '52.66', '34.95'], ['08-07-2019 20:00', '47.37', '52.66'], ['08-07-2019 20:15', '46.69', '52.66'], ['08-07-2019 20:30', '46.69', '52.66'], ['08-07-2019 20:45', '46.69', '52.66'], ['08-07-2019 21:00', '44.17', '52.66'], ['08-07-2019 21:15', '43.85', '44.17'], ['08-07-2019 21:30', '43.85', '44.17'], ['08-07-2019 21:45', '43.85', '44.17'], ['08-07-2019 22:00', '49.54', '44.17'], ['08-07-2019 22:15', '50.27', '44.17'], ['08-07-2019 22:30', '50.27', '50.27'], ['08-07-2019 22:45', '50.27', '50.27'], ['08-07-2019 23:00', '57.17', '50.27'], ['08-07-2019 23:15', '58.05', '50.27'], ['08-07-2019 23:30', '58.05', '50.27'], ['09-07-2019 00:00', '53.5', '58.05'], ['09-07-2019 00:15', '52.88', '58.05'], ['09-07-2019 00:30', '52.88', '58.05'], ['09-07-2019 00:45', '52.88', '58.05'], ['09-07-2019 01:00', '60.04', '58.05'], ['09-07-2019 01:15', '61.08', '60.04'], ['09-07-2019 01:30', '61.08', '60.04'], ['09-07-2019 01:45', '61.08', '60.04'], ['09-07-2019 02:00', '47.5', '60.04'], ['09-07-2019 02:15', '45.71', '60.04'], ['09-07-2019 02:30', '45.71', '45.71'], ['09-07-2019 02:45', '45.71', '45.71'], ['09-07-2019 03:00', '45.18', '45.71'], ['09-07-2019 03:15', '45.11', '45.71'], ['09-07-2019 03:30', '45.11', '45.71'], ['09-07-2019 03:45', '45.11', '45.11'], ['09-07-2019 04:00', '41.27', '45.11'], ['09-07-2019 04:15', '40.77', '45.11'], ['09-07-2019 04:30', '40.77', '45.11'], ['09-07-2019 04:45', '40.77', '45.11'], ['09-07-2019 05:00', '38.97', '40.77'], ['09-07-2019 05:15', '38.74', '40.77'], ['09-07-2019 05:30', '38.74', '40.77'], ['09-07-2019 05:45', '38.74', '40.77'], ['09-07-2019 06:00', '35.84', '40.77'], ['09-07-2019 06:15', '35.46', '35.84'], ['09-07-2019 06:30', '35.46', '35.84'], ['09-07-2019 06:45', '35.46', '35.84'], ['09-07-2019 07:00', '32.73', '35.84'], ['09-07-2019 07:15', '32.38', '35.84'], ['09-07-2019 07:30', '32.38', '32.38'], ['09-07-2019 07:45', '32.38', '32.38'], ['09-07-2019 08:00', '37.82', '32.38'], ['09-07-2019 08:15', '38.55', '32.38'], ['09-07-2019 08:30', '38.55', '32.38'], ['09-07-2019 08:45', '38.55', '38.55'], ['09-07-2019 09:00', '38.73', '38.55'], ['09-07-2019 09:15', '38.75', '38.55'], ['09-07-2019 09:30', '38.75', '38.55']]\n"
          ],
          "name": "stdout"
        }
      ]
    },
    {
      "cell_type": "code",
      "metadata": {
        "id": "k5qFEFEnzypN",
        "colab_type": "code",
        "colab": {}
      },
      "source": [
        "##TIMESTAMP MODIFICATION \n",
        "\n",
        "\n",
        "m_tmp=[]\n",
        "for tmp in dtu:\n",
        "  l=[]\n",
        "  temp=tmp[0]\n",
        "  temp=temp[-24:-5]\n",
        "  temp=temp.split('-')\n",
        "  newtemp=temp[2].split(' ')\n",
        "  newesttemp=newtemp[1].split(':')\n",
        "  j=int(newesttemp[1])\n",
        "  #print(j)\n",
        "  if(j<=7.5):\n",
        "    final = newtemp[0] + '-' + temp[1] + '-' + temp[0] + ' ' + newesttemp[0] + ':' + '00'\n",
        "  elif(j<=15 or j<=22.5):\n",
        "    final = newtemp[0] + '-' + temp[1] + '-' + temp[0] + ' ' + newesttemp[0] + ':' + '15'\n",
        "  elif(j<=30 or j<=37.5):\n",
        "    final = newtemp[0] + '-' + temp[1] + '-' + temp[0] + ' ' + newesttemp[0] + ':' + '30'\n",
        "  elif(j<=45 or j<=52.5):\n",
        "    final = newtemp[0] + '-' + temp[1] + '-' + temp[0] + ' ' + newesttemp[0] + ':' + '45'\n",
        "  elif(j>52.5):\n",
        "    final = newtemp[0] + '-' + temp[1] + '-' + temp[0] + ' ' + newesttemp[0] + ':' + '00'\n",
        "  l.append(tmp[0])\n",
        "  l.append(final)\n",
        "  l.append(tmp[1])\n",
        "  m_tmp.append(l)  \n",
        "  "
      ],
      "execution_count": 0,
      "outputs": []
    },
    {
      "cell_type": "code",
      "metadata": {
        "id": "K7UAmzex0jTF",
        "colab_type": "code",
        "colab": {}
      },
      "source": [
        "\n",
        "for val in cpcb:\n",
        "  for date in m_tmp:\n",
        "    if(val[0] == date[1]):\n",
        "      im = date[2]\n",
        "      l=[]\n",
        "#       imc = date[2]\n",
        "#       imc = cv2.resize(imc, (64,64))\n",
        "      l.append(val[0])\n",
        "      #l.append(np.ndarray.flatten(transmission(im)))\n",
        "      l.append(entropy(im))\n",
        "      l.append(contrast(im))\n",
        "      l.append(val[1])\n",
        "      l.append(val[2])\n",
        "      l.append(trans_deg(im))\n",
        "      #print('   -   -  ' + str(l))\n",
        "      feat.append(l)\n",
        "      "
      ],
      "execution_count": 0,
      "outputs": []
    },
    {
      "cell_type": "code",
      "metadata": {
        "id": "a_Vq-XytSz4q",
        "colab_type": "code",
        "colab": {}
      },
      "source": [
        "\n",
        "# PUNJABI BAGH \n",
        "\n",
        "df = pd.read_csv('/content/pb_labels.csv')\n",
        "data = df.mask(df.eq('None')).dropna()\n",
        "file = data.to_csv('/content/labels_pb_new.csv')\n",
        "\n",
        "\n",
        "k=0\n",
        "cpcb=[]\n",
        "val ='54.4'\n",
        "with open('/content/labels_pb_new.csv') as file:\n",
        "  reader = csv.reader(file, delimiter =',')\n",
        "  for row in reader:\n",
        "    k+=1\n",
        "    if(k>3):\n",
        "      l=[]\n",
        "      l.append(row[1]) #DATE \n",
        "      l.append(row[3]) #PM\n",
        "      l.append(val)\n",
        "      if(k%5==0):\n",
        "        val=row[3]\n",
        "      cpcb.append(l) "
      ],
      "execution_count": 0,
      "outputs": []
    },
    {
      "cell_type": "code",
      "metadata": {
        "id": "y4ySRENTGc1H",
        "colab_type": "code",
        "outputId": "66a50168-a0b0-417a-b0b9-9fd97256a4d3",
        "colab": {
          "base_uri": "https://localhost:8080/",
          "height": 54
        }
      },
      "source": [
        "print(cpcb)"
      ],
      "execution_count": 164,
      "outputs": [
        {
          "output_type": "stream",
          "text": [
            "[['03-07-2019 00:15', '54.4', '54.4'], ['03-07-2019 00:30', '53.6', '54.4'], ['03-07-2019 00:45', '53.6', '53.6'], ['03-07-2019 01:00', '54.6', '53.6'], ['03-07-2019 01:15', '55.5', '53.6'], ['03-07-2019 01:30', '56.2', '53.6'], ['03-07-2019 01:45', '56.8', '53.6'], ['03-07-2019 02:00', '57.1', '56.8'], ['03-07-2019 02:15', '57.3', '56.8'], ['03-07-2019 02:30', '57.2', '56.8'], ['03-07-2019 02:45', '56.9', '56.8'], ['03-07-2019 03:00', '56.2', '56.8'], ['03-07-2019 03:15', '56.2', '56.2'], ['03-07-2019 03:30', '56.3', '56.2'], ['03-07-2019 03:45', '56.9', '56.2'], ['03-07-2019 04:00', '57.3', '56.2'], ['03-07-2019 04:15', '57.2', '56.2'], ['03-07-2019 04:30', '56.8', '57.2'], ['03-07-2019 04:45', '57.1', '57.2'], ['03-07-2019 05:00', '57.8', '57.2'], ['03-07-2019 05:15', '58.5', '57.2'], ['03-07-2019 05:30', '59', '57.2'], ['03-07-2019 05:45', '59.1', '59'], ['03-07-2019 06:00', '58.8', '59'], ['03-07-2019 06:15', '58.5', '59'], ['03-07-2019 06:30', '58.3', '59'], ['03-07-2019 06:45', '57.7', '59'], ['03-07-2019 07:00', '57.3', '57.7'], ['03-07-2019 07:15', '56.8', '57.7'], ['03-07-2019 07:30', '56', '57.7'], ['03-07-2019 07:45', '54.2', '57.7'], ['03-07-2019 08:00', '52.7', '57.7'], ['03-07-2019 08:15', '53', '52.7'], ['03-07-2019 08:30', '51.6', '52.7'], ['03-07-2019 08:45', '50.7', '52.7'], ['03-07-2019 09:00', '48.7', '52.7'], ['03-07-2019 09:15', '48.4', '52.7'], ['03-07-2019 09:30', '49.3', '48.4'], ['03-07-2019 09:45', '49.4', '48.4'], ['03-07-2019 10:00', '49.1', '48.4'], ['03-07-2019 10:15', '49.2', '48.4'], ['03-07-2019 10:30', '48.1', '48.4'], ['03-07-2019 10:45', '48.2', '48.1'], ['03-07-2019 11:00', '49.9', '48.1'], ['03-07-2019 11:15', '50.6', '48.1'], ['03-07-2019 11:30', '50.9', '48.1'], ['03-07-2019 11:45', '49.9', '48.1'], ['03-07-2019 12:00', '48.3', '49.9'], ['03-07-2019 12:15', '46.8', '49.9'], ['03-07-2019 12:30', '46', '49.9'], ['03-07-2019 12:45', '46', '49.9'], ['03-07-2019 13:00', '45.1', '49.9'], ['03-07-2019 13:15', '44.8', '45.1'], ['03-07-2019 13:30', '45.2', '45.1'], ['03-07-2019 13:45', '44.3', '45.1'], ['03-07-2019 14:00', '42.8', '45.1'], ['03-07-2019 14:15', '42.7', '45.1'], ['03-07-2019 14:30', '42.5', '42.7'], ['03-07-2019 14:45', '42.2', '42.7'], ['03-07-2019 15:00', '42.5', '42.7'], ['03-07-2019 15:15', '41.6', '42.7'], ['03-07-2019 15:30', '41.3', '42.7'], ['03-07-2019 15:45', '41.7', '41.3'], ['03-07-2019 16:00', '42', '41.3'], ['03-07-2019 16:15', '43', '41.3'], ['03-07-2019 16:30', '43.3', '41.3'], ['03-07-2019 16:45', '43.2', '41.3'], ['03-07-2019 17:00', '43.5', '43.2'], ['03-07-2019 17:15', '43.8', '43.2'], ['03-07-2019 17:30', '44', '43.2'], ['03-07-2019 17:45', '44.8', '43.2'], ['03-07-2019 18:00', '45.2', '43.2'], ['03-07-2019 18:15', '45.2', '45.2'], ['03-07-2019 18:30', '45', '45.2'], ['03-07-2019 18:45', '45', '45.2'], ['03-07-2019 19:00', '45', '45.2'], ['03-07-2019 19:15', '45.3', '45.2'], ['03-07-2019 19:30', '45.1', '45.3'], ['03-07-2019 19:45', '45', '45.3'], ['03-07-2019 20:00', '45.1', '45.3'], ['03-07-2019 20:15', '45.1', '45.3'], ['03-07-2019 20:30', '45', '45.3'], ['03-07-2019 20:45', '46', '45'], ['03-07-2019 21:00', '46.7', '45'], ['03-07-2019 21:15', '47.2', '45'], ['03-07-2019 21:30', '47.9', '45'], ['03-07-2019 21:45', '48.4', '45'], ['03-07-2019 22:00', '48.5', '48.4'], ['03-07-2019 22:15', '48.6', '48.4'], ['03-07-2019 22:30', '48.8', '48.4'], ['03-07-2019 22:45', '49.2', '48.4'], ['03-07-2019 23:00', '49.2', '48.4'], ['03-07-2019 23:15', '49.2', '49.2'], ['03-07-2019 23:30', '49.2', '49.2'], ['03-07-2019 23:45', '49.5', '49.2'], ['04-07-2019 00:00', '50', '49.2'], ['04-07-2019 00:15', '50.5', '49.2'], ['04-07-2019 00:30', '50.9', '50.5'], ['04-07-2019 00:45', '51.3', '50.5'], ['04-07-2019 01:00', '51.7', '50.5'], ['04-07-2019 01:15', '52.1', '50.5'], ['04-07-2019 01:30', '52.4', '50.5'], ['04-07-2019 01:45', '52.7', '52.4'], ['04-07-2019 02:00', '52.9', '52.4'], ['04-07-2019 02:15', '52.6', '52.4'], ['04-07-2019 02:30', '52.7', '52.4'], ['04-07-2019 02:45', '52.8', '52.4'], ['04-07-2019 03:00', '53.1', '52.8'], ['04-07-2019 03:15', '53.3', '52.8'], ['04-07-2019 03:30', '53.4', '52.8'], ['04-07-2019 03:45', '53.6', '52.8'], ['04-07-2019 04:00', '53.7', '52.8'], ['04-07-2019 04:15', '54', '53.7'], ['04-07-2019 04:30', '54.2', '53.7'], ['04-07-2019 04:45', '54.6', '53.7'], ['04-07-2019 05:00', '54.9', '53.7'], ['04-07-2019 05:15', '55.2', '53.7'], ['04-07-2019 05:30', '55.2', '55.2'], ['04-07-2019 05:45', '55.3', '55.2'], ['04-07-2019 06:00', '55.5', '55.2'], ['04-07-2019 06:15', '55.5', '55.2'], ['04-07-2019 06:30', '55.6', '55.2'], ['04-07-2019 06:45', '57.5', '55.6'], ['04-07-2019 07:00', '62.7', '55.6'], ['04-07-2019 07:15', '65.4', '55.6'], ['04-07-2019 07:30', '64.8', '55.6'], ['04-07-2019 07:45', '61.6', '55.6'], ['04-07-2019 08:00', '59', '61.6'], ['04-07-2019 08:15', '56.4', '61.6'], ['04-07-2019 08:30', '54.1', '61.6'], ['04-07-2019 08:45', '52', '61.6'], ['04-07-2019 09:00', '51.2', '61.6'], ['04-07-2019 09:15', '50', '51.2'], ['04-07-2019 09:30', '49.3', '51.2'], ['04-07-2019 09:45', '48', '51.2'], ['04-07-2019 10:00', '45.9', '51.2'], ['04-07-2019 10:15', '45.5', '51.2'], ['04-07-2019 10:30', '46.6', '45.5'], ['04-07-2019 10:45', '46.6', '45.5'], ['04-07-2019 11:00', '46.8', '45.5'], ['04-07-2019 11:15', '45.6', '45.5'], ['04-07-2019 11:30', '45.7', '45.5'], ['04-07-2019 11:45', '44.6', '45.7'], ['04-07-2019 12:00', '46.9', '45.7'], ['04-07-2019 12:15', '50.2', '45.7'], ['04-07-2019 12:30', '50.8', '45.7'], ['04-07-2019 12:45', '55.7', '45.7'], ['04-07-2019 13:00', '58.4', '55.7'], ['04-07-2019 13:15', '58.6', '55.7'], ['04-07-2019 13:30', '58.7', '55.7'], ['04-07-2019 13:45', '63.1', '55.7'], ['04-07-2019 14:00', '65.9', '55.7'], ['04-07-2019 14:15', '67.2', '65.9'], ['04-07-2019 14:30', '66.9', '65.9'], ['04-07-2019 14:45', '66.6', '65.9'], ['04-07-2019 15:00', '67', '65.9'], ['04-07-2019 15:15', '69.9', '65.9'], ['04-07-2019 15:30', '71.8', '69.9'], ['04-07-2019 15:45', '71.8', '69.9'], ['04-07-2019 16:00', '72.2', '69.9'], ['04-07-2019 16:15', '72.4', '69.9'], ['04-07-2019 16:30', '72.3', '69.9'], ['04-07-2019 16:45', '71.5', '72.3'], ['04-07-2019 17:00', '72.6', '72.3'], ['04-07-2019 17:15', '73.4', '72.3'], ['04-07-2019 17:30', '74.8', '72.3'], ['04-07-2019 17:45', '74.2', '72.3'], ['04-07-2019 18:00', '73.5', '74.2'], ['04-07-2019 18:15', '73.2', '74.2'], ['04-07-2019 18:30', '72.7', '74.2'], ['04-07-2019 18:45', '72', '74.2'], ['04-07-2019 19:00', '70.9', '74.2'], ['04-07-2019 19:15', '71.7', '70.9'], ['04-07-2019 19:30', '71', '70.9'], ['04-07-2019 19:45', '70.2', '70.9'], ['04-07-2019 20:00', '70.3', '70.9'], ['04-07-2019 20:15', '69.7', '70.9'], ['04-07-2019 20:30', '68.7', '69.7'], ['04-07-2019 20:45', '68.9', '69.7'], ['04-07-2019 21:00', '68.1', '69.7'], ['04-07-2019 21:15', '68', '69.7'], ['04-07-2019 21:30', '67.8', '69.7'], ['04-07-2019 21:45', '67.6', '67.8'], ['04-07-2019 22:00', '68.3', '67.8'], ['04-07-2019 22:15', '68.6', '67.8'], ['04-07-2019 22:30', '68.6', '67.8'], ['04-07-2019 22:45', '67.5', '67.8'], ['04-07-2019 23:00', '67.2', '67.5'], ['04-07-2019 23:15', '67.7', '67.5'], ['04-07-2019 23:30', '67.6', '67.5'], ['04-07-2019 23:45', '67.8', '67.5'], ['05-07-2019 00:00', '68', '67.5'], ['05-07-2019 00:15', '68', '68'], ['05-07-2019 00:30', '67.7', '68'], ['05-07-2019 00:45', '67.8', '68'], ['05-07-2019 01:00', '67.5', '68'], ['05-07-2019 01:15', '69.6', '68'], ['05-07-2019 01:30', '72', '69.6'], ['05-07-2019 01:45', '72.5', '69.6'], ['05-07-2019 02:00', '72.5', '69.6'], ['05-07-2019 02:15', '71.5', '69.6'], ['05-07-2019 02:30', '70.8', '69.6'], ['05-07-2019 02:45', '70.5', '70.8'], ['05-07-2019 03:00', '70.3', '70.8'], ['05-07-2019 03:15', '70.3', '70.8'], ['05-07-2019 03:30', '70.7', '70.8'], ['05-07-2019 03:45', '71.1', '70.8'], ['05-07-2019 04:00', '71.3', '71.1'], ['05-07-2019 04:15', '71.6', '71.1'], ['05-07-2019 04:30', '71.8', '71.1']]\n"
          ],
          "name": "stdout"
        }
      ]
    },
    {
      "cell_type": "code",
      "metadata": {
        "id": "y7cLQSiQTIVP",
        "colab_type": "code",
        "colab": {}
      },
      "source": [
        "##TIMESTAMP MODIFICATION \n",
        "\n",
        "m_tmp=[]\n",
        "for tmp in pb:\n",
        "  l=[]\n",
        "  temp=tmp[0]\n",
        "  temp=temp[-24:-5]\n",
        "  temp=temp.split('-')\n",
        "  newtemp=temp[2].split(' ')\n",
        "  newesttemp=newtemp[1].split(':')\n",
        "  j=int(newesttemp[1])\n",
        "  #print(j)\n",
        "  if(j<=7.5):\n",
        "    final = newtemp[0] + '-' + temp[1] + '-' + temp[0] + ' ' + newesttemp[0] + ':' + '00'\n",
        "  elif(j<=15 or j<=22.5):\n",
        "    final = newtemp[0] + '-' + temp[1] + '-' + temp[0] + ' ' + newesttemp[0] + ':' + '15'\n",
        "  elif(j<=30 or j<=37.5):\n",
        "    final = newtemp[0] + '-' + temp[1] + '-' + temp[0] + ' ' + newesttemp[0] + ':' + '30'\n",
        "  elif(j<=45 or j<=52.5):\n",
        "    final = newtemp[0] + '-' + temp[1] + '-' + temp[0] + ' ' + newesttemp[0] + ':' + '45'\n",
        "  elif(j>52.5):\n",
        "    final = newtemp[0] + '-' + temp[1] + '-' + temp[0] + ' ' + newesttemp[0] + ':' + '00'\n",
        "  l.append(tmp[0])\n",
        "  l.append(final)\n",
        "  l.append(tmp[1])\n",
        "  m_tmp.append(l)   "
      ],
      "execution_count": 0,
      "outputs": []
    },
    {
      "cell_type": "code",
      "metadata": {
        "id": "5lC01m43TO6z",
        "colab_type": "code",
        "colab": {}
      },
      "source": [
        "\n",
        "for val in cpcb:\n",
        "  for date in m_tmp:\n",
        "    if(val[0] == date[1]):\n",
        "      #print(date[0])\n",
        "      im = date[2]\n",
        "      l=[]\n",
        "      l.append(val[0])\n",
        "      l.append(entropy(im))\n",
        "      l.append(contrast(im))\n",
        "      l.append(val[1])\n",
        "      l.append(val[2])\n",
        "      l.append(trans_deg(im))\n",
        "      #print('   -   -  ' + str(l))\n",
        "      feat.append(l)"
      ],
      "execution_count": 0,
      "outputs": []
    },
    {
      "cell_type": "code",
      "metadata": {
        "id": "GS5SblBb-2QT",
        "colab_type": "code",
        "outputId": "e927c25e-3c3c-41ef-c7f2-65662fb6eb65",
        "colab": {
          "base_uri": "https://localhost:8080/",
          "height": 54
        }
      },
      "source": [
        "\n",
        "print(feat)"
      ],
      "execution_count": 167,
      "outputs": [
        {
          "output_type": "stream",
          "text": [
            "[['27-06-2019 16:00', 5.071457862854004, 2.468056791148552, '47', '47', 1], ['27-06-2019 16:00', 40.19698715209961, 59.820981855775706, '47', '47', 1], ['27-06-2019 16:45', 41.98408126831055, 60.822207739303735, '47', '47', 2], ['27-06-2019 16:45', 5.048366069793701, 2.470456806162675, '47', '47', 1], ['27-06-2019 16:45', 42.25675964355469, 62.17865647994067, '47', '47', 2], ['27-06-2019 16:45', 45.038902282714844, 57.058971414239934, '47', '47', 1], ['27-06-2019 17:00', 38.31585693359375, 63.26486441079081, '45', '47', 1], ['27-06-2019 17:00', 42.740291595458984, 64.30904471374883, '45', '47', 2], ['27-06-2019 17:00', 42.78096389770508, 64.38469555959436, '45', '47', 2], ['27-06-2019 17:00', 42.9442253112793, 65.99889562145044, '45', '47', 1], ['27-06-2019 17:15', 40.31647491455078, 66.20686853553428, '45', '47', 1], ['27-06-2019 17:15', 40.947696685791016, 68.67146570323897, '45', '47', 1], ['27-06-2019 17:15', 46.86836624145508, 58.86145451756276, '45', '47', 1], ['27-06-2019 17:15', 42.75605773925781, 64.74247894601672, '45', '47', 2], ['27-06-2019 17:15', 25.73710823059082, 40.25388000166468, '45', '47', 1], ['27-06-2019 17:30', 42.497344970703125, 64.60247938791454, '45', '47', 1], ['27-06-2019 17:30', 42.966426849365234, 65.31793808429606, '45', '47', 1], ['27-06-2019 17:30', 42.832679748535156, 65.72899746938376, '45', '47', 1], ['27-06-2019 17:45', 42.83359146118164, 65.53632457149676, '45', '47', 1], ['27-06-2019 17:45', 43.24951934814453, 66.24580180158023, '45', '47', 1], ['27-06-2019 17:45', 43.30516052246094, 66.2885288711516, '45', '47', 1], ['27-06-2019 18:00', 37.427642822265625, 74.48769690315639, '36', '45', 1], ['27-06-2019 18:00', 36.855712890625, 75.62142934320283, '36', '45', 1], ['27-06-2019 18:00', 43.13401794433594, 66.45872824527432, '36', '45', 1], ['27-06-2019 18:00', 42.93878173828125, 66.592678010113, '36', '45', 1], ['27-06-2019 18:00', 46.09401321411133, 66.1960638347592, '36', '45', 1], ['27-06-2019 18:00', 46.49905776977539, 65.52438423476798, '36', '45', 2], ['27-06-2019 18:15', 37.310855865478516, 74.08944365510958, '36', '45', 1], ['27-06-2019 18:15', 36.598045349121094, 74.53637196374706, '36', '45', 1], ['27-06-2019 18:15', 36.944580078125, 74.13895781280915, '36', '45', 1], ['27-06-2019 18:15', 43.081520080566406, 66.39627383556662, '36', '45', 1], ['27-06-2019 18:15', 43.41512680053711, 66.82344282236161, '36', '45', 1], ['27-06-2019 18:15', 43.178680419921875, 66.46648504316654, '36', '45', 1], ['27-06-2019 18:30', 36.66422653198242, 74.49885855740169, '36', '45', 1], ['27-06-2019 18:30', 36.47767639160156, 74.5104422308926, '36', '45', 1], ['27-06-2019 18:30', 36.49453353881836, 75.12800893480356, '36', '45', 1], ['27-06-2019 18:30', 43.138980865478516, 66.74225182735567, '36', '45', 1], ['27-06-2019 18:30', 42.983184814453125, 66.78107220016783, '36', '45', 1], ['27-06-2019 18:30', 43.52179718017578, 66.65136188936815, '36', '45', 1], ['27-06-2019 18:45', 36.31037521362305, 75.10691176477822, '36', '45', 1], ['27-06-2019 18:45', 36.76790237426758, 75.55389686814975, '36', '45', 1], ['27-06-2019 18:45', 36.717891693115234, 75.50077010387226, '36', '45', 1], ['27-06-2019 18:45', 43.23454284667969, 66.63619356991165, '36', '45', 1], ['27-06-2019 18:45', 44.51655197143555, 66.11292336052925, '36', '45', 1], ['27-06-2019 18:45', 44.85469436645508, 66.13141446198864, '36', '45', 1], ['28-06-2019 06:00', 38.451622009277344, 85.34357904222205, '180', '117', 1], ['28-06-2019 06:00', 37.98000717163086, 84.59735897884056, '180', '117', 1], ['28-06-2019 06:00', 41.00096130371094, 80.33562076820542, '180', '117', 1], ['28-06-2019 06:00', 46.40052032470703, 67.84135869089083, '180', '117', 1], ['28-06-2019 06:00', 46.354183197021484, 67.57758596822029, '180', '117', 1], ['28-06-2019 06:00', 50.740821838378906, 63.52597155358138, '180', '117', 1], ['28-06-2019 06:15', 37.99810791015625, 83.5042408123158, '180', '117', 1], ['28-06-2019 06:15', 37.733734130859375, 83.26576628326725, '180', '117', 1], ['28-06-2019 06:15', 37.733516693115234, 82.83105620518762, '180', '117', 1], ['28-06-2019 06:15', 46.12541198730469, 67.81413916277145, '180', '117', 1], ['28-06-2019 06:15', 46.73320770263672, 68.1168842108058, '180', '117', 1], ['28-06-2019 06:15', 47.50563430786133, 68.20297194176418, '180', '117', 1], ['28-06-2019 06:30', 37.25712203979492, 82.06611794106361, '180', '180', 1], ['28-06-2019 06:30', 37.89278793334961, 81.00409176534399, '180', '180', 1], ['28-06-2019 06:30', 37.71870422363281, 81.31181939511838, '180', '180', 1], ['28-06-2019 06:30', 46.83939743041992, 67.82214251137003, '180', '180', 1], ['28-06-2019 06:30', 48.51626205444336, 66.41872230944969, '180', '180', 1], ['28-06-2019 06:30', 48.42802429199219, 66.11203078773411, '180', '180', 1], ['28-06-2019 06:45', 38.52070617675781, 80.78871114770443, '180', '180', 1], ['28-06-2019 06:45', 38.080841064453125, 81.51006159886808, '180', '180', 1], ['28-06-2019 06:45', 35.77826690673828, 83.39884622169394, '180', '180', 1], ['28-06-2019 06:45', 49.982017517089844, 66.30562161418231, '180', '180', 1], ['28-06-2019 06:45', 50.2846565246582, 66.2472592464971, '180', '180', 1], ['28-06-2019 06:45', 46.2404899597168, 68.80652709583843, '180', '180', 1], ['28-06-2019 07:00', 39.53583526611328, 80.78435452834188, '190', '180', 1], ['28-06-2019 07:00', 39.51521682739258, 80.92012739082769, '190', '180', 1], ['28-06-2019 07:00', 46.03285598754883, 77.10389303423693, '190', '180', 1], ['28-06-2019 07:00', 50.54508972167969, 64.6265090280035, '190', '180', 1], ['28-06-2019 07:00', 50.85834884643555, 64.30593366153943, '190', '180', 1], ['28-06-2019 07:00', 51.29647445678711, 63.921092225546595, '190', '180', 1], ['28-06-2019 07:00', 50.369564056396484, 63.96280920819578, '190', '180', 1], ['28-06-2019 07:15', 38.956363677978516, 80.3425024163148, '190', '180', 1], ['28-06-2019 07:15', 44.26893997192383, 77.06561915263717, '190', '180', 1], ['28-06-2019 07:15', 44.352203369140625, 78.2313291981804, '190', '180', 1], ['28-06-2019 07:15', 51.46967315673828, 63.447623291461795, '190', '180', 1], ['28-06-2019 07:15', 51.42826843261719, 63.49966149926749, '190', '180', 1], ['28-06-2019 07:15', 52.583465576171875, 63.36597092893385, '190', '180', 1], ['28-06-2019 07:30', 43.79643249511719, 80.10085733162545, '190', '180', 1], ['28-06-2019 07:30', 47.88431930541992, 78.24114804009346, '190', '180', 1], ['28-06-2019 07:30', 44.384422302246094, 79.61984847837262, '190', '180', 1], ['28-06-2019 07:30', 49.67237091064453, 65.45613917476315, '190', '180', 1], ['28-06-2019 07:30', 52.969696044921875, 63.47136559768532, '190', '180', 1], ['28-06-2019 07:30', 52.46479034423828, 64.69211030122666, '190', '180', 1], ['28-06-2019 07:45', 46.87828826904297, 78.40451067481426, '190', '190', 1], ['28-06-2019 07:45', 49.228023529052734, 76.3061351894371, '190', '190', 1], ['28-06-2019 07:45', 47.577239990234375, 76.3835149642535, '190', '190', 1], ['28-06-2019 07:45', 53.83100509643555, 65.03573057928884, '190', '190', 1], ['28-06-2019 07:45', 52.98187255859375, 64.70769603249694, '190', '190', 1], ['28-06-2019 07:45', 51.66059112548828, 65.23838892556452, '190', '190', 1], ['28-06-2019 08:00', 46.05499267578125, 76.61605490469785, '92', '190', 1], ['28-06-2019 08:00', 47.47391128540039, 78.37392432398651, '92', '190', 1], ['28-06-2019 08:00', 48.56776809692383, 70.58716403599973, '92', '190', 1], ['28-06-2019 08:00', 49.774906158447266, 64.69535175447817, '92', '190', 1], ['28-06-2019 08:00', 51.239540100097656, 63.57602662305918, '92', '190', 1], ['28-06-2019 08:00', 51.760929107666016, 62.46806049180335, '92', '190', 1], ['28-06-2019 08:15', 46.22962951660156, 77.20611724573054, '92', '190', 1], ['28-06-2019 08:15', 45.154090881347656, 75.83113393545956, '92', '190', 1], ['28-06-2019 08:15', 45.865081787109375, 77.35284408478272, '92', '190', 1], ['28-06-2019 08:15', 50.92595672607422, 64.12659388512773, '92', '190', 1], ['28-06-2019 08:15', 50.10752868652344, 63.93776466492645, '92', '190', 1], ['28-06-2019 08:15', 50.21084213256836, 64.22568042929639, '92', '190', 1], ['28-06-2019 08:30', 49.112693786621094, 73.86365119198085, '92', '190', 1], ['28-06-2019 08:30', 42.42096710205078, 80.10561447492427, '92', '190', 1], ['28-06-2019 08:30', 48.32048797607422, 72.15135926224953, '92', '190', 1], ['28-06-2019 08:30', 53.036434173583984, 63.66285338244263, '92', '190', 1], ['28-06-2019 08:30', 48.4515495300293, 66.89285437161016, '92', '190', 1], ['28-06-2019 08:30', 52.602970123291016, 61.336251253606314, '92', '190', 1], ['28-06-2019 08:45', 47.224098205566406, 73.45044466641423, '92', '190', 1], ['28-06-2019 08:45', 40.337520599365234, 78.84199429899014, '92', '190', 1], ['28-06-2019 08:45', 47.65727233886719, 67.5390435429969, '92', '190', 1], ['28-06-2019 08:45', 47.83138656616211, 67.19260841078213, '92', '190', 1], ['28-06-2019 08:45', 47.18918991088867, 67.82188797803036, '92', '190', 1], ['28-06-2019 08:45', 50.487117767333984, 63.44491252013738, '92', '190', 2], ['28-06-2019 09:00', 46.410682678222656, 71.53596035848008, '45', '92', 1], ['28-06-2019 09:00', 45.038429260253906, 71.59467503729088, '45', '92', 1], ['28-06-2019 09:00', 45.384490966796875, 71.78831257335935, '45', '92', 1], ['28-06-2019 09:00', 47.65997314453125, 70.53614802998032, '45', '92', 1], ['28-06-2019 09:00', 50.250057220458984, 63.602523753337685, '45', '92', 2], ['28-06-2019 09:00', 49.86457824707031, 61.93659796102891, '45', '92', 2], ['28-06-2019 09:00', 51.1200065612793, 61.591248128928434, '45', '92', 2], ['28-06-2019 09:15', 42.27440643310547, 71.53344973324394, '45', '92', 1], ['28-06-2019 09:15', 45.025245666503906, 71.81681089388238, '45', '92', 1], ['28-06-2019 09:15', 43.99848175048828, 73.8102887621382, '45', '92', 1], ['28-06-2019 09:15', 47.93642807006836, 63.595653589680396, '45', '92', 2], ['28-06-2019 09:15', 48.86132049560547, 63.46365485655394, '45', '92', 2], ['28-06-2019 09:15', 47.753135681152344, 63.69918621078828, '45', '92', 2], ['28-06-2019 09:30', 48.399959564208984, 69.78039287425854, '45', '92', 1], ['28-06-2019 09:30', 49.15561294555664, 70.64945919473702, '45', '92', 1], ['28-06-2019 09:30', 48.68292236328125, 71.70226058033145, '45', '92', 1], ['28-06-2019 09:30', 49.447509765625, 61.212896058510566, '45', '92', 2], ['28-06-2019 09:30', 49.60646438598633, 60.658105817927876, '45', '92', 2], ['28-06-2019 09:30', 50.506256103515625, 61.92700265995793, '45', '92', 2], ['28-06-2019 09:45', 47.417724609375, 72.71756961146353, '45', '92', 1], ['28-06-2019 09:45', 47.22915267944336, 73.04585785662508, '45', '92', 1], ['28-06-2019 09:45', 46.842811584472656, 72.79343401665123, '45', '92', 1], ['28-06-2019 09:45', 50.381771087646484, 62.66832259908767, '45', '92', 2], ['28-06-2019 09:45', 50.63793182373047, 62.40755604648661, '45', '92', 2], ['28-06-2019 09:45', 50.813194274902344, 62.29083707448646, '45', '92', 2], ['28-06-2019 10:00', 50.29106521606445, 69.24287410129402, '30', '92', 1], ['28-06-2019 10:00', 48.15008544921875, 68.48710286213243, '30', '92', 1], ['28-06-2019 10:00', 51.73839569091797, 61.04365057787632, '30', '92', 2], ['28-06-2019 10:00', 49.958709716796875, 61.3628453243708, '30', '92', 2], ['28-06-2019 10:00', 49.42686080932617, 61.71712778419149, '30', '92', 2], ['28-06-2019 10:15', 49.324859619140625, 70.97920533757915, '30', '30', 1], ['28-06-2019 10:15', 49.3459587097168, 69.79441460431198, '30', '30', 1], ['28-06-2019 10:15', 49.28902053833008, 67.6424631810563, '30', '30', 1], ['28-06-2019 10:15', 51.57804489135742, 61.70537692004026, '30', '30', 2], ['28-06-2019 10:15', 50.85227584838867, 60.84522145764721, '30', '30', 2], ['28-06-2019 10:15', 49.2523193359375, 58.51874570113492, '30', '30', 2], ['28-06-2019 10:30', 49.34548568725586, 68.98664160491253, '30', '30', 1], ['28-06-2019 10:30', 47.77306365966797, 67.27516959202234, '30', '30', 2], ['28-06-2019 10:30', 47.52876281738281, 66.76101259379054, '30', '30', 2], ['28-06-2019 10:30', 51.3793830871582, 61.246479073339074, '30', '30', 2], ['28-06-2019 10:30', 44.71875762939453, 59.01428713959127, '30', '30', 2], ['28-06-2019 10:30', 49.35238265991211, 58.456938818220195, '30', '30', 2], ['28-06-2019 10:45', 46.64547348022461, 69.54105041018332, '30', '30', 1], ['28-06-2019 10:45', 48.01758575439453, 66.744832178426, '30', '30', 1], ['28-06-2019 10:45', 48.49728012084961, 65.0376468065463, '30', '30', 1], ['28-06-2019 10:45', 50.50076675415039, 60.98462970741591, '30', '30', 2], ['28-06-2019 10:45', 47.4376220703125, 59.02030479049966, '30', '30', 2], ['28-06-2019 10:45', 47.868682861328125, 59.070133417064845, '30', '30', 2], ['28-06-2019 11:00', 47.381797790527344, 69.79079265575946, '23', '30', 1], ['28-06-2019 11:00', 47.40245056152344, 69.35174745294597, '23', '30', 1], ['28-06-2019 11:00', 46.31945037841797, 62.700690332053085, '23', '30', 2], ['28-06-2019 11:00', 49.99394226074219, 62.344072312327285, '23', '30', 2], ['28-06-2019 11:00', 41.81300354003906, 58.85317527137052, '23', '30', 2], ['28-06-2019 11:00', 44.61579895019531, 59.061100934107024, '23', '30', 2], ['28-06-2019 11:15', 48.58905029296875, 66.5979912590736, '23', '30', 1], ['28-06-2019 11:15', 48.136497497558594, 68.45950914975572, '23', '30', 1], ['28-06-2019 11:15', 48.343570709228516, 69.25537920680085, '23', '30', 1], ['28-06-2019 11:15', 49.75031661987305, 59.45395682162586, '23', '30', 2], ['28-06-2019 11:15', 50.314857482910156, 60.62379624523968, '23', '30', 2], ['28-06-2019 11:15', 49.766578674316406, 61.644766260351425, '23', '30', 2], ['28-06-2019 11:30', 49.33428955078125, 67.21500026691086, '23', '23', 1], ['28-06-2019 11:30', 49.37185287475586, 66.59210941826053, '23', '23', 1], ['28-06-2019 11:30', 49.121742248535156, 66.05785220306703, '23', '23', 1], ['28-06-2019 11:30', 49.92586135864258, 60.750311406472036, '23', '23', 2], ['28-06-2019 11:30', 49.400306701660156, 59.75219797517318, '23', '23', 2], ['28-06-2019 11:30', 47.90475845336914, 58.89329041255316, '23', '23', 2], ['28-06-2019 11:45', 48.99673843383789, 65.84360796890202, '23', '23', 1], ['28-06-2019 11:45', 48.139129638671875, 63.07314764238231, '23', '23', 1], ['28-06-2019 11:45', 46.402923583984375, 62.38757616192039, '23', '23', 2], ['28-06-2019 11:45', 47.48165512084961, 59.03642692692688, '23', '23', 2], ['28-06-2019 11:45', 41.12189865112305, 57.85178548932606, '23', '23', 2], ['28-06-2019 11:45', 39.942100524902344, 59.234020671761336, '23', '23', 2], ['28-06-2019 12:00', 47.37578582763672, 63.66939003336342, '24', '23', 2], ['28-06-2019 12:00', 48.611236572265625, 63.700940333798606, '24', '23', 2], ['28-06-2019 12:00', 42.22271728515625, 57.19461511784666, '24', '23', 2], ['28-06-2019 12:00', 44.36619567871094, 59.09808470773485, '24', '23', 2], ['28-06-2019 12:00', 39.23055648803711, 56.24163390645696, '24', '23', 2], ['28-06-2019 12:15', 48.06350326538086, 63.08945124510382, '24', '23', 2], ['28-06-2019 12:15', 48.144309997558594, 63.00838316892641, '24', '23', 2], ['28-06-2019 12:15', 46.62343215942383, 61.85725949293714, '24', '23', 2], ['28-06-2019 12:15', 43.804256439208984, 58.582706262364, '24', '23', 2], ['28-06-2019 12:15', 44.14216995239258, 58.92461837350155, '24', '23', 2], ['28-06-2019 12:15', 43.50141143798828, 58.31384670384955, '24', '23', 2], ['28-06-2019 12:30', 45.001625061035156, 61.44520142939885, '24', '23', 2], ['28-06-2019 12:30', 44.6099853515625, 59.46779895195107, '24', '23', 2], ['28-06-2019 12:30', 43.23797607421875, 57.75093326448733, '24', '23', 2], ['28-06-2019 12:30', 40.48162078857422, 58.576897591729065, '24', '23', 2], ['28-06-2019 12:30', 39.59754943847656, 58.43409681750728, '24', '23', 2], ['28-06-2019 12:30', 39.070899963378906, 57.273922585464895, '24', '23', 2], ['28-06-2019 12:45', 42.974178314208984, 56.974391112037495, '24', '24', 2], ['28-06-2019 12:45', 42.923641204833984, 58.89404809483126, '24', '24', 2], ['28-06-2019 12:45', 43.12685012817383, 57.17565994186463, '24', '24', 2], ['28-06-2019 12:45', 39.45138168334961, 56.575230968017514, '24', '24', 2], ['28-06-2019 12:45', 39.99853515625, 56.84899461053703, '24', '24', 2], ['28-06-2019 12:45', 46.510459899902344, 54.05434599088278, '24', '24', 2], ['28-06-2019 13:00', 42.53434371948242, 56.30621788971288, '27', '24', 2], ['28-06-2019 13:00', 41.659000396728516, 56.01161561700121, '27', '24', 2], ['28-06-2019 13:00', 41.14966583251953, 53.590459547433085, '27', '24', 2], ['28-06-2019 13:00', 40.6744384765625, 53.302930694774304, '27', '24', 2], ['28-06-2019 13:00', 41.17436981201172, 55.64826259071927, '27', '24', 2], ['28-06-2019 13:00', 40.84756851196289, 55.297384975189075, '27', '24', 2], ['28-06-2019 13:00', 43.28181457519531, 55.05910563194616, '27', '24', 2], ['28-06-2019 13:15', 40.839141845703125, 55.51460546380004, '27', '24', 2], ['28-06-2019 13:15', 41.24884796142578, 55.28212104453114, '27', '24', 2], ['28-06-2019 13:15', 41.50111389160156, 54.81052989498427, '27', '24', 2], ['28-06-2019 13:15', 40.905059814453125, 55.00490956264536, '27', '24', 2], ['28-06-2019 13:15', 41.189064025878906, 54.90561912999146, '27', '24', 2], ['28-06-2019 13:15', 41.07472229003906, 54.646646121283375, '27', '24', 2], ['28-06-2019 13:30', 41.74960708618164, 54.43037888465873, '27', '24', 2], ['28-06-2019 13:30', 41.645198822021484, 54.308077550742425, '27', '24', 2], ['28-06-2019 13:30', 41.421443939208984, 54.46388561778827, '27', '24', 2], ['28-06-2019 13:30', 41.222755432128906, 54.16334762208774, '27', '24', 2], ['28-06-2019 13:30', 41.36396789550781, 54.266910831046, '27', '24', 2], ['28-06-2019 13:30', 41.239906311035156, 54.315116830120694, '27', '24', 2], ['28-06-2019 13:45', 41.80208206176758, 54.38721578601976, '27', '24', 2], ['28-06-2019 13:45', 41.04440689086914, 53.94956895179985, '27', '24', 2], ['28-06-2019 13:45', 41.409854888916016, 53.7155299830486, '27', '24', 2], ['28-06-2019 13:45', 41.551513671875, 54.22017576068429, '27', '24', 2], ['28-06-2019 13:45', 42.896907806396484, 54.971646304024354, '27', '24', 2], ['28-06-2019 13:45', 42.94157028198242, 54.95121076704979, '27', '24', 2], ['28-06-2019 14:00', 41.00962448120117, 53.1944117195996, '27', '27', 2], ['28-06-2019 14:00', 38.82516860961914, 57.354510957444184, '27', '27', 2], ['28-06-2019 14:00', 44.327781677246094, 55.47710284028965, '27', '27', 2], ['28-06-2019 14:00', 44.41102600097656, 55.41539366739991, '27', '27', 2], ['28-06-2019 14:00', 44.490013122558594, 56.958014713878434, '27', '27', 2], ['28-06-2019 14:00', 43.33434295654297, 55.94124589663588, '27', '27', 2], ['28-06-2019 14:15', 41.24305725097656, 53.204676087246284, '27', '27', 2], ['28-06-2019 14:15', 40.64393615722656, 53.052324017846594, '27', '27', 2], ['28-06-2019 14:15', 41.035057067871094, 53.71641246145526, '27', '27', 2], ['28-06-2019 14:15', 44.84943771362305, 55.866645819978935, '27', '27', 2], ['28-06-2019 14:15', 44.768741607666016, 55.72006084561216, '27', '27', 2], ['28-06-2019 14:15', 45.16216278076172, 55.387543575319654, '27', '27', 2], ['28-06-2019 14:30', 40.7554817199707, 54.10594725649403, '27', '27', 2], ['28-06-2019 14:30', 40.4279899597168, 54.14275823789172, '27', '27', 2], ['28-06-2019 14:30', 40.209815979003906, 54.480895442121486, '27', '27', 2], ['28-06-2019 14:30', 44.94319534301758, 55.40366279329636, '27', '27', 2], ['28-06-2019 14:30', 44.90348815917969, 55.383044817479934, '27', '27', 2], ['28-06-2019 14:30', 44.588226318359375, 55.41439304648974, '27', '27', 2], ['28-06-2019 14:45', 40.08637237548828, 54.66026820448073, '27', '27', 2], ['28-06-2019 14:45', 39.970542907714844, 55.41736036771057, '27', '27', 2], ['28-06-2019 14:45', 38.923866271972656, 55.99283295797816, '27', '27', 2], ['28-06-2019 14:45', 43.65113067626953, 55.04924361711605, '27', '27', 2], ['28-06-2019 14:45', 43.573753356933594, 55.44762772939152, '27', '27', 2], ['28-06-2019 14:45', 43.96464920043945, 55.846734241754575, '27', '27', 2], ['28-06-2019 15:00', 37.718475341796875, 57.42215767415975, '29', '27', 1], ['28-06-2019 15:00', 38.23151779174805, 59.07924040426946, '29', '27', 2], ['28-06-2019 15:00', 39.53520202636719, 62.952789750445355, '29', '27', 1], ['28-06-2019 15:00', 43.47000503540039, 56.94782735255775, '29', '27', 2], ['28-06-2019 15:00', 45.55120086669922, 60.32153046811181, '29', '27', 2], ['28-06-2019 15:15', 39.21464538574219, 59.68138667824354, '29', '29', 2], ['28-06-2019 15:15', 38.55116653442383, 59.19221858083991, '29', '29', 2], ['28-06-2019 15:15', 38.29088592529297, 60.128658388615435, '29', '29', 2], ['28-06-2019 15:15', 44.505550384521484, 58.217220297303854, '29', '29', 2], ['28-06-2019 15:15', 43.365535736083984, 57.76370169141424, '29', '29', 2], ['28-06-2019 15:15', 43.32503890991211, 58.14177767928893, '29', '29', 2], ['28-06-2019 15:30', 36.73680114746094, 61.261767985201175, '29', '29', 2], ['28-06-2019 15:30', 40.04206848144531, 62.08611803270183, '29', '29', 2], ['28-06-2019 15:30', 42.723724365234375, 64.41817069451383, '29', '29', 1], ['28-06-2019 15:30', 44.13730239868164, 61.475403126445045, '29', '29', 2], ['28-06-2019 15:30', 43.665924072265625, 59.60904338794895, '29', '29', 2], ['28-06-2019 15:30', 45.54943084716797, 59.79659951429775, '29', '29', 2], ['28-06-2019 15:45', 40.850067138671875, 61.47104964179489, '29', '29', 2], ['28-06-2019 15:45', 41.910560607910156, 64.23212598634986, '29', '29', 1], ['28-06-2019 15:45', 42.26336669921875, 61.444063008577245, '29', '29', 1], ['28-06-2019 15:45', 44.88726806640625, 58.97596128625542, '29', '29', 2], ['28-06-2019 15:45', 45.25229263305664, 64.77294593198657, '29', '29', 2], ['28-06-2019 15:45', 46.71083450317383, 59.108804258136445, '29', '29', 2], ['28-06-2019 16:00', 39.754634857177734, 64.41640799180018, '40', '29', 2], ['28-06-2019 16:00', 40.039642333984375, 63.89080342194755, '40', '29', 2], ['28-06-2019 16:00', 40.34247970581055, 69.2699025136958, '40', '29', 1], ['28-06-2019 16:00', 43.86315155029297, 63.25955347221027, '40', '29', 2], ['28-06-2019 16:00', 44.18154525756836, 61.06859091186619, '40', '29', 2], ['28-06-2019 16:00', 43.5246696472168, 64.92340795908268, '40', '29', 2], ['28-06-2019 16:15', 41.12328338623047, 63.589673836513974, '40', '29', 1], ['28-06-2019 16:15', 40.85868453979492, 64.38144631088315, '40', '29', 1], ['28-06-2019 16:15', 39.70769119262695, 65.03364223447461, '40', '29', 1], ['28-06-2019 16:15', 45.22916030883789, 61.51682242325089, '40', '29', 2], ['28-06-2019 16:15', 44.81990051269531, 61.91854423561022, '40', '29', 2], ['28-06-2019 16:15', 43.900760650634766, 61.131669123380604, '40', '29', 2], ['28-06-2019 16:30', 39.64723205566406, 65.54654203376772, '40', '40', 1], ['28-06-2019 16:30', 39.340179443359375, 67.77523489401658, '40', '40', 1], ['28-06-2019 16:30', 40.22541427612305, 66.77229576768096, '40', '40', 1], ['28-06-2019 16:30', 43.11723327636719, 62.36982374422055, '40', '40', 2], ['28-06-2019 16:30', 42.4629020690918, 64.13141701698052, '40', '40', 2], ['28-06-2019 16:30', 43.76988220214844, 62.65991549103481, '40', '40', 2], ['28-06-2019 16:45', 41.10302734375, 67.02955719016391, '40', '40', 1], ['28-06-2019 16:45', 40.05997085571289, 66.92506496016121, '40', '40', 1], ['28-06-2019 16:45', 40.60765075683594, 67.6610962079671, '40', '40', 1], ['28-06-2019 16:45', 44.191192626953125, 62.835759655582606, '40', '40', 2], ['28-06-2019 16:45', 43.258731842041016, 62.98457349894451, '40', '40', 2], ['28-06-2019 16:45', 43.678077697753906, 63.60000178391256, '40', '40', 2], ['28-06-2019 17:00', 39.917484283447266, 70.2440784048099, '44', '40', 1], ['28-06-2019 17:00', 40.03033447265625, 70.73285450461212, '44', '40', 1], ['28-06-2019 17:00', 37.91440963745117, 72.49171890716804, '44', '40', 1], ['28-06-2019 17:00', 43.10152053833008, 65.51726058997123, '44', '40', 2], ['28-06-2019 17:00', 43.58074188232422, 66.00280977333328, '44', '40', 2], ['28-06-2019 17:00', 42.37623977661133, 67.39665068968675, '44', '40', 1], ['28-06-2019 17:00', 42.21363067626953, 67.13136831466828, '44', '40', 1], ['28-06-2019 17:15', 39.85566329956055, 70.18600130309423, '44', '40', 1], ['28-06-2019 17:15', 39.41408157348633, 70.79450238855588, '44', '40', 1], ['28-06-2019 17:15', 39.43210983276367, 70.93254406742679, '44', '40', 1], ['28-06-2019 17:15', 43.093563079833984, 65.8457828093588, '44', '40', 2], ['28-06-2019 17:15', 43.661521911621094, 66.30271544066807, '44', '40', 1], ['28-06-2019 17:15', 42.57889938354492, 65.67622307564862, '44', '40', 1], ['28-06-2019 17:30', 39.15667724609375, 70.62947342872155, '44', '40', 1], ['28-06-2019 17:30', 39.23601531982422, 71.0283954638727, '44', '40', 1], ['28-06-2019 17:30', 37.977638244628906, 71.2492940075553, '44', '40', 1], ['28-06-2019 17:30', 42.6540412902832, 66.33303283322908, '44', '40', 1], ['28-06-2019 17:30', 42.35889434814453, 66.37093220279723, '44', '40', 2], ['28-06-2019 17:30', 41.971885681152344, 66.81984080775543, '44', '40', 2], ['28-06-2019 17:45', 38.44889831542969, 71.35810945053525, '44', '44', 1], ['28-06-2019 17:45', 38.02770233154297, 71.6281447848178, '44', '44', 1], ['28-06-2019 17:45', 37.91728210449219, 72.31827565997764, '44', '44', 1], ['28-06-2019 17:45', 42.16611099243164, 66.72857100901628, '44', '44', 1], ['28-06-2019 17:45', 42.390289306640625, 67.16329053003668, '44', '44', 2], ['28-06-2019 17:45', 42.10350036621094, 67.12990454840049, '44', '44', 1], ['28-06-2019 18:00', 37.903682708740234, 72.2697045212308, '35', '44', 1], ['28-06-2019 18:00', 37.96809005737305, 72.0265767341911, '35', '44', 1], ['28-06-2019 18:00', 41.0207405090332, 74.37770358468444, '35', '44', 1], ['28-06-2019 18:00', 42.45342254638672, 67.01747521835209, '35', '44', 1], ['28-06-2019 18:00', 48.50453186035156, 66.11820443718712, '35', '44', 2], ['28-06-2019 18:00', 48.47434616088867, 65.27360008488878, '35', '44', 2], ['28-06-2019 18:15', 37.97673416137695, 72.48883926313673, '35', '44', 1], ['28-06-2019 18:15', 37.814796447753906, 72.98749528016512, '35', '44', 1], ['28-06-2019 18:15', 37.89573287963867, 73.39796069976494, '35', '44', 1], ['28-06-2019 18:15', 42.10002899169922, 66.93268912048669, '35', '44', 1], ['28-06-2019 18:15', 42.27328872680664, 67.0828518611254, '35', '44', 1], ['28-06-2019 18:15', 42.24126434326172, 66.89208241532837, '35', '44', 1], ['28-06-2019 18:30', 38.033729553222656, 74.09353523418442, '35', '44', 1], ['28-06-2019 18:30', 38.20022964477539, 74.30259464279254, '35', '44', 1], ['28-06-2019 18:30', 38.780574798583984, 74.46691383684605, '35', '44', 1], ['28-06-2019 18:30', 42.79938507080078, 66.38077713051985, '35', '44', 1], ['28-06-2019 18:30', 43.16880416870117, 66.30554796954237, '35', '44', 1], ['28-06-2019 18:30', 44.12356948852539, 66.54940973219877, '35', '44', 1], ['28-06-2019 18:45', 38.930416107177734, 74.9792261966923, '35', '44', 1], ['28-06-2019 18:45', 40.20078659057617, 75.41393197819411, '35', '44', 1], ['28-06-2019 18:45', 40.808074951171875, 75.05928246857962, '35', '44', 1], ['28-06-2019 18:45', 44.73534393310547, 66.4536965879764, '35', '44', 1], ['28-06-2019 18:45', 45.485931396484375, 66.1653267885373, '35', '44', 1], ['28-06-2019 18:45', 48.438602447509766, 66.23354385495648, '35', '44', 2], ['29-06-2019 06:00', 39.36117935180664, 84.09974600331243, '103', '81', 1], ['29-06-2019 06:00', 38.215572357177734, 84.51683630826675, '103', '81', 1], ['29-06-2019 06:00', 37.29438781738281, 83.07636508313678, '103', '81', 1], ['29-06-2019 06:00', 46.7039680480957, 67.0595354229999, '103', '81', 1], ['29-06-2019 06:00', 49.14915084838867, 68.30385685170297, '103', '81', 1], ['29-06-2019 06:00', 50.01307678222656, 66.46157023887733, '103', '81', 1], ['29-06-2019 06:15', 38.10626983642578, 84.306574853249, '103', '103', 1], ['29-06-2019 06:15', 37.214046478271484, 84.28199010092271, '103', '103', 1], ['29-06-2019 06:15', 37.02609634399414, 83.87725784938232, '103', '103', 1], ['29-06-2019 06:15', 46.747596740722656, 67.44313600443986, '103', '103', 1], ['29-06-2019 06:15', 46.37795639038086, 67.87894003144969, '103', '103', 1], ['29-06-2019 06:15', 46.80503463745117, 67.60949458725212, '103', '103', 1], ['29-06-2019 06:30', 36.842315673828125, 83.50197033068554, '103', '103', 1], ['29-06-2019 06:30', 37.24179458618164, 83.468966987748, '103', '103', 1], ['29-06-2019 06:30', 36.78394317626953, 83.88908847359372, '103', '103', 1], ['29-06-2019 06:30', 47.05069351196289, 67.69427163388164, '103', '103', 1], ['29-06-2019 06:30', 47.59769821166992, 67.14007609412982, '103', '103', 1], ['29-06-2019 06:30', 47.51258850097656, 68.81501789174807, '103', '103', 1], ['29-06-2019 06:45', 37.47895050048828, 82.93459659737566, '103', '103', 1], ['29-06-2019 06:45', 39.22284698486328, 81.56001669674572, '103', '103', 1], ['29-06-2019 06:45', 37.39830780029297, 82.81601996470833, '103', '103', 1], ['29-06-2019 06:45', 48.18763732910156, 67.38332778509735, '103', '103', 1], ['29-06-2019 06:45', 49.483299255371094, 65.76507956612556, '103', '103', 1], ['29-06-2019 06:45', 48.971435546875, 66.95218673238179, '103', '103', 1], ['29-06-2019 07:00', 36.60573959350586, 85.53652192229781, '94', '103', 1], ['29-06-2019 07:00', 37.64716720581055, 83.7877949609449, '94', '103', 1], ['29-06-2019 07:00', 46.92622756958008, 79.65202919093471, '94', '103', 1], ['29-06-2019 07:00', 50.435951232910156, 66.49526887662667, '94', '103', 1], ['29-06-2019 07:00', 53.20588684082031, 66.28120081526725, '94', '103', 1], ['29-06-2019 07:00', 53.36045455932617, 65.93090784328601, '94', '103', 1], ['29-06-2019 07:15', 39.860740661621094, 83.77936164213233, '94', '103', 1], ['29-06-2019 07:15', 38.28385925292969, 83.36879253790671, '94', '103', 1], ['29-06-2019 07:15', 42.47066879272461, 83.33590581649602, '94', '103', 1], ['29-06-2019 07:15', 48.09177780151367, 69.04172218837695, '94', '103', 1], ['29-06-2019 07:15', 52.65483093261719, 64.35793069160496, '94', '103', 1], ['29-06-2019 07:15', 52.990257263183594, 65.36202306669384, '94', '103', 1], ['29-06-2019 07:30', 43.033477783203125, 82.07421817255748, '94', '94', 1], ['29-06-2019 07:30', 44.063392639160156, 81.52849863471036, '94', '94', 1], ['29-06-2019 07:30', 44.637786865234375, 82.21564579788823, '94', '94', 1], ['29-06-2019 07:30', 48.600894927978516, 69.41492948037468, '94', '94', 1], ['29-06-2019 07:30', 53.173240661621094, 65.93620610899652, '94', '94', 1], ['29-06-2019 07:30', 53.155216217041016, 66.58445784047044, '94', '94', 1], ['29-06-2019 07:45', 45.75700759887695, 81.44902281343458, '94', '94', 1], ['29-06-2019 07:45', 45.73944091796875, 81.14587593350906, '94', '94', 1], ['29-06-2019 07:45', 46.20246505737305, 80.12094778294788, '94', '94', 1], ['29-06-2019 07:45', 53.168209075927734, 66.50365483465964, '94', '94', 1], ['29-06-2019 07:45', 52.87885284423828, 66.79066894580374, '94', '94', 1], ['29-06-2019 07:45', 53.029273986816406, 66.34558202383283, '94', '94', 1], ['29-06-2019 08:00', 47.1900520324707, 78.87914282763094, '66', '94', 1], ['29-06-2019 08:00', 47.42572021484375, 78.0097907338417, '66', '94', 1], ['29-06-2019 08:00', 45.834625244140625, 73.74955572416351, '66', '94', 1], ['29-06-2019 08:00', 53.480506896972656, 65.4452012791877, '66', '94', 1], ['29-06-2019 08:00', 51.84205627441406, 63.99843370275305, '66', '94', 1], ['29-06-2019 08:00', 51.81533432006836, 64.19669710637018, '66', '94', 1], ['29-06-2019 08:15', 46.9871711730957, 77.49667330468827, '66', '94', 1], ['29-06-2019 08:15', 47.49155044555664, 78.29351506315818, '66', '94', 1], ['29-06-2019 08:15', 46.89130783081055, 77.20542235689484, '66', '94', 1], ['29-06-2019 08:15', 53.254554748535156, 65.57661333958772, '66', '94', 1], ['29-06-2019 08:15', 53.05308151245117, 65.28096841038058, '66', '94', 1], ['29-06-2019 08:15', 52.91902542114258, 64.92402962297747, '66', '94', 1], ['29-06-2019 08:30', 46.575172424316406, 76.37825556737599, '66', '94', 1], ['29-06-2019 08:30', 46.37395477294922, 76.3677951922958, '66', '94', 1], ['29-06-2019 08:30', 46.23698425292969, 75.53017275923612, '66', '94', 1], ['29-06-2019 08:30', 52.89751434326172, 65.26573937129565, '66', '94', 1], ['29-06-2019 08:30', 52.241764068603516, 65.26266904528636, '66', '94', 1], ['29-06-2019 08:30', 52.41887664794922, 64.38492927223815, '66', '94', 1], ['29-06-2019 08:45', 46.06462097167969, 74.63192864811184, '66', '66', 1], ['29-06-2019 08:45', 45.9036865234375, 74.665132343657, '66', '66', 1], ['29-06-2019 08:45', 45.97627639770508, 74.71857014001328, '66', '66', 1], ['29-06-2019 08:45', 52.49538040161133, 64.67447105087196, '66', '66', 1], ['29-06-2019 08:45', 52.54515075683594, 64.74656787037047, '66', '66', 1], ['29-06-2019 08:45', 52.209686279296875, 64.38748591203385, '66', '66', 1], ['29-06-2019 09:00', 45.8992805480957, 73.61011790322334, '51', '66', 1], ['29-06-2019 09:00', 45.65339279174805, 72.88555817689608, '51', '66', 1], ['29-06-2019 09:00', 42.74415588378906, 69.00263657182558, '51', '66', 1], ['29-06-2019 09:00', 42.30218505859375, 69.13128271564699, '51', '66', 1], ['29-06-2019 09:00', 51.76091003417969, 64.03411581090172, '51', '66', 2], ['29-06-2019 09:00', 46.13939666748047, 61.27574669193194, '51', '66', 2], ['29-06-2019 09:00', 45.76809310913086, 61.56889582751829, '51', '66', 2], ['29-06-2019 09:15', 45.508453369140625, 72.33059340660947, '51', '66', 1], ['29-06-2019 09:15', 45.3518180847168, 72.15616596870687, '51', '66', 1], ['29-06-2019 09:15', 44.760414123535156, 71.27076776628155, '51', '66', 1], ['29-06-2019 09:15', 51.20310592651367, 63.69557973744545, '51', '66', 2], ['29-06-2019 09:15', 50.80604553222656, 63.752823948365275, '51', '66', 2], ['29-06-2019 09:15', 50.55085372924805, 63.869596489945515, '51', '66', 2], ['29-06-2019 09:30', 44.75770950317383, 71.08814375552548, '51', '66', 1], ['29-06-2019 09:30', 43.975181579589844, 70.05355996841139, '51', '66', 1], ['29-06-2019 09:30', 43.97785568237305, 70.21488865018611, '51', '66', 1], ['29-06-2019 09:30', 49.793087005615234, 63.867644110973686, '51', '66', 2], ['29-06-2019 09:30', 49.564109802246094, 63.96086070528989, '51', '66', 2], ['29-06-2019 09:30', 48.73672866821289, 63.30767512137324, '51', '66', 2], ['29-06-2019 09:45', 43.472869873046875, 69.57408852227292, '51', '66', 1], ['29-06-2019 09:45', 43.547969818115234, 69.89164354998164, '51', '66', 1], ['29-06-2019 09:45', 43.14362335205078, 69.72013640461951, '51', '66', 1], ['29-06-2019 09:45', 47.97426986694336, 62.792103301561205, '51', '66', 2], ['29-06-2019 09:45', 47.407875061035156, 62.23096387284836, '51', '66', 2], ['29-06-2019 09:45', 46.63566970825195, 61.726226265577104, '51', '66', 2], ['29-06-2019 10:00', 42.07572937011719, 69.00132582255897, '39', '51', 1], ['29-06-2019 10:00', 38.7449836730957, 65.47361601016318, '39', '51', 2], ['29-06-2019 10:00', 38.45379638671875, 64.865032884074, '39', '51', 2], ['29-06-2019 10:00', 45.356529235839844, 61.634678575568614, '39', '51', 2], ['29-06-2019 10:00', 42.38459777832031, 60.998960433608815, '39', '51', 2], ['29-06-2019 10:00', 42.138465881347656, 61.14558701933268, '39', '51', 2], ['29-06-2019 10:15', 41.942352294921875, 69.10229182659035, '39', '51', 1], ['29-06-2019 10:15', 41.50322341918945, 67.75448220162797, '39', '51', 1], ['29-06-2019 10:15', 40.72443389892578, 67.50135013451776, '39', '51', 1], ['29-06-2019 10:15', 44.87428283691406, 61.590399908443565, '39', '51', 2], ['29-06-2019 10:15', 44.9118766784668, 61.47179505989279, '39', '51', 2], ['29-06-2019 10:15', 44.81369400024414, 61.61608890031186, '39', '51', 2], ['29-06-2019 10:30', 40.82904052734375, 67.35854266767383, '39', '51', 2], ['29-06-2019 10:30', 40.254615783691406, 66.44766790169516, '39', '51', 2], ['29-06-2019 10:30', 39.93254470825195, 66.33238304767626, '39', '51', 2], ['29-06-2019 10:30', 43.795082092285156, 61.438647868009305, '39', '51', 2], ['29-06-2019 10:30', 43.54736328125, 61.53846044137388, '39', '51', 2], ['29-06-2019 10:30', 43.18752670288086, 61.38523874140073, '39', '51', 2], ['29-06-2019 10:45', 39.608455657958984, 66.28650249846814, '39', '51', 2], ['29-06-2019 10:45', 39.40987777709961, 66.06116611634256, '39', '51', 2], ['29-06-2019 10:45', 38.966915130615234, 65.18725652901361, '39', '51', 2], ['29-06-2019 10:45', 43.148773193359375, 61.542289355505126, '39', '51', 2], ['29-06-2019 10:45', 42.95566177368164, 61.31404441388987, '39', '51', 2], ['29-06-2019 10:45', 42.68634033203125, 61.16256644473168, '39', '51', 2], ['29-06-2019 11:00', 38.26523208618164, 64.33685670912662, '39', '51', 2], ['29-06-2019 11:00', 36.561920166015625, 61.356162150489574, '39', '51', 2], ['29-06-2019 11:00', 41.49916458129883, 60.631447799610406, '39', '51', 2], ['29-06-2019 11:00', 36.47172164916992, 59.78557648771207, '39', '51', 2], ['29-06-2019 11:00', 36.61690139770508, 60.04036501108056, '39', '51', 2], ['29-06-2019 11:15', 38.13359451293945, 64.61958961601786, '39', '39', 2], ['29-06-2019 11:15', 37.90489196777344, 64.03176033520384, '39', '39', 2], ['29-06-2019 11:15', 37.53813171386719, 63.32474289533103, '39', '39', 2], ['29-06-2019 11:15', 41.271209716796875, 60.89788011065622, '39', '39', 2], ['29-06-2019 11:15', 40.554840087890625, 60.53323002232799, '39', '39', 2], ['29-06-2019 11:15', 40.016258239746094, 60.22335026350195, '39', '39', 2], ['29-06-2019 11:30', 37.597049713134766, 63.313404184676294, '39', '39', 2], ['29-06-2019 11:30', 37.46723937988281, 62.68269345443024, '39', '39', 2], ['29-06-2019 11:30', 37.48091125488281, 62.84745445215325, '39', '39', 2], ['29-06-2019 11:30', 38.651397705078125, 61.05567326067024, '39', '39', 2], ['29-06-2019 11:30', 38.49583435058594, 60.84801791236731, '39', '39', 2], ['29-06-2019 11:30', 38.016136169433594, 60.96279021243266, '39', '39', 2], ['29-06-2019 11:45', 37.26201248168945, 62.43464632294858, '39', '39', 2], ['29-06-2019 11:45', 37.00029754638672, 62.67020550714425, '39', '39', 2], ['29-06-2019 11:45', 36.74787521362305, 61.72212410742631, '39', '39', 2], ['29-06-2019 11:45', 37.5311393737793, 60.57243771055302, '39', '39', 2], ['29-06-2019 11:45', 36.86570739746094, 60.28072821888034, '39', '39', 2], ['29-06-2019 11:45', 36.65312957763672, 60.072320283887834, '39', '39', 2], ['29-06-2019 12:00', 36.763916015625, 61.7430804458914, '44', '39', 2], ['29-06-2019 12:00', 36.541160583496094, 61.04644422652641, '44', '39', 2], ['29-06-2019 12:00', 38.95343017578125, 59.545327808825654, '44', '39', 2], ['29-06-2019 12:00', 39.60762405395508, 58.712421375887764, '44', '39', 2], ['29-06-2019 12:00', 35.7547492980957, 59.67583362508598, '44', '39', 2], ['29-06-2019 12:00', 35.87009048461914, 57.3432127492067, '44', '39', 2], ['29-06-2019 12:00', 37.53135299682617, 57.26067748483498, '44', '39', 2], ['29-06-2019 12:15', 37.64549255371094, 65.86629527699236, '44', '39', 2], ['29-06-2019 12:15', 36.56317901611328, 60.5827399101082, '44', '39', 2], ['29-06-2019 12:15', 36.32905578613281, 60.41737412875609, '44', '39', 2], ['29-06-2019 12:15', 36.80800247192383, 59.703212939839986, '44', '39', 2], ['29-06-2019 12:15', 35.508243560791016, 59.16698808027184, '44', '39', 2], ['29-06-2019 12:15', 37.18000030517578, 59.104594686372124, '44', '39', 2], ['29-06-2019 12:30', 35.80657958984375, 59.953684259369474, '44', '44', 2], ['29-06-2019 12:30', 36.54342269897461, 59.73704239217289, '44', '44', 2], ['29-06-2019 12:30', 37.64801788330078, 60.34025587677675, '44', '44', 2], ['29-06-2019 12:30', 34.93149948120117, 58.532034204384125, '44', '44', 2], ['29-06-2019 12:30', 35.12625503540039, 58.404131035567225, '44', '44', 2], ['29-06-2019 12:30', 36.94679641723633, 58.38416045241384, '44', '44', 2], ['29-06-2019 12:45', 37.428001403808594, 58.98900586221179, '44', '44', 2], ['29-06-2019 12:45', 38.683250427246094, 64.98674780702467, '44', '44', 2], ['29-06-2019 12:45', 37.27090835571289, 60.17617830765646, '44', '44', 2], ['29-06-2019 12:45', 35.01880645751953, 57.631665866889406, '44', '44', 2], ['29-06-2019 12:45', 36.475341796875, 58.13820874542989, '44', '44', 2], ['29-06-2019 12:45', 36.20901107788086, 57.79082231738218, '44', '44', 2], ['29-06-2019 13:00', 39.00822067260742, 58.6434776684299, '44', '44', 2], ['29-06-2019 13:00', 41.10295104980469, 57.51709642123843, '44', '44', 2], ['29-06-2019 13:00', 40.614524841308594, 57.73593172269607, '44', '44', 2], ['29-06-2019 13:00', 37.51560974121094, 57.16261858772906, '44', '44', 2], ['29-06-2019 13:00', 40.18030548095703, 56.019962583874566, '44', '44', 2], ['29-06-2019 13:00', 40.73173904418945, 56.29656543323449, '44', '44', 2], ['29-06-2019 13:15', 38.34756088256836, 58.817382507977854, '44', '44', 2], ['29-06-2019 13:15', 38.1280632019043, 58.65594202559417, '44', '44', 2], ['29-06-2019 13:15', 37.481327056884766, 57.949315369870284, '44', '44', 2], ['29-06-2019 13:15', 36.18511962890625, 56.704754949002854, '44', '44', 2], ['29-06-2019 13:15', 36.505950927734375, 56.61520029762204, '44', '44', 2], ['29-06-2019 13:15', 35.6769905090332, 56.10482410680424, '44', '44', 2], ['29-06-2019 13:30', 38.70833206176758, 58.748098475221056, '44', '44', 2], ['29-06-2019 13:30', 39.334415435791016, 58.26391076706526, '44', '44', 2], ['29-06-2019 13:30', 40.43030548095703, 58.45999149227687, '44', '44', 2], ['29-06-2019 13:30', 37.18669891357422, 56.33649605269409, '44', '44', 2], ['29-06-2019 13:30', 37.359275817871094, 56.24786291945187, '44', '44', 2], ['29-06-2019 13:30', 37.710670471191406, 56.05187362200674, '44', '44', 2], ['29-06-2019 13:45', 41.270565032958984, 57.88444673202786, '44', '44', 2], ['29-06-2019 13:45', 40.68089294433594, 57.07655596259567, '44', '44', 2], ['29-06-2019 13:45', 40.13207244873047, 56.914099128738115, '44', '44', 2], ['29-06-2019 13:45', 39.00448989868164, 56.06138932102877, '44', '44', 2], ['29-06-2019 13:45', 38.852455139160156, 55.89477792665008, '44', '44', 2], ['29-06-2019 13:45', 38.80336380004883, 55.97847223874125, '44', '44', 2], ['29-06-2019 14:00', 40.26089096069336, 72.56525933264825, '46', '44', 1], ['29-06-2019 14:00', 38.21210861206055, 74.26284402975617, '46', '44', 1], ['29-06-2019 14:00', 42.78612518310547, 65.45993841284297, '46', '44', 2], ['29-06-2019 14:00', 42.2910041809082, 65.54860421148705, '46', '44', 2], ['29-06-2019 14:15', 45.386417388916016, 62.34476307494596, '46', '44', 2], ['29-06-2019 14:15', 41.37830352783203, 60.383708903084404, '46', '44', 2], ['29-06-2019 14:15', 40.9250602722168, 57.2732324996063, '46', '44', 2], ['29-06-2019 14:15', 41.503746032714844, 55.516069597661414, '46', '44', 2], ['29-06-2019 14:15', 43.641780853271484, 57.303394899948294, '46', '44', 2], ['29-06-2019 14:15', 41.50872802734375, 55.43125655646484, '46', '44', 2], ['29-06-2019 14:30', 39.598106384277344, 71.84840612602547, '46', '44', 1], ['29-06-2019 14:30', 41.39081573486328, 56.239519576038866, '46', '44', 2], ['29-06-2019 14:30', 38.34516906738281, 57.236069466476756, '46', '44', 2], ['29-06-2019 14:30', 43.5362434387207, 64.48554394304658, '46', '44', 2], ['29-06-2019 14:30', 43.9953727722168, 54.580725820578195, '46', '44', 2], ['29-06-2019 14:30', 42.45951843261719, 55.79552547095955, '46', '44', 2], ['29-06-2019 14:45', 38.82389450073242, 57.3512198405532, '46', '44', 2], ['29-06-2019 14:45', 38.8340950012207, 57.48724149881013, '46', '44', 2], ['29-06-2019 14:45', 37.28886032104492, 57.96168183873152, '46', '44', 2], ['29-06-2019 14:45', 42.942230224609375, 55.753592126640335, '46', '44', 2], ['29-06-2019 14:45', 43.48786544799805, 59.746901660131904, '46', '44', 2], ['29-06-2019 14:45', 43.7705078125, 59.46741047861068, '46', '44', 2], ['29-06-2019 15:00', 40.179744720458984, 68.74964991672746, '55', '46', 2], ['29-06-2019 15:00', 37.24068069458008, 57.99253074966327, '55', '46', 2], ['29-06-2019 15:00', 40.146202087402344, 72.77226492069525, '55', '46', 1], ['29-06-2019 15:00', 43.822166442871094, 55.075529031768326, '55', '46', 2], ['29-06-2019 15:00', 42.992919921875, 55.29966988550392, '55', '46', 2], ['29-06-2019 15:00', 45.24961471557617, 59.94556130288845, '55', '46', 2], ['29-06-2019 15:15', 35.987998962402344, 58.59406679099395, '55', '46', 1], ['29-06-2019 15:15', 35.370513916015625, 59.3904487087831, '55', '46', 1], ['29-06-2019 15:15', 37.83830261230469, 69.24107781680746, '55', '46', 2], ['29-06-2019 15:15', 42.29034423828125, 57.08911175858699, '55', '46', 2], ['29-06-2019 15:15', 41.65312957763672, 57.47990940403023, '55', '46', 2], ['29-06-2019 15:15', 42.91444778442383, 58.60565984429911, '55', '46', 2], ['29-06-2019 15:30', 35.2338981628418, 60.195358750538986, '55', '46', 1], ['29-06-2019 15:30', 38.29447937011719, 64.26733821090095, '55', '46', 2], ['29-06-2019 15:30', 37.43256378173828, 60.87548023847342, '55', '46', 2], ['29-06-2019 15:30', 42.560245513916016, 57.800887508150296, '55', '46', 2], ['29-06-2019 15:30', 42.551666259765625, 58.81927415032356, '55', '46', 2], ['29-06-2019 15:30', 41.24126052856445, 58.42775133270527, '55', '46', 2], ['29-06-2019 15:45', 39.143882751464844, 58.73151520038262, '55', '46', 2], ['29-06-2019 15:45', 40.931087493896484, 69.01699188000684, '55', '46', 1], ['29-06-2019 15:45', 39.00679016113281, 73.26457012154067, '55', '46', 1], ['29-06-2019 15:45', 42.75143814086914, 55.92186432786769, '55', '46', 2], ['29-06-2019 15:45', 43.67044448852539, 57.414926666825885, '55', '46', 2], ['29-06-2019 15:45', 42.875999450683594, 65.81668732459181, '55', '46', 2], ['29-06-2019 16:00', 41.86504364013672, 62.40565046453192, '62', '46', 1], ['29-06-2019 16:00', 36.375152587890625, 71.45630053926143, '62', '46', 1], ['29-06-2019 16:00', 40.39921951293945, 68.27948057489216, '62', '46', 1], ['29-06-2019 16:00', 45.74958801269531, 58.900063253361175, '62', '46', 2], ['29-06-2019 16:00', 41.78062057495117, 65.11981545272381, '62', '46', 2], ['29-06-2019 16:00', 42.11147689819336, 62.5342763839618, '62', '46', 2], ['29-06-2019 16:00', 44.41737365722656, 62.888282439986355, '62', '46', 2], ['29-06-2019 16:15', 38.953670501708984, 73.02468095559308, '62', '62', 1], ['29-06-2019 16:15', 41.81729507446289, 64.10622476299496, '62', '62', 1], ['29-06-2019 16:15', 40.99331283569336, 71.48090204711279, '62', '62', 1], ['29-06-2019 16:15', 44.413230895996094, 62.71635611127707, '62', '62', 2], ['29-06-2019 16:15', 44.93669509887695, 61.21256169531256, '62', '62', 2], ['29-06-2019 16:15', 44.65983200073242, 64.30516057543562, '62', '62', 2], ['29-06-2019 16:30', 40.94075393676758, 63.81716733278714, '62', '62', 1], ['29-06-2019 16:30', 41.59640121459961, 63.835539921965186, '62', '62', 1], ['29-06-2019 16:30', 40.305999755859375, 67.21212779639167, '62', '62', 1], ['29-06-2019 16:30', 44.82361602783203, 59.084476314669246, '62', '62', 2], ['29-06-2019 16:30', 43.97060012817383, 59.467499920115166, '62', '62', 2], ['29-06-2019 16:30', 43.75826644897461, 63.0672621136332, '62', '62', 2], ['29-06-2019 16:45', 39.714054107666016, 66.39963436596503, '62', '62', 1], ['29-06-2019 16:45', 39.772308349609375, 69.02436021222707, '62', '62', 1], ['29-06-2019 16:45', 37.84748840332031, 68.72564359843409, '62', '62', 1], ['29-06-2019 16:45', 43.389976501464844, 61.64635093455154, '62', '62', 2], ['29-06-2019 16:45', 43.86087417602539, 65.10767939396338, '62', '62', 2], ['29-06-2019 16:45', 42.377864837646484, 63.266273121672405, '62', '62', 2], ['29-06-2019 17:00', 43.12528991699219, 68.4476566905406, '41', '62', 1], ['29-06-2019 17:00', 40.555850982666016, 69.69530097679296, '41', '62', 1], ['29-06-2019 17:00', 39.02143096923828, 70.8817097358688, '41', '62', 1], ['29-06-2019 17:00', 44.34185791015625, 64.41658754777963, '41', '62', 2], ['29-06-2019 17:00', 43.75429916381836, 65.73947658617274, '41', '62', 2], ['29-06-2019 17:15', 40.860130310058594, 69.82540663666238, '41', '62', 1], ['29-06-2019 17:15', 39.712806701660156, 69.62155668319105, '41', '62', 1], ['29-06-2019 17:15', 38.95163345336914, 70.199874571261, '41', '62', 1], ['29-06-2019 17:15', 44.12152862548828, 64.13843874300306, '41', '62', 2], ['29-06-2019 17:15', 43.29425811767578, 63.91011997235365, '41', '62', 2], ['29-06-2019 17:15', 43.154293060302734, 64.68254026901678, '41', '62', 2], ['29-06-2019 17:30', 38.553836822509766, 70.84230712796024, '41', '41', 1], ['29-06-2019 17:30', 38.902870178222656, 69.80007833359646, '41', '41', 1], ['29-06-2019 17:30', 38.47917556762695, 71.13612326265302, '41', '41', 1], ['29-06-2019 17:30', 42.685726165771484, 64.87295016218633, '41', '41', 2], ['29-06-2019 17:30', 43.14467239379883, 64.54814863645196, '41', '41', 2], ['29-06-2019 17:30', 42.43763732910156, 64.67262879109528, '41', '41', 2], ['29-06-2019 17:45', 38.68196487426758, 71.60057219053392, '41', '41', 1], ['29-06-2019 17:45', 38.49734878540039, 71.71542014417413, '41', '41', 1], ['29-06-2019 17:45', 37.93731689453125, 71.7131140262421, '41', '41', 1], ['29-06-2019 17:45', 42.91490173339844, 65.7939306574473, '41', '41', 2], ['29-06-2019 17:45', 42.58045959472656, 65.59228950958573, '41', '41', 2], ['29-06-2019 17:45', 42.30122756958008, 65.9905310194456, '41', '41', 2], ['29-06-2019 18:00', 39.93901062011719, 70.59194888254848, '39', '41', 1], ['29-06-2019 18:00', 41.206241607666016, 70.56347103481302, '39', '41', 1], ['29-06-2019 18:00', 42.32925033569336, 73.9529734101193, '39', '41', 1], ['29-06-2019 18:00', 45.0625114440918, 75.44417681699008, '39', '41', 1], ['29-06-2019 18:00', 44.768253326416016, 65.14122310199946, '39', '41', 2], ['29-06-2019 18:00', 45.10854721069336, 64.55470169978976, '39', '41', 1], ['29-06-2019 18:00', 48.4067497253418, 64.25181677954839, '39', '41', 2], ['29-06-2019 18:15', 42.94452667236328, 70.09709679599911, '39', '41', 1], ['29-06-2019 18:15', 43.941314697265625, 69.32148737550057, '39', '41', 1], ['29-06-2019 18:15', 45.0250129699707, 69.3929671399744, '39', '41', 1], ['29-06-2019 18:15', 46.87578582763672, 64.31004153189316, '39', '41', 2], ['29-06-2019 18:15', 48.683799743652344, 62.40160753074768, '39', '41', 2], ['29-06-2019 18:15', 49.30289077758789, 61.836190516807214, '39', '41', 2], ['29-06-2019 18:30', 45.69130325317383, 68.74251403479147, '39', '41', 1], ['29-06-2019 18:30', 45.51968002319336, 68.5331579260843, '39', '41', 1], ['29-06-2019 18:30', 43.33317947387695, 68.3631360447981, '39', '41', 1], ['29-06-2019 18:30', 50.223167419433594, 60.917556832728856, '39', '41', 2], ['29-06-2019 18:30', 49.91068649291992, 60.87519832692471, '39', '41', 2], ['29-06-2019 18:30', 48.161991119384766, 60.46100667406584, '39', '41', 2], ['29-06-2019 18:45', 41.782684326171875, 68.52408192047994, '39', '39', 1], ['29-06-2019 18:45', 41.575748443603516, 71.36290324734814, '39', '39', 1], ['29-06-2019 18:45', 41.50417709350586, 73.41680452071164, '39', '39', 1], ['29-06-2019 18:45', 47.170040130615234, 62.78382862766932, '39', '39', 2], ['29-06-2019 18:45', 49.271053314208984, 63.3618562678157, '39', '39', 2], ['29-06-2019 18:45', 49.39752197265625, 64.63289063954369, '39', '39', 2], ['30-06-2019 06:00', 48.310054779052734, 64.08527728017451, '146', '129', 2], ['30-06-2019 06:00', 35.788246154785156, 85.02770682863334, '146', '129', 1], ['30-06-2019 06:00', 36.330955505371094, 85.19794467321128, '146', '129', 1], ['30-06-2019 06:00', 51.03690719604492, 58.06136057741594, '146', '129', 2], ['30-06-2019 06:00', 41.08879089355469, 74.21633163930244, '146', '129', 1], ['30-06-2019 06:00', 42.11050033569336, 73.38196203861153, '146', '129', 1], ['30-06-2019 06:15', 47.00495910644531, 62.82056848933039, '146', '129', 2], ['30-06-2019 06:15', 48.13290023803711, 62.35468425889329, '146', '129', 2], ['30-06-2019 06:15', 50.76300811767578, 63.04656829061962, '146', '129', 2], ['30-06-2019 06:15', 49.42012023925781, 55.77423005783128, '146', '129', 2], ['30-06-2019 06:15', 47.99519729614258, 55.92013050488235, '146', '129', 2], ['30-06-2019 06:15', 48.12348556518555, 54.56677093210716, '146', '129', 2], ['30-06-2019 06:45', 37.37592697143555, 83.82066268311202, '45', '129', 1], ['30-06-2019 06:45', 33.94762420654297, 85.13698016137165, '45', '129', 1], ['30-06-2019 06:45', 36.685089111328125, 86.12672891809609, '45', '129', 1], ['30-06-2019 06:45', 41.92626953125, 73.47825695017127, '45', '129', 1], ['30-06-2019 06:45', 41.92765808105469, 73.27724214906394, '45', '129', 1], ['30-06-2019 06:45', 41.3697509765625, 73.17594125442444, '45', '129', 1], ['30-06-2019 07:00', 38.84214401245117, 83.48706603777748, '45', '45', 1], ['30-06-2019 07:00', 43.93472671508789, 70.92907285917039, '45', '45', 1], ['30-06-2019 07:00', 44.74740219116211, 59.30021606858933, '45', '45', 2], ['30-06-2019 07:15', 40.19205093383789, 81.26062088885072, '45', '45', 1], ['30-06-2019 07:15', 41.53587341308594, 77.76299768474283, '45', '45', 1], ['30-06-2019 07:15', 43.50637435913086, 73.99376713471074, '45', '45', 1], ['30-06-2019 07:15', 45.61438751220703, 68.53980986997833, '45', '45', 1], ['30-06-2019 07:15', 47.48956298828125, 66.39692398576034, '45', '45', 1], ['30-06-2019 07:15', 48.53583526611328, 64.2843994749124, '45', '45', 1], ['30-06-2019 07:45', 45.17776870727539, 59.90912225675766, '31', '45', 2], ['30-06-2019 07:45', 44.76506423950195, 59.81615246805685, '31', '45', 2], ['30-06-2019 07:45', 44.79412841796875, 60.05333199524543, '31', '45', 2], ['30-06-2019 08:00', 47.74609375, 60.428971072481474, '31', '45', 2], ['30-06-2019 08:00', 51.79011917114258, 61.618140255942876, '31', '45', 2], ['30-06-2019 08:00', 51.63993453979492, 64.32462888864046, '31', '45', 2], ['30-06-2019 08:15', 49.91331100463867, 62.16705722936818, '31', '45', 2], ['30-06-2019 08:15', 51.6253776550293, 61.92698694692793, '31', '45', 2], ['30-06-2019 08:15', 53.47754669189453, 61.68606366943943, '31', '45', 2], ['30-06-2019 08:45', 51.850852966308594, 63.81886362279189, '44', '31', 1], ['30-06-2019 08:45', 50.707374572753906, 65.29182794266383, '44', '31', 1], ['30-06-2019 08:45', 51.29973220825195, 64.71750827495693, '44', '31', 1], ['30-06-2019 09:00', 46.60906982421875, 68.96149956405195, '44', '31', 1], ['30-06-2019 09:00', 45.8204231262207, 69.58989456826254, '44', '31', 1], ['30-06-2019 09:00', 47.3883171081543, 62.09548482986861, '44', '31', 2], ['30-06-2019 09:15', 51.06250762939453, 63.642653468019596, '44', '31', 2], ['30-06-2019 09:15', 51.30624771118164, 63.94141671786233, '44', '31', 2], ['30-06-2019 09:15', 51.426883697509766, 63.34207683711294, '44', '31', 2], ['30-06-2019 09:45', 48.483909606933594, 63.41247531217665, '40', '31', 2], ['30-06-2019 09:45', 48.474891662597656, 63.91552673740812, '40', '31', 2], ['30-06-2019 09:45', 47.37964630126953, 62.44118019897738, '40', '31', 2], ['30-06-2019 10:00', 46.76609420776367, 61.89328962122973, '40', '31', 2], ['30-06-2019 10:00', 46.485538482666016, 61.70531947183028, '40', '31', 2], ['30-06-2019 10:00', 42.69502639770508, 61.280161657667755, '40', '31', 2], ['30-06-2019 10:15', 45.99236297607422, 61.18545749652269, '40', '40', 2], ['30-06-2019 10:15', 45.28300476074219, 61.21213540417879, '40', '40', 2], ['30-06-2019 10:15', 45.0471305847168, 61.47015777783293, '40', '40', 2], ['30-06-2019 10:45', 43.503273010253906, 61.392478805849684, '44', '40', 2], ['30-06-2019 10:45', 43.061988830566406, 61.450027289221474, '44', '40', 2], ['30-06-2019 10:45', 42.86270523071289, 61.29458761733164, '44', '40', 2], ['30-06-2019 11:00', 42.45954132080078, 60.981883628435476, '44', '40', 2], ['30-06-2019 11:00', 42.256046295166016, 61.101419607936016, '44', '40', 2], ['30-06-2019 11:00', 37.16080093383789, 60.30037889674864, '44', '40', 2], ['30-06-2019 11:00', 38.035362243652344, 60.41430568673678, '44', '40', 2], ['30-06-2019 11:15', 41.85244369506836, 60.768107093406286, '44', '40', 2], ['30-06-2019 11:15', 41.48695755004883, 60.761393639065055, '44', '40', 2], ['30-06-2019 11:15', 41.160648345947266, 60.60094975483581, '44', '40', 2], ['30-06-2019 11:45', 38.23767852783203, 60.73589854979669, '41', '40', 2], ['30-06-2019 11:45', 37.121490478515625, 60.362707434601326, '41', '40', 2], ['30-06-2019 11:45', 36.73764419555664, 60.42759099281395, '41', '40', 2], ['30-06-2019 12:00', 36.190372467041016, 59.58074592376266, '41', '41', 2], ['30-06-2019 12:00', 34.49563980102539, 57.251579466811236, '41', '41', 2], ['30-06-2019 12:00', 34.64892578125, 57.210430805035955, '41', '41', 2], ['30-06-2019 12:15', 35.97254180908203, 59.41678381341884, '41', '41', 2], ['30-06-2019 12:15', 35.679439544677734, 59.24361334274845, '41', '41', 2], ['30-06-2019 12:15', 35.59990310668945, 59.36144694704147, '41', '41', 2], ['30-06-2019 12:45', 34.58973693847656, 58.08789790035359, '48', '41', 2], ['30-06-2019 12:45', 34.412601470947266, 57.7025761405973, '48', '41', 2], ['30-06-2019 12:45', 34.648658752441406, 57.80019748317924, '48', '41', 2], ['30-06-2019 13:00', 34.42169952392578, 56.93395561207138, '48', '41', 2], ['30-06-2019 13:00', 37.06439208984375, 56.12901074324561, '48', '41', 2], ['30-06-2019 13:00', 38.13136291503906, 56.392783695196776, '48', '41', 2], ['30-06-2019 13:15', 34.449886322021484, 56.48181936332664, '48', '41', 2], ['30-06-2019 13:15', 34.40359878540039, 56.10716447582096, '48', '41', 2], ['30-06-2019 13:15', 34.38446044921875, 55.74336777299772, '48', '41', 2], ['30-06-2019 13:45', 34.984642028808594, 55.62104598659337, '46', '48', 2], ['30-06-2019 13:45', 35.486087799072266, 55.66111984464773, '46', '48', 2], ['30-06-2019 13:45', 36.09574890136719, 55.8244030365886, '46', '48', 2], ['30-06-2019 14:00', 38.575557708740234, 56.38318088030284, '46', '48', 2], ['30-06-2019 14:00', 44.02669906616211, 57.55427599867446, '46', '48', 2], ['30-06-2019 14:00', 44.282901763916016, 57.661023013072736, '46', '48', 2], ['30-06-2019 14:15', 41.15435791015625, 56.7021606748908, '46', '48', 2], ['30-06-2019 14:15', 41.753055572509766, 56.6611853704894, '46', '48', 2], ['30-06-2019 14:15', 42.70488739013672, 57.012621096355275, '46', '48', 2], ['30-06-2019 14:45', 44.4732551574707, 56.75081833672461, '56', '48', 2], ['30-06-2019 14:45', 44.191593170166016, 56.96365994477221, '56', '48', 2], ['30-06-2019 14:45', 44.2298583984375, 57.249518974042026, '56', '48', 2], ['30-06-2019 15:00', 44.64309310913086, 57.78025056861965, '56', '48', 2], ['30-06-2019 15:00', 43.928466796875, 59.83354167336884, '56', '48', 2], ['30-06-2019 15:15', 44.79400634765625, 58.45427837169947, '56', '56', 2], ['30-06-2019 15:15', 44.22285079956055, 58.52467807772509, '56', '56', 2], ['30-06-2019 15:15', 44.288082122802734, 58.912086547770244, '56', '56', 2], ['30-06-2019 15:45', 43.92197799682617, 59.44037252261789, '27', '56', 2], ['30-06-2019 15:45', 44.019371032714844, 59.50899077927673, '27', '56', 2], ['30-06-2019 15:45', 43.49003601074219, 59.50412181266768, '27', '56', 2], ['30-06-2019 16:00', 43.24462127685547, 59.67889091480291, '27', '56', 2], ['30-06-2019 16:00', 43.26999282836914, 60.42362710796934, '27', '56', 2], ['30-06-2019 16:00', 42.49274826049805, 61.456899493535765, '27', '56', 2], ['30-06-2019 16:00', 42.62442398071289, 60.72581404219429, '27', '56', 2], ['30-06-2019 16:15', 42.93973159790039, 60.34066566716204, '27', '56', 2], ['30-06-2019 16:15', 42.898033142089844, 60.499279956949515, '27', '56', 2], ['30-06-2019 16:15', 42.87370681762695, 59.52518820315754, '27', '56', 2], ['30-06-2019 16:45', 45.53804397583008, 58.61224116038252, '46', '56', 2], ['30-06-2019 16:45', 42.8851432800293, 58.83394149752845, '46', '56', 2], ['30-06-2019 16:45', 43.255157470703125, 61.499222963622024, '46', '56', 2], ['30-06-2019 17:00', 41.52470779418945, 60.55280902689063, '46', '46', 2], ['30-06-2019 17:00', 43.9571647644043, 64.85762606965345, '46', '46', 2], ['30-06-2019 17:15', 38.946495056152344, 60.34424384570421, '46', '46', 2], ['30-06-2019 17:15', 42.308433532714844, 62.02840382109701, '46', '46', 2], ['30-06-2019 17:15', 42.15752410888672, 61.205888328737004, '46', '46', 2], ['30-06-2019 17:45', 43.102203369140625, 64.46429969033964, '57', '46', 2], ['30-06-2019 17:45', 42.83072280883789, 64.78603009539219, '57', '46', 2], ['30-06-2019 17:45', 43.10921096801758, 65.14060089069592, '57', '46', 2], ['30-06-2019 18:00', 44.19480514526367, 65.0746594928206, '57', '46', 1], ['30-06-2019 18:00', 43.8535270690918, 65.05021070665367, '57', '46', 1], ['30-06-2019 18:00', 50.25688934326172, 61.76538022087864, '57', '46', 2], ['30-06-2019 18:00', 51.00703430175781, 60.955508327663104, '57', '46', 2], ['30-06-2019 18:15', 44.668418884277344, 65.26020875560157, '57', '46', 1], ['30-06-2019 18:15', 45.07904815673828, 65.07743766253793, '57', '46', 1], ['30-06-2019 18:15', 45.37528610229492, 64.6743173666204, '57', '46', 1], ['30-06-2019 18:45', 49.13660430908203, 64.81375938387208, '51', '57', 2], ['30-06-2019 18:45', 49.28170394897461, 63.439077819472054, '51', '57', 2], ['30-06-2019 18:45', 49.68886947631836, 62.334274866889054, '51', '57', 2], ['01-07-2019 06:00', 35.98561096191406, 86.11300420470904, '48', '31', 1], ['01-07-2019 06:00', 35.1082763671875, 86.22524835950318, '48', '31', 1], ['01-07-2019 06:00', 36.10085678100586, 81.89003213604674, '48', '31', 1], ['01-07-2019 06:00', 48.1358642578125, 68.95048528813673, '48', '31', 1], ['01-07-2019 06:00', 47.95108413696289, 69.19025121433823, '48', '31', 1], ['01-07-2019 06:00', 50.267784118652344, 67.69835963879302, '48', '31', 1], ['01-07-2019 06:00', 50.8310432434082, 67.21762102172552, '48', '31', 1], ['01-07-2019 06:15', 34.673072814941406, 85.54300483203522, '48', '48', 1], ['01-07-2019 06:15', 34.02761459350586, 84.84825360398287, '48', '48', 1], ['01-07-2019 06:15', 34.40803909301758, 84.56064694229951, '48', '48', 1], ['01-07-2019 06:15', 47.22828674316406, 69.49670980923061, '48', '48', 1], ['01-07-2019 06:15', 46.63863754272461, 69.66799242453311, '48', '48', 1], ['01-07-2019 06:15', 46.792686462402344, 69.89723702228474, '48', '48', 1], ['01-07-2019 06:45', 34.44158935546875, 83.11795274181613, '41', '48', 1], ['01-07-2019 06:45', 35.00117111206055, 82.60805785577735, '41', '48', 1], ['01-07-2019 06:45', 35.89427185058594, 81.89135837421587, '41', '48', 1], ['01-07-2019 06:45', 47.715057373046875, 69.60564107091739, '41', '48', 1], ['01-07-2019 06:45', 48.18293762207031, 68.8277469246955, '41', '48', 1], ['01-07-2019 06:45', 49.51820755004883, 68.08433974754884, '41', '48', 1], ['01-07-2019 07:00', 37.199153900146484, 82.01129426093986, '41', '48', 1], ['01-07-2019 07:00', 37.322879791259766, 82.59553703102515, '41', '48', 1], ['01-07-2019 07:00', 46.65673828125, 79.40962536926659, '41', '48', 1], ['01-07-2019 07:00', 51.468406677246094, 66.50875059456045, '41', '48', 1], ['01-07-2019 07:00', 54.50069046020508, 67.11699285754835, '41', '48', 1], ['01-07-2019 07:00', 54.25715255737305, 66.28557550547458, '41', '48', 1], ['01-07-2019 07:15', 38.11990737915039, 81.86983189235217, '41', '48', 1], ['01-07-2019 07:15', 39.28622055053711, 81.56171901482438, '41', '48', 1], ['01-07-2019 07:15', 40.065185546875, 81.6054358367128, '41', '48', 1], ['01-07-2019 07:15', 52.81904983520508, 67.23176529121145, '41', '48', 1], ['01-07-2019 07:15', 52.977333068847656, 66.61498523435218, '41', '48', 1], ['01-07-2019 07:15', 53.30448913574219, 66.96875803223996, '41', '48', 1], ['01-07-2019 07:45', 44.56166458129883, 81.28073968244976, '56', '48', 1], ['01-07-2019 07:45', 45.28934860229492, 80.46399641111104, '56', '48', 1], ['01-07-2019 07:45', 45.58050537109375, 79.51280494082496, '56', '48', 1], ['01-07-2019 07:45', 54.4865608215332, 67.50868633824453, '56', '48', 1], ['01-07-2019 07:45', 54.53977584838867, 67.29428469463912, '56', '48', 1], ['01-07-2019 07:45', 54.49357604980469, 66.86255191287059, '56', '48', 1], ['01-07-2019 08:00', 46.780052185058594, 77.70039289729002, '56', '56', 1], ['01-07-2019 08:00', 47.19654846191406, 77.05693713347969, '56', '56', 1], ['01-07-2019 08:00', 45.992958068847656, 72.04541356475221, '56', '56', 1], ['01-07-2019 08:00', 54.20307159423828, 65.9028594398084, '56', '56', 1], ['01-07-2019 08:00', 51.916805267333984, 63.59367879854891, '56', '56', 1], ['01-07-2019 08:00', 51.68666076660156, 63.742991690596355, '56', '56', 1], ['01-07-2019 08:15', 47.15168762207031, 76.77611194269804, '56', '56', 1], ['01-07-2019 08:15', 47.34716033935547, 76.45891139683903, '56', '56', 1], ['01-07-2019 08:15', 47.122032165527344, 76.36204827284692, '56', '56', 1], ['01-07-2019 08:15', 54.076297760009766, 65.79590158935285, '56', '56', 1], ['01-07-2019 08:15', 53.73182678222656, 65.54754161604968, '56', '56', 1], ['01-07-2019 08:15', 53.72307586669922, 65.46748756313045, '56', '56', 1], ['01-07-2019 08:45', 46.798091888427734, 74.84428302644864, '46', '56', 1], ['01-07-2019 08:45', 46.31825637817383, 73.82733521609234, '46', '56', 1], ['01-07-2019 08:45', 46.15190505981445, 72.92109698414812, '46', '56', 1], ['01-07-2019 08:45', 52.81171417236328, 64.52086376052038, '46', '56', 1], ['01-07-2019 08:45', 52.41117477416992, 64.28438600621062, '46', '56', 1], ['01-07-2019 08:45', 52.02738952636719, 63.585395043298476, '46', '56', 1], ['01-07-2019 09:00', 45.640342712402344, 71.59922576811707, '46', '56', 1], ['01-07-2019 09:00', 45.563777923583984, 71.40483564017, '46', '56', 1], ['01-07-2019 09:00', 44.950313568115234, 69.21078884187995, '46', '56', 1], ['01-07-2019 09:00', 51.36875915527344, 63.780422040477575, '46', '56', 2], ['01-07-2019 09:00', 47.306297302246094, 61.50171712102283, '46', '56', 2], ['01-07-2019 09:15', 45.38978958129883, 71.00561189981518, '46', '56', 1], ['01-07-2019 09:15', 44.842342376708984, 70.33951958858809, '46', '56', 1], ['01-07-2019 09:15', 44.91315841674805, 70.26075274594089, '46', '56', 1], ['01-07-2019 09:15', 51.06261444091797, 63.95615220125249, '46', '56', 2], ['01-07-2019 09:15', 50.69724655151367, 63.54983674178632, '46', '56', 2], ['01-07-2019 09:15', 50.205631256103516, 63.58146535290422, '46', '56', 2], ['01-07-2019 09:45', 44.29874038696289, 69.1447392920996, '38', '46', 1], ['01-07-2019 09:45', 44.75029754638672, 69.30320135846101, '38', '46', 1], ['01-07-2019 09:45', 44.942047119140625, 69.2723966957244, '38', '46', 1], ['01-07-2019 09:45', 48.45863342285156, 62.3076631031579, '38', '46', 2], ['01-07-2019 09:45', 48.25785827636719, 62.51468287273115, '38', '46', 2], ['01-07-2019 09:45', 47.93307876586914, 61.972011888911446, '38', '46', 2], ['01-07-2019 10:00', 44.541255950927734, 68.83906003349834, '38', '46', 1], ['01-07-2019 10:00', 43.853824615478516, 67.21968152804762, '38', '46', 1], ['01-07-2019 10:00', 41.45032501220703, 64.46867482447917, '38', '46', 2], ['01-07-2019 10:00', 46.661380767822266, 61.27162737506081, '38', '46', 2], ['01-07-2019 10:00', 46.284297943115234, 60.9694755571254, '38', '46', 2], ['01-07-2019 10:00', 42.7260856628418, 60.559844070971465, '38', '46', 2], ['01-07-2019 10:00', 42.27166748046875, 60.302139201814036, '38', '46', 2], ['01-07-2019 10:15', 43.59718322753906, 66.78318207072317, '38', '46', 1], ['01-07-2019 10:15', 43.09046173095703, 66.94700364993952, '38', '46', 1], ['01-07-2019 10:15', 43.32484436035156, 66.92569150774916, '38', '46', 1], ['01-07-2019 10:15', 45.735694885253906, 60.31502095286326, '38', '46', 2], ['01-07-2019 10:15', 45.385169982910156, 60.3825045065971, '38', '46', 2], ['01-07-2019 10:15', 45.12046813964844, 60.70765960698278, '38', '46', 2], ['01-07-2019 10:45', 42.62580108642578, 65.54199161954406, '56', '46', 2], ['01-07-2019 10:45', 42.15520477294922, 65.04943562513019, '56', '46', 2], ['01-07-2019 10:45', 41.64887237548828, 64.78379955216018, '56', '46', 2], ['01-07-2019 10:45', 43.5289421081543, 60.557173601130664, '56', '46', 2], ['01-07-2019 10:45', 43.48088073730469, 60.80307084566046, '56', '46', 2], ['01-07-2019 10:45', 42.939273834228516, 60.18757678483776, '56', '46', 2], ['01-07-2019 11:00', 40.80461502075195, 64.31646134805209, '56', '46', 2], ['01-07-2019 11:00', 39.54787826538086, 63.61449852303584, '56', '46', 2], ['01-07-2019 11:00', 37.24183654785156, 61.04521694609393, '56', '46', 2], ['01-07-2019 11:00', 40.67381286621094, 61.011469606632645, '56', '46', 2], ['01-07-2019 11:00', 34.691463470458984, 58.84647533711078, '56', '46', 2], ['01-07-2019 11:00', 34.087215423583984, 58.50465462922379, '56', '46', 2], ['01-07-2019 11:15', 39.52155685424805, 63.479068834281435, '56', '56', 2], ['01-07-2019 11:15', 38.9570198059082, 63.324410058714356, '56', '56', 2], ['01-07-2019 11:15', 38.606021881103516, 62.78855882002758, '56', '56', 2], ['01-07-2019 11:15', 39.99995422363281, 60.93252390185599, '56', '56', 2], ['01-07-2019 11:15', 39.39799118041992, 61.11616226001118, '56', '56', 2], ['01-07-2019 11:15', 38.7499885559082, 60.73029781147266, '56', '56', 2], ['01-07-2019 11:45', 37.78422927856445, 61.06454966225734, '44', '56', 2], ['01-07-2019 11:45', 37.34164810180664, 61.73595182636686, '44', '56', 2], ['01-07-2019 11:45', 36.70600509643555, 60.772748450445455, '44', '56', 2], ['01-07-2019 11:45', 36.1931037902832, 60.0061964801219, '44', '56', 2], ['01-07-2019 11:45', 35.525001525878906, 59.67489653132098, '44', '56', 2], ['01-07-2019 11:45', 34.85175323486328, 59.24028826841997, '44', '56', 2], ['01-07-2019 12:00', 36.68952560424805, 60.18624084961513, '44', '56', 2], ['01-07-2019 12:00', 36.140018463134766, 59.608371388252, '44', '56', 2], ['01-07-2019 12:00', 33.32223129272461, 57.11775584339685, '44', '56', 2], ['01-07-2019 12:00', 34.064422607421875, 58.44269432184366, '44', '56', 2], ['01-07-2019 12:00', 33.33270263671875, 55.94037013205929, '44', '56', 2], ['01-07-2019 12:15', 36.010467529296875, 59.398349552907185, '44', '56', 2], ['01-07-2019 12:15', 35.4901123046875, 59.21483734403577, '44', '56', 2], ['01-07-2019 12:15', 35.383880615234375, 59.153578872274835, '44', '56', 2], ['01-07-2019 12:15', 33.68507766723633, 58.04131534926419, '44', '56', 2], ['01-07-2019 12:15', 33.60702133178711, 57.91546523150691, '44', '56', 2], ['01-07-2019 12:15', 33.44611358642578, 58.042750145101024, '44', '56', 2], ['01-07-2019 12:45', 34.90489196777344, 58.29211028215464, '50', '56', 2], ['01-07-2019 12:45', 34.528175354003906, 58.63998194621128, '50', '56', 2], ['01-07-2019 12:45', 33.819576263427734, 57.641309711082194, '50', '56', 2], ['01-07-2019 12:45', 33.17033386230469, 56.84448474691766, '50', '56', 2], ['01-07-2019 12:45', 33.01464080810547, 56.42907943061737, '50', '56', 2], ['01-07-2019 12:45', 32.83549118041992, 56.17696978632239, '50', '56', 2], ['01-07-2019 13:00', 33.47819900512695, 56.91934354166981, '50', '50', 2], ['01-07-2019 13:00', 33.22077178955078, 55.8538644375183, '50', '50', 2], ['01-07-2019 13:00', 33.47005844116211, 53.937625336465146, '50', '50', 2], ['01-07-2019 13:00', 33.54678726196289, 55.21778250589747, '50', '50', 2], ['01-07-2019 13:00', 33.67182540893555, 55.21800251551402, '50', '50', 2], ['01-07-2019 13:00', 36.17243576049805, 52.826190327113444, '50', '50', 2], ['01-07-2019 13:00', 35.916324615478516, 52.767128820455305, '50', '50', 2], ['01-07-2019 13:15', 33.15020751953125, 55.66478175153673, '50', '50', 2], ['01-07-2019 13:15', 33.459346771240234, 55.62255166887393, '50', '50', 2], ['01-07-2019 13:15', 33.15496063232422, 55.43358813608095, '50', '50', 2], ['01-07-2019 13:15', 34.41108703613281, 54.82488189352431, '50', '50', 2], ['01-07-2019 13:15', 34.502647399902344, 54.32054786302469, '50', '50', 2], ['01-07-2019 13:15', 34.81665802001953, 53.845778285267386, '50', '50', 2], ['01-07-2019 13:45', 33.60833740234375, 54.10283798517449, '53', '50', 2], ['01-07-2019 13:45', 33.22461700439453, 54.29349576971068, '53', '50', 2], ['01-07-2019 13:45', 33.406917572021484, 54.054399912053015, '53', '50', 2], ['01-07-2019 13:45', 33.42903518676758, 53.24579571401322, '53', '50', 2], ['01-07-2019 13:45', 33.73756790161133, 53.28413347051709, '53', '50', 2], ['01-07-2019 13:45', 34.174659729003906, 53.3605003819033, '53', '50', 2], ['01-07-2019 14:00', 33.03257751464844, 54.157359304696115, '53', '50', 2], ['01-07-2019 14:00', 34.33631134033203, 54.12625112431884, '53', '50', 2], ['01-07-2019 14:00', 35.798545837402344, 54.22559554388465, '53', '50', 2], ['01-07-2019 14:00', 36.20259094238281, 52.85034221146285, '53', '50', 2], ['01-07-2019 14:00', 39.58195495605469, 51.46292616682638, '53', '50', 2], ['01-07-2019 14:00', 41.00708770751953, 51.758579096530916, '53', '50', 2], ['01-07-2019 14:15', 34.03524398803711, 53.795960166457114, '53', '50', 2], ['01-07-2019 14:15', 34.495277404785156, 54.32503961771448, '53', '50', 2], ['01-07-2019 14:15', 35.00479507446289, 54.94967803303951, '53', '50', 2], ['01-07-2019 14:15', 37.13874816894531, 53.306939194893076, '53', '50', 2], ['01-07-2019 14:15', 37.39482879638672, 52.781827763890384, '53', '50', 2], ['01-07-2019 14:15', 38.24483108520508, 53.072564501110875, '53', '50', 2], ['01-07-2019 14:45', 35.56557846069336, 55.0214835554155, '66', '53', 2], ['01-07-2019 14:45', 35.66017150878906, 54.62120213199596, '66', '53', 2], ['01-07-2019 14:45', 34.27983474731445, 53.91658252441308, '66', '53', 2], ['01-07-2019 14:45', 39.5642204284668, 52.81611127127761, '66', '53', 2], ['01-07-2019 14:45', 39.53569793701172, 51.97754682290658, '66', '53', 2], ['01-07-2019 14:45', 38.84484100341797, 51.534143036138985, '66', '53', 2], ['01-07-2019 15:00', 36.62471389770508, 54.44966984592666, '66', '53', 2], ['01-07-2019 15:00', 36.11146926879883, 55.70329667520476, '66', '53', 2], ['01-07-2019 15:00', 36.603092193603516, 59.615080657080675, '66', '53', 2], ['01-07-2019 15:00', 40.86149215698242, 52.595909477836486, '66', '53', 2], ['01-07-2019 15:00', 42.13265609741211, 56.75062484411128, '66', '53', 2], ['01-07-2019 15:15', 35.93489456176758, 55.738147065290256, '66', '53', 2], ['01-07-2019 15:15', 35.61591339111328, 56.00268918639004, '66', '53', 2], ['01-07-2019 15:15', 36.00883865356445, 56.51596586064906, '66', '53', 2], ['01-07-2019 15:15', 40.981353759765625, 53.187471870382424, '66', '53', 2], ['01-07-2019 15:15', 41.0057258605957, 53.72787994324115, '66', '53', 2], ['01-07-2019 15:15', 41.306549072265625, 53.738060069162344, '66', '53', 2], ['01-07-2019 15:45', 36.343284606933594, 57.76225433195952, '63', '53', 2], ['01-07-2019 15:45', 36.586509704589844, 57.9381325559493, '63', '53', 2], ['01-07-2019 15:45', 37.27421951293945, 58.359704992672405, '63', '53', 2], ['01-07-2019 15:45', 41.501346588134766, 54.74522120570928, '63', '53', 2], ['01-07-2019 15:45', 41.76929473876953, 55.2456354977097, '63', '53', 2], ['01-07-2019 15:45', 42.081993103027344, 55.74728184123653, '63', '53', 2], ['01-07-2019 16:00', 36.509273529052734, 60.40484679099534, '63', '53', 1], ['01-07-2019 16:00', 37.182125091552734, 60.965001103485065, '63', '53', 2], ['01-07-2019 16:00', 37.89234924316406, 65.75362224447377, '63', '53', 1], ['01-07-2019 16:00', 41.98737335205078, 57.54486437179736, '63', '53', 2], ['01-07-2019 16:00', 42.369140625, 57.96310421975802, '63', '53', 2], ['01-07-2019 16:00', 41.757606506347656, 60.81967320199424, '63', '53', 2], ['01-07-2019 16:15', 36.9209098815918, 60.98416620207502, '63', '63', 2], ['01-07-2019 16:15', 37.249359130859375, 63.07583488146804, '63', '63', 2], ['01-07-2019 16:15', 37.03168869018555, 62.98570505618914, '63', '63', 1], ['01-07-2019 16:15', 42.33018493652344, 58.17043408038765, '63', '63', 2], ['01-07-2019 16:15', 42.53057861328125, 58.93505498609727, '63', '63', 2], ['01-07-2019 16:15', 42.26000213623047, 59.44077326195715, '63', '63', 2], ['01-07-2019 16:45', 37.76978302001953, 64.57694425971113, '57', '63', 1], ['01-07-2019 16:45', 37.35820388793945, 65.36271956403232, '57', '63', 1], ['01-07-2019 16:45', 38.00465393066406, 65.80400521895555, '57', '63', 1], ['01-07-2019 16:45', 41.8243293762207, 60.00485647521309, '57', '63', 2], ['01-07-2019 16:45', 41.39497375488281, 60.12199637479657, '57', '63', 2], ['01-07-2019 16:45', 41.50434112548828, 60.8738181116911, '57', '63', 2], ['01-07-2019 17:00', 38.30567169189453, 66.61597325813797, '57', '63', 1], ['01-07-2019 17:00', 38.225746154785156, 67.139217109762, '57', '63', 1], ['01-07-2019 17:00', 41.015045166015625, 69.52106546518607, '57', '63', 1], ['01-07-2019 17:00', 42.1710205078125, 61.76658050182106, '57', '63', 2], ['01-07-2019 17:00', 41.58830261230469, 61.76469741073833, '57', '63', 2], ['01-07-2019 17:00', 46.22745895385742, 63.6600100098251, '57', '63', 2], ['01-07-2019 17:00', 45.568016052246094, 64.11736223306217, '57', '63', 2], ['01-07-2019 17:15', 38.301918029785156, 67.58762812999414, '57', '63', 1], ['01-07-2019 17:15', 39.02481460571289, 68.5315087535874, '57', '63', 1], ['01-07-2019 17:15', 38.900577545166016, 68.29817081488453, '57', '63', 1], ['01-07-2019 17:15', 42.09021759033203, 61.89723919168529, '57', '63', 2], ['01-07-2019 17:15', 42.07466125488281, 62.09217505637993, '57', '63', 2], ['01-07-2019 17:15', 42.73380661010742, 62.507628644451785, '57', '63', 2], ['01-07-2019 17:45', 39.822021484375, 69.32747002801607, '63', '63', 1], ['01-07-2019 17:45', 39.67643356323242, 69.04286247667277, '63', '63', 1], ['01-07-2019 17:45', 39.92740249633789, 69.5795256364521, '63', '63', 1], ['01-07-2019 17:45', 15.639546394348145, 57.85954941299598, '63', '63', 2], ['01-07-2019 17:45', 44.74220275878906, 63.98890085428417, '63', '63', 2], ['01-07-2019 17:45', 45.00267791748047, 64.05165123598587, '63', '63', 2], ['01-07-2019 18:00', 39.53080749511719, 69.93062286720405, '63', '63', 1], ['01-07-2019 18:00', 40.37856674194336, 71.19128011579159, '63', '63', 1], ['01-07-2019 18:00', 44.106300354003906, 64.399608133765, '63', '63', 1], ['01-07-2019 18:00', 44.49738311767578, 64.87292593181407, '63', '63', 1], ['01-07-2019 18:00', 46.57463455200195, 64.20243905922963, '63', '63', 2], ['01-07-2019 18:00', 49.57074737548828, 57.96609145959366, '63', '63', 2], ['01-07-2019 18:00', 49.73755645751953, 58.27490065630531, '63', '63', 2], ['01-07-2019 18:15', 40.933536529541016, 70.07915029896702, '63', '63', 1], ['01-07-2019 18:15', 41.747249603271484, 67.93314876550869, '63', '63', 1], ['01-07-2019 18:15', 41.70713806152344, 66.15492310947954, '63', '63', 1], ['01-07-2019 18:15', 48.45108413696289, 63.59784868191884, '63', '63', 2], ['01-07-2019 18:15', 48.725502014160156, 62.15141080077167, '63', '63', 2], ['01-07-2019 18:15', 48.59935760498047, 60.88891969873551, '63', '63', 2], ['01-07-2019 18:45', 44.86711120605469, 65.13421277905525, '62', '63', 1], ['01-07-2019 18:45', 44.76996612548828, 64.86072800786177, '62', '63', 1], ['01-07-2019 18:45', 44.467716217041016, 64.10464686351585, '62', '63', 1], ['01-07-2019 18:45', 49.845211029052734, 58.67289209264444, '62', '63', 2], ['01-07-2019 18:45', 50.29872512817383, 58.73709049008531, '62', '63', 2], ['01-07-2019 18:45', 49.70112228393555, 58.21562661488175, '62', '63', 2], ['02-07-2019 06:00', 48.78333282470703, 63.293277026206496, '55', '52', 1], ['02-07-2019 06:00', 50.19051742553711, 65.53921389519479, '55', '52', 1], ['02-07-2019 06:00', 50.03117370605469, 65.15292314656115, '55', '52', 1], ['02-07-2019 06:15', 48.57774353027344, 65.22986820626956, '55', '52', 1], ['02-07-2019 06:15', 48.523189544677734, 65.23049197907955, '55', '52', 1], ['02-07-2019 06:15', 49.509765625, 62.48261950880465, '55', '52', 1], ['02-07-2019 06:45', 49.31455993652344, 65.70685942154186, '48', '52', 1], ['02-07-2019 06:45', 49.677120208740234, 65.75342266061352, '48', '52', 1], ['02-07-2019 06:45', 49.90019607543945, 65.63486072252869, '48', '52', 1], ['02-07-2019 07:00', 50.83957290649414, 65.23401503245894, '48', '52', 1], ['02-07-2019 07:00', 51.81731414794922, 65.98340291755281, '48', '52', 1], ['02-07-2019 07:00', 52.0335807800293, 65.7147384251034, '48', '52', 1], ['02-07-2019 07:15', 50.76066970825195, 65.44531281614404, '48', '48', 1], ['02-07-2019 07:15', 50.76211166381836, 65.48506721846032, '48', '48', 1], ['02-07-2019 07:15', 50.854164123535156, 65.26197916586597, '48', '48', 1], ['02-07-2019 07:45', 51.44737243652344, 65.77377909473397, '78', '48', 1], ['02-07-2019 07:45', 51.484657287597656, 66.19641794629152, '78', '48', 1], ['02-07-2019 07:45', 51.739341735839844, 66.06063428240198, '78', '48', 1], ['02-07-2019 08:00', 52.419715881347656, 65.43941554123909, '78', '48', 1], ['02-07-2019 08:00', 51.669273376464844, 63.060652219245895, '78', '48', 1], ['02-07-2019 08:00', 51.423770904541016, 63.638328589192554, '78', '48', 1], ['02-07-2019 08:15', 52.7652702331543, 65.44731874134929, '78', '48', 1], ['02-07-2019 08:15', 52.727577209472656, 65.28711792885173, '78', '48', 1], ['02-07-2019 08:15', 52.83330154418945, 65.18103080358857, '78', '48', 1], ['02-07-2019 08:45', 51.865760803222656, 63.615761241291025, '46', '48', 1], ['02-07-2019 08:45', 51.751243591308594, 63.74931515050683, '46', '48', 1], ['02-07-2019 08:45', 52.091854095458984, 63.47167380325803, '46', '48', 1], ['02-07-2019 09:00', 51.207332611083984, 62.8304440974814, '46', '46', 1], ['02-07-2019 09:00', 50.24117660522461, 62.028847290038925, '46', '46', 2], ['02-07-2019 09:00', 50.02134323120117, 61.999464609421516, '46', '46', 2], ['02-07-2019 09:15', 51.109901428222656, 63.01868696645641, '46', '46', 2], ['02-07-2019 09:15', 51.28457260131836, 63.15443142023792, '46', '46', 2], ['02-07-2019 09:15', 51.01973342895508, 62.721075583858806, '46', '46', 2], ['02-07-2019 09:45', 50.69298553466797, 62.39075149192753, '50', '46', 2], ['02-07-2019 09:45', 50.490325927734375, 62.127000465224825, '50', '46', 2], ['02-07-2019 09:45', 50.39125061035156, 61.92628123888604, '50', '46', 2], ['02-07-2019 10:00', 49.680442810058594, 61.73106125534271, '50', '46', 2], ['02-07-2019 10:00', 46.9795036315918, 58.29530092780164, '50', '46', 2], ['02-07-2019 10:15', 49.477596282958984, 61.582600239896614, '50', '46', 2], ['02-07-2019 10:15', 49.474666595458984, 61.66390288525863, '50', '46', 2], ['02-07-2019 10:15', 49.17023849487305, 61.43238106952081, '50', '46', 2], ['02-07-2019 10:45', 48.149322509765625, 59.94950197176653, '57', '50', 2], ['02-07-2019 10:45', 47.37346649169922, 59.14782726567981, '57', '50', 2], ['02-07-2019 10:45', 46.9780158996582, 58.474816230627646, '57', '50', 2], ['02-07-2019 11:00', 46.499202728271484, 58.02383445982814, '57', '50', 2], ['02-07-2019 11:00', 45.52131271362305, 58.64502372545558, '57', '50', 2], ['02-07-2019 11:00', 43.22279357910156, 57.836876192857446, '57', '50', 2], ['02-07-2019 11:00', 43.014095306396484, 57.81563018226288, '57', '50', 2], ['02-07-2019 11:15', 45.58560562133789, 58.84116395661388, '57', '50', 2], ['02-07-2019 11:15', 45.25299835205078, 58.51352519531179, '57', '50', 2], ['02-07-2019 11:15', 45.19392395019531, 58.346263888004955, '57', '50', 2], ['02-07-2019 11:45', 44.004581451416016, 58.00396599571593, '75', '50', 2], ['02-07-2019 11:45', 43.8542366027832, 58.019706683046785, '75', '50', 2], ['02-07-2019 11:45', 43.70023727416992, 58.177943650827615, '75', '50', 2], ['02-07-2019 12:00', 42.62866973876953, 57.42172413916258, '75', '50', 2], ['02-07-2019 12:00', 40.72431564331055, 55.331747760039754, '75', '50', 2], ['02-07-2019 12:15', 42.54971694946289, 57.23346371417085, '75', '75', 2], ['02-07-2019 12:15', 42.50253677368164, 57.069770521944214, '75', '75', 2], ['02-07-2019 12:15', 42.45705032348633, 56.96637811183599, '75', '75', 2], ['02-07-2019 12:45', 41.48564910888672, 56.1192171795081, '89', '75', 2], ['02-07-2019 12:45', 40.894107818603516, 55.7883272522196, '89', '75', 2], ['02-07-2019 12:45', 40.7611198425293, 55.63387175592162, '89', '75', 2], ['02-07-2019 13:00', 40.54670333862305, 55.382007917776605, '89', '75', 2], ['02-07-2019 13:00', 40.387115478515625, 55.15132702115274, '89', '75', 2], ['02-07-2019 13:00', 39.58632278442383, 53.45824406832862, '89', '75', 2], ['02-07-2019 13:15', 39.170196533203125, 54.782729604647166, '89', '75', 2], ['02-07-2019 13:15', 40.18202209472656, 54.892549717069016, '89', '75', 2], ['02-07-2019 13:15', 38.97670364379883, 54.65778997093703, '89', '75', 2], ['02-07-2019 13:45', 36.85649871826172, 53.79391515432667, '75', '75', 2], ['02-07-2019 13:45', 38.10448455810547, 54.013132183464755, '75', '75', 2], ['02-07-2019 13:45', 39.17675018310547, 53.75115820709733, '75', '75', 2], ['02-07-2019 14:00', 41.20588302612305, 53.89855327499077, '75', '75', 2], ['02-07-2019 14:00', 41.24444580078125, 53.89771927434496, '75', '75', 2], ['02-07-2019 14:00', 41.5662841796875, 52.510515758609074, '75', '75', 2], ['02-07-2019 14:15', 40.83074188232422, 53.38028361771999, '75', '75', 2], ['02-07-2019 14:15', 40.70367431640625, 52.99285417439751, '75', '75', 2], ['02-07-2019 14:15', 40.11540985107422, 52.741869962682344, '75', '75', 2], ['02-07-2019 14:45', 41.41175842285156, 52.68470729349826, '74', '75', 2], ['02-07-2019 14:45', 41.38416290283203, 52.13923135711761, '74', '75', 2], ['02-07-2019 14:45', 41.310325622558594, 52.509708211892516, '74', '75', 2], ['02-07-2019 15:00', 42.00112533569336, 52.496308290852205, '74', '75', 2], ['02-07-2019 15:00', 41.771419525146484, 51.98604152452072, '74', '75', 2], ['02-07-2019 15:00', 40.90532684326172, 51.08744532237067, '74', '75', 2], ['02-07-2019 15:15', 42.10690689086914, 52.14692136814163, '74', '75', 2], ['02-07-2019 15:15', 41.502220153808594, 52.598013599361444, '74', '75', 2], ['02-07-2019 15:15', 41.1049919128418, 52.19129011589496, '74', '75', 2], ['02-07-2019 15:45', 39.37704086303711, 50.32751096619133, '74', '74', 2], ['02-07-2019 15:45', 42.88844299316406, 49.91845209105532, '74', '74', 2], ['02-07-2019 15:45', 40.15725326538086, 49.72851012487991, '74', '74', 2], ['02-07-2019 16:00', 38.36097717285156, 52.23669780388715, '74', '74', 2], ['02-07-2019 16:00', 41.57008361816406, 53.14687860064954, '74', '74', 2], ['02-07-2019 16:00', 42.64836120605469, 57.03657174141751, '74', '74', 2], ['02-07-2019 16:15', 41.09589767456055, 54.2818231815144, '74', '74', 2], ['02-07-2019 16:15', 41.944244384765625, 53.87444884633917, '74', '74', 2], ['02-07-2019 16:15', 41.63713836669922, 55.355735737565354, '74', '74', 2], ['02-07-2019 16:45', 42.10300827026367, 55.62840827259848, '73', '74', 2], ['02-07-2019 16:45', 44.10314178466797, 58.38373086928934, '73', '74', 2], ['02-07-2019 16:45', 42.94477081298828, 56.816894310960585, '73', '74', 2], ['02-07-2019 17:00', 43.73424530029297, 57.83436744670227, '73', '74', 2], ['02-07-2019 17:00', 43.45191955566406, 57.49951660982011, '73', '74', 2], ['02-07-2019 17:00', 45.78573989868164, 58.76667496639086, '73', '74', 2], ['02-07-2019 17:15', 43.40430450439453, 57.32111926511378, '73', '73', 2], ['02-07-2019 17:15', 43.63408660888672, 57.225267165106935, '73', '73', 2], ['02-07-2019 17:15', 43.57671356201172, 57.49545200789003, '73', '73', 2], ['02-07-2019 17:45', 44.71965408325195, 58.35736762250952, '74', '73', 2], ['02-07-2019 17:45', 44.818023681640625, 58.56003227700547, '74', '73', 2], ['02-07-2019 17:45', 45.58387756347656, 58.51004808484235, '74', '73', 2], ['02-07-2019 18:00', 45.85073471069336, 58.40504858404957, '74', '73', 2], ['02-07-2019 18:00', 46.02861022949219, 58.61504991335102, '74', '73', 2], ['02-07-2019 18:00', 47.53581237792969, 57.95781072130469, '74', '73', 2], ['02-07-2019 18:00', 47.52772903442383, 57.71945809915711, '74', '73', 2], ['02-07-2019 18:15', 46.199241638183594, 58.49083761748217, '74', '73', 2], ['02-07-2019 18:15', 45.74302291870117, 58.24754342448959, '74', '73', 2], ['02-07-2019 18:15', 46.470680236816406, 58.32162478954343, '74', '73', 2], ['02-07-2019 18:45', 47.59534454345703, 59.189894445805706, '66', '73', 2], ['02-07-2019 18:45', 47.130680084228516, 58.42928801097116, '66', '73', 2], ['02-07-2019 18:45', 47.13998031616211, 58.04751442798159, '66', '73', 2], ['03-07-2019 06:00', 48.710365295410156, 64.83576329737384, '45', '47', 1], ['03-07-2019 06:15', 48.209720611572266, 65.18211738885972, '45', '47', 1], ['03-07-2019 06:15', 47.23472213745117, 65.48314467540875, '45', '47', 1], ['03-07-2019 06:15', 47.222957611083984, 65.49045857403102, '45', '47', 1], ['03-07-2019 16:00', 43.94867706298828, 86.06920885429538, '28.14', '20.39', 1], ['03-07-2019 16:15', 44.03278732299805, 85.93560556766379, '29.15', '20.39', 1], ['03-07-2019 16:15', 46.8581428527832, 83.35990418815406, '29.15', '20.39', 1], ['03-07-2019 16:15', 47.97339630126953, 81.99809791194996, '29.15', '20.39', 1], ['03-07-2019 16:30', 48.050804138183594, 82.01107310915145, '29.15', '20.39', 1], ['03-07-2019 16:30', 47.41930389404297, 83.83208922627172, '29.15', '20.39', 1], ['03-07-2019 16:30', 47.60153579711914, 82.05574609291989, '29.15', '20.39', 1], ['03-07-2019 16:45', 46.583621978759766, 83.00035372421691, '29.15', '29.15', 1], ['03-07-2019 16:45', 46.27571105957031, 82.57183112338984, '29.15', '29.15', 1], ['03-07-2019 16:45', 45.93608093261719, 84.48488377273497, '29.15', '29.15', 1], ['03-07-2019 17:00', 44.10636520385742, 84.7995442084914, '33.56', '29.15', 1], ['03-07-2019 17:00', 47.326026916503906, 79.98781416201287, '33.56', '29.15', 1], ['03-07-2019 17:00', 46.22364044189453, 84.5032318955825, '33.56', '29.15', 1], ['03-07-2019 17:15', 46.98166275024414, 81.77644150927144, '34.16', '29.15', 1], ['03-07-2019 17:15', 46.442771911621094, 85.29843166799773, '34.16', '29.15', 1], ['03-07-2019 17:15', 47.3823127746582, 83.11951422263822, '34.16', '29.15', 1], ['03-07-2019 17:30', 45.86275100708008, 85.20100359181446, '34.16', '29.15', 1], ['03-07-2019 17:30', 45.2047004699707, 85.36041493275818, '34.16', '29.15', 1], ['03-07-2019 17:30', 44.56365203857422, 85.95750186154552, '34.16', '29.15', 1], ['03-07-2019 17:45', 45.19281005859375, 86.59753142427073, '34.16', '29.15', 1], ['03-07-2019 17:45', 45.542213439941406, 86.19587913515625, '34.16', '29.15', 1], ['03-07-2019 17:45', 46.82054901123047, 86.0785663381433, '34.16', '29.15', 1], ['03-07-2019 18:00', 44.57762145996094, 85.92155795013167, '32.97', '34.16', 1], ['03-07-2019 18:00', 44.45011901855469, 86.10135821881946, '32.97', '34.16', 1], ['03-07-2019 18:00', 44.1231575012207, 82.01552136538749, '32.97', '34.16', 1], ['03-07-2019 18:00', 41.06650924682617, 80.04499059541436, '32.97', '34.16', 1], ['03-07-2019 18:15', 45.09456253051758, 85.54438022075784, '32.81', '34.16', 1], ['03-07-2019 18:15', 44.504173278808594, 85.75957322821796, '32.81', '34.16', 1], ['03-07-2019 18:15', 45.37848663330078, 85.1839211223502, '32.81', '34.16', 1], ['03-07-2019 18:30', 46.55511474609375, 83.8917754203283, '32.81', '34.16', 1], ['03-07-2019 18:30', 47.21182632446289, 83.6058527304664, '32.81', '34.16', 1], ['03-07-2019 18:30', 46.94319152832031, 81.94841272072236, '32.81', '34.16', 1], ['03-07-2019 18:45', 46.3134765625, 81.15013586185329, '32.81', '34.16', 1], ['03-07-2019 18:45', 45.51871871948242, 81.22567308245084, '32.81', '34.16', 1], ['03-07-2019 18:45', 45.31764221191406, 82.98113442344928, '32.81', '34.16', 1], ['04-07-2019 06:00', 39.43787384033203, 80.83563300053557, '31.85', '33.12', 2], ['04-07-2019 06:00', 35.78984451293945, 81.37998990991335, '31.85', '33.12', 2], ['04-07-2019 06:00', 38.506195068359375, 69.77452993369975, '31.85', '33.12', 2], ['04-07-2019 06:00', 38.5744743347168, 69.34570476624212, '31.85', '33.12', 2], ['04-07-2019 06:15', 38.03511428833008, 79.60779112343666, '31.68', '33.12', 2], ['04-07-2019 06:15', 40.17664337158203, 79.05497466052599, '31.68', '33.12', 2], ['04-07-2019 06:15', 38.90853500366211, 77.60786895565424, '31.68', '33.12', 2], ['04-07-2019 06:30', 39.30826187133789, 73.47446403051835, '31.68', '33.12', 2], ['04-07-2019 06:30', 44.20527648925781, 68.35606375753638, '31.68', '33.12', 2], ['04-07-2019 06:30', 39.25359344482422, 65.08975224928339, '31.68', '33.12', 2], ['04-07-2019 06:45', 37.59233093261719, 65.66512700737879, '31.68', '33.12', 2], ['04-07-2019 06:45', 35.22706985473633, 65.57760594518906, '31.68', '33.12', 2], ['04-07-2019 06:45', 36.55118942260742, 68.0352796720816, '31.68', '33.12', 2], ['04-07-2019 07:00', 43.236671447753906, 69.33862337287795, '41.92', '31.68', 2], ['04-07-2019 07:00', 34.159019470214844, 63.734319137871175, '41.92', '31.68', 2], ['04-07-2019 07:00', 35.33091735839844, 63.10497451636357, '41.92', '31.68', 2], ['04-07-2019 07:15', 45.232730865478516, 68.23722818652013, '43.27', '31.68', 2], ['04-07-2019 07:15', 47.6710205078125, 65.99232107331632, '43.27', '31.68', 2], ['04-07-2019 07:15', 47.59740447998047, 65.14771772825824, '43.27', '31.68', 2], ['04-07-2019 07:30', 47.30567932128906, 64.89057606440313, '43.27', '31.68', 2], ['04-07-2019 07:30', 48.33149719238281, 64.99620240707921, '43.27', '31.68', 2], ['04-07-2019 07:45', 48.001163482666016, 67.84373599548609, '43.27', '31.68', 2], ['04-07-2019 07:45', 47.66741943359375, 68.35575556812745, '43.27', '31.68', 2], ['04-07-2019 07:45', 44.41035842895508, 68.16588338056502, '43.27', '31.68', 2], ['04-07-2019 07:45', 39.10307693481445, 62.78925957729621, '43.27', '31.68', 2], ['04-07-2019 08:00', 33.2784538269043, 62.235678067075376, '42.42', '31.68', 2], ['04-07-2019 08:00', 38.22201919555664, 63.3041256246955, '42.42', '31.68', 2], ['04-07-2019 08:00', 45.82757568359375, 61.15508186912993, '42.42', '31.68', 2], ['04-07-2019 08:15', 33.153533935546875, 56.976473243408876, '42.31', '42.42', 2], ['04-07-2019 08:15', 29.915674209594727, 54.656657337911, '42.31', '42.42', 2], ['04-07-2019 08:15', 30.280046463012695, 52.9950927202045, '42.31', '42.42', 2], ['04-07-2019 08:30', 33.38655090332031, 53.1487782781714, '42.31', '42.42', 2], ['04-07-2019 08:30', 36.105411529541016, 59.18690301083211, '42.31', '42.42', 2], ['04-07-2019 08:45', 32.37390899658203, 55.6395136356583, '42.31', '42.42', 2], ['04-07-2019 08:45', 33.83450698852539, 55.26614268550233, '42.31', '42.42', 2], ['04-07-2019 08:45', 31.4058780670166, 56.06840745967228, '42.31', '42.42', 2], ['04-07-2019 08:45', 28.18128776550293, 55.497061634025705, '42.31', '42.42', 2], ['04-07-2019 09:00', 44.62673568725586, 62.49216801752508, '41.71', '42.42', 2], ['04-07-2019 09:00', 42.09341049194336, 63.19946280446035, '41.71', '42.42', 2], ['04-07-2019 09:00', 42.94783020019531, 58.383954675269585, '41.71', '42.42', 2], ['04-07-2019 09:15', 45.78425979614258, 60.122928890610225, '41.63', '42.42', 2], ['04-07-2019 09:15', 44.670387268066406, 58.0566048305179, '41.63', '42.42', 2], ['04-07-2019 09:30', 33.835811614990234, 55.96421857015712, '41.63', '41.63', 2], ['04-07-2019 09:30', 34.46477127075195, 55.94731190858992, '41.63', '41.63', 2], ['04-07-2019 09:30', 32.189937591552734, 55.491154978340774, '41.63', '41.63', 2], ['04-07-2019 09:45', 36.46705627441406, 56.43003049423461, '41.63', '41.63', 2], ['04-07-2019 09:45', 37.549781799316406, 56.76173261202424, '41.63', '41.63', 2], ['04-07-2019 09:45', 40.764408111572266, 62.07223101585653, '41.63', '41.63', 2], ['04-07-2019 09:45', 41.759708404541016, 57.662213598281824, '41.63', '41.63', 2], ['04-07-2019 10:00', 45.89426803588867, 58.55520123338457, '30.12', '41.63', 2], ['04-07-2019 10:00', 51.73257064819336, 76.79742042942891, '30.12', '41.63', 2], ['04-07-2019 10:00', 52.27109909057617, 72.85205996265381, '30.12', '41.63', 2], ['04-07-2019 10:15', 44.965091705322266, 59.46428254256164, '28.6', '41.63', 2], ['04-07-2019 10:15', 41.886070251464844, 57.91650273203854, '28.6', '41.63', 2], ['04-07-2019 10:15', 44.941104888916016, 59.03870080558557, '28.6', '41.63', 2], ['04-07-2019 10:30', 45.8625602722168, 62.44438095319752, '28.6', '41.63', 2], ['04-07-2019 10:30', 45.63548278808594, 68.63269436526322, '28.6', '41.63', 2], ['04-07-2019 10:45', 51.51841354370117, 62.528088428561354, '28.6', '28.6', 2], ['04-07-2019 10:45', 52.23660659790039, 62.63903886106841, '28.6', '28.6', 2], ['04-07-2019 10:45', 51.79821014404297, 70.68261722709259, '28.6', '28.6', 2], ['04-07-2019 10:45', 52.313941955566406, 73.62809670120123, '28.6', '28.6', 2], ['04-07-2019 11:00', 52.605316162109375, 67.68604956049316, '30.8', '28.6', 2], ['04-07-2019 11:00', 45.148406982421875, 72.14033948499525, '30.8', '28.6', 2], ['04-07-2019 11:00', 45.76397705078125, 69.65614322828492, '30.8', '28.6', 2], ['04-07-2019 11:15', 53.50466537475586, 68.75912207634103, '31.09', '28.6', 2], ['04-07-2019 11:15', 51.16579055786133, 72.06860091472026, '31.09', '28.6', 2], ['04-07-2019 11:15', 51.33964920043945, 72.11938054439221, '31.09', '28.6', 2], ['04-07-2019 11:30', 53.431678771972656, 69.77834430524021, '31.09', '28.6', 2], ['04-07-2019 11:30', 48.69670486450195, 64.64377739187432, '31.09', '28.6', 2], ['04-07-2019 11:45', 44.48887252807617, 55.878818779863245, '31.09', '28.6', 2], ['04-07-2019 11:45', 44.54820251464844, 53.98209513379822, '31.09', '28.6', 2], ['04-07-2019 11:45', 46.559913635253906, 51.99628363529926, '31.09', '28.6', 2], ['04-07-2019 11:45', 47.3226318359375, 56.484667996941205, '31.09', '28.6', 2], ['04-07-2019 12:00', 43.29436111450195, 66.43651678660399, '35.23', '31.09', 2], ['04-07-2019 12:00', 36.35411071777344, 77.22513995153184, '35.23', '31.09', 2], ['04-07-2019 12:15', 43.861732482910156, 62.84063206325813, '35.77', '31.09', 2], ['04-07-2019 12:15', 49.75172805786133, 57.745307909950185, '35.77', '31.09', 2], ['04-07-2019 12:15', 55.56685256958008, 67.49892239062962, '35.77', '31.09', 2], ['04-07-2019 12:30', 48.74037170410156, 65.79476525242792, '35.77', '31.09', 2], ['04-07-2019 12:30', 44.09925079345703, 63.45459486329427, '35.77', '31.09', 2], ['04-07-2019 12:45', 46.033329010009766, 67.8802373881468, '35.77', '31.09', 2], ['04-07-2019 12:45', 43.110084533691406, 66.8214351280255, '35.77', '31.09', 2], ['04-07-2019 12:45', 36.21638488769531, 68.32151666688677, '35.77', '31.09', 2], ['04-07-2019 12:45', 41.20221710205078, 72.67275662524077, '35.77', '31.09', 2], ['04-07-2019 13:00', 38.75446319580078, 79.34182493038618, '39.85', '31.09', 2], ['04-07-2019 13:00', 42.08036422729492, 80.82838842365075, '39.85', '31.09', 2], ['04-07-2019 13:00', 41.204200744628906, 74.41265639690637, '39.85', '31.09', 2], ['04-07-2019 13:00', 45.817840576171875, 71.56252678908135, '39.85', '31.09', 2], ['04-07-2019 13:15', 40.110233306884766, 78.98429675467276, '40.39', '39.85', 2], ['04-07-2019 13:15', 42.17803192138672, 75.58231895119205, '40.39', '39.85', 2], ['04-07-2019 13:15', 42.27024459838867, 72.01435401733248, '40.39', '39.85', 2], ['04-07-2019 13:30', 48.60792541503906, 70.60873950856195, '40.39', '39.85', 2], ['04-07-2019 13:30', 43.53127670288086, 75.97380131075109, '40.39', '39.85', 1], ['04-07-2019 13:45', 43.31428527832031, 74.3016729062198, '40.39', '39.85', 2], ['04-07-2019 13:45', 42.838584899902344, 74.51590383317959, '40.39', '39.85', 2], ['04-07-2019 13:45', 42.62739562988281, 73.50649106202282, '40.39', '39.85', 2], ['04-07-2019 13:45', 44.3774528503418, 72.48700086711321, '40.39', '39.85', 2], ['04-07-2019 14:00', 43.912296295166016, 67.0440017910604, '26.14', '39.85', 2], ['04-07-2019 14:00', 43.842769622802734, 67.25423161957545, '26.14', '39.85', 2], ['04-07-2019 14:15', 43.80379104614258, 68.80728589585742, '24.27', '39.85', 2], ['04-07-2019 14:15', 44.79505920410156, 69.2263374494853, '24.27', '39.85', 2], ['04-07-2019 14:15', 44.91102981567383, 70.23891249220586, '24.27', '39.85', 2], ['04-07-2019 14:15', 44.8255729675293, 69.09401802645593, '24.27', '39.85', 2], ['04-07-2019 14:30', 45.1138801574707, 69.93656996678867, '24.27', '24.27', 2], ['04-07-2019 14:30', 45.11499786376953, 68.41483283291058, '24.27', '24.27', 2], ['04-07-2019 14:45', 44.028587341308594, 66.93861142015601, '24.27', '24.27', 2], ['04-07-2019 14:45', 44.33795166015625, 67.5640282381282, '24.27', '24.27', 2], ['04-07-2019 14:45', 44.349674224853516, 69.44987756121293, '24.27', '24.27', 2], ['04-07-2019 14:45', 44.411399841308594, 67.62819536030116, '24.27', '24.27', 2], ['04-07-2019 15:00', 43.840301513671875, 69.60027346630065, '24.18', '24.27', 2], ['04-07-2019 15:00', 42.1354866027832, 77.8543501097906, '24.18', '24.27', 2], ['04-07-2019 15:00', 41.98362350463867, 78.73019421802726, '24.18', '24.27', 2], ['04-07-2019 15:15', 43.76118087768555, 69.30836636507937, '24.17', '24.27', 2], ['04-07-2019 15:15', 42.30976867675781, 71.77765093461302, '24.17', '24.27', 2], ['04-07-2019 15:15', 40.968849182128906, 72.32635433645339, '24.17', '24.27', 2], ['04-07-2019 15:30', 40.6973762512207, 74.71394779604671, '24.17', '24.27', 2], ['04-07-2019 15:30', 40.30299377441406, 74.92958066431244, '24.17', '24.27', 2], ['04-07-2019 15:45', 40.854759216308594, 76.6088598166076, '24.17', '24.17', 2], ['04-07-2019 15:45', 39.96613311767578, 78.5213575789463, '24.17', '24.17', 2], ['04-07-2019 15:45', 40.04745864868164, 76.53522071318105, '24.17', '24.17', 2], ['04-07-2019 15:45', 41.380523681640625, 77.3616031579922, '24.17', '24.17', 2], ['04-07-2019 16:00', 41.14639663696289, 79.4906981452267, '26.78', '24.17', 1], ['04-07-2019 16:00', 42.23454666137695, 85.78648696920406, '26.78', '24.17', 1], ['04-07-2019 16:00', 41.338661193847656, 85.25271551561299, '26.78', '24.17', 1], ['04-07-2019 16:15', 39.20844650268555, 80.71522980202927, '27.12', '24.17', 2], ['04-07-2019 16:15', 40.265010833740234, 81.44868850544414, '27.12', '24.17', 1], ['04-07-2019 16:15', 38.77434539794922, 83.973139698401, '27.12', '24.17', 2], ['04-07-2019 16:30', 37.0457763671875, 85.33570397022105, '27.12', '24.17', 1], ['04-07-2019 16:30', 38.422698974609375, 84.19135575112975, '27.12', '24.17', 1], ['04-07-2019 16:30', 41.142486572265625, 85.74599367165492, '27.12', '24.17', 1], ['04-07-2019 16:45', 39.46037673950195, 85.39293903511796, '27.12', '24.17', 1], ['04-07-2019 16:45', 40.94813537597656, 84.56033636820797, '27.12', '24.17', 1], ['04-07-2019 16:45', 41.76634979248047, 84.79456963467473, '27.12', '24.17', 1], ['04-07-2019 17:00', 43.66445541381836, 83.35705086685407, '28.77', '27.12', 1], ['04-07-2019 17:00', 45.487518310546875, 72.0393080173884, '28.77', '27.12', 2], ['04-07-2019 17:00', 46.892738342285156, 72.38134169972898, '28.77', '27.12', 2], ['04-07-2019 17:15', 44.14687728881836, 82.2612025828995, '28.99', '27.12', 1], ['04-07-2019 17:15', 44.1998405456543, 80.22661872793981, '28.99', '27.12', 1], ['04-07-2019 17:15', 44.34450912475586, 79.55244522649069, '28.99', '27.12', 1], ['04-07-2019 17:30', 44.0238037109375, 76.68827990177707, '28.99', '27.12', 1], ['04-07-2019 17:30', 44.03107833862305, 74.52629814796447, '28.99', '27.12', 2], ['04-07-2019 17:45', 42.79063415527344, 71.12505742659036, '28.99', '27.12', 2], ['04-07-2019 17:45', 41.88738250732422, 70.94077007684575, '28.99', '27.12', 2], ['04-07-2019 17:45', 39.09858703613281, 69.70775328828304, '28.99', '27.12', 2], ['04-07-2019 17:45', 42.07440948486328, 70.97951236903793, '28.99', '27.12', 2], ['04-07-2019 18:00', 48.00258255004883, 71.86480151882098, '34.04', '27.12', 2], ['04-07-2019 18:15', 46.966888427734375, 72.51300949728018, '34.7', '34.04', 2], ['04-07-2019 18:15', 45.86922073364258, 72.69223760033194, '34.7', '34.04', 2], ['04-07-2019 18:15', 45.34542465209961, 71.57589433783768, '34.7', '34.04', 2], ['04-07-2019 18:15', 46.34355163574219, 71.28209729036621, '34.7', '34.04', 2], ['04-07-2019 18:30', 47.964534759521484, 70.32033104094243, '34.7', '34.04', 2], ['04-07-2019 18:30', 47.406131744384766, 71.96462149917166, '34.7', '34.04', 2], ['04-07-2019 18:45', 45.829830169677734, 72.4956909147334, '34.7', '34.04', 2], ['04-07-2019 18:45', 46.5009765625, 72.63878555978229, '34.7', '34.04', 2], ['04-07-2019 18:45', 45.787498474121094, 73.50602058964004, '34.7', '34.04', 2], ['04-07-2019 18:45', 46.60332107543945, 72.45561850649185, '34.7', '34.04', 2], ['05-07-2019 06:00', 44.095245361328125, 69.74919738783625, '62.52', '56.77', 2], ['05-07-2019 06:00', 45.86099624633789, 65.87046886696244, '62.52', '56.77', 2], ['05-07-2019 06:00', 46.19305419921875, 65.61955046987556, '62.52', '56.77', 2], ['05-07-2019 06:15', 41.14360809326172, 68.19734209155739, '63.28', '56.77', 2], ['05-07-2019 06:15', 42.63702392578125, 70.73056758491802, '63.28', '56.77', 2], ['05-07-2019 06:15', 44.07802200317383, 73.28269557358244, '63.28', '56.77', 2], ['05-07-2019 06:30', 45.05097961425781, 73.10445049984557, '63.28', '56.77', 2], ['05-07-2019 06:30', 45.60529327392578, 72.33578455901758, '63.28', '56.77', 2], ['05-07-2019 06:30', 46.793190002441406, 72.33896093713123, '63.28', '56.77', 2], ['05-07-2019 06:45', 46.79991149902344, 71.98737497528103, '63.28', '56.77', 2], ['05-07-2019 06:45', 47.08114242553711, 70.67088112220155, '63.28', '56.77', 2], ['05-07-2019 06:45', 46.60338592529297, 67.16331283944233, '63.28', '56.77', 2], ['05-07-2019 07:00', 46.13433837890625, 64.12143971381326, '66.78', '56.77', 2], ['05-07-2019 07:00', 43.480831146240234, 71.6211462656551, '66.78', '56.77', 2], ['05-07-2019 07:00', 43.701820373535156, 71.95013513347935, '66.78', '56.77', 2], ['05-07-2019 07:15', 45.28509521484375, 65.91900767234553, '67.24', '66.78', 2], ['05-07-2019 07:15', 41.61040496826172, 68.07942955159581, '67.24', '66.78', 2], ['05-07-2019 07:15', 41.67869567871094, 70.60927934470078, '67.24', '66.78', 2], ['05-07-2019 07:30', 42.45405197143555, 71.708832941799, '67.24', '66.78', 2], ['05-07-2019 07:30', 43.831722259521484, 73.31309818666854, '67.24', '66.78', 2], ['05-07-2019 07:30', 42.93363571166992, 73.58773580846653, '67.24', '66.78', 2], ['05-07-2019 07:45', 42.69055938720703, 72.6323405851111, '67.24', '66.78', 2], ['05-07-2019 07:45', 43.1862907409668, 73.02696495687228, '67.24', '66.78', 2], ['05-07-2019 07:45', 42.53131103515625, 72.59592768117413, '67.24', '66.78', 2], ['05-07-2019 08:00', 43.900211334228516, 73.1853555430846, '79.49', '66.78', 2], ['05-07-2019 08:00', 43.897674560546875, 71.63819108713432, '79.49', '66.78', 2], ['05-07-2019 08:00', 44.12510299682617, 73.29335956979976, '79.49', '66.78', 2], ['05-07-2019 08:15', 43.81230163574219, 71.70397300469703, '81.1', '66.78', 2], ['05-07-2019 08:15', 42.76479721069336, 71.1995268312916, '81.1', '66.78', 2], ['05-07-2019 08:15', 41.643798828125, 71.11128972545397, '81.1', '66.78', 2], ['05-07-2019 08:30', 43.065547943115234, 73.17372864894375, '81.1', '81.1', 2], ['05-07-2019 08:30', 43.070167541503906, 74.33312402743549, '81.1', '81.1', 2], ['05-07-2019 08:30', 44.40532684326172, 73.75193027186597, '81.1', '81.1', 2], ['05-07-2019 08:45', 45.75318145751953, 71.50518465227829, '81.1', '81.1', 2], ['05-07-2019 08:45', 44.98295211791992, 70.88808468873572, '81.1', '81.1', 2], ['05-07-2019 08:45', 43.84577941894531, 70.89990604074931, '81.1', '81.1', 2], ['05-07-2019 09:00', 44.07661819458008, 73.6066176131807, '81.19', '81.1', 2], ['05-07-2019 09:00', 40.28902053833008, 67.71160685306822, '81.19', '81.1', 2], ['05-07-2019 09:15', 45.27183532714844, 73.9757348740555, '81.2', '81.1', 2], ['05-07-2019 09:15', 44.47872543334961, 74.81030329213922, '81.2', '81.1', 2], ['05-07-2019 09:15', 42.38984298706055, 73.64182871874931, '81.2', '81.1', 2], ['05-07-2019 09:30', 40.971153259277344, 70.77371973025127, '81.2', '81.1', 2], ['05-07-2019 09:30', 38.89462661743164, 69.05671650473589, '81.2', '81.1', 2], ['05-07-2019 09:30', 40.88960647583008, 65.8977581586048, '81.2', '81.1', 2], ['05-07-2019 09:45', 38.188411712646484, 65.5702497262869, '81.2', '81.2', 2], ['05-07-2019 09:45', 41.95313262939453, 67.73768403500274, '81.2', '81.2', 2], ['05-07-2019 09:45', 40.65349197387695, 67.02160862585015, '81.2', '81.2', 2], ['05-07-2019 10:00', 37.23910140991211, 67.36951553691841, '85.16', '81.2', 2], ['05-07-2019 10:00', 33.40380859375, 67.52004563004736, '85.16', '81.2', 2], ['05-07-2019 10:00', 45.75550842285156, 62.41481943249869, '85.16', '81.2', 2], ['05-07-2019 10:00', 45.7135009765625, 65.20283730791137, '85.16', '81.2', 2], ['05-07-2019 10:15', 38.95326614379883, 70.83718972767316, '85.7', '81.2', 2], ['05-07-2019 10:15', 41.703067779541016, 71.83341541803543, '85.7', '81.2', 2], ['05-07-2019 10:15', 44.56204605102539, 69.44929426890641, '85.7', '81.2', 2], ['05-07-2019 10:30', 43.138362884521484, 69.85195381564144, '85.7', '81.2', 2], ['05-07-2019 10:30', 43.060237884521484, 71.48013312265098, '85.7', '81.2', 2], ['05-07-2019 10:30', 41.4734001159668, 72.29536448606748, '85.7', '81.2', 2], ['05-07-2019 10:45', 42.534507751464844, 74.59547307266494, '85.7', '81.2', 2], ['05-07-2019 10:45', 41.71385955810547, 75.47596009548141, '85.7', '81.2', 2], ['05-07-2019 10:45', 44.60726547241211, 68.89247839248715, '85.7', '81.2', 2], ['05-07-2019 11:00', 44.47486114501953, 69.712205774556, '57.39', '85.7', 2], ['05-07-2019 11:00', 43.180458068847656, 74.05512956515263, '57.39', '85.7', 2], ['05-07-2019 11:15', 42.49700927734375, 69.31217677346281, '53.67', '85.7', 2], ['05-07-2019 11:15', 41.404083251953125, 73.57370376350352, '53.67', '85.7', 2], ['05-07-2019 11:15', 42.26351547241211, 72.16533344801005, '53.67', '85.7', 2], ['05-07-2019 11:30', 43.261234283447266, 69.279099207788, '53.67', '85.7', 2], ['05-07-2019 11:30', 43.63181686401367, 68.90430506460574, '53.67', '85.7', 2], ['05-07-2019 11:30', 44.02900314331055, 67.58241610645251, '53.67', '85.7', 2], ['05-07-2019 11:45', 43.33637237548828, 68.5752806051751, '53.67', '85.7', 2], ['05-07-2019 11:45', 42.7808837890625, 69.79601674170378, '53.67', '85.7', 2], ['05-07-2019 11:45', 43.44041061401367, 71.68442921189697, '53.67', '85.7', 2], ['05-07-2019 12:00', 43.95994186401367, 74.71605812408555, '37.74', '85.7', 2], ['05-07-2019 12:00', 43.34178924560547, 74.0940005038898, '37.74', '85.7', 2], ['05-07-2019 12:00', 48.42286682128906, 73.61767043676548, '37.74', '85.7', 1], ['05-07-2019 12:00', 47.85700225830078, 73.3059547686112, '37.74', '85.7', 2], ['05-07-2019 12:00', 44.56241989135742, 74.10494848364345, '37.74', '85.7', 2], ['05-07-2019 12:15', 43.9256477355957, 69.30654358391253, '35.67', '37.74', 2], ['05-07-2019 12:15', 45.69978713989258, 69.53458515526532, '35.67', '37.74', 2], ['05-07-2019 12:15', 42.452056884765625, 71.44328177775509, '35.67', '37.74', 2], ['05-07-2019 12:30', 44.44691467285156, 74.25821459026321, '35.67', '37.74', 2], ['05-07-2019 12:30', 47.79112243652344, 69.94167643909888, '35.67', '37.74', 2], ['05-07-2019 12:30', 45.20016860961914, 73.68314411253442, '35.67', '37.74', 2], ['05-07-2019 12:45', 46.58027267456055, 71.85938729936848, '35.67', '37.74', 2], ['05-07-2019 12:45', 47.47608184814453, 71.34108366112078, '35.67', '37.74', 2], ['05-07-2019 13:00', 47.732444763183594, 72.68019378879006, '33.77', '37.74', 2], ['05-07-2019 13:00', 42.09381103515625, 75.70273862583046, '33.77', '37.74', 2], ['05-07-2019 13:00', 43.6030158996582, 77.75849563604952, '33.77', '37.74', 2], ['05-07-2019 13:15', 49.16463851928711, 66.66756011908225, '33.52', '37.74', 2], ['05-07-2019 13:15', 48.84360122680664, 66.8401300761509, '33.52', '37.74', 2], ['05-07-2019 13:15', 48.69580841064453, 67.56366093646001, '33.52', '37.74', 2], ['05-07-2019 13:30', 48.54941940307617, 70.3201849412677, '33.52', '33.52', 2], ['05-07-2019 13:30', 51.58707046508789, 64.11843831826523, '33.52', '33.52', 2], ['05-07-2019 13:30', 55.41630554199219, 63.5948061991963, '33.52', '33.52', 2], ['05-07-2019 13:45', 49.599552154541016, 72.40731992330313, '33.52', '33.52', 2], ['05-07-2019 13:45', 49.73986053466797, 70.76341809578258, '33.52', '33.52', 2], ['05-07-2019 14:00', 46.03905487060547, 79.2397348124807, '46.84', '33.52', 1], ['05-07-2019 14:00', 46.533226013183594, 83.16371923779413, '46.84', '33.52', 1], ['05-07-2019 14:00', 46.31171417236328, 77.98380537666151, '46.84', '33.52', 2], ['05-07-2019 14:00', 44.90877151489258, 78.46262707775918, '46.84', '33.52', 2], ['05-07-2019 14:15', 52.66333770751953, 77.81549117602759, '48.59', '33.52', 2], ['05-07-2019 14:15', 52.27170181274414, 72.24569881651573, '48.59', '33.52', 2], ['05-07-2019 14:30', 52.2878303527832, 74.6892927656674, '48.59', '33.52', 1], ['05-07-2019 14:30', 50.92672348022461, 77.14451009332556, '48.59', '33.52', 1], ['05-07-2019 14:30', 50.51738357543945, 74.11377181525393, '48.59', '33.52', 2], ['05-07-2019 14:30', 48.695308685302734, 76.49283267962025, '48.59', '33.52', 2], ['05-07-2019 14:45', 47.025115966796875, 78.12076040641904, '48.59', '48.59', 2], ['05-07-2019 14:45', 45.993412017822266, 77.9295358133498, '48.59', '48.59', 2], ['05-07-2019 15:00', 42.35204315185547, 78.2353421238804, '43.01', '48.59', 2], ['05-07-2019 15:00', 44.64734649658203, 78.28170254022957, '43.01', '48.59', 2], ['05-07-2019 15:00', 45.48759078979492, 74.89369375002556, '43.01', '48.59', 2], ['05-07-2019 15:15', 42.75360107421875, 78.08762378904174, '42.29', '48.59', 2], ['05-07-2019 15:15', 44.49858093261719, 77.22875389102306, '42.29', '48.59', 2], ['05-07-2019 15:30', 46.05408477783203, 76.75149202379235, '42.29', '48.59', 2], ['05-07-2019 15:30', 45.888423919677734, 76.06160061484545, '42.29', '48.59', 2], ['05-07-2019 15:30', 44.447269439697266, 75.8441161574222, '42.29', '48.59', 2], ['05-07-2019 15:30', 45.03816223144531, 75.9159404339357, '42.29', '48.59', 2], ['05-07-2019 15:45', 42.91178512573242, 76.27412886969339, '42.29', '48.59', 2], ['05-07-2019 15:45', 43.36753845214844, 76.08188514319767, '42.29', '48.59', 2], ['05-07-2019 15:45', 46.404502868652344, 76.95715307004055, '42.29', '48.59', 2], ['05-07-2019 16:00', 41.9370002746582, 76.61800781451504, '53.16', '42.29', 2], ['05-07-2019 16:00', 41.468109130859375, 77.96849767599554, '53.16', '42.29', 2], ['05-07-2019 16:00', 43.544029235839844, 81.98733742908342, '53.16', '42.29', 1], ['05-07-2019 16:00', 45.032047271728516, 82.89862680301222, '53.16', '42.29', 1], ['05-07-2019 16:15', 43.07234191894531, 79.9664008600724, '54.78', '42.29', 2], ['05-07-2019 16:15', 43.408321380615234, 79.53481640483498, '54.78', '42.29', 2], ['05-07-2019 16:15', 45.46689987182617, 77.42801900494163, '54.78', '42.29', 2], ['05-07-2019 16:30', 42.707881927490234, 78.23220761164674, '54.78', '42.29', 2], ['05-07-2019 16:30', 41.69843673706055, 78.44574179885292, '54.78', '42.29', 2], ['05-07-2019 16:30', 46.762542724609375, 79.15868767409624, '54.78', '42.29', 2], ['05-07-2019 16:45', 48.54484558105469, 79.64636050373839, '54.78', '42.29', 1], ['05-07-2019 16:45', 47.96058654785156, 80.4415158762016, '54.78', '42.29', 1], ['05-07-2019 16:45', 47.509037017822266, 80.20705812815024, '54.78', '42.29', 1], ['05-07-2019 17:00', 45.55078887939453, 82.64414913676174, '37.26', '42.29', 1], ['05-07-2019 17:00', 46.055049896240234, 86.6586107518954, '37.26', '42.29', 1], ['05-07-2019 17:15', 46.11859130859375, 83.17536476204914, '34.95', '37.26', 1], ['05-07-2019 17:15', 46.09980773925781, 83.27853341059931, '34.95', '37.26', 1], ['05-07-2019 17:15', 46.020912170410156, 83.20974433266163, '34.95', '37.26', 1], ['05-07-2019 17:30', 45.51949691772461, 83.49496701697218, '34.95', '37.26', 1], ['05-07-2019 17:30', 45.092864990234375, 84.18489328854098, '34.95', '37.26', 1], ['05-07-2019 17:30', 44.932945251464844, 84.57033958289124, '34.95', '37.26', 1], ['05-07-2019 17:45', 45.458560943603516, 85.25316469842107, '34.95', '37.26', 1], ['05-07-2019 17:45', 45.65342712402344, 85.4364226341514, '34.95', '37.26', 1], ['05-07-2019 17:45', 45.461666107177734, 86.15748200725278, '34.95', '37.26', 1], ['05-07-2019 18:00', 46.37017059326172, 86.49479095891878, '34.71', '37.26', 1], ['05-07-2019 18:00', 46.20779037475586, 85.83644755088038, '34.71', '37.26', 1], ['05-07-2019 18:00', 47.444435119628906, 76.21092963986085, '34.71', '37.26', 1], ['05-07-2019 18:15', 46.022308349609375, 86.03501249786301, '34.68', '37.26', 1], ['05-07-2019 18:15', 45.8142204284668, 85.11645311594042, '34.68', '37.26', 1], ['05-07-2019 18:15', 45.75673294067383, 83.40284092191658, '34.68', '37.26', 1], ['05-07-2019 18:30', 46.57164001464844, 83.41112481858535, '34.68', '34.68', 1], ['05-07-2019 18:30', 47.246009826660156, 83.06777336043545, '34.68', '34.68', 1], ['05-07-2019 18:30', 47.03118896484375, 82.87220632294904, '34.68', '34.68', 1], ['05-07-2019 18:45', 46.86329650878906, 82.37620979102319, '34.68', '34.68', 1], ['05-07-2019 18:45', 46.96382522583008, 81.91140898361724, '34.68', '34.68', 1], ['05-07-2019 18:45', 47.20702362060547, 79.79747513656865, '34.68', '34.68', 1], ['06-07-2019 06:00', 43.01713943481445, 69.93909698093101, '65.12', '41.67', 2], ['06-07-2019 06:00', 43.728084564208984, 69.45715835877651, '65.12', '41.67', 2], ['06-07-2019 06:00', 34.45517349243164, 63.11700025433872, '65.12', '41.67', 2], ['06-07-2019 06:15', 41.52444839477539, 69.99106677721721, '66.88', '65.12', 2], ['06-07-2019 06:15', 42.283348083496094, 69.94579194377745, '66.88', '65.12', 2], ['06-07-2019 06:15', 43.008583068847656, 68.72978222477654, '66.88', '65.12', 2], ['06-07-2019 06:30', 43.20502471923828, 69.16915503847754, '66.88', '65.12', 2], ['06-07-2019 06:30', 42.375526428222656, 69.1935814857993, '66.88', '65.12', 2], ['06-07-2019 06:30', 40.593441009521484, 67.6863316877902, '66.88', '65.12', 2], ['06-07-2019 06:45', 37.23293685913086, 66.16183486143221, '66.88', '65.12', 2], ['06-07-2019 06:45', 36.15702819824219, 65.39771527686301, '66.88', '65.12', 2], ['06-07-2019 06:45', 34.33238220214844, 63.42578041758334, '66.88', '65.12', 2], ['06-07-2019 07:00', 33.31620407104492, 63.14681820466912, '46.68', '65.12', 2], ['06-07-2019 07:00', 32.09623718261719, 63.13615562532763, '46.68', '65.12', 2], ['06-07-2019 07:15', 31.790021896362305, 62.30649992299969, '44.02', '65.12', 2], ['06-07-2019 07:15', 32.105804443359375, 62.062344012880445, '44.02', '65.12', 2], ['06-07-2019 07:15', 31.880584716796875, 61.14375577760161, '44.02', '65.12', 2], ['06-07-2019 07:30', 31.75802230834961, 60.2603103074108, '44.02', '44.02', 2], ['06-07-2019 07:30', 32.491634368896484, 60.525276809038075, '44.02', '44.02', 2], ['06-07-2019 07:30', 32.64728546142578, 60.28437484311095, '44.02', '44.02', 2], ['06-07-2019 07:45', 32.261138916015625, 60.073493925419974, '44.02', '44.02', 2], ['06-07-2019 09:15', 28.288034439086914, 53.782417680756275, '44.67', '36.69', 2], ['06-07-2019 10:00', 31.67783546447754, 57.72271446453684, '51.44', '44.67', 2], ['03-07-2019 12:00', 44.84650421142578, 73.70845157017446, '48.3', '49.9', 2], ['03-07-2019 12:00', 43.99489212036133, 71.24182355357836, '48.3', '49.9', 2], ['03-07-2019 12:45', 27.03084945678711, 87.14618474424532, '46', '49.9', 1], ['03-07-2019 12:45', 41.643821716308594, 69.9997547113679, '46', '49.9', 2], ['03-07-2019 13:00', 48.000370025634766, 78.20810417221277, '45.1', '49.9', 1], ['03-07-2019 13:00', 39.77643585205078, 62.168190065878555, '45.1', '49.9', 2], ['03-07-2019 13:00', 40.43899917602539, 65.65867792455376, '45.1', '49.9', 2], ['03-07-2019 13:00', 42.42698669433594, 64.55835926903468, '45.1', '49.9', 2], ['03-07-2019 13:00', 40.84794235229492, 62.46975411412204, '45.1', '49.9', 2], ['03-07-2019 13:15', 30.36174201965332, 73.36168491542388, '44.8', '45.1', 2], ['03-07-2019 13:15', 36.81718063354492, 64.55863473206628, '44.8', '45.1', 2], ['03-07-2019 13:15', 37.43336486816406, 63.393022453747946, '44.8', '45.1', 2], ['03-07-2019 13:15', 45.62522506713867, 74.48179018819941, '44.8', '45.1', 2], ['03-07-2019 13:15', 41.117855072021484, 72.77184569676373, '44.8', '45.1', 2], ['03-07-2019 13:30', 40.46300506591797, 67.1405808717346, '45.2', '45.1', 2], ['03-07-2019 13:30', 41.72124481201172, 69.10883196106494, '45.2', '45.1', 2], ['03-07-2019 13:30', 41.09001541137695, 66.59284503640933, '45.2', '45.1', 2], ['03-07-2019 13:30', 42.41992950439453, 67.32414200426584, '45.2', '45.1', 2], ['03-07-2019 13:30', 42.95270919799805, 68.39671375525192, '45.2', '45.1', 2], ['03-07-2019 13:45', 43.32246398925781, 67.00720793458113, '44.3', '45.1', 2], ['03-07-2019 13:45', 43.95906448364258, 67.61238817583926, '44.3', '45.1', 2], ['03-07-2019 13:45', 43.65009689331055, 67.39100659613177, '44.3', '45.1', 2], ['03-07-2019 13:45', 41.60107421875, 64.6804797914882, '44.3', '45.1', 2], ['03-07-2019 13:45', 43.770050048828125, 65.54707044073692, '44.3', '45.1', 2], ['03-07-2019 14:00', 40.42620849609375, 62.65636022536055, '42.8', '45.1', 2], ['03-07-2019 14:00', 39.58384704589844, 61.14785443180463, '42.8', '45.1', 2], ['03-07-2019 14:00', 41.44731140136719, 62.88798762973866, '42.8', '45.1', 2], ['03-07-2019 14:00', 35.303504943847656, 60.80083132210865, '42.8', '45.1', 2], ['03-07-2019 14:00', 34.369014739990234, 57.25506880927828, '42.8', '45.1', 2], ['03-07-2019 14:00', 34.2760124206543, 54.95993512492615, '42.8', '45.1', 2], ['03-07-2019 14:15', 43.119720458984375, 65.75418233034495, '42.7', '45.1', 2], ['03-07-2019 14:15', 41.81938934326172, 62.95712876889074, '42.7', '45.1', 2], ['03-07-2019 14:15', 40.74379348754883, 61.82035164007285, '42.7', '45.1', 2], ['03-07-2019 14:15', 40.02342224121094, 61.761000720173065, '42.7', '45.1', 2], ['03-07-2019 14:15', 41.303401947021484, 63.6821202573774, '42.7', '45.1', 2], ['03-07-2019 14:30', 40.55307388305664, 61.9119973684541, '42.5', '42.7', 2], ['03-07-2019 14:30', 36.599586486816406, 58.96766077777111, '42.5', '42.7', 2], ['03-07-2019 14:30', 37.35235595703125, 60.217695049790834, '42.5', '42.7', 2], ['03-07-2019 14:30', 33.52839660644531, 58.32293769276199, '42.5', '42.7', 2], ['03-07-2019 14:45', 34.67660140991211, 60.60102677528796, '42.2', '42.7', 2], ['03-07-2019 14:45', 35.194862365722656, 61.745096730956654, '42.2', '42.7', 2], ['03-07-2019 14:45', 33.50731658935547, 59.697194103671684, '42.2', '42.7', 2], ['03-07-2019 14:45', 32.92137145996094, 59.614897296363296, '42.2', '42.7', 2], ['03-07-2019 14:45', 34.77986145019531, 61.074073399932196, '42.2', '42.7', 2], ['03-07-2019 15:00', 33.94630813598633, 55.934260460977825, '42.5', '42.7', 2], ['03-07-2019 15:00', 34.12708282470703, 57.32145935151182, '42.5', '42.7', 2], ['03-07-2019 15:00', 35.65662384033203, 54.97172792117619, '42.5', '42.7', 2], ['03-07-2019 15:00', 35.424957275390625, 55.077886681954205, '42.5', '42.7', 2], ['03-07-2019 15:15', 33.37844467163086, 53.69139736140078, '41.6', '42.7', 2], ['03-07-2019 15:15', 33.853424072265625, 54.25136441635344, '41.6', '42.7', 2], ['03-07-2019 15:15', 35.39251708984375, 53.249376909957114, '41.6', '42.7', 2], ['03-07-2019 15:15', 37.87693786621094, 52.804405392217596, '41.6', '42.7', 2], ['03-07-2019 15:15', 39.06657028198242, 52.576911315931675, '41.6', '42.7', 2], ['03-07-2019 15:30', 39.50400924682617, 52.3159826379366, '41.3', '42.7', 2], ['03-07-2019 15:30', 38.77254867553711, 52.049033514294074, '41.3', '42.7', 2], ['03-07-2019 15:30', 40.181026458740234, 51.83435254739008, '41.3', '42.7', 2], ['03-07-2019 15:30', 40.93743133544922, 52.03132863181992, '41.3', '42.7', 2], ['03-07-2019 15:30', 40.42948532104492, 52.0623997140488, '41.3', '42.7', 2], ['03-07-2019 15:45', 39.30942153930664, 51.611754106732356, '41.7', '41.3', 2], ['03-07-2019 15:45', 37.02857208251953, 52.023619883571676, '41.7', '41.3', 2], ['03-07-2019 15:45', 39.344032287597656, 51.31131363691637, '41.7', '41.3', 2], ['03-07-2019 15:45', 38.964927673339844, 51.34062762148361, '41.7', '41.3', 2], ['03-07-2019 15:45', 35.18741226196289, 54.69023153373612, '41.7', '41.3', 2], ['03-07-2019 16:00', 35.53483581542969, 55.954684298045834, '42', '41.3', 2], ['03-07-2019 16:00', 35.20610046386719, 55.63816559549932, '42', '41.3', 2], ['03-07-2019 16:00', 35.88021469116211, 55.73671399903398, '42', '41.3', 2], ['03-07-2019 16:00', 32.491302490234375, 50.91212287215642, '42', '41.3', 2], ['03-07-2019 16:00', 32.752845764160156, 53.03527237780598, '42', '41.3', 2], ['03-07-2019 16:15', 35.47331237792969, 55.71089168395904, '43', '41.3', 2], ['03-07-2019 16:15', 34.917259216308594, 55.79693084127662, '43', '41.3', 2], ['03-07-2019 16:15', 35.25566101074219, 56.31063939274256, '43', '41.3', 2], ['03-07-2019 16:15', 35.549827575683594, 56.73272958168828, '43', '41.3', 2], ['03-07-2019 16:15', 34.00891876220703, 56.127875530402214, '43', '41.3', 2], ['03-07-2019 16:30', 33.6597900390625, 55.51471445862568, '43.3', '41.3', 2], ['03-07-2019 16:30', 34.3801383972168, 56.01140354345678, '43.3', '41.3', 2], ['03-07-2019 16:30', 33.27317428588867, 54.772667632938145, '43.3', '41.3', 2], ['03-07-2019 16:30', 32.772308349609375, 52.82943188639805, '43.3', '41.3', 2], ['03-07-2019 16:30', 31.824430465698242, 54.14407919853808, '43.3', '41.3', 2], ['03-07-2019 16:45', 32.019012451171875, 51.9207650016243, '43.2', '41.3', 2], ['03-07-2019 16:45', 32.304901123046875, 51.841811046123055, '43.2', '41.3', 2], ['03-07-2019 16:45', 31.798093795776367, 52.511197868061366, '43.2', '41.3', 2], ['03-07-2019 16:45', 32.31094741821289, 53.64331876200539, '43.2', '41.3', 2], ['03-07-2019 16:45', 32.85630416870117, 52.84243199789485, '43.2', '41.3', 2], ['03-07-2019 17:00', 33.31684875488281, 55.44374362854052, '43.5', '43.2', 2], ['03-07-2019 17:00', 33.35747528076172, 55.38036659492477, '43.5', '43.2', 2], ['03-07-2019 17:00', 33.27360534667969, 55.56363290592641, '43.5', '43.2', 2], ['03-07-2019 17:00', 40.54258728027344, 65.62329002600424, '43.5', '43.2', 2], ['03-07-2019 17:00', 40.89186096191406, 64.9955912578523, '43.5', '43.2', 2], ['03-07-2019 17:15', 33.293792724609375, 55.82389490525982, '43.8', '43.2', 2], ['03-07-2019 17:15', 33.42186737060547, 56.221120781678174, '43.8', '43.2', 2], ['03-07-2019 17:15', 32.86410140991211, 56.293482584337404, '43.8', '43.2', 2], ['03-07-2019 17:15', 32.72015380859375, 56.50232878618169, '43.8', '43.2', 2], ['03-07-2019 17:15', 32.57271194458008, 57.59059994867434, '43.8', '43.2', 2], ['03-07-2019 17:30', 32.856746673583984, 58.2171056453981, '44', '43.2', 2], ['03-07-2019 17:30', 33.508663177490234, 58.39647803725506, '44', '43.2', 2], ['03-07-2019 17:30', 33.93209457397461, 60.39114692962572, '44', '43.2', 2], ['03-07-2019 17:30', 34.353607177734375, 62.25746458637788, '44', '43.2', 2], ['03-07-2019 17:30', 34.744022369384766, 63.05545432545749, '44', '43.2', 2], ['03-07-2019 17:45', 36.26826095581055, 64.77486771126883, '44.8', '43.2', 2], ['03-07-2019 17:45', 39.674190521240234, 66.14842427332886, '44.8', '43.2', 2], ['03-07-2019 17:45', 41.78004455566406, 67.18281888509401, '44.8', '43.2', 2], ['03-07-2019 17:45', 41.6541862487793, 66.79437978994466, '44.8', '43.2', 2], ['03-07-2019 17:45', 40.86058044433594, 66.04859400460298, '44.8', '43.2', 2], ['03-07-2019 18:00', 40.60212326049805, 62.23190083013382, '45.2', '43.2', 2], ['03-07-2019 18:00', 42.4056510925293, 65.7157420285085, '45.2', '43.2', 2], ['03-07-2019 18:00', 43.05864334106445, 66.62803696789764, '45.2', '43.2', 2], ['03-07-2019 18:00', 48.344566345214844, 71.06741007564274, '45.2', '43.2', 2], ['03-07-2019 18:00', 48.06594467163086, 70.57744630770185, '45.2', '43.2', 2], ['03-07-2019 18:15', 43.34912109375, 67.19196858826918, '45.2', '45.2', 2], ['03-07-2019 18:15', 43.72441101074219, 67.63612072785189, '45.2', '45.2', 2], ['03-07-2019 18:15', 44.41712188720703, 67.65446351745169, '45.2', '45.2', 2], ['03-07-2019 18:15', 44.345252990722656, 67.11810755226551, '45.2', '45.2', 2], ['03-07-2019 18:15', 44.459877014160156, 68.10928656505484, '45.2', '45.2', 2], ['03-07-2019 18:30', 44.99480056762695, 69.43218938859762, '45', '45.2', 2], ['03-07-2019 18:30', 44.594200134277344, 68.54825900272087, '45', '45.2', 2], ['03-07-2019 18:30', 44.417911529541016, 69.90479110964318, '45', '45.2', 2], ['03-07-2019 18:30', 44.893314361572266, 69.61580395334934, '45', '45.2', 2], ['03-07-2019 18:30', 45.397544860839844, 69.73449146659735, '45', '45.2', 2], ['03-07-2019 18:45', 46.643733978271484, 69.89781795003482, '45', '45.2', 2], ['03-07-2019 18:45', 46.39075469970703, 70.79302296186064, '45', '45.2', 2], ['03-07-2019 18:45', 47.14408493041992, 71.24447585145934, '45', '45.2', 2], ['03-07-2019 18:45', 47.81333923339844, 71.72313721144265, '45', '45.2', 2], ['03-07-2019 18:45', 48.44558334350586, 71.63714773392815, '45', '45.2', 2], ['04-07-2019 06:00', 51.13113784790039, 73.93370855069263, '55.5', '55.2', 2], ['04-07-2019 06:15', 41.36305236816406, 67.2074916929629, '55.5', '55.2', 2], ['04-07-2019 06:30', 45.65599822998047, 70.44971624135906, '55.6', '55.2', 2], ['04-07-2019 06:45', 52.609683990478516, 70.84597404201014, '57.5', '55.6', 2], ['04-07-2019 07:00', 51.818641662597656, 72.49927821455208, '62.7', '55.6', 2], ['04-07-2019 07:15', 42.4664192199707, 78.1265976946958, '65.4', '55.6', 2], ['04-07-2019 07:30', 41.03298568725586, 75.28357453425818, '64.8', '55.6', 2], ['04-07-2019 07:45', 44.302947998046875, 76.44494016412266, '61.6', '55.6', 2], ['04-07-2019 08:00', 51.17847442626953, 70.93146895763654, '59', '61.6', 2], ['04-07-2019 08:15', 53.136268615722656, 71.30268542654423, '56.4', '61.6', 2], ['04-07-2019 08:30', 51.65346908569336, 70.95909218257295, '54.1', '61.6', 2], ['04-07-2019 08:45', 52.20424270629883, 70.58793026465538, '52', '61.6', 2], ['04-07-2019 09:00', 47.06841278076172, 69.53306081461703, '51.2', '61.6', 2], ['04-07-2019 09:15', 49.8055534362793, 70.9275223642755, '50', '51.2', 2], ['04-07-2019 09:30', 47.70137023925781, 70.64064281472653, '49.3', '51.2', 2], ['04-07-2019 09:45', 45.13555145263672, 69.88878245795095, '48', '51.2', 2], ['04-07-2019 10:00', 43.29218673706055, 63.644743458073265, '45.9', '51.2', 2], ['04-07-2019 10:15', 46.194515228271484, 65.08592041788144, '45.5', '51.2', 2], ['04-07-2019 10:30', 40.1721076965332, 61.3182606641686, '46.6', '45.5', 2], ['04-07-2019 10:45', 45.580745697021484, 60.70051806483744, '46.6', '45.5', 2], ['04-07-2019 11:00', 40.17436599731445, 69.47594790819117, '46.8', '45.5', 2], ['04-07-2019 11:15', 41.3983039855957, 66.6850779315817, '45.6', '45.5', 2], ['04-07-2019 11:30', 38.88397216796875, 63.70969248405364, '45.7', '45.5', 2], ['04-07-2019 11:45', 43.64448165893555, 64.03733234987232, '44.6', '45.7', 2], ['04-07-2019 12:15', 42.83796691894531, 67.63817583438598, '50.2', '45.7', 2], ['04-07-2019 12:30', 34.43950271606445, 76.38718069543147, '50.8', '45.7', 2], ['04-07-2019 12:45', 48.2115592956543, 70.45796904933408, '55.7', '45.7', 2], ['04-07-2019 13:00', 47.440338134765625, 72.08560870059846, '58.4', '55.7', 2], ['04-07-2019 13:15', 45.25159454345703, 72.06644740254184, '58.6', '55.7', 2], ['04-07-2019 13:30', 48.56937789916992, 68.47572797752566, '58.7', '55.7', 2], ['04-07-2019 13:45', 44.663330078125, 69.77658570245046, '63.1', '55.7', 2], ['04-07-2019 14:00', 45.8408203125, 69.71227535373913, '65.9', '55.7', 2], ['04-07-2019 14:15', 43.93928527832031, 68.01286488857535, '67.2', '65.9', 2], ['04-07-2019 14:30', 44.78974533081055, 68.32592996256719, '66.9', '65.9', 2], ['04-07-2019 14:30', 44.899845123291016, 68.00309067642061, '66.9', '65.9', 2], ['04-07-2019 14:30', 45.45888137817383, 66.6710670764233, '66.9', '65.9', 2], ['04-07-2019 14:30', 45.19880676269531, 67.04885828132682, '66.9', '65.9', 2]]\n"
          ],
          "name": "stdout"
        }
      ]
    },
    {
      "cell_type": "code",
      "metadata": {
        "id": "ZwnLQHaiUJR-",
        "colab_type": "code",
        "colab": {}
      },
      "source": [
        "\n",
        "\n",
        "## SHADIPUR \n",
        "\n",
        "df_ = pd.read_csv('/content/shadipur_labels.csv')\n",
        "data_ = df_.mask(df_.eq('None')).dropna()\n",
        "file_ = data_.to_csv('/content/shadipur_labels_new.csv')\n",
        "\n",
        "\n",
        "k=0\n",
        "cpcb=[]\n",
        "val ='67.11 '\n",
        "with open('/content/shadipur_labels_new.csv') as file:\n",
        "  reader = csv.reader(file, delimiter =',')\n",
        "  for row in reader:\n",
        "    k+=1\n",
        "    if(k>3):\n",
        "      l=[]\n",
        "      l.append(row[1]) #DATE \n",
        "      l.append(row[3]) #PM\n",
        "      l.append(val)\n",
        "      if(k%5==0):\n",
        "        val=row[3]\n",
        "      cpcb.append(l) "
      ],
      "execution_count": 0,
      "outputs": []
    },
    {
      "cell_type": "code",
      "metadata": {
        "id": "vtv6OHZ0UYhU",
        "colab_type": "code",
        "colab": {}
      },
      "source": [
        "\n",
        "##TIMESTAMP MODIFICATION \n",
        "m_tmp=[]\n",
        "for tmp in shadipur:\n",
        "  l=[]\n",
        "  temp=tmp[0]\n",
        "  temp=temp[-24:-5]\n",
        "  temp=temp.split('-')\n",
        "  newtemp=temp[2].split(' ')\n",
        "  newesttemp=newtemp[1].split(':')\n",
        "  j=int(newesttemp[1])\n",
        "  #print(j)\n",
        "  if(j<=7.5):\n",
        "    final = newtemp[0] + '-' + temp[1] + '-' + temp[0] + ' ' + newesttemp[0] + ':' + '00'\n",
        "  elif(j<=15 or j<=22.5):\n",
        "    final = newtemp[0] + '-' + temp[1] + '-' + temp[0] + ' ' + newesttemp[0] + ':' + '15'\n",
        "  elif(j<=30 or j<=37.5):\n",
        "    final = newtemp[0] + '-' + temp[1] + '-' + temp[0] + ' ' + newesttemp[0] + ':' + '30'\n",
        "  elif(j<=45 or j<=52.5):\n",
        "    final = newtemp[0] + '-' + temp[1] + '-' + temp[0] + ' ' + newesttemp[0] + ':' + '45'\n",
        "  elif(j>52.5):\n",
        "    final = newtemp[0] + '-' + temp[1] + '-' + temp[0] + ' ' + newesttemp[0] + ':' + '00'\n",
        "  l.append(tmp[0])\n",
        "  l.append(final)\n",
        "  l.append(tmp[1])\n",
        "  m_tmp.append(l) \n",
        " "
      ],
      "execution_count": 0,
      "outputs": []
    },
    {
      "cell_type": "code",
      "metadata": {
        "id": "W-AXAPbGUdAQ",
        "colab_type": "code",
        "colab": {}
      },
      "source": [
        "\n",
        "for val in cpcb:\n",
        "  for date in m_tmp:\n",
        "    if(val[0] == date[1]):\n",
        "      #print(date[0])\n",
        "      im = date[2]\n",
        "      l=[]\n",
        "      l.append(val[0])\n",
        "      #l.append(np.ndarray.flatten(transmission(im)))\n",
        "      l.append(entropy(im))\n",
        "      l.append(contrast(im))\n",
        "      l.append(val[1])\n",
        "      l.append(val[2])\n",
        "      l.append(trans_deg(im))\n",
        "      #print('   -   -  ' +str(l))\n",
        "      feat.append(l)"
      ],
      "execution_count": 0,
      "outputs": []
    },
    {
      "cell_type": "code",
      "metadata": {
        "id": "OzS07r9ITQyy",
        "colab_type": "code",
        "colab": {}
      },
      "source": [
        "# ITO \n",
        "df_ = pd.read_csv('/content/ito_labels.csv')\n",
        "data_ = df_.mask(df_.eq('None')).dropna()\n",
        "file_ = data_.to_csv('/content/ito_labels_new.csv')\n",
        "\n",
        "\n",
        "k=0\n",
        "cpcb=[]\n",
        "val ='104 '\n",
        "with open('/content/ito_labels_new.csv') as file:\n",
        "  reader = csv.reader(file, delimiter =',')\n",
        "  for row in reader:\n",
        "    k+=1\n",
        "    if(k>3):\n",
        "      l=[]\n",
        "      l.append(row[1]) #DATE \n",
        "      l.append(row[3]) #PM\n",
        "      l.append(val)\n",
        "      if(k%5==0):\n",
        "        val=row[3]\n",
        "      cpcb.append(l) "
      ],
      "execution_count": 0,
      "outputs": []
    },
    {
      "cell_type": "code",
      "metadata": {
        "id": "jN4gXE-HIX09",
        "colab_type": "code",
        "outputId": "70828d1c-9df6-4ec6-bb73-cc28e48086e9",
        "colab": {
          "base_uri": "https://localhost:8080/",
          "height": 54
        }
      },
      "source": [
        "print(cpcb)"
      ],
      "execution_count": 172,
      "outputs": [
        {
          "output_type": "stream",
          "text": [
            "[['10-06-2019 00:00', '104', '104 '], ['10-06-2019 00:15', '103', '104 '], ['10-06-2019 00:30', '105', '103'], ['10-06-2019 00:45', '105', '103'], ['10-06-2019 01:00', '106', '103'], ['10-06-2019 01:15', '106', '103'], ['10-06-2019 01:30', '104', '103'], ['10-06-2019 01:45', '101', '104'], ['10-06-2019 02:00', '99', '104'], ['10-06-2019 02:15', '98', '104'], ['10-06-2019 02:30', '96', '104'], ['10-06-2019 02:45', '95', '104'], ['10-06-2019 03:00', '97', '95'], ['10-06-2019 03:15', '98', '95'], ['10-06-2019 03:30', '98', '95'], ['10-06-2019 03:45', '99', '95'], ['10-06-2019 04:00', '97', '95'], ['10-06-2019 04:15', '96', '97'], ['10-06-2019 04:30', '92', '97'], ['10-06-2019 04:45', '88', '97'], ['10-06-2019 05:00', '83', '97'], ['10-06-2019 05:15', '82', '97'], ['10-06-2019 05:30', '84', '82'], ['10-06-2019 05:45', '88', '82'], ['10-06-2019 06:00', '92', '82'], ['10-06-2019 06:15', '93', '82'], ['10-06-2019 06:30', '93', '82'], ['10-06-2019 06:45', '93', '93'], ['10-06-2019 07:00', '94', '93'], ['10-06-2019 07:15', '96', '93'], ['10-06-2019 07:30', '96', '93'], ['10-06-2019 07:45', '94', '93'], ['10-06-2019 08:00', '91', '94'], ['10-06-2019 08:15', '88', '94'], ['10-06-2019 08:30', '86', '94'], ['10-06-2019 08:45', '86', '94'], ['10-06-2019 09:00', '85', '94'], ['10-06-2019 09:15', '86', '85'], ['10-06-2019 09:30', '89', '85'], ['10-06-2019 09:45', '88', '85'], ['10-06-2019 10:00', '88', '85'], ['10-06-2019 10:15', '83', '85'], ['10-06-2019 10:30', '73', '83'], ['10-06-2019 10:45', '71', '83'], ['10-06-2019 11:00', '68', '83'], ['10-06-2019 11:15', '68', '83'], ['10-06-2019 11:30', '70', '83'], ['10-06-2019 11:45', '65', '70'], ['10-06-2019 12:00', '61', '70'], ['10-06-2019 12:15', '60', '70'], ['10-06-2019 12:30', '59', '70'], ['10-06-2019 12:45', '60', '70'], ['10-06-2019 13:00', '62', '60'], ['10-06-2019 13:15', '63', '60'], ['10-06-2019 13:30', '63', '60'], ['10-06-2019 13:45', '61', '60'], ['10-06-2019 14:00', '58', '60'], ['10-06-2019 14:15', '57', '58'], ['10-06-2019 14:30', '58', '58'], ['10-06-2019 14:45', '59', '58'], ['10-06-2019 15:00', '56', '58'], ['10-06-2019 15:15', '51', '58'], ['10-06-2019 15:30', '46', '51'], ['10-06-2019 15:45', '47', '51'], ['10-06-2019 16:00', '52', '51'], ['10-06-2019 16:15', '58', '51'], ['10-06-2019 16:30', '61', '51'], ['10-06-2019 16:45', '59', '61'], ['10-06-2019 17:00', '56', '61'], ['10-06-2019 17:15', '54', '61'], ['10-06-2019 17:30', '55', '61'], ['10-06-2019 17:45', '55', '61'], ['10-06-2019 18:00', '54', '55'], ['10-06-2019 18:15', '54', '55'], ['10-06-2019 18:30', '56', '55'], ['10-06-2019 18:45', '57', '55'], ['10-06-2019 19:00', '61', '55'], ['10-06-2019 19:15', '64', '61'], ['10-06-2019 19:30', '67', '61'], ['10-06-2019 19:45', '71', '61'], ['10-06-2019 20:00', '79', '61'], ['10-06-2019 20:15', '85', '61'], ['10-06-2019 20:30', '88', '85'], ['10-06-2019 20:45', '90', '85'], ['10-06-2019 21:00', '90', '85'], ['10-06-2019 21:15', '93', '85'], ['10-06-2019 21:30', '99', '85'], ['10-06-2019 21:45', '107', '99'], ['10-06-2019 22:00', '114', '99'], ['10-06-2019 22:15', '117', '99'], ['10-06-2019 22:30', '118', '99'], ['10-06-2019 22:45', '118', '99'], ['10-06-2019 23:00', '114', '118'], ['10-06-2019 23:15', '115', '118'], ['10-06-2019 23:30', '116', '118'], ['11-06-2019 00:00', '122', '118'], ['11-06-2019 00:15', '120', '118'], ['11-06-2019 00:30', '118', '120'], ['11-06-2019 00:45', '113', '120'], ['11-06-2019 01:00', '110', '120'], ['11-06-2019 01:15', '107', '120'], ['11-06-2019 01:30', '102', '120'], ['11-06-2019 01:45', '95', '102'], ['11-06-2019 02:00', '89', '102'], ['11-06-2019 02:15', '86', '102'], ['11-06-2019 02:30', '87', '102'], ['11-06-2019 02:45', '93', '102'], ['11-06-2019 03:00', '99', '93'], ['11-06-2019 03:15', '106', '93'], ['11-06-2019 03:30', '113', '93'], ['11-06-2019 03:45', '117', '93'], ['11-06-2019 04:00', '122', '93'], ['11-06-2019 04:15', '125', '122'], ['11-06-2019 04:30', '128', '122'], ['11-06-2019 04:45', '134', '122'], ['11-06-2019 05:00', '140', '122'], ['11-06-2019 05:15', '149', '122'], ['11-06-2019 05:30', '159', '149'], ['11-06-2019 05:45', '167', '149'], ['11-06-2019 06:00', '173', '149'], ['11-06-2019 06:15', '176', '149'], ['11-06-2019 06:30', '178', '149'], ['11-06-2019 06:45', '180', '178'], ['11-06-2019 07:00', '181', '178'], ['11-06-2019 07:15', '182', '178'], ['11-06-2019 07:30', '186', '178'], ['11-06-2019 07:45', '192', '178'], ['11-06-2019 08:00', '201', '192'], ['11-06-2019 08:15', '211', '192'], ['11-06-2019 08:30', '219', '192'], ['11-06-2019 08:45', '223', '192'], ['11-06-2019 09:00', '230', '192'], ['11-06-2019 09:15', '237', '230'], ['11-06-2019 09:30', '245', '230'], ['11-06-2019 09:45', '254', '230'], ['11-06-2019 10:00', '256', '230'], ['11-06-2019 10:15', '250', '230'], ['11-06-2019 10:30', '235', '250'], ['11-06-2019 10:45', '206', '250'], ['11-06-2019 11:00', '179', '250'], ['11-06-2019 11:15', '155', '250'], ['11-06-2019 11:30', '138', '250'], ['11-06-2019 11:45', '130', '138'], ['11-06-2019 12:00', '118', '138'], ['11-06-2019 12:15', '108', '138'], ['11-06-2019 12:30', '97', '138'], ['11-06-2019 12:45', '85', '138'], ['11-06-2019 13:00', '72', '85'], ['11-06-2019 13:15', '63', '85'], ['11-06-2019 13:30', '56', '85'], ['11-06-2019 13:45', '53', '85'], ['11-06-2019 14:00', '55', '85'], ['11-06-2019 14:15', '55', '55'], ['11-06-2019 14:30', '54', '55'], ['11-06-2019 14:45', '54', '55'], ['11-06-2019 15:00', '58', '55'], ['11-06-2019 15:15', '62', '55'], ['11-06-2019 15:30', '68', '62'], ['11-06-2019 15:45', '72', '62'], ['11-06-2019 16:00', '70', '62'], ['11-06-2019 16:15', '69', '62'], ['11-06-2019 16:30', '68', '62'], ['11-06-2019 16:45', '67', '68'], ['11-06-2019 17:00', '66', '68'], ['11-06-2019 17:15', '67', '68'], ['11-06-2019 17:30', '65', '68'], ['11-06-2019 17:45', '67', '68'], ['11-06-2019 18:00', '69', '67'], ['11-06-2019 18:15', '70', '67'], ['11-06-2019 18:30', '72', '67'], ['11-06-2019 18:45', '70', '67'], ['11-06-2019 19:00', '69', '67'], ['11-06-2019 19:15', '68', '69'], ['11-06-2019 19:30', '70', '69'], ['11-06-2019 19:45', '74', '69'], ['11-06-2019 20:00', '76', '69'], ['11-06-2019 20:15', '80', '69'], ['11-06-2019 20:30', '82', '80'], ['11-06-2019 20:45', '84', '80'], ['11-06-2019 21:00', '91', '80'], ['11-06-2019 21:15', '95', '80'], ['11-06-2019 21:30', '97', '80'], ['11-06-2019 21:45', '99', '97'], ['11-06-2019 22:00', '99', '97'], ['11-06-2019 22:15', '100', '97'], ['11-06-2019 22:30', '104', '97'], ['11-06-2019 22:45', '108', '97'], ['11-06-2019 23:00', '111', '108'], ['11-06-2019 23:15', '114', '108'], ['11-06-2019 23:30', '112', '108'], ['12-06-2019 00:00', '115', '108'], ['12-06-2019 00:15', '118', '108'], ['12-06-2019 00:30', '119', '118'], ['12-06-2019 00:45', '116', '118'], ['12-06-2019 01:00', '110', '118'], ['12-06-2019 01:15', '106', '118'], ['12-06-2019 01:30', '117', '118'], ['12-06-2019 01:45', '118', '117'], ['12-06-2019 02:00', '111', '117'], ['12-06-2019 02:15', '101', '117'], ['12-06-2019 02:30', '80', '117'], ['12-06-2019 02:45', '71', '117'], ['12-06-2019 03:00', '69', '71'], ['12-06-2019 03:15', '65', '71'], ['12-06-2019 03:30', '57', '71'], ['12-06-2019 03:45', '49', '71'], ['12-06-2019 04:00', '43', '71'], ['12-06-2019 04:15', '39', '43'], ['12-06-2019 04:30', '36', '43'], ['12-06-2019 04:45', '35', '43'], ['12-06-2019 05:00', '32', '43'], ['12-06-2019 05:15', '30', '43'], ['12-06-2019 05:30', '32', '30'], ['12-06-2019 05:45', '34', '30'], ['12-06-2019 06:00', '42', '30'], ['12-06-2019 06:15', '53', '30'], ['12-06-2019 06:30', '64', '30'], ['12-06-2019 06:45', '73', '64'], ['12-06-2019 07:00', '75', '64'], ['12-06-2019 07:15', '73', '64'], ['12-06-2019 07:30', '67', '64'], ['12-06-2019 07:45', '59', '64'], ['12-06-2019 08:00', '51', '59'], ['12-06-2019 08:15', '48', '59'], ['12-06-2019 08:30', '48', '59'], ['12-06-2019 08:45', '50', '59'], ['12-06-2019 09:00', '52', '59'], ['12-06-2019 09:15', '51', '52'], ['12-06-2019 09:30', '49', '52'], ['12-06-2019 09:45', '46', '52'], ['12-06-2019 10:00', '45', '52'], ['12-06-2019 10:15', '44', '52'], ['12-06-2019 10:30', '42', '44'], ['12-06-2019 10:45', '41', '44'], ['12-06-2019 11:00', '39', '44'], ['12-06-2019 11:15', '39', '44'], ['12-06-2019 11:30', '40', '44'], ['12-06-2019 11:45', '43', '40'], ['12-06-2019 12:00', '47', '40'], ['12-06-2019 12:15', '49', '40'], ['12-06-2019 12:30', '52', '40'], ['12-06-2019 12:45', '54', '40'], ['12-06-2019 13:00', '55', '54'], ['12-06-2019 13:15', '57', '54'], ['12-06-2019 13:30', '59', '54'], ['12-06-2019 13:45', '60', '54'], ['12-06-2019 14:00', '60', '54'], ['12-06-2019 14:15', '58', '60'], ['12-06-2019 14:30', '56', '60'], ['12-06-2019 14:45', '57', '60'], ['12-06-2019 15:00', '59', '60'], ['12-06-2019 15:15', '59', '60'], ['12-06-2019 15:30', '61', '59'], ['12-06-2019 15:45', '62', '59'], ['12-06-2019 16:00', '61', '59'], ['12-06-2019 16:15', '61', '59'], ['12-06-2019 16:30', '60', '59'], ['12-06-2019 16:45', '60', '60'], ['12-06-2019 17:00', '60', '60'], ['12-06-2019 17:15', '61', '60'], ['12-06-2019 17:30', '62', '60'], ['12-06-2019 17:45', '61', '60'], ['12-06-2019 18:00', '61', '61'], ['12-06-2019 18:15', '60', '61'], ['12-06-2019 18:30', '61', '61'], ['12-06-2019 18:45', '62', '61'], ['12-06-2019 19:00', '71', '61'], ['12-06-2019 19:15', '90', '71'], ['12-06-2019 19:30', '95', '71'], ['12-06-2019 19:45', '92', '71'], ['12-06-2019 20:00', '79', '71'], ['12-06-2019 20:15', '56', '71'], ['12-06-2019 20:30', '47', '56'], ['12-06-2019 20:45', '42', '56'], ['12-06-2019 21:00', '41', '56'], ['12-06-2019 21:15', '40', '56'], ['12-06-2019 21:30', '41', '56'], ['12-06-2019 21:45', '47', '41'], ['12-06-2019 22:00', '57', '41'], ['12-06-2019 22:15', '67', '41'], ['12-06-2019 22:30', '72', '41'], ['12-06-2019 22:45', '75', '41'], ['12-06-2019 23:00', '72', '75'], ['12-06-2019 23:15', '67', '75'], ['12-06-2019 23:30', '66', '75'], ['13-06-2019 00:00', '59', '75'], ['13-06-2019 00:15', '56', '75'], ['13-06-2019 00:30', '53', '56'], ['13-06-2019 00:45', '52', '56'], ['13-06-2019 01:00', '55', '56'], ['13-06-2019 01:15', '56', '56'], ['13-06-2019 01:30', '56', '56'], ['13-06-2019 01:45', '55', '56'], ['13-06-2019 02:00', '52', '56'], ['13-06-2019 02:15', '51', '56'], ['13-06-2019 02:30', '52', '56'], ['13-06-2019 02:45', '52', '56'], ['13-06-2019 03:00', '53', '52'], ['13-06-2019 03:15', '54', '52'], ['13-06-2019 03:30', '52', '52'], ['13-06-2019 03:45', '51', '52'], ['13-06-2019 04:00', '49', '52'], ['13-06-2019 04:15', '46', '49'], ['13-06-2019 04:30', '46', '49'], ['13-06-2019 04:45', '46', '49'], ['13-06-2019 05:00', '48', '49'], ['13-06-2019 05:15', '54', '49'], ['13-06-2019 05:30', '58', '54'], ['13-06-2019 05:45', '62', '54'], ['13-06-2019 06:00', '74', '54'], ['13-06-2019 06:15', '76', '54'], ['13-06-2019 06:30', '75', '54'], ['13-06-2019 06:45', '75', '75'], ['13-06-2019 07:00', '66', '75'], ['13-06-2019 07:15', '64', '75'], ['13-06-2019 07:30', '65', '75'], ['13-06-2019 07:45', '67', '75'], ['13-06-2019 08:00', '68', '67'], ['13-06-2019 08:15', '67', '67'], ['13-06-2019 08:30', '67', '67'], ['13-06-2019 08:45', '65', '67'], ['13-06-2019 09:00', '63', '67'], ['13-06-2019 09:15', '61', '63'], ['13-06-2019 09:30', '56', '63'], ['13-06-2019 09:45', '51', '63'], ['13-06-2019 10:00', '46', '63'], ['13-06-2019 10:15', '42', '63'], ['13-06-2019 10:30', '42', '42'], ['13-06-2019 10:45', '42', '42'], ['13-06-2019 11:00', '42', '42'], ['13-06-2019 11:15', '42', '42'], ['13-06-2019 13:30', '13', '42'], ['13-06-2019 13:45', '17', '13'], ['13-06-2019 14:00', '26', '13'], ['13-06-2019 14:15', '34', '13'], ['13-06-2019 14:30', '36', '13'], ['13-06-2019 14:45', '37', '13'], ['13-06-2019 15:00', '38', '37'], ['13-06-2019 15:15', '40', '37'], ['13-06-2019 15:30', '40', '37'], ['13-06-2019 15:45', '41', '37'], ['13-06-2019 16:00', '43', '37'], ['13-06-2019 16:15', '45', '43'], ['13-06-2019 16:30', '47', '43'], ['13-06-2019 16:45', '49', '43'], ['13-06-2019 17:00', '49', '43'], ['13-06-2019 17:15', '50', '43'], ['13-06-2019 17:30', '51', '50'], ['13-06-2019 17:45', '52', '50'], ['13-06-2019 18:00', '51', '50'], ['13-06-2019 18:15', '52', '50'], ['13-06-2019 18:30', '52', '50'], ['13-06-2019 18:45', '53', '52'], ['13-06-2019 19:00', '55', '52'], ['13-06-2019 19:15', '56', '52'], ['13-06-2019 19:30', '56', '52'], ['13-06-2019 19:45', '59', '52'], ['13-06-2019 20:00', '62', '59'], ['13-06-2019 20:15', '66', '59'], ['13-06-2019 20:30', '72', '59'], ['13-06-2019 20:45', '77', '59'], ['13-06-2019 21:00', '82', '59'], ['13-06-2019 21:15', '85', '82'], ['13-06-2019 21:30', '88', '82'], ['13-06-2019 21:45', '89', '82'], ['13-06-2019 22:00', '86', '82'], ['13-06-2019 22:15', '80', '82'], ['13-06-2019 22:30', '72', '80'], ['13-06-2019 22:45', '62', '80'], ['13-06-2019 23:00', '54', '80'], ['13-06-2019 23:15', '48', '80'], ['13-06-2019 23:30', '43', '80'], ['14-06-2019 00:00', '39', '43'], ['14-06-2019 00:15', '39', '43'], ['14-06-2019 00:30', '39', '43'], ['14-06-2019 00:45', '38', '43'], ['14-06-2019 01:00', '38', '43'], ['14-06-2019 01:15', '39', '38'], ['14-06-2019 01:30', '39', '38'], ['14-06-2019 01:45', '38', '38'], ['14-06-2019 02:00', '38', '38'], ['14-06-2019 02:15', '38', '38'], ['14-06-2019 02:30', '38', '38'], ['14-06-2019 02:45', '38', '38'], ['14-06-2019 03:00', '39', '38'], ['14-06-2019 03:15', '37', '38'], ['14-06-2019 03:30', '36', '38'], ['14-06-2019 03:45', '35', '36'], ['14-06-2019 04:00', '34', '36'], ['14-06-2019 04:15', '35', '36'], ['14-06-2019 04:30', '37', '36'], ['14-06-2019 04:45', '38', '36'], ['14-06-2019 05:00', '38', '38'], ['14-06-2019 05:15', '39', '38'], ['14-06-2019 05:30', '41', '38'], ['14-06-2019 05:45', '42', '38'], ['14-06-2019 06:00', '45', '38'], ['14-06-2019 06:15', '47', '45'], ['14-06-2019 06:30', '48', '45'], ['14-06-2019 06:45', '48', '45'], ['14-06-2019 07:00', '47', '45'], ['14-06-2019 07:15', '44', '45'], ['14-06-2019 07:30', '44', '44'], ['14-06-2019 07:45', '45', '44'], ['14-06-2019 08:00', '48', '44'], ['14-06-2019 08:15', '50', '44'], ['14-06-2019 08:30', '52', '44'], ['14-06-2019 08:45', '55', '52'], ['14-06-2019 09:00', '55', '52'], ['14-06-2019 09:15', '55', '52'], ['14-06-2019 09:30', '54', '52'], ['14-06-2019 09:45', '53', '52'], ['14-06-2019 10:00', '52', '53'], ['14-06-2019 10:15', '50', '53'], ['14-06-2019 10:30', '50', '53'], ['14-06-2019 10:45', '50', '53'], ['14-06-2019 11:00', '48', '53'], ['14-06-2019 11:15', '47', '48'], ['14-06-2019 11:30', '45', '48'], ['14-06-2019 11:45', '44', '48'], ['14-06-2019 12:00', '46', '48'], ['14-06-2019 12:15', '47', '48'], ['14-06-2019 12:30', '48', '47'], ['14-06-2019 12:45', '49', '47'], ['14-06-2019 13:00', '50', '47'], ['14-06-2019 13:15', '49', '47'], ['14-06-2019 13:30', '47', '47'], ['14-06-2019 13:45', '46', '47'], ['14-06-2019 14:00', '44', '47'], ['14-06-2019 14:15', '44', '47'], ['14-06-2019 14:30', '46', '47'], ['14-06-2019 14:45', '48', '47'], ['14-06-2019 15:00', '49', '48'], ['14-06-2019 15:15', '49', '48'], ['14-06-2019 15:30', '47', '48'], ['14-06-2019 15:45', '46', '48'], ['14-06-2019 16:00', '46', '48'], ['14-06-2019 16:15', '47', '46'], ['14-06-2019 16:30', '48', '46'], ['14-06-2019 16:45', '47', '46'], ['14-06-2019 17:00', '46', '46'], ['14-06-2019 17:15', '44', '46'], ['14-06-2019 17:30', '45', '44'], ['14-06-2019 17:45', '45', '44'], ['14-06-2019 18:00', '44', '44'], ['14-06-2019 18:15', '44', '44'], ['14-06-2019 18:30', '42', '44'], ['14-06-2019 18:45', '42', '42'], ['14-06-2019 19:00', '44', '42'], ['14-06-2019 19:15', '46', '42'], ['14-06-2019 19:30', '47', '42'], ['14-06-2019 19:45', '50', '42'], ['14-06-2019 20:00', '53', '50'], ['14-06-2019 20:15', '57', '50'], ['14-06-2019 20:30', '61', '50'], ['14-06-2019 20:45', '63', '50'], ['14-06-2019 21:00', '66', '50'], ['14-06-2019 21:15', '68', '66'], ['14-06-2019 21:30', '71', '66'], ['14-06-2019 21:45', '76', '66'], ['14-06-2019 22:00', '83', '66'], ['14-06-2019 22:15', '90', '66'], ['14-06-2019 22:30', '97', '90'], ['14-06-2019 22:45', '102', '90'], ['14-06-2019 23:00', '107', '90'], ['14-06-2019 23:15', '109', '90'], ['14-06-2019 23:30', '107', '90'], ['15-06-2019 00:00', '100', '107'], ['15-06-2019 00:15', '99', '107'], ['15-06-2019 00:30', '103', '107'], ['15-06-2019 00:45', '103', '107'], ['15-06-2019 01:00', '103', '107'], ['15-06-2019 01:15', '100', '103'], ['15-06-2019 01:30', '93', '103'], ['15-06-2019 01:45', '89', '103'], ['15-06-2019 02:00', '86', '103'], ['15-06-2019 02:15', '84', '103'], ['15-06-2019 02:30', '83', '84'], ['15-06-2019 02:45', '85', '84'], ['15-06-2019 03:00', '85', '84'], ['15-06-2019 03:15', '84', '84'], ['15-06-2019 03:30', '87', '84'], ['15-06-2019 03:45', '91', '87'], ['15-06-2019 04:00', '95', '87'], ['15-06-2019 04:15', '97', '87'], ['15-06-2019 04:30', '92', '87'], ['15-06-2019 04:45', '83', '87'], ['15-06-2019 05:00', '75', '83'], ['15-06-2019 05:15', '69', '83'], ['15-06-2019 05:30', '65', '83'], ['15-06-2019 05:45', '63', '83'], ['15-06-2019 06:00', '62', '83'], ['15-06-2019 06:15', '63', '62'], ['15-06-2019 06:30', '66', '62'], ['15-06-2019 06:45', '72', '62'], ['15-06-2019 07:00', '79', '62'], ['15-06-2019 07:15', '86', '62'], ['15-06-2019 07:30', '93', '86'], ['15-06-2019 07:45', '100', '86'], ['15-06-2019 08:00', '106', '86'], ['15-06-2019 08:15', '111', '86'], ['15-06-2019 08:30', '113', '86'], ['15-06-2019 08:45', '113', '113'], ['15-06-2019 09:00', '111', '113'], ['15-06-2019 09:15', '105', '113'], ['15-06-2019 09:30', '96', '113'], ['15-06-2019 09:45', '87', '113'], ['15-06-2019 10:00', '81', '87'], ['15-06-2019 10:15', '77', '87'], ['15-06-2019 10:30', '74', '87'], ['15-06-2019 10:45', '68', '87'], ['15-06-2019 11:00', '60', '87'], ['15-06-2019 11:15', '54', '60'], ['15-06-2019 11:30', '51', '60'], ['15-06-2019 11:45', '52', '60'], ['15-06-2019 12:00', '53', '60'], ['15-06-2019 12:15', '54', '60'], ['15-06-2019 12:30', '55', '54'], ['15-06-2019 12:45', '55', '54'], ['15-06-2019 13:00', '55', '54'], ['15-06-2019 13:15', '55', '54'], ['15-06-2019 13:30', '55', '54'], ['15-06-2019 13:45', '55', '55'], ['15-06-2019 14:00', '54', '55'], ['15-06-2019 14:15', '55', '55'], ['15-06-2019 14:30', '54', '55'], ['15-06-2019 14:45', '53', '55'], ['15-06-2019 15:00', '52', '53'], ['15-06-2019 15:15', '52', '53'], ['15-06-2019 15:30', '53', '53'], ['15-06-2019 15:45', '55', '53'], ['15-06-2019 16:00', '55', '53'], ['15-06-2019 16:15', '55', '55'], ['15-06-2019 16:30', '54', '55'], ['15-06-2019 16:45', '52', '55'], ['15-06-2019 17:00', '52', '55'], ['15-06-2019 17:15', '52', '55'], ['15-06-2019 17:30', '50', '52'], ['15-06-2019 17:45', '48', '52'], ['15-06-2019 18:00', '48', '52'], ['15-06-2019 18:15', '48', '52'], ['15-06-2019 18:30', '50', '52'], ['15-06-2019 18:45', '50', '50'], ['15-06-2019 19:00', '51', '50'], ['15-06-2019 19:15', '50', '50'], ['15-06-2019 19:30', '51', '50'], ['15-06-2019 19:45', '54', '50'], ['15-06-2019 20:00', '59', '54'], ['15-06-2019 20:15', '65', '54'], ['15-06-2019 20:30', '68', '54'], ['15-06-2019 20:45', '69', '54'], ['15-06-2019 21:00', '67', '54'], ['15-06-2019 21:15', '64', '67'], ['15-06-2019 21:30', '61', '67'], ['15-06-2019 21:45', '61', '67'], ['15-06-2019 22:00', '58', '67'], ['15-06-2019 22:15', '57', '67'], ['15-06-2019 22:30', '57', '57'], ['15-06-2019 22:45', '55', '57'], ['15-06-2019 23:00', '54', '57'], ['15-06-2019 23:15', '51', '57'], ['15-06-2019 23:30', '48', '57'], ['16-06-2019 00:00', '48', '48'], ['16-06-2019 00:15', '50', '48'], ['16-06-2019 00:30', '51', '48'], ['16-06-2019 00:45', '51', '48'], ['16-06-2019 01:00', '51', '48'], ['16-06-2019 01:15', '50', '51'], ['16-06-2019 01:30', '51', '51'], ['16-06-2019 01:45', '51', '51'], ['16-06-2019 02:00', '52', '51'], ['16-06-2019 02:15', '53', '51'], ['16-06-2019 02:30', '54', '53'], ['16-06-2019 02:45', '53', '53'], ['16-06-2019 03:00', '51', '53'], ['16-06-2019 03:15', '46', '53'], ['16-06-2019 03:30', '39', '53'], ['16-06-2019 03:45', '35', '39'], ['16-06-2019 04:00', '32', '39'], ['16-06-2019 04:15', '31', '39'], ['16-06-2019 04:30', '33', '39'], ['16-06-2019 04:45', '32', '39'], ['16-06-2019 05:00', '30', '32'], ['16-06-2019 05:15', '28', '32'], ['16-06-2019 05:30', '25', '32'], ['16-06-2019 05:45', '23', '32'], ['16-06-2019 06:00', '22', '32'], ['16-06-2019 06:15', '21', '22'], ['16-06-2019 06:30', '21', '22'], ['16-06-2019 06:45', '23', '22'], ['16-06-2019 07:00', '26', '22'], ['16-06-2019 07:15', '28', '22'], ['16-06-2019 07:30', '30', '28'], ['16-06-2019 07:45', '31', '28'], ['16-06-2019 08:00', '32', '28'], ['16-06-2019 08:15', '33', '28'], ['16-06-2019 08:30', '33', '28'], ['16-06-2019 08:45', '34', '33'], ['16-06-2019 09:00', '34', '33'], ['16-06-2019 09:15', '35', '33'], ['16-06-2019 09:30', '38', '33'], ['16-06-2019 09:45', '36', '33'], ['16-06-2019 10:00', '32', '36'], ['16-06-2019 10:15', '29', '36'], ['16-06-2019 10:30', '24', '36'], ['16-06-2019 10:45', '21', '36'], ['16-06-2019 11:00', '21', '36'], ['16-06-2019 11:15', '22', '21'], ['16-06-2019 11:30', '23', '21'], ['16-06-2019 11:45', '24', '21'], ['16-06-2019 12:00', '27', '21'], ['16-06-2019 12:15', '28', '21'], ['16-06-2019 12:30', '28', '28'], ['16-06-2019 12:45', '28', '28'], ['16-06-2019 13:00', '26', '28'], ['16-06-2019 13:15', '27', '28'], ['16-06-2019 13:30', '28', '28'], ['16-06-2019 13:45', '28', '28'], ['16-06-2019 14:00', '29', '28'], ['16-06-2019 14:15', '28', '28'], ['16-06-2019 14:30', '28', '28'], ['16-06-2019 14:45', '29', '28'], ['16-06-2019 15:00', '30', '29'], ['16-06-2019 15:15', '32', '29'], ['16-06-2019 15:30', '31', '29'], ['16-06-2019 15:45', '29', '29'], ['16-06-2019 16:00', '28', '29'], ['16-06-2019 16:15', '25', '28'], ['16-06-2019 16:30', '23', '28'], ['16-06-2019 16:45', '23', '28'], ['16-06-2019 17:00', '22', '28'], ['16-06-2019 17:15', '24', '28'], ['16-06-2019 17:30', '26', '24'], ['16-06-2019 17:45', '28', '24'], ['16-06-2019 18:00', '30', '24'], ['16-06-2019 18:15', '30', '24'], ['16-06-2019 18:30', '32', '24'], ['16-06-2019 18:45', '32', '32'], ['16-06-2019 19:00', '33', '32'], ['16-06-2019 19:15', '35', '32'], ['16-06-2019 19:30', '38', '32'], ['16-06-2019 19:45', '41', '32'], ['16-06-2019 20:00', '41', '41'], ['16-06-2019 20:15', '37', '41'], ['16-06-2019 20:30', '32', '41'], ['16-06-2019 20:45', '29', '41'], ['16-06-2019 21:00', '28', '41'], ['16-06-2019 21:15', '30', '28'], ['16-06-2019 21:30', '30', '28'], ['16-06-2019 21:45', '30', '28'], ['16-06-2019 22:00', '29', '28'], ['16-06-2019 22:15', '30', '28'], ['16-06-2019 22:30', '30', '30'], ['16-06-2019 22:45', '31', '30'], ['16-06-2019 23:00', '30', '30'], ['16-06-2019 23:15', '30', '30'], ['16-06-2019 23:30', '29', '30'], ['17-06-2019 00:00', '31', '29'], ['17-06-2019 00:15', '31', '29'], ['17-06-2019 00:30', '33', '29'], ['17-06-2019 00:45', '33', '29'], ['17-06-2019 01:00', '33', '29'], ['17-06-2019 01:15', '32', '33'], ['17-06-2019 01:30', '35', '33'], ['17-06-2019 01:45', '39', '33'], ['17-06-2019 02:00', '40', '33'], ['17-06-2019 02:15', '40', '33'], ['17-06-2019 02:30', '37', '40'], ['17-06-2019 02:45', '34', '40'], ['17-06-2019 03:00', '31', '40'], ['17-06-2019 03:15', '29', '40'], ['17-06-2019 03:30', '25', '40'], ['17-06-2019 03:45', '23', '25'], ['17-06-2019 04:00', '23', '25'], ['17-06-2019 04:15', '24', '25'], ['17-06-2019 04:30', '29', '25'], ['17-06-2019 04:45', '31', '25'], ['17-06-2019 05:00', '34', '31'], ['17-06-2019 05:15', '38', '31'], ['17-06-2019 05:30', '42', '31'], ['17-06-2019 05:45', '47', '31'], ['17-06-2019 06:00', '49', '31'], ['17-06-2019 06:15', '51', '49'], ['17-06-2019 06:30', '50', '49'], ['17-06-2019 06:45', '49', '49'], ['17-06-2019 07:00', '46', '49'], ['17-06-2019 07:15', '42', '49'], ['17-06-2019 07:30', '39', '42'], ['17-06-2019 07:45', '38', '42'], ['17-06-2019 08:00', '39', '42'], ['17-06-2019 08:15', '42', '42'], ['17-06-2019 08:30', '46', '42'], ['17-06-2019 08:45', '52', '46'], ['17-06-2019 09:00', '56', '46'], ['17-06-2019 09:15', '56', '46'], ['17-06-2019 09:30', '53', '46'], ['17-06-2019 09:45', '46', '46'], ['17-06-2019 10:00', '41', '46'], ['17-06-2019 10:15', '39', '46'], ['17-06-2019 10:30', '37', '46'], ['17-06-2019 10:45', '35', '46'], ['17-06-2019 11:00', '32', '46'], ['17-06-2019 11:15', '31', '32'], ['17-06-2019 11:30', '29', '32'], ['17-06-2019 11:45', '25', '32'], ['17-06-2019 12:00', '24', '32']]\n"
          ],
          "name": "stdout"
        }
      ]
    },
    {
      "cell_type": "code",
      "metadata": {
        "id": "nP3rFX_CUAAC",
        "colab_type": "code",
        "colab": {}
      },
      "source": [
        "#TIMESTAMP MODIFICATION \n",
        "m_tmp=[]\n",
        "for t in ito:\n",
        "  l=[]\n",
        "  temp=t[0]\n",
        "  temp=temp[-24:-5]\n",
        "  temp=temp.split('-')\n",
        "  newtemp=temp[2].split(' ')\n",
        "  newesttemp=newtemp[1].split(':')\n",
        "  j=int(newesttemp[1])\n",
        "  #print(j)\n",
        "  if(j<=7.5):\n",
        "    final = newtemp[0] + '-' + temp[1] + '-' + temp[0] + ' ' + newesttemp[0] + ':' + '00'\n",
        "  elif(j<=15 or j<=22.5):\n",
        "    final = newtemp[0] + '-' + temp[1] + '-' + temp[0] + ' ' + newesttemp[0] + ':' + '15'\n",
        "  elif(j<=30 or j<=37.5):\n",
        "    final = newtemp[0] + '-' + temp[1] + '-' + temp[0] + ' ' + newesttemp[0] + ':' + '30'\n",
        "  elif(j<=45 or j<=52.5):\n",
        "    final = newtemp[0] + '-' + temp[1] + '-' + temp[0] + ' ' + newesttemp[0] + ':' + '45'\n",
        "  elif(j>52.5):\n",
        "    final = newtemp[0] + '-' + temp[1] + '-' + temp[0] + ' ' + newesttemp[0] + ':' + '00'\n",
        "  l.append(t[0])\n",
        "  l.append(final)\n",
        "  l.append(t[1])\n",
        "  m_tmp.append(l) "
      ],
      "execution_count": 0,
      "outputs": []
    },
    {
      "cell_type": "code",
      "metadata": {
        "id": "Ys06d0qgUHM6",
        "colab_type": "code",
        "colab": {}
      },
      "source": [
        "ito_tomatch=[]\n",
        "for val in cpcb:\n",
        "  for date in m_tmp:\n",
        "    if(val[0] == date[1]):\n",
        "      #print(date[0])\n",
        "      im = date[2]\n",
        "      l=[]\n",
        "      l.append(val[0])\n",
        "      #l.append(np.ndarray.flatten(transmission(im)))\n",
        "      l.append(entropy(im))\n",
        "      l.append(contrast(im))\n",
        "      l.append(val[1])\n",
        "      l.append(val[2])\n",
        "      l.append(trans_deg(im))\n",
        "      ito_tomatch.append(l)"
      ],
      "execution_count": 0,
      "outputs": []
    },
    {
      "cell_type": "code",
      "metadata": {
        "id": "9j_bFL09om14",
        "colab_type": "code",
        "outputId": "26cb9f1b-c211-42dc-b50b-0e306610e63f",
        "colab": {
          "base_uri": "https://localhost:8080/",
          "height": 34
        }
      },
      "source": [
        "print(len(feat))"
      ],
      "execution_count": 175,
      "outputs": [
        {
          "output_type": "stream",
          "text": [
            "1930\n"
          ],
          "name": "stdout"
        }
      ]
    },
    {
      "cell_type": "markdown",
      "metadata": {
        "id": "skpHTzhPI9KM",
        "colab_type": "text"
      },
      "source": [
        "WEATHER DATA "
      ]
    },
    {
      "cell_type": "code",
      "metadata": {
        "id": "qNPdWBM9I88j",
        "colab_type": "code",
        "colab": {}
      },
      "source": [
        "cred = credentials.Certificate('credentials.json')\n",
        "\n",
        "# Initialize the app with a service account, granting admin privileges\n",
        "ito_n = firebase_admin.initialize_app(cred, {\n",
        "    'databaseURL': 'https://fir-4ca2c.firebaseio.com/'\n",
        "},name = 'w_ito_n')"
      ],
      "execution_count": 0,
      "outputs": []
    },
    {
      "cell_type": "code",
      "metadata": {
        "id": "SjDgCilSJhrT",
        "colab_type": "code",
        "colab": {}
      },
      "source": [
        "    \n",
        "ref = db.reference(app=ito_n)\n",
        "df = ref.get()\n"
      ],
      "execution_count": 0,
      "outputs": []
    },
    {
      "cell_type": "code",
      "metadata": {
        "id": "prjXlrRyJllI",
        "colab_type": "code",
        "outputId": "645ca8b6-c54b-4b5a-9a37-ad440f84a32f",
        "colab": {
          "base_uri": "https://localhost:8080/",
          "height": 1000
        }
      },
      "source": [
        "temp_weather = {}\n",
        "\n",
        "for key in df:\n",
        "  try:\n",
        "    l=[]\n",
        "    l.append(df[key]['main']['humidity'])\n",
        "    l.append(df[key]['main']['pressure'])\n",
        "    l.append(df[key]['main']['temp'])\n",
        "    l.append(df[key]['visibility'])\n",
        "    l.append(df[key]['wind']['deg'])\n",
        "    l.append(df[key]['wind']['speed'])\n",
        "    l.append(df[key]['clouds']['all'])\n",
        "    k = df[key]['weather'][0]['description']\n",
        "    if(k=='haze'):\n",
        "      l.append(0)\n",
        "    elif(k=='mist'):\n",
        "      l.append(1)\n",
        "    elif(k=='drizzle'):\n",
        "      l.append(2)\n",
        "    elif(k=='dust'):\n",
        "      l.append(3)\n",
        "    temp_weather[key]=l\n",
        "  except:\n",
        "    print(key)"
      ],
      "execution_count": 177,
      "outputs": [
        {
          "output_type": "stream",
          "text": [
            "01-11-2019 11:27:38\n",
            "01-11-2019 11:32:38\n",
            "01-11-2019 11:37:38\n",
            "01-11-2019 11:42:38\n",
            "01-11-2019 11:47:38\n",
            "01-11-2019 12:27:38\n",
            "01-11-2019 12:32:38\n",
            "01-11-2019 12:37:38\n",
            "01-11-2019 12:42:38\n",
            "01-11-2019 12:47:38\n",
            "01-11-2019 12:52:38\n",
            "01-11-2019 12:57:38\n",
            "01-11-2019 13:02:38\n",
            "01-11-2019 13:07:38\n",
            "01-11-2019 13:12:38\n",
            "01-11-2019 13:17:38\n",
            "01-11-2019 13:22:38\n",
            "01-11-2019 13:27:38\n",
            "01-11-2019 13:32:38\n",
            "01-11-2019 13:37:38\n",
            "01-11-2019 13:42:38\n",
            "01-11-2019 13:47:38\n",
            "01-11-2019 13:52:38\n",
            "01-11-2019 13:57:38\n",
            "01-11-2019 14:02:38\n",
            "01-11-2019 14:07:38\n",
            "01-11-2019 14:12:38\n",
            "01-11-2019 14:17:38\n",
            "01-11-2019 14:22:38\n",
            "01-11-2019 14:27:38\n",
            "01-11-2019 14:32:38\n",
            "01-11-2019 14:37:38\n",
            "01-11-2019 14:42:38\n",
            "01-11-2019 14:47:38\n",
            "02-08-2019 24:45:42\n",
            "02-08-2019 24:50:42\n",
            "02-08-2019 24:55:42\n",
            "02-08-2019 24:60:42\n",
            "02-11-2019 19:17:42\n",
            "02-11-2019 19:22:42\n",
            "02-11-2019 19:27:42\n",
            "02-11-2019 19:32:42\n",
            "02-11-2019 19:37:42\n",
            "02-11-2019 19:42:42\n",
            "02-11-2019 19:47:42\n",
            "02-11-2019 19:52:42\n",
            "02-11-2019 19:57:42\n",
            "02-11-2019 20:02:42\n",
            "02-11-2019 20:07:42\n",
            "02-11-2019 20:12:42\n",
            "02-11-2019 20:17:42\n",
            "03-09-2019 18:01:19\n",
            "03-09-2019 18:06:19\n",
            "03-09-2019 18:11:19\n",
            "03-09-2019 18:16:19\n",
            "03-09-2019 18:21:19\n",
            "03-09-2019 18:26:19\n",
            "03-09-2019 18:31:19\n",
            "03-10-2019 21:44:03\n",
            "03-10-2019 21:49:03\n",
            "03-10-2019 21:54:03\n",
            "03-10-2019 21:59:03\n",
            "03-10-2019 22:04:03\n",
            "03-10-2019 22:09:03\n",
            "03-10-2019 22:14:03\n",
            "03-10-2019 22:49:03\n",
            "03-10-2019 22:54:03\n",
            "03-10-2019 22:59:03\n",
            "03-10-2019 23:04:03\n",
            "03-10-2019 23:09:03\n",
            "03-10-2019 23:14:03\n",
            "03-10-2019 23:19:03\n",
            "03-10-2019 23:24:03\n",
            "03-10-2019 23:29:03\n",
            "03-10-2019 23:34:03\n",
            "03-10-2019 23:39:03\n",
            "03-10-2019 23:44:03\n",
            "03-10-2019 23:49:03\n",
            "03-10-2019 23:54:03\n",
            "03-10-2019 23:59:03\n",
            "03-10-2019 24:04:03\n",
            "03-10-2019 24:09:03\n",
            "03-10-2019 24:14:03\n",
            "03-10-2019 24:19:03\n",
            "03-10-2019 24:24:03\n",
            "07-08-2019 08:05:56\n",
            "07-08-2019 08:10:56\n",
            "07-08-2019 08:15:56\n",
            "07-08-2019 08:20:56\n",
            "07-08-2019 08:25:56\n",
            "07-08-2019 08:30:56\n",
            "07-08-2019 08:35:56\n",
            "07-08-2019 08:40:56\n",
            "07-08-2019 08:45:56\n",
            "07-08-2019 08:50:56\n",
            "07-09-2019 16:29:17\n",
            "08-07-2019 02:52:50\n",
            "08-07-2019 02:57:50\n",
            "08-09-2019 10:41:25\n",
            "08-09-2019 10:46:25\n",
            "08-09-2019 10:51:25\n",
            "08-09-2019 10:56:25\n",
            "09-08-2019 05:45:16\n",
            "09-08-2019 05:50:16\n",
            "09-08-2019 05:55:16\n",
            "09-08-2019 05:60:16\n",
            "09-08-2019 06:05:16\n",
            "09-08-2019 06:10:16\n",
            "09-08-2019 06:15:16\n",
            "09-08-2019 06:20:16\n",
            "09-08-2019 06:25:16\n",
            "10-08-2019 02:33:38\n",
            "10-08-2019 02:38:38\n",
            "10-08-2019 02:43:38\n",
            "10-08-2019 02:48:38\n",
            "10-08-2019 02:53:38\n",
            "10-08-2019 03:03:38\n",
            "10-11-2019 10:47:53\n",
            "10-11-2019 10:52:53\n",
            "10-11-2019 10:57:53\n",
            "10-11-2019 11:02:53\n",
            "10-11-2019 11:07:53\n",
            "10-11-2019 11:12:53\n",
            "10-11-2019 11:17:53\n",
            "10-11-2019 11:22:53\n",
            "10-11-2019 11:27:53\n",
            "10-11-2019 11:32:53\n",
            "10-11-2019 11:37:53\n",
            "10-11-2019 11:42:53\n",
            "10-11-2019 11:47:53\n",
            "10-11-2019 11:52:53\n",
            "10-11-2019 11:57:53\n",
            "10-11-2019 12:02:53\n",
            "10-11-2019 12:07:53\n",
            "10-11-2019 12:12:53\n",
            "10-11-2019 12:17:53\n",
            "10-11-2019 12:22:53\n",
            "10-11-2019 12:27:53\n",
            "10-11-2019 12:32:53\n",
            "10-11-2019 12:37:53\n",
            "10-11-2019 12:42:53\n",
            "10-11-2019 12:47:53\n",
            "10-11-2019 12:52:53\n",
            "10-11-2019 12:57:53\n",
            "10-11-2019 13:02:53\n",
            "10-11-2019 13:07:53\n",
            "10-11-2019 13:12:53\n",
            "10-11-2019 13:17:53\n",
            "10-11-2019 13:22:53\n",
            "10-11-2019 13:27:53\n",
            "10-11-2019 13:32:53\n",
            "10-11-2019 13:37:53\n",
            "10-11-2019 13:42:53\n",
            "10-11-2019 13:47:53\n",
            "10-11-2019 13:52:53\n",
            "10-11-2019 13:57:53\n",
            "10-11-2019 14:02:53\n",
            "10-11-2019 14:07:53\n",
            "10-11-2019 14:12:53\n",
            "10-11-2019 14:17:53\n",
            "10-11-2019 14:22:53\n",
            "10-11-2019 14:27:53\n",
            "10-11-2019 14:32:53\n",
            "10-11-2019 14:37:53\n",
            "10-11-2019 14:42:53\n",
            "10-11-2019 14:47:53\n",
            "10-11-2019 14:52:53\n",
            "10-11-2019 14:57:53\n",
            "10-11-2019 15:02:53\n",
            "10-11-2019 15:07:53\n",
            "10-11-2019 15:12:53\n",
            "10-11-2019 15:17:53\n",
            "10-11-2019 15:22:53\n",
            "10-11-2019 15:27:53\n",
            "10-11-2019 15:32:53\n",
            "10-11-2019 15:37:53\n",
            "10-11-2019 15:42:53\n",
            "10-11-2019 15:47:53\n",
            "10-11-2019 15:52:53\n",
            "10-11-2019 15:57:53\n",
            "10-11-2019 16:02:53\n",
            "10-11-2019 16:07:53\n",
            "10-11-2019 16:12:53\n",
            "10-11-2019 16:17:53\n",
            "10-11-2019 16:22:53\n",
            "10-11-2019 16:27:53\n",
            "10-11-2019 16:32:53\n",
            "10-11-2019 16:37:53\n",
            "10-11-2019 16:42:53\n",
            "10-11-2019 16:47:53\n",
            "10-11-2019 16:52:53\n",
            "10-11-2019 16:57:53\n",
            "10-11-2019 17:02:53\n",
            "10-11-2019 17:07:53\n",
            "10-11-2019 17:12:53\n",
            "10-11-2019 17:17:53\n",
            "10-11-2019 17:22:53\n",
            "10-11-2019 17:27:53\n",
            "10-11-2019 17:32:53\n",
            "10-11-2019 17:37:53\n",
            "10-11-2019 17:42:53\n",
            "10-11-2019 17:47:53\n",
            "10-11-2019 17:52:53\n",
            "10-11-2019 17:57:53\n",
            "10-11-2019 18:02:53\n",
            "10-11-2019 18:07:53\n",
            "10-11-2019 18:12:53\n",
            "10-11-2019 18:17:53\n",
            "10-11-2019 18:22:53\n",
            "10-11-2019 18:27:53\n",
            "10-11-2019 18:32:53\n",
            "10-11-2019 18:37:53\n",
            "10-11-2019 18:42:53\n",
            "10-11-2019 18:47:53\n",
            "10-11-2019 18:52:53\n",
            "10-11-2019 18:57:53\n",
            "10-11-2019 19:02:53\n",
            "10-11-2019 19:07:53\n",
            "10-11-2019 19:12:53\n",
            "10-11-2019 19:17:53\n",
            "10-11-2019 19:22:53\n",
            "10-11-2019 19:27:53\n",
            "10-11-2019 19:32:53\n",
            "10-11-2019 19:37:53\n",
            "10-11-2019 19:42:53\n",
            "10-11-2019 19:47:53\n",
            "10-11-2019 19:52:53\n",
            "10-11-2019 19:57:53\n",
            "10-11-2019 20:02:53\n",
            "10-11-2019 20:07:53\n",
            "10-11-2019 20:12:53\n",
            "10-11-2019 20:17:53\n",
            "10-11-2019 20:22:53\n",
            "10-11-2019 20:27:53\n",
            "10-11-2019 20:32:53\n",
            "10-11-2019 20:37:53\n",
            "10-11-2019 20:42:53\n",
            "10-11-2019 20:47:53\n",
            "10-11-2019 20:52:53\n",
            "10-11-2019 20:57:53\n",
            "10-11-2019 21:02:53\n",
            "10-11-2019 21:07:53\n",
            "10-11-2019 21:12:53\n",
            "10-11-2019 21:17:53\n",
            "10-11-2019 21:22:53\n",
            "10-11-2019 21:27:53\n",
            "10-11-2019 21:32:53\n",
            "10-11-2019 21:37:53\n",
            "10-11-2019 21:42:53\n",
            "10-11-2019 21:47:53\n",
            "10-11-2019 21:52:53\n",
            "10-11-2019 21:57:53\n",
            "10-11-2019 22:02:53\n",
            "10-11-2019 22:07:53\n",
            "10-11-2019 22:12:53\n",
            "10-11-2019 22:17:53\n",
            "10-11-2019 22:22:53\n",
            "10-11-2019 22:27:53\n",
            "10-11-2019 22:32:53\n",
            "10-11-2019 22:37:53\n",
            "10-11-2019 22:42:53\n",
            "10-11-2019 22:47:53\n",
            "10-11-2019 22:52:53\n",
            "10-11-2019 22:57:53\n",
            "10-11-2019 23:02:53\n",
            "10-11-2019 23:07:53\n",
            "10-11-2019 23:12:53\n",
            "10-11-2019 23:17:53\n",
            "10-11-2019 23:22:53\n",
            "10-11-2019 23:27:53\n",
            "10-11-2019 23:32:53\n",
            "10-11-2019 23:37:53\n",
            "10-11-2019 23:42:53\n",
            "10-11-2019 24:12:53\n",
            "10-11-2019 24:17:53\n",
            "10-11-2019 24:22:53\n",
            "10-11-2019 24:27:53\n",
            "10-11-2019 24:32:53\n",
            "10-11-2019 24:37:53\n",
            "10-11-2019 24:42:53\n",
            "10-11-2019 24:47:53\n",
            "10-11-2019 24:52:53\n",
            "10-11-2019 24:57:53\n",
            "11-10-2019 21:06:13\n",
            "11-10-2019 22:51:13\n",
            "11-10-2019 22:56:13\n",
            "11-10-2019 23:01:13\n",
            "11-10-2019 23:06:13\n",
            "11-10-2019 23:11:13\n",
            "11-10-2019 23:16:13\n",
            "11-10-2019 23:26:13\n",
            "11-11-2019 01:02:53\n",
            "11-11-2019 01:07:53\n",
            "11-11-2019 01:12:53\n",
            "11-11-2019 01:17:53\n",
            "11-11-2019 01:22:53\n",
            "11-11-2019 01:27:53\n",
            "11-11-2019 01:32:53\n",
            "11-11-2019 01:37:53\n",
            "11-11-2019 01:42:53\n",
            "11-11-2019 01:47:53\n",
            "11-11-2019 01:52:53\n",
            "11-11-2019 01:57:53\n",
            "11-11-2019 02:02:53\n",
            "11-11-2019 02:07:53\n",
            "11-11-2019 02:12:53\n",
            "11-11-2019 02:17:53\n",
            "11-11-2019 02:22:53\n",
            "11-11-2019 02:27:53\n",
            "11-11-2019 02:32:53\n",
            "11-11-2019 02:37:53\n",
            "11-11-2019 02:42:53\n",
            "11-11-2019 02:47:53\n",
            "11-11-2019 02:52:53\n",
            "11-11-2019 02:57:53\n",
            "11-11-2019 03:02:53\n",
            "11-11-2019 03:07:53\n",
            "11-11-2019 03:12:53\n",
            "11-11-2019 03:17:53\n",
            "11-11-2019 03:22:53\n",
            "11-11-2019 03:27:53\n",
            "11-11-2019 03:32:53\n",
            "11-11-2019 03:37:53\n",
            "11-11-2019 03:42:53\n",
            "11-11-2019 03:47:53\n",
            "11-11-2019 03:52:53\n",
            "11-11-2019 03:57:53\n",
            "11-11-2019 04:02:53\n",
            "11-11-2019 04:07:53\n",
            "11-11-2019 04:12:53\n",
            "11-11-2019 04:17:53\n",
            "11-11-2019 04:22:53\n",
            "11-11-2019 04:27:53\n",
            "11-11-2019 04:32:53\n",
            "11-11-2019 04:37:53\n",
            "11-11-2019 04:42:53\n",
            "11-11-2019 04:47:53\n",
            "11-11-2019 04:52:53\n",
            "11-11-2019 04:57:53\n",
            "11-11-2019 05:02:53\n",
            "11-11-2019 05:07:53\n",
            "11-11-2019 05:12:53\n",
            "11-11-2019 05:17:53\n",
            "11-11-2019 05:22:53\n",
            "11-11-2019 05:27:53\n",
            "11-11-2019 05:32:53\n",
            "11-11-2019 05:37:53\n",
            "11-11-2019 05:42:53\n",
            "11-11-2019 05:47:53\n",
            "11-11-2019 05:52:53\n",
            "11-11-2019 05:57:53\n",
            "11-11-2019 06:02:53\n",
            "11-11-2019 06:07:53\n",
            "11-11-2019 06:12:53\n",
            "11-11-2019 06:17:53\n",
            "11-11-2019 06:22:53\n",
            "11-11-2019 06:27:53\n",
            "11-11-2019 06:32:53\n",
            "11-11-2019 06:37:53\n",
            "11-11-2019 06:42:53\n",
            "11-11-2019 06:47:53\n",
            "11-11-2019 06:52:53\n",
            "11-11-2019 06:57:53\n",
            "11-11-2019 07:02:53\n",
            "11-11-2019 07:07:53\n",
            "11-11-2019 07:12:53\n",
            "11-11-2019 07:17:53\n",
            "11-11-2019 07:22:53\n",
            "11-11-2019 07:27:53\n",
            "11-11-2019 07:32:53\n",
            "11-11-2019 07:37:53\n",
            "11-11-2019 07:42:53\n",
            "11-11-2019 07:47:53\n",
            "11-11-2019 07:52:53\n",
            "11-11-2019 07:57:53\n",
            "11-11-2019 08:02:53\n",
            "11-11-2019 08:07:53\n",
            "11-11-2019 08:12:53\n",
            "11-11-2019 08:17:53\n",
            "11-11-2019 08:22:53\n",
            "11-11-2019 08:27:53\n",
            "11-11-2019 08:32:53\n",
            "11-11-2019 08:37:53\n",
            "11-11-2019 08:42:53\n",
            "11-11-2019 08:47:53\n",
            "11-11-2019 08:52:53\n",
            "11-11-2019 08:57:53\n",
            "11-11-2019 09:02:53\n",
            "11-11-2019 09:07:53\n",
            "11-11-2019 09:12:53\n",
            "11-11-2019 09:17:53\n",
            "11-11-2019 09:22:53\n",
            "11-11-2019 09:27:53\n",
            "11-11-2019 09:32:53\n",
            "11-11-2019 09:37:53\n",
            "11-11-2019 09:42:53\n",
            "11-11-2019 09:47:53\n",
            "11-11-2019 09:55:13\n",
            "13-07-2019 12:43:49\n",
            "13-11-2019 02:44:38\n",
            "13-11-2019 02:49:38\n",
            "14-11-2019 09:13:14\n",
            "14-11-2019 09:18:14\n",
            "14-11-2019 09:23:14\n",
            "16-08-2019 09:25:14\n",
            "16-08-2019 09:30:14\n",
            "16-08-2019 09:35:14\n",
            "16-08-2019 09:40:14\n",
            "16-08-2019 09:45:14\n",
            "16-08-2019 09:50:14\n",
            "16-08-2019 09:55:14\n",
            "16-10-2019 07:21:50\n",
            "16-10-2019 07:26:50\n",
            "16-10-2019 07:31:50\n",
            "16-10-2019 07:36:50\n",
            "16-10-2019 07:41:50\n",
            "16-10-2019 11:11:50\n",
            "16-10-2019 11:16:50\n",
            "16-10-2019 11:21:50\n",
            "16-10-2019 11:26:50\n",
            "16-10-2019 11:31:50\n",
            "16-10-2019 11:36:50\n",
            "16-10-2019 11:41:50\n",
            "16-10-2019 13:40:38\n",
            "16-10-2019 13:45:38\n",
            "16-10-2019 13:50:38\n",
            "16-10-2019 13:55:38\n",
            "16-10-2019 13:60:38\n",
            "16-10-2019 14:05:38\n",
            "16-10-2019 14:10:38\n",
            "16-11-2019 15:47:46\n",
            "17-08-2019 05:15:28\n",
            "17-08-2019 05:20:28\n",
            "18-11-2019 11:01:36\n",
            "18-11-2019 11:06:36\n",
            "18-11-2019 11:11:36\n",
            "18-11-2019 11:16:36\n",
            "18-11-2019 11:26:36\n",
            "20-08-2019 22:15:56\n",
            "20-08-2019 22:20:56\n",
            "20-08-2019 22:25:56\n",
            "20-08-2019 22:30:56\n",
            "20-09-2019 17:07:42\n",
            "20-09-2019 17:52:42\n",
            "20-10-2019 06:48:13\n",
            "20-10-2019 06:53:13\n",
            "20-10-2019 06:58:13\n",
            "20-10-2019 07:03:13\n",
            "20-10-2019 07:08:13\n",
            "20-10-2019 07:13:13\n",
            "20-10-2019 07:18:13\n",
            "20-10-2019 07:23:13\n",
            "20-10-2019 07:28:13\n",
            "20-10-2019 07:33:13\n",
            "20-10-2019 07:38:13\n",
            "20-10-2019 07:43:13\n",
            "20-10-2019 07:48:13\n",
            "21-10-2019 07:50:31\n",
            "21-10-2019 07:55:31\n",
            "21-10-2019 07:60:31\n",
            "21-10-2019 08:05:31\n",
            "21-10-2019 08:10:32\n",
            "21-10-2019 08:15:31\n",
            "21-10-2019 08:20:31\n",
            "21-10-2019 08:25:31\n",
            "21-10-2019 08:30:31\n",
            "21-10-2019 08:35:31\n",
            "21-10-2019 08:40:31\n",
            "21-10-2019 08:45:31\n",
            "22-08-2019 17:01:14\n",
            "22-08-2019 17:06:14\n",
            "22-08-2019 17:11:14\n",
            "22-08-2019 17:16:14\n",
            "22-08-2019 17:21:14\n",
            "22-09-2019 04:11:13\n",
            "22-09-2019 04:16:13\n",
            "22-09-2019 04:21:13\n",
            "22-09-2019 04:26:13\n",
            "22-09-2019 04:31:13\n",
            "23-09-2019 17:05:51\n",
            "24-10-2019 12:48:45\n",
            "24-10-2019 12:53:45\n",
            "24-10-2019 12:58:45\n",
            "24-10-2019 13:03:45\n",
            "24-10-2019 13:08:45\n",
            "24-10-2019 13:13:45\n"
          ],
          "name": "stdout"
        }
      ]
    },
    {
      "cell_type": "code",
      "metadata": {
        "id": "Tcp7G_EVVjOd",
        "colab_type": "code",
        "colab": {}
      },
      "source": [
        "## COMBINING ITO DATA \n",
        "\n",
        "with open('/content/past-weather (1).json') as file:\n",
        "  data = json.load(file)\n",
        "  source = data['data']['weather']\n"
      ],
      "execution_count": 0,
      "outputs": []
    },
    {
      "cell_type": "code",
      "metadata": {
        "id": "P25mDZ_1oRSV",
        "colab_type": "code",
        "colab": {}
      },
      "source": [
        "## MATCHING ITO DATA \n",
        "\n",
        "hour_i=[]\n",
        "pres_i=[]\n",
        "temp_i=[]\n",
        "deg_i=[]\n",
        "speed_i=[]\n",
        "\n",
        "ito_weather=[]\n",
        "\n",
        "with open('/content/past-weather (1).json') as file:\n",
        "  data = json.load(file)\n",
        "  source = data['data']['weather']\n",
        "  \n",
        "  for i in source:\n",
        "    for j in range(0,24):\n",
        "      date = i['date']\n",
        "      date = date.split(' ')\n",
        "      date = date[0]\n",
        "      t = date.split('-')\n",
        "      t = t[2]+'-'+t[1]+'-'+t[0]\n",
        "      if(len(str(j))==1):\n",
        "        key = t + ' ' + '0' +str(j) + ':00' \n",
        "      else:\n",
        "        key = t + ' ' +str(j) + ':00'\n",
        "      l=[]\n",
        "      l.append(key)\n",
        "      l.append(i['hourly'][j]['humidity'])\n",
        "      l.append(i['hourly'][j]['tempC'])\n",
        "      l.append(i['hourly'][j]['windspeedKmph'])\n",
        "      l.append(i['hourly'][j]['winddirDegree'])\n",
        "      l.append(i['hourly'][j]['pressure'])\n",
        "      ito_weather.append(l)\n",
        "     "
      ],
      "execution_count": 0,
      "outputs": []
    },
    {
      "cell_type": "code",
      "metadata": {
        "id": "i8o_VjzfuH9l",
        "colab_type": "code",
        "outputId": "a1992bd0-4a3e-4cf3-8812-cfead6e0ec6d",
        "colab": {
          "base_uri": "https://localhost:8080/",
          "height": 34
        }
      },
      "source": [
        "\n",
        "print(len(ito_weather))"
      ],
      "execution_count": 180,
      "outputs": [
        {
          "output_type": "stream",
          "text": [
            "216\n"
          ],
          "name": "stdout"
        }
      ]
    },
    {
      "cell_type": "code",
      "metadata": {
        "id": "5ZtEqU5dJqT9",
        "colab_type": "code",
        "colab": {}
      },
      "source": [
        "weather={}\n",
        "for key in temp_weather:\n",
        "  temp=key.split('-')\n",
        "  newtemp=temp[2].split(' ')\n",
        "  newesttemp=newtemp[1].split(':')\n",
        "  j=int(newesttemp[1])\n",
        "  if(j<=7.5):\n",
        "    final = temp[0] + '-' + temp[1] + '-' + newtemp[0] + ' ' + newesttemp[0] + ':' + '00'\n",
        "  elif(j<=15 or j<=22.5):\n",
        "    final = temp[0] + '-' + temp[1] + '-' + newtemp[0] + ' ' + newesttemp[0] + ':' + '15'\n",
        "  elif(j<=30 or j<=37.5):\n",
        "    final = temp[0] + '-' + temp[1] + '-' + newtemp[0] + ' ' + newesttemp[0] + ':' + '30'\n",
        "  elif(j<=45 or j<=52.5):\n",
        "    final = temp[0] + '-' + temp[1] + '-' + newtemp[0] + ' ' + newesttemp[0] + ':' + '45'\n",
        "  elif(j>52.5):\n",
        "    final = temp[0] + '-' + temp[1] + '-' + newtemp[0] + ' ' + newesttemp[0] + ':' + '00'\n",
        "  if(final not in weather):\n",
        "    weather[final]=temp_weather[key]\n",
        "  \n",
        "  "
      ],
      "execution_count": 0,
      "outputs": []
    },
    {
      "cell_type": "code",
      "metadata": {
        "id": "BLPgYsdKh4Kb",
        "colab_type": "code",
        "outputId": "8a9fa387-ae46-414b-8350-d22b34755d06",
        "colab": {
          "base_uri": "https://localhost:8080/",
          "height": 34
        }
      },
      "source": [
        "print(len(weather))"
      ],
      "execution_count": 182,
      "outputs": [
        {
          "output_type": "stream",
          "text": [
            "12030\n"
          ],
          "name": "stdout"
        }
      ]
    },
    {
      "cell_type": "code",
      "metadata": {
        "id": "FEuHqO0ptX0Z",
        "colab_type": "code",
        "outputId": "2d962514-0691-4c65-8c14-b9698df0c7d2",
        "colab": {
          "base_uri": "https://localhost:8080/",
          "height": 34
        }
      },
      "source": [
        "print(len(feat))"
      ],
      "execution_count": 183,
      "outputs": [
        {
          "output_type": "stream",
          "text": [
            "1930\n"
          ],
          "name": "stdout"
        }
      ]
    },
    {
      "cell_type": "code",
      "metadata": {
        "id": "kjr9MnbJLQe9",
        "colab_type": "code",
        "outputId": "0ad1d4ae-9c5e-4c5b-c04a-549582fcc0d2",
        "colab": {
          "base_uri": "https://localhost:8080/",
          "height": 34
        }
      },
      "source": [
        "print(feat[0])"
      ],
      "execution_count": 184,
      "outputs": [
        {
          "output_type": "stream",
          "text": [
            "['27-06-2019 16:00', 5.071457862854004, 2.468056791148552, '47', '47', 1]\n"
          ],
          "name": "stdout"
        }
      ]
    },
    {
      "cell_type": "code",
      "metadata": {
        "id": "lojx00mxzcgp",
        "colab_type": "code",
        "colab": {}
      },
      "source": [
        "\n",
        "## COMBINING 1ST 4 LOCATIONS DATA \n",
        "for e in feat:\n",
        "  for w in weather:                             \n",
        "    if(e[0] == w):\n",
        "      hours.append(float(e[0][-5:-3]))\n",
        "      pm.append(float(e[3]))\n",
        "      trans.append(e[5])\n",
        "      prev.append(e[4])\n",
        "      ent.append(float(e[1]))\n",
        "      cont.append(float(e[2]))\n",
        "      hum.append(float(weather[w][0]))\n",
        "      pressure.append(float(weather[w][1]))\n",
        "      tempr.append(float(weather[w][2])) \n",
        "      deg.append(float(weather[w][4]))\n",
        "      speed.append(float(weather[w][5]))\n"
      ],
      "execution_count": 0,
      "outputs": []
    },
    {
      "cell_type": "code",
      "metadata": {
        "id": "EH35BQsttcNx",
        "colab_type": "code",
        "outputId": "0f2e40ec-defc-4b99-ce3d-379a5c70b2ab",
        "colab": {
          "base_uri": "https://localhost:8080/",
          "height": 34
        }
      },
      "source": [
        "print(len(hours))"
      ],
      "execution_count": 186,
      "outputs": [
        {
          "output_type": "stream",
          "text": [
            "2416\n"
          ],
          "name": "stdout"
        }
      ]
    },
    {
      "cell_type": "code",
      "metadata": {
        "id": "V2sy-nUAJtu_",
        "colab_type": "code",
        "outputId": "8fb6b4c7-cd53-4956-933a-4a921ccfc336",
        "colab": {
          "base_uri": "https://localhost:8080/",
          "height": 54
        }
      },
      "source": [
        "print(ito_tomatch)"
      ],
      "execution_count": 187,
      "outputs": [
        {
          "output_type": "stream",
          "text": [
            "[['11-06-2019 18:15', 51.30225372314453, 62.41167488853429, '70', '67', 2], ['11-06-2019 18:30', 51.6901969909668, 65.92096936188014, '72', '67', 2], ['11-06-2019 18:45', 49.35541534423828, 69.84196120917944, '70', '67', 1], ['11-06-2019 18:45', 47.42285919189453, 71.90208039735754, '70', '67', 2], ['12-06-2019 06:00', 46.158348083496094, 55.12470737041406, '42', '30', 2], ['12-06-2019 06:15', 44.23955154418945, 51.85770629910809, '53', '30', 2], ['12-06-2019 06:30', 43.47274398803711, 50.01750019478841, '64', '30', 2], ['12-06-2019 06:30', 42.412235260009766, 50.80681670899859, '64', '30', 2], ['12-06-2019 06:45', 40.0946044921875, 47.72929771520065, '73', '64', 2], ['12-06-2019 06:45', 38.050880432128906, 47.84222049204144, '73', '64', 2], ['12-06-2019 07:00', 37.19507598876953, 47.47842659639436, '75', '64', 2], ['12-06-2019 07:15', 34.260581970214844, 46.94441006703551, '73', '64', 2], ['12-06-2019 07:30', 32.8756217956543, 46.56539045231198, '67', '64', 2], ['12-06-2019 07:30', 31.82106590270996, 46.2249116061619, '67', '64', 2], ['12-06-2019 07:45', 31.787961959838867, 46.20187483824781, '59', '64', 2], ['12-06-2019 07:45', 30.962018966674805, 45.73112708381207, '59', '64', 2], ['12-06-2019 08:00', 30.800764083862305, 45.336669010982725, '51', '59', 2], ['12-06-2019 08:15', 29.90443992614746, 44.87653019662751, '48', '59', 2], ['12-06-2019 08:30', 29.207504272460938, 44.383564558145224, '48', '59', 2], ['12-06-2019 09:00', 32.15869903564453, 45.11810459109016, '52', '59', 2], ['12-06-2019 09:30', 30.94854736328125, 44.7268661389367, '49', '52', 2], ['12-06-2019 09:30', 32.70370101928711, 45.02944777408771, '49', '52', 2], ['12-06-2019 09:45', 32.80683135986328, 44.89493035835246, '46', '52', 2], ['12-06-2019 10:00', 32.72287368774414, 48.39974262730775, '45', '52', 2], ['12-06-2019 10:15', 31.955671310424805, 45.49079512594094, '44', '52', 2], ['12-06-2019 10:15', 31.313690185546875, 45.851893319311046, '44', '52', 2], ['12-06-2019 10:30', 31.28879165649414, 46.313507764780134, '42', '44', 2], ['12-06-2019 10:45', 31.32713508605957, 47.22830254939595, '41', '44', 2], ['12-06-2019 10:45', 32.4277458190918, 48.206997733484215, '41', '44', 2], ['12-06-2019 11:15', 32.3286247253418, 49.5965363591617, '39', '44', 2], ['12-06-2019 11:15', 34.485198974609375, 48.97078289215779, '39', '44', 2], ['12-06-2019 11:30', 33.7920036315918, 50.13428011964345, '40', '44', 2], ['12-06-2019 11:30', 33.56005859375, 50.72556396408109, '40', '44', 2], ['12-06-2019 11:45', 33.70969772338867, 52.213981144720876, '43', '40', 2], ['12-06-2019 12:00', 32.77495193481445, 53.140678647132574, '47', '40', 2], ['12-06-2019 12:00', 32.20648193359375, 53.72197928031719, '47', '40', 2], ['12-06-2019 12:15', 33.036197662353516, 55.17525824225512, '49', '40', 2], ['12-06-2019 12:30', 34.37208557128906, 57.309718287313, '52', '40', 2], ['12-06-2019 12:45', 35.7152214050293, 57.65957846434268, '54', '40', 2], ['12-06-2019 12:45', 34.7363395690918, 57.80537690782678, '54', '40', 2], ['12-06-2019 13:00', 34.76860427856445, 58.20442966322038, '55', '54', 2], ['12-06-2019 13:15', 35.934329986572266, 58.73986416821143, '57', '54', 2], ['12-06-2019 15:30', 47.19451904296875, 63.51554599758663, '61', '59', 1], ['12-06-2019 15:30', 47.48003005981445, 64.36928166245845, '61', '59', 1], ['12-06-2019 15:45', 48.25565719604492, 64.1216216542865, '62', '59', 1], ['12-06-2019 15:45', 48.54079055786133, 64.10687924009471, '62', '59', 1], ['12-06-2019 16:00', 49.577880859375, 65.05902085090344, '61', '59', 1], ['12-06-2019 16:00', 50.95669174194336, 65.99819942257454, '61', '59', 1], ['12-06-2019 16:15', 49.8241081237793, 65.24940427722392, '61', '59', 1], ['12-06-2019 16:15', 49.9549674987793, 65.12862300119104, '61', '59', 1], ['12-06-2019 16:30', 49.80657958984375, 65.54315042655092, '60', '59', 1], ['12-06-2019 16:45', 50.543766021728516, 65.46545088735884, '60', '60', 1], ['12-06-2019 17:00', 51.21722412109375, 66.55477868320392, '60', '60', 1], ['12-06-2019 17:15', 50.97709655761719, 66.05903022490736, '61', '60', 1], ['12-06-2019 17:15', 50.58348083496094, 66.48517585209296, '61', '60', 1], ['12-06-2019 17:30', 50.76605224609375, 67.01089573990326, '62', '60', 1], ['12-06-2019 17:45', 50.68608474731445, 67.59783946667821, '61', '60', 1], ['12-06-2019 17:45', 51.3503303527832, 68.43112464549442, '61', '60', 1], ['12-06-2019 18:00', 52.79422378540039, 69.16652607805335, '61', '61', 1], ['12-06-2019 18:00', 36.72134017944336, 36.45355536750859, '61', '61', 2], ['12-06-2019 18:15', 51.102352142333984, 63.44774950209039, '60', '61', 2], ['12-06-2019 18:30', 50.52366638183594, 51.16357108829756, '61', '61', 2], ['12-06-2019 18:30', 47.351356506347656, 46.95396988610587, '61', '61', 2], ['12-06-2019 18:45', 42.24052047729492, 42.239263105069114, '62', '61', 2], ['13-06-2019 06:00', 50.059024810791016, 59.87059050738194, '74', '54', 2], ['13-06-2019 06:00', 38.877113342285156, 45.43680899282851, '74', '54', 2], ['13-06-2019 06:15', 48.39274978637695, 51.87829495214821, '76', '54', 2], ['13-06-2019 06:15', 47.096004486083984, 49.68487704687272, '76', '54', 2], ['13-06-2019 06:30', 44.76161575317383, 54.19491662734185, '75', '54', 2], ['13-06-2019 06:45', 44.216575622558594, 51.931611981690764, '75', '75', 2], ['13-06-2019 07:00', 35.66755294799805, 46.86251531205941, '66', '75', 2], ['13-06-2019 07:15', 33.56608581542969, 46.11075508411383, '64', '75', 2], ['13-06-2019 07:15', 32.88548278808594, 45.772525886454794, '64', '75', 2], ['13-06-2019 07:30', 31.941604614257812, 45.25080603845203, '65', '75', 2], ['13-06-2019 07:45', 31.81717872619629, 45.03312395030504, '67', '75', 2], ['13-06-2019 07:45', 31.258224487304688, 44.63125511411235, '67', '75', 2], ['13-06-2019 08:00', 31.42304039001465, 44.32070292601607, '68', '67', 2], ['13-06-2019 08:15', 31.278701782226562, 43.97378762714428, '67', '67', 2], ['13-06-2019 08:15', 31.310117721557617, 43.68199582551411, '67', '67', 2], ['13-06-2019 08:30', 31.497631072998047, 43.854728725434754, '67', '67', 2], ['13-06-2019 08:45', 31.480655670166016, 43.12979509987286, '65', '67', 2], ['13-06-2019 08:45', 30.859737396240234, 42.92772876974944, '65', '67', 2], ['13-06-2019 09:00', 31.271440505981445, 43.26560042117071, '63', '67', 2], ['13-06-2019 09:15', 31.11680793762207, 43.25927790640385, '61', '63', 2], ['13-06-2019 09:15', 30.485107421875, 43.47434499728679, '61', '63', 2], ['13-06-2019 09:30', 30.263364791870117, 43.25622898056364, '56', '63', 2], ['13-06-2019 09:45', 30.86550521850586, 43.42803821423119, '51', '63', 2], ['13-06-2019 09:45', 31.71217918395996, 43.6180386320587, '51', '63', 2], ['13-06-2019 10:00', 32.46610641479492, 43.81172742386243, '46', '63', 2], ['13-06-2019 10:15', 32.81034469604492, 44.177838713820684, '42', '63', 2], ['13-06-2019 10:15', 33.55817413330078, 44.285128270831166, '42', '63', 2], ['13-06-2019 10:30', 33.63022232055664, 44.97092056536631, '42', '42', 2], ['13-06-2019 10:45', 33.796348571777344, 45.498443992768046, '42', '42', 2], ['14-06-2019 06:00', 43.36465072631836, 56.90103545126287, '45', '38', 2], ['14-06-2019 06:00', 37.45490264892578, 49.092234301045835, '45', '38', 2], ['14-06-2019 06:15', 42.7174072265625, 55.613479625674636, '47', '45', 2], ['14-06-2019 06:30', 39.727718353271484, 53.086511411636494, '48', '45', 2], ['14-06-2019 06:30', 38.450157165527344, 51.63497174498282, '48', '45', 2], ['14-06-2019 06:45', 37.63078689575195, 50.017741484869894, '48', '45', 2], ['14-06-2019 07:00', 37.67377853393555, 48.63142940147788, '47', '45', 2], ['14-06-2019 07:15', 37.20960235595703, 48.52543571985726, '44', '45', 2], ['14-06-2019 10:15', 35.91489791870117, 46.595562941297906, '50', '53', 2], ['14-06-2019 10:15', 36.03428649902344, 46.52047540021184, '50', '53', 2], ['14-06-2019 10:30', 35.73777389526367, 47.114177296097544, '50', '53', 2], ['14-06-2019 10:45', 35.10736846923828, 47.36796195369558, '50', '53', 2], ['14-06-2019 10:45', 34.872840881347656, 48.00803295483102, '50', '53', 2], ['14-06-2019 11:00', 34.33221435546875, 48.47845611915709, '48', '53', 2], ['14-06-2019 11:15', 34.199974060058594, 49.270569879376595, '47', '48', 2], ['14-06-2019 11:30', 34.58530807495117, 49.91696146499558, '45', '48', 2], ['14-06-2019 11:30', 34.97652816772461, 50.72286203295468, '45', '48', 2], ['14-06-2019 11:45', 34.84855651855469, 52.16300914040661, '44', '48', 2], ['14-06-2019 12:00', 34.576454162597656, 53.3165094135792, '46', '48', 2], ['14-06-2019 12:00', 34.145843505859375, 54.058676669948625, '46', '48', 2], ['14-06-2019 12:00', 32.521629333496094, 57.99561194365828, '46', '48', 2], ['14-06-2019 12:15', 32.277400970458984, 55.7086408497206, '47', '48', 2], ['14-06-2019 12:30', 30.792512893676758, 57.76270167334683, '48', '47', 2], ['14-06-2019 12:30', 31.269187927246094, 57.675973716784725, '48', '47', 2], ['14-06-2019 12:45', 31.171688079833984, 57.53988581365674, '49', '47', 2], ['14-06-2019 13:00', 30.922367095947266, 58.33963557806603, '50', '47', 2], ['14-06-2019 13:00', 35.301124572753906, 60.303375221831836, '50', '47', 2], ['14-06-2019 13:15', 31.865325927734375, 58.833532072717425, '49', '47', 2], ['14-06-2019 13:30', 32.74595642089844, 58.97324542500404, '47', '47', 2], ['14-06-2019 13:30', 34.81939697265625, 59.35209822400391, '47', '47', 2], ['14-06-2019 13:45', 35.05396270751953, 59.821749887233224, '46', '47', 2], ['14-06-2019 15:00', 47.57149887084961, 63.28214245341842, '49', '48', 1], ['14-06-2019 15:15', 45.14170837402344, 63.4523045343972, '49', '48', 2], ['14-06-2019 15:15', 44.84111404418945, 63.41283432576546, '49', '48', 2], ['14-06-2019 15:30', 46.48158264160156, 63.06555581876562, '47', '48', 2], ['14-06-2019 15:30', 46.69247055053711, 63.02188116710435, '47', '48', 2], ['14-06-2019 15:45', 46.62596893310547, 63.46221866479533, '46', '48', 2], ['14-06-2019 16:00', 49.26118850708008, 64.23705743543522, '46', '48', 2], ['14-06-2019 16:00', 50.75554656982422, 65.44153755868368, '46', '48', 1], ['14-06-2019 16:15', 49.21112823486328, 63.96912889975014, '47', '46', 1], ['14-06-2019 16:30', 49.42208480834961, 65.06478705263386, '48', '46', 1], ['14-06-2019 16:45', 50.436866760253906, 64.53537824070116, '47', '46', 1], ['14-06-2019 16:45', 50.30047607421875, 64.70586827778406, '47', '46', 1], ['14-06-2019 17:15', 51.1042366027832, 65.55702366355465, '44', '46', 1], ['14-06-2019 17:15', 50.92360305786133, 65.45951258002032, '44', '46', 1], ['14-06-2019 17:30', 51.44194030761719, 66.1297814654188, '45', '44', 1], ['14-06-2019 17:45', 51.10115432739258, 66.81450405830212, '45', '44', 1], ['14-06-2019 18:00', 50.501136779785156, 67.70320866895219, '44', '44', 1], ['14-06-2019 18:00', 50.387821197509766, 67.7151559928622, '44', '44', 1], ['14-06-2019 18:15', 50.23051452636719, 68.19299022905695, '44', '44', 1], ['14-06-2019 18:30', 49.41742706298828, 68.6385966286088, '42', '44', 1], ['14-06-2019 18:30', 48.288970947265625, 68.65784313568395, '42', '44', 1], ['14-06-2019 18:45', 47.61601257324219, 68.5972794618859, '42', '42', 1], ['15-06-2019 06:00', 46.867618560791016, 56.661628680768494, '62', '83', 2], ['15-06-2019 06:15', 48.04295349121094, 56.98927946322508, '63', '62', 2], ['15-06-2019 06:15', 48.36979293823242, 55.76470636728293, '63', '62', 2], ['15-06-2019 06:15', 44.95270538330078, 51.62087799893668, '63', '62', 2], ['15-06-2019 08:00', 31.098388671875, 45.90889678829452, '106', '86', 2], ['15-06-2019 08:00', 31.884790420532227, 45.666595480405675, '106', '86', 2], ['15-06-2019 08:00', 31.286043167114258, 44.99380347125769, '106', '86', 2], ['15-06-2019 08:15', 31.62026596069336, 45.176128266586964, '111', '86', 2], ['15-06-2019 08:30', 32.16498565673828, 45.054851208060825, '113', '86', 2], ['15-06-2019 08:45', 31.478668212890625, 44.857772083252364, '113', '113', 2], ['15-06-2019 08:45', 30.86676025390625, 45.006973057122664, '113', '113', 2], ['15-06-2019 09:00', 31.870250701904297, 45.089949611915195, '111', '113', 2], ['15-06-2019 09:00', 36.042049407958984, 46.180599405979464, '111', '113', 2], ['15-06-2019 09:15', 33.64898681640625, 45.408791353794136, '105', '113', 2], ['15-06-2019 09:30', 33.923423767089844, 45.20433890536793, '96', '113', 2], ['15-06-2019 09:45', 35.25283432006836, 45.94799954745151, '87', '113', 2], ['15-06-2019 12:30', 30.096391677856445, 56.92555871797557, '55', '54', 2], ['15-06-2019 12:30', 31.671558380126953, 58.081847815193406, '55', '54', 2], ['15-06-2019 14:00', 44.43503952026367, 63.66781812468264, '54', '55', 2], ['15-06-2019 14:30', 40.502052307128906, 60.310656224583454, '54', '55', 2], ['15-06-2019 14:45', 41.46529769897461, 62.62793325245639, '53', '55', 2], ['15-06-2019 15:00', 45.34077072143555, 63.32748160894371, '52', '53', 2], ['15-06-2019 15:00', 46.44303894042969, 67.24210760997113, '52', '53', 1], ['15-06-2019 15:15', 45.01884460449219, 63.73086902461544, '52', '53', 2], ['15-06-2019 15:30', 46.29197311401367, 64.21654438433185, '53', '53', 2], ['15-06-2019 15:30', 41.90113830566406, 61.21358550304473, '53', '53', 2], ['15-06-2019 15:45', 49.11261749267578, 62.00357745568147, '55', '53', 2], ['15-06-2019 16:00', 47.955936431884766, 66.14389472382112, '55', '53', 2], ['15-06-2019 16:15', 45.10026550292969, 69.25760008189852, '55', '55', 1], ['15-06-2019 16:15', 50.42001724243164, 63.86405260849804, '55', '55', 1], ['15-06-2019 16:30', 47.4567756652832, 69.08605627734697, '54', '55', 2], ['15-06-2019 16:45', 51.05210494995117, 64.70799482083065, '52', '55', 1], ['15-06-2019 17:00', 50.73711013793945, 67.55405690090973, '52', '55', 1], ['15-06-2019 17:30', 47.78891372680664, 69.81780489883363, '50', '52', 2], ['15-06-2019 17:45', 47.47632598876953, 68.36967222050396, '48', '52', 2], ['15-06-2019 18:00', 49.4050407409668, 68.55544917025681, '48', '52', 2], ['15-06-2019 18:15', 48.66305160522461, 69.13383873162631, '48', '52', 1], ['15-06-2019 18:30', 48.812015533447266, 67.38201190206816, '50', '52', 2], ['16-06-2019 06:00', 39.54072952270508, 47.45920496497844, '22', '32', 2], ['16-06-2019 06:15', 44.22628402709961, 61.999489068674784, '21', '22', 2], ['16-06-2019 06:15', 39.7684326171875, 56.272783743488525, '21', '22', 2], ['16-06-2019 06:30', 40.09148406982422, 53.144048944320254, '21', '22', 2], ['16-06-2019 06:45', 40.775413513183594, 50.4036379981002, '23', '22', 2], ['16-06-2019 06:45', 39.87503433227539, 49.80607667305789, '23', '22', 2], ['16-06-2019 07:00', 38.33375930786133, 45.434800917126296, '26', '22', 2], ['16-06-2019 07:15', 39.74296951293945, 47.400850638745695, '28', '22', 2], ['16-06-2019 07:15', 46.42050552368164, 51.026545070520214, '28', '22', 2], ['16-06-2019 07:30', 39.66659927368164, 49.89242751626259, '30', '28', 2], ['16-06-2019 07:45', 36.33930969238281, 48.41248053313103, '31', '28', 2], ['16-06-2019 07:45', 38.15129470825195, 47.691366172657766, '31', '28', 2], ['16-06-2019 08:00', 52.139320373535156, 52.55711061753255, '32', '28', 2], ['16-06-2019 08:15', 42.62049865722656, 47.509889943194466, '33', '28', 2], ['16-06-2019 08:15', 45.44593811035156, 54.83598587247035, '33', '28', 2], ['16-06-2019 08:30', 47.495365142822266, 56.18599873986547, '33', '28', 2], ['16-06-2019 08:45', 50.111995697021484, 58.101066778467285, '34', '33', 2], ['16-06-2019 08:45', 45.548370361328125, 46.71980845195658, '34', '33', 2], ['16-06-2019 09:15', 40.87337875366211, 49.42080474036535, '35', '33', 2], ['16-06-2019 09:15', 45.54779815673828, 54.10370709295791, '35', '33', 2], ['16-06-2019 09:30', 45.090824127197266, 55.191207713131085, '38', '33', 2], ['16-06-2019 09:45', 45.92877960205078, 59.5169839412099, '36', '33', 2], ['16-06-2019 09:45', 48.135986328125, 59.247761280478656, '36', '33', 2], ['16-06-2019 10:00', 46.14958953857422, 65.46287814559264, '32', '36', 2], ['16-06-2019 10:00', 47.91789627075195, 59.44658512426182, '32', '36', 2], ['16-06-2019 10:15', 43.32929611206055, 64.72905017766384, '29', '36', 2], ['16-06-2019 10:15', 49.445030212402344, 68.67150213100307, '29', '36', 1], ['16-06-2019 10:30', 51.916481018066406, 64.57549893177672, '24', '36', 1], ['16-06-2019 10:45', 48.226463317871094, 62.89339011051711, '21', '36', 2], ['16-06-2019 10:45', 44.988807678222656, 62.76741608152665, '21', '36', 2], ['16-06-2019 11:15', 51.88028335571289, 57.700169462036946, '22', '21', 2], ['16-06-2019 11:15', 49.2167854309082, 56.03956257229382, '22', '21', 2], ['16-06-2019 11:30', 51.29228210449219, 56.58120581949972, '23', '21', 2], ['16-06-2019 11:45', 50.80247497558594, 57.657162334392524, '24', '21', 2], ['16-06-2019 11:45', 52.76638412475586, 58.53454240865943, '24', '21', 2], ['16-06-2019 12:00', 49.77580261230469, 53.642843192311716, '27', '21', 2], ['16-06-2019 12:15', 46.627017974853516, 56.11152391094948, '28', '21', 2], ['16-06-2019 12:15', 46.04275131225586, 61.62392463758981, '28', '21', 2], ['16-06-2019 12:30', 48.07814407348633, 61.05785846901244, '28', '28', 2], ['16-06-2019 12:45', 47.10274124145508, 58.877887831792854, '28', '28', 2], ['16-06-2019 12:45', 46.740848541259766, 60.58345020156212, '28', '28', 2], ['16-06-2019 13:00', 45.27071762084961, 58.81490437830871, '26', '28', 2], ['16-06-2019 13:15', 45.36494445800781, 58.0301907007896, '27', '28', 2], ['16-06-2019 13:15', 51.85981750488281, 59.96981252478918, '27', '28', 2], ['16-06-2019 13:30', 48.93791198730469, 62.02201283936373, '28', '28', 2], ['16-06-2019 13:45', 45.679176330566406, 62.63186640092793, '28', '28', 2], ['16-06-2019 13:45', 45.527103424072266, 66.9602558328887, '28', '28', 1], ['16-06-2019 14:00', 46.397361755371094, 61.739050515158446, '29', '28', 2], ['16-06-2019 14:15', 41.8507080078125, 59.227940333781, '28', '28', 2], ['16-06-2019 14:15', 44.08022689819336, 60.83319081567102, '28', '28', 2], ['16-06-2019 14:30', 44.66472625732422, 62.04891085974154, '28', '28', 2], ['16-06-2019 14:45', 41.39556121826172, 60.76144237988087, '29', '28', 2], ['16-06-2019 14:45', 41.6468391418457, 59.44056814222161, '29', '28', 2], ['16-06-2019 15:00', 45.918678283691406, 60.53267742978209, '30', '29', 2], ['16-06-2019 15:15', 39.95075225830078, 70.63446718901906, '32', '29', 1], ['16-06-2019 15:15', 47.159767150878906, 59.79975425747367, '32', '29', 2], ['16-06-2019 15:30', 45.446983337402344, 60.77813199575338, '31', '29', 2], ['16-06-2019 15:45', 47.243831634521484, 61.02035490057908, '29', '29', 1], ['16-06-2019 15:45', 50.29640579223633, 60.90640139316109, '29', '29', 1], ['16-06-2019 16:00', 51.381996154785156, 59.436772626021934, '28', '29', 2], ['16-06-2019 16:15', 50.83932876586914, 62.45579762021549, '25', '28', 1], ['16-06-2019 16:15', 50.144187927246094, 61.274026311991825, '25', '28', 1], ['16-06-2019 16:30', 44.72529983520508, 69.85439199822898, '23', '28', 1], ['16-06-2019 16:45', 50.804813385009766, 62.0617883828322, '23', '28', 1], ['16-06-2019 16:45', 51.17708969116211, 61.89992477397087, '23', '28', 1]]\n"
          ],
          "name": "stdout"
        }
      ]
    },
    {
      "cell_type": "code",
      "metadata": {
        "id": "rXGAKKsKcTLR",
        "colab_type": "code",
        "colab": {}
      },
      "source": [
        "\n",
        "for e in ito_tomatch:\n",
        "  for w in ito_weather: \n",
        "    if(e[0] == w[0]):\n",
        "      hours.append(e[0][-5:-3])\n",
        "      trans.append(e[5])\n",
        "      prev.append(e[4])\n",
        "      ent.append(e[1])\n",
        "      cont.append(e[2])\n",
        "      pm.append(e[3])\n",
        "      hum.append(w[1])\n",
        "      tempr.append(w[2])\n",
        "      speed.append(w[3]) \n",
        "      deg.append(w[4])\n",
        "      pressure.append(w[5])\n",
        "\n",
        "  "
      ],
      "execution_count": 0,
      "outputs": []
    },
    {
      "cell_type": "code",
      "metadata": {
        "id": "z4GyhcSIkOq7",
        "colab_type": "code",
        "outputId": "8b171adf-7c5e-4257-b2a7-3300e992558d",
        "colab": {
          "base_uri": "https://localhost:8080/",
          "height": 188
        }
      },
      "source": [
        "print(len(trans))\n",
        "print(len(hours))\n",
        "print(len(cont))\n",
        "print(len(ent))\n",
        "print(len(hum))\n",
        "print(len(pressure))\n",
        "print(len(tempr))\n",
        "print(len(deg))\n",
        "print(len(speed))\n",
        "print(len(prev))"
      ],
      "execution_count": 189,
      "outputs": [
        {
          "output_type": "stream",
          "text": [
            "2471\n",
            "2471\n",
            "2471\n",
            "2471\n",
            "2471\n",
            "2471\n",
            "2471\n",
            "2471\n",
            "2471\n",
            "2471\n"
          ],
          "name": "stdout"
        }
      ]
    },
    {
      "cell_type": "code",
      "metadata": {
        "id": "_kNbjH5zKD1x",
        "colab_type": "code",
        "colab": {}
      },
      "source": [
        "prev = list(map(float,prev))"
      ],
      "execution_count": 0,
      "outputs": []
    },
    {
      "cell_type": "code",
      "metadata": {
        "id": "6oRI0Z3sWLvM",
        "colab_type": "code",
        "outputId": "5ed8226e-942f-4d31-ec3c-af6ebfa2efe9",
        "colab": {
          "base_uri": "https://localhost:8080/",
          "height": 1000
        }
      },
      "source": [
        "print(trans)\n",
        "print(hours)\n",
        "print(cont)\n",
        "print(ent)\n",
        "print(hum)\n",
        "print(pressure)\n",
        "print(tempr)\n",
        "print(deg)\n",
        "print(speed)\n",
        "print(pm)\n"
      ],
      "execution_count": 201,
      "outputs": [
        {
          "output_type": "stream",
          "text": [
            "[[1.]\n",
            " [1.]\n",
            " [1.]\n",
            " ...\n",
            " [2.]\n",
            " [2.]\n",
            " [2.]]\n",
            "[['10.0']\n",
            " ['10.0']\n",
            " ['11.0']\n",
            " ...\n",
            " ['14']\n",
            " ['15']\n",
            " ['16']]\n",
            "[[13.98805832]\n",
            " [13.01122581]\n",
            " [72.93656037]\n",
            " ...\n",
            " [61.73905052]\n",
            " [60.53267743]\n",
            " [59.43677263]]\n",
            "[[18.30630112]\n",
            " [17.75995827]\n",
            " [38.76405716]\n",
            " ...\n",
            " [46.39736176]\n",
            " [45.91867828]\n",
            " [51.38199615]]\n",
            "[['83.0']\n",
            " ['83.0']\n",
            " ['84.0']\n",
            " ...\n",
            " ['45']\n",
            " ['49']\n",
            " ['45']]\n",
            "[['1001.0']\n",
            " ['1001.0']\n",
            " ['1001.0']\n",
            " ...\n",
            " ['996']\n",
            " ['995']\n",
            " ['995']]\n",
            "[['29.68']\n",
            " ['29.68']\n",
            " ['30.0']\n",
            " ...\n",
            " ['35']\n",
            " ['33']\n",
            " ['34']]\n",
            "[['60.0']\n",
            " ['60.0']\n",
            " ['90.0']\n",
            " ...\n",
            " ['217']\n",
            " ['193']\n",
            " ['202']]\n",
            "[['4.1']\n",
            " ['4.1']\n",
            " ['1.5']\n",
            " ...\n",
            " ['27']\n",
            " ['28']\n",
            " ['27']]\n",
            "[['47.0']\n",
            " ['47.0']\n",
            " ['47.0']\n",
            " ...\n",
            " ['29']\n",
            " ['30']\n",
            " ['28']]\n"
          ],
          "name": "stdout"
        }
      ]
    },
    {
      "cell_type": "markdown",
      "metadata": {
        "id": "28cblVcMm65k",
        "colab_type": "text"
      },
      "source": [
        ""
      ]
    },
    {
      "cell_type": "code",
      "metadata": {
        "id": "kWfkP34Wbyms",
        "colab_type": "code",
        "colab": {
          "base_uri": "https://localhost:8080/",
          "height": 34
        },
        "outputId": "f6b0910c-8ad8-4b25-bbc5-810a8583608e"
      },
      "source": [
        "print(np.shape(hours))"
      ],
      "execution_count": 202,
      "outputs": [
        {
          "output_type": "stream",
          "text": [
            "(2471, 1)\n"
          ],
          "name": "stdout"
        }
      ]
    },
    {
      "cell_type": "code",
      "metadata": {
        "id": "oboQZqnmAATV",
        "colab_type": "code",
        "colab": {
          "base_uri": "https://localhost:8080/",
          "height": 360
        },
        "outputId": "779a6b86-4571-4136-c36e-676592b14cae"
      },
      "source": [
        "final_shape=len(hours)\n",
        "\n",
        "#FEATURES \n",
        "\n",
        "trans= np.reshape(trans,(final_shape,1))\n",
        "hours = np.reshape(hours,(final_shape,1))\n",
        "cont = np.reshape(cont,(final_shape,1))\n",
        "ent = np.reshape(ent,(final_shape,1))\n",
        "hum = np.reshape(hum,(final_shape,1))\n",
        "pressure = np.reshape(pressure,(final_shape,1))\n",
        "tempr = np.reshape(tempr,(final_shape,1))\n",
        "deg = np.reshape(deg,(final_shape,1))\n",
        "speed = np.reshape(speed,(final_shape,1))\n",
        "prev = np.reshape(prev,(final_shape,1))\n",
        "\n",
        "pm = np.reshape(pm,(final_shape,1))\n",
        "\n",
        "features = np.hstack((hours, cont, ent , hum, tempr, deg, speed, pressure,trans,prev))\n",
        "\n",
        "print(max(hours))\n",
        "print(min(hours))\n",
        "\n",
        "\n",
        "print(max(cont))\n",
        "print(min(cont))\n",
        "\n",
        "\n",
        "print(max(ent))\n",
        "print(min(ent))\n",
        "\n",
        "\n",
        "print(max(hum))\n",
        "print(min(hum))\n",
        "\n",
        "\n",
        "print(max(tempr))\n",
        "print(min(tempr))\n",
        "\n",
        "\n",
        "print(max(deg))\n",
        "print(min(deg))\n",
        "\n",
        "\n",
        "print(max(speed))\n",
        "print(min(speed))\n",
        "\n",
        "\n",
        "print(max(pressure))\n",
        "print(min(pressure))\n",
        "\n",
        "\n",
        "print(max(trans))\n",
        "print(min(trans))\n",
        "\n",
        "print(max(prev))\n",
        "print(min(prev))\n",
        "\n",
        "with open('/content/Non_Scaled_June_July_Aug_features.bin','wb') as file:\n",
        "  pickle.dump(features, file)\n",
        "\n",
        "with open('/content/Non_Scaled_June_July_Aug_labels.bin','wb') as file:\n",
        "  pickle.dump(pm, file)\n",
        "\n"
      ],
      "execution_count": 203,
      "outputs": [
        {
          "output_type": "stream",
          "text": [
            "['9.0']\n",
            "['06']\n",
            "[93.63434076]\n",
            "[0.74018405]\n",
            "[57.4491806]\n",
            "[1.46759117]\n",
            "['94.0']\n",
            "['100.0']\n",
            "['48']\n",
            "['28.57']\n",
            "['94.119']\n",
            "['10.0']\n",
            "['9']\n",
            "['1.0']\n",
            "['999.0']\n",
            "['1000.0']\n",
            "[5.]\n",
            "[0.]\n",
            "['99.0']\n",
            "['100.0']\n"
          ],
          "name": "stdout"
        }
      ]
    },
    {
      "cell_type": "code",
      "metadata": {
        "id": "K7nVc836gPkg",
        "colab_type": "code",
        "colab": {
          "base_uri": "https://localhost:8080/",
          "height": 51
        },
        "outputId": "be432506-147f-447a-c542-8ef7fc014637"
      },
      "source": [
        "print(np.shape(pm))\n",
        "print(np.shape(features))"
      ],
      "execution_count": 194,
      "outputs": [
        {
          "output_type": "stream",
          "text": [
            "(2471, 1)\n",
            "(2471, 10)\n"
          ],
          "name": "stdout"
        }
      ]
    },
    {
      "cell_type": "markdown",
      "metadata": {
        "id": "O7wLCqZKVrlz",
        "colab_type": "text"
      },
      "source": [
        "POINT TO CONCATENATE ALL THE NEW DATA - USE NON SCALED FEATURES OF ALL THE DATA "
      ]
    },
    {
      "cell_type": "code",
      "metadata": {
        "id": "1S8onlFOVrJ8",
        "colab_type": "code",
        "colab": {}
      },
      "source": [
        "with open('/content/Non_Scaled_June_July_Aug_features.bin','rb') as file:\n",
        "  f1 = pickle.load(file)\n",
        "with open('/content/Labels_June_July_Aug.bin','rb') as file:\n",
        "  l1 = pickle.load(file)\n",
        "with open('/content/NOVEMBER_non_scaled_features_withshadipur.bin','rb') as file:\n",
        "  f2 = pickle.load(file)\n",
        "with open('/content/labels_November_withshadipur.bin','rb') as file:\n",
        "  l2 = pickle.load(file)"
      ],
      "execution_count": 0,
      "outputs": []
    },
    {
      "cell_type": "code",
      "metadata": {
        "id": "_bSYwKajg8HD",
        "colab_type": "code",
        "colab": {
          "base_uri": "https://localhost:8080/",
          "height": 86
        },
        "outputId": "2636a4d5-7e4f-49d1-acd4-3fa4bf8da21c"
      },
      "source": [
        "print(f1[3])\n",
        "print(f2[3])\n",
        "\n",
        "#print(l1)"
      ],
      "execution_count": 207,
      "outputs": [
        {
          "output_type": "stream",
          "text": [
            "['13.0' '35.950088737028686' '29.211015701293945' '63.0' '31.2' '70.0'\n",
            " '3.1' '1000.0' '3.0' '47.0']\n",
            "[0.1        0.60095032 0.59801594 0.83050847 0.15384615 0.1369863\n",
            " 0.1734104  0.4        1.         1.        ]\n"
          ],
          "name": "stdout"
        }
      ]
    },
    {
      "cell_type": "code",
      "metadata": {
        "id": "ZIesP3n4Wwr0",
        "colab_type": "code",
        "colab": {
          "base_uri": "https://localhost:8080/",
          "height": 86
        },
        "outputId": "e51ce4f9-79eb-44b4-e184-b0f81781d5e8"
      },
      "source": [
        "print(np.shape(f1))\n",
        "print(np.shape(l1))\n",
        "print(np.shape(f2))\n",
        "print(np.shape(l2))"
      ],
      "execution_count": 196,
      "outputs": [
        {
          "output_type": "stream",
          "text": [
            "(2471, 10)\n",
            "(2471, 1)\n",
            "(356, 10)\n",
            "(356, 1)\n"
          ],
          "name": "stdout"
        }
      ]
    },
    {
      "cell_type": "code",
      "metadata": {
        "id": "1EKQpXeLggIo",
        "colab_type": "code",
        "colab": {
          "base_uri": "https://localhost:8080/",
          "height": 137
        },
        "outputId": "9a485c30-17e1-403b-8128-29b92fddebd0"
      },
      "source": [
        "print(f2)"
      ],
      "execution_count": 197,
      "outputs": [
        {
          "output_type": "stream",
          "text": [
            "[[0.         0.93167071 0.7368376  ... 0.2        1.         1.        ]\n",
            " [0.         0.93824197 0.74180308 ... 0.2        1.         1.        ]\n",
            " [0.1        0.83898828 0.88279947 ... 0.4        1.         1.        ]\n",
            " ...\n",
            " [0.3        0.7739057  0.79190233 ... 0.4        2.         0.        ]\n",
            " [0.3        0.74639256 0.82475374 ... 0.4        2.         0.        ]\n",
            " [0.3        0.74263758 0.81786832 ... 0.4        2.         0.        ]]\n"
          ],
          "name": "stdout"
        }
      ]
    },
    {
      "cell_type": "code",
      "metadata": {
        "id": "bPGuvReHfLDR",
        "colab_type": "code",
        "colab": {}
      },
      "source": [
        "\n",
        "##SCALING \n",
        "\n",
        "s1 = MinMaxScaler()\n",
        "hours = s1.fit_transform(hours)\n",
        "s2 = MinMaxScaler()\n",
        "cont = s2.fit_transform(cont)\n",
        "s3 = MinMaxScaler()\n",
        "ent = s3.fit_transform(ent)\n",
        "s4 = MinMaxScaler()\n",
        "hum = s4.fit_transform(hum)\n",
        "s5 = MinMaxScaler()\n",
        "pressure = s5.fit_transform(pressure)\n",
        "s6 = MinMaxScaler()\n",
        "tempr = s6.fit_transform(tempr)\n",
        "s7 = MinMaxScaler()\n",
        "deg = s7.fit_transform(deg)\n",
        "s8 = MinMaxScaler()\n",
        "speed = s8.fit_transform(speed)\n",
        "s9 = MinMaxScaler()\n",
        "prev = s9.fit_transform(prev)\n",
        "\n",
        "\n",
        "\n",
        "\n",
        "with open('/content/S1.bin','wb') as file:\n",
        "  pickle.dump(s1,file)\n",
        "with open('/content/S2.bin','wb') as file:\n",
        "  pickle.dump(s2,file)\n",
        "with open('/content/S3.bin','wb') as file:\n",
        "  pickle.dump(s3,file)\n",
        "with open('/content/S4.bin','wb') as file:\n",
        "  pickle.dump(s4,file)\n",
        "with open('/content/S5.bin','wb') as file:\n",
        "  pickle.dump(s5,file)\n",
        "with open('/content/S6.bin','wb') as file:\n",
        "  pickle.dump(s6,file)\n",
        "with open('/content/S7.bin','wb') as file:\n",
        "  pickle.dump(s7,file)\n",
        "with open('/content/S8.bin','wb') as file:\n",
        "  pickle.dump(s8,file)\n",
        "  \n",
        "features = np.hstack((hours, cont, ent , hum, tempr, deg, speed, pressure,trans,prev))\n",
        "\n",
        "\n",
        "with open('/content/Scaled_June_July_Aug.bin','wb') as file:\n",
        "  pickle.dump(features, file)\n",
        "\n",
        "\n",
        "with open('/content/Labels_June_July_Aug.bin','wb') as file:\n",
        "  pickle.dump(pm, file)\n",
        "\n"
      ],
      "execution_count": 0,
      "outputs": []
    },
    {
      "cell_type": "code",
      "metadata": {
        "id": "7h2PK2maYQyy",
        "colab_type": "code",
        "colab": {
          "base_uri": "https://localhost:8080/",
          "height": 34
        },
        "outputId": "40f45fa7-f12d-4dce-e95c-40d10f68a534"
      },
      "source": [
        "print(np.shape(pm))"
      ],
      "execution_count": 190,
      "outputs": [
        {
          "output_type": "stream",
          "text": [
            "(2471,)\n"
          ],
          "name": "stdout"
        }
      ]
    },
    {
      "cell_type": "code",
      "metadata": {
        "id": "ZI2xIWJPJBzp",
        "colab_type": "code",
        "colab": {}
      },
      "source": [
        "print(type(trans))\n",
        "print(type(hours))\n",
        "print(type(cont))\n",
        "print(type(ent))\n",
        "print(type(hum))\n",
        "print(type(pressure))\n",
        "print(type(tempr))\n",
        "print(type(deg))\n",
        "print(type(speed))\n",
        "print(type(prev))"
      ],
      "execution_count": 0,
      "outputs": []
    },
    {
      "cell_type": "markdown",
      "metadata": {
        "id": "7le8yoYzqPt_",
        "colab_type": "text"
      },
      "source": [
        "INCLUDING NOVEMBER DATA "
      ]
    },
    {
      "cell_type": "code",
      "metadata": {
        "id": "mNKZISAjqTii",
        "colab_type": "code",
        "colab": {}
      },
      "source": [
        "with open('/content/features_November_w.bin','rb') as file:\n",
        "    nov_f = pickle.load(file)\n",
        "\n",
        "with open('/content/labels_November_w.bin','rb') as file:\n",
        "    nov_l = pickle.load(file)"
      ],
      "execution_count": 0,
      "outputs": []
    },
    {
      "cell_type": "code",
      "metadata": {
        "id": "sgnC8P8xrVKq",
        "colab_type": "code",
        "outputId": "38af61f2-652c-43f0-d2c1-286602457eb3",
        "colab": {
          "base_uri": "https://localhost:8080/",
          "height": 137
        }
      },
      "source": [
        "print(features)"
      ],
      "execution_count": 0,
      "outputs": [
        {
          "output_type": "stream",
          "text": [
            "[[0.33333333 0.14261257 0.30079014 ... 0.81818182 1.         0.20111732]\n",
            " [0.33333333 0.13209703 0.29103081 ... 0.81818182 1.         0.20111732]\n",
            " [0.41666667 0.77718964 0.66622735 ... 0.81818182 1.         0.20111732]\n",
            " ...\n",
            " [0.66666667 0.65664912 0.80258119 ... 0.36363636 2.         0.09497207]\n",
            " [0.75       0.64366259 0.79403046 ... 0.27272727 2.         0.10055866]\n",
            " [0.83333333 0.63186524 0.89162179 ... 0.27272727 2.         0.10055866]]\n"
          ],
          "name": "stdout"
        }
      ]
    },
    {
      "cell_type": "code",
      "metadata": {
        "id": "H3bhnctPrXwT",
        "colab_type": "code",
        "outputId": "9cdb94e4-802e-4a0c-d42f-500629c67318",
        "colab": {
          "base_uri": "https://localhost:8080/",
          "height": 137
        }
      },
      "source": [
        "print(nov_f)"
      ],
      "execution_count": 0,
      "outputs": [
        {
          "output_type": "stream",
          "text": [
            "[[0.         0.9929962  0.75184617 ... 0.33333333 1.         1.        ]\n",
            " [0.         1.         0.75691279 ... 0.33333333 1.         1.        ]\n",
            " [0.1        0.89421312 0.90078112 ... 0.66666667 1.         1.        ]\n",
            " ...\n",
            " [0.9        0.6243114  0.42114606 ... 0.         4.         0.        ]\n",
            " [0.9        0.62568304 0.42620236 ... 0.         4.         0.        ]\n",
            " [1.         0.68680941 0.40493424 ... 0.         4.         0.02212389]]\n"
          ],
          "name": "stdout"
        }
      ]
    },
    {
      "cell_type": "code",
      "metadata": {
        "id": "fILmFq4Urao3",
        "colab_type": "code",
        "outputId": "4b455d6b-352f-4c67-e453-d6e0170473a3",
        "colab": {
          "base_uri": "https://localhost:8080/",
          "height": 34
        }
      },
      "source": [
        "final_features = np.vstack((features,nov_f))\n",
        "print(len(final_features))"
      ],
      "execution_count": 0,
      "outputs": [
        {
          "output_type": "stream",
          "text": [
            "2753\n"
          ],
          "name": "stdout"
        }
      ]
    },
    {
      "cell_type": "code",
      "metadata": {
        "id": "rgHiZ8cirpVS",
        "colab_type": "code",
        "colab": {}
      },
      "source": [
        "final_pm = np.vstack((pm,nov_l))"
      ],
      "execution_count": 0,
      "outputs": []
    },
    {
      "cell_type": "code",
      "metadata": {
        "id": "gxWD4Jjvr0md",
        "colab_type": "code",
        "outputId": "f51a701f-1989-4471-fa87-a81b70598f99",
        "colab": {
          "base_uri": "https://localhost:8080/",
          "height": 34
        }
      },
      "source": [
        "print(len(final_pm))"
      ],
      "execution_count": 0,
      "outputs": [
        {
          "output_type": "stream",
          "text": [
            "2753\n"
          ],
          "name": "stdout"
        }
      ]
    },
    {
      "cell_type": "code",
      "metadata": {
        "id": "hFmu5z1pum9K",
        "colab_type": "code",
        "colab": {}
      },
      "source": [
        "with open('/content/featuresFinal_withNOV.bin','wb') as file:\n",
        "  pickle.dump(final_features,file)\n",
        "with open('/content/labelsFinal_withNOV.bin','wb') as file:\n",
        "  pickle.dump(final_pm,file)"
      ],
      "execution_count": 0,
      "outputs": []
    },
    {
      "cell_type": "code",
      "metadata": {
        "id": "oGezNp9f-nIH",
        "colab_type": "code",
        "outputId": "3b28794e-aec5-4d91-b7ab-aee8a0a0fb11",
        "colab": {
          "base_uri": "https://localhost:8080/",
          "height": 86
        }
      },
      "source": [
        "print(type(final_features))\n",
        "print(type(final_pm))\n",
        "print(len(final_features))\n",
        "print(len(final_pm))"
      ],
      "execution_count": 0,
      "outputs": [
        {
          "output_type": "stream",
          "text": [
            "<class 'numpy.ndarray'>\n",
            "<class 'numpy.ndarray'>\n",
            "2753\n",
            "2753\n"
          ],
          "name": "stdout"
        }
      ]
    },
    {
      "cell_type": "code",
      "metadata": {
        "id": "mUAhqwnRQMg8",
        "colab_type": "code",
        "colab": {}
      },
      "source": [
        "final_features = list(map(np.float32,final_features))\n",
        "final_pm = list(map(np.float32,final_pm))"
      ],
      "execution_count": 0,
      "outputs": []
    },
    {
      "cell_type": "code",
      "metadata": {
        "id": "U43D3JiECfXT",
        "colab_type": "code",
        "outputId": "ff690a02-af95-48e3-b986-5792cc3da8a5",
        "colab": {
          "base_uri": "https://localhost:8080/",
          "height": 282
        }
      },
      "source": [
        "lineareg = LinearRegression(normalize =False)\n",
        "cross = cross_val_score(lineareg, final_features,final_pm, scoring ='neg_mean_absolute_error',cv=3)\n",
        "x_train, x_test, y_train, y_test = train_test_split(final_features, final_pm, test_size =0.3, random_state =42)\n",
        "lineareg.fit(x_train, y_train)\n",
        "pred = lineareg.predict(x_test)\n",
        "plt.plot(pred)\n",
        "plt.plot(y_test)\n",
        "print(mean_absolute_error(pred, y_test))\n"
      ],
      "execution_count": 0,
      "outputs": [
        {
          "output_type": "stream",
          "text": [
            "46.2986\n"
          ],
          "name": "stdout"
        },
        {
          "output_type": "display_data",
          "data": {
            "image/png": "[encoded data removed]",
            "text/plain": [
              "<Figure size 432x288 with 1 Axes>"
            ]
          },
          "metadata": {
            "tags": []
          }
        }
      ]
    },
    {
      "cell_type": "code",
      "metadata": {
        "id": "MbRzic2oEa88",
        "colab_type": "code",
        "colab": {}
      },
      "source": [
        "with open('/content/LR_prevpm.bin','wb') as file:\n",
        "  pickle.dump(lineareg,file)\n",
        "\n"
      ],
      "execution_count": 0,
      "outputs": []
    },
    {
      "cell_type": "code",
      "metadata": {
        "id": "H_K8d837DeMO",
        "colab_type": "code",
        "outputId": "7fd96e04-059e-4659-d541-2bb9e8d0a09f",
        "colab": {
          "base_uri": "https://localhost:8080/",
          "height": 34
        }
      },
      "source": [
        "print(((-1)*cross))"
      ],
      "execution_count": 0,
      "outputs": [
        {
          "output_type": "stream",
          "text": [
            "[ 84.44548798  41.00475693 171.53143311]\n"
          ],
          "name": "stdout"
        }
      ]
    },
    {
      "cell_type": "code",
      "metadata": {
        "id": "6PIOW4xFDi3g",
        "colab_type": "code",
        "outputId": "ff426a71-25b7-4ca8-f109-d16c96c2f8e2",
        "colab": {
          "base_uri": "https://localhost:8080/",
          "height": 1000
        }
      },
      "source": [
        "d=[]\n",
        "for i in range(0,len(pred)):\n",
        "  print(str(y_test[i]) +'\\t'+ str(pred[i]))\n",
        "  k=y_test[i]-pred[i]\n",
        "  if(k>=20):\n",
        "    d.append(k)\n"
      ],
      "execution_count": 0,
      "outputs": [
        {
          "output_type": "stream",
          "text": [
            "[697.]\t[440.60077]\n",
            "[39.]\t[56.08667]\n",
            "[65.55]\t[3.9496994]\n",
            "[61.]\t[25.536259]\n",
            "[46.68]\t[16.369545]\n",
            "[53.45]\t[52.24951]\n",
            "[35.]\t[35.979145]\n",
            "[40.]\t[9.744171]\n",
            "[35.]\t[0.39925385]\n",
            "[31.09]\t[-22.951439]\n",
            "[28.6]\t[49.29493]\n",
            "[27.]\t[77.75383]\n",
            "[180.]\t[148.2232]\n",
            "[260.]\t[105.83392]\n",
            "[40.84]\t[-20.524635]\n",
            "[40.]\t[35.12015]\n",
            "[260.]\t[118.58257]\n",
            "[431.]\t[597.78107]\n",
            "[63.]\t[96.388275]\n",
            "[57.]\t[53.220207]\n",
            "[73.]\t[82.39104]\n",
            "[44.]\t[50.552345]\n",
            "[34.16]\t[-11.384201]\n",
            "[39.]\t[67.29953]\n",
            "[94.]\t[76.51827]\n",
            "[32.81]\t[6.20829]\n",
            "[56.85]\t[30.962776]\n",
            "[46.]\t[30.589462]\n",
            "[32.81]\t[18.4006]\n",
            "[729.]\t[504.4531]\n",
            "[44.]\t[72.465706]\n",
            "[74.]\t[162.1311]\n",
            "[44.]\t[31.692978]\n",
            "[180.]\t[281.3882]\n",
            "[29.]\t[36.29456]\n",
            "[44.]\t[85.47189]\n",
            "[27.]\t[-13.696571]\n",
            "[41.]\t[-15.966911]\n",
            "[56.]\t[16.986275]\n",
            "[66.]\t[49.220474]\n",
            "[48.]\t[24.01986]\n",
            "[44.67]\t[5.678154]\n",
            "[57.]\t[101.683205]\n",
            "[75.]\t[145.55807]\n",
            "[31.93]\t[-39.650536]\n",
            "[50.]\t[117.994415]\n",
            "[54.78]\t[27.371208]\n",
            "[42.2]\t[105.03793]\n",
            "[41.]\t[18.75579]\n",
            "[56.]\t[61.71261]\n",
            "[61.]\t[130.69226]\n",
            "[60.88]\t[6.4433517]\n",
            "[44.]\t[76.21222]\n",
            "[44.8]\t[68.543076]\n",
            "[48.]\t[84.91947]\n",
            "[729.]\t[507.2148]\n",
            "[40.39]\t[34.36411]\n",
            "[48.59]\t[11.632927]\n",
            "[38.]\t[46.95405]\n",
            "[57.]\t[96.22987]\n",
            "[56.]\t[61.32588]\n",
            "[100.]\t[119.61674]\n",
            "[190.]\t[249.5853]\n",
            "[32.]\t[121.13918]\n",
            "[63.]\t[50.27465]\n",
            "[72.]\t[88.04381]\n",
            "[46.]\t[28.473976]\n",
            "[729.]\t[497.0003]\n",
            "[39.]\t[71.0352]\n",
            "[41.]\t[31.442333]\n",
            "[621.]\t[477.31598]\n",
            "[55.55]\t[3.0360184]\n",
            "[60.88]\t[9.255714]\n",
            "[40.]\t[-19.624367]\n",
            "[35.]\t[148.53769]\n",
            "[55.]\t[122.99244]\n",
            "[31.68]\t[22.046597]\n",
            "[431.]\t[454.6245]\n",
            "[62.]\t[41.1296]\n",
            "[73.]\t[132.62665]\n",
            "[45.]\t[24.455883]\n",
            "[40.]\t[39.68825]\n",
            "[41.]\t[22.511326]\n",
            "[431.]\t[428.01154]\n",
            "[20.]\t[69.06467]\n",
            "[41.]\t[39.259506]\n",
            "[46.68]\t[107.37146]\n",
            "[45.]\t[22.452099]\n",
            "[36.]\t[26.419025]\n",
            "[51.]\t[65.45791]\n",
            "[24.27]\t[63.833775]\n",
            "[45.1]\t[107.78223]\n",
            "[24.]\t[-32.588478]\n",
            "[23.]\t[46.701046]\n",
            "[88.]\t[93.51959]\n",
            "[44.3]\t[64.48563]\n",
            "[41.7]\t[89.10169]\n",
            "[91.]\t[217.83487]\n",
            "[41.]\t[70.5141]\n",
            "[40.]\t[8.844261]\n",
            "[44.02]\t[9.606422]\n",
            "[190.]\t[269.5205]\n",
            "[42.5]\t[115.00874]\n",
            "[621.]\t[520.8451]\n",
            "[46.]\t[64.93257]\n",
            "[580.]\t[531.7828]\n",
            "[44.]\t[37.759163]\n",
            "[84.]\t[94.21738]\n",
            "[55.]\t[47.01348]\n",
            "[40.]\t[16.460556]\n",
            "[43.3]\t[111.27715]\n",
            "[47.]\t[272.4988]\n",
            "[45.2]\t[49.545425]\n",
            "[94.]\t[172.36697]\n",
            "[44.]\t[47.74183]\n",
            "[53.]\t[88.09174]\n",
            "[46.]\t[28.206543]\n",
            "[63.28]\t[16.594597]\n",
            "[46.]\t[23.488632]\n",
            "[42.7]\t[79.27635]\n",
            "[43.5]\t[106.2059]\n",
            "[65.55]\t[2.8340378]\n",
            "[57.]\t[-13.156822]\n",
            "[50.]\t[18.41816]\n",
            "[60.]\t[95.79901]\n",
            "[621.]\t[606.9297]\n",
            "[34.7]\t[17.723816]\n",
            "[580.]\t[529.12897]\n",
            "[44.02]\t[24.265907]\n",
            "[26.]\t[-29.4505]\n",
            "[24.17]\t[9.133354]\n",
            "[27.]\t[74.55618]\n",
            "[44.]\t[17.283512]\n",
            "[50.]\t[117.16431]\n",
            "[525.]\t[467.84296]\n",
            "[50.9]\t[30.809448]\n",
            "[29.]\t[67.397415]\n",
            "[60.]\t[133.7348]\n",
            "[29.]\t[78.174805]\n",
            "[54.78]\t[25.855572]\n",
            "[94.]\t[120.31217]\n",
            "[260.]\t[108.159035]\n",
            "[190.]\t[255.5517]\n",
            "[24.]\t[-27.276985]\n",
            "[75.]\t[166.59401]\n",
            "[73.]\t[132.63605]\n",
            "[44.]\t[55.56597]\n",
            "[33.56]\t[12.189888]\n",
            "[24.27]\t[-0.58802795]\n",
            "[63.28]\t[41.43328]\n",
            "[48.3]\t[89.42831]\n",
            "[60.88]\t[19.504463]\n",
            "[105.]\t[197.1062]\n",
            "[67.]\t[151.97638]\n",
            "[46.]\t[23.849648]\n",
            "[33.56]\t[3.46418]\n",
            "[31.]\t[-34.15011]\n",
            "[190.]\t[241.05286]\n",
            "[62.]\t[48.367546]\n",
            "[57.]\t[16.747692]\n",
            "[44.]\t[50.859165]\n",
            "[66.]\t[215.91364]\n",
            "[39.]\t[70.03778]\n",
            "[26.]\t[-34.43255]\n",
            "[41.]\t[2.2290726]\n",
            "[35.58]\t[-7.4974747]\n",
            "[41.7]\t[96.63853]\n",
            "[63.]\t[57.696495]\n",
            "[729.]\t[566.84454]\n",
            "[50.]\t[103.887955]\n",
            "[27.44]\t[-31.908005]\n",
            "[44.]\t[25.638985]\n",
            "[44.]\t[96.30414]\n",
            "[190.]\t[248.22562]\n",
            "[40.]\t[19.566406]\n",
            "[78.]\t[7.6751785]\n",
            "[66.88]\t[-4.1789017]\n",
            "[29.]\t[195.32263]\n",
            "[63.]\t[83.24261]\n",
            "[29.]\t[-3.0159988]\n",
            "[45.]\t[63.30363]\n",
            "[35.]\t[10.129799]\n",
            "[27.]\t[5.5800476]\n",
            "[34.95]\t[10.404564]\n",
            "[63.28]\t[20.699547]\n",
            "[23.]\t[-46.372627]\n",
            "[44.]\t[49.914104]\n",
            "[35.]\t[29.882938]\n",
            "[52.33]\t[52.915947]\n",
            "[44.8]\t[41.380375]\n",
            "[61.]\t[64.69507]\n",
            "[46.]\t[30.003548]\n",
            "[41.]\t[-9.277603]\n",
            "[103.]\t[95.91364]\n",
            "[24.]\t[-13.871613]\n",
            "[42.]\t[99.13933]\n",
            "[56.]\t[51.45112]\n",
            "[89.]\t[136.65556]\n",
            "[63.]\t[100.106606]\n",
            "[53.]\t[81.68583]\n",
            "[94.]\t[60.171135]\n",
            "[31.93]\t[-33.337883]\n",
            "[81.1]\t[65.64114]\n",
            "[46.]\t[66.6167]\n",
            "[45.]\t[95.20463]\n",
            "[55.]\t[31.299026]\n",
            "[39.]\t[49.412514]\n",
            "[48.]\t[14.561043]\n",
            "[92.]\t[308.3276]\n",
            "[45.2]\t[86.80538]\n",
            "[44.]\t[54.392967]\n",
            "[32.]\t[275.67456]\n",
            "[621.]\t[531.04285]\n",
            "[24.27]\t[62.248966]\n",
            "[40.]\t[31.598904]\n",
            "[729.]\t[532.64923]\n",
            "[51.]\t[34.528816]\n",
            "[41.]\t[13.906666]\n",
            "[23.]\t[82.641495]\n",
            "[45.67]\t[19.702236]\n",
            "[44.]\t[61.438835]\n",
            "[31.41]\t[-31.086105]\n",
            "[75.]\t[74.47368]\n",
            "[621.]\t[469.74908]\n",
            "[580.]\t[530.48395]\n",
            "[38.]\t[119.69702]\n",
            "[52.23]\t[24.76915]\n",
            "[85.]\t[150.93213]\n",
            "[729.]\t[504.5924]\n",
            "[45.7]\t[72.61344]\n",
            "[580.]\t[527.0351]\n",
            "[39.]\t[-22.579094]\n",
            "[91.]\t[100.22745]\n",
            "[44.]\t[55.057693]\n",
            "[36.64]\t[5.2011337]\n",
            "[62.]\t[51.188072]\n",
            "[45.2]\t[98.79222]\n",
            "[44.]\t[103.95433]\n",
            "[27.]\t[-10.159927]\n",
            "[38.]\t[35.472706]\n",
            "[74.]\t[124.25635]\n",
            "[62.]\t[49.770355]\n",
            "[30.]\t[138.7558]\n",
            "[45.]\t[17.34959]\n",
            "[24.17]\t[0.45212555]\n",
            "[27.]\t[-1.7155228]\n",
            "[17.]\t[-4.348755]\n",
            "[32.]\t[86.03032]\n",
            "[39.]\t[-8.565819]\n",
            "[31.09]\t[-3.61866]\n",
            "[35.]\t[30.085964]\n",
            "[44.]\t[-5.604088]\n",
            "[39.]\t[55.741066]\n",
            "[50.]\t[141.103]\n",
            "[33.52]\t[-23.234367]\n",
            "[52.23]\t[2.6109238]\n",
            "[44.]\t[100.42833]\n",
            "[44.]\t[44.55211]\n",
            "[35.]\t[30.224392]\n",
            "[75.]\t[158.59937]\n",
            "[23.]\t[-26.661507]\n",
            "[729.]\t[568.9364]\n",
            "[67.]\t[67.67034]\n",
            "[66.]\t[20.671959]\n",
            "[697.]\t[486.6236]\n",
            "[48.]\t[59.14126]\n",
            "[50.9]\t[23.0475]\n",
            "[56.]\t[92.23214]\n",
            "[63.41]\t[35.55979]\n",
            "[41.]\t[30.42384]\n",
            "[44.]\t[35.936012]\n",
            "[46.]\t[54.561302]\n",
            "[81.1]\t[75.9019]\n",
            "[45.]\t[121.770676]\n",
            "[57.]\t[63.34718]\n",
            "[55.5]\t[66.27009]\n",
            "[48.]\t[23.385078]\n",
            "[39.]\t[67.962875]\n",
            "[44.]\t[105.176315]\n",
            "[73.]\t[131.74823]\n",
            "[41.63]\t[105.960495]\n",
            "[66.88]\t[12.304039]\n",
            "[580.]\t[534.33044]\n",
            "[41.6]\t[119.807755]\n",
            "[47.]\t[115.90199]\n",
            "[729.]\t[520.21204]\n",
            "[44.]\t[57.330093]\n",
            "[24.]\t[-6.682411]\n",
            "[44.]\t[35.865936]\n",
            "[42.5]\t[108.698456]\n",
            "[34.16]\t[-12.623856]\n",
            "[180.]\t[259.64426]\n",
            "[31.]\t[-16.08677]\n",
            "[63.41]\t[12.760963]\n",
            "[32.]\t[42.35166]\n",
            "[56.]\t[106.84484]\n",
            "[78.]\t[-21.914925]\n",
            "[53.]\t[114.913345]\n",
            "[17.]\t[-18.812202]\n",
            "[91.]\t[201.307]\n",
            "[62.]\t[47.13272]\n",
            "[431.]\t[454.68597]\n",
            "[580.]\t[539.2482]\n",
            "[62.]\t[59.99498]\n",
            "[63.]\t[131.96783]\n",
            "[43.27]\t[-4.6976013]\n",
            "[52.23]\t[13.483299]\n",
            "[17.]\t[-16.764305]\n",
            "[53.67]\t[105.71628]\n",
            "[56.]\t[57.598137]\n",
            "[72.]\t[126.3547]\n",
            "[54.78]\t[28.160622]\n",
            "[17.]\t[-5.867111]\n",
            "[51.]\t[40.36695]\n",
            "[63.12]\t[22.949791]\n",
            "[54.1]\t[49.854446]\n",
            "[44.]\t[25.861145]\n",
            "[525.]\t[471.2673]\n",
            "[45.]\t[182.40732]\n",
            "[20.]\t[-32.323242]\n",
            "[66.]\t[98.23988]\n",
            "[41.]\t[61.25146]\n",
            "[53.]\t[87.558105]\n",
            "[103.]\t[55.19494]\n",
            "[42.2]\t[107.53264]\n",
            "[46.]\t[53.99695]\n",
            "[24.17]\t[34.108826]\n",
            "[79.49]\t[46.084427]\n",
            "[580.]\t[535.84143]\n",
            "[66.]\t[106.283455]\n",
            "[44.]\t[-8.296944]\n",
            "[44.]\t[52.40452]\n",
            "[27.]\t[-6.130768]\n",
            "[51.]\t[36.16337]\n",
            "[69.]\t[137.84488]\n",
            "[53.67]\t[103.91574]\n",
            "[26.14]\t[41.148052]\n",
            "[729.]\t[663.08826]\n",
            "[90.]\t[209.51181]\n",
            "[431.]\t[441.31653]\n",
            "[729.]\t[662.65845]\n",
            "[81.2]\t[94.690475]\n",
            "[56.]\t[35.035866]\n",
            "[63.]\t[95.66319]\n",
            "[65.12]\t[0.36670685]\n",
            "[105.]\t[142.81317]\n",
            "[51.]\t[54.909706]\n",
            "[56.]\t[104.13611]\n",
            "[32.]\t[38.789547]\n",
            "[67.24]\t[56.77211]\n",
            "[43.01]\t[25.080414]\n",
            "[44.]\t[64.01263]\n",
            "[74.]\t[121.22213]\n",
            "[44.]\t[56.98833]\n",
            "[621.]\t[603.7588]\n",
            "[50.9]\t[27.767448]\n",
            "[29.]\t[30.87495]\n",
            "[44.]\t[47.977837]\n",
            "[55.]\t[124.02507]\n",
            "[40.]\t[-1.3261337]\n",
            "[17.]\t[-34.838722]\n",
            "[20.]\t[0.14919281]\n",
            "[44.02]\t[22.697212]\n",
            "[31.93]\t[-38.04409]\n",
            "[44.8]\t[45.572834]\n",
            "[47.43]\t[46.58378]\n",
            "[41.]\t[84.7827]\n",
            "[63.]\t[128.4949]\n",
            "[56.]\t[60.934883]\n",
            "[39.]\t[-4.606865]\n",
            "[146.]\t[166.23264]\n",
            "[42.2]\t[114.44998]\n",
            "[30.]\t[-17.615913]\n",
            "[45.]\t[33.48843]\n",
            "[74.]\t[148.5871]\n",
            "[52.53]\t[13.96331]\n",
            "[32.97]\t[18.383472]\n",
            "[56.]\t[48.534554]\n",
            "[94.]\t[69.88855]\n",
            "[37.74]\t[94.088806]\n",
            "[580.]\t[528.82623]\n",
            "[27.]\t[-10.556328]\n",
            "[66.9]\t[81.09361]\n",
            "[75.]\t[151.2691]\n",
            "[65.12]\t[46.79952]\n",
            "[32.]\t[91.02046]\n",
            "[20.]\t[223.5274]\n",
            "[46.27]\t[21.599052]\n",
            "[44.]\t[24.781078]\n",
            "[76.]\t[83.12794]\n",
            "[29.]\t[56.83458]\n",
            "[621.]\t[526.37695]\n",
            "[29.]\t[43.63936]\n",
            "[94.]\t[110.9851]\n",
            "[46.]\t[68.535065]\n",
            "[63.]\t[95.321365]\n",
            "[30.]\t[-5.9950943]\n",
            "[74.]\t[125.10841]\n",
            "[29.]\t[122.72536]\n",
            "[41.]\t[34.13909]\n",
            "[38.]\t[49.15969]\n",
            "[36.]\t[42.819324]\n",
            "[45.2]\t[26.107487]\n",
            "[48.]\t[-32.577232]\n",
            "[62.]\t[25.571236]\n",
            "[44.]\t[62.798748]\n",
            "[58.]\t[122.93985]\n",
            "[30.]\t[-19.510918]\n",
            "[64.]\t[47.760506]\n",
            "[85.16]\t[94.47194]\n",
            "[29.]\t[18.673325]\n",
            "[56.]\t[45.449333]\n",
            "[24.]\t[1.701683]\n",
            "[41.]\t[15.566341]\n",
            "[43.3]\t[117.33855]\n",
            "[180.]\t[139.08145]\n",
            "[48.]\t[-22.397041]\n",
            "[62.]\t[26.189476]\n",
            "[39.]\t[101.397835]\n",
            "[36.]\t[26.678013]\n",
            "[60.]\t[138.47977]\n",
            "[29.]\t[116.366714]\n",
            "[525.]\t[538.5629]\n",
            "[580.]\t[482.4956]\n",
            "[621.]\t[474.1523]\n",
            "[63.41]\t[21.357048]\n",
            "[74.]\t[114.61659]\n",
            "[45.]\t[197.57703]\n",
            "[729.]\t[656.5099]\n",
            "[61.]\t[138.39584]\n",
            "[180.]\t[156.54295]\n",
            "[50.2]\t[60.54059]\n",
            "[53.45]\t[52.316017]\n",
            "[41.]\t[57.380173]\n",
            "[34.71]\t[-11.432991]\n",
            "[34.7]\t[12.130211]\n",
            "[56.85]\t[15.232613]\n",
            "[75.]\t[161.13464]\n",
            "[41.]\t[55.810295]\n",
            "[39.85]\t[6.3124313]\n",
            "[63.]\t[46.753136]\n",
            "[431.]\t[458.7399]\n",
            "[27.]\t[-11.31221]\n",
            "[38.]\t[43.906425]\n",
            "[525.]\t[420.33154]\n",
            "[102.]\t[205.74686]\n",
            "[180.]\t[279.8154]\n",
            "[17.]\t[-16.462791]\n",
            "[48.]\t[65.60313]\n",
            "[81.]\t[46.66861]\n",
            "[36.]\t[42.416172]\n",
            "[14.]\t[4.5928574]\n",
            "[66.]\t[37.762707]\n",
            "[20.]\t[-13.109093]\n",
            "[92.]\t[305.7855]\n",
            "[44.02]\t[23.815163]\n",
            "[63.]\t[125.190926]\n",
            "[36.64]\t[40.01897]\n",
            "[43.74]\t[-24.481743]\n",
            "[48.59]\t[-0.19498444]\n",
            "[46.]\t[44.647324]\n",
            "[39.]\t[-10.291191]\n",
            "[729.]\t[505.3695]\n",
            "[580.]\t[536.5625]\n",
            "[45.]\t[28.494064]\n",
            "[63.]\t[11.093369]\n",
            "[72.]\t[63.68342]\n",
            "[42.7]\t[70.7124]\n",
            "[67.]\t[136.08759]\n",
            "[40.39]\t[28.745205]\n",
            "[66.]\t[80.93095]\n",
            "[44.]\t[54.81089]\n",
            "[431.]\t[461.951]\n",
            "[38.]\t[34.04232]\n",
            "[431.]\t[462.9718]\n",
            "[51.]\t[209.75769]\n",
            "[27.12]\t[49.62683]\n",
            "[34.95]\t[0.7744522]\n",
            "[63.28]\t[14.885017]\n",
            "[27.]\t[-4.252449]\n",
            "[38.]\t[62.468044]\n",
            "[35.]\t[7.9171677]\n",
            "[52.53]\t[32.48027]\n",
            "[36.]\t[41.524006]\n",
            "[52.23]\t[-11.113197]\n",
            "[75.]\t[155.78586]\n",
            "[81.1]\t[74.44029]\n",
            "[621.]\t[476.33838]\n",
            "[55.7]\t[28.059196]\n",
            "[43.5]\t[106.26164]\n",
            "[41.63]\t[67.36102]\n",
            "[32.81]\t[3.9242477]\n",
            "[44.]\t[23.04041]\n",
            "[32.81]\t[-2.0923843]\n",
            "[36.69]\t[-24.258934]\n",
            "[32.]\t[43.129574]\n",
            "[48.59]\t[14.46788]\n",
            "[55.]\t[40.773705]\n",
            "[58.4]\t[41.327736]\n",
            "[31.93]\t[-31.708992]\n",
            "[45.]\t[104.983635]\n",
            "[729.]\t[518.324]\n",
            "[47.]\t[10.057343]\n",
            "[35.67]\t[-24.648018]\n",
            "[38.]\t[57.332523]\n",
            "[31.09]\t[30.119656]\n",
            "[46.]\t[4.759926]\n",
            "[41.6]\t[101.54553]\n",
            "[43.2]\t[103.016525]\n",
            "[36.]\t[23.223537]\n",
            "[525.]\t[472.78983]\n",
            "[50.]\t[94.00734]\n",
            "[37.74]\t[78.9586]\n",
            "[53.]\t[113.80809]\n",
            "[621.]\t[527.5446]\n",
            "[32.]\t[75.530426]\n",
            "[42.5]\t[112.704285]\n",
            "[20.]\t[49.85889]\n",
            "[43.8]\t[105.835556]\n",
            "[88.]\t[84.25629]\n",
            "[35.77]\t[52.802254]\n",
            "[44.]\t[76.69958]\n",
            "[729.]\t[521.07697]\n",
            "[17.]\t[-12.32251]\n",
            "[43.5]\t[63.570774]\n",
            "[103.]\t[121.60223]\n",
            "[57.]\t[49.711205]\n",
            "[92.]\t[325.74014]\n",
            "[55.6]\t[46.61106]\n",
            "[38.]\t[34.67727]\n",
            "[39.]\t[71.16402]\n",
            "[24.18]\t[-2.0369873]\n",
            "[42.31]\t[92.256516]\n",
            "[66.]\t[104.54852]\n",
            "[729.]\t[504.3001]\n",
            "[69.]\t[75.42955]\n",
            "[63.1]\t[64.70971]\n",
            "[44.]\t[100.52731]\n",
            "[42.29]\t[30.956367]\n",
            "[42.31]\t[91.133965]\n",
            "[23.]\t[46.34956]\n",
            "[56.]\t[89.59701]\n",
            "[279.]\t[-18.569557]\n",
            "[431.]\t[447.68103]\n",
            "[81.]\t[42.963444]\n",
            "[41.]\t[26.836006]\n",
            "[29.]\t[0.22544098]\n",
            "[46.]\t[18.305984]\n",
            "[190.]\t[236.38284]\n",
            "[44.]\t[-34.181084]\n",
            "[11.]\t[0.9108963]\n",
            "[729.]\t[662.6177]\n",
            "[50.]\t[37.052536]\n",
            "[65.55]\t[-9.81559]\n",
            "[48.]\t[10.509987]\n",
            "[44.]\t[46.68115]\n",
            "[24.17]\t[40.69243]\n",
            "[35.]\t[29.52634]\n",
            "[44.]\t[18.331139]\n",
            "[46.]\t[3.1623764]\n",
            "[99.]\t[119.21109]\n",
            "[35.]\t[16.024174]\n",
            "[53.32]\t[35.441628]\n",
            "[31.09]\t[23.662586]\n",
            "[27.]\t[58.259636]\n",
            "[56.]\t[48.475304]\n",
            "[52.33]\t[21.851223]\n",
            "[66.]\t[103.70479]\n",
            "[66.]\t[93.86222]\n",
            "[81.2]\t[121.69217]\n",
            "[74.]\t[120.400345]\n",
            "[81.2]\t[103.27832]\n",
            "[27.]\t[-6.5227356]\n",
            "[23.]\t[9.584343]\n",
            "[431.]\t[466.19073]\n",
            "[28.77]\t[-6.5263824]\n",
            "[102.]\t[190.42896]\n",
            "[44.8]\t[40.42484]\n",
            "[39.]\t[89.734116]\n",
            "[43.2]\t[102.70805]\n",
            "[51.]\t[35.922623]\n",
            "[44.58]\t[4.866081]\n",
            "[46.]\t[19.424698]\n",
            "[66.]\t[77.700676]\n",
            "[56.]\t[11.255516]\n",
            "[46.]\t[66.32077]\n",
            "[44.]\t[28.388584]\n",
            "[621.]\t[470.43555]\n",
            "[44.]\t[24.27206]\n",
            "[46.]\t[43.26124]\n",
            "[61.42]\t[22.199837]\n",
            "[48.59]\t[19.080795]\n",
            "[63.]\t[58.74128]\n",
            "[14.]\t[2.9168015]\n",
            "[55.]\t[85.16437]\n",
            "[46.]\t[9.80117]\n",
            "[105.]\t[200.79132]\n",
            "[66.]\t[40.64307]\n",
            "[24.]\t[-9.502617]\n",
            "[39.]\t[31.97393]\n",
            "[45.]\t[119.865814]\n",
            "[48.]\t[-22.928429]\n",
            "[23.]\t[67.71274]\n",
            "[40.]\t[5.7442093]\n",
            "[66.88]\t[55.484985]\n",
            "[44.]\t[41.864277]\n",
            "[23.]\t[84.22522]\n",
            "[24.17]\t[4.432762]\n",
            "[697.]\t[355.62247]\n",
            "[31.09]\t[28.332455]\n",
            "[53.16]\t[36.253883]\n",
            "[44.]\t[51.202652]\n",
            "[30.]\t[-32.814278]\n",
            "[42.8]\t[90.7726]\n",
            "[63.]\t[50.527348]\n",
            "[45.]\t[111.5904]\n",
            "[53.]\t[109.33577]\n",
            "[81.2]\t[109.60048]\n",
            "[621.]\t[526.0437]\n",
            "[66.]\t[48.85289]\n",
            "[41.3]\t[98.41269]\n",
            "[41.63]\t[91.78853]\n",
            "[36.18]\t[-9.913109]\n",
            "[44.]\t[28.55289]\n",
            "[50.]\t[102.851425]\n",
            "[52.]\t[138.05374]\n",
            "[31.09]\t[-22.154106]\n",
            "[20.]\t[-21.790382]\n",
            "[24.]\t[-14.740356]\n",
            "[23.]\t[-30.641441]\n",
            "[621.]\t[534.1266]\n",
            "[431.]\t[448.36993]\n",
            "[92.]\t[312.22583]\n",
            "[44.]\t[69.891594]\n",
            "[431.]\t[454.60745]\n",
            "[729.]\t[506.06592]\n",
            "[32.]\t[21.434906]\n",
            "[36.]\t[43.639606]\n",
            "[32.]\t[111.47749]\n",
            "[73.]\t[122.8695]\n",
            "[36.]\t[23.457806]\n",
            "[525.]\t[470.5222]\n",
            "[29.]\t[-8.357094]\n",
            "[621.]\t[528.7565]\n",
            "[56.]\t[27.04092]\n",
            "[30.]\t[110.99731]\n",
            "[48.]\t[45.741962]\n",
            "[103.]\t[122.34731]\n",
            "[102.]\t[120.471565]\n",
            "[580.]\t[487.00085]\n",
            "[63.12]\t[40.14631]\n",
            "[103.]\t[120.84347]\n",
            "[35.]\t[110.304855]\n",
            "[63.]\t[88.44066]\n",
            "[41.92]\t[14.524147]\n",
            "[44.]\t[57.529663]\n",
            "[14.]\t[43.126656]\n",
            "[45.]\t[135.87125]\n",
            "[36.]\t[16.845715]\n",
            "[26.]\t[71.54355]\n",
            "[46.]\t[18.387154]\n",
            "[44.67]\t[8.684822]\n",
            "[54.84]\t[0.95775604]\n",
            "[29.]\t[73.59801]\n",
            "[52.23]\t[-1.7795181]\n",
            "[62.]\t[31.575623]\n",
            "[43.27]\t[3.2924042]\n",
            "[30.]\t[99.58669]\n",
            "[36.64]\t[0.10199738]\n",
            "[50.]\t[21.818367]\n",
            "[50.]\t[22.769638]\n",
            "[50.]\t[34.70772]\n",
            "[729.]\t[665.83606]\n",
            "[54.78]\t[32.243004]\n",
            "[46.84]\t[30.194237]\n",
            "[580.]\t[534.7093]\n",
            "[580.]\t[535.68665]\n",
            "[100.]\t[200.55893]\n",
            "[56.]\t[-0.5356369]\n",
            "[431.]\t[481.13745]\n",
            "[57.5]\t[17.38836]\n",
            "[45.2]\t[55.51742]\n",
            "[63.]\t[101.36308]\n",
            "[42.]\t[34.464573]\n",
            "[39.]\t[34.312775]\n",
            "[44.]\t[49.50567]\n",
            "[20.]\t[15.816532]\n",
            "[34.7]\t[2.909134]\n",
            "[92.]\t[309.49033]\n",
            "[721.]\t[279.6452]\n",
            "[36.69]\t[-11.205658]\n",
            "[44.]\t[-46.31263]\n",
            "[53.]\t[113.4793]\n",
            "[105.]\t[187.38669]\n",
            "[729.]\t[534.21954]\n",
            "[33.77]\t[-23.585167]\n",
            "[42.29]\t[29.21634]\n",
            "[44.]\t[16.259296]\n",
            "[50.]\t[118.43944]\n",
            "[44.]\t[63.064262]\n",
            "[40.]\t[27.810291]\n",
            "[63.]\t[98.82669]\n",
            "[23.]\t[-4.135277]\n",
            "[65.4]\t[51.615593]\n",
            "[38.]\t[61.76539]\n",
            "[48.]\t[66.07626]\n",
            "[40.84]\t[28.639107]\n",
            "[45.]\t[15.461334]\n",
            "[729.]\t[665.77954]\n",
            "[48.]\t[8.613594]\n",
            "[44.67]\t[-5.9560165]\n",
            "[180.]\t[158.67764]\n",
            "[66.88]\t[-9.889214]\n",
            "[697.]\t[485.91547]\n",
            "[66.88]\t[-3.8998337]\n",
            "[94.]\t[74.713524]\n",
            "[697.]\t[451.30676]\n",
            "[30.8]\t[-23.588387]\n",
            "[40.]\t[-14.851448]\n",
            "[41.71]\t[69.22213]\n",
            "[33.77]\t[-11.408806]\n",
            "[41.]\t[46.75047]\n",
            "[78.]\t[48.678715]\n",
            "[621.]\t[481.60114]\n",
            "[35.67]\t[5.5869675]\n",
            "[45.]\t[107.42744]\n",
            "[63.]\t[117.87883]\n",
            "[39.]\t[53.357132]\n",
            "[89.]\t[130.48334]\n",
            "[525.]\t[410.84308]\n",
            "[45.]\t[37.18954]\n",
            "[35.67]\t[-1.9670792]\n",
            "[102.]\t[196.17514]\n",
            "[45.2]\t[51.746502]\n",
            "[20.]\t[-30.602226]\n",
            "[37.26]\t[13.099003]\n",
            "[34.95]\t[10.136131]\n",
            "[66.]\t[81.32638]\n",
            "[26.78]\t[39.45546]\n",
            "[28.99]\t[15.640297]\n",
            "[729.]\t[523.16925]\n",
            "[44.]\t[136.67804]\n",
            "[44.]\t[80.55202]\n",
            "[57.]\t[39.31659]\n",
            "[58.]\t[13.3900795]\n",
            "[56.]\t[67.74164]\n",
            "[93.]\t[193.9114]\n",
            "[431.]\t[453.11737]\n",
            "[45.]\t[104.90151]\n",
            "[17.]\t[-6.3926315]\n",
            "[525.]\t[470.12216]\n",
            "[20.]\t[-32.513855]\n",
            "[47.98]\t[32.57734]\n",
            "[55.83]\t[20.266228]\n",
            "[94.]\t[59.407585]\n",
            "[75.]\t[119.20392]\n",
            "[91.]\t[103.50252]\n",
            "[57.]\t[64.82276]\n",
            "[62.52]\t[46.10031]\n",
            "[66.88]\t[-0.36071014]\n",
            "[56.85]\t[0.63962555]\n",
            "[525.]\t[416.1951]\n",
            "[23.]\t[-15.328575]\n",
            "[44.]\t[60.833603]\n",
            "[63.28]\t[59.439552]\n",
            "[44.]\t[91.698]\n",
            "[102.]\t[219.77274]\n",
            "[729.]\t[663.1096]\n",
            "[282.]\t[322.50803]\n",
            "[50.9]\t[24.81717]\n",
            "[17.]\t[-52.902367]\n",
            "[44.58]\t[-11.719276]\n",
            "[29.15]\t[7.68589]\n",
            "[27.44]\t[-22.676453]\n",
            "[66.]\t[104.05276]\n",
            "[38.]\t[186.54453]\n",
            "[45.]\t[126.05683]\n",
            "[30.]\t[-36.849236]\n",
            "[63.]\t[82.07544]\n",
            "[62.]\t[4.6822586]\n",
            "[46.]\t[33.40943]\n",
            "[30.12]\t[8.139809]\n",
            "[42.31]\t[106.60892]\n",
            "[57.]\t[115.35315]\n",
            "[30.12]\t[6.1955795]\n",
            "[51.44]\t[81.62537]\n",
            "[103.]\t[89.704]\n",
            "[44.]\t[65.69876]\n",
            "[61.42]\t[10.714149]\n",
            "[27.12]\t[43.908974]\n",
            "[62.52]\t[49.470192]\n",
            "[24.]\t[15.508743]\n",
            "[24.27]\t[63.845776]\n",
            "[66.78]\t[35.803528]\n",
            "[74.]\t[98.83587]\n",
            "[48.]\t[49.37172]\n",
            "[56.]\t[137.66966]\n",
            "[92.]\t[306.26132]\n",
            "[621.]\t[606.9111]\n",
            "[66.]\t[108.8573]\n",
            "[94.]\t[411.6985]\n",
            "[29.]\t[43.59622]\n",
            "[53.67]\t[99.56677]\n",
            "[51.]\t[57.987793]\n",
            "[50.]\t[22.844597]\n",
            "[431.]\t[464.41113]\n",
            "[55.]\t[63.691124]\n",
            "[105.]\t[231.97888]\n",
            "[62.]\t[30.936916]\n",
            "[66.]\t[86.39239]\n",
            "[89.]\t[127.82605]\n",
            "[30.]\t[-17.054604]\n",
            "[47.]\t[115.32611]\n",
            "[51.]\t[69.913765]\n",
            "[74.]\t[146.25809]\n",
            "[63.]\t[47.137054]\n",
            "[45.]\t[21.443497]\n",
            "[48.]\t[43.552944]\n",
            "[31.09]\t[15.575512]\n",
            "[46.]\t[21.422592]\n",
            "[44.]\t[62.609516]\n",
            "[44.]\t[31.73676]\n",
            "[44.]\t[39.591835]\n",
            "[44.02]\t[107.65706]\n",
            "[103.]\t[72.67361]\n",
            "[31.93]\t[-40.686653]\n"
          ],
          "name": "stdout"
        }
      ]
    },
    {
      "cell_type": "code",
      "metadata": {
        "id": "5i4VCLdGd0Rq",
        "colab_type": "code",
        "outputId": "b5531b21-3f6e-4562-fa6e-7a008dc82482",
        "colab": {
          "base_uri": "https://localhost:8080/",
          "height": 51
        }
      },
      "source": [
        "#plt.plot(d)\n",
        "\n",
        "##26% of our test data is more than 10 deviations \n",
        "print(len(y_test))\n",
        "print(len(d))"
      ],
      "execution_count": 0,
      "outputs": [
        {
          "output_type": "stream",
          "text": [
            "826\n",
            "319\n"
          ],
          "name": "stdout"
        }
      ]
    },
    {
      "cell_type": "code",
      "metadata": {
        "id": "bmD_qjXYMuP4",
        "colab_type": "code",
        "colab": {}
      },
      "source": [
        "d=[]\n",
        "\n",
        "#20% is out of bounds by 15 \n",
        "\n",
        "for i in range(0,len(pred)):\n",
        "  k=y_test[i]-pred[i]\n",
        "  if(k>=15):\n",
        "    d.append(k)\n"
      ],
      "execution_count": 0,
      "outputs": []
    },
    {
      "cell_type": "code",
      "metadata": {
        "id": "nKTTpKQAjp0z",
        "colab_type": "code",
        "outputId": "34cf7d74-21e2-4746-d0e6-d72d9194610e",
        "colab": {
          "base_uri": "https://localhost:8080/",
          "height": 51
        }
      },
      "source": [
        "print(len(y_test))\n",
        "print(len(d))"
      ],
      "execution_count": 0,
      "outputs": [
        {
          "output_type": "stream",
          "text": [
            "826\n",
            "361\n"
          ],
          "name": "stdout"
        }
      ]
    },
    {
      "cell_type": "markdown",
      "metadata": {
        "id": "KFdp-5SqjrKR",
        "colab_type": "text"
      },
      "source": [
        "RANDOM FOREST REGRESSOR "
      ]
    },
    {
      "cell_type": "code",
      "metadata": {
        "id": "a5ZyaLqBDsB7",
        "colab_type": "code",
        "outputId": "792b1969-9a0e-4e27-a5c5-db2cd425f5f9",
        "colab": {
          "base_uri": "https://localhost:8080/",
          "height": 576
        }
      },
      "source": [
        "reg = RandomForestRegressor(max_depth=3) \n",
        "cross = cross_val_score(reg, final_features, final_pm, scoring ='neg_mean_absolute_error',cv=3)\n",
        "x_train, x_test, y_train, y_test = train_test_split(final_features, final_pm, test_size =0.3, random_state =42)\n",
        "\n",
        "reg.fit(x_train, y_train)\n",
        "\n",
        "pred = reg.predict(x_test)\n",
        "\n",
        "plt.plot(pred)\n",
        "plt.plot(y_test)\n",
        "\n",
        "print(mean_absolute_error(pred, y_test))\n"
      ],
      "execution_count": 0,
      "outputs": [
        {
          "output_type": "stream",
          "text": [
            "/usr/local/lib/python3.6/dist-packages/sklearn/ensemble/forest.py:245: FutureWarning: The default value of n_estimators will change from 10 in version 0.20 to 100 in 0.22.\n",
            "  \"10 in version 0.20 to 100 in 0.22.\", FutureWarning)\n",
            "/usr/local/lib/python3.6/dist-packages/sklearn/model_selection/_validation.py:516: DataConversionWarning: A column-vector y was passed when a 1d array was expected. Please change the shape of y to (n_samples,), for example using ravel().\n",
            "  estimator.fit(X_train, y_train, **fit_params)\n",
            "/usr/local/lib/python3.6/dist-packages/sklearn/ensemble/forest.py:245: FutureWarning: The default value of n_estimators will change from 10 in version 0.20 to 100 in 0.22.\n",
            "  \"10 in version 0.20 to 100 in 0.22.\", FutureWarning)\n",
            "/usr/local/lib/python3.6/dist-packages/sklearn/model_selection/_validation.py:516: DataConversionWarning: A column-vector y was passed when a 1d array was expected. Please change the shape of y to (n_samples,), for example using ravel().\n",
            "  estimator.fit(X_train, y_train, **fit_params)\n",
            "/usr/local/lib/python3.6/dist-packages/sklearn/ensemble/forest.py:245: FutureWarning: The default value of n_estimators will change from 10 in version 0.20 to 100 in 0.22.\n",
            "  \"10 in version 0.20 to 100 in 0.22.\", FutureWarning)\n",
            "/usr/local/lib/python3.6/dist-packages/sklearn/model_selection/_validation.py:516: DataConversionWarning: A column-vector y was passed when a 1d array was expected. Please change the shape of y to (n_samples,), for example using ravel().\n",
            "  estimator.fit(X_train, y_train, **fit_params)\n",
            "/usr/local/lib/python3.6/dist-packages/sklearn/ensemble/forest.py:245: FutureWarning: The default value of n_estimators will change from 10 in version 0.20 to 100 in 0.22.\n",
            "  \"10 in version 0.20 to 100 in 0.22.\", FutureWarning)\n",
            "/usr/local/lib/python3.6/dist-packages/ipykernel_launcher.py:5: DataConversionWarning: A column-vector y was passed when a 1d array was expected. Please change the shape of y to (n_samples,), for example using ravel().\n",
            "  \"\"\"\n"
          ],
          "name": "stderr"
        },
        {
          "output_type": "stream",
          "text": [
            "15.593219494028316\n"
          ],
          "name": "stdout"
        },
        {
          "output_type": "display_data",
          "data": {
            "image/png": "[encoded data removed]",
            "text/plain": [
              "<Figure size 432x288 with 1 Axes>"
            ]
          },
          "metadata": {
            "tags": []
          }
        }
      ]
    },
    {
      "cell_type": "code",
      "metadata": {
        "id": "Gof3qo-0I8RY",
        "colab_type": "code",
        "outputId": "2eb96030-ebe0-42f9-a762-c0b09dc6e4cb",
        "colab": {
          "base_uri": "https://localhost:8080/",
          "height": 34
        }
      },
      "source": [
        "print(((-1)*cross))"
      ],
      "execution_count": 0,
      "outputs": [
        {
          "output_type": "stream",
          "text": [
            "[ 48.12147474   9.09014059 156.23653237]\n"
          ],
          "name": "stdout"
        }
      ]
    },
    {
      "cell_type": "code",
      "metadata": {
        "id": "pXP3k1G479in",
        "colab_type": "code",
        "colab": {}
      },
      "source": [
        "#joblib.dump(reg,'Random_withITO.pkl')\n",
        "with open('/content/RF_withPrevPM.bin','wb') as file:\n",
        "  pickle.dump(reg, file)\n",
        "\n"
      ],
      "execution_count": 0,
      "outputs": []
    },
    {
      "cell_type": "code",
      "metadata": {
        "id": "8zr2URGPKjfT",
        "colab_type": "code",
        "colab": {}
      },
      "source": [
        "\n",
        "for i in range(0,len(pred)):\n",
        "  print(str(y_test[i]) +'\\t'+ str(pred[i]))\n",
        "  \n",
        "  "
      ],
      "execution_count": 0,
      "outputs": []
    },
    {
      "cell_type": "code",
      "metadata": {
        "id": "Wa5JjlJM0rj2",
        "colab_type": "code",
        "colab": {}
      },
      "source": [
        "def trans_deg(im):\n",
        "#   im = cv2.imread(img)\n",
        "#   im = cv2.resize(im, (256,256))\n",
        "  B=np.zeros((256,256))\n",
        "  D=np.zeros((256,256))\n",
        "  C=np.zeros((256,256))\n",
        "  # 3rd channel or im[2] has been split as b,g,r \n",
        "\n",
        "  b,g,r = cv2.split(im)\n",
        "\n",
        "  for i in range(b.shape[0]):\n",
        "    for j in range(b.shape[1]):\n",
        "      D[i][j] = min(b[i][j], g[i][j], r[i][j])\n",
        "      B[i][j] = max(b[i][j], g[i][j], r[i][j])\n",
        "      C[i][j] = B[i][j] - D[i][j]\n",
        "\n",
        "  d = np.sum(D)/float(np.size(D))\n",
        "  b = np.sum(B)/float(np.size(B))\n",
        "  c = b-d \n",
        "  A = (0.33)*max(np.ndarray.flatten(B)) + (0.66)*b\n",
        "  \n",
        "  x1=((A - d)/float(A)) \n",
        "  x2=(c/float(A))\n",
        "  u = 10.127489\n",
        "  v= -8.336512\n",
        "  s = 0.13606234\n",
        "  \n",
        "  w = math.exp(-0.5*(u*x1 + v*x2)+s)\n",
        "  \n",
        "  if(w<=0.1):\n",
        "      w=0\n",
        "  elif(w<=0.3):\n",
        "    w=1\n",
        "  elif(w<=0.5):\n",
        "    w=2\n",
        "  elif(w<=0.7):\n",
        "    w=3\n",
        "  elif(w<=0.8):\n",
        "    w=4\n",
        "  elif(w<=0.9):\n",
        "    w=5\n",
        "    \n",
        "  return w"
      ],
      "execution_count": 0,
      "outputs": []
    },
    {
      "cell_type": "code",
      "metadata": {
        "id": "0u8yXSvapSPG",
        "colab_type": "code",
        "colab": {}
      },
      "source": [
        "def entropy(image):\n",
        "  image = cv2.cvtColor(image, cv2.COLOR_BGR2GRAY)\n",
        "  hist = cv2.calcHist( [image.astype('float32')],\n",
        "              [0], \n",
        "              None,\n",
        "               [256], \n",
        "              [0,256] )\n",
        "  h_norm = 0\n",
        "  h_norm = cv2.normalize(hist, h_norm)\n",
        "  ent = 0\n",
        "  for p in h_norm:\n",
        "    try:\n",
        "      ent += p*math.log(p, 2)\n",
        "    except:\n",
        "      pass\n",
        "    \n",
        "  return (-1 * ent[0])"
      ],
      "execution_count": 0,
      "outputs": []
    },
    {
      "cell_type": "code",
      "metadata": {
        "id": "HB5IbHV9pUhK",
        "colab_type": "code",
        "colab": {}
      },
      "source": [
        "def contrast(image):\n",
        "  image = cv2.cvtColor(image, cv2.COLOR_BGR2GRAY)\n",
        "  s = 0\n",
        "  ss = 0\n",
        "  mean = np.mean(image)\n",
        "  x = (-1 * mean * (np.ones(image.shape)))\n",
        "  ss = np.square(np.add(image, x))\n",
        "  cont = np.sqrt(np.sum(ss)/float(image.size))\n",
        "  return cont"
      ],
      "execution_count": 0,
      "outputs": []
    },
    {
      "cell_type": "code",
      "metadata": {
        "id": "8LfQYWPVpWhG",
        "colab_type": "code",
        "colab": {}
      },
      "source": [
        "# from sklearn.ensemble import GradientBoostingRegressor\n",
        "\n",
        "# gbrt = GradientBoostingRegressor(max_depth=2,n_estimators=120)\n",
        "\n",
        "# cross = cross_val_score(gbrt, features, pm, scoring ='neg_mean_squared_error',cv=3)\n",
        "\n",
        "# x_train, x_test, y_train, y_test = train_test_split(features, pm, test_size =0.2, random_state =42)\n",
        "\n",
        "# gbrt.fit(x_train, y_train)\n",
        "\n",
        "# y_pred = gbrt.predict(x_test)\n",
        "\n",
        "# errors = [mean_squared_error(y_val, y_pred)\n",
        "# for y_pred in gbrt.staged_predict(X_val)]\n",
        "\n",
        "# bst_n_estimators = np.argmin(errors)\n",
        "\n",
        "# gbrt_best = GradientBoostingRegressor(max_depth=2,n_estimators=bst_n_estimators)\n",
        "# gbrt_best.fit(x_train, y_train) \n"
      ],
      "execution_count": 0,
      "outputs": []
    },
    {
      "cell_type": "code",
      "metadata": {
        "id": "_5cNHBH_cWDQ",
        "colab_type": "code",
        "colab": {}
      },
      "source": [
        "# print((cross*(-1))**0.5)"
      ],
      "execution_count": 0,
      "outputs": []
    },
    {
      "cell_type": "code",
      "metadata": {
        "id": "GxqXmou-bIAt",
        "colab_type": "code",
        "colab": {}
      },
      "source": [
        "# pred = gbrt_best.predict(x_test)\n",
        "\n",
        "# plt.plot(pred)\n",
        "# plt.plot(y_test)\n",
        "\n",
        "# print(mean_squared_error(pred, y_test)**0.5)"
      ],
      "execution_count": 0,
      "outputs": []
    },
    {
      "cell_type": "code",
      "metadata": {
        "id": "4vwWL2QIb6Kr",
        "colab_type": "code",
        "colab": {}
      },
      "source": [
        "# pred = reg.predict(x_test)\n",
        "\n",
        "# plt.plot(pred)\n",
        "# plt.plot(y_test)\n",
        "\n",
        "# print(mean_squared_error(pred, y_test)**0.5)"
      ],
      "execution_count": 0,
      "outputs": []
    },
    {
      "cell_type": "code",
      "metadata": {
        "id": "wMxE60xucMlv",
        "colab_type": "code",
        "colab": {}
      },
      "source": [
        "# print(((-1)*cross)**0.5)"
      ],
      "execution_count": 0,
      "outputs": []
    }
  ]
}