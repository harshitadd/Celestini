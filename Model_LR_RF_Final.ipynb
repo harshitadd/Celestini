{
  "nbformat": 4,
  "nbformat_minor": 0,
  "metadata": {
    "colab": {
      "name": "Model_LR_RF_Final.ipynb",
      "provenance": [],
      "collapsed_sections": [],
      "include_colab_link": true
    },
    "kernelspec": {
      "name": "python3",
      "display_name": "Python 3"
    },
    "accelerator": "GPU"
  },
  "cells": [
    {
      "cell_type": "markdown",
      "metadata": {
        "id": "view-in-github",
        "colab_type": "text"
      },
      "source": [
        "<a href=\"https://colab.research.google.com/github/harshitadd/Celestini/blob/master/Model_LR_RF_Final.ipynb\" target=\"_parent\"><img src=\"https://colab.research.google.com/assets/colab-badge.svg\" alt=\"Open In Colab\"/></a>"
      ]
    },
    {
      "cell_type": "markdown",
      "metadata": {
        "id": "x9GNzhfL8Pth",
        "colab_type": "text"
      },
      "source": [
        ""
      ]
    },
    {
      "cell_type": "code",
      "metadata": {
        "id": "Y0iXkkesy1DG",
        "colab_type": "code",
        "colab": {}
      },
      "source": [
        "!pip install firebase-admin\n",
        "#from google.colab import drive \n",
        "import firebase_admin\n",
        "import cv2 \n",
        "from firebase_admin import credentials,db \n",
        "from google.colab.patches import cv2_imshow\n",
        "from sklearn.externals import joblib \n",
        "from firebase_admin import storage \n",
        "import pandas as pd \n",
        "import csv \n",
        "import json\n",
        "import pickle\n",
        "import numpy as np\n",
        "import math\n",
        "import matplotlib.pyplot as plt\n",
        "from sklearn.preprocessing import MinMaxScaler\n",
        "from sklearn.model_selection import train_test_split,cross_val_predict, cross_val_score\n",
        "from sklearn.metrics import mean_squared_error, mean_absolute_error\n",
        "from sklearn.linear_model import LinearRegression \n",
        "from sklearn.ensemble import RandomForestRegressor"
      ],
      "execution_count": 0,
      "outputs": []
    },
    {
      "cell_type": "code",
      "metadata": {
        "id": "oqOvmLSwzyQw",
        "colab_type": "code",
        "colab": {}
      },
      "source": [
        "cred = credentials.Certificate(\"credentials.json\")\n",
        "\n",
        "# Initialize the app with a service account, granting admin privileges\n",
        "app = firebase_admin.initialize_app(cred, {\n",
        "    'storageBucket': 'fir-4ca2c.appspot.com',\n",
        "}, name='images_old')"
      ],
      "execution_count": 0,
      "outputs": []
    },
    {
      "cell_type": "markdown",
      "metadata": {
        "id": "GIsZJu3Wesj4",
        "colab_type": "text"
      },
      "source": [
        "IMAGE GENERATION "
      ]
    },
    {
      "cell_type": "code",
      "metadata": {
        "id": "nb5tec571jfO",
        "colab_type": "code",
        "colab": {}
      },
      "source": [
        "##GETTING NAMES  -- ##Location - SSCB and DTU : Rotated images  \n",
        "\n",
        "bucket = storage.bucket(app=app)\n",
        "blobs = bucket.list_blobs()\n",
        "\n",
        "#blobs is an interator :google.api_core.page_iterator.HTTPIterator object at 0x7f2cd11c84e0>\n",
        "\n",
        "imglenovo = [] #has all the lenovo images by their name \n",
        "ctr=0\n",
        "mits = set()\n",
        "for blob in blobs:\n",
        "  if blob.name[7:16]==\"lenovoinS\" :\n",
        "    if int(blob.name[-8:-6])<19 and int(blob.name[-8:-6])>5:\n",
        "      blob.download_to_filename('/content/' + \"lenovo\" + str(blob.name.split('/')[-1])+ '.jpeg')\n",
        "      imglenovo.append(\"lenovo\" + str(blob.name.split('/')[-1])+ '.jpeg') \n",
        "      #print(\"lenovo\" + str(blob.name.split('/')[-1])+ '.jpeg')\n",
        "      ctr+=1\n",
        "      print(ctr)\n",
        "      \n",
        "    "
      ],
      "execution_count": 0,
      "outputs": []
    },
    {
      "cell_type": "code",
      "metadata": {
        "id": "yGsY3dWi6sgE",
        "colab_type": "code",
        "colab": {}
      },
      "source": [
        "##READING THEM \n",
        "\n",
        "dtu=[]\n",
        "sscb=[]\n",
        "for img in imglenovo:\n",
        "  if(img[11:16]>'07-02'):##These indicate the DTU Images - which need to be cropped and rotated \n",
        "    l=[]\n",
        "    l.append(img)\n",
        "    im = cv2.imread(img)\n",
        "    crop = im[700:3150, 0:3120]\n",
        "    crop = cv2.resize(crop, (int(np.shape(im)[1]*0.1), int(np.shape(im)[0]*0.1)))\n",
        "    im = cv2.resize(crop,(256,256))\n",
        "    im = cv2.rotate(im,rotateCode =cv2.ROTATE_90_COUNTERCLOCKWISE)\n",
        "    l.append(im)\n",
        "    dtu.append(l)\n",
        "  else:\n",
        "    l=[]\n",
        "    l.append(img)\n",
        "    im = cv2.imread(img)           ##These indicate the SSCB Images - rotation only \n",
        "    im = cv2.resize(im, (256,256))\n",
        "    im = cv2.rotate(im,rotateCode =cv2.ROTATE_90_CLOCKWISE)\n",
        "    l.append(im)\n",
        "    sscb.append(l)\n",
        "    \n",
        "    \n",
        "    "
      ],
      "execution_count": 0,
      "outputs": []
    },
    {
      "cell_type": "code",
      "metadata": {
        "id": "eitKE9Vs27qu",
        "colab_type": "code",
        "outputId": "b1a4f831-f797-473d-efe5-1bd9fcd125d6",
        "colab": {
          "base_uri": "https://localhost:8080/",
          "height": 51
        }
      },
      "source": [
        "## CHECKING BLOCK \n",
        "\n",
        "print(len(dtu))\n",
        "print(len(sscb))\n"
      ],
      "execution_count": 5,
      "outputs": [
        {
          "output_type": "stream",
          "text": [
            "369\n",
            "502\n"
          ],
          "name": "stdout"
        }
      ]
    },
    {
      "cell_type": "code",
      "metadata": {
        "id": "2l-4Btpf9Jl-",
        "colab_type": "code",
        "colab": {}
      },
      "source": [
        "##GETTING NAMES - PUNJABI BAGH \n",
        "\n",
        "bucket = storage.bucket(app=app)\n",
        "blobs = bucket.list_blobs()\n",
        "count=0\n",
        "imgpb = [] #has all the minote pictures by their name \n",
        "ctr=0\n",
        "mits = set()\n",
        "for blob in blobs:  \n",
        "  if blob.name.split('/')[1]==\"rivers.jpg\" :\n",
        "    ctr+=1\n",
        "    if int(blob.name[-8:-6])<19 and int(blob.name[-8:-6])>5 and ctr%3==0:\n",
        "        blob.download_to_filename('/content/' + \"pb\" + str(blob.name.split('/')[-1])+ '.jpeg')\n",
        "        imgpb.append(\"pb\" + str(blob.name.split('/')[-1])+ '.jpeg') \n",
        "        #print(\"pb\" + str(blob.name.split('/')[-1])+ '.jpeg')\n",
        "        count=ctr\n",
        "        print(count)"
      ],
      "execution_count": 0,
      "outputs": []
    },
    {
      "cell_type": "code",
      "metadata": {
        "id": "Ie52XTD5wgKj",
        "colab_type": "code",
        "outputId": "12d4a368-2756-4c25-b59d-ac1e0375aefc",
        "colab": {
          "base_uri": "https://localhost:8080/",
          "height": 34
        }
      },
      "source": [
        "print(len(imgpb))"
      ],
      "execution_count": 7,
      "outputs": [
        {
          "output_type": "stream",
          "text": [
            "161\n"
          ],
          "name": "stdout"
        }
      ]
    },
    {
      "cell_type": "code",
      "metadata": {
        "id": "Z5nyBCSA5h3K",
        "colab_type": "code",
        "colab": {}
      },
      "source": [
        "##READING IMAGES - Rotated\n",
        "\n",
        "pb=[]\n",
        "for img in imgpb:\n",
        "  l=[]\n",
        "  l.append(img)\n",
        "  im = cv2.imread(img)\n",
        "  im = cv2.resize(im, (256,256))\n",
        "  im = cv2.rotate(im,rotateCode =cv2.ROTATE_90_CLOCKWISE)\n",
        "  l.append(im)\n",
        "  pb.append(l)\n"
      ],
      "execution_count": 0,
      "outputs": []
    },
    {
      "cell_type": "code",
      "metadata": {
        "id": "w4c6N8N9MMuM",
        "colab_type": "code",
        "colab": {}
      },
      "source": [
        "##GETTING NAMES - Location : DTU AND SHADIPUR \n",
        "\n",
        "bucket = storage.bucket(app=app)\n",
        "blobs = bucket.list_blobs()\n",
        "\n",
        "imgminote = [] #has all the minote pictures by their name \n",
        "ctr=0\n",
        "mits = set()\n",
        "for blob in blobs:\n",
        "  if blob.name[7:16]==\"minoteSSC\" :\n",
        "    if int(blob.name[-8:-6])<19 and int(blob.name[-8:-6])>5:\n",
        "        blob.download_to_filename('/content/' + \"minote\" + str(blob.name.split('/')[-1])+ '.jpeg')\n",
        "        imgminote.append(\"minote\" + str(blob.name.split('/')[-1])+ '.jpeg') \n",
        "        #print(\"minote\" + str(blob.name.split('/')[-1])+ '.jpeg')\n",
        "        ctr+=1\n",
        "        print(ctr)\n",
        "      \n"
      ],
      "execution_count": 0,
      "outputs": []
    },
    {
      "cell_type": "code",
      "metadata": {
        "id": "FTDORaRQMyHx",
        "colab_type": "code",
        "colab": {}
      },
      "source": [
        "##READING IMAGES - Location - SSCB and SHADIPUR ; Rotation \n",
        "shadipur = []\n",
        "for img in imgminote : \n",
        "  if(img[11:16]>'07-05'):  ##Shadipur images needed rotating  \n",
        "    l=[]\n",
        "    l.append(img)\n",
        "    im = cv2.imread(img)\n",
        "    im = cv2.resize(im, (256,256))\n",
        "    im = cv2.rotate(im, rotateCode = cv2.ROTATE_90_COUNTERCLOCKWISE)\n",
        "    l.append(im)\n",
        "    shadipur.append(l)\n",
        "  else:\n",
        "    l=[]\n",
        "    l.append(img)\n",
        "    im = cv2.imread(img)               ##SSCB images did not need any rotating \n",
        "    im = cv2.resize(im, (256,256))\n",
        "    l.append(im)\n",
        "    sscb.append(l)\n",
        "    "
      ],
      "execution_count": 0,
      "outputs": []
    },
    {
      "cell_type": "code",
      "metadata": {
        "id": "7BDx9S9AJi3j",
        "colab_type": "code",
        "outputId": "30d7e9e7-70f4-46d1-e71f-d783ab754ddd",
        "colab": {
          "base_uri": "https://localhost:8080/",
          "height": 51
        }
      },
      "source": [
        "print(len(shadipur))\n",
        "print(len(sscb))"
      ],
      "execution_count": 11,
      "outputs": [
        {
          "output_type": "stream",
          "text": [
            "244\n",
            "1320\n"
          ],
          "name": "stdout"
        }
      ]
    },
    {
      "cell_type": "code",
      "metadata": {
        "id": "r09m2_TnuJup",
        "colab_type": "code",
        "colab": {}
      },
      "source": [
        "\n",
        "\n",
        "bucket = storage.bucket(app=app)\n",
        "blobs = bucket.list_blobs()\n",
        "\n",
        "#blobs is an interator :google.api_core.page_iterator.HTTPIterator object at 0x7f2cd11c84e0>\n",
        "\n",
        "imgito = [] #has all the lenovo images by their name \n",
        "ctr=0\n",
        "mits = set()\n",
        "for blob in blobs:\n",
        "  if blob.name[7:17]==\"Lenovo.JPG\" :\n",
        "    if int(blob.name[-8:-6])<19 and int(blob.name[-8:-6])>5:\n",
        "      blob.download_to_filename('/content/' + \"ito\" + str(blob.name.split('/')[-1])+ '.jpeg')\n",
        "      imgito.append(\"ito\" + str(blob.name.split('/')[-1])+ '.jpeg') \n",
        "      #print(\"ito\" + str(blob.name.split('/')[-1])+ '.jpeg')\n",
        "      ctr+=1\n",
        "      print(ctr)\n"
      ],
      "execution_count": 0,
      "outputs": []
    },
    {
      "cell_type": "code",
      "metadata": {
        "id": "45qtbzVHV_ha",
        "colab_type": "code",
        "colab": {}
      },
      "source": [
        "##READING BLOCK \n",
        "\n",
        "ito=[]\n",
        "count=0\n",
        "\n",
        "for img in imgito:\n",
        "  l=[]\n",
        "  count+=1\n",
        "  if(count%2==0):\n",
        "    l.append(img)\n",
        "    im = cv2.imread(img)\n",
        "    im = cv2.resize(im,(256,256))\n",
        "    im = cv2.rotate(im, rotateCode = cv2.ROTATE_90_COUNTERCLOCKWISE)\n",
        "    l.append(im)\n",
        "    ito.append(l)\n"
      ],
      "execution_count": 0,
      "outputs": []
    },
    {
      "cell_type": "code",
      "metadata": {
        "id": "9n-O49FfewpL",
        "colab_type": "code",
        "outputId": "a2b6d98a-bdd8-4e21-9c62-e79eece9d95e",
        "colab": {
          "base_uri": "https://localhost:8080/",
          "height": 103
        }
      },
      "source": [
        "\n",
        "print(np.shape(sscb))    \n",
        "print(np.shape(ito))      \n",
        "print(np.shape(dtu))  \n",
        "print(np.shape(shadipur))     \n",
        "print(np.shape(pb))   \n",
        "#print(shanghai.keys())\n"
      ],
      "execution_count": 140,
      "outputs": [
        {
          "output_type": "stream",
          "text": [
            "(1320, 2)\n",
            "(249, 2)\n",
            "(369, 2)\n",
            "(244, 2)\n",
            "(161, 2)\n"
          ],
          "name": "stdout"
        }
      ]
    },
    {
      "cell_type": "code",
      "metadata": {
        "id": "gdaN8E-mwcy9",
        "colab_type": "code",
        "colab": {}
      },
      "source": [
        "cred = credentials.Certificate('/content/credentials_new.json')\n",
        "\n",
        "##  only take the part from where the actual name starts\n",
        "app = firebase_admin.initialize_app(cred, {\n",
        "    'storageBucket': 'location-5f194.appspot.com',\n",
        "}, name='images_diff')"
      ],
      "execution_count": 0,
      "outputs": []
    },
    {
      "cell_type": "code",
      "metadata": {
        "id": "Vp6nZN9hy1Y5",
        "colab_type": "code",
        "colab": {}
      },
      "source": [
        "## Reading the different locations images -- This includes \n",
        "\n",
        "s7_jpeg=[]\n",
        "note4_jpeg=[]\n",
        "minote_jpeg=[]\n",
        "PatelNagarMi_jpeg=[]\n",
        "gurgaonNote4_jpeg=[]\n",
        "\n",
        "\n",
        "bucket = storage.bucket(app = app)\n",
        "blobs = bucket.list_blobs()\n",
        "ctr=0\n",
        "\n",
        "\n",
        "## Reading all the LDR images \n",
        "for blob in blobs:\n",
        "  if('s7' in blob.name and 'jpeg' in blob.name and int(blob.name[-8:-6])<19 and int(blob.name[-8:-6])>5):\n",
        "      blob.download_to_filename('/content/' + \"s7_jpeg\" + str(blob.name.split('/')[-1])+ '.jpeg')\n",
        "      name = \"s7_jpeg\" + str(blob.name.split('/')[-1])+ '.jpeg' \n",
        "      ctr+=1\n",
        "      im = cv2.imread(name)\n",
        "      im = cv2.resize(im,(256,256))\n",
        "      l=[]\n",
        "      l.append(name)\n",
        "      l.append(im)\n",
        "      s7_jpeg.append(l) \n",
        "      print(name)\n",
        "  if('note4' in blob.name and 'jpeg' in blob.name and int(blob.name[-8:-6])<19 and int(blob.name[-8:-6])>5):\n",
        "      blob.download_to_filename('/content/' + \"note4_jpeg\" + str(blob.name.split('/')[-1])+ '.jpeg')\n",
        "      name = \"note4_jpeg\" + str(blob.name.split('/')[-1])+ '.jpeg' \n",
        "      ctr+=1\n",
        "      im = cv2.imread(name)\n",
        "      im = cv2.resize(im,(256,256))\n",
        "      l=[]\n",
        "      l.append(name)\n",
        "      l.append(im)\n",
        "      note4_jpeg.append(l)\n",
        "      print(name)\n",
        "  if('minote' in blob.name and 'jpeg' in blob.name and int(blob.name[-8:-6])<19 and int(blob.name[-8:-6])>5):\n",
        "      blob.download_to_filename('/content/' + \"minote_jpeg\" + str(blob.name.split('/')[-1])+ '.jpeg')\n",
        "      name = \"minote_jpeg\" + str(blob.name.split('/')[-1])+ '.jpeg' \n",
        "      ctr+=1\n",
        "      im = cv2.imread(name)\n",
        "      im = cv2.resize(im,(256,256))\n",
        "      l=[]\n",
        "      l.append(name)\n",
        "      l.append(im)\n",
        "      minote_jpeg.append(l)\n",
        "      print(name)\n",
        "  if('PatelNagarMi' in blob.name and 'jpeg' in blob.name and int(blob.name[-8:-6])<19 and int(blob.name[-8:-6])>5):\n",
        "      blob.download_to_filename('/content/' + \"PatelNagarMi_jpeg\" + str(blob.name.split('/')[-1])+ '.jpeg')\n",
        "      name = \"PatelNagarMi_jpeg\" + str(blob.name.split('/')[-1])+ '.jpeg' \n",
        "      ctr+=1\n",
        "      im = cv2.imread(name)\n",
        "      im = cv2.resize(im,(256,256))\n",
        "      l=[]\n",
        "      l.append(name)\n",
        "      l.append(im)\n",
        "      PatelNagarMi_jpeg.append(l)\n",
        "      print(name)\n",
        "  if('gurgaonNote4' in blob.name and 'jpeg' in blob.name and int(blob.name[-8:-6])<19 and int(blob.name[-8:-6])>5):\n",
        "      blob.download_to_filename('/content/' + \"gurgaonNote4_jpeg\" + str(blob.name.split('/')[-1])+ '.jpeg')\n",
        "      name = \"gurgaonNote4_jpeg\" + str(blob.name.split('/')[-1])+ '.jpeg' \n",
        "      ctr+=1\n",
        "      im = cv2.imread(name)\n",
        "      im = cv2.resize(im,(256,256))\n",
        "      l=[]\n",
        "      l.append(name)\n",
        "      l.append(im)\n",
        "      gurgaonNote4_jpeg.append(l)\n",
        "      print(name)\n"
      ],
      "execution_count": 0,
      "outputs": []
    },
    {
      "cell_type": "code",
      "metadata": {
        "id": "5QbpqC3t1P2W",
        "colab_type": "code",
        "outputId": "7b1811a5-40e2-4ca7-b17c-b5dd5090fb7d",
        "colab": {
          "base_uri": "https://localhost:8080/",
          "height": 103
        }
      },
      "source": [
        "\n",
        "print(len(s7_jpeg))\n",
        "print(len(note4_jpeg))\n",
        "print(len(minote_jpeg))\n",
        "print(len(PatelNagarMi_jpeg))\n",
        "print(len(gurgaonNote4_jpeg))"
      ],
      "execution_count": 139,
      "outputs": [
        {
          "output_type": "stream",
          "text": [
            "94\n",
            "30\n",
            "80\n",
            "539\n",
            "184\n"
          ],
          "name": "stdout"
        }
      ]
    },
    {
      "cell_type": "markdown",
      "metadata": {
        "id": "ptqlPGjpBGcZ",
        "colab_type": "text"
      },
      "source": [
        "LABEL PROCESSING "
      ]
    },
    {
      "cell_type": "code",
      "metadata": {
        "id": "G9dZWeJkyceb",
        "colab_type": "code",
        "colab": {}
      },
      "source": [
        "with open('/content/labels_prevhour.bin','rb') as file:\n",
        "  data = pickle.load(file)"
      ],
      "execution_count": 0,
      "outputs": []
    },
    {
      "cell_type": "code",
      "metadata": {
        "id": "VU_ob0CJydXF",
        "colab_type": "code",
        "colab": {}
      },
      "source": [
        "l_s7_jpeg=data['s7_jpeg']\n",
        "l_note4_jpeg=data['note4_jpeg']\n",
        "l_minote_jpeg=data['minote_jpeg']\n",
        "l_PatelNagarMi_jpeg=data['PatelNagarMi_jpeg']\n",
        "l_gurgaonNote4_jpeg=data['gurgaonNote4_jpeg']"
      ],
      "execution_count": 0,
      "outputs": []
    },
    {
      "cell_type": "code",
      "metadata": {
        "id": "vQaMAoH-0wPm",
        "colab_type": "code",
        "colab": {
          "base_uri": "https://localhost:8080/",
          "height": 1000
        },
        "outputId": "7c98de01-fbcf-4e47-f18e-b0e4e6b93f72"
      },
      "source": [
        "feat=[]\n",
        "\n",
        "\n",
        "for img in s7_jpeg:\n",
        "  #print(img[0][7:])\n",
        "  for l  in l_s7_jpeg:\n",
        "    #print(l[0])\n",
        "    if(img[0][7:] == l[0]):\n",
        "      print('s7')\n",
        "      t=[]\n",
        "      im = img[1]\n",
        "      t.append(l[0])\n",
        "      t.append(entropy(im))\n",
        "      t.append(contrast(im))\n",
        "      t.append(trans_deg(img[1]))\n",
        "      t.append(l[1])\n",
        "      t.append(l[2]) ##--> prev hours reading \n",
        "      feat.append(t)\n",
        "\n",
        "for img in note4_jpeg:\n",
        "  #print(img[0][10:])\n",
        "  for l in l_note4_jpeg:\n",
        "    #print(l[0])\n",
        "    if(img[0][10:] == l[0]):\n",
        "      print('note4')\n",
        "      t=[]\n",
        "      im = img[1]\n",
        "      t.append(l[0])\n",
        "      t.append(entropy(im))\n",
        "      t.append(contrast(im))\n",
        "      t.append(trans_deg(img[1]))\n",
        "      t.append(l[1])\n",
        "      t.append(l[2]) ##--> prev hours reading \n",
        "      feat.append(t) \n",
        "  \n",
        "for img in minote_jpeg:  \n",
        "  for l in l_minote_jpeg:\n",
        "    if(img[0][11:] == l[0]):\n",
        "      print('minote')\n",
        "      t=[]\n",
        "      im = img[1]\n",
        "      t.append(l[0])\n",
        "      t.append(entropy(im))\n",
        "      t.append(contrast(im))\n",
        "      t.append(trans_deg(img[1]))\n",
        "      t.append(l[1])\n",
        "      t.append(l[2]) ##--> prev hours reading \n",
        "      feat.append(t)\n",
        "\n",
        "for img in PatelNagarMi_jpeg:\n",
        "  #print(img[0][17:])\n",
        "  for l  in l_PatelNagarMi_jpeg:\n",
        "    #print(l[0])\n",
        "    if(img[0][17:] == l[0]):\n",
        "      print('PatelNagar')\n",
        "      t=[]\n",
        "      im = img[1]\n",
        "      t.append(l[0])\n",
        "      t.append(entropy(im))\n",
        "      t.append(contrast(im))\n",
        "      t.append(trans_deg(img[1]))\n",
        "      t.append(l[1])\n",
        "      t.append(l[2]) ##--> prev hours reading \n",
        "      feat.append(t) \n",
        "\n",
        "for img in gurgaonNote4_jpeg:\n",
        "  #print(img[0][17:])\n",
        "  for l  in l_gurgaonNote4_jpeg:\n",
        "    #print(l[0])\n",
        "    if(img[0][17:] == l[0]):\n",
        "      print('Gurgaon')\n",
        "      t=[]\n",
        "      im = img[1]\n",
        "      t.append(l[0])\n",
        "      t.append(entropy(im))\n",
        "      t.append(contrast(im))\n",
        "      t.append(trans_deg(img[1]))\n",
        "      t.append(l[1])\n",
        "      t.append(l[2]) ##--> prev hours reading \n",
        "      feat.append(t) \n",
        "    \n"
      ],
      "execution_count": 0,
      "outputs": [
        {
          "output_type": "stream",
          "text": [
            "s7\n",
            "s7\n",
            "s7\n",
            "s7\n",
            "s7\n",
            "s7\n",
            "s7\n",
            "s7\n",
            "s7\n",
            "s7\n",
            "s7\n",
            "s7\n",
            "s7\n",
            "s7\n",
            "s7\n",
            "s7\n",
            "s7\n",
            "s7\n",
            "s7\n",
            "s7\n",
            "s7\n",
            "s7\n",
            "s7\n",
            "s7\n",
            "s7\n",
            "s7\n",
            "s7\n",
            "s7\n",
            "s7\n",
            "s7\n",
            "s7\n",
            "s7\n",
            "s7\n",
            "s7\n",
            "s7\n",
            "s7\n",
            "s7\n",
            "s7\n",
            "s7\n",
            "s7\n",
            "s7\n",
            "s7\n",
            "s7\n",
            "s7\n",
            "s7\n",
            "s7\n",
            "s7\n",
            "s7\n",
            "s7\n",
            "s7\n",
            "s7\n",
            "s7\n",
            "s7\n",
            "s7\n",
            "s7\n",
            "s7\n",
            "s7\n",
            "s7\n",
            "s7\n",
            "s7\n",
            "s7\n",
            "s7\n",
            "s7\n",
            "s7\n",
            "s7\n",
            "s7\n",
            "s7\n",
            "s7\n",
            "s7\n",
            "s7\n",
            "s7\n",
            "s7\n",
            "s7\n",
            "s7\n",
            "s7\n",
            "s7\n",
            "s7\n",
            "s7\n",
            "s7\n",
            "s7\n",
            "s7\n",
            "s7\n",
            "s7\n",
            "s7\n",
            "s7\n",
            "s7\n",
            "s7\n",
            "s7\n",
            "s7\n",
            "s7\n",
            "s7\n",
            "s7\n",
            "s7\n",
            "s7\n",
            "note4\n",
            "note4\n",
            "note4\n",
            "note4\n",
            "note4\n",
            "note4\n",
            "note4\n",
            "note4\n",
            "note4\n",
            "note4\n",
            "note4\n",
            "note4\n",
            "note4\n",
            "note4\n",
            "note4\n",
            "note4\n",
            "note4\n",
            "note4\n",
            "note4\n",
            "note4\n",
            "note4\n",
            "note4\n",
            "note4\n",
            "note4\n",
            "note4\n",
            "note4\n",
            "note4\n",
            "note4\n",
            "note4\n",
            "note4\n",
            "minote\n",
            "minote\n",
            "minote\n",
            "minote\n",
            "minote\n",
            "minote\n",
            "minote\n",
            "minote\n",
            "minote\n",
            "minote\n",
            "minote\n",
            "minote\n",
            "minote\n",
            "minote\n",
            "minote\n",
            "minote\n",
            "minote\n",
            "minote\n",
            "minote\n",
            "minote\n",
            "minote\n",
            "minote\n",
            "minote\n",
            "minote\n",
            "minote\n",
            "minote\n",
            "minote\n",
            "minote\n",
            "minote\n",
            "minote\n",
            "minote\n",
            "minote\n",
            "minote\n",
            "minote\n",
            "minote\n",
            "minote\n",
            "minote\n",
            "minote\n",
            "minote\n",
            "minote\n",
            "minote\n",
            "minote\n",
            "minote\n",
            "minote\n",
            "minote\n",
            "minote\n",
            "minote\n",
            "minote\n",
            "minote\n",
            "minote\n",
            "minote\n",
            "minote\n",
            "minote\n",
            "minote\n",
            "minote\n",
            "minote\n",
            "minote\n",
            "minote\n",
            "minote\n",
            "minote\n",
            "minote\n",
            "minote\n",
            "minote\n",
            "minote\n",
            "minote\n",
            "minote\n",
            "minote\n",
            "minote\n",
            "minote\n",
            "minote\n",
            "minote\n",
            "minote\n",
            "minote\n",
            "minote\n",
            "minote\n",
            "minote\n",
            "minote\n",
            "minote\n",
            "minote\n",
            "minote\n",
            "PatelNagar\n",
            "PatelNagar\n",
            "PatelNagar\n",
            "PatelNagar\n",
            "PatelNagar\n",
            "PatelNagar\n",
            "PatelNagar\n",
            "PatelNagar\n",
            "PatelNagar\n",
            "PatelNagar\n",
            "PatelNagar\n",
            "PatelNagar\n",
            "PatelNagar\n",
            "PatelNagar\n",
            "PatelNagar\n",
            "PatelNagar\n",
            "PatelNagar\n",
            "PatelNagar\n",
            "PatelNagar\n",
            "PatelNagar\n",
            "PatelNagar\n",
            "PatelNagar\n",
            "PatelNagar\n",
            "PatelNagar\n",
            "PatelNagar\n",
            "PatelNagar\n",
            "PatelNagar\n",
            "PatelNagar\n",
            "PatelNagar\n",
            "PatelNagar\n",
            "PatelNagar\n",
            "PatelNagar\n",
            "PatelNagar\n",
            "PatelNagar\n",
            "PatelNagar\n",
            "PatelNagar\n",
            "PatelNagar\n",
            "PatelNagar\n",
            "PatelNagar\n",
            "PatelNagar\n",
            "PatelNagar\n",
            "PatelNagar\n",
            "PatelNagar\n",
            "PatelNagar\n",
            "PatelNagar\n",
            "PatelNagar\n",
            "PatelNagar\n",
            "PatelNagar\n",
            "PatelNagar\n",
            "PatelNagar\n",
            "PatelNagar\n",
            "PatelNagar\n",
            "PatelNagar\n",
            "PatelNagar\n",
            "PatelNagar\n",
            "PatelNagar\n",
            "PatelNagar\n",
            "PatelNagar\n",
            "PatelNagar\n",
            "PatelNagar\n",
            "PatelNagar\n",
            "PatelNagar\n",
            "PatelNagar\n",
            "PatelNagar\n",
            "PatelNagar\n",
            "PatelNagar\n",
            "PatelNagar\n",
            "PatelNagar\n",
            "PatelNagar\n",
            "PatelNagar\n",
            "PatelNagar\n",
            "PatelNagar\n",
            "PatelNagar\n",
            "PatelNagar\n"
          ],
          "name": "stdout"
        }
      ]
    },
    {
      "cell_type": "code",
      "metadata": {
        "id": "I19tXYV--TAB",
        "colab_type": "code",
        "colab": {}
      },
      "source": [
        "print(len(feat))"
      ],
      "execution_count": 0,
      "outputs": []
    },
    {
      "cell_type": "code",
      "metadata": {
        "id": "kRLzY46X_Tvj",
        "colab_type": "code",
        "colab": {}
      },
      "source": [
        "cred = credentials.Certificate('/content/credentials_weather.json')\n",
        "\n",
        "##The weather data after 1st July \n",
        "\n",
        "# Initialize the app with a service account, granting admin privileges\n",
        "new = firebase_admin.initialize_app(cred, {\n",
        "    'databaseURL': 'https://celestini-bd493.firebaseio.com/'\n",
        "}, name ='w')"
      ],
      "execution_count": 0,
      "outputs": []
    },
    {
      "cell_type": "code",
      "metadata": {
        "id": "EycOwfQ6AJ9x",
        "colab_type": "code",
        "colab": {}
      },
      "source": [
        "    \n",
        "ref = db.reference(app=new)\n",
        "df = ref.get()\n"
      ],
      "execution_count": 0,
      "outputs": []
    },
    {
      "cell_type": "code",
      "metadata": {
        "id": "9nKvvLa3AQ9h",
        "colab_type": "code",
        "colab": {}
      },
      "source": [
        "temp_weather = {}\n",
        "\n",
        "for key in df:\n",
        "  try:\n",
        "    l=[]\n",
        "    l.append(df[key]['main']['humidity'])\n",
        "    l.append(df[key]['main']['pressure'])\n",
        "    l.append(df[key]['main']['temp'])\n",
        "    l.append(df[key]['visibility'])\n",
        "    l.append(df[key]['wind']['deg'])\n",
        "    l.append(df[key]['wind']['speed'])\n",
        "    l.append(df[key]['clouds']['all'])\n",
        "    k = df[key]['weather'][0]['description']\n",
        "    if(k=='haze'):\n",
        "      l.append(0)\n",
        "    elif(k=='mist'):\n",
        "      l.append(1)\n",
        "    elif(k=='drizzle'):\n",
        "      l.append(2)\n",
        "    elif(k=='dust'):\n",
        "      l.append(3)\n",
        "    temp_weather[key]=l\n",
        "  except:\n",
        "    print(key)\n",
        "    "
      ],
      "execution_count": 0,
      "outputs": []
    },
    {
      "cell_type": "code",
      "metadata": {
        "id": "J0_8e6_pAVo9",
        "colab_type": "code",
        "colab": {}
      },
      "source": [
        "feat_a=[]\n",
        "for val in feat:\n",
        "  #print(val[0])\n",
        "  temp = val[0] \n",
        "  #print(temp)\n",
        "  temp=temp.split('-')\n",
        "  #print(temp)\n",
        "  newtemp=temp[2].split(' ')\n",
        "  #print(newtemp)\n",
        "  newesttemp=newtemp[1].split(':')\n",
        "  #print(newesttemp)\n",
        "  j=int(newesttemp[1])\n",
        "  if(j<=7.5):\n",
        "    final = newtemp[0] + '-' + temp[1] + '-' + temp[0] + ' ' + newesttemp[0] + ':' + '00'\n",
        "  elif(j<=15 or j<=22.5):\n",
        "    final = newtemp[0] + '-' + temp[1] + '-' + temp[0] + ' ' + newesttemp[0] + ':' + '15'\n",
        "  elif(j<=30 or j<=37.5):\n",
        "    final = newtemp[0] + '-' + temp[1] + '-' + temp[0] + ' ' + newesttemp[0] + ':' + '30'\n",
        "  elif(j<=45 or j<=52.5):\n",
        "    final = newtemp[0] + '-' + temp[1] + '-' + temp[0] + ' ' + newesttemp[0] + ':' + '45'\n",
        "  elif(j>52.5):\n",
        "    final = newtemp[0] + '-' + temp[1] + '-' + temp[0] + ' ' + newesttemp[0] + ':' + '00'\n",
        "  l=[]\n",
        "  l.append(final)\n",
        "  l.append(val[1])\n",
        "  l.append(val[2])\n",
        "  l.append(val[3])\n",
        "  l.append(val[4])\n",
        "  l.append(val[5]) #The previous hours reading \n",
        "  feat_a.append(l)\n"
      ],
      "execution_count": 0,
      "outputs": []
    },
    {
      "cell_type": "code",
      "metadata": {
        "id": "Vm4KqtIWAcWV",
        "colab_type": "code",
        "colab": {}
      },
      "source": [
        "print(len(feat_a))"
      ],
      "execution_count": 0,
      "outputs": []
    },
    {
      "cell_type": "code",
      "metadata": {
        "id": "IhGed-5V_BQV",
        "colab_type": "code",
        "colab": {}
      },
      "source": [
        "print(feat_a[0])"
      ],
      "execution_count": 0,
      "outputs": []
    },
    {
      "cell_type": "code",
      "metadata": {
        "id": "hFJCJPcJAlm5",
        "colab_type": "code",
        "colab": {}
      },
      "source": [
        "weather={}\n",
        "for key in temp_weather:\n",
        "  temp=key.split('-')\n",
        "  newtemp=temp[2].split(' ')\n",
        "  newesttemp=newtemp[1].split(':')\n",
        "  j=int(newesttemp[1])\n",
        "  if(j<=7.5):\n",
        "    final = temp[0] + '-' + temp[1] + '-' + newtemp[0] + ' ' + newesttemp[0] + ':' + '00'\n",
        "  elif(j<=15 or j<=22.5):\n",
        "    final = temp[0] + '-' + temp[1] + '-' + newtemp[0] + ' ' + newesttemp[0] + ':' + '15'\n",
        "  elif(j<=30 or j<=37.5):\n",
        "    final = temp[0] + '-' + temp[1] + '-' + newtemp[0] + ' ' + newesttemp[0] + ':' + '30'\n",
        "  elif(j<=45 or j<=52.5):\n",
        "    final = temp[0] + '-' + temp[1] + '-' + newtemp[0] + ' ' + newesttemp[0] + ':' + '45'\n",
        "  elif(j>52.5):\n",
        "    final = temp[0] + '-' + temp[1] + '-' + newtemp[0] + ' ' + newesttemp[0] + ':' + '00'\n",
        "  if(final not in weather):\n",
        "    weather[final]=temp_weather[key]"
      ],
      "execution_count": 0,
      "outputs": []
    },
    {
      "cell_type": "code",
      "metadata": {
        "id": "Jb7_MwtlApB3",
        "colab_type": "code",
        "colab": {}
      },
      "source": [
        "trans=[]\n",
        "cont=[]\n",
        "ent=[]\n",
        "hours=[]\n",
        "hum=[]\n",
        "pressure=[]\n",
        "tempr=[]\n",
        "deg=[]\n",
        "speed=[]\n",
        "prev=[]\n",
        "pm=[]\n",
        "\n",
        "## COMBINING 1ST 4 LOCATIONS DATA \n",
        "for e in feat_a:\n",
        "  #index+=1\n",
        "  for w in weather:\n",
        "    if(e[0] == w):\n",
        "      #c=0\n",
        "      hours.append(float(e[0][-5:-3]))\n",
        "      \n",
        "#       while(int(feat_a[index][0][-5:-3])!=(int(e[0][-5:-3])-1) and c<6):\n",
        "#           index-=1\n",
        "#       prev.append(float(feat_a[index][4]))\n",
        "      \n",
        "      pm.append(float(e[4]))\n",
        "      prev.append(float(e[5]))\n",
        "      trans.append(e[3])\n",
        "      ent.append(float(e[1]))\n",
        "      cont.append(float(e[2]))\n",
        "      hum.append(float(weather[w][0]))\n",
        "      pressure.append(float(weather[w][1]))\n",
        "      tempr.append(float(weather[w][2])) \n",
        "      deg.append(float(weather[w][4]))\n",
        "      speed.append(float(weather[w][5]))\n",
        "    "
      ],
      "execution_count": 0,
      "outputs": []
    },
    {
      "cell_type": "code",
      "metadata": {
        "id": "QcbhxoPVAw1o",
        "colab_type": "code",
        "colab": {}
      },
      "source": [
        "print(len(trans))\n",
        "print(len(hours))\n",
        "print(len(cont))\n",
        "print(len(ent))\n",
        "print(len(hum))\n",
        "print(len(pressure))\n",
        "print(len(tempr))\n",
        "print(len(deg))\n",
        "print(len(speed))\n",
        "print(len(pm))\n",
        "print(len(prev))"
      ],
      "execution_count": 0,
      "outputs": []
    },
    {
      "cell_type": "code",
      "metadata": {
        "id": "PzXsU2JnBtna",
        "colab_type": "code",
        "colab": {}
      },
      "source": [
        "print(trans)\n",
        "print(hours)\n",
        "print(cont)\n",
        "print(ent)\n",
        "print(hum)\n",
        "print(pressure)\n",
        "print(tempr)\n",
        "print(deg)\n",
        "print(speed)\n",
        "print(pm)\n",
        "print(prev)"
      ],
      "execution_count": 0,
      "outputs": []
    },
    {
      "cell_type": "code",
      "metadata": {
        "id": "PAhWOZEkVc90",
        "colab_type": "code",
        "colab": {}
      },
      "source": [
        "##SSCB \n",
        "df = pd.read_csv('/content/sscb_labels.csv')\n",
        "data = df.mask(df.eq('None')).dropna()\n",
        "file = data.to_csv('/content/sscb_labels_new.csv')\n",
        "\n",
        "k=0\n",
        "cpcb=[]\n",
        "val = '61'\n",
        "with open('/content/sscb_labels_new.csv') as file:\n",
        "  reader = csv.reader(file, delimiter =',')\n",
        "  for row in reader:\n",
        "    k+=1\n",
        "    if(k>3):\n",
        "      l=[]\n",
        "      l.append(row[1]) #DATE \n",
        "      l.append(row[3]) #PM\n",
        "      l.append(val)\n",
        "      if(k%5==0):\n",
        "        val=row[3]\n",
        "      cpcb.append(l) "
      ],
      "execution_count": 0,
      "outputs": []
    },
    {
      "cell_type": "code",
      "metadata": {
        "id": "21pWKU-OXfJJ",
        "colab_type": "code",
        "colab": {}
      },
      "source": [
        "print(cpcb)"
      ],
      "execution_count": 0,
      "outputs": []
    },
    {
      "cell_type": "code",
      "metadata": {
        "id": "8qDb7aGeIVLr",
        "colab_type": "code",
        "colab": {}
      },
      "source": [
        "##TIMESTAMP MODIFICATION \n",
        "m_tmp=[]\n",
        "for tmp in sscb:\n",
        "  l=[]\n",
        "  temp=tmp[0]\n",
        "  temp=temp[-24:-5]\n",
        "  temp=temp.split('-')\n",
        "  newtemp=temp[2].split(' ')\n",
        "  newesttemp=newtemp[1].split(':')\n",
        "  j=int(newesttemp[1])\n",
        "  #print(j)\n",
        "  if(j<=7.5):\n",
        "    final = newtemp[0] + '-' + temp[1] + '-' + temp[0] + ' ' + newesttemp[0] + ':' + '00'\n",
        "  elif(j<=15 or j<=22.5):\n",
        "    final = newtemp[0] + '-' + temp[1] + '-' + temp[0] + ' ' + newesttemp[0] + ':' + '15'\n",
        "  elif(j<=30 or j<=37.5):\n",
        "    final = newtemp[0] + '-' + temp[1] + '-' + temp[0] + ' ' + newesttemp[0] + ':' + '30'\n",
        "  elif(j<=45 or j<=52.5):\n",
        "    final = newtemp[0] + '-' + temp[1] + '-' + temp[0] + ' ' + newesttemp[0] + ':' + '45'\n",
        "  elif(j>52.5):\n",
        "    final = newtemp[0] + '-' + temp[1] + '-' + temp[0] + ' ' + newesttemp[0] + ':' + '00'\n",
        "  l.append(tmp[0])\n",
        "  l.append(final)\n",
        "  l.append(tmp[1])\n",
        "  m_tmp.append(l)  \n",
        "  \n",
        "  "
      ],
      "execution_count": 0,
      "outputs": []
    },
    {
      "cell_type": "code",
      "metadata": {
        "id": "PGu8N8reJBlI",
        "colab_type": "code",
        "colab": {}
      },
      "source": [
        "feat=[]\n",
        "for val in cpcb:\n",
        "  for date in m_tmp:\n",
        "    if(val[0] == date[1]):\n",
        "      im = date[2]\n",
        "      imc = date[2]\n",
        "      imc = cv2.resize(imc, (64,64))\n",
        "      l=[]\n",
        "      l.append(val[0])\n",
        "      #l.append(np.ndarray.flatten(transmission(imc)))\n",
        "      l.append(entropy(im))\n",
        "      l.append(contrast(im))\n",
        "      l.append(val[1])\n",
        "      l.append(val[2])\n",
        "      l.append(trans_deg(im))\n",
        "      #print('   -   -  ' + str(l))\n",
        "      feat.append(l)\n",
        "   "
      ],
      "execution_count": 0,
      "outputs": []
    },
    {
      "cell_type": "code",
      "metadata": {
        "id": "p0i2HdVFGLPU",
        "colab_type": "code",
        "colab": {}
      },
      "source": [
        "print(feat)"
      ],
      "execution_count": 0,
      "outputs": []
    },
    {
      "cell_type": "code",
      "metadata": {
        "id": "z9cWeEJ-3uAU",
        "colab_type": "code",
        "colab": {}
      },
      "source": [
        "\n",
        "df = pd.read_csv('/content/dtu_labels.csv')\n",
        "data = df.mask(df.eq('None')).dropna()\n",
        "file = data.to_csv('/content/dtu_labels_new.csv')\n",
        "k=0\n",
        "\n",
        "cpcb=[]\n",
        "\n",
        "\n",
        "\n",
        "val ='46.11'\n",
        "with open('/content/dtu_labels_new.csv') as file:\n",
        "  reader = csv.reader(file, delimiter =',')\n",
        "  for row in reader:\n",
        "    k+=1\n",
        "    if(k>3):\n",
        "      l=[]\n",
        "      l.append(row[1]) #DATE \n",
        "      l.append(row[3]) #PM\n",
        "      l.append(val)\n",
        "      if(k%5==0):\n",
        "        val=row[3]\n",
        "      cpcb.append(l) "
      ],
      "execution_count": 0,
      "outputs": []
    },
    {
      "cell_type": "code",
      "metadata": {
        "id": "IxcmA9nNGPaX",
        "colab_type": "code",
        "colab": {}
      },
      "source": [
        "print(cpcb)"
      ],
      "execution_count": 0,
      "outputs": []
    },
    {
      "cell_type": "code",
      "metadata": {
        "id": "k5qFEFEnzypN",
        "colab_type": "code",
        "colab": {}
      },
      "source": [
        "##TIMESTAMP MODIFICATION \n",
        "\n",
        "\n",
        "m_tmp=[]\n",
        "for tmp in dtu:\n",
        "  l=[]\n",
        "  temp=tmp[0]\n",
        "  temp=temp[-24:-5]\n",
        "  temp=temp.split('-')\n",
        "  newtemp=temp[2].split(' ')\n",
        "  newesttemp=newtemp[1].split(':')\n",
        "  j=int(newesttemp[1])\n",
        "  #print(j)\n",
        "  if(j<=7.5):\n",
        "    final = newtemp[0] + '-' + temp[1] + '-' + temp[0] + ' ' + newesttemp[0] + ':' + '00'\n",
        "  elif(j<=15 or j<=22.5):\n",
        "    final = newtemp[0] + '-' + temp[1] + '-' + temp[0] + ' ' + newesttemp[0] + ':' + '15'\n",
        "  elif(j<=30 or j<=37.5):\n",
        "    final = newtemp[0] + '-' + temp[1] + '-' + temp[0] + ' ' + newesttemp[0] + ':' + '30'\n",
        "  elif(j<=45 or j<=52.5):\n",
        "    final = newtemp[0] + '-' + temp[1] + '-' + temp[0] + ' ' + newesttemp[0] + ':' + '45'\n",
        "  elif(j>52.5):\n",
        "    final = newtemp[0] + '-' + temp[1] + '-' + temp[0] + ' ' + newesttemp[0] + ':' + '00'\n",
        "  l.append(tmp[0])\n",
        "  l.append(final)\n",
        "  l.append(tmp[1])\n",
        "  m_tmp.append(l)  \n",
        "  "
      ],
      "execution_count": 0,
      "outputs": []
    },
    {
      "cell_type": "code",
      "metadata": {
        "id": "K7UAmzex0jTF",
        "colab_type": "code",
        "colab": {}
      },
      "source": [
        "\n",
        "for val in cpcb:\n",
        "  for date in m_tmp:\n",
        "    if(val[0] == date[1]):\n",
        "      im = date[2]\n",
        "      l=[]\n",
        "#       imc = date[2]\n",
        "#       imc = cv2.resize(imc, (64,64))\n",
        "      l.append(val[0])\n",
        "      #l.append(np.ndarray.flatten(transmission(im)))\n",
        "      l.append(entropy(im))\n",
        "      l.append(contrast(im))\n",
        "      l.append(val[1])\n",
        "      l.append(val[2])\n",
        "      l.append(trans_deg(im))\n",
        "      #print('   -   -  ' + str(l))\n",
        "      feat.append(l)\n",
        "      "
      ],
      "execution_count": 0,
      "outputs": []
    },
    {
      "cell_type": "code",
      "metadata": {
        "id": "a_Vq-XytSz4q",
        "colab_type": "code",
        "colab": {}
      },
      "source": [
        "\n",
        "# PUNJABI BAGH \n",
        "\n",
        "df = pd.read_csv('/content/pb_labels.csv')\n",
        "data = df.mask(df.eq('None')).dropna()\n",
        "file = data.to_csv('/content/labels_pb_new.csv')\n",
        "\n",
        "\n",
        "k=0\n",
        "cpcb=[]\n",
        "val ='54.4'\n",
        "with open('/content/labels_pb_new.csv') as file:\n",
        "  reader = csv.reader(file, delimiter =',')\n",
        "  for row in reader:\n",
        "    k+=1\n",
        "    if(k>3):\n",
        "      l=[]\n",
        "      l.append(row[1]) #DATE \n",
        "      l.append(row[3]) #PM\n",
        "      l.append(val)\n",
        "      if(k%5==0):\n",
        "        val=row[3]\n",
        "      cpcb.append(l) "
      ],
      "execution_count": 0,
      "outputs": []
    },
    {
      "cell_type": "code",
      "metadata": {
        "id": "y4ySRENTGc1H",
        "colab_type": "code",
        "colab": {}
      },
      "source": [
        "print(cpcb)"
      ],
      "execution_count": 0,
      "outputs": []
    },
    {
      "cell_type": "code",
      "metadata": {
        "id": "y7cLQSiQTIVP",
        "colab_type": "code",
        "colab": {}
      },
      "source": [
        "##TIMESTAMP MODIFICATION \n",
        "\n",
        "m_tmp=[]\n",
        "for tmp in pb:\n",
        "  l=[]\n",
        "  temp=tmp[0]\n",
        "  temp=temp[-24:-5]\n",
        "  temp=temp.split('-')\n",
        "  newtemp=temp[2].split(' ')\n",
        "  newesttemp=newtemp[1].split(':')\n",
        "  j=int(newesttemp[1])\n",
        "  #print(j)\n",
        "  if(j<=7.5):\n",
        "    final = newtemp[0] + '-' + temp[1] + '-' + temp[0] + ' ' + newesttemp[0] + ':' + '00'\n",
        "  elif(j<=15 or j<=22.5):\n",
        "    final = newtemp[0] + '-' + temp[1] + '-' + temp[0] + ' ' + newesttemp[0] + ':' + '15'\n",
        "  elif(j<=30 or j<=37.5):\n",
        "    final = newtemp[0] + '-' + temp[1] + '-' + temp[0] + ' ' + newesttemp[0] + ':' + '30'\n",
        "  elif(j<=45 or j<=52.5):\n",
        "    final = newtemp[0] + '-' + temp[1] + '-' + temp[0] + ' ' + newesttemp[0] + ':' + '45'\n",
        "  elif(j>52.5):\n",
        "    final = newtemp[0] + '-' + temp[1] + '-' + temp[0] + ' ' + newesttemp[0] + ':' + '00'\n",
        "  l.append(tmp[0])\n",
        "  l.append(final)\n",
        "  l.append(tmp[1])\n",
        "  m_tmp.append(l)   "
      ],
      "execution_count": 0,
      "outputs": []
    },
    {
      "cell_type": "code",
      "metadata": {
        "id": "5lC01m43TO6z",
        "colab_type": "code",
        "colab": {}
      },
      "source": [
        "\n",
        "for val in cpcb:\n",
        "  for date in m_tmp:\n",
        "    if(val[0] == date[1]):\n",
        "      #print(date[0])\n",
        "      im = date[2]\n",
        "      l=[]\n",
        "      l.append(val[0])\n",
        "      l.append(entropy(im))\n",
        "      l.append(contrast(im))\n",
        "      l.append(val[1])\n",
        "      l.append(val[2])\n",
        "      l.append(trans_deg(im))\n",
        "      #print('   -   -  ' + str(l))\n",
        "      feat.append(l)"
      ],
      "execution_count": 0,
      "outputs": []
    },
    {
      "cell_type": "code",
      "metadata": {
        "id": "GS5SblBb-2QT",
        "colab_type": "code",
        "colab": {}
      },
      "source": [
        "\n",
        "print(feat)"
      ],
      "execution_count": 0,
      "outputs": []
    },
    {
      "cell_type": "code",
      "metadata": {
        "id": "ZwnLQHaiUJR-",
        "colab_type": "code",
        "colab": {}
      },
      "source": [
        "\n",
        "\n",
        "## SHADIPUR \n",
        "\n",
        "df_ = pd.read_csv('/content/shadipur_labels.csv')\n",
        "data_ = df_.mask(df_.eq('None')).dropna()\n",
        "file_ = data_.to_csv('/content/shadipur_labels_new.csv')\n",
        "\n",
        "\n",
        "k=0\n",
        "cpcb=[]\n",
        "val ='67.11 '\n",
        "with open('/content/shadipur_labels_new.csv') as file:\n",
        "  reader = csv.reader(file, delimiter =',')\n",
        "  for row in reader:\n",
        "    k+=1\n",
        "    if(k>3):\n",
        "      l=[]\n",
        "      l.append(row[1]) #DATE \n",
        "      l.append(row[3]) #PM\n",
        "      l.append(val)\n",
        "      if(k%5==0):\n",
        "        val=row[3]\n",
        "      cpcb.append(l) "
      ],
      "execution_count": 0,
      "outputs": []
    },
    {
      "cell_type": "code",
      "metadata": {
        "id": "vtv6OHZ0UYhU",
        "colab_type": "code",
        "colab": {}
      },
      "source": [
        "\n",
        "##TIMESTAMP MODIFICATION \n",
        "m_tmp=[]\n",
        "for tmp in shadipur:\n",
        "  l=[]\n",
        "  temp=tmp[0]\n",
        "  temp=temp[-24:-5]\n",
        "  temp=temp.split('-')\n",
        "  newtemp=temp[2].split(' ')\n",
        "  newesttemp=newtemp[1].split(':')\n",
        "  j=int(newesttemp[1])\n",
        "  #print(j)\n",
        "  if(j<=7.5):\n",
        "    final = newtemp[0] + '-' + temp[1] + '-' + temp[0] + ' ' + newesttemp[0] + ':' + '00'\n",
        "  elif(j<=15 or j<=22.5):\n",
        "    final = newtemp[0] + '-' + temp[1] + '-' + temp[0] + ' ' + newesttemp[0] + ':' + '15'\n",
        "  elif(j<=30 or j<=37.5):\n",
        "    final = newtemp[0] + '-' + temp[1] + '-' + temp[0] + ' ' + newesttemp[0] + ':' + '30'\n",
        "  elif(j<=45 or j<=52.5):\n",
        "    final = newtemp[0] + '-' + temp[1] + '-' + temp[0] + ' ' + newesttemp[0] + ':' + '45'\n",
        "  elif(j>52.5):\n",
        "    final = newtemp[0] + '-' + temp[1] + '-' + temp[0] + ' ' + newesttemp[0] + ':' + '00'\n",
        "  l.append(tmp[0])\n",
        "  l.append(final)\n",
        "  l.append(tmp[1])\n",
        "  m_tmp.append(l) \n",
        " "
      ],
      "execution_count": 0,
      "outputs": []
    },
    {
      "cell_type": "code",
      "metadata": {
        "id": "W-AXAPbGUdAQ",
        "colab_type": "code",
        "colab": {}
      },
      "source": [
        "\n",
        "for val in cpcb:\n",
        "  for date in m_tmp:\n",
        "    if(val[0] == date[1]):\n",
        "      #print(date[0])\n",
        "      im = date[2]\n",
        "      l=[]\n",
        "      l.append(val[0])\n",
        "      #l.append(np.ndarray.flatten(transmission(im)))\n",
        "      l.append(entropy(im))\n",
        "      l.append(contrast(im))\n",
        "      l.append(val[1])\n",
        "      l.append(val[2])\n",
        "      l.append(trans_deg(im))\n",
        "      #print('   -   -  ' +str(l))\n",
        "      feat.append(l)"
      ],
      "execution_count": 0,
      "outputs": []
    },
    {
      "cell_type": "code",
      "metadata": {
        "id": "OzS07r9ITQyy",
        "colab_type": "code",
        "colab": {}
      },
      "source": [
        "# ITO \n",
        "df_ = pd.read_csv('/content/ito_labels.csv')\n",
        "data_ = df_.mask(df_.eq('None')).dropna()\n",
        "file_ = data_.to_csv('/content/ito_labels_new.csv')\n",
        "\n",
        "\n",
        "k=0\n",
        "cpcb=[]\n",
        "val ='104 '\n",
        "with open('/content/ito_labels_new.csv') as file:\n",
        "  reader = csv.reader(file, delimiter =',')\n",
        "  for row in reader:\n",
        "    k+=1\n",
        "    if(k>3):\n",
        "      l=[]\n",
        "      l.append(row[1]) #DATE \n",
        "      l.append(row[3]) #PM\n",
        "      l.append(val)\n",
        "      if(k%5==0):\n",
        "        val=row[3]\n",
        "      cpcb.append(l) "
      ],
      "execution_count": 0,
      "outputs": []
    },
    {
      "cell_type": "code",
      "metadata": {
        "id": "jN4gXE-HIX09",
        "colab_type": "code",
        "colab": {}
      },
      "source": [
        "print(cpcb)"
      ],
      "execution_count": 0,
      "outputs": []
    },
    {
      "cell_type": "code",
      "metadata": {
        "id": "nP3rFX_CUAAC",
        "colab_type": "code",
        "colab": {}
      },
      "source": [
        "#TIMESTAMP MODIFICATION \n",
        "m_tmp=[]\n",
        "for t in ito:\n",
        "  l=[]\n",
        "  temp=t[0]\n",
        "  temp=temp[-24:-5]\n",
        "  temp=temp.split('-')\n",
        "  newtemp=temp[2].split(' ')\n",
        "  newesttemp=newtemp[1].split(':')\n",
        "  j=int(newesttemp[1])\n",
        "  #print(j)\n",
        "  if(j<=7.5):\n",
        "    final = newtemp[0] + '-' + temp[1] + '-' + temp[0] + ' ' + newesttemp[0] + ':' + '00'\n",
        "  elif(j<=15 or j<=22.5):\n",
        "    final = newtemp[0] + '-' + temp[1] + '-' + temp[0] + ' ' + newesttemp[0] + ':' + '15'\n",
        "  elif(j<=30 or j<=37.5):\n",
        "    final = newtemp[0] + '-' + temp[1] + '-' + temp[0] + ' ' + newesttemp[0] + ':' + '30'\n",
        "  elif(j<=45 or j<=52.5):\n",
        "    final = newtemp[0] + '-' + temp[1] + '-' + temp[0] + ' ' + newesttemp[0] + ':' + '45'\n",
        "  elif(j>52.5):\n",
        "    final = newtemp[0] + '-' + temp[1] + '-' + temp[0] + ' ' + newesttemp[0] + ':' + '00'\n",
        "  l.append(t[0])\n",
        "  l.append(final)\n",
        "  l.append(t[1])\n",
        "  m_tmp.append(l) "
      ],
      "execution_count": 0,
      "outputs": []
    },
    {
      "cell_type": "code",
      "metadata": {
        "id": "Ys06d0qgUHM6",
        "colab_type": "code",
        "colab": {}
      },
      "source": [
        "ito_tomatch=[]\n",
        "for val in cpcb:\n",
        "  for date in m_tmp:\n",
        "    if(val[0] == date[1]):\n",
        "      #print(date[0])\n",
        "      im = date[2]\n",
        "      l=[]\n",
        "      l.append(val[0])\n",
        "      #l.append(np.ndarray.flatten(transmission(im)))\n",
        "      l.append(entropy(im))\n",
        "      l.append(contrast(im))\n",
        "      l.append(val[1])\n",
        "      l.append(val[2])\n",
        "      l.append(trans_deg(im))\n",
        "      ito_tomatch.append(l)"
      ],
      "execution_count": 0,
      "outputs": []
    },
    {
      "cell_type": "code",
      "metadata": {
        "id": "9j_bFL09om14",
        "colab_type": "code",
        "colab": {}
      },
      "source": [
        "print(len(feat))"
      ],
      "execution_count": 0,
      "outputs": []
    },
    {
      "cell_type": "markdown",
      "metadata": {
        "id": "skpHTzhPI9KM",
        "colab_type": "text"
      },
      "source": [
        "WEATHER DATA "
      ]
    },
    {
      "cell_type": "code",
      "metadata": {
        "id": "qNPdWBM9I88j",
        "colab_type": "code",
        "colab": {}
      },
      "source": [
        "cred = credentials.Certificate('credentials.json')\n",
        "\n",
        "# Initialize the app with a service account, granting admin privileges\n",
        "ito_n = firebase_admin.initialize_app(cred, {\n",
        "    'databaseURL': 'https://fir-4ca2c.firebaseio.com/'\n",
        "},name = 'w_ito_n')"
      ],
      "execution_count": 0,
      "outputs": []
    },
    {
      "cell_type": "code",
      "metadata": {
        "id": "SjDgCilSJhrT",
        "colab_type": "code",
        "colab": {}
      },
      "source": [
        "    \n",
        "ref = db.reference(app=ito_n)\n",
        "df = ref.get()\n"
      ],
      "execution_count": 0,
      "outputs": []
    },
    {
      "cell_type": "code",
      "metadata": {
        "id": "prjXlrRyJllI",
        "colab_type": "code",
        "colab": {}
      },
      "source": [
        "temp_weather = {}\n",
        "\n",
        "for key in df:\n",
        "  try:\n",
        "    l=[]\n",
        "    l.append(df[key]['main']['humidity'])\n",
        "    l.append(df[key]['main']['pressure'])\n",
        "    l.append(df[key]['main']['temp'])\n",
        "    l.append(df[key]['visibility'])\n",
        "    l.append(df[key]['wind']['deg'])\n",
        "    l.append(df[key]['wind']['speed'])\n",
        "    l.append(df[key]['clouds']['all'])\n",
        "    k = df[key]['weather'][0]['description']\n",
        "    if(k=='haze'):\n",
        "      l.append(0)\n",
        "    elif(k=='mist'):\n",
        "      l.append(1)\n",
        "    elif(k=='drizzle'):\n",
        "      l.append(2)\n",
        "    elif(k=='dust'):\n",
        "      l.append(3)\n",
        "    temp_weather[key]=l\n",
        "  except:\n",
        "    print(key)"
      ],
      "execution_count": 0,
      "outputs": []
    },
    {
      "cell_type": "code",
      "metadata": {
        "id": "Tcp7G_EVVjOd",
        "colab_type": "code",
        "colab": {}
      },
      "source": [
        "## COMBINING ITO DATA \n",
        "\n",
        "with open('/content/past-weather (1).json') as file:\n",
        "  data = json.load(file)\n",
        "  source = data['data']['weather']\n"
      ],
      "execution_count": 0,
      "outputs": []
    },
    {
      "cell_type": "code",
      "metadata": {
        "id": "P25mDZ_1oRSV",
        "colab_type": "code",
        "colab": {}
      },
      "source": [
        "## MATCHING ITO DATA \n",
        "\n",
        "hour_i=[]\n",
        "pres_i=[]\n",
        "temp_i=[]\n",
        "deg_i=[]\n",
        "speed_i=[]\n",
        "\n",
        "ito_weather=[]\n",
        "\n",
        "with open('/content/past-weather (1).json') as file:\n",
        "  data = json.load(file)\n",
        "  source = data['data']['weather']\n",
        "  \n",
        "  for i in source:\n",
        "    for j in range(0,24):\n",
        "      date = i['date']\n",
        "      date = date.split(' ')\n",
        "      date = date[0]\n",
        "      t = date.split('-')\n",
        "      t = t[2]+'-'+t[1]+'-'+t[0]\n",
        "      if(len(str(j))==1):\n",
        "        key = t + ' ' + '0' +str(j) + ':00' \n",
        "      else:\n",
        "        key = t + ' ' +str(j) + ':00'\n",
        "      l=[]\n",
        "      l.append(key)\n",
        "      l.append(i['hourly'][j]['humidity'])\n",
        "      l.append(i['hourly'][j]['tempC'])\n",
        "      l.append(i['hourly'][j]['windspeedKmph'])\n",
        "      l.append(i['hourly'][j]['winddirDegree'])\n",
        "      l.append(i['hourly'][j]['pressure'])\n",
        "      ito_weather.append(l)\n",
        "     "
      ],
      "execution_count": 0,
      "outputs": []
    },
    {
      "cell_type": "code",
      "metadata": {
        "id": "i8o_VjzfuH9l",
        "colab_type": "code",
        "colab": {}
      },
      "source": [
        "\n",
        "print(len(ito_weather))"
      ],
      "execution_count": 0,
      "outputs": []
    },
    {
      "cell_type": "code",
      "metadata": {
        "id": "5ZtEqU5dJqT9",
        "colab_type": "code",
        "colab": {}
      },
      "source": [
        "weather={}\n",
        "for key in temp_weather:\n",
        "  temp=key.split('-')\n",
        "  newtemp=temp[2].split(' ')\n",
        "  newesttemp=newtemp[1].split(':')\n",
        "  j=int(newesttemp[1])\n",
        "  if(j<=7.5):\n",
        "    final = temp[0] + '-' + temp[1] + '-' + newtemp[0] + ' ' + newesttemp[0] + ':' + '00'\n",
        "  elif(j<=15 or j<=22.5):\n",
        "    final = temp[0] + '-' + temp[1] + '-' + newtemp[0] + ' ' + newesttemp[0] + ':' + '15'\n",
        "  elif(j<=30 or j<=37.5):\n",
        "    final = temp[0] + '-' + temp[1] + '-' + newtemp[0] + ' ' + newesttemp[0] + ':' + '30'\n",
        "  elif(j<=45 or j<=52.5):\n",
        "    final = temp[0] + '-' + temp[1] + '-' + newtemp[0] + ' ' + newesttemp[0] + ':' + '45'\n",
        "  elif(j>52.5):\n",
        "    final = temp[0] + '-' + temp[1] + '-' + newtemp[0] + ' ' + newesttemp[0] + ':' + '00'\n",
        "  if(final not in weather):\n",
        "    weather[final]=temp_weather[key]\n",
        "  \n",
        "  "
      ],
      "execution_count": 0,
      "outputs": []
    },
    {
      "cell_type": "code",
      "metadata": {
        "id": "BLPgYsdKh4Kb",
        "colab_type": "code",
        "colab": {}
      },
      "source": [
        "print(len(weather))"
      ],
      "execution_count": 0,
      "outputs": []
    },
    {
      "cell_type": "code",
      "metadata": {
        "id": "FEuHqO0ptX0Z",
        "colab_type": "code",
        "colab": {}
      },
      "source": [
        "print(len(feat))"
      ],
      "execution_count": 0,
      "outputs": []
    },
    {
      "cell_type": "code",
      "metadata": {
        "id": "kjr9MnbJLQe9",
        "colab_type": "code",
        "colab": {}
      },
      "source": [
        "print(feat[0])"
      ],
      "execution_count": 0,
      "outputs": []
    },
    {
      "cell_type": "code",
      "metadata": {
        "id": "lojx00mxzcgp",
        "colab_type": "code",
        "colab": {}
      },
      "source": [
        "\n",
        "## COMBINING 1ST 4 LOCATIONS DATA \n",
        "for e in feat:\n",
        "  for w in weather:                             \n",
        "    if(e[0] == w):\n",
        "      hours.append(float(e[0][-5:-3]))\n",
        "      pm.append(float(e[3]))\n",
        "      trans.append(e[5])\n",
        "      prev.append(e[4])\n",
        "      ent.append(float(e[1]))\n",
        "      cont.append(float(e[2]))\n",
        "      hum.append(float(weather[w][0]))\n",
        "      pressure.append(float(weather[w][1]))\n",
        "      tempr.append(float(weather[w][2])) \n",
        "      deg.append(float(weather[w][4]))\n",
        "      speed.append(float(weather[w][5]))\n"
      ],
      "execution_count": 0,
      "outputs": []
    },
    {
      "cell_type": "code",
      "metadata": {
        "id": "EH35BQsttcNx",
        "colab_type": "code",
        "colab": {}
      },
      "source": [
        "print(len(hours))"
      ],
      "execution_count": 0,
      "outputs": []
    },
    {
      "cell_type": "code",
      "metadata": {
        "id": "V2sy-nUAJtu_",
        "colab_type": "code",
        "colab": {}
      },
      "source": [
        "print(ito_tomatch)"
      ],
      "execution_count": 0,
      "outputs": []
    },
    {
      "cell_type": "code",
      "metadata": {
        "id": "rXGAKKsKcTLR",
        "colab_type": "code",
        "colab": {}
      },
      "source": [
        "\n",
        "for e in ito_tomatch:\n",
        "  for w in ito_weather: \n",
        "    if(e[0] == w[0]):\n",
        "      hours.append(e[0][-5:-3])\n",
        "      trans.append(e[5])\n",
        "      prev.append(e[4])\n",
        "      ent.append(e[1])\n",
        "      cont.append(e[2])\n",
        "      pm.append(e[3])\n",
        "      hum.append(w[1])\n",
        "      tempr.append(w[2])\n",
        "      speed.append(w[3]) \n",
        "      deg.append(w[4])\n",
        "      pressure.append(w[5])\n",
        "\n",
        "  "
      ],
      "execution_count": 0,
      "outputs": []
    },
    {
      "cell_type": "code",
      "metadata": {
        "id": "z4GyhcSIkOq7",
        "colab_type": "code",
        "colab": {}
      },
      "source": [
        "print(len(trans))\n",
        "print(len(hours))\n",
        "print(len(cont))\n",
        "print(len(ent))\n",
        "print(len(hum))\n",
        "print(len(pressure))\n",
        "print(len(tempr))\n",
        "print(len(deg))\n",
        "print(len(speed))\n",
        "print(len(prev))"
      ],
      "execution_count": 0,
      "outputs": []
    },
    {
      "cell_type": "code",
      "metadata": {
        "id": "_kNbjH5zKD1x",
        "colab_type": "code",
        "colab": {}
      },
      "source": [
        "prev = list(map(float,prev))"
      ],
      "execution_count": 0,
      "outputs": []
    },
    {
      "cell_type": "code",
      "metadata": {
        "id": "6oRI0Z3sWLvM",
        "colab_type": "code",
        "outputId": "5d84e6c0-a4f8-4fd0-c9b4-ad4d80e288c2",
        "colab": {
          "base_uri": "https://localhost:8080/",
          "height": 208
        }
      },
      "source": [
        "print(trans)\n",
        "print(hours)\n",
        "print(cont)\n",
        "print(ent)\n",
        "print(hum)\n",
        "print(pressure)\n",
        "print(tempr)\n",
        "print(deg)\n",
        "print(speed)\n",
        "print(pm)\n"
      ],
      "execution_count": 137,
      "outputs": [
        {
          "output_type": "stream",
          "text": [
            "[1, 1, 1, 3, 2, 1, 1, 2, 2, 2, 2, 2, 2, 2, 2, 2, 2, 1, 2, 1, 2, 1, 1, 1, 1, 2, 2, 1, 2, 2, 1, 2, 2, 2, 2, 3, 1, 1, 1, 2, 2, 2, 2, 2, 2, 1, 2, 1, 2, 2, 1, 2, 1, 2, 3, 1, 3, 1, 1, 2, 2, 2, 2, 2, 1, 1, 2, 2, 2, 2, 3, 2, 2, 2, 2, 2, 1, 1, 1, 1, 2, 2, 2, 2, 2, 2, 2, 3, 2, 2, 2, 2, 2, 2, 2, 2, 1, 2, 2, 2, 1, 2, 2, 1, 2, 2, 2, 2, 2, 2, 2, 2, 2, 2, 2, 2, 2, 2, 2, 2, 2, 2, 2, 1, 2, 1, 1, 1, 1, 2, 1, 2, 2, 2, 1, 1, 2, 2, 2, 2, 2, 2, 2, 2, 2, 2, 2, 2, 2, 2, 2, 2, 2, 1, 2, 2, 2, 2, 2, 2, 2, 2, 2, 2, 1, 2, 2, 2, 2, 1, 2, 1, 1, 1, 2, 2, 2, 1, 2, 1, 2, 1, 1, 2, 1, 2, 2, 2, 1, 1, 2, 2, 2, 2, 2, 2, 2, 2, 2, 2, 2, 2, 2, 1, 2, 2, 2, 3, 2, 2, 2, 2, 2, 3, 2, 2, 3, 2, 2, 2, 2, 3, 2, 2, 2, 2, 2, 2, 2, 3, 3, 2, 2, 2, 2, 2, 2, 2, 2, 2, 2, 2, 2, 2, 2, 2, 2, 2, 2, 2, 2, 2, 2, 2, 1, 1, 2, 2, 1, 1, 1, 1, 1, 1, 1, 1, 1, 1, 1, 1, 1, 2, 1, 1, 1, 1, 1, 1, 2, 2, 2, 2, 2, 2, 2, 2, 2, 2, 2, 1, 1, 1, 1, 1, 1, 1, 1, 1, 1, 1, 1, 1, 1, 0, 1, 1, 1, 2, 5, 0.9959810172352763, 2, 1, 2, 1, 2, 2, 2, 2, 1, 1, 1, 1, 1, 1, 1, 1, 1, 1, 1, 1, 1, 2, 1, 2, 2, 3, 3, 3, 3, 3, 3, 3, 3, 3, 3, 3, 3, 3, 3, 2, 3, 3, 3, 2, 2, 2, 3, 3, 3, 3, 3, 3, 3, 3, 3, 3, 3, 3, 3, 3, 3, 3, 3, 3, 3, 3, 3, 3, 3, 3, 3, 3, 3, 3, 3, 3, 3, 3, 3, 3, 3, 3, 3, 3, 3, 3, 3, 3, 3, 3, 3, 3, 3, 3, 3, 3, 3, 3, 3, 2, 2, 2, 2, 3, 2, 2, 2, 2, 3, 2, 2, 3, 3, 3, 3, 3, 2, 2, 2, 2, 2, 2, 2, 2, 2, 2, 2, 3, 2, 2, 2, 2, 2, 2, 2, 2, 2, 2, 2, 2, 3, 3, 3, 2, 3, 2, 2, 2, 2, 2, 2, 3, 3, 3, 3, 2, 3, 2, 2, 3, 3, 3, 2, 2, 2, 2, 2, 2, 2, 2, 2, 2, 2, 2, 2, 2, 2, 2, 2, 2, 2, 2, 2, 2, 1, 1, 1, 1, 2, 2, 2, 2, 2, 2, 2, 2, 2, 2, 2, 2, 2, 2, 2, 2, 1, 2, 1, 1, 1, 2, 2, 2, 2, 2, 2, 2, 2, 1, 2, 1, 2, 2, 2, 2, 2, 2, 2, 2, 2, 2, 2]\n",
            "[10.0, 10.0, 11.0, 13.0, 15.0, 15.0, 15.0, 16.0, 16.0, 16.0, 16.0, 16.0, 16.0, 16.0, 16.0, 16.0, 16.0, 16.0, 10.0, 11.0, 12.0, 12.0, 12.0, 12.0, 12.0, 12.0, 12.0, 13.0, 13.0, 13.0, 13.0, 13.0, 13.0, 13.0, 13.0, 13.0, 14.0, 14.0, 14.0, 14.0, 14.0, 14.0, 14.0, 14.0, 14.0, 14.0, 14.0, 14.0, 14.0, 14.0, 14.0, 15.0, 15.0, 15.0, 15.0, 15.0, 15.0, 15.0, 15.0, 15.0, 15.0, 15.0, 8.0, 8.0, 8.0, 8.0, 9.0, 9.0, 9.0, 9.0, 9.0, 9.0, 9.0, 9.0, 9.0, 9.0, 9.0, 9.0, 9.0, 13.0, 13.0, 13.0, 13.0, 13.0, 13.0, 13.0, 14.0, 14.0, 14.0, 14.0, 14.0, 14.0, 14.0, 14.0, 14.0, 14.0, 15.0, 16.0, 16.0, 16.0, 16.0, 16.0, 16.0, 18.0, 13.0, 13.0, 13.0, 13.0, 13.0, 13.0, 13.0, 13.0, 14.0, 14.0, 14.0, 14.0, 14.0, 14.0, 14.0, 14.0, 14.0, 14.0, 14.0, 14.0, 12.0, 12.0, 12.0, 12.0, 12.0, 12.0, 12.0, 12.0, 13.0, 13.0, 13.0, 13.0, 13.0, 13.0, 13.0, 13.0, 13.0, 13.0, 13.0, 13.0, 13.0, 13.0, 13.0, 13.0, 13.0, 13.0, 13.0, 14.0, 14.0, 14.0, 14.0, 14.0, 14.0, 14.0, 14.0, 14.0, 14.0, 14.0, 14.0, 15.0, 15.0, 15.0, 15.0, 15.0, 15.0, 15.0, 15.0, 15.0, 15.0, 15.0, 15.0, 15.0, 15.0, 15.0, 15.0, 15.0, 15.0, 15.0, 15.0, 16.0, 16.0, 16.0, 16.0, 16.0, 12.0, 13.0, 13.0, 13.0, 13.0, 13.0, 13.0, 13.0, 14.0, 14.0, 14.0, 14.0, 14.0, 14.0, 14.0, 14.0, 10.0, 10.0, 11.0, 11.0, 11.0, 11.0, 11.0, 11.0, 11.0, 11.0, 11.0, 11.0, 11.0, 11.0, 12.0, 12.0, 12.0, 12.0, 12.0, 12.0, 12.0, 12.0, 12.0, 12.0, 12.0, 13.0, 13.0, 13.0, 13.0, 13.0, 13.0, 13.0, 13.0, 13.0, 13.0, 13.0, 13.0, 13.0, 14.0, 14.0, 14.0, 14.0, 14.0, 14.0, 14.0, 14.0, 14.0, 14.0, 14.0, 14.0, 15.0, 15.0, 15.0, 15.0, 15.0, 15.0, 15.0, 15.0, 15.0, 15.0, 15.0, 15.0, 16.0, 16.0, 16.0, 16.0, 16.0, 16.0, 16.0, 16.0, 16.0, 16.0, 16.0, 16.0, 17.0, 17.0, 17.0, 17.0, 17.0, 17.0, 17.0, 17.0, 17.0, 17.0, 17.0, 17.0, 18.0, 18.0, 18.0, 18.0, 18.0, 18.0, 18.0, 18.0, 18.0, 18.0, 18.0, 18.0, 13.0, 13.0, 15.0, 15.0, 15.0, 15.0, 15.0, 15.0, 16.0, 16.0, 16.0, 17.0, 17.0, 17.0, 17.0, 17.0, 17.0, 17.0, 17.0, 17.0, 17.0, 18.0, 18.0, 18.0, 18.0, 18.0, 18.0, 18.0, 18.0, 18.0, 18.0, 18.0, 18.0, 6.0, 6.0, 6.0, 6.0, 6.0, 6.0, 6.0, 6.0, 6.0, 6.0, 6.0, 6.0, 7.0, 7.0, 7.0, 7.0, 7.0, 7.0, 7.0, 7.0, 7.0, 7.0, 7.0, 7.0, 8.0, 8.0, 8.0, 8.0, 8.0, 8.0, 8.0, 8.0, 8.0, 8.0, 8.0, 9.0, 9.0, 9.0, 9.0, 9.0, 9.0, 9.0, 9.0, 9.0, 9.0, 9.0, 9.0, 10.0, 10.0, 10.0, 10.0, 10.0, 10.0, 10.0, 10.0, 10.0, 10.0, 10.0, 10.0, 11.0, 11.0, 11.0, 11.0, 11.0, 11.0, 11.0, 11.0, 11.0, 11.0, 11.0, 11.0, 12.0, 12.0, 12.0, 12.0, 12.0, 12.0, 12.0, 12.0, 12.0, 12.0, 12.0, 12.0, 13.0, 13.0, 13.0, 13.0, 13.0, 13.0, 13.0, 13.0, 13.0, 14.0, 14.0, 14.0, 14.0, 14.0, 14.0, 14.0, 14.0, 14.0, 14.0, 14.0, 14.0, 15.0, 15.0, 15.0, 15.0, 15.0, 15.0, 15.0, 15.0, 15.0, 15.0, 15.0, 15.0, 16.0, 16.0, 16.0, 16.0, 16.0, 16.0, 16.0, 16.0, 16.0, 16.0, 16.0, 16.0, 17.0, 17.0, 17.0, 17.0, 17.0, 17.0, 17.0, 17.0, 17.0, 17.0, 17.0, 18.0, 18.0, 18.0, 18.0, 18.0, 18.0, 18.0, 18.0, 18.0, 18.0, 18.0, 18.0, '06', '07', '08', '09', '10', '12', '12', '13', '16', '16', '17', '18', '18', '06', '06', '07', '08', '09', '10', '06', '06', '07', '11', '12', '12', '12', '13', '13', '15', '16', '16', '18', '18', '06', '08', '08', '08', '09', '09', '14', '15', '15', '16', '17', '18', '06', '07', '08', '10', '10', '12', '13', '14', '15', '16']\n",
            "[13.988058316798687, 13.011225805526196, 72.93656036709747, 35.950088737028686, 77.1516869870556, 83.68864852792969, 82.21006548149384, 62.01478424259648, 67.14272841626783, 74.12818517502174, 67.38486811854757, 65.97570667218355, 75.54896815012775, 69.05298319315762, 69.09546901092793, 68.29873703177716, 68.06814892588854, 80.22990139899747, 33.741715174584364, 85.75180721332315, 55.95772904521862, 73.83635026282768, 77.35840756618462, 89.23249505069754, 78.45904241542834, 73.41751515775313, 72.2380210411711, 82.15827808577916, 78.07730609626857, 76.55939729446703, 78.16147869243694, 78.75348852762124, 68.09487522112238, 64.23127286150903, 57.610828284312376, 93.6343407580949, 84.64719535785886, 86.11943668470488, 74.37862972975603, 58.16027927685915, 39.11272312586041, 62.45755026033544, 60.54260350918501, 69.5303061368119, 66.22423294205207, 67.0570166899927, 64.09507574324691, 71.43257498690686, 74.7638436032912, 70.55102555766494, 80.13455109755783, 66.6378437954142, 82.97074343015584, 54.62083399918413, 87.38880594586014, 74.15845110948155, 90.89258805038894, 49.794147668164, 76.10909484157345, 44.36354599564673, 60.14096423073931, 56.65862506353603, 57.084216810208346, 76.21565796233436, 80.2951764371772, 87.49057693303543, 61.49388288713605, 54.66185478032814, 58.253300023697136, 60.55422519036091, 72.78532621472372, 60.55904523639603, 55.591835818290306, 55.14766689651706, 72.11097086404, 71.54779449300638, 78.96276273119436, 88.36454742023807, 87.57120150128884, 84.97379327081008, 84.29428195798863, 68.62644748097462, 73.80779027074388, 70.8012620807352, 72.45206525405163, 91.0793240769153, 69.54990831461586, 72.92474089150691, 72.43873636048119, 73.29646955727829, 72.8930553141883, 73.20519941762274, 80.43788143311353, 68.08229936560289, 70.9425850809023, 56.54802875887954, 77.83437907861625, 50.19067855270029, 72.29627983433684, 69.50721193850194, 70.41111262121515, 78.19932476455543, 76.35405584112434, 64.88812041936754, 83.70260418538858, 65.61522094481158, 57.57970350319679, 68.10788737258834, 68.14463128557213, 74.92238494413104, 89.14911034638689, 87.08393093298346, 63.26658326619818, 59.46260969559346, 69.50675739477508, 61.08576587396635, 74.11071348376517, 64.86674427492837, 68.70361662678422, 76.14219222223419, 76.40881787083595, 75.78102230548909, 76.02260662539187, 77.01232760305041, 58.43328238122404, 61.144554626925405, 74.48979786612759, 72.10539502699405, 78.03259741921215, 66.09988332176688, 73.69640059720649, 69.44749328336985, 69.51576505386673, 70.14551380686872, 76.44916134181554, 79.19313558391684, 70.45761486966263, 66.62281108036062, 64.32842506407904, 58.002525008411446, 67.6711873748212, 64.89779658577515, 60.02242454679889, 68.04185082456682, 66.15025033388683, 64.76532917242022, 64.78252444598516, 63.956164125950075, 65.34269853623886, 65.67295456258508, 57.986129322504304, 57.465009049045335, 59.209367319266946, 66.88102203525813, 63.72372334515084, 59.23730832076651, 60.88787508036906, 68.2936560139522, 59.47483074425392, 60.69250716257884, 61.85992249425015, 60.02342868282537, 57.66992195584285, 61.158059802729305, 62.698500052012825, 66.45348405280629, 63.91376639659508, 68.78369308538402, 60.13112956910902, 55.96749896309861, 52.00001025943951, 71.91497212691493, 70.20208573384006, 67.0772693843329, 57.08072372692859, 49.92397173341375, 60.26751511547094, 68.6250162398057, 66.13296073977337, 61.7024906746442, 67.77548257210253, 70.6150554176163, 74.37633364777996, 63.633995761897644, 77.53603733348912, 66.35319085670899, 66.04003755324604, 46.91324491002829, 47.17260262845441, 75.66940566985859, 71.55771195622432, 63.79834657304967, 63.24679685546751, 70.74878883979628, 71.7533726078159, 73.56701257813982, 62.12102801193578, 67.52540829772228, 63.2520419252166, 64.57137319150088, 64.8371839190845, 66.95945356547932, 67.68560920203221, 65.13843633658954, 63.483598463584045, 57.20370867354231, 61.73802540076352, 56.949635183916214, 57.51043363627688, 58.2379486173441, 75.1623563739374, 54.07117433802258, 60.1281031580228, 59.04578131744396, 56.83498213281105, 57.02642826756766, 59.00928278813154, 52.4543338660534, 51.32733976264825, 52.78877590779105, 53.29614139066392, 57.69687452437274, 50.48847869528, 54.1137704045773, 59.552969565835255, 58.85727768647428, 58.62422657722815, 60.10075710345453, 59.65691619647183, 59.454910804419285, 59.655587085501836, 47.026456497990054, 58.96813380644046, 59.65091256500512, 60.524469458922056, 56.07362571777536, 55.79975949653959, 56.511939669404796, 57.551163297648685, 60.105683641493656, 61.0311233875613, 62.277606955651706, 64.41397185394247, 60.16168274382938, 59.14583070133345, 59.88982868014867, 59.313448224939506, 56.471082286063506, 58.422897328772514, 60.56360372869976, 61.32081324208941, 59.28775895937194, 57.62130239022835, 55.801713231641834, 55.138605687795234, 56.17789969661617, 59.204063828806305, 54.77121410378687, 52.96027005372651, 52.25550163307123, 55.78888640932189, 52.89714432595569, 51.617195323598445, 52.10471762778288, 48.53000266681293, 53.59298201473093, 53.56007113076078, 54.69521069418438, 53.55981915417914, 57.031143397807654, 59.488668547891265, 61.04059789728445, 54.93586220958933, 55.39734990729973, 58.096321137865566, 58.49190156690969, 59.19649156614021, 57.81225859255746, 59.980951923179134, 57.625340459561556, 58.61712504363333, 59.459824275352915, 61.26557711166807, 60.1493607590276, 60.065168448353035, 58.83854741442801, 59.35964857900945, 63.429588911910145, 62.93999449172112, 60.9078480601684, 58.616832213150545, 58.4233999116413, 60.172795646406534, 59.47430724790884, 62.84001700628949, 63.053250636315475, 61.692462724354826, 61.31099496717719, 60.94476894747036, 61.80183539550329, 62.10905102978003, 63.70441491738802, 84.52202516042304, 5.270428200480588, 75.66304349867946, 0.7401840498268867, 41.816650429909274, 66.26359964976538, 43.647182667772626, 7.1710506049932174, 67.87093028826206, 38.306042512041685, 63.725076311249914, 74.97006524954895, 61.86318715440692, 63.46581201599955, 70.84202507521447, 67.1236828880082, 67.41760982594478, 68.18387073212094, 69.07900235694234, 68.52925488433624, 68.88142663987274, 69.30873615544319, 69.53268359774447, 69.08816131462247, 69.00848711530986, 67.93043944841577, 67.42555286424897, 66.50361543778766, 65.5784300794354, 63.0176977743008, 63.142588360233404, 62.626539194669604, 62.67870607578418, 53.7408756780525, 47.41037272225089, 47.647961530128924, 46.92503633028357, 45.76664370802764, 45.42271565852693, 46.100450127020245, 43.33933994091496, 41.16273671743193, 41.672304185549066, 43.423903342055624, 46.36202388736396, 48.38926008626256, 50.123082899446274, 51.30289440901001, 52.85066130990347, 53.86621935017103, 53.61212187980469, 54.43180097287164, 55.42763501638976, 55.12062542167407, 54.750076281840265, 53.8575840428778, 53.71330498824923, 52.73274891142139, 52.62201402000274, 52.05508939135601, 50.9028107404566, 49.644542280464634, 45.75218170547585, 45.46651157336299, 45.950641563856934, 44.974171754973604, 45.157386546324254, 42.63862730489985, 42.60469937086701, 43.3652345681547, 41.98686730593651, 41.845764670173736, 41.852284498528356, 41.58118603847337, 41.56749081583599, 41.78620554835149, 41.444557410153266, 41.39620076003551, 41.6084424724851, 41.90491415123452, 41.819060269005206, 41.813428681657875, 41.960158407036204, 41.55741269266431, 40.85967199305835, 42.11888923445067, 41.88868978968394, 42.04720428444887, 41.208762207199754, 40.70032618218238, 42.86559313936056, 43.70721663070626, 43.42297151351236, 42.45995686332171, 39.7658018115717, 39.808035081842256, 40.83972884206008, 45.2695426956436, 46.0567988614638, 46.1956688224198, 42.39902133505188, 50.702128374057594, 53.66354133642644, 54.74231505904606, 54.13022388134554, 57.588886517677956, 60.883315025183336, 63.24774937903855, 67.39239171936823, 67.37445462480147, 63.76719695608983, 61.289405155249725, 61.4235170130523, 62.2853666443122, 61.45719931851724, 51.79798602239403, 52.36658675310168, 57.23770328977348, 59.26968454587515, 48.64010763723931, 38.73370693161504, 32.01936691113039, 33.06695514577977, 38.43703178017549, 61.527944565208365, 64.59205075596255, 63.85376483562831, 61.7522672040798, 60.2095093142579, 62.41065866938788, 62.477262335851826, 61.36678967697325, 60.603211539620986, 60.25947373633893, 59.144417839740775, 58.7171900551687, 59.08104493402208, 59.975311053224246, 60.82912511825986, 61.256939730249634, 61.44935021391656, 61.32411680571342, 61.0676474535202, 60.26923087230666, 62.40061086573827, 62.75857803945984, 61.902038212835365, 59.67144683961845, 58.525292882578306, 56.949439053435114, 55.12491423677098, 55.01644998225938, 55.32903928991556, 54.82353970409836, 55.01280631035557, 56.51271780687585, 58.2641085716657, 60.6627531195857, 61.18058213517066, 59.41058179864333, 58.586578231969575, 55.76170335324337, 54.97543129867235, 56.06103758280839, 56.39679032567253, 58.827252795901764, 57.10821750293802, 56.24564172067953, 56.033823512535236, 56.11408260820653, 56.220287625519866, 56.80751146075628, 56.90794949472049, 57.951659475767194, 58.10214299455786, 57.98004508382531, 57.75027284487425, 59.41011621436491, 60.51020837272076, 60.34597195221021, 59.44235119077485, 59.88804046531398, 60.59319729960649, 60.938486792064516, 55.12470737041406, 47.47842659639436, 45.336669010982725, 45.11810459109016, 48.39974262730775, 53.140678647132574, 53.72197928031719, 58.20442966322038, 65.05902085090344, 65.99819942257454, 66.55477868320392, 69.16652607805335, 36.45355536750859, 59.87059050738194, 45.43680899282851, 46.86251531205941, 44.32070292601607, 43.26560042117071, 43.81172742386243, 56.90103545126287, 49.092234301045835, 48.63142940147788, 48.47845611915709, 53.3165094135792, 54.058676669948625, 57.99561194365828, 58.33963557806603, 60.303375221831836, 63.28214245341842, 64.23705743543522, 65.44153755868368, 67.70320866895219, 67.7151559928622, 56.661628680768494, 45.90889678829452, 45.666595480405675, 44.99380347125769, 45.089949611915195, 46.180599405979464, 63.66781812468264, 63.32748160894371, 67.24210760997113, 66.14389472382112, 67.55405690090973, 68.55544917025681, 47.45920496497844, 45.434800917126296, 52.55711061753255, 65.46287814559264, 59.44658512426182, 53.642843192311716, 58.81490437830871, 61.739050515158446, 60.53267742978209, 59.436772626021934]\n",
            "[18.30630111694336, 17.759958267211914, 38.76405715942383, 29.211015701293945, 39.25362014770508, 46.11984634399414, 44.386722564697266, 46.05776596069336, 53.52329635620117, 57.449180603027344, 47.027408599853516, 48.67979431152344, 44.30538558959961, 49.310577392578125, 50.211490631103516, 47.73347854614258, 48.74065017700195, 44.01187515258789, 29.10783576965332, 45.5201416015625, 53.77639389038086, 50.44172668457031, 51.36069869995117, 39.93488693237305, 43.43080520629883, 49.07674026489258, 46.269866943359375, 46.738136291503906, 35.55320739746094, 35.18395233154297, 47.48016357421875, 52.094398498535156, 44.09960174560547, 44.687400817871094, 45.898529052734375, 12.57230281829834, 42.62632369995117, 45.92339324951172, 34.580360412597656, 46.30495071411133, 42.26688003540039, 44.963741302490234, 48.9262580871582, 51.618309020996094, 47.5596809387207, 46.43819808959961, 39.59543228149414, 43.78755187988281, 50.878360748291016, 49.651939392089844, 49.18357467651367, 46.812034606933594, 47.070186614990234, 41.53636932373047, 14.293498992919922, 52.32029342651367, 14.855027198791504, 47.011932373046875, 44.34765625, 46.656890869140625, 49.73848342895508, 49.59410095214844, 38.87611770629883, 28.204431533813477, 45.63040542602539, 36.8070068359375, 44.19481658935547, 46.08799362182617, 48.55440902709961, 46.19702911376953, 29.743587493896484, 44.409393310546875, 42.65745544433594, 42.87989044189453, 43.189353942871094, 34.664573669433594, 31.333606719970703, 33.99447250366211, 33.69638442993164, 41.16373062133789, 37.19266128540039, 35.672813415527344, 36.07591247558594, 34.726348876953125, 36.204280853271484, 34.991024017333984, 41.030059814453125, 39.952335357666016, 40.242454528808594, 39.96603775024414, 42.43675231933594, 37.81515121459961, 35.86686706542969, 40.96156692504883, 46.79872131347656, 50.131858825683594, 50.89765930175781, 44.548179626464844, 53.54861068725586, 51.20248794555664, 48.359519958496094, 46.67847442626953, 43.33856201171875, 30.798250198364258, 37.338768005371094, 36.338436126708984, 42.04503631591797, 42.61661148071289, 39.54409408569336, 37.259246826171875, 34.59269332885742, 34.4604377746582, 41.99032211303711, 36.340450286865234, 43.92902374267578, 42.20547103881836, 44.812408447265625, 46.62139129638672, 43.88300704956055, 41.720638275146484, 41.486270904541016, 47.00477600097656, 34.34983825683594, 44.98011779785156, 47.309329986572266, 55.413516998291016, 50.38136291503906, 51.17060470581055, 46.168060302734375, 45.733314514160156, 50.62514114379883, 44.788326263427734, 49.63011932373047, 47.7735481262207, 45.94695281982422, 39.58819580078125, 44.559226989746094, 51.759979248046875, 50.43571853637695, 49.073570251464844, 50.722354888916016, 53.906490325927734, 49.37627029418945, 52.88906478881836, 46.77283477783203, 42.3004264831543, 44.026248931884766, 47.78462600708008, 43.44224548339844, 49.407073974609375, 48.35675048828125, 49.051979064941406, 52.430084228515625, 53.93732452392578, 51.017250061035156, 52.10947799682617, 52.8250846862793, 49.433658599853516, 47.67445373535156, 52.36701202392578, 48.042686462402344, 50.246028900146484, 47.8255615234375, 50.001399993896484, 45.457130432128906, 48.07451248168945, 50.10377502441406, 42.841529846191406, 51.548954010009766, 46.938507080078125, 49.22134780883789, 47.04494857788086, 41.75605392456055, 51.49847412109375, 51.20244216918945, 44.432247161865234, 49.901588439941406, 45.54985427856445, 52.18889236450195, 51.035682678222656, 44.61015701293945, 49.78721618652344, 47.26298141479492, 49.42181396484375, 45.96772003173828, 49.75815963745117, 50.33315658569336, 39.70380401611328, 45.88099670410156, 47.8079719543457, 45.82889175415039, 43.75241470336914, 44.19466018676758, 39.97808837890625, 45.947322845458984, 38.88817596435547, 47.28874206542969, 49.97951126098633, 42.77299499511719, 46.61635971069336, 47.776607513427734, 46.04389572143555, 44.775352478027344, 47.39664840698242, 53.250640869140625, 54.36772918701172, 48.3304557800293, 39.709556579589844, 48.02543640136719, 48.973838806152344, 23.593578338623047, 49.40530776977539, 48.4683837890625, 48.301998138427734, 50.225772857666016, 46.322105407714844, 45.118045806884766, 40.19747543334961, 36.832149505615234, 41.995277404785156, 43.48382568359375, 47.35060501098633, 20.134052276611328, 45.51449966430664, 45.910423278808594, 45.021636962890625, 46.84233474731445, 48.80107498168945, 45.99343490600586, 47.8128662109375, 45.172035217285156, 19.144254684448242, 49.33306121826172, 49.06117630004883, 50.27946472167969, 51.725975036621094, 51.821598052978516, 51.25701904296875, 48.6141242980957, 47.88846969604492, 50.39938735961914, 49.446651458740234, 48.649837493896484, 54.086570739746094, 52.76474380493164, 49.73623275756836, 47.99540710449219, 47.88673782348633, 46.189815521240234, 48.26655578613281, 49.26145553588867, 51.340667724609375, 51.57624053955078, 52.83629608154297, 53.1630859375, 51.670406341552734, 51.73775100708008, 53.1497688293457, 52.52869415283203, 51.8868522644043, 54.10910415649414, 51.2029914855957, 51.272789001464844, 51.451351165771484, 9.91714859008789, 51.704769134521484, 52.31168746948242, 53.779869079589844, 52.883785247802734, 52.734561920166016, 53.72590255737305, 55.888492584228516, 52.994415283203125, 52.42871856689453, 50.9708251953125, 53.51791000366211, 56.24620819091797, 55.02378845214844, 55.516014099121094, 47.455928802490234, 46.419403076171875, 40.891719818115234, 43.840301513671875, 46.022701263427734, 42.61981964111328, 45.932342529296875, 43.70745086669922, 44.134490966796875, 49.683067321777344, 55.094970703125, 53.93644714355469, 53.968563079833984, 54.72040939331055, 54.49378204345703, 55.7924690246582, 55.59185791015625, 54.87578582763672, 55.304100036621094, 55.1403923034668, 55.41205978393555, 54.784629821777344, 54.839149475097656, 42.51755142211914, 7.455005645751953, 44.35597610473633, 1.4675911664962769, 38.08696365356445, 48.111995697021484, 30.622175216674805, 12.270280838012695, 30.76756477355957, 40.52059555053711, 41.27230453491211, 43.099212646484375, 40.69575881958008, 40.70161056518555, 43.67477035522461, 43.08338928222656, 43.274105072021484, 42.766605377197266, 42.63794708251953, 42.770477294921875, 42.699031829833984, 42.43733596801758, 42.93175506591797, 43.71797180175781, 44.0652961730957, 44.549381256103516, 44.50425338745117, 45.65852737426758, 45.07615661621094, 45.16256332397461, 44.824195861816406, 45.50691604614258, 45.02973937988281, 41.16622543334961, 40.48667526245117, 38.455020904541016, 39.1548957824707, 39.5698127746582, 39.39211654663086, 40.135406494140625, 37.26827621459961, 31.37946891784668, 31.162111282348633, 33.76346206665039, 37.890743255615234, 37.955989837646484, 37.07170486450195, 39.47488021850586, 37.55855178833008, 37.672176361083984, 38.12765121459961, 39.14351272583008, 39.75537872314453, 39.838680267333984, 39.06014633178711, 36.59889221191406, 37.181827545166016, 38.26612091064453, 37.53180694580078, 38.06983184814453, 37.24460983276367, 39.0653076171875, 37.05998992919922, 36.724578857421875, 35.87633514404297, 34.03541946411133, 36.012794494628906, 32.052146911621094, 28.53375244140625, 27.39710807800293, 29.648778915405273, 29.22112464904785, 29.193132400512695, 29.282167434692383, 29.644309997558594, 31.703075408935547, 30.825550079345703, 31.270437240600586, 30.006959915161133, 30.71237564086914, 29.771013259887695, 30.281782150268555, 28.30838966369629, 28.76421546936035, 29.774084091186523, 26.347869873046875, 28.546329498291016, 27.873756408691406, 26.850141525268555, 27.043636322021484, 32.67948913574219, 34.917110443115234, 33.65599060058594, 32.16719436645508, 26.915714263916016, 27.324214935302734, 30.239131927490234, 37.24535369873047, 33.539207458496094, 36.28776168823242, 34.78754425048828, 34.8631706237793, 32.991859436035156, 34.752479553222656, 35.470924377441406, 33.03746032714844, 33.96955490112305, 33.304141998291016, 31.32664680480957, 31.08031463623047, 33.71721267700195, 35.050724029541016, 37.39163589477539, 36.68461608886719, 40.41274642944336, 46.93703079223633, 38.4498176574707, 45.83426284790039, 45.01799392700195, 35.49833297729492, 35.640777587890625, 31.52354621887207, 32.9974250793457, 34.98868179321289, 41.603065490722656, 42.06663131713867, 42.26640701293945, 39.31631088256836, 39.76172637939453, 40.83900833129883, 43.953277587890625, 45.5128059387207, 46.471473693847656, 44.515777587890625, 42.79338073730469, 39.5191535949707, 40.690921783447266, 43.353153228759766, 43.88206100463867, 44.16360092163086, 44.1306266784668, 43.65244674682617, 41.3956298828125, 39.75154113769531, 39.617286682128906, 40.052101135253906, 41.02626037597656, 39.38839340209961, 38.07697296142578, 37.85444641113281, 39.444759368896484, 42.01655960083008, 42.60575866699219, 43.551422119140625, 44.701507568359375, 46.23401641845703, 46.898948669433594, 46.36012268066406, 43.190635681152344, 39.1631965637207, 40.21417999267578, 39.493896484375, 39.63102340698242, 42.617549896240234, 39.282230377197266, 44.48899841308594, 41.65533447265625, 40.99854278564453, 40.16357421875, 40.68030548095703, 41.89622116088867, 42.89011764526367, 44.334022521972656, 45.824954986572266, 45.94160461425781, 45.50197982788086, 45.039058685302734, 45.56279754638672, 44.9193000793457, 45.15093231201172, 44.549468994140625, 43.95248794555664, 43.87408447265625, 43.480892181396484, 46.158348083496094, 37.19507598876953, 30.800764083862305, 32.15869903564453, 32.72287368774414, 32.77495193481445, 32.20648193359375, 34.76860427856445, 49.577880859375, 50.95669174194336, 51.21722412109375, 52.79422378540039, 36.72134017944336, 50.059024810791016, 38.877113342285156, 35.66755294799805, 31.42304039001465, 31.271440505981445, 32.46610641479492, 43.36465072631836, 37.45490264892578, 37.67377853393555, 34.33221435546875, 34.576454162597656, 34.145843505859375, 32.521629333496094, 30.922367095947266, 35.301124572753906, 47.57149887084961, 49.26118850708008, 50.75554656982422, 50.501136779785156, 50.387821197509766, 46.867618560791016, 31.098388671875, 31.884790420532227, 31.286043167114258, 31.870250701904297, 36.042049407958984, 44.43503952026367, 45.34077072143555, 46.44303894042969, 47.955936431884766, 50.73711013793945, 49.4050407409668, 39.54072952270508, 38.33375930786133, 52.139320373535156, 46.14958953857422, 47.91789627075195, 49.77580261230469, 45.27071762084961, 46.397361755371094, 45.918678283691406, 51.381996154785156]\n",
            "[83.0, 83.0, 84.0, 63.0, 67.0, 67.0, 67.0, 75.0, 75.0, 75.0, 75.0, 75.0, 89.0, 89.0, 89.0, 89.0, 89.0, 89.0, 75.0, 70.0, 75.0, 70.0, 70.0, 70.0, 70.0, 75.0, 75.0, 70.0, 70.0, 70.0, 70.0, 70.0, 70.0, 70.0, 70.0, 70.0, 66.0, 66.0, 66.0, 66.0, 66.0, 66.0, 66.0, 66.0, 70.0, 70.0, 70.0, 70.0, 70.0, 70.0, 70.0, 67.0, 67.0, 67.0, 67.0, 67.0, 67.0, 67.0, 67.0, 67.0, 67.0, 67.0, 79.0, 79.0, 83.0, 83.0, 79.0, 79.0, 79.0, 79.0, 79.0, 79.0, 79.0, 79.0, 79.0, 79.0, 79.0, 79.0, 79.0, 67.0, 63.0, 63.0, 63.0, 67.0, 67.0, 67.0, 59.0, 59.0, 59.0, 59.0, 59.0, 59.0, 56.0, 56.0, 67.0, 67.0, 70.0, 75.0, 75.0, 75.0, 89.0, 89.0, 89.0, 63.0, 63.0, 63.0, 63.0, 63.0, 63.0, 67.0, 67.0, 67.0, 59.0, 59.0, 59.0, 59.0, 59.0, 59.0, 59.0, 59.0, 59.0, 59.0, 56.0, 56.0, 70.0, 70.0, 70.0, 70.0, 70.0, 70.0, 75.0, 75.0, 70.0, 70.0, 70.0, 70.0, 70.0, 70.0, 70.0, 70.0, 70.0, 70.0, 70.0, 70.0, 70.0, 70.0, 70.0, 70.0, 70.0, 70.0, 70.0, 66.0, 66.0, 66.0, 66.0, 66.0, 66.0, 70.0, 70.0, 70.0, 70.0, 70.0, 66.0, 67.0, 67.0, 67.0, 67.0, 67.0, 67.0, 67.0, 67.0, 67.0, 67.0, 67.0, 67.0, 67.0, 67.0, 67.0, 67.0, 67.0, 67.0, 67.0, 67.0, 71.0, 71.0, 71.0, 71.0, 71.0, 70.0, 67.0, 63.0, 63.0, 63.0, 67.0, 67.0, 67.0, 59.0, 59.0, 59.0, 59.0, 59.0, 59.0, 56.0, 56.0, 79.0, 79.0, 70.0, 70.0, 70.0, 70.0, 70.0, 70.0, 70.0, 70.0, 74.0, 74.0, 70.0, 70.0, 74.0, 74.0, 74.0, 74.0, 74.0, 74.0, 74.0, 74.0, 88.0, 88.0, 74.0, 88.0, 88.0, 88.0, 88.0, 88.0, 88.0, 79.0, 79.0, 79.0, 79.0, 79.0, 88.0, 88.0, 70.0, 70.0, 70.0, 70.0, 70.0, 70.0, 70.0, 70.0, 70.0, 70.0, 70.0, 70.0, 70.0, 70.0, 70.0, 70.0, 70.0, 66.0, 66.0, 66.0, 66.0, 66.0, 70.0, 70.0, 70.0, 70.0, 70.0, 70.0, 70.0, 70.0, 70.0, 70.0, 70.0, 70.0, 70.0, 70.0, 66.0, 66.0, 66.0, 66.0, 66.0, 66.0, 66.0, 63.0, 63.0, 63.0, 66.0, 66.0, 70.0, 70.0, 70.0, 70.0, 70.0, 70.0, 70.0, 70.0, 70.0, 70.0, 70.0, 70.0, 67.0, 67.0, 60.0, 60.0, 60.0, 56.0, 56.0, 56.0, 63.0, 63.0, 63.0, 60.0, 60.0, 60.0, 63.0, 63.0, 63.0, 63.0, 63.0, 63.0, 60.0, 63.0, 63.0, 59.0, 59.0, 56.0, 56.0, 56.0, 56.0, 56.0, 56.0, 56.0, 63.0, 94.0, 94.0, 94.0, 94.0, 94.0, 94.0, 94.0, 94.0, 100.0, 100.0, 100.0, 94.0, 94.0, 94.0, 94.0, 94.0, 94.0, 89.0, 89.0, 89.0, 89.0, 89.0, 89.0, 94.0, 79.0, 79.0, 79.0, 79.0, 79.0, 79.0, 79.0, 79.0, 79.0, 79.0, 79.0, 79.0, 79.0, 79.0, 79.0, 79.0, 79.0, 79.0, 79.0, 74.0, 74.0, 74.0, 79.0, 79.0, 79.0, 79.0, 79.0, 79.0, 79.0, 79.0, 79.0, 66.0, 66.0, 66.0, 79.0, 66.0, 66.0, 70.0, 70.0, 70.0, 67.0, 67.0, 67.0, 67.0, 67.0, 67.0, 66.0, 63.0, 63.0, 63.0, 63.0, 63.0, 63.0, 63.0, 63.0, 59.0, 59.0, 59.0, 63.0, 63.0, 63.0, 63.0, 63.0, 63.0, 63.0, 63.0, 63.0, 63.0, 70.0, 70.0, 70.0, 70.0, 70.0, 70.0, 70.0, 70.0, 66.0, 66.0, 66.0, 70.0, 79.0, 79.0, 79.0, 79.0, 79.0, 79.0, 79.0, 79.0, 79.0, 79.0, 79.0, 79.0, 79.0, 79.0, 79.0, 79.0, 79.0, 79.0, 79.0, 79.0, 83.0, 83.0, 83.0, 79.0, 79.0, 79.0, 79.0, 79.0, 79.0, 79.0, 79.0, 79.0, 79.0, 79.0, 79.0, 84.0, 84.0, 84.0, 84.0, 84.0, 84.0, 84.0, 84.0, 79.0, 79.0, 79.0, 84.0, '24', '25', '25', '26', '22', '15', '15', '14', '13', '13', '13', '13', '13', '23', '23', '23', '22', '22', '20', '27', '27', '25', '13', '9', '9', '9', '8', '8', '7', '6', '6', '6', '6', '28', '22', '22', '22', '19', '19', '8', '7', '7', '9', '11', '13', '34', '32', '31', '32', '32', '37', '41', '45', '49', '45']\n",
            "[1001.0, 1001.0, 1001.0, 1000.0, 999.0, 999.0, 999.0, 999.0, 999.0, 999.0, 999.0, 999.0, 999.0, 999.0, 999.0, 999.0, 999.0, 999.0, 1003.0, 1003.0, 1002.0, 1002.0, 1002.0, 1002.0, 1002.0, 1002.0, 1002.0, 1002.0, 1002.0, 1002.0, 1002.0, 1002.0, 1002.0, 1002.0, 1002.0, 1002.0, 1002.0, 1002.0, 1002.0, 1002.0, 1002.0, 1002.0, 1002.0, 1002.0, 1002.0, 1002.0, 1002.0, 1002.0, 1002.0, 1002.0, 1002.0, 1001.0, 1001.0, 1001.0, 1001.0, 1001.0, 1001.0, 1001.0, 1001.0, 1000.0, 1000.0, 1000.0, 1002.0, 1002.0, 1002.0, 1002.0, 1002.0, 1002.0, 1002.0, 1002.0, 1002.0, 1002.0, 1002.0, 1002.0, 1002.0, 1002.0, 1002.0, 1002.0, 1002.0, 1000.0, 1000.0, 1000.0, 1000.0, 1000.0, 1000.0, 1000.0, 1000.0, 1000.0, 1000.0, 1000.0, 1000.0, 1000.0, 1000.0, 1000.0, 1000.0, 1000.0, 999.0, 999.0, 999.0, 999.0, 999.0, 999.0, 999.0, 998.0, 1000.0, 1000.0, 1000.0, 1000.0, 1000.0, 1000.0, 1000.0, 1000.0, 1000.0, 1000.0, 1000.0, 1000.0, 1000.0, 1000.0, 1000.0, 1000.0, 1000.0, 1000.0, 1000.0, 1000.0, 1002.0, 1002.0, 1002.0, 1002.0, 1002.0, 1002.0, 1002.0, 1002.0, 1002.0, 1002.0, 1002.0, 1002.0, 1002.0, 1002.0, 1002.0, 1002.0, 1002.0, 1002.0, 1002.0, 1002.0, 1002.0, 1002.0, 1002.0, 1002.0, 1002.0, 1002.0, 1002.0, 1002.0, 1002.0, 1002.0, 1002.0, 1002.0, 1002.0, 1002.0, 1002.0, 1002.0, 1002.0, 1002.0, 1002.0, 1001.0, 1001.0, 1001.0, 1001.0, 1001.0, 1001.0, 1001.0, 1001.0, 1001.0, 1001.0, 1001.0, 1000.0, 1000.0, 1000.0, 1000.0, 1000.0, 1000.0, 1001.0, 1001.0, 1001.0, 1000.0, 1000.0, 1000.0, 1000.0, 1000.0, 1002.0, 1000.0, 1000.0, 1000.0, 1000.0, 1000.0, 1000.0, 1000.0, 1000.0, 1000.0, 1000.0, 1000.0, 1000.0, 1000.0, 1000.0, 1000.0, 1000.0, 1000.0, 1000.0, 1000.0, 1000.0, 1000.0, 1000.0, 1000.0, 1000.0, 1000.0, 1000.0, 1000.0, 1000.0, 1000.0, 1000.0, 1000.0, 1000.0, 1000.0, 1000.0, 1000.0, 1000.0, 1000.0, 1001.0, 1001.0, 1000.0, 1001.0, 1001.0, 1001.0, 1001.0, 1001.0, 1001.0, 1000.0, 1000.0, 1000.0, 1000.0, 1000.0, 1001.0, 1001.0, 1000.0, 1000.0, 1000.0, 1000.0, 1000.0, 1000.0, 1000.0, 1000.0, 1000.0, 1000.0, 1000.0, 1000.0, 999.0, 999.0, 999.0, 999.0, 999.0, 999.0, 999.0, 999.0, 999.0, 999.0, 999.0, 999.0, 999.0, 999.0, 999.0, 999.0, 999.0, 999.0, 999.0, 999.0, 999.0, 999.0, 999.0, 999.0, 998.0, 998.0, 998.0, 998.0, 998.0, 998.0, 998.0, 998.0, 998.0, 998.0, 998.0, 998.0, 998.0, 998.0, 998.0, 998.0, 998.0, 998.0, 998.0, 998.0, 998.0, 998.0, 998.0, 998.0, 1000.0, 1000.0, 999.0, 999.0, 999.0, 998.0, 998.0, 998.0, 998.0, 998.0, 998.0, 997.0, 997.0, 997.0, 997.0, 997.0, 997.0, 997.0, 997.0, 997.0, 997.0, 997.0, 997.0, 997.0, 997.0, 998.0, 998.0, 998.0, 998.0, 998.0, 998.0, 998.0, 997.0, 999.0, 999.0, 999.0, 999.0, 999.0, 999.0, 999.0, 999.0, 1000.0, 1000.0, 1000.0, 999.0, 1000.0, 1000.0, 1000.0, 1000.0, 1000.0, 1000.0, 1000.0, 1000.0, 1000.0, 1000.0, 1000.0, 1000.0, 1000.0, 1000.0, 1000.0, 1000.0, 1000.0, 1000.0, 1000.0, 1000.0, 1000.0, 1000.0, 1000.0, 1000.0, 1000.0, 1000.0, 1000.0, 1000.0, 1000.0, 1000.0, 1000.0, 1000.0, 1000.0, 1000.0, 1000.0, 1000.0, 1000.0, 1000.0, 1000.0, 1000.0, 1000.0, 1000.0, 1000.0, 1000.0, 1000.0, 1000.0, 1000.0, 1000.0, 1000.0, 1000.0, 1000.0, 1000.0, 999.0, 999.0, 999.0, 999.0, 999.0, 999.0, 1000.0, 999.0, 999.0, 999.0, 999.0, 999.0, 999.0, 999.0, 999.0, 999.0, 999.0, 999.0, 999.0, 999.0, 999.0, 999.0, 999.0, 999.0, 999.0, 999.0, 999.0, 999.0, 999.0, 999.0, 999.0, 999.0, 999.0, 999.0, 999.0, 999.0, 999.0, 999.0, 999.0, 999.0, 999.0, 999.0, 999.0, 999.0, 999.0, 999.0, 999.0, 999.0, 999.0, 999.0, 999.0, 999.0, 999.0, 999.0, 998.0, 998.0, 998.0, 998.0, 998.0, 998.0, 998.0, 998.0, 998.0, 999.0, 998.0, 998.0, 998.0, 998.0, 998.0, 998.0, 998.0, 997.0, 997.0, 997.0, 998.0, 997.0, 997.0, 997.0, 997.0, 997.0, 997.0, 997.0, 997.0, 997.0, 997.0, 997.0, 997.0, '996', '997', '997', '998', '997', '996', '996', '996', '994', '994', '994', '993', '993', '996', '996', '997', '997', '997', '997', '995', '995', '996', '996', '996', '996', '996', '995', '995', '993', '993', '993', '992', '992', '996', '996', '996', '996', '997', '997', '994', '993', '993', '993', '993', '993', '997', '997', '998', '998', '998', '997', '996', '996', '995', '995']\n",
            "[29.68, 29.68, 30.0, 31.2, 32.03, 32.03, 32.03, 28.91, 28.91, 28.91, 28.91, 28.91, 28.96, 28.96, 28.96, 28.96, 28.96, 28.96, 30.88, 32.0, 31.28, 31.57, 31.57, 31.57, 31.56, 31.28, 31.28, 31.48, 31.48, 31.48, 31.48, 32.49, 32.49, 32.49, 32.49, 31.49, 32.49, 32.49, 32.49, 32.49, 32.49, 32.49, 32.49, 32.49, 32.55, 32.55, 32.55, 32.55, 32.55, 32.55, 32.55, 32.98, 32.98, 32.98, 32.98, 32.98, 32.98, 32.98, 32.98, 33.49, 33.49, 33.49, 30.21, 30.21, 29.56, 29.56, 30.2, 30.2, 30.2, 30.2, 30.2, 30.2, 30.2, 30.2, 30.22, 30.22, 30.2, 30.2, 30.2, 33.98, 34.49, 34.49, 34.49, 33.98, 33.98, 33.98, 34.49, 34.49, 34.49, 34.49, 34.49, 34.49, 34.49, 34.49, 32.04, 32.04, 32.11, 28.91, 28.91, 28.91, 28.97, 28.97, 28.97, 32.64, 34.49, 34.49, 34.49, 34.49, 34.49, 33.98, 33.98, 33.98, 34.49, 34.49, 34.49, 34.49, 34.49, 34.49, 34.49, 34.49, 34.49, 34.49, 34.49, 34.49, 31.56, 31.56, 31.56, 31.56, 31.56, 31.56, 31.28, 31.28, 31.49, 31.48, 31.48, 31.48, 32.49, 32.49, 32.49, 32.49, 32.49, 32.49, 32.49, 32.49, 32.49, 32.49, 31.49, 31.49, 31.49, 31.49, 31.49, 32.49, 32.49, 32.49, 32.49, 32.49, 32.49, 32.55, 32.55, 32.55, 32.55, 32.55, 32.49, 32.98, 32.98, 32.98, 32.98, 32.98, 32.98, 32.98, 32.98, 32.98, 32.98, 32.98, 33.49, 33.49, 33.49, 33.49, 33.49, 33.49, 32.98, 32.98, 32.98, 34.0, 34.0, 34.0, 34.0, 34.0, 31.16, 33.98, 34.49, 34.49, 34.49, 33.98, 33.98, 33.98, 34.49, 34.49, 34.49, 34.49, 34.49, 34.49, 34.49, 34.49, 30.43, 30.43, 31.03, 31.03, 31.03, 31.03, 31.03, 31.03, 31.03, 31.03, 30.72, 30.72, 31.03, 31.03, 30.2, 30.39, 30.39, 30.39, 30.39, 30.38, 30.38, 30.38, 30.13, 30.13, 30.2, 30.17, 30.17, 30.17, 29.96, 29.96, 29.96, 31.06, 31.06, 31.06, 30.75, 30.75, 30.17, 30.17, 30.76, 30.76, 30.75, 30.75, 31.06, 31.06, 31.06, 31.06, 31.06, 31.06, 31.06, 30.76, 31.06, 31.06, 31.06, 31.06, 31.06, 31.45, 31.45, 31.45, 31.82, 31.82, 31.06, 31.06, 31.79, 31.79, 31.79, 31.79, 31.79, 31.83, 31.83, 31.83, 31.81, 31.81, 31.79, 31.79, 31.81, 31.82, 31.82, 31.82, 31.82, 32.12, 32.12, 32.51, 32.51, 32.51, 31.81, 31.81, 32.18, 32.2, 32.2, 32.2, 32.21, 32.21, 32.21, 32.42, 32.42, 32.42, 32.42, 32.18, 33.98, 33.98, 33.74, 33.74, 33.74, 34.39, 34.39, 34.63, 33.91, 33.91, 33.54, 33.67, 33.67, 33.67, 33.61, 33.61, 33.61, 33.67, 33.67, 33.67, 33.64, 33.89, 33.89, 33.35, 33.35, 33.31, 33.31, 33.31, 33.31, 33.35, 33.35, 33.35, 33.89, 30.27, 30.27, 30.04, 30.04, 30.04, 30.51, 30.51, 30.51, 30.33, 30.33, 30.33, 30.27, 30.03, 30.03, 30.04, 30.04, 30.04, 30.56, 30.56, 30.56, 30.48, 30.48, 30.48, 30.03, 30.5, 30.5, 30.47, 30.47, 30.47, 30.48, 30.48, 30.27, 30.27, 30.27, 30.5, 30.44, 30.44, 30.6, 30.6, 30.6, 30.6, 30.6, 30.6, 31.26, 31.26, 31.26, 30.44, 31.0, 31.0, 31.25, 31.25, 31.25, 31.0, 31.0, 31.0, 32.49, 32.49, 32.49, 31.0, 32.49, 32.49, 33.0, 33.0, 33.0, 32.98, 32.98, 32.98, 32.98, 32.98, 32.98, 32.49, 33.98, 33.98, 33.98, 33.98, 33.98, 33.98, 33.98, 33.98, 33.98, 33.98, 33.98, 33.98, 33.98, 33.98, 33.98, 33.98, 33.98, 33.98, 33.98, 33.98, 33.98, 31.28, 31.28, 31.28, 31.28, 31.28, 31.28, 31.28, 31.28, 31.22, 31.22, 31.22, 31.28, 28.75, 28.75, 28.75, 28.75, 28.75, 28.67, 28.67, 28.67, 28.66, 28.66, 28.66, 28.75, 28.57, 28.57, 28.61, 28.61, 28.61, 29.51, 29.51, 29.51, 29.11, 29.11, 29.11, 28.57, 29.3, 29.3, 29.3, 29.3, 30.85, 30.85, 30.85, 30.26, 30.26, 30.26, 29.3, 30.45, 30.45, 30.46, 30.46, 30.46, 30.42, 30.42, 30.42, 30.79, 30.79, 30.79, 30.45, '39', '40', '41', '41', '43', '46', '46', '46', '47', '47', '46', '46', '46', '39', '39', '40', '40', '41', '42', '38', '38', '39', '44', '46', '46', '46', '46', '46', '48', '47', '47', '46', '46', '37', '40', '40', '40', '41', '41', '46', '46', '46', '46', '45', '45', '36', '37', '38', '38', '38', '37', '36', '35', '33', '34']\n",
            "[60.0, 60.0, 90.0, 70.0, 70.0, 70.0, 70.0, 60.0, 60.0, 60.0, 60.0, 60.0, 70.0, 70.0, 70.0, 70.0, 70.0, 70.0, 40.0, 110.0, 110.0, 90.0, 90.0, 90.0, 90.0, 110.0, 110.0, 70.0, 70.0, 70.0, 70.0, 50.0, 50.0, 50.0, 50.0, 70.0, 50.0, 50.0, 50.0, 50.0, 50.0, 50.0, 50.0, 50.0, 90.0, 90.0, 90.0, 90.0, 90.0, 90.0, 90.0, 90.0, 90.0, 90.0, 90.0, 90.0, 90.0, 90.0, 90.0, 100.0, 100.0, 100.0, 80.0, 80.0, 60.0, 60.0, 110.0, 110.0, 110.0, 110.0, 110.0, 110.0, 110.0, 110.0, 70.0, 70.0, 110.0, 110.0, 110.0, 170.0, 90.0, 90.0, 90.0, 170.0, 170.0, 170.0, 90.0, 90.0, 90.0, 90.0, 90.0, 90.0, 100.0, 100.0, 90.0, 90.0, 90.0, 60.0, 60.0, 60.0, 70.0, 70.0, 70.0, 90.0, 90.0, 90.0, 90.0, 90.0, 90.0, 170.0, 170.0, 170.0, 90.0, 90.0, 90.0, 90.0, 90.0, 90.0, 90.0, 90.0, 90.0, 90.0, 100.0, 100.0, 90.0, 90.0, 90.0, 90.0, 90.0, 90.0, 110.0, 110.0, 70.0, 70.0, 70.0, 70.0, 50.0, 50.0, 50.0, 50.0, 50.0, 50.0, 50.0, 50.0, 50.0, 50.0, 70.0, 70.0, 70.0, 70.0, 70.0, 50.0, 50.0, 50.0, 50.0, 50.0, 50.0, 90.0, 90.0, 90.0, 90.0, 90.0, 50.0, 90.0, 90.0, 90.0, 90.0, 90.0, 90.0, 90.0, 90.0, 90.0, 90.0, 90.0, 100.0, 100.0, 100.0, 100.0, 100.0, 100.0, 90.0, 90.0, 90.0, 60.0, 60.0, 60.0, 60.0, 60.0, 80.0, 170.0, 90.0, 90.0, 90.0, 170.0, 170.0, 170.0, 90.0, 90.0, 90.0, 90.0, 90.0, 90.0, 100.0, 100.0, 100.0, 100.0, 80.0, 80.0, 80.0, 80.0, 80.0, 80.0, 80.0, 80.0, 80.0, 80.0, 80.0, 80.0, 50.0, 50.0, 50.0, 50.0, 50.0, 50.0, 50.0, 50.0, 120.0, 120.0, 50.0, 120.0, 120.0, 120.0, 120.0, 120.0, 120.0, 110.0, 110.0, 110.0, 110.0, 110.0, 120.0, 120.0, 120.0, 120.0, 120.0, 120.0, 120.0, 120.0, 120.0, 120.0, 110.0, 110.0, 110.0, 120.0, 100.0, 100.0, 100.0, 100.0, 100.0, 120.0, 120.0, 120.0, 120.0, 120.0, 100.0, 100.0, 120.0, 120.0, 120.0, 120.0, 120.0, 120.0, 120.0, 120.0, 120.0, 120.0, 120.0, 120.0, 130.0, 130.0, 130.0, 130.0, 130.0, 130.0, 130.0, 110.0, 110.0, 110.0, 130.0, 130.0, 110.0, 110.0, 110.0, 110.0, 100.0, 100.0, 100.0, 100.0, 100.0, 100.0, 100.0, 110.0, 170.0, 170.0, 70.0, 70.0, 70.0, 80.0, 80.0, 80.0, 40.0, 40.0, 70.0, 70.0, 70.0, 70.0, 110.0, 110.0, 110.0, 110.0, 110.0, 110.0, 70.0, 110.0, 110.0, 90.0, 90.0, 70.0, 70.0, 70.0, 70.0, 70.0, 70.0, 70.0, 110.0, 100.0, 100.0, 100.0, 100.0, 100.0, 100.0, 100.0, 100.0, 100.0, 100.0, 100.0, 100.0, 130.0, 130.0, 130.0, 130.0, 130.0, 120.0, 120.0, 120.0, 120.0, 120.0, 120.0, 130.0, 80.0, 80.0, 80.0, 80.0, 80.0, 80.0, 80.0, 100.0, 100.0, 100.0, 80.0, 100.0, 100.0, 140.0, 140.0, 140.0, 140.0, 140.0, 140.0, 140.0, 140.0, 140.0, 100.0, 140.0, 140.0, 140.0, 140.0, 140.0, 140.0, 140.0, 140.0, 120.0, 120.0, 120.0, 140.0, 120.0, 120.0, 150.0, 150.0, 150.0, 40.0, 40.0, 40.0, 40.0, 40.0, 40.0, 120.0, 90.0, 90.0, 90.0, 90.0, 90.0, 90.0, 90.0, 90.0, 70.0, 70.0, 70.0, 90.0, 70.0, 70.0, 70.0, 70.0, 70.0, 70.0, 70.0, 70.0, 70.0, 30.0, 30.0, 30.0, 30.0, 30.0, 30.0, 30.0, 30.0, 290.0, 290.0, 290.0, 30.0, 270.0, 270.0, 270.0, 270.0, 270.0, 230.0, 230.0, 230.0, 230.0, 230.0, 230.0, 270.0, 230.0, 230.0, 350.0, 350.0, 350.0, 350.0, 350.0, 350.0, 20.0, 20.0, 20.0, 230.0, 20.0, 20.0, 20.0, 20.0, 20.0, 20.0, 20.0, 40.0, 40.0, 40.0, 20.0, 20.0, 20.0, 20.0, 20.0, 20.0, 20.0, 20.0, 20.0, 60.0, 60.0, 60.0, 20.0, '234', '196', '158', '120', '144', '190', '190', '225', '283', '283', '271', '259', '259', '288', '288', '292', '296', '300', '298', '292', '292', '293', '301', '303', '303', '303', '302', '302', '299', '296', '296', '289', '289', '288', '289', '289', '289', '290', '290', '295', '294', '294', '290', '286', '282', '277', '281', '285', '281', '281', '265', '241', '217', '193', '202']\n",
            "[4.1, 4.1, 1.5, 3.1, 4.1, 4.1, 4.1, 2.6, 2.6, 2.6, 2.6, 2.6, 2.6, 2.6, 2.6, 2.6, 2.6, 2.6, 4.1, 5.7, 2.6, 2.1, 2.1, 2.1, 2.1, 2.6, 2.6, 2.6, 2.6, 2.6, 2.6, 2.1, 2.1, 2.1, 2.1, 2.6, 3.6, 3.6, 3.6, 3.6, 3.6, 3.6, 3.6, 3.6, 4.1, 4.1, 4.1, 4.1, 4.1, 4.1, 4.1, 2.1, 2.1, 2.1, 2.1, 2.1, 2.1, 2.1, 2.1, 2.1, 2.1, 2.1, 3.1, 3.1, 2.1, 2.1, 2.1, 2.1, 2.1, 2.1, 2.1, 2.1, 2.1, 2.1, 2.6, 2.6, 2.1, 2.1, 2.1, 3.6, 2.1, 2.1, 2.1, 3.6, 3.6, 3.6, 2.1, 2.1, 2.1, 2.1, 2.1, 2.1, 2.1, 2.1, 5.1, 5.1, 5.1, 2.6, 2.6, 2.6, 2.6, 2.6, 2.6, 2.1, 2.1, 2.1, 2.1, 2.1, 2.1, 3.6, 3.6, 3.6, 2.1, 2.1, 2.1, 2.1, 2.1, 2.1, 2.1, 2.1, 2.1, 2.1, 2.1, 2.1, 2.1, 2.1, 2.1, 2.1, 2.1, 2.1, 2.6, 2.6, 2.6, 2.6, 2.6, 2.6, 2.1, 2.1, 2.1, 2.1, 2.1, 2.1, 2.1, 2.1, 2.1, 2.1, 2.6, 2.6, 2.6, 2.6, 2.6, 3.6, 3.6, 3.6, 3.6, 3.6, 3.6, 4.1, 4.1, 4.1, 4.1, 4.1, 3.6, 2.1, 2.1, 2.1, 2.1, 2.1, 2.1, 2.1, 2.1, 2.1, 2.1, 2.1, 2.1, 2.1, 2.1, 2.1, 2.1, 2.1, 2.1, 2.1, 2.1, 3.6, 3.6, 3.6, 3.6, 3.6, 3.1, 3.6, 2.1, 2.1, 2.1, 3.6, 3.6, 3.6, 2.1, 2.1, 2.1, 2.1, 2.1, 2.1, 2.1, 2.1, 3.6, 3.6, 4.1, 4.1, 4.1, 4.1, 4.1, 4.1, 4.1, 4.1, 5.1, 5.1, 4.1, 4.1, 6.2, 6.2, 6.2, 6.2, 6.2, 6.2, 6.2, 6.2, 2.6, 2.6, 6.2, 2.6, 2.6, 2.6, 2.6, 2.6, 2.6, 5.7, 5.7, 5.7, 5.7, 5.7, 2.6, 2.6, 3.6, 3.6, 3.6, 3.6, 3.6, 3.6, 3.6, 3.6, 3.6, 3.6, 3.6, 3.6, 4.6, 4.6, 4.6, 4.6, 4.6, 4.6, 4.6, 4.6, 4.6, 4.6, 4.6, 4.6, 4.1, 4.1, 4.1, 4.1, 4.1, 4.1, 4.1, 4.1, 4.6, 4.6, 4.1, 4.1, 4.1, 4.1, 4.1, 4.1, 4.1, 4.1, 4.1, 2.6, 2.6, 2.6, 4.1, 4.1, 2.1, 2.1, 2.1, 2.1, 4.1, 4.1, 4.1, 4.1, 4.1, 4.1, 4.1, 2.1, 3.6, 3.6, 2.6, 2.6, 2.6, 2.6, 2.6, 2.6, 3.1, 3.1, 2.6, 2.1, 2.1, 2.1, 1.5, 1.5, 1.5, 1.5, 1.5, 1.5, 2.1, 1.5, 1.5, 2.1, 2.1, 2.1, 2.1, 2.1, 2.1, 2.1, 2.1, 2.1, 1.5, 2.6, 2.6, 2.6, 2.6, 2.6, 2.6, 2.6, 2.6, 1.5, 1.5, 1.5, 2.6, 2.1, 2.1, 2.1, 2.1, 2.1, 2.1, 2.1, 2.1, 2.1, 2.1, 2.1, 2.1, 2.1, 2.1, 2.1, 2.1, 2.1, 2.1, 2.1, 1.0, 1.0, 1.0, 2.1, 1.0, 1.0, 1.0, 1.0, 1.0, 1.0, 1.0, 1.0, 2.1, 2.1, 2.1, 1.0, 2.6, 2.6, 2.6, 2.6, 2.6, 2.6, 2.6, 2.6, 2.6, 2.6, 2.6, 2.6, 2.6, 2.6, 1.5, 1.5, 1.5, 2.1, 2.1, 2.1, 2.1, 2.1, 2.1, 2.6, 1.5, 1.5, 1.5, 1.5, 1.5, 1.5, 1.5, 1.5, 5.1, 5.1, 5.1, 1.5, 4.1, 4.1, 4.1, 4.1, 4.1, 4.1, 4.1, 4.1, 4.1, 2.6, 2.6, 2.6, 2.6, 2.6, 2.6, 2.6, 2.6, 3.1, 3.1, 3.1, 2.6, 2.6, 2.6, 2.6, 2.6, 2.6, 1.5, 1.5, 1.5, 1.5, 1.5, 1.5, 2.6, 1.5, 1.5, 1.0, 1.0, 1.0, 1.0, 1.0, 1.0, 1.0, 1.0, 1.0, 1.5, 1.0, 1.0, 1.0, 1.0, 1.0, 1.0, 1.0, 2.6, 2.6, 2.6, 1.0, 1.0, 1.0, 1.0, 1.0, 1.0, 1.0, 1.0, 1.0, 1.5, 1.5, 1.5, 1.0, '13', '14', '14', '14', '12', '7', '7', '7', '7', '7', '8', '9', '9', '19', '19', '19', '18', '18', '17', '19', '19', '19', '15', '14', '14', '14', '15', '15', '16', '16', '16', '17', '17', '21', '20', '20', '20', '20', '20', '19', '19', '19', '21', '23', '24', '24', '23', '22', '21', '21', '23', '25', '27', '28', '27']\n",
            "[47.0, 47.0, 47.0, 47.0, 64.0, 64.0, 64.0, 75.0, 75.0, 75.0, 75.0, 75.0, 81.0, 81.0, 81.0, 81.0, 81.0, 81.0, 38.0, 38.0, 35.0, 44.0, 29.0, 38.0, 41.0, 50.0, 47.0, 38.0, 38.0, 32.0, 32.0, 38.0, 56.0, 53.0, 47.0, 35.0, 60.0, 41.0, 44.0, 64.0, 63.0, 38.0, 35.0, 35.0, 29.0, 23.0, 32.0, 32.0, 29.0, 26.0, 32.0, 29.0, 29.0, 29.0, 26.0, 29.0, 29.0, 23.0, 23.0, 14.0, 17.0, 17.0, 38.0, 38.0, 41.0, 41.0, 38.0, 38.0, 38.0, 63.0, 44.0, 44.0, 41.0, 41.0, 56.0, 56.0, 32.0, 32.0, 32.0, 94.0, 94.0, 87.0, 97.0, 88.0, 93.0, 82.0, 81.0, 75.0, 76.0, 84.0, 78.0, 78.0, 73.0, 75.0, 66.0, 63.0, 66.0, 72.0, 72.0, 76.0, 81.0, 81.0, 81.0, 96.0, 94.0, 87.0, 97.0, 90.0, 90.0, 88.0, 76.0, 76.0, 81.0, 81.0, 79.0, 75.0, 73.0, 84.0, 79.0, 79.0, 75.0, 76.0, 69.0, 78.0, 61.0, 69.0, 64.0, 76.0, 78.0, 63.0, 63.0, 63.0, 60.0, 58.0, 57.0, 53.0, 58.0, 58.0, 57.0, 60.0, 60.0, 60.0, 57.0, 57.0, 57.0, 56.0, 56.0, 56.0, 53.0, 56.0, 53.0, 56.0, 56.0, 38.0, 38.0, 44.0, 38.0, 44.0, 44.0, 44.0, 44.0, 44.0, 44.0, 44.0, 44.0, 44.0, 44.0, 44.0, 44.0, 44.0, 44.0, 44.0, 44.0, 44.0, 44.0, 44.0, 44.0, 44.0, 44.0, 44.0, 44.0, 44.0, 44.0, 44.0, 44.0, 44.0, 44.0, 44.0, 44.0, 44.0, 44.0, 44.0, 44.0, 44.0, 44.0, 44.0, 44.0, 44.0, 44.0, 44.0, 44.0, 44.0, 44.0, 44.0, 35.0, 14.0, 50.0, 61.0, 66.0, 72.0, 69.0, 63.0, 64.0, 66.0, 58.0, 58.0, 60.0, 61.0, 60.0, 56.0, 44.0, 47.0, 50.0, 47.0, 38.0, 38.0, 32.0, 32.0, 26.0, 23.0, 26.0, 20.0, 17.0, 20.0, 20.0, 20.0, 20.0, 20.0, 23.0, 23.0, 20.0, 20.0, 20.0, 20.0, 20.0, 20.0, 20.0, 23.0, 23.0, 20.0, 23.0, 20.0, 17.0, 17.0, 17.0, 17.0, 17.0, 17.0, 17.0, 14.0, 14.0, 11.0, 11.0, 14.0, 14.0, 17.0, 17.0, 14.0, 14.0, 17.0, 17.0, 17.0, 17.0, 17.0, 17.0, 17.0, 17.0, 20.0, 17.0, 20.0, 20.0, 17.0, 17.0, 17.0, 17.0, 23.0, 14.0, 17.0, 17.0, 17.0, 20.0, 20.0, 23.0, 20.0, 20.0, 23.0, 26.0, 26.0, 26.0, 20.0, 20.0, 17.0, 96.0, 94.0, 63.0, 64.0, 67.0, 58.0, 58.0, 32.0, 35.0, 35.0, 35.0, 41.0, 41.0, 41.0, 41.0, 41.0, 44.0, 41.0, 41.0, 41.0, 38.0, 38.0, 41.0, 38.0, 38.0, 35.0, 72.0, 66.0, 32.0, 32.0, 32.0, 32.0, 32.0, 96.0, 96.0, 96.0, 96.0, 97.0, 100.0, 102.0, 102.0, 102.0, 105.0, 107.0, 105.0, 102.0, 107.0, 107.0, 105.0, 100.0, 107.0, 105.0, 105.0, 109.0, 109.0, 105.0, 102.0, 103.0, 103.0, 100.0, 99.0, 96.0, 102.0, 90.0, 94.0, 91.0, 91.0, 90.0, 91.0, 90.0, 90.0, 82.0, 84.0, 82.0, 82.0, 81.0, 76.0, 76.0, 72.0, 69.0, 70.0, 69.0, 69.0, 69.0, 69.0, 66.0, 66.0, 66.0, 60.0, 64.0, 76.0, 67.0, 64.0, 66.0, 67.0, 64.0, 63.0, 64.0, 67.0, 61.0, 63.0, 57.0, 61.0, 63.0, 63.0, 63.0, 58.0, 57.0, 61.0, 60.0, 63.0, 66.0, 67.0, 72.0, 75.0, 75.0, 78.0, 78.0, 84.0, 82.0, 85.0, 76.0, 82.0, 69.0, 64.0, 50.0, 41.0, 29.0, 35.0, 35.0, 29.0, 29.0, 26.0, 32.0, 29.0, 29.0, 35.0, 32.0, 32.0, 38.0, 41.0, 47.0, 47.0, 56.0, 56.0, 57.0, 58.0, 58.0, 61.0, 64.0, 61.0, 61.0, 61.0, 64.0, 63.0, 66.0, 64.0, 64.0, 67.0, 69.0, 72.0, 72.0, 73.0, 75.0, 75.0, 88.0, 87.0, 87.0, 88.0, 88.0, 91.0, 96.0, 94.0, 94.0, 90.0, 99.0, 91.0, 100.0, 99.0, 103.0, 102.0, 105.0, 100.0, 105.0, '42', '75', '51', '52', '45', '47', '47', '55', '61', '61', '60', '61', '61', '74', '74', '66', '68', '63', '46', '45', '45', '47', '48', '46', '46', '46', '50', '50', '49', '46', '46', '44', '44', '62', '106', '106', '106', '111', '111', '54', '52', '52', '55', '52', '48', '22', '26', '32', '32', '32', '27', '26', '29', '30', '28']\n"
          ],
          "name": "stdout"
        }
      ]
    },
    {
      "cell_type": "markdown",
      "metadata": {
        "id": "28cblVcMm65k",
        "colab_type": "text"
      },
      "source": [
        ""
      ]
    },
    {
      "cell_type": "markdown",
      "metadata": {
        "id": "O7wLCqZKVrlz",
        "colab_type": "text"
      },
      "source": [
        "POINT TO CONCATENATE ALL THE NEW DATA - USE NON SCALED FEATURES OF ALL THE DATA "
      ]
    },
    {
      "cell_type": "code",
      "metadata": {
        "id": "1S8onlFOVrJ8",
        "colab_type": "code",
        "colab": {}
      },
      "source": [
        "with open('/content/Non_Scaled_June_July_Aug.bin','rb') as file:\n",
        "  f1 = pickle.load(file)\n",
        "with open('/content/Labels_June_July_Aug.bin','rb') as file:\n",
        "  l1 = pickle.load(file)\n",
        "with open('/content/NOVEMBER_non_scaled_features_withshadipur.bin','rb') as file:\n",
        "  f2 = pickle.load(file)\n",
        "with open('/content/labels_November_withshadipur.bin','rb') as file:\n",
        "  l2 = pickle.load(file)"
      ],
      "execution_count": 0,
      "outputs": []
    },
    {
      "cell_type": "code",
      "metadata": {
        "id": "ZIesP3n4Wwr0",
        "colab_type": "code",
        "colab": {
          "base_uri": "https://localhost:8080/",
          "height": 86
        },
        "outputId": "90e2f5e4-7a38-48f6-9476-b1c061131fc5"
      },
      "source": [
        "print(np.shape(f1))\n",
        "print(np.shape(l1))\n",
        "print(np.shape(f2))\n",
        "print(np.shape(l2))"
      ],
      "execution_count": 87,
      "outputs": [
        {
          "output_type": "stream",
          "text": [
            "(2471, 10)\n",
            "(2471, 10)\n",
            "(356, 10)\n",
            "(356, 1)\n"
          ],
          "name": "stdout"
        }
      ]
    },
    {
      "cell_type": "code",
      "metadata": {
        "id": "kWfkP34Wbyms",
        "colab_type": "code",
        "colab": {
          "base_uri": "https://localhost:8080/",
          "height": 34
        },
        "outputId": "aabaebeb-3bf4-4865-d734-2d5ddbbb55dd"
      },
      "source": [
        "print(np.shape(hours))"
      ],
      "execution_count": 138,
      "outputs": [
        {
          "output_type": "stream",
          "text": [
            "(541,)\n"
          ],
          "name": "stdout"
        }
      ]
    },
    {
      "cell_type": "code",
      "metadata": {
        "id": "oboQZqnmAATV",
        "colab_type": "code",
        "colab": {}
      },
      "source": [
        "final_shape=len(hours)\n",
        "\n",
        "#FEATURES \n",
        "\n",
        "trans= np.reshape(trans,(final_shape,1))\n",
        "hours = np.reshape(hours,(final_shape,1))\n",
        "cont = np.reshape(cont,(final_shape,1))\n",
        "ent = np.reshape(ent,(final_shape,1))\n",
        "hum = np.reshape(hum,(final_shape,1))\n",
        "pressure = np.reshape(pressure,(final_shape,1))\n",
        "tempr = np.reshape(tempr,(final_shape,1))\n",
        "deg = np.reshape(deg,(final_shape,1))\n",
        "speed = np.reshape(speed,(final_shape,1))\n",
        "prev = np.reshape(prev,(final_shape,1))\n",
        "\n",
        "\n",
        "features = np.hstack((hours, cont, ent , hum, tempr, deg, speed, pressure,trans,prev))\n",
        "\n",
        "print(max(hours))\n",
        "print(min(hours))\n",
        "\n",
        "\n",
        "print(max(cont))\n",
        "print(min(cont))\n",
        "\n",
        "\n",
        "print(max(ent))\n",
        "print(min(ent))\n",
        "\n",
        "\n",
        "print(max(hum))\n",
        "print(min(hum))\n",
        "\n",
        "\n",
        "print(max(tempr))\n",
        "print(min(tempr))\n",
        "\n",
        "\n",
        "print(max(deg))\n",
        "print(min(deg))\n",
        "\n",
        "\n",
        "print(max(speed))\n",
        "print(min(speed))\n",
        "\n",
        "\n",
        "print(max(pressure))\n",
        "print(min(pressure))\n",
        "\n",
        "\n",
        "print(max(trans))\n",
        "print(min(trans))\n",
        "\n",
        "print(max(prev))\n",
        "print(min(prev))\n",
        "\n",
        "with open('/content/Non_Scaled_June_July_Aug.bin','wb') as file:\n",
        "  pickle.dump(features, file)\n",
        "\n",
        "\n",
        "pm = np.reshape(pm,(final_shape,1))\n",
        "\n",
        "\n",
        "##SCALING \n",
        "\n",
        "s1 = MinMaxScaler()\n",
        "hours = s1.fit_transform(hours)\n",
        "s2 = MinMaxScaler()\n",
        "cont = s2.fit_transform(cont)\n",
        "s3 = MinMaxScaler()\n",
        "ent = s3.fit_transform(ent)\n",
        "s4 = MinMaxScaler()\n",
        "hum = s4.fit_transform(hum)\n",
        "s5 = MinMaxScaler()\n",
        "pressure = s5.fit_transform(pressure)\n",
        "s6 = MinMaxScaler()\n",
        "tempr = s6.fit_transform(tempr)\n",
        "s7 = MinMaxScaler()\n",
        "deg = s7.fit_transform(deg)\n",
        "s8 = MinMaxScaler()\n",
        "speed = s8.fit_transform(speed)\n",
        "s9 = MinMaxScaler()\n",
        "prev = s9.fit_transform(prev)\n",
        "\n",
        "\n",
        "\n",
        "\n",
        "with open('/content/S1.bin','wb') as file:\n",
        "  pickle.dump(s1,file)\n",
        "with open('/content/S2.bin','wb') as file:\n",
        "  pickle.dump(s2,file)\n",
        "with open('/content/S3.bin','wb') as file:\n",
        "  pickle.dump(s3,file)\n",
        "with open('/content/S4.bin','wb') as file:\n",
        "  pickle.dump(s4,file)\n",
        "with open('/content/S5.bin','wb') as file:\n",
        "  pickle.dump(s5,file)\n",
        "with open('/content/S6.bin','wb') as file:\n",
        "  pickle.dump(s6,file)\n",
        "with open('/content/S7.bin','wb') as file:\n",
        "  pickle.dump(s7,file)\n",
        "with open('/content/S8.bin','wb') as file:\n",
        "  pickle.dump(s8,file)\n",
        "  \n",
        "features = np.hstack((hours, cont, ent , hum, tempr, deg, speed, pressure,trans,prev))\n",
        "\n",
        "\n",
        "with open('/content/Scaled_June_July_Aug.bin','wb') as file:\n",
        "  pickle.dump(features, file)\n",
        "\n",
        "\n",
        "with open('/content/Labels_June_July_Aug.bin','wb') as file:\n",
        "  pickle.dump(pm, file)\n",
        "\n"
      ],
      "execution_count": 0,
      "outputs": []
    },
    {
      "cell_type": "code",
      "metadata": {
        "id": "Xb4K-MmlS5K5",
        "colab_type": "code",
        "colab": {}
      },
      "source": [
        "with open('/content/Non_Scaled_June_July_Aug.bin','rb') as file:\n",
        "  data = pickle.load(file)\n",
        "  \n",
        "  \n"
      ],
      "execution_count": 0,
      "outputs": []
    },
    {
      "cell_type": "code",
      "metadata": {
        "id": "7h2PK2maYQyy",
        "colab_type": "code",
        "colab": {
          "base_uri": "https://localhost:8080/",
          "height": 34
        },
        "outputId": "bab57df8-7c53-41e8-b251-69f5d10c92d5"
      },
      "source": [
        "print(np.shape(pm))"
      ],
      "execution_count": 88,
      "outputs": [
        {
          "output_type": "stream",
          "text": [
            "(2471, 1)\n"
          ],
          "name": "stdout"
        }
      ]
    },
    {
      "cell_type": "code",
      "metadata": {
        "id": "ZI2xIWJPJBzp",
        "colab_type": "code",
        "colab": {}
      },
      "source": [
        "print(type(trans))\n",
        "print(type(hours))\n",
        "print(type(cont))\n",
        "print(type(ent))\n",
        "print(type(hum))\n",
        "print(type(pressure))\n",
        "print(type(tempr))\n",
        "print(type(deg))\n",
        "print(type(speed))\n",
        "print(type(prev))"
      ],
      "execution_count": 0,
      "outputs": []
    },
    {
      "cell_type": "markdown",
      "metadata": {
        "id": "7le8yoYzqPt_",
        "colab_type": "text"
      },
      "source": [
        "INCLUDING NOVEMBER DATA "
      ]
    },
    {
      "cell_type": "code",
      "metadata": {
        "id": "mNKZISAjqTii",
        "colab_type": "code",
        "colab": {}
      },
      "source": [
        "with open('/content/features_November_w.bin','rb') as file:\n",
        "    nov_f = pickle.load(file)\n",
        "\n",
        "with open('/content/labels_November_w.bin','rb') as file:\n",
        "    nov_l = pickle.load(file)"
      ],
      "execution_count": 0,
      "outputs": []
    },
    {
      "cell_type": "code",
      "metadata": {
        "id": "sgnC8P8xrVKq",
        "colab_type": "code",
        "outputId": "38af61f2-652c-43f0-d2c1-286602457eb3",
        "colab": {
          "base_uri": "https://localhost:8080/",
          "height": 137
        }
      },
      "source": [
        "print(features)"
      ],
      "execution_count": 0,
      "outputs": [
        {
          "output_type": "stream",
          "text": [
            "[[0.33333333 0.14261257 0.30079014 ... 0.81818182 1.         0.20111732]\n",
            " [0.33333333 0.13209703 0.29103081 ... 0.81818182 1.         0.20111732]\n",
            " [0.41666667 0.77718964 0.66622735 ... 0.81818182 1.         0.20111732]\n",
            " ...\n",
            " [0.66666667 0.65664912 0.80258119 ... 0.36363636 2.         0.09497207]\n",
            " [0.75       0.64366259 0.79403046 ... 0.27272727 2.         0.10055866]\n",
            " [0.83333333 0.63186524 0.89162179 ... 0.27272727 2.         0.10055866]]\n"
          ],
          "name": "stdout"
        }
      ]
    },
    {
      "cell_type": "code",
      "metadata": {
        "id": "H3bhnctPrXwT",
        "colab_type": "code",
        "outputId": "9cdb94e4-802e-4a0c-d42f-500629c67318",
        "colab": {
          "base_uri": "https://localhost:8080/",
          "height": 137
        }
      },
      "source": [
        "print(nov_f)"
      ],
      "execution_count": 0,
      "outputs": [
        {
          "output_type": "stream",
          "text": [
            "[[0.         0.9929962  0.75184617 ... 0.33333333 1.         1.        ]\n",
            " [0.         1.         0.75691279 ... 0.33333333 1.         1.        ]\n",
            " [0.1        0.89421312 0.90078112 ... 0.66666667 1.         1.        ]\n",
            " ...\n",
            " [0.9        0.6243114  0.42114606 ... 0.         4.         0.        ]\n",
            " [0.9        0.62568304 0.42620236 ... 0.         4.         0.        ]\n",
            " [1.         0.68680941 0.40493424 ... 0.         4.         0.02212389]]\n"
          ],
          "name": "stdout"
        }
      ]
    },
    {
      "cell_type": "code",
      "metadata": {
        "id": "fILmFq4Urao3",
        "colab_type": "code",
        "outputId": "4b455d6b-352f-4c67-e453-d6e0170473a3",
        "colab": {
          "base_uri": "https://localhost:8080/",
          "height": 34
        }
      },
      "source": [
        "final_features = np.vstack((features,nov_f))\n",
        "print(len(final_features))"
      ],
      "execution_count": 0,
      "outputs": [
        {
          "output_type": "stream",
          "text": [
            "2753\n"
          ],
          "name": "stdout"
        }
      ]
    },
    {
      "cell_type": "code",
      "metadata": {
        "id": "rgHiZ8cirpVS",
        "colab_type": "code",
        "colab": {}
      },
      "source": [
        "final_pm = np.vstack((pm,nov_l))"
      ],
      "execution_count": 0,
      "outputs": []
    },
    {
      "cell_type": "code",
      "metadata": {
        "id": "gxWD4Jjvr0md",
        "colab_type": "code",
        "outputId": "f51a701f-1989-4471-fa87-a81b70598f99",
        "colab": {
          "base_uri": "https://localhost:8080/",
          "height": 34
        }
      },
      "source": [
        "print(len(final_pm))"
      ],
      "execution_count": 0,
      "outputs": [
        {
          "output_type": "stream",
          "text": [
            "2753\n"
          ],
          "name": "stdout"
        }
      ]
    },
    {
      "cell_type": "code",
      "metadata": {
        "id": "hFmu5z1pum9K",
        "colab_type": "code",
        "colab": {}
      },
      "source": [
        "with open('/content/featuresFinal_withNOV.bin','wb') as file:\n",
        "  pickle.dump(final_features,file)\n",
        "with open('/content/labelsFinal_withNOV.bin','wb') as file:\n",
        "  pickle.dump(final_pm,file)"
      ],
      "execution_count": 0,
      "outputs": []
    },
    {
      "cell_type": "code",
      "metadata": {
        "id": "oGezNp9f-nIH",
        "colab_type": "code",
        "outputId": "3b28794e-aec5-4d91-b7ab-aee8a0a0fb11",
        "colab": {
          "base_uri": "https://localhost:8080/",
          "height": 86
        }
      },
      "source": [
        "print(type(final_features))\n",
        "print(type(final_pm))\n",
        "print(len(final_features))\n",
        "print(len(final_pm))"
      ],
      "execution_count": 0,
      "outputs": [
        {
          "output_type": "stream",
          "text": [
            "<class 'numpy.ndarray'>\n",
            "<class 'numpy.ndarray'>\n",
            "2753\n",
            "2753\n"
          ],
          "name": "stdout"
        }
      ]
    },
    {
      "cell_type": "code",
      "metadata": {
        "id": "mUAhqwnRQMg8",
        "colab_type": "code",
        "colab": {}
      },
      "source": [
        "final_features = list(map(np.float32,final_features))\n",
        "final_pm = list(map(np.float32,final_pm))"
      ],
      "execution_count": 0,
      "outputs": []
    },
    {
      "cell_type": "code",
      "metadata": {
        "id": "U43D3JiECfXT",
        "colab_type": "code",
        "outputId": "ff690a02-af95-48e3-b986-5792cc3da8a5",
        "colab": {
          "base_uri": "https://localhost:8080/",
          "height": 282
        }
      },
      "source": [
        "lineareg = LinearRegression(normalize =False)\n",
        "cross = cross_val_score(lineareg, final_features,final_pm, scoring ='neg_mean_absolute_error',cv=3)\n",
        "x_train, x_test, y_train, y_test = train_test_split(final_features, final_pm, test_size =0.3, random_state =42)\n",
        "lineareg.fit(x_train, y_train)\n",
        "pred = lineareg.predict(x_test)\n",
        "plt.plot(pred)\n",
        "plt.plot(y_test)\n",
        "print(mean_absolute_error(pred, y_test))\n"
      ],
      "execution_count": 0,
      "outputs": [
        {
          "output_type": "stream",
          "text": [
            "46.2986\n"
          ],
          "name": "stdout"
        },
        {
          "output_type": "display_data",
          "data": {
            "image/png": "[encoded data removed]",
            "text/plain": [
              "<Figure size 432x288 with 1 Axes>"
            ]
          },
          "metadata": {
            "tags": []
          }
        }
      ]
    },
    {
      "cell_type": "code",
      "metadata": {
        "id": "MbRzic2oEa88",
        "colab_type": "code",
        "colab": {}
      },
      "source": [
        "with open('/content/LR_prevpm.bin','wb') as file:\n",
        "  pickle.dump(lineareg,file)\n",
        "\n"
      ],
      "execution_count": 0,
      "outputs": []
    },
    {
      "cell_type": "code",
      "metadata": {
        "id": "H_K8d837DeMO",
        "colab_type": "code",
        "outputId": "7fd96e04-059e-4659-d541-2bb9e8d0a09f",
        "colab": {
          "base_uri": "https://localhost:8080/",
          "height": 34
        }
      },
      "source": [
        "print(((-1)*cross))"
      ],
      "execution_count": 0,
      "outputs": [
        {
          "output_type": "stream",
          "text": [
            "[ 84.44548798  41.00475693 171.53143311]\n"
          ],
          "name": "stdout"
        }
      ]
    },
    {
      "cell_type": "code",
      "metadata": {
        "id": "6PIOW4xFDi3g",
        "colab_type": "code",
        "outputId": "ff426a71-25b7-4ca8-f109-d16c96c2f8e2",
        "colab": {
          "base_uri": "https://localhost:8080/",
          "height": 1000
        }
      },
      "source": [
        "d=[]\n",
        "for i in range(0,len(pred)):\n",
        "  print(str(y_test[i]) +'\\t'+ str(pred[i]))\n",
        "  k=y_test[i]-pred[i]\n",
        "  if(k>=20):\n",
        "    d.append(k)\n"
      ],
      "execution_count": 0,
      "outputs": [
        {
          "output_type": "stream",
          "text": [
            "[697.]\t[440.60077]\n",
            "[39.]\t[56.08667]\n",
            "[65.55]\t[3.9496994]\n",
            "[61.]\t[25.536259]\n",
            "[46.68]\t[16.369545]\n",
            "[53.45]\t[52.24951]\n",
            "[35.]\t[35.979145]\n",
            "[40.]\t[9.744171]\n",
            "[35.]\t[0.39925385]\n",
            "[31.09]\t[-22.951439]\n",
            "[28.6]\t[49.29493]\n",
            "[27.]\t[77.75383]\n",
            "[180.]\t[148.2232]\n",
            "[260.]\t[105.83392]\n",
            "[40.84]\t[-20.524635]\n",
            "[40.]\t[35.12015]\n",
            "[260.]\t[118.58257]\n",
            "[431.]\t[597.78107]\n",
            "[63.]\t[96.388275]\n",
            "[57.]\t[53.220207]\n",
            "[73.]\t[82.39104]\n",
            "[44.]\t[50.552345]\n",
            "[34.16]\t[-11.384201]\n",
            "[39.]\t[67.29953]\n",
            "[94.]\t[76.51827]\n",
            "[32.81]\t[6.20829]\n",
            "[56.85]\t[30.962776]\n",
            "[46.]\t[30.589462]\n",
            "[32.81]\t[18.4006]\n",
            "[729.]\t[504.4531]\n",
            "[44.]\t[72.465706]\n",
            "[74.]\t[162.1311]\n",
            "[44.]\t[31.692978]\n",
            "[180.]\t[281.3882]\n",
            "[29.]\t[36.29456]\n",
            "[44.]\t[85.47189]\n",
            "[27.]\t[-13.696571]\n",
            "[41.]\t[-15.966911]\n",
            "[56.]\t[16.986275]\n",
            "[66.]\t[49.220474]\n",
            "[48.]\t[24.01986]\n",
            "[44.67]\t[5.678154]\n",
            "[57.]\t[101.683205]\n",
            "[75.]\t[145.55807]\n",
            "[31.93]\t[-39.650536]\n",
            "[50.]\t[117.994415]\n",
            "[54.78]\t[27.371208]\n",
            "[42.2]\t[105.03793]\n",
            "[41.]\t[18.75579]\n",
            "[56.]\t[61.71261]\n",
            "[61.]\t[130.69226]\n",
            "[60.88]\t[6.4433517]\n",
            "[44.]\t[76.21222]\n",
            "[44.8]\t[68.543076]\n",
            "[48.]\t[84.91947]\n",
            "[729.]\t[507.2148]\n",
            "[40.39]\t[34.36411]\n",
            "[48.59]\t[11.632927]\n",
            "[38.]\t[46.95405]\n",
            "[57.]\t[96.22987]\n",
            "[56.]\t[61.32588]\n",
            "[100.]\t[119.61674]\n",
            "[190.]\t[249.5853]\n",
            "[32.]\t[121.13918]\n",
            "[63.]\t[50.27465]\n",
            "[72.]\t[88.04381]\n",
            "[46.]\t[28.473976]\n",
            "[729.]\t[497.0003]\n",
            "[39.]\t[71.0352]\n",
            "[41.]\t[31.442333]\n",
            "[621.]\t[477.31598]\n",
            "[55.55]\t[3.0360184]\n",
            "[60.88]\t[9.255714]\n",
            "[40.]\t[-19.624367]\n",
            "[35.]\t[148.53769]\n",
            "[55.]\t[122.99244]\n",
            "[31.68]\t[22.046597]\n",
            "[431.]\t[454.6245]\n",
            "[62.]\t[41.1296]\n",
            "[73.]\t[132.62665]\n",
            "[45.]\t[24.455883]\n",
            "[40.]\t[39.68825]\n",
            "[41.]\t[22.511326]\n",
            "[431.]\t[428.01154]\n",
            "[20.]\t[69.06467]\n",
            "[41.]\t[39.259506]\n",
            "[46.68]\t[107.37146]\n",
            "[45.]\t[22.452099]\n",
            "[36.]\t[26.419025]\n",
            "[51.]\t[65.45791]\n",
            "[24.27]\t[63.833775]\n",
            "[45.1]\t[107.78223]\n",
            "[24.]\t[-32.588478]\n",
            "[23.]\t[46.701046]\n",
            "[88.]\t[93.51959]\n",
            "[44.3]\t[64.48563]\n",
            "[41.7]\t[89.10169]\n",
            "[91.]\t[217.83487]\n",
            "[41.]\t[70.5141]\n",
            "[40.]\t[8.844261]\n",
            "[44.02]\t[9.606422]\n",
            "[190.]\t[269.5205]\n",
            "[42.5]\t[115.00874]\n",
            "[621.]\t[520.8451]\n",
            "[46.]\t[64.93257]\n",
            "[580.]\t[531.7828]\n",
            "[44.]\t[37.759163]\n",
            "[84.]\t[94.21738]\n",
            "[55.]\t[47.01348]\n",
            "[40.]\t[16.460556]\n",
            "[43.3]\t[111.27715]\n",
            "[47.]\t[272.4988]\n",
            "[45.2]\t[49.545425]\n",
            "[94.]\t[172.36697]\n",
            "[44.]\t[47.74183]\n",
            "[53.]\t[88.09174]\n",
            "[46.]\t[28.206543]\n",
            "[63.28]\t[16.594597]\n",
            "[46.]\t[23.488632]\n",
            "[42.7]\t[79.27635]\n",
            "[43.5]\t[106.2059]\n",
            "[65.55]\t[2.8340378]\n",
            "[57.]\t[-13.156822]\n",
            "[50.]\t[18.41816]\n",
            "[60.]\t[95.79901]\n",
            "[621.]\t[606.9297]\n",
            "[34.7]\t[17.723816]\n",
            "[580.]\t[529.12897]\n",
            "[44.02]\t[24.265907]\n",
            "[26.]\t[-29.4505]\n",
            "[24.17]\t[9.133354]\n",
            "[27.]\t[74.55618]\n",
            "[44.]\t[17.283512]\n",
            "[50.]\t[117.16431]\n",
            "[525.]\t[467.84296]\n",
            "[50.9]\t[30.809448]\n",
            "[29.]\t[67.397415]\n",
            "[60.]\t[133.7348]\n",
            "[29.]\t[78.174805]\n",
            "[54.78]\t[25.855572]\n",
            "[94.]\t[120.31217]\n",
            "[260.]\t[108.159035]\n",
            "[190.]\t[255.5517]\n",
            "[24.]\t[-27.276985]\n",
            "[75.]\t[166.59401]\n",
            "[73.]\t[132.63605]\n",
            "[44.]\t[55.56597]\n",
            "[33.56]\t[12.189888]\n",
            "[24.27]\t[-0.58802795]\n",
            "[63.28]\t[41.43328]\n",
            "[48.3]\t[89.42831]\n",
            "[60.88]\t[19.504463]\n",
            "[105.]\t[197.1062]\n",
            "[67.]\t[151.97638]\n",
            "[46.]\t[23.849648]\n",
            "[33.56]\t[3.46418]\n",
            "[31.]\t[-34.15011]\n",
            "[190.]\t[241.05286]\n",
            "[62.]\t[48.367546]\n",
            "[57.]\t[16.747692]\n",
            "[44.]\t[50.859165]\n",
            "[66.]\t[215.91364]\n",
            "[39.]\t[70.03778]\n",
            "[26.]\t[-34.43255]\n",
            "[41.]\t[2.2290726]\n",
            "[35.58]\t[-7.4974747]\n",
            "[41.7]\t[96.63853]\n",
            "[63.]\t[57.696495]\n",
            "[729.]\t[566.84454]\n",
            "[50.]\t[103.887955]\n",
            "[27.44]\t[-31.908005]\n",
            "[44.]\t[25.638985]\n",
            "[44.]\t[96.30414]\n",
            "[190.]\t[248.22562]\n",
            "[40.]\t[19.566406]\n",
            "[78.]\t[7.6751785]\n",
            "[66.88]\t[-4.1789017]\n",
            "[29.]\t[195.32263]\n",
            "[63.]\t[83.24261]\n",
            "[29.]\t[-3.0159988]\n",
            "[45.]\t[63.30363]\n",
            "[35.]\t[10.129799]\n",
            "[27.]\t[5.5800476]\n",
            "[34.95]\t[10.404564]\n",
            "[63.28]\t[20.699547]\n",
            "[23.]\t[-46.372627]\n",
            "[44.]\t[49.914104]\n",
            "[35.]\t[29.882938]\n",
            "[52.33]\t[52.915947]\n",
            "[44.8]\t[41.380375]\n",
            "[61.]\t[64.69507]\n",
            "[46.]\t[30.003548]\n",
            "[41.]\t[-9.277603]\n",
            "[103.]\t[95.91364]\n",
            "[24.]\t[-13.871613]\n",
            "[42.]\t[99.13933]\n",
            "[56.]\t[51.45112]\n",
            "[89.]\t[136.65556]\n",
            "[63.]\t[100.106606]\n",
            "[53.]\t[81.68583]\n",
            "[94.]\t[60.171135]\n",
            "[31.93]\t[-33.337883]\n",
            "[81.1]\t[65.64114]\n",
            "[46.]\t[66.6167]\n",
            "[45.]\t[95.20463]\n",
            "[55.]\t[31.299026]\n",
            "[39.]\t[49.412514]\n",
            "[48.]\t[14.561043]\n",
            "[92.]\t[308.3276]\n",
            "[45.2]\t[86.80538]\n",
            "[44.]\t[54.392967]\n",
            "[32.]\t[275.67456]\n",
            "[621.]\t[531.04285]\n",
            "[24.27]\t[62.248966]\n",
            "[40.]\t[31.598904]\n",
            "[729.]\t[532.64923]\n",
            "[51.]\t[34.528816]\n",
            "[41.]\t[13.906666]\n",
            "[23.]\t[82.641495]\n",
            "[45.67]\t[19.702236]\n",
            "[44.]\t[61.438835]\n",
            "[31.41]\t[-31.086105]\n",
            "[75.]\t[74.47368]\n",
            "[621.]\t[469.74908]\n",
            "[580.]\t[530.48395]\n",
            "[38.]\t[119.69702]\n",
            "[52.23]\t[24.76915]\n",
            "[85.]\t[150.93213]\n",
            "[729.]\t[504.5924]\n",
            "[45.7]\t[72.61344]\n",
            "[580.]\t[527.0351]\n",
            "[39.]\t[-22.579094]\n",
            "[91.]\t[100.22745]\n",
            "[44.]\t[55.057693]\n",
            "[36.64]\t[5.2011337]\n",
            "[62.]\t[51.188072]\n",
            "[45.2]\t[98.79222]\n",
            "[44.]\t[103.95433]\n",
            "[27.]\t[-10.159927]\n",
            "[38.]\t[35.472706]\n",
            "[74.]\t[124.25635]\n",
            "[62.]\t[49.770355]\n",
            "[30.]\t[138.7558]\n",
            "[45.]\t[17.34959]\n",
            "[24.17]\t[0.45212555]\n",
            "[27.]\t[-1.7155228]\n",
            "[17.]\t[-4.348755]\n",
            "[32.]\t[86.03032]\n",
            "[39.]\t[-8.565819]\n",
            "[31.09]\t[-3.61866]\n",
            "[35.]\t[30.085964]\n",
            "[44.]\t[-5.604088]\n",
            "[39.]\t[55.741066]\n",
            "[50.]\t[141.103]\n",
            "[33.52]\t[-23.234367]\n",
            "[52.23]\t[2.6109238]\n",
            "[44.]\t[100.42833]\n",
            "[44.]\t[44.55211]\n",
            "[35.]\t[30.224392]\n",
            "[75.]\t[158.59937]\n",
            "[23.]\t[-26.661507]\n",
            "[729.]\t[568.9364]\n",
            "[67.]\t[67.67034]\n",
            "[66.]\t[20.671959]\n",
            "[697.]\t[486.6236]\n",
            "[48.]\t[59.14126]\n",
            "[50.9]\t[23.0475]\n",
            "[56.]\t[92.23214]\n",
            "[63.41]\t[35.55979]\n",
            "[41.]\t[30.42384]\n",
            "[44.]\t[35.936012]\n",
            "[46.]\t[54.561302]\n",
            "[81.1]\t[75.9019]\n",
            "[45.]\t[121.770676]\n",
            "[57.]\t[63.34718]\n",
            "[55.5]\t[66.27009]\n",
            "[48.]\t[23.385078]\n",
            "[39.]\t[67.962875]\n",
            "[44.]\t[105.176315]\n",
            "[73.]\t[131.74823]\n",
            "[41.63]\t[105.960495]\n",
            "[66.88]\t[12.304039]\n",
            "[580.]\t[534.33044]\n",
            "[41.6]\t[119.807755]\n",
            "[47.]\t[115.90199]\n",
            "[729.]\t[520.21204]\n",
            "[44.]\t[57.330093]\n",
            "[24.]\t[-6.682411]\n",
            "[44.]\t[35.865936]\n",
            "[42.5]\t[108.698456]\n",
            "[34.16]\t[-12.623856]\n",
            "[180.]\t[259.64426]\n",
            "[31.]\t[-16.08677]\n",
            "[63.41]\t[12.760963]\n",
            "[32.]\t[42.35166]\n",
            "[56.]\t[106.84484]\n",
            "[78.]\t[-21.914925]\n",
            "[53.]\t[114.913345]\n",
            "[17.]\t[-18.812202]\n",
            "[91.]\t[201.307]\n",
            "[62.]\t[47.13272]\n",
            "[431.]\t[454.68597]\n",
            "[580.]\t[539.2482]\n",
            "[62.]\t[59.99498]\n",
            "[63.]\t[131.96783]\n",
            "[43.27]\t[-4.6976013]\n",
            "[52.23]\t[13.483299]\n",
            "[17.]\t[-16.764305]\n",
            "[53.67]\t[105.71628]\n",
            "[56.]\t[57.598137]\n",
            "[72.]\t[126.3547]\n",
            "[54.78]\t[28.160622]\n",
            "[17.]\t[-5.867111]\n",
            "[51.]\t[40.36695]\n",
            "[63.12]\t[22.949791]\n",
            "[54.1]\t[49.854446]\n",
            "[44.]\t[25.861145]\n",
            "[525.]\t[471.2673]\n",
            "[45.]\t[182.40732]\n",
            "[20.]\t[-32.323242]\n",
            "[66.]\t[98.23988]\n",
            "[41.]\t[61.25146]\n",
            "[53.]\t[87.558105]\n",
            "[103.]\t[55.19494]\n",
            "[42.2]\t[107.53264]\n",
            "[46.]\t[53.99695]\n",
            "[24.17]\t[34.108826]\n",
            "[79.49]\t[46.084427]\n",
            "[580.]\t[535.84143]\n",
            "[66.]\t[106.283455]\n",
            "[44.]\t[-8.296944]\n",
            "[44.]\t[52.40452]\n",
            "[27.]\t[-6.130768]\n",
            "[51.]\t[36.16337]\n",
            "[69.]\t[137.84488]\n",
            "[53.67]\t[103.91574]\n",
            "[26.14]\t[41.148052]\n",
            "[729.]\t[663.08826]\n",
            "[90.]\t[209.51181]\n",
            "[431.]\t[441.31653]\n",
            "[729.]\t[662.65845]\n",
            "[81.2]\t[94.690475]\n",
            "[56.]\t[35.035866]\n",
            "[63.]\t[95.66319]\n",
            "[65.12]\t[0.36670685]\n",
            "[105.]\t[142.81317]\n",
            "[51.]\t[54.909706]\n",
            "[56.]\t[104.13611]\n",
            "[32.]\t[38.789547]\n",
            "[67.24]\t[56.77211]\n",
            "[43.01]\t[25.080414]\n",
            "[44.]\t[64.01263]\n",
            "[74.]\t[121.22213]\n",
            "[44.]\t[56.98833]\n",
            "[621.]\t[603.7588]\n",
            "[50.9]\t[27.767448]\n",
            "[29.]\t[30.87495]\n",
            "[44.]\t[47.977837]\n",
            "[55.]\t[124.02507]\n",
            "[40.]\t[-1.3261337]\n",
            "[17.]\t[-34.838722]\n",
            "[20.]\t[0.14919281]\n",
            "[44.02]\t[22.697212]\n",
            "[31.93]\t[-38.04409]\n",
            "[44.8]\t[45.572834]\n",
            "[47.43]\t[46.58378]\n",
            "[41.]\t[84.7827]\n",
            "[63.]\t[128.4949]\n",
            "[56.]\t[60.934883]\n",
            "[39.]\t[-4.606865]\n",
            "[146.]\t[166.23264]\n",
            "[42.2]\t[114.44998]\n",
            "[30.]\t[-17.615913]\n",
            "[45.]\t[33.48843]\n",
            "[74.]\t[148.5871]\n",
            "[52.53]\t[13.96331]\n",
            "[32.97]\t[18.383472]\n",
            "[56.]\t[48.534554]\n",
            "[94.]\t[69.88855]\n",
            "[37.74]\t[94.088806]\n",
            "[580.]\t[528.82623]\n",
            "[27.]\t[-10.556328]\n",
            "[66.9]\t[81.09361]\n",
            "[75.]\t[151.2691]\n",
            "[65.12]\t[46.79952]\n",
            "[32.]\t[91.02046]\n",
            "[20.]\t[223.5274]\n",
            "[46.27]\t[21.599052]\n",
            "[44.]\t[24.781078]\n",
            "[76.]\t[83.12794]\n",
            "[29.]\t[56.83458]\n",
            "[621.]\t[526.37695]\n",
            "[29.]\t[43.63936]\n",
            "[94.]\t[110.9851]\n",
            "[46.]\t[68.535065]\n",
            "[63.]\t[95.321365]\n",
            "[30.]\t[-5.9950943]\n",
            "[74.]\t[125.10841]\n",
            "[29.]\t[122.72536]\n",
            "[41.]\t[34.13909]\n",
            "[38.]\t[49.15969]\n",
            "[36.]\t[42.819324]\n",
            "[45.2]\t[26.107487]\n",
            "[48.]\t[-32.577232]\n",
            "[62.]\t[25.571236]\n",
            "[44.]\t[62.798748]\n",
            "[58.]\t[122.93985]\n",
            "[30.]\t[-19.510918]\n",
            "[64.]\t[47.760506]\n",
            "[85.16]\t[94.47194]\n",
            "[29.]\t[18.673325]\n",
            "[56.]\t[45.449333]\n",
            "[24.]\t[1.701683]\n",
            "[41.]\t[15.566341]\n",
            "[43.3]\t[117.33855]\n",
            "[180.]\t[139.08145]\n",
            "[48.]\t[-22.397041]\n",
            "[62.]\t[26.189476]\n",
            "[39.]\t[101.397835]\n",
            "[36.]\t[26.678013]\n",
            "[60.]\t[138.47977]\n",
            "[29.]\t[116.366714]\n",
            "[525.]\t[538.5629]\n",
            "[580.]\t[482.4956]\n",
            "[621.]\t[474.1523]\n",
            "[63.41]\t[21.357048]\n",
            "[74.]\t[114.61659]\n",
            "[45.]\t[197.57703]\n",
            "[729.]\t[656.5099]\n",
            "[61.]\t[138.39584]\n",
            "[180.]\t[156.54295]\n",
            "[50.2]\t[60.54059]\n",
            "[53.45]\t[52.316017]\n",
            "[41.]\t[57.380173]\n",
            "[34.71]\t[-11.432991]\n",
            "[34.7]\t[12.130211]\n",
            "[56.85]\t[15.232613]\n",
            "[75.]\t[161.13464]\n",
            "[41.]\t[55.810295]\n",
            "[39.85]\t[6.3124313]\n",
            "[63.]\t[46.753136]\n",
            "[431.]\t[458.7399]\n",
            "[27.]\t[-11.31221]\n",
            "[38.]\t[43.906425]\n",
            "[525.]\t[420.33154]\n",
            "[102.]\t[205.74686]\n",
            "[180.]\t[279.8154]\n",
            "[17.]\t[-16.462791]\n",
            "[48.]\t[65.60313]\n",
            "[81.]\t[46.66861]\n",
            "[36.]\t[42.416172]\n",
            "[14.]\t[4.5928574]\n",
            "[66.]\t[37.762707]\n",
            "[20.]\t[-13.109093]\n",
            "[92.]\t[305.7855]\n",
            "[44.02]\t[23.815163]\n",
            "[63.]\t[125.190926]\n",
            "[36.64]\t[40.01897]\n",
            "[43.74]\t[-24.481743]\n",
            "[48.59]\t[-0.19498444]\n",
            "[46.]\t[44.647324]\n",
            "[39.]\t[-10.291191]\n",
            "[729.]\t[505.3695]\n",
            "[580.]\t[536.5625]\n",
            "[45.]\t[28.494064]\n",
            "[63.]\t[11.093369]\n",
            "[72.]\t[63.68342]\n",
            "[42.7]\t[70.7124]\n",
            "[67.]\t[136.08759]\n",
            "[40.39]\t[28.745205]\n",
            "[66.]\t[80.93095]\n",
            "[44.]\t[54.81089]\n",
            "[431.]\t[461.951]\n",
            "[38.]\t[34.04232]\n",
            "[431.]\t[462.9718]\n",
            "[51.]\t[209.75769]\n",
            "[27.12]\t[49.62683]\n",
            "[34.95]\t[0.7744522]\n",
            "[63.28]\t[14.885017]\n",
            "[27.]\t[-4.252449]\n",
            "[38.]\t[62.468044]\n",
            "[35.]\t[7.9171677]\n",
            "[52.53]\t[32.48027]\n",
            "[36.]\t[41.524006]\n",
            "[52.23]\t[-11.113197]\n",
            "[75.]\t[155.78586]\n",
            "[81.1]\t[74.44029]\n",
            "[621.]\t[476.33838]\n",
            "[55.7]\t[28.059196]\n",
            "[43.5]\t[106.26164]\n",
            "[41.63]\t[67.36102]\n",
            "[32.81]\t[3.9242477]\n",
            "[44.]\t[23.04041]\n",
            "[32.81]\t[-2.0923843]\n",
            "[36.69]\t[-24.258934]\n",
            "[32.]\t[43.129574]\n",
            "[48.59]\t[14.46788]\n",
            "[55.]\t[40.773705]\n",
            "[58.4]\t[41.327736]\n",
            "[31.93]\t[-31.708992]\n",
            "[45.]\t[104.983635]\n",
            "[729.]\t[518.324]\n",
            "[47.]\t[10.057343]\n",
            "[35.67]\t[-24.648018]\n",
            "[38.]\t[57.332523]\n",
            "[31.09]\t[30.119656]\n",
            "[46.]\t[4.759926]\n",
            "[41.6]\t[101.54553]\n",
            "[43.2]\t[103.016525]\n",
            "[36.]\t[23.223537]\n",
            "[525.]\t[472.78983]\n",
            "[50.]\t[94.00734]\n",
            "[37.74]\t[78.9586]\n",
            "[53.]\t[113.80809]\n",
            "[621.]\t[527.5446]\n",
            "[32.]\t[75.530426]\n",
            "[42.5]\t[112.704285]\n",
            "[20.]\t[49.85889]\n",
            "[43.8]\t[105.835556]\n",
            "[88.]\t[84.25629]\n",
            "[35.77]\t[52.802254]\n",
            "[44.]\t[76.69958]\n",
            "[729.]\t[521.07697]\n",
            "[17.]\t[-12.32251]\n",
            "[43.5]\t[63.570774]\n",
            "[103.]\t[121.60223]\n",
            "[57.]\t[49.711205]\n",
            "[92.]\t[325.74014]\n",
            "[55.6]\t[46.61106]\n",
            "[38.]\t[34.67727]\n",
            "[39.]\t[71.16402]\n",
            "[24.18]\t[-2.0369873]\n",
            "[42.31]\t[92.256516]\n",
            "[66.]\t[104.54852]\n",
            "[729.]\t[504.3001]\n",
            "[69.]\t[75.42955]\n",
            "[63.1]\t[64.70971]\n",
            "[44.]\t[100.52731]\n",
            "[42.29]\t[30.956367]\n",
            "[42.31]\t[91.133965]\n",
            "[23.]\t[46.34956]\n",
            "[56.]\t[89.59701]\n",
            "[279.]\t[-18.569557]\n",
            "[431.]\t[447.68103]\n",
            "[81.]\t[42.963444]\n",
            "[41.]\t[26.836006]\n",
            "[29.]\t[0.22544098]\n",
            "[46.]\t[18.305984]\n",
            "[190.]\t[236.38284]\n",
            "[44.]\t[-34.181084]\n",
            "[11.]\t[0.9108963]\n",
            "[729.]\t[662.6177]\n",
            "[50.]\t[37.052536]\n",
            "[65.55]\t[-9.81559]\n",
            "[48.]\t[10.509987]\n",
            "[44.]\t[46.68115]\n",
            "[24.17]\t[40.69243]\n",
            "[35.]\t[29.52634]\n",
            "[44.]\t[18.331139]\n",
            "[46.]\t[3.1623764]\n",
            "[99.]\t[119.21109]\n",
            "[35.]\t[16.024174]\n",
            "[53.32]\t[35.441628]\n",
            "[31.09]\t[23.662586]\n",
            "[27.]\t[58.259636]\n",
            "[56.]\t[48.475304]\n",
            "[52.33]\t[21.851223]\n",
            "[66.]\t[103.70479]\n",
            "[66.]\t[93.86222]\n",
            "[81.2]\t[121.69217]\n",
            "[74.]\t[120.400345]\n",
            "[81.2]\t[103.27832]\n",
            "[27.]\t[-6.5227356]\n",
            "[23.]\t[9.584343]\n",
            "[431.]\t[466.19073]\n",
            "[28.77]\t[-6.5263824]\n",
            "[102.]\t[190.42896]\n",
            "[44.8]\t[40.42484]\n",
            "[39.]\t[89.734116]\n",
            "[43.2]\t[102.70805]\n",
            "[51.]\t[35.922623]\n",
            "[44.58]\t[4.866081]\n",
            "[46.]\t[19.424698]\n",
            "[66.]\t[77.700676]\n",
            "[56.]\t[11.255516]\n",
            "[46.]\t[66.32077]\n",
            "[44.]\t[28.388584]\n",
            "[621.]\t[470.43555]\n",
            "[44.]\t[24.27206]\n",
            "[46.]\t[43.26124]\n",
            "[61.42]\t[22.199837]\n",
            "[48.59]\t[19.080795]\n",
            "[63.]\t[58.74128]\n",
            "[14.]\t[2.9168015]\n",
            "[55.]\t[85.16437]\n",
            "[46.]\t[9.80117]\n",
            "[105.]\t[200.79132]\n",
            "[66.]\t[40.64307]\n",
            "[24.]\t[-9.502617]\n",
            "[39.]\t[31.97393]\n",
            "[45.]\t[119.865814]\n",
            "[48.]\t[-22.928429]\n",
            "[23.]\t[67.71274]\n",
            "[40.]\t[5.7442093]\n",
            "[66.88]\t[55.484985]\n",
            "[44.]\t[41.864277]\n",
            "[23.]\t[84.22522]\n",
            "[24.17]\t[4.432762]\n",
            "[697.]\t[355.62247]\n",
            "[31.09]\t[28.332455]\n",
            "[53.16]\t[36.253883]\n",
            "[44.]\t[51.202652]\n",
            "[30.]\t[-32.814278]\n",
            "[42.8]\t[90.7726]\n",
            "[63.]\t[50.527348]\n",
            "[45.]\t[111.5904]\n",
            "[53.]\t[109.33577]\n",
            "[81.2]\t[109.60048]\n",
            "[621.]\t[526.0437]\n",
            "[66.]\t[48.85289]\n",
            "[41.3]\t[98.41269]\n",
            "[41.63]\t[91.78853]\n",
            "[36.18]\t[-9.913109]\n",
            "[44.]\t[28.55289]\n",
            "[50.]\t[102.851425]\n",
            "[52.]\t[138.05374]\n",
            "[31.09]\t[-22.154106]\n",
            "[20.]\t[-21.790382]\n",
            "[24.]\t[-14.740356]\n",
            "[23.]\t[-30.641441]\n",
            "[621.]\t[534.1266]\n",
            "[431.]\t[448.36993]\n",
            "[92.]\t[312.22583]\n",
            "[44.]\t[69.891594]\n",
            "[431.]\t[454.60745]\n",
            "[729.]\t[506.06592]\n",
            "[32.]\t[21.434906]\n",
            "[36.]\t[43.639606]\n",
            "[32.]\t[111.47749]\n",
            "[73.]\t[122.8695]\n",
            "[36.]\t[23.457806]\n",
            "[525.]\t[470.5222]\n",
            "[29.]\t[-8.357094]\n",
            "[621.]\t[528.7565]\n",
            "[56.]\t[27.04092]\n",
            "[30.]\t[110.99731]\n",
            "[48.]\t[45.741962]\n",
            "[103.]\t[122.34731]\n",
            "[102.]\t[120.471565]\n",
            "[580.]\t[487.00085]\n",
            "[63.12]\t[40.14631]\n",
            "[103.]\t[120.84347]\n",
            "[35.]\t[110.304855]\n",
            "[63.]\t[88.44066]\n",
            "[41.92]\t[14.524147]\n",
            "[44.]\t[57.529663]\n",
            "[14.]\t[43.126656]\n",
            "[45.]\t[135.87125]\n",
            "[36.]\t[16.845715]\n",
            "[26.]\t[71.54355]\n",
            "[46.]\t[18.387154]\n",
            "[44.67]\t[8.684822]\n",
            "[54.84]\t[0.95775604]\n",
            "[29.]\t[73.59801]\n",
            "[52.23]\t[-1.7795181]\n",
            "[62.]\t[31.575623]\n",
            "[43.27]\t[3.2924042]\n",
            "[30.]\t[99.58669]\n",
            "[36.64]\t[0.10199738]\n",
            "[50.]\t[21.818367]\n",
            "[50.]\t[22.769638]\n",
            "[50.]\t[34.70772]\n",
            "[729.]\t[665.83606]\n",
            "[54.78]\t[32.243004]\n",
            "[46.84]\t[30.194237]\n",
            "[580.]\t[534.7093]\n",
            "[580.]\t[535.68665]\n",
            "[100.]\t[200.55893]\n",
            "[56.]\t[-0.5356369]\n",
            "[431.]\t[481.13745]\n",
            "[57.5]\t[17.38836]\n",
            "[45.2]\t[55.51742]\n",
            "[63.]\t[101.36308]\n",
            "[42.]\t[34.464573]\n",
            "[39.]\t[34.312775]\n",
            "[44.]\t[49.50567]\n",
            "[20.]\t[15.816532]\n",
            "[34.7]\t[2.909134]\n",
            "[92.]\t[309.49033]\n",
            "[721.]\t[279.6452]\n",
            "[36.69]\t[-11.205658]\n",
            "[44.]\t[-46.31263]\n",
            "[53.]\t[113.4793]\n",
            "[105.]\t[187.38669]\n",
            "[729.]\t[534.21954]\n",
            "[33.77]\t[-23.585167]\n",
            "[42.29]\t[29.21634]\n",
            "[44.]\t[16.259296]\n",
            "[50.]\t[118.43944]\n",
            "[44.]\t[63.064262]\n",
            "[40.]\t[27.810291]\n",
            "[63.]\t[98.82669]\n",
            "[23.]\t[-4.135277]\n",
            "[65.4]\t[51.615593]\n",
            "[38.]\t[61.76539]\n",
            "[48.]\t[66.07626]\n",
            "[40.84]\t[28.639107]\n",
            "[45.]\t[15.461334]\n",
            "[729.]\t[665.77954]\n",
            "[48.]\t[8.613594]\n",
            "[44.67]\t[-5.9560165]\n",
            "[180.]\t[158.67764]\n",
            "[66.88]\t[-9.889214]\n",
            "[697.]\t[485.91547]\n",
            "[66.88]\t[-3.8998337]\n",
            "[94.]\t[74.713524]\n",
            "[697.]\t[451.30676]\n",
            "[30.8]\t[-23.588387]\n",
            "[40.]\t[-14.851448]\n",
            "[41.71]\t[69.22213]\n",
            "[33.77]\t[-11.408806]\n",
            "[41.]\t[46.75047]\n",
            "[78.]\t[48.678715]\n",
            "[621.]\t[481.60114]\n",
            "[35.67]\t[5.5869675]\n",
            "[45.]\t[107.42744]\n",
            "[63.]\t[117.87883]\n",
            "[39.]\t[53.357132]\n",
            "[89.]\t[130.48334]\n",
            "[525.]\t[410.84308]\n",
            "[45.]\t[37.18954]\n",
            "[35.67]\t[-1.9670792]\n",
            "[102.]\t[196.17514]\n",
            "[45.2]\t[51.746502]\n",
            "[20.]\t[-30.602226]\n",
            "[37.26]\t[13.099003]\n",
            "[34.95]\t[10.136131]\n",
            "[66.]\t[81.32638]\n",
            "[26.78]\t[39.45546]\n",
            "[28.99]\t[15.640297]\n",
            "[729.]\t[523.16925]\n",
            "[44.]\t[136.67804]\n",
            "[44.]\t[80.55202]\n",
            "[57.]\t[39.31659]\n",
            "[58.]\t[13.3900795]\n",
            "[56.]\t[67.74164]\n",
            "[93.]\t[193.9114]\n",
            "[431.]\t[453.11737]\n",
            "[45.]\t[104.90151]\n",
            "[17.]\t[-6.3926315]\n",
            "[525.]\t[470.12216]\n",
            "[20.]\t[-32.513855]\n",
            "[47.98]\t[32.57734]\n",
            "[55.83]\t[20.266228]\n",
            "[94.]\t[59.407585]\n",
            "[75.]\t[119.20392]\n",
            "[91.]\t[103.50252]\n",
            "[57.]\t[64.82276]\n",
            "[62.52]\t[46.10031]\n",
            "[66.88]\t[-0.36071014]\n",
            "[56.85]\t[0.63962555]\n",
            "[525.]\t[416.1951]\n",
            "[23.]\t[-15.328575]\n",
            "[44.]\t[60.833603]\n",
            "[63.28]\t[59.439552]\n",
            "[44.]\t[91.698]\n",
            "[102.]\t[219.77274]\n",
            "[729.]\t[663.1096]\n",
            "[282.]\t[322.50803]\n",
            "[50.9]\t[24.81717]\n",
            "[17.]\t[-52.902367]\n",
            "[44.58]\t[-11.719276]\n",
            "[29.15]\t[7.68589]\n",
            "[27.44]\t[-22.676453]\n",
            "[66.]\t[104.05276]\n",
            "[38.]\t[186.54453]\n",
            "[45.]\t[126.05683]\n",
            "[30.]\t[-36.849236]\n",
            "[63.]\t[82.07544]\n",
            "[62.]\t[4.6822586]\n",
            "[46.]\t[33.40943]\n",
            "[30.12]\t[8.139809]\n",
            "[42.31]\t[106.60892]\n",
            "[57.]\t[115.35315]\n",
            "[30.12]\t[6.1955795]\n",
            "[51.44]\t[81.62537]\n",
            "[103.]\t[89.704]\n",
            "[44.]\t[65.69876]\n",
            "[61.42]\t[10.714149]\n",
            "[27.12]\t[43.908974]\n",
            "[62.52]\t[49.470192]\n",
            "[24.]\t[15.508743]\n",
            "[24.27]\t[63.845776]\n",
            "[66.78]\t[35.803528]\n",
            "[74.]\t[98.83587]\n",
            "[48.]\t[49.37172]\n",
            "[56.]\t[137.66966]\n",
            "[92.]\t[306.26132]\n",
            "[621.]\t[606.9111]\n",
            "[66.]\t[108.8573]\n",
            "[94.]\t[411.6985]\n",
            "[29.]\t[43.59622]\n",
            "[53.67]\t[99.56677]\n",
            "[51.]\t[57.987793]\n",
            "[50.]\t[22.844597]\n",
            "[431.]\t[464.41113]\n",
            "[55.]\t[63.691124]\n",
            "[105.]\t[231.97888]\n",
            "[62.]\t[30.936916]\n",
            "[66.]\t[86.39239]\n",
            "[89.]\t[127.82605]\n",
            "[30.]\t[-17.054604]\n",
            "[47.]\t[115.32611]\n",
            "[51.]\t[69.913765]\n",
            "[74.]\t[146.25809]\n",
            "[63.]\t[47.137054]\n",
            "[45.]\t[21.443497]\n",
            "[48.]\t[43.552944]\n",
            "[31.09]\t[15.575512]\n",
            "[46.]\t[21.422592]\n",
            "[44.]\t[62.609516]\n",
            "[44.]\t[31.73676]\n",
            "[44.]\t[39.591835]\n",
            "[44.02]\t[107.65706]\n",
            "[103.]\t[72.67361]\n",
            "[31.93]\t[-40.686653]\n"
          ],
          "name": "stdout"
        }
      ]
    },
    {
      "cell_type": "code",
      "metadata": {
        "id": "5i4VCLdGd0Rq",
        "colab_type": "code",
        "outputId": "b5531b21-3f6e-4562-fa6e-7a008dc82482",
        "colab": {
          "base_uri": "https://localhost:8080/",
          "height": 51
        }
      },
      "source": [
        "#plt.plot(d)\n",
        "\n",
        "##26% of our test data is more than 10 deviations \n",
        "print(len(y_test))\n",
        "print(len(d))"
      ],
      "execution_count": 0,
      "outputs": [
        {
          "output_type": "stream",
          "text": [
            "826\n",
            "319\n"
          ],
          "name": "stdout"
        }
      ]
    },
    {
      "cell_type": "code",
      "metadata": {
        "id": "bmD_qjXYMuP4",
        "colab_type": "code",
        "colab": {}
      },
      "source": [
        "d=[]\n",
        "\n",
        "#20% is out of bounds by 15 \n",
        "\n",
        "for i in range(0,len(pred)):\n",
        "  k=y_test[i]-pred[i]\n",
        "  if(k>=15):\n",
        "    d.append(k)\n"
      ],
      "execution_count": 0,
      "outputs": []
    },
    {
      "cell_type": "code",
      "metadata": {
        "id": "nKTTpKQAjp0z",
        "colab_type": "code",
        "outputId": "34cf7d74-21e2-4746-d0e6-d72d9194610e",
        "colab": {
          "base_uri": "https://localhost:8080/",
          "height": 51
        }
      },
      "source": [
        "print(len(y_test))\n",
        "print(len(d))"
      ],
      "execution_count": 0,
      "outputs": [
        {
          "output_type": "stream",
          "text": [
            "826\n",
            "361\n"
          ],
          "name": "stdout"
        }
      ]
    },
    {
      "cell_type": "markdown",
      "metadata": {
        "id": "KFdp-5SqjrKR",
        "colab_type": "text"
      },
      "source": [
        "RANDOM FOREST REGRESSOR "
      ]
    },
    {
      "cell_type": "code",
      "metadata": {
        "id": "a5ZyaLqBDsB7",
        "colab_type": "code",
        "outputId": "792b1969-9a0e-4e27-a5c5-db2cd425f5f9",
        "colab": {
          "base_uri": "https://localhost:8080/",
          "height": 576
        }
      },
      "source": [
        "reg = RandomForestRegressor(max_depth=3) \n",
        "cross = cross_val_score(reg, final_features, final_pm, scoring ='neg_mean_absolute_error',cv=3)\n",
        "x_train, x_test, y_train, y_test = train_test_split(final_features, final_pm, test_size =0.3, random_state =42)\n",
        "\n",
        "reg.fit(x_train, y_train)\n",
        "\n",
        "pred = reg.predict(x_test)\n",
        "\n",
        "plt.plot(pred)\n",
        "plt.plot(y_test)\n",
        "\n",
        "print(mean_absolute_error(pred, y_test))\n"
      ],
      "execution_count": 0,
      "outputs": [
        {
          "output_type": "stream",
          "text": [
            "/usr/local/lib/python3.6/dist-packages/sklearn/ensemble/forest.py:245: FutureWarning: The default value of n_estimators will change from 10 in version 0.20 to 100 in 0.22.\n",
            "  \"10 in version 0.20 to 100 in 0.22.\", FutureWarning)\n",
            "/usr/local/lib/python3.6/dist-packages/sklearn/model_selection/_validation.py:516: DataConversionWarning: A column-vector y was passed when a 1d array was expected. Please change the shape of y to (n_samples,), for example using ravel().\n",
            "  estimator.fit(X_train, y_train, **fit_params)\n",
            "/usr/local/lib/python3.6/dist-packages/sklearn/ensemble/forest.py:245: FutureWarning: The default value of n_estimators will change from 10 in version 0.20 to 100 in 0.22.\n",
            "  \"10 in version 0.20 to 100 in 0.22.\", FutureWarning)\n",
            "/usr/local/lib/python3.6/dist-packages/sklearn/model_selection/_validation.py:516: DataConversionWarning: A column-vector y was passed when a 1d array was expected. Please change the shape of y to (n_samples,), for example using ravel().\n",
            "  estimator.fit(X_train, y_train, **fit_params)\n",
            "/usr/local/lib/python3.6/dist-packages/sklearn/ensemble/forest.py:245: FutureWarning: The default value of n_estimators will change from 10 in version 0.20 to 100 in 0.22.\n",
            "  \"10 in version 0.20 to 100 in 0.22.\", FutureWarning)\n",
            "/usr/local/lib/python3.6/dist-packages/sklearn/model_selection/_validation.py:516: DataConversionWarning: A column-vector y was passed when a 1d array was expected. Please change the shape of y to (n_samples,), for example using ravel().\n",
            "  estimator.fit(X_train, y_train, **fit_params)\n",
            "/usr/local/lib/python3.6/dist-packages/sklearn/ensemble/forest.py:245: FutureWarning: The default value of n_estimators will change from 10 in version 0.20 to 100 in 0.22.\n",
            "  \"10 in version 0.20 to 100 in 0.22.\", FutureWarning)\n",
            "/usr/local/lib/python3.6/dist-packages/ipykernel_launcher.py:5: DataConversionWarning: A column-vector y was passed when a 1d array was expected. Please change the shape of y to (n_samples,), for example using ravel().\n",
            "  \"\"\"\n"
          ],
          "name": "stderr"
        },
        {
          "output_type": "stream",
          "text": [
            "15.593219494028316\n"
          ],
          "name": "stdout"
        },
        {
          "output_type": "display_data",
          "data": {
            "image/png": "[encoded data removed]",
            "text/plain": [
              "<Figure size 432x288 with 1 Axes>"
            ]
          },
          "metadata": {
            "tags": []
          }
        }
      ]
    },
    {
      "cell_type": "code",
      "metadata": {
        "id": "Gof3qo-0I8RY",
        "colab_type": "code",
        "outputId": "2eb96030-ebe0-42f9-a762-c0b09dc6e4cb",
        "colab": {
          "base_uri": "https://localhost:8080/",
          "height": 34
        }
      },
      "source": [
        "print(((-1)*cross))"
      ],
      "execution_count": 0,
      "outputs": [
        {
          "output_type": "stream",
          "text": [
            "[ 48.12147474   9.09014059 156.23653237]\n"
          ],
          "name": "stdout"
        }
      ]
    },
    {
      "cell_type": "code",
      "metadata": {
        "id": "pXP3k1G479in",
        "colab_type": "code",
        "colab": {}
      },
      "source": [
        "#joblib.dump(reg,'Random_withITO.pkl')\n",
        "with open('/content/RF_withPrevPM.bin','wb') as file:\n",
        "  pickle.dump(reg, file)\n",
        "\n"
      ],
      "execution_count": 0,
      "outputs": []
    },
    {
      "cell_type": "code",
      "metadata": {
        "id": "8zr2URGPKjfT",
        "colab_type": "code",
        "colab": {}
      },
      "source": [
        "\n",
        "for i in range(0,len(pred)):\n",
        "  print(str(y_test[i]) +'\\t'+ str(pred[i]))\n",
        "  \n",
        "  "
      ],
      "execution_count": 0,
      "outputs": []
    },
    {
      "cell_type": "code",
      "metadata": {
        "id": "Wa5JjlJM0rj2",
        "colab_type": "code",
        "colab": {}
      },
      "source": [
        "def trans_deg(im):\n",
        "#   im = cv2.imread(img)\n",
        "#   im = cv2.resize(im, (256,256))\n",
        "  B=np.zeros((256,256))\n",
        "  D=np.zeros((256,256))\n",
        "  C=np.zeros((256,256))\n",
        "  # 3rd channel or im[2] has been split as b,g,r \n",
        "\n",
        "  b,g,r = cv2.split(im)\n",
        "\n",
        "  for i in range(b.shape[0]):\n",
        "    for j in range(b.shape[1]):\n",
        "      D[i][j] = min(b[i][j], g[i][j], r[i][j])\n",
        "      B[i][j] = max(b[i][j], g[i][j], r[i][j])\n",
        "      C[i][j] = B[i][j] - D[i][j]\n",
        "\n",
        "  d = np.sum(D)/float(np.size(D))\n",
        "  b = np.sum(B)/float(np.size(B))\n",
        "  c = b-d \n",
        "  A = (0.33)*max(np.ndarray.flatten(B)) + (0.66)*b\n",
        "  \n",
        "  x1=((A - d)/float(A)) \n",
        "  x2=(c/float(A))\n",
        "  u = 10.127489\n",
        "  v= -8.336512\n",
        "  s = 0.13606234\n",
        "  \n",
        "  w = math.exp(-0.5*(u*x1 + v*x2)+s)\n",
        "  \n",
        "  if(w<=0.1):\n",
        "      w=0\n",
        "  elif(w<=0.3):\n",
        "    w=1\n",
        "  elif(w<=0.5):\n",
        "    w=2\n",
        "  elif(w<=0.7):\n",
        "    w=3\n",
        "  elif(w<=0.8):\n",
        "    w=4\n",
        "  elif(w<=0.9):\n",
        "    w=5\n",
        "    \n",
        "  return w"
      ],
      "execution_count": 0,
      "outputs": []
    },
    {
      "cell_type": "code",
      "metadata": {
        "id": "0u8yXSvapSPG",
        "colab_type": "code",
        "colab": {}
      },
      "source": [
        "def entropy(image):\n",
        "  image = cv2.cvtColor(image, cv2.COLOR_BGR2GRAY)\n",
        "  hist = cv2.calcHist( [image.astype('float32')],\n",
        "              [0], \n",
        "              None,\n",
        "               [256], \n",
        "              [0,256] )\n",
        "  h_norm = 0\n",
        "  h_norm = cv2.normalize(hist, h_norm)\n",
        "  ent = 0\n",
        "  for p in h_norm:\n",
        "    try:\n",
        "      ent += p*math.log(p, 2)\n",
        "    except:\n",
        "      pass\n",
        "    \n",
        "  return (-1 * ent[0])"
      ],
      "execution_count": 0,
      "outputs": []
    },
    {
      "cell_type": "code",
      "metadata": {
        "id": "HB5IbHV9pUhK",
        "colab_type": "code",
        "colab": {}
      },
      "source": [
        "def contrast(image):\n",
        "  image = cv2.cvtColor(image, cv2.COLOR_BGR2GRAY)\n",
        "  s = 0\n",
        "  ss = 0\n",
        "  mean = np.mean(image)\n",
        "  x = (-1 * mean * (np.ones(image.shape)))\n",
        "  ss = np.square(np.add(image, x))\n",
        "  cont = np.sqrt(np.sum(ss)/float(image.size))\n",
        "  return cont"
      ],
      "execution_count": 0,
      "outputs": []
    },
    {
      "cell_type": "code",
      "metadata": {
        "id": "8LfQYWPVpWhG",
        "colab_type": "code",
        "colab": {}
      },
      "source": [
        "# from sklearn.ensemble import GradientBoostingRegressor\n",
        "\n",
        "# gbrt = GradientBoostingRegressor(max_depth=2,n_estimators=120)\n",
        "\n",
        "# cross = cross_val_score(gbrt, features, pm, scoring ='neg_mean_squared_error',cv=3)\n",
        "\n",
        "# x_train, x_test, y_train, y_test = train_test_split(features, pm, test_size =0.2, random_state =42)\n",
        "\n",
        "# gbrt.fit(x_train, y_train)\n",
        "\n",
        "# y_pred = gbrt.predict(x_test)\n",
        "\n",
        "# errors = [mean_squared_error(y_val, y_pred)\n",
        "# for y_pred in gbrt.staged_predict(X_val)]\n",
        "\n",
        "# bst_n_estimators = np.argmin(errors)\n",
        "\n",
        "# gbrt_best = GradientBoostingRegressor(max_depth=2,n_estimators=bst_n_estimators)\n",
        "# gbrt_best.fit(x_train, y_train) \n"
      ],
      "execution_count": 0,
      "outputs": []
    },
    {
      "cell_type": "code",
      "metadata": {
        "id": "_5cNHBH_cWDQ",
        "colab_type": "code",
        "colab": {}
      },
      "source": [
        "# print((cross*(-1))**0.5)"
      ],
      "execution_count": 0,
      "outputs": []
    },
    {
      "cell_type": "code",
      "metadata": {
        "id": "GxqXmou-bIAt",
        "colab_type": "code",
        "colab": {}
      },
      "source": [
        "# pred = gbrt_best.predict(x_test)\n",
        "\n",
        "# plt.plot(pred)\n",
        "# plt.plot(y_test)\n",
        "\n",
        "# print(mean_squared_error(pred, y_test)**0.5)"
      ],
      "execution_count": 0,
      "outputs": []
    },
    {
      "cell_type": "code",
      "metadata": {
        "id": "4vwWL2QIb6Kr",
        "colab_type": "code",
        "colab": {}
      },
      "source": [
        "# pred = reg.predict(x_test)\n",
        "\n",
        "# plt.plot(pred)\n",
        "# plt.plot(y_test)\n",
        "\n",
        "# print(mean_squared_error(pred, y_test)**0.5)"
      ],
      "execution_count": 0,
      "outputs": []
    },
    {
      "cell_type": "code",
      "metadata": {
        "id": "wMxE60xucMlv",
        "colab_type": "code",
        "colab": {}
      },
      "source": [
        "# print(((-1)*cross)**0.5)"
      ],
      "execution_count": 0,
      "outputs": []
    }
  ]
}