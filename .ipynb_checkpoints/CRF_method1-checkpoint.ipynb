{
 "cells": [
  {
   "cell_type": "code",
   "execution_count": null,
   "metadata": {
    "scrolled": true
   },
   "outputs": [],
   "source": [
    "import cv2 as cv\n",
    "import numpy as np\n",
    "import matplotlib.pyplot as plt \n",
    "\n",
    "\n",
    "img_exp = ['/home/harshita/Celestini/CRF/image2.JPG','/home/harshita/Celestini/CRF/image1.JPG','/home/harshita/Celestini/CRF/image3.JPG']\n",
    "img_list = [cv.imread(im) for im in img_exp]\n",
    "exposure_times = np.array([15.0, 2.5, 0.25], dtype=np.float32)\n",
    "\n",
    "#print(np.shape(img_list[0]))\n",
    "\n",
    "calibrate = cv.createCalibrateDebevec()\n",
    "response = calibrate.process(img_list,exposure_times)\n",
    "#print(np.shape(response))\n",
    "print(np.shape(response))\n",
    "#converting values to int \n",
    "\n",
    "\n",
    "for x in np.nditer(response):\n",
    "    np.append(response_int,int(x))\n",
    "\n",
    "b=[]\n",
    "g=[]\n",
    "r=[]\n",
    "for i in range (0,256,1):\n",
    "    b.append(response[i][0][0])\n",
    "    g.append(response[i][0][1])\n",
    "    r.append(response[i][0][2])\n",
    "\n",
    "    \n",
    "f, ax = plt.subplots(1, 4, figsize = (20, 20))    \n",
    "print(max(response_int.flatten()))    \n",
    "p=np.arange(256)\n",
    "np.reshape(p, (256, 1, 1))\n",
    "ax[0].plot(b,p)\n",
    "ax[1].plot(g,p)\n",
    "ax[2].plot(r,p)\n",
    "ax[3].plot(response,p)\n",
    "\n",
    "# response_int=np.reshape(response_int,(256,-1))\n",
    "\n",
    "# print(np.shape(response_int) )\n",
    "# plt.plot(p,response_int)\n",
    "# response_int = list(map (lambda x:int(),response))\n",
    "# print(response_int)"
   ]
  },
  {
   "cell_type": "code",
   "execution_count": 126,
   "metadata": {},
   "outputs": [
    {
     "name": "stdout",
     "output_type": "stream",
     "text": [
      "256\n"
     ]
    }
   ],
   "source": [
    "print(len(p))"
   ]
  },
  {
   "cell_type": "code",
   "execution_count": null,
   "metadata": {},
   "outputs": [],
   "source": []
  },
  {
   "cell_type": "code",
   "execution_count": null,
   "metadata": {},
   "outputs": [],
   "source": [
    "#print(response)\n",
    "\n",
    "#response_int=map(int,response)\n",
    "\n",
    "# merge_debevec = cv.createMergeDebevec()\n",
    "# hdr_debevec = merge_debevec.process(img_list, times=exposure_times.copy())\n",
    "\n",
    "# # merge_robertson = cv.createMergeRobertson()\n",
    "# # hdr_robertson = merge_robertson.process(img_list, times=exposure_times.copy())\n",
    "\n",
    "# tonemap1 = cv.createTonemap(gamma=2.2)\n",
    "# res_debevec = tonemap1.process(hdr_debevec.copy())\n",
    "\n",
    "# # merge_mertens = cv.createMergeMertens()\n",
    "# # res_mertens = merge_mertens.process(img_list)\n",
    "\n",
    "\n",
    "# plt.imshow((tonemap1*255).astype(np.uint8))\n",
    "\n",
    "#plt.imshow((tonemap1* 255).astype(np.uint8))\n",
    "#res_debevec_8bit = np.clip(res_debevec*255, 0, 255).astype('uint8')\n",
    "#plt.imshow(res_debevec_8bit)\n",
    "#res_robertson_8bit = np.clip(res_robertson*255, 0, 255).astype('uint8')\n",
    "#res_mertens_8bit = np.clip(res_mertens*255, 0, 255).astype('uint8')\n",
    "#cv.imwrite(\"ldr_robertson.jpg\", res_robertson_8bit)\n",
    "# res_debevec_8bit = np.clip(response*255, 0, 255).astype('uint8')\n",
    "# plt.imshow(res_debevec_8bit)\n",
    "# plt.show()"
   ]
  }
 ],
 "metadata": {
  "kernelspec": {
   "display_name": "Python 3",
   "language": "python",
   "name": "python3"
  },
  "language_info": {
   "codemirror_mode": {
    "name": "ipython",
    "version": 3
   },
   "file_extension": ".py",
   "mimetype": "text/x-python",
   "name": "python",
   "nbconvert_exporter": "python",
   "pygments_lexer": "ipython3",
   "version": "3.6.5"
  }
 },
 "nbformat": 4,
 "nbformat_minor": 2
}
