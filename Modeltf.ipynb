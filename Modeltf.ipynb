{
  "nbformat": 4,
  "nbformat_minor": 0,
  "metadata": {
    "colab": {
      "name": "Modeltf.ipynb",
      "version": "0.3.2",
      "provenance": [],
      "collapsed_sections": [],
      "include_colab_link": true
    },
    "kernelspec": {
      "name": "python3",
      "display_name": "Python 3"
    },
    "accelerator": "GPU"
  },
  "cells": [
    {
      "cell_type": "markdown",
      "metadata": {
        "id": "view-in-github",
        "colab_type": "text"
      },
      "source": [
        "<a href=\"https://colab.research.google.com/github/harshitadd/Celestini/blob/master/Modeltf.ipynb\" target=\"_parent\"><img src=\"https://colab.research.google.com/assets/colab-badge.svg\" alt=\"Open In Colab\"/></a>"
      ]
    },
    {
      "cell_type": "code",
      "metadata": {
        "id": "bdDag8n7lyzH",
        "colab_type": "code",
        "colab": {
          "base_uri": "https://localhost:8080/",
          "height": 35
        },
        "outputId": "806db471-7497-4c02-aa7d-d82d034c134f"
      },
      "source": [
        "!pip install joblib\n",
        "import tensorflow as tf \n",
        "import pickle\n",
        "from sklearn.externals import joblib\n",
        "import numpy as np\n",
        "from tensorflow.python.client import device_lib\n",
        "from tensorflow.saved_model import simple_save\n",
        "import random\n",
        "import matplotlib.pyplot as plt \n",
        "import math\n",
        "import warnings\n",
        "from sklearn.model_selection import train_test_split\n",
        "from tensorflow.python import pywrap_tensorflow\n"
      ],
      "execution_count": 37,
      "outputs": [
        {
          "output_type": "stream",
          "text": [
            "Requirement already satisfied: joblib in /usr/local/lib/python3.6/dist-packages (0.13.2)\n"
          ],
          "name": "stdout"
        }
      ]
    },
    {
      "cell_type": "code",
      "metadata": {
        "id": "vO8kr5epl6xf",
        "colab_type": "code",
        "colab": {}
      },
      "source": [
        "from google.colab import drive\n",
        "drive.mount('/content/drive')\n"
      ],
      "execution_count": 0,
      "outputs": []
    },
    {
      "cell_type": "code",
      "metadata": {
        "id": "_pKAD2gofS-S",
        "colab_type": "code",
        "colab": {}
      },
      "source": [
        "## 64 BIT (2253,4016)\n",
        "\n",
        "with open('/content/drive/My Drive/ffeatures64.bin','rb') as file:\n",
        "  features = pickle.load(file)\n",
        "with open('/content/drive/My Drive/flabels64.bin','rb') as file:\n",
        "  labels = pickle.load(file)\n"
      ],
      "execution_count": 0,
      "outputs": []
    },
    {
      "cell_type": "code",
      "metadata": {
        "id": "E4zajrgWXx0u",
        "colab_type": "code",
        "colab": {}
      },
      "source": [
        "## 48 BIT (2253,2315)\n",
        "'''\n",
        "features = joblib.load('/content/features48.pkl')\n",
        "labels = joblib.load('/content/labels48.pkl')\n",
        "'''"
      ],
      "execution_count": 0,
      "outputs": []
    },
    {
      "cell_type": "code",
      "metadata": {
        "id": "sokkAXrXbDga",
        "colab_type": "code",
        "colab": {}
      },
      "source": [
        "## 56 BIT (2253,3147)\n",
        "\n",
        "# features = joblib.load('/content/features56.pkl')\n",
        "# labels = joblib.load('/content/labels56.pkl')\n"
      ],
      "execution_count": 0,
      "outputs": []
    },
    {
      "cell_type": "code",
      "metadata": {
        "id": "EW0kHCZldbJY",
        "colab_type": "code",
        "colab": {}
      },
      "source": [
        "## 64 BIT (2253,3147)\n",
        "\n",
        "features = joblib.load('/content/features64.pkl')\n",
        "labels = joblib.load('/content/labels64.pkl')\n"
      ],
      "execution_count": 0,
      "outputs": []
    },
    {
      "cell_type": "code",
      "metadata": {
        "id": "-Bnp3GODSODa",
        "colab_type": "code",
        "colab": {}
      },
      "source": [
        "## 32 BIT (2253,1035)\n",
        "\n",
        "# features = joblib.load('/content/features32.pkl')\n",
        "# labels = joblib.load('/content/labels32.pkl')"
      ],
      "execution_count": 0,
      "outputs": []
    },
    {
      "cell_type": "code",
      "metadata": {
        "id": "fJ2cpkrT1ypE",
        "colab_type": "code",
        "outputId": "a1ff7255-ea06-44ce-b5b6-38b3ca2cc214",
        "colab": {
          "base_uri": "https://localhost:8080/",
          "height": 55
        }
      },
      "source": [
        "## 16 BIT (2253,267)\n",
        "'''\n",
        "features = joblib.load('/content/features16.pkl')\n",
        "labels = joblib.load('/content/labels16.pkl')\n",
        "'''"
      ],
      "execution_count": 0,
      "outputs": [
        {
          "output_type": "execute_result",
          "data": {
            "text/plain": [
              "\"\\nfeatures = joblib.load('/content/features16.pkl')\\nlabels = joblib.load('/content/labels16.pkl')\\n\""
            ]
          },
          "metadata": {
            "tags": []
          },
          "execution_count": 275
        }
      ]
    },
    {
      "cell_type": "code",
      "metadata": {
        "id": "V7J8tBqof4QU",
        "colab_type": "code",
        "outputId": "227f36f1-3be7-4fc8-bdea-a3647bd8d03e",
        "colab": {
          "base_uri": "https://localhost:8080/",
          "height": 35
        }
      },
      "source": [
        "# print(features[0])\n",
        "# print(len(features[0]))\n",
        "# print(len(features))\n",
        "print(np.shape(features))"
      ],
      "execution_count": 10,
      "outputs": [
        {
          "output_type": "stream",
          "text": [
            "(2253, 4106)\n"
          ],
          "name": "stdout"
        }
      ]
    },
    {
      "cell_type": "code",
      "metadata": {
        "id": "o6Zxm0XF0DlH",
        "colab_type": "code",
        "colab": {}
      },
      "source": [
        "## TEST SET \n",
        "\n",
        "x_train_t, x_test_t,y_train_t, y_test_t = train_test_split(features, labels, test_size = 0.3)"
      ],
      "execution_count": 0,
      "outputs": []
    },
    {
      "cell_type": "code",
      "metadata": {
        "id": "gAlnu945gPXq",
        "colab_type": "code",
        "colab": {}
      },
      "source": [
        "tf.reset_default_graph()"
      ],
      "execution_count": 0,
      "outputs": []
    },
    {
      "cell_type": "code",
      "metadata": {
        "id": "rkXJ4fuuhWgh",
        "colab_type": "code",
        "outputId": "052d3702-c629-47bc-8701-c810452120a6",
        "colab": {
          "base_uri": "https://localhost:8080/",
          "height": 555
        }
      },
      "source": [
        "print(device_lib.list_local_devices())\n"
      ],
      "execution_count": 51,
      "outputs": [
        {
          "output_type": "stream",
          "text": [
            "[name: \"/device:CPU:0\"\n",
            "device_type: \"CPU\"\n",
            "memory_limit: 268435456\n",
            "locality {\n",
            "}\n",
            "incarnation: 8755771567418998017\n",
            ", name: \"/device:XLA_CPU:0\"\n",
            "device_type: \"XLA_CPU\"\n",
            "memory_limit: 17179869184\n",
            "locality {\n",
            "}\n",
            "incarnation: 1938221799520875038\n",
            "physical_device_desc: \"device: XLA_CPU device\"\n",
            ", name: \"/device:XLA_GPU:0\"\n",
            "device_type: \"XLA_GPU\"\n",
            "memory_limit: 17179869184\n",
            "locality {\n",
            "}\n",
            "incarnation: 13389358804679374674\n",
            "physical_device_desc: \"device: XLA_GPU device\"\n",
            ", name: \"/device:GPU:0\"\n",
            "device_type: \"GPU\"\n",
            "memory_limit: 14892276122\n",
            "locality {\n",
            "  bus_id: 1\n",
            "  links {\n",
            "  }\n",
            "}\n",
            "incarnation: 14271081408537424311\n",
            "physical_device_desc: \"device: 0, name: Tesla T4, pci bus id: 0000:00:04.0, compute capability: 7.5\"\n",
            "]\n"
          ],
          "name": "stdout"
        }
      ]
    },
    {
      "cell_type": "code",
      "metadata": {
        "id": "M8zj52CuhmPD",
        "colab_type": "code",
        "colab": {}
      },
      "source": [
        "x = tf.placeholder(shape = (None,4106), dtype = tf.float32, name = 'input' )\n",
        "y = tf.placeholder(shape = (None,1), dtype = tf.float32, name = 'target')\n",
        "\n",
        "wh = tf.Variable(tf.glorot_uniform_initializer(dtype = tf.float32)((4106, 6500)))\n",
        "bh = tf.Variable(tf.glorot_uniform_initializer(dtype = tf.float32)((1,6500)))\n",
        "\n",
        "#out\n",
        "\n",
        "wo = tf.Variable(tf.glorot_uniform_initializer(dtype = tf.float32)((6500,1)))\n",
        "bo = tf.Variable(tf.glorot_uniform_initializer(dtype = tf.float32)((1,1)))\n"
      ],
      "execution_count": 0,
      "outputs": []
    },
    {
      "cell_type": "code",
      "metadata": {
        "id": "92_mLSDYpmcv",
        "colab_type": "code",
        "colab": {}
      },
      "source": [
        "hidl = tf.add(tf.matmul(x,wh),bh, name ='hidden1')"
      ],
      "execution_count": 0,
      "outputs": []
    },
    {
      "cell_type": "code",
      "metadata": {
        "id": "SYnF_9OusKXw",
        "colab_type": "code",
        "colab": {}
      },
      "source": [
        "outl_batch = tf.compat.v1.layers.batch_normalization(hidl)\n",
        "outl = tf.add(tf.matmul(outl_batch,wo),bo,name = 'output')\n"
      ],
      "execution_count": 0,
      "outputs": []
    },
    {
      "cell_type": "markdown",
      "metadata": {
        "id": "eiyIZ5_FvMjz",
        "colab_type": "text"
      },
      "source": [
        "Add additional custom loss functions if necc \n",
        "reducing mean sqaure error \n",
        "1. reducing max deviation "
      ]
    },
    {
      "cell_type": "code",
      "metadata": {
        "id": "8OdDRQggsq5N",
        "colab_type": "code",
        "colab": {}
      },
      "source": [
        "loss = tf.reduce_mean(tf.square(tf.subtract(y,outl))) + 0.4*tf.reduce_max(tf.subtract(y,outl))\n",
        "#default lr = 0.001\n",
        "opt = tf.train.AdamOptimizer(name = 'optimizer')\n",
        "op_train = opt.minimize(loss, name ='train_op')\n",
        "\n"
      ],
      "execution_count": 0,
      "outputs": []
    },
    {
      "cell_type": "code",
      "metadata": {
        "id": "vgbtgE_CvDzV",
        "colab_type": "code",
        "colab": {}
      },
      "source": [
        "saved = tf.train.Saver().as_saver_def()"
      ],
      "execution_count": 0,
      "outputs": []
    },
    {
      "cell_type": "code",
      "metadata": {
        "id": "xLnEbChLyH82",
        "colab_type": "code",
        "colab": {}
      },
      "source": [
        "init = tf.global_variables_initializer()"
      ],
      "execution_count": 0,
      "outputs": []
    },
    {
      "cell_type": "code",
      "metadata": {
        "id": "nh28JgrUxRjT",
        "colab_type": "code",
        "outputId": "59515700-7359-448a-cadd-aae9ff5bfed2",
        "colab": {
          "base_uri": "https://localhost:8080/",
          "height": 1000
        }
      },
      "source": [
        "train=[]\n",
        "val=[]\n",
        "\n",
        "with tf.device('/device:CPU:0'):\n",
        "  update_ops = tf.get_collection(tf.GraphKeys.UPDATE_OPS)\n",
        "  save = tf.train.Saver()\n",
        "  with tf.Session() as sess:\n",
        "    sess.run(init)\n",
        "    mini =[]\n",
        "    for i in range(0,500):\n",
        "      b1=[]\n",
        "      b2=[]\n",
        "      l1=[]\n",
        "      l2=[]\n",
        "      b1_val=[]\n",
        "      b2_val=[]\n",
        "      l1_val=[]\n",
        "      l2_val=[]\n",
        "      x_traint, x_test_t,y_traint, y_test_t = train_test_split(features, labels, test_size = 0.3)\n",
        "      x_trainv, x_testv, y_trainv, y_testv = train_test_split(x_traint, y_traint, test_size = 0.3)\n",
        "      \n",
        "      for j in range(16): ##One run is appending 2 random lists \n",
        "      #TRAINING MINI BATCHES \n",
        "        \n",
        "        seed = random.choice(range(len(x_trainv)))\n",
        "        i = random.choice(range(len(x_trainv)))\n",
        "        \n",
        "        b1.append(x_trainv[seed])\n",
        "        b2.append(x_trainv[i])\n",
        "        l1.append(y_trainv[seed])\n",
        "        l2.append(y_trainv[i])\n",
        "        \n",
        "        x_batch = np.vstack((b1,b2))\n",
        "        y_batch = np.vstack((l1,l2))\n",
        "        \n",
        "        ##VALIDATION MINI BATCHES \n",
        "        \n",
        "        seed_val = random.choice(range(len(x_traint)))\n",
        "        i_val = random.choice(range(len(x_traint)))\n",
        "        \n",
        "        b1_val.append(x_traint[seed_val])\n",
        "        b2_val.append(x_traint[i_val])\n",
        "        l1_val.append(y_traint[seed_val])\n",
        "        l2_val.append(y_traint[i_val])\n",
        "        \n",
        "        x_batch_val = np.vstack((b1_val,b2_val))\n",
        "        y_batch_val = np.vstack((l1_val,l2_val))\n",
        "      \n",
        "      ## TRAINING LOSS\n",
        "      update_ops = tf.get_collection(tf.GraphKeys.UPDATE_OPS)\n",
        "      z= sess.run([loss,op_train, update_ops], feed_dict = {x : x_batch, y: y_batch })\n",
        "      train.append(z[0]**0.5)\n",
        "      \n",
        "      ##VALIDATION LOSS\n",
        "      \n",
        "      z_val= sess.run([loss], feed_dict = {x : x_batch_val, y: y_batch_val })\n",
        "      val.append(z_val[0]**0.5)\n",
        "      \n",
        "      print(str(z[0]) + '\\t' + str(z_val[0]))\n",
        "    \n",
        "    plt.plot(train)\n",
        "    plt.plot(val)\n",
        "    \n",
        "    model = simple_save(sess,'/content/drive/My Drive/Custom_Models/dump_batch_2',inputs = {'input' : x}, outputs = {'output': outl})\n",
        "    print('Saved model!')\n",
        "    \n",
        " "
      ],
      "execution_count": 64,
      "outputs": [
        {
          "output_type": "stream",
          "text": [
            "3103.3293\t49314.977\n",
            "53273.44\t3809.6848\n",
            "4105.0796\t8273.717\n",
            "11648.2705\t24582.646\n",
            "26590.81\t16632.541\n",
            "17495.875\t5154.501\n",
            "4924.413\t156.82396\n",
            "298.42758\t3365.6184\n",
            "3266.0588\t8094.0913\n",
            "8607.727\t9417.014\n",
            "8322.259\t5959.3696\n",
            "6838.846\t3334.2913\n",
            "3098.4204\t1229.1067\n",
            "884.4473\t237.27625\n",
            "343.68402\t2877.0989\n",
            "3052.2886\t4254.2275\n",
            "3368.5967\t2979.679\n",
            "4106.649\t2637.346\n",
            "3711.9956\t2191.1733\n",
            "1669.5741\t1888.5004\n",
            "2056.5955\t1124.4875\n",
            "311.5816\t857.8745\n",
            "723.7497\t509.93494\n",
            "794.7647\t1101.261\n",
            "911.8172\t1439.81\n",
            "1214.9039\t1662.3707\n",
            "1851.0385\t1170.239\n",
            "1404.2621\t918.57886\n",
            "1030.2734\t916.8815\n",
            "1303.832\t1104.7451\n",
            "775.64813\t1059.097\n",
            "667.6178\t287.9296\n",
            "906.7702\t200.3898\n",
            "430.97638\t1414.2771\n",
            "381.38727\t575.50885\n",
            "1187.3167\t1364.1556\n",
            "2389.6614\t1161.7451\n",
            "660.2943\t415.1147\n",
            "210.32098\t1287.8711\n",
            "574.274\t335.6385\n",
            "342.1372\t758.9892\n",
            "223.13814\t674.5676\n",
            "710.74335\t73.70595\n",
            "1708.5767\t721.302\n",
            "372.43253\t329.02246\n",
            "817.76025\t837.8456\n",
            "771.9363\t989.2928\n",
            "885.68604\t1461.1226\n",
            "831.27594\t1321.8105\n",
            "1163.6389\t1781.791\n",
            "760.41406\t389.64618\n",
            "401.51212\t268.576\n",
            "317.94113\t178.6534\n",
            "305.79694\t310.70407\n",
            "1567.2399\t1439.7639\n",
            "1049.4017\t1212.3168\n",
            "1178.1456\t588.0134\n",
            "1168.6337\t1261.6791\n",
            "473.83234\t154.13501\n",
            "947.95154\t736.47034\n",
            "252.54759\t770.073\n",
            "358.6731\t718.4835\n",
            "684.0143\t218.75803\n",
            "825.5516\t254.27087\n",
            "148.76068\t831.3193\n",
            "324.9276\t328.12823\n",
            "321.41663\t1146.6523\n",
            "627.19507\t287.25552\n",
            "204.8452\t201.30226\n",
            "189.81366\t699.5764\n",
            "672.64386\t1223.016\n",
            "712.83246\t538.8837\n",
            "581.60675\t1373.6478\n",
            "1115.0348\t1284.7418\n",
            "211.80342\t276.5005\n",
            "869.53925\t277.86795\n",
            "804.55817\t477.0167\n",
            "599.3265\t1173.4907\n",
            "802.043\t338.1099\n",
            "168.59108\t549.47595\n",
            "242.66354\t683.00024\n",
            "504.67477\t321.75696\n",
            "663.86285\t280.8372\n",
            "177.91042\t270.64206\n",
            "747.58075\t608.9993\n",
            "640.0519\t135.78398\n",
            "303.11395\t238.87405\n",
            "250.5692\t318.292\n",
            "1445.0203\t247.11429\n",
            "422.85272\t845.0062\n",
            "198.67966\t881.33386\n",
            "190.61682\t660.065\n",
            "319.27792\t309.66873\n",
            "1692.8793\t201.18251\n",
            "307.04855\t648.6746\n",
            "146.16379\t125.305305\n",
            "788.492\t271.2498\n",
            "614.72925\t625.1287\n",
            "204.39839\t625.2034\n",
            "265.1488\t1096.6249\n",
            "262.27942\t735.35803\n",
            "691.0701\t207.68608\n",
            "105.62381\t170.69649\n",
            "1036.2551\t276.0873\n",
            "554.98535\t684.8871\n",
            "711.8536\t368.16504\n",
            "172.21048\t1298.1902\n",
            "945.79266\t243.70158\n",
            "717.7444\t352.98273\n",
            "515.7872\t440.79602\n",
            "678.0092\t1206.3331\n",
            "254.35559\t228.95331\n",
            "271.7013\t1383.3107\n",
            "214.64352\t793.7196\n",
            "1059.8695\t468.54565\n",
            "206.79836\t146.63934\n",
            "240.30794\t750.7179\n",
            "1020.45105\t1390.1543\n",
            "599.26764\t610.3735\n",
            "797.4704\t645.1541\n",
            "1119.7776\t660.21423\n",
            "214.73393\t499.9732\n",
            "857.3665\t828.2723\n",
            "1321.6166\t491.6718\n",
            "659.0321\t691.38385\n",
            "339.95685\t592.895\n",
            "792.89014\t1218.9152\n",
            "262.78934\t804.54175\n",
            "1131.9968\t256.34863\n",
            "758.1984\t1182.0261\n",
            "248.11253\t322.65985\n",
            "228.8129\t541.3465\n",
            "1877.4689\t269.7682\n",
            "1108.9205\t585.4734\n",
            "210.38737\t1319.0894\n",
            "283.01865\t1500.9121\n",
            "156.86203\t333.02032\n",
            "282.98416\t583.56274\n",
            "508.36148\t748.9977\n",
            "278.7495\t794.2231\n",
            "161.75363\t637.39905\n",
            "1329.415\t707.7731\n",
            "359.49005\t251.16823\n",
            "898.60364\t168.31926\n",
            "735.2467\t247.8862\n",
            "615.28345\t318.3019\n",
            "787.333\t1226.6952\n",
            "244.98604\t265.6669\n",
            "243.60349\t1160.9563\n",
            "312.30237\t1010.2154\n",
            "1249.1141\t328.1255\n",
            "218.56569\t777.0945\n",
            "295.4654\t211.49947\n",
            "1091.656\t126.43438\n",
            "173.46344\t786.23517\n",
            "304.43973\t671.77356\n",
            "833.481\t1232.1497\n",
            "315.78714\t231.11716\n",
            "216.27325\t760.1031\n",
            "676.91974\t610.3284\n",
            "212.47946\t280.2296\n",
            "501.5487\t789.9145\n",
            "765.04065\t223.40546\n",
            "661.53845\t1103.0576\n",
            "1058.6232\t499.9918\n",
            "661.7874\t336.95947\n",
            "1005.1677\t1616.4116\n",
            "222.635\t1363.3262\n",
            "226.76048\t312.70718\n",
            "1126.4868\t270.91183\n",
            "1017.3097\t243.42468\n",
            "574.70123\t220.5029\n",
            "498.58273\t540.8648\n",
            "608.4636\t606.25793\n",
            "208.15137\t639.5052\n",
            "191.0207\t299.57172\n",
            "1323.9312\t315.5631\n",
            "923.2568\t497.22693\n",
            "809.61395\t498.77618\n",
            "165.83337\t640.0404\n",
            "1214.3895\t199.08827\n",
            "568.18384\t653.3334\n",
            "273.19888\t217.43167\n",
            "847.2906\t358.6358\n",
            "492.01126\t912.13794\n",
            "170.31206\t352.2615\n",
            "611.9637\t632.8982\n",
            "248.77985\t481.1595\n",
            "170.03113\t226.82097\n",
            "178.54721\t1616.8948\n",
            "350.31598\t256.4033\n",
            "108.98117\t862.8234\n",
            "2009.2726\t534.9703\n",
            "127.49613\t329.65808\n",
            "774.23425\t676.72687\n",
            "197.32024\t1139.3591\n",
            "521.79767\t719.72656\n",
            "290.59433\t517.6524\n",
            "627.14685\t208.58257\n",
            "520.9711\t695.8955\n",
            "144.42752\t1118.6086\n",
            "1075.9596\t179.48994\n",
            "1536.952\t865.8176\n",
            "211.0664\t743.4735\n",
            "283.8776\t518.0989\n",
            "579.9981\t284.60754\n",
            "593.6233\t868.32697\n",
            "648.32733\t1015.1074\n",
            "704.6929\t706.7624\n",
            "193.39151\t635.3495\n",
            "268.5078\t769.84686\n",
            "2189.6099\t169.02982\n",
            "266.82974\t551.9361\n",
            "150.69719\t587.9236\n",
            "805.6652\t249.77985\n",
            "243.80994\t503.09088\n",
            "1552.8146\t515.2169\n",
            "222.72205\t568.8417\n",
            "583.7573\t1233.0603\n",
            "235.74773\t571.69836\n",
            "204.93066\t740.1771\n",
            "561.81256\t200.93806\n",
            "822.9447\t499.315\n",
            "658.7799\t185.47716\n",
            "1104.7299\t216.87276\n",
            "629.0011\t731.343\n",
            "633.60175\t169.22324\n",
            "769.2804\t205.87183\n",
            "1134.8721\t696.02527\n",
            "763.93134\t902.58014\n",
            "259.28735\t719.69916\n",
            "508.3345\t373.31723\n",
            "1113.5076\t1334.8436\n",
            "316.28\t763.309\n",
            "506.2521\t591.76514\n",
            "542.53955\t824.78265\n",
            "309.64233\t588.2421\n",
            "884.59467\t717.9784\n",
            "268.97363\t1117.2017\n",
            "170.03732\t1195.2363\n",
            "172.0818\t199.00858\n",
            "202.59341\t360.11453\n",
            "549.3\t1532.4115\n",
            "1062.0092\t231.61905\n",
            "528.5334\t845.0839\n",
            "690.9291\t710.5322\n",
            "790.6416\t417.08374\n",
            "331.09586\t650.5882\n",
            "327.70657\t196.93039\n",
            "1005.5823\t217.316\n",
            "597.65076\t905.29\n",
            "1006.0155\t1290.2083\n",
            "1391.9437\t214.57433\n",
            "907.80536\t164.90967\n",
            "295.80585\t308.8527\n",
            "466.38654\t323.88943\n",
            "323.29648\t295.49286\n",
            "1125.8258\t217.34627\n",
            "1144.608\t540.2092\n",
            "342.65582\t277.04843\n",
            "555.57324\t410.95767\n",
            "567.6808\t189.75768\n",
            "148.11412\t778.28033\n",
            "891.5818\t1285.9364\n",
            "1183.7842\t199.02135\n",
            "168.04047\t785.8709\n",
            "123.82213\t747.0278\n",
            "228.02263\t723.6128\n",
            "802.38367\t223.03079\n",
            "1208.1975\t439.64542\n",
            "1332.4504\t268.91983\n",
            "1036.3867\t285.60657\n",
            "733.07855\t467.9171\n",
            "548.85394\t1081.4698\n",
            "930.4952\t366.69513\n",
            "1021.3252\t1298.7167\n",
            "914.0028\t207.98866\n",
            "581.3303\t191.61722\n",
            "631.35175\t520.3263\n",
            "736.04425\t480.53726\n",
            "254.95781\t153.94012\n",
            "542.00543\t1327.4652\n",
            "188.49458\t478.33847\n",
            "181.32533\t675.8883\n",
            "300.1824\t162.64499\n",
            "535.0171\t375.42072\n",
            "444.0963\t135.00836\n",
            "1190.4164\t235.68718\n",
            "412.65222\t170.2225\n",
            "497.9315\t745.49915\n",
            "681.2088\t728.12366\n",
            "624.69415\t495.71872\n",
            "933.45355\t982.6446\n",
            "188.7259\t593.22906\n",
            "994.56323\t107.359825\n",
            "696.4978\t1226.9639\n",
            "971.5247\t1114.7788\n",
            "711.73395\t287.3657\n",
            "740.9843\t343.92526\n",
            "625.11035\t532.53076\n",
            "1048.0107\t182.93556\n",
            "166.8127\t779.842\n",
            "728.8396\t338.84848\n",
            "521.367\t584.8212\n",
            "481.17474\t149.95915\n",
            "149.43127\t393.00714\n",
            "859.37213\t749.6931\n",
            "600.85406\t1003.62634\n",
            "1013.9294\t894.579\n",
            "275.7435\t1182.8652\n",
            "168.11185\t857.0248\n",
            "239.08763\t722.9313\n",
            "1183.4476\t842.1583\n",
            "250.30713\t237.88437\n",
            "490.31097\t681.79645\n",
            "837.10376\t285.48013\n",
            "329.87015\t693.33594\n",
            "312.30707\t807.28265\n",
            "204.65376\t991.3042\n",
            "870.3989\t137.738\n",
            "512.2727\t320.2074\n",
            "979.91864\t699.2303\n",
            "576.8649\t650.95776\n",
            "264.16882\t849.71277\n",
            "706.7276\t269.04572\n",
            "881.27637\t558.58374\n",
            "127.90166\t1241.2399\n",
            "1020.003\t202.09885\n",
            "325.215\t168.96944\n",
            "713.04474\t824.8722\n",
            "429.38126\t516.2975\n",
            "512.3284\t531.1621\n",
            "522.4781\t296.1769\n",
            "713.39856\t687.7145\n",
            "207.22206\t309.81876\n",
            "1076.607\t464.35223\n",
            "1099.3383\t697.9465\n",
            "347.70627\t417.23157\n",
            "159.05264\t439.9001\n",
            "515.6705\t296.57022\n",
            "1090.6329\t506.87415\n",
            "555.06854\t700.29315\n",
            "1054.7247\t603.82227\n",
            "683.5956\t203.76096\n",
            "494.84702\t1631.6606\n",
            "157.6171\t180.49744\n",
            "632.27435\t679.6684\n",
            "212.72093\t651.73627\n",
            "216.1145\t726.4283\n",
            "809.1291\t898.88837\n",
            "689.9949\t548.5085\n",
            "383.22906\t252.66765\n",
            "460.69406\t685.3325\n",
            "594.17596\t517.37384\n",
            "543.7191\t552.6692\n",
            "697.5045\t316.15735\n",
            "756.5905\t455.34583\n",
            "164.75787\t524.08887\n",
            "805.5979\t964.2095\n",
            "225.17267\t529.2898\n",
            "1704.6472\t614.8128\n",
            "555.9072\t434.9756\n",
            "211.70415\t597.8682\n",
            "670.73083\t558.169\n",
            "982.5948\t692.6692\n",
            "369.9669\t769.09576\n",
            "263.6404\t505.1317\n",
            "255.29268\t277.0544\n",
            "916.7304\t333.6345\n",
            "1390.3667\t603.18604\n",
            "151.01451\t225.25067\n",
            "574.0882\t949.4319\n",
            "427.24902\t193.96661\n",
            "840.9801\t672.37695\n",
            "358.10043\t1043.4386\n",
            "541.12085\t451.13504\n",
            "480.1446\t201.0629\n",
            "165.82245\t175.48633\n",
            "234.74622\t687.24884\n",
            "682.90497\t283.425\n",
            "912.90326\t156.2983\n",
            "703.9852\t627.0881\n",
            "274.167\t1087.6752\n",
            "257.05283\t820.45917\n",
            "188.3471\t115.86375\n",
            "160.56604\t211.72737\n",
            "307.5093\t1168.5637\n",
            "188.82256\t771.2016\n",
            "1469.6212\t1635.081\n",
            "291.85852\t238.58693\n",
            "1160.99\t876.5702\n",
            "988.0195\t651.15845\n",
            "761.893\t285.23566\n",
            "354.4486\t317.2663\n",
            "1161.4047\t318.70844\n",
            "552.1087\t148.92351\n",
            "314.23444\t171.2107\n",
            "116.41091\t142.62318\n",
            "222.00351\t175.04892\n",
            "241.9818\t1204.5996\n",
            "200.44753\t772.4067\n",
            "140.60213\t485.0689\n",
            "1076.6108\t603.159\n",
            "790.9358\t723.8183\n",
            "370.6962\t240.28635\n",
            "523.25146\t262.50458\n",
            "741.91547\t672.90533\n",
            "227.7444\t513.2466\n",
            "1125.9208\t203.28662\n",
            "270.6487\t107.33787\n",
            "187.71968\t516.03564\n",
            "105.165115\t207.957\n",
            "152.54938\t283.18365\n",
            "1196.1484\t177.2167\n",
            "322.38312\t933.80084\n",
            "663.4088\t245.09995\n",
            "572.8063\t766.3434\n",
            "622.08856\t210.44563\n",
            "816.513\t306.3499\n",
            "321.67828\t598.19135\n",
            "403.24075\t728.9226\n",
            "607.179\t477.9693\n",
            "220.48645\t836.2513\n",
            "146.09557\t474.86343\n",
            "902.7712\t927.49225\n",
            "177.65033\t253.1398\n",
            "480.21503\t115.04534\n",
            "165.99533\t634.2076\n",
            "251.94429\t156.94882\n",
            "856.61694\t242.85645\n",
            "158.0383\t222.5294\n",
            "331.87115\t245.92575\n",
            "302.1322\t553.34766\n",
            "191.84122\t565.4755\n",
            "571.6677\t606.34937\n",
            "170.80069\t455.16226\n",
            "387.27786\t677.8532\n",
            "130.0679\t575.84393\n",
            "797.15344\t814.8986\n",
            "315.85092\t157.58437\n",
            "528.95715\t778.63464\n",
            "240.4627\t780.6706\n",
            "1040.949\t362.61386\n",
            "636.39374\t251.4131\n",
            "919.4281\t712.70245\n",
            "678.6667\t221.63641\n",
            "169.59732\t785.34485\n",
            "290.62766\t235.02957\n",
            "193.44379\t369.67935\n",
            "605.751\t1054.1516\n",
            "719.1353\t202.19499\n",
            "203.29108\t501.4358\n",
            "353.8977\t233.60689\n",
            "736.00433\t383.92746\n",
            "514.93524\t470.23883\n",
            "421.67618\t266.86032\n",
            "445.01544\t247.84033\n",
            "272.90082\t166.29733\n",
            "420.9473\t473.20724\n",
            "277.7322\t688.35706\n",
            "918.6748\t895.8236\n",
            "254.74806\t416.4442\n",
            "245.58261\t970.6934\n",
            "495.54895\t402.55847\n",
            "163.04134\t215.72655\n",
            "287.97058\t191.0373\n",
            "164.2722\t231.69559\n",
            "1103.6744\t170.2895\n",
            "868.75104\t159.08394\n",
            "927.5209\t757.5926\n",
            "358.52863\t149.32909\n",
            "287.63254\t551.3711\n",
            "351.1167\t834.3277\n",
            "639.279\t583.1895\n",
            "242.82495\t827.34924\n",
            "544.6829\t142.24208\n",
            "273.7317\t335.35382\n",
            "183.09319\t251.96165\n",
            "559.9249\t131.65039\n",
            "152.71904\t691.501\n",
            "787.60925\t592.185\n",
            "673.15753\t323.36502\n",
            "308.57504\t531.93744\n",
            "129.4917\t515.25073\n",
            "672.0397\t269.8926\n",
            "261.61136\t124.929344\n",
            "196.93433\t413.9994\n",
            "278.59207\t225.19615\n",
            "1087.6302\t619.09143\n",
            "558.9732\t393.0227\n",
            "578.2328\t699.473\n",
            "533.47\t891.09607\n",
            "441.22955\t606.69464\n",
            "468.2364\t431.51355\n",
            "501.61224\t212.73402\n",
            "526.67334\t91.3002\n",
            "144.27162\t204.40375\n",
            "891.3472\t1327.1997\n",
            "320.17154\t606.0034\n",
            "704.9281\t234.0116\n",
            "Saved model!\n"
          ],
          "name": "stdout"
        },
        {
          "output_type": "display_data",
          "data": {
            "image/png": "[encoded data removed]",
            "text/plain": [
              "<Figure size 432x288 with 1 Axes>"
            ]
          },
          "metadata": {
            "tags": []
          }
        }
      ]
    },
    {
      "cell_type": "code",
      "metadata": {
        "id": "8M8TaaKjKKhx",
        "colab_type": "code",
        "colab": {
          "base_uri": "https://localhost:8080/",
          "height": 35
        },
        "outputId": "2768e9a4-4c8f-4e6a-ec90-88da992f5818"
      },
      "source": [
        "print(z)"
      ],
      "execution_count": 24,
      "outputs": [
        {
          "output_type": "stream",
          "text": [
            "[665.58075, None]\n"
          ],
          "name": "stdout"
        }
      ]
    },
    {
      "cell_type": "code",
      "metadata": {
        "id": "kBF7bLIKLgJT",
        "colab_type": "code",
        "colab": {}
      },
      "source": [
        ""
      ],
      "execution_count": 0,
      "outputs": []
    },
    {
      "cell_type": "code",
      "metadata": {
        "id": "m6NOtjniKECI",
        "colab_type": "code",
        "colab": {
          "base_uri": "https://localhost:8080/",
          "height": 35
        },
        "outputId": "8e203c39-76a0-4831-a287-f29f5d79183c"
      },
      "source": [
        ""
      ],
      "execution_count": 23,
      "outputs": [
        {
          "output_type": "stream",
          "text": [
            "[<tf.Tensor 'add:0' shape=() dtype=float32>]\n"
          ],
          "name": "stdout"
        }
      ]
    },
    {
      "cell_type": "code",
      "metadata": {
        "id": "GOCKeDcHDKe7",
        "colab_type": "code",
        "colab": {}
      },
      "source": [
        "with open('/content/drive/My Drive/Custom_Models/graph1000_64updhidden.pb', 'wb') as f:\n",
        "  f.write(tf.get_default_graph().as_graph_def().SerializeToString())"
      ],
      "execution_count": 0,
      "outputs": []
    },
    {
      "cell_type": "code",
      "metadata": {
        "id": "orqHTKay9Mxd",
        "colab_type": "code",
        "outputId": "9242dab3-b52d-4a93-b06c-1bc628293a2c",
        "colab": {
          "base_uri": "https://localhost:8080/",
          "height": 287
        }
      },
      "source": [
        "plt.plot(train)\n",
        "plt.plot(val)"
      ],
      "execution_count": 0,
      "outputs": [
        {
          "output_type": "execute_result",
          "data": {
            "text/plain": [
              "[<matplotlib.lines.Line2D at 0x7f22f0ea1320>]"
            ]
          },
          "metadata": {
            "tags": []
          },
          "execution_count": 301
        },
        {
          "output_type": "display_data",
          "data": {
            "image/png": "[encoded data removed]",
            "text/plain": [
              "<Figure size 432x288 with 1 Axes>"
            ]
          },
          "metadata": {
            "tags": []
          }
        }
      ]
    },
    {
      "cell_type": "code",
      "metadata": {
        "id": "gD0khtg3KTgJ",
        "colab_type": "code",
        "outputId": "0916bd84-0693-4b06-a6b5-1ca2bfc26974",
        "colab": {
          "base_uri": "https://localhost:8080/",
          "height": 121
        }
      },
      "source": [
        "tf.trainable_variables()"
      ],
      "execution_count": 63,
      "outputs": [
        {
          "output_type": "execute_result",
          "data": {
            "text/plain": [
              "[<tf.Variable 'Variable:0' shape=(4106, 6500) dtype=float32_ref>,\n",
              " <tf.Variable 'Variable_1:0' shape=(1, 6500) dtype=float32_ref>,\n",
              " <tf.Variable 'Variable_2:0' shape=(6500, 1) dtype=float32_ref>,\n",
              " <tf.Variable 'Variable_3:0' shape=(1, 1) dtype=float32_ref>,\n",
              " <tf.Variable 'batch_normalization/gamma:0' shape=(6500,) dtype=float32_ref>,\n",
              " <tf.Variable 'batch_normalization/beta:0' shape=(6500,) dtype=float32_ref>]"
            ]
          },
          "metadata": {
            "tags": []
          },
          "execution_count": 63
        }
      ]
    },
    {
      "cell_type": "code",
      "metadata": {
        "id": "4jDYAwuWLCwm",
        "colab_type": "code",
        "colab": {}
      },
      "source": [
        "with open('/content/drive/My Drive/Custom_Models/graph1000_updatedloss.pb', 'rb') as f:\n",
        "  g1 = f.read()\n",
        "with open('/content/drive/My Drive/Custom_Models/graph1000.pb', 'rb') as f:\n",
        "  g2 = f.read()"
      ],
      "execution_count": 0,
      "outputs": []
    },
    {
      "cell_type": "code",
      "metadata": {
        "id": "rydcEfK485EM",
        "colab_type": "code",
        "outputId": "09e7d0a5-490d-43db-b16f-5231dab7bf56",
        "colab": {
          "base_uri": "https://localhost:8080/",
          "height": 307
        }
      },
      "source": [
        "diff = pywrap_tensorflow.EqualGraphDefWrapper(g1,g2) \n",
        "#plt.plot(diff)"
      ],
      "execution_count": 0,
      "outputs": [
        {
          "output_type": "execute_result",
          "data": {
            "text/plain": [
              "[<matplotlib.lines.Line2D at 0x7f22f0fc51d0>]"
            ]
          },
          "metadata": {
            "tags": []
          },
          "execution_count": 146
        },
        {
          "output_type": "display_data",
          "data": {
            "image/png": "[encoded data removed]",
            "text/plain": [
              "<Figure size 432x288 with 1 Axes>"
            ]
          },
          "metadata": {
            "tags": []
          }
        }
      ]
    },
    {
      "cell_type": "code",
      "metadata": {
        "id": "f3mVdMNrLZdj",
        "colab_type": "code",
        "outputId": "867577c7-363c-4df7-bea4-96cb0aad3130",
        "colab": {
          "base_uri": "https://localhost:8080/",
          "height": 35
        }
      },
      "source": [
        ""
      ],
      "execution_count": 0,
      "outputs": [
        {
          "output_type": "execute_result",
          "data": {
            "text/plain": [
              "56"
            ]
          },
          "metadata": {
            "tags": []
          },
          "execution_count": 282
        }
      ]
    },
    {
      "cell_type": "code",
      "metadata": {
        "id": "qN9Mx1WhxBUO",
        "colab_type": "code",
        "outputId": "fe0334c5-e35f-4bfc-fd87-173e4f0d6d20",
        "colab": {
          "base_uri": "https://localhost:8080/",
          "height": 35
        }
      },
      "source": [
        ""
      ],
      "execution_count": 0,
      "outputs": [
        {
          "output_type": "execute_result",
          "data": {
            "text/plain": [
              "400"
            ]
          },
          "metadata": {
            "tags": []
          },
          "execution_count": 283
        }
      ]
    },
    {
      "cell_type": "code",
      "metadata": {
        "id": "5hEigRXxxFPi",
        "colab_type": "code",
        "colab": {}
      },
      "source": [
        ""
      ],
      "execution_count": 0,
      "outputs": []
    }
  ]
}