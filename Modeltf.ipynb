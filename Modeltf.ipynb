{
  "nbformat": 4,
  "nbformat_minor": 0,
  "metadata": {
    "colab": {
      "name": "Modeltf.ipynb",
      "version": "0.3.2",
      "provenance": [],
      "collapsed_sections": [],
      "include_colab_link": true
    },
    "kernelspec": {
      "name": "python3",
      "display_name": "Python 3"
    },
    "accelerator": "GPU"
  },
  "cells": [
    {
      "cell_type": "markdown",
      "metadata": {
        "id": "view-in-github",
        "colab_type": "text"
      },
      "source": [
        "<a href=\"https://colab.research.google.com/github/harshitadd/Celestini/blob/master/Modeltf.ipynb\" target=\"_parent\"><img src=\"https://colab.research.google.com/assets/colab-badge.svg\" alt=\"Open In Colab\"/></a>"
      ]
    },
    {
      "cell_type": "code",
      "metadata": {
        "id": "bdDag8n7lyzH",
        "colab_type": "code",
        "colab": {}
      },
      "source": [
        "#!pip install joblib\n",
        "import tensorflow as tf \n",
        "import pickle\n",
        "#from sklearn.externals import joblib\n",
        "import numpy as np\n",
        "from tensorflow.python.client import device_lib\n",
        "from tensorflow.saved_model import simple_save\n",
        "import random\n",
        "import matplotlib.pyplot as plt \n",
        "import math\n",
        "import warnings\n",
        "from sklearn.model_selection import train_test_split\n",
        "from tensorflow.python import pywrap_tensorflow\n"
      ],
      "execution_count": 0,
      "outputs": []
    },
    {
      "cell_type": "code",
      "metadata": {
        "id": "vO8kr5epl6xf",
        "colab_type": "code",
        "outputId": "ae31ce2f-c5d4-4cf7-8bb3-f557b9551c32",
        "colab": {
          "base_uri": "https://localhost:8080/",
          "height": 35
        }
      },
      "source": [
        "from google.colab import drive\n",
        "drive.mount('/content/drive')\n"
      ],
      "execution_count": 286,
      "outputs": [
        {
          "output_type": "stream",
          "text": [
            "Drive already mounted at /content/drive; to attempt to forcibly remount, call drive.mount(\"/content/drive\", force_remount=True).\n"
          ],
          "name": "stdout"
        }
      ]
    },
    {
      "cell_type": "code",
      "metadata": {
        "id": "_pKAD2gofS-S",
        "colab_type": "code",
        "colab": {}
      },
      "source": [
        "## 64 BIT (2253,4016)\n",
        "'''\n",
        "with open('/content/drive/My Drive/ffeatures64.bin','rb') as file:\n",
        "  features = pickle.load(file)\n",
        "with open('/content/drive/My Drive/flabels64.bin','rb') as file:\n",
        "  labels = pickle.load(file)\n",
        "'''"
      ],
      "execution_count": 0,
      "outputs": []
    },
    {
      "cell_type": "code",
      "metadata": {
        "id": "E4zajrgWXx0u",
        "colab_type": "code",
        "colab": {}
      },
      "source": [
        "## 48 BIT (2253,2315)\n",
        "'''\n",
        "features = joblib.load('/content/features48.pkl')\n",
        "labels = joblib.load('/content/labels48.pkl')\n",
        "'''"
      ],
      "execution_count": 0,
      "outputs": []
    },
    {
      "cell_type": "code",
      "metadata": {
        "id": "sokkAXrXbDga",
        "colab_type": "code",
        "colab": {}
      },
      "source": [
        "## 56 BIT (2253,3147)\n",
        "\n",
        "# features = joblib.load('/content/features56.pkl')\n",
        "# labels = joblib.load('/content/labels56.pkl')\n"
      ],
      "execution_count": 0,
      "outputs": []
    },
    {
      "cell_type": "code",
      "metadata": {
        "id": "EW0kHCZldbJY",
        "colab_type": "code",
        "colab": {}
      },
      "source": [
        "## 64 BIT (2253,3147)\n",
        "\n",
        "features = joblib.load('/content/features64.pkl')\n",
        "labels = joblib.load('/content/labels64.pkl')\n"
      ],
      "execution_count": 0,
      "outputs": []
    },
    {
      "cell_type": "code",
      "metadata": {
        "id": "-Bnp3GODSODa",
        "colab_type": "code",
        "colab": {}
      },
      "source": [
        "## 32 BIT (2253,1035)\n",
        "\n",
        "# features = joblib.load('/content/features32.pkl')\n",
        "# labels = joblib.load('/content/labels32.pkl')"
      ],
      "execution_count": 0,
      "outputs": []
    },
    {
      "cell_type": "code",
      "metadata": {
        "id": "fJ2cpkrT1ypE",
        "colab_type": "code",
        "outputId": "a1ff7255-ea06-44ce-b5b6-38b3ca2cc214",
        "colab": {
          "base_uri": "https://localhost:8080/",
          "height": 55
        }
      },
      "source": [
        "## 16 BIT (2253,267)\n",
        "'''\n",
        "features = joblib.load('/content/features16.pkl')\n",
        "labels = joblib.load('/content/labels16.pkl')\n",
        "'''"
      ],
      "execution_count": 0,
      "outputs": [
        {
          "output_type": "execute_result",
          "data": {
            "text/plain": [
              "\"\\nfeatures = joblib.load('/content/features16.pkl')\\nlabels = joblib.load('/content/labels16.pkl')\\n\""
            ]
          },
          "metadata": {
            "tags": []
          },
          "execution_count": 275
        }
      ]
    },
    {
      "cell_type": "code",
      "metadata": {
        "id": "V7J8tBqof4QU",
        "colab_type": "code",
        "outputId": "7da1b1dd-9349-44fe-fb4f-f362d07d96f6",
        "colab": {
          "base_uri": "https://localhost:8080/",
          "height": 35
        }
      },
      "source": [
        "# print(features[0])\n",
        "# print(len(features[0]))\n",
        "# print(len(features))\n",
        "print(np.shape(features))"
      ],
      "execution_count": 288,
      "outputs": [
        {
          "output_type": "stream",
          "text": [
            "(2253, 4107)\n"
          ],
          "name": "stdout"
        }
      ]
    },
    {
      "cell_type": "code",
      "metadata": {
        "id": "o6Zxm0XF0DlH",
        "colab_type": "code",
        "colab": {}
      },
      "source": [
        "## TEST SET \n",
        "\n",
        "x_train_t, x_test_t,y_train_t, y_test_t = train_test_split(features, labels, test_size = 0.3)"
      ],
      "execution_count": 0,
      "outputs": []
    },
    {
      "cell_type": "code",
      "metadata": {
        "id": "gAlnu945gPXq",
        "colab_type": "code",
        "colab": {}
      },
      "source": [
        "tf.reset_default_graph()"
      ],
      "execution_count": 0,
      "outputs": []
    },
    {
      "cell_type": "code",
      "metadata": {
        "id": "rkXJ4fuuhWgh",
        "colab_type": "code",
        "outputId": "e41dd9bd-a2e2-469d-8dd2-61d2e965b334",
        "colab": {
          "base_uri": "https://localhost:8080/",
          "height": 555
        }
      },
      "source": [
        "print(device_lib.list_local_devices())\n"
      ],
      "execution_count": 291,
      "outputs": [
        {
          "output_type": "stream",
          "text": [
            "[name: \"/device:CPU:0\"\n",
            "device_type: \"CPU\"\n",
            "memory_limit: 268435456\n",
            "locality {\n",
            "}\n",
            "incarnation: 10695248307214488202\n",
            ", name: \"/device:XLA_CPU:0\"\n",
            "device_type: \"XLA_CPU\"\n",
            "memory_limit: 17179869184\n",
            "locality {\n",
            "}\n",
            "incarnation: 6949615099271388627\n",
            "physical_device_desc: \"device: XLA_CPU device\"\n",
            ", name: \"/device:XLA_GPU:0\"\n",
            "device_type: \"XLA_GPU\"\n",
            "memory_limit: 17179869184\n",
            "locality {\n",
            "}\n",
            "incarnation: 5450290982856377801\n",
            "physical_device_desc: \"device: XLA_GPU device\"\n",
            ", name: \"/device:GPU:0\"\n",
            "device_type: \"GPU\"\n",
            "memory_limit: 14892338381\n",
            "locality {\n",
            "  bus_id: 1\n",
            "  links {\n",
            "  }\n",
            "}\n",
            "incarnation: 16543642195310958153\n",
            "physical_device_desc: \"device: 0, name: Tesla T4, pci bus id: 0000:00:04.0, compute capability: 7.5\"\n",
            "]\n"
          ],
          "name": "stdout"
        }
      ]
    },
    {
      "cell_type": "code",
      "metadata": {
        "id": "M8zj52CuhmPD",
        "colab_type": "code",
        "colab": {}
      },
      "source": [
        "x = tf.placeholder(shape = (None,4107), dtype = tf.float32, name = 'input' )\n",
        "y = tf.placeholder(shape = (None,1), dtype = tf.float32, name = 'target')\n",
        "\n",
        "wh = tf.Variable(tf.glorot_uniform_initializer(dtype = tf.float32)((4107, 7000)))\n",
        "bh = tf.Variable(tf.glorot_uniform_initializer(dtype = tf.float32)((1,7000)))\n",
        "\n",
        "#out\n",
        "\n",
        "wo = tf.Variable(tf.glorot_uniform_initializer(dtype = tf.float32)((7000,1)))\n",
        "bo = tf.Variable(tf.glorot_uniform_initializer(dtype = tf.float32)((1,1)))\n",
        "\n",
        "\n",
        "                "
      ],
      "execution_count": 0,
      "outputs": []
    },
    {
      "cell_type": "code",
      "metadata": {
        "id": "92_mLSDYpmcv",
        "colab_type": "code",
        "colab": {}
      },
      "source": [
        "hidl = tf.add(tf.matmul(x,wh),bh, name ='hidden1')"
      ],
      "execution_count": 0,
      "outputs": []
    },
    {
      "cell_type": "code",
      "metadata": {
        "id": "SYnF_9OusKXw",
        "colab_type": "code",
        "colab": {}
      },
      "source": [
        "outl = tf.add(tf.matmul(hidl,wo),bo,name = 'output')"
      ],
      "execution_count": 0,
      "outputs": []
    },
    {
      "cell_type": "markdown",
      "metadata": {
        "id": "eiyIZ5_FvMjz",
        "colab_type": "text"
      },
      "source": [
        "Add additional custom loss functions if necc \n",
        "reducing mean sqaure error \n",
        "1. reducing max deviation "
      ]
    },
    {
      "cell_type": "code",
      "metadata": {
        "id": "8OdDRQggsq5N",
        "colab_type": "code",
        "colab": {}
      },
      "source": [
        "loss = tf.reduce_mean(tf.square(tf.subtract(y,outl))) + 0.3*tf.reduce_max(tf.subtract(y,outl))\n",
        "#default lr = 0.001\n",
        "opt = tf.train.AdamOptimizer(name = 'optimizer')\n",
        "op_train = opt.minimize(loss, name ='train_op')"
      ],
      "execution_count": 0,
      "outputs": []
    },
    {
      "cell_type": "code",
      "metadata": {
        "id": "vgbtgE_CvDzV",
        "colab_type": "code",
        "colab": {}
      },
      "source": [
        "saved = tf.train.Saver().as_saver_def()"
      ],
      "execution_count": 0,
      "outputs": []
    },
    {
      "cell_type": "code",
      "metadata": {
        "id": "xLnEbChLyH82",
        "colab_type": "code",
        "colab": {}
      },
      "source": [
        "init = tf.global_variables_initializer()"
      ],
      "execution_count": 0,
      "outputs": []
    },
    {
      "cell_type": "code",
      "metadata": {
        "id": "nh28JgrUxRjT",
        "colab_type": "code",
        "outputId": "f6b694d0-3728-42f5-c406-3a52d88a8b27",
        "colab": {
          "base_uri": "https://localhost:8080/",
          "height": 1000
        }
      },
      "source": [
        "train=[]\n",
        "val=[]\n",
        "with tf.device('/device:CPU:0'):\n",
        "  save = tf.train.Saver()\n",
        "  with tf.Session() as sess:\n",
        "    sess.run(init)\n",
        "    mini =[]\n",
        "    for i in range(0,500):\n",
        "      b1=[]\n",
        "      b2=[]\n",
        "      l1=[]\n",
        "      l2=[]\n",
        "      b1_val=[]\n",
        "      b2_val=[]\n",
        "      l1_val=[]\n",
        "      l2_val=[]\n",
        "      x_traint, x_test_t,y_traint, y_test_t = train_test_split(features, labels, test_size = 0.3)\n",
        "      x_trainv, x_testv, y_trainv, y_testv = train_test_split(x_traint, y_traint, test_size = 0.3)\n",
        "      \n",
        "      for j in range(16): ##One run is appending 2 random lists \n",
        "        \n",
        "        ##TRAINING MINI BATCHES \n",
        "        \n",
        "        seed = random.choice(range(len(x_trainv)))\n",
        "        i = random.choice(range(len(x_trainv)))\n",
        "        \n",
        "        b1.append(x_trainv[seed])\n",
        "        b2.append(x_trainv[i])\n",
        "        l1.append(y_trainv[seed])\n",
        "        l2.append(y_trainv[i])\n",
        "        \n",
        "        x_batch = np.vstack((b1,b2))\n",
        "        y_batch = np.vstack((l1,l2))\n",
        "        \n",
        "        ##VALIDATION MINI BATCHES \n",
        "        \n",
        "        seed_val = random.choice(range(len(x_traint)))\n",
        "        i_val = random.choice(range(len(x_traint)))\n",
        "        \n",
        "        b1_val.append(x_traint[seed_val])\n",
        "        b2_val.append(x_traint[i_val])\n",
        "        l1_val.append(y_traint[seed_val])\n",
        "        l2_val.append(y_traint[i_val])\n",
        "        \n",
        "        x_batch_val = np.vstack((b1_val,b2_val))\n",
        "        y_batch_val = np.vstack((l1_val,l2_val))\n",
        "      \n",
        "      ## TRAINING LOSS\n",
        "      z= sess.run([loss,op_train], feed_dict = {x : x_batch, y: y_batch })\n",
        "      train.append(z[0])\n",
        "      ##VALIDATION LOSS\n",
        "      z_val= sess.run([loss], feed_dict = {x : x_batch_val, y: y_batch_val })\n",
        "      val.append(z_val[0])\n",
        "      \n",
        "      print(str(z[0]) + '\\t' + str(z_val[0]))\n",
        "    \n",
        "    \n",
        "    simple_save(sess,'/content/drive/My Drive/Custom_Models/model1000_64updhidden',inputs = {'input' : x}, outputs = {'output': outl})\n",
        "    print('Saved model!')\n",
        "    "
      ],
      "execution_count": 299,
      "outputs": [
        {
          "output_type": "stream",
          "text": [
            "4222.431\t57508.43\n",
            "53370.37\t4321.9756\n",
            "4777.5015\t7511.1357\n",
            "9557.372\t23996.027\n",
            "21765.898\t19311.48\n",
            "17738.088\t6121.559\n",
            "6247.668\t235.59573\n",
            "1043.7715\t4914.648\n",
            "3978.0535\t8629.1\n",
            "8710.55\t11313.72\n",
            "8707.353\t6905.777\n",
            "5402.921\t2932.9307\n",
            "3176.0913\t660.3533\n",
            "467.52515\t682.7811\n",
            "400.38376\t2931.7925\n",
            "2261.5898\t5024.9746\n",
            "3820.4954\t4547.5894\n",
            "4870.8296\t2495.9705\n",
            "5594.924\t4198.0933\n",
            "1796.916\t1655.2852\n",
            "1047.1876\t770.83655\n",
            "1032.4462\t714.21063\n",
            "368.42538\t667.38696\n",
            "1003.71265\t1637.6635\n",
            "1176.7194\t2243.2688\n",
            "1641.045\t1299.6798\n",
            "1736.4258\t1808.41\n",
            "1396.2529\t1549.331\n",
            "978.1431\t668.7198\n",
            "696.349\t784.12994\n",
            "272.13596\t769.35205\n",
            "571.59503\t291.41702\n",
            "1079.2421\t360.46127\n",
            "186.5605\t1703.5303\n",
            "270.52725\t651.76483\n",
            "337.02875\t634.50525\n",
            "1122.1713\t278.76355\n",
            "365.05594\t1238.4814\n",
            "480.89484\t1387.6318\n",
            "1627.6285\t363.2862\n",
            "315.8927\t883.87164\n",
            "1443.7948\t858.07935\n",
            "1330.1383\t259.1857\n",
            "867.3398\t1094.7682\n",
            "1365.9458\t796.4028\n",
            "1254.2273\t927.8576\n",
            "524.82886\t847.8657\n",
            "728.45245\t1069.4662\n",
            "1366.1284\t890.81\n",
            "457.00006\t891.10706\n",
            "493.03278\t900.7498\n",
            "1105.2389\t321.50266\n",
            "688.7925\t692.6388\n",
            "306.49164\t1117.3856\n",
            "113.48616\t844.68274\n",
            "776.6182\t298.7619\n",
            "721.1918\t1059.0405\n",
            "296.71457\t954.5643\n",
            "848.9266\t907.643\n",
            "271.73938\t111.5416\n",
            "969.28467\t1355.1176\n",
            "331.62418\t1809.5221\n",
            "213.63504\t937.2106\n",
            "274.76147\t261.2363\n",
            "659.4581\t393.50262\n",
            "1163.4474\t628.3624\n",
            "1272.379\t210.77353\n",
            "1546.4327\t738.2465\n",
            "919.6445\t350.24866\n",
            "334.20035\t437.11462\n",
            "759.4094\t783.1044\n",
            "866.8679\t1273.2936\n",
            "579.29584\t990.7531\n",
            "937.72205\t273.4703\n",
            "322.37466\t731.5656\n",
            "325.76007\t1048.0524\n",
            "377.1652\t186.00043\n",
            "249.83636\t250.29121\n",
            "801.3156\t1196.7157\n",
            "1566.4421\t443.67422\n",
            "201.51219\t1471.6958\n",
            "1241.5342\t1562.134\n",
            "1390.2269\t1425.3752\n",
            "741.99774\t866.231\n",
            "156.70972\t1270.2942\n",
            "1223.7955\t714.9959\n",
            "682.29584\t450.28342\n",
            "435.79144\t815.2747\n",
            "349.5627\t902.87494\n",
            "482.51303\t721.0356\n",
            "315.43927\t751.00696\n",
            "1197.4652\t823.73346\n",
            "1365.9603\t834.6544\n",
            "426.46225\t305.45233\n",
            "324.387\t818.9426\n",
            "336.88528\t540.4876\n",
            "288.49304\t936.0846\n",
            "1217.6458\t723.74384\n",
            "584.54364\t1546.5477\n",
            "1199.2806\t208.0633\n",
            "170.27188\t943.2463\n",
            "223.69818\t749.1263\n",
            "246.65993\t919.35114\n",
            "229.96106\t166.25934\n",
            "782.1531\t1366.8903\n",
            "1357.0741\t800.2977\n",
            "327.38306\t147.75609\n",
            "790.6124\t1440.8203\n",
            "232.03305\t248.77322\n",
            "212.18456\t1036.4146\n",
            "1023.22473\t186.99838\n",
            "698.6237\t779.92596\n",
            "254.5635\t264.21747\n",
            "1030.4197\t583.2661\n",
            "287.65085\t309.62997\n",
            "363.30902\t1075.2142\n",
            "750.1242\t462.73907\n",
            "731.0526\t696.0601\n",
            "244.9895\t570.59247\n",
            "1410.2423\t229.61533\n",
            "472.26932\t221.06711\n",
            "265.6925\t301.46762\n",
            "523.86\t1188.1799\n",
            "738.08624\t1090.62\n",
            "1221.0906\t685.64343\n",
            "1388.676\t977.2984\n",
            "286.98053\t293.9069\n",
            "231.45667\t702.477\n",
            "1277.9095\t671.2492\n",
            "529.47046\t985.7331\n",
            "285.8492\t303.09045\n",
            "1218.1931\t736.7678\n",
            "811.0575\t261.2464\n",
            "672.8285\t738.6575\n",
            "835.5501\t838.163\n",
            "1357.89\t216.7895\n",
            "636.4943\t239.56111\n",
            "708.66187\t767.04376\n",
            "219.24135\t181.67584\n",
            "1132.7947\t201.41489\n",
            "609.885\t180.03789\n",
            "616.6569\t189.84259\n",
            "668.6046\t621.3469\n",
            "563.158\t889.9189\n",
            "879.6832\t655.8801\n",
            "217.17262\t263.47437\n",
            "1224.3782\t2174.499\n",
            "686.486\t704.598\n",
            "255.07515\t1202.4196\n",
            "1055.1077\t279.81604\n",
            "254.71143\t753.0077\n",
            "751.6434\t279.68634\n",
            "550.8389\t190.19852\n",
            "743.9023\t469.9921\n",
            "1659.8032\t826.952\n",
            "651.5863\t720.6942\n",
            "241.76492\t609.8921\n",
            "227.12929\t229.5683\n",
            "1317.5895\t314.4605\n",
            "1195.3295\t217.95726\n",
            "557.29755\t322.68512\n",
            "778.16785\t729.70886\n",
            "433.7499\t722.18494\n",
            "588.049\t344.97327\n",
            "211.82762\t741.9207\n",
            "555.49066\t605.0697\n",
            "652.2586\t186.54729\n",
            "735.12726\t1125.8335\n",
            "230.59921\t339.09485\n",
            "568.0794\t890.1548\n",
            "789.5243\t418.00906\n",
            "353.7893\t601.30255\n",
            "299.87622\t314.57428\n",
            "1817.5096\t961.80945\n",
            "1083.1323\t1207.8972\n",
            "283.70844\t385.82257\n",
            "764.51526\t321.95676\n",
            "939.72925\t1259.2772\n",
            "459.8145\t854.20166\n",
            "802.40515\t553.9292\n",
            "675.63654\t1402.4375\n",
            "248.51636\t1051.0394\n",
            "1041.0729\t217.85033\n",
            "572.14325\t282.0453\n",
            "1077.9525\t760.9491\n",
            "1100.0853\t270.711\n",
            "188.45433\t207.45277\n",
            "575.4718\t1171.4489\n",
            "814.6187\t515.72626\n",
            "533.0963\t590.8954\n",
            "733.979\t986.3221\n",
            "465.5597\t1257.6128\n",
            "1809.9664\t976.1539\n",
            "689.3484\t1214.8113\n",
            "935.8404\t838.08746\n",
            "290.53427\t480.5771\n",
            "877.0715\t633.4131\n",
            "347.1725\t848.04364\n",
            "977.2063\t778.0206\n",
            "216.25691\t122.17347\n",
            "247.58128\t1103.5428\n",
            "253.8853\t807.5862\n",
            "843.0388\t232.43706\n",
            "153.7304\t981.60144\n",
            "309.04565\t643.4337\n",
            "2000.9156\t2034.0708\n",
            "2063.7317\t212.24681\n",
            "989.51294\t407.03024\n",
            "422.3678\t1545.4974\n",
            "935.06696\t397.06998\n",
            "787.862\t477.3183\n",
            "571.3751\t1299.293\n",
            "343.55954\t747.556\n",
            "471.81882\t1458.6548\n",
            "105.38401\t924.6745\n",
            "1166.2651\t210.27556\n",
            "510.92407\t1219.551\n",
            "198.08105\t314.5037\n",
            "230.63838\t1192.9998\n",
            "855.83746\t177.11789\n",
            "854.22864\t811.6692\n",
            "147.31693\t259.2561\n",
            "431.99866\t1136.5652\n",
            "251.0696\t452.23834\n",
            "330.02072\t502.0032\n",
            "199.6533\t898.40497\n",
            "1058.7234\t256.33246\n",
            "154.57407\t753.77893\n",
            "759.941\t682.3434\n",
            "477.54413\t1227.4789\n",
            "182.3659\t810.21954\n",
            "1160.8623\t227.50244\n",
            "693.98926\t548.0277\n",
            "312.11707\t265.28796\n",
            "1572.1588\t357.65164\n",
            "507.353\t741.0647\n",
            "557.6781\t483.82767\n",
            "905.1243\t369.4878\n",
            "860.34235\t343.80188\n",
            "699.6013\t771.19794\n",
            "466.03238\t1006.95294\n",
            "1827.0802\t1850.4202\n",
            "1216.9027\t258.71033\n",
            "1403.915\t830.98486\n",
            "635.95197\t626.53424\n",
            "289.8138\t1097.9814\n",
            "276.43826\t350.78467\n",
            "866.9873\t143.46935\n",
            "211.75961\t215.5641\n",
            "193.43771\t637.06274\n",
            "661.2512\t365.9857\n",
            "1380.0956\t538.0909\n",
            "1207.2949\t648.9239\n",
            "754.3446\t211.0061\n",
            "827.5138\t737.20184\n",
            "249.66917\t1522.8242\n",
            "568.11005\t310.51077\n",
            "235.15752\t743.9217\n",
            "318.61612\t642.6175\n",
            "938.71185\t256.96954\n",
            "490.63617\t241.88191\n",
            "251.41548\t1057.6901\n",
            "182.68916\t272.04456\n",
            "175.80763\t131.83904\n",
            "434.01422\t673.8639\n",
            "787.30756\t1118.3916\n",
            "541.37476\t238.39554\n",
            "751.5174\t231.39673\n",
            "663.65924\t212.548\n",
            "1222.0181\t306.73483\n",
            "312.75424\t345.39914\n",
            "298.45056\t999.2079\n",
            "393.2067\t170.08057\n",
            "801.3749\t611.7773\n",
            "2161.9941\t307.50446\n",
            "1025.5227\t466.97662\n",
            "321.75516\t242.90167\n",
            "517.42474\t306.98087\n",
            "301.17014\t201.37085\n",
            "1518.0641\t907.6963\n",
            "265.41327\t703.3155\n",
            "432.0136\t208.09357\n",
            "141.45285\t218.64459\n",
            "446.90732\t1161.6868\n",
            "321.00812\t560.28705\n",
            "840.1548\t1136.5535\n",
            "870.5314\t231.53209\n",
            "278.50195\t187.45639\n",
            "277.1787\t590.33105\n",
            "835.8572\t540.93005\n",
            "493.2189\t782.1748\n",
            "842.98\t778.50885\n",
            "196.6948\t674.55695\n",
            "652.3754\t243.92534\n",
            "1321.6995\t223.7771\n",
            "435.36606\t278.99207\n",
            "530.8279\t569.3545\n",
            "271.30475\t644.69855\n",
            "208.95265\t991.85175\n",
            "875.75305\t133.69676\n",
            "188.51526\t1082.3661\n",
            "195.25615\t207.67021\n",
            "227.07019\t348.05316\n",
            "200.72098\t245.75293\n",
            "1152.2225\t787.87964\n",
            "225.57533\t552.1097\n",
            "785.56525\t846.0804\n",
            "268.636\t270.2861\n",
            "746.67267\t779.2361\n",
            "243.26346\t157.39592\n",
            "1311.0156\t598.5035\n",
            "625.94635\t288.82507\n",
            "799.4098\t555.9276\n",
            "975.26483\t598.5477\n",
            "217.76834\t411.0271\n",
            "241.48235\t173.86671\n",
            "1500.4259\t1109.6324\n",
            "217.00175\t281.0885\n",
            "287.0811\t193.19641\n",
            "926.9928\t883.2303\n",
            "1639.4773\t306.00977\n",
            "156.726\t785.8811\n",
            "187.01688\t247.00395\n",
            "864.6768\t232.4661\n",
            "346.75793\t523.3492\n",
            "1046.6729\t666.8097\n",
            "833.48486\t488.565\n",
            "427.5839\t1654.285\n",
            "426.4844\t172.03381\n",
            "501.54474\t463.97055\n",
            "139.76387\t647.8266\n",
            "272.1921\t284.49545\n",
            "744.4639\t189.578\n",
            "358.4193\t166.22945\n",
            "1044.8712\t186.43013\n",
            "197.48541\t316.53195\n",
            "258.42593\t922.4831\n",
            "1355.4666\t783.7271\n",
            "282.94113\t669.2314\n",
            "342.47147\t863.7474\n",
            "203.17065\t149.15833\n",
            "672.6624\t347.1391\n",
            "1764.5737\t684.7598\n",
            "1148.0062\t260.77768\n",
            "350.97235\t394.88153\n",
            "586.4827\t901.5467\n",
            "741.59644\t532.12787\n",
            "495.45303\t320.7715\n",
            "753.90076\t542.64996\n",
            "207.57314\t608.8553\n",
            "366.44608\t179.8241\n",
            "363.50406\t330.9594\n",
            "762.0589\t190.19125\n",
            "512.4579\t262.75226\n",
            "1004.8337\t407.84238\n",
            "377.96957\t767.8668\n",
            "566.9094\t302.47205\n",
            "282.5207\t407.5682\n",
            "646.51227\t506.1581\n",
            "208.68927\t160.7032\n",
            "497.6935\t849.6342\n",
            "829.4619\t1026.9159\n",
            "590.32776\t135.42673\n",
            "185.24147\t971.4867\n",
            "798.1167\t868.4244\n",
            "752.55194\t202.01085\n",
            "269.2838\t808.1825\n",
            "148.72792\t206.05746\n",
            "136.34967\t252.6161\n",
            "622.9129\t1114.415\n",
            "1337.0809\t450.554\n",
            "1366.9165\t1048.7957\n",
            "265.73526\t275.29996\n",
            "462.68185\t439.9208\n",
            "210.46152\t217.91142\n",
            "940.38873\t583.15466\n",
            "226.4156\t1390.6517\n",
            "1253.3799\t165.4848\n",
            "146.61197\t892.2091\n",
            "305.45773\t348.10358\n",
            "735.1335\t188.67201\n",
            "181.73251\t869.076\n",
            "578.8849\t786.04254\n",
            "669.7527\t525.1017\n",
            "125.39713\t753.13184\n",
            "143.4801\t690.51196\n",
            "562.936\t197.88586\n",
            "206.5466\t557.08057\n",
            "178.0297\t151.61516\n",
            "172.8645\t221.48894\n",
            "532.87103\t300.23773\n",
            "928.79407\t521.7372\n",
            "117.23246\t145.74936\n",
            "482.23242\t277.168\n",
            "547.7214\t651.753\n",
            "461.14337\t1127.2399\n",
            "384.02448\t724.275\n",
            "320.5335\t448.35358\n",
            "664.8286\t560.92737\n",
            "287.04626\t159.82205\n",
            "998.7493\t472.38812\n",
            "342.09286\t770.2799\n",
            "257.6921\t445.77454\n",
            "566.63855\t297.3221\n",
            "640.6249\t266.04898\n",
            "350.86243\t535.0945\n",
            "511.30356\t220.16228\n",
            "166.56273\t209.60075\n",
            "306.07526\t749.80615\n",
            "757.4554\t232.6009\n",
            "308.41992\t554.1011\n",
            "454.55933\t868.6223\n",
            "727.6952\t169.61922\n",
            "486.74017\t311.11804\n",
            "310.4896\t339.39267\n",
            "901.4888\t204.91951\n",
            "521.126\t699.71295\n",
            "271.77823\t237.88379\n",
            "275.05313\t1581.8066\n",
            "986.8584\t278.0997\n",
            "503.20285\t713.5812\n",
            "146.76431\t255.55086\n",
            "1003.1662\t376.83945\n",
            "270.8836\t396.02155\n",
            "284.8419\t276.4416\n",
            "431.04636\t272.39923\n",
            "616.9199\t584.486\n",
            "696.9967\t262.34634\n",
            "1500.0319\t498.76318\n",
            "968.7035\t1122.3341\n",
            "279.73706\t279.92245\n",
            "362.93475\t177.19493\n",
            "207.1591\t427.29703\n",
            "859.69556\t100.6884\n",
            "517.1883\t805.0311\n",
            "157.73306\t373.21472\n",
            "1264.0221\t340.33804\n",
            "873.9534\t259.46332\n",
            "548.418\t812.9997\n",
            "950.2951\t416.6353\n",
            "300.30328\t254.42676\n",
            "415.62964\t1148.8121\n",
            "838.67944\t471.2781\n",
            "779.0059\t296.27817\n",
            "862.3846\t140.18227\n",
            "158.60364\t266.11432\n",
            "188.23799\t263.94455\n",
            "281.588\t694.78015\n",
            "187.78606\t479.48697\n",
            "542.5154\t490.25333\n",
            "165.10532\t188.64464\n",
            "181.59686\t740.85693\n",
            "135.52101\t1001.28174\n",
            "893.72894\t1378.8379\n",
            "193.36667\t284.12103\n",
            "566.8024\t213.16023\n",
            "333.72473\t492.60992\n",
            "749.74646\t206.5439\n",
            "997.4812\t1020.66565\n",
            "301.76703\t331.0008\n",
            "309.88202\t449.92456\n",
            "526.6372\t280.93137\n",
            "255.0931\t225.13696\n",
            "174.92363\t582.66534\n",
            "571.87555\t204.46368\n",
            "539.02057\t601.6621\n",
            "401.1228\t246.679\n",
            "700.9269\t194.46208\n",
            "1292.494\t470.3685\n",
            "339.51465\t628.85876\n",
            "792.7125\t371.78418\n",
            "521.2143\t194.756\n",
            "340.87424\t591.904\n",
            "209.63005\t1096.8337\n",
            "301.30112\t1585.5499\n",
            "1169.8102\t247.30089\n",
            "194.16653\t486.435\n",
            "335.26553\t576.9512\n",
            "212.69064\t926.7661\n",
            "578.3938\t786.7478\n",
            "1249.9187\t415.54977\n",
            "431.56406\t668.6643\n",
            "755.26605\t259.07132\n",
            "598.5422\t459.30585\n",
            "1489.0674\t225.93655\n",
            "488.13733\t1269.8268\n",
            "97.21641\t459.67468\n",
            "121.94123\t114.50599\n",
            "240.5097\t540.7756\n",
            "577.0092\t1005.1504\n",
            "578.0159\t291.8135\n",
            "1122.3005\t371.06476\n",
            "280.70776\t979.9084\n",
            "226.88303\t1258.7968\n",
            "734.7024\t600.962\n",
            "229.72707\t193.56366\n",
            "276.27896\t220.67735\n",
            "586.84155\t849.1763\n",
            "797.3982\t190.44156\n",
            "193.23502\t223.51396\n",
            "Saved model!\n"
          ],
          "name": "stdout"
        }
      ]
    },
    {
      "cell_type": "code",
      "metadata": {
        "id": "GOCKeDcHDKe7",
        "colab_type": "code",
        "colab": {}
      },
      "source": [
        "with open('/content/drive/My Drive/Custom_Models/graph1000_64updhidden.pb', 'wb') as f:\n",
        "  f.write(tf.get_default_graph().as_graph_def().SerializeToString())"
      ],
      "execution_count": 0,
      "outputs": []
    },
    {
      "cell_type": "code",
      "metadata": {
        "id": "orqHTKay9Mxd",
        "colab_type": "code",
        "outputId": "9242dab3-b52d-4a93-b06c-1bc628293a2c",
        "colab": {
          "base_uri": "https://localhost:8080/",
          "height": 287
        }
      },
      "source": [
        "plt.plot(train)\n",
        "plt.plot(val)"
      ],
      "execution_count": 301,
      "outputs": [
        {
          "output_type": "execute_result",
          "data": {
            "text/plain": [
              "[<matplotlib.lines.Line2D at 0x7f22f0ea1320>]"
            ]
          },
          "metadata": {
            "tags": []
          },
          "execution_count": 301
        },
        {
          "output_type": "display_data",
          "data": {
            "image/png": "[encoded data removed]",
            "text/plain": [
              "<Figure size 432x288 with 1 Axes>"
            ]
          },
          "metadata": {
            "tags": []
          }
        }
      ]
    },
    {
      "cell_type": "code",
      "metadata": {
        "id": "gD0khtg3KTgJ",
        "colab_type": "code",
        "outputId": "caab8606-05fe-4cb1-b007-72bd215180a7",
        "colab": {
          "base_uri": "https://localhost:8080/",
          "height": 87
        }
      },
      "source": [
        "tf.trainable_variables()"
      ],
      "execution_count": 310,
      "outputs": [
        {
          "output_type": "execute_result",
          "data": {
            "text/plain": [
              "[<tf.Variable 'Variable:0' shape=(4107, 7000) dtype=float32_ref>,\n",
              " <tf.Variable 'Variable_1:0' shape=(1, 7000) dtype=float32_ref>,\n",
              " <tf.Variable 'Variable_2:0' shape=(7000, 1) dtype=float32_ref>,\n",
              " <tf.Variable 'Variable_3:0' shape=(1, 1) dtype=float32_ref>]"
            ]
          },
          "metadata": {
            "tags": []
          },
          "execution_count": 310
        }
      ]
    },
    {
      "cell_type": "code",
      "metadata": {
        "id": "4jDYAwuWLCwm",
        "colab_type": "code",
        "colab": {}
      },
      "source": [
        "with open('/content/drive/My Drive/Custom_Models/graph1000_updatedloss.pb', 'rb') as f:\n",
        "  g1 = f.read()\n",
        "with open('/content/drive/My Drive/Custom_Models/graph1000.pb', 'rb') as f:\n",
        "  g2 = f.read()"
      ],
      "execution_count": 0,
      "outputs": []
    },
    {
      "cell_type": "code",
      "metadata": {
        "id": "rydcEfK485EM",
        "colab_type": "code",
        "outputId": "09e7d0a5-490d-43db-b16f-5231dab7bf56",
        "colab": {
          "base_uri": "https://localhost:8080/",
          "height": 307
        }
      },
      "source": [
        "diff = pywrap_tensorflow.EqualGraphDefWrapper(g1,g2) \n",
        "#plt.plot(diff)"
      ],
      "execution_count": 0,
      "outputs": [
        {
          "output_type": "execute_result",
          "data": {
            "text/plain": [
              "[<matplotlib.lines.Line2D at 0x7f22f0fc51d0>]"
            ]
          },
          "metadata": {
            "tags": []
          },
          "execution_count": 146
        },
        {
          "output_type": "display_data",
          "data": {
            "image/png": "[encoded data removed]",
            "text/plain": [
              "<Figure size 432x288 with 1 Axes>"
            ]
          },
          "metadata": {
            "tags": []
          }
        }
      ]
    },
    {
      "cell_type": "code",
      "metadata": {
        "id": "f3mVdMNrLZdj",
        "colab_type": "code",
        "colab": {
          "base_uri": "https://localhost:8080/",
          "height": 35
        },
        "outputId": "867577c7-363c-4df7-bea4-96cb0aad3130"
      },
      "source": [
        ""
      ],
      "execution_count": 282,
      "outputs": [
        {
          "output_type": "execute_result",
          "data": {
            "text/plain": [
              "56"
            ]
          },
          "metadata": {
            "tags": []
          },
          "execution_count": 282
        }
      ]
    },
    {
      "cell_type": "code",
      "metadata": {
        "id": "qN9Mx1WhxBUO",
        "colab_type": "code",
        "colab": {
          "base_uri": "https://localhost:8080/",
          "height": 35
        },
        "outputId": "fe0334c5-e35f-4bfc-fd87-173e4f0d6d20"
      },
      "source": [
        ""
      ],
      "execution_count": 283,
      "outputs": [
        {
          "output_type": "execute_result",
          "data": {
            "text/plain": [
              "400"
            ]
          },
          "metadata": {
            "tags": []
          },
          "execution_count": 283
        }
      ]
    },
    {
      "cell_type": "code",
      "metadata": {
        "id": "5hEigRXxxFPi",
        "colab_type": "code",
        "colab": {}
      },
      "source": [
        ""
      ],
      "execution_count": 0,
      "outputs": []
    }
  ]
}