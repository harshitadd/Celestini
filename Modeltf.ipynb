{
  "nbformat": 4,
  "nbformat_minor": 0,
  "metadata": {
    "colab": {
      "name": "Modeltf.ipynb",
      "version": "0.3.2",
      "provenance": [],
      "collapsed_sections": [],
      "include_colab_link": true
    },
    "kernelspec": {
      "name": "python3",
      "display_name": "Python 3"
    },
    "accelerator": "GPU"
  },
  "cells": [
    {
      "cell_type": "markdown",
      "metadata": {
        "id": "view-in-github",
        "colab_type": "text"
      },
      "source": [
        "<a href=\"https://colab.research.google.com/github/harshitadd/Celestini/blob/master/Modeltf.ipynb\" target=\"_parent\"><img src=\"https://colab.research.google.com/assets/colab-badge.svg\" alt=\"Open In Colab\"/></a>"
      ]
    },
    {
      "cell_type": "code",
      "metadata": {
        "id": "bdDag8n7lyzH",
        "colab_type": "code",
        "colab": {}
      },
      "source": [
        "import tensorflow as tf \n",
        "import pickle\n",
        "import numpy as np\n",
        "from tensorflow.python.client import device_lib\n",
        "import random\n",
        "import matplotlib.pyplot as plt \n",
        "import math\n",
        "from sklearn.model_selection import train_test_split"
      ],
      "execution_count": 0,
      "outputs": []
    },
    {
      "cell_type": "code",
      "metadata": {
        "id": "vO8kr5epl6xf",
        "colab_type": "code",
        "colab": {
          "base_uri": "https://localhost:8080/",
          "height": 124
        },
        "outputId": "cee3f6e1-577a-4ce2-c1c4-d8db590d5814"
      },
      "source": [
        "from google.colab import drive\n",
        "drive.mount('/content/drive')"
      ],
      "execution_count": 1,
      "outputs": [
        {
          "output_type": "stream",
          "text": [
            "Go to this URL in a browser: https://accounts.google.com/o/oauth2/auth?client_id=947318989803-6bn6qk8qdgf4n4g3pfee6491hc0brc4i.apps.googleusercontent.com&redirect_uri=urn%3Aietf%3Awg%3Aoauth%3A2.0%3Aoob&scope=email%20https%3A%2F%2Fwww.googleapis.com%2Fauth%2Fdocs.test%20https%3A%2F%2Fwww.googleapis.com%2Fauth%2Fdrive%20https%3A%2F%2Fwww.googleapis.com%2Fauth%2Fdrive.photos.readonly%20https%3A%2F%2Fwww.googleapis.com%2Fauth%2Fpeopleapi.readonly&response_type=code\n",
            "\n",
            "Enter your authorization code:\n",
            "··········\n",
            "Mounted at /content/drive\n"
          ],
          "name": "stdout"
        }
      ]
    },
    {
      "cell_type": "code",
      "metadata": {
        "id": "_pKAD2gofS-S",
        "colab_type": "code",
        "colab": {}
      },
      "source": [
        "with open('/content/drive/My Drive/ffeatures64.bin','rb') as file:\n",
        "  features = pickle.load(file)\n",
        "with open('/content/drive/My Drive/flabels64.bin','rb') as file:\n",
        "  labels = pickle.load(file)"
      ],
      "execution_count": 0,
      "outputs": []
    },
    {
      "cell_type": "code",
      "metadata": {
        "id": "V7J8tBqof4QU",
        "colab_type": "code",
        "colab": {
          "base_uri": "https://localhost:8080/",
          "height": 35
        },
        "outputId": "a9903fb2-9a6f-47f0-f635-c00a2b4f3b30"
      },
      "source": [
        "# print(features[0])\n",
        "# print(len(features[0]))\n",
        "# print(len(features))\n",
        "print(np.shape(features))"
      ],
      "execution_count": 17,
      "outputs": [
        {
          "output_type": "stream",
          "text": [
            "(2253, 4106)\n"
          ],
          "name": "stdout"
        }
      ]
    },
    {
      "cell_type": "code",
      "metadata": {
        "id": "o6Zxm0XF0DlH",
        "colab_type": "code",
        "colab": {}
      },
      "source": [
        "## TEST SET \n",
        "\n",
        "x_train_t, x_test_t,y_train_t, y_test_t = train_test_split(features, labels, test_size = 0.3)"
      ],
      "execution_count": 0,
      "outputs": []
    },
    {
      "cell_type": "code",
      "metadata": {
        "id": "pCrhkzBO_p7C",
        "colab_type": "code",
        "colab": {
          "base_uri": "https://localhost:8080/",
          "height": 35
        },
        "outputId": "2f747fa3-ca07-4f46-99c3-120868510dc1"
      },
      "source": [
        "print(np.shape(x_train_t))"
      ],
      "execution_count": 62,
      "outputs": [
        {
          "output_type": "stream",
          "text": [
            "(1577, 4106)\n"
          ],
          "name": "stdout"
        }
      ]
    },
    {
      "cell_type": "code",
      "metadata": {
        "id": "gAlnu945gPXq",
        "colab_type": "code",
        "colab": {}
      },
      "source": [
        "tf.reset_default_graph()"
      ],
      "execution_count": 0,
      "outputs": []
    },
    {
      "cell_type": "code",
      "metadata": {
        "id": "rkXJ4fuuhWgh",
        "colab_type": "code",
        "colab": {}
      },
      "source": [
        "print(device_lib.list_local_devices())\n"
      ],
      "execution_count": 0,
      "outputs": []
    },
    {
      "cell_type": "code",
      "metadata": {
        "id": "M8zj52CuhmPD",
        "colab_type": "code",
        "colab": {}
      },
      "source": [
        "x = tf.placeholder(shape = (None,266), dtype = tf.float32, name = 'input' )\n",
        "y = tf.placeholder(shape = (None,1), dtype = tf.float32, name = 'output')\n",
        "\n",
        "wh = tf.Variable(tf.glorot_uniform_initializer(dtype = tf.float32)((266, 500)))\n",
        "bh = tf.Variable(tf.glorot_uniform_initializer(dtype = tf.float32)((500,1)))\n",
        "\n",
        "#out\n",
        "\n",
        "wo = tf.Variable(tf.glorot_uniform_initializer(dtype = tf.float32)((500,1)))\n",
        "bo = tf.Variable(tf.glorot_uniform_initializer(dtype = tf.float32)((1,1)))\n",
        "\n",
        "\n",
        "                "
      ],
      "execution_count": 0,
      "outputs": []
    },
    {
      "cell_type": "code",
      "metadata": {
        "id": "cizlPNYN1J9O",
        "colab_type": "code",
        "colab": {}
      },
      "source": [
        "plt.his(wo)"
      ],
      "execution_count": 0,
      "outputs": []
    },
    {
      "cell_type": "code",
      "metadata": {
        "id": "92_mLSDYpmcv",
        "colab_type": "code",
        "colab": {}
      },
      "source": [
        "hidl = tf.add(tf.matmul(x,wh),bh)"
      ],
      "execution_count": 0,
      "outputs": []
    },
    {
      "cell_type": "code",
      "metadata": {
        "id": "SYnF_9OusKXw",
        "colab_type": "code",
        "colab": {}
      },
      "source": [
        "outl = tf.add(tf.matmul(hidl,wo),bo)"
      ],
      "execution_count": 0,
      "outputs": []
    },
    {
      "cell_type": "markdown",
      "metadata": {
        "id": "eiyIZ5_FvMjz",
        "colab_type": "text"
      },
      "source": [
        "Add additional custom loss functions if necc "
      ]
    },
    {
      "cell_type": "code",
      "metadata": {
        "id": "8OdDRQggsq5N",
        "colab_type": "code",
        "colab": {}
      },
      "source": [
        "loss = tf.reduce_mean(tf.square(tf.subtract(y,outl)))\n",
        "#default lr = 0.001\n",
        "opt = tf.train.AdamOptimizer(name = 'optimizer')\n",
        "op_train = opt.minimize(loss, name ='train_op')"
      ],
      "execution_count": 0,
      "outputs": []
    },
    {
      "cell_type": "code",
      "metadata": {
        "id": "vgbtgE_CvDzV",
        "colab_type": "code",
        "colab": {}
      },
      "source": [
        "saved = tf.train.Saver().as_saver_def()"
      ],
      "execution_count": 0,
      "outputs": []
    },
    {
      "cell_type": "code",
      "metadata": {
        "id": "xLnEbChLyH82",
        "colab_type": "code",
        "colab": {}
      },
      "source": [
        "init = tf.global_variables_initializer()"
      ],
      "execution_count": 0,
      "outputs": []
    },
    {
      "cell_type": "code",
      "metadata": {
        "id": "nh28JgrUxRjT",
        "colab_type": "code",
        "colab": {}
      },
      "source": [
        "with tf.device('/device:CPU:0'):\n",
        "  save = tf.train.Saver()\n",
        "  with tf.Session() as sess:\n",
        "    sess.run(init)\n",
        "    mini =[]\n",
        "    for i in range(0,3):\n",
        "      x_trainv, x_testv, y_trainv, y_testv = train_test_split(x_train_t, y_train_t, test_size = 0.3)\n",
        "      for j in range(3):\n",
        "        seed = random.choice(range(len(x_trainv)))\n",
        "        i = random.choice(range(len(x_trainv)))\n",
        "        test = x_trainv[seed]\n",
        "        temp = np.vstack((test, x_trainv[i]))\n",
        "        mini.append(temp)\n",
        "        "
      ],
      "execution_count": 0,
      "outputs": []
    },
    {
      "cell_type": "code",
      "metadata": {
        "id": "p6VNDrxQ7Ezl",
        "colab_type": "code",
        "colab": {}
      },
      "source": [
        "mini = np.asarray(mini,dtype = np.float32)"
      ],
      "execution_count": 0,
      "outputs": []
    },
    {
      "cell_type": "code",
      "metadata": {
        "id": "NZIkG1mVMHZh",
        "colab_type": "code",
        "colab": {
          "base_uri": "https://localhost:8080/",
          "height": 347
        },
        "outputId": "a463dda7-16b9-4765-e14c-4d335a97fa1f"
      },
      "source": [
        "print(mini)"
      ],
      "execution_count": 128,
      "outputs": [
        {
          "output_type": "stream",
          "text": [
            "[[[0.8333333  0.5923552  0.7355364  ... 0.59917355 0.61157024 0.61157024]\n",
            "  [0.6666667  0.60406715 0.6068661  ... 0.9910714  0.9910714  0.9910714 ]]\n",
            "\n",
            " [[1.         0.75969976 0.8038496  ... 0.99607843 0.99607843 0.99607843]\n",
            "  [0.75       0.83069307 0.70410055 ... 0.9882353  0.972549   0.9647059 ]]\n",
            "\n",
            " [[0.8333333  0.9140629  0.8430512  ... 0.99607843 0.99215686 0.9882353 ]\n",
            "  [0.         0.8784127  0.8801541  ... 0.788      0.804      0.804     ]]\n",
            "\n",
            " ...\n",
            "\n",
            " [[0.5        0.76097643 0.7717971  ... 0.7410714  0.82589287 0.82589287]\n",
            "  [0.8333333  0.69477993 0.7466609  ... 0.67083335 0.67083335 0.6625    ]]\n",
            "\n",
            " [[1.         0.8385031  0.8641922  ... 0.766129   0.766129   0.766129  ]\n",
            "  [1.         0.68379647 0.860691   ... 0.5864979  0.5864979  0.5822785 ]]\n",
            "\n",
            " [[0.8333333  0.69477993 0.7466609  ... 0.67083335 0.67083335 0.6625    ]\n",
            "  [0.8333333  0.9140629  0.8430512  ... 0.99607843 0.99215686 0.9882353 ]]]\n"
          ],
          "name": "stdout"
        }
      ]
    },
    {
      "cell_type": "code",
      "metadata": {
        "id": "yn_wEzSTE05u",
        "colab_type": "code",
        "colab": {
          "base_uri": "https://localhost:8080/",
          "height": 87
        },
        "outputId": "2206ab31-3919-43e4-95d2-d0d5dd13aac5"
      },
      "source": [
        "print(np.shape(mini))\n",
        "print(np.ndarray.flatten(mini[0]))\n",
        "print(mini[0])"
      ],
      "execution_count": 125,
      "outputs": [
        {
          "output_type": "stream",
          "text": [
            "(9, 2, 4106)\n",
            "[1.         0.72768956 0.7395881  ... 0.6950673  0.6950673  0.6950673 ]\n",
            "[[1.         0.72768956 0.7395881  ... 1.         1.         1.        ]\n",
            " [0.75       0.80849725 0.7996926  ... 0.6950673  0.6950673  0.6950673 ]]\n"
          ],
          "name": "stdout"
        }
      ]
    },
    {
      "cell_type": "code",
      "metadata": {
        "id": "gD0khtg3KTgJ",
        "colab_type": "code",
        "colab": {}
      },
      "source": [
        ""
      ],
      "execution_count": 0,
      "outputs": []
    }
  ]
}