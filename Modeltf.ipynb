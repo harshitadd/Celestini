{
  "nbformat": 4,
  "nbformat_minor": 0,
  "metadata": {
    "colab": {
      "name": "Modeltf.ipynb",
      "version": "0.3.2",
      "provenance": [],
      "collapsed_sections": [],
      "include_colab_link": true
    },
    "kernelspec": {
      "name": "python3",
      "display_name": "Python 3"
    },
    "accelerator": "GPU"
  },
  "cells": [
    {
      "cell_type": "markdown",
      "metadata": {
        "id": "view-in-github",
        "colab_type": "text"
      },
      "source": [
        "<a href=\"https://colab.research.google.com/github/harshitadd/Celestini/blob/master/Modeltf.ipynb\" target=\"_parent\"><img src=\"https://colab.research.google.com/assets/colab-badge.svg\" alt=\"Open In Colab\"/></a>"
      ]
    },
    {
      "cell_type": "code",
      "metadata": {
        "id": "bdDag8n7lyzH",
        "colab_type": "code",
        "outputId": "690a7cf9-7412-442d-bbca-ed87aaa19977",
        "colab": {
          "base_uri": "https://localhost:8080/",
          "height": 71
        }
      },
      "source": [
        "#!pip install joblib\n",
        "import tensorflow as tf \n",
        "import pickle\n",
        "from sklearn.externals import joblib\n",
        "import numpy as np\n",
        "from tensorflow.python.client import device_lib\n",
        "from tensorflow.saved_model import simple_save\n",
        "import random\n",
        "import matplotlib.pyplot as plt \n",
        "import math\n",
        "\n",
        "from sklearn.model_selection import train_test_split\n",
        "from tensorflow.python import pywrap_tensorflow\n"
      ],
      "execution_count": 1,
      "outputs": [
        {
          "output_type": "stream",
          "text": [
            "/usr/local/lib/python3.6/dist-packages/sklearn/externals/joblib/__init__.py:15: DeprecationWarning: sklearn.externals.joblib is deprecated in 0.21 and will be removed in 0.23. Please import this functionality directly from joblib, which can be installed with: pip install joblib. If this warning is raised when loading pickled models, you may need to re-serialize those models with scikit-learn 0.21+.\n",
            "  warnings.warn(msg, category=DeprecationWarning)\n"
          ],
          "name": "stderr"
        }
      ]
    },
    {
      "cell_type": "code",
      "metadata": {
        "id": "vO8kr5epl6xf",
        "colab_type": "code",
        "outputId": "8e1fa21e-c795-42de-dd55-b95cceed53a7",
        "colab": {
          "base_uri": "https://localhost:8080/",
          "height": 54
        }
      },
      "source": [
        "from google.colab import drive\n",
        "drive.mount('/content/drive')\n"
      ],
      "execution_count": 2,
      "outputs": [
        {
          "output_type": "stream",
          "text": [
            "Drive already mounted at /content/drive; to attempt to forcibly remount, call drive.mount(\"/content/drive\", force_remount=True).\n"
          ],
          "name": "stdout"
        }
      ]
    },
    {
      "cell_type": "code",
      "metadata": {
        "id": "_pKAD2gofS-S",
        "colab_type": "code",
        "colab": {}
      },
      "source": [
        "#FEATURES AND LABELS  \n",
        "\n",
        "\n",
        "with open('/content/features_withITO (1).bin','rb') as file:\n",
        "  temp = pickle.load(file)\n",
        "  \n",
        "  \n",
        "with open('/content/labels_withITO (2).bin','rb') as file:\n",
        "  l = pickle.load(file)"
      ],
      "execution_count": 0,
      "outputs": []
    },
    {
      "cell_type": "code",
      "metadata": {
        "id": "B1yuyj5gdt7r",
        "colab_type": "code",
        "colab": {}
      },
      "source": [
        "features =[]\n",
        "for i in temp:\n",
        "  features.append(list(i))\n",
        "\n",
        "labels=[]  \n",
        "for i in l:\n",
        "  labels.append(list(i))"
      ],
      "execution_count": 0,
      "outputs": []
    },
    {
      "cell_type": "code",
      "metadata": {
        "colab_type": "code",
        "id": "fDI6dDFEZSCa",
        "colab": {}
      },
      "source": [
        "# from google.colab import drive\n",
        "# drive.mount('/content/drive')"
      ],
      "execution_count": 0,
      "outputs": []
    },
    {
      "cell_type": "code",
      "metadata": {
        "colab_type": "code",
        "id": "njR9T1iBZR14",
        "colab": {}
      },
      "source": [
        "## 56 BIT (2253,3147)\n",
        "\n",
        "# features = joblib.load('/content/features56.pkl')\n",
        "# labels = joblib.load('/content/labels56.pkl')\n"
      ],
      "execution_count": 0,
      "outputs": []
    },
    {
      "cell_type": "code",
      "metadata": {
        "colab_type": "code",
        "id": "x2E0YxR-ZRno",
        "colab": {}
      },
      "source": [
        "## 64 BIT (2253,3147)\n",
        "\n",
        "# features = joblib.load('/content/features64.pkl')\n",
        "# labels = joblib.load('/content/labels64.pkl')\n"
      ],
      "execution_count": 0,
      "outputs": []
    },
    {
      "cell_type": "code",
      "metadata": {
        "id": "-Bnp3GODSODa",
        "colab_type": "code",
        "colab": {}
      },
      "source": [
        "# # 32 BIT (2253,1035)\n",
        "\n",
        "# features = joblib.load('/content/features32.pkl')\n",
        "# labels = joblib.load('/content/labels32.pkl')"
      ],
      "execution_count": 0,
      "outputs": []
    },
    {
      "cell_type": "code",
      "metadata": {
        "id": "5ufRdxblS8OC",
        "colab_type": "code",
        "colab": {}
      },
      "source": [
        ""
      ],
      "execution_count": 0,
      "outputs": []
    },
    {
      "cell_type": "code",
      "metadata": {
        "id": "o6Zxm0XF0DlH",
        "colab_type": "code",
        "colab": {}
      },
      "source": [
        "## TEST SET \n",
        "\n",
        "x_train_t, x_test_t,y_train_t, y_test_t = train_test_split(features, labels, test_size = 0.3)"
      ],
      "execution_count": 0,
      "outputs": []
    },
    {
      "cell_type": "code",
      "metadata": {
        "id": "gAlnu945gPXq",
        "colab_type": "code",
        "colab": {}
      },
      "source": [
        "tf.reset_default_graph()"
      ],
      "execution_count": 0,
      "outputs": []
    },
    {
      "cell_type": "code",
      "metadata": {
        "id": "rkXJ4fuuhWgh",
        "colab_type": "code",
        "outputId": "ec78e623-d259-41d1-8a75-359e0fa7943b",
        "colab": {
          "base_uri": "https://localhost:8080/",
          "height": 548
        }
      },
      "source": [
        "print(device_lib.list_local_devices())\n"
      ],
      "execution_count": 8,
      "outputs": [
        {
          "output_type": "stream",
          "text": [
            "[name: \"/device:CPU:0\"\n",
            "device_type: \"CPU\"\n",
            "memory_limit: 268435456\n",
            "locality {\n",
            "}\n",
            "incarnation: 16586041570562800176\n",
            ", name: \"/device:XLA_CPU:0\"\n",
            "device_type: \"XLA_CPU\"\n",
            "memory_limit: 17179869184\n",
            "locality {\n",
            "}\n",
            "incarnation: 1662278553276397462\n",
            "physical_device_desc: \"device: XLA_CPU device\"\n",
            ", name: \"/device:XLA_GPU:0\"\n",
            "device_type: \"XLA_GPU\"\n",
            "memory_limit: 17179869184\n",
            "locality {\n",
            "}\n",
            "incarnation: 9505252344834233354\n",
            "physical_device_desc: \"device: XLA_GPU device\"\n",
            ", name: \"/device:GPU:0\"\n",
            "device_type: \"GPU\"\n",
            "memory_limit: 14892338381\n",
            "locality {\n",
            "  bus_id: 1\n",
            "  links {\n",
            "  }\n",
            "}\n",
            "incarnation: 11046545760485891058\n",
            "physical_device_desc: \"device: 0, name: Tesla T4, pci bus id: 0000:00:04.0, compute capability: 7.5\"\n",
            "]\n"
          ],
          "name": "stdout"
        }
      ]
    },
    {
      "cell_type": "code",
      "metadata": {
        "id": "8OOY3qbW1EcN",
        "colab_type": "code",
        "colab": {
          "base_uri": "https://localhost:8080/",
          "height": 174
        },
        "outputId": "49a87515-bab8-44a8-def8-6f6c09f9e6f1"
      },
      "source": [
        "\n",
        "from keras.layers import Dense, Dropout, BatchNormalization\n",
        "from keras.models import Sequential\n",
        "from keras.optimizers import Adam\n",
        "model = Sequential()\n",
        "model.add(Dense(15, input_shape = (9, ), activation = 'relu'))\n",
        "model.add(Dense(25, activation = 'relu'))\n",
        "model.add(Dense(1,  activation = 'relu'))"
      ],
      "execution_count": 9,
      "outputs": [
        {
          "output_type": "stream",
          "text": [
            "Using TensorFlow backend.\n",
            "WARNING: Logging before flag parsing goes to stderr.\n",
            "W0806 16:24:58.384916 139689744500608 deprecation_wrapper.py:119] From /usr/local/lib/python3.6/dist-packages/keras/backend/tensorflow_backend.py:74: The name tf.get_default_graph is deprecated. Please use tf.compat.v1.get_default_graph instead.\n",
            "\n",
            "W0806 16:24:58.388844 139689744500608 deprecation_wrapper.py:119] From /usr/local/lib/python3.6/dist-packages/keras/backend/tensorflow_backend.py:517: The name tf.placeholder is deprecated. Please use tf.compat.v1.placeholder instead.\n",
            "\n",
            "W0806 16:24:58.393496 139689744500608 deprecation_wrapper.py:119] From /usr/local/lib/python3.6/dist-packages/keras/backend/tensorflow_backend.py:4138: The name tf.random_uniform is deprecated. Please use tf.random.uniform instead.\n",
            "\n"
          ],
          "name": "stderr"
        }
      ]
    },
    {
      "cell_type": "code",
      "metadata": {
        "id": "YJUpMCEi1gGb",
        "colab_type": "code",
        "outputId": "de402b25-c8bb-46b8-c55b-5f596be1b3a5",
        "colab": {
          "base_uri": "https://localhost:8080/",
          "height": 294
        }
      },
      "source": [
        "model.compile(optimizer = Adam(lr = 0.001),loss='mse')\n",
        "model.summary()"
      ],
      "execution_count": 10,
      "outputs": [
        {
          "output_type": "stream",
          "text": [
            "W0806 16:25:03.217972 139689744500608 deprecation_wrapper.py:119] From /usr/local/lib/python3.6/dist-packages/keras/optimizers.py:790: The name tf.train.Optimizer is deprecated. Please use tf.compat.v1.train.Optimizer instead.\n",
            "\n"
          ],
          "name": "stderr"
        },
        {
          "output_type": "stream",
          "text": [
            "_________________________________________________________________\n",
            "Layer (type)                 Output Shape              Param #   \n",
            "=================================================================\n",
            "dense_1 (Dense)              (None, 15)                150       \n",
            "_________________________________________________________________\n",
            "dense_2 (Dense)              (None, 25)                400       \n",
            "_________________________________________________________________\n",
            "dense_3 (Dense)              (None, 1)                 26        \n",
            "=================================================================\n",
            "Total params: 576\n",
            "Trainable params: 576\n",
            "Non-trainable params: 0\n",
            "_________________________________________________________________\n"
          ],
          "name": "stdout"
        }
      ]
    },
    {
      "cell_type": "code",
      "metadata": {
        "id": "hSUO_k7P110C",
        "colab_type": "code",
        "outputId": "ef5cb9ea-99f5-4037-daa0-27f75634acc2",
        "colab": {
          "base_uri": "https://localhost:8080/",
          "height": 1000
        }
      },
      "source": [
        "hist = model.fit([x_train_t], [y_train_t], validation_split = 0.33, epochs = 300, verbose = 1, batch_size = 32, shuffle = True)"
      ],
      "execution_count": 16,
      "outputs": [
        {
          "output_type": "stream",
          "text": [
            "Train on 1114 samples, validate on 549 samples\n",
            "Epoch 1/300\n",
            "1114/1114 [==============================] - 0s 98us/step - loss: 128.5351 - val_loss: 140.2411\n",
            "Epoch 2/300\n",
            "1114/1114 [==============================] - 0s 91us/step - loss: 128.4994 - val_loss: 140.5105\n",
            "Epoch 3/300\n",
            "1114/1114 [==============================] - 0s 92us/step - loss: 128.5769 - val_loss: 141.6232\n",
            "Epoch 4/300\n",
            "1114/1114 [==============================] - 0s 95us/step - loss: 130.1137 - val_loss: 142.4992\n",
            "Epoch 5/300\n",
            "1114/1114 [==============================] - 0s 97us/step - loss: 128.4666 - val_loss: 139.5020\n",
            "Epoch 6/300\n",
            "1114/1114 [==============================] - 0s 96us/step - loss: 128.6271 - val_loss: 141.2708\n",
            "Epoch 7/300\n",
            "1114/1114 [==============================] - 0s 97us/step - loss: 128.8204 - val_loss: 138.8199\n",
            "Epoch 8/300\n",
            "1114/1114 [==============================] - 0s 95us/step - loss: 129.0276 - val_loss: 141.2997\n",
            "Epoch 9/300\n",
            "1114/1114 [==============================] - 0s 93us/step - loss: 128.9172 - val_loss: 138.7280\n",
            "Epoch 10/300\n",
            "1114/1114 [==============================] - 0s 104us/step - loss: 129.4016 - val_loss: 138.9080\n",
            "Epoch 11/300\n",
            "1114/1114 [==============================] - 0s 93us/step - loss: 128.6116 - val_loss: 139.4204\n",
            "Epoch 12/300\n",
            "1114/1114 [==============================] - 0s 94us/step - loss: 129.5915 - val_loss: 139.4227\n",
            "Epoch 13/300\n",
            "1114/1114 [==============================] - 0s 93us/step - loss: 128.8063 - val_loss: 141.4377\n",
            "Epoch 14/300\n",
            "1114/1114 [==============================] - 0s 93us/step - loss: 129.5434 - val_loss: 140.4372\n",
            "Epoch 15/300\n",
            "1114/1114 [==============================] - 0s 102us/step - loss: 127.7454 - val_loss: 138.9702\n",
            "Epoch 16/300\n",
            "1114/1114 [==============================] - 0s 101us/step - loss: 128.5140 - val_loss: 139.3762\n",
            "Epoch 17/300\n",
            "1114/1114 [==============================] - 0s 98us/step - loss: 127.4730 - val_loss: 141.1043\n",
            "Epoch 18/300\n",
            "1114/1114 [==============================] - 0s 97us/step - loss: 127.9859 - val_loss: 141.4369\n",
            "Epoch 19/300\n",
            "1114/1114 [==============================] - 0s 107us/step - loss: 128.3976 - val_loss: 142.7497\n",
            "Epoch 20/300\n",
            "1114/1114 [==============================] - 0s 98us/step - loss: 129.1531 - val_loss: 139.3522\n",
            "Epoch 21/300\n",
            "1114/1114 [==============================] - 0s 95us/step - loss: 129.4768 - val_loss: 142.4190\n",
            "Epoch 22/300\n",
            "1114/1114 [==============================] - 0s 100us/step - loss: 129.1126 - val_loss: 138.2938\n",
            "Epoch 23/300\n",
            "1114/1114 [==============================] - 0s 98us/step - loss: 129.4823 - val_loss: 140.3381\n",
            "Epoch 24/300\n",
            "1114/1114 [==============================] - 0s 94us/step - loss: 128.4806 - val_loss: 138.9194\n",
            "Epoch 25/300\n",
            "1114/1114 [==============================] - 0s 94us/step - loss: 128.1976 - val_loss: 139.4694\n",
            "Epoch 26/300\n",
            "1114/1114 [==============================] - 0s 92us/step - loss: 127.8284 - val_loss: 141.0590\n",
            "Epoch 27/300\n",
            "1114/1114 [==============================] - 0s 94us/step - loss: 128.3634 - val_loss: 139.6802\n",
            "Epoch 28/300\n",
            "1114/1114 [==============================] - 0s 102us/step - loss: 129.8501 - val_loss: 139.4462\n",
            "Epoch 29/300\n",
            "1114/1114 [==============================] - 0s 104us/step - loss: 130.5930 - val_loss: 140.6303\n",
            "Epoch 30/300\n",
            "1114/1114 [==============================] - 0s 93us/step - loss: 128.6873 - val_loss: 139.0044\n",
            "Epoch 31/300\n",
            "1114/1114 [==============================] - 0s 95us/step - loss: 128.4172 - val_loss: 141.7818\n",
            "Epoch 32/300\n",
            "1114/1114 [==============================] - 0s 95us/step - loss: 128.2961 - val_loss: 139.0792\n",
            "Epoch 33/300\n",
            "1114/1114 [==============================] - 0s 94us/step - loss: 126.7599 - val_loss: 142.6979\n",
            "Epoch 34/300\n",
            "1114/1114 [==============================] - 0s 94us/step - loss: 128.5191 - val_loss: 139.0462\n",
            "Epoch 35/300\n",
            "1114/1114 [==============================] - 0s 92us/step - loss: 127.6706 - val_loss: 138.5814\n",
            "Epoch 36/300\n",
            "1114/1114 [==============================] - 0s 92us/step - loss: 127.6683 - val_loss: 141.4221\n",
            "Epoch 37/300\n",
            "1114/1114 [==============================] - 0s 92us/step - loss: 128.1538 - val_loss: 138.4350\n",
            "Epoch 38/300\n",
            "1114/1114 [==============================] - 0s 103us/step - loss: 128.3611 - val_loss: 138.8721\n",
            "Epoch 39/300\n",
            "1114/1114 [==============================] - 0s 96us/step - loss: 128.6967 - val_loss: 138.7792\n",
            "Epoch 40/300\n",
            "1114/1114 [==============================] - 0s 93us/step - loss: 126.8677 - val_loss: 139.5546\n",
            "Epoch 41/300\n",
            "1114/1114 [==============================] - 0s 93us/step - loss: 128.1443 - val_loss: 139.8399\n",
            "Epoch 42/300\n",
            "1114/1114 [==============================] - 0s 92us/step - loss: 128.1605 - val_loss: 139.8045\n",
            "Epoch 43/300\n",
            "1114/1114 [==============================] - 0s 94us/step - loss: 128.4789 - val_loss: 139.7073\n",
            "Epoch 44/300\n",
            "1114/1114 [==============================] - 0s 92us/step - loss: 129.5088 - val_loss: 137.8017\n",
            "Epoch 45/300\n",
            "1114/1114 [==============================] - 0s 92us/step - loss: 126.9492 - val_loss: 139.9535\n",
            "Epoch 46/300\n",
            "1114/1114 [==============================] - 0s 93us/step - loss: 126.9705 - val_loss: 138.0910\n",
            "Epoch 47/300\n",
            "1114/1114 [==============================] - 0s 96us/step - loss: 128.7475 - val_loss: 139.7430\n",
            "Epoch 48/300\n",
            "1114/1114 [==============================] - 0s 106us/step - loss: 127.0326 - val_loss: 137.6227\n",
            "Epoch 49/300\n",
            "1114/1114 [==============================] - 0s 92us/step - loss: 127.5112 - val_loss: 138.2805\n",
            "Epoch 50/300\n",
            "1114/1114 [==============================] - 0s 93us/step - loss: 127.1816 - val_loss: 138.0553\n",
            "Epoch 51/300\n",
            "1114/1114 [==============================] - 0s 91us/step - loss: 127.7682 - val_loss: 137.3690\n",
            "Epoch 52/300\n",
            "1114/1114 [==============================] - 0s 94us/step - loss: 126.9870 - val_loss: 140.5366\n",
            "Epoch 53/300\n",
            "1114/1114 [==============================] - 0s 94us/step - loss: 127.1487 - val_loss: 137.9493\n",
            "Epoch 54/300\n",
            "1114/1114 [==============================] - 0s 96us/step - loss: 128.3256 - val_loss: 136.9597\n",
            "Epoch 55/300\n",
            "1114/1114 [==============================] - 0s 94us/step - loss: 125.8833 - val_loss: 141.8605\n",
            "Epoch 56/300\n",
            "1114/1114 [==============================] - 0s 92us/step - loss: 127.6623 - val_loss: 144.8133\n",
            "Epoch 57/300\n",
            "1114/1114 [==============================] - 0s 94us/step - loss: 126.8987 - val_loss: 137.5530\n",
            "Epoch 58/300\n",
            "1114/1114 [==============================] - 0s 100us/step - loss: 126.9331 - val_loss: 137.9919\n",
            "Epoch 59/300\n",
            "1114/1114 [==============================] - 0s 93us/step - loss: 126.5717 - val_loss: 140.3870\n",
            "Epoch 60/300\n",
            "1114/1114 [==============================] - 0s 94us/step - loss: 127.3522 - val_loss: 139.5989\n",
            "Epoch 61/300\n",
            "1114/1114 [==============================] - 0s 91us/step - loss: 126.5657 - val_loss: 138.2887\n",
            "Epoch 62/300\n",
            "1114/1114 [==============================] - 0s 92us/step - loss: 128.8749 - val_loss: 141.0603\n",
            "Epoch 63/300\n",
            "1114/1114 [==============================] - 0s 93us/step - loss: 127.5616 - val_loss: 138.8940\n",
            "Epoch 64/300\n",
            "1114/1114 [==============================] - 0s 99us/step - loss: 128.9708 - val_loss: 138.0088\n",
            "Epoch 65/300\n",
            "1114/1114 [==============================] - 0s 92us/step - loss: 127.5628 - val_loss: 141.0134\n",
            "Epoch 66/300\n",
            "1114/1114 [==============================] - 0s 91us/step - loss: 127.9707 - val_loss: 136.9906\n",
            "Epoch 67/300\n",
            "1114/1114 [==============================] - 0s 101us/step - loss: 126.4016 - val_loss: 140.7664\n",
            "Epoch 68/300\n",
            "1114/1114 [==============================] - 0s 93us/step - loss: 127.3940 - val_loss: 137.9833\n",
            "Epoch 69/300\n",
            "1114/1114 [==============================] - 0s 94us/step - loss: 129.5059 - val_loss: 140.3721\n",
            "Epoch 70/300\n",
            "1114/1114 [==============================] - 0s 93us/step - loss: 127.8399 - val_loss: 137.3062\n",
            "Epoch 71/300\n",
            "1114/1114 [==============================] - 0s 99us/step - loss: 128.7208 - val_loss: 142.9285\n",
            "Epoch 72/300\n",
            "1114/1114 [==============================] - 0s 93us/step - loss: 126.5309 - val_loss: 139.1443\n",
            "Epoch 73/300\n",
            "1114/1114 [==============================] - 0s 108us/step - loss: 127.2883 - val_loss: 140.8576\n",
            "Epoch 74/300\n",
            "1114/1114 [==============================] - 0s 93us/step - loss: 126.2016 - val_loss: 139.7738\n",
            "Epoch 75/300\n",
            "1114/1114 [==============================] - 0s 94us/step - loss: 129.6193 - val_loss: 140.3072\n",
            "Epoch 76/300\n",
            "1114/1114 [==============================] - 0s 93us/step - loss: 126.6916 - val_loss: 138.7915\n",
            "Epoch 77/300\n",
            "1114/1114 [==============================] - 0s 105us/step - loss: 126.0599 - val_loss: 137.1778\n",
            "Epoch 78/300\n",
            "1114/1114 [==============================] - 0s 94us/step - loss: 127.0762 - val_loss: 137.2920\n",
            "Epoch 79/300\n",
            "1114/1114 [==============================] - 0s 95us/step - loss: 126.2175 - val_loss: 138.0206\n",
            "Epoch 80/300\n",
            "1114/1114 [==============================] - 0s 92us/step - loss: 125.7699 - val_loss: 140.0126\n",
            "Epoch 81/300\n",
            "1114/1114 [==============================] - 0s 94us/step - loss: 126.2656 - val_loss: 138.2916\n",
            "Epoch 82/300\n",
            "1114/1114 [==============================] - 0s 92us/step - loss: 127.2905 - val_loss: 137.2343\n",
            "Epoch 83/300\n",
            "1114/1114 [==============================] - 0s 93us/step - loss: 126.9299 - val_loss: 136.0398\n",
            "Epoch 84/300\n",
            "1114/1114 [==============================] - 0s 94us/step - loss: 126.4392 - val_loss: 136.7981\n",
            "Epoch 85/300\n",
            "1114/1114 [==============================] - 0s 95us/step - loss: 125.9225 - val_loss: 138.7590\n",
            "Epoch 86/300\n",
            "1114/1114 [==============================] - 0s 103us/step - loss: 126.2213 - val_loss: 137.6423\n",
            "Epoch 87/300\n",
            "1114/1114 [==============================] - 0s 97us/step - loss: 126.8692 - val_loss: 135.6431\n",
            "Epoch 88/300\n",
            "1114/1114 [==============================] - 0s 94us/step - loss: 127.8777 - val_loss: 138.9594\n",
            "Epoch 89/300\n",
            "1114/1114 [==============================] - 0s 95us/step - loss: 127.6344 - val_loss: 137.4637\n",
            "Epoch 90/300\n",
            "1114/1114 [==============================] - 0s 98us/step - loss: 126.2676 - val_loss: 137.1912\n",
            "Epoch 91/300\n",
            "1114/1114 [==============================] - 0s 107us/step - loss: 129.5930 - val_loss: 143.7836\n",
            "Epoch 92/300\n",
            "1114/1114 [==============================] - 0s 102us/step - loss: 128.4597 - val_loss: 142.8336\n",
            "Epoch 93/300\n",
            "1114/1114 [==============================] - 0s 96us/step - loss: 127.4381 - val_loss: 142.4396\n",
            "Epoch 94/300\n",
            "1114/1114 [==============================] - 0s 94us/step - loss: 126.2588 - val_loss: 142.9392\n",
            "Epoch 95/300\n",
            "1114/1114 [==============================] - 0s 96us/step - loss: 125.9449 - val_loss: 139.4770\n",
            "Epoch 96/300\n",
            "1114/1114 [==============================] - 0s 108us/step - loss: 124.9612 - val_loss: 138.4888\n",
            "Epoch 97/300\n",
            "1114/1114 [==============================] - 0s 96us/step - loss: 128.4928 - val_loss: 138.6257\n",
            "Epoch 98/300\n",
            "1114/1114 [==============================] - 0s 100us/step - loss: 127.0018 - val_loss: 141.3535\n",
            "Epoch 99/300\n",
            "1114/1114 [==============================] - 0s 95us/step - loss: 125.5578 - val_loss: 139.5660\n",
            "Epoch 100/300\n",
            "1114/1114 [==============================] - 0s 102us/step - loss: 126.8145 - val_loss: 136.4872\n",
            "Epoch 101/300\n",
            "1114/1114 [==============================] - 0s 95us/step - loss: 126.8707 - val_loss: 137.3645\n",
            "Epoch 102/300\n",
            "1114/1114 [==============================] - 0s 96us/step - loss: 124.1368 - val_loss: 141.6353\n",
            "Epoch 103/300\n",
            "1114/1114 [==============================] - 0s 97us/step - loss: 126.1573 - val_loss: 135.9929\n",
            "Epoch 104/300\n",
            "1114/1114 [==============================] - 0s 91us/step - loss: 125.4774 - val_loss: 140.1391\n",
            "Epoch 105/300\n",
            "1114/1114 [==============================] - 0s 102us/step - loss: 126.5308 - val_loss: 139.5993\n",
            "Epoch 106/300\n",
            "1114/1114 [==============================] - 0s 97us/step - loss: 125.8311 - val_loss: 139.0080\n",
            "Epoch 107/300\n",
            "1114/1114 [==============================] - 0s 95us/step - loss: 124.0927 - val_loss: 148.0286\n",
            "Epoch 108/300\n",
            "1114/1114 [==============================] - 0s 97us/step - loss: 128.1647 - val_loss: 139.3142\n",
            "Epoch 109/300\n",
            "1114/1114 [==============================] - 0s 93us/step - loss: 126.9661 - val_loss: 138.4962\n",
            "Epoch 110/300\n",
            "1114/1114 [==============================] - 0s 93us/step - loss: 128.0705 - val_loss: 138.9933\n",
            "Epoch 111/300\n",
            "1114/1114 [==============================] - 0s 98us/step - loss: 125.0946 - val_loss: 138.2923\n",
            "Epoch 112/300\n",
            "1114/1114 [==============================] - 0s 94us/step - loss: 125.8928 - val_loss: 139.3991\n",
            "Epoch 113/300\n",
            "1114/1114 [==============================] - 0s 93us/step - loss: 126.8360 - val_loss: 140.1708\n",
            "Epoch 114/300\n",
            "1114/1114 [==============================] - 0s 91us/step - loss: 124.3136 - val_loss: 137.3644\n",
            "Epoch 115/300\n",
            "1114/1114 [==============================] - 0s 104us/step - loss: 124.7334 - val_loss: 136.0744\n",
            "Epoch 116/300\n",
            "1114/1114 [==============================] - 0s 96us/step - loss: 124.9630 - val_loss: 135.7167\n",
            "Epoch 117/300\n",
            "1114/1114 [==============================] - 0s 92us/step - loss: 124.5427 - val_loss: 135.3343\n",
            "Epoch 118/300\n",
            "1114/1114 [==============================] - 0s 93us/step - loss: 125.4330 - val_loss: 138.9586\n",
            "Epoch 119/300\n",
            "1114/1114 [==============================] - 0s 93us/step - loss: 127.6071 - val_loss: 138.5653\n",
            "Epoch 120/300\n",
            "1114/1114 [==============================] - 0s 91us/step - loss: 126.5832 - val_loss: 138.8918\n",
            "Epoch 121/300\n",
            "1114/1114 [==============================] - 0s 93us/step - loss: 124.4015 - val_loss: 136.7491\n",
            "Epoch 122/300\n",
            "1114/1114 [==============================] - 0s 91us/step - loss: 124.1122 - val_loss: 139.2799\n",
            "Epoch 123/300\n",
            "1114/1114 [==============================] - 0s 94us/step - loss: 124.3108 - val_loss: 139.0301\n",
            "Epoch 124/300\n",
            "1114/1114 [==============================] - 0s 103us/step - loss: 124.4738 - val_loss: 135.7042\n",
            "Epoch 125/300\n",
            "1114/1114 [==============================] - 0s 95us/step - loss: 124.9245 - val_loss: 136.0135\n",
            "Epoch 126/300\n",
            "1114/1114 [==============================] - 0s 94us/step - loss: 124.3176 - val_loss: 141.3553\n",
            "Epoch 127/300\n",
            "1114/1114 [==============================] - 0s 93us/step - loss: 128.4358 - val_loss: 141.1750\n",
            "Epoch 128/300\n",
            "1114/1114 [==============================] - 0s 93us/step - loss: 124.0664 - val_loss: 136.7397\n",
            "Epoch 129/300\n",
            "1114/1114 [==============================] - 0s 93us/step - loss: 125.2711 - val_loss: 138.2285\n",
            "Epoch 130/300\n",
            "1114/1114 [==============================] - 0s 92us/step - loss: 125.9537 - val_loss: 137.6760\n",
            "Epoch 131/300\n",
            "1114/1114 [==============================] - 0s 92us/step - loss: 123.9452 - val_loss: 138.2740\n",
            "Epoch 132/300\n",
            "1114/1114 [==============================] - 0s 93us/step - loss: 123.3190 - val_loss: 141.7175\n",
            "Epoch 133/300\n",
            "1114/1114 [==============================] - 0s 93us/step - loss: 126.5828 - val_loss: 140.3536\n",
            "Epoch 134/300\n",
            "1114/1114 [==============================] - 0s 103us/step - loss: 123.2417 - val_loss: 134.4085\n",
            "Epoch 135/300\n",
            "1114/1114 [==============================] - 0s 92us/step - loss: 124.0191 - val_loss: 137.9515\n",
            "Epoch 136/300\n",
            "1114/1114 [==============================] - 0s 92us/step - loss: 125.4883 - val_loss: 138.2040\n",
            "Epoch 137/300\n",
            "1114/1114 [==============================] - 0s 92us/step - loss: 124.5653 - val_loss: 138.3349\n",
            "Epoch 138/300\n",
            "1114/1114 [==============================] - 0s 95us/step - loss: 124.7049 - val_loss: 136.0752\n",
            "Epoch 139/300\n",
            "1114/1114 [==============================] - 0s 91us/step - loss: 125.4050 - val_loss: 136.2655\n",
            "Epoch 140/300\n",
            "1114/1114 [==============================] - 0s 95us/step - loss: 124.0116 - val_loss: 134.4604\n",
            "Epoch 141/300\n",
            "1114/1114 [==============================] - 0s 94us/step - loss: 125.3572 - val_loss: 137.2275\n",
            "Epoch 142/300\n",
            "1114/1114 [==============================] - 0s 95us/step - loss: 127.0090 - val_loss: 134.7060\n",
            "Epoch 143/300\n",
            "1114/1114 [==============================] - 0s 93us/step - loss: 124.4929 - val_loss: 136.0600\n",
            "Epoch 144/300\n",
            "1114/1114 [==============================] - 0s 98us/step - loss: 123.1103 - val_loss: 136.8930\n",
            "Epoch 145/300\n",
            "1114/1114 [==============================] - 0s 93us/step - loss: 124.6969 - val_loss: 134.6531\n",
            "Epoch 146/300\n",
            "1114/1114 [==============================] - 0s 91us/step - loss: 123.6178 - val_loss: 134.9577\n",
            "Epoch 147/300\n",
            "1114/1114 [==============================] - 0s 91us/step - loss: 123.6281 - val_loss: 134.3425\n",
            "Epoch 148/300\n",
            "1114/1114 [==============================] - 0s 92us/step - loss: 124.0422 - val_loss: 138.8889\n",
            "Epoch 149/300\n",
            "1114/1114 [==============================] - 0s 93us/step - loss: 124.3245 - val_loss: 139.8612\n",
            "Epoch 150/300\n",
            "1114/1114 [==============================] - 0s 91us/step - loss: 123.6920 - val_loss: 134.8987\n",
            "Epoch 151/300\n",
            "1114/1114 [==============================] - 0s 92us/step - loss: 123.0984 - val_loss: 135.2601\n",
            "Epoch 152/300\n",
            "1114/1114 [==============================] - 0s 93us/step - loss: 123.1581 - val_loss: 134.7093\n",
            "Epoch 153/300\n",
            "1114/1114 [==============================] - 0s 105us/step - loss: 122.5034 - val_loss: 134.0638\n",
            "Epoch 154/300\n",
            "1114/1114 [==============================] - 0s 94us/step - loss: 123.5828 - val_loss: 136.6176\n",
            "Epoch 155/300\n",
            "1114/1114 [==============================] - 0s 92us/step - loss: 124.1387 - val_loss: 135.2145\n",
            "Epoch 156/300\n",
            "1114/1114 [==============================] - 0s 91us/step - loss: 122.4615 - val_loss: 139.1261\n",
            "Epoch 157/300\n",
            "1114/1114 [==============================] - 0s 92us/step - loss: 125.0079 - val_loss: 136.8353\n",
            "Epoch 158/300\n",
            "1114/1114 [==============================] - 0s 92us/step - loss: 123.3891 - val_loss: 133.7704\n",
            "Epoch 159/300\n",
            "1114/1114 [==============================] - 0s 92us/step - loss: 123.0303 - val_loss: 135.8036\n",
            "Epoch 160/300\n",
            "1114/1114 [==============================] - 0s 92us/step - loss: 124.1372 - val_loss: 133.2353\n",
            "Epoch 161/300\n",
            "1114/1114 [==============================] - 0s 93us/step - loss: 124.3933 - val_loss: 136.1712\n",
            "Epoch 162/300\n",
            "1114/1114 [==============================] - 0s 93us/step - loss: 123.9736 - val_loss: 133.9079\n",
            "Epoch 163/300\n",
            "1114/1114 [==============================] - 0s 101us/step - loss: 122.9755 - val_loss: 134.1677\n",
            "Epoch 164/300\n",
            "1114/1114 [==============================] - 0s 98us/step - loss: 122.8828 - val_loss: 142.7269\n",
            "Epoch 165/300\n",
            "1114/1114 [==============================] - 0s 95us/step - loss: 124.4369 - val_loss: 135.8852\n",
            "Epoch 166/300\n",
            "1114/1114 [==============================] - 0s 94us/step - loss: 124.2439 - val_loss: 141.0371\n",
            "Epoch 167/300\n",
            "1114/1114 [==============================] - 0s 95us/step - loss: 124.5140 - val_loss: 133.1964\n",
            "Epoch 168/300\n",
            "1114/1114 [==============================] - 0s 97us/step - loss: 125.3521 - val_loss: 137.9608\n",
            "Epoch 169/300\n",
            "1114/1114 [==============================] - 0s 93us/step - loss: 122.8219 - val_loss: 132.8020\n",
            "Epoch 170/300\n",
            "1114/1114 [==============================] - 0s 92us/step - loss: 122.6265 - val_loss: 140.0778\n",
            "Epoch 171/300\n",
            "1114/1114 [==============================] - 0s 94us/step - loss: 122.6372 - val_loss: 134.5249\n",
            "Epoch 172/300\n",
            "1114/1114 [==============================] - 0s 103us/step - loss: 122.3453 - val_loss: 133.5307\n",
            "Epoch 173/300\n",
            "1114/1114 [==============================] - 0s 113us/step - loss: 122.6103 - val_loss: 134.4028\n",
            "Epoch 174/300\n",
            "1114/1114 [==============================] - 0s 92us/step - loss: 122.8388 - val_loss: 134.6287\n",
            "Epoch 175/300\n",
            "1114/1114 [==============================] - 0s 93us/step - loss: 128.9315 - val_loss: 141.4825\n",
            "Epoch 176/300\n",
            "1114/1114 [==============================] - 0s 94us/step - loss: 124.3414 - val_loss: 133.9064\n",
            "Epoch 177/300\n",
            "1114/1114 [==============================] - 0s 99us/step - loss: 122.0016 - val_loss: 134.4824\n",
            "Epoch 178/300\n",
            "1114/1114 [==============================] - 0s 93us/step - loss: 124.0387 - val_loss: 134.6344\n",
            "Epoch 179/300\n",
            "1114/1114 [==============================] - 0s 94us/step - loss: 122.1901 - val_loss: 137.0941\n",
            "Epoch 180/300\n",
            "1114/1114 [==============================] - 0s 93us/step - loss: 124.5041 - val_loss: 133.2246\n",
            "Epoch 181/300\n",
            "1114/1114 [==============================] - 0s 94us/step - loss: 122.1920 - val_loss: 133.1852\n",
            "Epoch 182/300\n",
            "1114/1114 [==============================] - 0s 108us/step - loss: 122.1188 - val_loss: 135.3358\n",
            "Epoch 183/300\n",
            "1114/1114 [==============================] - 0s 94us/step - loss: 123.0511 - val_loss: 137.1982\n",
            "Epoch 184/300\n",
            "1114/1114 [==============================] - 0s 92us/step - loss: 123.1451 - val_loss: 139.6429\n",
            "Epoch 185/300\n",
            "1114/1114 [==============================] - 0s 93us/step - loss: 125.4436 - val_loss: 135.1310\n",
            "Epoch 186/300\n",
            "1114/1114 [==============================] - 0s 93us/step - loss: 121.3574 - val_loss: 135.8188\n",
            "Epoch 187/300\n",
            "1114/1114 [==============================] - 0s 97us/step - loss: 125.0840 - val_loss: 135.8763\n",
            "Epoch 188/300\n",
            "1114/1114 [==============================] - 0s 91us/step - loss: 122.5576 - val_loss: 136.8120\n",
            "Epoch 189/300\n",
            "1114/1114 [==============================] - 0s 92us/step - loss: 123.4569 - val_loss: 135.6975\n",
            "Epoch 190/300\n",
            "1114/1114 [==============================] - 0s 92us/step - loss: 121.7760 - val_loss: 134.0599\n",
            "Epoch 191/300\n",
            "1114/1114 [==============================] - 0s 93us/step - loss: 121.7137 - val_loss: 135.1439\n",
            "Epoch 192/300\n",
            "1114/1114 [==============================] - 0s 104us/step - loss: 123.6264 - val_loss: 137.4895\n",
            "Epoch 193/300\n",
            "1114/1114 [==============================] - 0s 96us/step - loss: 123.3661 - val_loss: 136.4381\n",
            "Epoch 194/300\n",
            "1114/1114 [==============================] - 0s 92us/step - loss: 123.2761 - val_loss: 139.5197\n",
            "Epoch 195/300\n",
            "1114/1114 [==============================] - 0s 95us/step - loss: 122.6325 - val_loss: 133.6841\n",
            "Epoch 196/300\n",
            "1114/1114 [==============================] - 0s 97us/step - loss: 122.8273 - val_loss: 139.5095\n",
            "Epoch 197/300\n",
            "1114/1114 [==============================] - 0s 93us/step - loss: 124.1385 - val_loss: 141.7138\n",
            "Epoch 198/300\n",
            "1114/1114 [==============================] - 0s 93us/step - loss: 120.9425 - val_loss: 140.1374\n",
            "Epoch 199/300\n",
            "1114/1114 [==============================] - 0s 92us/step - loss: 122.9883 - val_loss: 135.0066\n",
            "Epoch 200/300\n",
            "1114/1114 [==============================] - 0s 95us/step - loss: 123.3081 - val_loss: 134.0146\n",
            "Epoch 201/300\n",
            "1114/1114 [==============================] - 0s 105us/step - loss: 122.3016 - val_loss: 132.2594\n",
            "Epoch 202/300\n",
            "1114/1114 [==============================] - 0s 96us/step - loss: 123.9819 - val_loss: 133.9854\n",
            "Epoch 203/300\n",
            "1114/1114 [==============================] - 0s 96us/step - loss: 121.4940 - val_loss: 135.2062\n",
            "Epoch 204/300\n",
            "1114/1114 [==============================] - 0s 92us/step - loss: 123.5663 - val_loss: 137.4539\n",
            "Epoch 205/300\n",
            "1114/1114 [==============================] - 0s 95us/step - loss: 122.7013 - val_loss: 133.2115\n",
            "Epoch 206/300\n",
            "1114/1114 [==============================] - 0s 94us/step - loss: 121.6817 - val_loss: 134.0609\n",
            "Epoch 207/300\n",
            "1114/1114 [==============================] - 0s 93us/step - loss: 122.9915 - val_loss: 135.3141\n",
            "Epoch 208/300\n",
            "1114/1114 [==============================] - 0s 92us/step - loss: 120.7936 - val_loss: 132.1394\n",
            "Epoch 209/300\n",
            "1114/1114 [==============================] - 0s 94us/step - loss: 120.9251 - val_loss: 132.6431\n",
            "Epoch 210/300\n",
            "1114/1114 [==============================] - 0s 98us/step - loss: 121.1147 - val_loss: 132.2063\n",
            "Epoch 211/300\n",
            "1114/1114 [==============================] - 0s 105us/step - loss: 121.4295 - val_loss: 133.6414\n",
            "Epoch 212/300\n",
            "1114/1114 [==============================] - 0s 97us/step - loss: 120.8772 - val_loss: 132.1432\n",
            "Epoch 213/300\n",
            "1114/1114 [==============================] - 0s 102us/step - loss: 125.5712 - val_loss: 137.4436\n",
            "Epoch 214/300\n",
            "1114/1114 [==============================] - 0s 95us/step - loss: 121.5042 - val_loss: 138.7601\n",
            "Epoch 215/300\n",
            "1114/1114 [==============================] - 0s 92us/step - loss: 121.4003 - val_loss: 134.4435\n",
            "Epoch 216/300\n",
            "1114/1114 [==============================] - 0s 92us/step - loss: 122.6642 - val_loss: 132.1175\n",
            "Epoch 217/300\n",
            "1114/1114 [==============================] - 0s 95us/step - loss: 122.2102 - val_loss: 132.5903\n",
            "Epoch 218/300\n",
            "1114/1114 [==============================] - 0s 92us/step - loss: 121.7388 - val_loss: 135.8925\n",
            "Epoch 219/300\n",
            "1114/1114 [==============================] - 0s 92us/step - loss: 122.5347 - val_loss: 135.3036\n",
            "Epoch 220/300\n",
            "1114/1114 [==============================] - 0s 104us/step - loss: 121.4796 - val_loss: 132.3196\n",
            "Epoch 221/300\n",
            "1114/1114 [==============================] - 0s 94us/step - loss: 120.4900 - val_loss: 134.9496\n",
            "Epoch 222/300\n",
            "1114/1114 [==============================] - 0s 94us/step - loss: 122.4567 - val_loss: 132.0196\n",
            "Epoch 223/300\n",
            "1114/1114 [==============================] - 0s 95us/step - loss: 120.5995 - val_loss: 134.6628\n",
            "Epoch 224/300\n",
            "1114/1114 [==============================] - 0s 94us/step - loss: 121.3766 - val_loss: 139.0423\n",
            "Epoch 225/300\n",
            "1114/1114 [==============================] - 0s 102us/step - loss: 121.5514 - val_loss: 134.0668\n",
            "Epoch 226/300\n",
            "1114/1114 [==============================] - 0s 101us/step - loss: 121.7953 - val_loss: 134.6879\n",
            "Epoch 227/300\n",
            "1114/1114 [==============================] - 0s 97us/step - loss: 120.3444 - val_loss: 132.2893\n",
            "Epoch 228/300\n",
            "1114/1114 [==============================] - 0s 92us/step - loss: 120.5897 - val_loss: 132.4693\n",
            "Epoch 229/300\n",
            "1114/1114 [==============================] - 0s 92us/step - loss: 122.3142 - val_loss: 131.2931\n",
            "Epoch 230/300\n",
            "1114/1114 [==============================] - 0s 106us/step - loss: 120.0058 - val_loss: 133.8221\n",
            "Epoch 231/300\n",
            "1114/1114 [==============================] - 0s 94us/step - loss: 120.8766 - val_loss: 136.6524\n",
            "Epoch 232/300\n",
            "1114/1114 [==============================] - 0s 93us/step - loss: 121.1151 - val_loss: 131.2953\n",
            "Epoch 233/300\n",
            "1114/1114 [==============================] - 0s 93us/step - loss: 120.3340 - val_loss: 133.4910\n",
            "Epoch 234/300\n",
            "1114/1114 [==============================] - 0s 93us/step - loss: 120.9701 - val_loss: 132.4705\n",
            "Epoch 235/300\n",
            "1114/1114 [==============================] - 0s 91us/step - loss: 121.2211 - val_loss: 137.3934\n",
            "Epoch 236/300\n",
            "1114/1114 [==============================] - 0s 92us/step - loss: 120.0514 - val_loss: 133.0586\n",
            "Epoch 237/300\n",
            "1114/1114 [==============================] - 0s 96us/step - loss: 122.1560 - val_loss: 134.4324\n",
            "Epoch 238/300\n",
            "1114/1114 [==============================] - 0s 94us/step - loss: 120.8653 - val_loss: 133.2277\n",
            "Epoch 239/300\n",
            "1114/1114 [==============================] - 0s 98us/step - loss: 120.9828 - val_loss: 136.8772\n",
            "Epoch 240/300\n",
            "1114/1114 [==============================] - 0s 96us/step - loss: 121.4456 - val_loss: 134.1600\n",
            "Epoch 241/300\n",
            "1114/1114 [==============================] - 0s 92us/step - loss: 121.0086 - val_loss: 140.3571\n",
            "Epoch 242/300\n",
            "1114/1114 [==============================] - 0s 94us/step - loss: 124.7582 - val_loss: 136.1804\n",
            "Epoch 243/300\n",
            "1114/1114 [==============================] - 0s 94us/step - loss: 122.8285 - val_loss: 134.1446\n",
            "Epoch 244/300\n",
            "1114/1114 [==============================] - 0s 91us/step - loss: 121.5345 - val_loss: 136.0733\n",
            "Epoch 245/300\n",
            "1114/1114 [==============================] - 0s 100us/step - loss: 121.2049 - val_loss: 138.1268\n",
            "Epoch 246/300\n",
            "1114/1114 [==============================] - 0s 94us/step - loss: 120.9955 - val_loss: 136.5134\n",
            "Epoch 247/300\n",
            "1114/1114 [==============================] - 0s 93us/step - loss: 120.2309 - val_loss: 133.1436\n",
            "Epoch 248/300\n",
            "1114/1114 [==============================] - 0s 93us/step - loss: 119.5424 - val_loss: 133.9558\n",
            "Epoch 249/300\n",
            "1114/1114 [==============================] - 0s 104us/step - loss: 119.7722 - val_loss: 131.3055\n",
            "Epoch 250/300\n",
            "1114/1114 [==============================] - 0s 93us/step - loss: 120.4429 - val_loss: 132.6369\n",
            "Epoch 251/300\n",
            "1114/1114 [==============================] - 0s 95us/step - loss: 123.4820 - val_loss: 130.4083\n",
            "Epoch 252/300\n",
            "1114/1114 [==============================] - 0s 95us/step - loss: 120.3030 - val_loss: 132.2863\n",
            "Epoch 253/300\n",
            "1114/1114 [==============================] - 0s 93us/step - loss: 120.2604 - val_loss: 136.5738\n",
            "Epoch 254/300\n",
            "1114/1114 [==============================] - 0s 92us/step - loss: 120.8682 - val_loss: 133.9332\n",
            "Epoch 255/300\n",
            "1114/1114 [==============================] - 0s 96us/step - loss: 119.4807 - val_loss: 132.8742\n",
            "Epoch 256/300\n",
            "1114/1114 [==============================] - 0s 93us/step - loss: 120.3261 - val_loss: 139.4632\n",
            "Epoch 257/300\n",
            "1114/1114 [==============================] - 0s 92us/step - loss: 121.6043 - val_loss: 130.9492\n",
            "Epoch 258/300\n",
            "1114/1114 [==============================] - 0s 92us/step - loss: 122.1762 - val_loss: 131.9362\n",
            "Epoch 259/300\n",
            "1114/1114 [==============================] - 0s 101us/step - loss: 121.8050 - val_loss: 138.7828\n",
            "Epoch 260/300\n",
            "1114/1114 [==============================] - 0s 93us/step - loss: 119.1568 - val_loss: 131.8181\n",
            "Epoch 261/300\n",
            "1114/1114 [==============================] - 0s 95us/step - loss: 118.9826 - val_loss: 132.3332\n",
            "Epoch 262/300\n",
            "1114/1114 [==============================] - 0s 94us/step - loss: 119.9873 - val_loss: 132.9319\n",
            "Epoch 263/300\n",
            "1114/1114 [==============================] - 0s 94us/step - loss: 119.6207 - val_loss: 132.1054\n",
            "Epoch 264/300\n",
            "1114/1114 [==============================] - 0s 91us/step - loss: 120.0123 - val_loss: 132.5950\n",
            "Epoch 265/300\n",
            "1114/1114 [==============================] - 0s 92us/step - loss: 120.1321 - val_loss: 134.5366\n",
            "Epoch 266/300\n",
            "1114/1114 [==============================] - 0s 94us/step - loss: 119.8165 - val_loss: 134.8905\n",
            "Epoch 267/300\n",
            "1114/1114 [==============================] - 0s 92us/step - loss: 120.5476 - val_loss: 132.1869\n",
            "Epoch 268/300\n",
            "1114/1114 [==============================] - 0s 102us/step - loss: 121.0263 - val_loss: 132.2271\n",
            "Epoch 269/300\n",
            "1114/1114 [==============================] - 0s 95us/step - loss: 121.9049 - val_loss: 136.5337\n",
            "Epoch 270/300\n",
            "1114/1114 [==============================] - 0s 94us/step - loss: 119.6985 - val_loss: 134.4348\n",
            "Epoch 271/300\n",
            "1114/1114 [==============================] - 0s 93us/step - loss: 121.3035 - val_loss: 135.1837\n",
            "Epoch 272/300\n",
            "1114/1114 [==============================] - 0s 107us/step - loss: 118.7843 - val_loss: 132.6111\n",
            "Epoch 273/300\n",
            "1114/1114 [==============================] - 0s 93us/step - loss: 119.6922 - val_loss: 135.0630\n",
            "Epoch 274/300\n",
            "1114/1114 [==============================] - 0s 95us/step - loss: 119.9521 - val_loss: 135.4952\n",
            "Epoch 275/300\n",
            "1114/1114 [==============================] - 0s 93us/step - loss: 118.8829 - val_loss: 130.4162\n",
            "Epoch 276/300\n",
            "1114/1114 [==============================] - 0s 95us/step - loss: 117.9378 - val_loss: 133.9405\n",
            "Epoch 277/300\n",
            "1114/1114 [==============================] - 0s 93us/step - loss: 119.0129 - val_loss: 130.5733\n",
            "Epoch 278/300\n",
            "1114/1114 [==============================] - 0s 109us/step - loss: 120.3031 - val_loss: 132.8963\n",
            "Epoch 279/300\n",
            "1114/1114 [==============================] - 0s 93us/step - loss: 121.8290 - val_loss: 136.9652\n",
            "Epoch 280/300\n",
            "1114/1114 [==============================] - 0s 93us/step - loss: 123.2169 - val_loss: 133.7681\n",
            "Epoch 281/300\n",
            "1114/1114 [==============================] - 0s 92us/step - loss: 123.3554 - val_loss: 137.5172\n",
            "Epoch 282/300\n",
            "1114/1114 [==============================] - 0s 92us/step - loss: 119.1745 - val_loss: 134.1165\n",
            "Epoch 283/300\n",
            "1114/1114 [==============================] - 0s 94us/step - loss: 121.3014 - val_loss: 130.3269\n",
            "Epoch 284/300\n",
            "1114/1114 [==============================] - 0s 93us/step - loss: 118.9126 - val_loss: 131.7377\n",
            "Epoch 285/300\n",
            "1114/1114 [==============================] - 0s 94us/step - loss: 117.9337 - val_loss: 133.4295\n",
            "Epoch 286/300\n",
            "1114/1114 [==============================] - 0s 92us/step - loss: 118.5047 - val_loss: 132.3490\n",
            "Epoch 287/300\n",
            "1114/1114 [==============================] - 0s 92us/step - loss: 118.4412 - val_loss: 132.3664\n",
            "Epoch 288/300\n",
            "1114/1114 [==============================] - 0s 102us/step - loss: 120.9356 - val_loss: 131.7811\n",
            "Epoch 289/300\n",
            "1114/1114 [==============================] - 0s 102us/step - loss: 120.5015 - val_loss: 131.7219\n",
            "Epoch 290/300\n",
            "1114/1114 [==============================] - 0s 91us/step - loss: 120.0037 - val_loss: 133.4256\n",
            "Epoch 291/300\n",
            "1114/1114 [==============================] - 0s 94us/step - loss: 120.5001 - val_loss: 133.2675\n",
            "Epoch 292/300\n",
            "1114/1114 [==============================] - 0s 92us/step - loss: 119.1738 - val_loss: 130.1048\n",
            "Epoch 293/300\n",
            "1114/1114 [==============================] - 0s 92us/step - loss: 118.0951 - val_loss: 133.3504\n",
            "Epoch 294/300\n",
            "1114/1114 [==============================] - 0s 95us/step - loss: 118.3863 - val_loss: 131.0128\n",
            "Epoch 295/300\n",
            "1114/1114 [==============================] - 0s 94us/step - loss: 118.0490 - val_loss: 133.5200\n",
            "Epoch 296/300\n",
            "1114/1114 [==============================] - 0s 93us/step - loss: 120.7284 - val_loss: 130.7467\n",
            "Epoch 297/300\n",
            "1114/1114 [==============================] - 0s 106us/step - loss: 120.4780 - val_loss: 133.2004\n",
            "Epoch 298/300\n",
            "1114/1114 [==============================] - 0s 93us/step - loss: 119.1683 - val_loss: 135.3870\n",
            "Epoch 299/300\n",
            "1114/1114 [==============================] - 0s 92us/step - loss: 118.9221 - val_loss: 130.6419\n",
            "Epoch 300/300\n",
            "1114/1114 [==============================] - 0s 96us/step - loss: 119.6735 - val_loss: 131.0564\n"
          ],
          "name": "stdout"
        }
      ]
    },
    {
      "cell_type": "code",
      "metadata": {
        "id": "8qqMndYh3F9y",
        "colab_type": "code",
        "colab": {
          "base_uri": "https://localhost:8080/",
          "height": 286
        },
        "outputId": "3792fd33-8f23-4f83-e236-d92374caad48"
      },
      "source": [
        "tr = hist.history['loss']\n",
        "val_ls = hist.history['val_loss']\n",
        "plt.plot(tr[1:])\n",
        "plt.plot(val_ls[1:])"
      ],
      "execution_count": 17,
      "outputs": [
        {
          "output_type": "execute_result",
          "data": {
            "text/plain": [
              "[<matplotlib.lines.Line2D at 0x7f0bac6d45f8>]"
            ]
          },
          "metadata": {
            "tags": []
          },
          "execution_count": 17
        },
        {
          "output_type": "display_data",
          "data": {
            "image/png": "[encoded data removed]",
            "text/plain": [
              "<Figure size 432x288 with 1 Axes>"
            ]
          },
          "metadata": {
            "tags": []
          }
        }
      ]
    },
    {
      "cell_type": "code",
      "metadata": {
        "id": "dgk-FbQtEe-E",
        "colab_type": "code",
        "colab": {}
      },
      "source": [
        "predicted = model.predict([x_test_t])\n"
      ],
      "execution_count": 0,
      "outputs": []
    },
    {
      "cell_type": "code",
      "metadata": {
        "id": "cLZ0IK2ZG4Sw",
        "colab_type": "code",
        "colab": {}
      },
      "source": [
        "# print(np.shape(y_test_t))\n",
        "##print(np.shape(predicted))\n",
        "\n",
        "actual =[]\n",
        "pred=[]\n",
        "se=0\n",
        "show = np.hstack((y_test_t, predicted))\n",
        "\n",
        "for i in show:\n",
        "  se+=(i[0]-i[1])**2\n",
        "  actual.append(i[0])\n",
        "  pred.append(i[1])\n",
        "  \n",
        " \n",
        "\n",
        "\n"
      ],
      "execution_count": 0,
      "outputs": []
    },
    {
      "cell_type": "code",
      "metadata": {
        "id": "ILK9hZaGIxjK",
        "colab_type": "code",
        "colab": {}
      },
      "source": [
        "rmse = (se/np.size(y_test_t))**0.5"
      ],
      "execution_count": 0,
      "outputs": []
    },
    {
      "cell_type": "code",
      "metadata": {
        "id": "Yd0E9kjt5gq3",
        "colab_type": "code",
        "colab": {
          "base_uri": "https://localhost:8080/",
          "height": 34
        },
        "outputId": "fa45cc1a-42ae-48b6-a89b-401d481f619e"
      },
      "source": [
        "print(rmse)"
      ],
      "execution_count": 21,
      "outputs": [
        {
          "output_type": "stream",
          "text": [
            "11.841945752089728\n"
          ],
          "name": "stdout"
        }
      ]
    },
    {
      "cell_type": "code",
      "metadata": {
        "id": "EF-jVYmG4URr",
        "colab_type": "code",
        "outputId": "398b8ee9-e716-41ee-d8f1-f5dc56aceec0",
        "colab": {
          "base_uri": "https://localhost:8080/",
          "height": 286
        }
      },
      "source": [
        "plt.plot(actual)\n",
        "plt.plot(pred)"
      ],
      "execution_count": 23,
      "outputs": [
        {
          "output_type": "execute_result",
          "data": {
            "text/plain": [
              "[<matplotlib.lines.Line2D at 0x7f0bac5125c0>]"
            ]
          },
          "metadata": {
            "tags": []
          },
          "execution_count": 23
        },
        {
          "output_type": "display_data",
          "data": {
            "image/png": "[encoded data removed]",
            "text/plain": [
              "<Figure size 432x288 with 1 Axes>"
            ]
          },
          "metadata": {
            "tags": []
          }
        }
      ]
    },
    {
      "cell_type": "code",
      "metadata": {
        "id": "mBxVOdCsw57E",
        "colab_type": "code",
        "outputId": "07050a66-65b7-447e-9e25-e1da45e10bf6",
        "colab": {
          "base_uri": "https://localhost:8080/",
          "height": 34
        }
      },
      "source": [
        "print(np.shape(labels))"
      ],
      "execution_count": 0,
      "outputs": [
        {
          "output_type": "stream",
          "text": [
            "(2376, 1)\n"
          ],
          "name": "stdout"
        }
      ]
    },
    {
      "cell_type": "code",
      "metadata": {
        "id": "D3wca5LoCfEI",
        "colab_type": "code",
        "colab": {}
      },
      "source": [
        "tf.reset_default_graph()"
      ],
      "execution_count": 0,
      "outputs": []
    },
    {
      "cell_type": "code",
      "metadata": {
        "id": "M8zj52CuhmPD",
        "colab_type": "code",
        "colab": {}
      },
      "source": [
        "x = tf.placeholder(shape = (None,9), dtype = tf.float32, name = 'input' )\n",
        "y = tf.placeholder(shape = (None,1), dtype = tf.float32, name = 'target')\n",
        "\n",
        "#Layer 1 \n",
        "w1 = tf.Variable(tf.glorot_uniform_initializer(dtype = tf.float32)((9, 15)))\n",
        "b1 = tf.Variable(tf.glorot_uniform_initializer(dtype = tf.float32)((1,15)))\n",
        "\n",
        "#Layer2 \n",
        "\n",
        "w2 = tf.Variable(tf.glorot_uniform_initializer(dtype = tf.float32)((15,25)))\n",
        "b2 = tf.Variable(tf.glorot_uniform_initializer(dtype = tf.float32)((1,25)))\n",
        "\n",
        "#out\n",
        "\n",
        "wo = tf.Variable(tf.glorot_uniform_initializer(dtype = tf.float32)((25,1)))\n",
        "bo = tf.Variable(tf.glorot_uniform_initializer(dtype = tf.float32)((1,1)))\n"
      ],
      "execution_count": 0,
      "outputs": []
    },
    {
      "cell_type": "code",
      "metadata": {
        "id": "92_mLSDYpmcv",
        "colab_type": "code",
        "colab": {}
      },
      "source": [
        "hidl1 = tf.add(tf.matmul(x,w1),b1, name ='hidden1')\n",
        "hidl1 = tf.nn.relu(hidl1)\n",
        "hidl2 = tf.add(tf.matmul(hidl1,w2),b2, name = 'hidden2')\n",
        "hidl2 = tf.nn.relu(hidl2)"
      ],
      "execution_count": 0,
      "outputs": []
    },
    {
      "cell_type": "code",
      "metadata": {
        "id": "SYnF_9OusKXw",
        "colab_type": "code",
        "colab": {}
      },
      "source": [
        "#outl_batch = tf.compat.v1.layers.batch_normalization(hidl2)\n",
        "out = tf.add(tf.matmul(hidl2,wo),bo,name = 'output')\n"
      ],
      "execution_count": 0,
      "outputs": []
    },
    {
      "cell_type": "code",
      "metadata": {
        "id": "8OdDRQggsq5N",
        "colab_type": "code",
        "colab": {}
      },
      "source": [
        "loss = tf.reduce_mean(tf.square(tf.subtract(y,out))) \n",
        "\n",
        "opt = tf.train.AdamOptimizer(name = 'optimizer')\n",
        "op_train = opt.minimize(loss, name ='train_op')\n",
        "\n",
        "  "
      ],
      "execution_count": 0,
      "outputs": []
    },
    {
      "cell_type": "markdown",
      "metadata": {
        "id": "eiyIZ5_FvMjz",
        "colab_type": "text"
      },
      "source": [
        "Add additional custom loss functions if necc \n",
        "reducing mean sqaure error \n",
        "1. reducing max deviation "
      ]
    },
    {
      "cell_type": "code",
      "metadata": {
        "id": "vgbtgE_CvDzV",
        "colab_type": "code",
        "colab": {}
      },
      "source": [
        "saved = tf.train.Saver().as_saver_def()"
      ],
      "execution_count": 0,
      "outputs": []
    },
    {
      "cell_type": "code",
      "metadata": {
        "id": "xLnEbChLyH82",
        "colab_type": "code",
        "colab": {}
      },
      "source": [
        "init = tf.global_variables_initializer()"
      ],
      "execution_count": 0,
      "outputs": []
    },
    {
      "cell_type": "code",
      "metadata": {
        "id": "nh28JgrUxRjT",
        "colab_type": "code",
        "colab": {}
      },
      "source": [
        "train=[]\n",
        "val=[]\n",
        "\n",
        "with tf.device('/device:CPU:0'):\n",
        "  update_ops = tf.get_collection(tf.GraphKeys.UPDATE_OPS)\n",
        "  save = tf.train.Saver()\n",
        "  with tf.Session() as sess:\n",
        "    sess.run(init)\n",
        "    mini =[]\n",
        "    for i in range(1500):\n",
        "      b1=[]\n",
        "      b2=[]\n",
        "      l1=[]\n",
        "      l2=[]\n",
        "      b1_val=[]\n",
        "      b2_val=[]\n",
        "      l1_val=[]\n",
        "      l2_val=[]\n",
        "      x_traint, x_test_t,y_traint, y_test_t = train_test_split(features, labels, test_size = 0.3)\n",
        "      x_trainv, x_testv, y_trainv, y_testv = train_test_split(x_traint, y_traint, test_size = 0.3)\n",
        "      \n",
        "      for j in range(16): ##One run is appending 2 random lists \n",
        "      \n",
        "      #TRAINING MINI BATCHES \n",
        "        \n",
        "        seed = random.choice(range(len(x_trainv)))\n",
        "        i = random.choice(range(len(x_trainv)))\n",
        "        \n",
        "        b1.append(x_trainv[seed])\n",
        "        b2.append(x_trainv[i])\n",
        "        l1.append(y_trainv[seed])\n",
        "        l2.append(y_trainv[i])\n",
        "        \n",
        "        x_batch = np.vstack((b1,b2))\n",
        "        y_batch = np.vstack((l1,l2))\n",
        "        \n",
        "        ##VALIDATION MINI BATCHES \n",
        "        \n",
        "        seed_val = random.choice(range(len(x_traint)))\n",
        "        i_val = random.choice(range(len(x_traint)))\n",
        "        \n",
        "        b1_val.append(x_traint[seed_val])\n",
        "        b2_val.append(x_traint[i_val])\n",
        "        l1_val.append(y_traint[seed_val])\n",
        "        l2_val.append(y_traint[i_val])\n",
        "        \n",
        "        x_batch_val = np.vstack((b1_val,b2_val))\n",
        "        y_batch_val = np.vstack((l1_val,l2_val))\n",
        "      \n",
        "      ## TRAINING LOSS\n",
        "      update_ops = tf.get_collection(tf.GraphKeys.UPDATE_OPS)\n",
        "      z= sess.run([loss,op_train, update_ops], feed_dict = {x : x_batch, y: y_batch })\n",
        "      train.append(z[0])\n",
        "      \n",
        "      ##VALIDATION LOSS\n",
        "      \n",
        "      z_val= sess.run([loss], feed_dict = {x : x_batch_val, y: y_batch_val })\n",
        "      val.append(z_val[0])\n",
        "      \n",
        "      print(str(z[0]) + '\\t' + str(z_val[0]))\n",
        "    \n",
        "    plt.plot(train)\n",
        "    plt.plot(val)\n",
        "    save_path = save.save(sess, \"/content/layer2_model.ckpt\")\n",
        "    print('Saved model!')\n",
        "    \n",
        " "
      ],
      "execution_count": 0,
      "outputs": []
    },
    {
      "cell_type": "code",
      "metadata": {
        "id": "_x4rrbw8Z6Pw",
        "colab_type": "code",
        "outputId": "665f803c-b22b-4ed3-b989-6ae3ec347327",
        "colab": {
          "base_uri": "https://localhost:8080/",
          "height": 34
        }
      },
      "source": [
        "print(z)"
      ],
      "execution_count": 0,
      "outputs": [
        {
          "output_type": "stream",
          "text": [
            "[705.08997, None, []]\n"
          ],
          "name": "stdout"
        }
      ]
    },
    {
      "cell_type": "code",
      "metadata": {
        "id": "Z6Jpi8Pe_wxr",
        "colab_type": "code",
        "outputId": "4f773c6b-acfa-41da-d55b-6e7e8aceb8b0",
        "colab": {
          "base_uri": "https://localhost:8080/",
          "height": 51
        }
      },
      "source": [
        "print(type(tf.get_default_graph().as_graph_def()))\n",
        "tf.io.write_graph(tf.get_default_graph().as_graph_def(), '/content/', 'layer2_train.pbtxt')"
      ],
      "execution_count": 0,
      "outputs": [
        {
          "output_type": "stream",
          "text": [
            "<class 'tensorflow.core.framework.graph_pb2.GraphDef'>\n"
          ],
          "name": "stdout"
        },
        {
          "output_type": "execute_result",
          "data": {
            "text/plain": [
              "'/content/final_train.pbtxt'"
            ]
          },
          "metadata": {
            "tags": []
          },
          "execution_count": 15
        }
      ]
    },
    {
      "cell_type": "code",
      "metadata": {
        "id": "GOCKeDcHDKe7",
        "colab_type": "code",
        "colab": {}
      },
      "source": [
        "with open('/content/final_graph.pb', 'wb') as f:\n",
        "  f.write(tf.get_default_graph().as_graph_def().SerializeToString())\n",
        "  "
      ],
      "execution_count": 0,
      "outputs": []
    },
    {
      "cell_type": "code",
      "metadata": {
        "id": "orqHTKay9Mxd",
        "colab_type": "code",
        "outputId": "f14ab957-d9a4-47be-9305-a92edc693e20",
        "colab": {
          "base_uri": "https://localhost:8080/",
          "height": 286
        }
      },
      "source": [
        "plt.plot(train[1:])\n",
        "plt.plot(val[1:])"
      ],
      "execution_count": 0,
      "outputs": [
        {
          "output_type": "execute_result",
          "data": {
            "text/plain": [
              "[<matplotlib.lines.Line2D at 0x7fcf4048c908>]"
            ]
          },
          "metadata": {
            "tags": []
          },
          "execution_count": 17
        },
        {
          "output_type": "display_data",
          "data": {
            "image/png": "[encoded data removed]",
            "text/plain": [
              "<Figure size 432x288 with 1 Axes>"
            ]
          },
          "metadata": {
            "tags": []
          }
        }
      ]
    },
    {
      "cell_type": "code",
      "metadata": {
        "id": "gD0khtg3KTgJ",
        "colab_type": "code",
        "outputId": "d500ad6a-fe46-40ae-dcff-84990f23080f",
        "colab": {
          "base_uri": "https://localhost:8080/",
          "height": 120
        }
      },
      "source": [
        "tf.trainable_variables()"
      ],
      "execution_count": 0,
      "outputs": [
        {
          "output_type": "execute_result",
          "data": {
            "text/plain": [
              "[<tf.Variable 'Variable:0' shape=(9, 15) dtype=float32_ref>,\n",
              " <tf.Variable 'Variable_1:0' shape=(1, 15) dtype=float32_ref>,\n",
              " <tf.Variable 'Variable_2:0' shape=(15, 1) dtype=float32_ref>,\n",
              " <tf.Variable 'Variable_3:0' shape=(1, 1) dtype=float32_ref>,\n",
              " <tf.Variable 'batch_normalization/gamma:0' shape=(15,) dtype=float32_ref>,\n",
              " <tf.Variable 'batch_normalization/beta:0' shape=(15,) dtype=float32_ref>]"
            ]
          },
          "metadata": {
            "tags": []
          },
          "execution_count": 27
        }
      ]
    },
    {
      "cell_type": "code",
      "metadata": {
        "id": "Nya53qsuBwmv",
        "colab_type": "code",
        "colab": {}
      },
      "source": [
        ""
      ],
      "execution_count": 0,
      "outputs": []
    },
    {
      "cell_type": "code",
      "metadata": {
        "colab_type": "code",
        "id": "zN5cGlK9ZSOD",
        "colab": {}
      },
      "source": [
        "## 48 BIT (2253,2315)\n",
        "'''\n",
        "features = joblib.load('/content/features48.pkl')\n",
        "labels = joblib.load('/content/labels48.pkl')\n",
        "'''"
      ],
      "execution_count": 0,
      "outputs": []
    },
    {
      "cell_type": "code",
      "metadata": {
        "id": "fJ2cpkrT1ypE",
        "colab_type": "code",
        "colab": {}
      },
      "source": [
        "## 16 BIT (2253,267)\n",
        "'''\n",
        "features = joblib.load('/content/features16.pkl')\n",
        "labels = joblib.load('/content/labels16.pkl')\n",
        "'''"
      ],
      "execution_count": 0,
      "outputs": []
    },
    {
      "cell_type": "code",
      "metadata": {
        "id": "ZObnZaVoftWg",
        "colab_type": "code",
        "colab": {}
      },
      "source": [
        ""
      ],
      "execution_count": 0,
      "outputs": []
    }
  ]
}