{
  "nbformat": 4,
  "nbformat_minor": 0,
  "metadata": {
    "colab": {
      "name": "Modeltf.ipynb",
      "version": "0.3.2",
      "provenance": [],
      "collapsed_sections": [],
      "include_colab_link": true
    },
    "kernelspec": {
      "name": "python3",
      "display_name": "Python 3"
    },
    "accelerator": "GPU"
  },
  "cells": [
    {
      "cell_type": "markdown",
      "metadata": {
        "id": "view-in-github",
        "colab_type": "text"
      },
      "source": [
        "<a href=\"https://colab.research.google.com/github/harshitadd/Celestini/blob/master/Modeltf.ipynb\" target=\"_parent\"><img src=\"https://colab.research.google.com/assets/colab-badge.svg\" alt=\"Open In Colab\"/></a>"
      ]
    },
    {
      "cell_type": "code",
      "metadata": {
        "id": "bdDag8n7lyzH",
        "colab_type": "code",
        "colab": {
          "base_uri": "https://localhost:8080/",
          "height": 71
        },
        "outputId": "36d1ef28-5af6-4831-8862-5e13d3180d8e"
      },
      "source": [
        "#!pip install joblib\n",
        "import tensorflow as tf \n",
        "import pickle\n",
        "from sklearn.externals import joblib\n",
        "import numpy as np\n",
        "from tensorflow.python.client import device_lib\n",
        "from tensorflow.saved_model import simple_save\n",
        "import random\n",
        "import matplotlib.pyplot as plt \n",
        "import math\n",
        "\n",
        "from sklearn.model_selection import train_test_split\n",
        "from tensorflow.python import pywrap_tensorflow\n"
      ],
      "execution_count": 1,
      "outputs": [
        {
          "output_type": "stream",
          "text": [
            "/usr/local/lib/python3.6/dist-packages/sklearn/externals/joblib/__init__.py:15: DeprecationWarning: sklearn.externals.joblib is deprecated in 0.21 and will be removed in 0.23. Please import this functionality directly from joblib, which can be installed with: pip install joblib. If this warning is raised when loading pickled models, you may need to re-serialize those models with scikit-learn 0.21+.\n",
            "  warnings.warn(msg, category=DeprecationWarning)\n"
          ],
          "name": "stderr"
        }
      ]
    },
    {
      "cell_type": "code",
      "metadata": {
        "id": "vO8kr5epl6xf",
        "colab_type": "code",
        "outputId": "296a5d44-babf-4090-fd8c-e3aeef7e262d",
        "colab": {
          "base_uri": "https://localhost:8080/",
          "height": 54
        }
      },
      "source": [
        "from google.colab import drive\n",
        "drive.mount('/content/drive')\n"
      ],
      "execution_count": 2,
      "outputs": [
        {
          "output_type": "stream",
          "text": [
            "Drive already mounted at /content/drive; to attempt to forcibly remount, call drive.mount(\"/content/drive\", force_remount=True).\n"
          ],
          "name": "stdout"
        }
      ]
    },
    {
      "cell_type": "code",
      "metadata": {
        "id": "_pKAD2gofS-S",
        "colab_type": "code",
        "colab": {}
      },
      "source": [
        "#FEATURES AND LABELS  \n",
        "\n",
        "\n",
        "with open('/content/features_withITO (2).bin','rb') as file:\n",
        "  temp = pickle.load(file)\n",
        "  \n",
        "  \n",
        "with open('/content/labels_withITO (2).bin','rb') as file:\n",
        "  l = pickle.load(file)"
      ],
      "execution_count": 0,
      "outputs": []
    },
    {
      "cell_type": "code",
      "metadata": {
        "id": "B1yuyj5gdt7r",
        "colab_type": "code",
        "colab": {}
      },
      "source": [
        "features =[]\n",
        "for i in temp:\n",
        "  features.append(list(i))\n",
        "\n",
        "labels=[]  \n",
        "for i in l:\n",
        "  labels.append(list(i))"
      ],
      "execution_count": 0,
      "outputs": []
    },
    {
      "cell_type": "code",
      "metadata": {
        "colab_type": "code",
        "id": "fDI6dDFEZSCa",
        "colab": {}
      },
      "source": [
        "# from google.colab import drive\n",
        "# drive.mount('/content/drive')"
      ],
      "execution_count": 0,
      "outputs": []
    },
    {
      "cell_type": "code",
      "metadata": {
        "colab_type": "code",
        "id": "njR9T1iBZR14",
        "colab": {}
      },
      "source": [
        "## 56 BIT (2253,3147)\n",
        "\n",
        "# features = joblib.load('/content/features56.pkl')\n",
        "# labels = joblib.load('/content/labels56.pkl')\n"
      ],
      "execution_count": 0,
      "outputs": []
    },
    {
      "cell_type": "code",
      "metadata": {
        "colab_type": "code",
        "id": "x2E0YxR-ZRno",
        "colab": {}
      },
      "source": [
        "## 64 BIT (2253,3147)\n",
        "\n",
        "# features = joblib.load('/content/features64.pkl')\n",
        "# labels = joblib.load('/content/labels64.pkl')\n"
      ],
      "execution_count": 0,
      "outputs": []
    },
    {
      "cell_type": "code",
      "metadata": {
        "id": "-Bnp3GODSODa",
        "colab_type": "code",
        "colab": {}
      },
      "source": [
        "# # 32 BIT (2253,1035)\n",
        "\n",
        "# features = joblib.load('/content/features32.pkl')\n",
        "# labels = joblib.load('/content/labels32.pkl')"
      ],
      "execution_count": 0,
      "outputs": []
    },
    {
      "cell_type": "code",
      "metadata": {
        "id": "5ufRdxblS8OC",
        "colab_type": "code",
        "colab": {}
      },
      "source": [
        ""
      ],
      "execution_count": 0,
      "outputs": []
    },
    {
      "cell_type": "code",
      "metadata": {
        "id": "o6Zxm0XF0DlH",
        "colab_type": "code",
        "colab": {}
      },
      "source": [
        "## TEST SET \n",
        "\n",
        "x_train_t, x_test_t,y_train_t, y_test_t = train_test_split(features, labels, test_size = 0.3)"
      ],
      "execution_count": 0,
      "outputs": []
    },
    {
      "cell_type": "code",
      "metadata": {
        "id": "gAlnu945gPXq",
        "colab_type": "code",
        "colab": {}
      },
      "source": [
        "tf.reset_default_graph()"
      ],
      "execution_count": 0,
      "outputs": []
    },
    {
      "cell_type": "code",
      "metadata": {
        "id": "rkXJ4fuuhWgh",
        "colab_type": "code",
        "outputId": "b4d7dda2-3684-4507-99c1-a3e3fc082446",
        "colab": {
          "base_uri": "https://localhost:8080/",
          "height": 548
        }
      },
      "source": [
        "print(device_lib.list_local_devices())\n"
      ],
      "execution_count": 23,
      "outputs": [
        {
          "output_type": "stream",
          "text": [
            "[name: \"/device:CPU:0\"\n",
            "device_type: \"CPU\"\n",
            "memory_limit: 268435456\n",
            "locality {\n",
            "}\n",
            "incarnation: 5546944985737299938\n",
            ", name: \"/device:XLA_CPU:0\"\n",
            "device_type: \"XLA_CPU\"\n",
            "memory_limit: 17179869184\n",
            "locality {\n",
            "}\n",
            "incarnation: 7687920866450642959\n",
            "physical_device_desc: \"device: XLA_CPU device\"\n",
            ", name: \"/device:XLA_GPU:0\"\n",
            "device_type: \"XLA_GPU\"\n",
            "memory_limit: 17179869184\n",
            "locality {\n",
            "}\n",
            "incarnation: 2355493712917534776\n",
            "physical_device_desc: \"device: XLA_GPU device\"\n",
            ", name: \"/device:GPU:0\"\n",
            "device_type: \"GPU\"\n",
            "memory_limit: 11326753997\n",
            "locality {\n",
            "  bus_id: 1\n",
            "  links {\n",
            "  }\n",
            "}\n",
            "incarnation: 14232768025449729734\n",
            "physical_device_desc: \"device: 0, name: Tesla K80, pci bus id: 0000:00:04.0, compute capability: 3.7\"\n",
            "]\n"
          ],
          "name": "stdout"
        }
      ]
    },
    {
      "cell_type": "code",
      "metadata": {
        "id": "8OOY3qbW1EcN",
        "colab_type": "code",
        "colab": {
          "base_uri": "https://localhost:8080/",
          "height": 260
        },
        "outputId": "c96bddd4-079e-41c4-f60c-2eb069ad53e1"
      },
      "source": [
        "\n",
        "from keras.layers import Dense, Dropout, BatchNormalization\n",
        "from keras.models import Sequential\n",
        "from keras.optimizers import Adam\n",
        "model = Sequential()\n",
        "model.add(Dense(16, input_shape = (9, ), activation = 'relu') )\n",
        "model.add(Dense(25, activation = 'relu'))\n",
        "\n",
        "model.add(BatchNormalization(axis = -1))\n",
        "model.add(Dropout(0.5))\n",
        "model.add(Dense(1,  activation = 'relu'))"
      ],
      "execution_count": 8,
      "outputs": [
        {
          "output_type": "stream",
          "text": [
            "Using TensorFlow backend.\n",
            "WARNING: Logging before flag parsing goes to stderr.\n",
            "W0731 02:37:21.341303 139832536893312 deprecation_wrapper.py:119] From /usr/local/lib/python3.6/dist-packages/keras/backend/tensorflow_backend.py:74: The name tf.get_default_graph is deprecated. Please use tf.compat.v1.get_default_graph instead.\n",
            "\n",
            "W0731 02:37:21.346775 139832536893312 deprecation_wrapper.py:119] From /usr/local/lib/python3.6/dist-packages/keras/backend/tensorflow_backend.py:517: The name tf.placeholder is deprecated. Please use tf.compat.v1.placeholder instead.\n",
            "\n",
            "W0731 02:37:21.352837 139832536893312 deprecation_wrapper.py:119] From /usr/local/lib/python3.6/dist-packages/keras/backend/tensorflow_backend.py:4138: The name tf.random_uniform is deprecated. Please use tf.random.uniform instead.\n",
            "\n",
            "W0731 02:37:21.464576 139832536893312 deprecation_wrapper.py:119] From /usr/local/lib/python3.6/dist-packages/keras/backend/tensorflow_backend.py:133: The name tf.placeholder_with_default is deprecated. Please use tf.compat.v1.placeholder_with_default instead.\n",
            "\n",
            "W0731 02:37:21.497244 139832536893312 deprecation.py:506] From /usr/local/lib/python3.6/dist-packages/keras/backend/tensorflow_backend.py:3445: calling dropout (from tensorflow.python.ops.nn_ops) with keep_prob is deprecated and will be removed in a future version.\n",
            "Instructions for updating:\n",
            "Please use `rate` instead of `keep_prob`. Rate should be set to `rate = 1 - keep_prob`.\n"
          ],
          "name": "stderr"
        }
      ]
    },
    {
      "cell_type": "code",
      "metadata": {
        "id": "YJUpMCEi1gGb",
        "colab_type": "code",
        "outputId": "9edffb46-7838-49b2-d50b-cda56ccabd56",
        "colab": {
          "base_uri": "https://localhost:8080/",
          "height": 363
        }
      },
      "source": [
        "model.compile(optimizer = Adam(lr = 0.001), loss = 'mse')\n",
        "model.summary()"
      ],
      "execution_count": 9,
      "outputs": [
        {
          "output_type": "stream",
          "text": [
            "W0731 02:37:26.156521 139832536893312 deprecation_wrapper.py:119] From /usr/local/lib/python3.6/dist-packages/keras/optimizers.py:790: The name tf.train.Optimizer is deprecated. Please use tf.compat.v1.train.Optimizer instead.\n",
            "\n"
          ],
          "name": "stderr"
        },
        {
          "output_type": "stream",
          "text": [
            "_________________________________________________________________\n",
            "Layer (type)                 Output Shape              Param #   \n",
            "=================================================================\n",
            "dense_1 (Dense)              (None, 16)                160       \n",
            "_________________________________________________________________\n",
            "dense_2 (Dense)              (None, 25)                425       \n",
            "_________________________________________________________________\n",
            "batch_normalization_1 (Batch (None, 25)                100       \n",
            "_________________________________________________________________\n",
            "dropout_1 (Dropout)          (None, 25)                0         \n",
            "_________________________________________________________________\n",
            "dense_3 (Dense)              (None, 1)                 26        \n",
            "=================================================================\n",
            "Total params: 711\n",
            "Trainable params: 661\n",
            "Non-trainable params: 50\n",
            "_________________________________________________________________\n"
          ],
          "name": "stdout"
        }
      ]
    },
    {
      "cell_type": "code",
      "metadata": {
        "id": "hSUO_k7P110C",
        "colab_type": "code",
        "outputId": "1b7fd755-5d1c-47fb-c494-f684f57abd96",
        "colab": {
          "base_uri": "https://localhost:8080/",
          "height": 1000
        }
      },
      "source": [
        "hist = model.fit([x_train_t], [y_train_t], validation_split = 0.33, epochs = 300, verbose = 1, batch_size = 32, shuffle = True)"
      ],
      "execution_count": 10,
      "outputs": [
        {
          "output_type": "stream",
          "text": [
            "W0731 02:37:37.695009 139832536893312 deprecation_wrapper.py:119] From /usr/local/lib/python3.6/dist-packages/keras/backend/tensorflow_backend.py:986: The name tf.assign_add is deprecated. Please use tf.compat.v1.assign_add instead.\n",
            "\n"
          ],
          "name": "stderr"
        },
        {
          "output_type": "stream",
          "text": [
            "Train on 1114 samples, validate on 549 samples\n",
            "Epoch 1/300\n",
            "1114/1114 [==============================] - 2s 2ms/step - loss: 3412.3938 - val_loss: 2973.5993\n",
            "Epoch 2/300\n",
            "1114/1114 [==============================] - 0s 364us/step - loss: 3357.3129 - val_loss: 2925.4160\n",
            "Epoch 3/300\n",
            "1114/1114 [==============================] - 0s 355us/step - loss: 3301.4205 - val_loss: 2850.1916\n",
            "Epoch 4/300\n",
            "1114/1114 [==============================] - 0s 343us/step - loss: 3233.4131 - val_loss: 2756.1737\n",
            "Epoch 5/300\n",
            "1114/1114 [==============================] - 0s 267us/step - loss: 3167.0049 - val_loss: 2624.8931\n",
            "Epoch 6/300\n",
            "1114/1114 [==============================] - 0s 328us/step - loss: 3084.1424 - val_loss: 2540.6878\n",
            "Epoch 7/300\n",
            "1114/1114 [==============================] - 0s 273us/step - loss: 3008.4695 - val_loss: 2466.0660\n",
            "Epoch 8/300\n",
            "1114/1114 [==============================] - 0s 282us/step - loss: 2918.4428 - val_loss: 2334.6729\n",
            "Epoch 9/300\n",
            "1114/1114 [==============================] - 0s 372us/step - loss: 2842.3401 - val_loss: 2242.4552\n",
            "Epoch 10/300\n",
            "1114/1114 [==============================] - 0s 262us/step - loss: 2743.3032 - val_loss: 2222.4839\n",
            "Epoch 11/300\n",
            "1114/1114 [==============================] - 0s 291us/step - loss: 2663.5050 - val_loss: 2136.0680\n",
            "Epoch 12/300\n",
            "1114/1114 [==============================] - 0s 243us/step - loss: 2579.2934 - val_loss: 2112.8238\n",
            "Epoch 13/300\n",
            "1114/1114 [==============================] - 0s 246us/step - loss: 2509.8686 - val_loss: 1940.7912\n",
            "Epoch 14/300\n",
            "1114/1114 [==============================] - 0s 244us/step - loss: 2425.1856 - val_loss: 1800.8364\n",
            "Epoch 15/300\n",
            "1114/1114 [==============================] - 0s 322us/step - loss: 2328.1788 - val_loss: 1646.7477\n",
            "Epoch 16/300\n",
            "1114/1114 [==============================] - 0s 348us/step - loss: 2195.7220 - val_loss: 1636.8512\n",
            "Epoch 17/300\n",
            "1114/1114 [==============================] - 0s 308us/step - loss: 2065.9963 - val_loss: 1560.0113\n",
            "Epoch 18/300\n",
            "1114/1114 [==============================] - 0s 296us/step - loss: 1913.0200 - val_loss: 1354.3675\n",
            "Epoch 19/300\n",
            "1114/1114 [==============================] - 0s 326us/step - loss: 1633.2047 - val_loss: 1248.9282\n",
            "Epoch 20/300\n",
            "1114/1114 [==============================] - 0s 351us/step - loss: 1407.3707 - val_loss: 1244.3863\n",
            "Epoch 21/300\n",
            "1114/1114 [==============================] - 0s 333us/step - loss: 1324.3721 - val_loss: 995.2543\n",
            "Epoch 22/300\n",
            "1114/1114 [==============================] - 0s 314us/step - loss: 1173.9022 - val_loss: 931.7045\n",
            "Epoch 23/300\n",
            "1114/1114 [==============================] - 0s 265us/step - loss: 1041.2805 - val_loss: 671.1605\n",
            "Epoch 24/300\n",
            "1114/1114 [==============================] - 0s 373us/step - loss: 946.6570 - val_loss: 499.1023\n",
            "Epoch 25/300\n",
            "1114/1114 [==============================] - 0s 360us/step - loss: 911.7429 - val_loss: 465.4993\n",
            "Epoch 26/300\n",
            "1114/1114 [==============================] - 0s 348us/step - loss: 878.8134 - val_loss: 454.8116\n",
            "Epoch 27/300\n",
            "1114/1114 [==============================] - 0s 359us/step - loss: 771.0769 - val_loss: 401.0125\n",
            "Epoch 28/300\n",
            "1114/1114 [==============================] - 0s 308us/step - loss: 760.1131 - val_loss: 394.3842\n",
            "Epoch 29/300\n",
            "1114/1114 [==============================] - 0s 247us/step - loss: 746.5650 - val_loss: 400.8819\n",
            "Epoch 30/300\n",
            "1114/1114 [==============================] - 0s 259us/step - loss: 707.2940 - val_loss: 358.4541\n",
            "Epoch 31/300\n",
            "1114/1114 [==============================] - 0s 297us/step - loss: 660.8599 - val_loss: 329.3991\n",
            "Epoch 32/300\n",
            "1114/1114 [==============================] - 0s 265us/step - loss: 588.8304 - val_loss: 328.6503\n",
            "Epoch 33/300\n",
            "1114/1114 [==============================] - 0s 367us/step - loss: 584.0258 - val_loss: 317.0454\n",
            "Epoch 34/300\n",
            "1114/1114 [==============================] - 0s 257us/step - loss: 590.7324 - val_loss: 308.7671\n",
            "Epoch 35/300\n",
            "1114/1114 [==============================] - 0s 235us/step - loss: 562.7898 - val_loss: 317.1420\n",
            "Epoch 36/300\n",
            "1114/1114 [==============================] - 0s 312us/step - loss: 571.2453 - val_loss: 310.1298\n",
            "Epoch 37/300\n",
            "1114/1114 [==============================] - 0s 238us/step - loss: 581.6181 - val_loss: 305.4323\n",
            "Epoch 38/300\n",
            "1114/1114 [==============================] - 0s 283us/step - loss: 579.8425 - val_loss: 310.0365\n",
            "Epoch 39/300\n",
            "1114/1114 [==============================] - 0s 282us/step - loss: 519.1406 - val_loss: 302.2095\n",
            "Epoch 40/300\n",
            "1114/1114 [==============================] - 0s 366us/step - loss: 610.6922 - val_loss: 306.8304\n",
            "Epoch 41/300\n",
            "1114/1114 [==============================] - 0s 354us/step - loss: 540.9720 - val_loss: 298.4304\n",
            "Epoch 42/300\n",
            "1114/1114 [==============================] - 0s 321us/step - loss: 553.5298 - val_loss: 297.1009\n",
            "Epoch 43/300\n",
            "1114/1114 [==============================] - 0s 309us/step - loss: 557.6137 - val_loss: 297.6662\n",
            "Epoch 44/300\n",
            "1114/1114 [==============================] - 0s 312us/step - loss: 593.6044 - val_loss: 295.9854\n",
            "Epoch 45/300\n",
            "1114/1114 [==============================] - 0s 370us/step - loss: 584.2068 - val_loss: 291.8305\n",
            "Epoch 46/300\n",
            "1114/1114 [==============================] - 0s 353us/step - loss: 571.5564 - val_loss: 293.7652\n",
            "Epoch 47/300\n",
            "1114/1114 [==============================] - 0s 271us/step - loss: 522.5142 - val_loss: 296.4797\n",
            "Epoch 48/300\n",
            "1114/1114 [==============================] - 0s 332us/step - loss: 514.5049 - val_loss: 299.6601\n",
            "Epoch 49/300\n",
            "1114/1114 [==============================] - 0s 327us/step - loss: 586.4898 - val_loss: 295.1128\n",
            "Epoch 50/300\n",
            "1114/1114 [==============================] - 0s 352us/step - loss: 511.1046 - val_loss: 288.4510\n",
            "Epoch 51/300\n",
            "1114/1114 [==============================] - 0s 320us/step - loss: 524.7611 - val_loss: 287.8108\n",
            "Epoch 52/300\n",
            "1114/1114 [==============================] - 0s 362us/step - loss: 524.2009 - val_loss: 286.5928\n",
            "Epoch 53/300\n",
            "1114/1114 [==============================] - 0s 379us/step - loss: 584.7478 - val_loss: 287.8276\n",
            "Epoch 54/300\n",
            "1114/1114 [==============================] - 0s 288us/step - loss: 588.4098 - val_loss: 308.4409\n",
            "Epoch 55/300\n",
            "1114/1114 [==============================] - 0s 242us/step - loss: 567.7068 - val_loss: 284.1484\n",
            "Epoch 56/300\n",
            "1114/1114 [==============================] - 0s 305us/step - loss: 524.1520 - val_loss: 282.8906\n",
            "Epoch 57/300\n",
            "1114/1114 [==============================] - 0s 309us/step - loss: 492.0152 - val_loss: 293.8067\n",
            "Epoch 58/300\n",
            "1114/1114 [==============================] - 0s 320us/step - loss: 559.3560 - val_loss: 288.7022\n",
            "Epoch 59/300\n",
            "1114/1114 [==============================] - 0s 328us/step - loss: 473.7119 - val_loss: 284.0114\n",
            "Epoch 60/300\n",
            "1114/1114 [==============================] - 0s 307us/step - loss: 559.9152 - val_loss: 285.1598\n",
            "Epoch 61/300\n",
            "1114/1114 [==============================] - 0s 240us/step - loss: 512.6781 - val_loss: 286.4498\n",
            "Epoch 62/300\n",
            "1114/1114 [==============================] - 0s 315us/step - loss: 496.4007 - val_loss: 284.9039\n",
            "Epoch 63/300\n",
            "1114/1114 [==============================] - 0s 340us/step - loss: 530.5953 - val_loss: 286.5718\n",
            "Epoch 64/300\n",
            "1114/1114 [==============================] - 0s 317us/step - loss: 533.4552 - val_loss: 286.7983\n",
            "Epoch 65/300\n",
            "1114/1114 [==============================] - 0s 310us/step - loss: 493.7067 - val_loss: 282.1939\n",
            "Epoch 66/300\n",
            "1114/1114 [==============================] - 0s 289us/step - loss: 553.9244 - val_loss: 280.9070\n",
            "Epoch 67/300\n",
            "1114/1114 [==============================] - 0s 345us/step - loss: 496.3573 - val_loss: 285.6620\n",
            "Epoch 68/300\n",
            "1114/1114 [==============================] - 0s 290us/step - loss: 571.0811 - val_loss: 277.7086\n",
            "Epoch 69/300\n",
            "1114/1114 [==============================] - 0s 296us/step - loss: 522.0454 - val_loss: 282.9963\n",
            "Epoch 70/300\n",
            "1114/1114 [==============================] - 0s 314us/step - loss: 469.9026 - val_loss: 284.3055\n",
            "Epoch 71/300\n",
            "1114/1114 [==============================] - 0s 320us/step - loss: 527.3215 - val_loss: 281.2413\n",
            "Epoch 72/300\n",
            "1114/1114 [==============================] - 0s 297us/step - loss: 574.5509 - val_loss: 273.3648\n",
            "Epoch 73/300\n",
            "1114/1114 [==============================] - 0s 243us/step - loss: 577.1990 - val_loss: 278.9888\n",
            "Epoch 74/300\n",
            "1114/1114 [==============================] - 0s 259us/step - loss: 551.2393 - val_loss: 285.6644\n",
            "Epoch 75/300\n",
            "1114/1114 [==============================] - 0s 298us/step - loss: 558.6246 - val_loss: 282.0777\n",
            "Epoch 76/300\n",
            "1114/1114 [==============================] - 0s 264us/step - loss: 470.0065 - val_loss: 279.4250\n",
            "Epoch 77/300\n",
            "1114/1114 [==============================] - 0s 268us/step - loss: 476.0688 - val_loss: 279.9132\n",
            "Epoch 78/300\n",
            "1114/1114 [==============================] - 0s 360us/step - loss: 533.8158 - val_loss: 278.6651\n",
            "Epoch 79/300\n",
            "1114/1114 [==============================] - 0s 347us/step - loss: 492.2541 - val_loss: 302.1227\n",
            "Epoch 80/300\n",
            "1114/1114 [==============================] - 0s 285us/step - loss: 507.5894 - val_loss: 290.9867\n",
            "Epoch 81/300\n",
            "1114/1114 [==============================] - 0s 303us/step - loss: 525.8573 - val_loss: 276.5451\n",
            "Epoch 82/300\n",
            "1114/1114 [==============================] - 0s 302us/step - loss: 506.3390 - val_loss: 280.2257\n",
            "Epoch 83/300\n",
            "1114/1114 [==============================] - 0s 314us/step - loss: 489.9392 - val_loss: 276.3737\n",
            "Epoch 84/300\n",
            "1114/1114 [==============================] - 0s 362us/step - loss: 578.3577 - val_loss: 274.1506\n",
            "Epoch 85/300\n",
            "1114/1114 [==============================] - 0s 310us/step - loss: 532.1675 - val_loss: 276.4899\n",
            "Epoch 86/300\n",
            "1114/1114 [==============================] - 0s 326us/step - loss: 482.0635 - val_loss: 281.1688\n",
            "Epoch 87/300\n",
            "1114/1114 [==============================] - 0s 335us/step - loss: 497.6865 - val_loss: 277.7607\n",
            "Epoch 88/300\n",
            "1114/1114 [==============================] - 0s 308us/step - loss: 527.1951 - val_loss: 271.4818\n",
            "Epoch 89/300\n",
            "1114/1114 [==============================] - 0s 286us/step - loss: 451.3592 - val_loss: 276.0306\n",
            "Epoch 90/300\n",
            "1114/1114 [==============================] - 0s 318us/step - loss: 519.6256 - val_loss: 292.8856\n",
            "Epoch 91/300\n",
            "1114/1114 [==============================] - 0s 345us/step - loss: 515.7448 - val_loss: 300.0669\n",
            "Epoch 92/300\n",
            "1114/1114 [==============================] - 0s 324us/step - loss: 544.3870 - val_loss: 276.2460\n",
            "Epoch 93/300\n",
            "1114/1114 [==============================] - 0s 286us/step - loss: 493.0863 - val_loss: 291.3687\n",
            "Epoch 94/300\n",
            "1114/1114 [==============================] - 0s 275us/step - loss: 496.2000 - val_loss: 274.3724\n",
            "Epoch 95/300\n",
            "1114/1114 [==============================] - 0s 233us/step - loss: 546.9305 - val_loss: 277.4174\n",
            "Epoch 96/300\n",
            "1114/1114 [==============================] - 0s 345us/step - loss: 523.6684 - val_loss: 284.4332\n",
            "Epoch 97/300\n",
            "1114/1114 [==============================] - 0s 251us/step - loss: 498.8798 - val_loss: 270.9308\n",
            "Epoch 98/300\n",
            "1114/1114 [==============================] - 0s 318us/step - loss: 549.4521 - val_loss: 265.9343\n",
            "Epoch 99/300\n",
            "1114/1114 [==============================] - 0s 325us/step - loss: 514.6881 - val_loss: 270.4919\n",
            "Epoch 100/300\n",
            "1114/1114 [==============================] - 0s 291us/step - loss: 505.7635 - val_loss: 271.0428\n",
            "Epoch 101/300\n",
            "1114/1114 [==============================] - 0s 352us/step - loss: 522.1958 - val_loss: 269.7118\n",
            "Epoch 102/300\n",
            "1114/1114 [==============================] - 0s 367us/step - loss: 461.9660 - val_loss: 265.8830\n",
            "Epoch 103/300\n",
            "1114/1114 [==============================] - 0s 348us/step - loss: 470.9489 - val_loss: 265.8239\n",
            "Epoch 104/300\n",
            "1114/1114 [==============================] - 0s 320us/step - loss: 512.9290 - val_loss: 268.0361\n",
            "Epoch 105/300\n",
            "1114/1114 [==============================] - 0s 245us/step - loss: 470.7029 - val_loss: 270.3438\n",
            "Epoch 106/300\n",
            "1114/1114 [==============================] - 0s 305us/step - loss: 491.3666 - val_loss: 266.5817\n",
            "Epoch 107/300\n",
            "1114/1114 [==============================] - 0s 361us/step - loss: 500.4822 - val_loss: 281.1461\n",
            "Epoch 108/300\n",
            "1114/1114 [==============================] - 0s 287us/step - loss: 492.6000 - val_loss: 277.0403\n",
            "Epoch 109/300\n",
            "1114/1114 [==============================] - 0s 334us/step - loss: 468.5595 - val_loss: 270.1313\n",
            "Epoch 110/300\n",
            "1114/1114 [==============================] - 0s 245us/step - loss: 517.2383 - val_loss: 293.9283\n",
            "Epoch 111/300\n",
            "1114/1114 [==============================] - 0s 319us/step - loss: 506.0779 - val_loss: 270.0652\n",
            "Epoch 112/300\n",
            "1114/1114 [==============================] - 0s 300us/step - loss: 531.6832 - val_loss: 269.4905\n",
            "Epoch 113/300\n",
            "1114/1114 [==============================] - 0s 262us/step - loss: 494.6980 - val_loss: 272.1102\n",
            "Epoch 114/300\n",
            "1114/1114 [==============================] - 0s 328us/step - loss: 479.3523 - val_loss: 267.4403\n",
            "Epoch 115/300\n",
            "1114/1114 [==============================] - 0s 349us/step - loss: 491.9032 - val_loss: 268.9008\n",
            "Epoch 116/300\n",
            "1114/1114 [==============================] - 0s 266us/step - loss: 511.8670 - val_loss: 276.1677\n",
            "Epoch 117/300\n",
            "1114/1114 [==============================] - 0s 313us/step - loss: 504.9214 - val_loss: 264.1739\n",
            "Epoch 118/300\n",
            "1114/1114 [==============================] - 0s 300us/step - loss: 475.1199 - val_loss: 277.7838\n",
            "Epoch 119/300\n",
            "1114/1114 [==============================] - 0s 390us/step - loss: 495.9503 - val_loss: 271.5832\n",
            "Epoch 120/300\n",
            "1114/1114 [==============================] - 0s 339us/step - loss: 512.9030 - val_loss: 260.4672\n",
            "Epoch 121/300\n",
            "1114/1114 [==============================] - 0s 316us/step - loss: 489.4148 - val_loss: 259.6690\n",
            "Epoch 122/300\n",
            "1114/1114 [==============================] - 0s 348us/step - loss: 501.1284 - val_loss: 257.2497\n",
            "Epoch 123/300\n",
            "1114/1114 [==============================] - 0s 281us/step - loss: 501.9456 - val_loss: 270.5513\n",
            "Epoch 124/300\n",
            "1114/1114 [==============================] - 0s 312us/step - loss: 520.6069 - val_loss: 271.9722\n",
            "Epoch 125/300\n",
            "1114/1114 [==============================] - 0s 342us/step - loss: 473.7267 - val_loss: 257.2486\n",
            "Epoch 126/300\n",
            "1114/1114 [==============================] - 0s 372us/step - loss: 521.5009 - val_loss: 257.2355\n",
            "Epoch 127/300\n",
            "1114/1114 [==============================] - 0s 338us/step - loss: 483.7149 - val_loss: 268.4279\n",
            "Epoch 128/300\n",
            "1114/1114 [==============================] - 0s 257us/step - loss: 527.5875 - val_loss: 279.0752\n",
            "Epoch 129/300\n",
            "1114/1114 [==============================] - 0s 297us/step - loss: 478.9439 - val_loss: 273.6415\n",
            "Epoch 130/300\n",
            "1114/1114 [==============================] - 0s 313us/step - loss: 484.9899 - val_loss: 253.1565\n",
            "Epoch 131/300\n",
            "1114/1114 [==============================] - 0s 348us/step - loss: 479.7757 - val_loss: 256.4389\n",
            "Epoch 132/300\n",
            "1114/1114 [==============================] - 0s 341us/step - loss: 465.3359 - val_loss: 264.2901\n",
            "Epoch 133/300\n",
            "1114/1114 [==============================] - 0s 335us/step - loss: 435.7420 - val_loss: 268.6534\n",
            "Epoch 134/300\n",
            "1114/1114 [==============================] - 0s 325us/step - loss: 476.2308 - val_loss: 264.0092\n",
            "Epoch 135/300\n",
            "1114/1114 [==============================] - 0s 327us/step - loss: 521.7965 - val_loss: 307.9385\n",
            "Epoch 136/300\n",
            "1114/1114 [==============================] - 0s 364us/step - loss: 501.0381 - val_loss: 260.6556\n",
            "Epoch 137/300\n",
            "1114/1114 [==============================] - 0s 306us/step - loss: 482.4301 - val_loss: 256.5974\n",
            "Epoch 138/300\n",
            "1114/1114 [==============================] - 0s 360us/step - loss: 483.7670 - val_loss: 274.3141\n",
            "Epoch 139/300\n",
            "1114/1114 [==============================] - 0s 320us/step - loss: 492.5012 - val_loss: 283.1817\n",
            "Epoch 140/300\n",
            "1114/1114 [==============================] - 0s 323us/step - loss: 474.3849 - val_loss: 259.2013\n",
            "Epoch 141/300\n",
            "1114/1114 [==============================] - 0s 298us/step - loss: 476.0984 - val_loss: 260.9795\n",
            "Epoch 142/300\n",
            "1114/1114 [==============================] - 0s 229us/step - loss: 529.7396 - val_loss: 263.4473\n",
            "Epoch 143/300\n",
            "1114/1114 [==============================] - 0s 265us/step - loss: 471.5144 - val_loss: 259.8689\n",
            "Epoch 144/300\n",
            "1114/1114 [==============================] - 0s 260us/step - loss: 492.3182 - val_loss: 251.9412\n",
            "Epoch 145/300\n",
            "1114/1114 [==============================] - 0s 301us/step - loss: 443.4260 - val_loss: 269.6663\n",
            "Epoch 146/300\n",
            "1114/1114 [==============================] - 0s 328us/step - loss: 509.9972 - val_loss: 265.2597\n",
            "Epoch 147/300\n",
            "1114/1114 [==============================] - 0s 343us/step - loss: 479.7098 - val_loss: 285.2712\n",
            "Epoch 148/300\n",
            "1114/1114 [==============================] - 0s 335us/step - loss: 444.0374 - val_loss: 264.0271\n",
            "Epoch 149/300\n",
            "1114/1114 [==============================] - 0s 339us/step - loss: 459.0074 - val_loss: 249.5336\n",
            "Epoch 150/300\n",
            "1114/1114 [==============================] - 0s 305us/step - loss: 494.9288 - val_loss: 252.1687\n",
            "Epoch 151/300\n",
            "1114/1114 [==============================] - 0s 351us/step - loss: 447.6942 - val_loss: 260.2932\n",
            "Epoch 152/300\n",
            "1114/1114 [==============================] - 0s 278us/step - loss: 494.0637 - val_loss: 243.3591\n",
            "Epoch 153/300\n",
            "1114/1114 [==============================] - 0s 314us/step - loss: 439.3548 - val_loss: 249.5872\n",
            "Epoch 154/300\n",
            "1114/1114 [==============================] - 0s 273us/step - loss: 469.2641 - val_loss: 263.8037\n",
            "Epoch 155/300\n",
            "1114/1114 [==============================] - 0s 317us/step - loss: 466.0164 - val_loss: 252.0535\n",
            "Epoch 156/300\n",
            "1114/1114 [==============================] - 0s 316us/step - loss: 422.6081 - val_loss: 266.8940\n",
            "Epoch 157/300\n",
            "1114/1114 [==============================] - 0s 307us/step - loss: 475.1262 - val_loss: 259.3913\n",
            "Epoch 158/300\n",
            "1114/1114 [==============================] - 0s 311us/step - loss: 478.0319 - val_loss: 244.7191\n",
            "Epoch 159/300\n",
            "1114/1114 [==============================] - 0s 262us/step - loss: 472.5686 - val_loss: 252.5481\n",
            "Epoch 160/300\n",
            "1114/1114 [==============================] - 0s 325us/step - loss: 447.3559 - val_loss: 244.8318\n",
            "Epoch 161/300\n",
            "1114/1114 [==============================] - 0s 313us/step - loss: 479.6161 - val_loss: 308.6105\n",
            "Epoch 162/300\n",
            "1114/1114 [==============================] - 0s 275us/step - loss: 518.0660 - val_loss: 265.4621\n",
            "Epoch 163/300\n",
            "1114/1114 [==============================] - 0s 284us/step - loss: 445.4053 - val_loss: 253.6419\n",
            "Epoch 164/300\n",
            "1114/1114 [==============================] - 0s 332us/step - loss: 473.9179 - val_loss: 267.8709\n",
            "Epoch 165/300\n",
            "1114/1114 [==============================] - 0s 327us/step - loss: 496.4457 - val_loss: 247.5762\n",
            "Epoch 166/300\n",
            "1114/1114 [==============================] - 0s 294us/step - loss: 432.7382 - val_loss: 246.3059\n",
            "Epoch 167/300\n",
            "1114/1114 [==============================] - 0s 285us/step - loss: 495.4247 - val_loss: 243.8150\n",
            "Epoch 168/300\n",
            "1114/1114 [==============================] - 0s 295us/step - loss: 492.5971 - val_loss: 246.8186\n",
            "Epoch 169/300\n",
            "1114/1114 [==============================] - 0s 307us/step - loss: 491.3107 - val_loss: 286.4172\n",
            "Epoch 170/300\n",
            "1114/1114 [==============================] - 0s 317us/step - loss: 454.1470 - val_loss: 253.6115\n",
            "Epoch 171/300\n",
            "1114/1114 [==============================] - 0s 304us/step - loss: 441.8774 - val_loss: 242.9752\n",
            "Epoch 172/300\n",
            "1114/1114 [==============================] - 0s 235us/step - loss: 445.9223 - val_loss: 251.3834\n",
            "Epoch 173/300\n",
            "1114/1114 [==============================] - 0s 264us/step - loss: 479.3138 - val_loss: 253.9996\n",
            "Epoch 174/300\n",
            "1114/1114 [==============================] - 0s 238us/step - loss: 445.4996 - val_loss: 253.0148\n",
            "Epoch 175/300\n",
            "1114/1114 [==============================] - 0s 332us/step - loss: 485.1256 - val_loss: 249.3321\n",
            "Epoch 176/300\n",
            "1114/1114 [==============================] - 0s 364us/step - loss: 479.1583 - val_loss: 238.9950\n",
            "Epoch 177/300\n",
            "1114/1114 [==============================] - 0s 306us/step - loss: 432.7487 - val_loss: 241.1379\n",
            "Epoch 178/300\n",
            "1114/1114 [==============================] - 0s 330us/step - loss: 491.3911 - val_loss: 265.3734\n",
            "Epoch 179/300\n",
            "1114/1114 [==============================] - 0s 312us/step - loss: 457.1466 - val_loss: 242.6208\n",
            "Epoch 180/300\n",
            "1114/1114 [==============================] - 0s 251us/step - loss: 434.4086 - val_loss: 243.7555\n",
            "Epoch 181/300\n",
            "1114/1114 [==============================] - 0s 267us/step - loss: 444.4258 - val_loss: 238.4189\n",
            "Epoch 182/300\n",
            "1114/1114 [==============================] - 0s 304us/step - loss: 471.9908 - val_loss: 240.8916\n",
            "Epoch 183/300\n",
            "1114/1114 [==============================] - 0s 256us/step - loss: 466.7705 - val_loss: 241.1338\n",
            "Epoch 184/300\n",
            "1114/1114 [==============================] - 0s 265us/step - loss: 439.0421 - val_loss: 235.2602\n",
            "Epoch 185/300\n",
            "1114/1114 [==============================] - 0s 392us/step - loss: 448.9839 - val_loss: 233.7861\n",
            "Epoch 186/300\n",
            "1114/1114 [==============================] - 0s 286us/step - loss: 521.3431 - val_loss: 275.3603\n",
            "Epoch 187/300\n",
            "1114/1114 [==============================] - 0s 338us/step - loss: 432.3939 - val_loss: 252.4989\n",
            "Epoch 188/300\n",
            "1114/1114 [==============================] - 0s 357us/step - loss: 493.0671 - val_loss: 238.3411\n",
            "Epoch 189/300\n",
            "1114/1114 [==============================] - 0s 296us/step - loss: 441.8467 - val_loss: 254.7018\n",
            "Epoch 190/300\n",
            "1114/1114 [==============================] - 0s 307us/step - loss: 444.4247 - val_loss: 235.4455\n",
            "Epoch 191/300\n",
            "1114/1114 [==============================] - 0s 279us/step - loss: 474.3707 - val_loss: 258.9488\n",
            "Epoch 192/300\n",
            "1114/1114 [==============================] - 0s 248us/step - loss: 469.5234 - val_loss: 254.6385\n",
            "Epoch 193/300\n",
            "1114/1114 [==============================] - 0s 309us/step - loss: 474.1659 - val_loss: 265.2673\n",
            "Epoch 194/300\n",
            "1114/1114 [==============================] - 0s 270us/step - loss: 448.9686 - val_loss: 280.5272\n",
            "Epoch 195/300\n",
            "1114/1114 [==============================] - 0s 311us/step - loss: 433.6652 - val_loss: 242.1472\n",
            "Epoch 196/300\n",
            "1114/1114 [==============================] - 0s 336us/step - loss: 449.0957 - val_loss: 228.1758\n",
            "Epoch 197/300\n",
            "1114/1114 [==============================] - 0s 330us/step - loss: 445.7771 - val_loss: 257.3688\n",
            "Epoch 198/300\n",
            "1114/1114 [==============================] - 0s 301us/step - loss: 530.2382 - val_loss: 236.2052\n",
            "Epoch 199/300\n",
            "1114/1114 [==============================] - 0s 304us/step - loss: 454.5732 - val_loss: 265.3743\n",
            "Epoch 200/300\n",
            "1114/1114 [==============================] - 0s 331us/step - loss: 471.3176 - val_loss: 243.3635\n",
            "Epoch 201/300\n",
            "1114/1114 [==============================] - 0s 354us/step - loss: 452.5210 - val_loss: 237.4544\n",
            "Epoch 202/300\n",
            "1114/1114 [==============================] - 0s 334us/step - loss: 472.9778 - val_loss: 240.1159\n",
            "Epoch 203/300\n",
            "1114/1114 [==============================] - 0s 292us/step - loss: 486.1471 - val_loss: 241.4216\n",
            "Epoch 204/300\n",
            "1114/1114 [==============================] - 0s 317us/step - loss: 457.2111 - val_loss: 229.5988\n",
            "Epoch 205/300\n",
            "1114/1114 [==============================] - 0s 337us/step - loss: 468.2529 - val_loss: 226.1009\n",
            "Epoch 206/300\n",
            "1114/1114 [==============================] - 0s 328us/step - loss: 472.5085 - val_loss: 227.0324\n",
            "Epoch 207/300\n",
            "1114/1114 [==============================] - 0s 322us/step - loss: 439.7720 - val_loss: 233.5290\n",
            "Epoch 208/300\n",
            "1114/1114 [==============================] - 0s 262us/step - loss: 450.9709 - val_loss: 241.3804\n",
            "Epoch 209/300\n",
            "1114/1114 [==============================] - 0s 313us/step - loss: 494.2157 - val_loss: 229.0215\n",
            "Epoch 210/300\n",
            "1114/1114 [==============================] - 0s 321us/step - loss: 453.2519 - val_loss: 225.8394\n",
            "Epoch 211/300\n",
            "1114/1114 [==============================] - 0s 247us/step - loss: 433.2432 - val_loss: 234.3930\n",
            "Epoch 212/300\n",
            "1114/1114 [==============================] - 0s 285us/step - loss: 492.6345 - val_loss: 231.5000\n",
            "Epoch 213/300\n",
            "1114/1114 [==============================] - 0s 317us/step - loss: 452.1505 - val_loss: 235.4024\n",
            "Epoch 214/300\n",
            "1114/1114 [==============================] - 0s 261us/step - loss: 472.0365 - val_loss: 243.7846\n",
            "Epoch 215/300\n",
            "1114/1114 [==============================] - 0s 313us/step - loss: 456.6552 - val_loss: 236.4608\n",
            "Epoch 216/300\n",
            "1114/1114 [==============================] - 0s 311us/step - loss: 423.4512 - val_loss: 226.5562\n",
            "Epoch 217/300\n",
            "1114/1114 [==============================] - 0s 332us/step - loss: 462.4613 - val_loss: 244.6967\n",
            "Epoch 218/300\n",
            "1114/1114 [==============================] - 0s 336us/step - loss: 471.5677 - val_loss: 225.9892\n",
            "Epoch 219/300\n",
            "1114/1114 [==============================] - 0s 301us/step - loss: 442.3956 - val_loss: 229.8853\n",
            "Epoch 220/300\n",
            "1114/1114 [==============================] - 0s 369us/step - loss: 469.8235 - val_loss: 221.3092\n",
            "Epoch 221/300\n",
            "1114/1114 [==============================] - 0s 320us/step - loss: 428.2068 - val_loss: 221.9983\n",
            "Epoch 222/300\n",
            "1114/1114 [==============================] - 0s 336us/step - loss: 448.2192 - val_loss: 224.3327\n",
            "Epoch 223/300\n",
            "1114/1114 [==============================] - 0s 330us/step - loss: 469.0450 - val_loss: 226.3677\n",
            "Epoch 224/300\n",
            "1114/1114 [==============================] - 0s 325us/step - loss: 417.6410 - val_loss: 246.6520\n",
            "Epoch 225/300\n",
            "1114/1114 [==============================] - 0s 272us/step - loss: 453.3156 - val_loss: 226.9319\n",
            "Epoch 226/300\n",
            "1114/1114 [==============================] - 0s 238us/step - loss: 435.0601 - val_loss: 267.0613\n",
            "Epoch 227/300\n",
            "1114/1114 [==============================] - 0s 336us/step - loss: 507.7695 - val_loss: 226.3890\n",
            "Epoch 228/300\n",
            "1114/1114 [==============================] - 0s 243us/step - loss: 468.9398 - val_loss: 245.7845\n",
            "Epoch 229/300\n",
            "1114/1114 [==============================] - 0s 275us/step - loss: 465.4798 - val_loss: 233.5501\n",
            "Epoch 230/300\n",
            "1114/1114 [==============================] - 0s 336us/step - loss: 491.5602 - val_loss: 218.6045\n",
            "Epoch 231/300\n",
            "1114/1114 [==============================] - 0s 281us/step - loss: 421.0421 - val_loss: 251.0899\n",
            "Epoch 232/300\n",
            "1114/1114 [==============================] - 0s 295us/step - loss: 425.9255 - val_loss: 239.8038\n",
            "Epoch 233/300\n",
            "1114/1114 [==============================] - 0s 296us/step - loss: 468.0985 - val_loss: 243.4249\n",
            "Epoch 234/300\n",
            "1114/1114 [==============================] - 0s 299us/step - loss: 416.2545 - val_loss: 246.2302\n",
            "Epoch 235/300\n",
            "1114/1114 [==============================] - 0s 327us/step - loss: 483.9585 - val_loss: 229.5822\n",
            "Epoch 236/300\n",
            "1114/1114 [==============================] - 0s 364us/step - loss: 445.5096 - val_loss: 240.3062\n",
            "Epoch 237/300\n",
            "1114/1114 [==============================] - 0s 259us/step - loss: 425.9322 - val_loss: 247.3013\n",
            "Epoch 238/300\n",
            "1114/1114 [==============================] - 0s 332us/step - loss: 438.6090 - val_loss: 221.7060\n",
            "Epoch 239/300\n",
            "1114/1114 [==============================] - 0s 349us/step - loss: 404.6565 - val_loss: 225.4535\n",
            "Epoch 240/300\n",
            "1114/1114 [==============================] - 0s 246us/step - loss: 431.8469 - val_loss: 240.4797\n",
            "Epoch 241/300\n",
            "1114/1114 [==============================] - 0s 240us/step - loss: 438.1749 - val_loss: 222.5509\n",
            "Epoch 242/300\n",
            "1114/1114 [==============================] - 0s 314us/step - loss: 432.9048 - val_loss: 225.2470\n",
            "Epoch 243/300\n",
            "1114/1114 [==============================] - 0s 236us/step - loss: 438.4366 - val_loss: 252.7528\n",
            "Epoch 244/300\n",
            "1114/1114 [==============================] - 0s 302us/step - loss: 410.1290 - val_loss: 231.1035\n",
            "Epoch 245/300\n",
            "1114/1114 [==============================] - 0s 290us/step - loss: 410.1217 - val_loss: 259.3749\n",
            "Epoch 246/300\n",
            "1114/1114 [==============================] - 0s 343us/step - loss: 499.3558 - val_loss: 240.2918\n",
            "Epoch 247/300\n",
            "1114/1114 [==============================] - 0s 284us/step - loss: 403.0576 - val_loss: 218.8503\n",
            "Epoch 248/300\n",
            "1114/1114 [==============================] - 0s 311us/step - loss: 447.2971 - val_loss: 254.4999\n",
            "Epoch 249/300\n",
            "1114/1114 [==============================] - 0s 364us/step - loss: 454.9629 - val_loss: 226.3751\n",
            "Epoch 250/300\n",
            "1114/1114 [==============================] - 0s 349us/step - loss: 476.2032 - val_loss: 244.7630\n",
            "Epoch 251/300\n",
            "1114/1114 [==============================] - 0s 342us/step - loss: 467.2165 - val_loss: 221.4602\n",
            "Epoch 252/300\n",
            "1114/1114 [==============================] - 0s 320us/step - loss: 454.3411 - val_loss: 274.1246\n",
            "Epoch 253/300\n",
            "1114/1114 [==============================] - 0s 351us/step - loss: 429.9230 - val_loss: 225.0169\n",
            "Epoch 254/300\n",
            "1114/1114 [==============================] - 0s 322us/step - loss: 464.8916 - val_loss: 257.0316\n",
            "Epoch 255/300\n",
            "1114/1114 [==============================] - 0s 249us/step - loss: 401.4959 - val_loss: 228.0647\n",
            "Epoch 256/300\n",
            "1114/1114 [==============================] - 0s 374us/step - loss: 431.3216 - val_loss: 221.1758\n",
            "Epoch 257/300\n",
            "1114/1114 [==============================] - 0s 302us/step - loss: 453.1636 - val_loss: 232.9864\n",
            "Epoch 258/300\n",
            "1114/1114 [==============================] - 0s 301us/step - loss: 426.6312 - val_loss: 217.2548\n",
            "Epoch 259/300\n",
            "1114/1114 [==============================] - 0s 318us/step - loss: 498.6903 - val_loss: 234.4123\n",
            "Epoch 260/300\n",
            "1114/1114 [==============================] - 0s 347us/step - loss: 460.7116 - val_loss: 233.3605\n",
            "Epoch 261/300\n",
            "1114/1114 [==============================] - 0s 364us/step - loss: 440.7562 - val_loss: 222.2538\n",
            "Epoch 262/300\n",
            "1114/1114 [==============================] - 0s 376us/step - loss: 468.2250 - val_loss: 230.4237\n",
            "Epoch 263/300\n",
            "1114/1114 [==============================] - 0s 270us/step - loss: 450.5079 - val_loss: 221.1916\n",
            "Epoch 264/300\n",
            "1114/1114 [==============================] - 0s 255us/step - loss: 444.5053 - val_loss: 217.4275\n",
            "Epoch 265/300\n",
            "1114/1114 [==============================] - 0s 339us/step - loss: 427.9142 - val_loss: 215.7966\n",
            "Epoch 266/300\n",
            "1114/1114 [==============================] - 0s 319us/step - loss: 436.9555 - val_loss: 221.7820\n",
            "Epoch 267/300\n",
            "1114/1114 [==============================] - 0s 310us/step - loss: 413.7329 - val_loss: 209.3195\n",
            "Epoch 268/300\n",
            "1114/1114 [==============================] - 0s 352us/step - loss: 469.9407 - val_loss: 212.6979\n",
            "Epoch 269/300\n",
            "1114/1114 [==============================] - 0s 258us/step - loss: 437.5408 - val_loss: 213.3425\n",
            "Epoch 270/300\n",
            "1114/1114 [==============================] - 0s 274us/step - loss: 470.5198 - val_loss: 233.4307\n",
            "Epoch 271/300\n",
            "1114/1114 [==============================] - 0s 320us/step - loss: 419.2844 - val_loss: 215.3669\n",
            "Epoch 272/300\n",
            "1114/1114 [==============================] - 0s 359us/step - loss: 443.2030 - val_loss: 217.0811\n",
            "Epoch 273/300\n",
            "1114/1114 [==============================] - 0s 292us/step - loss: 421.0642 - val_loss: 218.8560\n",
            "Epoch 274/300\n",
            "1114/1114 [==============================] - 0s 329us/step - loss: 431.3283 - val_loss: 243.1618\n",
            "Epoch 275/300\n",
            "1114/1114 [==============================] - 0s 235us/step - loss: 446.9582 - val_loss: 211.2872\n",
            "Epoch 276/300\n",
            "1114/1114 [==============================] - 0s 265us/step - loss: 468.2902 - val_loss: 209.3144\n",
            "Epoch 277/300\n",
            "1114/1114 [==============================] - 0s 308us/step - loss: 451.7280 - val_loss: 236.1869\n",
            "Epoch 278/300\n",
            "1114/1114 [==============================] - 0s 329us/step - loss: 416.5788 - val_loss: 212.3479\n",
            "Epoch 279/300\n",
            "1114/1114 [==============================] - 0s 378us/step - loss: 394.0321 - val_loss: 207.7079\n",
            "Epoch 280/300\n",
            "1114/1114 [==============================] - 0s 362us/step - loss: 455.4926 - val_loss: 212.2371\n",
            "Epoch 281/300\n",
            "1114/1114 [==============================] - 0s 350us/step - loss: 430.2859 - val_loss: 230.0226\n",
            "Epoch 282/300\n",
            "1114/1114 [==============================] - 0s 256us/step - loss: 401.7055 - val_loss: 212.5461\n",
            "Epoch 283/300\n",
            "1114/1114 [==============================] - 0s 271us/step - loss: 398.3972 - val_loss: 221.0735\n",
            "Epoch 284/300\n",
            "1114/1114 [==============================] - 0s 339us/step - loss: 417.0310 - val_loss: 221.3815\n",
            "Epoch 285/300\n",
            "1114/1114 [==============================] - 0s 338us/step - loss: 436.4688 - val_loss: 218.7119\n",
            "Epoch 286/300\n",
            "1114/1114 [==============================] - 0s 346us/step - loss: 454.1694 - val_loss: 296.9266\n",
            "Epoch 287/300\n",
            "1114/1114 [==============================] - 0s 320us/step - loss: 486.0088 - val_loss: 205.4278\n",
            "Epoch 288/300\n",
            "1114/1114 [==============================] - 0s 344us/step - loss: 421.4548 - val_loss: 219.5244\n",
            "Epoch 289/300\n",
            "1114/1114 [==============================] - 0s 279us/step - loss: 419.0298 - val_loss: 242.7472\n",
            "Epoch 290/300\n",
            "1114/1114 [==============================] - 0s 306us/step - loss: 384.9404 - val_loss: 211.6842\n",
            "Epoch 291/300\n",
            "1114/1114 [==============================] - 0s 270us/step - loss: 463.5250 - val_loss: 237.5195\n",
            "Epoch 292/300\n",
            "1114/1114 [==============================] - 0s 306us/step - loss: 402.7494 - val_loss: 210.1615\n",
            "Epoch 293/300\n",
            "1114/1114 [==============================] - 0s 318us/step - loss: 412.2380 - val_loss: 237.7306\n",
            "Epoch 294/300\n",
            "1114/1114 [==============================] - 0s 310us/step - loss: 434.5667 - val_loss: 213.4491\n",
            "Epoch 295/300\n",
            "1114/1114 [==============================] - 0s 347us/step - loss: 392.8073 - val_loss: 206.8453\n",
            "Epoch 296/300\n",
            "1114/1114 [==============================] - 0s 305us/step - loss: 389.6272 - val_loss: 231.4546\n",
            "Epoch 297/300\n",
            "1114/1114 [==============================] - 0s 254us/step - loss: 399.1494 - val_loss: 214.9734\n",
            "Epoch 298/300\n",
            "1114/1114 [==============================] - 0s 303us/step - loss: 394.1296 - val_loss: 230.0075\n",
            "Epoch 299/300\n",
            "1114/1114 [==============================] - 0s 302us/step - loss: 397.6925 - val_loss: 238.3534\n",
            "Epoch 300/300\n",
            "1114/1114 [==============================] - 0s 338us/step - loss: 424.2936 - val_loss: 305.1683\n"
          ],
          "name": "stdout"
        }
      ]
    },
    {
      "cell_type": "code",
      "metadata": {
        "id": "8qqMndYh3F9y",
        "colab_type": "code",
        "colab": {
          "base_uri": "https://localhost:8080/",
          "height": 286
        },
        "outputId": "d86c68bf-9e66-4619-90e9-699a513ebe2d"
      },
      "source": [
        "tr = hist.history['loss']\n",
        "val_ls = hist.history['val_loss']\n",
        "plt.plot(tr[1:])\n",
        "plt.plot(val_ls[1:])"
      ],
      "execution_count": 11,
      "outputs": [
        {
          "output_type": "execute_result",
          "data": {
            "text/plain": [
              "[<matplotlib.lines.Line2D at 0x7f2cf03d4a58>]"
            ]
          },
          "metadata": {
            "tags": []
          },
          "execution_count": 11
        },
        {
          "output_type": "display_data",
          "data": {
            "image/png": "[encoded data removed]",
            "text/plain": [
              "<Figure size 432x288 with 1 Axes>"
            ]
          },
          "metadata": {
            "tags": []
          }
        }
      ]
    },
    {
      "cell_type": "code",
      "metadata": {
        "id": "dgk-FbQtEe-E",
        "colab_type": "code",
        "colab": {}
      },
      "source": [
        "predicted = model.predict([x_test_t])\n"
      ],
      "execution_count": 0,
      "outputs": []
    },
    {
      "cell_type": "code",
      "metadata": {
        "id": "cLZ0IK2ZG4Sw",
        "colab_type": "code",
        "colab": {}
      },
      "source": [
        "# print(np.shape(y_test_t))\n",
        "# # print(np.shape(predicted))\n",
        "\n",
        "actual =[]\n",
        "pred=[]\n",
        "se=0\n",
        "show = np.hstack((y_test_t, predicted))\n",
        "\n",
        "for i in show:\n",
        "  se+=(i[0]-i[1])**2\n",
        "  actual.append(i[0])\n",
        "  pred.append(i[1])\n",
        "  \n",
        " \n",
        "\n",
        "\n"
      ],
      "execution_count": 0,
      "outputs": []
    },
    {
      "cell_type": "code",
      "metadata": {
        "id": "ILK9hZaGIxjK",
        "colab_type": "code",
        "colab": {}
      },
      "source": [
        "rmse = (se/np.size(y_test_t))**0.5"
      ],
      "execution_count": 0,
      "outputs": []
    },
    {
      "cell_type": "code",
      "metadata": {
        "id": "Yd0E9kjt5gq3",
        "colab_type": "code",
        "colab": {
          "base_uri": "https://localhost:8080/",
          "height": 34
        },
        "outputId": "8b9e4230-5e44-4e17-baba-148d7b53a3dd"
      },
      "source": [
        "print(rmse)"
      ],
      "execution_count": 17,
      "outputs": [
        {
          "output_type": "stream",
          "text": [
            "17.34589210120067\n"
          ],
          "name": "stdout"
        }
      ]
    },
    {
      "cell_type": "code",
      "metadata": {
        "id": "EF-jVYmG4URr",
        "colab_type": "code",
        "colab": {
          "base_uri": "https://localhost:8080/",
          "height": 286
        },
        "outputId": "2cde8417-774c-4ce8-95c5-a241f65a5e76"
      },
      "source": [
        "plt.plot(actual)\n",
        "plt.plot(pred)"
      ],
      "execution_count": 20,
      "outputs": [
        {
          "output_type": "execute_result",
          "data": {
            "text/plain": [
              "[<matplotlib.lines.Line2D at 0x7f2cf01ac828>]"
            ]
          },
          "metadata": {
            "tags": []
          },
          "execution_count": 20
        },
        {
          "output_type": "display_data",
          "data": {
            "image/png": "[encoded data removed]",
            "text/plain": [
              "<Figure size 432x288 with 1 Axes>"
            ]
          },
          "metadata": {
            "tags": []
          }
        }
      ]
    },
    {
      "cell_type": "code",
      "metadata": {
        "id": "mBxVOdCsw57E",
        "colab_type": "code",
        "outputId": "07050a66-65b7-447e-9e25-e1da45e10bf6",
        "colab": {
          "base_uri": "https://localhost:8080/",
          "height": 34
        }
      },
      "source": [
        "print(np.shape(labels))"
      ],
      "execution_count": 0,
      "outputs": [
        {
          "output_type": "stream",
          "text": [
            "(2376, 1)\n"
          ],
          "name": "stdout"
        }
      ]
    },
    {
      "cell_type": "code",
      "metadata": {
        "id": "M8zj52CuhmPD",
        "colab_type": "code",
        "colab": {
          "base_uri": "https://localhost:8080/",
          "height": 140
        },
        "outputId": "d926aff7-f7a4-4228-ac98-7e119072d5b1"
      },
      "source": [
        "x = tf.placeholder(shape = (None,9), dtype = tf.float32, name = 'input' )\n",
        "y = tf.placeholder(shape = (None,1), dtype = tf.float32, name = 'target')\n",
        "\n",
        "wh = tf.Variable(tf.glorot_uniform_initializer(dtype = tf.float32)((9, 15)))\n",
        "bh = tf.Variable(tf.glorot_uniform_initializer(dtype = tf.float32)((1,15)))\n",
        "\n",
        "#out\n",
        "\n",
        "wo = tf.Variable(tf.glorot_uniform_initializer(dtype = tf.float32)((15,1)))\n",
        "bo = tf.Variable(tf.glorot_uniform_initializer(dtype = tf.float32)((1,1)))\n"
      ],
      "execution_count": 24,
      "outputs": [
        {
          "output_type": "stream",
          "text": [
            "W0731 04:01:36.558916 139832536893312 deprecation.py:506] From <ipython-input-24-42c20914973f>:4: calling GlorotUniform.__init__ (from tensorflow.python.ops.init_ops) with dtype is deprecated and will be removed in a future version.\n",
            "Instructions for updating:\n",
            "Call initializer instance with the dtype argument instead of passing it to the constructor\n",
            "W0731 04:01:36.565250 139832536893312 deprecation.py:506] From /usr/local/lib/python3.6/dist-packages/tensorflow/python/ops/init_ops.py:1251: calling VarianceScaling.__init__ (from tensorflow.python.ops.init_ops) with dtype is deprecated and will be removed in a future version.\n",
            "Instructions for updating:\n",
            "Call initializer instance with the dtype argument instead of passing it to the constructor\n"
          ],
          "name": "stderr"
        }
      ]
    },
    {
      "cell_type": "code",
      "metadata": {
        "id": "92_mLSDYpmcv",
        "colab_type": "code",
        "colab": {}
      },
      "source": [
        "hidl = tf.add(tf.matmul(x,wh),bh, name ='hidden1')"
      ],
      "execution_count": 0,
      "outputs": []
    },
    {
      "cell_type": "code",
      "metadata": {
        "id": "SYnF_9OusKXw",
        "colab_type": "code",
        "colab": {
          "base_uri": "https://localhost:8080/",
          "height": 88
        },
        "outputId": "19d2d9b3-5372-4553-f17d-0cdcfe5a8dd5"
      },
      "source": [
        "outl_batch = tf.compat.v1.layers.batch_normalization(hidl)\n",
        "outl = tf.add(tf.matmul(outl_batch,wo),bo,name = 'output')\n"
      ],
      "execution_count": 26,
      "outputs": [
        {
          "output_type": "stream",
          "text": [
            "W0731 04:01:39.626086 139832536893312 deprecation.py:323] From <ipython-input-26-692609249b69>:1: batch_normalization (from tensorflow.python.layers.normalization) is deprecated and will be removed in a future version.\n",
            "Instructions for updating:\n",
            "Use keras.layers.BatchNormalization instead.  In particular, `tf.control_dependencies(tf.GraphKeys.UPDATE_OPS)` should not be used (consult the `tf.keras.layers.batch_normalization` documentation).\n"
          ],
          "name": "stderr"
        }
      ]
    },
    {
      "cell_type": "code",
      "metadata": {
        "id": "8OdDRQggsq5N",
        "colab_type": "code",
        "colab": {}
      },
      "source": [
        "loss = tf.reduce_mean(tf.square(tf.subtract(y,outl))) + 0.4*tf.reduce_max(tf.subtract(y,outl))\n",
        "\n",
        "opt = tf.train.AdamOptimizer(name = 'optimizer')\n",
        "op_train = opt.minimize(loss, name ='train_op')\n",
        "\n",
        "  "
      ],
      "execution_count": 0,
      "outputs": []
    },
    {
      "cell_type": "markdown",
      "metadata": {
        "id": "eiyIZ5_FvMjz",
        "colab_type": "text"
      },
      "source": [
        "Add additional custom loss functions if necc \n",
        "reducing mean sqaure error \n",
        "1. reducing max deviation "
      ]
    },
    {
      "cell_type": "code",
      "metadata": {
        "id": "vgbtgE_CvDzV",
        "colab_type": "code",
        "colab": {}
      },
      "source": [
        "saved = tf.train.Saver().as_saver_def()"
      ],
      "execution_count": 0,
      "outputs": []
    },
    {
      "cell_type": "code",
      "metadata": {
        "id": "xLnEbChLyH82",
        "colab_type": "code",
        "colab": {}
      },
      "source": [
        "init = tf.global_variables_initializer()"
      ],
      "execution_count": 0,
      "outputs": []
    },
    {
      "cell_type": "code",
      "metadata": {
        "id": "nh28JgrUxRjT",
        "colab_type": "code",
        "colab": {}
      },
      "source": [
        "train=[]\n",
        "val=[]\n",
        "\n",
        "with tf.device('/device:CPU:0'):\n",
        "  update_ops = tf.get_collection(tf.GraphKeys.UPDATE_OPS)\n",
        "  save = tf.train.Saver()\n",
        "  with tf.Session() as sess:\n",
        "    sess.run(init)\n",
        "    mini =[]\n",
        "    for i in range(1500):\n",
        "      b1=[]\n",
        "      b2=[]\n",
        "      l1=[]\n",
        "      l2=[]\n",
        "      b1_val=[]\n",
        "      b2_val=[]\n",
        "      l1_val=[]\n",
        "      l2_val=[]\n",
        "      x_traint, x_test_t,y_traint, y_test_t = train_test_split(features, labels, test_size = 0.3)\n",
        "      x_trainv, x_testv, y_trainv, y_testv = train_test_split(x_traint, y_traint, test_size = 0.3)\n",
        "      \n",
        "      for j in range(16): ##One run is appending 2 random lists \n",
        "      #TRAINING MINI BATCHES \n",
        "        \n",
        "        seed = random.choice(range(len(x_trainv)))\n",
        "        i = random.choice(range(len(x_trainv)))\n",
        "        \n",
        "        b1.append(x_trainv[seed])\n",
        "        b2.append(x_trainv[i])\n",
        "        l1.append(y_trainv[seed])\n",
        "        l2.append(y_trainv[i])\n",
        "        \n",
        "        x_batch = np.vstack((b1,b2))\n",
        "        y_batch = np.vstack((l1,l2))\n",
        "        \n",
        "        ##VALIDATION MINI BATCHES \n",
        "        \n",
        "        seed_val = random.choice(range(len(x_traint)))\n",
        "        i_val = random.choice(range(len(x_traint)))\n",
        "        \n",
        "        b1_val.append(x_traint[seed_val])\n",
        "        b2_val.append(x_traint[i_val])\n",
        "        l1_val.append(y_traint[seed_val])\n",
        "        l2_val.append(y_traint[i_val])\n",
        "        \n",
        "        x_batch_val = np.vstack((b1_val,b2_val))\n",
        "        y_batch_val = np.vstack((l1_val,l2_val))\n",
        "      \n",
        "      ## TRAINING LOSS\n",
        "      update_ops = tf.get_collection(tf.GraphKeys.UPDATE_OPS)\n",
        "      z= sess.run([loss,op_train, update_ops], feed_dict = {x : x_batch, y: y_batch })\n",
        "      train.append(z[0])\n",
        "      \n",
        "      ##VALIDATION LOSS\n",
        "      \n",
        "      z_val= sess.run([loss], feed_dict = {x : x_batch_val, y: y_batch_val })\n",
        "      val.append(z_val[0])\n",
        "      \n",
        "      print(str(z[0]) + '\\t' + str(z_val[0]))\n",
        "    \n",
        "    plt.plot(train)\n",
        "    plt.plot(val)\n",
        "    save_path = save.save(sess, \"/content/model.ckpt\")\n",
        "    print('Saved model!')\n",
        "    \n",
        " "
      ],
      "execution_count": 0,
      "outputs": []
    },
    {
      "cell_type": "code",
      "metadata": {
        "id": "Z6Jpi8Pe_wxr",
        "colab_type": "code",
        "outputId": "ecc5840e-e170-4a65-d3a8-e24c645fcf7d",
        "colab": {
          "base_uri": "https://localhost:8080/",
          "height": 51
        }
      },
      "source": [
        "print(type(tf.get_default_graph().as_graph_def()))\n",
        "tf.io.write_graph(tf.get_default_graph().as_graph_def(), '/content/', 'train.pbtxt')"
      ],
      "execution_count": 0,
      "outputs": [
        {
          "output_type": "stream",
          "text": [
            "<class 'tensorflow.core.framework.graph_pb2.GraphDef'>\n"
          ],
          "name": "stdout"
        },
        {
          "output_type": "execute_result",
          "data": {
            "text/plain": [
              "'/content/train.pbtxt'"
            ]
          },
          "metadata": {
            "tags": []
          },
          "execution_count": 105
        }
      ]
    },
    {
      "cell_type": "code",
      "metadata": {
        "id": "GOCKeDcHDKe7",
        "colab_type": "code",
        "outputId": "a7829ee0-fa7a-4682-8dbb-073b2e433cc0",
        "colab": {
          "base_uri": "https://localhost:8080/",
          "height": 182
        }
      },
      "source": [
        "with open('/content/graph.pb', 'wb') as f:\n",
        "  f.write(tf.get_default_graph().as_graph_def())"
      ],
      "execution_count": 0,
      "outputs": [
        {
          "output_type": "error",
          "ename": "TypeError",
          "evalue": "ignored",
          "traceback": [
            "\u001b[0;31m---------------------------------------------------------------------------\u001b[0m",
            "\u001b[0;31mTypeError\u001b[0m                                 Traceback (most recent call last)",
            "\u001b[0;32m<ipython-input-99-72670cb7b9b6>\u001b[0m in \u001b[0;36m<module>\u001b[0;34m()\u001b[0m\n\u001b[1;32m      1\u001b[0m \u001b[0;32mwith\u001b[0m \u001b[0mopen\u001b[0m\u001b[0;34m(\u001b[0m\u001b[0;34m'/content/graph.pb'\u001b[0m\u001b[0;34m,\u001b[0m \u001b[0;34m'wb'\u001b[0m\u001b[0;34m)\u001b[0m \u001b[0;32mas\u001b[0m \u001b[0mf\u001b[0m\u001b[0;34m:\u001b[0m\u001b[0;34m\u001b[0m\u001b[0;34m\u001b[0m\u001b[0m\n\u001b[0;32m----> 2\u001b[0;31m   \u001b[0mf\u001b[0m\u001b[0;34m.\u001b[0m\u001b[0mwrite\u001b[0m\u001b[0;34m(\u001b[0m\u001b[0mtf\u001b[0m\u001b[0;34m.\u001b[0m\u001b[0mget_default_graph\u001b[0m\u001b[0;34m(\u001b[0m\u001b[0;34m)\u001b[0m\u001b[0;34m.\u001b[0m\u001b[0mas_graph_def\u001b[0m\u001b[0;34m(\u001b[0m\u001b[0;34m)\u001b[0m\u001b[0;34m)\u001b[0m\u001b[0;34m\u001b[0m\u001b[0;34m\u001b[0m\u001b[0m\n\u001b[0m",
            "\u001b[0;31mTypeError\u001b[0m: a bytes-like object is required, not 'GraphDef'"
          ]
        }
      ]
    },
    {
      "cell_type": "code",
      "metadata": {
        "id": "orqHTKay9Mxd",
        "colab_type": "code",
        "outputId": "a518173c-a2a4-41fc-db8f-ce5132168492",
        "colab": {
          "base_uri": "https://localhost:8080/",
          "height": 286
        }
      },
      "source": [
        "plt.plot(train[1:])\n",
        "plt.plot(val[1:])"
      ],
      "execution_count": 0,
      "outputs": [
        {
          "output_type": "execute_result",
          "data": {
            "text/plain": [
              "[<matplotlib.lines.Line2D at 0x7f38c048f4e0>]"
            ]
          },
          "metadata": {
            "tags": []
          },
          "execution_count": 80
        },
        {
          "output_type": "display_data",
          "data": {
            "image/png": "[encoded data removed]",
            "text/plain": [
              "<Figure size 432x288 with 1 Axes>"
            ]
          },
          "metadata": {
            "tags": []
          }
        }
      ]
    },
    {
      "cell_type": "code",
      "metadata": {
        "id": "gD0khtg3KTgJ",
        "colab_type": "code",
        "outputId": "caf6b27a-1518-4f91-a738-0fbed0321b69",
        "colab": {
          "base_uri": "https://localhost:8080/",
          "height": 140
        }
      },
      "source": [
        "tf.trainable_variables()"
      ],
      "execution_count": 0,
      "outputs": [
        {
          "output_type": "execute_result",
          "data": {
            "text/plain": [
              "[<tf.Variable 'Variable:0' shape=(9, 15) dtype=float32_ref>,\n",
              " <tf.Variable 'Variable_1:0' shape=(1, 15) dtype=float32_ref>,\n",
              " <tf.Variable 'Variable_2:0' shape=(15, 1) dtype=float32_ref>,\n",
              " <tf.Variable 'Variable_3:0' shape=(1, 1) dtype=float32_ref>,\n",
              " <tf.Variable 'batch_normalization/gamma:0' shape=(15,) dtype=float32_ref>,\n",
              " <tf.Variable 'batch_normalization/beta:0' shape=(15,) dtype=float32_ref>]"
            ]
          },
          "metadata": {
            "tags": []
          },
          "execution_count": 92
        }
      ]
    },
    {
      "cell_type": "code",
      "metadata": {
        "id": "Nya53qsuBwmv",
        "colab_type": "code",
        "colab": {}
      },
      "source": [
        ""
      ],
      "execution_count": 0,
      "outputs": []
    },
    {
      "cell_type": "code",
      "metadata": {
        "colab_type": "code",
        "id": "zN5cGlK9ZSOD",
        "colab": {}
      },
      "source": [
        "## 48 BIT (2253,2315)\n",
        "'''\n",
        "features = joblib.load('/content/features48.pkl')\n",
        "labels = joblib.load('/content/labels48.pkl')\n",
        "'''"
      ],
      "execution_count": 0,
      "outputs": []
    },
    {
      "cell_type": "code",
      "metadata": {
        "id": "fJ2cpkrT1ypE",
        "colab_type": "code",
        "colab": {}
      },
      "source": [
        "## 16 BIT (2253,267)\n",
        "'''\n",
        "features = joblib.load('/content/features16.pkl')\n",
        "labels = joblib.load('/content/labels16.pkl')\n",
        "'''"
      ],
      "execution_count": 0,
      "outputs": []
    }
  ]
}