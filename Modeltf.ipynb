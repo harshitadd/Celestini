{
  "nbformat": 4,
  "nbformat_minor": 0,
  "metadata": {
    "colab": {
      "name": "Modeltf.ipynb",
      "version": "0.3.2",
      "provenance": [],
      "collapsed_sections": [],
      "include_colab_link": true
    },
    "kernelspec": {
      "name": "python3",
      "display_name": "Python 3"
    },
    "accelerator": "GPU"
  },
  "cells": [
    {
      "cell_type": "markdown",
      "metadata": {
        "id": "view-in-github",
        "colab_type": "text"
      },
      "source": [
        "<a href=\"https://colab.research.google.com/github/harshitadd/Celestini/blob/master/Modeltf.ipynb\" target=\"_parent\"><img src=\"https://colab.research.google.com/assets/colab-badge.svg\" alt=\"Open In Colab\"/></a>"
      ]
    },
    {
      "cell_type": "code",
      "metadata": {
        "id": "bdDag8n7lyzH",
        "colab_type": "code",
        "colab": {
          "base_uri": "https://localhost:8080/",
          "height": 35
        },
        "outputId": "3a26381d-aeaa-4559-8325-5ad98c72d6c4"
      },
      "source": [
        "!pip install joblib\n",
        "import tensorflow as tf \n",
        "import pickle\n",
        "#from sklearn.externals import joblib\n",
        "import numpy as np\n",
        "from tensorflow.python.client import device_lib\n",
        "import random\n",
        "import matplotlib.pyplot as plt \n",
        "import math\n",
        "import warnings\n",
        "from sklearn.model_selection import train_test_split"
      ],
      "execution_count": 35,
      "outputs": [
        {
          "output_type": "stream",
          "text": [
            "Requirement already satisfied: joblib in /usr/local/lib/python3.6/dist-packages (0.13.2)\n"
          ],
          "name": "stdout"
        }
      ]
    },
    {
      "cell_type": "code",
      "metadata": {
        "id": "vO8kr5epl6xf",
        "colab_type": "code",
        "outputId": "7639873d-fae1-45d3-83cb-8e9d64951d6a",
        "colab": {
          "base_uri": "https://localhost:8080/",
          "height": 35
        }
      },
      "source": [
        "from google.colab import drive\n",
        "drive.mount('/content/drive')\n"
      ],
      "execution_count": 36,
      "outputs": [
        {
          "output_type": "stream",
          "text": [
            "Drive already mounted at /content/drive; to attempt to forcibly remount, call drive.mount(\"/content/drive\", force_remount=True).\n"
          ],
          "name": "stdout"
        }
      ]
    },
    {
      "cell_type": "code",
      "metadata": {
        "id": "_pKAD2gofS-S",
        "colab_type": "code",
        "colab": {}
      },
      "source": [
        "## 64 BIT (2253,4016)\n",
        "'''\n",
        "with open('/content/drive/My Drive/ffeatures64.bin','rb') as file:\n",
        "  features = pickle.load(file)\n",
        "with open('/content/drive/My Drive/flabels64.bin','rb') as file:\n",
        "  labels = pickle.load(file)\n",
        "'''"
      ],
      "execution_count": 0,
      "outputs": []
    },
    {
      "cell_type": "code",
      "metadata": {
        "id": "fJ2cpkrT1ypE",
        "colab_type": "code",
        "colab": {}
      },
      "source": [
        "features = joblib.load('')\n",
        "labels = joblib.load('')"
      ],
      "execution_count": 0,
      "outputs": []
    },
    {
      "cell_type": "code",
      "metadata": {
        "id": "V7J8tBqof4QU",
        "colab_type": "code",
        "outputId": "a9903fb2-9a6f-47f0-f635-c00a2b4f3b30",
        "colab": {
          "base_uri": "https://localhost:8080/",
          "height": 35
        }
      },
      "source": [
        "# print(features[0])\n",
        "# print(len(features[0]))\n",
        "# print(len(features))\n",
        "print(np.shape(features))"
      ],
      "execution_count": 0,
      "outputs": [
        {
          "output_type": "stream",
          "text": [
            "(2253, 4106)\n"
          ],
          "name": "stdout"
        }
      ]
    },
    {
      "cell_type": "code",
      "metadata": {
        "id": "o6Zxm0XF0DlH",
        "colab_type": "code",
        "colab": {}
      },
      "source": [
        "## TEST SET \n",
        "\n",
        "x_train_t, x_test_t,y_train_t, y_test_t = train_test_split(features, labels, test_size = 0.3)"
      ],
      "execution_count": 0,
      "outputs": []
    },
    {
      "cell_type": "code",
      "metadata": {
        "id": "pCrhkzBO_p7C",
        "colab_type": "code",
        "outputId": "69e64970-2920-4b06-d089-df6afac5e367",
        "colab": {
          "base_uri": "https://localhost:8080/",
          "height": 35
        }
      },
      "source": [
        "print(np.shape(x_train_t))"
      ],
      "execution_count": 0,
      "outputs": [
        {
          "output_type": "stream",
          "text": [
            "(1577, 4106)\n"
          ],
          "name": "stdout"
        }
      ]
    },
    {
      "cell_type": "code",
      "metadata": {
        "id": "gAlnu945gPXq",
        "colab_type": "code",
        "colab": {}
      },
      "source": [
        "tf.reset_default_graph()"
      ],
      "execution_count": 0,
      "outputs": []
    },
    {
      "cell_type": "code",
      "metadata": {
        "id": "rkXJ4fuuhWgh",
        "colab_type": "code",
        "colab": {}
      },
      "source": [
        "print(device_lib.list_local_devices())\n"
      ],
      "execution_count": 0,
      "outputs": []
    },
    {
      "cell_type": "code",
      "metadata": {
        "id": "M8zj52CuhmPD",
        "colab_type": "code",
        "colab": {}
      },
      "source": [
        "x = tf.placeholder(shape = (None,266), dtype = tf.float32, name = 'input' )\n",
        "y = tf.placeholder(shape = (None,1), dtype = tf.float32, name = 'output')\n",
        "\n",
        "wh = tf.Variable(tf.glorot_uniform_initializer(dtype = tf.float32)((266, 500)))\n",
        "bh = tf.Variable(tf.glorot_uniform_initializer(dtype = tf.float32)((500,1)))\n",
        "\n",
        "#out\n",
        "\n",
        "wo = tf.Variable(tf.glorot_uniform_initializer(dtype = tf.float32)((500,1)))\n",
        "bo = tf.Variable(tf.glorot_uniform_initializer(dtype = tf.float32)((1,1)))\n",
        "\n",
        "\n",
        "                "
      ],
      "execution_count": 0,
      "outputs": []
    },
    {
      "cell_type": "code",
      "metadata": {
        "id": "92_mLSDYpmcv",
        "colab_type": "code",
        "colab": {}
      },
      "source": [
        "hidl = tf.add(tf.matmul(x,wh),bh)"
      ],
      "execution_count": 0,
      "outputs": []
    },
    {
      "cell_type": "code",
      "metadata": {
        "id": "SYnF_9OusKXw",
        "colab_type": "code",
        "colab": {}
      },
      "source": [
        "outl = tf.add(tf.matmul(hidl,wo),bo)"
      ],
      "execution_count": 0,
      "outputs": []
    },
    {
      "cell_type": "markdown",
      "metadata": {
        "id": "eiyIZ5_FvMjz",
        "colab_type": "text"
      },
      "source": [
        "Add additional custom loss functions if necc "
      ]
    },
    {
      "cell_type": "code",
      "metadata": {
        "id": "8OdDRQggsq5N",
        "colab_type": "code",
        "colab": {}
      },
      "source": [
        "loss = tf.reduce_mean(tf.square(tf.subtract(y,outl)))\n",
        "#default lr = 0.001\n",
        "opt = tf.train.AdamOptimizer(name = 'optimizer')\n",
        "op_train = opt.minimize(loss, name ='train_op')"
      ],
      "execution_count": 0,
      "outputs": []
    },
    {
      "cell_type": "code",
      "metadata": {
        "id": "vgbtgE_CvDzV",
        "colab_type": "code",
        "colab": {}
      },
      "source": [
        "saved = tf.train.Saver().as_saver_def()"
      ],
      "execution_count": 0,
      "outputs": []
    },
    {
      "cell_type": "code",
      "metadata": {
        "id": "xLnEbChLyH82",
        "colab_type": "code",
        "colab": {}
      },
      "source": [
        "init = tf.global_variables_initializer()"
      ],
      "execution_count": 0,
      "outputs": []
    },
    {
      "cell_type": "code",
      "metadata": {
        "id": "nh28JgrUxRjT",
        "colab_type": "code",
        "colab": {}
      },
      "source": [
        "with tf.device('/device:CPU:0'):\n",
        "  save = tf.train.Saver()\n",
        "  with tf.Session() as sess:\n",
        "    sess.run(init)\n",
        "    mini =[]\n",
        "    for i in range(0,100):\n",
        "      b1=[]\n",
        "      b2=[]\n",
        "      l1=[]\n",
        "      l2=[]\n",
        "      x_trainv, x_testv, y_trainv, y_testv = train_test_split(x_train_t, y_train_t, test_size = 0.3)\n",
        "      for j in range(16): ##One run is appending 2 random lists \n",
        "        seed = random.choice(range(len(x_trainv)))\n",
        "        i = random.choice(range(len(x_trainv)))\n",
        "        b1.append(x_trainv[seed])\n",
        "        b2.append(x_trainv[i])\n",
        "        l1.append(y_trainv[seed])\n",
        "        l2.append(y_trainv[i])\n",
        "        x_batch = np.vstack((b1,b2))\n",
        "        y_batch = np.vstack((l1,l2))\n",
        "        \n",
        "        \n",
        "        \n",
        "    sess.run([loss,op_train], feed_dict = {x : x_batch, y: y_batch })\n",
        "    m_save(sess,'/content/drive/My Drive/Custom_Models/model1',inputs = {'input' : x}, outputs = {'outputs': out})\n",
        "    print('Saved model!')\n",
        "    "
      ],
      "execution_count": 0,
      "outputs": []
    },
    {
      "cell_type": "code",
      "metadata": {
        "id": "p6VNDrxQ7Ezl",
        "colab_type": "code",
        "colab": {}
      },
      "source": [
        "batch = np.asarray(mini,dtype = np.float32)"
      ],
      "execution_count": 0,
      "outputs": []
    },
    {
      "cell_type": "code",
      "metadata": {
        "id": "NZIkG1mVMHZh",
        "colab_type": "code",
        "outputId": "645d8f6a-3354-499d-db2d-c60495980572",
        "colab": {
          "base_uri": "https://localhost:8080/",
          "height": 35
        }
      },
      "source": [
        "print(len(batch))"
      ],
      "execution_count": 0,
      "outputs": [
        {
          "output_type": "stream",
          "text": [
            "32\n"
          ],
          "name": "stdout"
        }
      ]
    },
    {
      "cell_type": "code",
      "metadata": {
        "id": "yn_wEzSTE05u",
        "colab_type": "code",
        "colab": {}
      },
      "source": [
        "print(np.shape(mini))\n",
        "print(np.ndarray.flatten(mini[0]))\n",
        "print(mini[0])"
      ],
      "execution_count": 0,
      "outputs": []
    },
    {
      "cell_type": "code",
      "metadata": {
        "id": "gD0khtg3KTgJ",
        "colab_type": "code",
        "colab": {}
      },
      "source": [
        "tf.trainable_variables()"
      ],
      "execution_count": 0,
      "outputs": []
    }
  ]
}