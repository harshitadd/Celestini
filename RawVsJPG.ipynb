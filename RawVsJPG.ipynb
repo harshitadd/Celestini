{
  "nbformat": 4,
  "nbformat_minor": 0,
  "metadata": {
    "colab": {
      "name": "RawVsJPG.ipynb",
      "version": "0.3.2",
      "provenance": [],
      "collapsed_sections": [],
      "include_colab_link": true
    },
    "kernelspec": {
      "name": "python3",
      "display_name": "Python 3"
    },
    "accelerator": "GPU"
  },
  "cells": [
    {
      "cell_type": "markdown",
      "metadata": {
        "id": "view-in-github",
        "colab_type": "text"
      },
      "source": [
        "<a href=\"https://colab.research.google.com/github/harshitadd/Celestini/blob/master/RawVsJPG.ipynb\" target=\"_parent\"><img src=\"https://colab.research.google.com/assets/colab-badge.svg\" alt=\"Open In Colab\"/></a>"
      ]
    },
    {
      "cell_type": "code",
      "metadata": {
        "id": "A7l6klYXUcTP",
        "colab_type": "code",
        "colab": {
          "base_uri": "https://localhost:8080/",
          "height": 51
        },
        "outputId": "3ccad5f4-e939-4a4b-d3d4-0f53175a0d84"
      },
      "source": [
        "!pip install rawpy  ##tells collab that this is a cmd - whatever cmd , just prefix  !\n",
        "import numpy as np \n",
        "import cv2 \n",
        "import rawpy \n",
        "import imageio\n",
        "from sklearn.linear_model import LinearRegression \n",
        "import os \n",
        "import math\n",
        "import matplotlib.pyplot as plt \n",
        "import csv"
      ],
      "execution_count": 94,
      "outputs": [
        {
          "output_type": "stream",
          "text": [
            "Requirement already satisfied: rawpy in /usr/local/lib/python3.6/dist-packages (0.13.1)\n",
            "Requirement already satisfied: numpy in /usr/local/lib/python3.6/dist-packages (from rawpy) (1.16.4)\n"
          ],
          "name": "stdout"
        }
      ]
    },
    {
      "cell_type": "code",
      "metadata": {
        "id": "2bes10IoV077",
        "colab_type": "code",
        "outputId": "ed05c31e-2ae7-46e2-da98-bf8ac4825e68",
        "colab": {
          "base_uri": "https://localhost:8080/",
          "height": 123
        }
      },
      "source": [
        "from google.colab import drive\n",
        "drive.mount('/content/gdrive')\n",
        "root_path = 'gdrive/My Drive/RAW/'  #change dir to your project folder\n"
      ],
      "execution_count": 3,
      "outputs": [
        {
          "output_type": "stream",
          "text": [
            "Go to this URL in a browser: https://accounts.google.com/o/oauth2/auth?client_id=947318989803-6bn6qk8qdgf4n4g3pfee6491hc0brc4i.apps.googleusercontent.com&redirect_uri=urn%3Aietf%3Awg%3Aoauth%3A2.0%3Aoob&scope=email%20https%3A%2F%2Fwww.googleapis.com%2Fauth%2Fdocs.test%20https%3A%2F%2Fwww.googleapis.com%2Fauth%2Fdrive%20https%3A%2F%2Fwww.googleapis.com%2Fauth%2Fdrive.photos.readonly%20https%3A%2F%2Fwww.googleapis.com%2Fauth%2Fpeopleapi.readonly&response_type=code\n",
            "\n",
            "Enter your authorization code:\n",
            "··········\n",
            "Mounted at /content/gdrive\n"
          ],
          "name": "stdout"
        }
      ]
    },
    {
      "cell_type": "code",
      "metadata": {
        "id": "eGQFN9ixEP6y",
        "colab_type": "code",
        "colab": {}
      },
      "source": [
        "\n",
        "temp = os.listdir('/content/gdrive/My Drive/RAW/RAW_Batch1')\n",
        "images=[]\n",
        "name_jpg=[]\n",
        "#loading .dng files \n",
        "for name in temp: \n",
        "    path = '/content/gdrive/My Drive/RAW/RAW_Batch1/' + str(name)\n",
        "    if(name.endswith('.dng')):\n",
        "      images.append(path)\n",
        "    if(name.endswith('.jpg')):\n",
        "      name_jpg.append(path)\n",
        "    \n",
        "    \n",
        "# print(images)\n",
        "# print(name_jpg)\n",
        "  \n",
        "# images_rgb=[]\n",
        "# #converting them into rgb files\n",
        "# for image in images:\n",
        "#   read = rawpy.imread(image)\n",
        "#   images_rgb.append(read.postprocess())\n",
        "  \n",
        "# print(len(images_rgb))\n",
        "# print(images_rgb)\n",
        "  \n",
        "images_jpg=[]\n",
        "for image in name_jpg:\n",
        "  try:\n",
        "    read = cv2.imread(image)\n",
        "    print('read')\n",
        "    images_jpg.append(read)\n",
        "  except : \n",
        "    print(image)\n",
        "\n",
        "print(images_jpg)"
      ],
      "execution_count": 0,
      "outputs": []
    },
    {
      "cell_type": "code",
      "metadata": {
        "id": "edOqQT_-rZl2",
        "colab_type": "code",
        "colab": {}
      },
      "source": [
        "def transmission(img, lt = 230, retMean = False):\n",
        "  ker = np.ones((3, 3))/9.0\n",
        "  imgrgb = cv2.cvtColor(img, cv2.COLOR_BGR2RGB)\n",
        "  b, g, r = cv2.split(img)\n",
        "  hsv = cv2.cvtColor(imgrgb, cv2.COLOR_RGB2HSV)\n",
        "  _, _, v = cv2.split(hsv)\n",
        "  v_blur = cv2.filter2D(v, -1, ker)\n",
        "  _,building_mask = cv2.threshold(v_blur, lt, 255, cv2.THRESH_BINARY)\n",
        "  sky = cv2.bitwise_and(imgrgb, imgrgb, mask = building_mask)\n",
        "  sky_mask = cv2.bitwise_not(building_mask, building_mask.copy())\n",
        "  building = cv2.bitwise_and(imgrgb, imgrgb, mask = sky_mask)\n",
        "  #f, ax = plt.subplots(2, 1, figsize = (15, 15))\n",
        "  #ax[0].imshow(imgrgb)\n",
        "  #ax[1].imshow(sky)\n",
        "  #ax[2].imshow(building)\n",
        "  al = max(v_blur.flatten())\n",
        "  #Airlight Found. Now calculate Transmission Map\n",
        "  img_norm = img/float(al)\n",
        "  b, g, r = cv2.split(img_norm)\n",
        "  kernel = np.ones((3,3),np.uint8)\n",
        "  im_new = np.zeros((img.shape[0], img.shape[1]))\n",
        "  for i in range(img.shape[0]):\n",
        "    for j in range(img.shape[1]):\n",
        "      im_new[i][j] = min(b[i][j], g[i][j], r[i][j])\n",
        "  dcp = cv2.erode(im_new, kernel, iterations = 1)\n",
        "  #ax[3].imshow(im_new, cmap = 'gray')\n",
        "  #ax[4].imshow(dcp, cmap = 'gray')\n",
        "  tr = np.ones((dcp.shape[0], dcp.shape[1]))\n",
        "  for i in range(dcp.shape[0]):\n",
        "    for j in range(dcp.shape[1]):\n",
        "      tr[i][j] = 1 - dcp[i][j]\n",
        "  #ax[1].imshow(tr, cmap = 'gray')\n",
        "  if retMean == False:\n",
        "    return tr\n",
        "  elif retMean == True:\n",
        "    return np.mean(tr)\n",
        "  \n",
        "  \n",
        "  "
      ],
      "execution_count": 0,
      "outputs": []
    },
    {
      "cell_type": "code",
      "metadata": {
        "id": "ajxElH8P-gF4",
        "colab_type": "code",
        "colab": {}
      },
      "source": [
        "def contrast(image):\n",
        "  image = cv2.cvtColor(image, cv2.COLOR_BGR2GRAY)\n",
        "  s = 0\n",
        "  ss = 0\n",
        "  mean = np.mean(image)\n",
        "  x = (-1 * mean * (np.ones(image.shape)))\n",
        "  ss = np.square(np.add(image, x))\n",
        "  cont = np.sqrt(np.sum(ss)/float(image.size))\n",
        "  return cont"
      ],
      "execution_count": 0,
      "outputs": []
    },
    {
      "cell_type": "code",
      "metadata": {
        "id": "IQxgM2Hl_GEQ",
        "colab_type": "code",
        "colab": {}
      },
      "source": [
        "def entropy(image):\n",
        "  image = cv2.cvtColor(image, cv2.COLOR_BGR2GRAY)\n",
        "  hist = cv2.calcHist( [image.astype('float32')],\n",
        "              [0], \n",
        "              None,\n",
        "               [256], \n",
        "              [0,256] )\n",
        "  h_norm = 0\n",
        "  h_norm = cv2.normalize(hist, h_norm)\n",
        "  ent = 0\n",
        "  for p in h_norm:\n",
        "    try:\n",
        "      ent += p*math.log(p, 2)\n",
        "    except:\n",
        "      pass\n",
        "  return (-1 * ent[0])"
      ],
      "execution_count": 0,
      "outputs": []
    },
    {
      "cell_type": "code",
      "metadata": {
        "id": "8mVxMKORUqN7",
        "colab_type": "code",
        "colab": {}
      },
      "source": [
        "trans_rgb=[]\n",
        "for img in images_rgb: \n",
        "  k=transmission(img, retMean= True)\n",
        "  print(k)\n",
        "  trans_rgb.append(k)"
      ],
      "execution_count": 0,
      "outputs": []
    },
    {
      "cell_type": "code",
      "metadata": {
        "id": "pkuzNMbFa0IZ",
        "colab_type": "code",
        "colab": {}
      },
      "source": [
        "trans_jpg=[]\n",
        "for img in images_jpg: \n",
        "  k=transmission(img, retMean= True)\n",
        "  print(k)\n",
        "  trans_jpg.append(k)"
      ],
      "execution_count": 0,
      "outputs": []
    },
    {
      "cell_type": "code",
      "metadata": {
        "id": "UUajuUY8RfNU",
        "colab_type": "code",
        "outputId": "37dea749-3d4e-45dc-b428-de2f6ce54ac4",
        "colab": {
          "base_uri": "https://localhost:8080/",
          "height": 360
        }
      },
      "source": [
        "contrast_rgb=[]\n",
        "for img in images_rgb:\n",
        "  k=contrast(img)\n",
        "  print(k)\n",
        "  contrast_rgb.append(k)"
      ],
      "execution_count": 81,
      "outputs": [
        {
          "output_type": "stream",
          "text": [
            "45.68121240753001\n",
            "44.95451346618938\n",
            "45.52252869095291\n",
            "50.56959131733571\n",
            "67.52135228840412\n",
            "63.23109901265532\n",
            "50.84173400378498\n",
            "68.79381261414704\n",
            "66.9013147540022\n",
            "49.59360450548388\n",
            "50.713775267145905\n",
            "48.89511284092175\n",
            "46.63416029432451\n",
            "45.69138749695882\n",
            "68.85645712796877\n",
            "65.46747182975331\n",
            "50.071916558678595\n",
            "45.98038323164885\n",
            "45.20241367068404\n",
            "48.90107492776658\n"
          ],
          "name": "stdout"
        }
      ]
    },
    {
      "cell_type": "code",
      "metadata": {
        "id": "9fhfvYnPRw2O",
        "colab_type": "code",
        "colab": {
          "base_uri": "https://localhost:8080/",
          "height": 326
        },
        "outputId": "03c36531-631d-44a5-b653-cc9e53c7b09d"
      },
      "source": [
        "contrast_jpg=[]\n",
        "for img in images_jpg:\n",
        "  k=contrast(img)\n",
        "  print(k)\n",
        "  contrast_jpg.append(k)\n",
        " "
      ],
      "execution_count": 82,
      "outputs": [
        {
          "output_type": "stream",
          "text": [
            "69.86390121401905\n",
            "70.62709551347122\n",
            "46.55597919431424\n",
            "71.92964770898816\n",
            "47.40682973161219\n",
            "47.54063660644583\n",
            "59.00896027914792\n",
            "47.019046741722434\n",
            "46.62669394109742\n",
            "65.96206164884953\n",
            "70.89863816052709\n",
            "44.838552360317145\n",
            "46.01039218732928\n",
            "68.4928854139249\n",
            "47.90460978507199\n",
            "47.854151000707446\n",
            "46.28224732821827\n",
            "46.691890014662114\n"
          ],
          "name": "stdout"
        }
      ]
    },
    {
      "cell_type": "code",
      "metadata": {
        "id": "5kWAwt4Qpwdk",
        "colab_type": "code",
        "colab": {
          "base_uri": "https://localhost:8080/",
          "height": 286
        },
        "outputId": "52dc7511-c9cb-4936-80e1-e64c6e4d3ace"
      },
      "source": [
        "# print(len(contrast_jpg), len(contrast_rgb))\n",
        "# plt.scatter(range(20), contrast_rgb)\n",
        "# plt.scatter(range(18), contrast_jpg)\n",
        "\n",
        "plt.plot(contrast_rgb)\n",
        "plt.plot(contrast_jpg)"
      ],
      "execution_count": 89,
      "outputs": [
        {
          "output_type": "execute_result",
          "data": {
            "text/plain": [
              "[<matplotlib.lines.Line2D at 0x7f1413a4e390>]"
            ]
          },
          "metadata": {
            "tags": []
          },
          "execution_count": 89
        },
        {
          "output_type": "display_data",
          "data": {
            "image/png": "[encoded data removed]",
            "text/plain": [
              "<Figure size 432x288 with 1 Axes>"
            ]
          },
          "metadata": {
            "tags": []
          }
        }
      ]
    },
    {
      "cell_type": "code",
      "metadata": {
        "id": "S9Dx0mw-SPN4",
        "colab_type": "code",
        "outputId": "a7feae81-7d07-410a-cce0-1694807a380b",
        "colab": {
          "base_uri": "https://localhost:8080/",
          "height": 360
        }
      },
      "source": [
        "entropy_rgb=[]\n",
        "for img in images_rgb:\n",
        "  k=entropy(img)\n",
        "  entropy_rgb.append(k)\n",
        "  print(k)"
      ],
      "execution_count": 75,
      "outputs": [
        {
          "output_type": "stream",
          "text": [
            "47.18281936645508\n",
            "46.329341888427734\n",
            "46.896507263183594\n",
            "49.262001037597656\n",
            "49.22060775756836\n",
            "49.382633209228516\n",
            "48.68278503417969\n",
            "49.55583572387695\n",
            "49.93907165527344\n",
            "50.31831741333008\n",
            "48.811241149902344\n",
            "49.842681884765625\n",
            "48.24837875366211\n",
            "47.12194061279297\n",
            "49.906349182128906\n",
            "49.7675666809082\n",
            "50.76554489135742\n",
            "47.34812927246094\n",
            "46.57149124145508\n",
            "49.86069107055664\n"
          ],
          "name": "stdout"
        }
      ]
    },
    {
      "cell_type": "code",
      "metadata": {
        "id": "_nFYIrkMSe0N",
        "colab_type": "code",
        "outputId": "2a55429a-9ecc-4ddc-b761-a73b0c8d8b86",
        "colab": {
          "base_uri": "https://localhost:8080/",
          "height": 326
        }
      },
      "source": [
        "entropy_jpg=[]\n",
        "for img in images_jpg:\n",
        "  k=entropy(img)\n",
        "  entropy_jpg.append(k)\n",
        "  print(k)"
      ],
      "execution_count": 77,
      "outputs": [
        {
          "output_type": "stream",
          "text": [
            "49.45159149169922\n",
            "48.230709075927734\n",
            "32.649417877197266\n",
            "47.51286697387695\n",
            "34.916439056396484\n",
            "37.25502395629883\n",
            "50.049617767333984\n",
            "34.35334396362305\n",
            "32.90004348754883\n",
            "51.80630874633789\n",
            "47.83744430541992\n",
            "42.29751968383789\n",
            "31.687711715698242\n",
            "50.57211685180664\n",
            "38.128597259521484\n",
            "37.60172653198242\n",
            "31.85570526123047\n",
            "33.39839172363281\n"
          ],
          "name": "stdout"
        }
      ]
    },
    {
      "cell_type": "code",
      "metadata": {
        "id": "8aPI5apMXCHZ",
        "colab_type": "code",
        "colab": {}
      },
      "source": [
        "temp = os.listdir('/content/gdrive/My Drive/RAW/RAW_Batch1/')\n",
        "print(temp)\n"
      ],
      "execution_count": 0,
      "outputs": []
    },
    {
      "cell_type": "code",
      "metadata": {
        "id": "SWGknR3OEmrh",
        "colab_type": "code",
        "colab": {}
      },
      "source": [
        "l= ['RAW_2019_06_12_07_18_25_421.dng', 'RAW_2019_06_12_07_34_46_889.dng', 'RAW_2019_06_12_07_26_27_608.dng', 'RAW_2019_06_12_05_08_06_941.dng', 'RAW_2019_06_11_18_49_32_353.dng', 'RAW_2019_06_11_18_29_32_348.dng', 'RAW_2019_06_12_05_10_25_219.dng', 'RAW_2019_06_11_18_45_29_030.dng', 'RAW_2019_06_11_18_39_46_198.dng', 'RAW_2019_06_12_06_52_06_934.dng', 'RAW_2019_06_12_05_09_41_138.dng', 'RAW_2019_06_12_06_56_46_862.dng', 'RAW_2019_06_12_07_07_37_396.dng', 'RAW_2019_06_12_07_12_14_445.dng', 'RAW_2019_06_11_18_57_32_569.dng', 'RAW_2019_06_11_18_34_35_794.dng', 'RAW_2019_06_12_05_02_38_152.dng', 'RAW_2019_06_12_07_24_26_431.dng', 'RAW_2019_06_12_07_36_27_617.dng', 'RAW_2019_06_12_07_01_27_620.dng']\n",
        "print(len(l))"
      ],
      "execution_count": 0,
      "outputs": []
    },
    {
      "cell_type": "code",
      "metadata": {
        "id": "X4c9A3KSYQlI",
        "colab_type": "code",
        "colab": {
          "base_uri": "https://localhost:8080/",
          "height": 286
        },
        "outputId": "349bb050-8ff1-4233-c822-f7ae221049e1"
      },
      "source": [
        "#plt.clabel('Comparison between transmission means from the RAW and their corresponding JPEG images ')\n",
        "plt.plot( trans_rgb)\n",
        "plt.plot( trans_jpg)"
      ],
      "execution_count": 53,
      "outputs": [
        {
          "output_type": "execute_result",
          "data": {
            "text/plain": [
              "[<matplotlib.lines.Line2D at 0x7f1411e84048>]"
            ]
          },
          "metadata": {
            "tags": []
          },
          "execution_count": 53
        },
        {
          "output_type": "display_data",
          "data": {
            "image/png": "[encoded data removed]",
            "text/plain": [
              "<Figure size 432x288 with 1 Axes>"
            ]
          },
          "metadata": {
            "tags": []
          }
        }
      ]
    },
    {
      "cell_type": "code",
      "metadata": {
        "id": "bfQGqiGpfTZP",
        "colab_type": "code",
        "colab": {
          "base_uri": "https://localhost:8080/",
          "height": 286
        },
        "outputId": "77d4bed7-bfe2-4a1d-b10a-e1c4208b2247"
      },
      "source": [
        "plt.plot( entropy_rgb)\n",
        "plt.plot( entropy_jpg)"
      ],
      "execution_count": 79,
      "outputs": [
        {
          "output_type": "execute_result",
          "data": {
            "text/plain": [
              "[<matplotlib.lines.Line2D at 0x7f1411dd4550>]"
            ]
          },
          "metadata": {
            "tags": []
          },
          "execution_count": 79
        },
        {
          "output_type": "display_data",
          "data": {
            "image/png": "[encoded data removed]",
            "text/plain": [
              "<Figure size 432x288 with 1 Axes>"
            ]
          },
          "metadata": {
            "tags": []
          }
        }
      ]
    },
    {
      "cell_type": "code",
      "metadata": {
        "id": "lfh3LQ9BpRfn",
        "colab_type": "code",
        "colab": {
          "base_uri": "https://localhost:8080/",
          "height": 54
        },
        "outputId": "43e7fac1-6286-42ee-8da2-ff13ece6dd36"
      },
      "source": [
        "temp = os.listdir('/content/gdrive/My Drive/RAW/RAW_Batch1/')\n",
        "print(temp)"
      ],
      "execution_count": 93,
      "outputs": [
        {
          "output_type": "stream",
          "text": [
            "['RAW_2019_06_12_07_18_25_421.dng', 'RAW_2019_06_12_07_34_46_889.dng', 'RAW_2019_06_12_07_26_27_608.dng', 'RAW_2019_06_12_05_08_06_941.dng', 'RAW_2019_06_11_18_49_32_353.dng', 'RAW_2019_06_11_18_29_32_348.dng', 'RAW_2019_06_12_05_10_25_219.dng', 'RAW_2019_06_11_18_45_29_030.dng', 'RAW_2019_06_11_18_39_46_198.dng', 'RAW_2019_06_12_06_52_06_934.dng', 'RAW_2019_06_12_05_09_41_138.dng', 'RAW_2019_06_12_06_56_46_862.dng', 'RAW_2019_06_12_07_07_37_396.dng', 'RAW_2019_06_12_07_12_14_445.dng', 'RAW_2019_06_11_18_57_32_569.dng', 'RAW_2019_06_11_18_34_35_794.dng', 'RAW_2019_06_12_05_02_38_152.dng', 'RAW_2019_06_12_07_24_26_431.dng', 'RAW_2019_06_12_07_36_27_617.dng', 'RAW_2019_06_12_07_01_27_620.dng', 'JPEG_2019_06_11_18_39_46_198.jpg', 'JPEG_2019_06_11_18_45_29_030.jpg', 'JPEG_2019_06_12_07_26_27_608.jpg', 'JPEG_2019_06_11_18_49_32_353.jpg', 'JPEG_2019_06_12_07_07_37_396.jpg', 'JPEG_2019_06_12_07_01_27_620.jpg', 'JPEG_2019_06_15_05_35_34_219.jpg', 'JPEG_2019_06_12_07_12_14_445.jpg', 'JPEG_2019_06_12_07_24_26_431.jpg', 'JPEG_2019_06_11_18_29_32_348.jpg', 'JPEG_2019_06_11_18_57_32_569.jpg', 'JPEG_2019_06_12_19_10_57_138.jpg', 'JPEG_2019_06_12_07_36_27_617.jpg', 'JPEG_2019_06_11_18_34_35_794.jpg', 'JPEG_2019_06_12_06_52_06_934.jpg', 'JPEG_2019_06_12_06_56_46_862.jpg', 'JPEG_2019_06_12_07_34_46_889.jpg', 'JPEG_2019_06_12_07_18_25_421.jpg', 'airveda1.csv']\n"
          ],
          "name": "stdout"
        }
      ]
    },
    {
      "cell_type": "code",
      "metadata": {
        "id": "539BMAgcsn6J",
        "colab_type": "code",
        "colab": {
          "base_uri": "https://localhost:8080/",
          "height": 88
        },
        "outputId": "88850950-c34f-4e0c-defb-4303fb18c58f"
      },
      "source": [
        "temp=[]\n",
        "with open('/content/gdrive/My Drive/RAW/RAW_Batch1/airveda1.csv', mode ='r') as csv_file: \n",
        "      csv_reader=csv.reader(csv_file)\n",
        "      line_count = 0 \n",
        "      for row in csv_reader: \n",
        "        temp.append(row[0])\n",
        "\n",
        "temp.pop(0)\n",
        "\n",
        "stamp=[]\n",
        "for iter in temp: \n",
        "  try: \n",
        "    k=iter.split(':')\n",
        "    stamp.append(str(k[0])+ str(k[1]))\n",
        "  except: \n",
        "    print('ERROR at' + str(iter))\n",
        "\n",
        "y=[]\n",
        "for stp in stamp: \n",
        "    x=stp.split('-')\n",
        "    y.append(str(x[0])+str(x[1])+str(x[2]))\n",
        "final_av=[]\n",
        "for ctr in y:\n",
        "  z=ctr.split(' ')\n",
        "  final_av.append(str(z[0])+str(z[1]))\n",
        "  \n",
        "print(len(final_av))\n",
        "\n",
        "temp  = os.listdir('/content/gdrive/My Drive/RAW/RAW_Batch1/')\n",
        "\n",
        "dummy=[]\n",
        "final_jpeg=[]\n",
        "\n",
        "for file in temp: \n",
        "  if(file.endswith('.jpg')):\n",
        "    dummy=file.split('_')\n",
        "    final_jpeg.append(str(dummy[1])+str(dummy[2])+str(dummy[3])+str(dummy[4])+str(dummy[5]))\n",
        "    \n",
        "print(len(final_jpeg))\n",
        "\n",
        "match=[]\n",
        "for stmp in final_jpeg: \n",
        "  for s in final_av: \n",
        "      if(s==stmp and s not in match):\n",
        "        match.append(s)\n",
        "\n",
        "      \n",
        "print(match)"
      ],
      "execution_count": 153,
      "outputs": [
        {
          "output_type": "stream",
          "text": [
            "6789\n",
            "18\n",
            "['201906111839', '201906111845', '201906120726', '201906111849', '201906120707', '201906120701', '201906120712', '201906120724', '201906111829', '201906111857', '201906121910', '201906120736', '201906111834', '201906120652', '201906120656', '201906120734', '201906120718']\n"
          ],
          "name": "stdout"
        }
      ]
    },
    {
      "cell_type": "code",
      "metadata": {
        "id": "szenQveVuHWY",
        "colab_type": "code",
        "colab": {}
      },
      "source": [
        "dir = os.listdir('/content/gdrive/My Drive/RAW/RAW_Batch1')"
      ],
      "execution_count": 0,
      "outputs": []
    },
    {
      "cell_type": "markdown",
      "metadata": {
        "id": "5E4bGoq-Kw0_",
        "colab_type": "text"
      },
      "source": [
        ""
      ]
    },
    {
      "cell_type": "code",
      "metadata": {
        "id": "6EYqGkuyHy8t",
        "colab_type": "code",
        "colab": {}
      },
      "source": [
        ""
      ],
      "execution_count": 0,
      "outputs": []
    }
  ]
}