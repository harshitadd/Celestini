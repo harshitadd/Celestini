{
  "nbformat": 4,
  "nbformat_minor": 0,
  "metadata": {
    "colab": {
      "name": "Regressor.ipynb",
      "version": "0.3.2",
      "provenance": [],
      "collapsed_sections": [],
      "include_colab_link": true
    },
    "kernelspec": {
      "name": "python3",
      "display_name": "Python 3"
    },
    "accelerator": "GPU"
  },
  "cells": [
    {
      "cell_type": "markdown",
      "metadata": {
        "id": "view-in-github",
        "colab_type": "text"
      },
      "source": [
        "<a href=\"https://colab.research.google.com/github/harshitadd/Celestini/blob/master/Regressor.ipynb\" target=\"_parent\"><img src=\"https://colab.research.google.com/assets/colab-badge.svg\" alt=\"Open In Colab\"/></a>"
      ]
    },
    {
      "cell_type": "code",
      "metadata": {
        "id": "6LiVWHGELr_E",
        "colab_type": "code",
        "outputId": "98e90910-cd3d-4681-d77f-4df0b887292a",
        "colab": {
          "base_uri": "https://localhost:8080/",
          "height": 141
        }
      },
      "source": [
        "!pip install rawpy  ##tells collab that this is a cmd - whatever cmd , just prefix  !\n",
        "import numpy as np \n",
        "import cv2 \n",
        "import rawpy \n",
        "import imageio\n",
        "from sklearn.linear_model import LinearRegression \n",
        "import os \n",
        "import math\n",
        "import matplotlib.pyplot as plt \n",
        "import csv\n",
        "from sklearn.preprocessing import MinMaxScaler\n",
        "from sklearn.metrics import mean_squared_error\n",
        "from sklearn.model_selection import train_test_split\n",
        "from sklearn.feature_selection import chi2, SelectKBest, f_classif\n",
        "from sklearn.model_selection import KFold\n",
        "from sklearn.model_selection import LeaveOneOut\n",
        "from sklearn.model_selection import cross_val_score, cross_val_predict\n",
        "from sklearn import metrics"
      ],
      "execution_count": 1,
      "outputs": [
        {
          "output_type": "stream",
          "text": [
            "Collecting rawpy\n",
            "\u001b[?25l  Downloading https://files.pythonhosted.org/packages/da/04/997062d83766f5fbfa4dc0d20180c5085b55a74e69559e9cb6d4f1e9550e/rawpy-0.13.1-cp36-cp36m-manylinux1_x86_64.whl (682kB)\n",
            "\u001b[K     |████████████████████████████████| 686kB 6.3MB/s \n",
            "\u001b[?25hRequirement already satisfied: numpy in /usr/local/lib/python3.6/dist-packages (from rawpy) (1.16.4)\n",
            "Installing collected packages: rawpy\n",
            "Successfully installed rawpy-0.13.1\n"
          ],
          "name": "stdout"
        }
      ]
    },
    {
      "cell_type": "code",
      "metadata": {
        "id": "WE168ZF0L36x",
        "colab_type": "code",
        "outputId": "07734f86-a0cb-48f1-ac0a-5e56e0242e77",
        "colab": {
          "base_uri": "https://localhost:8080/",
          "height": 124
        }
      },
      "source": [
        "from google.colab import drive \n",
        "drive.mount('/content/gdrive')\n",
        "root_path = 'gdrive/My Drive/RAW/'  #change dir to your project folder\n",
        "\n"
      ],
      "execution_count": 2,
      "outputs": [
        {
          "output_type": "stream",
          "text": [
            "Go to this URL in a browser: https://accounts.google.com/o/oauth2/auth?client_id=947318989803-6bn6qk8qdgf4n4g3pfee6491hc0brc4i.apps.googleusercontent.com&redirect_uri=urn%3Aietf%3Awg%3Aoauth%3A2.0%3Aoob&scope=email%20https%3A%2F%2Fwww.googleapis.com%2Fauth%2Fdocs.test%20https%3A%2F%2Fwww.googleapis.com%2Fauth%2Fdrive%20https%3A%2F%2Fwww.googleapis.com%2Fauth%2Fdrive.photos.readonly%20https%3A%2F%2Fwww.googleapis.com%2Fauth%2Fpeopleapi.readonly&response_type=code\n",
            "\n",
            "Enter your authorization code:\n",
            "··········\n",
            "Mounted at /content/gdrive\n"
          ],
          "name": "stdout"
        }
      ]
    },
    {
      "cell_type": "code",
      "metadata": {
        "id": "Aomm1wvkpW_A",
        "colab_type": "code",
        "colab": {}
      },
      "source": [
        "#To upload \n",
        "\n",
        "1. Airveda CSV (real time)\n",
        "2. Weather - past historic data "
      ],
      "execution_count": 0,
      "outputs": []
    },
    {
      "cell_type": "code",
      "metadata": {
        "id": "THcXn2feMF--",
        "colab_type": "code",
        "colab": {}
      },
      "source": [
        "\n",
        "temp = os.listdir('/content/gdrive/My Drive/RAW/RAW_Batch1/')\n",
        "jpg_names=[]\n",
        "name_jpg=[]\n",
        "dummy=[]\n",
        "origin_time={}           #storing original timestamps \n",
        "#loading .jpg file names (ONLY Names) from RAW_Batch1\n",
        "for name in temp: \n",
        "    path = '/content/gdrive/My Drive/RAW/RAW_Batch1/' + str(name)\n",
        "    if(name.endswith('.jpg')):\n",
        "      try: \n",
        "        name_jpg.append(path)\n",
        "        dummy=name.split('_')\n",
        "        k=str(dummy[1])+str(dummy[2])+str(dummy[3])+str(dummy[4])+str(dummy[5])\n",
        "        jpg_names.append(k)\n",
        "        origin_time[path]=k\n",
        "      except: \n",
        "        print(name)\n",
        "\n"
      ],
      "execution_count": 0,
      "outputs": []
    },
    {
      "cell_type": "code",
      "metadata": {
        "id": "7gDRWIbdhyq6",
        "colab_type": "code",
        "outputId": "878ad593-1d91-4bc4-95de-4b48bd045fea",
        "colab": {
          "base_uri": "https://localhost:8080/",
          "height": 35
        }
      },
      "source": [
        "#Opening AirVeda csv \n",
        "\n",
        "temp={}\n",
        "with open('/content/airveda.csv', mode ='r') as csv_file: \n",
        "      csv_reader=csv.reader(csv_file)\n",
        "      for row in csv_reader: \n",
        "        temp[row[0]]=row[2]\n",
        "stamp={}\n",
        "for iter in temp: \n",
        "  try: \n",
        "    k=iter.split(':')\n",
        "    stamp[(str(k[0])+ str(k[1]))]=temp[iter]\n",
        "  except: \n",
        "    pass \n",
        "  \n",
        "y={}\n",
        "for stp in stamp: \n",
        "    x=stp.split('-')\n",
        "    y[(str(x[0])+str(x[1])+str(x[2]))]=stamp[stp]\n",
        "\n",
        "    \n",
        "final_av={}\n",
        "for ctr in y:\n",
        "  z=ctr.split(' ')\n",
        "  final_av[(str(z[0])+str(z[1]))]=y[ctr]\n",
        "  \n",
        "\n",
        "  \n",
        "print(len(final_av))"
      ],
      "execution_count": 5,
      "outputs": [
        {
          "output_type": "stream",
          "text": [
            "2800\n"
          ],
          "name": "stdout"
        }
      ]
    },
    {
      "cell_type": "code",
      "metadata": {
        "id": "pOz_SvGsceMI",
        "colab_type": "code",
        "colab": {}
      },
      "source": [
        "def transmission(img, lt = 230, retMean = False):\n",
        "  ker = np.ones((3, 3))/9.0\n",
        "  imgrgb = cv2.cvtColor(img, cv2.COLOR_BGR2RGB)\n",
        "  b, g, r = cv2.split(img)\n",
        "  hsv = cv2.cvtColor(imgrgb, cv2.COLOR_RGB2HSV)\n",
        "  _, _, v = cv2.split(hsv)\n",
        "  v_blur = cv2.filter2D(v, -1, ker)\n",
        "  _,building_mask = cv2.threshold(v_blur, lt, 255, cv2.THRESH_BINARY)\n",
        "  sky = cv2.bitwise_and(imgrgb, imgrgb, mask = building_mask)\n",
        "  sky_mask = cv2.bitwise_not(building_mask, building_mask.copy())\n",
        "  building = cv2.bitwise_and(imgrgb, imgrgb, mask = sky_mask)\n",
        "  al = max(v_blur.flatten())\n",
        "  #Airlight Found. Now calculate Transmission Map\n",
        "  img_norm = img/float(al)\n",
        "  b, g, r = cv2.split(img_norm)\n",
        "  kernel = np.ones((3,3),np.uint8)\n",
        "  im_new = np.zeros((img.shape[0], img.shape[1]))\n",
        "  for i in range(img.shape[0]):\n",
        "    for j in range(img.shape[1]):\n",
        "      im_new[i][j] = min(b[i][j], g[i][j], r[i][j])\n",
        "  dcp = cv2.erode(im_new, kernel, iterations = 1)\n",
        "  #ax[3].imshow(im_new, cmap = 'gray')\n",
        "  #ax[4].imshow(dcp, cmap = 'gray')\n",
        "  tr = np.ones((dcp.shape[0], dcp.shape[1]))\n",
        "  for i in range(dcp.shape[0]):\n",
        "    for j in range(dcp.shape[1]):\n",
        "      tr[i][j] = 1 - dcp[i][j]\n",
        "  #ax[1].imshow(tr, cmap = 'gray')\n",
        "  if retMean == False:\n",
        "    return tr\n",
        "  elif retMean == True:\n",
        "    return np.mean(tr)"
      ],
      "execution_count": 0,
      "outputs": []
    },
    {
      "cell_type": "code",
      "metadata": {
        "id": "atSGv9a2h5yE",
        "colab_type": "code",
        "outputId": "2e787984-5ae5-4289-fb2c-0491a837e86f",
        "colab": {
          "base_uri": "https://localhost:8080/",
          "height": 107
        }
      },
      "source": [
        "#Matching airveda data with jpeg names to getting matching timestamps \n",
        "\n",
        "match={}\n",
        "for name in jpg_names:\n",
        "  for stmp in final_av: \n",
        "    if(stmp==name and stmp not in match):\n",
        "      match[stmp]=final_av[stmp]\n",
        "      \n",
        "\n",
        "timestamps=[]\n",
        "\n",
        "for key in match:\n",
        "  timestamps.append(str(key))\n",
        "  \n",
        "print(timestamps)\n",
        "print(len(timestamps))\n",
        "\n",
        "hours=[]\n",
        "for stamp in timestamps: \n",
        "    hours.append(stamp[8:-2])\n",
        "\n",
        "pm=[]\n",
        "for p in match:\n",
        "  pm.append(match[p])\n",
        "\n",
        "print(pm)\n",
        "print(len(pm))\n",
        "\n",
        "\n",
        "#timestamps, pm , weather , trans, contrast, entropy\n",
        "#Plotting time against pm \n",
        "\n",
        "# f,ax = plt.subplots(1,1,figsize=(10,10))\n",
        "# ax.scatter(hours,pm)\n"
      ],
      "execution_count": 167,
      "outputs": [
        {
          "output_type": "stream",
          "text": [
            "['201906141845', '201906141842', '201906141830', '201906141835', '201906141856', '201906121903', '201906141850', '201906121905', '201906121855', '201906121806', '201906111909', '201906121722', '201906121801', '201906111900', '201906121750', '201906111828', '201906121755', '201906121742', '201906121745', '201906121735', '201906150948', '201906150942', '201906150937', '201906150932', '201906150927', '201906150922', '201906150917', '201906150912', '201906150907', '201906150902', '201906150857', '201906150852', '201906150847', '201906150842', '201906150838', '201906150833', '201906150827', '201906150822', '201906150817', '201906150812', '201906150807', '201906150802', '201906150800', '201906150622', '201906150620', '201906150616', '201906150615', '201906150611', '201906150605', '201906150603', '201906141827', '201906141821', '201906141815', '201906141810', '201906141805', '201906141804', '201906141803', '201906141758', '201906141753', '201906141750', '201906141744', '201906141738', '201906141733', '201906141730', '201906141724', '201906141721', '201906141714', '201906141710', '201906141704', '201906141658', '201906141653', '201906141649', '201906141644', '201906141638', '201906141635', '201906141629', '201906141623', '201906141620', '201906141614', '201906141608', '201906141604', '201906141602', '201906141553', '201906141549', '201906141544', '201906141538', '201906141534', '201906141528', '201906141524', '201906141518', '201906141514', '201906141513', '201906141512', '201906141507', '201906141503', '201906141457', '201906141452', '201906141449', '201906141443', '201906141438', '201906141433', '201906141429', '201906141422', '201906141420', '201906141412', '201906141407', '201906141404', '201906141358', '201906141354', '201906141348', '201906141344', '201906141337', '201906141335', '201906141329', '201906141322', '201906141318', '201906141312', '201906141307', '201906141303', '201906141257', '201906141252', '201906141247', '201906141243', '201906141237', '201906141235', '201906141229', '201906141222', '201906141220', '201906141214', '201906141207', '201906141202', '201906141200', '201906141152', '201906141148', '201906141143', '201906141137', '201906141132', '201906141127', '201906141122', '201906141117', '201906141112', '201906141107', '201906141102', '201906141058', '201906141052', '201906141047', '201906141043', '201906141037', '201906141035', '201906141029', '201906141022', '201906141017', '201906141015', '201906141010', '201906141003', '201906140958', '201906140953', '201906121926', '201906121920', '201906121916', '201906121910', '201906121854', '201906121846', '201906121841', '201906121836', '201906121831', '201906121826', '201906121823', '201906121816', '201906121811', '201906121731', '201906121726', '201906121716', '201906121711', '201906121706', '201906121700', '201906121656', '201906121654', '201906121646', '201906121641', '201906121637', '201906121631', '201906121626', '201906121620', '201906121616', '201906121610', '201906121605', '201906121603', '201906121557', '201906121551', '201906121546', '201906121541', '201906121536', '201906121532', '201906121526', '201906121525', '201906121522', '201906121518', '201906121512', '201906121506', '201906121504', '201906121457', '201906121455', '201906121449', '201906121443', '201906121437', '201906121433', '201906121427', '201906121421', '201906121417', '201906121415', '201906121408', '201906121401', '201906121357', '201906121352', '201906121348', '201906121342', '201906121336', '201906121332', '201906121330', '201906121324', '201906121317', '201906121313', '201906121307', '201906121303', '201906121257', '201906121251', '201906121247', '201906121244', '201906121237', '201906121235', '201906121229', '201906121223', '201906121218', '201906121212', '201906121206', '201906121202', '201906121200', '201906121152', '201906121150', '201906121144', '201906121137', '201906121134', '201906121128', '201906121123', '201906121118', '201906121112', '201906121110', '201906121102', '201906121059', '201906121053', '201906121048', '201906121044', '201906121038', '201906121032', '201906121027', '201906121021', '201906121017', '201906121015', '201906121008', '201906121002', '201906120958', '201906120953', '201906120946', '201906120941', '201906120937', '201906120935', '201906120926', '201906120921', '201906120916', '201906120911', '201906120909', '201906120904', '201906120858', '201906120852', '201906120846', '201906120842', '201906120836', '201906120833', '201906120826', '201906120823', '201906120817', '201906120811', '201906120808', '201906120801', '201906120758', '201906120752', '201906120748', '201906120742', '201906120736', '201906120734', '201906120726', '201906120646', '201906120641', '201906120636', '201906120631', '201906120626', '201906120724', '201906120718', '201906120712', '201906120707', '201906120701', '201906120623', '201906120618', '201906120611', '201906120608', '201906120601', '201906120556', '201906120551', '201906120548', '201906120656', '201906120652', '201906120541', '201906120536', '201906120534', '201906111914', '201906111907', '201906111857', '201906111849', '201906111845', '201906111839', '201906111834', '201906111829']\n",
            "323\n",
            "['26', '26', '26', '26', '29', '165', '26', '99', '47', '47', '41', '44', '44', '35', '47', '29', '47', '44', '44', '44', '73', '76', '73', '75', '73', '72', '76', '79', '81', '87', '93', '91', '102', '113', '129', '129', '133', '137', '139', '135', '128', '129', '131', '76', '75', '70', '72', '67', '66', '66', '26', '29', '26', '23', '26', '26', '29', '26', '26', '26', '23', '23', '26', '32', '29', '29', '29', '29', '29', '32', '29', '26', '32', '29', '29', '29', '29', '32', '35', '29', '32', '29', '29', '29', '29', '32', '32', '29', '32', '32', '29', '32', '32', '32', '29', '29', '32', '32', '32', '32', '29', '32', '29', '32', '35', '32', '32', '32', '35', '32', '38', '35', '32', '35', '32', '32', '35', '32', '32', '32', '32', '29', '29', '29', '32', '35', '32', '35', '35', '32', '35', '32', '32', '29', '32', '32', '29', '32', '32', '29', '32', '35', '35', '38', '41', '41', '44', '41', '41', '41', '38', '41', '44', '41', '44', '41', '50', '41', '50', '63', '75', '47', '47', '47', '47', '47', '44', '44', '44', '44', '44', '44', '44', '44', '44', '47', '44', '44', '44', '44', '44', '44', '41', '44', '44', '44', '47', '47', '47', '47', '50', '50', '50', '50', '50', '50', '50', '50', '50', '50', '53', '53', '53', '53', '53', '53', '53', '53', '56', '56', '56', '57', '58', '57', '57', '58', '58', '61', '60', '60', '60', '64', '63', '64', '63', '61', '61', '64', '63', '61', '61', '61', '60', '57', '57', '53', '47', '50', '53', '44', '41', '47', '50', '47', '44', '44', '38', '38', '35', '35', '35', '35', '29', '32', '32', '32', '32', '32', '32', '29', '32', '32', '35', '41', '41', '44', '41', '41', '47', '44', '50', '50', '57', '58', '60', '64', '60', '58', '56', '50', '57', '53', '44', '47', '47', '41', '41', '44', '47', '50', '56', '60', '91', '94', '94', '90', '87', '61', '60', '64', '66', '76', '87', '85', '79', '78', '75', '67', '60', '58', '75', '79', '56', '35', '32', '38', '41', '32', '32', '32', '29', '29', '29']\n",
            "323\n"
          ],
          "name": "stdout"
        }
      ]
    },
    {
      "cell_type": "code",
      "metadata": {
        "id": "4DjTGrhslgQb",
        "colab_type": "code",
        "colab": {}
      },
      "source": [
        "#Matching  timestamps to the images that should be read \n",
        "crspond={}\n",
        "for key in match: \n",
        "  for val in origin_time: \n",
        "    if(origin_time[val]==key):\n",
        "      value=[]\n",
        "      value.append(match[key])\n",
        "      value.append(key)\n",
        "      crspond[val]=value\n",
        "      break\n",
        "      \n",
        "\n",
        "print(len(crspond))\n",
        "\n",
        "trans_jpg=[]\n",
        "entropy_jpg=[]\n",
        "contrast_jpg=[]\n",
        "images_jpg=[]\n",
        "k=0\n",
        "for key in crspond:\n",
        "  try:\n",
        "    read = cv2.imread(key)\n",
        "    read = cv2.resize(read, (32, 32))\n",
        "    images_jpg.append(read)\n",
        "    k+=1\n",
        "    print(k)\n",
        "  except: \n",
        "    print(name)\n",
        "    \n",
        "    \n"
      ],
      "execution_count": 0,
      "outputs": []
    },
    {
      "cell_type": "code",
      "metadata": {
        "id": "c7jhNNSWyf7u",
        "colab_type": "code",
        "colab": {
          "base_uri": "https://localhost:8080/",
          "height": 55
        },
        "outputId": "d9fbf2ce-cc2e-4753-965e-cedcd65f77e3"
      },
      "source": [
        "print(crspond)"
      ],
      "execution_count": 184,
      "outputs": [
        {
          "output_type": "stream",
          "text": [
            "{'/content/gdrive/My Drive/RAW/RAW_Batch1/JPEG_2019_06_14_18_45_34_844.jpg': ['26', '201906141845'], '/content/gdrive/My Drive/RAW/RAW_Batch1/JPEG_2019_06_14_18_42_06_904.jpg': ['26', '201906141842'], '/content/gdrive/My Drive/RAW/RAW_Batch1/JPEG_2019_06_14_18_30_34_488.jpg': ['26', '201906141830'], '/content/gdrive/My Drive/RAW/RAW_Batch1/JPEG_2019_06_14_18_35_36_707.jpg': ['26', '201906141835'], '/content/gdrive/My Drive/RAW/RAW_Batch1/JPEG_2019_06_14_18_56_06_981.jpg': ['29', '201906141856'], '/content/gdrive/My Drive/RAW/RAW_Batch1/JPEG_2019_06_12_19_03_06_773.jpg': ['165', '201906121903'], '/content/gdrive/My Drive/RAW/RAW_Batch1/JPEG_2019_06_14_18_50_34_870.jpg': ['26', '201906141850'], '/content/gdrive/My Drive/RAW/RAW_Batch1/JPEG_2019_06_12_19_05_47_598.jpg': ['99', '201906121905'], '/content/gdrive/My Drive/RAW/RAW_Batch1/JPEG_2019_06_12_18_55_47_455.jpg': ['47', '201906121855'], '/content/gdrive/My Drive/RAW/RAW_Batch1/JPEG_2019_06_12_18_06_25_370.jpg': ['47', '201906121806'], '/content/gdrive/My Drive/RAW/RAW_Batch1/JPEG_2019_06_11_19_09_32_311.jpg': ['41', '201906111909'], '/content/gdrive/My Drive/RAW/RAW_Batch1/JPEG_2019_06_12_17_22_06_893.jpg': ['44', '201906121722'], '/content/gdrive/My Drive/RAW/RAW_Batch1/JPEG_2019_06_12_18_01_08_718.jpg': ['44', '201906121801'], '/content/gdrive/My Drive/RAW/RAW_Batch1/JPEG_2019_06_11_19_00_07_656.jpg': ['35', '201906111900'], '/content/gdrive/My Drive/RAW/RAW_Batch1/JPEG_2019_06_12_17_50_47_621.jpg': ['47', '201906121750'], '/content/gdrive/My Drive/RAW/RAW_Batch1/JPEG_2019_06_11_18_28_35_021.jpg': ['29', '201906111828'], '/content/gdrive/My Drive/RAW/RAW_Batch1/JPEG_2019_06_12_17_55_58_268.jpg': ['47', '201906121755'], '/content/gdrive/My Drive/RAW/RAW_Batch1/JPEG_2019_06_12_17_42_32_468.jpg': ['44', '201906121742'], '/content/gdrive/My Drive/RAW/RAW_Batch1/JPEG_2019_06_12_17_45_47_578.jpg': ['44', '201906121745'], '/content/gdrive/My Drive/RAW/RAW_Batch1/JPEG_2019_06_12_17_35_47_721.jpg': ['44', '201906121735'], '/content/gdrive/My Drive/RAW/RAW_Batch1/JPEG_2019_06_15_09_48_07_747.jpg': ['73', '201906150948'], '/content/gdrive/My Drive/RAW/RAW_Batch1/JPEG_2019_06_15_09_42_32_905.jpg': ['76', '201906150942'], '/content/gdrive/My Drive/RAW/RAW_Batch1/JPEG_2019_06_15_09_37_45_307.jpg': ['73', '201906150937'], '/content/gdrive/My Drive/RAW/RAW_Batch1/JPEG_2019_06_15_09_32_32_828.jpg': ['75', '201906150932'], '/content/gdrive/My Drive/RAW/RAW_Batch1/JPEG_2019_06_15_09_27_32_969.jpg': ['73', '201906150927'], '/content/gdrive/My Drive/RAW/RAW_Batch1/JPEG_2019_06_15_09_22_32_866.jpg': ['72', '201906150922'], '/content/gdrive/My Drive/RAW/RAW_Batch1/JPEG_2019_06_15_09_17_32_805.jpg': ['76', '201906150917'], '/content/gdrive/My Drive/RAW/RAW_Batch1/JPEG_2019_06_15_09_12_32_876.jpg': ['79', '201906150912'], '/content/gdrive/My Drive/RAW/RAW_Batch1/JPEG_2019_06_15_09_07_32_906.jpg': ['81', '201906150907'], '/content/gdrive/My Drive/RAW/RAW_Batch1/JPEG_2019_06_15_09_02_32_834.jpg': ['87', '201906150902'], '/content/gdrive/My Drive/RAW/RAW_Batch1/JPEG_2019_06_15_08_57_32_808.jpg': ['93', '201906150857'], '/content/gdrive/My Drive/RAW/RAW_Batch1/JPEG_2019_06_15_08_52_32_912.jpg': ['91', '201906150852'], '/content/gdrive/My Drive/RAW/RAW_Batch1/JPEG_2019_06_15_08_47_32_839.jpg': ['102', '201906150847'], '/content/gdrive/My Drive/RAW/RAW_Batch1/JPEG_2019_06_15_08_42_32_869.jpg': ['113', '201906150842'], '/content/gdrive/My Drive/RAW/RAW_Batch1/JPEG_2019_06_15_08_38_07_771.jpg': ['129', '201906150838'], '/content/gdrive/My Drive/RAW/RAW_Batch1/JPEG_2019_06_15_08_33_43_166.jpg': ['129', '201906150833'], '/content/gdrive/My Drive/RAW/RAW_Batch1/JPEG_2019_06_15_08_27_32_859.jpg': ['133', '201906150827'], '/content/gdrive/My Drive/RAW/RAW_Batch1/JPEG_2019_06_15_08_22_32_910.jpg': ['137', '201906150822'], '/content/gdrive/My Drive/RAW/RAW_Batch1/JPEG_2019_06_15_08_17_32_864.jpg': ['139', '201906150817'], '/content/gdrive/My Drive/RAW/RAW_Batch1/JPEG_2019_06_15_08_12_32_938.jpg': ['135', '201906150812'], '/content/gdrive/My Drive/RAW/RAW_Batch1/JPEG_2019_06_15_08_07_32_865.jpg': ['128', '201906150807'], '/content/gdrive/My Drive/RAW/RAW_Batch1/JPEG_2019_06_15_08_02_32_987.jpg': ['129', '201906150802'], '/content/gdrive/My Drive/RAW/RAW_Batch1/JPEG_2019_06_15_08_00_31_172.jpg': ['131', '201906150800'], '/content/gdrive/My Drive/RAW/RAW_Batch1/JPEG_2019_06_15_06_22_27_923.jpg': ['76', '201906150622'], '/content/gdrive/My Drive/RAW/RAW_Batch1/JPEG_2019_06_15_06_20_34_216.jpg': ['75', '201906150620'], '/content/gdrive/My Drive/RAW/RAW_Batch1/JPEG_2019_06_15_06_16_07_705.jpg': ['70', '201906150616'], '/content/gdrive/My Drive/RAW/RAW_Batch1/JPEG_2019_06_15_06_15_34_394.jpg': ['72', '201906150615'], '/content/gdrive/My Drive/RAW/RAW_Batch1/JPEG_2019_06_15_06_11_07_144.jpg': ['67', '201906150611'], '/content/gdrive/My Drive/RAW/RAW_Batch1/JPEG_2019_06_15_06_05_34_184.jpg': ['66', '201906150605'], '/content/gdrive/My Drive/RAW/RAW_Batch1/JPEG_2019_06_15_06_03_26_126.jpg': ['66', '201906150603'], '/content/gdrive/My Drive/RAW/RAW_Batch1/JPEG_2019_06_14_18_27_06_961.jpg': ['26', '201906141827'], '/content/gdrive/My Drive/RAW/RAW_Batch1/JPEG_2019_06_14_18_21_07_033.jpg': ['29', '201906141821'], '/content/gdrive/My Drive/RAW/RAW_Batch1/JPEG_2019_06_14_18_15_34_387.jpg': ['26', '201906141815'], '/content/gdrive/My Drive/RAW/RAW_Batch1/JPEG_2019_06_14_18_10_34_399.jpg': ['23', '201906141810'], '/content/gdrive/My Drive/RAW/RAW_Batch1/JPEG_2019_06_14_18_05_34_271.jpg': ['26', '201906141805'], '/content/gdrive/My Drive/RAW/RAW_Batch1/JPEG_2019_06_14_18_04_31_078.jpg': ['26', '201906141804'], '/content/gdrive/My Drive/RAW/RAW_Batch1/JPEG_2019_06_14_18_03_24_927.jpg': ['29', '201906141803'], '/content/gdrive/My Drive/RAW/RAW_Batch1/JPEG_2019_06_14_17_58_44_703.jpg': ['26', '201906141758'], '/content/gdrive/My Drive/RAW/RAW_Batch1/JPEG_2019_06_14_17_53_44_891.jpg': ['26', '201906141753'], '/content/gdrive/My Drive/RAW/RAW_Batch1/JPEG_2019_06_14_17_50_06_866.jpg': ['26', '201906141750'], '/content/gdrive/My Drive/RAW/RAW_Batch1/JPEG_2019_06_14_17_44_11_812.jpg': ['23', '201906141744'], '/content/gdrive/My Drive/RAW/RAW_Batch1/JPEG_2019_06_14_17_38_44_854.jpg': ['23', '201906141738'], '/content/gdrive/My Drive/RAW/RAW_Batch1/JPEG_2019_06_14_17_33_47_602.jpg': ['26', '201906141733'], '/content/gdrive/My Drive/RAW/RAW_Batch1/JPEG_2019_06_14_17_30_06_727.jpg': ['32', '201906141730'], '/content/gdrive/My Drive/RAW/RAW_Batch1/JPEG_2019_06_14_17_24_24_686.jpg': ['29', '201906141724'], '/content/gdrive/My Drive/RAW/RAW_Batch1/JPEG_2019_06_14_17_21_06_890.jpg': ['29', '201906141721'], '/content/gdrive/My Drive/RAW/RAW_Batch1/JPEG_2019_06_14_17_14_57_362.jpg': ['29', '201906141714'], '/content/gdrive/My Drive/RAW/RAW_Batch1/JPEG_2019_06_14_17_10_06_721.jpg': ['29', '201906141710'], '/content/gdrive/My Drive/RAW/RAW_Batch1/JPEG_2019_06_14_17_04_06_905.jpg': ['29', '201906141704'], '/content/gdrive/My Drive/RAW/RAW_Batch1/JPEG_2019_06_14_16_58_44_816.jpg': ['32', '201906141658'], '/content/gdrive/My Drive/RAW/RAW_Batch1/JPEG_2019_06_14_16_53_44_876.jpg': ['29', '201906141653'], '/content/gdrive/My Drive/RAW/RAW_Batch1/JPEG_2019_06_14_16_49_08_407.jpg': ['26', '201906141649'], '/content/gdrive/My Drive/RAW/RAW_Batch1/JPEG_2019_06_14_16_44_11_416.jpg': ['32', '201906141644'], '/content/gdrive/My Drive/RAW/RAW_Batch1/JPEG_2019_06_14_16_38_45_785.jpg': ['29', '201906141638'], '/content/gdrive/My Drive/RAW/RAW_Batch1/JPEG_2019_06_14_16_35_00_967.jpg': ['29', '201906141635'], '/content/gdrive/My Drive/RAW/RAW_Batch1/JPEG_2019_06_14_16_29_27_183.jpg': ['29', '201906141629'], '/content/gdrive/My Drive/RAW/RAW_Batch1/JPEG_2019_06_14_16_23_44_884.jpg': ['29', '201906141623'], '/content/gdrive/My Drive/RAW/RAW_Batch1/JPEG_2019_06_14_16_20_07_810.jpg': ['32', '201906141620'], '/content/gdrive/My Drive/RAW/RAW_Batch1/JPEG_2019_06_14_16_14_06_898.jpg': ['35', '201906141614'], '/content/gdrive/My Drive/RAW/RAW_Batch1/JPEG_2019_06_14_16_08_44_648.jpg': ['29', '201906141608'], '/content/gdrive/My Drive/RAW/RAW_Batch1/JPEG_2019_06_14_16_04_30_024.jpg': ['32', '201906141604'], '/content/gdrive/My Drive/RAW/RAW_Batch1/JPEG_2019_06_14_16_02_29_215.jpg': ['29', '201906141602'], '/content/gdrive/My Drive/RAW/RAW_Batch1/JPEG_2019_06_14_15_53_44_828.jpg': ['29', '201906141553'], '/content/gdrive/My Drive/RAW/RAW_Batch1/JPEG_2019_06_14_15_49_07_780.jpg': ['29', '201906141549'], '/content/gdrive/My Drive/RAW/RAW_Batch1/JPEG_2019_06_14_15_44_11_006.jpg': ['29', '201906141544'], '/content/gdrive/My Drive/RAW/RAW_Batch1/JPEG_2019_06_14_15_38_44_854.jpg': ['32', '201906141538'], '/content/gdrive/My Drive/RAW/RAW_Batch1/JPEG_2019_06_14_15_34_21_311.jpg': ['32', '201906141534'], '/content/gdrive/My Drive/RAW/RAW_Batch1/JPEG_2019_06_14_15_28_54_445.jpg': ['29', '201906141528'], '/content/gdrive/My Drive/RAW/RAW_Batch1/JPEG_2019_06_14_15_24_06_847.jpg': ['32', '201906141524'], '/content/gdrive/My Drive/RAW/RAW_Batch1/JPEG_2019_06_14_15_18_44_959.jpg': ['32', '201906141518'], '/content/gdrive/My Drive/RAW/RAW_Batch1/JPEG_2019_06_14_15_14_17_844.jpg': ['29', '201906141514'], '/content/gdrive/My Drive/RAW/RAW_Batch1/JPEG_2019_06_14_15_13_39_280.jpg': ['32', '201906141513'], '/content/gdrive/My Drive/RAW/RAW_Batch1/JPEG_2019_06_14_15_12_08_080.jpg': ['32', '201906141512'], '/content/gdrive/My Drive/RAW/RAW_Batch1/JPEG_2019_06_14_15_07_00_283.jpg': ['32', '201906141507'], '/content/gdrive/My Drive/RAW/RAW_Batch1/JPEG_2019_06_14_15_03_24_735.jpg': ['29', '201906141503'], '/content/gdrive/My Drive/RAW/RAW_Batch1/JPEG_2019_06_14_14_57_06_588.jpg': ['29', '201906141457'], '/content/gdrive/My Drive/RAW/RAW_Batch1/JPEG_2019_06_14_14_52_28_375.jpg': ['32', '201906141452'], '/content/gdrive/My Drive/RAW/RAW_Batch1/JPEG_2019_06_14_14_49_07_143.jpg': ['32', '201906141449'], '/content/gdrive/My Drive/RAW/RAW_Batch1/JPEG_2019_06_14_14_43_10_372.jpg': ['32', '201906141443'], '/content/gdrive/My Drive/RAW/RAW_Batch1/JPEG_2019_06_14_14_38_47_892.jpg': ['32', '201906141438'], '/content/gdrive/My Drive/RAW/RAW_Batch1/JPEG_2019_06_14_14_33_47_636.jpg': ['29', '201906141433'], '/content/gdrive/My Drive/RAW/RAW_Batch1/JPEG_2019_06_14_14_29_27_351.jpg': ['32', '201906141429'], '/content/gdrive/My Drive/RAW/RAW_Batch1/JPEG_2019_06_14_14_22_07_799.jpg': ['29', '201906141422'], '/content/gdrive/My Drive/RAW/RAW_Batch1/JPEG_2019_06_14_14_20_07_016.jpg': ['32', '201906141420'], '/content/gdrive/My Drive/RAW/RAW_Batch1/JPEG_2019_06_14_14_12_00_545.jpg': ['35', '201906141412'], '/content/gdrive/My Drive/RAW/RAW_Batch1/JPEG_2019_06_14_14_07_53_711.jpg': ['32', '201906141407'], '/content/gdrive/My Drive/RAW/RAW_Batch1/JPEG_2019_06_14_14_04_07_279.jpg': ['32', '201906141404'], '/content/gdrive/My Drive/RAW/RAW_Batch1/JPEG_2019_06_14_13_58_16_419.jpg': ['32', '201906141358'], '/content/gdrive/My Drive/RAW/RAW_Batch1/JPEG_2019_06_14_13_54_18_741.jpg': ['35', '201906141354'], '/content/gdrive/My Drive/RAW/RAW_Batch1/JPEG_2019_06_14_13_48_30_435.jpg': ['32', '201906141348'], '/content/gdrive/My Drive/RAW/RAW_Batch1/JPEG_2019_06_14_13_44_06_934.jpg': ['38', '201906141344'], '/content/gdrive/My Drive/RAW/RAW_Batch1/JPEG_2019_06_14_13_37_07_192.jpg': ['35', '201906141337'], '/content/gdrive/My Drive/RAW/RAW_Batch1/JPEG_2019_06_14_13_35_00_566.jpg': ['32', '201906141335'], '/content/gdrive/My Drive/RAW/RAW_Batch1/JPEG_2019_06_14_13_29_27_461.jpg': ['35', '201906141329'], '/content/gdrive/My Drive/RAW/RAW_Batch1/JPEG_2019_06_14_13_22_07_115.jpg': ['32', '201906141322'], '/content/gdrive/My Drive/RAW/RAW_Batch1/JPEG_2019_06_14_13_18_39_980.jpg': ['32', '201906141318'], '/content/gdrive/My Drive/RAW/RAW_Batch1/JPEG_2019_06_14_13_12_00_583.jpg': ['35', '201906141312'], '/content/gdrive/My Drive/RAW/RAW_Batch1/JPEG_2019_06_14_13_07_00_541.jpg': ['32', '201906141307'], '/content/gdrive/My Drive/RAW/RAW_Batch1/JPEG_2019_06_14_13_03_25_369.jpg': ['32', '201906141303'], '/content/gdrive/My Drive/RAW/RAW_Batch1/JPEG_2019_06_14_12_57_04_925.jpg': ['32', '201906141257'], '/content/gdrive/My Drive/RAW/RAW_Batch1/JPEG_2019_06_14_12_52_00_559.jpg': ['32', '201906141252'], '/content/gdrive/My Drive/RAW/RAW_Batch1/JPEG_2019_06_14_12_47_07_138.jpg': ['29', '201906141247'], '/content/gdrive/My Drive/RAW/RAW_Batch1/JPEG_2019_06_14_12_43_08_798.jpg': ['29', '201906141243'], '/content/gdrive/My Drive/RAW/RAW_Batch1/JPEG_2019_06_14_12_37_07_431.jpg': ['29', '201906141237'], '/content/gdrive/My Drive/RAW/RAW_Batch1/JPEG_2019_06_14_12_35_00_775.jpg': ['32', '201906141235'], '/content/gdrive/My Drive/RAW/RAW_Batch1/JPEG_2019_06_14_12_29_06_907.jpg': ['35', '201906141229'], '/content/gdrive/My Drive/RAW/RAW_Batch1/JPEG_2019_06_14_12_22_11_429.jpg': ['32', '201906141222'], '/content/gdrive/My Drive/RAW/RAW_Batch1/JPEG_2019_06_14_12_20_07_172.jpg': ['35', '201906141220'], '/content/gdrive/My Drive/RAW/RAW_Batch1/JPEG_2019_06_14_12_14_37_862.jpg': ['35', '201906141214'], '/content/gdrive/My Drive/RAW/RAW_Batch1/JPEG_2019_06_14_12_07_25_914.jpg': ['32', '201906141207'], '/content/gdrive/My Drive/RAW/RAW_Batch1/JPEG_2019_06_14_12_02_12_495.jpg': ['35', '201906141202'], '/content/gdrive/My Drive/RAW/RAW_Batch1/JPEG_2019_06_14_12_00_11_659.jpg': ['32', '201906141200'], '/content/gdrive/My Drive/RAW/RAW_Batch1/JPEG_2019_06_14_11_52_07_667.jpg': ['32', '201906141152'], '/content/gdrive/My Drive/RAW/RAW_Batch1/JPEG_2019_06_14_11_48_29_482.jpg': ['29', '201906141148'], '/content/gdrive/My Drive/RAW/RAW_Batch1/JPEG_2019_06_14_11_43_09_013.jpg': ['32', '201906141143'], '/content/gdrive/My Drive/RAW/RAW_Batch1/JPEG_2019_06_14_11_37_07_195.jpg': ['32', '201906141137'], '/content/gdrive/My Drive/RAW/RAW_Batch1/JPEG_2019_06_14_11_32_00_632.jpg': ['29', '201906141132'], '/content/gdrive/My Drive/RAW/RAW_Batch1/JPEG_2019_06_14_11_27_06_848.jpg': ['32', '201906141127'], '/content/gdrive/My Drive/RAW/RAW_Batch1/JPEG_2019_06_14_11_22_00_368.jpg': ['32', '201906141122'], '/content/gdrive/My Drive/RAW/RAW_Batch1/JPEG_2019_06_14_11_17_00_508.jpg': ['29', '201906141117'], '/content/gdrive/My Drive/RAW/RAW_Batch1/JPEG_2019_06_14_11_12_00_587.jpg': ['32', '201906141112'], '/content/gdrive/My Drive/RAW/RAW_Batch1/JPEG_2019_06_14_11_07_25_317.jpg': ['35', '201906141107'], '/content/gdrive/My Drive/RAW/RAW_Batch1/JPEG_2019_06_14_11_02_00_714.jpg': ['35', '201906141102'], '/content/gdrive/My Drive/RAW/RAW_Batch1/JPEG_2019_06_14_10_58_06_862.jpg': ['38', '201906141058'], '/content/gdrive/My Drive/RAW/RAW_Batch1/JPEG_2019_06_14_10_52_00_585.jpg': ['41', '201906141052'], '/content/gdrive/My Drive/RAW/RAW_Batch1/JPEG_2019_06_14_10_47_28_483.jpg': ['41', '201906141047'], '/content/gdrive/My Drive/RAW/RAW_Batch1/JPEG_2019_06_14_10_43_06_950.jpg': ['44', '201906141043'], '/content/gdrive/My Drive/RAW/RAW_Batch1/JPEG_2019_06_14_10_37_08_303.jpg': ['41', '201906141037'], '/content/gdrive/My Drive/RAW/RAW_Batch1/JPEG_2019_06_14_10_35_07_906.jpg': ['41', '201906141035'], '/content/gdrive/My Drive/RAW/RAW_Batch1/JPEG_2019_06_14_10_29_27_314.jpg': ['41', '201906141029'], '/content/gdrive/My Drive/RAW/RAW_Batch1/JPEG_2019_06_14_10_22_00_502.jpg': ['38', '201906141022'], '/content/gdrive/My Drive/RAW/RAW_Batch1/JPEG_2019_06_14_10_17_07_577.jpg': ['41', '201906141017'], '/content/gdrive/My Drive/RAW/RAW_Batch1/JPEG_2019_06_14_10_15_33_549.jpg': ['44', '201906141015'], '/content/gdrive/My Drive/RAW/RAW_Batch1/JPEG_2019_06_14_10_10_23_261.jpg': ['41', '201906141010'], '/content/gdrive/My Drive/RAW/RAW_Batch1/JPEG_2019_06_14_10_03_08_512.jpg': ['44', '201906141003'], '/content/gdrive/My Drive/RAW/RAW_Batch1/JPEG_2019_06_14_09_58_07_035.jpg': ['41', '201906140958'], '/content/gdrive/My Drive/RAW/RAW_Batch1/JPEG_2019_06_14_09_53_06_706.jpg': ['50', '201906140953'], '/content/gdrive/My Drive/RAW/RAW_Batch1/JPEG_2019_06_12_19_26_07_729.jpg': ['41', '201906121926'], '/content/gdrive/My Drive/RAW/RAW_Batch1/JPEG_2019_06_12_19_20_47_601.jpg': ['50', '201906121920'], '/content/gdrive/My Drive/RAW/RAW_Batch1/JPEG_2019_06_12_19_16_07_241.jpg': ['63', '201906121916'], '/content/gdrive/My Drive/RAW/RAW_Batch1/JPEG_2019_06_12_19_10_57_138.jpg': ['75', '201906121910'], '/content/gdrive/My Drive/RAW/RAW_Batch1/JPEG_2019_06_12_18_54_19_247.jpg': ['47', '201906121854'], '/content/gdrive/My Drive/RAW/RAW_Batch1/JPEG_2019_06_12_18_46_07_961.jpg': ['47', '201906121846'], '/content/gdrive/My Drive/RAW/RAW_Batch1/JPEG_2019_06_12_18_41_07_328.jpg': ['47', '201906121841'], '/content/gdrive/My Drive/RAW/RAW_Batch1/JPEG_2019_06_12_18_36_25_418.jpg': ['47', '201906121836'], '/content/gdrive/My Drive/RAW/RAW_Batch1/JPEG_2019_06_12_18_31_07_137.jpg': ['47', '201906121831'], '/content/gdrive/My Drive/RAW/RAW_Batch1/JPEG_2019_06_12_18_26_29_992.jpg': ['44', '201906121826'], '/content/gdrive/My Drive/RAW/RAW_Batch1/JPEG_2019_06_12_18_23_44_176.jpg': ['44', '201906121823'], '/content/gdrive/My Drive/RAW/RAW_Batch1/JPEG_2019_06_12_18_16_07_743.jpg': ['44', '201906121816'], '/content/gdrive/My Drive/RAW/RAW_Batch1/JPEG_2019_06_12_18_11_40_577.jpg': ['44', '201906121811'], '/content/gdrive/My Drive/RAW/RAW_Batch1/JPEG_2019_06_12_17_31_08_046.jpg': ['44', '201906121731'], '/content/gdrive/My Drive/RAW/RAW_Batch1/JPEG_2019_06_12_17_26_30_666.jpg': ['44', '201906121726'], '/content/gdrive/My Drive/RAW/RAW_Batch1/JPEG_2019_06_12_17_16_39_150.jpg': ['44', '201906121716'], '/content/gdrive/My Drive/RAW/RAW_Batch1/JPEG_2019_06_12_17_11_28_688.jpg': ['44', '201906121711'], '/content/gdrive/My Drive/RAW/RAW_Batch1/JPEG_2019_06_12_17_06_06_902.jpg': ['44', '201906121706'], '/content/gdrive/My Drive/RAW/RAW_Batch1/JPEG_2019_06_12_17_00_47_595.jpg': ['47', '201906121700'], '/content/gdrive/My Drive/RAW/RAW_Batch1/JPEG_2019_06_12_16_56_17_588.jpg': ['44', '201906121656'], '/content/gdrive/My Drive/RAW/RAW_Batch1/JPEG_2019_06_12_16_54_17_010.jpg': ['44', '201906121654'], '/content/gdrive/My Drive/RAW/RAW_Batch1/JPEG_2019_06_12_16_46_29_133.jpg': ['44', '201906121646'], '/content/gdrive/My Drive/RAW/RAW_Batch1/JPEG_2019_06_12_16_41_19_787.jpg': ['44', '201906121641'], '/content/gdrive/My Drive/RAW/RAW_Batch1/JPEG_2019_06_12_16_37_06_947.jpg': ['44', '201906121637'], '/content/gdrive/My Drive/RAW/RAW_Batch1/JPEG_2019_06_12_16_31_41_028.jpg': ['44', '201906121631'], '/content/gdrive/My Drive/RAW/RAW_Batch1/JPEG_2019_06_12_16_26_30_440.jpg': ['41', '201906121626'], '/content/gdrive/My Drive/RAW/RAW_Batch1/JPEG_2019_06_12_16_20_47_659.jpg': ['44', '201906121620'], '/content/gdrive/My Drive/RAW/RAW_Batch1/JPEG_2019_06_12_16_16_06_886.jpg': ['44', '201906121616'], '/content/gdrive/My Drive/RAW/RAW_Batch1/JPEG_2019_06_12_16_10_47_604.jpg': ['44', '201906121610'], '/content/gdrive/My Drive/RAW/RAW_Batch1/JPEG_2019_06_12_16_05_47_625.jpg': ['47', '201906121605'], '/content/gdrive/My Drive/RAW/RAW_Batch1/JPEG_2019_06_12_16_03_06_807.jpg': ['47', '201906121603'], '/content/gdrive/My Drive/RAW/RAW_Batch1/JPEG_2019_06_12_15_57_07_178.jpg': ['47', '201906121557'], '/content/gdrive/My Drive/RAW/RAW_Batch1/JPEG_2019_06_12_15_51_18_469.jpg': ['47', '201906121551'], '/content/gdrive/My Drive/RAW/RAW_Batch1/JPEG_2019_06_12_15_46_07_986.jpg': ['50', '201906121546'], '/content/gdrive/My Drive/RAW/RAW_Batch1/JPEG_2019_06_12_15_41_06_978.jpg': ['50', '201906121541'], '/content/gdrive/My Drive/RAW/RAW_Batch1/JPEG_2019_06_12_15_36_08_093.jpg': ['50', '201906121536'], '/content/gdrive/My Drive/RAW/RAW_Batch1/JPEG_2019_06_12_15_32_06_691.jpg': ['50', '201906121532'], '/content/gdrive/My Drive/RAW/RAW_Batch1/JPEG_2019_06_12_15_26_08_488.jpg': ['50', '201906121526'], '/content/gdrive/My Drive/RAW/RAW_Batch1/JPEG_2019_06_12_15_25_18_412.jpg': ['50', '201906121525'], '/content/gdrive/My Drive/RAW/RAW_Batch1/JPEG_2019_06_12_15_22_06_881.jpg': ['50', '201906121522'], '/content/gdrive/My Drive/RAW/RAW_Batch1/JPEG_2019_06_12_15_18_06_869.jpg': ['50', '201906121518'], '/content/gdrive/My Drive/RAW/RAW_Batch1/JPEG_2019_06_12_15_12_12_377.jpg': ['50', '201906121512'], '/content/gdrive/My Drive/RAW/RAW_Batch1/JPEG_2019_06_12_15_06_55_115.jpg': ['50', '201906121506'], '/content/gdrive/My Drive/RAW/RAW_Batch1/JPEG_2019_06_12_15_04_10_643.jpg': ['53', '201906121504'], '/content/gdrive/My Drive/RAW/RAW_Batch1/JPEG_2019_06_12_14_57_07_639.jpg': ['53', '201906121457'], '/content/gdrive/My Drive/RAW/RAW_Batch1/JPEG_2019_06_12_14_55_07_203.jpg': ['53', '201906121455'], '/content/gdrive/My Drive/RAW/RAW_Batch1/JPEG_2019_06_12_14_49_06_987.jpg': ['53', '201906121449'], '/content/gdrive/My Drive/RAW/RAW_Batch1/JPEG_2019_06_12_14_43_33_234.jpg': ['53', '201906121443'], '/content/gdrive/My Drive/RAW/RAW_Batch1/JPEG_2019_06_12_14_37_06_911.jpg': ['53', '201906121437'], '/content/gdrive/My Drive/RAW/RAW_Batch1/JPEG_2019_06_12_14_33_06_935.jpg': ['53', '201906121433'], '/content/gdrive/My Drive/RAW/RAW_Batch1/JPEG_2019_06_12_14_27_30_233.jpg': ['53', '201906121427'], '/content/gdrive/My Drive/RAW/RAW_Batch1/JPEG_2019_06_12_14_21_55_537.jpg': ['56', '201906121421'], '/content/gdrive/My Drive/RAW/RAW_Batch1/JPEG_2019_06_12_14_17_29_159.jpg': ['56', '201906121417'], '/content/gdrive/My Drive/RAW/RAW_Batch1/JPEG_2019_06_12_14_15_28_428.jpg': ['56', '201906121415'], '/content/gdrive/My Drive/RAW/RAW_Batch1/JPEG_2019_06_12_14_08_48_190.jpg': ['57', '201906121408'], '/content/gdrive/My Drive/RAW/RAW_Batch1/JPEG_2019_06_12_14_01_55_350.jpg': ['58', '201906121401'], '/content/gdrive/My Drive/RAW/RAW_Batch1/JPEG_2019_06_12_13_57_44_229.jpg': ['57', '201906121357'], '/content/gdrive/My Drive/RAW/RAW_Batch1/JPEG_2019_06_12_13_52_07_423.jpg': ['57', '201906121352'], '/content/gdrive/My Drive/RAW/RAW_Batch1/JPEG_2019_06_12_13_48_07_068.jpg': ['58', '201906121348'], '/content/gdrive/My Drive/RAW/RAW_Batch1/JPEG_2019_06_12_13_42_05_989.jpg': ['58', '201906121342'], '/content/gdrive/My Drive/RAW/RAW_Batch1/JPEG_2019_06_12_13_36_55_399.jpg': ['61', '201906121336'], '/content/gdrive/My Drive/RAW/RAW_Batch1/JPEG_2019_06_12_13_32_15_485.jpg': ['60', '201906121332'], '/content/gdrive/My Drive/RAW/RAW_Batch1/JPEG_2019_06_12_13_30_06_953.jpg': ['60', '201906121330'], '/content/gdrive/My Drive/RAW/RAW_Batch1/JPEG_2019_06_12_13_24_46_012.jpg': ['60', '201906121324'], '/content/gdrive/My Drive/RAW/RAW_Batch1/JPEG_2019_06_12_13_17_07_013.jpg': ['64', '201906121317'], '/content/gdrive/My Drive/RAW/RAW_Batch1/JPEG_2019_06_12_13_13_49_350.jpg': ['63', '201906121313'], '/content/gdrive/My Drive/RAW/RAW_Batch1/JPEG_2019_06_12_13_07_13_904.jpg': ['64', '201906121307'], '/content/gdrive/My Drive/RAW/RAW_Batch1/JPEG_2019_06_12_13_03_06_875.jpg': ['63', '201906121303'], '/content/gdrive/My Drive/RAW/RAW_Batch1/JPEG_2019_06_12_12_57_06_252.jpg': ['61', '201906121257'], '/content/gdrive/My Drive/RAW/RAW_Batch1/JPEG_2019_06_12_12_51_55_376.jpg': ['61', '201906121251'], '/content/gdrive/My Drive/RAW/RAW_Batch1/JPEG_2019_06_12_12_47_14_066.jpg': ['64', '201906121247'], '/content/gdrive/My Drive/RAW/RAW_Batch1/JPEG_2019_06_12_12_44_49_874.jpg': ['63', '201906121244'], '/content/gdrive/My Drive/RAW/RAW_Batch1/JPEG_2019_06_12_12_37_14_206.jpg': ['61', '201906121237'], '/content/gdrive/My Drive/RAW/RAW_Batch1/JPEG_2019_06_12_12_35_06_796.jpg': ['61', '201906121235'], '/content/gdrive/My Drive/RAW/RAW_Batch1/JPEG_2019_06_12_12_29_06_708.jpg': ['61', '201906121229'], '/content/gdrive/My Drive/RAW/RAW_Batch1/JPEG_2019_06_12_12_23_21_942.jpg': ['60', '201906121223'], '/content/gdrive/My Drive/RAW/RAW_Batch1/JPEG_2019_06_12_12_18_07_060.jpg': ['57', '201906121218'], '/content/gdrive/My Drive/RAW/RAW_Batch1/JPEG_2019_06_12_12_12_07_221.jpg': ['57', '201906121212'], '/content/gdrive/My Drive/RAW/RAW_Batch1/JPEG_2019_06_12_12_06_55_679.jpg': ['53', '201906121206'], '/content/gdrive/My Drive/RAW/RAW_Batch1/JPEG_2019_06_12_12_02_30_447.jpg': ['47', '201906121202'], '/content/gdrive/My Drive/RAW/RAW_Batch1/JPEG_2019_06_12_12_00_29_553.jpg': ['50', '201906121200'], '/content/gdrive/My Drive/RAW/RAW_Batch1/JPEG_2019_06_12_11_52_08_027.jpg': ['53', '201906121152'], '/content/gdrive/My Drive/RAW/RAW_Batch1/JPEG_2019_06_12_11_50_06_889.jpg': ['44', '201906121150'], '/content/gdrive/My Drive/RAW/RAW_Batch1/JPEG_2019_06_12_11_44_40_339.jpg': ['41', '201906121144'], '/content/gdrive/My Drive/RAW/RAW_Batch1/JPEG_2019_06_12_11_37_07_043.jpg': ['47', '201906121137'], '/content/gdrive/My Drive/RAW/RAW_Batch1/JPEG_2019_06_12_11_34_06_990.jpg': ['50', '201906121134'], '/content/gdrive/My Drive/RAW/RAW_Batch1/JPEG_2019_06_12_11_28_27_345.jpg': ['47', '201906121128'], '/content/gdrive/My Drive/RAW/RAW_Batch1/JPEG_2019_06_12_11_23_08_637.jpg': ['44', '201906121123'], '/content/gdrive/My Drive/RAW/RAW_Batch1/JPEG_2019_06_12_11_18_06_939.jpg': ['44', '201906121118'], '/content/gdrive/My Drive/RAW/RAW_Batch1/JPEG_2019_06_12_11_12_29_383.jpg': ['38', '201906121112'], '/content/gdrive/My Drive/RAW/RAW_Batch1/JPEG_2019_06_12_11_10_28_709.jpg': ['38', '201906121110'], '/content/gdrive/My Drive/RAW/RAW_Batch1/JPEG_2019_06_12_11_02_07_692.jpg': ['35', '201906121102'], '/content/gdrive/My Drive/RAW/RAW_Batch1/JPEG_2019_06_12_10_59_27_038.jpg': ['35', '201906121059'], '/content/gdrive/My Drive/RAW/RAW_Batch1/JPEG_2019_06_12_10_53_07_482.jpg': ['35', '201906121053'], '/content/gdrive/My Drive/RAW/RAW_Batch1/JPEG_2019_06_12_10_48_54_808.jpg': ['35', '201906121048'], '/content/gdrive/My Drive/RAW/RAW_Batch1/JPEG_2019_06_12_10_44_07_017.jpg': ['29', '201906121044'], '/content/gdrive/My Drive/RAW/RAW_Batch1/JPEG_2019_06_12_10_38_07_053.jpg': ['32', '201906121038'], '/content/gdrive/My Drive/RAW/RAW_Batch1/JPEG_2019_06_12_10_32_29_910.jpg': ['32', '201906121032'], '/content/gdrive/My Drive/RAW/RAW_Batch1/JPEG_2019_06_12_10_27_07_224.jpg': ['32', '201906121027'], '/content/gdrive/My Drive/RAW/RAW_Batch1/JPEG_2019_06_12_10_21_55_363.jpg': ['32', '201906121021'], '/content/gdrive/My Drive/RAW/RAW_Batch1/JPEG_2019_06_12_10_17_29_084.jpg': ['32', '201906121017'], '/content/gdrive/My Drive/RAW/RAW_Batch1/JPEG_2019_06_12_10_15_28_353.jpg': ['32', '201906121015'], '/content/gdrive/My Drive/RAW/RAW_Batch1/JPEG_2019_06_12_10_08_17_687.jpg': ['29', '201906121008'], '/content/gdrive/My Drive/RAW/RAW_Batch1/JPEG_2019_06_12_10_02_07_155.jpg': ['32', '201906121002'], '/content/gdrive/My Drive/RAW/RAW_Batch1/JPEG_2019_06_12_09_58_07_621.jpg': ['32', '201906120958'], '/content/gdrive/My Drive/RAW/RAW_Batch1/JPEG_2019_06_12_09_53_07_028.jpg': ['35', '201906120953'], '/content/gdrive/My Drive/RAW/RAW_Batch1/JPEG_2019_06_12_09_46_55_327.jpg': ['41', '201906120946'], '/content/gdrive/My Drive/RAW/RAW_Batch1/JPEG_2019_06_12_09_41_55_287.jpg': ['41', '201906120941'], '/content/gdrive/My Drive/RAW/RAW_Batch1/JPEG_2019_06_12_09_37_08_457.jpg': ['44', '201906120937'], '/content/gdrive/My Drive/RAW/RAW_Batch1/JPEG_2019_06_12_09_35_27_802.jpg': ['41', '201906120935'], '/content/gdrive/My Drive/RAW/RAW_Batch1/JPEG_2019_06_12_09_26_08_591.jpg': ['41', '201906120926'], '/content/gdrive/My Drive/RAW/RAW_Batch1/JPEG_2019_06_12_09_21_51_978.jpg': ['47', '201906120921'], '/content/gdrive/My Drive/RAW/RAW_Batch1/JPEG_2019_06_12_09_16_28_531.jpg': ['44', '201906120916'], '/content/gdrive/My Drive/RAW/RAW_Batch1/JPEG_2019_06_12_09_11_27_628.jpg': ['50', '201906120911'], '/content/gdrive/My Drive/RAW/RAW_Batch1/JPEG_2019_06_12_09_09_17_574.jpg': ['50', '201906120909'], '/content/gdrive/My Drive/RAW/RAW_Batch1/JPEG_2019_06_12_09_04_06_908.jpg': ['57', '201906120904'], '/content/gdrive/My Drive/RAW/RAW_Batch1/JPEG_2019_06_12_08_58_07_011.jpg': ['58', '201906120858'], '/content/gdrive/My Drive/RAW/RAW_Batch1/JPEG_2019_06_12_08_52_27_672.jpg': ['60', '201906120852'], '/content/gdrive/My Drive/RAW/RAW_Batch1/JPEG_2019_06_12_08_46_27_603.jpg': ['64', '201906120846'], '/content/gdrive/My Drive/RAW/RAW_Batch1/JPEG_2019_06_12_08_42_06_961.jpg': ['60', '201906120842'], '/content/gdrive/My Drive/RAW/RAW_Batch1/JPEG_2019_06_12_08_36_27_462.jpg': ['58', '201906120836'], '/content/gdrive/My Drive/RAW/RAW_Batch1/JPEG_2019_06_12_08_33_39_812.jpg': ['56', '201906120833'], '/content/gdrive/My Drive/RAW/RAW_Batch1/JPEG_2019_06_12_08_26_28_843.jpg': ['50', '201906120826'], '/content/gdrive/My Drive/RAW/RAW_Batch1/JPEG_2019_06_12_08_23_06_758.jpg': ['57', '201906120823'], '/content/gdrive/My Drive/RAW/RAW_Batch1/JPEG_2019_06_12_08_17_06_913.jpg': ['53', '201906120817'], '/content/gdrive/My Drive/RAW/RAW_Batch1/JPEG_2019_06_12_08_11_27_628.jpg': ['44', '201906120811'], '/content/gdrive/My Drive/RAW/RAW_Batch1/JPEG_2019_06_12_08_08_48_563.jpg': ['47', '201906120808'], '/content/gdrive/My Drive/RAW/RAW_Batch1/JPEG_2019_06_12_08_01_40_242.jpg': ['47', '201906120801'], '/content/gdrive/My Drive/RAW/RAW_Batch1/JPEG_2019_06_12_07_58_27_594.jpg': ['41', '201906120758'], '/content/gdrive/My Drive/RAW/RAW_Batch1/JPEG_2019_06_12_07_52_07_464.jpg': ['41', '201906120752'], '/content/gdrive/My Drive/RAW/RAW_Batch1/JPEG_2019_06_12_07_48_06_969.jpg': ['44', '201906120748'], '/content/gdrive/My Drive/RAW/RAW_Batch1/JPEG_2019_06_12_07_42_06_880.jpg': ['47', '201906120742'], '/content/gdrive/My Drive/RAW/RAW_Batch1/JPEG_2019_06_12_07_36_27_617.jpg': ['50', '201906120736'], '/content/gdrive/My Drive/RAW/RAW_Batch1/JPEG_2019_06_12_07_34_46_889.jpg': ['56', '201906120734'], '/content/gdrive/My Drive/RAW/RAW_Batch1/JPEG_2019_06_12_07_26_27_608.jpg': ['60', '201906120726'], '/content/gdrive/My Drive/RAW/RAW_Batch1/JPEG_2019_06_12_06_46_48_628.jpg': ['91', '201906120646'], '/content/gdrive/My Drive/RAW/RAW_Batch1/JPEG_2019_06_12_06_41_38_040.jpg': ['94', '201906120641'], '/content/gdrive/My Drive/RAW/RAW_Batch1/JPEG_2019_06_12_06_36_27_579.jpg': ['94', '201906120636'], '/content/gdrive/My Drive/RAW/RAW_Batch1/JPEG_2019_06_12_06_31_27_618.jpg': ['90', '201906120631'], '/content/gdrive/My Drive/RAW/RAW_Batch1/JPEG_2019_06_12_06_26_27_588.jpg': ['87', '201906120626'], '/content/gdrive/My Drive/RAW/RAW_Batch1/JPEG_2019_06_12_07_24_26_431.jpg': ['61', '201906120724'], '/content/gdrive/My Drive/RAW/RAW_Batch1/JPEG_2019_06_12_07_18_25_421.jpg': ['60', '201906120718'], '/content/gdrive/My Drive/RAW/RAW_Batch1/JPEG_2019_06_12_07_12_14_445.jpg': ['64', '201906120712'], '/content/gdrive/My Drive/RAW/RAW_Batch1/JPEG_2019_06_12_07_07_37_396.jpg': ['66', '201906120707'], '/content/gdrive/My Drive/RAW/RAW_Batch1/JPEG_2019_06_12_07_01_27_620.jpg': ['76', '201906120701'], '/content/gdrive/My Drive/RAW/RAW_Batch1/JPEG_2019_06_12_06_23_17_311.jpg': ['87', '201906120623'], '/content/gdrive/My Drive/RAW/RAW_Batch1/JPEG_2019_06_12_06_18_41_011.jpg': ['85', '201906120618'], '/content/gdrive/My Drive/RAW/RAW_Batch1/JPEG_2019_06_12_06_11_29_809.jpg': ['79', '201906120611'], '/content/gdrive/My Drive/RAW/RAW_Batch1/JPEG_2019_06_12_06_08_06_967.jpg': ['78', '201906120608'], '/content/gdrive/My Drive/RAW/RAW_Batch1/JPEG_2019_06_12_06_01_32_129.jpg': ['75', '201906120601'], '/content/gdrive/My Drive/RAW/RAW_Batch1/JPEG_2019_06_12_05_56_38_280.jpg': ['67', '201906120556'], '/content/gdrive/My Drive/RAW/RAW_Batch1/JPEG_2019_06_12_05_51_27_692.jpg': ['60', '201906120551'], '/content/gdrive/My Drive/RAW/RAW_Batch1/JPEG_2019_06_12_05_48_06_940.jpg': ['58', '201906120548'], '/content/gdrive/My Drive/RAW/RAW_Batch1/JPEG_2019_06_12_06_56_46_862.jpg': ['75', '201906120656'], '/content/gdrive/My Drive/RAW/RAW_Batch1/JPEG_2019_06_12_06_52_06_934.jpg': ['79', '201906120652'], '/content/gdrive/My Drive/RAW/RAW_Batch1/JPEG_2019_06_12_05_41_27_585.jpg': ['56', '201906120541'], '/content/gdrive/My Drive/RAW/RAW_Batch1/JPEG_2019_06_12_05_36_27_450.jpg': ['35', '201906120536'], '/content/gdrive/My Drive/RAW/RAW_Batch1/JPEG_2019_06_12_05_34_42_942.jpg': ['32', '201906120534'], '/content/gdrive/My Drive/RAW/RAW_Batch1/JPEG_2019_06_11_19_14_32_358.jpg': ['38', '201906111914'], '/content/gdrive/My Drive/RAW/RAW_Batch1/JPEG_2019_06_11_19_07_06_983.jpg': ['41', '201906111907'], '/content/gdrive/My Drive/RAW/RAW_Batch1/JPEG_2019_06_11_18_57_32_569.jpg': ['32', '201906111857'], '/content/gdrive/My Drive/RAW/RAW_Batch1/JPEG_2019_06_11_18_49_32_353.jpg': ['32', '201906111849'], '/content/gdrive/My Drive/RAW/RAW_Batch1/JPEG_2019_06_11_18_45_29_030.jpg': ['32', '201906111845'], '/content/gdrive/My Drive/RAW/RAW_Batch1/JPEG_2019_06_11_18_39_46_198.jpg': ['29', '201906111839'], '/content/gdrive/My Drive/RAW/RAW_Batch1/JPEG_2019_06_11_18_34_35_794.jpg': ['29', '201906111834'], '/content/gdrive/My Drive/RAW/RAW_Batch1/JPEG_2019_06_11_18_29_32_348.jpg': ['29', '201906111829']}\n"
          ],
          "name": "stdout"
        }
      ]
    },
    {
      "cell_type": "code",
      "metadata": {
        "id": "TBqFIsZc2Jbv",
        "colab_type": "code",
        "colab": {
          "base_uri": "https://localhost:8080/",
          "height": 235
        },
        "outputId": "0b80dd58-dc01-47ed-e034-e0d43d4c9b6e"
      },
      "source": [
        "\n",
        "      "
      ],
      "execution_count": 187,
      "outputs": [
        {
          "output_type": "error",
          "ename": "KeyError",
          "evalue": "ignored",
          "traceback": [
            "\u001b[0;31m---------------------------------------------------------------------------\u001b[0m",
            "\u001b[0;31mKeyError\u001b[0m                                  Traceback (most recent call last)",
            "\u001b[0;32m<ipython-input-187-09a524879274>\u001b[0m in \u001b[0;36m<module>\u001b[0;34m()\u001b[0m\n\u001b[1;32m      5\u001b[0m     \u001b[0mw\u001b[0m\u001b[0;34m=\u001b[0m\u001b[0mstr\u001b[0m\u001b[0;34m(\u001b[0m\u001b[0mw\u001b[0m\u001b[0;34m)\u001b[0m\u001b[0;34m\u001b[0m\u001b[0;34m\u001b[0m\u001b[0m\n\u001b[1;32m      6\u001b[0m     \u001b[0;32mif\u001b[0m\u001b[0;34m(\u001b[0m\u001b[0mstr\u001b[0m\u001b[0;34m(\u001b[0m\u001b[0mw\u001b[0m\u001b[0;34m[\u001b[0m\u001b[0;34m:\u001b[0m\u001b[0;34m-\u001b[0m\u001b[0;36m2\u001b[0m\u001b[0;34m]\u001b[0m\u001b[0;34m)\u001b[0m\u001b[0;34m==\u001b[0m\u001b[0mstr\u001b[0m\u001b[0;34m(\u001b[0m\u001b[0mtemp\u001b[0m\u001b[0;34m)\u001b[0m\u001b[0;34m)\u001b[0m\u001b[0;34m:\u001b[0m\u001b[0;34m\u001b[0m\u001b[0;34m\u001b[0m\u001b[0m\n\u001b[0;32m----> 7\u001b[0;31m       \u001b[0msuper_final\u001b[0m\u001b[0;34m[\u001b[0m\u001b[0mkey\u001b[0m\u001b[0;34m]\u001b[0m\u001b[0;34m=\u001b[0m\u001b[0mw_features\u001b[0m\u001b[0;34m[\u001b[0m\u001b[0mw\u001b[0m\u001b[0;34m]\u001b[0m\u001b[0;34m\u001b[0m\u001b[0;34m\u001b[0m\u001b[0m\n\u001b[0m\u001b[1;32m      8\u001b[0m \u001b[0;34m\u001b[0m\u001b[0m\n\u001b[1;32m      9\u001b[0m \u001b[0mprint\u001b[0m\u001b[0;34m(\u001b[0m\u001b[0mlen\u001b[0m\u001b[0;34m(\u001b[0m\u001b[0msuper_final\u001b[0m\u001b[0;34m)\u001b[0m\u001b[0;34m)\u001b[0m\u001b[0;34m\u001b[0m\u001b[0;34m\u001b[0m\u001b[0m\n",
            "\u001b[0;31mKeyError\u001b[0m: '201906141800'"
          ]
        }
      ]
    },
    {
      "cell_type": "code",
      "metadata": {
        "id": "eFSXkaqFNbJW",
        "colab_type": "code",
        "colab": {}
      },
      "source": [
        "def contrast(image):\n",
        "  image = cv2.cvtColor(image, cv2.COLOR_BGR2GRAY)\n",
        "  s = 0\n",
        "  ss = 0\n",
        "  mean = np.mean(image)\n",
        "  x = (-1 * mean * (np.ones(image.shape)))\n",
        "  ss = np.square(np.add(image, x))\n",
        "  cont = np.sqrt(np.sum(ss)/float(image.size))\n",
        "  return cont"
      ],
      "execution_count": 0,
      "outputs": []
    },
    {
      "cell_type": "code",
      "metadata": {
        "id": "n-E2UCqQNdtL",
        "colab_type": "code",
        "colab": {}
      },
      "source": [
        "def entropy(image):\n",
        "  image = cv2.cvtColor(image, cv2.COLOR_BGR2GRAY)\n",
        "  hist = cv2.calcHist( [image.astype('float32')],\n",
        "              [0], \n",
        "              None,\n",
        "               [256], \n",
        "              [0,256] )\n",
        "  h_norm = 0\n",
        "  h_norm = cv2.normalize(hist, h_norm)\n",
        "  ent = 0\n",
        "  for p in h_norm:\n",
        "    try:\n",
        "      ent += p*math.log(p, 2)\n",
        "    except:\n",
        "      pass\n",
        "  return (-1 * ent[0])"
      ],
      "execution_count": 0,
      "outputs": []
    },
    {
      "cell_type": "code",
      "metadata": {
        "id": "gx_cGVqPNgMW",
        "colab_type": "code",
        "colab": {}
      },
      "source": [
        "trans_jpg=[]\n",
        "for img in images_jpg:\n",
        "  k=transmission(img, retMean= True)\n",
        "  trans_jpg.append(k)\n",
        "  print(k)\n",
        "  \n",
        "  \n",
        "print(len(trans_jpg))\n",
        "\n"
      ],
      "execution_count": 0,
      "outputs": []
    },
    {
      "cell_type": "code",
      "metadata": {
        "id": "4mqA1EJIPwvo",
        "colab_type": "code",
        "colab": {}
      },
      "source": [
        "contrast_jpg=[]\n",
        "for img in images_jpg: \n",
        "  k=contrast(img)\n",
        "  print(k)\n",
        "  contrast_jpg.append(k)"
      ],
      "execution_count": 0,
      "outputs": []
    },
    {
      "cell_type": "code",
      "metadata": {
        "id": "wgg3KuU1P_i4",
        "colab_type": "code",
        "colab": {}
      },
      "source": [
        "entropy_jpg=[]\n",
        "for img in images_jpg: \n",
        "  k=entropy(img)\n",
        "  print(k)\n",
        "  entropy_jpg.append(k)"
      ],
      "execution_count": 0,
      "outputs": []
    },
    {
      "cell_type": "markdown",
      "metadata": {
        "id": "svAihxqiDInQ",
        "colab_type": "text"
      },
      "source": [
        ""
      ]
    },
    {
      "cell_type": "code",
      "metadata": {
        "id": "be_2_WtCt8yG",
        "colab_type": "code",
        "colab": {
          "base_uri": "https://localhost:8080/",
          "height": 72
        },
        "outputId": "57c3a717-a741-41f5-f632-7c43a280e48c"
      },
      "source": [
        "#!pip install urlopen\n",
        "import json \n",
        "import requests \n",
        "import urlopen\n",
        "from pandas.io.json import json_normalize\n",
        "\n",
        "with open('/content/weather_historic.json') as file: \n",
        "  data=json.load(file)\n",
        "  store=data[\"data\"]\n",
        "  table=json_normalize(store['weather'])\n",
        "  \n",
        "  \n",
        "values=table.values  \n",
        "date=[]\n",
        "\n",
        "for i in range(0,9,1):\n",
        "  dummy = values[i][3]\n",
        "  dummy= dummy.split('-')\n",
        "  dummy = str(dummy[0]) + str(dummy[1]) + str(dummy[2])\n",
        "  date.append(dummy)\n",
        "\n",
        "\n",
        "final=[]\n",
        "for key in date:\n",
        "  for j in range(0, 24, 1):\n",
        "    temp = values[i][4][j]\n",
        "    hr = int(temp['time'])\n",
        "    if(hr<=900 and hr!=0):\n",
        "      hr='0'+ str(hr)\n",
        "    if(hr==0):\n",
        "      hr='000'+ str(hr)\n",
        "    final.append(hr)\n",
        "    hr=[]\n",
        "    \n",
        "hour = final[:24]\n",
        "# print(hour)\n",
        "# print(len(hour))\n",
        "\n",
        "date = list(map(int,date))\n",
        "# print(date)\n",
        "# print(len(date))\n",
        "# print(hour)\n",
        "\n",
        "time_weather=[]\n",
        "for day in date:\n",
        "  for h in hour:\n",
        "    time_weather.append(str(day)+str(h))\n",
        "\n",
        "    \n",
        "print(len(time_weather))\n",
        "  \n",
        "\n",
        "\n",
        "temp=[]\n",
        "ws=[]\n",
        "wd=[]\n",
        "prec=[]\n",
        "hdty=[]\n",
        "vis=[]\n",
        "pressure=[]\n",
        "cc=[]\n",
        "dp=[]\n",
        "\n",
        "for i in range(0,9,1):\n",
        "  for j in range(0,24,1):\n",
        "    temp.append(values[i][4][j]['tempC'])\n",
        "    ws.append(values[i][4][j]['windspeedKmph'])\n",
        "    wd.append(values[i][4][j]['winddirDegree'])\n",
        "    prec.append(values[i][4][j]['precipMM'])\n",
        "    hdty.append(values[i][4][j]['humidity'])\n",
        "    vis.append(values[i][4][j]['visibility'])\n",
        "    pressure.append(values[i][4][j]['pressure'])\n",
        "    cc.append(values[i][4][j]['cloudcover'])\n",
        "    dp.append(values[i][4][j]['DewPointC'])\n",
        "   \n",
        "\n",
        "w_features={}\n",
        "for i in range(0,216):\n",
        "  val=[]\n",
        "  val.append(int(temp[i]))\n",
        "  val.append(int(ws[i]))\n",
        "  val.append(int(wd[i]))\n",
        "  val.append(float(prec[i]))\n",
        "  val.append(int(hdty[i]))\n",
        "  val.append(int(vis[i]))\n",
        "  val.append(int(pressure[i]))\n",
        "  val.append(int(cc[i]))\n",
        "  val.append(int(dp[i]))\n",
        "  w_features[(int(time_weather[i]))]=val\n",
        "  \n",
        "print(w_features)\n",
        "\n",
        "\n",
        "\n",
        "time_weather = list(map(int,time_weather))\n",
        "time_weather = np.reshape(time_weather, (216,1))\n",
        "temp = list(map(int,temp))\n",
        "temp = np.reshape(temp, (216,1))\n",
        "ws = list(map(int,ws))\n",
        "ws = np.reshape(ws, (216,1))\n",
        "wd = list(map(int,wd))\n",
        "wd = np.reshape(wd, (216,1))\n",
        "prec = list(map(float,prec))\n",
        "prec = np.reshape(prec, (216,1))\n",
        "hdty = list(map(int,hdty))\n",
        "hdty = np.reshape(hdty, (216,1))\n",
        "vis = list(map(int,vis))\n",
        "vis = np.reshape(vis, (216,1))\n",
        "pressure = list(map(int,pressure))\n",
        "pressure = np.reshape(pressure, (216,1))\n",
        "\n",
        "# print(vis)\n",
        "# print(len(vis))\n",
        "# print(pressure)\n",
        "# print(len(pressure))\n",
        "# print(cc)\n",
        "# print(len(cc))\n",
        "# print(dp)\n",
        "# # print(len(dp))\n",
        "\n",
        "# value = np.hstack((time_weather, temp, ws, wd, prec, hdty, vis, pressure ))\n"
      ],
      "execution_count": 145,
      "outputs": [
        {
          "output_type": "stream",
          "text": [
            "216\n",
            "{201906110000: [44, 13, 286, 0.0, 8, 10, 992, 4, 2], 201906110100: [43, 11, 292, 0.0, 8, 10, 992, 9, 2], 201906110200: [42, 9, 298, 0.0, 9, 10, 992, 15, 2], 201906110300: [42, 8, 304, 0.0, 9, 10, 992, 20, 3], 201906110400: [41, 8, 300, 0.0, 10, 10, 993, 25, 3], 201906110500: [41, 8, 296, 0.0, 10, 10, 993, 30, 3], 201906110600: [40, 9, 292, 0.0, 10, 10, 994, 35, 3], 201906110700: [41, 9, 299, 0.0, 10, 10, 994, 31, 3], 201906110800: [42, 9, 306, 0.0, 9, 10, 995, 27, 3], 201906110900: [43, 9, 313, 0.0, 9, 10, 995, 23, 2], 201906111000: [44, 11, 314, 0.0, 8, 10, 995, 30, 2], 201906111100: [45, 12, 316, 0.0, 7, 10, 995, 36, 1], 201906111200: [47, 14, 318, 0.0, 6, 10, 994, 43, 1], 201906111300: [47, 14, 312, 0.0, 6, 10, 993, 40, 1], 201906111400: [47, 15, 306, 0.0, 6, 10, 993, 38, 1], 201906111500: [48, 15, 299, 0.0, 6, 10, 992, 36, 1], 201906111600: [47, 14, 295, 0.0, 6, 11, 992, 37, 1], 201906111700: [47, 14, 291, 0.0, 7, 12, 991, 38, 2], 201906111800: [47, 14, 286, 0.0, 7, 13, 991, 39, 2], 201906111900: [46, 13, 281, 0.0, 8, 16, 992, 55, 3], 201906112000: [45, 12, 276, 0.0, 8, 18, 992, 71, 4], 201906112100: [45, 10, 271, 0.0, 9, 20, 992, 87, 5], 201906112200: [44, 12, 268, 0.0, 11, 20, 993, 80, 6], 201906112300: [43, 13, 265, 0.0, 13, 20, 993, 74, 8], 201906120000: [42, 14, 262, 0.0, 15, 20, 994, 67, 10], 201906120100: [41, 15, 261, 0.0, 18, 20, 994, 53, 11], 201906120200: [40, 16, 260, 0.0, 20, 20, 994, 39, 13], 201906120300: [40, 17, 259, 0.0, 23, 20, 994, 24, 14], 201906120400: [40, 16, 251, 0.0, 23, 20, 995, 18, 15], 201906120500: [39, 15, 242, 0.0, 24, 20, 995, 13, 15], 201906120600: [39, 13, 234, 0.0, 24, 20, 996, 7, 15], 201906120700: [40, 14, 196, 0.0, 25, 20, 997, 6, 16], 201906120800: [41, 14, 158, 0.0, 25, 20, 997, 5, 16], 201906120900: [41, 14, 120, 0.0, 26, 20, 998, 4, 17], 201906121000: [43, 12, 144, 0.0, 22, 20, 997, 4, 16], 201906121100: [44, 9, 167, 0.0, 19, 20, 997, 4, 14], 201906121200: [46, 7, 190, 0.0, 15, 20, 996, 5, 13], 201906121300: [46, 7, 225, 0.0, 14, 20, 996, 4, 13], 201906121400: [47, 6, 260, 0.0, 14, 20, 995, 4, 12], 201906121500: [47, 6, 295, 0.0, 13, 20, 994, 4, 12], 201906121600: [47, 7, 283, 0.0, 13, 20, 994, 3, 12], 201906121700: [46, 8, 271, 0.0, 13, 20, 994, 3, 12], 201906121800: [46, 9, 259, 0.0, 13, 20, 993, 3, 12], 201906121900: [44, 9, 250, 0.0, 14, 20, 994, 2, 13], 201906122000: [43, 9, 242, 0.0, 14, 20, 994, 2, 13], 201906122100: [42, 8, 233, 0.0, 15, 20, 994, 1, 14], 201906122200: [41, 8, 230, 0.0, 16, 20, 994, 1, 14], 201906122300: [41, 8, 227, 0.0, 16, 20, 994, 0, 14], 201906130000: [41, 8, 225, 0.0, 17, 20, 995, 0, 14], 201906130100: [41, 9, 233, 0.0, 18, 20, 995, 0, 14], 201906130200: [42, 10, 242, 0.0, 19, 20, 995, 1, 15], 201906130300: [42, 10, 250, 0.0, 20, 20, 995, 1, 15], 201906130400: [41, 13, 263, 0.0, 21, 20, 995, 10, 15], 201906130500: [40, 16, 275, 0.0, 22, 20, 996, 19, 14], 201906130600: [39, 19, 288, 0.0, 23, 20, 996, 29, 14], 201906130700: [40, 19, 292, 0.0, 23, 20, 997, 45, 14], 201906130800: [40, 18, 296, 0.0, 22, 20, 997, 61, 15], 201906130900: [41, 18, 300, 0.0, 22, 20, 997, 78, 15], 201906131000: [42, 17, 298, 0.0, 20, 20, 997, 69, 15], 201906131100: [43, 16, 296, 0.0, 19, 20, 996, 60, 15], 201906131200: [45, 15, 294, 0.0, 18, 20, 996, 51, 15], 201906131300: [45, 15, 289, 0.0, 17, 20, 995, 36, 14], 201906131400: [46, 15, 285, 0.0, 15, 20, 994, 20, 13], 201906131500: [47, 15, 280, 0.0, 14, 20, 994, 4, 12], 201906131600: [46, 16, 271, 0.0, 14, 20, 994, 3, 12], 201906131700: [46, 17, 263, 0.0, 14, 20, 993, 3, 12], 201906131800: [45, 18, 254, 0.0, 15, 20, 993, 2, 12], 201906131900: [44, 19, 246, 0.0, 16, 20, 994, 2, 13], 201906132000: [43, 20, 239, 0.0, 18, 20, 994, 1, 13], 201906132100: [42, 22, 231, 0.0, 19, 20, 994, 0, 14], 201906132200: [41, 22, 238, 0.0, 20, 20, 994, 0, 14], 201906132300: [40, 23, 245, 0.0, 21, 20, 994, 0, 13], 201906140000: [39, 23, 252, 0.0, 22, 20, 994, 0, 13], 201906140100: [39, 23, 261, 0.0, 22, 20, 994, 0, 14], 201906140200: [39, 23, 270, 0.0, 23, 20, 994, 0, 14], 201906140300: [39, 22, 279, 0.0, 24, 20, 994, 0, 14], 201906140400: [39, 21, 284, 0.0, 25, 20, 994, 0, 15], 201906140500: [38, 20, 288, 0.0, 26, 20, 995, 0, 15], 201906140600: [38, 19, 292, 0.0, 27, 20, 995, 0, 16], 201906140700: [39, 19, 293, 0.0, 25, 20, 996, 0, 15], 201906140800: [40, 18, 295, 0.0, 22, 20, 997, 0, 13], 201906140900: [41, 17, 297, 0.0, 20, 20, 997, 0, 12], 201906141000: [42, 16, 299, 0.0, 16, 20, 997, 0, 10], 201906141100: [44, 15, 301, 0.0, 13, 20, 996, 0, 8], 201906141200: [46, 14, 303, 0.0, 9, 20, 996, 0, 5], 201906141300: [46, 15, 302, 0.0, 8, 20, 995, 0, 4], 201906141400: [47, 15, 300, 0.0, 7, 20, 994, 0, 3], 201906141500: [48, 16, 299, 0.0, 7, 20, 993, 0, 2], 201906141600: [47, 16, 296, 0.0, 6, 20, 993, 0, 2], 201906141700: [47, 17, 292, 0.0, 6, 20, 992, 0, 1], 201906141800: [46, 17, 289, 0.0, 6, 20, 992, 0, 1], 201906141900: [45, 17, 284, 0.0, 7, 20, 993, 0, 1], 201906142000: [44, 16, 278, 0.0, 7, 20, 993, 0, 1], 201906142100: [43, 16, 273, 0.0, 8, 20, 994, 0, 1], 201906142200: [42, 17, 271, 0.0, 10, 20, 994, 0, 3], 201906142300: [40, 18, 268, 0.0, 13, 20, 994, 1, 4], 201906150000: [39, 19, 266, 0.0, 16, 20, 995, 1, 6], 201906150100: [38, 20, 270, 0.0, 20, 20, 995, 2, 9], 201906150200: [37, 21, 275, 0.0, 25, 20, 994, 2, 12], 201906150300: [36, 22, 279, 0.0, 30, 20, 994, 3, 15], 201906150400: [36, 22, 282, 0.0, 29, 20, 995, 3, 15], 201906150500: [36, 21, 285, 0.0, 29, 20, 995, 3, 15], 201906150600: [37, 21, 288, 0.0, 28, 20, 996, 3, 15], 201906150700: [38, 20, 288, 0.0, 25, 20, 996, 2, 14], 201906150800: [40, 20, 289, 0.0, 22, 20, 996, 1, 13], 201906150900: [41, 20, 290, 0.0, 19, 20, 997, 0, 11], 201906151000: [43, 20, 292, 0.0, 15, 20, 996, 0, 9], 201906151100: [44, 20, 295, 0.0, 12, 20, 996, 1, 6], 201906151200: [46, 19, 298, 0.0, 8, 20, 996, 1, 4], 201906151300: [46, 19, 297, 0.0, 8, 20, 995, 2, 4], 201906151400: [46, 19, 295, 0.0, 8, 20, 994, 4, 3], 201906151500: [46, 19, 294, 0.0, 7, 20, 993, 5, 3], 201906151600: [46, 21, 290, 0.0, 9, 20, 993, 8, 4], 201906151700: [45, 23, 286, 0.0, 11, 20, 993, 11, 6], 201906151800: [45, 24, 282, 0.0, 13, 20, 993, 15, 7], 201906151900: [44, 26, 277, 0.0, 17, 20, 993, 19, 10], 201906152000: [42, 27, 273, 0.0, 21, 20, 994, 24, 12], 201906152100: [41, 28, 269, 0.0, 25, 20, 994, 29, 15], 201906152200: [40, 27, 271, 0.0, 26, 20, 995, 28, 15], 201906152300: [39, 26, 273, 0.0, 27, 20, 995, 27, 16], 201906160000: [38, 25, 276, 0.0, 28, 20, 995, 26, 16], 201906160100: [37, 25, 276, 0.0, 29, 20, 995, 29, 16], 201906160200: [37, 25, 277, 0.0, 30, 19, 995, 32, 16], 201906160300: [36, 25, 277, 0.0, 31, 19, 995, 36, 16], 201906160400: [36, 25, 277, 0.0, 32, 19, 996, 40, 17], 201906160500: [36, 24, 277, 0.1, 33, 19, 996, 44, 17], 201906160600: [36, 24, 277, 0.1, 34, 20, 997, 48, 18], 201906160700: [37, 23, 281, 0.0, 32, 20, 997, 41, 18], 201906160800: [38, 22, 285, 0.0, 31, 20, 998, 34, 18], 201906160900: [39, 21, 289, 0.0, 29, 20, 998, 27, 18], 201906161000: [38, 21, 281, 0.0, 32, 20, 998, 43, 18], 201906161100: [38, 22, 273, 0.5, 35, 20, 997, 60, 19], 201906161200: [37, 23, 265, 0.7, 37, 20, 997, 77, 19], 201906161300: [36, 25, 241, 0.3, 41, 20, 996, 71, 20], 201906161400: [35, 27, 217, 1.0, 45, 20, 996, 65, 20], 201906161500: [33, 28, 193, 1.3, 49, 20, 995, 59, 20], 201906161600: [34, 27, 202, 0.6, 45, 20, 995, 51, 20], 201906161700: [35, 25, 211, 0.0, 40, 20, 995, 44, 19], 201906161800: [36, 23, 220, 0.0, 36, 20, 995, 36, 18], 201906161900: [36, 22, 230, 0.0, 38, 20, 995, 42, 19], 201906162000: [35, 21, 241, 0.0, 40, 20, 996, 48, 19], 201906162100: [34, 21, 252, 0.0, 42, 20, 997, 54, 19], 201906162200: [34, 21, 265, 0.0, 40, 20, 997, 37, 18], 201906162300: [34, 21, 279, 0.0, 38, 20, 997, 21, 17], 201906170000: [33, 22, 293, 0.0, 36, 20, 997, 5, 16], 201906170100: [33, 21, 284, 0.0, 37, 19, 996, 5, 17], 201906170200: [34, 21, 275, 0.0, 38, 19, 996, 5, 17], 201906170300: [34, 20, 266, 0.0, 39, 19, 996, 6, 18], 201906170400: [34, 20, 273, 0.0, 40, 19, 996, 15, 18], 201906170500: [34, 19, 279, 0.0, 40, 19, 997, 25, 18], 201906170600: [34, 19, 286, 0.0, 40, 19, 997, 34, 19], 201906170700: [35, 20, 289, 0.0, 38, 18, 998, 44, 19], 201906170800: [36, 21, 292, 0.0, 36, 18, 998, 54, 19], 201906170900: [37, 22, 295, 0.0, 35, 18, 999, 64, 19], 201906171000: [38, 21, 293, 0.0, 32, 18, 998, 56, 18], 201906171100: [39, 20, 291, 0.2, 30, 18, 998, 48, 18], 201906171200: [40, 19, 290, 0.3, 27, 19, 997, 40, 17], 201906171300: [40, 20, 293, 0.1, 26, 19, 996, 44, 17], 201906171400: [40, 20, 297, 0.4, 25, 20, 996, 49, 16], 201906171500: [40, 20, 301, 0.6, 24, 20, 995, 53, 15], 201906171600: [39, 21, 303, 0.3, 25, 20, 995, 46, 15], 201906171700: [37, 22, 305, 0.0, 26, 20, 995, 39, 15], 201906171800: [36, 23, 308, 0.0, 27, 20, 995, 32, 15], 201906171900: [35, 20, 291, 0.0, 27, 20, 995, 38, 15], 201906172000: [34, 17, 275, 0.0, 27, 20, 995, 45, 15], 201906172100: [34, 14, 258, 0.0, 28, 20, 995, 51, 16], 201906172200: [33, 14, 255, 0.0, 29, 20, 996, 45, 16], 201906172300: [33, 13, 252, 0.1, 31, 20, 996, 39, 16], 201906180000: [32, 13, 249, 0.1, 33, 20, 996, 34, 16], 201906180100: [33, 11, 248, 0.1, 34, 20, 996, 47, 17], 201906180200: [34, 10, 247, 0.2, 36, 19, 996, 60, 17], 201906180300: [34, 9, 247, 0.3, 38, 19, 996, 73, 18], 201906180400: [34, 9, 244, 0.1, 39, 19, 997, 68, 18], 201906180500: [34, 9, 241, 0.0, 39, 18, 997, 62, 18], 201906180600: [33, 9, 238, 0.0, 40, 18, 998, 56, 18], 201906180700: [34, 9, 256, 0.0, 38, 18, 998, 57, 17], 201906180800: [34, 10, 274, 0.0, 37, 17, 999, 58, 17], 201906180900: [35, 11, 292, 0.0, 35, 17, 1000, 59, 17], 201906181000: [36, 11, 304, 0.0, 33, 18, 999, 47, 17], 201906181100: [37, 11, 316, 0.0, 30, 18, 999, 35, 17], 201906181200: [38, 12, 327, 0.0, 28, 18, 998, 23, 17], 201906181300: [39, 10, 315, 0.0, 26, 18, 997, 23, 16], 201906181400: [40, 9, 303, 0.0, 24, 18, 996, 23, 15], 201906181500: [41, 8, 291, 0.0, 22, 19, 995, 23, 15], 201906181600: [41, 8, 276, 0.0, 23, 18, 995, 19, 15], 201906181700: [41, 8, 261, 0.0, 24, 18, 995, 16, 15], 201906181800: [41, 9, 246, 0.0, 24, 18, 994, 12, 15], 201906181900: [40, 11, 239, 0.0, 28, 17, 995, 12, 16], 201906182000: [39, 13, 232, 0.0, 32, 16, 995, 12, 17], 201906182100: [38, 15, 225, 0.0, 35, 16, 996, 12, 19], 201906182200: [37, 16, 228, 0.0, 36, 16, 996, 11, 19], 201906182300: [36, 17, 231, 0.0, 37, 17, 996, 10, 19], 201906190000: [35, 18, 235, 0.0, 38, 17, 997, 10, 19], 201906190100: [34, 17, 230, 0.0, 40, 18, 997, 10, 19], 201906190200: [34, 16, 225, 0.0, 42, 19, 997, 9, 19], 201906190300: [34, 15, 221, 0.0, 43, 19, 997, 9, 19], 201906190400: [33, 14, 214, 0.0, 46, 19, 997, 9, 20], 201906190500: [33, 13, 208, 0.0, 49, 19, 997, 10, 21], 201906190600: [33, 12, 202, 0.0, 51, 19, 998, 10, 21], 201906190700: [33, 13, 195, 0.0, 49, 19, 998, 10, 21], 201906190800: [34, 13, 188, 0.0, 47, 19, 998, 10, 21], 201906190900: [35, 13, 181, 0.0, 45, 20, 998, 10, 21], 201906191000: [36, 13, 177, 0.0, 40, 18, 998, 10, 20], 201906191100: [37, 13, 174, 0.0, 35, 17, 998, 9, 19], 201906191200: [38, 13, 170, 0.0, 30, 16, 998, 8, 18], 201906191300: [39, 12, 176, 0.0, 28, 14, 997, 9, 17], 201906191400: [39, 11, 181, 0.0, 26, 12, 997, 9, 16], 201906191500: [39, 10, 186, 0.0, 24, 10, 996, 9, 15], 201906191600: [39, 10, 187, 0.0, 23, 10, 996, 11, 14], 201906191700: [39, 10, 187, 0.0, 23, 10, 996, 13, 14], 201906191800: [39, 10, 187, 0.0, 23, 10, 996, 15, 14], 201906191900: [38, 11, 181, 0.0, 26, 10, 997, 15, 15], 201906192000: [37, 12, 174, 0.0, 29, 10, 998, 16, 15], 201906192100: [36, 13, 168, 0.0, 32, 10, 999, 17, 16], 201906192200: [35, 14, 161, 0.0, 37, 10, 999, 19, 17], 201906192300: [33, 15, 155, 0.0, 42, 10, 999, 20, 18]}\n"
          ],
          "name": "stdout"
        }
      ]
    },
    {
      "cell_type": "code",
      "metadata": {
        "id": "0YLmg3m_11DV",
        "colab_type": "code",
        "colab": {
          "base_uri": "https://localhost:8080/",
          "height": 35
        },
        "outputId": "1cc58d97-0d9d-4217-bfe2-966c9985b6c0"
      },
      "source": [
        "len(h_d_w)"
      ],
      "execution_count": 176,
      "outputs": [
        {
          "output_type": "execute_result",
          "data": {
            "text/plain": [
              "30"
            ]
          },
          "metadata": {
            "tags": []
          },
          "execution_count": 176
        }
      ]
    },
    {
      "cell_type": "code",
      "metadata": {
        "id": "bgmHZF8b9xfj",
        "colab_type": "code",
        "colab": {
          "base_uri": "https://localhost:8080/",
          "height": 1000
        },
        "outputId": "2fe14d65-e4c8-463b-fc0e-c2b201828e33"
      },
      "source": [
        "super_final={}\n",
        "for key in crspond:\n",
        "  temp=str(crspond[key][1][:-2])\n",
        "  for w in w_features:\n",
        "    w=str(w)\n",
        "    print(w)\n",
        "    if(str(w[:-2])==str(temp)):\n",
        "      super_final[key]=w_features[w]\n",
        "      \n",
        "print(len(super_final))\n",
        "print(super_final)"
      ],
      "execution_count": 189,
      "outputs": [
        {
          "output_type": "stream",
          "text": [
            "201906110000\n",
            "201906110100\n",
            "201906110200\n",
            "201906110300\n",
            "201906110400\n",
            "201906110500\n",
            "201906110600\n",
            "201906110700\n",
            "201906110800\n",
            "201906110900\n",
            "201906111000\n",
            "201906111100\n",
            "201906111200\n",
            "201906111300\n",
            "201906111400\n",
            "201906111500\n",
            "201906111600\n",
            "201906111700\n",
            "201906111800\n",
            "201906111900\n",
            "201906112000\n",
            "201906112100\n",
            "201906112200\n",
            "201906112300\n",
            "201906120000\n",
            "201906120100\n",
            "201906120200\n",
            "201906120300\n",
            "201906120400\n",
            "201906120500\n",
            "201906120600\n",
            "201906120700\n",
            "201906120800\n",
            "201906120900\n",
            "201906121000\n",
            "201906121100\n",
            "201906121200\n",
            "201906121300\n",
            "201906121400\n",
            "201906121500\n",
            "201906121600\n",
            "201906121700\n",
            "201906121800\n",
            "201906121900\n",
            "201906122000\n",
            "201906122100\n",
            "201906122200\n",
            "201906122300\n",
            "201906130000\n",
            "201906130100\n",
            "201906130200\n",
            "201906130300\n",
            "201906130400\n",
            "201906130500\n",
            "201906130600\n",
            "201906130700\n",
            "201906130800\n",
            "201906130900\n",
            "201906131000\n",
            "201906131100\n",
            "201906131200\n",
            "201906131300\n",
            "201906131400\n",
            "201906131500\n",
            "201906131600\n",
            "201906131700\n",
            "201906131800\n",
            "201906131900\n",
            "201906132000\n",
            "201906132100\n",
            "201906132200\n",
            "201906132300\n",
            "201906140000\n",
            "201906140100\n",
            "201906140200\n",
            "201906140300\n",
            "201906140400\n",
            "201906140500\n",
            "201906140600\n",
            "201906140700\n",
            "201906140800\n",
            "201906140900\n",
            "201906141000\n",
            "201906141100\n",
            "201906141200\n",
            "201906141300\n",
            "201906141400\n",
            "201906141500\n",
            "201906141600\n",
            "201906141700\n",
            "201906141800\n"
          ],
          "name": "stdout"
        },
        {
          "output_type": "error",
          "ename": "KeyError",
          "evalue": "ignored",
          "traceback": [
            "\u001b[0;31m---------------------------------------------------------------------------\u001b[0m",
            "\u001b[0;31mKeyError\u001b[0m                                  Traceback (most recent call last)",
            "\u001b[0;32m<ipython-input-189-69d1c0426895>\u001b[0m in \u001b[0;36m<module>\u001b[0;34m()\u001b[0m\n\u001b[1;32m      6\u001b[0m     \u001b[0mprint\u001b[0m\u001b[0;34m(\u001b[0m\u001b[0mw\u001b[0m\u001b[0;34m)\u001b[0m\u001b[0;34m\u001b[0m\u001b[0;34m\u001b[0m\u001b[0m\n\u001b[1;32m      7\u001b[0m     \u001b[0;32mif\u001b[0m\u001b[0;34m(\u001b[0m\u001b[0mstr\u001b[0m\u001b[0;34m(\u001b[0m\u001b[0mw\u001b[0m\u001b[0;34m[\u001b[0m\u001b[0;34m:\u001b[0m\u001b[0;34m-\u001b[0m\u001b[0;36m2\u001b[0m\u001b[0;34m]\u001b[0m\u001b[0;34m)\u001b[0m\u001b[0;34m==\u001b[0m\u001b[0mstr\u001b[0m\u001b[0;34m(\u001b[0m\u001b[0mtemp\u001b[0m\u001b[0;34m)\u001b[0m\u001b[0;34m)\u001b[0m\u001b[0;34m:\u001b[0m\u001b[0;34m\u001b[0m\u001b[0;34m\u001b[0m\u001b[0m\n\u001b[0;32m----> 8\u001b[0;31m       \u001b[0msuper_final\u001b[0m\u001b[0;34m[\u001b[0m\u001b[0mkey\u001b[0m\u001b[0;34m]\u001b[0m\u001b[0;34m=\u001b[0m\u001b[0mw_features\u001b[0m\u001b[0;34m[\u001b[0m\u001b[0mw\u001b[0m\u001b[0;34m]\u001b[0m\u001b[0;34m\u001b[0m\u001b[0;34m\u001b[0m\u001b[0m\n\u001b[0m\u001b[1;32m      9\u001b[0m \u001b[0;34m\u001b[0m\u001b[0m\n\u001b[1;32m     10\u001b[0m \u001b[0mprint\u001b[0m\u001b[0;34m(\u001b[0m\u001b[0mlen\u001b[0m\u001b[0;34m(\u001b[0m\u001b[0msuper_final\u001b[0m\u001b[0;34m)\u001b[0m\u001b[0;34m)\u001b[0m\u001b[0;34m\u001b[0m\u001b[0;34m\u001b[0m\u001b[0m\n",
            "\u001b[0;31mKeyError\u001b[0m: '201906141800'"
          ]
        }
      ]
    },
    {
      "cell_type": "code",
      "metadata": {
        "id": "EnZF88MQ4JPi",
        "colab_type": "code",
        "colab": {
          "base_uri": "https://localhost:8080/",
          "height": 1000
        },
        "outputId": "8a6794ea-a213-41e5-f0c7-b79736d5829a"
      },
      "source": [
        "#Matching JPEG, WEATHER time \n",
        "\n",
        "#w_features - timestamp - corresponding weather values \n",
        "super_final={}\n",
        "# for time in h_d_w:\n",
        "#   for key in w_features:\n",
        "#     if(key==time):\n",
        "#       print(\"MATCH:\", time,key)\n",
        "#       super_final[(h_d_w[time])]=w_features[key]\n",
        "#     else:\n",
        "#       print(\"NO:\", time,key)\n",
        "\n",
        "for time in h_d_w:\n",
        "  for key in w_features:\n",
        "    if(str(key)[0:9]==str(time)[0:9]):\n",
        "      if((str(key)[9:-1]==str(time)[9:-1])):\n",
        "        print(\"MATCH:\", time,key)\n",
        "        super_final[(h_d_w[time])]=w_features[key]\n",
        "        break\n",
        "      else:\n",
        "        print(\"NO:\", time,key)\n",
        "      \n",
        "print(len(super_final))\n",
        "print(super_final)\n",
        "    \n",
        "\n"
      ],
      "execution_count": 172,
      "outputs": [
        {
          "output_type": "stream",
          "text": [
            "NO: 201906141800 201906141000\n",
            "NO: 201906141800 201906141100\n",
            "NO: 201906141800 201906141200\n",
            "NO: 201906141800 201906141300\n",
            "NO: 201906141800 201906141400\n",
            "NO: 201906141800 201906141500\n",
            "NO: 201906141800 201906141600\n",
            "NO: 201906141800 201906141700\n",
            "MATCH: 201906141800 201906141800\n",
            "NO: 201906121900 201906121000\n",
            "NO: 201906121900 201906121100\n",
            "NO: 201906121900 201906121200\n",
            "NO: 201906121900 201906121300\n",
            "NO: 201906121900 201906121400\n",
            "NO: 201906121900 201906121500\n",
            "NO: 201906121900 201906121600\n",
            "NO: 201906121900 201906121700\n",
            "NO: 201906121900 201906121800\n",
            "MATCH: 201906121900 201906121900\n",
            "NO: 201906121800 201906121000\n",
            "NO: 201906121800 201906121100\n",
            "NO: 201906121800 201906121200\n",
            "NO: 201906121800 201906121300\n",
            "NO: 201906121800 201906121400\n",
            "NO: 201906121800 201906121500\n",
            "NO: 201906121800 201906121600\n",
            "NO: 201906121800 201906121700\n",
            "MATCH: 201906121800 201906121800\n",
            "NO: 201906111900 201906111000\n",
            "NO: 201906111900 201906111100\n",
            "NO: 201906111900 201906111200\n",
            "NO: 201906111900 201906111300\n",
            "NO: 201906111900 201906111400\n",
            "NO: 201906111900 201906111500\n",
            "NO: 201906111900 201906111600\n",
            "NO: 201906111900 201906111700\n",
            "NO: 201906111900 201906111800\n",
            "MATCH: 201906111900 201906111900\n",
            "NO: 201906121700 201906121000\n",
            "NO: 201906121700 201906121100\n",
            "NO: 201906121700 201906121200\n",
            "NO: 201906121700 201906121300\n",
            "NO: 201906121700 201906121400\n",
            "NO: 201906121700 201906121500\n",
            "NO: 201906121700 201906121600\n",
            "MATCH: 201906121700 201906121700\n",
            "NO: 201906111800 201906111000\n",
            "NO: 201906111800 201906111100\n",
            "NO: 201906111800 201906111200\n",
            "NO: 201906111800 201906111300\n",
            "NO: 201906111800 201906111400\n",
            "NO: 201906111800 201906111500\n",
            "NO: 201906111800 201906111600\n",
            "NO: 201906111800 201906111700\n",
            "MATCH: 201906111800 201906111800\n",
            "NO: 201906150900 201906150000\n",
            "NO: 201906150900 201906150100\n",
            "NO: 201906150900 201906150200\n",
            "NO: 201906150900 201906150300\n",
            "NO: 201906150900 201906150400\n",
            "NO: 201906150900 201906150500\n",
            "NO: 201906150900 201906150600\n",
            "NO: 201906150900 201906150700\n",
            "NO: 201906150900 201906150800\n",
            "MATCH: 201906150900 201906150900\n",
            "NO: 201906150800 201906150000\n",
            "NO: 201906150800 201906150100\n",
            "NO: 201906150800 201906150200\n",
            "NO: 201906150800 201906150300\n",
            "NO: 201906150800 201906150400\n",
            "NO: 201906150800 201906150500\n",
            "NO: 201906150800 201906150600\n",
            "NO: 201906150800 201906150700\n",
            "MATCH: 201906150800 201906150800\n",
            "NO: 201906150600 201906150000\n",
            "NO: 201906150600 201906150100\n",
            "NO: 201906150600 201906150200\n",
            "NO: 201906150600 201906150300\n",
            "NO: 201906150600 201906150400\n",
            "NO: 201906150600 201906150500\n",
            "MATCH: 201906150600 201906150600\n",
            "NO: 201906141700 201906141000\n",
            "NO: 201906141700 201906141100\n",
            "NO: 201906141700 201906141200\n",
            "NO: 201906141700 201906141300\n",
            "NO: 201906141700 201906141400\n",
            "NO: 201906141700 201906141500\n",
            "NO: 201906141700 201906141600\n",
            "MATCH: 201906141700 201906141700\n",
            "NO: 201906141600 201906141000\n",
            "NO: 201906141600 201906141100\n",
            "NO: 201906141600 201906141200\n",
            "NO: 201906141600 201906141300\n",
            "NO: 201906141600 201906141400\n",
            "NO: 201906141600 201906141500\n",
            "MATCH: 201906141600 201906141600\n",
            "NO: 201906141500 201906141000\n",
            "NO: 201906141500 201906141100\n",
            "NO: 201906141500 201906141200\n",
            "NO: 201906141500 201906141300\n",
            "NO: 201906141500 201906141400\n",
            "MATCH: 201906141500 201906141500\n",
            "NO: 201906141400 201906141000\n",
            "NO: 201906141400 201906141100\n",
            "NO: 201906141400 201906141200\n",
            "NO: 201906141400 201906141300\n",
            "MATCH: 201906141400 201906141400\n",
            "NO: 201906141300 201906141000\n",
            "NO: 201906141300 201906141100\n",
            "NO: 201906141300 201906141200\n",
            "MATCH: 201906141300 201906141300\n",
            "NO: 201906141200 201906141000\n",
            "NO: 201906141200 201906141100\n",
            "MATCH: 201906141200 201906141200\n",
            "NO: 201906141100 201906141000\n",
            "MATCH: 201906141100 201906141100\n",
            "MATCH: 201906141000 201906141000\n",
            "NO: 201906140900 201906140000\n",
            "NO: 201906140900 201906140100\n",
            "NO: 201906140900 201906140200\n",
            "NO: 201906140900 201906140300\n",
            "NO: 201906140900 201906140400\n",
            "NO: 201906140900 201906140500\n",
            "NO: 201906140900 201906140600\n",
            "NO: 201906140900 201906140700\n",
            "NO: 201906140900 201906140800\n",
            "MATCH: 201906140900 201906140900\n",
            "NO: 201906121600 201906121000\n",
            "NO: 201906121600 201906121100\n",
            "NO: 201906121600 201906121200\n",
            "NO: 201906121600 201906121300\n",
            "NO: 201906121600 201906121400\n",
            "NO: 201906121600 201906121500\n",
            "MATCH: 201906121600 201906121600\n",
            "NO: 201906121500 201906121000\n",
            "NO: 201906121500 201906121100\n",
            "NO: 201906121500 201906121200\n",
            "NO: 201906121500 201906121300\n",
            "NO: 201906121500 201906121400\n",
            "MATCH: 201906121500 201906121500\n",
            "NO: 201906121400 201906121000\n",
            "NO: 201906121400 201906121100\n",
            "NO: 201906121400 201906121200\n",
            "NO: 201906121400 201906121300\n",
            "MATCH: 201906121400 201906121400\n",
            "NO: 201906121300 201906121000\n",
            "NO: 201906121300 201906121100\n",
            "NO: 201906121300 201906121200\n",
            "MATCH: 201906121300 201906121300\n",
            "NO: 201906121200 201906121000\n",
            "NO: 201906121200 201906121100\n",
            "MATCH: 201906121200 201906121200\n",
            "NO: 201906121100 201906121000\n",
            "MATCH: 201906121100 201906121100\n",
            "MATCH: 201906121000 201906121000\n",
            "NO: 201906120900 201906120000\n",
            "NO: 201906120900 201906120100\n",
            "NO: 201906120900 201906120200\n",
            "NO: 201906120900 201906120300\n",
            "NO: 201906120900 201906120400\n",
            "NO: 201906120900 201906120500\n",
            "NO: 201906120900 201906120600\n",
            "NO: 201906120900 201906120700\n",
            "NO: 201906120900 201906120800\n",
            "MATCH: 201906120900 201906120900\n",
            "NO: 201906120800 201906120000\n",
            "NO: 201906120800 201906120100\n",
            "NO: 201906120800 201906120200\n",
            "NO: 201906120800 201906120300\n",
            "NO: 201906120800 201906120400\n",
            "NO: 201906120800 201906120500\n",
            "NO: 201906120800 201906120600\n",
            "NO: 201906120800 201906120700\n",
            "MATCH: 201906120800 201906120800\n",
            "NO: 201906120700 201906120000\n",
            "NO: 201906120700 201906120100\n",
            "NO: 201906120700 201906120200\n",
            "NO: 201906120700 201906120300\n",
            "NO: 201906120700 201906120400\n",
            "NO: 201906120700 201906120500\n",
            "NO: 201906120700 201906120600\n",
            "MATCH: 201906120700 201906120700\n",
            "NO: 201906120600 201906120000\n",
            "NO: 201906120600 201906120100\n",
            "NO: 201906120600 201906120200\n",
            "NO: 201906120600 201906120300\n",
            "NO: 201906120600 201906120400\n",
            "NO: 201906120600 201906120500\n",
            "MATCH: 201906120600 201906120600\n",
            "NO: 201906120500 201906120000\n",
            "NO: 201906120500 201906120100\n",
            "NO: 201906120500 201906120200\n",
            "NO: 201906120500 201906120300\n",
            "NO: 201906120500 201906120400\n",
            "MATCH: 201906120500 201906120500\n",
            "30\n",
            "{201906141803: [46, 17, 289, 0.0, 6, 20, 992, 0, 1], 201906121910: [44, 9, 250, 0.0, 14, 20, 994, 2, 13], 201906121811: [46, 9, 259, 0.0, 13, 20, 993, 3, 12], 201906111907: [46, 13, 281, 0.0, 8, 16, 992, 55, 3], 201906121700: [46, 8, 271, 0.0, 13, 20, 994, 3, 12], 201906111829: [47, 14, 286, 0.0, 7, 13, 991, 39, 2], 201906150902: [41, 20, 290, 0.0, 19, 20, 997, 0, 11], 201906150800: [40, 20, 289, 0.0, 22, 20, 996, 1, 13], 201906150603: [37, 21, 288, 0.0, 28, 20, 996, 3, 15], 201906141704: [47, 17, 292, 0.0, 6, 20, 992, 0, 1], 201906141602: [47, 16, 296, 0.0, 6, 20, 993, 0, 2], 201906141503: [48, 16, 299, 0.0, 7, 20, 993, 0, 2], 201906141404: [47, 15, 300, 0.0, 7, 20, 994, 0, 3], 201906141303: [46, 15, 302, 0.0, 8, 20, 995, 0, 4], 201906141200: [46, 14, 303, 0.0, 9, 20, 996, 0, 5], 201906141102: [44, 15, 301, 0.0, 13, 20, 996, 0, 8], 201906141003: [42, 16, 299, 0.0, 16, 20, 997, 0, 10], 201906140953: [41, 17, 297, 0.0, 20, 20, 997, 0, 12], 201906121603: [47, 7, 283, 0.0, 13, 20, 994, 3, 12], 201906121504: [47, 6, 295, 0.0, 13, 20, 994, 4, 12], 201906121401: [47, 6, 260, 0.0, 14, 20, 995, 4, 12], 201906121303: [46, 7, 225, 0.0, 14, 20, 996, 4, 13], 201906121200: [46, 7, 190, 0.0, 15, 20, 996, 5, 13], 201906121102: [44, 9, 167, 0.0, 19, 20, 997, 4, 14], 201906121002: [43, 12, 144, 0.0, 22, 20, 997, 4, 16], 201906120904: [41, 14, 120, 0.0, 26, 20, 998, 4, 17], 201906120801: [41, 14, 158, 0.0, 25, 20, 997, 5, 16], 201906120701: [40, 14, 196, 0.0, 25, 20, 997, 6, 16], 201906120652: [39, 13, 234, 0.0, 24, 20, 996, 7, 15], 201906120534: [39, 15, 242, 0.0, 24, 20, 995, 13, 15]}\n"
          ],
          "name": "stdout"
        }
      ]
    },
    {
      "cell_type": "code",
      "metadata": {
        "colab_type": "code",
        "id": "tB3OavHh_nsi",
        "outputId": "7282f3ba-14dd-49df-9026-9a809a1aebf2",
        "colab": {
          "base_uri": "https://localhost:8080/",
          "height": 381
        }
      },
      "source": [
        "#FEATURE FINETUNING \n",
        "\n",
        "#Converting timestamps to int \n",
        "hours=np.reshape(np.array(list(map(int,hours))), (322, 1))\n",
        "transmission=np.reshape(np.array(list(map(float,trans_jpg))), (322, 1))\n",
        "entropy=np.reshape(np.array(list(map(float,entropy_jpg))), (322, 1))\n",
        "contrast=np.reshape(np.array(list(map(float,contrast_jpg))),(322,1))\n",
        "windspeed=np.reshape(windspeed, (322,1))\n",
        "temp=np.reshape(temp, (322,1))\n",
        "humidity=np.reshape(humidity, (322,1))\n",
        "pressure=np.reshape(pressure, (322,1))\n",
        "visibility=np.reshape(visibility, (322,1))\n",
        "prec=np.reshape(prec, (322,1))\n",
        "\n"
      ],
      "execution_count": 0,
      "outputs": [
        {
          "output_type": "error",
          "ename": "ValueError",
          "evalue": "ignored",
          "traceback": [
            "\u001b[0;31m---------------------------------------------------------------------------\u001b[0m",
            "\u001b[0;31mValueError\u001b[0m                                Traceback (most recent call last)",
            "\u001b[0;32m<ipython-input-19-9311041e5afb>\u001b[0m in \u001b[0;36m<module>\u001b[0;34m()\u001b[0m\n\u001b[0;32m----> 1\u001b[0;31m \u001b[0mhours\u001b[0m\u001b[0;34m=\u001b[0m\u001b[0mnp\u001b[0m\u001b[0;34m.\u001b[0m\u001b[0mreshape\u001b[0m\u001b[0;34m(\u001b[0m\u001b[0mnp\u001b[0m\u001b[0;34m.\u001b[0m\u001b[0marray\u001b[0m\u001b[0;34m(\u001b[0m\u001b[0mlist\u001b[0m\u001b[0;34m(\u001b[0m\u001b[0mmap\u001b[0m\u001b[0;34m(\u001b[0m\u001b[0mint\u001b[0m\u001b[0;34m,\u001b[0m\u001b[0mhours\u001b[0m\u001b[0;34m)\u001b[0m\u001b[0;34m)\u001b[0m\u001b[0;34m)\u001b[0m\u001b[0;34m,\u001b[0m \u001b[0;34m(\u001b[0m\u001b[0;36m322\u001b[0m\u001b[0;34m,\u001b[0m \u001b[0;36m1\u001b[0m\u001b[0;34m)\u001b[0m\u001b[0;34m)\u001b[0m\u001b[0;34m\u001b[0m\u001b[0;34m\u001b[0m\u001b[0m\n\u001b[0m\u001b[1;32m      2\u001b[0m \u001b[0mtransmission\u001b[0m\u001b[0;34m=\u001b[0m\u001b[0mnp\u001b[0m\u001b[0;34m.\u001b[0m\u001b[0mreshape\u001b[0m\u001b[0;34m(\u001b[0m\u001b[0mnp\u001b[0m\u001b[0;34m.\u001b[0m\u001b[0marray\u001b[0m\u001b[0;34m(\u001b[0m\u001b[0mlist\u001b[0m\u001b[0;34m(\u001b[0m\u001b[0mmap\u001b[0m\u001b[0;34m(\u001b[0m\u001b[0mfloat\u001b[0m\u001b[0;34m,\u001b[0m\u001b[0mtrans_jpg\u001b[0m\u001b[0;34m)\u001b[0m\u001b[0;34m)\u001b[0m\u001b[0;34m)\u001b[0m\u001b[0;34m,\u001b[0m \u001b[0;34m(\u001b[0m\u001b[0;36m322\u001b[0m\u001b[0;34m,\u001b[0m \u001b[0;36m1\u001b[0m\u001b[0;34m)\u001b[0m\u001b[0;34m)\u001b[0m\u001b[0;34m\u001b[0m\u001b[0;34m\u001b[0m\u001b[0m\n\u001b[1;32m      3\u001b[0m \u001b[0mentropy\u001b[0m\u001b[0;34m=\u001b[0m\u001b[0mnp\u001b[0m\u001b[0;34m.\u001b[0m\u001b[0mreshape\u001b[0m\u001b[0;34m(\u001b[0m\u001b[0mnp\u001b[0m\u001b[0;34m.\u001b[0m\u001b[0marray\u001b[0m\u001b[0;34m(\u001b[0m\u001b[0mlist\u001b[0m\u001b[0;34m(\u001b[0m\u001b[0mmap\u001b[0m\u001b[0;34m(\u001b[0m\u001b[0mfloat\u001b[0m\u001b[0;34m,\u001b[0m\u001b[0mentropy_jpg\u001b[0m\u001b[0;34m)\u001b[0m\u001b[0;34m)\u001b[0m\u001b[0;34m)\u001b[0m\u001b[0;34m,\u001b[0m \u001b[0;34m(\u001b[0m\u001b[0;36m322\u001b[0m\u001b[0;34m,\u001b[0m \u001b[0;36m1\u001b[0m\u001b[0;34m)\u001b[0m\u001b[0;34m)\u001b[0m\u001b[0;34m\u001b[0m\u001b[0;34m\u001b[0m\u001b[0m\n\u001b[1;32m      4\u001b[0m \u001b[0mcontrast\u001b[0m\u001b[0;34m=\u001b[0m\u001b[0mnp\u001b[0m\u001b[0;34m.\u001b[0m\u001b[0mreshape\u001b[0m\u001b[0;34m(\u001b[0m\u001b[0mnp\u001b[0m\u001b[0;34m.\u001b[0m\u001b[0marray\u001b[0m\u001b[0;34m(\u001b[0m\u001b[0mlist\u001b[0m\u001b[0;34m(\u001b[0m\u001b[0mmap\u001b[0m\u001b[0;34m(\u001b[0m\u001b[0mfloat\u001b[0m\u001b[0;34m,\u001b[0m\u001b[0mcontrast_jpg\u001b[0m\u001b[0;34m)\u001b[0m\u001b[0;34m)\u001b[0m\u001b[0;34m)\u001b[0m\u001b[0;34m,\u001b[0m\u001b[0;34m(\u001b[0m\u001b[0;36m322\u001b[0m\u001b[0;34m,\u001b[0m\u001b[0;36m1\u001b[0m\u001b[0;34m)\u001b[0m\u001b[0;34m)\u001b[0m\u001b[0;34m\u001b[0m\u001b[0;34m\u001b[0m\u001b[0m\n\u001b[1;32m      5\u001b[0m \u001b[0mwindspeed\u001b[0m\u001b[0;34m=\u001b[0m\u001b[0mnp\u001b[0m\u001b[0;34m.\u001b[0m\u001b[0mreshape\u001b[0m\u001b[0;34m(\u001b[0m\u001b[0mwindspeed\u001b[0m\u001b[0;34m,\u001b[0m \u001b[0;34m(\u001b[0m\u001b[0;36m322\u001b[0m\u001b[0;34m,\u001b[0m\u001b[0;36m1\u001b[0m\u001b[0;34m)\u001b[0m\u001b[0;34m)\u001b[0m\u001b[0;34m\u001b[0m\u001b[0;34m\u001b[0m\u001b[0m\n",
            "\u001b[0;32m/usr/local/lib/python3.6/dist-packages/numpy/core/fromnumeric.py\u001b[0m in \u001b[0;36mreshape\u001b[0;34m(a, newshape, order)\u001b[0m\n\u001b[1;32m    290\u001b[0m            [5, 6]])\n\u001b[1;32m    291\u001b[0m     \"\"\"\n\u001b[0;32m--> 292\u001b[0;31m     \u001b[0;32mreturn\u001b[0m \u001b[0m_wrapfunc\u001b[0m\u001b[0;34m(\u001b[0m\u001b[0ma\u001b[0m\u001b[0;34m,\u001b[0m \u001b[0;34m'reshape'\u001b[0m\u001b[0;34m,\u001b[0m \u001b[0mnewshape\u001b[0m\u001b[0;34m,\u001b[0m \u001b[0morder\u001b[0m\u001b[0;34m=\u001b[0m\u001b[0morder\u001b[0m\u001b[0;34m)\u001b[0m\u001b[0;34m\u001b[0m\u001b[0;34m\u001b[0m\u001b[0m\n\u001b[0m\u001b[1;32m    293\u001b[0m \u001b[0;34m\u001b[0m\u001b[0m\n\u001b[1;32m    294\u001b[0m \u001b[0;34m\u001b[0m\u001b[0m\n",
            "\u001b[0;32m/usr/local/lib/python3.6/dist-packages/numpy/core/fromnumeric.py\u001b[0m in \u001b[0;36m_wrapfunc\u001b[0;34m(obj, method, *args, **kwds)\u001b[0m\n\u001b[1;32m     54\u001b[0m \u001b[0;32mdef\u001b[0m \u001b[0m_wrapfunc\u001b[0m\u001b[0;34m(\u001b[0m\u001b[0mobj\u001b[0m\u001b[0;34m,\u001b[0m \u001b[0mmethod\u001b[0m\u001b[0;34m,\u001b[0m \u001b[0;34m*\u001b[0m\u001b[0margs\u001b[0m\u001b[0;34m,\u001b[0m \u001b[0;34m**\u001b[0m\u001b[0mkwds\u001b[0m\u001b[0;34m)\u001b[0m\u001b[0;34m:\u001b[0m\u001b[0;34m\u001b[0m\u001b[0;34m\u001b[0m\u001b[0m\n\u001b[1;32m     55\u001b[0m     \u001b[0;32mtry\u001b[0m\u001b[0;34m:\u001b[0m\u001b[0;34m\u001b[0m\u001b[0;34m\u001b[0m\u001b[0m\n\u001b[0;32m---> 56\u001b[0;31m         \u001b[0;32mreturn\u001b[0m \u001b[0mgetattr\u001b[0m\u001b[0;34m(\u001b[0m\u001b[0mobj\u001b[0m\u001b[0;34m,\u001b[0m \u001b[0mmethod\u001b[0m\u001b[0;34m)\u001b[0m\u001b[0;34m(\u001b[0m\u001b[0;34m*\u001b[0m\u001b[0margs\u001b[0m\u001b[0;34m,\u001b[0m \u001b[0;34m**\u001b[0m\u001b[0mkwds\u001b[0m\u001b[0;34m)\u001b[0m\u001b[0;34m\u001b[0m\u001b[0;34m\u001b[0m\u001b[0m\n\u001b[0m\u001b[1;32m     57\u001b[0m \u001b[0;34m\u001b[0m\u001b[0m\n\u001b[1;32m     58\u001b[0m     \u001b[0;31m# An AttributeError occurs if the object does not have\u001b[0m\u001b[0;34m\u001b[0m\u001b[0;34m\u001b[0m\u001b[0;34m\u001b[0m\u001b[0m\n",
            "\u001b[0;31mValueError\u001b[0m: cannot reshape array of size 321 into shape (322,1)"
          ]
        }
      ]
    },
    {
      "cell_type": "code",
      "metadata": {
        "id": "LG18Ww8gsKoZ",
        "colab_type": "code",
        "colab": {}
      },
      "source": [
        "#REGRESSION \n",
        "regr = LinearRegression()\n",
        "labels = pm\n",
        "\n",
        "#All features \n",
        "\n",
        "x_train, x_test, y_train, y_test = train_test_split(features,labels,test_size=0.3, random_state= 24)\n",
        "\n",
        "model = regr.fit(x_train, y_train)  #method of LinearRegression which fits the model : y_train is the target value or the value that it should ideally come to  \n",
        "\n",
        "pred = regr.predict(x_test)\n",
        "print(regr.score(x_train,y_train)) #printing R^2Score \n",
        "\n",
        "\n",
        "#kfold \n",
        "kf=KFold(n_splits=3)\n",
        "kf.get_n_splits(x_train)\n",
        "scores = cross_validation_score()\n",
        "\n",
        "leaveOneOut \n",
        "\n",
        "# loo = LeaveOneOut()\n",
        "# loo.get_n_splits(x_train)\n",
        "# scores = cross_val_score(model, x_train, y_train, cv=7)\n",
        "# print(scores)\n",
        "# predictions = cross_val_predict(model, x_train, y_train, cv=6)\n",
        "\n",
        "# #print(mean_squared_error(pred, y_test)**0.5)\n",
        "# print(regr.score(x_train,y_train)) #printing R^2Score \n",
        "\n",
        "\n"
      ],
      "execution_count": 0,
      "outputs": []
    },
    {
      "cell_type": "code",
      "metadata": {
        "id": "Pwsgg50TxTeK",
        "colab_type": "code",
        "outputId": "7db95b13-88ed-42f8-dcc4-0a14729491a2",
        "colab": {
          "base_uri": "https://localhost:8080/",
          "height": 287
        }
      },
      "source": [
        "plt.plot(y_test)    #blue - ideal labels \n",
        "plt.plot(pred)      #orange - predicted labels    "
      ],
      "execution_count": 0,
      "outputs": [
        {
          "output_type": "execute_result",
          "data": {
            "text/plain": [
              "[<matplotlib.lines.Line2D at 0x7f4537618b00>]"
            ]
          },
          "metadata": {
            "tags": []
          },
          "execution_count": 115
        },
        {
          "output_type": "display_data",
          "data": {
            "image/png": "[encoded data removed]",
            "text/plain": [
              "<Figure size 432x288 with 1 Axes>"
            ]
          },
          "metadata": {
            "tags": []
          }
        }
      ]
    },
    {
      "cell_type": "code",
      "metadata": {
        "id": "3_ckXA8Dbzvn",
        "colab_type": "code",
        "colab": {}
      },
      "source": [
        "\n",
        "#features = np.hstack((hours,transmission,entropy, contrast, windspeed, temp, humidity, pressure, visibility, prec)) - 18.59\n",
        "#features = np.hstack((hours,entropy, contrast, windspeed, temp, humidity)) - 20.9\n",
        "#features = np.hstack((hours,transmission,entropy, contrast)) - 18.45\n",
        "#features = np.hstack((hours,entropy, contrast, windspeed, humidity)) - 20.8\n",
        "#features = np.hstack((transmission,entropy, contrast))-19.97\n",
        "#features = np.hstack((hours,transmission,entropy, contrast, windspeed, temp, humidity))-18.64\n"
      ],
      "execution_count": 0,
      "outputs": []
    },
    {
      "cell_type": "code",
      "metadata": {
        "id": "S4YseLcZnSgD",
        "colab_type": "code",
        "colab": {}
      },
      "source": [
        "import csv \n",
        "cpcb={}\n",
        "ctr=0\n",
        "mod=0\n",
        "\n",
        "#['11-06-2019 00:30', '11-06-2019 00:45', '118']\n",
        "\n",
        "with open('/content/cpcb_historic.csv') as file:\n",
        "  csv_reader = csv.reader(file,delimiter = ',')\n",
        "  for row in csv_reader: \n",
        "    ctr+=1\n",
        "    mod+=1\n",
        "    if(ctr>=18 and mod%4==0):\n",
        "      dummy=row[0]\n",
        "      dummy=dummy.split('-')\n",
        "      hours=dummy[2].split(' ')\n",
        "      t=hours[1].split(':')\n",
        "      dummy=(str(hours[0]) + str(dummy[1]) + str(dummy[0]) + ' ' + str(t[0]))\n",
        "      cpcb[dummy] = row[2]\n",
        "\n",
        "air_read={}\n",
        "with open('/content/airveda.csv') as air:\n",
        "  reader = csv.reader(air, delimiter =',') #getting all the unique timestamps \n",
        "  for row in reader: \n",
        "    try:\n",
        "      k=str(row[0])\n",
        "      dummy=k.split('-')\n",
        "      dummy=str(dummy[0])+str(dummy[1])+str(dummy[2])\n",
        "      dummy=dummy.split(':')\n",
        "      dummy=str(dummy[0])\n",
        "      air_read[dummy]=row[1]\n",
        "    except:\n",
        "      pass \n",
        "    \n",
        "\n",
        "    \n",
        "\n",
        "#The dictionary having hours plotted against the PM values for the airveda \n",
        "pm_air=[]\n",
        "tm=[]\n",
        "for key in air_read:\n",
        "  if(key in cpcb):\n",
        "    tm.append(key)\n",
        "    \n",
        "plot_cpcb=[]\n",
        "plot_air=[]\n",
        "for key in tm: \n",
        "  plot_cpcb.append(cpcb[key])\n",
        "  plot_air.append(air_read[key])\n",
        "\n",
        "plot_cpcb=np.array(plot_cpcb, dtype =np.int32)\n",
        "plot_air=np.array(plot_air, dtype =np.int32)\n",
        "\n",
        "\n",
        "plt.plot(plot_cpcb)\n",
        "plt.plot(plot_air)\n",
        "  \n",
        " \n"
      ],
      "execution_count": 0,
      "outputs": []
    },
    {
      "cell_type": "code",
      "metadata": {
        "id": "4OH-k-KDuqEh",
        "colab_type": "code",
        "colab": {}
      },
      "source": [
        "# # with open('/content/gdrive/My Drive/RAW/RAW_Batch1/airveda.csv') as file : \n",
        "# #   read = csv.reader(file, delimiter =',')\n",
        "# #   for row in read:\n",
        "# #     print(row)\n",
        "    \n",
        "    \n",
        "    \n",
        "# temp = os.listdir('/content/gdrive/My Drive/RAW/RAW_Batch1/')\n",
        "# print(temp)\n",
        "# for file in temp:\n",
        "#   if(file.endswith('.csv')):\n",
        "#     print(file)"
      ],
      "execution_count": 0,
      "outputs": []
    },
    {
      "cell_type": "code",
      "metadata": {
        "id": "UduO-sbCW-sM",
        "colab_type": "code",
        "colab": {}
      },
      "source": [
        ""
      ],
      "execution_count": 0,
      "outputs": []
    }
  ]
}