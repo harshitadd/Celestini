{
  "nbformat": 4,
  "nbformat_minor": 0,
  "metadata": {
    "colab": {
      "name": "Regressor.ipynb",
      "version": "0.3.2",
      "provenance": [],
      "collapsed_sections": [],
      "include_colab_link": true
    },
    "kernelspec": {
      "name": "python3",
      "display_name": "Python 3"
    },
    "accelerator": "GPU"
  },
  "cells": [
    {
      "cell_type": "markdown",
      "metadata": {
        "id": "view-in-github",
        "colab_type": "text"
      },
      "source": [
        "<a href=\"https://colab.research.google.com/github/harshitadd/Celestini/blob/master/Regressor.ipynb\" target=\"_parent\"><img src=\"https://colab.research.google.com/assets/colab-badge.svg\" alt=\"Open In Colab\"/></a>"
      ]
    },
    {
      "cell_type": "code",
      "metadata": {
        "id": "6LiVWHGELr_E",
        "colab_type": "code",
        "outputId": "0f0b224a-5f75-48ec-c001-67e8b4ac5a30",
        "colab": {
          "base_uri": "https://localhost:8080/",
          "height": 72
        }
      },
      "source": [
        "!pip install rawpy  ##tells collab that this is a cmd - whatever cmd , just prefix  !\n",
        "import numpy as np \n",
        "import cv2 \n",
        "import rawpy \n",
        "import imageio\n",
        "from sklearn.linear_model import LinearRegression \n",
        "import os \n",
        "import math\n",
        "import matplotlib.pyplot as plt \n",
        "import csv\n",
        "from sklearn.preprocessing import MinMaxScaler\n",
        "from sklearn.metrics import mean_squared_error"
      ],
      "execution_count": 64,
      "outputs": [
        {
          "output_type": "stream",
          "text": [
            "Requirement already satisfied: rawpy in /usr/local/lib/python3.6/dist-packages (0.13.1)\n",
            "Requirement already satisfied: numpy in /usr/local/lib/python3.6/dist-packages (from rawpy) (1.16.4)\n"
          ],
          "name": "stdout"
        }
      ]
    },
    {
      "cell_type": "code",
      "metadata": {
        "id": "WE168ZF0L36x",
        "colab_type": "code",
        "outputId": "c04c6f2a-706d-4374-a38b-7f735d21332b",
        "colab": {
          "base_uri": "https://localhost:8080/",
          "height": 55
        }
      },
      "source": [
        "from google.colab import drive \n",
        "drive.mount('/content/gdrive')\n",
        "root_path = 'gdrive/My Drive/RAW/'  #change dir to your project folder\n"
      ],
      "execution_count": 5,
      "outputs": [
        {
          "output_type": "stream",
          "text": [
            "Drive already mounted at /content/gdrive; to attempt to forcibly remount, call drive.mount(\"/content/gdrive\", force_remount=True).\n"
          ],
          "name": "stdout"
        }
      ]
    },
    {
      "cell_type": "code",
      "metadata": {
        "id": "THcXn2feMF--",
        "colab_type": "code",
        "colab": {
          "base_uri": "https://localhost:8080/",
          "height": 69
        },
        "outputId": "543d6881-03d9-484d-eccb-11f80360b343"
      },
      "source": [
        "##UPLOAD AIRVEDA CSV FIRST \n",
        "temp = os.listdir('/content/gdrive/My Drive/RAW/RAW_Batch1/')\n",
        "jpg_names=[]\n",
        "name_jpg=[]\n",
        "dummy=[]\n",
        "origin_time={}           #storing original timestamps \n",
        "#loading .jpg file names (ONLY Names) from RAW_Batch1\n",
        "for name in temp: \n",
        "    path = '/content/gdrive/My Drive/RAW/RAW_Batch1/' + str(name)\n",
        "    if(name.endswith('.jpg')):\n",
        "      try: \n",
        "        name_jpg.append(path)\n",
        "        dummy=name.split('_')\n",
        "        k=str(dummy[1])+str(dummy[2])+str(dummy[3])+str(dummy[4])+str(dummy[5])\n",
        "        jpg_names.append(k)\n",
        "        origin_time[path]=k\n",
        "      except: \n",
        "        print(name)\n",
        "\n",
        "\n",
        "print(len(jpg_names))\n",
        "print(len(origin_time))\n",
        "print(len(name_jpg))\n"
      ],
      "execution_count": 6,
      "outputs": [
        {
          "output_type": "stream",
          "text": [
            "713\n",
            "713\n",
            "713\n"
          ],
          "name": "stdout"
        }
      ]
    },
    {
      "cell_type": "code",
      "metadata": {
        "id": "7gDRWIbdhyq6",
        "colab_type": "code",
        "colab": {
          "base_uri": "https://localhost:8080/",
          "height": 35
        },
        "outputId": "a9eface5-dc75-4200-8065-3505a9aa621c"
      },
      "source": [
        "#Opening AirVeda csv \n",
        "\n",
        "temp={}\n",
        "with open('/content/airveda.csv', mode ='r') as csv_file: \n",
        "      csv_reader=csv.reader(csv_file)\n",
        "      for row in csv_reader: \n",
        "        temp[row[0]]=row[2]\n",
        "stamp={}\n",
        "for iter in temp: \n",
        "  try: \n",
        "    k=iter.split(':')\n",
        "    stamp[(str(k[0])+ str(k[1]))]=temp[iter]\n",
        "  except: \n",
        "    pass \n",
        "  \n",
        "y={}\n",
        "for stp in stamp: \n",
        "    x=stp.split('-')\n",
        "    y[(str(x[0])+str(x[1])+str(x[2]))]=stamp[stp]\n",
        "\n",
        "    \n",
        "final_av={}\n",
        "for ctr in y:\n",
        "  z=ctr.split(' ')\n",
        "  final_av[(str(z[0])+str(z[1]))]=y[ctr]\n",
        "  \n",
        "\n",
        "  \n",
        "print(len(final_av))"
      ],
      "execution_count": 7,
      "outputs": [
        {
          "output_type": "stream",
          "text": [
            "2800\n"
          ],
          "name": "stdout"
        }
      ]
    },
    {
      "cell_type": "code",
      "metadata": {
        "id": "pOz_SvGsceMI",
        "colab_type": "code",
        "colab": {}
      },
      "source": [
        "def transmission(img, lt = 230, retMean = False):\n",
        "  ker = np.ones((3, 3))/9.0\n",
        "  imgrgb = cv2.cvtColor(img, cv2.COLOR_BGR2RGB)\n",
        "  b, g, r = cv2.split(img)\n",
        "  hsv = cv2.cvtColor(imgrgb, cv2.COLOR_RGB2HSV)\n",
        "  _, _, v = cv2.split(hsv)\n",
        "  v_blur = cv2.filter2D(v, -1, ker)\n",
        "  _,building_mask = cv2.threshold(v_blur, lt, 255, cv2.THRESH_BINARY)\n",
        "  sky = cv2.bitwise_and(imgrgb, imgrgb, mask = building_mask)\n",
        "  sky_mask = cv2.bitwise_not(building_mask, building_mask.copy())\n",
        "  building = cv2.bitwise_and(imgrgb, imgrgb, mask = sky_mask)\n",
        "  #f, ax = plt.subplots(2, 1, figsize = (15, 15))\n",
        "  #ax[0].imshow(imgrgb)\n",
        "  #ax[1].imshow(sky)\n",
        "  #ax[2].imshow(building)\n",
        "  al = max(v_blur.flatten())\n",
        "  #Airlight Found. Now calculate Transmission Map\n",
        "  img_norm = img/float(al)\n",
        "  b, g, r = cv2.split(img_norm)\n",
        "  kernel = np.ones((3,3),np.uint8)\n",
        "  im_new = np.zeros((img.shape[0], img.shape[1]))\n",
        "  for i in range(img.shape[0]):\n",
        "    for j in range(img.shape[1]):\n",
        "      im_new[i][j] = min(b[i][j], g[i][j], r[i][j])\n",
        "  dcp = cv2.erode(im_new, kernel, iterations = 1)\n",
        "  #ax[3].imshow(im_new, cmap = 'gray')\n",
        "  #ax[4].imshow(dcp, cmap = 'gray')\n",
        "  tr = np.ones((dcp.shape[0], dcp.shape[1]))\n",
        "  for i in range(dcp.shape[0]):\n",
        "    for j in range(dcp.shape[1]):\n",
        "      tr[i][j] = 1 - dcp[i][j]\n",
        "  #ax[1].imshow(tr, cmap = 'gray')\n",
        "  if retMean == False:\n",
        "    return tr\n",
        "  elif retMean == True:\n",
        "    return np.mean(tr)"
      ],
      "execution_count": 0,
      "outputs": []
    },
    {
      "cell_type": "code",
      "metadata": {
        "id": "atSGv9a2h5yE",
        "colab_type": "code",
        "colab": {}
      },
      "source": [
        "#Matching airveda data with jpeg names to getting matching timestamps \n",
        "\n",
        "match={}\n",
        "for name in jpg_names:\n",
        "  for stmp in final_av: \n",
        "    if(stmp==name and stmp not in match):\n",
        "      match[stmp]=final_av[stmp]\n",
        "      \n",
        "#print((match))\n",
        "\n",
        "      \n",
        "\n",
        "timestamps=[]\n",
        "\n",
        "for key in match:\n",
        "  timestamps.append(str(key))\n",
        "  \n",
        "print(timestamps)\n",
        "print(len(timestamps))\n",
        "\n",
        "hours=[]\n",
        "for stamp in timestamps: \n",
        "    hours.append(stamp[8:-2])\n",
        "\n",
        "print(hours)\n",
        "print(len(hours))\n",
        "hours = np.array(hours, dtype=np.int32)\n",
        "\n",
        "pm=[]\n",
        "for p in match:\n",
        "  pm.append(match[p])\n",
        "\n",
        "print(pm)\n",
        "print(len(pm))\n",
        "pm=np.array(pm, dtype=np.int32)\n",
        "#Plotting time against pm \n",
        "\n",
        "f,ax = plt.subplots(1,1,figsize=(10,10))\n",
        "ax.scatter(hours,pm)\n"
      ],
      "execution_count": 0,
      "outputs": []
    },
    {
      "cell_type": "code",
      "metadata": {
        "id": "4DjTGrhslgQb",
        "colab_type": "code",
        "colab": {}
      },
      "source": [
        "#Matching matched timestamps to the images that should be read \n",
        "crspond={}\n",
        "for key in match: \n",
        "  for val in origin_time: \n",
        "    if(origin_time[val]==key):\n",
        "      value=[]\n",
        "      value.append(match[key])\n",
        "      value.append(key)\n",
        "      crspond[val]=value\n",
        "      break\n",
        "      \n",
        "\n",
        "print(len(crspond))\n",
        "\n",
        "trans_jpg=[]\n",
        "entropy_jpg=[]\n",
        "contrast_jpg=[]\n",
        "images_jpg=[]\n",
        "k=0\n",
        "for key in crspond:\n",
        "  try:\n",
        "    read = cv2.imread(key)\n",
        "    read = cv2.resize(read, (32, 32))\n",
        "    images_jpg.append(read)\n",
        "    k+=1\n",
        "    print(k)\n",
        "  except: \n",
        "    print(name)\n",
        "    \n",
        "    \n"
      ],
      "execution_count": 0,
      "outputs": []
    },
    {
      "cell_type": "code",
      "metadata": {
        "id": "QBIG8A6_gmT5",
        "colab_type": "code",
        "colab": {}
      },
      "source": [
        "print(crspond)"
      ],
      "execution_count": 0,
      "outputs": []
    },
    {
      "cell_type": "code",
      "metadata": {
        "id": "CG4oH3TZgXhp",
        "colab_type": "code",
        "colab": {}
      },
      "source": [
        "print(len(images_jpg))"
      ],
      "execution_count": 0,
      "outputs": []
    },
    {
      "cell_type": "code",
      "metadata": {
        "id": "Rdh97vtnHDUe",
        "colab_type": "code",
        "colab": {}
      },
      "source": [
        "print(images_jpg[-1])"
      ],
      "execution_count": 0,
      "outputs": []
    },
    {
      "cell_type": "code",
      "metadata": {
        "id": "eFSXkaqFNbJW",
        "colab_type": "code",
        "colab": {}
      },
      "source": [
        "def contrast(image):\n",
        "  image = cv2.cvtColor(image, cv2.COLOR_BGR2GRAY)\n",
        "  s = 0\n",
        "  ss = 0\n",
        "  mean = np.mean(image)\n",
        "  x = (-1 * mean * (np.ones(image.shape)))\n",
        "  ss = np.square(np.add(image, x))\n",
        "  cont = np.sqrt(np.sum(ss)/float(image.size))\n",
        "  return cont"
      ],
      "execution_count": 0,
      "outputs": []
    },
    {
      "cell_type": "code",
      "metadata": {
        "id": "n-E2UCqQNdtL",
        "colab_type": "code",
        "colab": {}
      },
      "source": [
        "def entropy(image):\n",
        "  image = cv2.cvtColor(image, cv2.COLOR_BGR2GRAY)\n",
        "  hist = cv2.calcHist( [image.astype('float32')],\n",
        "              [0], \n",
        "              None,\n",
        "               [256], \n",
        "              [0,256] )\n",
        "  h_norm = 0\n",
        "  h_norm = cv2.normalize(hist, h_norm)\n",
        "  ent = 0\n",
        "  for p in h_norm:\n",
        "    try:\n",
        "      ent += p*math.log(p, 2)\n",
        "    except:\n",
        "      pass\n",
        "  return (-1 * ent[0])"
      ],
      "execution_count": 0,
      "outputs": []
    },
    {
      "cell_type": "code",
      "metadata": {
        "id": "OSlKMDvaQFd1",
        "colab_type": "code",
        "colab": {}
      },
      "source": [
        "def transmission(img, lt = 230, retMean = False):\n",
        "  ker = np.ones((3, 3))/9.0\n",
        "  imgrgb = cv2.cvtColor(img, cv2.COLOR_BGR2RGB)\n",
        "  b, g, r = cv2.split(img)\n",
        "  hsv = cv2.cvtColor(imgrgb, cv2.COLOR_RGB2HSV)\n",
        "  _, _, v = cv2.split(hsv)\n",
        "  v_blur = cv2.filter2D(v, -1, ker)\n",
        "  _,building_mask = cv2.threshold(v_blur, lt, 255, cv2.THRESH_BINARY)\n",
        "  sky = cv2.bitwise_and(imgrgb, imgrgb, mask = building_mask)\n",
        "  sky_mask = cv2.bitwise_not(building_mask, building_mask.copy())\n",
        "  building = cv2.bitwise_and(imgrgb, imgrgb, mask = sky_mask)\n",
        "  #f, ax = plt.subplots(2, 1, figsize = (15, 15))\n",
        "  #ax[0].imshow(imgrgb)\n",
        "  #ax[1].imshow(sky)\n",
        "  #ax[2].imshow(building)\n",
        "  al = max(v_blur.flatten())\n",
        "  #Airlight Found. Now calculate Transmission Map\n",
        "  img_norm = img/float(al)\n",
        "  b, g, r = cv2.split(img_norm)\n",
        "  kernel = np.ones((3,3),np.uint8)\n",
        "  im_new = np.zeros((img.shape[0], img.shape[1]))\n",
        "  for i in range(img.shape[0]):\n",
        "    for j in range(img.shape[1]):\n",
        "      im_new[i][j] = min(b[i][j], g[i][j], r[i][j])\n",
        "  dcp = cv2.erode(im_new, kernel, iterations = 1)\n",
        "  #ax[3].imshow(im_new, cmap = 'gray')\n",
        "  #ax[4].imshow(dcp, cmap = 'gray')\n",
        "  tr = np.ones((dcp.shape[0], dcp.shape[1]))\n",
        "  for i in range(dcp.shape[0]):\n",
        "    for j in range(dcp.shape[1]):\n",
        "      tr[i][j] = 1 - dcp[i][j]\n",
        "  #ax[1].imshow(tr, cmap = 'gray')\n",
        "  if retMean == False:\n",
        "    return tr\n",
        "  elif retMean == True:\n",
        "    return np.mean(tr)"
      ],
      "execution_count": 0,
      "outputs": []
    },
    {
      "cell_type": "code",
      "metadata": {
        "id": "gx_cGVqPNgMW",
        "colab_type": "code",
        "colab": {}
      },
      "source": [
        "trans_jpg=[]\n",
        "for img in images_jpg: \n",
        "  k=transmission(img, retMean= True)\n",
        "  trans_jpg.append(k)\n",
        "  print(k)\n",
        "\n",
        "print(len(trans_jpg))\n",
        "\n"
      ],
      "execution_count": 0,
      "outputs": []
    },
    {
      "cell_type": "code",
      "metadata": {
        "id": "4mqA1EJIPwvo",
        "colab_type": "code",
        "colab": {}
      },
      "source": [
        "contrast_jpg=[]\n",
        "for img in images_jpg: \n",
        "  k=contrast(img)\n",
        "  print(k)\n",
        "  contrast_jpg.append(k)"
      ],
      "execution_count": 0,
      "outputs": []
    },
    {
      "cell_type": "code",
      "metadata": {
        "id": "wgg3KuU1P_i4",
        "colab_type": "code",
        "colab": {}
      },
      "source": [
        "entropy_jpg=[]\n",
        "for img in images_jpg: \n",
        "  k=entropy(img)\n",
        "  print(k)\n",
        "  entropy_jpg.append(k)"
      ],
      "execution_count": 0,
      "outputs": []
    },
    {
      "cell_type": "code",
      "metadata": {
        "id": "be_2_WtCt8yG",
        "colab_type": "code",
        "colab": {}
      },
      "source": [
        "!pip install urlopen\n",
        "import json \n",
        "import requests \n",
        "import urlopen\n",
        "from pandas.io.json import json_normalize\n",
        "\n",
        "with open('/content/weather_historic.json') as file: \n",
        "  data=json.load(file)\n",
        "  store=data[\"data\"]\n",
        "  table=json_normalize(store['weather'])\n",
        "\n",
        "  #print(json.dumps(data, indent =4))  \n",
        "  index=table.index\n",
        "  columns=table.columns \n",
        "  values=table.values\n",
        "\n",
        " "
      ],
      "execution_count": 0,
      "outputs": []
    },
    {
      "cell_type": "code",
      "metadata": {
        "id": "SHZ5ODQKy2xL",
        "colab_type": "code",
        "colab": {}
      },
      "source": [
        "#!pip install pickle \n",
        "import pickle \n",
        "'''([int(year+month+day1+time[0:2]+\"00\"),float(hour[\"windspeedKmph\"]),float(hour[\"tempC\"]),float(hour[\"precipMM\"]), float(hour[\"HeatIndexC\"]), float(hour[\"humidity\"]), float(hour[\"pressure\"]), float(hour[\"visibility\"]) ])'''\n",
        "\n",
        "with open('/content/data (2).bin', 'rb') as file:\n",
        "  atad = pickle.load(file)\n",
        "\n",
        "# print(len(atad))\n",
        "# print(atad)\n",
        "\n",
        "#print(len(data))\n",
        "\n",
        "windspeed=[]\n",
        "temp=[]\n",
        "prec=[]\n",
        "\n",
        "humidity=[]\n",
        "pressure=[]\n",
        "visibility=[]\n",
        "\n",
        "\n",
        "for e in atad:\n",
        "  for j in e:\n",
        "    windspeed.append(j[0])\n",
        "    temp.append(j[1])\n",
        "    prec.append(j[2])\n",
        "    humidity.append(j[4])\n",
        "    pressure.append(j[5])\n",
        "    visibility.append(j[6])\n",
        "\n",
        "    \n",
        "# print(windspeed)\n",
        "# print(visibility)\n"
      ],
      "execution_count": 0,
      "outputs": []
    },
    {
      "cell_type": "code",
      "metadata": {
        "id": "gJ_txsamkGgc",
        "colab_type": "code",
        "colab": {}
      },
      "source": [
        "print(len(timestamps))\n",
        "print(len(trans_jpg))\n",
        "print(len(entropy_jpg))\n",
        "print(len(contrast_jpg))\n",
        "print(len(windspeed))\n",
        "print(len(temp))\n",
        "print(len(humidity))\n",
        "print(len(pressure))\n",
        "print(len(visibility))\n",
        "print(len(prec))\n",
        "#Mapping final timestamps to weather data \n",
        "\n",
        "\n",
        "\n"
      ],
      "execution_count": 0,
      "outputs": []
    },
    {
      "cell_type": "code",
      "metadata": {
        "colab_type": "code",
        "outputId": "7066e7cb-e10a-491e-b690-325cac55590f",
        "id": "tB3OavHh_nsi",
        "colab": {
          "base_uri": "https://localhost:8080/",
          "height": 139
        }
      },
      "source": [
        "#FEATURE FINETUNING \n",
        "\n",
        "#Converting timestamps to int \n",
        "hours=np.reshape(np.array(list(map(int,hours))), (322, 1))\n",
        "transmission=np.reshape(np.array(list(map(float,trans_jpg))), (322, 1))\n",
        "entropy=np.reshape(np.array(list(map(float,entropy_jpg))), (322, 1))\n",
        "contrast=np.reshape(np.array(list(map(float,contrast_jpg))),(322,1))\n",
        "windspeed=np.reshape(windspeed, (322,1))\n",
        "temp=np.reshape(temp, (322,1))\n",
        "humidity=np.reshape(humidity, (322,1))\n",
        "pressure=np.reshape(pressure, (322,1))\n",
        "visibility=np.reshape(visibility, (322,1))\n",
        "prec=np.reshape(prec, (322,1))\n",
        "\n",
        "features=np.hstack((hours, transmission, entropy, contrast))\n",
        "print(features)\n",
        "\n"
      ],
      "execution_count": 59,
      "outputs": [
        {
          "output_type": "stream",
          "text": [
            "[[18.          0.73241419 44.10022736 68.74766409]\n",
            " [18.          0.72683441 44.27140045 69.35324794]\n",
            " [18.          0.7314876  46.13936615 68.04237884]\n",
            " ...\n",
            " [18.          0.74400659 44.17639923 70.76689819]\n",
            " [18.          0.7405216  45.16226578 70.11360843]\n",
            " [18.          0.72589614 46.42108536 68.82514667]]\n"
          ],
          "name": "stdout"
        }
      ]
    },
    {
      "cell_type": "code",
      "metadata": {
        "id": "LG18Ww8gsKoZ",
        "colab_type": "code",
        "outputId": "3237d48c-910a-4501-dd91-7d62619b1f78",
        "colab": {
          "base_uri": "https://localhost:8080/",
          "height": 364
        }
      },
      "source": [
        "#REGRESSION \n",
        "regr = LinearRegression()\n",
        "labels = pm\n",
        "from sklearn.model_selection import train_test_split\n",
        "features = np.hstack((hours,transmission,entropy, contrast, windspeed, temp, humidity, pressure, visibility, prec))\n",
        "print(np.shape(labels))\n",
        "print(np.shape(features))\n",
        "x_train, x_test, y_train, y_test = train_test_split(features,labels,test_size=0.3, random_state= 42 )\n",
        "regr.fit(x_train, y_train)  \n",
        "pred = regr.predict(x_test)\n",
        "print(pred)\n",
        "\n",
        "print(mean_squared_error(pred, y_test)**0.5)\n",
        "\n"
      ],
      "execution_count": 65,
      "outputs": [
        {
          "output_type": "stream",
          "text": [
            "(322,)\n",
            "(322, 10)\n",
            "[40.78434478 40.00096658 39.03803042 46.94796187 33.49010404 43.88497733\n",
            " 52.78259263 47.8153511  46.19340392 78.24437598 39.29011659 40.5736488\n",
            " 69.85598861 39.97177991 41.23192675 64.61496359 40.53296595 41.62908549\n",
            " 64.57969068 58.17937595 37.43113406 40.76615756 73.90731016 72.03390236\n",
            " 78.49294839 39.81375915 42.53129718 39.3619013  40.10380995 52.37362871\n",
            " 34.5364134  34.97788604 39.91178092 36.88972761 51.43215265 41.22930562\n",
            " 77.04030972 69.47284135 45.94031086 35.65967315 76.59818891 68.07225959\n",
            " 70.87383386 28.09826052 75.03190765 76.45184443 41.00533309 40.53275714\n",
            " 46.43944629 40.34983466 40.44227581 57.13198202 41.58491353 41.45217823\n",
            " 68.75766471 66.00239255 52.0905055  35.1420519  45.96795301 41.89860702\n",
            " 43.20244894 39.66692291 46.01728168 56.29243502 41.3980355  41.71630575\n",
            " 44.34520794 65.09492935 40.7109347  38.5425685  40.83454733 36.84855672\n",
            " 42.00427011 53.49099997 71.51506491 38.21425217 37.55634688 29.58894566\n",
            " 47.19765414 71.2505326  64.02696474 41.4194911  48.88381307 40.65743113\n",
            " 47.67229003 40.83215887 39.42816127 35.61838866 30.45454728 38.06033124\n",
            " 71.72418088 67.19541873 74.73692959 49.09762874 41.2412758  31.71354943\n",
            " 47.16818979]\n",
            "18.593404396922157\n"
          ],
          "name": "stdout"
        }
      ]
    },
    {
      "cell_type": "code",
      "metadata": {
        "id": "Pwsgg50TxTeK",
        "colab_type": "code",
        "colab": {}
      },
      "source": [
        ""
      ],
      "execution_count": 0,
      "outputs": []
    }
  ]
}