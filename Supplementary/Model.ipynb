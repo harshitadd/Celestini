{
  "nbformat": 4,
  "nbformat_minor": 0,
  "metadata": {
    "colab": {
      "name": "Model.ipynb",
      "version": "0.3.2",
      "provenance": [],
      "collapsed_sections": [],
      "include_colab_link": true
    },
    "kernelspec": {
      "name": "python3",
      "display_name": "Python 3"
    },
    "accelerator": "GPU"
  },
  "cells": [
    {
      "cell_type": "markdown",
      "metadata": {
        "id": "view-in-github",
        "colab_type": "text"
      },
      "source": [
        "<a href=\"https://colab.research.google.com/github/harshitadd/Celestini/blob/master/Model.ipynb\" target=\"_parent\"><img src=\"https://colab.research.google.com/assets/colab-badge.svg\" alt=\"Open In Colab\"/></a>"
      ]
    },
    {
      "cell_type": "code",
      "metadata": {
        "id": "lbF3DWgwxU4c",
        "colab_type": "code",
        "colab": {}
      },
      "source": [
        "!pip install firebase-admin\n",
        "import pandas as pd\n",
        "import os \n",
        "import math\n",
        "import cv2\n",
        "import numpy as np \n",
        "import csv\n",
        "from sklearn.linear_model import LinearRegression, SGDRegressor\n",
        "from sklearn.metrics import mean_squared_error, mean_absolute_error\n",
        "from sklearn.ensemble import RandomForestRegressor\n",
        "from sklearn.model_selection import train_test_split\n",
        "from sklearn.preprocessing import StandardScaler, MinMaxScaler\n",
        "import matplotlib.pyplot as plt \n",
        "import warnings\n",
        "from sklearn.model_selection import cross_val_predict, cross_val_score"
      ],
      "execution_count": 0,
      "outputs": []
    },
    {
      "cell_type": "code",
      "metadata": {
        "id": "XPikjYQfxjHO",
        "colab_type": "code",
        "colab": {}
      },
      "source": [
        "warnings.simplefilter('ignore')"
      ],
      "execution_count": 0,
      "outputs": []
    },
    {
      "cell_type": "code",
      "metadata": {
        "id": "IW0gX6S9rp5z",
        "colab_type": "code",
        "colab": {}
      },
      "source": [
        "# Run this cell to mount your Google Drive.\n",
        "from google.colab import drive\n",
        "drive.mount('/content/gdrive')\n",
        "root_path = 'gdrive/My Drive/croppedimg.zip'  #change dir to your project folder\n"
      ],
      "execution_count": 0,
      "outputs": []
    },
    {
      "cell_type": "code",
      "metadata": {
        "id": "Tx_dBBs5v4E2",
        "colab_type": "code",
        "colab": {}
      },
      "source": [
        "!unzip gdrive/My\\ Drive/croppedimg.zip"
      ],
      "execution_count": 0,
      "outputs": []
    },
    {
      "cell_type": "code",
      "metadata": {
        "id": "seA67vbzwkuX",
        "colab_type": "code",
        "colab": {}
      },
      "source": [
        "dir = os.listdir('/content/')\n",
        "print(dir)\n",
        "shanghai=[]\n",
        "for file in dir:\n",
        "  if(file.endswith('.jpg') and file[:4]=='2014'):\n",
        "    print(file)\n",
        "    shanghai.append('/content/' + str(file))\n",
        "    \n",
        "   "
      ],
      "execution_count": 0,
      "outputs": []
    },
    {
      "cell_type": "code",
      "metadata": {
        "id": "xKznYtt-yl2F",
        "colab_type": "code",
        "colab": {}
      },
      "source": [
        "im_trans_=[]\n",
        "im_cont_=[]\n",
        "im_ent_=[]\n",
        "im_read_=[]\n",
        "shanghai.sort()\n",
        "\n",
        "print(shanghai)\n",
        "\n",
        "for img in shanghai:\n",
        "  im = cv2.imread(img)\n",
        "  im = cv2.resize(im,(128,128))\n",
        "  im_read_.append(im)\n",
        "  im_trans_.append(np.ndarray.flatten(transmission(im, retMean = False)))\n",
        "  im_ent_.append(entropy(im))\n",
        "  im_cont_.append(contrast(im))\n",
        " \n"
      ],
      "execution_count": 0,
      "outputs": []
    },
    {
      "cell_type": "code",
      "metadata": {
        "id": "7-FMBOJ5xyqS",
        "colab_type": "code",
        "colab": {}
      },
      "source": [
        "import datetime\n",
        "import firebase_admin\n",
        "from firebase_admin import credentials\n",
        "from firebase_admin import storage\n",
        "\n",
        "# Fetch the service account key JSON file contents\n",
        "cred = credentials.Certificate(\"credentials.json\")\n",
        "\n",
        "# Initialize the app with a service account, granting admin privileges\n",
        "app = firebase_admin.initialize_app(cred, {\n",
        "    'storageBucket': 'fir-4ca2c.appspot.com',\n",
        "}, name='storage')"
      ],
      "execution_count": 0,
      "outputs": []
    },
    {
      "cell_type": "code",
      "metadata": {
        "id": "GuaFfbEexzBb",
        "colab_type": "code",
        "colab": {}
      },
      "source": [
        "def transmission(img, lt = 230, retMean = False):\n",
        "  ker = np.ones((3, 3))/9.0\n",
        "  imgrgb = cv2.cvtColor(img, cv2.COLOR_BGR2RGB)\n",
        "  b, g, r = cv2.split(img)\n",
        "  hsv = cv2.cvtColor(imgrgb, cv2.COLOR_RGB2HSV)\n",
        "  _, _, v = cv2.split(hsv)\n",
        "  v_blur = cv2.filter2D(v, -1, ker)\n",
        "  _,building_mask = cv2.threshold(v_blur, lt, 255, cv2.THRESH_BINARY)\n",
        "  sky = cv2.bitwise_and(imgrgb, imgrgb, mask = building_mask)\n",
        "  sky_mask = cv2.bitwise_not(building_mask, building_mask.copy())\n",
        "  building = cv2.bitwise_and(imgrgb, imgrgb, mask = sky_mask)\n",
        " \n",
        "  al = max(v_blur.flatten())\n",
        "  #Airlight Found. Now calculate Transmission Map\n",
        "  img_norm = img/float(al)\n",
        "  b, g, r = cv2.split(img_norm)\n",
        "  kernel = np.ones((3,3),np.uint8)\n",
        "  im_new = np.zeros((img.shape[0], img.shape[1]))\n",
        "  for i in range(img.shape[0]):\n",
        "    for j in range(img.shape[1]):\n",
        "      im_new[i][j] = min(b[i][j], g[i][j], r[i][j])\n",
        "  dcp = cv2.erode(im_new, kernel, iterations = 1)\n",
        "  #ax[3].imshow(im_new, cmap = 'gray')\n",
        "  #ax[4].imshow(dcp, cmap = 'gray')\n",
        "  tr = np.ones((dcp.shape[0], dcp.shape[1]))\n",
        "  for i in range(dcp.shape[0]):\n",
        "    for j in range(dcp.shape[1]):\n",
        "      tr[i][j] = 1 - dcp[i][j]\n",
        "  #ax[1].imshow(tr, cmap = 'gray')\n",
        "  if retMean == False:\n",
        "    return tr\n",
        "  elif retMean == True:\n",
        "    return np.mean(tr)"
      ],
      "execution_count": 0,
      "outputs": []
    },
    {
      "cell_type": "code",
      "metadata": {
        "id": "52wjz2ztx8z5",
        "colab_type": "code",
        "colab": {}
      },
      "source": [
        "def entropy(image):\n",
        "  image = cv2.cvtColor(image, cv2.COLOR_BGR2GRAY)\n",
        "  hist = cv2.calcHist( [image.astype('float32')],\n",
        "              [0], \n",
        "              None,\n",
        "               [256], \n",
        "              [0,256] )\n",
        "  h_norm = 0\n",
        "  h_norm = cv2.normalize(hist, h_norm)\n",
        "  ent = 0\n",
        "  for p in h_norm:\n",
        "    try:\n",
        "      ent += p*math.log(p, 2)\n",
        "    except:\n",
        "      pass\n",
        "    \n",
        "  return (-1 * ent[0])"
      ],
      "execution_count": 0,
      "outputs": []
    },
    {
      "cell_type": "code",
      "metadata": {
        "id": "sTEXdZvex-4a",
        "colab_type": "code",
        "colab": {}
      },
      "source": [
        "def contrast(image):\n",
        "  image = cv2.cvtColor(image, cv2.COLOR_BGR2GRAY)\n",
        "  s = 0\n",
        "  ss = 0\n",
        "  mean = np.mean(image)\n",
        "  x = (-1 * mean * (np.ones(image.shape)))\n",
        "  ss = np.square(np.add(image, x))\n",
        "  cont = np.sqrt(np.sum(ss)/float(image.size))\n",
        "  return cont"
      ],
      "execution_count": 0,
      "outputs": []
    },
    {
      "cell_type": "code",
      "metadata": {
        "id": "cApWGa-6yA5R",
        "colab_type": "code",
        "colab": {}
      },
      "source": [
        "#Loading E1 - Lenovo data : - sscb labels \n",
        "# until 14:43 - lenovo hold sscb photographs \n",
        "# 16:09 onwards - DTU Photographs \n",
        "\n",
        "bucket = storage.bucket(app=app)\n",
        "blobs = bucket.list_blobs()\n",
        "\n",
        "imglenovo = [] #has all the lenovo images by their name \n",
        "ctr=0\n",
        "mits = set()\n",
        "for blob in blobs:\n",
        "  if blob.name[7:16]==\"lenovoinS\" :\n",
        "    if int(blob.name[-8:-6])<19 and int(blob.name[-8:-6])>5:\n",
        "      blob.download_to_filename('/content/' + \"lenovo\" + str(blob.name.split('/')[-1])+ '.jpeg')\n",
        "      imglenovo.append(\"lenovo\" + str(blob.name.split('/')[-1])+ '.jpeg') \n",
        "      print(\"lenovo\" + str(blob.name.split('/')[-1])+ '.jpeg')\n",
        "      ctr+=1\n",
        "      print(ctr)\n"
      ],
      "execution_count": 0,
      "outputs": []
    },
    {
      "cell_type": "code",
      "metadata": {
        "id": "iz-UUVXGyXS-",
        "colab_type": "code",
        "colab": {}
      },
      "source": [
        "##Loading E2 - Mi data : 760 -- sscb labels \n",
        "# all SSCB photos \n",
        "\n",
        "bucket = storage.bucket(app=app)\n",
        "blobs = bucket.list_blobs()\n",
        "\n",
        "imgminote = [] #has all the minote pictures by their name \n",
        "ctr=0\n",
        "mits = set()\n",
        "for blob in blobs:\n",
        "  if blob.name[7:16]==\"minoteSSC\" :\n",
        "    if int(blob.name[-8:-6])<19 and int(blob.name[-8:-6])>5:\n",
        "        blob.download_to_filename('/content/' + \"minote\" + str(blob.name.split('/')[-1])+ '.jpeg')\n",
        "        imgminote.append(\"minote\" + str(blob.name.split('/')[-1])+ '.jpeg') \n",
        "        print(\"minote\" + str(blob.name.split('/')[-1])+ '.jpeg')\n",
        "        ctr+=1\n",
        "      \n",
        "      \n",
        "\n",
        "print(ctr)"
      ],
      "execution_count": 0,
      "outputs": []
    },
    {
      "cell_type": "code",
      "metadata": {
        "id": "oXWcPzC8zYGc",
        "colab_type": "code",
        "colab": {}
      },
      "source": [
        "bucket = storage.bucket(app=app)\n",
        "blobs = bucket.list_blobs()\n",
        "\n",
        "imgpb = [] #has all the minote pictures by their name \n",
        "ctr=0\n",
        "mits = set()\n",
        "for blob in blobs:\n",
        "  if blob.name.split('/')[1]==\"rivers.jpg\" :\n",
        "    if int(blob.name[-8:-6])<19 and int(blob.name[-8:-6])>5:\n",
        "        print(blob.name)\n",
        "\n",
        "        blob.download_to_filename('/content/' + \"pb\" + str(blob.name.split('/')[-1])+ '.jpeg')\n",
        "        imgpb.append(\"pb\" + str(blob.name.split('/')[-1])+ '.jpeg') \n",
        "        print(\"pb\" + str(blob.name.split('/')[-1])+ '.jpeg')\n",
        "        ctr+=1\n",
        "        print(ctr)"
      ],
      "execution_count": 0,
      "outputs": []
    },
    {
      "cell_type": "code",
      "metadata": {
        "id": "i8-nqnM70Wfh",
        "colab_type": "code",
        "colab": {
          "base_uri": "https://localhost:8080/",
          "height": 87
        },
        "outputId": "d0a3a977-ec1f-4156-e1f7-1f2c88baf997"
      },
      "source": [
        "print(len(imgminote))\n",
        "print(len(imglenovo))\n",
        "print(len(imgpb))\n",
        "print(len(shanghai))\n",
        "\n",
        "imgminote = np.reshape(imgminote,(len(imgminote),1))\n",
        "imglenovo = np.reshape(imglenovo,(len(imglenovo),1))\n",
        "imgpb = np.reshape(imgpb,(len(imgpb),1))\n",
        "#shanghai = np.reshape(shanghai,(len(shanghai),1))"
      ],
      "execution_count": 89,
      "outputs": [
        {
          "output_type": "stream",
          "text": [
            "875\n",
            "881\n",
            "483\n",
            "1953\n"
          ],
          "name": "stdout"
        }
      ]
    },
    {
      "cell_type": "code",
      "metadata": {
        "id": "t8XDx81I1Oj9",
        "colab_type": "code",
        "colab": {
          "base_uri": "https://localhost:8080/",
          "height": 121
        },
        "outputId": "98d45e3a-cc1b-408d-bc0a-b31fe5954b1f"
      },
      "source": [
        "print(imgminote[0])\n",
        "print(imglenovo[0])\n",
        "print(imgpb[0])\n",
        "print([shanghai[0]])\n",
        "\n",
        "\n",
        "print(np.shape(imgminote))\n",
        "print(np.shape(shanghai))"
      ],
      "execution_count": 90,
      "outputs": [
        {
          "output_type": "stream",
          "text": [
            "['minote2019-06-27 15:14:35.jpeg']\n",
            "['lenovo2019-06-27 17:01:04.jpeg']\n",
            "['pb2019-07-03 12:46:45.jpeg']\n",
            "[array(['/content/201405061100.jpg'], dtype='<U29')]\n",
            "(875, 1)\n",
            "(1953, 1)\n"
          ],
          "name": "stdout"
        }
      ]
    },
    {
      "cell_type": "code",
      "metadata": {
        "id": "exQFlvex0t71",
        "colab_type": "code",
        "colab": {}
      },
      "source": [
        "#Ready to stack into a common image \n",
        "\n",
        "images = np.vstack((imgminote,imglenovo, imgpb))"
      ],
      "execution_count": 0,
      "outputs": []
    },
    {
      "cell_type": "code",
      "metadata": {
        "id": "mtbkz6Hf116I",
        "colab_type": "code",
        "colab": {
          "base_uri": "https://localhost:8080/",
          "height": 139
        },
        "outputId": "29db4865-6611-42ae-fe4b-25c12bca6823"
      },
      "source": [
        "print(images)"
      ],
      "execution_count": 116,
      "outputs": [
        {
          "output_type": "stream",
          "text": [
            "[['minote2019-06-27 15:14:35.jpeg']\n",
            " ['minote2019-06-27 15:15:34.jpeg']\n",
            " ['minote2019-06-27 15:16:22.jpeg']\n",
            " ...\n",
            " ['pb2019-07-04 14:35:07.jpeg']\n",
            " ['pb2019-07-04 14:36:07.jpeg']\n",
            " ['pb2019-07-04 16:15:54.jpeg']]\n"
          ],
          "name": "stdout"
        }
      ]
    },
    {
      "cell_type": "code",
      "metadata": {
        "id": "fsDMk6xC17cj",
        "colab_type": "code",
        "colab": {}
      },
      "source": [
        "im_trans=[]\n",
        "im_ent=[]\n",
        "im_cont=[]\n",
        "im_read=[]\n",
        "\n",
        "for img in images:\n",
        "  print(img[0])  \n",
        "  im = cv2.imread(img[0])\n",
        "  im = cv2.resize(im,(128,128))\n",
        "  im_read.append(im)\n",
        "  im_trans.append(np.ndarray.flatten(transmission(im, retMean = False)))\n",
        "  im_ent.append(entropy(im))\n",
        "  im_cont.append(contrast(im))\n",
        "  "
      ],
      "execution_count": 0,
      "outputs": []
    },
    {
      "cell_type": "code",
      "metadata": {
        "id": "xMAoaDOn2S3p",
        "colab_type": "code",
        "colab": {}
      },
      "source": [
        "print(len(im_trans))\n",
        "print(len(im_cont))\n",
        "print(len(im_ent))\n",
        "print(len(images))"
      ],
      "execution_count": 0,
      "outputs": []
    },
    {
      "cell_type": "code",
      "metadata": {
        "id": "tZsbOQY-5F_R",
        "colab_type": "code",
        "colab": {}
      },
      "source": [
        "ctr=0\n",
        "dict={}\n",
        "\n",
        "for img in images:\n",
        "  l=[]\n",
        "  l.append(im_trans[ctr])\n",
        "  l.append(im_cont[ctr])\n",
        "  l.append(im_ent[ctr])\n",
        "  dict[(img[0])]=l  \n",
        "  ctr+=1"
      ],
      "execution_count": 0,
      "outputs": []
    },
    {
      "cell_type": "code",
      "metadata": {
        "id": "aZkCgMOv6YyZ",
        "colab_type": "code",
        "colab": {
          "base_uri": "https://localhost:8080/",
          "height": 1000
        },
        "outputId": "3140ebce-bf24-41d7-f93f-f081580b933d"
      },
      "source": [
        "print(len(dict))\n",
        "print(dict)"
      ],
      "execution_count": 118,
      "outputs": [
        {
          "output_type": "stream",
          "text": ""
          "name": "stdout"
        }
      ]
    },
    {
      "cell_type": "code",
      "metadata": {
        "id": "S-Tmk2aS2htG",
        "colab_type": "code",
        "colab": {
          "base_uri": "https://localhost:8080/",
          "height": 35
        },
        "outputId": "d25f311e-7d71-491f-dc5c-26498d7e7eca"
      },
      "source": [
        "tmp=[]\n",
        "for key in dict:\n",
        "  temp=key[-24:-5]\n",
        "  temp=temp.split('-')\n",
        "  \n",
        "  newtemp=temp[2].split(' ')\n",
        "  \n",
        "  newesttemp=newtemp[1].split(':')\n",
        "  j=int(newesttemp[1])\n",
        "  #print(j)\n",
        "  if(j<=7.5):\n",
        "    final = newtemp[0] + '-' + temp[1] + '-' + temp[0] + ' ' + newesttemp[0] + ':' + '00'\n",
        "  elif(j<=15 or j<=22.5):\n",
        "    final = newtemp[0] + '-' + temp[1] + '-' + temp[0] + ' ' + newesttemp[0] + ':' + '15'\n",
        "  elif(j<=30 or j<=37.5):\n",
        "    final = newtemp[0] + '-' + temp[1] + '-' + temp[0] + ' ' + newesttemp[0] + ':' + '30'\n",
        "  elif(j<=45 or j<=52.5):\n",
        "    final = newtemp[0] + '-' + temp[1] + '-' + temp[0] + ' ' + newesttemp[0] + ':' + '45'\n",
        "  elif(j>52.5):\n",
        "    final = newtemp[0] + '-' + temp[1] + '-' + temp[0] + ' ' + newesttemp[0] + ':' + '00'\n",
        "  tmp.append(final)\n",
        "  \n",
        "  \n",
        "print(len(tmp))"
      ],
      "execution_count": 21,
      "outputs": [
        {
          "output_type": "stream",
          "text": [
            "2239\n"
          ],
          "name": "stdout"
        }
      ]
    },
    {
      "cell_type": "code",
      "metadata": {
        "id": "U_nNqYdp6ioT",
        "colab_type": "code",
        "colab": {}
      },
      "source": [
        "##Modified timestamp with e,c,t\n",
        "\n",
        "i=0\n",
        "ecttime=[]\n",
        "for key in dict:\n",
        "  l=[]\n",
        "  l.append(tmp[i])\n",
        "  l.append(dict[key])\n",
        "  ecttime.append(l)\n",
        "  i+=1"
      ],
      "execution_count": 0,
      "outputs": []
    },
    {
      "cell_type": "code",
      "metadata": {
        "id": "pmk9_kzy6rGN",
        "colab_type": "code",
        "colab": {}
      },
      "source": [
        "\n"
      ],
      "execution_count": 0,
      "outputs": []
    },
    {
      "cell_type": "code",
      "metadata": {
        "id": "J17M6RrS6vOt",
        "colab_type": "code",
        "colab": {}
      },
      "source": [
        "##DROPPING NONE VALUES\n",
        "\n",
        "\n",
        "df = pd.read_csv('/content/labels.csv')\n",
        "data = df.mask(df.eq('None')).dropna()\n",
        "file = data.to_csv('/content/labels_new.csv')\n",
        "\n",
        "\n",
        "df_ = pd.read_csv('/content/labels_pb.csv')\n",
        "data_ = df_.mask(df.eq('None')).dropna()\n",
        "file_ = data_.to_csv('/content/labels_pb_new.csv')\n"
      ],
      "execution_count": 0,
      "outputs": []
    },
    {
      "cell_type": "code",
      "metadata": {
        "id": "fWRuZCbW-xa_",
        "colab_type": "code",
        "colab": {}
      },
      "source": [
        "k=0\n",
        "cpcb=[]\n",
        "\n",
        "\n",
        "with open('/content/labels_new.csv') as file:\n",
        "  reader = csv.reader(file, delimiter =',')\n",
        "  for row in reader:\n",
        "    k+=1\n",
        "    if(k>=3):\n",
        "      l=[]\n",
        "      l.append(row[2])\n",
        "      l.append(row[4]) #PM\n",
        "      l.append(row[3]) #RH\n",
        "      cpcb.append(l)      \n",
        "\n",
        "    \n",
        "    \n",
        "\n",
        "with open('/content/labels_pb_new.csv') as file:\n",
        "  reader = csv.reader(file, delimiter =',')\n",
        "  for row in reader:\n",
        "    k+=1\n",
        "    if(k>=3):\n",
        "      l=[]\n",
        "      l.append(row[2])\n",
        "      l.append(row[4]) #PM\n",
        "      l.append(row[3]) #RH\n",
        "      cpcb.append(l)      "
      ],
      "execution_count": 0,
      "outputs": []
    },
    {
      "cell_type": "code",
      "metadata": {
        "id": "1aQ45I18ASM7",
        "colab_type": "code",
        "colab": {
          "base_uri": "https://localhost:8080/",
          "height": 52
        },
        "outputId": "b20e95f7-ce8b-4c80-a2c1-0c04c82c5886"
      },
      "source": [
        "print(len(cpcb))\n",
        "for ele in cpcb:\n",
        "  print(ele)\n",
        "  break\n"
      ],
      "execution_count": 25,
      "outputs": [
        {
          "output_type": "stream",
          "text": [
            "989\n",
            "['27-06-2019 00:15', '61', '0.3']\n"
          ],
          "name": "stdout"
        }
      ]
    },
    {
      "cell_type": "code",
      "metadata": {
        "id": "46o2fzNqBT4i",
        "colab_type": "code",
        "colab": {}
      },
      "source": [
        ""
      ],
      "execution_count": 0,
      "outputs": []
    },
    {
      "cell_type": "code",
      "metadata": {
        "id": "WXu8Z9T5AYHt",
        "colab_type": "code",
        "colab": {}
      },
      "source": [
        "final=[]\n",
        "for e in ecttime:\n",
        "  for tmp in cpcb:\n",
        "    if(tmp[0] == e[0]):\n",
        "      l=[]\n",
        "      l.append(tmp[0])\n",
        "      l.append(e[1])\n",
        "      l.append(tmp[2])\n",
        "      l.append(tmp[1])\n",
        "      final.append(l)\n",
        "      break\n"
      ],
      "execution_count": 0,
      "outputs": []
    },
    {
      "cell_type": "code",
      "metadata": {
        "id": "c0xPTlpQBGLy",
        "colab_type": "code",
        "colab": {
          "base_uri": "https://localhost:8080/",
          "height": 35
        },
        "outputId": "eec50985-2851-42ed-918e-848edc23e22e"
      },
      "source": [
        "print(len(final))"
      ],
      "execution_count": 27,
      "outputs": [
        {
          "output_type": "stream",
          "text": [
            "1939\n"
          ],
          "name": "stdout"
        }
      ]
    },
    {
      "cell_type": "code",
      "metadata": {
        "id": "YdFpsyeeBKXn",
        "colab_type": "code",
        "colab": {
          "base_uri": "https://localhost:8080/",
          "height": 52
        },
        "outputId": "a2191a4a-a7c8-41b7-8955-0e0f97014ebf"
      },
      "source": [
        "print(final[0])"
      ],
      "execution_count": 28,
      "outputs": [
        {
          "output_type": "stream",
          "text": [
            "['27-06-2019 15:15', [array([0.92156863, 0.92156863, 0.92156863, ..., 0.92941176, 0.92941176,\n",
            "       0.91764706]), 56.17309332041681, 45.37183380126953], '0.3', '47']\n"
          ],
          "name": "stdout"
        }
      ]
    },
    {
      "cell_type": "code",
      "metadata": {
        "id": "nrydV9-L3NY3",
        "colab_type": "code",
        "colab": {}
      },
      "source": [
        "import pickle \n",
        "with open('/shanghai_data.bin', 'rb') as file:\n",
        "  data = pickle.load(file)"
      ],
      "execution_count": 0,
      "outputs": []
    },
    {
      "cell_type": "code",
      "metadata": {
        "id": "shTep7z84J_Q",
        "colab_type": "code",
        "colab": {
          "base_uri": "https://localhost:8080/",
          "height": 52
        },
        "outputId": "eea7a1a1-3f35-4f3e-8a3b-657c4e0176b2"
      },
      "source": [
        "features = np.array(data[0])\n",
        "labels = np.array(data[1])\n",
        "print(np.shape(features), np.shape(labels))\n",
        "print(labels[0])\n",
        "\n",
        "\n"
      ],
      "execution_count": 107,
      "outputs": [
        {
          "output_type": "stream",
          "text": [
            "(1542, 259) (1542,)\n",
            "26.0\n"
          ],
          "name": "stdout"
        }
      ]
    },
    {
      "cell_type": "code",
      "metadata": {
        "id": "1aljR9iY6rec",
        "colab_type": "code",
        "colab": {
          "base_uri": "https://localhost:8080/",
          "height": 176
        },
        "outputId": "b7ea766d-8310-4d50-f285-2134aff5d953"
      },
      "source": [
        "print(data[0])\n",
        "print(data[1])"
      ],
      "execution_count": 111,
      "outputs": [
        {
          "output_type": "stream",
          "text": [
            "[[0.08108108 0.08108108 0.09009009 ... 0.59019669 0.4641165  0.61396847]\n",
            " [0.22580645 0.22580645 0.22119816 ... 0.15210725 0.26043559 0.53446094]\n",
            " [0.11453744 0.11453744 0.11013216 ... 0.57783903 0.35867383 0.51593603]\n",
            " ...\n",
            " [0.13191489 0.13191489 0.13191489 ... 0.42499362 0.59138912 0.47819583]\n",
            " [0.07964602 0.07964602 0.07522124 ... 0.52378471 0.48524375 0.19249799]\n",
            " [0.11297071 0.11715481 0.11715481 ... 0.59710812 0.74194161 0.60683466]]\n",
            "[26.0, 31.0, 59.0, 45.0, 9.0, 51.0, 43.0, 150.0, 43.0, 13.0, 30.0, 21.0, 38.0, 99.0, 78.0, 42.0, 92.0, 47.0, 13.0, 47.0, 24.0, 83.0, 43.0, 41.0, 23.0, 37.0, 21.0, 27.0, 75.0, 38.0, 77.0, 38.0, 61.0, 56.0, 45.0, 97.0, 17.0, 53.0, 29.0, 29.0, 3.0, 69.0, 90.0, 34.0, 16.0, 38.0, 44.0, 24.0, 25.0, 27.0, 12.0, 16.0, 32.0, 30.0, 89.0, 34.0, 49.0, 135.0, 43.0, 55.0, 54.0, 41.0, 6.0, 43.0, 29.0, 21.0, 43.0, 34.0, 17.0, 43.0, 58.0, 47.0, 109.0, 38.0, 53.0, 12.0, 49.0, 27.0, 40.0, 38.0, 84.0, 22.0, 43.0, 36.0, 14.0, 130.0, 37.0, 40.0, 30.0, 38.0, 32.0, 22.0, 43.0, 80.0, 48.0, 37.0, 36.0, 125.0, 25.0, 59.0, 78.0, 4.0, 51.0, 48.0, 36.0, 58.0, 22.0, 24.0, 206.0, 57.0, 24.0, 29.0, 36.0, 46.0, 71.0, 46.0, 28.0, 82.0, 11.0, 46.0, 123.0, 52.0, 59.0, 57.0, 43.0, 24.0, 126.0, 35.0, 31.0, 55.0, 32.0, 28.0, 18.0, 150.0, 68.0, 29.0, 31.0, 75.0, 25.0, 57.0, 60.0, 103.0, 59.0, 32.0, 4.0, 47.0, 53.0, 66.0, 46.0, 15.0, 41.0, 17.0, 25.0, 7.0, 44.0, 4.0, 27.0, 76.0, 38.0, 61.0, 20.0, 21.0, 49.0, 59.0, 57.0, 3.0, 35.0, 34.0, 25.0, 3.0, 39.0, 16.0, 64.0, 36.0, 32.0, 11.0, 18.0, 96.0, 26.0, 34.0, 10.0, 18.0, 55.0, 12.0, 31.0, 138.0, 135.0, 5.0, 37.0, 24.0, 23.0, 46.0, 10.0, 19.0, 40.0, 44.0, 26.0, 50.0, 36.0, 30.0, 34.0, 12.0, 59.0, 23.0, 13.0, 28.0, 70.0, 38.0, 34.0, 8.0, 12.0, 127.0, 34.0, 32.0, 48.0, 25.0, 69.0, 51.0, 64.0, 23.0, 20.0, 46.0, 69.0, 14.0, 22.0, 46.0, 94.0, 21.0, 45.0, 8.0, 54.0, 55.0, 35.0, 36.0, 25.0, 63.0, 48.0, 41.0, 26.0, 23.0, 36.0, 43.0, 20.0, 59.0, 123.0, 142.0, 27.0, 26.0, 21.0, 10.0, 50.0, 42.0, 194.0, 27.0, 41.0, 25.0, 27.0, 43.0, 79.0, 21.0, 26.0, 67.0, 24.0, 36.0, 45.0, 7.0, 32.0, 47.0, 26.0, 27.0, 55.0, 44.0, 52.0, 46.0, 35.0, 63.0, 16.0, 56.0, 39.0, 57.0, 126.0, 55.0, 22.0, 43.0, 48.0, 60.0, 32.0, 36.0, 49.0, 86.0, 23.0, 47.0, 75.0, 19.0, 38.0, 84.0, 33.0, 38.0, 37.0, 59.0, 86.0, 56.0, 45.0, 17.0, 87.0, 68.0, 74.0, 27.0, 59.0, 51.0, 96.0, 117.0, 49.0, 3.0, 85.0, 55.0, 43.0, 67.0, 44.0, 43.0, 17.0, 45.0, 28.0, 96.0, 22.0, 10.0, 54.0, 29.0, 42.0, 34.0, 150.0, 49.0, 39.0, 10.0, 50.0, 26.0, 35.0, 55.0, 8.0, 46.0, 32.0, 58.0, 68.0, 58.0, 45.0, 9.0, 62.0, 28.0, 13.0, 35.0, 27.0, 74.0, 22.0, 53.0, 42.0, 21.0, 54.0, 17.0, 96.0, 37.0, 49.0, 38.0, 31.0, 45.0, 25.0, 82.0, 25.0, 53.0, 45.0, 12.0, 46.0, 1.0, 64.0, 29.0, 33.0, 19.0, 27.0, 42.0, 4.0, 75.0, 30.0, 12.0, 69.0, 21.0, 9.0, 53.0, 52.0, 57.0, 67.0, 86.0, 62.0, 49.0, 44.0, 27.0, 47.0, 74.0, 32.0, 92.0, 10.0, 49.0, 36.0, 34.0, 49.0, 3.0, 189.0, 37.0, 97.0, 40.0, 73.0, 70.0, 51.0, 27.0, 90.0, 75.0, 33.0, 104.0, 39.0, 92.0, 5.0, 21.0, 58.0, 27.0, 130.0, 11.0, 3.0, 43.0, 21.0, 94.0, 99.0, 18.0, 33.0, 32.0, 55.0, 38.0, 60.0, 61.0, 13.0, 24.0, 37.0, 57.0, 20.0, 41.0, 196.0, 115.0, 10.0, 18.0, 31.0, 55.0, 38.0, 34.0, 42.0, 66.0, 4.0, 22.0, 94.0, 128.0, 44.0, 83.0, 15.0, 132.0, 37.0, 25.0, 67.0, 69.0, 55.0, 74.0, 66.0, 69.0, 26.0, 9.0, 38.0, 28.0, 57.0, 22.0, 59.0, 204.0, 51.0, 49.0, 110.0, 29.0, 54.0, 38.0, 25.0, 10.0, 40.0, 143.0, 44.0, 47.0, 39.0, 30.0, 21.0, 52.0, 25.0, 11.0, 48.0, 16.0, 61.0, 52.0, 59.0, 35.0, 27.0, 86.0, 10.0, 117.0, 42.0, 68.0, 3.0, 16.0, 70.0, 22.0, 61.0, 36.0, 22.0, 41.0, 50.0, 48.0, 19.0, 43.0, 10.0, 9.0, 48.0, 22.0, 13.0, 22.0, 11.0, 9.0, 74.0, 85.0, 38.0, 22.0, 106.0, 36.0, 29.0, 106.0, 41.0, 144.0, 36.0, 54.0, 91.0, 12.0, 23.0, 2.0, 38.0, 8.0, 18.0, 26.0, 28.0, 48.0, 45.0, 27.0, 71.0, 36.0, 56.0, 20.0, 32.0, 13.0, 24.0, 29.0, 36.0, 22.0, 20.0, 40.0, 63.0, 24.0, 56.0, 22.0, 38.0, 37.0, 37.0, 18.0, 25.0, 20.0, 32.0, 44.0, 124.0, 57.0, 36.0, 34.0, 70.0, 36.0, 31.0, 67.0, 33.0, 85.0, 48.0, 75.0, 16.0, 82.0, 37.0, 41.0, 28.0, 26.0, 42.0, 34.0, 20.0, 49.0, 29.0, 19.0, 105.0, 69.0, 34.0, 29.0, 48.0, 42.0, 17.0, 88.0, 52.0, 19.0, 9.0, 61.0, 10.0, 86.0, 60.0, 21.0, 27.0, 57.0, 57.0, 36.0, 23.0, 45.0, 38.0, 53.0, 26.0, 35.0, 58.0, 56.0, 39.0, 45.0, 31.0, 73.0, 23.0, 46.0, 22.0, 5.0, 34.0, 28.0, 33.0, 76.0, 4.0, 30.0, 35.0, 23.0, 69.0, 42.0, 72.0, 64.0, 40.0, 33.0, 34.0, 102.0, 47.0, 65.0, 32.0, 145.0, 32.0, 7.0, 38.0, 18.0, 23.0, 69.0, 81.0, 85.0, 54.0, 32.0, 24.0, 30.0, 41.0, 39.0, 61.0, 53.0, 23.0, 29.0, 39.0, 59.0, 18.0, 43.0, 27.0, 78.0, 32.0, 58.0, 27.0, 51.0, 32.0, 38.0, 24.0, 26.0, 65.0, 60.0, 124.0, 17.0, 69.0, 21.0, 24.0, 41.0, 54.0, 18.0, 72.0, 99.0, 26.0, 31.0, 46.0, 30.0, 33.0, 12.0, 28.0, 23.0, 59.0, 71.0, 44.0, 13.0, 36.0, 10.0, 39.0, 46.0, 12.0, 29.0, 14.0, 47.0, 41.0, 82.0, 7.0, 8.0, 22.0, 19.0, 28.0, 47.0, 2.0, 47.0, 61.0, 43.0, 26.0, 19.0, 20.0, 45.0, 85.0, 80.0, 59.0, 78.0, 49.0, 23.0, 41.0, 122.0, 65.0, 35.0, 101.0, 10.0, 55.0, 5.0, 20.0, 71.0, 44.0, 77.0, 24.0, 19.0, 38.0, 82.0, 86.0, 21.0, 43.0, 78.0, 82.0, 124.0, 78.0, 32.0, 39.0, 101.0, 19.0, 74.0, 43.0, 36.0, 12.0, 46.0, 93.0, 37.0, 61.0, 36.0, 68.0, 44.0, 64.0, 29.0, 12.0, 22.0, 31.0, 8.0, 37.0, 22.0, 58.0, 10.0, 26.0, 21.0, 52.0, 4.0, 1.0, 7.0, 38.0, 10.0, 17.0, 14.0, 53.0, 90.0, 3.0, 33.0, 61.0, 41.0, 4.0, 11.0, 45.0, 4.0, 112.0, 32.0, 44.0, 35.0, 60.0, 26.0, 12.0, 26.0, 61.0, 50.0, 53.0, 23.0, 23.0, 28.0, 4.0, 34.0, 42.0, 20.0, 34.0, 32.0, 2.0, 28.0, 46.0, 31.0, 11.0, 28.0, 37.0, 54.0, 5.0, 46.0, 18.0, 42.0, 17.0, 10.0, 20.0, 33.0, 57.0, 89.0, 57.0, 73.0, 106.0, 24.0, 21.0, 16.0, 17.0, 16.0, 42.0, 206.0, 27.0, 41.0, 49.0, 34.0, 42.0, 19.0, 39.0, 36.0, 43.0, 14.0, 33.0, 28.0, 32.0, 29.0, 65.0, 47.0, 33.0, 51.0, 25.0, 35.0, 61.0, 36.0, 36.0, 97.0, 39.0, 33.0, 46.0, 49.0, 38.0, 48.0, 59.0, 79.0, 9.0, 29.0, 33.0, 23.0, 20.0, 25.0, 20.0, 41.0, 60.0, 65.0, 53.0, 41.0, 7.0, 68.0, 31.0, 45.0, 30.0, 49.0, 31.0, 18.0, 34.0, 67.0, 20.0, 47.0, 30.0, 82.0, 128.0, 37.0, 28.0, 28.0, 69.0, 87.0, 61.0, 104.0, 47.0, 10.0, 39.0, 15.0, 39.0, 72.0, 28.0, 38.0, 12.0, 52.0, 42.0, 31.0, 41.0, 88.0, 119.0, 93.0, 19.0, 30.0, 16.0, 17.0, 33.0, 19.0, 33.0, 28.0, 120.0, 90.0, 83.0, 28.0, 13.0, 69.0, 5.0, 62.0, 64.0, 38.0, 35.0, 56.0, 57.0, 150.0, 51.0, 36.0, 45.0, 52.0, 39.0, 29.0, 35.0, 27.0, 123.0, 36.0, 55.0, 30.0, 109.0, 14.0, 15.0, 22.0, 51.0, 24.0, 73.0, 32.0, 75.0, 48.0, 115.0, 40.0, 52.0, 12.0, 35.0, 75.0, 47.0, 99.0, 14.0, 32.0, 37.0, 42.0, 49.0, 104.0, 44.0, 42.0, 140.0, 46.0, 55.0, 18.0, 47.0, 43.0, 13.0, 53.0, 84.0, 49.0, 26.0, 47.0, 6.0, 39.0, 84.0, 39.0, 43.0, 22.0, 29.0, 34.0, 47.0, 38.0, 36.0, 19.0, 33.0, 54.0, 54.0, 106.0, 83.0, 59.0, 38.0, 42.0, 59.0, 48.0, 54.0, 82.0, 104.0, 21.0, 40.0, 133.0, 43.0, 58.0, 47.0, 31.0, 71.0, 63.0, 81.0, 21.0, 32.0, 47.0, 44.0, 45.0, 19.0, 34.0, 9.0, 41.0, 19.0, 42.0, 123.0, 10.0, 25.0, 33.0, 56.0, 57.0, 28.0, 13.0, 35.0, 43.0, 37.0, 22.0, 61.0, 31.0, 37.0, 45.0, 36.0, 50.0, 38.0, 62.0, 101.0, 47.0, 25.0, 37.0, 24.0, 43.0, 27.0, 6.0, 109.0, 63.0, 31.0, 71.0, 61.0, 28.0, 27.0, 2.0, 37.0, 40.0, 16.0, 36.0, 27.0, 34.0, 34.0, 19.0, 25.0, 24.0, 63.0, 61.0, 17.0, 38.0, 40.0, 24.0, 104.0, 34.0, 42.0, 30.0, 54.0, 66.0, 52.0, 55.0, 30.0, 60.0, 35.0, 35.0, 13.0, 61.0, 33.0, 51.0, 28.0, 23.0, 33.0, 23.0, 35.0, 41.0, 59.0, 34.0, 38.0, 10.0, 15.0, 42.0, 42.0, 57.0, 59.0, 147.0, 39.0, 32.0, 32.0, 167.0, 65.0, 37.0, 35.0, 47.0, 60.0, 20.0, 21.0, 48.0, 22.0, 31.0, 38.0, 39.0, 34.0, 46.0, 8.0, 40.0, 20.0, 90.0, 34.0, 62.0, 41.0, 60.0, 29.0, 63.0, 23.0, 6.0, 53.0, 69.0, 119.0, 53.0, 14.0, 70.0, 29.0, 55.0, 68.0, 97.0, 24.0, 26.0, 10.0, 122.0, 99.0, 18.0, 28.0, 3.0, 102.0, 82.0, 17.0, 10.0, 38.0, 36.0, 22.0, 41.0, 38.0, 33.0, 35.0, 48.0, 83.0, 58.0, 72.0, 20.0, 25.0, 43.0, 38.0, 29.0, 43.0, 117.0, 28.0, 37.0, 92.0, 58.0, 29.0, 30.0, 78.0, 71.0, 30.0, 41.0, 24.0, 19.0, 46.0, 55.0, 34.0, 8.0, 17.0, 35.0, 25.0, 133.0, 49.0, 68.0, 112.0, 17.0, 143.0, 52.0, 65.0, 30.0, 58.0, 31.0, 96.0, 44.0, 23.0, 32.0, 25.0, 39.0, 39.0, 52.0, 41.0, 94.0, 40.0, 58.0, 26.0, 53.0, 64.0, 38.0, 42.0, 34.0, 34.0, 25.0, 30.0, 34.0, 36.0, 21.0, 52.0, 41.0, 30.0, 54.0, 38.0, 50.0, 65.0, 41.0, 66.0, 36.0, 26.0, 22.0, 59.0, 24.0, 12.0, 15.0, 40.0, 38.0, 38.0, 20.0, 20.0, 43.0, 26.0, 32.0, 48.0, 20.0, 39.0, 10.0, 38.0, 37.0, 38.0, 66.0, 18.0, 43.0, 23.0, 4.0, 24.0, 59.0, 30.0, 62.0, 11.0, 21.0, 41.0, 15.0, 18.0, 30.0, 31.0, 56.0, 27.0, 34.0, 47.0, 72.0, 44.0, 27.0, 51.0, 43.0, 44.0, 24.0, 20.0, 142.0, 4.0, 33.0, 21.0, 84.0, 69.0, 56.0, 26.0, 109.0, 48.0, 74.0, 18.0, 42.0, 35.0, 101.0, 43.0, 23.0, 21.0, 39.0, 43.0, 17.0, 51.0, 63.0, 38.0, 105.0, 59.0, 42.0, 94.0, 66.0, 64.0, 4.0, 38.0, 21.0, 38.0, 64.0, 36.0, 41.0, 22.0, 63.0, 19.0, 23.0, 52.0, 34.0, 39.0, 90.0, 31.0, 33.0, 65.0, 26.0, 16.0, 16.0, 25.0, 106.0, 71.0, 93.0, 53.0, 11.0, 92.0, 82.0, 22.0, 68.0, 53.0, 27.0, 62.0, 63.0, 59.0, 21.0, 62.0, 60.0, 99.0, 29.0, 9.0, 26.0, 34.0, 18.0, 42.0, 35.0, 21.0, 51.0, 27.0, 52.0, 18.0, 23.0, 16.0, 84.0, 81.0, 73.0, 61.0, 18.0, 17.0, 27.0, 30.0, 26.0, 38.0, 50.0, 96.0, 64.0, 20.0, 31.0, 82.0, 46.0, 40.0, 38.0, 59.0, 29.0, 15.0, 61.0, 19.0, 29.0, 27.0, 21.0, 79.0, 28.0, 33.0, 12.0, 124.0, 33.0, 57.0, 28.0, 24.0, 65.0, 145.0, 9.0, 4.0, 37.0, 5.0, 39.0, 144.0, 69.0, 69.0, 58.0, 57.0, 28.0, 25.0, 36.0, 42.0, 33.0, 37.0, 11.0, 21.0, 26.0, 49.0, 25.0, 48.0, 9.0, 167.0, 37.0, 42.0, 59.0, 54.0, 133.0, 31.0, 140.0, 42.0, 22.0, 43.0, 41.0, 35.0, 21.0, 68.0, 33.0, 86.0, 21.0, 11.0, 23.0, 65.0, 27.0, 41.0, 49.0, 37.0, 66.0, 57.0, 54.0, 42.0, 49.0, 19.0, 20.0, 77.0, 60.0, 53.0, 51.0, 68.0, 76.0, 62.0, 41.0, 23.0, 30.0, 37.0, 62.0, 36.0, 22.0, 34.0, 28.0, 23.0, 13.0, 113.0, 49.0, 37.0, 23.0, 45.0, 84.0, 32.0, 52.0, 31.0, 29.0, 51.0, 70.0, 59.0, 27.0, 51.0, 9.0, 11.0, 38.0, 17.0, 33.0, 10.0, 48.0, 65.0, 28.0]\n"
          ],
          "name": "stdout"
        }
      ]
    },
    {
      "cell_type": "code",
      "metadata": {
        "id": "a3xPD4C8BQ3n",
        "colab_type": "code",
        "colab": {}
      },
      "source": [
        "#Feature engineering\n",
        "hours=[]\n",
        "trans=[]\n",
        "cont=[]\n",
        "ent=[]\n",
        "rh=[]\n",
        "pm=[]\n",
        "\n",
        "\n",
        "## OUR OWN DATA \n",
        "for e in final:\n",
        "  hours.append(float(e[0][-5:-3]))\n",
        "  pm.append(float(e[3]))\n",
        "  trans.append(e[1][0])\n",
        "  ent.append(float(e[1][2]))\n",
        "  cont.append(float(e[1][1]))\n",
        "  rh.append(e[2])\n",
        "  \n",
        "  \n",
        "  \n",
        "  \n",
        "##SHANGHAI'S DATA \n",
        "\n",
        "  "
      ],
      "execution_count": 0,
      "outputs": []
    },
    {
      "cell_type": "code",
      "metadata": {
        "id": "0sldxIAsCUww",
        "colab_type": "code",
        "colab": {
          "base_uri": "https://localhost:8080/",
          "height": 228
        },
        "outputId": "ca4f98bd-166b-4eea-9a2b-8309a50e5cd1"
      },
      "source": [
        "print(len(hours))\n",
        "print(hours)\n",
        "print(len(trans))\n",
        "# print(trans)\n",
        "print(len(cont))\n",
        "print(cont)\n",
        "print(len(ent))\n",
        "print(ent)\n",
        "print(len(rh))\n",
        "print(rh)\n",
        "print(len(pm))\n",
        "print(pm)"
      ],
      "execution_count": 120,
      "outputs": [
        {
          "output_type": "stream",
          "text": [
            "1939\n",
            "[15.0, 15.0, 15.0, 15.0, 15.0, 15.0, 15.0, 16.0, 16.0, 16.0, 16.0, 16.0, 16.0, 16.0, 17.0, 17.0, 17.0, 17.0, 17.0, 17.0, 17.0, 17.0, 17.0, 17.0, 17.0, 17.0, 18.0, 18.0, 18.0, 18.0, 18.0, 18.0, 18.0, 18.0, 18.0, 18.0, 18.0, 18.0, 18.0, 6.0, 6.0, 6.0, 6.0, 6.0, 6.0, 6.0, 6.0, 6.0, 6.0, 6.0, 6.0, 7.0, 7.0, 7.0, 7.0, 7.0, 7.0, 7.0, 7.0, 7.0, 7.0, 7.0, 7.0, 7.0, 8.0, 8.0, 8.0, 8.0, 8.0, 8.0, 8.0, 8.0, 8.0, 8.0, 8.0, 8.0, 9.0, 9.0, 9.0, 9.0, 9.0, 9.0, 9.0, 9.0, 9.0, 9.0, 9.0, 9.0, 10.0, 10.0, 10.0, 10.0, 10.0, 10.0, 10.0, 10.0, 10.0, 10.0, 10.0, 10.0, 11.0, 11.0, 11.0, 11.0, 11.0, 11.0, 11.0, 11.0, 11.0, 11.0, 11.0, 11.0, 12.0, 12.0, 12.0, 12.0, 12.0, 12.0, 12.0, 12.0, 12.0, 12.0, 12.0, 13.0, 13.0, 13.0, 13.0, 13.0, 13.0, 13.0, 13.0, 13.0, 13.0, 13.0, 13.0, 14.0, 14.0, 14.0, 14.0, 14.0, 14.0, 14.0, 14.0, 14.0, 14.0, 14.0, 14.0, 14.0, 15.0, 15.0, 15.0, 15.0, 15.0, 15.0, 15.0, 15.0, 15.0, 15.0, 15.0, 16.0, 16.0, 16.0, 16.0, 16.0, 16.0, 16.0, 16.0, 16.0, 16.0, 16.0, 16.0, 17.0, 17.0, 17.0, 17.0, 17.0, 17.0, 17.0, 17.0, 17.0, 17.0, 17.0, 17.0, 17.0, 18.0, 18.0, 18.0, 18.0, 18.0, 18.0, 18.0, 18.0, 18.0, 18.0, 18.0, 18.0, 6.0, 6.0, 6.0, 6.0, 6.0, 6.0, 6.0, 6.0, 6.0, 6.0, 6.0, 6.0, 7.0, 7.0, 7.0, 7.0, 7.0, 7.0, 7.0, 7.0, 7.0, 7.0, 7.0, 7.0, 8.0, 8.0, 8.0, 8.0, 8.0, 8.0, 8.0, 8.0, 8.0, 8.0, 8.0, 8.0, 9.0, 9.0, 9.0, 9.0, 9.0, 9.0, 9.0, 9.0, 9.0, 9.0, 9.0, 9.0, 10.0, 10.0, 10.0, 10.0, 10.0, 10.0, 10.0, 10.0, 10.0, 10.0, 10.0, 10.0, 11.0, 11.0, 11.0, 11.0, 11.0, 11.0, 11.0, 11.0, 11.0, 11.0, 11.0, 11.0, 12.0, 12.0, 12.0, 12.0, 12.0, 12.0, 12.0, 12.0, 12.0, 12.0, 12.0, 12.0, 13.0, 13.0, 13.0, 13.0, 13.0, 13.0, 13.0, 13.0, 13.0, 13.0, 13.0, 13.0, 14.0, 14.0, 14.0, 14.0, 14.0, 14.0, 14.0, 14.0, 14.0, 14.0, 14.0, 15.0, 15.0, 15.0, 15.0, 15.0, 15.0, 15.0, 15.0, 15.0, 6.0, 6.0, 6.0, 6.0, 6.0, 6.0, 6.0, 6.0, 6.0, 7.0, 7.0, 7.0, 7.0, 7.0, 7.0, 7.0, 7.0, 8.0, 8.0, 8.0, 8.0, 8.0, 8.0, 8.0, 8.0, 8.0, 9.0, 9.0, 9.0, 9.0, 9.0, 9.0, 9.0, 9.0, 9.0, 10.0, 10.0, 10.0, 10.0, 10.0, 10.0, 10.0, 10.0, 10.0, 11.0, 11.0, 11.0, 11.0, 11.0, 11.0, 11.0, 11.0, 11.0, 11.0, 12.0, 12.0, 12.0, 12.0, 12.0, 12.0, 12.0, 12.0, 12.0, 13.0, 13.0, 13.0, 13.0, 13.0, 13.0, 13.0, 13.0, 13.0, 14.0, 14.0, 14.0, 14.0, 14.0, 14.0, 14.0, 14.0, 14.0, 15.0, 15.0, 15.0, 15.0, 15.0, 15.0, 15.0, 15.0, 16.0, 16.0, 16.0, 16.0, 16.0, 16.0, 16.0, 16.0, 16.0, 16.0, 17.0, 17.0, 6.0, 6.0, 6.0, 6.0, 6.0, 6.0, 6.0, 6.0, 6.0, 6.0, 7.0, 7.0, 7.0, 7.0, 7.0, 7.0, 7.0, 7.0, 7.0, 8.0, 8.0, 8.0, 8.0, 8.0, 8.0, 8.0, 8.0, 8.0, 9.0, 9.0, 9.0, 9.0, 9.0, 9.0, 9.0, 9.0, 10.0, 10.0, 10.0, 10.0, 10.0, 10.0, 10.0, 10.0, 10.0, 10.0, 11.0, 11.0, 11.0, 11.0, 11.0, 11.0, 11.0, 11.0, 11.0, 12.0, 12.0, 12.0, 12.0, 12.0, 12.0, 12.0, 12.0, 13.0, 13.0, 13.0, 13.0, 13.0, 13.0, 13.0, 13.0, 13.0, 13.0, 14.0, 14.0, 14.0, 14.0, 14.0, 14.0, 14.0, 14.0, 14.0, 15.0, 15.0, 15.0, 15.0, 15.0, 15.0, 15.0, 15.0, 16.0, 16.0, 16.0, 16.0, 16.0, 16.0, 6.0, 6.0, 6.0, 6.0, 6.0, 6.0, 6.0, 6.0, 6.0, 7.0, 7.0, 7.0, 7.0, 7.0, 7.0, 7.0, 7.0, 7.0, 8.0, 8.0, 8.0, 8.0, 8.0, 8.0, 8.0, 8.0, 8.0, 9.0, 9.0, 9.0, 9.0, 9.0, 9.0, 9.0, 9.0, 9.0, 10.0, 10.0, 10.0, 10.0, 10.0, 10.0, 10.0, 10.0, 11.0, 11.0, 11.0, 11.0, 11.0, 11.0, 11.0, 11.0, 11.0, 11.0, 12.0, 12.0, 12.0, 12.0, 12.0, 12.0, 12.0, 12.0, 13.0, 13.0, 13.0, 13.0, 13.0, 13.0, 13.0, 13.0, 13.0, 14.0, 14.0, 14.0, 14.0, 14.0, 14.0, 14.0, 14.0, 14.0, 15.0, 15.0, 15.0, 15.0, 15.0, 15.0, 15.0, 15.0, 15.0, 16.0, 16.0, 16.0, 16.0, 16.0, 16.0, 16.0, 16.0, 16.0, 17.0, 17.0, 17.0, 17.0, 17.0, 17.0, 17.0, 17.0, 17.0, 18.0, 18.0, 18.0, 18.0, 18.0, 18.0, 18.0, 18.0, 18.0, 18.0, 6.0, 6.0, 6.0, 6.0, 6.0, 6.0, 6.0, 6.0, 6.0, 6.0, 6.0, 6.0, 6.0, 6.0, 6.0, 6.0, 6.0, 6.0, 7.0, 7.0, 7.0, 7.0, 7.0, 7.0, 7.0, 7.0, 7.0, 7.0, 7.0, 7.0, 8.0, 8.0, 8.0, 8.0, 8.0, 8.0, 8.0, 8.0, 8.0, 8.0, 8.0, 8.0, 9.0, 9.0, 9.0, 9.0, 9.0, 9.0, 9.0, 9.0, 9.0, 9.0, 9.0, 9.0, 17.0, 17.0, 17.0, 17.0, 18.0, 18.0, 18.0, 18.0, 18.0, 18.0, 18.0, 18.0, 18.0, 18.0, 18.0, 6.0, 6.0, 6.0, 6.0, 6.0, 6.0, 6.0, 6.0, 6.0, 6.0, 6.0, 6.0, 7.0, 7.0, 7.0, 7.0, 7.0, 7.0, 7.0, 7.0, 7.0, 7.0, 7.0, 7.0, 8.0, 8.0, 8.0, 8.0, 8.0, 8.0, 8.0, 8.0, 8.0, 8.0, 8.0, 8.0, 9.0, 9.0, 9.0, 9.0, 9.0, 9.0, 9.0, 9.0, 9.0, 9.0, 9.0, 9.0, 9.0, 10.0, 10.0, 10.0, 10.0, 10.0, 10.0, 10.0, 10.0, 10.0, 10.0, 10.0, 11.0, 11.0, 11.0, 11.0, 11.0, 11.0, 11.0, 11.0, 11.0, 11.0, 11.0, 11.0, 12.0, 12.0, 12.0, 12.0, 12.0, 12.0, 12.0, 12.0, 12.0, 12.0, 12.0, 12.0, 13.0, 13.0, 13.0, 13.0, 13.0, 13.0, 13.0, 13.0, 13.0, 13.0, 13.0, 13.0, 13.0, 14.0, 14.0, 14.0, 14.0, 14.0, 14.0, 14.0, 14.0, 14.0, 14.0, 14.0, 15.0, 15.0, 15.0, 15.0, 15.0, 15.0, 15.0, 15.0, 15.0, 15.0, 15.0, 15.0, 16.0, 16.0, 16.0, 16.0, 16.0, 16.0, 16.0, 16.0, 16.0, 16.0, 16.0, 16.0, 17.0, 17.0, 17.0, 17.0, 17.0, 17.0, 17.0, 17.0, 17.0, 17.0, 17.0, 17.0, 18.0, 18.0, 18.0, 18.0, 18.0, 18.0, 18.0, 18.0, 18.0, 18.0, 18.0, 18.0, 6.0, 6.0, 6.0, 6.0, 6.0, 6.0, 6.0, 6.0, 6.0, 6.0, 6.0, 6.0, 7.0, 7.0, 7.0, 7.0, 7.0, 7.0, 7.0, 7.0, 7.0, 7.0, 7.0, 7.0, 8.0, 8.0, 8.0, 8.0, 8.0, 8.0, 8.0, 8.0, 8.0, 8.0, 8.0, 8.0, 9.0, 9.0, 9.0, 9.0, 9.0, 9.0, 9.0, 9.0, 9.0, 9.0, 9.0, 9.0, 9.0, 10.0, 10.0, 10.0, 10.0, 10.0, 10.0, 10.0, 10.0, 10.0, 10.0, 10.0, 10.0, 11.0, 11.0, 11.0, 11.0, 11.0, 11.0, 11.0, 11.0, 11.0, 11.0, 11.0, 12.0, 12.0, 12.0, 12.0, 12.0, 12.0, 12.0, 12.0, 12.0, 12.0, 12.0, 12.0, 12.0, 13.0, 13.0, 13.0, 13.0, 13.0, 13.0, 13.0, 13.0, 13.0, 13.0, 13.0, 13.0, 14.0, 14.0, 14.0, 14.0, 14.0, 14.0, 14.0, 14.0, 14.0, 14.0, 14.0, 15.0, 15.0, 15.0, 15.0, 15.0, 15.0, 15.0, 15.0, 15.0, 6.0, 6.0, 6.0, 6.0, 6.0, 6.0, 6.0, 6.0, 6.0, 7.0, 7.0, 7.0, 7.0, 7.0, 7.0, 6.0, 6.0, 6.0, 6.0, 6.0, 6.0, 6.0, 6.0, 6.0, 7.0, 7.0, 7.0, 7.0, 7.0, 7.0, 7.0, 7.0, 7.0, 8.0, 8.0, 8.0, 8.0, 8.0, 8.0, 8.0, 8.0, 8.0, 9.0, 9.0, 9.0, 9.0, 9.0, 9.0, 9.0, 9.0, 9.0, 10.0, 10.0, 10.0, 10.0, 10.0, 10.0, 10.0, 10.0, 10.0, 11.0, 11.0, 11.0, 11.0, 11.0, 11.0, 11.0, 11.0, 11.0, 12.0, 12.0, 12.0, 12.0, 12.0, 12.0, 12.0, 12.0, 12.0, 13.0, 13.0, 13.0, 13.0, 13.0, 13.0, 13.0, 13.0, 13.0, 14.0, 14.0, 14.0, 14.0, 14.0, 14.0, 14.0, 14.0, 14.0, 15.0, 15.0, 15.0, 15.0, 15.0, 15.0, 15.0, 15.0, 15.0, 16.0, 16.0, 16.0, 16.0, 16.0, 16.0, 7.0, 15.0, 15.0, 15.0, 15.0, 15.0, 15.0, 15.0, 15.0, 16.0, 16.0, 16.0, 16.0, 16.0, 16.0, 16.0, 16.0, 16.0, 16.0, 17.0, 17.0, 17.0, 17.0, 17.0, 17.0, 17.0, 17.0, 17.0, 17.0, 17.0, 17.0, 18.0, 18.0, 18.0, 18.0, 18.0, 18.0, 18.0, 18.0, 18.0, 18.0, 18.0, 18.0, 18.0, 6.0, 6.0, 6.0, 6.0, 6.0, 6.0, 6.0, 6.0, 6.0, 6.0, 6.0, 6.0, 6.0, 7.0, 7.0, 7.0, 7.0, 7.0, 7.0, 7.0, 7.0, 7.0, 7.0, 7.0, 7.0, 8.0, 8.0, 8.0, 8.0, 8.0, 8.0, 8.0, 8.0, 8.0, 8.0, 8.0, 8.0, 9.0, 9.0, 9.0, 9.0, 9.0, 9.0, 9.0, 9.0, 9.0, 9.0, 9.0, 9.0, 10.0, 10.0, 10.0, 10.0, 10.0, 10.0, 10.0, 10.0, 10.0, 10.0, 10.0, 10.0, 11.0, 11.0, 11.0, 11.0, 11.0, 11.0, 11.0, 11.0, 11.0, 11.0, 11.0, 11.0, 12.0, 12.0, 12.0, 12.0, 12.0, 12.0, 12.0, 12.0, 12.0, 12.0, 12.0, 13.0, 13.0, 13.0, 13.0, 13.0, 13.0, 13.0, 13.0, 13.0, 13.0, 13.0, 13.0, 13.0, 14.0, 14.0, 14.0, 14.0, 14.0, 14.0, 14.0, 14.0, 14.0, 14.0, 14.0, 14.0, 15.0, 15.0, 15.0, 15.0, 15.0, 15.0, 15.0, 15.0, 15.0, 15.0, 15.0, 15.0, 16.0, 16.0, 16.0, 16.0, 16.0, 16.0, 16.0, 16.0, 16.0, 16.0, 16.0, 16.0, 17.0, 17.0, 17.0, 17.0, 17.0, 17.0, 17.0, 17.0, 17.0, 17.0, 17.0, 17.0, 18.0, 18.0, 18.0, 18.0, 18.0, 18.0, 18.0, 18.0, 18.0, 18.0, 18.0, 6.0, 6.0, 6.0, 6.0, 6.0, 6.0, 6.0, 6.0, 6.0, 6.0, 6.0, 6.0, 7.0, 7.0, 7.0, 7.0, 7.0, 7.0, 7.0, 7.0, 7.0, 7.0, 7.0, 7.0, 8.0, 8.0, 8.0, 8.0, 8.0, 8.0, 8.0, 8.0, 8.0, 8.0, 8.0, 8.0, 9.0, 9.0, 9.0, 9.0, 9.0, 9.0, 9.0, 9.0, 9.0, 9.0, 9.0, 10.0, 10.0, 10.0, 10.0, 10.0, 10.0, 10.0, 10.0, 10.0, 10.0, 10.0, 10.0, 10.0, 11.0, 11.0, 11.0, 11.0, 11.0, 11.0, 11.0, 11.0, 11.0, 11.0, 11.0, 12.0, 12.0, 12.0, 12.0, 12.0, 12.0, 12.0, 12.0, 12.0, 12.0, 12.0, 12.0, 12.0, 13.0, 13.0, 13.0, 13.0, 13.0, 13.0, 13.0, 13.0, 13.0, 13.0, 13.0, 14.0, 14.0, 14.0, 14.0, 14.0, 14.0, 14.0, 14.0, 14.0, 14.0, 14.0, 14.0, 15.0, 15.0, 15.0, 15.0, 15.0, 15.0, 15.0, 15.0, 15.0, 15.0, 15.0, 15.0, 16.0, 16.0, 16.0, 16.0, 16.0, 16.0, 16.0, 16.0, 16.0, 16.0, 16.0, 16.0, 16.0, 17.0, 17.0, 17.0, 17.0, 17.0, 17.0, 17.0, 17.0, 17.0, 17.0, 17.0, 18.0, 18.0, 18.0, 18.0, 18.0, 18.0, 18.0, 18.0, 18.0, 18.0, 18.0, 18.0, 6.0, 6.0, 6.0, 6.0, 6.0, 6.0, 6.0, 6.0, 6.0, 6.0, 6.0, 6.0, 7.0, 7.0, 7.0, 7.0, 7.0, 7.0, 7.0, 7.0, 7.0, 9.0, 12.0, 12.0, 12.0, 12.0, 12.0, 12.0, 12.0, 12.0, 12.0, 12.0, 12.0, 12.0, 12.0, 12.0, 13.0, 13.0, 13.0, 13.0, 13.0, 13.0, 13.0, 13.0, 13.0, 13.0, 13.0, 13.0, 13.0, 13.0, 13.0, 13.0, 13.0, 13.0, 13.0, 13.0, 13.0, 13.0, 13.0, 13.0, 13.0, 13.0, 13.0, 13.0, 13.0, 13.0, 13.0, 13.0, 13.0, 13.0, 13.0, 13.0, 13.0, 13.0, 13.0, 13.0, 13.0, 13.0, 13.0, 13.0, 13.0, 13.0, 13.0, 13.0, 13.0, 13.0, 13.0, 13.0, 13.0, 13.0, 13.0, 13.0, 13.0, 13.0, 13.0, 14.0, 14.0, 14.0, 14.0, 14.0, 14.0, 14.0, 14.0, 14.0, 14.0, 14.0, 14.0, 14.0, 14.0, 14.0, 14.0, 14.0, 14.0, 14.0, 14.0, 14.0, 14.0, 14.0, 14.0, 14.0, 14.0, 14.0, 14.0, 14.0, 14.0, 14.0, 14.0, 14.0, 14.0, 14.0, 14.0, 14.0, 14.0, 14.0, 14.0, 14.0, 14.0, 14.0, 14.0, 14.0, 14.0, 14.0, 14.0, 14.0, 14.0, 14.0, 14.0, 14.0, 14.0, 14.0, 14.0, 14.0, 14.0, 14.0, 15.0, 15.0, 15.0, 15.0, 15.0, 15.0, 15.0, 15.0, 15.0, 15.0, 15.0, 15.0, 15.0, 15.0, 15.0, 15.0, 15.0, 15.0, 15.0, 15.0, 15.0, 15.0, 15.0, 15.0, 15.0, 15.0, 15.0, 15.0, 15.0, 15.0, 15.0, 15.0, 15.0, 15.0, 15.0, 15.0, 15.0, 15.0, 15.0, 15.0, 15.0, 15.0, 15.0, 15.0, 15.0, 15.0, 15.0, 15.0, 15.0, 15.0, 15.0, 15.0, 15.0, 15.0, 15.0, 15.0, 15.0, 15.0, 15.0, 16.0, 16.0, 16.0, 16.0, 16.0, 16.0, 16.0, 16.0, 16.0, 16.0, 16.0, 16.0, 16.0, 16.0, 16.0, 16.0, 16.0, 16.0, 16.0, 16.0, 16.0, 16.0, 16.0, 16.0, 16.0, 16.0, 16.0, 16.0, 16.0, 16.0, 16.0, 16.0, 16.0, 16.0, 16.0, 16.0, 16.0, 16.0, 16.0, 16.0, 16.0, 16.0, 16.0, 16.0, 16.0, 16.0, 16.0, 16.0, 16.0, 16.0, 16.0, 16.0, 16.0, 16.0, 16.0, 16.0, 16.0, 16.0, 16.0, 17.0, 17.0, 17.0, 17.0, 17.0, 17.0, 17.0, 17.0, 17.0, 17.0, 17.0, 17.0, 17.0, 17.0, 17.0, 17.0, 17.0, 17.0, 17.0, 17.0, 17.0, 17.0, 17.0, 17.0, 17.0, 17.0, 17.0, 17.0, 17.0, 17.0, 17.0, 17.0, 17.0, 17.0, 17.0, 17.0, 17.0, 17.0, 17.0, 17.0, 17.0, 17.0, 17.0, 17.0, 17.0, 17.0, 17.0, 17.0, 17.0, 17.0, 17.0, 17.0, 17.0, 17.0, 17.0, 17.0, 17.0, 17.0, 17.0, 17.0, 17.0, 18.0, 18.0, 18.0, 18.0, 18.0, 18.0, 18.0, 18.0, 18.0, 18.0, 18.0, 18.0, 18.0, 18.0, 18.0, 18.0, 18.0, 18.0, 18.0, 18.0, 18.0, 18.0, 18.0, 18.0, 18.0, 18.0, 18.0, 18.0, 18.0, 18.0, 18.0, 18.0, 18.0, 18.0, 18.0, 18.0, 18.0, 18.0, 18.0, 18.0, 18.0, 18.0, 18.0, 18.0, 18.0, 18.0, 18.0, 18.0, 18.0, 18.0, 18.0, 18.0, 18.0, 18.0, 18.0, 18.0, 18.0, 18.0, 18.0, 18.0, 6.0, 6.0, 6.0, 6.0, 6.0, 6.0, 6.0, 6.0, 6.0, 6.0, 6.0, 6.0, 7.0, 7.0, 7.0, 7.0, 7.0, 7.0, 7.0, 7.0, 7.0, 7.0, 7.0, 7.0, 8.0, 8.0, 8.0, 8.0, 8.0, 8.0, 8.0, 8.0, 8.0, 8.0, 8.0, 8.0, 9.0, 9.0, 9.0, 9.0, 9.0, 9.0, 9.0, 9.0, 9.0, 9.0, 9.0, 9.0, 10.0, 10.0, 10.0, 10.0, 10.0, 10.0, 10.0, 10.0, 10.0, 10.0, 10.0, 10.0, 11.0, 11.0, 11.0, 11.0, 11.0, 11.0, 11.0, 11.0, 11.0, 11.0, 11.0, 11.0, 12.0, 12.0, 12.0, 12.0, 12.0, 12.0, 12.0, 12.0, 12.0, 12.0, 12.0, 13.0, 13.0, 13.0, 13.0, 13.0, 13.0, 13.0, 13.0, 13.0, 13.0, 13.0, 13.0, 14.0, 14.0, 14.0, 14.0, 14.0, 14.0, 14.0, 14.0, 14.0, 14.0, 14.0, 14.0, 14.0, 14.0, 14.0, 14.0, 16.0]\n",
            "1939\n",
            "1939\n",
            "[56.17309332041681, 51.6164646242046, 22.768425712162884, 2.4961889596550044, 2.482789666657217, 38.702523187508085, 2.4204347327183027, 60.668290941819606, 2.493444499445709, 2.431088714318571, 62.10939223040336, 56.985629550767726, 2.479944440291182, 59.88151344624686, 64.25572922120998, 64.38707968347377, 58.8905190343908, 64.70704051753748, 40.250393738906965, 64.54653747156262, 65.2263857868454, 65.65358627402327, 65.41587313172765, 66.19764485879584, 66.18378143087493, 65.91249556449077, 66.43692662562694, 66.52769280631529, 66.37891942903357, 66.82330374931111, 66.45085569374943, 66.63104133161792, 66.79000537769339, 66.60739594136234, 66.58492723062994, 66.20563136250358, 66.14338819364527, 66.29028172220337, 65.62539444779311, 67.87058413955047, 67.59904334555526, 67.84712188650724, 68.14066718818458, 68.25375401026841, 67.85285764233925, 66.46290596393976, 66.11201947063259, 66.33360804067561, 66.25609079064215, 68.77266441232128, 63.55892804786854, 64.61957850441193, 64.27246097734813, 63.46542850902839, 63.55220015616737, 63.38326532300173, 65.52732290480803, 63.52733328259815, 64.77445898928795, 65.09796813786551, 64.77739471585826, 65.31885648566255, 64.06934668030804, 64.0751041499321, 64.79828428945747, 64.24890506352132, 64.06936812309522, 64.32035959406653, 63.85683233018429, 67.03081129656907, 61.5267388174391, 67.31760848096357, 67.88776139142354, 63.66866209372431, 63.70067648512986, 62.57136107130686, 63.75807938042526, 63.70879364777439, 63.58772515217026, 63.83823913130708, 61.378540185546726, 60.84948621923221, 62.090134955074596, 62.75007440172089, 62.47481102564582, 62.48187979618975, 62.06373420159937, 61.71281160417224, 61.26614330228657, 61.721912625079085, 61.05004115687009, 58.7297134171969, 61.413947543831384, 59.1975341423462, 58.61593717168555, 61.15551308695091, 59.209674689081396, 59.27104693529257, 61.5044103754715, 61.90705875190871, 62.464835763252914, 59.68317214244666, 60.86061547989821, 61.90007021629116, 60.92803758119911, 59.933542623636704, 59.15561517995377, 59.332987598374494, 58.19849583592683, 59.335873874350185, 59.08725776695341, 59.335665818095336, 59.285554848675886, 58.84607856780375, 59.274150604486366, 58.65277095744529, 58.981335082760296, 58.59029747671355, 57.45707029166527, 56.682970763479055, 57.08201389081452, 54.36152291663047, 56.53453117480506, 55.89254044856995, 55.70346047242226, 55.307156343342726, 55.26791158599074, 54.871774270412324, 54.284179543523265, 54.427602987287926, 54.42559955697741, 54.355600004726476, 55.239821015134424, 55.13287905550114, 55.25947583476183, 55.676409181947875, 55.59187252367351, 56.173267798074455, 55.909478459367236, 55.52334648203096, 55.68168655037554, 55.62930407307192, 55.46086005981817, 55.18047661711921, 55.555882625065756, 55.89736397226863, 57.08210881141213, 56.08185545557061, 56.97673299403791, 58.22965373663745, 57.817461984923455, 58.114998930683484, 61.46264432418147, 59.55208611977656, 59.70796114512842, 58.973536894853765, 64.84185394042841, 58.99364980371265, 60.37619047738638, 63.208559231936874, 61.037661823785065, 61.521827662160014, 61.81241896752272, 61.141039445242804, 62.35712418879597, 64.13049270106238, 62.60129320404385, 62.77832375507356, 62.97455221423248, 63.54241947800357, 64.90853071404155, 65.534464608306, 65.95457881356216, 65.72012825622943, 66.32784799039439, 65.61348572805498, 66.30066466968796, 66.33242741479334, 66.71558681333099, 66.71857311115892, 67.17079032699132, 67.09466900035648, 67.43317046599144, 67.12440532856792, 67.03849540524382, 66.93661486592421, 67.13984305505363, 66.92342044445081, 66.39290754443952, 66.35267366890697, 66.59230808227426, 66.55901912846785, 66.23126527638577, 66.29119325258131, 66.20875897536976, 65.36663379664918, 67.14117884868013, 67.52285449868042, 67.93512699573876, 67.68212763975717, 67.77655726219365, 67.18494562657783, 68.88795205164945, 67.4673832617288, 65.86703739931349, 67.0344996053672, 68.3843967642266, 66.52866320261653, 66.55270866757384, 69.09512186907142, 64.43646185282748, 65.42510946945737, 69.50966304720141, 65.99926261595485, 66.67141982692688, 66.56947051158672, 66.8725725179019, 66.46442424317816, 66.38767236918027, 65.96373234924715, 65.56630518121119, 65.68821964787878, 65.37274220541985, 64.97808710907118, 65.36195463239065, 65.32556210533625, 64.49792704972359, 64.74973995635085, 64.88982425076111, 64.51620033108793, 64.06853949801726, 64.29288664402972, 64.10435612601341, 63.81856324505512, 63.833522820406756, 64.069025865856, 64.06100225000355, 64.17926761805612, 63.427818043119885, 62.981483035096765, 62.43892954617842, 61.84431681338911, 61.39291202618322, 61.76148017108952, 61.86898433408937, 61.83375358267362, 61.63046737435014, 61.71881217370946, 61.632966748649146, 61.677961744502255, 61.61414559220041, 61.74501573008662, 61.56087240788233, 61.44445510767457, 61.16237681898506, 61.33617835349232, 60.85742421674955, 61.12799358533696, 60.77839508498255, 60.48186703337926, 61.22455562178237, 61.0049522687858, 61.117279243692956, 60.80968300965584, 60.47412942888035, 60.24454047320346, 60.08237002468636, 60.28012689561549, 59.91414028614828, 60.043394739282654, 59.46956405230318, 59.31168995101592, 58.80309920597392, 58.68347496632523, 58.6753664826474, 57.982955946573064, 58.42889931821459, 58.089423458641846, 57.6039640214976, 57.44597679766644, 57.422472970891675, 56.96260927242993, 56.85465016010001, 56.425387254140254, 56.59984996777033, 56.51470964242595, 56.33689736297238, 56.30462309231044, 56.13922256999511, 56.26133915969058, 56.28240906928701, 56.488149695549566, 65.6814945483002, 55.79232656620358, 57.572267561013504, 55.69562239282448, 64.66967992724948, 54.888447501949656, 55.90460084992381, 56.04616823208079, 59.86918841093058, 59.67720979195627, 65.67310268772886, 55.185876349338294, 55.38758926543542, 57.209002047779535, 57.66304493745231, 58.850420210626346, 57.897584262850195, 58.86787722610049, 58.51737208374842, 59.92420189031187, 58.20289459989376, 56.05981557629775, 56.13732935117679, 54.78502457709987, 58.613915832418556, 60.64858663415441, 69.35182821064548, 74.3512816467424, 73.50475772302254, 71.06887960850293, 68.61388974784568, 66.48914293244383, 64.38622524100346, 63.58670783217811, 63.13204475493512, 61.98762170026202, 59.522085436539214, 60.65251846344206, 61.809612486819795, 62.33842647788427, 62.127308458674854, 61.91540735195113, 61.15934593707042, 61.42506845078863, 60.93034976748368, 64.46659965087977, 69.05019284613924, 69.70603881579979, 63.78078469448266, 64.08678820997687, 63.45941979467664, 63.87496995353645, 63.92441584090139, 63.787499299871435, 62.16485795205719, 61.97875071676843, 61.88704307522696, 61.34699491176571, 61.42786960657269, 61.565713412481216, 61.17548609555144, 61.145267356146434, 61.50486451665656, 61.48655359435814, 61.213164388587835, 61.319253892657315, 61.002025463015066, 60.91141634696785, 60.87162574528126, 60.48173576610946, 61.39107661033812, 61.264752226729684, 60.53008065496792, 60.67133091196443, 59.860933084406355, 59.7484704017561, 59.61783261297524, 59.61860785618833, 59.33985836982359, 58.95510494414183, 58.76396091631122, 57.35936387271612, 57.436138871142774, 57.15653879612543, 56.70760768548264, 56.295931916856645, 56.04311593641226, 55.6004671258512, 55.75738254766588, 55.542597547782776, 56.296064771706625, 56.49810473672893, 56.53681165572194, 56.88512980067041, 57.03070767546513, 57.06095850458351, 56.653653828488764, 55.059280845053166, 56.23425069226435, 57.622647165249674, 57.82323640672998, 57.91315978316833, 58.538214837857936, 58.641993603965545, 59.0438547885938, 59.35911045469883, 59.32840129186043, 59.184350501405184, 59.95306326776229, 59.682821134231126, 60.50435237361704, 60.41129877121276, 60.595224001063826, 59.57436288327558, 62.7043388865832, 63.308642664552885, 57.70473393715099, 61.531708426363735, 60.856211549469194, 60.580013164054115, 64.90035455518421, 69.09897358607054, 69.29416185118835, 69.62385386751247, 69.82674414145264, 70.04495442397157, 70.03935488261135, 69.98948482909395, 70.08726038325878, 67.79107501847726, 67.29104725640406, 66.57168275301808, 67.30879039244756, 66.70467823835654, 67.04044395964317, 67.23468592766545, 67.29523603614832, 67.53281983071145, 67.22610013127847, 66.43966486060229, 66.05646933978383, 65.96544655680697, 65.66838319203018, 65.63694941536292, 65.13602001767659, 65.03671703654462, 64.39100681849881, 63.732924013952804, 63.860058736722614, 63.92070043167615, 64.08147436871985, 63.72515375953735, 63.69366279141539, 63.749740973319184, 63.8877401127424, 63.42044118097835, 61.59971577326037, 61.391645941706514, 61.13983163482172, 60.53718896667693, 60.51196686583194, 60.876874614688084, 60.93800482537776, 60.423147008826255, 60.71419891127762, 60.734709921761805, 60.442433697512655, 61.225586474399094, 61.05250111543908, 61.20132638994856, 60.84957716954297, 61.044886884006495, 60.73556686256359, 60.319197261604636, 59.0585600008068, 58.71456121526206, 58.57450028590651, 58.234521003305474, 58.05165407211785, 58.17780016824536, 57.589501445689365, 57.39446328159836, 57.025913971312505, 55.96152809794808, 55.38903442188697, 55.37505251651086, 54.947683245474195, 54.52076210173532, 53.9960559024042, 54.31025493127827, 54.149588238968946, 53.268242902869744, 52.95159310167745, 52.76123261519014, 52.918309584655006, 53.45087773196161, 52.874050258105974, 53.15061006615317, 52.67755046015521, 52.388854649636684, 52.81335158197601, 51.42052424672056, 51.84471068830843, 52.62986137829686, 53.27008192962825, 53.73009178836422, 53.64292316277188, 53.78270531488495, 54.34684683159227, 55.181832168160796, 56.78791785047608, 57.53468600353615, 57.92532576630717, 58.153497153676, 58.97748828344623, 59.47578711998921, 60.78740545045735, 63.41261848364946, 65.35663652987004, 65.35642867580084, 62.591512942773456, 62.28452022053699, 65.47301801173386, 66.4585815052229, 65.64577162344531, 65.26045037649214, 65.32488992523368, 65.46637653746343, 65.60029407997072, 65.3388275447859, 66.07016295395483, 66.3386335906641, 66.09517914597114, 66.06408291337291, 65.83201760000088, 65.59900555165373, 65.52090490958088, 65.3928668248583, 65.27739099435567, 65.07269224428391, 64.72918082474101, 64.56118152383213, 63.189655119576884, 63.781680070505544, 62.94357503999698, 63.11408701129272, 63.3408131565531, 62.80342600160896, 63.10674459474653, 62.6298990349987, 63.114692983263446, 62.123111727788, 62.11150352417515, 61.77649568569009, 61.724239860870824, 61.77941522851948, 61.52639876293208, 61.18838134409483, 60.33285915017272, 60.08052949691508, 58.46785510688679, 58.14553349800085, 58.762462243024345, 58.90623110851825, 58.66205270979437, 58.48780153905564, 58.49475929072305, 58.65091920225307, 58.392486060666094, 57.98043861689071, 57.957188144735525, 57.51449529311841, 57.30987092893445, 57.1959199139421, 57.1376556170499, 56.962073293728, 56.73055793223561, 56.401408630169605, 55.402608548340936, 55.417402835009945, 55.23194737029738, 54.864155742619374, 54.989915434458275, 54.64149141251967, 54.6352457974139, 53.97993249786934, 53.83997073608642, 53.4531340853779, 53.97851650617477, 53.925366239702, 53.39839488350787, 53.01815137734177, 52.832083160001176, 52.01040999455915, 51.97382606926567, 52.24395635778364, 52.64050943993062, 52.595565417634056, 51.96191854956713, 52.18752113487478, 52.7251918997241, 52.27854288061764, 52.25191530422282, 52.22479143724065, 52.933237630689035, 51.231699637235884, 52.32635989405792, 53.22737725662569, 54.333676546028975, 54.00725532949556, 55.40513978718278, 54.43376497964444, 55.44183825408069, 55.16295620819634, 57.11150879451554, 58.04852071174151, 57.59157474368384, 57.45843301909409, 57.36775643085931, 57.60756298276824, 57.85953431863404, 57.71691141416983, 58.34098070921768, 58.862455913613665, 58.58004354683158, 58.71629916675107, 58.64679816022945, 58.44801817467662, 58.37316428027292, 58.68923824600019, 58.902474865621045, 59.432213817451064, 58.13869923718385, 57.81521712513238, 64.94514289362537, 65.31036066037706, 65.58396812328455, 65.6037345044888, 65.56619809196913, 66.22912665413216, 79.49381163004098, 79.72953409470195, 79.15956483540485, 78.31690032518114, 78.85062250239687, 79.48036387359708, 79.47360343881938, 78.76540636016385, 79.1784852863952, 78.81150821936025, 78.8988006159014, 78.61753683184132, 78.39566200522307, 77.86846413706382, 77.38191343299836, 77.1645558830903, 73.577757581496, 73.38258339758717, 73.51639396719348, 72.91764507844127, 72.95709312884354, 72.6106420462443, 72.6152377880043, 72.47753511822515, 72.76246545846428, 71.83905316677983, 71.21749560172364, 71.45289376697124, 71.76704320307253, 71.48764028478628, 71.73211140842895, 71.54563902426007, 71.96226332594655, 70.52210791394549, 70.26524103929567, 71.24602482311492, 71.03641112157645, 70.78933738490514, 70.88001518979792, 70.48550701159891, 70.05707917967791, 69.78422785989406, 69.78209508547192, 69.41087510321017, 69.60454535882016, 69.3115166563143, 69.06433536776468, 69.10054876099845, 71.49167945790416, 63.23473723672828, 66.12513472021888, 68.50999583102251, 74.50261904276002, 74.09567661819368, 74.57140864527783, 74.17169790603903, 74.53591117855923, 74.52991449601062, 75.137060713058, 75.10447480276679, 75.53448437174276, 75.4662426834137, 75.59719267879288, 85.35213331121136, 84.58570755449188, 83.45823988794791, 83.23397812794357, 82.80543419759698, 82.03691530228545, 80.99260900177005, 81.33051367024467, 80.7937307933487, 81.5356255095729, 83.45588877695161, 80.31989639060068, 80.70946162440683, 80.83967787953014, 80.24530539491897, 76.96292566790665, 78.11929265794872, 80.00551763965417, 78.17718896335596, 79.5456625153233, 78.3665601084931, 76.26823369598998, 76.34439938854985, 77.05149981222885, 76.54322760426992, 78.32110129399146, 77.17396576098506, 75.79198346359931, 77.24101195929204, 73.77714053241282, 80.04697716220288, 72.07447812638603, 73.37771437659099, 78.73727126263164, 67.50365907577347, 70.50846742930794, 71.48282324769131, 71.54188432985933, 71.45226217664359, 71.76980079199443, 73.70480503532869, 69.70104091209328, 70.57493809914412, 71.61748315504715, 72.65745125454329, 72.97959470087679, 72.72612594379625, 71.74812422621392, 70.50098616883314, 69.21502191455632, 70.93471709999463, 69.73733230055336, 67.58736667303198, 68.92293574120241, 67.2192875950301, 66.70684668201625, 69.48589834881362, 66.65925121321699, 64.96234504140529, 68.40849660098439, 69.7459874276243, 69.30170317960606, 66.53316942550342, 68.39199274212777, 69.1867401372667, 67.18776282943838, 66.54830457267428, 66.01915983834569, 65.7426080387693, 63.01248462238287, 62.371778200457534, 62.67977519185516, 63.634102314960884, 63.64979127630818, 63.03530486342237, 62.93063349507079, 61.75633926709443, 61.35605221448644, 59.41276133226702, 57.766134146855116, 56.88355056237767, 58.85869858174985, 57.113492825819826, 57.186141201198375, 56.287835856797635, 55.949484598185634, 55.475230728362774, 55.225391259362695, 54.745195824550244, 54.42268383873916, 54.2756216493231, 54.421660978825734, 54.30256177308616, 53.88526400918044, 53.618100405895746, 53.474500100823796, 53.24967241294903, 53.12545792101802, 53.142700753692104, 53.002932269721406, 53.61849682364829, 54.0306471293698, 54.05924221211932, 54.43534890620957, 54.60906942767084, 55.36484205362186, 55.9376783996806, 57.25167206673208, 57.338937156437694, 59.0195373821653, 59.5971112056026, 59.131380357124605, 60.04953512798258, 61.16562766648756, 61.96837146874145, 64.36916740392154, 61.39597713939893, 64.19528071778291, 61.38445556839905, 62.92674065373042, 64.3652875183238, 63.80813520749581, 63.502500571853496, 64.30227726177525, 64.94326672357109, 65.46541021461493, 67.71855110071364, 66.71804862332145, 67.00076335364369, 66.89177793575372, 67.62604874448937, 69.22280334567135, 70.20859755275966, 70.71176493085474, 70.15557548648982, 70.72053134805378, 70.89140537066605, 70.58089232384853, 70.9809788519532, 71.2386655052997, 71.3207614623959, 71.58638757041523, 72.259443111846, 72.44269245923496, 72.2152138157492, 71.97261324535725, 72.4529338014927, 72.94020960355887, 73.34843420997692, 74.05209652830865, 74.27660466099027, 74.43257282087943, 74.95041300326696, 75.37804672345004, 75.03984339164758, 74.39321168513926, 84.11114316118542, 84.51101079456487, 84.29742329324587, 84.2840220172652, 83.89003642046349, 83.51069837779929, 83.47737888564875, 83.90843287883781, 82.94912958968948, 81.59938644529474, 82.89001386183016, 83.12726389141041, 85.60875794679959, 83.875443730179, 83.82604661055488, 83.46198343251666, 83.45877716589273, 82.18831907340582, 81.61993549051799, 82.25163243035382, 81.44942256370427, 81.15811962042328, 80.13010298958913, 79.6456531469917, 78.90388210952655, 78.003013787572, 77.5317292019889, 78.3048958182121, 77.18066488796471, 76.38276086013263, 76.35212538199038, 75.52649650680544, 74.61535586686303, 74.66505833480892, 74.67599028080525, 73.747807867801, 73.61930623366183, 72.8667430978397, 72.34282602951879, 72.14286620176566, 71.27556099276904, 71.11783235668346, 70.08337795295637, 70.23366200058123, 69.55193468662353, 69.87036099561243, 69.7394812056334, 68.99818964227578, 69.11728850079514, 69.01808560071993, 69.09400061831383, 67.74499424381045, 67.50782146957067, 67.3214461877586, 66.41359139106964, 66.37957638808193, 66.31700188701335, 66.07399436262517, 65.19882870052312, 65.50178438221158, 64.86187609049632, 64.31592142525909, 64.62761346714898, 64.05211542929399, 63.3566288984427, 63.28059804321519, 62.680519778281784, 62.844961585984095, 62.454964616836214, 62.62608961717263, 61.64918402064038, 61.33707457046487, 61.746537177100365, 61.02858452596828, 65.81801208087057, 60.52321843219901, 60.40880628986665, 59.974052774923244, 59.72664098612841, 60.33464836342305, 58.98379559791276, 64.9691150795164, 60.14013823732575, 59.52647921398562, 58.69646761011611, 58.6133601226581, 58.77837088201391, 58.56871305858785, 57.88626733561807, 58.68448910693215, 58.17478789693188, 58.36613088104422, 57.78476255861423, 56.95556343098555, 56.848332514731595, 57.44826695024722, 57.62687195457194, 72.58430799336612, 62.28272230354549, 60.29142969537901, 57.2014782242825, 71.82586593500534, 56.09211586388936, 57.12771991234819, 57.25511768725376, 57.40377597936568, 57.90383557349387, 74.24300651493435, 68.73134925256059, 57.94152778525817, 58.54221722025716, 59.286644634221766, 69.17084251037802, 60.12817809403086, 64.1847757450094, 60.811502203904176, 72.76396172319474, 64.00731252916532, 62.755635190405826, 62.26292402459182, 62.923643466923494, 67.27742394375713, 73.2321106597223, 81.34522173550711, 85.02985498979683, 85.16107986813374, 83.42751809730346, 81.19912968582182, 77.7225423315375, 73.92346243846124, 74.5682944758596, 72.88355386663424, 86.10154234742981, 86.21801105891127, 85.52972057179916, 84.80396588403731, 84.51110895164753, 84.54840390067827, 83.807851082759, 83.11688075594805, 81.84450899831755, 81.98953835949743, 82.5395689363374, 81.82630574975386, 81.48621906832244, 81.56544600451733, 81.63828586948539, 81.42321694301242, 81.51794814019816, 79.37300478828689, 77.65859115878578, 77.01651977095037, 76.7415832375161, 76.40987569313695, 76.31464026421357, 76.1237221673812, 75.12290532394064, 74.56454831680907, 71.96162156106668, 71.53361177180615, 71.31444968398377, 70.92226597040931, 70.23579750826978, 70.17244760017537, 69.74174991776779, 69.67202408999849, 69.52588066961214, 69.16002370557175, 68.7999717332538, 67.16966369009484, 66.70610992086681, 66.92687650442943, 66.8904619314899, 66.31043352091713, 66.01044121109358, 66.8234098203136, 64.41216331210047, 64.29320376113519, 63.550978267940394, 63.43145265635649, 63.32885635665098, 62.81174827426552, 62.13984788078287, 61.82429179100325, 61.82042756820758, 61.05800557162873, 60.14443217135144, 59.65062025503812, 59.30960559688464, 59.235214321001955, 59.163257411429164, 58.782177326343444, 58.33682575407847, 58.514106924046054, 57.17595058297375, 56.94699742535695, 55.88114687901756, 55.6597519093279, 55.65035844285878, 55.45145699396598, 55.39561227044672, 55.764337182739965, 54.370236523569645, 53.973575766667395, 54.17550048436311, 54.19511483211249, 53.83417668474493, 54.36297359240389, 55.002962394609675, 54.23229029532989, 54.176235686386306, 54.78169920093031, 54.33629367130243, 54.52807058008706, 55.766884561048926, 55.8133528362316, 56.037696541432325, 56.55016849459492, 57.031207466599525, 57.45037519751045, 57.98730676371186, 59.663229962112744, 60.48984615468259, 61.04256578743162, 61.043924867076456, 63.12277373693861, 63.080635198708244, 65.83130687941413, 80.84585500386841, 58.3647092431711, 62.75362935980182, 64.47605306947463, 61.77756038764069, 63.60637288325691, 67.93717286235473, 70.79927141681739, 75.02222327070365, 76.66479889426512, 74.7242989352309, 73.68432622607257, 73.7067530771724, 75.15618287079027, 73.54723529553179, 74.58958870124214, 74.33035276896334, 75.64565597117128, 76.9787579874211, 75.97005693171293, 72.3067431327961, 73.8117366586719, 76.75385342118602, 75.19708223987594, 76.87558876871935, 77.1004106769149, 77.72668293836156, 78.26448281595258, 77.75097271785695, 77.40044359215786, 76.61890579975208, 78.14090038989792, 78.02770955664833, 77.62230220418571, 77.7466325367952, 77.3408684610865, 76.36851771469338, 76.11594193494237, 74.92318520238167, 74.16637197159814, 74.0772406978484, 75.6002807571607, 74.87478574992714, 73.27501188783735, 73.60685650687353, 74.3624862273321, 73.27637062298979, 72.95808778131996, 72.62295508745031, 69.98805289535434, 67.44928844788747, 65.02718560677994, 64.6791614029745, 64.03234231954069, 65.14871399371678, 66.57168149371488, 66.90035156590983, 67.97643824599295, 67.77861660582789, 66.85301562307316, 66.80930656126333, 66.39153037098623, 66.88775953378011, 68.92637625002644, 69.3553575669818, 69.04866355783804, 67.3791906397363, 67.2146715267394, 66.50782626570984, 65.56004014766737, 62.96569256420729, 61.153270447957816, 60.47957851030912, 60.21014260996355, 63.16641417627357, 62.17189258832604, 62.32618672196591, 63.203933255358216, 62.874746486951885, 65.81539565186732, 64.85623436622765, 65.4050247770896, 64.41101956576954, 63.5209322040851, 62.85134882534992, 62.839868592478894, 62.30439203449374, 63.00691325603718, 62.511270801913206, 64.71345411123318, 63.07665249121246, 65.97716371746218, 62.985609989152735, 62.59533254991078, 62.368651043902, 60.75031292995656, 60.55341109329036, 61.88813140343133, 67.12664763527536, 60.43967784125447, 60.485011750035085, 66.90310139666119, 69.04110468483394, 72.01495024419712, 69.38552117673916, 65.68997134716355, 67.02050136282706, 68.51362545568416, 69.07734435327323, 66.48612614305101, 62.48627520307301, 55.90021207829649, 54.562316793175704, 53.52611269784842, 56.90541112017385, 66.97643018898799, 66.02691304976943, 65.08887278806668, 62.248960792722194, 57.98501691894011, 64.31881984067914, 63.846820225205995, 62.27903789268186, 66.17382476303125, 64.57557021357087, 65.76671344754077, 69.25936312348884, 72.02370400104816, 73.22290606958504, 74.28933883995802, 73.11914694561082, 70.84134602979705, 68.25749791836253, 66.95214867074743, 70.25212017349571, 69.22476942675496, 69.56065257893309, 69.42177360734075, 68.90266511624716, 70.39947110854956, 68.87807431257004, 67.14000285423876, 67.4348303643853, 67.91207594021961, 66.85524395540756, 67.44047357216432, 66.35263944670615, 66.0470094988227, 66.66385638842634, 67.6501186614395, 66.79076220098453, 66.21439789048121, 66.3172256589649, 67.74305215802215, 67.43822146796857, 68.85344351773726, 68.59924758004631, 70.21591661071307, 70.31270485040176, 71.17020552838369, 72.50015846422158, 71.45282375128606, 72.19362350576856, 72.28426084821938, 72.82060999909798, 73.23561928187802, 74.31043948004515, 74.36367922300838, 76.78270329265241, 77.57347041548087, 76.25377037701037, 77.35205292878557, 77.11495046602226, 76.29917531282986, 76.46944740397423, 77.1345213897148, 76.62877629388615, 75.0490617934829, 74.21113818798403, 72.89695028678904, 72.27918197724135, 70.16870689457765, 68.73176235662926, 66.1748905674469, 66.30745128200765, 66.03400880605913, 67.41684956790043, 68.22230215100868, 68.15905102686843, 68.26094394828058, 68.49267053189045, 68.00810171958145, 67.74733094180148, 67.18364160523151, 68.76818069349594, 68.88185935922886, 68.69766274530126, 69.00059922964383, 68.23962483117047, 68.46024051775846, 66.8653842812361, 65.66041849904836, 67.91212308422806, 69.61351834081226, 69.9446530448692, 69.07085364767472, 69.14703329399796, 69.00595160569898, 68.19372847445025, 66.0935387221357, 65.28268888691821, 65.18321572030874, 64.18244205259013, 65.52401746604868, 66.92793203128711, 68.74605027597929, 69.78699819214272, 70.67047064516225, 70.77653298710236, 69.69142510194332, 69.87777860813203, 69.82379887765408, 69.16626819491985, 69.16537755924425, 70.3624185962345, 69.42106878131031, 69.03410427675263, 69.02598639263198, 70.62653751511571, 71.25522974669994, 70.33838711743616, 69.01593609004158, 68.69112873124374, 69.06160142398136, 69.68639929138958, 70.9341712368101, 71.03065438087452, 70.69398892232073, 71.57030130533465, 70.59269038703195, 68.52346187775852, 67.33751743754404, 65.629037349095, 65.61107702808766, 66.74487893043903, 66.24259923048226, 66.93854159945329, 66.60741469077242, 66.50998168261386, 68.34686528251434, 68.93152746500347, 67.3590771556367, 67.8375495622226, 68.90092838999996, 69.50526882491238, 71.3545141006397, 71.80765022572989, 65.68980575710503, 61.6557554987911, 64.45854445032444, 67.75261430184884, 66.27252970440479, 69.9949063166784, 68.85035659751085, 66.43080531712675, 66.46321548204394, 65.23104347536292, 65.63292594749905, 67.11566472227084, 68.66905060166059, 70.26250939439443, 70.49112863597809, 69.82981435941306, 65.61079624641665, 66.05030668621619, 67.61955370264072, 69.70512671921749, 66.66302449769924, 69.48089411819203, 68.46610343817542, 67.92846097436632, 68.70947329255246, 68.77388739522682, 69.86290469045473, 69.10476585969461, 64.67778813389982, 65.07365068367706, 65.05136550286348, 67.15380672704991, 62.2600656091647, 63.09426591370209, 69.39911779411437, 67.90631461411974, 70.65112198177, 72.06933610908617, 73.45332056340331, 76.03520094534352, 72.53047720656339, 68.56516762920661, 69.69431774238534, 71.53511749807186, 69.41346066696487, 71.05992832451452, 72.41306090148385, 72.38864798779983, 72.41356774595931, 72.74686392178909, 72.74895242863856, 72.71570507769495, 73.0048117288831, 72.47603996847566, 72.10183650912916, 71.67889026292042, 71.52249195006691, 71.48169024277615, 71.80243782424463, 71.90159173278323, 72.51732516127126, 71.17412182873542, 72.56562953471077, 73.27293532230247, 74.29105664634781, 73.8420287747462, 71.96986278125739, 72.83207410101168, 73.0706428345547, 73.07720567784328, 72.61091265639195, 73.3197834983271, 73.19426095762252, 75.17144778378928, 75.4639698885833, 74.9553749655516, 75.38750601597137, 75.32463807727342, 75.19772709514442, 75.44391463208196, 75.98623249127358, 76.29795123145294, 76.8088580788875, 77.02773157171852, 77.63655656128263, 78.10740356068789, 78.04229436000944, 77.4655720219088, 77.72644529734974, 76.98432700422494, 75.58889460984228, 75.75464681653249, 75.7340774164321, 75.65972261008157, 75.41316805389827, 75.16170676996146, 73.6614884910831, 71.11237772781715, 70.62600875675791, 70.10786398354888, 70.47445702373122, 70.52887656416812, 70.02987411273355, 70.24884146045488, 70.30840212788272, 69.30299832234904, 69.37533097821833, 69.01682002874878, 67.5984330134607, 67.65706309538601, 68.12017785206959, 68.2578000495116, 67.91956149369705, 67.8851142202605, 67.22847626880744, 66.8450176833059, 67.10328347844666, 67.00219636802628, 66.8777079772594, 62.61374547494034, 73.6491518002177, 75.62567681350087, 87.2614678877429, 69.51995627150141, 69.07856938178847, 70.06068878654492, 70.74503137229355, 71.75072730898555, 73.71565205282634, 73.2025436795327, 71.8390864035253, 71.24972787476219, 70.644882048563, 70.03515475509994, 78.40419536861772, 69.73112920899548, 72.5192767590065, 62.39263672213177, 67.28851086205931, 51.33458300245355, 65.81155542225508, 54.99397522212239, 89.57189473585909, 73.37584402572794, 52.44625602005849, 53.802618733859006, 64.56244082851482, 65.83416627354656, 66.04406851575783, 62.90170324525723, 76.85197525712421, 62.507888300881554, 74.70596218344006, 75.29778022156677, 86.08797397787343, 72.89206641050733, 72.29224386625776, 71.84808083255675, 67.22956841058614, 67.79528459447138, 68.43782337928278, 69.13720423838171, 67.92464416629728, 67.57800918789681, 66.58108020437825, 66.07712111606345, 67.30527088598231, 67.45037279087867, 68.68027148325561, 68.8882158787846, 68.38519544054803, 69.08371840356202, 69.6865415181919, 67.100454019053, 67.37591989572968, 66.77729496445035, 67.65868035038565, 67.92425295559283, 67.56468661532077, 67.40436197781064, 65.79178802639295, 65.37701824958687, 64.59144169385448, 64.1590277816727, 64.79622198334167, 65.58508023033471, 66.1402588456119, 65.43272100448087, 64.71793963950371, 64.08137964198151, 64.63706876657456, 62.69184503845033, 63.327321971927496, 63.69123858532424, 62.8965219095049, 62.3374882719227, 61.73569931428832, 61.42710245964585, 61.40240860200339, 62.05715796626257, 62.8251576692959, 62.21176028036906, 66.0491044484037, 65.88315468258467, 65.38287874779779, 64.29853280524159, 63.2341696521657, 63.57267296451464, 62.46209006110935, 62.081592687848214, 59.50588868557049, 60.45459778078834, 61.9908689922056, 63.20469689412629, 63.776519637794735, 63.8675999516401, 63.67844934409916, 62.82098857421317, 62.10250250739822, 60.84814123963976, 60.21303652542421, 59.23974454549031, 59.253072204512755, 59.80795538487296, 60.351253442065534, 60.48263797308116, 58.46699246242744, 58.52700499929419, 58.10151819519425, 59.94181007477312, 60.7392483142729, 62.00048601328705, 62.579522416946034, 61.94949075876787, 61.95394695922497, 60.915081169644324, 59.8915994466551, 57.93946492464893, 59.79327701011402, 59.812803501316544, 61.096957925444926, 61.42253673711806, 61.21602097282375, 61.32722950053781, 61.30218263301785, 60.88709118119721, 60.48981596733744, 57.48095835944811, 57.383999418931054, 57.13600315661169, 56.69067004988166, 55.070838053215866, 54.585233536095984, 54.599278900689704, 56.02784564414406, 56.772867283622254, 57.53147884809801, 57.39819104819441, 56.077096265347365, 53.9298148133332, 53.70709946766987, 53.73266256239735, 53.712690203558296, 54.31102508368411, 53.983838067062024, 53.72196050631097, 53.22420698146558, 53.34260519416114, 53.088573714245555, 52.699905068552475, 52.64012021849302, 52.66094201146676, 52.647946080716245, 52.46439411750867, 52.39276996641419, 52.27784230615113, 52.221548262292984, 52.37678755884702, 52.21009483139713, 51.925269976138985, 51.729275342883554, 51.97223057506263, 51.887019362056634, 52.21265975104289, 52.36098573936235, 51.995484404639825, 51.74334259103198, 52.21373632025327, 51.91077737051259, 51.74202444112618, 51.84151356274782, 52.156488033730604, 52.688134110273104, 52.10368072786615, 51.956859628168644, 51.77135284023735, 51.419619424380855, 51.33084803388087, 51.342997977744844, 51.40575231290192, 52.049188380641, 53.0129361326284, 54.98164869024803, 55.30669556455473, 55.59998923614919, 55.21120408361404, 54.12388672190313, 54.797667002678565, 55.23614425007427, 55.86186575635037, 55.93459993119182, 56.12322376516068, 55.9031971945012, 56.08676249939733, 55.84166644251489, 55.98973278986404, 55.95176390826933, 55.981231715896584, 55.925816992026014, 55.779845366837876, 55.86788711981978, 55.98910257038072, 56.190344482795105, 55.90974233689054, 55.90252719156271, 56.27394045572969, 56.4464128134575, 56.68790642874962, 56.856645055754726, 56.92748659539827, 56.73774940280848, 56.33867419602689, 56.18661603017444, 55.827695299570664, 55.51541813724091, 55.60921881852883, 55.87851317653119, 55.89324044350626, 56.099571881406064, 55.85906284668541, 55.66239682727061, 54.87805350984041, 53.38401910698624, 53.05520260489456, 52.76788206694553, 53.18557827105171, 54.47959122959986, 54.220972370937005, 53.73261057284745, 53.06585192929632, 51.995464403248285, 52.0074098464578, 52.05762848095486, 51.83723499597386, 51.58941869025536, 51.71004601038047, 52.67555269493021, 53.0396472237328, 53.62886725429929, 53.772207690795874, 53.59692862512836, 53.16406687793251, 52.91281044693304, 52.223960436415645, 51.78502451213842, 50.85471302847084, 50.480482595433415, 51.236686929190874, 53.04118099830211, 54.51030802686685, 55.41902468952482, 55.44610908592369, 55.456328201835326, 55.64516751363107, 55.481716906859226, 55.65841181814631, 55.67245478332179, 55.63037193854752, 55.783469215827736, 55.885434079971134, 55.95177222232854, 55.97724368192707, 55.974735059277265, 56.31963789695667, 56.25918493462844, 56.44855278531822, 56.37626920090629, 56.25472159808335, 56.45103081958536, 56.6103555613876, 56.83648147057238, 57.41317817402349, 57.68803792066092, 58.095143220896276, 58.35759303578127, 58.31165158830973, 58.35348624909769, 58.34636458934772, 58.41661503319209, 58.69776127838611, 59.51605062987899, 60.581321743114955, 61.00264999181654, 61.54534270061062, 62.33710518871126, 62.40305857620585, 62.793459396699824, 63.16856247260378, 63.94246009507269, 64.44141215298765, 64.90607398325636, 65.37766350519843, 65.65924539452824, 66.27306791602375, 66.77575336614288, 67.01943630772746, 67.23355883043217, 67.22841750425083, 66.96133543870319, 66.88160549654212, 66.48293790348309, 66.21359152501822, 66.1274752523174, 66.00991784656196, 65.70361777902119, 65.74249478379966, 65.63789732601452, 65.48566167309636, 65.12067093044614, 64.05222102737544, 63.42391811125761, 62.312586884261066, 63.118209877332184, 65.07361440766077, 65.86217666650752, 66.00361179634477, 66.45044292476977, 66.77023485373493, 66.84408884510974, 67.06577312846751, 67.32443621436805, 67.57149322953822, 67.49420482871876, 67.77774636367955, 67.86004567896347, 67.77784800269075, 67.79762918888447, 67.08908276630247, 67.97105110877155, 67.26875756307085, 67.6273519191345, 68.0471024424861, 68.23784187817887, 69.04723344767221, 69.01688240044005, 69.57450220674507, 69.28045361284391, 68.76331566768648, 68.68199217549194, 69.1859547197551, 69.35055072979328, 70.08335328897678, 69.32187999654302, 69.26560309872495, 69.7704651376136, 69.74936488545072, 71.03121560226393, 69.87826118595856, 70.21020477757173, 70.29943982954786, 70.06905196724166, 69.50410897554954, 70.42454062116583, 70.95117559106656, 71.28172648559415, 71.51568748866445, 71.3748091272741, 71.33245139731771, 71.51934474806366, 71.87337115056619, 71.81351391461547, 71.66188293429157, 71.76206750747627, 71.32938114783154, 71.14072953521162, 71.20090173919377, 71.2368124150327, 71.04874313006603, 70.69674598190294, 70.37754577557838, 70.15864158918252, 70.89928005167117, 68.05273792474962, 67.25282797841106, 69.11776425612113, 67.55649534075458, 70.51298438877339, 69.25098223516274, 67.38384107241438, 70.99713831092457, 72.43936731732538, 72.68017583209588, 73.98632729028007, 75.89954654425195, 78.98394497394469, 78.17939958750954, 76.65671965514572, 74.53626102237814, 75.31148598718417, 75.44027622934323, 76.21780835203819, 76.47150368627429, 74.48503382329214, 73.99903653153845, 72.54151171112044, 73.11959161521774, 71.5945910300486, 71.34641867709604, 70.85883142405818, 70.62290758972519, 71.09806804989385, 70.26120766353989, 71.0333610922468, 70.68131168462548, 71.18045031224426, 69.99027653282113, 71.15753530386783, 70.67350881200524, 69.51901534824643, 71.08001745375128, 71.96688645194973, 71.56833078782392, 70.82473639372742, 69.93499445685727, 69.87511115582991, 70.09114018037825, 69.32753405532452, 70.14732590456954, 69.55384229872554, 68.65733563565266, 66.22969639875365, 65.29079335542976, 64.17316266568268, 62.5669866664351, 61.58502086030195, 61.403166360542436, 61.9022584958987, 60.92866342970115, 59.121136822919524, 61.222221213513286, 63.72244594988019, 65.80310815604396, 66.345206780792, 66.7933027412037, 66.46303747896789, 63.846157773119295, 63.831585029824495, 62.71068062212266, 63.424555791157125, 64.3262794771709, 68.91251313643431, 70.31730494185304, 69.59446786208672, 66.19934284245619, 67.50520154152758, 67.69842387936151, 69.1924119951729, 79.12916476080402, 76.41588505401668, 76.71993181353628, 73.53521386740809, 70.52124725733724, 65.21746449647036, 67.92522760253681, 72.20231576617553, 72.87001513324704, 72.09298648600964, 72.22167264682864, 69.84690812883986, 66.02583502687759, 68.63966662019862, 69.41101199237693, 69.0561860541568, 69.95560068425297, 70.41679650810305, 69.60808844099881, 69.884819715592, 69.97628713765809, 68.82256188658926, 68.18479972497863, 68.8047940606236, 67.82156808537015, 68.55400000322574, 68.5076296567951, 68.32498901647915, 68.24329570441991, 67.1736094536368, 66.949082980087, 66.91655475408959, 66.75991728437789, 66.62937805123133, 67.0800437642819, 45.67715366496123]\n",
            "1939\n",
            "[45.37183380126953, 44.63212966918945, 24.338146209716797, 5.14749002456665, 5.100596904754639, 31.843137741088867, 4.99993896484375, 41.72966766357422, 5.1090593338012695, 4.973071575164795, 42.045806884765625, 44.90220642089844, 5.080514430999756, 39.754127502441406, 42.701385498046875, 42.82000732421875, 46.653953552246094, 42.57626724243164, 25.679899215698242, 42.53398513793945, 43.025779724121094, 42.88100814819336, 42.9279899597168, 43.195194244384766, 43.2869758605957, 42.86333465576172, 42.97290802001953, 42.81016540527344, 42.99590301513672, 43.353111267089844, 43.054779052734375, 43.07535934448242, 42.79868698120117, 43.222381591796875, 43.059513092041016, 44.372314453125, 44.5621452331543, 45.83679962158203, 46.346492767333984, 46.22471618652344, 46.15644073486328, 45.992759704589844, 46.63685989379883, 47.43096160888672, 46.859554290771484, 48.44631576538086, 48.367103576660156, 49.94007873535156, 50.22235870361328, 45.981658935546875, 50.664249420166016, 50.31686782836914, 50.6524772644043, 51.237545013427734, 51.336700439453125, 52.42375564575195, 49.6511116027832, 52.79314041137695, 52.353759765625, 53.64261245727539, 52.822669982910156, 51.460914611816406, 51.07781982421875, 50.160316467285156, 49.6046142578125, 50.76210403442383, 49.92422103881836, 50.11469650268555, 52.663719177246094, 48.315128326416016, 52.29773712158203, 47.62726974487305, 47.01852035522461, 50.18233871459961, 50.74198913574219, 51.362274169921875, 49.976078033447266, 47.96014404296875, 48.65761184692383, 47.62527084350586, 49.21770095825195, 49.287235260009766, 50.13695526123047, 50.14852523803711, 50.26996612548828, 50.49245071411133, 49.60667037963867, 50.85670852661133, 51.575225830078125, 51.23434066772461, 50.430171966552734, 48.85285186767578, 51.019657135009766, 44.52687454223633, 48.94347381591797, 50.21861267089844, 47.12858963012695, 47.595306396484375, 49.673248291015625, 49.35824966430664, 49.574729919433594, 49.55568313598633, 49.919742584228516, 49.446533203125, 49.5850715637207, 49.05710983276367, 47.66257095336914, 47.19004821777344, 40.900917053222656, 39.66083526611328, 41.61126708984375, 44.335628509521484, 44.1496696472168, 43.5498046875, 43.95148849487305, 43.3570556640625, 40.283973693847656, 39.40896987915039, 38.82939910888672, 39.27557373046875, 39.79540252685547, 46.44476318359375, 38.9797248840332, 41.003421783447266, 40.829017639160156, 40.88644027709961, 41.1579475402832, 41.01145935058594, 41.15829849243164, 41.22116470336914, 41.209190368652344, 41.437408447265625, 42.844051361083984, 42.840057373046875, 43.172672271728516, 44.17650604248047, 44.275909423828125, 44.73867416381836, 44.56626892089844, 44.91549301147461, 44.802146911621094, 44.6102180480957, 44.313541412353516, 43.528045654296875, 43.37519836425781, 43.45904541015625, 44.35179138183594, 43.133018493652344, 43.238258361816406, 44.146217346191406, 43.149776458740234, 43.10023498535156, 44.099609375, 43.48970031738281, 45.55031967163086, 44.9132194519043, 45.08330535888672, 46.51265335083008, 45.430992126464844, 43.72893142700195, 44.07682418823242, 45.106483459472656, 44.53804016113281, 43.74522018432617, 43.028873443603516, 42.216434478759766, 43.55873489379883, 44.067100524902344, 42.9869499206543, 43.557456970214844, 43.503021240234375, 42.898536682128906, 43.33177185058594, 42.98857879638672, 43.48194122314453, 42.422725677490234, 42.588829040527344, 42.22047805786133, 41.91412353515625, 42.10049819946289, 42.30381393432617, 41.98796463012695, 42.28611373901367, 42.144317626953125, 42.366905212402344, 41.96281433105469, 41.984745025634766, 42.15874481201172, 42.537845611572266, 42.98215866088867, 43.92948532104492, 44.52335739135742, 45.30379867553711, 48.21403121948242, 48.338661193847656, 48.33364486694336, 46.65555953979492, 46.66135025024414, 46.28929138183594, 46.62276077270508, 46.907005310058594, 47.46226119995117, 47.35704040527344, 47.93257522583008, 49.413597106933594, 48.73781967163086, 49.02371597290039, 49.882904052734375, 50.278045654296875, 47.95504379272461, 52.49470901489258, 52.75795364379883, 48.491432189941406, 52.947784423828125, 52.99934768676758, 52.91779708862305, 52.72743606567383, 52.77666091918945, 52.9015998840332, 53.006839752197266, 53.16758346557617, 52.88813400268555, 52.91083908081055, 52.61806869506836, 52.48393630981445, 51.777740478515625, 52.02054977416992, 52.21975326538086, 52.249168395996094, 51.977317810058594, 51.4402961730957, 51.36009979248047, 51.34872055053711, 50.835914611816406, 50.49892807006836, 50.332237243652344, 49.55790710449219, 49.35170364379883, 48.42173385620117, 47.61906051635742, 47.18352127075195, 46.35470199584961, 45.79219436645508, 45.46284866333008, 45.20218276977539, 44.73903274536133, 44.71262741088867, 44.51392364501953, 43.63405227661133, 43.340450286865234, 43.0313835144043, 42.944244384765625, 42.79229736328125, 42.593360900878906, 42.08598709106445, 41.959197998046875, 41.27063751220703, 41.20703887939453, 40.31322479248047, 39.722877502441406, 38.39271545410156, 38.25611877441406, 37.724849700927734, 37.267967224121094, 36.62586975097656, 36.49612045288086, 36.15359115600586, 36.45738983154297, 35.5492057800293, 36.603721618652344, 35.25640869140625, 36.97780227661133, 34.73729705810547, 34.96555709838867, 36.718624114990234, 34.91099166870117, 36.2160758972168, 35.970420837402344, 35.60734939575195, 37.2402458190918, 37.17749786376953, 35.8984375, 36.20122528076172, 35.424774169921875, 36.93666076660156, 37.07716369628906, 37.44560623168945, 38.895484924316406, 38.6679801940918, 38.59700393676758, 39.86647033691406, 40.62592697143555, 42.704803466796875, 41.35662078857422, 43.740047454833984, 41.402957916259766, 43.42626953125, 43.84883499145508, 42.30680847167969, 42.83374786376953, 43.28049087524414, 43.813602447509766, 42.12652587890625, 43.639461517333984, 42.856998443603516, 42.09843826293945, 41.591949462890625, 42.65177917480469, 42.46921157836914, 42.43827819824219, 41.17415237426758, 44.87324142456055, 50.87789535522461, 49.23107147216797, 47.840816497802734, 47.933746337890625, 51.57526397705078, 49.941654205322266, 43.5845947265625, 40.903221130371094, 41.97868347167969, 43.823482513427734, 45.499366760253906, 47.41645812988281, 48.5001220703125, 46.71279525756836, 46.066741943359375, 45.64548873901367, 44.389530181884766, 47.459041595458984, 51.63836669921875, 49.72976303100586, 51.460227966308594, 53.2270622253418, 51.63340759277344, 51.34634017944336, 52.11834716796875, 51.394432067871094, 46.527095794677734, 45.55018615722656, 50.92755889892578, 50.84896469116211, 50.95302963256836, 50.22882843017578, 49.75898742675781, 48.854408264160156, 47.1866569519043, 46.569820404052734, 46.435699462890625, 45.79263687133789, 45.04765701293945, 44.79713439941406, 44.29470443725586, 43.93156814575195, 43.808162689208984, 42.634796142578125, 42.266170501708984, 42.007938385009766, 41.734153747558594, 41.38536834716797, 40.920387268066406, 40.4837760925293, 38.718109130859375, 38.669864654541016, 36.926692962646484, 37.81733703613281, 35.95158767700195, 35.758365631103516, 35.65624237060547, 35.448204040527344, 35.082542419433594, 34.91771697998047, 34.708518981933594, 34.344627380371094, 34.47433853149414, 34.30231857299805, 34.36330032348633, 34.19510269165039, 34.18903350830078, 34.37226486206055, 34.50129318237305, 34.480377197265625, 37.04087829589844, 38.052574157714844, 38.531272888183594, 41.06735610961914, 41.697574615478516, 42.57952880859375, 42.891963958740234, 43.34676742553711, 44.065574645996094, 43.866275787353516, 44.02659606933594, 44.4137077331543, 44.627601623535156, 43.92669677734375, 43.96749496459961, 44.29854965209961, 44.01600646972656, 43.9326171875, 43.71516418457031, 43.06365203857422, 43.214210510253906, 42.721473693847656, 42.61865997314453, 42.74519729614258, 42.336063385009766, 44.77935791015625, 45.65482711791992, 42.29492950439453, 42.4819221496582, 41.207889556884766, 43.71910858154297, 48.10885238647461, 47.87084197998047, 47.08464050292969, 46.64335632324219, 46.81722640991211, 46.472713470458984, 46.72465515136719, 46.93129348754883, 50.09999465942383, 50.62727737426758, 51.2337532043457, 52.732147216796875, 52.73797607421875, 52.94852066040039, 53.51007843017578, 53.52472686767578, 53.966209411621094, 54.16585159301758, 53.90915298461914, 53.838111877441406, 53.778236389160156, 53.43003463745117, 53.3912353515625, 52.94330978393555, 52.605831146240234, 52.193389892578125, 51.4487190246582, 51.22133255004883, 50.96962356567383, 50.721214294433594, 50.32664489746094, 49.87570571899414, 49.62729263305664, 49.30644989013672, 48.73493576049805, 47.04890060424805, 46.39599609375, 45.95893859863281, 45.631385803222656, 45.03425979614258, 44.81744384765625, 44.673675537109375, 43.78907012939453, 43.845733642578125, 42.55509567260742, 41.99451446533203, 40.498294830322266, 39.747283935546875, 39.160400390625, 38.41545867919922, 37.759971618652344, 37.06440734863281, 36.69261169433594, 34.4571647644043, 33.90316390991211, 33.77103805541992, 33.641685485839844, 33.407047271728516, 33.31382369995117, 32.8920783996582, 32.70848846435547, 33.07759094238281, 33.08783721923828, 33.331390380859375, 33.52355194091797, 34.17964172363281, 34.32704544067383, 34.71967315673828, 32.84164047241211, 32.75739288330078, 33.63544845581055, 35.97564697265625, 35.65793228149414, 35.95301055908203, 37.01504135131836, 37.22782516479492, 38.091796875, 38.04997253417969, 38.399513244628906, 39.32054138183594, 39.55768585205078, 40.926204681396484, 40.671226501464844, 40.687862396240234, 40.726192474365234, 40.964012145996094, 41.10565948486328, 41.13236618041992, 41.291744232177734, 41.968345642089844, 41.89252853393555, 42.1948127746582, 42.0848503112793, 42.1924934387207, 41.919586181640625, 41.50315856933594, 48.79925537109375, 48.58876419067383, 48.58293914794922, 49.44728469848633, 51.43696594238281, 50.04450988769531, 48.82243347167969, 50.19072723388672, 49.81481170654297, 50.71662521362305, 50.67115020751953, 50.685447692871094, 50.711063385009766, 50.12888717651367, 51.038604736328125, 51.4093132019043, 51.5968017578125, 51.731414794921875, 52.2180061340332, 52.513790130615234, 52.451332092285156, 52.565185546875, 52.4125862121582, 52.01469039916992, 52.04105758666992, 51.37261962890625, 51.09187698364258, 50.84335708618164, 50.77953338623047, 50.876182556152344, 50.67230224609375, 50.640804290771484, 50.21603775024414, 50.71023178100586, 49.88457489013672, 49.66695022583008, 49.29701614379883, 49.176082611083984, 49.00490188598633, 48.84628677368164, 48.37390899658203, 48.01663589477539, 47.67564392089844, 46.78996276855469, 46.095054626464844, 45.157142639160156, 45.331390380859375, 44.995628356933594, 44.92179489135742, 44.693477630615234, 44.370792388916016, 44.30474853515625, 42.94081497192383, 42.68186569213867, 42.33671188354492, 42.38627624511719, 42.23369216918945, 42.25931167602539, 42.12373352050781, 41.876834869384766, 41.69289016723633, 40.465702056884766, 40.36933135986328, 40.23443603515625, 38.90968322753906, 40.02444076538086, 38.650203704833984, 38.654541015625, 37.155677795410156, 36.35993957519531, 39.614044189453125, 41.07784652709961, 41.14291000366211, 40.73512268066406, 40.530887603759766, 40.05088806152344, 40.331932067871094, 40.7880859375, 41.67438507080078, 41.5135498046875, 41.92708969116211, 41.659915924072266, 41.903564453125, 41.12689208984375, 41.23446273803711, 41.55281448364258, 39.24999237060547, 43.273284912109375, 40.839996337890625, 38.19993591308594, 41.49507141113281, 41.11650085449219, 41.9043083190918, 41.70232009887695, 42.00334548950195, 40.95693588256836, 42.65860366821289, 42.345054626464844, 43.46307373046875, 43.12345504760742, 43.14495849609375, 43.461788177490234, 43.407997131347656, 42.91085433959961, 43.41432571411133, 44.27006149291992, 45.418312072753906, 45.6165771484375, 45.835350036621094, 45.886474609375, 45.51638412475586, 46.0883674621582, 46.7502555847168, 47.1888313293457, 47.718997955322266, 47.26312255859375, 47.28549575805664, 48.69646453857422, 48.20017623901367, 47.110931396484375, 47.12896728515625, 47.85171890258789, 47.82448196411133, 50.8553352355957, 50.54389953613281, 49.36168670654297, 49.47214889526367, 49.32635498046875, 49.1799201965332, 47.17381286621094, 47.326683044433594, 49.359100341796875, 51.39737319946289, 50.649147033691406, 51.237701416015625, 52.95565414428711, 53.574222564697266, 54.238983154296875, 54.28359603881836, 52.732688903808594, 52.81996536254883, 53.15170669555664, 52.97393035888672, 52.82327651977539, 52.771324157714844, 52.54428482055664, 52.6571159362793, 52.576881408691406, 51.569252014160156, 51.12848663330078, 52.04326248168945, 50.99601364135742, 50.30523681640625, 50.473052978515625, 50.20877456665039, 50.164615631103516, 50.51349639892578, 51.45996856689453, 51.0377082824707, 50.142635345458984, 49.74995422363281, 50.1920166015625, 49.48740768432617, 49.188053131103516, 47.97493362426758, 48.67282485961914, 48.54752731323242, 48.36314392089844, 48.3590087890625, 49.07697296142578, 48.746891021728516, 36.5682487487793, 38.05118942260742, 40.31721878051758, 40.902122497558594, 37.17062759399414, 37.02627182006836, 36.34468460083008, 36.68185806274414, 36.47583770751953, 36.27707290649414, 36.463653564453125, 36.15885543823242, 36.571956634521484, 36.80789566040039, 36.64018630981445, 38.33766555786133, 37.91107940673828, 37.87941360473633, 37.66655731201172, 37.710289001464844, 37.20635223388672, 37.72474670410156, 37.58729934692383, 38.35825729370117, 38.14570999145508, 35.52009963989258, 41.01041030883789, 39.47626495361328, 39.4752197265625, 38.9618034362793, 44.306644439697266, 44.4453010559082, 43.93257141113281, 47.96793746948242, 44.518253326416016, 46.732032775878906, 49.146141052246094, 47.54008102416992, 45.9852180480957, 46.07994842529297, 47.5458984375, 46.27083206176758, 45.158512115478516, 45.79987716674805, 49.0355110168457, 42.59015655517578, 48.15554428100586, 47.20944595336914, 40.46738052368164, 47.5694465637207, 48.5782470703125, 46.3012580871582, 44.9114990234375, 42.18279266357422, 44.93305206298828, 44.009185791015625, 48.35839080810547, 49.199806213378906, 48.57280731201172, 47.33164978027344, 47.23575210571289, 46.8685188293457, 45.359375, 47.64762496948242, 50.19253921508789, 49.29029083251953, 49.206459045410156, 49.12944793701172, 49.20269012451172, 47.72981643676758, 47.44049072265625, 46.521095275878906, 47.859920501708984, 48.36080551147461, 48.01426696777344, 47.35624313354492, 47.23543167114258, 48.42296600341797, 48.019775390625, 48.18120193481445, 49.22026824951172, 49.153568267822266, 48.972896575927734, 48.861358642578125, 47.95084762573242, 46.095802307128906, 46.11547088623047, 47.22802734375, 48.4166259765625, 47.940155029296875, 48.04979705810547, 46.53021240234375, 44.73088455200195, 44.36806106567383, 43.0451545715332, 42.768218994140625, 42.7307014465332, 42.84475326538086, 41.9915771484375, 42.32905197143555, 41.46865463256836, 40.7141227722168, 41.04515075683594, 41.308929443359375, 41.57481002807617, 41.42672348022461, 41.31327819824219, 41.68169021606445, 40.89977264404297, 41.215702056884766, 41.083526611328125, 40.62468338012695, 40.980350494384766, 41.10728454589844, 40.587589263916016, 41.105384826660156, 40.57748031616211, 40.32419967651367, 40.12459182739258, 40.050758361816406, 39.90705490112305, 38.815547943115234, 38.82122039794922, 37.628028869628906, 38.20903778076172, 39.28111267089844, 38.29972457885742, 38.16978073120117, 36.68921661376953, 39.98894500732422, 42.500205993652344, 40.66693878173828, 41.767276763916016, 42.07174301147461, 39.35916519165039, 39.53726577758789, 39.68388748168945, 40.92316818237305, 40.626888275146484, 39.526588439941406, 39.311920166015625, 39.06239700317383, 40.140045166015625, 40.763221740722656, 39.78891372680664, 40.21575927734375, 40.092918395996094, 39.694095611572266, 39.768314361572266, 39.638309478759766, 39.3179931640625, 39.17629623413086, 38.9641227722168, 39.031063079833984, 37.78070831298828, 38.269935607910156, 37.815303802490234, 37.75666427612305, 37.62437438964844, 37.653263092041016, 37.79234313964844, 37.83586502075195, 37.75736618041992, 37.800472259521484, 37.84347915649414, 38.01816177368164, 38.70071029663086, 38.89597702026367, 40.0797004699707, 40.76776123046875, 40.90214157104492, 39.251625061035156, 38.196189880371094, 38.073097229003906, 37.19636154174805, 37.024925231933594, 36.80644226074219, 37.12255096435547, 36.61891555786133, 37.42395782470703, 39.21591567993164, 37.32833480834961, 37.2314567565918, 36.51337814331055, 37.61577224731445, 39.79374694824219, 38.181907653808594, 42.47879409790039, 42.945518493652344, 44.0538215637207, 44.49254608154297, 45.56712341308594, 45.47208023071289, 45.9227294921875, 46.628265380859375, 46.89564895629883, 47.142234802246094, 46.817569732666016, 47.2196044921875, 46.65245819091797, 46.31850814819336, 46.10354232788086, 45.94477081298828, 45.748802185058594, 45.459678649902344, 45.79130172729492, 45.54460144042969, 45.53852081298828, 45.389713287353516, 45.28989028930664, 45.110172271728516, 44.47036361694336, 44.508941650390625, 43.76741027832031, 43.71666717529297, 43.42325210571289, 43.44202423095703, 42.9941291809082, 42.59955978393555, 42.086727142333984, 41.83026885986328, 41.76607131958008, 41.38279724121094, 40.47255325317383, 40.78213882446289, 40.15041732788086, 39.69526290893555, 39.296791076660156, 39.238285064697266, 38.656646728515625, 38.516624450683594, 38.25775146484375, 38.04899597167969, 37.909332275390625, 37.64229202270508, 37.31617736816406, 37.477813720703125, 37.34663009643555, 37.28526306152344, 37.08384323120117, 36.83664321899414, 36.62373733520508, 36.40208435058594, 36.6358757019043, 36.334808349609375, 37.534027099609375, 36.603782653808594, 36.1695671081543, 35.67478942871094, 36.44853591918945, 37.54146957397461, 37.2694091796875, 38.45564270019531, 37.08799362182617, 38.71794509887695, 39.463069915771484, 38.85334396362305, 38.22659683227539, 37.988651275634766, 37.37808609008789, 38.47521209716797, 39.113365173339844, 40.30982208251953, 41.19658279418945, 40.495872497558594, 39.973175048828125, 41.01517105102539, 40.4561882019043, 39.92094421386719, 45.110755920410156, 41.1402473449707, 40.73515701293945, 39.4185791015625, 41.2156982421875, 38.10002899169922, 38.635929107666016, 38.65959167480469, 37.10098648071289, 38.03385925292969, 39.8568115234375, 37.16827392578125, 35.83407211303711, 35.13560104370117, 37.598243713378906, 35.05660629272461, 38.046302795410156, 37.11697006225586, 39.878639221191406, 48.15461349487305, 46.971519470214844, 47.94789123535156, 50.54381561279297, 51.63672637939453, 48.191497802734375, 41.418182373046875, 35.840904235839844, 36.408321380615234, 38.893306732177734, 40.15662384033203, 41.471160888671875, 43.475868225097656, 43.947357177734375, 42.3522834777832, 35.932315826416016, 35.02293395996094, 34.58634567260742, 33.90634536743164, 34.30353546142578, 33.82814025878906, 33.619537353515625, 34.22804260253906, 36.01566696166992, 37.10226058959961, 37.31113815307617, 38.10605239868164, 39.23883819580078, 39.87055587768555, 40.16249084472656, 42.40602111816406, 43.60742950439453, 46.573631286621094, 46.59754943847656, 47.08462142944336, 47.152278900146484, 47.23981475830078, 46.948123931884766, 47.27629089355469, 46.93993377685547, 46.70301818847656, 45.90709686279297, 45.525421142578125, 45.45998001098633, 45.36502456665039, 44.689701080322266, 44.86119842529297, 44.5968017578125, 44.55669021606445, 44.52254104614258, 44.856449127197266, 44.45240020751953, 43.67339324951172, 43.477603912353516, 42.86466598510742, 43.166259765625, 43.03232192993164, 42.82337951660156, 43.09566879272461, 41.29103088378906, 40.6393928527832, 39.33833694458008, 39.29753112792969, 38.80533981323242, 38.52626419067383, 38.462738037109375, 38.3346061706543, 38.082271575927734, 37.173465728759766, 36.662960052490234, 35.93138885498047, 35.887115478515625, 35.308837890625, 35.288326263427734, 34.84947204589844, 34.511932373046875, 34.79570770263672, 33.21240997314453, 33.40538787841797, 33.008026123046875, 32.95061111450195, 33.25264358520508, 32.91961669921875, 33.50642013549805, 33.43952560424805, 33.639156341552734, 33.1893424987793, 32.87678909301758, 34.24821090698242, 33.97760772705078, 34.370933532714844, 34.95851135253906, 34.56929397583008, 34.31557083129883, 35.51319885253906, 35.81485366821289, 36.53233337402344, 35.92308044433594, 35.89735412597656, 35.542686462402344, 35.89219284057617, 35.98258972167969, 36.06561279296875, 35.76127243041992, 36.547698974609375, 36.44036102294922, 37.14582824707031, 36.832759857177734, 37.2564697265625, 36.97255325317383, 37.76860809326172, 44.708587646484375, 25.529449462890625, 42.224632263183594, 32.06489181518555, 31.206100463867188, 49.29453659057617, 31.609949111938477, 41.503082275390625, 39.595672607421875, 37.59109115600586, 40.44053268432617, 41.125667572021484, 40.16389846801758, 39.32050704956055, 39.47667694091797, 39.17710494995117, 38.8194465637207, 38.52915954589844, 37.835777282714844, 38.200355529785156, 42.650726318359375, 41.46388626098633, 39.205467224121094, 40.85620880126953, 38.24971389770508, 36.99125671386719, 35.922454833984375, 36.747283935546875, 37.47201919555664, 38.89085006713867, 38.789058685302734, 36.175662994384766, 35.512001037597656, 36.16136932373047, 35.82115936279297, 36.90168762207031, 37.857078552246094, 38.206024169921875, 38.636146545410156, 38.07478713989258, 37.57917404174805, 37.616512298583984, 37.22374725341797, 36.66558837890625, 36.56328201293945, 33.85271453857422, 35.071964263916016, 36.552734375, 36.52644348144531, 37.25348663330078, 40.78540802001953, 39.57098388671875, 39.433998107910156, 38.39589309692383, 38.499446868896484, 39.56393051147461, 40.2052116394043, 42.42027282714844, 43.2768440246582, 44.49821853637695, 46.306068420410156, 45.74483871459961, 46.08400344848633, 44.140621185302734, 44.00112533569336, 42.339263916015625, 40.1800651550293, 38.83219528198242, 39.65900421142578, 39.06346893310547, 39.504066467285156, 37.565887451171875, 38.50872802734375, 39.99448776245117, 41.13033676147461, 39.27995300292969, 40.35454177856445, 38.73424530029297, 35.918846130371094, 42.28915023803711, 46.373836517333984, 45.562923431396484, 46.83103942871094, 46.847755432128906, 40.065521240234375, 40.527442932128906, 38.802799224853516, 42.5087890625, 42.57114791870117, 43.47674560546875, 45.57701110839844, 44.891685485839844, 46.612205505371094, 48.890419006347656, 48.44629669189453, 47.31351089477539, 48.70169448852539, 46.90201187133789, 44.60488510131836, 49.4986686706543, 48.826602935791016, 47.19000244140625, 45.09736251831055, 43.50059509277344, 45.18555450439453, 46.409515380859375, 46.70395278930664, 44.910823822021484, 44.88795471191406, 46.920467376708984, 46.100765228271484, 46.31270217895508, 46.927974700927734, 47.61825180053711, 46.3847770690918, 42.3252067565918, 45.00721740722656, 45.102386474609375, 45.78194046020508, 50.81890869140625, 50.62338638305664, 48.070465087890625, 44.75333786010742, 43.50791549682617, 42.74627685546875, 39.93252944946289, 40.39094543457031, 38.15431213378906, 38.158973693847656, 39.181034088134766, 38.87049102783203, 40.799373626708984, 41.67026138305664, 43.845863342285156, 39.90517807006836, 41.35171127319336, 41.121150970458984, 41.941768646240234, 42.52197265625, 40.21638870239258, 43.65532684326172, 43.30466842651367, 43.52952575683594, 43.396018981933594, 43.51345443725586, 43.439022064208984, 43.66482162475586, 43.84192657470703, 43.67854309082031, 43.383392333984375, 43.34391403198242, 43.0143928527832, 42.758995056152344, 42.22766876220703, 42.28303527832031, 41.492069244384766, 40.19545364379883, 40.08060073852539, 39.57070541381836, 39.487220764160156, 38.18227767944336, 39.374267578125, 40.047340393066406, 39.23702621459961, 38.91633987426758, 38.12560272216797, 37.542747497558594, 36.95703887939453, 36.55500793457031, 35.107215881347656, 34.25214385986328, 34.77810287475586, 33.96577453613281, 34.81107711791992, 35.031402587890625, 34.67426681518555, 34.67466354370117, 36.724308013916016, 37.37281799316406, 38.093406677246094, 37.93187713623047, 39.190887451171875, 40.56877136230469, 40.93073272705078, 41.12471389770508, 40.399871826171875, 42.42303466796875, 43.59456253051758, 43.469940185546875, 43.12748718261719, 42.917423248291016, 43.204551696777344, 43.31704330444336, 43.84151840209961, 43.21047592163086, 42.12965774536133, 42.00680160522461, 42.65062713623047, 43.31492233276367, 44.315879821777344, 41.37364196777344, 40.76205825805664, 40.64057922363281, 40.62956237792969, 41.621192932128906, 41.27752685546875, 41.6841926574707, 42.10432052612305, 42.89656448364258, 43.72108840942383, 43.9555778503418, 44.48064422607422, 44.65629577636719, 44.27256393432617, 41.95002746582031, 41.53457260131836, 41.367088317871094, 41.57010269165039, 41.209659576416016, 41.18625259399414, 41.580841064453125, 41.480308532714844, 41.85429000854492, 41.866275787353516, 41.92139434814453, 42.290916442871094, 41.81315994262695, 40.883907318115234, 41.50467300415039, 41.00846862792969, 41.743011474609375, 43.03139877319336, 42.66929244995117, 42.16067123413086, 41.820491790771484, 41.8427734375, 41.76802062988281, 41.658504486083984, 42.13389587402344, 41.201080322265625, 41.4131965637207, 40.45304870605469, 42.2413444519043, 40.76652908325195, 41.92779541015625, 41.53474044799805, 41.477691650390625, 40.08427047729492, 37.3973388671875, 39.58240509033203, 41.23496627807617, 42.809654235839844, 42.206302642822266, 41.8384895324707, 40.6655158996582, 40.54368209838867, 39.60293197631836, 43.16830062866211, 45.27470397949219, 44.955162048339844, 42.882591247558594, 42.257225036621094, 40.535179138183594, 41.314456939697266, 42.59834671020508, 42.51884841918945, 42.87275695800781, 42.11767578125, 41.58538818359375, 41.942039489746094, 41.55641555786133, 41.182533264160156, 41.1753044128418, 41.68408203125, 42.546600341796875, 40.794097900390625, 41.2877082824707, 43.71733093261719, 41.829750061035156, 43.84395980834961, 44.44532012939453, 43.829689025878906, 43.79306411743164, 41.65467834472656, 42.204769134521484, 45.4684944152832, 45.3476448059082, 44.899627685546875, 43.61509704589844, 45.471641540527344, 48.403175354003906, 45.596717834472656, 45.65554428100586, 41.08637237548828, 40.902435302734375, 39.414241790771484, 38.16222381591797, 42.945316314697266, 44.173973083496094, 43.11813735961914, 42.57457733154297, 44.04328918457031, 42.57542419433594, 41.361183166503906, 41.07725143432617, 41.28465270996094, 40.28028106689453, 39.74193572998047, 40.75267791748047, 39.966583251953125, 40.921295166015625, 41.509361267089844, 41.88685989379883, 41.67851638793945, 41.495697021484375, 40.5363883972168, 40.63998031616211, 41.42088317871094, 42.02017593383789, 40.00068283081055, 39.89360809326172, 39.639976501464844, 39.997779846191406, 40.93864822387695, 39.69861602783203, 39.60374450683594, 41.84395980834961, 42.500640869140625, 42.13109588623047, 42.195682525634766, 39.47793197631836, 38.07133865356445, 40.111968994140625, 40.212379455566406, 40.08505630493164, 39.967979431152344, 39.73677444458008, 39.850345611572266, 39.5933723449707, 39.6262321472168, 39.817771911621094, 39.75769805908203, 40.05696105957031, 40.740631103515625, 40.06331253051758, 39.87354278564453, 39.69446563720703, 39.5762939453125, 40.29776382446289, 40.45680618286133, 40.2496337890625, 40.296051025390625, 40.14564895629883, 40.22495651245117, 41.14008712768555, 41.32435607910156, 41.423519134521484, 40.2376594543457, 40.68269729614258, 40.69444274902344, 40.83088302612305, 40.54323959350586, 39.398712158203125, 38.205406188964844, 37.789955139160156, 37.244781494140625, 37.61930465698242, 36.720115661621094, 35.792205810546875, 35.60222625732422, 36.101409912109375, 35.6065788269043, 35.8737678527832, 36.473819732666016, 36.77291488647461, 36.50429153442383, 36.24432373046875, 44.17637634277344, 42.1368408203125, 26.625883102416992, 40.45562744140625, 40.31650924682617, 41.3748664855957, 42.82169723510742, 43.238975524902344, 44.7474365234375, 45.538970947265625, 44.09535217285156, 43.8982048034668, 42.68708801269531, 42.178524017333984, 48.04326248168945, 48.60700225830078, 43.27609634399414, 39.69224166870117, 39.651302337646484, 35.09959411621094, 40.5937385559082, 25.75909423828125, 30.386226654052734, 30.354734420776367, 22.474748611450195, 46.47117233276367, 36.73518371582031, 38.0599479675293, 38.134765625, 37.48611831665039, 35.40743637084961, 36.02985382080078, 45.58869552612305, 42.49794006347656, 28.572132110595703, 41.08645248413086, 41.13010025024414, 41.08305358886719, 40.133975982666016, 40.95534133911133, 41.214603424072266, 41.598297119140625, 41.52392578125, 41.56805419921875, 40.97263717651367, 41.330440521240234, 42.23657989501953, 42.41217041015625, 42.806739807128906, 42.84062957763672, 42.88645553588867, 42.96073913574219, 43.11050796508789, 43.23867416381836, 43.40657043457031, 43.419288635253906, 43.8431282043457, 43.92450714111328, 43.65808868408203, 43.55147171020508, 42.807159423828125, 42.28221893310547, 41.469730377197266, 41.4124870300293, 41.943214416503906, 43.65349197387695, 43.93846893310547, 43.610755920410156, 42.277671813964844, 41.87449645996094, 42.519779205322266, 40.78072738647461, 40.95718002319336, 40.940486907958984, 40.395503997802734, 39.91493225097656, 39.806312561035156, 39.49066925048828, 39.802040100097656, 40.429779052734375, 41.414695739746094, 40.47114562988281, 43.01940155029297, 43.02586364746094, 43.02568817138672, 42.54048156738281, 41.785823822021484, 41.9407958984375, 41.21603775024414, 40.680973052978516, 37.257450103759766, 37.679080963134766, 39.972896575927734, 41.0177001953125, 41.3841552734375, 41.15835189819336, 41.26594161987305, 41.13591003417969, 40.33887481689453, 38.659332275390625, 38.348079681396484, 36.46589279174805, 36.17512512207031, 36.1125373840332, 37.228519439697266, 36.67259216308594, 33.798377990722656, 33.322731018066406, 32.67585754394531, 33.46733856201172, 34.38844299316406, 35.09074401855469, 35.299259185791016, 35.02035903930664, 34.80593490600586, 33.89570999145508, 33.40517044067383, 31.364412307739258, 32.616947174072266, 32.77226638793945, 34.21379470825195, 34.53183364868164, 34.75844192504883, 35.194602966308594, 35.287261962890625, 35.25056076049805, 36.123558044433594, 34.345272064208984, 34.29682159423828, 34.37124252319336, 34.52897644042969, 34.29544448852539, 35.66950988769531, 34.432247161865234, 33.90711975097656, 34.02641296386719, 34.54384231567383, 34.052364349365234, 32.51567840576172, 33.054466247558594, 33.50057601928711, 34.18021011352539, 34.69982147216797, 33.92982482910156, 33.05768585205078, 33.50553512573242, 35.46889114379883, 36.133148193359375, 37.20452880859375, 37.893497467041016, 38.410518646240234, 38.5873908996582, 39.13418197631836, 39.36235809326172, 39.5531120300293, 39.535606384277344, 39.1929817199707, 39.02266311645508, 38.804752349853516, 38.87620544433594, 39.71462631225586, 40.13029861450195, 40.21220397949219, 40.743656158447266, 40.76596450805664, 40.777183532714844, 40.27203369140625, 40.42702865600586, 39.90597152709961, 39.61559295654297, 39.18268966674805, 38.65201950073242, 37.424468994140625, 37.11144256591797, 37.020416259765625, 37.88313293457031, 39.31455993652344, 38.545143127441406, 39.29191589355469, 38.949100494384766, 38.039451599121094, 36.03167724609375, 35.13188171386719, 35.30045700073242, 35.548927307128906, 35.484127044677734, 35.03593826293945, 35.04566955566406, 35.30965805053711, 35.481998443603516, 35.43436813354492, 35.411922454833984, 35.31962966918945, 35.1756706237793, 35.061622619628906, 35.268218994140625, 35.40068054199219, 35.71232223510742, 35.7702751159668, 35.56136703491211, 35.36121368408203, 35.34428024291992, 35.15504455566406, 34.85531234741211, 34.74706268310547, 34.976932525634766, 35.1435432434082, 35.33888626098633, 35.581668853759766, 35.45867156982422, 35.02259826660156, 34.432369232177734, 33.931549072265625, 33.41390609741211, 33.437278747558594, 33.56990432739258, 33.78834915161133, 33.96672821044922, 34.25405502319336, 34.0772819519043, 33.855472564697266, 33.08041763305664, 32.48371124267578, 32.47611618041992, 32.58432388305664, 32.16044235229492, 31.70319175720215, 31.654787063598633, 31.948143005371094, 31.95893096923828, 31.973350524902344, 33.11555099487305, 31.664884567260742, 32.21754837036133, 31.673608779907227, 31.83428955078125, 31.807926177978516, 31.82952880859375, 32.07369613647461, 32.26536178588867, 32.52690505981445, 32.81321334838867, 32.940494537353516, 32.62504959106445, 32.58051300048828, 32.36184310913086, 33.09767150878906, 33.07821273803711, 32.73024368286133, 33.000003814697266, 33.16289138793945, 33.17430877685547, 33.214908599853516, 33.28668975830078, 33.27224349975586, 33.236427307128906, 33.20136260986328, 33.1644401550293, 32.947139739990234, 32.95066452026367, 33.1811408996582, 33.267127990722656, 33.36916732788086, 33.21144485473633, 32.959632873535156, 32.783634185791016, 32.73714828491211, 32.71769332885742, 32.64989471435547, 32.590919494628906, 32.45364761352539, 32.314327239990234, 32.422523498535156, 32.4556999206543, 32.57472610473633, 32.65255355834961, 32.88555908203125, 33.09695053100586, 33.369136810302734, 33.48104476928711, 33.5326042175293, 33.76039123535156, 33.88868713378906, 34.00382995605469, 34.23260498046875, 34.279720306396484, 34.406978607177734, 34.616943359375, 35.0867805480957, 35.576969146728516, 36.108551025390625, 37.060237884521484, 38.07297897338867, 39.4630012512207, 40.55440902709961, 41.18948745727539, 41.652687072753906, 41.72254180908203, 41.534027099609375, 41.55565643310547, 41.16001510620117, 40.87721633911133, 40.727298736572266, 40.5895881652832, 40.45386505126953, 40.43558120727539, 40.36576843261719, 40.52524948120117, 40.7203254699707, 40.991065979003906, 40.86344909667969, 40.482425689697266, 41.06730270385742, 41.69361114501953, 42.259132385253906, 42.33113479614258, 42.51271057128906, 42.85310363769531, 42.997657775878906, 43.12324142456055, 43.08548355102539, 42.90218734741211, 43.22905731201172, 43.48009490966797, 43.91690444946289, 43.919918060302734, 44.25383377075195, 44.249488830566406, 44.38395690917969, 44.20396423339844, 44.35157775878906, 44.54731369018555, 44.41650390625, 44.78834533691406, 44.526588439941406, 44.83668518066406, 45.03976821899414, 44.67679977416992, 44.41521453857422, 44.37970733642578, 44.00025939941406, 44.245052337646484, 44.19683074951172, 44.3658447265625, 44.848655700683594, 44.97806930541992, 45.35320281982422, 45.256507873535156, 45.427188873291016, 45.48777770996094, 46.451080322265625, 46.9176139831543, 46.60118865966797, 46.265350341796875, 46.58510208129883, 46.74966049194336, 46.95348358154297, 47.18439483642578, 47.2840461730957, 47.68184280395508, 47.89036560058594, 48.2265510559082, 48.362159729003906, 47.969337463378906, 48.0872917175293, 47.97066116333008, 48.19369125366211, 48.0387077331543, 47.86547088623047, 48.09422302246094, 48.701812744140625, 42.90871047973633, 45.10969924926758, 41.32450485229492, 38.09429168701172, 40.469547271728516, 45.39847183227539, 49.44240188598633, 49.05937194824219, 52.387535095214844, 51.77949905395508, 50.06303787231445, 50.80073547363281, 49.3337516784668, 45.35409164428711, 42.37907028198242, 39.07699966430664, 38.70731735229492, 40.946556091308594, 45.77283477783203, 47.4078254699707, 44.127384185791016, 46.56065368652344, 47.95098114013672, 51.61305618286133, 52.69145584106445, 52.16377639770508, 52.84214782714844, 52.73584747314453, 51.51715087890625, 51.5606575012207, 51.83990478515625, 52.051231384277344, 52.00895309448242, 51.543373107910156, 51.37310028076172, 50.86405563354492, 50.099937438964844, 49.351348876953125, 49.569915771484375, 48.04600143432617, 48.311485290527344, 47.33204650878906, 47.50247573852539, 45.72783660888672, 44.8995475769043, 45.26951599121094, 45.32305908203125, 46.67537307739258, 44.98783874511719, 44.97374725341797, 45.79339599609375, 43.77721405029297, 43.118751525878906, 39.86799240112305, 43.3676643371582, 43.65962219238281, 45.250831604003906, 43.62992477416992, 44.092933654785156, 43.12474060058594, 39.39742660522461, 38.61550521850586, 41.11548614501953, 39.59650802612305, 34.58352279663086, 38.65824508666992, 39.347023010253906, 41.11613082885742, 43.42429733276367, 44.19071578979492, 40.07208251953125, 40.00067901611328, 43.26760482788086, 39.531558990478516, 42.50580978393555, 40.04808807373047, 34.21724319458008, 34.40869903564453, 40.268497467041016, 43.53041076660156, 47.989715576171875, 45.28585433959961, 45.21920394897461, 47.15962219238281, 46.35646438598633, 40.91197204589844, 45.06546401977539, 44.88689422607422, 40.47611618041992, 48.334083557128906, 45.690528869628906, 43.678619384765625, 44.5158805847168, 46.768592834472656, 47.35694885253906, 45.804779052734375, 44.219722747802734, 44.42009353637695, 43.77207565307617, 44.29084014892578, 44.28042221069336, 44.66889572143555, 44.683319091796875, 44.67169189453125, 44.7130241394043, 44.72765350341797, 45.026371002197266, 45.331058502197266, 45.52147674560547, 45.56782531738281, 45.18486785888672, 40.58176803588867]\n",
            "1939\n",
            "['0.3', '0.3', '0.3', '0.3', '0.3', '0.3', '0.3', '0.3', '0.3', '0.3', '0.3', '0.3', '0.3', '0.3', '0.3', '0.3', '0.3', '0.3', '0.3', '0.3', '0.3', '0.3', '0.3', '0.3', '0.3', '0.3', '0.3', '0.3', '0.3', '0.3', '0.3', '0.3', '0.3', '0.3', '0.3', '0.3', '0.3', '0.3', '0.3', '0.3', '0.3', '0.3', '0.3', '0.3', '0.3', '0.3', '0.3', '0.3', '0.3', '0.3', '0.3', '0.3', '0.3', '0.3', '0.3', '0.3', '0.3', '0.3', '0.3', '0.3', '0.3', '0.3', '0.3', '0.3', '0.3', '0.3', '0.3', '0.3', '0.3', '0.3', '0.3', '0.3', '0.3', '0.3', '0.3', '0.3', '0.3', '0.3', '0.3', '0.3', '0.3', '0.3', '0.3', '0.3', '0.3', '0.3', '0.3', '0.3', '0.3', '0.3', '0.3', '0.3', '0.3', '0.3', '0.3', '0.3', '0.3', '0.3', '0.3', '0.3', '0.3', '0.3', '0.3', '0.3', '0.3', '0.3', '0.3', '0.3', '0.3', '0.3', '0.3', '0.3', '0.3', '0.3', '0.3', '0.3', '0.3', '0.3', '0.3', '0.3', '0.3', '0.3', '0.3', '0.3', '0.3', '0.3', '0.3', '0.3', '0.3', '0.3', '0.3', '0.3', '0.3', '0.3', '0.3', '0.3', '0.3', '0.3', '0.3', '0.3', '0.3', '0.3', '0.3', '0.3', '0.3', '0.3', '0.3', '0.3', '0.3', '0.3', '0.3', '0.3', '0.3', '0.3', '0.3', '0.3', '0.3', '0.3', '0.3', '0.3', '0.3', '0.3', '0.3', '0.3', '0.3', '0.3', '0.3', '0.3', '0.3', '0.3', '0.3', '0.3', '0.3', '0.3', '0.3', '0.3', '0.3', '0.3', '0.3', '0.3', '0.3', '0.3', '0.3', '0.3', '0.3', '0.3', '0.3', '0.3', '0.3', '0.3', '0.3', '0.3', '0.3', '0.3', '0.3', '0.3', '0.3', '0.3', '0.3', '0.3', '0.3', '0.3', '0.3', '0.3', '0.3', '0.3', '0.3', '0.3', '0.3', '0.3', '0.3', '0.3', '0.3', '0.3', '0.3', '0.3', '0.3', '0.3', '0.3', '0.3', '0.3', '0.3', '0.3', '0.3', '0.3', '0.3', '0.3', '0.3', '0.3', '0.3', '0.3', '0.3', '0.3', '0.3', '0.3', '0.3', '0.3', '0.3', '0.3', '0.3', '0.3', '0.3', '0.3', '0.3', '0.3', '0.3', '0.3', '0.3', '0.3', '0.3', '0.3', '0.3', '0.3', '0.3', '0.3', '0.3', '0.3', '0.3', '0.3', '0.3', '0.3', '0.3', '0.3', '0.3', '0.3', '0.3', '0.3', '0.3', '0.3', '0.3', '0.3', '0.3', '0.3', '0.3', '0.3', '0.3', '0.3', '0.3', '0.3', '0.3', '0.3', '0.3', '0.3', '0.3', '0.3', '0.3', '0.3', '0.3', '0.3', '0.3', '0.3', '0.3', '0.3', '0.3', '0.3', '0.3', '0.3', '0.3', '0.3', '0.3', '0.3', '0.3', '0.3', '0.3', '0.3', '0.3', '0.3', '0.3', '0.3', '0.3', '0.3', '0.3', '0.3', '0.3', '0.3', '0.3', '0.3', '0.3', '0.3', '0.3', '0.3', '0.3', '0.3', '0.3', '0.3', '0.3', '0.3', '0.3', '0.3', '0.3', '0.3', '0.3', '0.3', '0.3', '0.3', '0.3', '0.3', '0.3', '0.3', '0.3', '0.3', '0.3', '0.3', '0.3', '0.3', '0.3', '0.3', '0.3', '0.3', '0.3', '0.3', '0.3', '0.3', '0.3', '0.3', '0.3', '0.3', '0.3', '0.3', '0.3', '0.3', '0.3', '0.3', '0.3', '0.3', '0.3', '0.3', '0.3', '0.3', '0.3', '0.3', '0.3', '0.3', '0.3', '0.3', '0.3', '0.3', '0.3', '0.3', '0.3', '0.3', '0.3', '0.3', '0.3', '0.3', '0.3', '0.3', '0.3', '0.3', '0.3', '0.3', '0.3', '0.3', '0.3', '0.3', '0.3', '0.3', '0.3', '0.3', '0.3', '0.3', '0.3', '0.3', '0.3', '0.3', '0.3', '0.3', '0.3', '0.3', '0.3', '0.3', '0.3', '0.3', '0.3', '0.3', '0.3', '0.3', '0.3', '0.3', '0.3', '0.3', '0.3', '0.3', '0.3', '0.3', '0.3', '0.3', '0.3', '0.3', '0.3', '0.3', '0.3', '0.3', '0.3', '0.3', '0.3', '0.3', '0.3', '0.3', '0.3', '0.3', '0.3', '0.3', '0.3', '0.3', '0.3', '0.3', '0.3', '0.3', '0.3', '0.3', '0.3', '0.3', '0.3', '0.3', '0.3', '0.3', '0.3', '0.3', '0.3', '0.3', '0.3', '0.3', '0.3', '0.3', '0.3', '0.3', '0.3', '0.3', '0.3', '0.3', '0.3', '0.3', '0.3', '0.3', '0.3', '0.3', '0.3', '0.3', '0.3', '0.3', '0.3', '0.3', '0.3', '0.3', '0.3', '0.3', '0.3', '0.3', '0.3', '0.3', '0.3', '0.3', '0.3', '0.3', '0.3', '0.4', '0.4', '0.4', '0.3', '0.3', '0.3', '0.3', '0.3', '0.3', '0.3', '0.3', '0.3', '0.3', '0.3', '0.3', '0.3', '0.3', '0.3', '0.3', '0.3', '0.3', '0.3', '0.3', '0.3', '0.3', '0.3', '0.3', '0.3', '0.3', '0.3', '0.3', '0.3', '0.3', '0.3', '0.3', '0.3', '0.3', '0.3', '0.3', '0.3', '0.3', '0.3', '0.3', '0.3', '0.3', '0.3', '0.3', '0.3', '0.3', '0.3', '0.3', '0.3', '0.3', '0.3', '0.3', '0.3', '0.3', '0.3', '0.3', '0.3', '0.3', '0.3', '0.3', '0.3', '0.3', '0.3', '0.3', '0.3', '0.3', '0.3', '0.3', '0.3', '0.3', '0.3', '0.3', '0.3', '0.3', '0.3', '0.3', '0.3', '0.3', '0.3', '0.3', '0.3', '0.3', '0.3', '0.3', '0.3', '0.3', '0.3', '0.3', '0.3', '0.3', '0.3', '0.3', '0.3', '0.3', '0.3', '0.3', '0.3', '0.3', '0.3', '0.3', '0.3', '0.3', '0.3', '0.3', '0.3', '0.3', '0.3', '0.3', '0.3', '0.3', '0.3', '0.3', '0.3', '0.3', '0.3', '0.3', '0.3', '0.3', '0.3', '0.3', '0.3', '0.3', '0.3', '0.3', '0.3', '0.3', '0.3', '0.4', '0.3', '0.3', '0.3', '0.3', '0.3', '78.79', '78.28', '78.28', '78.28', '78.28', '75.85', '75.85', '75.85', '71.57', '71.57', '71.57', '78.79', '68.84', '65.94', '65.94', '65.94', '63.56', '63.56', '63.56', '61.85', '61.85', '61.85', '61.85', '68.84', '59.51', '57.08', '57.08', '57.08', '56.84', '56.84', '56.84', '56.84', '56.15', '56.15', '56.15', '59.51', '54.92', '53.63', '53.63', '53.63', '54.11', '54.11', '54.11', '54.38', '54.38', '54.38', '54.38', '54.92', '0.3', '0.3', '0.3', '0.3', '0.3', '0.3', '0.3', '0.3', '0.3', '0.3', '0.3', '0.3', '0.3', '0.3', '0.3', '0.3', '0.3', '0.3', '0.3', '0.3', '0.3', '0.3', '0.3', '0.3', '0.3', '0.3', '0.3', '0.3', '0.3', '0.3', '0.3', '0.3', '0.3', '0.3', '0.3', '0.3', '0.3', '0.3', '0.3', '0.3', '0.3', '0.3', '0.3', '0.3', '0.3', '0.3', '0.3', '0.3', '0.3', '0.3', '0.3', '0.3', '0.3', '0.3', '0.3', '0.3', '0.3', '0.3', '0.3', '0.3', '0.3', '0.3', '0.3', '0.3', '0.3', '0.3', '0.3', '0.3', '0.3', '0.3', '0.3', '0.3', '0.3', '0.3', '0.3', '0.3', '0.3', '0.3', '0.3', '0.3', '0.3', '0.3', '0.3', '0.3', '0.3', '0.3', '0.3', '0.3', '0.3', '0.3', '0.3', '0.3', '0.3', '0.3', '0.3', '0.3', '0.3', '0.3', '0.3', '0.3', '0.3', '0.3', '0.3', '0.3', '0.3', '0.3', '0.3', '0.3', '0.3', '0.3', '0.3', '0.3', '0.3', '0.3', '0.3', '0.3', '0.3', '0.3', '0.3', '0.3', '0.3', '0.3', '0.3', '0.3', '0.3', '0.3', '0.3', '0.3', '0.3', '0.3', '0.3', '0.3', '0.3', '0.3', '0.3', '0.3', '0.3', '0.3', '0.3', '0.3', '0.3', '0.3', '0.3', '0.3', '0.3', '0.3', '0.3', '0.3', '0.3', '0.3', '0.3', '0.3', '0.3', '0.3', '0.3', '0.3', '0.3', '0.3', '0.3', '0.3', '0.3', '0.3', '0.3', '0.3', '0.3', '0.3', '0.3', '0.3', '0.3', '0.3', '0.3', '0.3', '0.3', '0.3', '0.3', '0.3', '0.3', '0.3', '0.3', '0.3', '0.3', '0.3', '0.3', '0.3', '0.3', '0.3', '0.3', '0.3', '0.3', '0.3', '0.3', '0.3', '0.3', '0.3', '0.3', '0.3', '0.3', '0.3', '0.3', '0.3', '0.3', '0.3', '0.3', '0.3', '0.3', '0.3', '0.3', '0.3', '0.3', '0.3', '0.3', '0.3', '0.3', '0.3', '0.3', '0.3', '0.3', '0.3', '0.3', '0.3', '0.3', '0.3', '0.3', '0.3', '0.3', '0.3', '0.3', '0.3', '0.3', '0.3', '0.3', '0.3', '0.3', '0.3', '0.3', '0.3', '0.3', '0.3', '0.3', '0.3', '0.3', '0.3', '0.3', '0.3', '0.3', '0.3', '0.3', '0.3', '0.3', '0.3', '0.3', '0.3', '0.3', '0.3', '0.3', '0.3', '0.3', '0.3', '0.3', '0.3', '0.3', '0.3', '0.3', '0.3', '0.3', '0.3', '0.3', '0.3', '0.3', '0.3', '0.3', '0.3', '0.3', '0.3', '0.3', '0.3', '0.3', '0.3', '0.3', '0.3', '0.3', '0.3', '0.3', '0.3', '0.3', '0.3', '0.3', '0.3', '0.3', '0.3', '0.3', '0.3', '0.3', '0.3', '0.3', '0.3', '0.3', '0.3', '0.3', '0.3', '0.3', '0.3', '0.3', '0.3', '0.3', '0.3', '0.3', '0.3', '0.3', '0.3', '0.3', '0.3', '0.3', '0.3', '0.3', '0.3', '0.3', '0.3', '0.3', '0.3', '0.3', '0.3', '0.3', '0.3', '0.3', '0.3', '0.3', '0.3', '0.3', '0.3', '0.3', '0.3', '0.3', '0.3', '0.3', '0.3', '0.3', '0.3', '0.3', '0.3', '0.3', '0.3', '0.3', '0.3', '0.3', '0.3', '0.3', '0.3', '0.3', '0.3', '0.3', '0.3', '0.3', '0.3', '0.3', '0.3', '0.3', '0.3', '0.3', '0.3', '0.3', '0.3', '0.3', '0.3', '0.3', '0.3', '0.3', '0.3', '0.3', '0.3', '0.3', '0.3', '0.3', '0.3', '0.3', '0.3', '0.3', '0.3', '0.3', '0.3', '0.3', '0.3', '0.3', '0.3', '0.3', '0.3', '0.4', '0.4', '0.4', '0.3', '0.3', '0.3', '0.3', '0.3', '0.3', '0.3', '0.3', '0.3', '0.3', '0.3', '42.2', '42.5', '42.5', '42.5', '41.6', '41.6', '41.6', '41.3', '38.82', '38.82', '38.82', '39.26', '39.26', '39.26', '39.13', '39.13', '39.13', '41.7', '41.09', '41.09', '41.23', '41.23', '41.23', '40.44', '40.44', '40.44', '41.5', '41.5', '41.5', '41.09', '42.29', '42.29', '43', '43', '43', '44', '44', '44', '44.47', '44.47', '44.47', '42.29', '42.29', '56.65', '56.65', '57.42', '57.42', '57.42', '57.61', '57.61', '57.61', '61.8', '61.8', '61.8', '56.65', '56.65', '73.83', '78.23', '78.23', '78.23', '77.99', '77.99', '77.51', '77.51', '77.51', '77.51', '73.83', '73.83', '76.55', '72.49', '72.49', '72.49', '66.28', '66.28', '59.93', '59.93', '59.93', '59.93', '76.55', '76.55', '55.68', '54.08', '54.08', '51.78', '51.78', '51.78', '49.44', '49.44', '49.44', '49.44', '55.68', '55.68', '48.31', '46.1', '46.1', '46.1', '44.98', '44.98', '44.04', '44.04', '44.04', '44.04', '48.31', '48.31', '45.37', '46.37', '46.37', '46.37', '47.22', '47.22', '48.03', '48.03', '48.03', '48.03', '45.37', '45.37', '45.82', '56.41', '56.41', '56.41', '61.19', '61.19', '64.49', '64.49', '64.49', '64.49', '45.82', '69.36', '69.36', '74.73', '74.73', '74.73', '76.78', '76.78', '77.84', '77.84', '77.84', '77.84', '69.36', '69.36', '81.34', '81.34', '81.34', '81.34', '79.82', '79.82', '78.02', '78.02', '78.02', '78.02', '80.56', '80.56', '77.55', '78.25', '78.25', '78.25', '80.04', '80.04', '81.7', '81.7', '81.7', '81.7', '77.55', '77.55', '82.48', '82.39', '82.39', '82.39', '82.1', '82.1', '82.1', '82.12', '82.12', '82.12', '82.48', '82.48', '81.8', '82.24', '82.24', '82.24', '82.14', '82.14', '82.07', '82.07', '82.07', '82.07', '81.8', '81.8', '81.66', '81.66', '81.66', '81.66', '81.28', '81.28', '81.08', '81.08', '81.08', '81.08', '81.86', '80.17', '80.22', '80.22', '80.22', '79.89', '79.89', '79.89', '79.09', '79.09', '79.09', '80.17', '80.17', '77.73', '77.69', '77.69', '77.69', '77.6', '77.6', '77.6', '77.51', '77.51', '77.51', '77.73', '77.73', '77.63', '76.5', '76.5', '76.5', '76.16', '76.16', '76.16', '74.74', '74.74', '74.74', '77.63', '77.63', '71.85', '69.95', '69.95', '69.95', '67.42', '67.42', '67.42', '62.72', '62.72', '62.72', '71.85', '61.63', '61.63', '62.71', '62.71', '62.71', '60.6', '60.6', '60.6', '61.09', '61.09', '61.09', '61.63', '61.63', '55.71', '52.57', '52.57', '52.57', '53.14', '53.14', '53.14', '54.98', '54.98', '54.98', '55.71', '51.85', '51.85', '51.94', '51.94', '51.94', '50.89', '50.89', '50.89', '51.35', '51.35', '51.85', '51.85', '51.85', '53.74', '52.44', '52.44', '52.44', '52.87', '52.87', '52.87', '54.42', '54.42', '53.74', '53.74', '62.68', '62.68', '62.87', '62.87', '62.23', '62.23', '62.23', '62.23', '58.61', '58.61', '62.68', '62.68', '58.32', '58.32', '60.55', '60.55', '62.19', '62.19', '62.19', '62.19', '61.56', '61.56', '61.56', '58.32', '62.35', '62.35', '61.04', '61.04', '61.04', '59.31', '59.31', '59.31', '58.38', '58.38', '58.38', '62.35', '62.35', '56.39', '56.98', '56.98', '56.98', '57.57', '57.57', '57.57', '58.44', '58.44', '58.44', '56.39', '58.92', '58.92', '59.71', '59.71', '59.71', '60.08', '60.08', '60.08', '59.54', '59.54', '59.54', '58.92', '78.79', '78.79', '78.28', '78.28', '78.28', '75.85', '75.85', '75.85', '71.57', '71.57', '71.57', '78.79', '68.84', '68.84', '65.94', '65.94', '65.94', '63.56', '63.56', '63.56', '61.85', '53.63', '46', '46', '46', '46', '46', '46', '46', '0.3', '0.3', '0.3', '0.3', '0.3', '0.3', '0.3', '0.3', '0.3', '0.3', '0.3', '0.3', '0.3', '0.3', '0.3', '0.3', '0.3', '0.3', '0.3', '0.3', '0.3', '0.3', '0.3', '0.3', '0.3', '0.3', '0.3', '0.3', '0.3', '0.3', '0.3', '0.3', '0.3', '0.3', '0.3', '0.3', '0.3', '0.3', '0.3', '0.3', '0.3', '0.3', '0.3', '0.3', '0.3', '45.2', '45.2', '45.2', '45.2', '45.2', '45.2', '45.2', '45.2', '45.2', '45.2', '45.2', '45.2', '45.2', '45.2', '45.2', '0.3', '0.3', '0.3', '0.3', '0.3', '0.3', '0.4', '0.4', '0.4', '0.4', '0.4', '0.4', '0.4', '0.4', '42.8', '42.8', '42.8', '42.8', '42.8', '42.8', '42.8', '42.8', '42.8', '42.8', '42.8', '42.8', '42.8', '42.8', '42.8', '42.7', '42.7', '42.7', '42.7', '42.7', '42.7', '42.7', '42.7', '42.7', '42.7', '42.7', '42.7', '42.7', '42.7', '42.5', '42.5', '42.5', '42.5', '42.5', '42.5', '42.5', '42.5', '42.5', '42.5', '42.5', '42.5', '42.5', '42.5', '42.5', '0.4', '0.4', '0.4', '0.4', '0.4', '0.4', '0.4', '42.2', '42.2', '42.2', '42.2', '42.2', '42.2', '42.2', '42.5', '42.5', '42.5', '42.5', '42.5', '42.5', '42.5', '42.5', '42.5', '42.5', '42.5', '42.5', '42.5', '42.5', '42.5', '41.6', '41.6', '41.6', '41.6', '41.6', '41.6', '41.6', '41.6', '41.6', '41.6', '41.6', '41.6', '41.6', '41.6', '41.6', '41.3', '41.3', '41.3', '41.3', '41.3', '41.3', '41.3', '41.3', '41.3', '41.3', '41.3', '41.3', '41.3', '41.3', '41.3', '42.2', '42.2', '42.2', '42.2', '42.2', '42.2', '42.2', '41.7', '41.7', '41.7', '41.7', '41.7', '41.7', '41.7', '41.7', '38.82', '38.82', '38.82', '38.82', '38.82', '38.82', '38.82', '38.82', '38.82', '38.82', '38.82', '38.82', '38.82', '38.82', '39.26', '39.26', '39.26', '39.26', '39.26', '39.26', '39.26', '39.26', '39.26', '39.26', '39.26', '39.26', '39.26', '39.26', '39.26', '39.26', '39.13', '39.13', '39.13', '39.13', '39.13', '39.13', '39.13', '39.13', '39.13', '39.13', '39.13', '39.13', '39.13', '39.13', '41.7', '41.7', '41.7', '41.7', '41.7', '41.7', '41.7', '41.09', '41.09', '41.09', '41.09', '41.09', '41.09', '41.09', '41.09', '41.09', '41.23', '41.23', '41.23', '41.23', '41.23', '41.23', '41.23', '41.23', '41.23', '41.23', '41.23', '41.23', '41.23', '41.23', '40.44', '40.44', '40.44', '40.44', '40.44', '40.44', '40.44', '40.44', '40.44', '40.44', '40.44', '40.44', '40.44', '40.44', '40.44', '41.5', '41.5', '41.5', '41.5', '41.5', '41.5', '41.5', '41.5', '41.5', '41.5', '41.5', '41.5', '41.5', '41.5', '41.5', '41.5', '41.09', '41.09', '41.09', '41.09', '41.09', '41.09', '41.09', '42.29', '42.29', '42.29', '42.29', '42.29', '42.29', '42.29', '42.29', '43', '43', '43', '43', '43', '43', '43', '43', '43', '43', '43', '43', '43', '43', '43', '44', '44', '44', '44', '44', '44', '44', '44', '44', '44', '44', '44', '44', '44', '44', '44.47', '44.47', '44.47', '44.47', '44.47', '44.47', '44.47', '44.47', '44.47', '44.47', '44.47', '44.47', '44.47', '44.47', '42.29', '42.29', '42.29', '42.29', '42.29', '42.29', '42.29', '42.29', '56.65', '57.42', '57.42', '57.42', '57.61', '57.61', '57.61', '61.8', '61.8', '61.8', '56.65', '56.65', '73.83', '78.23', '78.23', '78.23', '77.99', '77.99', '77.99', '77.51', '77.51', '77.51', '73.83', '73.83', '76.55', '72.49', '72.49', '72.49', '66.28', '66.28', '66.28', '59.93', '59.93', '59.93', '76.55', '76.55', '55.68', '54.08', '54.08', '54.08', '51.78', '51.78', '51.78', '49.44', '49.44', '49.44', '55.68', '55.68', '48.31', '46.1', '46.1', '46.1', '44.98', '44.98', '44.98', '44.04', '44.04', '44.04', '48.31', '48.31', '45.37', '46.37', '46.37', '46.37', '47.22', '47.22', '47.22', '48.03', '48.03', '48.03', '45.37', '45.37', '45.82', '56.41', '56.41', '56.41', '61.19', '61.19', '61.19', '64.49', '64.49', '45.82', '45.82', '69.36', '74.73', '74.73', '74.73', '76.78', '76.78', '76.78', '77.84', '77.84', '77.84', '69.36', '69.36', '80.56', '81.34', '81.34', '81.34', '79.82', '79.82', '79.82', '79.82', '79.82', '79.82', '79.82', '79.82', '79.82', '79.82', '79.82', '79.82', '82.39']\n",
            "1939\n",
            "[47.0, 47.0, 47.0, 47.0, 47.0, 47.0, 47.0, 47.0, 47.0, 47.0, 47.0, 47.0, 47.0, 47.0, 47.0, 47.0, 45.0, 45.0, 45.0, 45.0, 45.0, 45.0, 45.0, 45.0, 45.0, 47.0, 45.0, 45.0, 36.0, 36.0, 36.0, 36.0, 36.0, 36.0, 36.0, 36.0, 36.0, 45.0, 45.0, 117.0, 117.0, 180.0, 180.0, 180.0, 180.0, 180.0, 180.0, 180.0, 180.0, 180.0, 117.0, 180.0, 180.0, 190.0, 190.0, 190.0, 190.0, 190.0, 190.0, 190.0, 190.0, 190.0, 180.0, 180.0, 190.0, 92.0, 92.0, 92.0, 92.0, 92.0, 92.0, 92.0, 92.0, 92.0, 190.0, 190.0, 92.0, 45.0, 45.0, 45.0, 45.0, 45.0, 45.0, 45.0, 45.0, 45.0, 92.0, 92.0, 45.0, 30.0, 30.0, 30.0, 30.0, 30.0, 30.0, 30.0, 30.0, 30.0, 45.0, 45.0, 30.0, 23.0, 23.0, 23.0, 23.0, 23.0, 23.0, 23.0, 23.0, 23.0, 30.0, 30.0, 23.0, 24.0, 24.0, 24.0, 24.0, 24.0, 24.0, 24.0, 24.0, 24.0, 23.0, 24.0, 24.0, 27.0, 27.0, 27.0, 27.0, 27.0, 27.0, 27.0, 27.0, 27.0, 24.0, 27.0, 27.0, 27.0, 27.0, 27.0, 27.0, 27.0, 27.0, 27.0, 27.0, 27.0, 27.0, 27.0, 27.0, 29.0, 29.0, 29.0, 29.0, 29.0, 29.0, 29.0, 29.0, 29.0, 27.0, 29.0, 29.0, 40.0, 40.0, 40.0, 40.0, 40.0, 40.0, 40.0, 40.0, 40.0, 29.0, 40.0, 40.0, 44.0, 44.0, 44.0, 44.0, 44.0, 44.0, 44.0, 44.0, 44.0, 40.0, 40.0, 44.0, 35.0, 35.0, 35.0, 35.0, 35.0, 35.0, 35.0, 35.0, 35.0, 44.0, 44.0, 121.0, 103.0, 103.0, 103.0, 103.0, 103.0, 103.0, 103.0, 103.0, 103.0, 121.0, 121.0, 103.0, 94.0, 94.0, 94.0, 94.0, 94.0, 94.0, 94.0, 94.0, 94.0, 103.0, 103.0, 94.0, 66.0, 66.0, 66.0, 66.0, 66.0, 66.0, 66.0, 66.0, 66.0, 94.0, 94.0, 66.0, 51.0, 51.0, 51.0, 51.0, 51.0, 51.0, 51.0, 51.0, 51.0, 66.0, 66.0, 51.0, 39.0, 39.0, 39.0, 39.0, 39.0, 39.0, 39.0, 39.0, 39.0, 51.0, 51.0, 39.0, 39.0, 39.0, 39.0, 39.0, 39.0, 39.0, 39.0, 39.0, 39.0, 39.0, 39.0, 39.0, 44.0, 44.0, 44.0, 44.0, 44.0, 44.0, 44.0, 44.0, 44.0, 39.0, 39.0, 44.0, 44.0, 44.0, 44.0, 44.0, 44.0, 44.0, 44.0, 44.0, 44.0, 44.0, 44.0, 44.0, 46.0, 46.0, 46.0, 46.0, 46.0, 46.0, 46.0, 46.0, 46.0, 44.0, 46.0, 46.0, 55.0, 55.0, 55.0, 55.0, 55.0, 55.0, 46.0, 146.0, 146.0, 146.0, 146.0, 146.0, 146.0, 146.0, 146.0, 146.0, 45.0, 45.0, 45.0, 45.0, 45.0, 45.0, 45.0, 45.0, 31.0, 31.0, 31.0, 31.0, 31.0, 31.0, 31.0, 31.0, 31.0, 44.0, 44.0, 44.0, 44.0, 44.0, 44.0, 44.0, 44.0, 44.0, 40.0, 40.0, 40.0, 40.0, 40.0, 40.0, 40.0, 40.0, 40.0, 44.0, 44.0, 44.0, 44.0, 44.0, 44.0, 44.0, 44.0, 44.0, 44.0, 41.0, 41.0, 41.0, 41.0, 41.0, 41.0, 41.0, 41.0, 41.0, 48.0, 48.0, 48.0, 48.0, 48.0, 48.0, 48.0, 48.0, 48.0, 46.0, 46.0, 46.0, 46.0, 46.0, 46.0, 46.0, 46.0, 46.0, 56.0, 56.0, 56.0, 56.0, 56.0, 56.0, 56.0, 56.0, 27.0, 27.0, 27.0, 27.0, 27.0, 27.0, 27.0, 27.0, 27.0, 27.0, 46.0, 46.0, 48.0, 48.0, 48.0, 48.0, 48.0, 48.0, 48.0, 48.0, 48.0, 48.0, 41.0, 41.0, 41.0, 41.0, 41.0, 41.0, 41.0, 41.0, 41.0, 56.0, 56.0, 56.0, 56.0, 56.0, 56.0, 56.0, 56.0, 56.0, 46.0, 46.0, 46.0, 46.0, 46.0, 46.0, 46.0, 46.0, 38.0, 38.0, 38.0, 38.0, 38.0, 38.0, 38.0, 38.0, 38.0, 38.0, 56.0, 56.0, 56.0, 56.0, 56.0, 56.0, 56.0, 56.0, 56.0, 44.0, 44.0, 44.0, 44.0, 44.0, 44.0, 44.0, 44.0, 50.0, 50.0, 50.0, 50.0, 50.0, 50.0, 50.0, 50.0, 50.0, 50.0, 53.0, 53.0, 53.0, 53.0, 53.0, 53.0, 53.0, 53.0, 53.0, 66.0, 66.0, 66.0, 66.0, 66.0, 66.0, 66.0, 66.0, 63.0, 63.0, 63.0, 63.0, 63.0, 63.0, 55.0, 55.0, 55.0, 55.0, 55.0, 55.0, 55.0, 55.0, 55.0, 48.0, 48.0, 48.0, 48.0, 48.0, 48.0, 48.0, 48.0, 48.0, 78.0, 78.0, 78.0, 78.0, 78.0, 78.0, 78.0, 78.0, 78.0, 46.0, 46.0, 46.0, 46.0, 46.0, 46.0, 46.0, 46.0, 46.0, 50.0, 50.0, 50.0, 50.0, 50.0, 50.0, 50.0, 50.0, 57.0, 57.0, 57.0, 57.0, 57.0, 57.0, 57.0, 57.0, 57.0, 57.0, 75.0, 75.0, 75.0, 75.0, 75.0, 75.0, 75.0, 75.0, 89.0, 89.0, 89.0, 89.0, 89.0, 89.0, 89.0, 89.0, 89.0, 75.0, 75.0, 75.0, 75.0, 75.0, 75.0, 75.0, 75.0, 75.0, 74.0, 74.0, 74.0, 74.0, 74.0, 74.0, 74.0, 74.0, 74.0, 74.0, 74.0, 74.0, 74.0, 74.0, 74.0, 74.0, 74.0, 74.0, 73.0, 73.0, 73.0, 73.0, 73.0, 73.0, 73.0, 73.0, 73.0, 74.0, 74.0, 74.0, 74.0, 74.0, 74.0, 74.0, 74.0, 74.0, 74.0, 45.0, 45.0, 45.0, 45.0, 45.0, 45.0, 51.61, 65.12, 65.12, 65.12, 65.12, 66.88, 66.88, 66.88, 66.88, 66.88, 66.88, 51.61, 66.88, 46.68, 46.68, 46.68, 44.02, 44.02, 44.02, 44.02, 44.02, 44.02, 44.02, 66.88, 44.02, 37.53, 37.53, 37.53, 36.69, 36.69, 36.69, 36.69, 36.69, 36.69, 36.69, 44.02, 36.69, 43.74, 43.74, 43.74, 44.67, 44.67, 44.67, 44.67, 44.67, 44.67, 44.67, 36.69, 47.0, 47.0, 45.0, 45.0, 45.0, 36.0, 36.0, 36.0, 36.0, 36.0, 36.0, 36.0, 36.0, 36.0, 45.0, 117.0, 117.0, 180.0, 180.0, 180.0, 180.0, 180.0, 180.0, 180.0, 180.0, 180.0, 117.0, 180.0, 180.0, 190.0, 190.0, 190.0, 190.0, 190.0, 190.0, 190.0, 190.0, 190.0, 180.0, 190.0, 190.0, 92.0, 92.0, 92.0, 92.0, 92.0, 92.0, 92.0, 92.0, 92.0, 190.0, 92.0, 92.0, 45.0, 45.0, 45.0, 45.0, 45.0, 45.0, 45.0, 45.0, 45.0, 92.0, 92.0, 45.0, 30.0, 30.0, 30.0, 30.0, 30.0, 30.0, 30.0, 30.0, 30.0, 45.0, 30.0, 30.0, 23.0, 23.0, 23.0, 23.0, 23.0, 23.0, 23.0, 23.0, 23.0, 30.0, 23.0, 23.0, 24.0, 24.0, 24.0, 24.0, 24.0, 24.0, 24.0, 24.0, 24.0, 23.0, 24.0, 24.0, 27.0, 27.0, 27.0, 27.0, 27.0, 27.0, 27.0, 27.0, 27.0, 24.0, 24.0, 27.0, 27.0, 27.0, 27.0, 27.0, 27.0, 27.0, 27.0, 27.0, 27.0, 27.0, 27.0, 27.0, 29.0, 29.0, 29.0, 29.0, 29.0, 29.0, 29.0, 29.0, 29.0, 27.0, 29.0, 29.0, 40.0, 40.0, 40.0, 40.0, 40.0, 40.0, 40.0, 40.0, 40.0, 29.0, 40.0, 40.0, 44.0, 44.0, 44.0, 44.0, 44.0, 44.0, 44.0, 44.0, 44.0, 40.0, 44.0, 44.0, 35.0, 35.0, 35.0, 35.0, 35.0, 35.0, 35.0, 35.0, 35.0, 44.0, 121.0, 121.0, 103.0, 103.0, 103.0, 103.0, 103.0, 103.0, 103.0, 103.0, 103.0, 121.0, 103.0, 103.0, 94.0, 94.0, 94.0, 94.0, 94.0, 94.0, 94.0, 94.0, 94.0, 103.0, 94.0, 94.0, 66.0, 66.0, 66.0, 66.0, 66.0, 66.0, 66.0, 66.0, 66.0, 94.0, 66.0, 66.0, 51.0, 51.0, 51.0, 51.0, 51.0, 51.0, 51.0, 51.0, 51.0, 66.0, 66.0, 51.0, 39.0, 39.0, 39.0, 39.0, 39.0, 39.0, 39.0, 39.0, 39.0, 51.0, 51.0, 39.0, 39.0, 39.0, 39.0, 39.0, 39.0, 39.0, 39.0, 39.0, 39.0, 39.0, 39.0, 39.0, 44.0, 44.0, 44.0, 44.0, 44.0, 44.0, 44.0, 44.0, 44.0, 39.0, 39.0, 44.0, 44.0, 44.0, 44.0, 44.0, 44.0, 44.0, 44.0, 44.0, 44.0, 44.0, 44.0, 44.0, 46.0, 46.0, 46.0, 46.0, 46.0, 46.0, 46.0, 46.0, 46.0, 44.0, 46.0, 46.0, 55.0, 55.0, 55.0, 55.0, 55.0, 55.0, 46.0, 146.0, 146.0, 146.0, 146.0, 146.0, 146.0, 146.0, 146.0, 146.0, 45.0, 45.0, 45.0, 45.0, 45.0, 45.0, 48.0, 48.0, 48.0, 48.0, 48.0, 48.0, 48.0, 48.0, 48.0, 41.0, 41.0, 41.0, 41.0, 41.0, 41.0, 41.0, 41.0, 41.0, 56.0, 56.0, 56.0, 56.0, 56.0, 56.0, 56.0, 56.0, 56.0, 46.0, 46.0, 46.0, 46.0, 46.0, 46.0, 46.0, 46.0, 46.0, 38.0, 38.0, 38.0, 38.0, 38.0, 38.0, 38.0, 38.0, 38.0, 56.0, 56.0, 56.0, 56.0, 56.0, 56.0, 56.0, 56.0, 56.0, 44.0, 44.0, 44.0, 44.0, 44.0, 44.0, 44.0, 44.0, 44.0, 50.0, 50.0, 50.0, 50.0, 50.0, 50.0, 50.0, 50.0, 50.0, 53.0, 53.0, 53.0, 53.0, 53.0, 53.0, 53.0, 53.0, 53.0, 66.0, 66.0, 66.0, 66.0, 66.0, 66.0, 66.0, 66.0, 66.0, 63.0, 63.0, 63.0, 63.0, 63.0, 63.0, 48.0, 24.0, 24.0, 24.0, 24.0, 24.0, 24.0, 24.0, 24.0, 28.14, 28.14, 28.14, 29.15, 29.15, 29.15, 29.15, 29.15, 29.15, 12.0, 29.15, 29.15, 33.56, 33.56, 33.56, 34.16, 34.16, 34.16, 34.16, 34.16, 34.16, 29.15, 34.16, 34.16, 32.97, 32.97, 32.97, 32.81, 32.81, 32.81, 32.81, 32.81, 32.81, 34.16, 34.16, 33.12, 33.12, 31.85, 31.85, 31.85, 31.68, 31.68, 31.68, 31.68, 31.68, 31.68, 33.12, 33.12, 31.68, 41.92, 41.92, 41.92, 43.27, 43.27, 43.27, 43.27, 43.27, 43.27, 31.68, 31.68, 43.27, 42.42, 42.42, 42.42, 42.31, 42.31, 42.31, 42.31, 42.31, 42.31, 43.27, 43.27, 42.31, 41.71, 41.71, 41.63, 41.63, 41.63, 41.63, 41.63, 41.63, 41.63, 42.31, 42.31, 41.63, 30.12, 30.12, 30.12, 28.6, 28.6, 28.6, 28.6, 28.6, 28.6, 41.63, 41.63, 28.6, 30.8, 30.8, 30.8, 31.09, 31.09, 31.09, 31.09, 31.09, 31.09, 28.6, 28.6, 31.09, 35.23, 35.23, 35.23, 35.77, 35.77, 35.77, 35.77, 35.77, 35.77, 31.09, 35.77, 35.77, 39.85, 39.85, 39.85, 40.39, 40.39, 40.39, 40.39, 40.39, 40.39, 35.77, 35.77, 26.14, 26.14, 26.14, 26.14, 24.27, 24.27, 24.27, 24.27, 24.27, 24.27, 40.39, 40.39, 24.27, 24.18, 24.18, 24.18, 24.17, 24.17, 24.17, 24.17, 24.17, 24.17, 24.27, 24.27, 24.17, 26.78, 26.78, 26.78, 27.12, 27.12, 27.12, 27.12, 27.12, 27.12, 24.17, 24.17, 27.12, 28.77, 28.77, 28.77, 28.99, 28.99, 28.99, 28.99, 28.99, 28.99, 27.12, 27.12, 34.04, 34.04, 34.04, 34.04, 34.7, 34.7, 34.7, 34.7, 34.7, 34.7, 28.99, 56.77, 62.52, 62.52, 62.52, 63.28, 63.28, 63.28, 63.28, 63.28, 63.28, 56.77, 56.77, 63.28, 66.78, 66.78, 66.78, 67.24, 67.24, 67.24, 67.24, 67.24, 67.24, 63.28, 63.28, 67.24, 79.49, 79.49, 79.49, 81.1, 81.1, 81.1, 81.1, 81.1, 81.1, 67.24, 67.24, 81.1, 81.19, 81.19, 81.19, 81.2, 81.2, 81.2, 81.2, 81.2, 81.2, 81.1, 81.2, 81.2, 85.16, 85.16, 85.16, 85.7, 85.7, 85.7, 85.7, 85.7, 85.7, 81.2, 81.2, 85.7, 57.39, 57.39, 57.39, 53.67, 53.67, 53.67, 53.67, 53.67, 53.67, 85.7, 53.67, 53.67, 37.74, 37.74, 37.74, 35.67, 35.67, 35.67, 35.67, 35.67, 53.67, 53.67, 53.67, 35.67, 33.77, 33.77, 33.77, 33.52, 33.52, 33.52, 33.52, 33.52, 35.67, 35.67, 33.52, 33.52, 46.84, 46.84, 48.59, 48.59, 48.59, 48.59, 48.59, 48.59, 33.52, 33.52, 48.59, 48.59, 43.01, 43.01, 42.29, 42.29, 42.29, 42.29, 42.29, 42.29, 42.29, 48.59, 42.29, 42.29, 53.16, 53.16, 53.16, 54.78, 54.78, 54.78, 54.78, 54.78, 54.78, 42.29, 42.29, 54.78, 37.26, 37.26, 37.26, 34.95, 34.95, 34.95, 34.95, 34.95, 34.95, 54.78, 34.95, 34.95, 34.71, 34.71, 34.71, 34.68, 34.68, 34.68, 34.68, 34.68, 34.68, 34.95, 51.61, 51.61, 65.12, 65.12, 65.12, 66.88, 66.88, 66.88, 66.88, 66.88, 66.88, 51.61, 66.88, 66.88, 46.68, 46.68, 46.68, 44.02, 44.02, 44.02, 44.02, 43.74, 34.0, 34.0, 34.0, 34.0, 34.0, 34.0, 34.0, 45.0, 45.0, 45.0, 45.0, 45.0, 45.0, 45.0, 31.0, 31.0, 31.0, 31.0, 31.0, 31.0, 31.0, 31.0, 31.0, 31.0, 31.0, 31.0, 31.0, 31.0, 31.0, 31.0, 31.0, 31.0, 31.0, 31.0, 31.0, 31.0, 31.0, 31.0, 31.0, 31.0, 31.0, 31.0, 31.0, 31.0, 31.0, 31.0, 31.0, 31.0, 31.0, 31.0, 31.0, 31.0, 35.0, 35.0, 35.0, 35.0, 35.0, 35.0, 35.0, 35.0, 35.0, 35.0, 35.0, 35.0, 35.0, 35.0, 35.0, 31.0, 31.0, 31.0, 31.0, 31.0, 31.0, 30.0, 30.0, 30.0, 30.0, 30.0, 30.0, 30.0, 30.0, 24.0, 24.0, 24.0, 24.0, 24.0, 24.0, 24.0, 24.0, 24.0, 24.0, 24.0, 24.0, 24.0, 24.0, 24.0, 24.0, 24.0, 24.0, 24.0, 24.0, 24.0, 24.0, 24.0, 24.0, 24.0, 24.0, 24.0, 24.0, 24.0, 24.0, 24.0, 24.0, 24.0, 24.0, 24.0, 24.0, 24.0, 24.0, 24.0, 24.0, 24.0, 24.0, 24.0, 24.0, 30.0, 30.0, 30.0, 30.0, 30.0, 30.0, 30.0, 24.0, 24.0, 24.0, 24.0, 24.0, 24.0, 24.0, 24.0, 24.0, 24.0, 24.0, 24.0, 24.0, 24.0, 24.0, 24.0, 24.0, 24.0, 24.0, 24.0, 24.0, 24.0, 24.0, 24.0, 24.0, 24.0, 24.0, 24.0, 24.0, 24.0, 24.0, 24.0, 24.0, 24.0, 24.0, 24.0, 24.0, 24.0, 24.0, 24.0, 24.0, 24.0, 24.0, 24.0, 24.0, 24.0, 24.0, 24.0, 24.0, 24.0, 24.0, 24.0, 24.0, 24.0, 24.0, 24.0, 24.0, 24.0, 24.0, 12.0, 12.0, 12.0, 12.0, 12.0, 12.0, 12.0, 12.0, 28.14, 28.14, 28.14, 28.14, 28.14, 28.14, 28.14, 28.14, 28.14, 28.14, 28.14, 28.14, 28.14, 28.14, 29.15, 29.15, 29.15, 29.15, 29.15, 29.15, 29.15, 29.15, 29.15, 29.15, 29.15, 29.15, 29.15, 29.15, 29.15, 29.15, 29.15, 29.15, 29.15, 29.15, 29.15, 29.15, 29.15, 29.15, 29.15, 29.15, 29.15, 29.15, 29.15, 29.15, 12.0, 12.0, 12.0, 12.0, 12.0, 12.0, 12.0, 29.15, 29.15, 29.15, 29.15, 29.15, 29.15, 29.15, 29.15, 29.15, 33.56, 33.56, 33.56, 33.56, 33.56, 33.56, 33.56, 33.56, 33.56, 33.56, 33.56, 33.56, 33.56, 33.56, 34.16, 34.16, 34.16, 34.16, 34.16, 34.16, 34.16, 34.16, 34.16, 34.16, 34.16, 34.16, 34.16, 34.16, 34.16, 34.16, 34.16, 34.16, 34.16, 34.16, 34.16, 34.16, 34.16, 34.16, 34.16, 34.16, 34.16, 34.16, 34.16, 34.16, 34.16, 29.15, 29.15, 29.15, 29.15, 29.15, 29.15, 29.15, 34.16, 34.16, 34.16, 34.16, 34.16, 34.16, 34.16, 34.16, 32.97, 32.97, 32.97, 32.97, 32.97, 32.97, 32.97, 32.97, 32.97, 32.97, 32.97, 32.97, 32.97, 32.97, 32.97, 32.81, 32.81, 32.81, 32.81, 32.81, 32.81, 32.81, 32.81, 32.81, 32.81, 32.81, 32.81, 32.81, 32.81, 32.81, 32.81, 32.81, 32.81, 32.81, 32.81, 32.81, 32.81, 32.81, 32.81, 32.81, 32.81, 32.81, 32.81, 32.81, 34.16, 34.16, 34.16, 34.16, 34.16, 34.16, 34.16, 34.16, 33.12, 31.85, 31.85, 31.85, 31.68, 31.68, 31.68, 31.68, 31.68, 31.68, 33.12, 33.12, 31.68, 41.92, 41.92, 41.92, 43.27, 43.27, 43.27, 43.27, 43.27, 43.27, 31.68, 31.68, 43.27, 42.42, 42.42, 42.42, 42.31, 42.31, 42.31, 42.31, 42.31, 42.31, 43.27, 43.27, 42.31, 41.71, 41.71, 41.71, 41.63, 41.63, 41.63, 41.63, 41.63, 41.63, 42.31, 42.31, 41.63, 30.12, 30.12, 30.12, 28.6, 28.6, 28.6, 28.6, 28.6, 28.6, 41.63, 41.63, 28.6, 30.8, 30.8, 30.8, 31.09, 31.09, 31.09, 31.09, 31.09, 31.09, 28.6, 28.6, 31.09, 35.23, 35.23, 35.23, 35.77, 35.77, 35.77, 35.77, 35.77, 31.09, 31.09, 35.77, 39.85, 39.85, 39.85, 40.39, 40.39, 40.39, 40.39, 40.39, 40.39, 35.77, 35.77, 40.39, 26.14, 26.14, 26.14, 24.27, 24.27, 24.27, 24.27, 24.27, 24.27, 24.27, 24.27, 24.27, 24.27, 24.27, 24.27, 26.78]\n"
          ],
          "name": "stdout"
        }
      ]
    },
    {
      "cell_type": "code",
      "metadata": {
        "id": "vVSmp86hCqEG",
        "colab_type": "code",
        "colab": {
          "base_uri": "https://localhost:8080/",
          "height": 69
        },
        "outputId": "a8e15c48-eeb0-4b9d-a6f0-bc1dab9a364a"
      },
      "source": [
        "final_shape=len(hours)\n",
        "\n",
        "hours = np.reshape(hours,(final_shape,1))\n",
        "# trans = np.reshape(trans,(final_shape,1))\n",
        "cont = np.reshape(cont,(final_shape,1))\n",
        "ent = np.reshape(ent,(final_shape,1))\n",
        "pm = np.reshape(pm,(final_shape,1))\n",
        "rh = np.reshape(rh,(final_shape,1))\n",
        "features = np.hstack((hours, cont, ent, rh, trans))\n",
        "\n",
        "print(features[0])\n",
        "\n",
        "\n",
        "scaler = MinMaxScaler()\n",
        "\n",
        "hours = scaler.fit_transform(hours)\n",
        "trans = scaler.fit_transform(trans)\n",
        "cont = scaler.fit_transform(cont)\n",
        "ent = scaler.fit_transform(ent)\n",
        "rh = scaler.fit_transform(rh)\n",
        "\n",
        "\n",
        "\n",
        "features = np.hstack((hours, cont, ent,rh, trans))\n",
        "\n",
        "print(features[0])"
      ],
      "execution_count": 121,
      "outputs": [
        {
          "output_type": "stream",
          "text": [
            "['15.0' '56.17309332041681' '45.37183380126953' ... '0.9294117647058824'\n",
            " '0.9294117647058824' '0.9176470588235294']\n",
            "[0.75       0.6167729  0.81927261 ... 0.92498022 0.9243013  0.91168485]\n"
          ],
          "name": "stdout"
        }
      ]
    },
    {
      "cell_type": "code",
      "metadata": {
        "id": "w0mFRI6uDA1C",
        "colab_type": "code",
        "colab": {
          "base_uri": "https://localhost:8080/",
          "height": 304
        },
        "outputId": "6da21cf7-2fd6-45c6-f3f3-48c5b84b9f53"
      },
      "source": [
        "reg = LinearRegression(normalize =False)\n",
        "cross = cross_val_score(reg, features, pm, scoring ='neg_mean_squared_error',cv=3)\n",
        "x_train, x_test, y_train, y_test = train_test_split(features, pm, test_size =0.2, random_state =42)\n",
        "\n",
        "reg.fit(x_train, y_train)\n",
        "\n",
        "pred = reg.predict(x_test)\n",
        "\n",
        "plt.plot(pred)\n",
        "plt.plot(y_test)\n",
        "\n",
        "print(mean_squared_error(pred, y_test)**0.5)\n",
        "print(mean_absolute_error(pred, y_test))\n",
        "\n"
      ],
      "execution_count": 126,
      "outputs": [
        {
          "output_type": "stream",
          "text": [
            "17.502437639467338\n",
            "10.489469842697938\n"
          ],
          "name": "stdout"
        },
        {
          "output_type": "display_data",
          "data": {
            "image/png": "iVBORw0KGgoAAAANSUhEUgAAAYMAAAD8CAYAAACVZ8iyAAAABHNCSVQICAgIfAhkiAAAAAlwSFlz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\nhkAj0V/pHwAAAABJRU5ErkJggg==\n",
            "text/plain": [
              "<Figure size 432x288 with 1 Axes>"
            ]
          },
          "metadata": {
            "tags": []
          }
        }
      ]
    },
    {
      "cell_type": "code",
      "metadata": {
        "id": "ZzHyaFfiC98z",
        "colab_type": "code",
        "colab": {
          "base_uri": "https://localhost:8080/",
          "height": 35
        },
        "outputId": "1ff7e1b2-0270-41f3-9452-13492b200435"
      },
      "source": [
        "print(((-1)*cross)**0.5)"
      ],
      "execution_count": 127,
      "outputs": [
        {
          "output_type": "stream",
          "text": [
            "[105.05873055  48.69930969  55.34920108]\n"
          ],
          "name": "stdout"
        }
      ]
    },
    {
      "cell_type": "code",
      "metadata": {
        "id": "6oELo3eXEAgk",
        "colab_type": "code",
        "colab": {}
      },
      "source": [
        "shape = np.shape(pred)\n",
        "\n",
        "pred = np.reshape(pred, shape)\n",
        "y_test = np.reshape(y_test, shape)\n",
        "result = np.hstack((pred, y_test))\n",
        "print(result)\n"
      ],
      "execution_count": 0,
      "outputs": []
    },
    {
      "cell_type": "code",
      "metadata": {
        "id": "fqluObLXEHLk",
        "colab_type": "code",
        "colab": {}
      },
      "source": [
        "print(max(np.diff(result)))\n",
        "print(min(np.diff(result)))"
      ],
      "execution_count": 0,
      "outputs": []
    },
    {
      "cell_type": "code",
      "metadata": {
        "id": "7AgiqgLaESTA",
        "colab_type": "code",
        "colab": {
          "base_uri": "https://localhost:8080/",
          "height": 304
        },
        "outputId": "b39b3a8a-ae89-4502-94cc-6377a2243cc8"
      },
      "source": [
        "x_train, x_test, y_train, y_test = train_test_split(features, pm, test_size =0.2, random_state =42)\n",
        "from sklearn.model_selection import GridSearchCV\n",
        "\n",
        "reg = RandomForestRegressor(max_depth=3)\n",
        "clf = GridSearchCV(reg, {}, cv=5)\n",
        "clf.fit(x_train, y_train)\n",
        "pred = clf.predict(x_test)\n",
        "\n",
        "\n",
        "plt.plot(y_test)\n",
        "plt.plot(pred)\n",
        "print(mean_squared_error(pred, y_test)**0.5)\n",
        "print(mean_absolute_error(pred, y_test))"
      ],
      "execution_count": 128,
      "outputs": [
        {
          "output_type": "stream",
          "text": [
            "16.554966717851315\n",
            "10.720760196933275\n"
          ],
          "name": "stdout"
        },
        {
          "output_type": "display_data",
          "data": {
            "image/png": "iVBORw0KGgoAAAANSUhEUgAAAXsAAAD8CAYAAACW/ATfAAAABHNCSVQICAgIfAhkiAAAAAlwSFlz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\ngJTsU6RIkeIgQEr2KVKkSHEQ4P8DVVZBXTijNWwAAAAASUVORK5CYII=\n",
            "text/plain": [
              "<Figure size 432x288 with 1 Axes>"
            ]
          },
          "metadata": {
            "tags": []
          }
        }
      ]
    },
    {
      "cell_type": "code",
      "metadata": {
        "id": "O3DOwurUungC",
        "colab_type": "code",
        "colab": {}
      },
      "source": [
        "# Run this cell to mount your Google Drive.\n",
        "from google.colab import drive\n",
        "drive.mount('/content/drive')"
      ],
      "execution_count": 0,
      "outputs": []
    },
    {
      "cell_type": "code",
      "metadata": {
        "id": "tY7wPUa9t73U",
        "colab_type": "code",
        "colab": {
          "base_uri": "https://localhost:8080/",
          "height": 260
        },
        "outputId": "ea4945c7-a064-4114-946c-2fa73ba35640"
      },
      "source": [
        "print(clf)"
      ],
      "execution_count": 48,
      "outputs": [
        {
          "output_type": "stream",
          "text": [
            "GridSearchCV(cv=5, error_score='raise-deprecating',\n",
            "             estimator=RandomForestRegressor(bootstrap=True, criterion='mse',\n",
            "                                             max_depth=3, max_features='auto',\n",
            "                                             max_leaf_nodes=None,\n",
            "                                             min_impurity_decrease=0.0,\n",
            "                                             min_impurity_split=None,\n",
            "                                             min_samples_leaf=1,\n",
            "                                             min_samples_split=2,\n",
            "                                             min_weight_fraction_leaf=0.0,\n",
            "                                             n_estimators='warn', n_jobs=None,\n",
            "                                             oob_score=False, random_state=None,\n",
            "                                             verbose=0, warm_start=False),\n",
            "             iid='warn', n_jobs=None, param_grid={}, pre_dispatch='2*n_jobs',\n",
            "             refit=True, return_train_score=False, scoring=None, verbose=0)\n"
          ],
          "name": "stdout"
        }
      ]
    },
    {
      "cell_type": "code",
      "metadata": {
        "id": "KD0H7eH6EuG7",
        "colab_type": "code",
        "colab": {}
      },
      "source": [
        "k = (np.shape(pred))[0]\n",
        "for i in range(0, ):\n",
        "  print(str(y_test[i]) + '\\t' + str(pred[i]))"
      ],
      "execution_count": 0,
      "outputs": []
    },
    {
      "cell_type": "code",
      "metadata": {
        "id": "PNOPzs1-E6fI",
        "colab_type": "code",
        "colab": {
          "base_uri": "https://localhost:8080/",
          "height": 1000
        },
        "outputId": "f26d8d52-4686-4e63-aa0f-91ac91b7f39e"
      },
      "source": [
        "k = (np.shape(pred))[0]\n",
        "for i in range(0,k ):\n",
        "  print(str(y_test[i]) + '\\t' + str(pred[i]))"
      ],
      "execution_count": 38,
      "outputs": [
        {
          "output_type": "stream",
          "text": ""
          "name": "stdout"
        }
      ]
    },
    {
      "cell_type": "code",
      "metadata": {
        "id": "CO06-_VjnXig",
        "colab_type": "code",
        "colab": {
          "base_uri": "https://localhost:8080/",
          "height": 52
        },
        "outputId": "c517ce98-aca0-456d-a4a0-48aee36424ec"
      },
      "source": [
        "'''explained_variance\tmetrics.explained_variance_score\t \n",
        "‘max_error’\tmetrics.max_error\t \n",
        "‘neg_mean_absolute_error’\tmetrics.mean_absolute_error\t \n",
        "‘neg_mean_squared_error’\tmetrics.mean_squared_error\t \n",
        "‘neg_mean_squared_log_error’\tmetrics.mean_squared_log_error\t \n",
        "‘neg_median_absolute_error’\tmetrics.median_absolute_error\t \n",
        "‘r2’\tmetrics.r2_score'''\n",
        "\n",
        "\n",
        "score = cross_val_score(reg,features,pm,cv=5,scoring ='neg_mean_squared_error')\n",
        "print(score)"
      ],
      "execution_count": 43,
      "outputs": [
        {
          "output_type": "stream",
          "text": [
            "[-1895.37173806 -1502.67705747 -1353.50640106  -367.31680843\n",
            " -1301.74239144]\n"
          ],
          "name": "stdout"
        }
      ]
    },
    {
      "cell_type": "code",
      "metadata": {
        "id": "ANw708QjpPbo",
        "colab_type": "code",
        "colab": {}
      },
      "source": [
        ""
      ],
      "execution_count": 0,
      "outputs": []
    }
  ]
}