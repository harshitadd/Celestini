{
  "nbformat": 4,
  "nbformat_minor": 0,
  "metadata": {
    "colab": {
      "name": "Model_WithoutKeras.ipynb",
      "provenance": [],
      "collapsed_sections": [],
      "include_colab_link": true
    },
    "kernelspec": {
      "name": "python3",
      "display_name": "Python 3"
    },
    "accelerator": "GPU"
  },
  "cells": [
    {
      "cell_type": "markdown",
      "metadata": {
        "id": "view-in-github",
        "colab_type": "text"
      },
      "source": [
        "<a href=\"https://colab.research.google.com/github/harshitadd/Celestini/blob/master/Model_WithoutKeras.ipynb\" target=\"_parent\"><img src=\"https://colab.research.google.com/assets/colab-badge.svg\" alt=\"Open In Colab\"/></a>"
      ]
    },
    {
      "cell_type": "code",
      "metadata": {
        "id": "bdDag8n7lyzH",
        "colab_type": "code",
        "outputId": "9a1a1603-7a80-46c3-ee46-5cdb676f6808",
        "colab": {
          "base_uri": "https://localhost:8080/",
          "height": 135
        }
      },
      "source": [
        "import tensorflow as tf \n",
        "import pickle\n",
        "from sklearn.externals import joblib\n",
        "import numpy as np\n",
        "from tensorflow.python.client import device_lib\n",
        "from tensorflow.saved_model import simple_save\n",
        "import random\n",
        "import matplotlib.pyplot as plt \n",
        "import math\n",
        "from sklearn.model_selection import train_test_split\n",
        "from tensorflow.python import pywrap_tensorflow\n",
        "from tensorflow.python.tools import inspect_checkpoint as ckpt \n",
        "\n"
      ],
      "execution_count": 1,
      "outputs": [
        {
          "output_type": "display_data",
          "data": {
            "text/html": [
              "<p style=\"color: red;\">\n",
              "The default version of TensorFlow in Colab will soon switch to TensorFlow 2.x.<br>\n",
              "We recommend you <a href=\"https://www.tensorflow.org/guide/migrate\" target=\"_blank\">upgrade</a> now \n",
              "or ensure your notebook will continue to use TensorFlow 1.x via the <code>%tensorflow_version 1.x</code> magic:\n",
              "<a href=\"https://colab.research.google.com/notebooks/tensorflow_version.ipynb\" target=\"_blank\">more info</a>.</p>\n"
            ],
            "text/plain": [
              "<IPython.core.display.HTML object>"
            ]
          },
          "metadata": {
            "tags": []
          }
        },
        {
          "output_type": "stream",
          "text": [
            "/usr/local/lib/python3.6/dist-packages/sklearn/externals/joblib/__init__.py:15: DeprecationWarning: sklearn.externals.joblib is deprecated in 0.21 and will be removed in 0.23. Please import this functionality directly from joblib, which can be installed with: pip install joblib. If this warning is raised when loading pickled models, you may need to re-serialize those models with scikit-learn 0.21+.\n",
            "  warnings.warn(msg, category=DeprecationWarning)\n"
          ],
          "name": "stderr"
        }
      ]
    },
    {
      "cell_type": "code",
      "metadata": {
        "id": "_pKAD2gofS-S",
        "colab_type": "code",
        "colab": {}
      },
      "source": [
        "#FEATURES AND LABELS  \n",
        " \n",
        "with open('/content/features_18_11.bin','rb') as file:\n",
        "  f = pickle.load(file)\n",
        "  \n",
        "with open('/content/labels_18_11.bin','rb') as file:\n",
        "  l = pickle.load(file)"
      ],
      "execution_count": 0,
      "outputs": []
    },
    {
      "cell_type": "code",
      "metadata": {
        "id": "9H_9YQ_PAHK5",
        "colab_type": "code",
        "outputId": "4e54bf6a-d39e-4abd-fa66-bc9dd112babc",
        "colab": {
          "base_uri": "https://localhost:8080/",
          "height": 51
        }
      },
      "source": [
        "print(np.shape(f))\n",
        "print(type(f))"
      ],
      "execution_count": 4,
      "outputs": [
        {
          "output_type": "stream",
          "text": [
            "(3109, 10)\n",
            "<class 'list'>\n"
          ],
          "name": "stdout"
        }
      ]
    },
    {
      "cell_type": "code",
      "metadata": {
        "id": "wT7-ZsKK_Jwm",
        "colab_type": "code",
        "colab": {}
      },
      "source": [
        "features = []\n",
        "labels = []\n",
        "\n",
        "for i in f:\n",
        "  features.append(list(map(float,i)))\n",
        "for i in l:\n",
        "  labels.append(list(map(float,i)))"
      ],
      "execution_count": 0,
      "outputs": []
    },
    {
      "cell_type": "code",
      "metadata": {
        "id": "o6Zxm0XF0DlH",
        "colab_type": "code",
        "colab": {}
      },
      "source": [
        "x_train_t, x_test_t,y_train_t, y_test_t = train_test_split(features, labels, test_size = 0.3)"
      ],
      "execution_count": 0,
      "outputs": []
    },
    {
      "cell_type": "code",
      "metadata": {
        "id": "WM7fAP43D4NV",
        "colab_type": "code",
        "colab": {}
      },
      "source": [
        "with open('/content/y_test.bin','wb') as file:\n",
        "  pickle.dump(y_test_t,file)"
      ],
      "execution_count": 0,
      "outputs": []
    },
    {
      "cell_type": "code",
      "metadata": {
        "id": "gAlnu945gPXq",
        "colab_type": "code",
        "colab": {}
      },
      "source": [
        "tf.reset_default_graph()"
      ],
      "execution_count": 0,
      "outputs": []
    },
    {
      "cell_type": "code",
      "metadata": {
        "id": "rkXJ4fuuhWgh",
        "colab_type": "code",
        "outputId": "b1d2caff-f6de-4d07-c0bd-108a9ca0b7e8",
        "colab": {
          "base_uri": "https://localhost:8080/",
          "height": 548
        }
      },
      "source": [
        "print(device_lib.list_local_devices())\n"
      ],
      "execution_count": 0,
      "outputs": [
        {
          "output_type": "stream",
          "text": [
            "[name: \"/device:CPU:0\"\n",
            "device_type: \"CPU\"\n",
            "memory_limit: 268435456\n",
            "locality {\n",
            "}\n",
            "incarnation: 7028805726181647214\n",
            ", name: \"/device:XLA_CPU:0\"\n",
            "device_type: \"XLA_CPU\"\n",
            "memory_limit: 17179869184\n",
            "locality {\n",
            "}\n",
            "incarnation: 5068998155029868007\n",
            "physical_device_desc: \"device: XLA_CPU device\"\n",
            ", name: \"/device:XLA_GPU:0\"\n",
            "device_type: \"XLA_GPU\"\n",
            "memory_limit: 17179869184\n",
            "locality {\n",
            "}\n",
            "incarnation: 6333800805543108428\n",
            "physical_device_desc: \"device: XLA_GPU device\"\n",
            ", name: \"/device:GPU:0\"\n",
            "device_type: \"GPU\"\n",
            "memory_limit: 11330115994\n",
            "locality {\n",
            "  bus_id: 1\n",
            "  links {\n",
            "  }\n",
            "}\n",
            "incarnation: 7281761970174140475\n",
            "physical_device_desc: \"device: 0, name: Tesla K80, pci bus id: 0000:00:04.0, compute capability: 3.7\"\n",
            "]\n"
          ],
          "name": "stdout"
        }
      ]
    },
    {
      "cell_type": "code",
      "metadata": {
        "id": "M8zj52CuhmPD",
        "colab_type": "code",
        "outputId": "f9621b1c-eae3-412a-c9b3-009384ae99c6",
        "colab": {
          "base_uri": "https://localhost:8080/",
          "height": 88
        }
      },
      "source": [
        "x = tf.placeholder(shape = (None,10), dtype = tf.float32, name = 'input' )\n",
        "y = tf.placeholder(shape = (None,1), dtype = tf.float32, name = 'target')\n",
        "\n",
        "#Layer 1 \n",
        "w1 = tf.Variable((tf.glorot_uniform_initializer(dtype = tf.float32)((10, 15))), name = 'w1')\n",
        "b1 = tf.Variable((tf.glorot_uniform_initializer(dtype = tf.float32)((1,15))), name = 'b1')\n",
        "\n",
        "#Layer2 \n",
        "\n",
        "w2 = tf.Variable((tf.glorot_uniform_initializer(dtype = tf.float32)((15,25))), name = 'w2')\n",
        "b2 = tf.Variable((tf.glorot_uniform_initializer(dtype = tf.float32)((1,25))), name = 'b2')\n",
        "\n",
        "#out\n",
        "\n",
        "wo = tf.Variable((tf.glorot_uniform_initializer(dtype = tf.float32)((25,1))), name = 'wo')\n",
        "bo = tf.Variable((tf.glorot_uniform_initializer(dtype = tf.float32)((1,1))), name = 'bo')\n"
      ],
      "execution_count": 0,
      "outputs": [
        {
          "output_type": "stream",
          "text": [
            "WARNING:tensorflow:From <ipython-input-8-efd924619411>:5: calling GlorotUniform.__init__ (from tensorflow.python.ops.init_ops) with dtype is deprecated and will be removed in a future version.\n",
            "Instructions for updating:\n",
            "Call initializer instance with the dtype argument instead of passing it to the constructor\n"
          ],
          "name": "stdout"
        }
      ]
    },
    {
      "cell_type": "code",
      "metadata": {
        "id": "92_mLSDYpmcv",
        "colab_type": "code",
        "colab": {}
      },
      "source": [
        "hidl1 = tf.add(tf.matmul(x,w1),b1, name ='hidden1')\n",
        "hidl1 = tf.nn.relu(hidl1)\n",
        "hidl2 = tf.add(tf.matmul(hidl1,w2),b2, name = 'hidden2')\n",
        "hidl2 = tf.nn.relu(hidl2)\n",
        "out = tf.add(tf.matmul(hidl2,wo),bo,name = 'output')\n"
      ],
      "execution_count": 0,
      "outputs": []
    },
    {
      "cell_type": "code",
      "metadata": {
        "id": "8OdDRQggsq5N",
        "colab_type": "code",
        "colab": {}
      },
      "source": [
        "## MSE - Loss function\n",
        "loss = tf.reduce_mean(tf.square(tf.subtract(y,out))) \n",
        "\n",
        "## Optimizer - Adam\n",
        "opt = tf.train.AdamOptimizer(name = 'optimizer', learning_rate=0.005)\n",
        "op_train = opt.minimize(loss, name ='train_op')\n"
      ],
      "execution_count": 0,
      "outputs": []
    },
    {
      "cell_type": "code",
      "metadata": {
        "id": "vgbtgE_CvDzV",
        "colab_type": "code",
        "colab": {}
      },
      "source": [
        "saved = tf.train.Saver().as_saver_def()"
      ],
      "execution_count": 0,
      "outputs": []
    },
    {
      "cell_type": "code",
      "metadata": {
        "id": "xLnEbChLyH82",
        "colab_type": "code",
        "colab": {}
      },
      "source": [
        "init = tf.global_variables_initializer()"
      ],
      "execution_count": 0,
      "outputs": []
    },
    {
      "cell_type": "code",
      "metadata": {
        "id": "nh28JgrUxRjT",
        "colab_type": "code",
        "colab": {}
      },
      "source": [
        "\n",
        "train=[]\n",
        "val=[]\n",
        "\n",
        "with tf.device('/device:CPU:0'):\n",
        "  update_ops = tf.get_collection(tf.GraphKeys.UPDATE_OPS)\n",
        "  save = tf.train.Saver()\n",
        "  with tf.Session() as sess:\n",
        "    sess.run(init)\n",
        "    #saved.restore(sess, \"/content/final_check_weights.ckpt\")\n",
        "    mini =[]\n",
        "    for i in range(1600):\n",
        "      b1=[]\n",
        "      b2=[]\n",
        "      l1=[]\n",
        "      l2=[]\n",
        "      b1_val=[]\n",
        "      b2_val=[]\n",
        "      l1_val=[]\n",
        "      l2_val=[]\n",
        "      x_traint, x_test_t,y_traint, y_test_t = train_test_split(features, labels, test_size = 0.3)\n",
        "      x_trainv, x_testv, y_trainv, y_testv = train_test_split(x_traint, y_traint, test_size = 0.3)\n",
        "      \n",
        "      for j in range(16): ##One run is appending 2 random lists \n",
        "      \n",
        "      #TRAINING MINI BATCHES \n",
        "        \n",
        "        seed = random.choice(range(len(x_trainv)))\n",
        "        i = random.choice(range(len(x_trainv)))\n",
        "        \n",
        "        b1.append(x_trainv[seed])\n",
        "        b2.append(x_trainv[i])\n",
        "        l1.append(y_trainv[seed])\n",
        "        l2.append(y_trainv[i])\n",
        "        \n",
        "        x_batch = np.vstack((b1,b2))\n",
        "        y_batch = np.vstack((l1,l2))\n",
        "        \n",
        "        ##VALIDATION MINI BATCHES \n",
        "        \n",
        "        seed_val = random.choice(range(len(x_traint)))\n",
        "        i_val = random.choice(range(len(x_traint)))\n",
        "        \n",
        "        b1_val.append(x_traint[seed_val])\n",
        "        b2_val.append(x_traint[i_val])\n",
        "        l1_val.append(y_traint[seed_val])\n",
        "        l2_val.append(y_traint[i_val])\n",
        "        \n",
        "        x_batch_val = np.vstack((b1_val,b2_val))\n",
        "        y_batch_val = np.vstack((l1_val,l2_val))\n",
        "      \n",
        "      ## TRAINING LOSS\n",
        "      update_ops = tf.get_collection(tf.GraphKeys.UPDATE_OPS)\n",
        "      z= sess.run([loss,op_train, update_ops], feed_dict = {x : x_batch, y: y_batch })\n",
        "      train.append(z[0])\n",
        "      \n",
        "      ##VALIDATION LOSS\n",
        "      \n",
        "      z_val= sess.run([loss], feed_dict = {x : x_batch_val, y: y_batch_val })\n",
        "      val.append(z_val[0])\n",
        "      \n",
        "      print(str(z[0]) + '\\t' + str(z_val[0]))\n",
        "    \n",
        "    plt.plot(train)\n",
        "    plt.plot(val)\n",
        "    save_path = save.save(sess, \"/content/final_18_11.ckpt\")\n",
        "    print('Saved model!')\n",
        "    \n",
        " "
      ],
      "execution_count": 0,
      "outputs": []
    },
    {
      "cell_type": "code",
      "metadata": {
        "id": "syVL0wqiNrRS",
        "colab_type": "code",
        "outputId": "a478d023-cee3-4a7f-92db-b5be9e5aaa1e",
        "colab": {
          "base_uri": "https://localhost:8080/",
          "height": 34
        }
      },
      "source": [
        "val = []\n",
        "\n",
        "with tf.Session() as sess:\n",
        "    \n",
        "    saver = tf.train.Saver()\n",
        "    saver.restore(sess, '/content/final_18_11.ckpt')\n",
        "    val.append(sess.run('output',feed_dict={x : x_batch}))\n",
        "    \n"
      ],
      "execution_count": 0,
      "outputs": [
        {
          "output_type": "stream",
          "text": [
            "INFO:tensorflow:Restoring parameters from /content/final_18_11.ckpt\n"
          ],
          "name": "stdout"
        }
      ]
    },
    {
      "cell_type": "code",
      "metadata": {
        "id": "Z6Jpi8Pe_wxr",
        "colab_type": "code",
        "outputId": "bd262345-fc18-495a-c529-16e3444fdaea",
        "colab": {
          "base_uri": "https://localhost:8080/",
          "height": 51
        }
      },
      "source": [
        "print(type(tf.get_default_graph().as_graph_def()))\n",
        "tf.io.write_graph(tf.get_default_graph().as_graph_def(), '/content/', 'Final_18_11.pbtxt')"
      ],
      "execution_count": 0,
      "outputs": [
        {
          "output_type": "stream",
          "text": [
            "<class 'tensorflow.core.framework.graph_pb2.GraphDef'>\n"
          ],
          "name": "stdout"
        },
        {
          "output_type": "execute_result",
          "data": {
            "text/plain": [
              "'/content/Final_18_11.pbtxt'"
            ]
          },
          "metadata": {
            "tags": []
          },
          "execution_count": 16
        }
      ]
    },
    {
      "cell_type": "code",
      "metadata": {
        "id": "GOCKeDcHDKe7",
        "colab_type": "code",
        "colab": {}
      },
      "source": [
        "with open('/content/Final_18_11.pb', 'wb') as f:\n",
        "  f.write(tf.get_default_graph().as_graph_def().SerializeToString())\n",
        "  "
      ],
      "execution_count": 0,
      "outputs": []
    },
    {
      "cell_type": "markdown",
      "metadata": {
        "id": "TH9qpMEptAXK",
        "colab_type": "text"
      },
      "source": [
        "Restoration Files (No need to run these unless required for additional analysis)"
      ]
    },
    {
      "cell_type": "code",
      "metadata": {
        "id": "mKQL0seIgxo4",
        "colab_type": "code",
        "colab": {}
      },
      "source": [
        "with open('/content/x_test.bin','wb') as file:\n",
        "  pickle.dump(x_test_t, file)\n",
        "with open('/content/y_test.bin','wb') as file:\n",
        "  pickle.dump(y_test_t, file)"
      ],
      "execution_count": 0,
      "outputs": []
    }
  ]
}