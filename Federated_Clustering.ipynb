{
  "nbformat": 4,
  "nbformat_minor": 0,
  "metadata": {
    "colab": {
      "name": "Federated_Clustering.ipynb",
      "provenance": [],
      "include_colab_link": true
    },
    "kernelspec": {
      "name": "python3",
      "display_name": "Python 3"
    }
  },
  "cells": [
    {
      "cell_type": "markdown",
      "metadata": {
        "id": "view-in-github",
        "colab_type": "text"
      },
      "source": [
        "<a href=\"https://colab.research.google.com/github/harshitadd/Celestini/blob/master/Federated_Clustering.ipynb\" target=\"_parent\"><img src=\"https://colab.research.google.com/assets/colab-badge.svg\" alt=\"Open In Colab\"/></a>"
      ]
    },
    {
      "cell_type": "code",
      "metadata": {
        "id": "VZg2mP4XROOH",
        "colab_type": "code",
        "colab": {}
      },
      "source": [
        "import matplotlib.pyplot as plt \n",
        "from sklearn.cluster import KMeans\n",
        "import pickle \n",
        "import numpy as np \n",
        "from mpl_toolkits import mplot3d\n",
        "import math"
      ],
      "execution_count": 0,
      "outputs": []
    },
    {
      "cell_type": "code",
      "metadata": {
        "id": "6rp1GJi0nMGz",
        "colab_type": "code",
        "colab": {}
      },
      "source": [
        "with open('/content/features_20_11.bin','rb') as file:\n",
        "  features = pickle.load(file)\n",
        "with open('/content/labels_20_11.bin','rb') as file:\n",
        "  pm = pickle.load(file)"
      ],
      "execution_count": 0,
      "outputs": []
    },
    {
      "cell_type": "code",
      "metadata": {
        "id": "74uUGBPPnPcm",
        "colab_type": "code",
        "colab": {}
      },
      "source": [
        "trans=[]\n",
        "cont=[]\n",
        "ent=[]\n",
        "hours=[]\n",
        "hum=[]\n",
        "pressure=[]\n",
        "tempr=[]\n",
        "deg=[]\n",
        "speed=[]\n",
        "prev=[]\n",
        "\n",
        "for i in features:\n",
        "  ent.append(float(i[2]))\n",
        "  cont.append(float(i[1]))\n",
        "  trans.append(float(i[8]))\n",
        "  hours.append(float(i[0]))\n",
        "  hum.append(float(i[3]))\n",
        "  pressure.append(float(i[7]))\n",
        "  tempr.append(float(i[4]))\n",
        "  deg.append(float(i[5]))\n",
        "  speed.append(float(i[6]))\n",
        "  prev.append(float(i[9]))"
      ],
      "execution_count": 0,
      "outputs": []
    },
    {
      "cell_type": "code",
      "metadata": {
        "id": "pBg5mUkLnTIY",
        "colab_type": "code",
        "colab": {}
      },
      "source": [
        "final_shape=len(hours)\n",
        "\n",
        "trans= np.reshape(trans,(final_shape,1))\n",
        "hours = np.reshape(hours,(final_shape,1))\n",
        "cont = np.reshape(cont,(final_shape,1))\n",
        "ent = np.reshape(ent,(final_shape,1))\n",
        "hum = np.reshape(hum,(final_shape,1))\n",
        "pressure = np.reshape(pressure,(final_shape,1))\n",
        "tempr = np.reshape(tempr,(final_shape,1))\n",
        "deg = np.reshape(deg,(final_shape,1))\n",
        "speed = np.reshape(speed,(final_shape,1))\n",
        "prev = np.reshape(prev,(final_shape,1))\n",
        "\n",
        "\n",
        "features = np.hstack((hours, cont, ent , hum, tempr, deg, speed, pressure,trans,prev))\n"
      ],
      "execution_count": 0,
      "outputs": []
    },
    {
      "cell_type": "markdown",
      "metadata": {
        "id": "-10euJhNpUKR",
        "colab_type": "text"
      },
      "source": [
        "TEST 1: \n",
        "\n",
        "1.   Number of clusters - 3 \n",
        "2.   Features used - All \n"
      ]
    },
    {
      "cell_type": "code",
      "metadata": {
        "id": "LPvZDBQholCH",
        "colab_type": "code",
        "colab": {}
      },
      "source": [
        "km = KMeans(\n",
        "    n_clusters=3, init='random',\n",
        "    n_init=10, max_iter=300, \n",
        "    tol=1e-04, random_state=0\n",
        ")\n",
        "X = features\n",
        "y_km = km.fit_predict(X)\n"
      ],
      "execution_count": 0,
      "outputs": []
    },
    {
      "cell_type": "code",
      "metadata": {
        "id": "d5oRJk5ppQ01",
        "colab_type": "code",
        "colab": {
          "base_uri": "https://localhost:8080/",
          "height": 34
        },
        "outputId": "0beb5487-97d9-4c0b-b2b3-893200af7524"
      },
      "source": [
        "print(y_km)"
      ],
      "execution_count": 8,
      "outputs": [
        {
          "output_type": "stream",
          "text": [
            "[1 1 1 ... 0 0 0]\n"
          ],
          "name": "stdout"
        }
      ]
    },
    {
      "cell_type": "code",
      "metadata": {
        "id": "mQluy71CpSbI",
        "colab_type": "code",
        "colab": {}
      },
      "source": [
        "\n",
        "c1 = X[y_km ==0]\n",
        "c2 = X[y_km ==1]\n",
        "c3 = X[y_km ==2]\n"
      ],
      "execution_count": 0,
      "outputs": []
    },
    {
      "cell_type": "code",
      "metadata": {
        "id": "XlRa-aQkp0ad",
        "colab_type": "code",
        "colab": {
          "base_uri": "https://localhost:8080/",
          "height": 68
        },
        "outputId": "e92fe325-24de-4222-b13a-98099f2e1e8f"
      },
      "source": [
        "print(np.shape(c1))\n",
        "print(np.shape(c2))\n",
        "print(np.shape(c3))"
      ],
      "execution_count": 10,
      "outputs": [
        {
          "output_type": "stream",
          "text": [
            "(1645, 10)\n",
            "(1082, 10)\n",
            "(100, 10)\n"
          ],
          "name": "stdout"
        }
      ]
    },
    {
      "cell_type": "code",
      "metadata": {
        "id": "3Ykc1v_USRvE",
        "colab_type": "code",
        "colab": {
          "base_uri": "https://localhost:8080/",
          "height": 265
        },
        "outputId": "48ae7d52-b08c-45ad-db68-5c2541065d6e"
      },
      "source": [
        "plt.scatter(\n",
        "    X[y_km == 0, 0], X[y_km == 0, 1],\n",
        "    s=50, c='lightgreen',\n",
        "    marker='s', edgecolor='black',\n",
        "    label='cluster 1'\n",
        ")\n",
        "\n",
        "plt.scatter(\n",
        "    X[y_km == 1, 0], X[y_km == 1, 1],\n",
        "    s=50, c='orange',\n",
        "    marker='o', edgecolor='black',\n",
        "    label='cluster 2'\n",
        ")\n",
        "\n",
        "plt.scatter(\n",
        "    X[y_km == 2, 0], X[y_km == 2, 1],\n",
        "    s=50, c='lightblue',\n",
        "    marker='v', edgecolor='black',\n",
        "    label='cluster 3'\n",
        ")\n",
        "\n",
        "# plot the centroids\n",
        "plt.scatter(\n",
        "    km.cluster_centers_[:, 0], km.cluster_centers_[:, 1],\n",
        "    s=250, marker='*',\n",
        "    c='red', edgecolor='black',\n",
        "    label='centroids'\n",
        ")\n",
        "plt.legend(scatterpoints=1)\n",
        "plt.grid()\n",
        "plt.show()\n"
      ],
      "execution_count": 11,
      "outputs": [
        {
          "output_type": "display_data",
          "data": {
            "image/png": "[encoded data removed]",
            "text/plain": [
              "<Figure size 432x288 with 1 Axes>"
            ]
          },
          "metadata": {
            "tags": []
          }
        }
      ]
    },
    {
      "cell_type": "code",
      "metadata": {
        "id": "wXud-BDCp8UA",
        "colab_type": "code",
        "colab": {
          "base_uri": "https://localhost:8080/",
          "height": 282
        },
        "outputId": "8b42263b-cb37-4590-e0ca-2367058dcb39"
      },
      "source": [
        "l = []\n",
        "for i in c1:\n",
        "  print(i[3])\n",
        "  l.append(i[9])\n",
        "  \n",
        "plt.plot(l)"
      ],
      "execution_count": 21,
      "outputs": [
        {
          "output_type": "execute_result",
          "data": {
            "text/plain": [
              "[<matplotlib.lines.Line2D at 0x7f4da35d49b0>]"
            ]
          },
          "metadata": {
            "tags": []
          },
          "execution_count": 21
        },
        {
          "output_type": "display_data",
          "data": {
            "image/png": "[encoded data removed]",
            "text/plain": [
              "<Figure size 432x288 with 1 Axes>"
            ]
          },
          "metadata": {
            "tags": []
          }
        }
      ]
    },
    {
      "cell_type": "code",
      "metadata": {
        "id": "l-R02kCSp_Zt",
        "colab_type": "code",
        "colab": {
          "base_uri": "https://localhost:8080/",
          "height": 282
        },
        "outputId": "8b1a1250-09e6-4f42-b32c-5a23403f19ad"
      },
      "source": [
        "l = []\n",
        "for i in c2:\n",
        "  print(i[3])\n",
        "  l.append(i[9])\n",
        "  \n",
        "plt.plot(l)"
      ],
      "execution_count": 22,
      "outputs": [
        {
          "output_type": "execute_result",
          "data": {
            "text/plain": [
              "[<matplotlib.lines.Line2D at 0x7f4da35bf240>]"
            ]
          },
          "metadata": {
            "tags": []
          },
          "execution_count": 22
        },
        {
          "output_type": "display_data",
          "data": {
            "image/png": "[encoded data removed]",
            "text/plain": [
              "<Figure size 432x288 with 1 Axes>"
            ]
          },
          "metadata": {
            "tags": []
          }
        }
      ]
    },
    {
      "cell_type": "code",
      "metadata": {
        "id": "eYGANgj_qN-W",
        "colab_type": "code",
        "colab": {
          "base_uri": "https://localhost:8080/",
          "height": 282
        },
        "outputId": "d3731add-3db5-4cfe-e3da-7883288ab2ea"
      },
      "source": [
        "l = []\n",
        "for i in c3:\n",
        "  print(i[3])\n",
        "  l.append(i[3])\n",
        "  \n",
        "plt.plot(l)"
      ],
      "execution_count": 16,
      "outputs": [
        {
          "output_type": "execute_result",
          "data": {
            "text/plain": [
              "[<matplotlib.lines.Line2D at 0x7f4da37879b0>]"
            ]
          },
          "metadata": {
            "tags": []
          },
          "execution_count": 16
        },
        {
          "output_type": "display_data",
          "data": {
            "image/png": "[encoded data removed]",
            "text/plain": [
              "<Figure size 432x288 with 1 Axes>"
            ]
          },
          "metadata": {
            "tags": []
          }
        }
      ]
    },
    {
      "cell_type": "markdown",
      "metadata": {
        "id": "HOLQknZwSpC4",
        "colab_type": "text"
      },
      "source": [
        "\n",
        "TEST 2:\n",
        "\n",
        "Number of clusters - 3\n",
        "Features used - ent, cont, trans"
      ]
    },
    {
      "cell_type": "code",
      "metadata": {
        "id": "sfW1CY8eTEa5",
        "colab_type": "code",
        "colab": {
          "base_uri": "https://localhost:8080/",
          "height": 517
        },
        "outputId": "e94b0946-bc00-481e-c104-ad526e4299f9"
      },
      "source": [
        "!pip install firebase-admin\n",
        "import firebase_admin\n",
        "from firebase_admin import credentials, db, storage \n",
        "import cv2 \n",
        "import math\n",
        "from google.colab.patches import cv2_imshow\n",
        "import numpy as np\n",
        "import matplotlib.pyplot as plt \n",
        "import csv \n",
        "import pandas as pd\n"
      ],
      "execution_count": 2,
      "outputs": [
        {
          "output_type": "stream",
          "text": [
            "Requirement already satisfied: firebase-admin in /usr/local/lib/python3.6/dist-packages (3.2.0)\n",
            "Requirement already satisfied: google-api-python-client>=1.7.8 in /usr/local/lib/python3.6/dist-packages (from firebase-admin) (1.7.11)\n",
            "Requirement already satisfied: google-cloud-storage>=1.18.0 in /usr/local/lib/python3.6/dist-packages (from firebase-admin) (1.23.0)\n",
            "Requirement already satisfied: google-cloud-firestore>=1.4.0; platform_python_implementation != \"PyPy\" in /usr/local/lib/python3.6/dist-packages (from firebase-admin) (1.6.0)\n",
            "Requirement already satisfied: cachecontrol>=0.12.4 in /usr/local/lib/python3.6/dist-packages (from firebase-admin) (0.12.5)\n",
            "Requirement already satisfied: google-api-core[grpc]<2.0.0dev,>=1.14.0; platform_python_implementation != \"PyPy\" in /usr/local/lib/python3.6/dist-packages (from firebase-admin) (1.14.3)\n",
            "Requirement already satisfied: six>=1.6.1 in /usr/local/lib/python3.6/dist-packages (from firebase-admin) (1.12.0)\n",
            "Requirement already satisfied: uritemplate<4dev,>=3.0.0 in /usr/local/lib/python3.6/dist-packages (from google-api-python-client>=1.7.8->firebase-admin) (3.0.0)\n",
            "Requirement already satisfied: google-auth>=1.4.1 in /usr/local/lib/python3.6/dist-packages (from google-api-python-client>=1.7.8->firebase-admin) (1.4.2)\n",
            "Requirement already satisfied: httplib2<1dev,>=0.9.2 in /usr/local/lib/python3.6/dist-packages (from google-api-python-client>=1.7.8->firebase-admin) (0.11.3)\n",
            "Requirement already satisfied: google-auth-httplib2>=0.0.3 in /usr/local/lib/python3.6/dist-packages (from google-api-python-client>=1.7.8->firebase-admin) (0.0.3)\n",
            "Requirement already satisfied: google-resumable-media<0.6dev,>=0.5.0 in /usr/local/lib/python3.6/dist-packages (from google-cloud-storage>=1.18.0->firebase-admin) (0.5.0)\n",
            "Requirement already satisfied: google-cloud-core<2.0dev,>=1.0.3 in /usr/local/lib/python3.6/dist-packages (from google-cloud-storage>=1.18.0->firebase-admin) (1.0.3)\n",
            "Requirement already satisfied: pytz in /usr/local/lib/python3.6/dist-packages (from google-cloud-firestore>=1.4.0; platform_python_implementation != \"PyPy\"->firebase-admin) (2018.9)\n",
            "Requirement already satisfied: msgpack in /usr/local/lib/python3.6/dist-packages (from cachecontrol>=0.12.4->firebase-admin) (0.5.6)\n",
            "Requirement already satisfied: requests in /usr/local/lib/python3.6/dist-packages (from cachecontrol>=0.12.4->firebase-admin) (2.21.0)\n",
            "Requirement already satisfied: setuptools>=34.0.0 in /usr/local/lib/python3.6/dist-packages (from google-api-core[grpc]<2.0.0dev,>=1.14.0; platform_python_implementation != \"PyPy\"->firebase-admin) (41.6.0)\n",
            "Requirement already satisfied: googleapis-common-protos<2.0dev,>=1.6.0 in /usr/local/lib/python3.6/dist-packages (from google-api-core[grpc]<2.0.0dev,>=1.14.0; platform_python_implementation != \"PyPy\"->firebase-admin) (1.6.0)\n",
            "Requirement already satisfied: protobuf>=3.4.0 in /usr/local/lib/python3.6/dist-packages (from google-api-core[grpc]<2.0.0dev,>=1.14.0; platform_python_implementation != \"PyPy\"->firebase-admin) (3.10.0)\n",
            "Requirement already satisfied: grpcio<2.0dev,>=1.8.2; extra == \"grpc\" in /usr/local/lib/python3.6/dist-packages (from google-api-core[grpc]<2.0.0dev,>=1.14.0; platform_python_implementation != \"PyPy\"->firebase-admin) (1.15.0)\n",
            "Requirement already satisfied: rsa>=3.1.4 in /usr/local/lib/python3.6/dist-packages (from google-auth>=1.4.1->google-api-python-client>=1.7.8->firebase-admin) (4.0)\n",
            "Requirement already satisfied: cachetools>=2.0.0 in /usr/local/lib/python3.6/dist-packages (from google-auth>=1.4.1->google-api-python-client>=1.7.8->firebase-admin) (3.1.1)\n",
            "Requirement already satisfied: pyasn1-modules>=0.2.1 in /usr/local/lib/python3.6/dist-packages (from google-auth>=1.4.1->google-api-python-client>=1.7.8->firebase-admin) (0.2.7)\n",
            "Requirement already satisfied: chardet<3.1.0,>=3.0.2 in /usr/local/lib/python3.6/dist-packages (from requests->cachecontrol>=0.12.4->firebase-admin) (3.0.4)\n",
            "Requirement already satisfied: idna<2.9,>=2.5 in /usr/local/lib/python3.6/dist-packages (from requests->cachecontrol>=0.12.4->firebase-admin) (2.8)\n",
            "Requirement already satisfied: certifi>=2017.4.17 in /usr/local/lib/python3.6/dist-packages (from requests->cachecontrol>=0.12.4->firebase-admin) (2019.9.11)\n",
            "Requirement already satisfied: urllib3<1.25,>=1.21.1 in /usr/local/lib/python3.6/dist-packages (from requests->cachecontrol>=0.12.4->firebase-admin) (1.24.3)\n",
            "Requirement already satisfied: pyasn1>=0.1.3 in /usr/local/lib/python3.6/dist-packages (from rsa>=3.1.4->google-auth>=1.4.1->google-api-python-client>=1.7.8->firebase-admin) (0.4.7)\n"
          ],
          "name": "stdout"
        }
      ]
    },
    {
      "cell_type": "code",
      "metadata": {
        "id": "JQ8DNIT5TcAM",
        "colab_type": "code",
        "colab": {}
      },
      "source": [
        "cred = credentials.Certificate(\"/content/celestinihdr-2-firebase-adminsdk-x7gew-beb69daef0.json\")\n",
        "app = firebase_admin.initialize_app(cred, {\n",
        "    'storageBucket': 'celestinihdr-2.appspot.com',\n",
        "}, name='novemeber')"
      ],
      "execution_count": 0,
      "outputs": []
    },
    {
      "cell_type": "code",
      "metadata": {
        "id": "hOa5NfpFTkCM",
        "colab_type": "code",
        "colab": {
          "base_uri": "https://localhost:8080/",
          "height": 823
        },
        "outputId": "85ac4d9f-c738-4d0f-babc-2d0f23b82b94"
      },
      "source": [
        "bucket = storage.bucket(app=app)\n",
        "blobs = bucket.list_blobs()\n",
        "\n",
        "anandvihar_hdr=[]\n",
        "wazirpur_hdr=[]\n",
        "#wazirpur_jpeg={}\n",
        "shadipur_jpeg={}\n",
        "ctr=0\n",
        "for blob in blobs:\n",
        "  if(blob.name[7:13]=='static' and blob.name[14]=='P' and blob.name[27]=='j' and int(blob.name[43:45])<18 and int(blob.name[43:45])>6):\n",
        "    try:\n",
        "      ctr+=1\n",
        "      if(ctr%10==0):\n",
        "        blob.download_to_filename('/content/' + \"wazirpur_jpeg\" + str(blob.name.split('/')[-1])+ '.jpeg')\n",
        "        name = \"wazirpur_jpeg\" + str(blob.name.split('/')[-1])+ '.jpeg' \n",
        "        print(ctr)\n",
        "        im = cv2.imread(name)\n",
        "        im = cv2.resize(im,(256,256))\n",
        "        wazirpur_jpeg[blob.name]=im\n",
        "    except:\n",
        "        print(blob.name)\n",
        "        \n",
        "  if(blob.name[7:13]=='static' and blob.name[14]=='P' and blob.name[25]=='j'):\n",
        "    try:\n",
        "      ctr+=1\n",
        "      if(ctr%5==0):\n",
        "        blob.download_to_filename('/content/' + \"shadipur_jpeg\" + str(blob.name.split('/')[-1])+ '.jpeg')\n",
        "        name = \"shadipur_jpeg\" + str(blob.name.split('/')[-1])+ '.jpeg' \n",
        "        ctr+=1\n",
        "        print(ctr)\n",
        "        im = cv2.imread(name)\n",
        "        im = cv2.resize(im,(256,256))\n",
        "        #Extra step of rotation \n",
        "        im = cv2.rotate(im,rotateCode =cv2.ROTATE_90_CLOCKWISE)\n",
        "        shadipur_jpeg[blob.name]=im\n",
        "    except:\n",
        "      print(blob.name)\n",
        "    "
      ],
      "execution_count": 36,
      "outputs": [
        {
          "output_type": "stream",
          "text": [
            "6\n",
            "11\n",
            "16\n",
            "21\n",
            "26\n",
            "31\n",
            "36\n",
            "41\n",
            "46\n",
            "51\n",
            "56\n",
            "61\n",
            "66\n",
            "71\n",
            "76\n",
            "81\n",
            "86\n",
            "91\n",
            "100\n",
            "110\n",
            "120\n",
            "130\n",
            "140\n",
            "150\n",
            "160\n",
            "170\n",
            "180\n",
            "190\n",
            "200\n",
            "210\n",
            "220\n",
            "230\n",
            "240\n",
            "250\n",
            "260\n",
            "270\n",
            "280\n",
            "290\n",
            "300\n",
            "310\n",
            "320\n",
            "330\n",
            "340\n",
            "350\n",
            "360\n",
            "370\n",
            "380\n"
          ],
          "name": "stdout"
        }
      ]
    },
    {
      "cell_type": "code",
      "metadata": {
        "id": "UIab7w7mT7R4",
        "colab_type": "code",
        "colab": {
          "base_uri": "https://localhost:8080/",
          "height": 51
        },
        "outputId": "95ca2120-f9ba-41fb-936b-56a929de16da"
      },
      "source": [
        "print(len(shadipur_jpeg))\n",
        "print(len(wazirpur_jpeg))"
      ],
      "execution_count": 37,
      "outputs": [
        {
          "output_type": "stream",
          "text": [
            "18\n",
            "29\n"
          ],
          "name": "stdout"
        }
      ]
    },
    {
      "cell_type": "code",
      "metadata": {
        "id": "oU-Q5NjuUegy",
        "colab_type": "code",
        "colab": {}
      },
      "source": [
        "def trans_deg(im):\n",
        "  B=np.zeros((256,256))\n",
        "  D=np.zeros((256,256))\n",
        "  C=np.zeros((256,256))\n",
        "  # 3rd channel or im[2] has been split as b,g,r \n",
        "\n",
        "  b,g,r = cv2.split(im)\n",
        "\n",
        "  for i in range(b.shape[0]):\n",
        "    for j in range(b.shape[1]):\n",
        "      D[i][j] = min(b[i][j], g[i][j], r[i][j])\n",
        "      B[i][j] = max(b[i][j], g[i][j], r[i][j])\n",
        "      C[i][j] = B[i][j] - D[i][j]\n",
        "\n",
        "  d = np.sum(D)/float(np.size(D))\n",
        "  b = np.sum(B)/float(np.size(B))\n",
        "  c = b-d \n",
        "  A = (0.33)*max(np.ndarray.flatten(B)) + (0.66)*b\n",
        "  \n",
        "  x1=((A - d)/float(A)) \n",
        "  x2=(c/float(A))\n",
        "  u = 10.127489\n",
        "  v= -8.336512\n",
        "  s = 0.13606234\n",
        "  \n",
        "  w = math.exp(-0.5*(u*x1 + v*x2)+s)\n",
        "  \n",
        "  if(w<=0.1):\n",
        "      w=0\n",
        "  elif(w<=0.3):\n",
        "    w=1\n",
        "  elif(w<=0.5):\n",
        "    w=2\n",
        "  elif(w<=0.7):\n",
        "    w=3\n",
        "  elif(w<=0.8):\n",
        "    w=4\n",
        "  elif(w<=0.9):\n",
        "    w=5\n",
        "    \n",
        "  return w"
      ],
      "execution_count": 0,
      "outputs": []
    },
    {
      "cell_type": "code",
      "metadata": {
        "id": "I9dhxEmGUfTD",
        "colab_type": "code",
        "colab": {}
      },
      "source": [
        "def entropy(image):\n",
        "  image = cv2.cvtColor(image, cv2.COLOR_BGR2GRAY)\n",
        "  hist = cv2.calcHist( [image.astype('float32')],\n",
        "              [0], \n",
        "              None,\n",
        "               [256], \n",
        "              [0,256] )\n",
        "  h_norm = 0\n",
        "  h_norm = cv2.normalize(hist, h_norm)\n",
        "  ent = 0\n",
        "  for p in h_norm:\n",
        "    try:\n",
        "      ent += p*math.log(p, 2)\n",
        "    except:\n",
        "      pass\n",
        "    \n",
        "  return (-1 * ent[0])"
      ],
      "execution_count": 0,
      "outputs": []
    },
    {
      "cell_type": "code",
      "metadata": {
        "id": "Rt3F85CHUhmx",
        "colab_type": "code",
        "colab": {}
      },
      "source": [
        "def contrast(image):\n",
        "  image = cv2.cvtColor(image, cv2.COLOR_BGR2GRAY)\n",
        "  s = 0\n",
        "  ss = 0\n",
        "  mean = np.mean(image)\n",
        "  x = (-1 * mean * (np.ones(image.shape)))\n",
        "  ss = np.square(np.add(image, x))\n",
        "  cont = np.sqrt(np.sum(ss)/float(image.size))\n",
        "  return cont"
      ],
      "execution_count": 0,
      "outputs": []
    },
    {
      "cell_type": "code",
      "metadata": {
        "id": "5NcSfupaUkdU",
        "colab_type": "code",
        "colab": {}
      },
      "source": [
        "feat=[]\n",
        "ctr=0\n",
        "for i in wazirpur_jpeg:\n",
        "  l=[]\n",
        "  l.append(wazirpur_jpeg[i])\n",
        "  l.append(i[32:48])\n",
        "  l.append(entropy(wazirpur_jpeg[i]))\n",
        "  l.append(contrast(wazirpur_jpeg[i]))\n",
        "  l.append(trans_deg(wazirpur_jpeg[i]))\n",
        "  feat.append(l)\n",
        "  ctr+=1\n",
        "  print(ctr)\n",
        "  \n",
        "\n",
        "for i in shadipur_jpeg:\n",
        "  l=[]\n",
        "  l.append(shadipur_jpeg[i])\n",
        "  l.append(i[30:46]) ##\n",
        "  l.append(entropy(shadipur_jpeg[i]))\n",
        "  l.append(contrast(shadipur_jpeg[i]))\n",
        "  l.append(trans_deg(shadipur_jpeg[i]))\n",
        "  feat.append(l)\n",
        "  ctr+=1\n",
        "  print(ctr)\n",
        "  \n",
        "\n"
      ],
      "execution_count": 0,
      "outputs": []
    },
    {
      "cell_type": "code",
      "metadata": {
        "id": "SCs4rRsWU5UG",
        "colab_type": "code",
        "colab": {}
      },
      "source": [
        "print(feat)"
      ],
      "execution_count": 0,
      "outputs": []
    },
    {
      "cell_type": "code",
      "metadata": {
        "id": "t6_B3AmrUsqK",
        "colab_type": "code",
        "colab": {}
      },
      "source": [
        "\n",
        "image_match=[]\n",
        "for l in feat:\n",
        "  temp = l[1]\n",
        "  #print(temp)\n",
        "  temp=temp[-24:-1]\n",
        "  #print(temp)\n",
        "  temp=temp.split('-')\n",
        "  #print(temp)\n",
        "  newtemp=temp[2].split(' ')\n",
        "  #print(newtemp)\n",
        "  newesttemp=newtemp[1].split(':')\n",
        "  #print(newesttemp)\n",
        "  j=int(newesttemp[1])\n",
        "  if(j<=7.5):\n",
        "    final = newtemp[0] + '-' + temp[1] + '-' + temp[0] + ' ' + newesttemp[0] + ':' + '00'\n",
        "  elif(j<=15 or j<=22.5):\n",
        "    final = newtemp[0] + '-' + temp[1] + '-' + temp[0] + ' ' + newesttemp[0] + ':' + '15'\n",
        "  elif(j<=30 or j<=37.5):\n",
        "    final = newtemp[0] + '-' + temp[1] + '-' + temp[0] + ' ' + newesttemp[0] + ':' + '30'\n",
        "  elif(j<=45 or j<=52.5):\n",
        "    final = newtemp[0] + '-' + temp[1] + '-' + temp[0] + ' ' + newesttemp[0] + ':' + '45'\n",
        "  elif(j>52.5):\n",
        "    final = newtemp[0] + '-' + temp[1] + '-' + temp[0] + ' ' + newesttemp[0] + ':' + '00'\n",
        "  t=[]\n",
        "  t.append(l[0])\n",
        "  t.append(final)\n",
        "  #t.append(final[11:13])\n",
        "  t.append(l[2])\n",
        "  t.append(l[3])\n",
        "  t.append(l[4])\n",
        "  image_match.append(t)\n",
        "\n",
        "  "
      ],
      "execution_count": 0,
      "outputs": []
    },
    {
      "cell_type": "code",
      "metadata": {
        "id": "hPp5wCiWVtgY",
        "colab_type": "code",
        "colab": {}
      },
      "source": [
        "print(image_match)"
      ],
      "execution_count": 0,
      "outputs": []
    },
    {
      "cell_type": "code",
      "metadata": {
        "id": "OjWHEeslWMPv",
        "colab_type": "code",
        "colab": {}
      },
      "source": [
        "df_ = pd.read_csv('/content/november_wazirpur.csv')\n",
        "data_ = df_.mask(df_.eq('None')).dropna()\n",
        "file_ = data_.to_csv('/content/wazirpur_labels_new.csv')\n",
        "\n",
        "label =[]\n",
        "k=0\n",
        "prev = '216'\n",
        "with open('/content/wazirpur_labels_new.csv') as file:\n",
        "  reader = csv.reader(file, delimiter =',')\n",
        "  for row in reader:\n",
        "    k+=1\n",
        "    if(k%5==0):\n",
        "        prev=row[3]\n",
        "    if(k>3):\n",
        "      l=[]\n",
        "      l.append(row[1]) #DATE \n",
        "      l.append(row[3]) #PM\n",
        "      l.append(prev)\n",
        "      label.append(l) "
      ],
      "execution_count": 0,
      "outputs": []
    },
    {
      "cell_type": "code",
      "metadata": {
        "id": "hHLt_DqxWUEm",
        "colab_type": "code",
        "colab": {}
      },
      "source": [
        "df_ = pd.read_csv('/content/shadipur_novemeber.csv')\n",
        "data_ = df_.mask(df_.eq('None')).dropna()\n",
        "file_ = data_.to_csv('/content/shadipur_novemeber_new.csv')\n",
        "\n",
        "k=0\n",
        "with open('/content/shadipur_novemeber_new.csv') as file:\n",
        "  reader = csv.reader(file, delimiter =',')\n",
        "  for row in reader:\n",
        "    k+=1\n",
        "    if(k%5==0):\n",
        "        prev=row[3]\n",
        "    if(k>3):\n",
        "      l=[]\n",
        "      l.append(row[1]) #DATE \n",
        "      l.append(row[3]) #PM\n",
        "      l.append(prev)\n",
        "      label.append(l) "
      ],
      "execution_count": 0,
      "outputs": []
    },
    {
      "cell_type": "code",
      "metadata": {
        "id": "f2BRPrDgWXaF",
        "colab_type": "code",
        "colab": {}
      },
      "source": [
        "ctr=0\n",
        "image_label=[]\n",
        "for i in image_match:\n",
        "  for l in label:\n",
        "    if(l[0]==i[1]):\n",
        "      print(l[0])\n",
        "      a=[]\n",
        "      a.append(i[0])\n",
        "      a.append(i[1])\n",
        "      a.append(i[2])\n",
        "      a.append(i[3])\n",
        "      a.append(i[4])\n",
        "      a.append(l[1])\n",
        "      a.append(l[2])\n",
        "      image_label.append(a)\n",
        "      ctr+=1\n"
      ],
      "execution_count": 0,
      "outputs": []
    },
    {
      "cell_type": "code",
      "metadata": {
        "id": "TpHj9tcDWcUk",
        "colab_type": "code",
        "colab": {}
      },
      "source": [
        "print(image_label)"
      ],
      "execution_count": 0,
      "outputs": []
    },
    {
      "cell_type": "code",
      "metadata": {
        "id": "32f0zVs1Wuvd",
        "colab_type": "code",
        "colab": {}
      },
      "source": [
        "trans=[]\n",
        "cont=[]\n",
        "ent=[]\n",
        "pm=[]\n",
        "image=[]\n",
        "\n",
        "\n",
        "for i in image_label:\n",
        "  image.append(i[0])\n",
        "  trans.append(float(i[4]))\n",
        "  cont.append(float(i[3]))\n",
        "  ent.append(float(i[2]))\n",
        "  pm.append(float(i[5]))"
      ],
      "execution_count": 0,
      "outputs": []
    },
    {
      "cell_type": "code",
      "metadata": {
        "id": "i6UYdYY3Y6Ti",
        "colab_type": "code",
        "colab": {}
      },
      "source": [
        "from sklearn.preprocessing import MinMaxScaler"
      ],
      "execution_count": 0,
      "outputs": []
    },
    {
      "cell_type": "code",
      "metadata": {
        "id": "JKz_GcQuqRY3",
        "colab_type": "code",
        "colab": {}
      },
      "source": [
        "final_shape=len(cont)\n",
        "\n",
        "#FEATURES \n",
        "\n",
        "trans= np.reshape(trans,(final_shape,1))\n",
        "ent = np.reshape(ent,(final_shape,1))\n",
        "cont = np.reshape(cont,(final_shape,1))\n",
        "\n",
        "s2 = MinMaxScaler()\n",
        "cont = s2.fit_transform(cont)\n",
        "s3 = MinMaxScaler()\n",
        "ent = s3.fit_transform(ent)\n",
        "\n",
        "features = np.hstack((cont, ent, trans))\n"
      ],
      "execution_count": 0,
      "outputs": []
    },
    {
      "cell_type": "code",
      "metadata": {
        "id": "6yH0YpLTXvGR",
        "colab_type": "code",
        "colab": {}
      },
      "source": [
        "km = KMeans(\n",
        "    n_clusters=3, init='random',\n",
        "    n_init=10, max_iter=300, \n",
        "    tol=1e-04, random_state=0\n",
        ")\n",
        "X = features\n",
        "y_km = km.fit_predict(X)\n"
      ],
      "execution_count": 0,
      "outputs": []
    },
    {
      "cell_type": "code",
      "metadata": {
        "id": "XTXAiMdbYH4t",
        "colab_type": "code",
        "colab": {
          "base_uri": "https://localhost:8080/",
          "height": 51
        },
        "outputId": "7cc29217-dd26-4f88-e26b-16fe7da7f40a"
      },
      "source": [
        "print(y_km)"
      ],
      "execution_count": 55,
      "outputs": [
        {
          "output_type": "stream",
          "text": [
            "[2 2 2 2 0 1 1 1 0 1 1 1 1 1 1 1 1 1 0 0 1 0 1 0 0 0 0 0 2 2 2 2 2 2 2 2 2\n",
            " 2 2 2 2 2 2 2 2 2]\n"
          ],
          "name": "stdout"
        }
      ]
    },
    {
      "cell_type": "code",
      "metadata": {
        "id": "uhZY6oVHZQyU",
        "colab_type": "code",
        "colab": {}
      },
      "source": [
        ""
      ],
      "execution_count": 0,
      "outputs": []
    }
  ]
}