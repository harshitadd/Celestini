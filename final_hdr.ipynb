{
  "nbformat": 4,
  "nbformat_minor": 0,
  "metadata": {
    "colab": {
      "name": "final_hdr.ipynb",
      "version": "0.3.2",
      "provenance": [],
      "collapsed_sections": [],
      "include_colab_link": true
    },
    "kernelspec": {
      "name": "python3",
      "display_name": "Python 3"
    },
    "accelerator": "GPU"
  },
  "cells": [
    {
      "cell_type": "markdown",
      "metadata": {
        "id": "view-in-github",
        "colab_type": "text"
      },
      "source": [
        "<a href=\"https://colab.research.google.com/github/harshitadd/Celestini/blob/master/final_hdr.ipynb\" target=\"_parent\"><img src=\"https://colab.research.google.com/assets/colab-badge.svg\" alt=\"Open In Colab\"/></a>"
      ]
    },
    {
      "cell_type": "code",
      "metadata": {
        "id": "2eBDAEW_J4sr",
        "colab_type": "code",
        "colab": {}
      },
      "source": [
        "import cv2 as cv \n",
        "import numpy as np \n",
        "import matplotlib.pyplot as plt \n",
        "from google.colab.patches import cv2_imshow\n",
        "from sklearn.preprocessing import minmax_scale"
      ],
      "execution_count": 0,
      "outputs": []
    },
    {
      "cell_type": "code",
      "metadata": {
        "id": "ZhojhiFbKEWy",
        "colab_type": "code",
        "colab": {
          "base_uri": "https://localhost:8080/",
          "height": 391
        },
        "outputId": "593fef8d-1dcd-4b9a-8e43-94c7a30be238"
      },
      "source": [
        "user_img=['FJIMG_20190613_125116.jpg','FJIMG_20190613_125123.jpg','FJIMG_20190613_125133.jpg']\n",
        "exposure_times=np.array([1/120.0,1/30.0,1/500.0],dtype=np.float32)\n",
        "\n",
        "user_img1=['FJIMG_20190613_125630.jpg','FJIMG_20190613_125638.jpg','FJIMG_20190613_125645.jpg','FJIMG_20190613_125652.jpg']\n",
        "exposure_times1=np.array([1/1250.0,1/320.0,1/5140.0,1/8411.0],dtype=np.float32)\n",
        "\n",
        "\n",
        "# user_img1=['FJIMG_20190613_125630.jpg','FJIMG_20190613_125638.jpg','FJIMG_20190613_125645.jpg']\n",
        "# exposure_times1=np.array([1/1250.0,1/320.0,1/5140.0],dtype=np.float32)\n",
        "\n",
        "user_img2=['FJIMG_20190613_155839.jpg','FJIMG_20190613_155847.jpg','FJIMG_20190613_155856.jpg','FJIMG_20190613_155904.jpg','FJIMG_20190613_155918.jpg','FJIMG_20190613_155924.jpg']\n",
        "exposure_times2=np.array([1/1250.0,1/4023.0,1/2000.0,1/640.0,1/320.0,1/240.0],dtype=np.float32)\n",
        "\n",
        "\n",
        "# user_img2=['FJIMG_20190613_155839.jpg','FJIMG_20190613_155847.jpg','FJIMG_20190613_155856.jpg']\n",
        "# exposure_times2=np.array([1/1250.0,1/4023.0,1/2000.0],dtype=np.float32)\n",
        "\n",
        "#flash and without flash \n",
        "\n",
        "print(np.shape(user_img))\n",
        "print(np.shape(exposure_times))\n",
        "images=[]\n",
        "for im in user_img : \n",
        "  images.append(cv.imread(im))\n",
        "\n",
        "\n",
        "cal_debevec = cv.createCalibrateDebevec()\n",
        "crf_debevec = cal_debevec.process(images,times=exposure_times)\n",
        "\n",
        "\n",
        "p = np.arange(0,256)\n",
        "b=[]\n",
        "g=[]\n",
        "r=[]\n",
        "for i in range(0,256,1):\n",
        "    b.append(crf_debevec[i][0][0])\n",
        "    g.append(crf_debevec[i][0][1])\n",
        "    r.append(crf_debevec[i][0][2])\n",
        "\n",
        "\n",
        "b=np.array(b)    \n",
        "g=np.array(g)    \n",
        "r=np.array(r)    \n",
        "\n",
        "b=minmax_scale(b)\n",
        "\n",
        "g=minmax_scale(g)\n",
        "\n",
        "r=minmax_scale(r)\n",
        "plt.plot(p,b)\n",
        "plt.plot(p,g)\n",
        "plt.plot(p,r)\n",
        "\n",
        "\n",
        "\n",
        "images=[]\n",
        "for im in user_img1 : \n",
        "  images.append(cv.imread(im))\n",
        "\n",
        "\n",
        "print(np.shape(user_img1))\n",
        "print(np.shape(exposure_times1))\n",
        "cal_debevec = cv.createCalibrateDebevec()\n",
        "crf_debevec = cal_debevec.process(images,times=exposure_times1)\n",
        "\n",
        "\n",
        "p = np.arange(0,256)\n",
        "b=[]\n",
        "g=[]\n",
        "r=[]\n",
        "for i in range(0,256,1):\n",
        "    b.append(crf_debevec[i][0][0])\n",
        "    g.append(crf_debevec[i][0][1])\n",
        "    r.append(crf_debevec[i][0][2])\n",
        "\n",
        "b=np.array(b)    \n",
        "g=np.array(g)    \n",
        "r=np.array(r)    \n",
        "\n",
        "b=minmax_scale(b)\n",
        "\n",
        "g=minmax_scale(g)\n",
        "\n",
        "r=minmax_scale(r)\n",
        "plt.plot(p,b)\n",
        "plt.plot(p,g)\n",
        "plt.plot(p,r)\n",
        "    \n",
        "\n",
        "\n",
        "images=[]\n",
        "for im in user_img : \n",
        "  images.append(cv.imread(im))\n",
        "\n",
        "\n",
        "\n",
        "print(np.shape(user_img2))\n",
        "print(np.shape(exposure_times2))\n",
        "\n",
        "cal_debevec = cv.createCalibrateDebevec()\n",
        "crf_debevec = cal_debevec.process(images,times=exposure_times)\n",
        "\n",
        "\n",
        "p = np.arange(0,256)\n",
        "b=[]\n",
        "g=[]\n",
        "r=[]\n",
        "for i in range(0,256,1):\n",
        "    b.append(crf_debevec[i][0][0])\n",
        "    g.append(crf_debevec[i][0][1])\n",
        "    r.append(crf_debevec[i][0][2])\n",
        "\n",
        "    \n",
        "\n",
        "b=np.array(b)    \n",
        "g=np.array(g)    \n",
        "r=np.array(r)    \n",
        "\n",
        "b=minmax_scale(b)\n",
        "\n",
        "g=minmax_scale(g)\n",
        "\n",
        "r=minmax_scale(r)\n",
        "plt.plot(p,b)\n",
        "plt.plot(p,g)\n",
        "plt.plot(p,r)\n",
        "    \n",
        "  \n",
        "\n",
        "images=[]\n",
        "for im in user_img2 : \n",
        "  images.append(cv.imread(im))\n",
        "\n",
        "\n",
        "cal_debevec = cv.createCalibrateDebevec()\n",
        "crf_debevec = cal_debevec.process(images,times=exposure_times2)\n",
        "\n",
        "\n",
        "p = np.arange(0,256)\n",
        "b=[]\n",
        "g=[]\n",
        "r=[]\n",
        "for i in range(0,256,1):\n",
        "    b.append(crf_debevec[i][0][0])\n",
        "    g.append(crf_debevec[i][0][1])\n",
        "    r.append(crf_debevec[i][0][2])\n",
        "\n",
        "\n",
        "b=np.array(b)    \n",
        "g=np.array(g)    \n",
        "r=np.array(r)    \n",
        "\n",
        "b=minmax_scale(b)\n",
        "\n",
        "g=minmax_scale(g)\n",
        "\n",
        "r=minmax_scale(r)\n",
        "plt.plot(p,b)\n",
        "plt.plot(p,g)\n",
        "plt.plot(p,r)\n",
        "\n",
        "# #f , ax = plt.subplots(1,2,figsize = (40,40))\n",
        "# # ax[0].plot(p,b)\n",
        "# # ax[1].plot(p,g)\n",
        "# # ax[2].plot(p,g)\n",
        "\n",
        "# # channel = [b,g,r]\n",
        "\n",
        "# # for i in channel:\n",
        "# #     ax[3].plot(p,i)\n",
        "\n",
        "\n",
        "# #CHECKING FOR INDEPENDENT EXPOSURE TIME - DOESNT WORK \n",
        "# #CHECKING FOR NORMALISATION \n",
        "\n",
        "\n"
      ],
      "execution_count": 28,
      "outputs": [
        {
          "output_type": "stream",
          "text": [
            "(3,)\n",
            "(3,)\n",
            "(4,)\n",
            "(4,)\n",
            "(6,)\n",
            "(6,)\n"
          ],
          "name": "stdout"
        },
        {
          "output_type": "execute_result",
          "data": {
            "text/plain": [
              "[<matplotlib.lines.Line2D at 0x7f7b7b935fd0>]"
            ]
          },
          "metadata": {
            "tags": []
          },
          "execution_count": 28
        },
        {
          "output_type": "display_data",
          "data": {
            "image/png": "[encoded data removed]",
            "text/plain": [
              "<Figure size 432x288 with 1 Axes>"
            ]
          },
          "metadata": {
            "tags": []
          }
        }
      ]
    },
    {
      "cell_type": "code",
      "metadata": {
        "id": "kbUdUR8VMqrg",
        "colab_type": "code",
        "colab": {}
      },
      "source": [
        ""
      ],
      "execution_count": 0,
      "outputs": []
    }
  ]
}