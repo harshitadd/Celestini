{
  "nbformat": 4,
  "nbformat_minor": 0,
  "metadata": {
    "colab": {
      "name": "constantfinder.ipynb",
      "version": "0.3.2",
      "provenance": [],
      "include_colab_link": true
    },
    "kernelspec": {
      "name": "python3",
      "display_name": "Python 3"
    },
    "accelerator": "GPU"
  },
  "cells": [
    {
      "cell_type": "markdown",
      "metadata": {
        "id": "view-in-github",
        "colab_type": "text"
      },
      "source": [
        "<a href=\"https://colab.research.google.com/github/harshitadd/Celestini/blob/master/constantfinder.ipynb\" target=\"_parent\"><img src=\"https://colab.research.google.com/assets/colab-badge.svg\" alt=\"Open In Colab\"/></a>"
      ]
    },
    {
      "cell_type": "code",
      "metadata": {
        "id": "mQchns52IbcQ",
        "colab_type": "code",
        "colab": {}
      },
      "source": [
        "import tensorflow as tf \n",
        "import numpy as np \n",
        "#!pip install unrar "
      ],
      "execution_count": 0,
      "outputs": []
    },
    {
      "cell_type": "code",
      "metadata": {
        "id": "-w5T2Tr9X9bN",
        "colab_type": "code",
        "colab": {
          "base_uri": "https://localhost:8080/",
          "height": 1000
        },
        "outputId": "43870294-94be-4a4c-b5fd-b5a2e28ca144"
      },
      "source": [
        "!unrar e '/content/drive/My Drive/data.rar'\n",
        "\n",
        "#rar = rarfile.RarFile('/content/drive/My Drive/data.rar')"
      ],
      "execution_count": 9,
      "outputs": [
        {
          "output_type": "stream",
          "text": [
            "\n",
            "UNRAR 5.50 freeware      Copyright (c) 1993-2017 Alexander Roshal\n",
            "\n",
            "\n",
            "Extracting from /content/drive/My Drive/data.rar\n",
            "\n",
            "Extracting  1.jpg                                                        \b\b\b\b  0%\b\b\b\b\b  OK \n",
            "Extracting  10.jpg                                                       \b\b\b\b  0%\b\b\b\b\b  OK \n",
            "Extracting  11.jpg                                                       \b\b\b\b  1%\b\b\b\b\b  OK \n",
            "Extracting  12.jpg                                                       \b\b\b\b  1%\b\b\b\b\b  OK \n",
            "Extracting  13.jpg                                                       \b\b\b\b  1%\b\b\b\b\b  OK \n",
            "Extracting  14.jpg                                                       \b\b\b\b  2%\b\b\b\b\b  OK \n",
            "Extracting  15.jpg                                                       \b\b\b\b  2%\b\b\b\b\b  OK \n",
            "Extracting  16.jpg                                                       \b\b\b\b  2%\b\b\b\b\b  OK \n",
            "Extracting  17.jpg                                                       \b\b\b\b  2%\b\b\b\b\b  OK \n",
            "Extracting  18.jpg                                                       \b\b\b\b  2%\b\b\b\b\b  OK \n",
            "Extracting  19.jpg                                                       \b\b\b\b  2%\b\b\b\b\b  OK \n",
            "Extracting  2.jpg                                                        \b\b\b\b  3%\b\b\b\b\b  OK \n",
            "Extracting  20.jpg                                                       \b\b\b\b  3%\b\b\b\b\b  OK \n",
            "Extracting  21.jpg                                                       \b\b\b\b  3%\b\b\b\b\b  OK \n",
            "Extracting  22.jpg                                                       \b\b\b\b  3%\b\b\b\b\b  OK \n",
            "Extracting  23.jpg                                                       \b\b\b\b  4%\b\b\b\b\b  OK \n",
            "Extracting  24.jpg                                                       \b\b\b\b  4%\b\b\b\b\b  OK \n",
            "Extracting  25.jpg                                                       \b\b\b\b  5%\b\b\b\b\b  OK \n",
            "Extracting  26.jpg                                                       \b\b\b\b  5%\b\b\b\b\b  OK \n",
            "Extracting  27.jpg                                                       \b\b\b\b  5%\b\b\b\b\b  OK \n",
            "Extracting  3.jpg                                                        \b\b\b\b  6%\b\b\b\b\b  OK \n",
            "Extracting  4.jpg                                                        \b\b\b\b  6%\b\b\b\b\b  OK \n",
            "Extracting  5.jpg                                                        \b\b\b\b  6%\b\b\b\b\b  OK \n",
            "Extracting  6.jpg                                                        \b\b\b\b  7%\b\b\b\b\b  OK \n",
            "Extracting  7.jpg                                                        \b\b\b\b  7%\b\b\b\b\b  OK \n",
            "Extracting  8.jpg                                                        \b\b\b\b  7%\b\b\b\b\b  OK \n",
            "Extracting  9.jpg                                                        \b\b\b\b  8%\b\b\b\b\b  OK \n",
            "Extracting  01_outdoor_GT.jpg                                            \b\b\b\b  8%\b\b\b\b  9%\b\b\b\b 10%\b\b\b\b\b  OK \n",
            "Extracting  01_outdoor_hazy.jpg                                          \b\b\b\b 10%\b\b\b\b 11%\b\b\b\b\b  OK \n",
            "Extracting  03_outdoor_GT.JPG                                            \b\b\b\b 12%\b\b\b\b 13%\b\b\b\b\b  OK \n",
            "Extracting  03_outdoor_hazy.JPG                                          \b\b\b\b 14%\b\b\b\b\b  OK \n",
            "Extracting  04_outdoor_GT.jpg                                            \b\b\b\b 16%\b\b\b\b\b  OK \n",
            "Extracting  04_outdoor_hazy.jpg                                          \b\b\b\b 17%\b\b\b\b\b  OK \n",
            "Extracting  05_outdoor_hazy.jpg                                          \b\b\b\b 18%\b\b\b\b 19%\b\b\b\b\b  OK \n",
            "Extracting  07_outdoor_GT.jpg                                            \b\b\b\b 20%\b\b\b\b 21%\b\b\b\b\b  OK \n",
            "Extracting  08_outdoor_hazy.jpg                                          \b\b\b\b 22%\b\b\b\b\b  OK \n",
            "Extracting  10_outdoor_GT.jpg                                            \b\b\b\b 22%\b\b\b\b 23%\b\b\b\b 24%\b\b\b\b\b  OK \n",
            "Extracting  10_outdoor_hazy.jpg                                          \b\b\b\b 24%\b\b\b\b 25%\b\b\b\b\b  OK \n",
            "Extracting  11_outdoor_GT.jpg                                            \b\b\b\b 25%\b\b\b\b 26%\b\b\b\b 27%\b\b\b\b\b  OK \n",
            "Extracting  12_outdoor_hazy.jpg                                          \b\b\b\b 27%\b\b\b\b 28%\b\b\b\b 29%\b\b\b\b\b  OK \n",
            "Extracting  13_outdoor_GT.jpg                                            \b\b\b\b 29%\b\b\b\b 30%\b\b\b\b 31%\b\b\b\b\b  OK \n",
            "Extracting  13_outdoor_hazy.jpg                                          \b\b\b\b 31%\b\b\b\b 32%\b\b\b\b\b  OK \n",
            "Extracting  14_outdoor_GT.jpg                                            \b\b\b\b 32%\b\b\b\b 33%\b\b\b\b 34%\b\b\b\b 35%\b\b\b\b\b  OK \n",
            "Extracting  14_outdoor_hazy.jpg                                          \b\b\b\b 35%\b\b\b\b 36%\b\b\b\b 37%\b\b\b\b\b  OK \n",
            "Extracting  16_outdoor_GT.jpg                                            \b\b\b\b 37%\b\b\b\b 38%\b\b\b\b 39%\b\b\b\b 40%\b\b\b\b\b  OK \n",
            "Extracting  17_outdoor_hazy.jpg                                          \b\b\b\b 40%\b\b\b\b 41%\b\b\b\b\b  OK \n",
            "Extracting  18_outdoor_GT.jpg                                            \b\b\b\b 42%\b\b\b\b\b  OK \n",
            "Extracting  19_outdoor_GT.jpg                                            \b\b\b\b 43%\b\b\b\b 45%\b\b\b\b\b  OK \n",
            "Extracting  19_outdoor_hazy.jpg                                          \b\b\b\b 45%\b\b\b\b 46%\b\b\b\b 47%\b\b\b\b 48%\b\b\b\b\b  OK \n",
            "Extracting  20_outdoor_hazy.jpg                                          \b\b\b\b 48%\b\b\b\b 49%\b\b\b\b 50%\b\b\b\b\b  OK \n",
            "Extracting  21_outdoor_GT.JPG                                            \b\b\b\b 51%\b\b\b\b 52%\b\b\b\b\b  OK \n",
            "Extracting  21_outdoor_hazy.JPG                                          \b\b\b\b 53%\b\b\b\b\b  OK \n",
            "Extracting  23_outdoor_GT.jpg                                            \b\b\b\b 53%\b\b\b\b 54%\b\b\b\b 55%\b\b\b\b\b  OK \n",
            "Extracting  23_outdoor_hazy.jpg                                          \b\b\b\b 55%\b\b\b\b 56%\b\b\b\b 57%\b\b\b\b\b  OK \n",
            "Extracting  24_outdoor_hazy.jpg                                          \b\b\b\b 57%\b\b\b\b 58%\b\b\b\b 59%\b\b\b\b\b  OK \n",
            "Extracting  25_outdoor_GT.jpg                                            \b\b\b\b 60%\b\b\b\b 61%\b\b\b\b\b  OK \n",
            "Extracting  25_outdoor_hazy.jpg                                          \b\b\b\b 62%\b\b\b\b 63%\b\b\b\b\b  OK \n",
            "Extracting  28_outdoor_GT.jpg                                            \b\b\b\b 64%\b\b\b\b\b  OK \n",
            "Extracting  28_outdoor_hazy.jpg                                          \b\b\b\b 65%\b\b\b\b\b  OK \n",
            "Extracting  30_outdoor_GT.jpg                                            \b\b\b\b 66%\b\b\b\b 67%\b\b\b\b\b  OK \n",
            "Extracting  30_outdoor_hazy.jpg                                          \b\b\b\b 67%\b\b\b\b 68%\b\b\b\b\b  OK \n",
            "Extracting  31_outdoor_GT.jpg                                            \b\b\b\b 69%\b\b\b\b\b  OK \n",
            "Extracting  31_outdoor_hazy.jpg                                          \b\b\b\b 69%\b\b\b\b 70%\b\b\b\b\b  OK \n",
            "Extracting  34_outdoor_GT.jpg                                            \b\b\b\b 71%\b\b\b\b 73%\b\b\b\b 74%\b\b\b\b\b  OK \n",
            "Extracting  34_outdoor_hazy.jpg                                          \b\b\b\b 74%\b\b\b\b 75%\b\b\b\b 76%\b\b\b\b 77%\b\b\b\b\b  OK \n",
            "Extracting  35_outdoor_hazy.jpg                                          \b\b\b\b 77%\b\b\b\b\b  OK \n",
            "Extracting  37_outdoor_GT.jpg                                            \b\b\b\b 78%\b\b\b\b 79%\b\b\b\b 80%\b\b\b\b\b  OK \n",
            "Extracting  37_outdoor_hazy.jpg                                          \b\b\b\b 80%\b\b\b\b 81%\b\b\b\b 82%\b\b\b\b\b  OK \n",
            "Extracting  38_outdoor_GT.jpg                                            \b\b\b\b 82%\b\b\b\b 83%\b\b\b\b 84%\b\b\b\b\b  OK \n",
            "Extracting  39_outdoor_hazy.jpg                                          \b\b\b\b 84%\b\b\b\b 85%\b\b\b\b\b  OK \n",
            "Extracting  40_outdoor_GT.jpg                                            \b\b\b\b 86%\b\b\b\b 87%\b\b\b\b\b  OK \n",
            "Extracting  40_outdoor_hazy.jpg                                          \b\b\b\b 87%\b\b\b\b 88%\b\b\b\b 89%\b\b\b\b\b  OK \n",
            "Extracting  42_outdoor_GT.jpg                                            \b\b\b\b 89%\b\b\b\b 90%\b\b\b\b 91%\b\b\b\b 92%\b\b\b\b\b  OK \n",
            "Extracting  42_outdoor_hazy.jpg                                          \b\b\b\b 93%\b\b\b\b 94%\b\b\b\b\b  OK \n",
            "Extracting  43_outdoor_GT.jpg                                            \b\b\b\b 95%\b\b\b\b 96%\b\b\b\b\b  OK \n",
            "Extracting  44_outdoor_GT.jpg                                            \b\b\b\b 98%\b\b\b\b\b  OK \n",
            "Extracting  45_outdoor_hazy.jpg                                          \b\b\b\b 98%\b\b\b\b 99%\b\b\b\b\b  OK \n",
            "Extracting  filr.txt                                                     \b\b\b\b 99%\b\b\b\b\b  OK \n",
            "Extracting  Book1.xlsx                                                   \b\b\b\b 99%\b\b\b\b\b  OK \n",
            "All OK\n"
          ],
          "name": "stdout"
        }
      ]
    },
    {
      "cell_type": "code",
      "metadata": {
        "id": "5SR2uyElWqBx",
        "colab_type": "code",
        "colab": {
          "base_uri": "https://localhost:8080/",
          "height": 123
        },
        "outputId": "751da39a-74dc-4a1d-f873-7e82330e8b04"
      },
      "source": [
        "from google.colab import drive\n",
        "drive.mount('/content/drive')"
      ],
      "execution_count": 2,
      "outputs": [
        {
          "output_type": "stream",
          "text": [
            "Go to this URL in a browser: https://accounts.google.com/o/oauth2/auth?client_id=947318989803-6bn6qk8qdgf4n4g3pfee6491hc0brc4i.apps.googleusercontent.com&redirect_uri=urn%3Aietf%3Awg%3Aoauth%3A2.0%3Aoob&scope=email%20https%3A%2F%2Fwww.googleapis.com%2Fauth%2Fdocs.test%20https%3A%2F%2Fwww.googleapis.com%2Fauth%2Fdrive%20https%3A%2F%2Fwww.googleapis.com%2Fauth%2Fdrive.photos.readonly%20https%3A%2F%2Fwww.googleapis.com%2Fauth%2Fpeopleapi.readonly&response_type=code\n",
            "\n",
            "Enter your authorization code:\n",
            "··········\n",
            "Mounted at /content/drive\n"
          ],
          "name": "stdout"
        }
      ]
    },
    {
      "cell_type": "code",
      "metadata": {
        "id": "h8sqadAmWjwF",
        "colab_type": "code",
        "colab": {}
      },
      "source": [
        "import os \n",
        "\n",
        "source = os.listdir('/content/')\n"
      ],
      "execution_count": 0,
      "outputs": []
    },
    {
      "cell_type": "code",
      "metadata": {
        "id": "bFgRN3endqDV",
        "colab_type": "code",
        "colab": {}
      },
      "source": [
        "im = []\n",
        "for file in source:\n",
        "  if(file.endswith('.jpg')):\n",
        "    im.append(file)"
      ],
      "execution_count": 0,
      "outputs": []
    },
    {
      "cell_type": "code",
      "metadata": {
        "id": "XjFq6Bexfl2P",
        "colab_type": "code",
        "colab": {
          "base_uri": "https://localhost:8080/",
          "height": 71
        },
        "outputId": "4c90efb4-646f-4789-986f-a688bae3dfcb"
      },
      "source": [
        "print(len(im))\n",
        "print(im)\n",
        "\n"
      ],
      "execution_count": 22,
      "outputs": [
        {
          "output_type": "stream",
          "text": [
            "73\n",
            "['37_outdoor_GT.jpg', '19_outdoor_hazy.jpg', '1.jpg', '01_outdoor_hazy.jpg', '10.jpg', '42_outdoor_GT.jpg', '28_outdoor_GT.jpg', '39_outdoor_hazy.jpg', '2.jpg', '11.jpg', '40_outdoor_GT.jpg', '04_outdoor_GT.jpg', '28_outdoor_hazy.jpg', '37_outdoor_hazy.jpg', '9.jpg', '17.jpg', '45_outdoor_hazy.jpg', '14_outdoor_hazy.jpg', '20.jpg', '14.jpg', '20_outdoor_hazy.jpg', '44_outdoor_GT.jpg', '40_outdoor_hazy.jpg', '24_outdoor_hazy.jpg', '22.jpg', '14_outdoor_GT.jpg', '25_outdoor_GT.jpg', '8.jpg', '31_outdoor_GT.jpg', '18_outdoor_GT.jpg', '21.jpg', '19.jpg', '13.jpg', '30_outdoor_GT.jpg', '4.jpg', '27.jpg', '25.jpg', '12.jpg', '42_outdoor_hazy.jpg', '07_outdoor_GT.jpg', '43_outdoor_GT.jpg', '7.jpg', '16_outdoor_GT.jpg', '38_outdoor_GT.jpg', '04_outdoor_hazy.jpg', '24.jpg', '19_outdoor_GT.jpg', '10_outdoor_GT.jpg', '13_outdoor_hazy.jpg', '16.jpg', '25_outdoor_hazy.jpg', '10_outdoor_hazy.jpg', '30_outdoor_hazy.jpg', '3.jpg', '34_outdoor_GT.jpg', '05_outdoor_hazy.jpg', '6.jpg', '18.jpg', '13_outdoor_GT.jpg', '23_outdoor_GT.jpg', '15.jpg', '31_outdoor_hazy.jpg', '01_outdoor_GT.jpg', '23.jpg', '17_outdoor_hazy.jpg', '26.jpg', '5.jpg', '12_outdoor_hazy.jpg', '08_outdoor_hazy.jpg', '23_outdoor_hazy.jpg', '35_outdoor_hazy.jpg', '11_outdoor_GT.jpg', '34_outdoor_hazy.jpg']\n"
          ],
          "name": "stdout"
        }
      ]
    },
    {
      "cell_type": "code",
      "metadata": {
        "id": "OsENxArWBelW",
        "colab_type": "code",
        "colab": {}
      },
      "source": [
        "mnx=[]\n",
        "for img in images:\n",
        "  im = cv2.imread(img)\n",
        "  im = cv2.resize(im, (256,256))\n",
        "  b,g,r = cv2.split(im) \n",
        "  mnx.append(b)\n",
        "  mnx.append(g)\n",
        "  mnx.append(r)\n",
        "  D = min(mnx)\n",
        "  B = max(mnx)\n",
        "  C = B-D \n",
        "  "
      ],
      "execution_count": 0,
      "outputs": []
    },
    {
      "cell_type": "code",
      "metadata": {
        "id": "bJMCiYduJNH-",
        "colab_type": "code",
        "colab": {}
      },
      "source": [
        "x1=tf.placeholder(dtype = tf.float32, shape = (None,1))\n",
        "x2=tf.placeholder(dtype = tf.float32, shape= (None,1))\n",
        "\n",
        "u =tf.Variable(5.1)\n",
        "v =tf.Variable(2.9)\n",
        "s =tf.Variable(0.2461)\n",
        "\n",
        "h = tf.math.exp(-0.5**(u*x1 + v*x2)+s)\n",
        "\n",
        "init = tf.global_variables_initializer()\n",
        "\n",
        "with tf.Session() as sess:\n",
        "  "
      ],
      "execution_count": 0,
      "outputs": []
    },
    {
      "cell_type": "code",
      "metadata": {
        "id": "HlpNFxxNAY_C",
        "colab_type": "code",
        "colab": {}
      },
      "source": [
        ""
      ],
      "execution_count": 0,
      "outputs": []
    }
  ]
}