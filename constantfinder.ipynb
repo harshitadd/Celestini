{
  "nbformat": 4,
  "nbformat_minor": 0,
  "metadata": {
    "colab": {
      "name": "constantfinder.ipynb",
      "version": "0.3.2",
      "provenance": [],
      "include_colab_link": true
    },
    "kernelspec": {
      "name": "python3",
      "display_name": "Python 3"
    },
    "accelerator": "GPU"
  },
  "cells": [
    {
      "cell_type": "markdown",
      "metadata": {
        "id": "view-in-github",
        "colab_type": "text"
      },
      "source": [
        "<a href=\"https://colab.research.google.com/github/harshitadd/Celestini/blob/master/constantfinder.ipynb\" target=\"_parent\"><img src=\"https://colab.research.google.com/assets/colab-badge.svg\" alt=\"Open In Colab\"/></a>"
      ]
    },
    {
      "cell_type": "code",
      "metadata": {
        "id": "mQchns52IbcQ",
        "colab_type": "code",
        "colab": {}
      },
      "source": [
        "import tensorflow as tf \n",
        "import numpy as np \n",
        "import csv\n",
        "import os \n",
        "import cv2\n",
        "from google.colab.patches import cv2_imshow\n",
        "import numpy as np\n",
        "\n",
        "#!pip install unrar "
      ],
      "execution_count": 0,
      "outputs": []
    },
    {
      "cell_type": "code",
      "metadata": {
        "id": "-w5T2Tr9X9bN",
        "colab_type": "code",
        "colab": {
          "base_uri": "https://localhost:8080/",
          "height": 1000
        },
        "outputId": "e22505b3-4d0b-4c37-e4c0-197d16a0e7c5"
      },
      "source": [
        "!unrar e '/content/drive/My Drive/data.rar'\n",
        "\n",
        "#rar = rarfile.RarFile('/content/drive/My Drive/data.rar')"
      ],
      "execution_count": 55,
      "outputs": [
        {
          "output_type": "stream",
          "text": [
            "\n",
            "UNRAR 5.50 freeware      Copyright (c) 1993-2017 Alexander Roshal\n",
            "\n",
            "\n",
            "Extracting from /content/drive/My Drive/data.rar\n",
            "\n",
            "\n",
            "Would you like to replace the existing file 1.jpg\n",
            "1164390 bytes, modified on 2019-07-23 17:53\n",
            "with a new one\n",
            "1164390 bytes, modified on 2019-07-23 17:53\n",
            "\n",
            "[Y]es, [N]o, [A]ll, n[E]ver, [R]ename, [Q]uit Y\n",
            "\n",
            "Extracting  1.jpg                                                        \b\b\b\b  0%\b\b\b\b\b  OK \n",
            "\n",
            "Would you like to replace the existing file 10.jpg\n",
            "1679826 bytes, modified on 2019-07-23 18:04\n",
            "with a new one\n",
            "1679826 bytes, modified on 2019-07-23 18:04\n",
            "\n",
            "[Y]es, [N]o, [A]ll, n[E]ver, [R]ename, [Q]uit A\n",
            "\n",
            "Extracting  10.jpg                                                       \b\b\b\b  0%\b\b\b\b\b  OK \n",
            "Extracting  11.jpg                                                       \b\b\b\b  1%\b\b\b\b\b  OK \n",
            "Extracting  12.jpg                                                       \b\b\b\b  1%\b\b\b\b\b  OK \n",
            "Extracting  13.jpg                                                       \b\b\b\b  1%\b\b\b\b\b  OK \n",
            "Extracting  14.jpg                                                       \b\b\b\b  2%\b\b\b\b\b  OK \n",
            "Extracting  15.jpg                                                       \b\b\b\b  2%\b\b\b\b\b  OK \n",
            "Extracting  16.jpg                                                       \b\b\b\b  2%\b\b\b\b\b  OK \n",
            "Extracting  17.jpg                                                       \b\b\b\b  2%\b\b\b\b\b  OK \n",
            "Extracting  18.jpg                                                       \b\b\b\b  2%\b\b\b\b\b  OK \n",
            "Extracting  19.jpg                                                       \b\b\b\b  2%\b\b\b\b\b  OK \n",
            "Extracting  2.jpg                                                        \b\b\b\b  3%\b\b\b\b\b  OK \n",
            "Extracting  20.jpg                                                       \b\b\b\b  3%\b\b\b\b\b  OK \n",
            "Extracting  21.jpg                                                       \b\b\b\b  3%\b\b\b\b\b  OK \n",
            "Extracting  22.jpg                                                       \b\b\b\b  3%\b\b\b\b\b  OK \n",
            "Extracting  23.jpg                                                       \b\b\b\b  4%\b\b\b\b\b  OK \n",
            "Extracting  24.jpg                                                       \b\b\b\b  4%\b\b\b\b\b  OK \n",
            "Extracting  25.jpg                                                       \b\b\b\b  5%\b\b\b\b\b  OK \n",
            "Extracting  26.jpg                                                       \b\b\b\b  5%\b\b\b\b\b  OK \n",
            "Extracting  27.jpg                                                       \b\b\b\b  5%\b\b\b\b\b  OK \n",
            "Extracting  3.jpg                                                        \b\b\b\b  6%\b\b\b\b\b  OK \n",
            "Extracting  4.jpg                                                        \b\b\b\b  6%\b\b\b\b\b  OK \n",
            "Extracting  5.jpg                                                        \b\b\b\b  6%\b\b\b\b\b  OK \n",
            "Extracting  6.jpg                                                        \b\b\b\b  7%\b\b\b\b\b  OK \n",
            "Extracting  7.jpg                                                        \b\b\b\b  7%\b\b\b\b\b  OK \n",
            "Extracting  8.jpg                                                        \b\b\b\b  7%\b\b\b\b\b  OK \n",
            "Extracting  9.jpg                                                        \b\b\b\b  8%\b\b\b\b\b  OK \n",
            "Extracting  01_outdoor_GT.jpg                                            \b\b\b\b  8%\b\b\b\b  9%\b\b\b\b 10%\b\b\b\b\b  OK \n",
            "Extracting  01_outdoor_hazy.jpg                                          \b\b\b\b 10%\b\b\b\b 11%\b\b\b\b\b  OK \n",
            "Extracting  03_outdoor_GT.JPG                                            \b\b\b\b 12%\b\b\b\b 13%\b\b\b\b\b  OK \n",
            "Extracting  03_outdoor_hazy.JPG                                          \b\b\b\b 14%\b\b\b\b\b  OK \n",
            "Extracting  04_outdoor_GT.jpg                                            \b\b\b\b 16%\b\b\b\b\b  OK \n",
            "Extracting  04_outdoor_hazy.jpg                                          \b\b\b\b 17%\b\b\b\b\b  OK \n",
            "Extracting  05_outdoor_hazy.jpg                                          \b\b\b\b 18%\b\b\b\b 19%\b\b\b\b\b  OK \n",
            "Extracting  07_outdoor_GT.jpg                                            \b\b\b\b 20%\b\b\b\b 21%\b\b\b\b\b  OK \n",
            "Extracting  08_outdoor_hazy.jpg                                          \b\b\b\b 22%\b\b\b\b\b  OK \n",
            "Extracting  10_outdoor_GT.jpg                                            \b\b\b\b 22%\b\b\b\b 23%\b\b\b\b 24%\b\b\b\b\b  OK \n",
            "Extracting  10_outdoor_hazy.jpg                                          \b\b\b\b 24%\b\b\b\b 25%\b\b\b\b\b  OK \n",
            "Extracting  11_outdoor_GT.jpg                                            \b\b\b\b 25%\b\b\b\b 26%\b\b\b\b 27%\b\b\b\b\b  OK \n",
            "Extracting  12_outdoor_hazy.jpg                                          \b\b\b\b 27%\b\b\b\b 28%\b\b\b\b 29%\b\b\b\b\b  OK \n",
            "Extracting  13_outdoor_GT.jpg                                            \b\b\b\b 29%\b\b\b\b 30%\b\b\b\b 31%\b\b\b\b\b  OK \n",
            "Extracting  13_outdoor_hazy.jpg                                          \b\b\b\b 31%\b\b\b\b 32%\b\b\b\b\b  OK \n",
            "Extracting  14_outdoor_GT.jpg                                            \b\b\b\b 32%\b\b\b\b 33%\b\b\b\b 34%\b\b\b\b 35%\b\b\b\b\b  OK \n",
            "Extracting  14_outdoor_hazy.jpg                                          \b\b\b\b 35%\b\b\b\b 36%\b\b\b\b 37%\b\b\b\b\b  OK \n",
            "Extracting  16_outdoor_GT.jpg                                            \b\b\b\b 37%\b\b\b\b 38%\b\b\b\b 39%\b\b\b\b 40%\b\b\b\b\b  OK \n",
            "Extracting  17_outdoor_hazy.jpg                                          \b\b\b\b 40%\b\b\b\b 41%\b\b\b\b\b  OK \n",
            "Extracting  18_outdoor_GT.jpg                                            \b\b\b\b 42%\b\b\b\b\b  OK \n",
            "Extracting  19_outdoor_GT.jpg                                            \b\b\b\b 43%\b\b\b\b 45%\b\b\b\b\b  OK \n",
            "Extracting  19_outdoor_hazy.jpg                                          \b\b\b\b 45%\b\b\b\b 46%\b\b\b\b 47%\b\b\b\b 48%\b\b\b\b\b  OK \n",
            "Extracting  20_outdoor_hazy.jpg                                          \b\b\b\b 48%\b\b\b\b 49%\b\b\b\b 50%\b\b\b\b\b  OK \n",
            "Extracting  21_outdoor_GT.JPG                                            \b\b\b\b 51%\b\b\b\b 52%\b\b\b\b\b  OK \n",
            "Extracting  21_outdoor_hazy.JPG                                          \b\b\b\b 53%\b\b\b\b\b  OK \n",
            "Extracting  23_outdoor_GT.jpg                                            \b\b\b\b 53%\b\b\b\b 54%\b\b\b\b 55%\b\b\b\b\b  OK \n",
            "Extracting  23_outdoor_hazy.jpg                                          \b\b\b\b 55%\b\b\b\b 56%\b\b\b\b 57%\b\b\b\b\b  OK \n",
            "Extracting  24_outdoor_hazy.jpg                                          \b\b\b\b 57%\b\b\b\b 58%\b\b\b\b 59%\b\b\b\b\b  OK \n",
            "Extracting  25_outdoor_GT.jpg                                            \b\b\b\b 60%\b\b\b\b 61%\b\b\b\b\b  OK \n",
            "Extracting  25_outdoor_hazy.jpg                                          \b\b\b\b 62%\b\b\b\b 63%\b\b\b\b\b  OK \n",
            "Extracting  28_outdoor_GT.jpg                                            \b\b\b\b 64%\b\b\b\b\b  OK \n",
            "Extracting  28_outdoor_hazy.jpg                                          \b\b\b\b 65%\b\b\b\b\b  OK \n",
            "Extracting  30_outdoor_GT.jpg                                            \b\b\b\b 66%\b\b\b\b 67%\b\b\b\b\b  OK \n",
            "Extracting  30_outdoor_hazy.jpg                                          \b\b\b\b 67%\b\b\b\b 68%\b\b\b\b\b  OK \n",
            "Extracting  31_outdoor_GT.jpg                                            \b\b\b\b 69%\b\b\b\b\b  OK \n",
            "Extracting  31_outdoor_hazy.jpg                                          \b\b\b\b 69%\b\b\b\b 70%\b\b\b\b\b  OK \n",
            "Extracting  34_outdoor_GT.jpg                                            \b\b\b\b 71%\b\b\b\b 73%\b\b\b\b 74%\b\b\b\b\b  OK \n",
            "Extracting  34_outdoor_hazy.jpg                                          \b\b\b\b 74%\b\b\b\b 75%\b\b\b\b 76%\b\b\b\b 77%\b\b\b\b\b  OK \n",
            "Extracting  35_outdoor_hazy.jpg                                          \b\b\b\b 77%\b\b\b\b\b  OK \n",
            "Extracting  37_outdoor_GT.jpg                                            \b\b\b\b 78%\b\b\b\b 79%\b\b\b\b 80%\b\b\b\b\b  OK \n",
            "Extracting  37_outdoor_hazy.jpg                                          \b\b\b\b 80%\b\b\b\b 81%\b\b\b\b 82%\b\b\b\b\b  OK \n",
            "Extracting  38_outdoor_GT.jpg                                            \b\b\b\b 82%\b\b\b\b 83%\b\b\b\b 84%\b\b\b\b\b  OK \n",
            "Extracting  39_outdoor_hazy.jpg                                          \b\b\b\b 84%\b\b\b\b 85%\b\b\b\b\b  OK \n",
            "Extracting  40_outdoor_GT.jpg                                            \b\b\b\b 86%\b\b\b\b 87%\b\b\b\b\b  OK \n",
            "Extracting  40_outdoor_hazy.jpg                                          \b\b\b\b 87%\b\b\b\b 88%\b\b\b\b 89%\b\b\b\b\b  OK \n",
            "Extracting  42_outdoor_GT.jpg                                            \b\b\b\b 89%\b\b\b\b 90%\b\b\b\b 91%\b\b\b\b 92%\b\b\b\b\b  OK \n",
            "Extracting  42_outdoor_hazy.jpg                                          \b\b\b\b 93%\b\b\b\b 94%\b\b\b\b\b  OK \n",
            "Extracting  43_outdoor_GT.jpg                                            \b\b\b\b 95%\b\b\b\b 96%\b\b\b\b\b  OK \n",
            "Extracting  44_outdoor_GT.jpg                                            \b\b\b\b 98%\b\b\b\b\b  OK \n",
            "Extracting  45_outdoor_hazy.jpg                                          \b\b\b\b 98%\b\b\b\b 99%\b\b\b\b\b  OK \n",
            "Extracting  filr.txt                                                     \b\b\b\b 99%\b\b\b\b\b  OK \n",
            "Extracting  Book1.xlsx                                                   \b\b\b\b 99%\b\b\b\b\b  OK \n",
            "All OK\n"
          ],
          "name": "stdout"
        }
      ]
    },
    {
      "cell_type": "code",
      "metadata": {
        "id": "5SR2uyElWqBx",
        "colab_type": "code",
        "colab": {
          "base_uri": "https://localhost:8080/",
          "height": 123
        },
        "outputId": "751da39a-74dc-4a1d-f873-7e82330e8b04"
      },
      "source": [
        "qqfrom google.colab import drive\n",
        "drive.mount('/content/drive')"
      ],
      "execution_count": 2,
      "outputs": [
        {
          "output_type": "stream",
          "text": [
            "Go to this URL in a browser: https://accounts.google.com/o/oauth2/auth?client_id=947318989803-6bn6qk8qdgf4n4g3pfee6491hc0brc4i.apps.googleusercontent.com&redirect_uri=urn%3Aietf%3Awg%3Aoauth%3A2.0%3Aoob&scope=email%20https%3A%2F%2Fwww.googleapis.com%2Fauth%2Fdocs.test%20https%3A%2F%2Fwww.googleapis.com%2Fauth%2Fdrive%20https%3A%2F%2Fwww.googleapis.com%2Fauth%2Fdrive.photos.readonly%20https%3A%2F%2Fwww.googleapis.com%2Fauth%2Fpeopleapi.readonly&response_type=code\n",
            "\n",
            "Enter your authorization code:\n",
            "··········\n",
            "Mounted at /content/drive\n"
          ],
          "name": "stdout"
        }
      ]
    },
    {
      "cell_type": "code",
      "metadata": {
        "id": "bFgRN3endqDV",
        "colab_type": "code",
        "colab": {}
      },
      "source": [
        "im_ohaze = []\n",
        "im_our =[]\n",
        "for file in source:\n",
        "  if(file.endswith('.jpg')):\n",
        "    if 'outdoor' in file:\n",
        "      im_ohaze.append(file)\n",
        "    else:\n",
        "      im_our.append(file)"
      ],
      "execution_count": 0,
      "outputs": []
    },
    {
      "cell_type": "code",
      "metadata": {
        "id": "YT0g79LP13Pn",
        "colab_type": "code",
        "colab": {
          "base_uri": "https://localhost:8080/",
          "height": 34
        },
        "outputId": "fee416a6-f721-4f90-b301-4e5632b9efc5"
      },
      "source": [
        "print(len(im_ohaze))"
      ],
      "execution_count": 30,
      "outputs": [
        {
          "output_type": "stream",
          "text": [
            "46\n"
          ],
          "name": "stdout"
        }
      ]
    },
    {
      "cell_type": "code",
      "metadata": {
        "id": "ISzh3BkxJXqi",
        "colab_type": "code",
        "colab": {
          "base_uri": "https://localhost:8080/",
          "height": 806
        },
        "outputId": "e4e6e575-9081-465b-a9e8-b3df0253eda8"
      },
      "source": [
        "for im in im_ohaze:\n",
        "  print(im)"
      ],
      "execution_count": 79,
      "outputs": [
        {
          "output_type": "stream",
          "text": [
            "37_outdoor_GT.jpg\n",
            "19_outdoor_hazy.jpg\n",
            "01_outdoor_hazy.jpg\n",
            "42_outdoor_GT.jpg\n",
            "28_outdoor_GT.jpg\n",
            "39_outdoor_hazy.jpg\n",
            "40_outdoor_GT.jpg\n",
            "04_outdoor_GT.jpg\n",
            "28_outdoor_hazy.jpg\n",
            "37_outdoor_hazy.jpg\n",
            "45_outdoor_hazy.jpg\n",
            "14_outdoor_hazy.jpg\n",
            "20_outdoor_hazy.jpg\n",
            "44_outdoor_GT.jpg\n",
            "40_outdoor_hazy.jpg\n",
            "24_outdoor_hazy.jpg\n",
            "14_outdoor_GT.jpg\n",
            "25_outdoor_GT.jpg\n",
            "31_outdoor_GT.jpg\n",
            "18_outdoor_GT.jpg\n",
            "30_outdoor_GT.jpg\n",
            "42_outdoor_hazy.jpg\n",
            "07_outdoor_GT.jpg\n",
            "43_outdoor_GT.jpg\n",
            "16_outdoor_GT.jpg\n",
            "38_outdoor_GT.jpg\n",
            "04_outdoor_hazy.jpg\n",
            "19_outdoor_GT.jpg\n",
            "10_outdoor_GT.jpg\n",
            "13_outdoor_hazy.jpg\n",
            "25_outdoor_hazy.jpg\n",
            "10_outdoor_hazy.jpg\n",
            "30_outdoor_hazy.jpg\n",
            "34_outdoor_GT.jpg\n",
            "05_outdoor_hazy.jpg\n",
            "13_outdoor_GT.jpg\n",
            "23_outdoor_GT.jpg\n",
            "31_outdoor_hazy.jpg\n",
            "01_outdoor_GT.jpg\n",
            "17_outdoor_hazy.jpg\n",
            "12_outdoor_hazy.jpg\n",
            "08_outdoor_hazy.jpg\n",
            "23_outdoor_hazy.jpg\n",
            "35_outdoor_hazy.jpg\n",
            "11_outdoor_GT.jpg\n",
            "34_outdoor_hazy.jpg\n"
          ],
          "name": "stdout"
        }
      ]
    },
    {
      "cell_type": "code",
      "metadata": {
        "id": "isIUzkIeJerU",
        "colab_type": "code",
        "colab": {
          "base_uri": "https://localhost:8080/",
          "height": 34
        },
        "outputId": "03876c9c-583b-43c7-9daa-b73157e04643"
      },
      "source": [
        "with open('/content/filr.txt') as file:\n",
        "  print(file)"
      ],
      "execution_count": 80,
      "outputs": [
        {
          "output_type": "stream",
          "text": [
            "<_io.TextIOWrapper name='/content/filr.txt' mode='r' encoding='UTF-8'>\n"
          ],
          "name": "stdout"
        }
      ]
    },
    {
      "cell_type": "code",
      "metadata": {
        "id": "OsENxArWBelW",
        "colab_type": "code",
        "colab": {}
      },
      "source": [
        "mnx=[]\n",
        "for img in images:\n",
        "  im = cv2.imread(img)\n",
        "  im = cv2.resize(im, (256,256))\n",
        "  b,g,r = cv2.split(im) \n",
        "  mnx.append(b)\n",
        "  mnx.append(g)\n",
        "  mnx.append(r)\n",
        "  D = min(mnx)\n",
        "  B = max(mnx)\n",
        "  C = B-D \n",
        "  "
      ],
      "execution_count": 0,
      "outputs": []
    },
    {
      "cell_type": "code",
      "metadata": {
        "id": "bJMCiYduJNH-",
        "colab_type": "code",
        "colab": {}
      },
      "source": [
        "x1=tf.placeholder(dtype = tf.float32, shape = (None,1))\n",
        "x2=tf.placeholder(dtype = tf.float32, shape= (None,1))\n",
        "\n",
        "u =tf.Variable(5.1)\n",
        "v =tf.Variable(2.9)\n",
        "s =tf.Variable(0.2461)\n",
        "\n",
        "h = tf.math.exp(-0.5**(u*x1 + v*x2)+s)\n",
        "\n",
        "init = tf.global_variables_initializer()\n",
        "\n",
        "with tf.Session() as sess:\n",
        "  "
      ],
      "execution_count": 0,
      "outputs": []
    },
    {
      "cell_type": "code",
      "metadata": {
        "id": "HlpNFxxNAY_C",
        "colab_type": "code",
        "colab": {}
      },
      "source": [
        "our_img_label=[]\n",
        "source = os.listdir('/content/')\n",
        "with open('/content/our_img.csv') as file:\n",
        "  reader = csv.reader(file, delimiter = ',')\n",
        "  for row in reader:\n",
        "    l=[]\n",
        "    l.append(row[0])\n",
        "    l.append(row[1])\n",
        "    our_img_label.append(l)"
      ],
      "execution_count": 0,
      "outputs": []
    },
    {
      "cell_type": "code",
      "metadata": {
        "id": "eoYWeGaYCgDt",
        "colab_type": "code",
        "colab": {}
      },
      "source": [
        "im_our.sort()\n",
        "temp=[]\n",
        "\n",
        "\n",
        "final_our={}\n",
        "\n",
        "for i in our_img_label:\n",
        "  for im in im_our:\n",
        "    if(i[0]==im[:-4]):   \n",
        "      final_our[im]=i[1]"
      ],
      "execution_count": 0,
      "outputs": []
    },
    {
      "cell_type": "code",
      "metadata": {
        "id": "bg4chXiFCk4r",
        "colab_type": "code",
        "colab": {
          "base_uri": "https://localhost:8080/",
          "height": 54
        },
        "outputId": "cd7ae793-a4b3-4a19-9529-a68ed0b6becc"
      },
      "source": [
        "print(final_our)"
      ],
      "execution_count": 192,
      "outputs": [
        {
          "output_type": "stream",
          "text": [
            "{'1.jpg': '0', '2.jpg': '0', '3.jpg': '1', '4.jpg': '1', '5.jpg': '0', '6.jpg': '0', '7.jpg': '1', '8.jpg': '0', '9.jpg': '0', '10.jpg': '0', '11.jpg': '1', '12.jpg': '1', '13.jpg': '0', '14.jpg': '0', '15.jpg': '0', '16.jpg': '1', '17.jpg': '0', '18.jpg': '0', '19.jpg': '0', '20.jpg': '0', '21.jpg': '0', '22.jpg': '1', '23.jpg': '0', '24.jpg': '0', '25.jpg': '0', '26.jpg': '0', '27.jpg': '0'}\n"
          ],
          "name": "stdout"
        }
      ]
    },
    {
      "cell_type": "code",
      "metadata": {
        "id": "cUVhjqBJQo8k",
        "colab_type": "code",
        "colab": {}
      },
      "source": [
        " with open('/content/OHAZE_LABELS.csv') as file:\n",
        "    reader = csv.reader(file, delimiter = ',')\n",
        "    for row in reader:\n",
        "      "
      ],
      "execution_count": 0,
      "outputs": []
    },
    {
      "cell_type": "code",
      "metadata": {
        "id": "v-vcscd0H4ZP",
        "colab_type": "code",
        "colab": {}
      },
      "source": [
        "for im in im_ohaze:\n",
        "  if 'GT' in im:\n",
        "    print(im[0:3]+im[-6:-4])\n",
        "#     im = cv2.imread('/content/' + im)\n",
        "#     im = cv2.resize(im, (8,8))\n",
        "  else:\n",
        "    print(im[0:2] + im[-9:-4])\n",
        "#     im = cv2.imread('/content/' + im)\n",
        "#     im = cv2.resize(im, (8,8))\n"
      ],
      "execution_count": 0,
      "outputs": []
    },
    {
      "cell_type": "code",
      "metadata": {
        "id": "gXqbPg3EiUAm",
        "colab_type": "code",
        "colab": {}
      },
      "source": [
        "ohaze=[]\n",
        "with open('/content/OHAZE_LABELS.csv') as file:\n",
        "  reader = csv.reader(file)\n",
        "  for row in reader:\n",
        "    l=[]\n",
        "    l.append(row[0])\n",
        "    l.append(row[1])\n",
        "    ohaze.append(l)"
      ],
      "execution_count": 0,
      "outputs": []
    },
    {
      "cell_type": "code",
      "metadata": {
        "id": "P-amCcbkndpx",
        "colab_type": "code",
        "colab": {}
      },
      "source": [
        "ohaze_labels={}\n",
        "\n",
        "for i in ohaze:\n",
        "  for im in im_ohaze:\n",
        "    if 'GT' in im:\n",
        "      if(im[0:3]+im[-6:-4])==i[0]:\n",
        "        ohaze_labels[im]=i[1]\n",
        "  #     im = cv2.imread('/content/' + im)\n",
        "  #     im = cv2.resize(im, (8,8))\n",
        "    elif(im[0:2] + im[-9:-4])==i[0]:\n",
        "        ohaze_labels[im]=i[1]\n",
        "#     im = cv2.imread('/content/' + im)\n",
        "#     im = cv2.resize(im, (8,8))\n"
      ],
      "execution_count": 0,
      "outputs": []
    },
    {
      "cell_type": "code",
      "metadata": {
        "id": "IXz5f_W8o6qH",
        "colab_type": "code",
        "colab": {
          "base_uri": "https://localhost:8080/",
          "height": 34
        },
        "outputId": "b430af0b-edfd-4777-febb-0f68e28b4408"
      },
      "source": [
        "print(len(ohaze_labels))"
      ],
      "execution_count": 144,
      "outputs": [
        {
          "output_type": "stream",
          "text": [
            "26\n"
          ],
          "name": "stdout"
        }
      ]
    },
    {
      "cell_type": "code",
      "metadata": {
        "id": "APcrTS-Grndd",
        "colab_type": "code",
        "colab": {}
      },
      "source": [
        "#Reading shanghai and Beijing files \n",
        "\n",
        "temp=[]\n",
        "s = os.listdir('/content/drive/My Drive/Omega/Images/shanghai haze/')\n",
        "for file in s:\n",
        "  temp.append(file)\n",
        "  \n",
        "s = os.listdir('/content/drive/My Drive/Omega/Labels/')\n",
        "\n",
        "newt=[]\n",
        "\n",
        "s = os.listdir('/content/drive/My Drive/Omega/Images/Beijing/')\n",
        "for file in s:\n",
        "  newt.append(file)"
      ],
      "execution_count": 0,
      "outputs": []
    },
    {
      "cell_type": "code",
      "metadata": {
        "id": "H7HUqoV_2Yth",
        "colab_type": "code",
        "colab": {}
      },
      "source": [
        "newt.sort()\n",
        "beijing=newt"
      ],
      "execution_count": 0,
      "outputs": []
    },
    {
      "cell_type": "code",
      "metadata": {
        "id": "QlVpmWFU2k6x",
        "colab_type": "code",
        "colab": {
          "base_uri": "https://localhost:8080/",
          "height": 54
        },
        "outputId": "871b5ea5-9e8f-4bcc-d463-3f9f21a84759"
      },
      "source": [
        "print(beijing)"
      ],
      "execution_count": 184,
      "outputs": [
        {
          "output_type": "stream",
          "text": [
            "['2014_01_06_0728.jpg', '2014_01_16_0716.jpg', '2014_03_11_0700.jpg', '2014_03_12_0701.jpg', '2014_03_17_0710.jpg', '2014_03_24_0701.jpg', '2014_03_25_0701.jpg', '2014_03_27_0701.jpg', '2014_04_01_0700.jpg', '2014_04_02_0701.jpg', '2014_04_14_0641.jpg', '2014_04_18_0653.jpg', '2014_04_19_0644.jpg', '2014_05_14_0617.jpg', '2014_05_24_0640.jpg', '2014_07_06_0636.jpg', '2014_07_22_0624.jpg', '2014_07_26_0607.jpg', '2014_07_29_0622.jpg', '2014_07_31_0623.jpg', '2014_08_12_0627.jpg', '2014_08_31_0642.jpg', '2014_09_02_0634.jpg', '2014_09_06_0641.jpg', '2014_09_08_0638.jpg', '2014_09_25_0645.jpg', '2014_10_08_0825.jpg', '2014_10_09_0801.jpg', '2014_10_11_0824.jpg', '2014_10_25_0643.jpg', '2014_10_26_0733.jpg', '2014_10_30_0653.jpg', '2014_10_31_0721.jpg', '2014_11_16_0720.jpg', '2014_11_17_0725.jpg', '2014_11_19_0735.jpg', '2014_11_20_0727.jpg', '2014_11_22_0738.jpg', '2014_11_25_0737.jpg', '2014_11_26_0745.jpg', '2014_11_29_0711.jpg', '2014_12_08_0740.jpg', '2014_12_09_0730.jpg', '2014_12_10_0732.jpg']\n"
          ],
          "name": "stdout"
        }
      ]
    },
    {
      "cell_type": "code",
      "metadata": {
        "id": "6eHuVbHK3Vgv",
        "colab_type": "code",
        "colab": {}
      },
      "source": [
        "i=0\n",
        "beijing_labels={}\n",
        "\n",
        "with open('/content/beijing_labels.csv') as file:\n",
        "  reader = csv.reader(file, delimiter =',')\n",
        "  for row in reader:\n",
        "    beijing_labels[beijing[i]]=row[0]\n",
        "    i+=1\n",
        "    "
      ],
      "execution_count": 0,
      "outputs": []
    },
    {
      "cell_type": "code",
      "metadata": {
        "id": "Yk2Nt6747N9G",
        "colab_type": "code",
        "colab": {
          "base_uri": "https://localhost:8080/",
          "height": 54
        },
        "outputId": "351ab6ce-4cf1-4ddb-f896-30eac316ec4c"
      },
      "source": [
        "print(beijing_labels)"
      ],
      "execution_count": 189,
      "outputs": [
        {
          "output_type": "stream",
          "text": [
            "{'2014_01_06_0728.jpg': '2', '2014_01_16_0716.jpg': '0', '2014_03_11_0700.jpg': '4', '2014_03_12_0701.jpg': '4', '2014_03_17_0710.jpg': '4', '2014_03_24_0701.jpg': '0', '2014_03_25_0701.jpg': '2', '2014_03_27_0701.jpg': '0', '2014_04_01_0700.jpg': '4', '2014_04_02_0701.jpg': '0', '2014_04_14_0641.jpg': '3', '2014_04_18_0653.jpg': '0', '2014_04_19_0644.jpg': '1', '2014_05_14_0617.jpg': '0', '2014_05_24_0640.jpg': '1', '2014_07_06_0636.jpg': '0', '2014_07_22_0624.jpg': '1', '2014_07_26_0607.jpg': '1', '2014_07_29_0622.jpg': '2', '2014_07_31_0623.jpg': '1', '2014_08_12_0627.jpg': '1', '2014_08_31_0642.jpg': '1', '2014_09_02_0634.jpg': '0', '2014_09_06_0641.jpg': '1', '2014_09_08_0638.jpg': '2', '2014_09_25_0645.jpg': '0', '2014_10_08_0825.jpg': '1', '2014_10_09_0801.jpg': '1', '2014_10_11_0824.jpg': '1', '2014_10_25_0643.jpg': '0', '2014_10_26_0733.jpg': '1', '2014_10_30_0653.jpg': '4', '2014_10_31_0721.jpg': '5', '2014_11_16_0720.jpg': '3', '2014_11_17_0725.jpg': '0', '2014_11_19_0735.jpg': '4', '2014_11_20_0727.jpg': '1', '2014_11_22_0738.jpg': '0', '2014_11_25_0737.jpg': '2', '2014_11_26_0745.jpg': '3', '2014_11_29_0711.jpg': '1', '2014_12_08_0740.jpg': '1', '2014_12_09_0730.jpg': '0', '2014_12_10_0732.jpg': '2'}\n"
          ],
          "name": "stdout"
        }
      ]
    },
    {
      "cell_type": "code",
      "metadata": {
        "id": "8AUsu8Snwqz9",
        "colab_type": "code",
        "colab": {}
      },
      "source": [
        "shanghai_labels=[]p\n",
        "\n",
        "temp.sort()\n",
        "shanghai=temp"
      ],
      "execution_count": 0,
      "outputs": []
    },
    {
      "cell_type": "code",
      "metadata": {
        "id": "CEWCTvE52rJT",
        "colab_type": "code",
        "colab": {}
      },
      "source": [
        ""
      ],
      "execution_count": 0,
      "outputs": []
    },
    {
      "cell_type": "code",
      "metadata": {
        "id": "IW9OMxNrx7U_",
        "colab_type": "code",
        "colab": {
          "base_uri": "https://localhost:8080/",
          "height": 54
        },
        "outputId": "5f240d62-1dab-4096-8961-294c47c2cd6c"
      },
      "source": [
        "print(shanghai)"
      ],
      "execution_count": 169,
      "outputs": [
        {
          "output_type": "stream",
          "text": [
            "['201405181130.jpg', '201405271215.jpg', '201406071345.jpg', '201406171415.jpg', '201406211415.jpg', '201406261545.jpg', '201406271245.jpg', '201407051015.jpg', '201407091145.jpg', '201407101545.jpg', '201407141315.jpg', '201407191015.jpg', '201407211015.jpg', '201407221245.jpg', '201407241045.jpg', '201407251045.jpg', '201407271045.jpg', '201407280845.jpg', '201407291315.jpg', '201408011045.jpg', '201408021115.jpg', '201408051245.jpg', '201408081015.jpg', '201408091015.jpg', '201408100845.jpg', '201408121315.jpg', '201408141315.jpg', '201408151400.jpg', '201408170815.jpg', '201408171215.jpg', '201408181315.jpg', '201408191445.jpg', '201408210815.jpg', '201408251215.jpg', '201408291315.jpg', '201408301445.jpg', '201409011445.jpg', '201409041215.jpg', '201409071115.jpg', '201409091045.jpg', '201409121415.jpg', '201409130800.jpg', '201409131015.jpg', '201409151145.jpg', '201409181115.jpg', '201409190815.jpg', '201409211145.jpg', '201409221515.jpg', '201409231515.jpg', '201409251015.jpg', '201409271445.jpg', '201409301045.jpg', '201410021445.jpg', '201410050815.jpg', '201410081345.jpg', '201410111045.jpg', '201410131245.jpg', '201410151515.jpg', '201410181415.jpg', '201410220815.jpg', '201410250845.jpg', '201410261315.jpg', '201410281315.jpg', '201410310815.jpg', '201411050845.jpg', '201411061045.jpg', '201411091345.jpg', '201411091515.jpg', '201411111145.jpg', '201411131315.jpg', '201411141445.jpg', '201411160815.jpg', '201411191245.jpg', '201411200815.jpg', '201411211315.jpg', '201411231345.jpg', '201411281315.jpg', '201411301345.jpg', '201412031215.jpg', '201412061115.jpg', '201412090845.jpg', '201412131015.jpg', '201412161245.jpg', '201412181515.jpg', '201412190815.jpg', '201412191215.jpg', '201412201545.jpg', '201412231045.jpg', '201412250845.jpg', '201412271015.jpg', '201412290800.jpg', '201412291545.jpg', '201412301515.jpg', '201412311315.jpg', '201412311545.jpg']\n"
          ],
          "name": "stdout"
        }
      ]
    },
    {
      "cell_type": "code",
      "metadata": {
        "id": "a3sHdDS2yeSd",
        "colab_type": "code",
        "colab": {}
      },
      "source": [
        "shanghai_labels={}\n",
        "i=0\n",
        "with open('/content/shanghai_labels.csv') as file:\n",
        "  reader = csv.reader(file, delimiter =',')\n",
        "  for row in reader:\n",
        "    shanghai_labels[shanghai[i]]=row[0]\n",
        "    i+=1\n"
      ],
      "execution_count": 0,
      "outputs": []
    },
    {
      "cell_type": "code",
      "metadata": {
        "id": "IGGUSLTW0vvH",
        "colab_type": "code",
        "colab": {
          "base_uri": "https://localhost:8080/",
          "height": 54
        },
        "outputId": "57c8bcd9-f8e9-4a6d-a1b0-2a6478446cb9"
      },
      "source": [
        "print(shanghai_labels)"
      ],
      "execution_count": 180,
      "outputs": [
        {
          "output_type": "stream",
          "text": [
            "{'201405181130.jpg': '5', '201405271215.jpg': '2', '201406071345.jpg': '3', '201406171415.jpg': '4', '201406211415.jpg': '4', '201406261545.jpg': '5', '201406271245.jpg': '3', '201407051015.jpg': '4', '201407091145.jpg': '1', '201407101545.jpg': '4', '201407141315.jpg': '3', '201407191015.jpg': '2', '201407211015.jpg': '2', '201407221245.jpg': '1', '201407241045.jpg': '2', '201407251045.jpg': '3', '201407271045.jpg': '4', '201407280845.jpg': '3', '201407291315.jpg': '2', '201408011045.jpg': '4', '201408021115.jpg': '3', '201408051245.jpg': '2', '201408081015.jpg': '3', '201408091015.jpg': '5', '201408100845.jpg': '4', '201408121315.jpg': '2', '201408141315.jpg': '3', '201408151400.jpg': '2', '201408170815.jpg': '5', '201408171215.jpg': '4', '201408181315.jpg': '4', '201408191445.jpg': '3', '201408210815.jpg': '3', '201408251215.jpg': '3', '201408291315.jpg': '3', '201408301445.jpg': '0', '201409011445.jpg': '2', '201409041215.jpg': '3', '201409071115.jpg': '2', '201409091045.jpg': '1', '201409121415.jpg': '2', '201409130800.jpg': '5', '201409131015.jpg': '5', '201409151145.jpg': '0', '201409181115.jpg': '4', '201409190815.jpg': '3', '201409211145.jpg': '0', '201409221515.jpg': '3', '201409231515.jpg': '5', '201409251015.jpg': '1', '201409271445.jpg': '2', '201409301045.jpg': '3', '201410021445.jpg': '2', '201410050815.jpg': '1', '201410081345.jpg': '0', '201410111045.jpg': '3', '201410131245.jpg': '2', '201410151515.jpg': '3', '201410181415.jpg': '0', '201410220815.jpg': '4', '201410250845.jpg': '2', '201410261315.jpg': '3', '201410281315.jpg': '2', '201410310815.jpg': '5', '201411050845.jpg': '2', '201411061045.jpg': '4', '201411091345.jpg': '2', '201411091515.jpg': '3', '201411111145.jpg': '2', '201411131315.jpg': '1', '201411141445.jpg': '5', '201411160815.jpg': '1', '201411191245.jpg': '1', '201411200815.jpg': '1', '201411211315.jpg': '2', '201411231345.jpg': '2', '201411281315.jpg': '4', '201411301345.jpg': '3', '201412031215.jpg': '2', '201412061115.jpg': '2', '201412090845.jpg': '1', '201412131015.jpg': '0', '201412161245.jpg': '0', '201412181515.jpg': '2', '201412190815.jpg': '3', '201412191215.jpg': '1', '201412201545.jpg': '1', '201412231045.jpg': '0', '201412250845.jpg': '3', '201412271015.jpg': '3', '201412290800.jpg': '3', '201412291545.jpg': '1', '201412301515.jpg': '1', '201412311315.jpg': '3'}\n"
          ],
          "name": "stdout"
        }
      ]
    },
    {
      "cell_type": "code",
      "metadata": {
        "id": "7ILgBNIT1fjs",
        "colab_type": "code",
        "colab": {
          "base_uri": "https://localhost:8080/",
          "height": 106
        },
        "outputId": "d08209cf-4e1c-499b-b952-e876f4374e36"
      },
      "source": [
        "print(beijing_labels)\n",
        "print(shanghai_labels)\n",
        "print(ohaze_labels)\n",
        "print(final_our)"
      ],
      "execution_count": 193,
      "outputs": [
        {
          "output_type": "stream",
          "text": [
            "{'2014_01_06_0728.jpg': '2', '2014_01_16_0716.jpg': '0', '2014_03_11_0700.jpg': '4', '2014_03_12_0701.jpg': '4', '2014_03_17_0710.jpg': '4', '2014_03_24_0701.jpg': '0', '2014_03_25_0701.jpg': '2', '2014_03_27_0701.jpg': '0', '2014_04_01_0700.jpg': '4', '2014_04_02_0701.jpg': '0', '2014_04_14_0641.jpg': '3', '2014_04_18_0653.jpg': '0', '2014_04_19_0644.jpg': '1', '2014_05_14_0617.jpg': '0', '2014_05_24_0640.jpg': '1', '2014_07_06_0636.jpg': '0', '2014_07_22_0624.jpg': '1', '2014_07_26_0607.jpg': '1', '2014_07_29_0622.jpg': '2', '2014_07_31_0623.jpg': '1', '2014_08_12_0627.jpg': '1', '2014_08_31_0642.jpg': '1', '2014_09_02_0634.jpg': '0', '2014_09_06_0641.jpg': '1', '2014_09_08_0638.jpg': '2', '2014_09_25_0645.jpg': '0', '2014_10_08_0825.jpg': '1', '2014_10_09_0801.jpg': '1', '2014_10_11_0824.jpg': '1', '2014_10_25_0643.jpg': '0', '2014_10_26_0733.jpg': '1', '2014_10_30_0653.jpg': '4', '2014_10_31_0721.jpg': '5', '2014_11_16_0720.jpg': '3', '2014_11_17_0725.jpg': '0', '2014_11_19_0735.jpg': '4', '2014_11_20_0727.jpg': '1', '2014_11_22_0738.jpg': '0', '2014_11_25_0737.jpg': '2', '2014_11_26_0745.jpg': '3', '2014_11_29_0711.jpg': '1', '2014_12_08_0740.jpg': '1', '2014_12_09_0730.jpg': '0', '2014_12_10_0732.jpg': '2'}\n",
            "{'201405181130.jpg': '5', '201405271215.jpg': '2', '201406071345.jpg': '3', '201406171415.jpg': '4', '201406211415.jpg': '4', '201406261545.jpg': '5', '201406271245.jpg': '3', '201407051015.jpg': '4', '201407091145.jpg': '1', '201407101545.jpg': '4', '201407141315.jpg': '3', '201407191015.jpg': '2', '201407211015.jpg': '2', '201407221245.jpg': '1', '201407241045.jpg': '2', '201407251045.jpg': '3', '201407271045.jpg': '4', '201407280845.jpg': '3', '201407291315.jpg': '2', '201408011045.jpg': '4', '201408021115.jpg': '3', '201408051245.jpg': '2', '201408081015.jpg': '3', '201408091015.jpg': '5', '201408100845.jpg': '4', '201408121315.jpg': '2', '201408141315.jpg': '3', '201408151400.jpg': '2', '201408170815.jpg': '5', '201408171215.jpg': '4', '201408181315.jpg': '4', '201408191445.jpg': '3', '201408210815.jpg': '3', '201408251215.jpg': '3', '201408291315.jpg': '3', '201408301445.jpg': '0', '201409011445.jpg': '2', '201409041215.jpg': '3', '201409071115.jpg': '2', '201409091045.jpg': '1', '201409121415.jpg': '2', '201409130800.jpg': '5', '201409131015.jpg': '5', '201409151145.jpg': '0', '201409181115.jpg': '4', '201409190815.jpg': '3', '201409211145.jpg': '0', '201409221515.jpg': '3', '201409231515.jpg': '5', '201409251015.jpg': '1', '201409271445.jpg': '2', '201409301045.jpg': '3', '201410021445.jpg': '2', '201410050815.jpg': '1', '201410081345.jpg': '0', '201410111045.jpg': '3', '201410131245.jpg': '2', '201410151515.jpg': '3', '201410181415.jpg': '0', '201410220815.jpg': '4', '201410250845.jpg': '2', '201410261315.jpg': '3', '201410281315.jpg': '2', '201410310815.jpg': '5', '201411050845.jpg': '2', '201411061045.jpg': '4', '201411091345.jpg': '2', '201411091515.jpg': '3', '201411111145.jpg': '2', '201411131315.jpg': '1', '201411141445.jpg': '5', '201411160815.jpg': '1', '201411191245.jpg': '1', '201411200815.jpg': '1', '201411211315.jpg': '2', '201411231345.jpg': '2', '201411281315.jpg': '4', '201411301345.jpg': '3', '201412031215.jpg': '2', '201412061115.jpg': '2', '201412090845.jpg': '1', '201412131015.jpg': '0', '201412161245.jpg': '0', '201412181515.jpg': '2', '201412190815.jpg': '3', '201412191215.jpg': '1', '201412201545.jpg': '1', '201412231045.jpg': '0', '201412250845.jpg': '3', '201412271015.jpg': '3', '201412290800.jpg': '3', '201412291545.jpg': '1', '201412301515.jpg': '1', '201412311315.jpg': '3'}\n",
            "{'01_outdoor_GT.jpg': '2', '14_outdoor_GT.jpg': '1', '18_outdoor_GT.jpg': '1', '19_outdoor_GT.jpg': '1', '19_outdoor_hazy.jpg': '3', '20_outdoor_hazy.jpg': '3', '23_outdoor_GT.jpg': '1', '23_outdoor_hazy.jpg': '2', '24_outdoor_hazy.jpg': '3', '25_outdoor_GT.jpg': '1', '28_outdoor_GT.jpg': '1', '30_outdoor_GT.jpg': '1', '31_outdoor_hazy.jpg': '3', '34_outdoor_GT.jpg': '1', '34_outdoor_hazy.jpg': '3', '35_outdoor_hazy.jpg': '2', '37_outdoor_GT.jpg': '1', '37_outdoor_hazy.jpg': '3', '38_outdoor_GT.jpg': '1', '39_outdoor_hazy.jpg': '3', '40_outdoor_GT.jpg': '1', '40_outdoor_hazy.jpg': '3', '42_outdoor_GT.jpg': '1', '42_outdoor_hazy.jpg': '3', '43_outdoor_GT.jpg': '1', '44_outdoor_GT.jpg': '1'}\n",
            "{'1.jpg': '0', '2.jpg': '0', '3.jpg': '1', '4.jpg': '1', '5.jpg': '0', '6.jpg': '0', '7.jpg': '1', '8.jpg': '0', '9.jpg': '0', '10.jpg': '0', '11.jpg': '1', '12.jpg': '1', '13.jpg': '0', '14.jpg': '0', '15.jpg': '0', '16.jpg': '1', '17.jpg': '0', '18.jpg': '0', '19.jpg': '0', '20.jpg': '0', '21.jpg': '0', '22.jpg': '1', '23.jpg': '0', '24.jpg': '0', '25.jpg': '0', '26.jpg': '0', '27.jpg': '0'}\n"
          ],
          "name": "stdout"
        }
      ]
    },
    {
      "cell_type": "code",
      "metadata": {
        "id": "mIvrqysp7sgQ",
        "colab_type": "code",
        "colab": {}
      },
      "source": [
        ""
      ],
      "execution_count": 0,
      "outputs": []
    }
  ]
}