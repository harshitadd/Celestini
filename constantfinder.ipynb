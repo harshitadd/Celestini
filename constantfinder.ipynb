{
  "nbformat": 4,
  "nbformat_minor": 0,
  "metadata": {
    "colab": {
      "name": "constantfinder.ipynb",
      "version": "0.3.2",
      "provenance": [],
      "collapsed_sections": [],
      "include_colab_link": true
    },
    "kernelspec": {
      "name": "python3",
      "display_name": "Python 3"
    },
    "accelerator": "GPU"
  },
  "cells": [
    {
      "cell_type": "markdown",
      "metadata": {
        "id": "view-in-github",
        "colab_type": "text"
      },
      "source": [
        "<a href=\"https://colab.research.google.com/github/harshitadd/Celestini/blob/master/constantfinder.ipynb\" target=\"_parent\"><img src=\"https://colab.research.google.com/assets/colab-badge.svg\" alt=\"Open In Colab\"/></a>"
      ]
    },
    {
      "cell_type": "code",
      "metadata": {
        "id": "mQchns52IbcQ",
        "colab_type": "code",
        "colab": {}
      },
      "source": [
        "import tensorflow as tf \n",
        "import numpy as np \n",
        "import csv\n",
        "import os \n",
        "import cv2\n",
        "from google.colab.patches import cv2_imshow\n",
        "import numpy as np\n",
        "\n",
        "#!pip install unrar "
      ],
      "execution_count": 0,
      "outputs": []
    },
    {
      "cell_type": "code",
      "metadata": {
        "id": "-w5T2Tr9X9bN",
        "colab_type": "code",
        "colab": {
          "base_uri": "https://localhost:8080/",
          "height": 1000
        },
        "outputId": "7d2d9de2-9ed3-4ee8-d18b-342c03905a87"
      },
      "source": [
        "!unrar e '/content/drive/My Drive/data.rar'\n",
        "\n",
        "#rar = rarfile.RarFile('/content/drive/My Drive/data.rar')"
      ],
      "execution_count": 4,
      "outputs": [
        {
          "output_type": "stream",
          "text": [
            "\n",
            "UNRAR 5.50 freeware      Copyright (c) 1993-2017 Alexander Roshal\n",
            "\n",
            "\n",
            "Extracting from /content/drive/My Drive/data.rar\n",
            "\n",
            "Extracting  1.jpg                                                        \b\b\b\b  0%\b\b\b\b\b  OK \n",
            "Extracting  10.jpg                                                       \b\b\b\b  0%\b\b\b\b\b  OK \n",
            "Extracting  11.jpg                                                       \b\b\b\b  1%\b\b\b\b\b  OK \n",
            "Extracting  12.jpg                                                       \b\b\b\b  1%\b\b\b\b\b  OK \n",
            "Extracting  13.jpg                                                       \b\b\b\b  1%\b\b\b\b\b  OK \n",
            "Extracting  14.jpg                                                       \b\b\b\b  2%\b\b\b\b\b  OK \n",
            "Extracting  15.jpg                                                       \b\b\b\b  2%\b\b\b\b\b  OK \n",
            "Extracting  16.jpg                                                       \b\b\b\b  2%\b\b\b\b\b  OK \n",
            "Extracting  17.jpg                                                       \b\b\b\b  2%\b\b\b\b\b  OK \n",
            "Extracting  18.jpg                                                       \b\b\b\b  2%\b\b\b\b\b  OK \n",
            "Extracting  19.jpg                                                       \b\b\b\b  2%\b\b\b\b\b  OK \n",
            "Extracting  2.jpg                                                        \b\b\b\b  3%\b\b\b\b\b  OK \n",
            "Extracting  20.jpg                                                       \b\b\b\b  3%\b\b\b\b\b  OK \n",
            "Extracting  21.jpg                                                       \b\b\b\b  3%\b\b\b\b\b  OK \n",
            "Extracting  22.jpg                                                       \b\b\b\b  3%\b\b\b\b\b  OK \n",
            "Extracting  23.jpg                                                       \b\b\b\b  4%\b\b\b\b\b  OK \n",
            "Extracting  24.jpg                                                       \b\b\b\b  4%\b\b\b\b\b  OK \n",
            "Extracting  25.jpg                                                       \b\b\b\b  5%\b\b\b\b\b  OK \n",
            "Extracting  26.jpg                                                       \b\b\b\b  5%\b\b\b\b\b  OK \n",
            "Extracting  27.jpg                                                       \b\b\b\b  5%\b\b\b\b\b  OK \n",
            "Extracting  3.jpg                                                        \b\b\b\b  6%\b\b\b\b\b  OK \n",
            "Extracting  4.jpg                                                        \b\b\b\b  6%\b\b\b\b\b  OK \n",
            "Extracting  5.jpg                                                        \b\b\b\b  6%\b\b\b\b\b  OK \n",
            "Extracting  6.jpg                                                        \b\b\b\b  7%\b\b\b\b\b  OK \n",
            "Extracting  7.jpg                                                        \b\b\b\b  7%\b\b\b\b\b  OK \n",
            "Extracting  8.jpg                                                        \b\b\b\b  7%\b\b\b\b\b  OK \n",
            "Extracting  9.jpg                                                        \b\b\b\b  8%\b\b\b\b\b  OK \n",
            "Extracting  01_outdoor_GT.jpg                                            \b\b\b\b  8%\b\b\b\b  9%\b\b\b\b 10%\b\b\b\b\b  OK \n",
            "Extracting  01_outdoor_hazy.jpg                                          \b\b\b\b 10%\b\b\b\b 11%\b\b\b\b\b  OK \n",
            "Extracting  03_outdoor_GT.JPG                                            \b\b\b\b 12%\b\b\b\b 13%\b\b\b\b\b  OK \n",
            "Extracting  03_outdoor_hazy.JPG                                          \b\b\b\b 14%\b\b\b\b\b  OK \n",
            "Extracting  04_outdoor_GT.jpg                                            \b\b\b\b 16%\b\b\b\b\b  OK \n",
            "Extracting  04_outdoor_hazy.jpg                                          \b\b\b\b 17%\b\b\b\b\b  OK \n",
            "Extracting  05_outdoor_hazy.jpg                                          \b\b\b\b 18%\b\b\b\b 19%\b\b\b\b\b  OK \n",
            "Extracting  07_outdoor_GT.jpg                                            \b\b\b\b 20%\b\b\b\b 21%\b\b\b\b\b  OK \n",
            "Extracting  08_outdoor_hazy.jpg                                          \b\b\b\b 22%\b\b\b\b\b  OK \n",
            "Extracting  10_outdoor_GT.jpg                                            \b\b\b\b 22%\b\b\b\b 23%\b\b\b\b 24%\b\b\b\b\b  OK \n",
            "Extracting  10_outdoor_hazy.jpg                                          \b\b\b\b 24%\b\b\b\b 25%\b\b\b\b\b  OK \n",
            "Extracting  11_outdoor_GT.jpg                                            \b\b\b\b 25%\b\b\b\b 26%\b\b\b\b 27%\b\b\b\b\b  OK \n",
            "Extracting  12_outdoor_hazy.jpg                                          \b\b\b\b 27%\b\b\b\b 28%\b\b\b\b 29%\b\b\b\b\b  OK \n",
            "Extracting  13_outdoor_GT.jpg                                            \b\b\b\b 29%\b\b\b\b 30%\b\b\b\b 31%\b\b\b\b\b  OK \n",
            "Extracting  13_outdoor_hazy.jpg                                          \b\b\b\b 31%\b\b\b\b 32%\b\b\b\b\b  OK \n",
            "Extracting  14_outdoor_GT.jpg                                            \b\b\b\b 32%\b\b\b\b 33%\b\b\b\b 34%\b\b\b\b 35%\b\b\b\b\b  OK \n",
            "Extracting  14_outdoor_hazy.jpg                                          \b\b\b\b 35%\b\b\b\b 36%\b\b\b\b 37%\b\b\b\b\b  OK \n",
            "Extracting  16_outdoor_GT.jpg                                            \b\b\b\b 37%\b\b\b\b 38%\b\b\b\b 39%\b\b\b\b 40%\b\b\b\b\b  OK \n",
            "Extracting  17_outdoor_hazy.jpg                                          \b\b\b\b 40%\b\b\b\b 41%\b\b\b\b\b  OK \n",
            "Extracting  18_outdoor_GT.jpg                                            \b\b\b\b 42%\b\b\b\b\b  OK \n",
            "Extracting  19_outdoor_GT.jpg                                            \b\b\b\b 43%\b\b\b\b 45%\b\b\b\b\b  OK \n",
            "Extracting  19_outdoor_hazy.jpg                                          \b\b\b\b 45%\b\b\b\b 46%\b\b\b\b 47%\b\b\b\b 48%\b\b\b\b\b  OK \n",
            "Extracting  20_outdoor_hazy.jpg                                          \b\b\b\b 48%\b\b\b\b 49%\b\b\b\b 50%\b\b\b\b\b  OK \n",
            "Extracting  21_outdoor_GT.JPG                                            \b\b\b\b 51%\b\b\b\b 52%\b\b\b\b\b  OK \n",
            "Extracting  21_outdoor_hazy.JPG                                          \b\b\b\b 53%\b\b\b\b\b  OK \n",
            "Extracting  23_outdoor_GT.jpg                                            \b\b\b\b 53%\b\b\b\b 54%\b\b\b\b 55%\b\b\b\b\b  OK \n",
            "Extracting  23_outdoor_hazy.jpg                                          \b\b\b\b 55%\b\b\b\b 56%\b\b\b\b 57%\b\b\b\b\b  OK \n",
            "Extracting  24_outdoor_hazy.jpg                                          \b\b\b\b 57%\b\b\b\b 58%\b\b\b\b 59%\b\b\b\b\b  OK \n",
            "Extracting  25_outdoor_GT.jpg                                            \b\b\b\b 60%\b\b\b\b 61%\b\b\b\b\b  OK \n",
            "Extracting  25_outdoor_hazy.jpg                                          \b\b\b\b 62%\b\b\b\b 63%\b\b\b\b\b  OK \n",
            "Extracting  28_outdoor_GT.jpg                                            \b\b\b\b 64%\b\b\b\b\b  OK \n",
            "Extracting  28_outdoor_hazy.jpg                                          \b\b\b\b 65%\b\b\b\b\b  OK \n",
            "Extracting  30_outdoor_GT.jpg                                            \b\b\b\b 66%\b\b\b\b 67%\b\b\b\b\b  OK \n",
            "Extracting  30_outdoor_hazy.jpg                                          \b\b\b\b 67%\b\b\b\b 68%\b\b\b\b\b  OK \n",
            "Extracting  31_outdoor_GT.jpg                                            \b\b\b\b 69%\b\b\b\b\b  OK \n",
            "Extracting  31_outdoor_hazy.jpg                                          \b\b\b\b 69%\b\b\b\b 70%\b\b\b\b\b  OK \n",
            "Extracting  34_outdoor_GT.jpg                                            \b\b\b\b 71%\b\b\b\b 73%\b\b\b\b 74%\b\b\b\b\b  OK \n",
            "Extracting  34_outdoor_hazy.jpg                                          \b\b\b\b 74%\b\b\b\b 75%\b\b\b\b 76%\b\b\b\b 77%\b\b\b\b\b  OK \n",
            "Extracting  35_outdoor_hazy.jpg                                          \b\b\b\b 77%\b\b\b\b\b  OK \n",
            "Extracting  37_outdoor_GT.jpg                                            \b\b\b\b 78%\b\b\b\b 79%\b\b\b\b 80%\b\b\b\b\b  OK \n",
            "Extracting  37_outdoor_hazy.jpg                                          \b\b\b\b 80%\b\b\b\b 81%\b\b\b\b 82%\b\b\b\b\b  OK \n",
            "Extracting  38_outdoor_GT.jpg                                            \b\b\b\b 82%\b\b\b\b 83%\b\b\b\b 84%\b\b\b\b\b  OK \n",
            "Extracting  39_outdoor_hazy.jpg                                          \b\b\b\b 84%\b\b\b\b 85%\b\b\b\b\b  OK \n",
            "Extracting  40_outdoor_GT.jpg                                            \b\b\b\b 86%\b\b\b\b 87%\b\b\b\b\b  OK \n",
            "Extracting  40_outdoor_hazy.jpg                                          \b\b\b\b 87%\b\b\b\b 88%\b\b\b\b 89%\b\b\b\b\b  OK \n",
            "Extracting  42_outdoor_GT.jpg                                            \b\b\b\b 89%\b\b\b\b 90%\b\b\b\b 91%\b\b\b\b 92%\b\b\b\b\b  OK \n",
            "Extracting  42_outdoor_hazy.jpg                                          \b\b\b\b 93%\b\b\b\b 94%\b\b\b\b\b  OK \n",
            "Extracting  43_outdoor_GT.jpg                                            \b\b\b\b 95%\b\b\b\b 96%\b\b\b\b\b  OK \n",
            "Extracting  44_outdoor_GT.jpg                                            \b\b\b\b 98%\b\b\b\b\b  OK \n",
            "Extracting  45_outdoor_hazy.jpg                                          \b\b\b\b 98%\b\b\b\b 99%\b\b\b\b\b  OK \n",
            "Extracting  filr.txt                                                     \b\b\b\b 99%\b\b\b\b\b  OK \n",
            "Extracting  Book1.xlsx                                                   \b\b\b\b 99%\b\b\b\b\b  OK \n",
            "All OK\n"
          ],
          "name": "stdout"
        }
      ]
    },
    {
      "cell_type": "code",
      "metadata": {
        "id": "vwMCq-UhYo1H",
        "colab_type": "code",
        "colab": {}
      },
      "source": [
        "from google.colab import drive\n",
        "drive.mount('/content/drive')"
      ],
      "execution_count": 0,
      "outputs": []
    },
    {
      "cell_type": "code",
      "metadata": {
        "id": "bFgRN3endqDV",
        "colab_type": "code",
        "colab": {}
      },
      "source": [
        "im_ohaze = []\n",
        "im_our =[]\n",
        "\n",
        "source = os.listdir('/content/')\n",
        "for file in source:\n",
        "  if(file.endswith('.jpg')):\n",
        "    if 'outdoor' in file:\n",
        "      im_ohaze.append(file)\n",
        "    else:\n",
        "      im_our.append(file)"
      ],
      "execution_count": 0,
      "outputs": []
    },
    {
      "cell_type": "code",
      "metadata": {
        "id": "YT0g79LP13Pn",
        "colab_type": "code",
        "colab": {
          "base_uri": "https://localhost:8080/",
          "height": 34
        },
        "outputId": "2da90cf8-7fd8-4e17-9fe3-07e3a10e10bb"
      },
      "source": [
        "print(len(im_ohaze))"
      ],
      "execution_count": 145,
      "outputs": [
        {
          "output_type": "stream",
          "text": [
            "46\n"
          ],
          "name": "stdout"
        }
      ]
    },
    {
      "cell_type": "code",
      "metadata": {
        "id": "ISzh3BkxJXqi",
        "colab_type": "code",
        "colab": {
          "base_uri": "https://localhost:8080/",
          "height": 806
        },
        "outputId": "0ee244fd-5118-4d0d-9590-bb33e423c3f9"
      },
      "source": [
        "for im in im_ohaze:\n",
        "  print(im)"
      ],
      "execution_count": 146,
      "outputs": [
        {
          "output_type": "stream",
          "text": [
            "10_outdoor_GT.jpg\n",
            "37_outdoor_GT.jpg\n",
            "35_outdoor_hazy.jpg\n",
            "18_outdoor_GT.jpg\n",
            "24_outdoor_hazy.jpg\n",
            "04_outdoor_hazy.jpg\n",
            "19_outdoor_hazy.jpg\n",
            "44_outdoor_GT.jpg\n",
            "19_outdoor_GT.jpg\n",
            "04_outdoor_GT.jpg\n",
            "34_outdoor_GT.jpg\n",
            "14_outdoor_GT.jpg\n",
            "05_outdoor_hazy.jpg\n",
            "13_outdoor_GT.jpg\n",
            "42_outdoor_hazy.jpg\n",
            "40_outdoor_hazy.jpg\n",
            "01_outdoor_hazy.jpg\n",
            "40_outdoor_GT.jpg\n",
            "08_outdoor_hazy.jpg\n",
            "16_outdoor_GT.jpg\n",
            "07_outdoor_GT.jpg\n",
            "30_outdoor_GT.jpg\n",
            "14_outdoor_hazy.jpg\n",
            "38_outdoor_GT.jpg\n",
            "31_outdoor_hazy.jpg\n",
            "37_outdoor_hazy.jpg\n",
            "31_outdoor_GT.jpg\n",
            "12_outdoor_hazy.jpg\n",
            "25_outdoor_GT.jpg\n",
            "17_outdoor_hazy.jpg\n",
            "34_outdoor_hazy.jpg\n",
            "23_outdoor_hazy.jpg\n",
            "43_outdoor_GT.jpg\n",
            "30_outdoor_hazy.jpg\n",
            "28_outdoor_hazy.jpg\n",
            "11_outdoor_GT.jpg\n",
            "23_outdoor_GT.jpg\n",
            "28_outdoor_GT.jpg\n",
            "25_outdoor_hazy.jpg\n",
            "20_outdoor_hazy.jpg\n",
            "13_outdoor_hazy.jpg\n",
            "01_outdoor_GT.jpg\n",
            "39_outdoor_hazy.jpg\n",
            "45_outdoor_hazy.jpg\n",
            "42_outdoor_GT.jpg\n",
            "10_outdoor_hazy.jpg\n"
          ],
          "name": "stdout"
        }
      ]
    },
    {
      "cell_type": "code",
      "metadata": {
        "id": "HlpNFxxNAY_C",
        "colab_type": "code",
        "colab": {}
      },
      "source": [
        "our_img_label=[]\n",
        "with open('/content/our_img.csv') as file:\n",
        "  reader = csv.reader(file, delimiter = ',')\n",
        "  for row in reader:\n",
        "    l=[]\n",
        "    l.append(row[0])\n",
        "    l.append(row[1])\n",
        "    our_img_label.append(l)"
      ],
      "execution_count": 0,
      "outputs": []
    },
    {
      "cell_type": "code",
      "metadata": {
        "id": "hyMT413rZrp4",
        "colab_type": "code",
        "colab": {
          "base_uri": "https://localhost:8080/",
          "height": 54
        },
        "outputId": "898c634f-5fe6-4dec-faf8-21c620b84cb8"
      },
      "source": [
        "print(our_img_label)"
      ],
      "execution_count": 148,
      "outputs": [
        {
          "output_type": "stream",
          "text": [
            "[['1', '0'], ['2', '0'], ['3', '1'], ['4', '1'], ['5', '0'], ['6', '0'], ['7', '1'], ['8', '0'], ['9', '0'], ['10', '0'], ['11', '1'], ['12', '1'], ['13', '0'], ['14', '0'], ['15', '0'], ['16', '1'], ['17', '0'], ['18', '0'], ['19', '0'], ['20', '0'], ['21', '0'], ['22', '1'], ['23', '0'], ['24', '0'], ['25', '0'], ['26', '0'], ['27', '0']]\n"
          ],
          "name": "stdout"
        }
      ]
    },
    {
      "cell_type": "code",
      "metadata": {
        "id": "eoYWeGaYCgDt",
        "colab_type": "code",
        "colab": {}
      },
      "source": [
        "im_our.sort()\n",
        "temp=[]\n",
        "\n",
        "\n",
        "final_our={}\n",
        "\n",
        "for i in our_img_label:\n",
        "  for im in im_our:\n",
        "    if(i[0]==im[:-4]):   \n",
        "      final_our[im]=i[1]\n",
        "     "
      ],
      "execution_count": 0,
      "outputs": []
    },
    {
      "cell_type": "code",
      "metadata": {
        "id": "bg4chXiFCk4r",
        "colab_type": "code",
        "colab": {
          "base_uri": "https://localhost:8080/",
          "height": 54
        },
        "outputId": "92a529e6-f8c9-40da-e952-90855da3ac39"
      },
      "source": [
        "print(final_our)"
      ],
      "execution_count": 150,
      "outputs": [
        {
          "output_type": "stream",
          "text": [
            "{'1.jpg': '0', '2.jpg': '0', '3.jpg': '1', '4.jpg': '1', '5.jpg': '0', '6.jpg': '0', '7.jpg': '1', '8.jpg': '0', '9.jpg': '0', '10.jpg': '0', '11.jpg': '1', '12.jpg': '1', '13.jpg': '0', '14.jpg': '0', '15.jpg': '0', '16.jpg': '1', '17.jpg': '0', '18.jpg': '0', '19.jpg': '0', '20.jpg': '0', '21.jpg': '0', '22.jpg': '1', '23.jpg': '0', '24.jpg': '0', '25.jpg': '0', '26.jpg': '0', '27.jpg': '0'}\n"
          ],
          "name": "stdout"
        }
      ]
    },
    {
      "cell_type": "code",
      "metadata": {
        "id": "v-vcscd0H4ZP",
        "colab_type": "code",
        "colab": {
          "base_uri": "https://localhost:8080/",
          "height": 806
        },
        "outputId": "d8547f7f-6fce-4adb-8aee-0747b35e9355"
      },
      "source": [
        "for im in im_ohaze:\n",
        "  if 'GT' in im:\n",
        "    print(im[0:3]+im[-6:-4])\n",
        "\n",
        "  else:\n",
        "    print(im[0:2] + im[-9:-4])\n"
      ],
      "execution_count": 151,
      "outputs": [
        {
          "output_type": "stream",
          "text": [
            "10_GT\n",
            "37_GT\n",
            "35_hazy\n",
            "18_GT\n",
            "24_hazy\n",
            "04_hazy\n",
            "19_hazy\n",
            "44_GT\n",
            "19_GT\n",
            "04_GT\n",
            "34_GT\n",
            "14_GT\n",
            "05_hazy\n",
            "13_GT\n",
            "42_hazy\n",
            "40_hazy\n",
            "01_hazy\n",
            "40_GT\n",
            "08_hazy\n",
            "16_GT\n",
            "07_GT\n",
            "30_GT\n",
            "14_hazy\n",
            "38_GT\n",
            "31_hazy\n",
            "37_hazy\n",
            "31_GT\n",
            "12_hazy\n",
            "25_GT\n",
            "17_hazy\n",
            "34_hazy\n",
            "23_hazy\n",
            "43_GT\n",
            "30_hazy\n",
            "28_hazy\n",
            "11_GT\n",
            "23_GT\n",
            "28_GT\n",
            "25_hazy\n",
            "20_hazy\n",
            "13_hazy\n",
            "01_GT\n",
            "39_hazy\n",
            "45_hazy\n",
            "42_GT\n",
            "10_hazy\n"
          ],
          "name": "stdout"
        }
      ]
    },
    {
      "cell_type": "code",
      "metadata": {
        "id": "gXqbPg3EiUAm",
        "colab_type": "code",
        "colab": {}
      },
      "source": [
        "ohaze=[]\n",
        "with open('/content/OHAZE_LABELS.csv') as file:\n",
        "  reader = csv.reader(file)\n",
        "  for row in reader:\n",
        "    l=[]\n",
        "    l.append(row[0])\n",
        "    l.append(row[1])\n",
        "    ohaze.append(l)"
      ],
      "execution_count": 0,
      "outputs": []
    },
    {
      "cell_type": "code",
      "metadata": {
        "id": "P-amCcbkndpx",
        "colab_type": "code",
        "colab": {}
      },
      "source": [
        "ohaze_labels={}\n",
        "\n",
        "for i in ohaze:\n",
        "  for im in im_ohaze:\n",
        "    if 'GT' in im:\n",
        "      if(im[0:3]+im[-6:-4])==i[0]:\n",
        "        ohaze_labels[im]=i[1]\n",
        "    elif(im[0:2] + im[-9:-4])==i[0]:\n",
        "        ohaze_labels[im]=i[1]\n"
      ],
      "execution_count": 0,
      "outputs": []
    },
    {
      "cell_type": "code",
      "metadata": {
        "id": "IXz5f_W8o6qH",
        "colab_type": "code",
        "colab": {
          "base_uri": "https://localhost:8080/",
          "height": 34
        },
        "outputId": "ae793cf8-5deb-4145-e136-0b396b37fe78"
      },
      "source": [
        "print(len(ohaze_labels))"
      ],
      "execution_count": 154,
      "outputs": [
        {
          "output_type": "stream",
          "text": [
            "26\n"
          ],
          "name": "stdout"
        }
      ]
    },
    {
      "cell_type": "code",
      "metadata": {
        "id": "APcrTS-Grndd",
        "colab_type": "code",
        "colab": {}
      },
      "source": [
        "#Reading shanghai and Beijing files \n",
        "\n",
        "temp=[]\n",
        "\n",
        "s = os.listdir('/content/drive/My Drive/Omega/Images/shanghai haze/')\n",
        "for file in s:\n",
        "  temp.append('/content/drive/My Drive/Omega/Images/shanghai haze/' + file)\n",
        "  \n",
        "\n",
        "newt=[]\n",
        "\n",
        "s = os.listdir('/content/drive/My Drive/Omega/Images/Beijing/')\n",
        "for file in s:\n",
        "  newt.append('/content/drive/My Drive/Omega/Images/Beijing/' + file)"
      ],
      "execution_count": 0,
      "outputs": []
    },
    {
      "cell_type": "code",
      "metadata": {
        "id": "H7HUqoV_2Yth",
        "colab_type": "code",
        "colab": {}
      },
      "source": [
        "newt.sort()\n",
        "beijing=newt"
      ],
      "execution_count": 0,
      "outputs": []
    },
    {
      "cell_type": "code",
      "metadata": {
        "id": "QlVpmWFU2k6x",
        "colab_type": "code",
        "colab": {
          "base_uri": "https://localhost:8080/",
          "height": 54
        },
        "outputId": "dffeb1d4-e7e4-4208-cdcf-e8692a2ba641"
      },
      "source": [
        "print(beijing)"
      ],
      "execution_count": 157,
      "outputs": [
        {
          "output_type": "stream",
          "text": [
            "['/content/drive/My Drive/Omega/Images/Beijing/2014_01_06_0728.jpg', '/content/drive/My Drive/Omega/Images/Beijing/2014_01_16_0716.jpg', '/content/drive/My Drive/Omega/Images/Beijing/2014_03_11_0700.jpg', '/content/drive/My Drive/Omega/Images/Beijing/2014_03_12_0701.jpg', '/content/drive/My Drive/Omega/Images/Beijing/2014_03_17_0710.jpg', '/content/drive/My Drive/Omega/Images/Beijing/2014_03_24_0701.jpg', '/content/drive/My Drive/Omega/Images/Beijing/2014_03_25_0701.jpg', '/content/drive/My Drive/Omega/Images/Beijing/2014_03_27_0701.jpg', '/content/drive/My Drive/Omega/Images/Beijing/2014_04_01_0700.jpg', '/content/drive/My Drive/Omega/Images/Beijing/2014_04_02_0701.jpg', '/content/drive/My Drive/Omega/Images/Beijing/2014_04_14_0641.jpg', '/content/drive/My Drive/Omega/Images/Beijing/2014_04_18_0653.jpg', '/content/drive/My Drive/Omega/Images/Beijing/2014_04_19_0644.jpg', '/content/drive/My Drive/Omega/Images/Beijing/2014_05_14_0617.jpg', '/content/drive/My Drive/Omega/Images/Beijing/2014_05_24_0640.jpg', '/content/drive/My Drive/Omega/Images/Beijing/2014_07_06_0636.jpg', '/content/drive/My Drive/Omega/Images/Beijing/2014_07_22_0624.jpg', '/content/drive/My Drive/Omega/Images/Beijing/2014_07_26_0607.jpg', '/content/drive/My Drive/Omega/Images/Beijing/2014_07_29_0622.jpg', '/content/drive/My Drive/Omega/Images/Beijing/2014_07_31_0623.jpg', '/content/drive/My Drive/Omega/Images/Beijing/2014_08_12_0627.jpg', '/content/drive/My Drive/Omega/Images/Beijing/2014_08_31_0642.jpg', '/content/drive/My Drive/Omega/Images/Beijing/2014_09_02_0634.jpg', '/content/drive/My Drive/Omega/Images/Beijing/2014_09_06_0641.jpg', '/content/drive/My Drive/Omega/Images/Beijing/2014_09_08_0638.jpg', '/content/drive/My Drive/Omega/Images/Beijing/2014_09_25_0645.jpg', '/content/drive/My Drive/Omega/Images/Beijing/2014_10_08_0825.jpg', '/content/drive/My Drive/Omega/Images/Beijing/2014_10_09_0801.jpg', '/content/drive/My Drive/Omega/Images/Beijing/2014_10_11_0824.jpg', '/content/drive/My Drive/Omega/Images/Beijing/2014_10_25_0643.jpg', '/content/drive/My Drive/Omega/Images/Beijing/2014_10_26_0733.jpg', '/content/drive/My Drive/Omega/Images/Beijing/2014_10_30_0653.jpg', '/content/drive/My Drive/Omega/Images/Beijing/2014_10_31_0721.jpg', '/content/drive/My Drive/Omega/Images/Beijing/2014_11_16_0720.jpg', '/content/drive/My Drive/Omega/Images/Beijing/2014_11_17_0725.jpg', '/content/drive/My Drive/Omega/Images/Beijing/2014_11_19_0735.jpg', '/content/drive/My Drive/Omega/Images/Beijing/2014_11_20_0727.jpg', '/content/drive/My Drive/Omega/Images/Beijing/2014_11_22_0738.jpg', '/content/drive/My Drive/Omega/Images/Beijing/2014_11_25_0737.jpg', '/content/drive/My Drive/Omega/Images/Beijing/2014_11_26_0745.jpg', '/content/drive/My Drive/Omega/Images/Beijing/2014_11_29_0711.jpg', '/content/drive/My Drive/Omega/Images/Beijing/2014_12_08_0740.jpg', '/content/drive/My Drive/Omega/Images/Beijing/2014_12_09_0730.jpg', '/content/drive/My Drive/Omega/Images/Beijing/2014_12_10_0732.jpg']\n"
          ],
          "name": "stdout"
        }
      ]
    },
    {
      "cell_type": "code",
      "metadata": {
        "id": "6eHuVbHK3Vgv",
        "colab_type": "code",
        "colab": {}
      },
      "source": [
        "i=0\n",
        "beijing_labels={}\n",
        "\n",
        "with open('/content/beijing_labels.csv') as file:\n",
        "  reader = csv.reader(file, delimiter =',')\n",
        "  for row in reader:\n",
        "    beijing_labels[beijing[i]]=row[0]\n",
        "    i+=1\n",
        "    "
      ],
      "execution_count": 0,
      "outputs": []
    },
    {
      "cell_type": "code",
      "metadata": {
        "id": "Yk2Nt6747N9G",
        "colab_type": "code",
        "colab": {
          "base_uri": "https://localhost:8080/",
          "height": 54
        },
        "outputId": "7c5dff37-472d-434e-f048-fc2ca72e8f86"
      },
      "source": [
        "print(beijing_labels)"
      ],
      "execution_count": 159,
      "outputs": [
        {
          "output_type": "stream",
          "text": [
            "{'/content/drive/My Drive/Omega/Images/Beijing/2014_01_06_0728.jpg': '2', '/content/drive/My Drive/Omega/Images/Beijing/2014_01_16_0716.jpg': '0', '/content/drive/My Drive/Omega/Images/Beijing/2014_03_11_0700.jpg': '4', '/content/drive/My Drive/Omega/Images/Beijing/2014_03_12_0701.jpg': '4', '/content/drive/My Drive/Omega/Images/Beijing/2014_03_17_0710.jpg': '4', '/content/drive/My Drive/Omega/Images/Beijing/2014_03_24_0701.jpg': '0', '/content/drive/My Drive/Omega/Images/Beijing/2014_03_25_0701.jpg': '2', '/content/drive/My Drive/Omega/Images/Beijing/2014_03_27_0701.jpg': '0', '/content/drive/My Drive/Omega/Images/Beijing/2014_04_01_0700.jpg': '4', '/content/drive/My Drive/Omega/Images/Beijing/2014_04_02_0701.jpg': '0', '/content/drive/My Drive/Omega/Images/Beijing/2014_04_14_0641.jpg': '3', '/content/drive/My Drive/Omega/Images/Beijing/2014_04_18_0653.jpg': '0', '/content/drive/My Drive/Omega/Images/Beijing/2014_04_19_0644.jpg': '1', '/content/drive/My Drive/Omega/Images/Beijing/2014_05_14_0617.jpg': '0', '/content/drive/My Drive/Omega/Images/Beijing/2014_05_24_0640.jpg': '1', '/content/drive/My Drive/Omega/Images/Beijing/2014_07_06_0636.jpg': '0', '/content/drive/My Drive/Omega/Images/Beijing/2014_07_22_0624.jpg': '1', '/content/drive/My Drive/Omega/Images/Beijing/2014_07_26_0607.jpg': '1', '/content/drive/My Drive/Omega/Images/Beijing/2014_07_29_0622.jpg': '2', '/content/drive/My Drive/Omega/Images/Beijing/2014_07_31_0623.jpg': '1', '/content/drive/My Drive/Omega/Images/Beijing/2014_08_12_0627.jpg': '1', '/content/drive/My Drive/Omega/Images/Beijing/2014_08_31_0642.jpg': '1', '/content/drive/My Drive/Omega/Images/Beijing/2014_09_02_0634.jpg': '0', '/content/drive/My Drive/Omega/Images/Beijing/2014_09_06_0641.jpg': '1', '/content/drive/My Drive/Omega/Images/Beijing/2014_09_08_0638.jpg': '2', '/content/drive/My Drive/Omega/Images/Beijing/2014_09_25_0645.jpg': '0', '/content/drive/My Drive/Omega/Images/Beijing/2014_10_08_0825.jpg': '1', '/content/drive/My Drive/Omega/Images/Beijing/2014_10_09_0801.jpg': '1', '/content/drive/My Drive/Omega/Images/Beijing/2014_10_11_0824.jpg': '1', '/content/drive/My Drive/Omega/Images/Beijing/2014_10_25_0643.jpg': '0', '/content/drive/My Drive/Omega/Images/Beijing/2014_10_26_0733.jpg': '1', '/content/drive/My Drive/Omega/Images/Beijing/2014_10_30_0653.jpg': '4', '/content/drive/My Drive/Omega/Images/Beijing/2014_10_31_0721.jpg': '5', '/content/drive/My Drive/Omega/Images/Beijing/2014_11_16_0720.jpg': '3', '/content/drive/My Drive/Omega/Images/Beijing/2014_11_17_0725.jpg': '0', '/content/drive/My Drive/Omega/Images/Beijing/2014_11_19_0735.jpg': '4', '/content/drive/My Drive/Omega/Images/Beijing/2014_11_20_0727.jpg': '1', '/content/drive/My Drive/Omega/Images/Beijing/2014_11_22_0738.jpg': '0', '/content/drive/My Drive/Omega/Images/Beijing/2014_11_25_0737.jpg': '2', '/content/drive/My Drive/Omega/Images/Beijing/2014_11_26_0745.jpg': '3', '/content/drive/My Drive/Omega/Images/Beijing/2014_11_29_0711.jpg': '1', '/content/drive/My Drive/Omega/Images/Beijing/2014_12_08_0740.jpg': '1', '/content/drive/My Drive/Omega/Images/Beijing/2014_12_09_0730.jpg': '0', '/content/drive/My Drive/Omega/Images/Beijing/2014_12_10_0732.jpg': '2'}\n"
          ],
          "name": "stdout"
        }
      ]
    },
    {
      "cell_type": "code",
      "metadata": {
        "id": "8AUsu8Snwqz9",
        "colab_type": "code",
        "colab": {}
      },
      "source": [
        "shanghai_labels=[]\n",
        "\n",
        "temp.sort()\n",
        "shanghai=temp"
      ],
      "execution_count": 0,
      "outputs": []
    },
    {
      "cell_type": "code",
      "metadata": {
        "id": "IW9OMxNrx7U_",
        "colab_type": "code",
        "colab": {
          "base_uri": "https://localhost:8080/",
          "height": 54
        },
        "outputId": "7a3179c5-7fcf-4579-d1a0-d3f317fb39b4"
      },
      "source": [
        "\n",
        "\n",
        "\n",
        "print(shanghai)"
      ],
      "execution_count": 161,
      "outputs": [
        {
          "output_type": "stream",
          "text": [
            "['/content/drive/My Drive/Omega/Images/shanghai haze/201405181130.jpg', '/content/drive/My Drive/Omega/Images/shanghai haze/201405271215.jpg', '/content/drive/My Drive/Omega/Images/shanghai haze/201406071345.jpg', '/content/drive/My Drive/Omega/Images/shanghai haze/201406171415.jpg', '/content/drive/My Drive/Omega/Images/shanghai haze/201406211415.jpg', '/content/drive/My Drive/Omega/Images/shanghai haze/201406261545.jpg', '/content/drive/My Drive/Omega/Images/shanghai haze/201406271245.jpg', '/content/drive/My Drive/Omega/Images/shanghai haze/201407051015.jpg', '/content/drive/My Drive/Omega/Images/shanghai haze/201407091145.jpg', '/content/drive/My Drive/Omega/Images/shanghai haze/201407101545.jpg', '/content/drive/My Drive/Omega/Images/shanghai haze/201407141315.jpg', '/content/drive/My Drive/Omega/Images/shanghai haze/201407191015.jpg', '/content/drive/My Drive/Omega/Images/shanghai haze/201407211015.jpg', '/content/drive/My Drive/Omega/Images/shanghai haze/201407221245.jpg', '/content/drive/My Drive/Omega/Images/shanghai haze/201407241045.jpg', '/content/drive/My Drive/Omega/Images/shanghai haze/201407251045.jpg', '/content/drive/My Drive/Omega/Images/shanghai haze/201407271045.jpg', '/content/drive/My Drive/Omega/Images/shanghai haze/201407280845.jpg', '/content/drive/My Drive/Omega/Images/shanghai haze/201407291315.jpg', '/content/drive/My Drive/Omega/Images/shanghai haze/201408011045.jpg', '/content/drive/My Drive/Omega/Images/shanghai haze/201408021115.jpg', '/content/drive/My Drive/Omega/Images/shanghai haze/201408051245.jpg', '/content/drive/My Drive/Omega/Images/shanghai haze/201408081015.jpg', '/content/drive/My Drive/Omega/Images/shanghai haze/201408091015.jpg', '/content/drive/My Drive/Omega/Images/shanghai haze/201408100845.jpg', '/content/drive/My Drive/Omega/Images/shanghai haze/201408121315.jpg', '/content/drive/My Drive/Omega/Images/shanghai haze/201408141315.jpg', '/content/drive/My Drive/Omega/Images/shanghai haze/201408151400.jpg', '/content/drive/My Drive/Omega/Images/shanghai haze/201408170815.jpg', '/content/drive/My Drive/Omega/Images/shanghai haze/201408171215.jpg', '/content/drive/My Drive/Omega/Images/shanghai haze/201408181315.jpg', '/content/drive/My Drive/Omega/Images/shanghai haze/201408191445.jpg', '/content/drive/My Drive/Omega/Images/shanghai haze/201408210815.jpg', '/content/drive/My Drive/Omega/Images/shanghai haze/201408251215.jpg', '/content/drive/My Drive/Omega/Images/shanghai haze/201408291315.jpg', '/content/drive/My Drive/Omega/Images/shanghai haze/201408301445.jpg', '/content/drive/My Drive/Omega/Images/shanghai haze/201409011445.jpg', '/content/drive/My Drive/Omega/Images/shanghai haze/201409041215.jpg', '/content/drive/My Drive/Omega/Images/shanghai haze/201409071115.jpg', '/content/drive/My Drive/Omega/Images/shanghai haze/201409091045.jpg', '/content/drive/My Drive/Omega/Images/shanghai haze/201409121415.jpg', '/content/drive/My Drive/Omega/Images/shanghai haze/201409130800.jpg', '/content/drive/My Drive/Omega/Images/shanghai haze/201409131015.jpg', '/content/drive/My Drive/Omega/Images/shanghai haze/201409151145.jpg', '/content/drive/My Drive/Omega/Images/shanghai haze/201409181115.jpg', '/content/drive/My Drive/Omega/Images/shanghai haze/201409190815.jpg', '/content/drive/My Drive/Omega/Images/shanghai haze/201409211145.jpg', '/content/drive/My Drive/Omega/Images/shanghai haze/201409221515.jpg', '/content/drive/My Drive/Omega/Images/shanghai haze/201409231515.jpg', '/content/drive/My Drive/Omega/Images/shanghai haze/201409251015.jpg', '/content/drive/My Drive/Omega/Images/shanghai haze/201409271445.jpg', '/content/drive/My Drive/Omega/Images/shanghai haze/201409301045.jpg', '/content/drive/My Drive/Omega/Images/shanghai haze/201410021445.jpg', '/content/drive/My Drive/Omega/Images/shanghai haze/201410050815.jpg', '/content/drive/My Drive/Omega/Images/shanghai haze/201410081345.jpg', '/content/drive/My Drive/Omega/Images/shanghai haze/201410111045.jpg', '/content/drive/My Drive/Omega/Images/shanghai haze/201410131245.jpg', '/content/drive/My Drive/Omega/Images/shanghai haze/201410151515.jpg', '/content/drive/My Drive/Omega/Images/shanghai haze/201410181415.jpg', '/content/drive/My Drive/Omega/Images/shanghai haze/201410220815.jpg', '/content/drive/My Drive/Omega/Images/shanghai haze/201410250845.jpg', '/content/drive/My Drive/Omega/Images/shanghai haze/201410261315.jpg', '/content/drive/My Drive/Omega/Images/shanghai haze/201410281315.jpg', '/content/drive/My Drive/Omega/Images/shanghai haze/201410310815.jpg', '/content/drive/My Drive/Omega/Images/shanghai haze/201411050845.jpg', '/content/drive/My Drive/Omega/Images/shanghai haze/201411061045.jpg', '/content/drive/My Drive/Omega/Images/shanghai haze/201411091345.jpg', '/content/drive/My Drive/Omega/Images/shanghai haze/201411091515.jpg', '/content/drive/My Drive/Omega/Images/shanghai haze/201411111145.jpg', '/content/drive/My Drive/Omega/Images/shanghai haze/201411131315.jpg', '/content/drive/My Drive/Omega/Images/shanghai haze/201411141445.jpg', '/content/drive/My Drive/Omega/Images/shanghai haze/201411160815.jpg', '/content/drive/My Drive/Omega/Images/shanghai haze/201411191245.jpg', '/content/drive/My Drive/Omega/Images/shanghai haze/201411200815.jpg', '/content/drive/My Drive/Omega/Images/shanghai haze/201411211315.jpg', '/content/drive/My Drive/Omega/Images/shanghai haze/201411231345.jpg', '/content/drive/My Drive/Omega/Images/shanghai haze/201411281315.jpg', '/content/drive/My Drive/Omega/Images/shanghai haze/201411301345.jpg', '/content/drive/My Drive/Omega/Images/shanghai haze/201412031215.jpg', '/content/drive/My Drive/Omega/Images/shanghai haze/201412061115.jpg', '/content/drive/My Drive/Omega/Images/shanghai haze/201412090845.jpg', '/content/drive/My Drive/Omega/Images/shanghai haze/201412131015.jpg', '/content/drive/My Drive/Omega/Images/shanghai haze/201412161245.jpg', '/content/drive/My Drive/Omega/Images/shanghai haze/201412181515.jpg', '/content/drive/My Drive/Omega/Images/shanghai haze/201412190815.jpg', '/content/drive/My Drive/Omega/Images/shanghai haze/201412191215.jpg', '/content/drive/My Drive/Omega/Images/shanghai haze/201412201545.jpg', '/content/drive/My Drive/Omega/Images/shanghai haze/201412231045.jpg', '/content/drive/My Drive/Omega/Images/shanghai haze/201412250845.jpg', '/content/drive/My Drive/Omega/Images/shanghai haze/201412271015.jpg', '/content/drive/My Drive/Omega/Images/shanghai haze/201412290800.jpg', '/content/drive/My Drive/Omega/Images/shanghai haze/201412291545.jpg', '/content/drive/My Drive/Omega/Images/shanghai haze/201412301515.jpg', '/content/drive/My Drive/Omega/Images/shanghai haze/201412311315.jpg', '/content/drive/My Drive/Omega/Images/shanghai haze/201412311545.jpg']\n"
          ],
          "name": "stdout"
        }
      ]
    },
    {
      "cell_type": "code",
      "metadata": {
        "id": "a3sHdDS2yeSd",
        "colab_type": "code",
        "colab": {}
      },
      "source": [
        "shanghai_labels={}\n",
        "i=0\n",
        "with open('/content/shanghai_labels.csv') as file:\n",
        "  reader = csv.reader(file, delimiter =',')\n",
        "  for row in reader:\n",
        "    shanghai_labels[shanghai[i]]=row[0]\n",
        "    i+=1\n"
      ],
      "execution_count": 0,
      "outputs": []
    },
    {
      "cell_type": "code",
      "metadata": {
        "id": "IGGUSLTW0vvH",
        "colab_type": "code",
        "colab": {
          "base_uri": "https://localhost:8080/",
          "height": 54
        },
        "outputId": "39e26cd4-3e45-419b-acee-ed91c36f15ed"
      },
      "source": [
        "print(shanghai_labels)"
      ],
      "execution_count": 163,
      "outputs": [
        {
          "output_type": "stream",
          "text": [
            "{'/content/drive/My Drive/Omega/Images/shanghai haze/201405181130.jpg': '5', '/content/drive/My Drive/Omega/Images/shanghai haze/201405271215.jpg': '2', '/content/drive/My Drive/Omega/Images/shanghai haze/201406071345.jpg': '3', '/content/drive/My Drive/Omega/Images/shanghai haze/201406171415.jpg': '4', '/content/drive/My Drive/Omega/Images/shanghai haze/201406211415.jpg': '4', '/content/drive/My Drive/Omega/Images/shanghai haze/201406261545.jpg': '5', '/content/drive/My Drive/Omega/Images/shanghai haze/201406271245.jpg': '3', '/content/drive/My Drive/Omega/Images/shanghai haze/201407051015.jpg': '4', '/content/drive/My Drive/Omega/Images/shanghai haze/201407091145.jpg': '1', '/content/drive/My Drive/Omega/Images/shanghai haze/201407101545.jpg': '4', '/content/drive/My Drive/Omega/Images/shanghai haze/201407141315.jpg': '3', '/content/drive/My Drive/Omega/Images/shanghai haze/201407191015.jpg': '2', '/content/drive/My Drive/Omega/Images/shanghai haze/201407211015.jpg': '2', '/content/drive/My Drive/Omega/Images/shanghai haze/201407221245.jpg': '1', '/content/drive/My Drive/Omega/Images/shanghai haze/201407241045.jpg': '2', '/content/drive/My Drive/Omega/Images/shanghai haze/201407251045.jpg': '3', '/content/drive/My Drive/Omega/Images/shanghai haze/201407271045.jpg': '4', '/content/drive/My Drive/Omega/Images/shanghai haze/201407280845.jpg': '3', '/content/drive/My Drive/Omega/Images/shanghai haze/201407291315.jpg': '2', '/content/drive/My Drive/Omega/Images/shanghai haze/201408011045.jpg': '4', '/content/drive/My Drive/Omega/Images/shanghai haze/201408021115.jpg': '3', '/content/drive/My Drive/Omega/Images/shanghai haze/201408051245.jpg': '2', '/content/drive/My Drive/Omega/Images/shanghai haze/201408081015.jpg': '3', '/content/drive/My Drive/Omega/Images/shanghai haze/201408091015.jpg': '5', '/content/drive/My Drive/Omega/Images/shanghai haze/201408100845.jpg': '4', '/content/drive/My Drive/Omega/Images/shanghai haze/201408121315.jpg': '2', '/content/drive/My Drive/Omega/Images/shanghai haze/201408141315.jpg': '3', '/content/drive/My Drive/Omega/Images/shanghai haze/201408151400.jpg': '2', '/content/drive/My Drive/Omega/Images/shanghai haze/201408170815.jpg': '5', '/content/drive/My Drive/Omega/Images/shanghai haze/201408171215.jpg': '4', '/content/drive/My Drive/Omega/Images/shanghai haze/201408181315.jpg': '4', '/content/drive/My Drive/Omega/Images/shanghai haze/201408191445.jpg': '3', '/content/drive/My Drive/Omega/Images/shanghai haze/201408210815.jpg': '3', '/content/drive/My Drive/Omega/Images/shanghai haze/201408251215.jpg': '3', '/content/drive/My Drive/Omega/Images/shanghai haze/201408291315.jpg': '3', '/content/drive/My Drive/Omega/Images/shanghai haze/201408301445.jpg': '0', '/content/drive/My Drive/Omega/Images/shanghai haze/201409011445.jpg': '2', '/content/drive/My Drive/Omega/Images/shanghai haze/201409041215.jpg': '3', '/content/drive/My Drive/Omega/Images/shanghai haze/201409071115.jpg': '2', '/content/drive/My Drive/Omega/Images/shanghai haze/201409091045.jpg': '1', '/content/drive/My Drive/Omega/Images/shanghai haze/201409121415.jpg': '2', '/content/drive/My Drive/Omega/Images/shanghai haze/201409130800.jpg': '5', '/content/drive/My Drive/Omega/Images/shanghai haze/201409131015.jpg': '5', '/content/drive/My Drive/Omega/Images/shanghai haze/201409151145.jpg': '0', '/content/drive/My Drive/Omega/Images/shanghai haze/201409181115.jpg': '4', '/content/drive/My Drive/Omega/Images/shanghai haze/201409190815.jpg': '3', '/content/drive/My Drive/Omega/Images/shanghai haze/201409211145.jpg': '0', '/content/drive/My Drive/Omega/Images/shanghai haze/201409221515.jpg': '3', '/content/drive/My Drive/Omega/Images/shanghai haze/201409231515.jpg': '5', '/content/drive/My Drive/Omega/Images/shanghai haze/201409251015.jpg': '1', '/content/drive/My Drive/Omega/Images/shanghai haze/201409271445.jpg': '2', '/content/drive/My Drive/Omega/Images/shanghai haze/201409301045.jpg': '3', '/content/drive/My Drive/Omega/Images/shanghai haze/201410021445.jpg': '2', '/content/drive/My Drive/Omega/Images/shanghai haze/201410050815.jpg': '1', '/content/drive/My Drive/Omega/Images/shanghai haze/201410081345.jpg': '0', '/content/drive/My Drive/Omega/Images/shanghai haze/201410111045.jpg': '3', '/content/drive/My Drive/Omega/Images/shanghai haze/201410131245.jpg': '2', '/content/drive/My Drive/Omega/Images/shanghai haze/201410151515.jpg': '3', '/content/drive/My Drive/Omega/Images/shanghai haze/201410181415.jpg': '0', '/content/drive/My Drive/Omega/Images/shanghai haze/201410220815.jpg': '4', '/content/drive/My Drive/Omega/Images/shanghai haze/201410250845.jpg': '2', '/content/drive/My Drive/Omega/Images/shanghai haze/201410261315.jpg': '3', '/content/drive/My Drive/Omega/Images/shanghai haze/201410281315.jpg': '2', '/content/drive/My Drive/Omega/Images/shanghai haze/201410310815.jpg': '5', '/content/drive/My Drive/Omega/Images/shanghai haze/201411050845.jpg': '2', '/content/drive/My Drive/Omega/Images/shanghai haze/201411061045.jpg': '4', '/content/drive/My Drive/Omega/Images/shanghai haze/201411091345.jpg': '2', '/content/drive/My Drive/Omega/Images/shanghai haze/201411091515.jpg': '3', '/content/drive/My Drive/Omega/Images/shanghai haze/201411111145.jpg': '2', '/content/drive/My Drive/Omega/Images/shanghai haze/201411131315.jpg': '1', '/content/drive/My Drive/Omega/Images/shanghai haze/201411141445.jpg': '5', '/content/drive/My Drive/Omega/Images/shanghai haze/201411160815.jpg': '1', '/content/drive/My Drive/Omega/Images/shanghai haze/201411191245.jpg': '1', '/content/drive/My Drive/Omega/Images/shanghai haze/201411200815.jpg': '1', '/content/drive/My Drive/Omega/Images/shanghai haze/201411211315.jpg': '2', '/content/drive/My Drive/Omega/Images/shanghai haze/201411231345.jpg': '2', '/content/drive/My Drive/Omega/Images/shanghai haze/201411281315.jpg': '4', '/content/drive/My Drive/Omega/Images/shanghai haze/201411301345.jpg': '3', '/content/drive/My Drive/Omega/Images/shanghai haze/201412031215.jpg': '2', '/content/drive/My Drive/Omega/Images/shanghai haze/201412061115.jpg': '2', '/content/drive/My Drive/Omega/Images/shanghai haze/201412090845.jpg': '1', '/content/drive/My Drive/Omega/Images/shanghai haze/201412131015.jpg': '0', '/content/drive/My Drive/Omega/Images/shanghai haze/201412161245.jpg': '0', '/content/drive/My Drive/Omega/Images/shanghai haze/201412181515.jpg': '2', '/content/drive/My Drive/Omega/Images/shanghai haze/201412190815.jpg': '3', '/content/drive/My Drive/Omega/Images/shanghai haze/201412191215.jpg': '1', '/content/drive/My Drive/Omega/Images/shanghai haze/201412201545.jpg': '1', '/content/drive/My Drive/Omega/Images/shanghai haze/201412231045.jpg': '0', '/content/drive/My Drive/Omega/Images/shanghai haze/201412250845.jpg': '3', '/content/drive/My Drive/Omega/Images/shanghai haze/201412271015.jpg': '3', '/content/drive/My Drive/Omega/Images/shanghai haze/201412290800.jpg': '3', '/content/drive/My Drive/Omega/Images/shanghai haze/201412291545.jpg': '1', '/content/drive/My Drive/Omega/Images/shanghai haze/201412301515.jpg': '1', '/content/drive/My Drive/Omega/Images/shanghai haze/201412311315.jpg': '3'}\n"
          ],
          "name": "stdout"
        }
      ]
    },
    {
      "cell_type": "code",
      "metadata": {
        "id": "7ILgBNIT1fjs",
        "colab_type": "code",
        "colab": {
          "base_uri": "https://localhost:8080/",
          "height": 106
        },
        "outputId": "4d47702e-4e28-4704-b8b8-0fd1832b38db"
      },
      "source": [
        "print(beijing_labels)\n",
        "print(shanghai_labels)\n",
        "print(ohaze_labels)\n",
        "print(final_our)"
      ],
      "execution_count": 164,
      "outputs": [
        {
          "output_type": "stream",
          "text": [
            "{'/content/drive/My Drive/Omega/Images/Beijing/2014_01_06_0728.jpg': '2', '/content/drive/My Drive/Omega/Images/Beijing/2014_01_16_0716.jpg': '0', '/content/drive/My Drive/Omega/Images/Beijing/2014_03_11_0700.jpg': '4', '/content/drive/My Drive/Omega/Images/Beijing/2014_03_12_0701.jpg': '4', '/content/drive/My Drive/Omega/Images/Beijing/2014_03_17_0710.jpg': '4', '/content/drive/My Drive/Omega/Images/Beijing/2014_03_24_0701.jpg': '0', '/content/drive/My Drive/Omega/Images/Beijing/2014_03_25_0701.jpg': '2', '/content/drive/My Drive/Omega/Images/Beijing/2014_03_27_0701.jpg': '0', '/content/drive/My Drive/Omega/Images/Beijing/2014_04_01_0700.jpg': '4', '/content/drive/My Drive/Omega/Images/Beijing/2014_04_02_0701.jpg': '0', '/content/drive/My Drive/Omega/Images/Beijing/2014_04_14_0641.jpg': '3', '/content/drive/My Drive/Omega/Images/Beijing/2014_04_18_0653.jpg': '0', '/content/drive/My Drive/Omega/Images/Beijing/2014_04_19_0644.jpg': '1', '/content/drive/My Drive/Omega/Images/Beijing/2014_05_14_0617.jpg': '0', '/content/drive/My Drive/Omega/Images/Beijing/2014_05_24_0640.jpg': '1', '/content/drive/My Drive/Omega/Images/Beijing/2014_07_06_0636.jpg': '0', '/content/drive/My Drive/Omega/Images/Beijing/2014_07_22_0624.jpg': '1', '/content/drive/My Drive/Omega/Images/Beijing/2014_07_26_0607.jpg': '1', '/content/drive/My Drive/Omega/Images/Beijing/2014_07_29_0622.jpg': '2', '/content/drive/My Drive/Omega/Images/Beijing/2014_07_31_0623.jpg': '1', '/content/drive/My Drive/Omega/Images/Beijing/2014_08_12_0627.jpg': '1', '/content/drive/My Drive/Omega/Images/Beijing/2014_08_31_0642.jpg': '1', '/content/drive/My Drive/Omega/Images/Beijing/2014_09_02_0634.jpg': '0', '/content/drive/My Drive/Omega/Images/Beijing/2014_09_06_0641.jpg': '1', '/content/drive/My Drive/Omega/Images/Beijing/2014_09_08_0638.jpg': '2', '/content/drive/My Drive/Omega/Images/Beijing/2014_09_25_0645.jpg': '0', '/content/drive/My Drive/Omega/Images/Beijing/2014_10_08_0825.jpg': '1', '/content/drive/My Drive/Omega/Images/Beijing/2014_10_09_0801.jpg': '1', '/content/drive/My Drive/Omega/Images/Beijing/2014_10_11_0824.jpg': '1', '/content/drive/My Drive/Omega/Images/Beijing/2014_10_25_0643.jpg': '0', '/content/drive/My Drive/Omega/Images/Beijing/2014_10_26_0733.jpg': '1', '/content/drive/My Drive/Omega/Images/Beijing/2014_10_30_0653.jpg': '4', '/content/drive/My Drive/Omega/Images/Beijing/2014_10_31_0721.jpg': '5', '/content/drive/My Drive/Omega/Images/Beijing/2014_11_16_0720.jpg': '3', '/content/drive/My Drive/Omega/Images/Beijing/2014_11_17_0725.jpg': '0', '/content/drive/My Drive/Omega/Images/Beijing/2014_11_19_0735.jpg': '4', '/content/drive/My Drive/Omega/Images/Beijing/2014_11_20_0727.jpg': '1', '/content/drive/My Drive/Omega/Images/Beijing/2014_11_22_0738.jpg': '0', '/content/drive/My Drive/Omega/Images/Beijing/2014_11_25_0737.jpg': '2', '/content/drive/My Drive/Omega/Images/Beijing/2014_11_26_0745.jpg': '3', '/content/drive/My Drive/Omega/Images/Beijing/2014_11_29_0711.jpg': '1', '/content/drive/My Drive/Omega/Images/Beijing/2014_12_08_0740.jpg': '1', '/content/drive/My Drive/Omega/Images/Beijing/2014_12_09_0730.jpg': '0', '/content/drive/My Drive/Omega/Images/Beijing/2014_12_10_0732.jpg': '2'}\n",
            "{'/content/drive/My Drive/Omega/Images/shanghai haze/201405181130.jpg': '5', '/content/drive/My Drive/Omega/Images/shanghai haze/201405271215.jpg': '2', '/content/drive/My Drive/Omega/Images/shanghai haze/201406071345.jpg': '3', '/content/drive/My Drive/Omega/Images/shanghai haze/201406171415.jpg': '4', '/content/drive/My Drive/Omega/Images/shanghai haze/201406211415.jpg': '4', '/content/drive/My Drive/Omega/Images/shanghai haze/201406261545.jpg': '5', '/content/drive/My Drive/Omega/Images/shanghai haze/201406271245.jpg': '3', '/content/drive/My Drive/Omega/Images/shanghai haze/201407051015.jpg': '4', '/content/drive/My Drive/Omega/Images/shanghai haze/201407091145.jpg': '1', '/content/drive/My Drive/Omega/Images/shanghai haze/201407101545.jpg': '4', '/content/drive/My Drive/Omega/Images/shanghai haze/201407141315.jpg': '3', '/content/drive/My Drive/Omega/Images/shanghai haze/201407191015.jpg': '2', '/content/drive/My Drive/Omega/Images/shanghai haze/201407211015.jpg': '2', '/content/drive/My Drive/Omega/Images/shanghai haze/201407221245.jpg': '1', '/content/drive/My Drive/Omega/Images/shanghai haze/201407241045.jpg': '2', '/content/drive/My Drive/Omega/Images/shanghai haze/201407251045.jpg': '3', '/content/drive/My Drive/Omega/Images/shanghai haze/201407271045.jpg': '4', '/content/drive/My Drive/Omega/Images/shanghai haze/201407280845.jpg': '3', '/content/drive/My Drive/Omega/Images/shanghai haze/201407291315.jpg': '2', '/content/drive/My Drive/Omega/Images/shanghai haze/201408011045.jpg': '4', '/content/drive/My Drive/Omega/Images/shanghai haze/201408021115.jpg': '3', '/content/drive/My Drive/Omega/Images/shanghai haze/201408051245.jpg': '2', '/content/drive/My Drive/Omega/Images/shanghai haze/201408081015.jpg': '3', '/content/drive/My Drive/Omega/Images/shanghai haze/201408091015.jpg': '5', '/content/drive/My Drive/Omega/Images/shanghai haze/201408100845.jpg': '4', '/content/drive/My Drive/Omega/Images/shanghai haze/201408121315.jpg': '2', '/content/drive/My Drive/Omega/Images/shanghai haze/201408141315.jpg': '3', '/content/drive/My Drive/Omega/Images/shanghai haze/201408151400.jpg': '2', '/content/drive/My Drive/Omega/Images/shanghai haze/201408170815.jpg': '5', '/content/drive/My Drive/Omega/Images/shanghai haze/201408171215.jpg': '4', '/content/drive/My Drive/Omega/Images/shanghai haze/201408181315.jpg': '4', '/content/drive/My Drive/Omega/Images/shanghai haze/201408191445.jpg': '3', '/content/drive/My Drive/Omega/Images/shanghai haze/201408210815.jpg': '3', '/content/drive/My Drive/Omega/Images/shanghai haze/201408251215.jpg': '3', '/content/drive/My Drive/Omega/Images/shanghai haze/201408291315.jpg': '3', '/content/drive/My Drive/Omega/Images/shanghai haze/201408301445.jpg': '0', '/content/drive/My Drive/Omega/Images/shanghai haze/201409011445.jpg': '2', '/content/drive/My Drive/Omega/Images/shanghai haze/201409041215.jpg': '3', '/content/drive/My Drive/Omega/Images/shanghai haze/201409071115.jpg': '2', '/content/drive/My Drive/Omega/Images/shanghai haze/201409091045.jpg': '1', '/content/drive/My Drive/Omega/Images/shanghai haze/201409121415.jpg': '2', '/content/drive/My Drive/Omega/Images/shanghai haze/201409130800.jpg': '5', '/content/drive/My Drive/Omega/Images/shanghai haze/201409131015.jpg': '5', '/content/drive/My Drive/Omega/Images/shanghai haze/201409151145.jpg': '0', '/content/drive/My Drive/Omega/Images/shanghai haze/201409181115.jpg': '4', '/content/drive/My Drive/Omega/Images/shanghai haze/201409190815.jpg': '3', '/content/drive/My Drive/Omega/Images/shanghai haze/201409211145.jpg': '0', '/content/drive/My Drive/Omega/Images/shanghai haze/201409221515.jpg': '3', '/content/drive/My Drive/Omega/Images/shanghai haze/201409231515.jpg': '5', '/content/drive/My Drive/Omega/Images/shanghai haze/201409251015.jpg': '1', '/content/drive/My Drive/Omega/Images/shanghai haze/201409271445.jpg': '2', '/content/drive/My Drive/Omega/Images/shanghai haze/201409301045.jpg': '3', '/content/drive/My Drive/Omega/Images/shanghai haze/201410021445.jpg': '2', '/content/drive/My Drive/Omega/Images/shanghai haze/201410050815.jpg': '1', '/content/drive/My Drive/Omega/Images/shanghai haze/201410081345.jpg': '0', '/content/drive/My Drive/Omega/Images/shanghai haze/201410111045.jpg': '3', '/content/drive/My Drive/Omega/Images/shanghai haze/201410131245.jpg': '2', '/content/drive/My Drive/Omega/Images/shanghai haze/201410151515.jpg': '3', '/content/drive/My Drive/Omega/Images/shanghai haze/201410181415.jpg': '0', '/content/drive/My Drive/Omega/Images/shanghai haze/201410220815.jpg': '4', '/content/drive/My Drive/Omega/Images/shanghai haze/201410250845.jpg': '2', '/content/drive/My Drive/Omega/Images/shanghai haze/201410261315.jpg': '3', '/content/drive/My Drive/Omega/Images/shanghai haze/201410281315.jpg': '2', '/content/drive/My Drive/Omega/Images/shanghai haze/201410310815.jpg': '5', '/content/drive/My Drive/Omega/Images/shanghai haze/201411050845.jpg': '2', '/content/drive/My Drive/Omega/Images/shanghai haze/201411061045.jpg': '4', '/content/drive/My Drive/Omega/Images/shanghai haze/201411091345.jpg': '2', '/content/drive/My Drive/Omega/Images/shanghai haze/201411091515.jpg': '3', '/content/drive/My Drive/Omega/Images/shanghai haze/201411111145.jpg': '2', '/content/drive/My Drive/Omega/Images/shanghai haze/201411131315.jpg': '1', '/content/drive/My Drive/Omega/Images/shanghai haze/201411141445.jpg': '5', '/content/drive/My Drive/Omega/Images/shanghai haze/201411160815.jpg': '1', '/content/drive/My Drive/Omega/Images/shanghai haze/201411191245.jpg': '1', '/content/drive/My Drive/Omega/Images/shanghai haze/201411200815.jpg': '1', '/content/drive/My Drive/Omega/Images/shanghai haze/201411211315.jpg': '2', '/content/drive/My Drive/Omega/Images/shanghai haze/201411231345.jpg': '2', '/content/drive/My Drive/Omega/Images/shanghai haze/201411281315.jpg': '4', '/content/drive/My Drive/Omega/Images/shanghai haze/201411301345.jpg': '3', '/content/drive/My Drive/Omega/Images/shanghai haze/201412031215.jpg': '2', '/content/drive/My Drive/Omega/Images/shanghai haze/201412061115.jpg': '2', '/content/drive/My Drive/Omega/Images/shanghai haze/201412090845.jpg': '1', '/content/drive/My Drive/Omega/Images/shanghai haze/201412131015.jpg': '0', '/content/drive/My Drive/Omega/Images/shanghai haze/201412161245.jpg': '0', '/content/drive/My Drive/Omega/Images/shanghai haze/201412181515.jpg': '2', '/content/drive/My Drive/Omega/Images/shanghai haze/201412190815.jpg': '3', '/content/drive/My Drive/Omega/Images/shanghai haze/201412191215.jpg': '1', '/content/drive/My Drive/Omega/Images/shanghai haze/201412201545.jpg': '1', '/content/drive/My Drive/Omega/Images/shanghai haze/201412231045.jpg': '0', '/content/drive/My Drive/Omega/Images/shanghai haze/201412250845.jpg': '3', '/content/drive/My Drive/Omega/Images/shanghai haze/201412271015.jpg': '3', '/content/drive/My Drive/Omega/Images/shanghai haze/201412290800.jpg': '3', '/content/drive/My Drive/Omega/Images/shanghai haze/201412291545.jpg': '1', '/content/drive/My Drive/Omega/Images/shanghai haze/201412301515.jpg': '1', '/content/drive/My Drive/Omega/Images/shanghai haze/201412311315.jpg': '3'}\n",
            "{'01_outdoor_GT.jpg': '2', '14_outdoor_GT.jpg': '1', '18_outdoor_GT.jpg': '1', '19_outdoor_GT.jpg': '1', '19_outdoor_hazy.jpg': '3', '20_outdoor_hazy.jpg': '3', '23_outdoor_GT.jpg': '1', '23_outdoor_hazy.jpg': '2', '24_outdoor_hazy.jpg': '3', '25_outdoor_GT.jpg': '1', '28_outdoor_GT.jpg': '1', '30_outdoor_GT.jpg': '1', '31_outdoor_hazy.jpg': '3', '34_outdoor_GT.jpg': '1', '34_outdoor_hazy.jpg': '3', '35_outdoor_hazy.jpg': '2', '37_outdoor_GT.jpg': '1', '37_outdoor_hazy.jpg': '3', '38_outdoor_GT.jpg': '1', '39_outdoor_hazy.jpg': '3', '40_outdoor_GT.jpg': '1', '40_outdoor_hazy.jpg': '3', '42_outdoor_GT.jpg': '1', '42_outdoor_hazy.jpg': '3', '43_outdoor_GT.jpg': '1', '44_outdoor_GT.jpg': '1'}\n",
            "{'1.jpg': '0', '2.jpg': '0', '3.jpg': '1', '4.jpg': '1', '5.jpg': '0', '6.jpg': '0', '7.jpg': '1', '8.jpg': '0', '9.jpg': '0', '10.jpg': '0', '11.jpg': '1', '12.jpg': '1', '13.jpg': '0', '14.jpg': '0', '15.jpg': '0', '16.jpg': '1', '17.jpg': '0', '18.jpg': '0', '19.jpg': '0', '20.jpg': '0', '21.jpg': '0', '22.jpg': '1', '23.jpg': '0', '24.jpg': '0', '25.jpg': '0', '26.jpg': '0', '27.jpg': '0'}\n"
          ],
          "name": "stdout"
        }
      ]
    },
    {
      "cell_type": "code",
      "metadata": {
        "id": "dbiHlN2s6gtp",
        "colab_type": "code",
        "colab": {}
      },
      "source": [
        "images =[]\n",
        "for key in beijing_labels:\n",
        "  images.append(key)\n",
        "for key in shanghai_labels:\n",
        "  images.append(key)\n",
        "for key in ohaze_labels:\n",
        "  images.append(key)\n",
        "for key in final_our:\n",
        "  images.append(key)\n",
        "  "
      ],
      "execution_count": 0,
      "outputs": []
    },
    {
      "cell_type": "code",
      "metadata": {
        "id": "Akmwhjln7nHO",
        "colab_type": "code",
        "colab": {
          "base_uri": "https://localhost:8080/",
          "height": 68
        },
        "outputId": "024f6305-c7e5-464c-cc35-177321d75eaf"
      },
      "source": [
        "print(len(images))\n",
        "print(len(labels))\n",
        "print(len(omega))"
      ],
      "execution_count": 169,
      "outputs": [
        {
          "output_type": "stream",
          "text": [
            "191\n",
            "191\n",
            "191\n"
          ],
          "name": "stdout"
        }
      ]
    },
    {
      "cell_type": "code",
      "metadata": {
        "id": "0cUvOBPU7Plq",
        "colab_type": "code",
        "colab": {}
      },
      "source": [
        "labels =[]\n",
        "for key in beijing_labels:\n",
        "  labels.append(beijing_labels[key])\n",
        "for key in shanghai_labels:\n",
        "  labels.append(shanghai_labels[key])\n",
        "for key in ohaze_labels:\n",
        "  labels.append(ohaze_labels[key])\n",
        "for key in final_our:\n",
        "  labels.append(final_our[key])\n",
        "  "
      ],
      "execution_count": 0,
      "outputs": []
    },
    {
      "cell_type": "code",
      "metadata": {
        "id": "ZiaLA-2_7uHl",
        "colab_type": "code",
        "colab": {}
      },
      "source": [
        "omega = []\n",
        "for l in labels:\n",
        "  if(l == '0'):\n",
        "    omega.append(0.1)\n",
        "  elif(l == '1'):\n",
        "    omega.append(0.3)\n",
        "  elif(l == '2'):\n",
        "    omega.append(0.5)\n",
        "  elif(l == '3'):\n",
        "    omega.append(0.7)\n",
        "  elif(l == '4'):\n",
        "    omega.append(0.8)\n",
        "  elif(l == '5'):\n",
        "    omega.append(0.9)"
      ],
      "execution_count": 0,
      "outputs": []
    },
    {
      "cell_type": "code",
      "metadata": {
        "id": "7DOfXkomIgSU",
        "colab_type": "code",
        "colab": {}
      },
      "source": [
        "ctr=0\n",
        "\n",
        "x2_l=[]\n",
        "x1_l=[]\n",
        "\n",
        "\n",
        "for img in images:\n",
        "  im = cv2.imread(img)\n",
        "  im = cv2.resize(im, (256,256))\n",
        "  B=np.zeros((256,256))\n",
        "  D=np.zeros((256,256))\n",
        "  C=np.zeros((256,256))\n",
        "  # 3rd channel or im[2] has been split as b,g,r \n",
        "\n",
        "  b,g,r = cv2.split(im)\n",
        "\n",
        "  ctr+=1\n",
        "  for i in range(b.shape[0]):\n",
        "    for j in range(b.shape[1]):\n",
        "      D[i][j] = min(b[i][j], g[i][j], r[i][j])\n",
        "      B[i][j] = max(b[i][j], g[i][j], r[i][j])\n",
        "      C[i][j] = B[i][j] - D[i][j]\n",
        "\n",
        "  d = np.sum(D)/float(np.size(D))\n",
        "  b = np.sum(B)/float(np.size(B))\n",
        "  c = b-d \n",
        "  A = (0.33)*max(np.ndarray.flatten(B)) + (0.66)*b\n",
        "  \n",
        "  x1_l.append((A - d)/float(A)) \n",
        "  x2_l.append(c/float(A)) \n",
        "  print(ctr)"
      ],
      "execution_count": 0,
      "outputs": []
    },
    {
      "cell_type": "code",
      "metadata": {
        "id": "fscFCBU4LaLt",
        "colab_type": "code",
        "colab": {
          "base_uri": "https://localhost:8080/",
          "height": 51
        },
        "outputId": "2d2db865-c8a5-4521-a137-8a813b209fc6"
      },
      "source": [
        "print(len(x1_l))\n",
        "print(len(x2_l))"
      ],
      "execution_count": 187,
      "outputs": [
        {
          "output_type": "stream",
          "text": [
            "191\n",
            "191\n"
          ],
          "name": "stdout"
        }
      ]
    },
    {
      "cell_type": "code",
      "metadata": {
        "id": "5avaVox8NB0x",
        "colab_type": "code",
        "colab": {}
      },
      "source": [
        "x1_train=x1_l[:130]\n",
        "x1_train = np.resize(x1_train, (130,1))\n",
        "x2_train=x2_l[:130]\n",
        "x2_train = np.resize(x2_train, (130,1))\n",
        "\n",
        "x1_test=x1_l[130:]\n",
        "x1_test = np.resize(x1_test, (130,1))\n",
        "x2_test=x2_l[130:]\n",
        "x2_test = np.resize(x2_test, (130,1))\n",
        "\n",
        "y_train=omega[:130]\n",
        "y_train = np.resize(y_train, (130,1))\n",
        "y_test=omega[130:]\n",
        "y_test = np.resize(y_test, (130,1))"
      ],
      "execution_count": 0,
      "outputs": []
    },
    {
      "cell_type": "code",
      "metadata": {
        "id": "bJMCiYduJNH-",
        "colab_type": "code",
        "colab": {
          "base_uri": "https://localhost:8080/",
          "height": 377
        },
        "outputId": "4f1809b6-d042-4d4e-fd99-3df5138d7284"
      },
      "source": [
        "x1=tf.placeholder(dtype = tf.float32, shape = (None,1))\n",
        "x2=tf.placeholder(dtype = tf.float32, shape= (None,1))\n",
        "w=tf.placeholder(dtype = tf.float32, shape= (None,1))\n",
        "\n",
        "u =tf.Variable(5.1)\n",
        "v =tf.Variable(2.9)\n",
        "s =tf.Variable(0.2461)\n",
        "h = tf.math.exp(-0.5**(u*x1 + v*x2)+s)\n",
        "\n",
        "loss = tf.reduce_mean(tf.square(tf.subtract(w,h)), name = 'loss')\n",
        "opt = tf.train.AdamOptimizer(learning_rate = 0.001)\n",
        "train_op = opt.minimize(loss)\n",
        "\n",
        "init = tf.global_variables_initializer()\n",
        "\n",
        "with tf.Session() as sess:\n",
        "  sess.run(init)\n",
        "  for epoch in range(45000):\n",
        "    z = sess.run([loss,train_op, u, v, s],feed_dict={x1 :x1_train,x2 : x2_train, w : y_train })\n",
        "    print(z)\n",
        "    print('\\r')\n",
        "    z_val = sess.run([loss, u,v,s], feed_dict = {x1 : x1_test, x2 : x2_test, w : y_test})\n",
        "    print(z_val)"
      ],
      "execution_count": 214,
      "outputs": [
        {
          "output_type": "error",
          "ename": "KeyboardInterrupt",
          "evalue": "ignored",
          "traceback": [
            "\u001b[0;31m---------------------------------------------------------------------------\u001b[0m",
            "\u001b[0;31mKeyboardInterrupt\u001b[0m                         Traceback (most recent call last)",
            "\u001b[0;32m<ipython-input-214-8d39f9ecf2ad>\u001b[0m in \u001b[0;36m<module>\u001b[0;34m()\u001b[0m\n\u001b[0;32m----> 1\u001b[0;31m \u001b[0mx1\u001b[0m\u001b[0;34m=\u001b[0m\u001b[0mtf\u001b[0m\u001b[0;34m.\u001b[0m\u001b[0mplaceholder\u001b[0m\u001b[0;34m(\u001b[0m\u001b[0mdtype\u001b[0m \u001b[0;34m=\u001b[0m \u001b[0mtf\u001b[0m\u001b[0;34m.\u001b[0m\u001b[0mfloat32\u001b[0m\u001b[0;34m,\u001b[0m \u001b[0mshape\u001b[0m \u001b[0;34m=\u001b[0m \u001b[0;34m(\u001b[0m\u001b[0;32mNone\u001b[0m\u001b[0;34m,\u001b[0m\u001b[0;36m1\u001b[0m\u001b[0;34m)\u001b[0m\u001b[0;34m)\u001b[0m\u001b[0;34m\u001b[0m\u001b[0;34m\u001b[0m\u001b[0m\n\u001b[0m\u001b[1;32m      2\u001b[0m \u001b[0mx2\u001b[0m\u001b[0;34m=\u001b[0m\u001b[0mtf\u001b[0m\u001b[0;34m.\u001b[0m\u001b[0mplaceholder\u001b[0m\u001b[0;34m(\u001b[0m\u001b[0mdtype\u001b[0m \u001b[0;34m=\u001b[0m \u001b[0mtf\u001b[0m\u001b[0;34m.\u001b[0m\u001b[0mfloat32\u001b[0m\u001b[0;34m,\u001b[0m \u001b[0mshape\u001b[0m\u001b[0;34m=\u001b[0m \u001b[0;34m(\u001b[0m\u001b[0;32mNone\u001b[0m\u001b[0;34m,\u001b[0m\u001b[0;36m1\u001b[0m\u001b[0;34m)\u001b[0m\u001b[0;34m)\u001b[0m\u001b[0;34m\u001b[0m\u001b[0;34m\u001b[0m\u001b[0m\n\u001b[1;32m      3\u001b[0m \u001b[0mw\u001b[0m\u001b[0;34m=\u001b[0m\u001b[0mtf\u001b[0m\u001b[0;34m.\u001b[0m\u001b[0mplaceholder\u001b[0m\u001b[0;34m(\u001b[0m\u001b[0mdtype\u001b[0m \u001b[0;34m=\u001b[0m \u001b[0mtf\u001b[0m\u001b[0;34m.\u001b[0m\u001b[0mfloat32\u001b[0m\u001b[0;34m,\u001b[0m \u001b[0mshape\u001b[0m\u001b[0;34m=\u001b[0m \u001b[0;34m(\u001b[0m\u001b[0;32mNone\u001b[0m\u001b[0;34m,\u001b[0m\u001b[0;36m1\u001b[0m\u001b[0;34m)\u001b[0m\u001b[0;34m)\u001b[0m\u001b[0;34m\u001b[0m\u001b[0;34m\u001b[0m\u001b[0m\n\u001b[1;32m      4\u001b[0m \u001b[0;34m\u001b[0m\u001b[0m\n\u001b[1;32m      5\u001b[0m \u001b[0mu\u001b[0m \u001b[0;34m=\u001b[0m\u001b[0mtf\u001b[0m\u001b[0;34m.\u001b[0m\u001b[0mVariable\u001b[0m\u001b[0;34m(\u001b[0m\u001b[0;36m5.1\u001b[0m\u001b[0;34m)\u001b[0m\u001b[0;34m\u001b[0m\u001b[0;34m\u001b[0m\u001b[0m\n",
            "\u001b[0;32m/usr/local/lib/python3.6/dist-packages/tensorflow/python/ops/array_ops.py\u001b[0m in \u001b[0;36mplaceholder\u001b[0;34m(dtype, shape, name)\u001b[0m\n\u001b[1;32m   2141\u001b[0m                        \"eager execution.\")\n\u001b[1;32m   2142\u001b[0m \u001b[0;34m\u001b[0m\u001b[0m\n\u001b[0;32m-> 2143\u001b[0;31m   \u001b[0;32mreturn\u001b[0m \u001b[0mgen_array_ops\u001b[0m\u001b[0;34m.\u001b[0m\u001b[0mplaceholder\u001b[0m\u001b[0;34m(\u001b[0m\u001b[0mdtype\u001b[0m\u001b[0;34m=\u001b[0m\u001b[0mdtype\u001b[0m\u001b[0;34m,\u001b[0m \u001b[0mshape\u001b[0m\u001b[0;34m=\u001b[0m\u001b[0mshape\u001b[0m\u001b[0;34m,\u001b[0m \u001b[0mname\u001b[0m\u001b[0;34m=\u001b[0m\u001b[0mname\u001b[0m\u001b[0;34m)\u001b[0m\u001b[0;34m\u001b[0m\u001b[0;34m\u001b[0m\u001b[0m\n\u001b[0m\u001b[1;32m   2144\u001b[0m \u001b[0;34m\u001b[0m\u001b[0m\n\u001b[1;32m   2145\u001b[0m \u001b[0;34m\u001b[0m\u001b[0m\n",
            "\u001b[0;32m/usr/local/lib/python3.6/dist-packages/tensorflow/python/ops/gen_array_ops.py\u001b[0m in \u001b[0;36mplaceholder\u001b[0;34m(dtype, shape, name)\u001b[0m\n\u001b[1;32m   6260\u001b[0m   \u001b[0mshape\u001b[0m \u001b[0;34m=\u001b[0m \u001b[0m_execute\u001b[0m\u001b[0;34m.\u001b[0m\u001b[0mmake_shape\u001b[0m\u001b[0;34m(\u001b[0m\u001b[0mshape\u001b[0m\u001b[0;34m,\u001b[0m \u001b[0;34m\"shape\"\u001b[0m\u001b[0;34m)\u001b[0m\u001b[0;34m\u001b[0m\u001b[0;34m\u001b[0m\u001b[0m\n\u001b[1;32m   6261\u001b[0m   _, _, _op = _op_def_lib._apply_op_helper(\n\u001b[0;32m-> 6262\u001b[0;31m         \"Placeholder\", dtype=dtype, shape=shape, name=name)\n\u001b[0m\u001b[1;32m   6263\u001b[0m   \u001b[0m_result\u001b[0m \u001b[0;34m=\u001b[0m \u001b[0m_op\u001b[0m\u001b[0;34m.\u001b[0m\u001b[0moutputs\u001b[0m\u001b[0;34m[\u001b[0m\u001b[0;34m:\u001b[0m\u001b[0;34m]\u001b[0m\u001b[0;34m\u001b[0m\u001b[0;34m\u001b[0m\u001b[0m\n\u001b[1;32m   6264\u001b[0m   \u001b[0m_inputs_flat\u001b[0m \u001b[0;34m=\u001b[0m \u001b[0m_op\u001b[0m\u001b[0;34m.\u001b[0m\u001b[0minputs\u001b[0m\u001b[0;34m\u001b[0m\u001b[0;34m\u001b[0m\u001b[0m\n",
            "\u001b[0;32m/usr/local/lib/python3.6/dist-packages/tensorflow/python/framework/op_def_library.py\u001b[0m in \u001b[0;36m_apply_op_helper\u001b[0;34m(self, op_type_name, name, **keywords)\u001b[0m\n\u001b[1;32m    786\u001b[0m         op = g.create_op(op_type_name, inputs, dtypes=None, name=scope,\n\u001b[1;32m    787\u001b[0m                          \u001b[0minput_types\u001b[0m\u001b[0;34m=\u001b[0m\u001b[0minput_types\u001b[0m\u001b[0;34m,\u001b[0m \u001b[0mattrs\u001b[0m\u001b[0;34m=\u001b[0m\u001b[0mattr_protos\u001b[0m\u001b[0;34m,\u001b[0m\u001b[0;34m\u001b[0m\u001b[0;34m\u001b[0m\u001b[0m\n\u001b[0;32m--> 788\u001b[0;31m                          op_def=op_def)\n\u001b[0m\u001b[1;32m    789\u001b[0m       \u001b[0;32mreturn\u001b[0m \u001b[0moutput_structure\u001b[0m\u001b[0;34m,\u001b[0m \u001b[0mop_def\u001b[0m\u001b[0;34m.\u001b[0m\u001b[0mis_stateful\u001b[0m\u001b[0;34m,\u001b[0m \u001b[0mop\u001b[0m\u001b[0;34m\u001b[0m\u001b[0;34m\u001b[0m\u001b[0m\n\u001b[1;32m    790\u001b[0m \u001b[0;34m\u001b[0m\u001b[0m\n",
            "\u001b[0;32m/usr/local/lib/python3.6/dist-packages/tensorflow/python/util/deprecation.py\u001b[0m in \u001b[0;36mnew_func\u001b[0;34m(*args, **kwargs)\u001b[0m\n\u001b[1;32m    505\u001b[0m                 \u001b[0;34m'in a future version'\u001b[0m \u001b[0;32mif\u001b[0m \u001b[0mdate\u001b[0m \u001b[0;32mis\u001b[0m \u001b[0;32mNone\u001b[0m \u001b[0;32melse\u001b[0m \u001b[0;34m(\u001b[0m\u001b[0;34m'after %s'\u001b[0m \u001b[0;34m%\u001b[0m \u001b[0mdate\u001b[0m\u001b[0;34m)\u001b[0m\u001b[0;34m,\u001b[0m\u001b[0;34m\u001b[0m\u001b[0;34m\u001b[0m\u001b[0m\n\u001b[1;32m    506\u001b[0m                 instructions)\n\u001b[0;32m--> 507\u001b[0;31m       \u001b[0;32mreturn\u001b[0m \u001b[0mfunc\u001b[0m\u001b[0;34m(\u001b[0m\u001b[0;34m*\u001b[0m\u001b[0margs\u001b[0m\u001b[0;34m,\u001b[0m \u001b[0;34m**\u001b[0m\u001b[0mkwargs\u001b[0m\u001b[0;34m)\u001b[0m\u001b[0;34m\u001b[0m\u001b[0;34m\u001b[0m\u001b[0m\n\u001b[0m\u001b[1;32m    508\u001b[0m \u001b[0;34m\u001b[0m\u001b[0m\n\u001b[1;32m    509\u001b[0m     doc = _add_deprecated_arg_notice_to_docstring(\n",
            "\u001b[0;32m/usr/local/lib/python3.6/dist-packages/tensorflow/python/framework/ops.py\u001b[0m in \u001b[0;36mcreate_op\u001b[0;34m(***failed resolving arguments***)\u001b[0m\n\u001b[1;32m   3605\u001b[0m     \u001b[0;31m# _create_op_helper mutates the new Operation. `_mutation_lock` ensures a\u001b[0m\u001b[0;34m\u001b[0m\u001b[0;34m\u001b[0m\u001b[0;34m\u001b[0m\u001b[0m\n\u001b[1;32m   3606\u001b[0m     \u001b[0;31m# Session.run call cannot occur between creating and mutating the op.\u001b[0m\u001b[0;34m\u001b[0m\u001b[0;34m\u001b[0m\u001b[0;34m\u001b[0m\u001b[0m\n\u001b[0;32m-> 3607\u001b[0;31m     \u001b[0;32mwith\u001b[0m \u001b[0mself\u001b[0m\u001b[0;34m.\u001b[0m\u001b[0m_mutation_lock\u001b[0m\u001b[0;34m(\u001b[0m\u001b[0;34m)\u001b[0m\u001b[0;34m:\u001b[0m\u001b[0;34m\u001b[0m\u001b[0;34m\u001b[0m\u001b[0m\n\u001b[0m\u001b[1;32m   3608\u001b[0m       ret = Operation(\n\u001b[1;32m   3609\u001b[0m           \u001b[0mnode_def\u001b[0m\u001b[0;34m,\u001b[0m\u001b[0;34m\u001b[0m\u001b[0;34m\u001b[0m\u001b[0m\n",
            "\u001b[0;32m/usr/local/lib/python3.6/dist-packages/tensorflow/python/util/lock_util.py\u001b[0m in \u001b[0;36m__enter__\u001b[0;34m(self)\u001b[0m\n\u001b[1;32m    122\u001b[0m \u001b[0;34m\u001b[0m\u001b[0m\n\u001b[1;32m    123\u001b[0m     \u001b[0;32mdef\u001b[0m \u001b[0m__enter__\u001b[0m\u001b[0;34m(\u001b[0m\u001b[0mself\u001b[0m\u001b[0;34m)\u001b[0m\u001b[0;34m:\u001b[0m\u001b[0;34m\u001b[0m\u001b[0;34m\u001b[0m\u001b[0m\n\u001b[0;32m--> 124\u001b[0;31m       \u001b[0mself\u001b[0m\u001b[0;34m.\u001b[0m\u001b[0m_lock\u001b[0m\u001b[0;34m.\u001b[0m\u001b[0macquire\u001b[0m\u001b[0;34m(\u001b[0m\u001b[0mself\u001b[0m\u001b[0;34m.\u001b[0m\u001b[0m_group_id\u001b[0m\u001b[0;34m)\u001b[0m\u001b[0;34m\u001b[0m\u001b[0;34m\u001b[0m\u001b[0m\n\u001b[0m\u001b[1;32m    125\u001b[0m \u001b[0;34m\u001b[0m\u001b[0m\n\u001b[1;32m    126\u001b[0m     \u001b[0;32mdef\u001b[0m \u001b[0m__exit__\u001b[0m\u001b[0;34m(\u001b[0m\u001b[0mself\u001b[0m\u001b[0;34m,\u001b[0m \u001b[0mtype_arg\u001b[0m\u001b[0;34m,\u001b[0m \u001b[0mvalue_arg\u001b[0m\u001b[0;34m,\u001b[0m \u001b[0mtraceback_arg\u001b[0m\u001b[0;34m)\u001b[0m\u001b[0;34m:\u001b[0m\u001b[0;34m\u001b[0m\u001b[0;34m\u001b[0m\u001b[0m\n",
            "\u001b[0;32m/usr/local/lib/python3.6/dist-packages/tensorflow/python/util/lock_util.py\u001b[0m in \u001b[0;36macquire\u001b[0;34m(self, group_id)\u001b[0m\n\u001b[1;32m     88\u001b[0m     \u001b[0mself\u001b[0m\u001b[0;34m.\u001b[0m\u001b[0m_validate_group_id\u001b[0m\u001b[0;34m(\u001b[0m\u001b[0mgroup_id\u001b[0m\u001b[0;34m)\u001b[0m\u001b[0;34m\u001b[0m\u001b[0;34m\u001b[0m\u001b[0m\n\u001b[1;32m     89\u001b[0m \u001b[0;34m\u001b[0m\u001b[0m\n\u001b[0;32m---> 90\u001b[0;31m     \u001b[0mself\u001b[0m\u001b[0;34m.\u001b[0m\u001b[0m_ready\u001b[0m\u001b[0;34m.\u001b[0m\u001b[0macquire\u001b[0m\u001b[0;34m(\u001b[0m\u001b[0;34m)\u001b[0m\u001b[0;34m\u001b[0m\u001b[0;34m\u001b[0m\u001b[0m\n\u001b[0m\u001b[1;32m     91\u001b[0m     \u001b[0;32mwhile\u001b[0m \u001b[0mself\u001b[0m\u001b[0;34m.\u001b[0m\u001b[0m_another_group_active\u001b[0m\u001b[0;34m(\u001b[0m\u001b[0mgroup_id\u001b[0m\u001b[0;34m)\u001b[0m\u001b[0;34m:\u001b[0m\u001b[0;34m\u001b[0m\u001b[0;34m\u001b[0m\u001b[0m\n\u001b[1;32m     92\u001b[0m       \u001b[0mself\u001b[0m\u001b[0;34m.\u001b[0m\u001b[0m_ready\u001b[0m\u001b[0;34m.\u001b[0m\u001b[0mwait\u001b[0m\u001b[0;34m(\u001b[0m\u001b[0;34m)\u001b[0m\u001b[0;34m\u001b[0m\u001b[0;34m\u001b[0m\u001b[0m\n",
            "\u001b[0;31mKeyboardInterrupt\u001b[0m: "
          ]
        }
      ]
    },
    {
      "cell_type": "code",
      "metadata": {
        "id": "1y4QwuJXL7wB",
        "colab_type": "code",
        "colab": {}
      },
      "source": [
        ""
      ],
      "execution_count": 0,
      "outputs": []
    }
  ]
}