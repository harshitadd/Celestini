{
  "nbformat": 4,
  "nbformat_minor": 0,
  "metadata": {
    "colab": {
      "name": "constantfinder.ipynb",
      "version": "0.3.2",
      "provenance": [],
      "collapsed_sections": [],
      "include_colab_link": true
    },
    "kernelspec": {
      "name": "python3",
      "display_name": "Python 3"
    },
    "accelerator": "GPU"
  },
  "cells": [
    {
      "cell_type": "markdown",
      "metadata": {
        "id": "view-in-github",
        "colab_type": "text"
      },
      "source": [
        "<a href=\"https://colab.research.google.com/github/harshitadd/Celestini/blob/master/constantfinder.ipynb\" target=\"_parent\"><img src=\"https://colab.research.google.com/assets/colab-badge.svg\" alt=\"Open In Colab\"/></a>"
      ]
    },
    {
      "cell_type": "code",
      "metadata": {
        "id": "mQchns52IbcQ",
        "colab_type": "code",
        "colab": {}
      },
      "source": [
        "import tensorflow as tf \n",
        "import numpy as np \n",
        "import csv\n",
        "import os \n",
        "import cv2\n",
        "from google.colab.patches import cv2_imshow\n",
        "import numpy as np\n",
        "\n",
        "#!pip install unrar "
      ],
      "execution_count": 0,
      "outputs": []
    },
    {
      "cell_type": "code",
      "metadata": {
        "id": "-w5T2Tr9X9bN",
        "colab_type": "code",
        "colab": {
          "base_uri": "https://localhost:8080/",
          "height": 274
        },
        "outputId": "60bb1404-eb69-40c5-9fa4-b0ef1a488d6f"
      },
      "source": [
        "!unrar e '/content/drive/My Drive/data.rar'\n",
        "\n",
        "#rar = rarfile.RarFile('/content/drive/My Drive/data.rar')"
      ],
      "execution_count": 2,
      "outputs": [
        {
          "output_type": "stream",
          "text": [
            "\n",
            "UNRAR 5.50 freeware      Copyright (c) 1993-2017 Alexander Roshal\n",
            "\n",
            "\n",
            "Extracting from /content/drive/My Drive/data.rar\n",
            "\n",
            "\n",
            "Would you like to replace the existing file 1.jpg\n",
            "1164390 bytes, modified on 2019-07-23 17:53\n",
            "with a new one\n",
            "1164390 bytes, modified on 2019-07-23 17:53\n",
            "\n",
            "[Y]es, [N]o, [A]ll, n[E]ver, [R]ename, [Q]uit Q\n",
            "\n",
            "Program aborted\n"
          ],
          "name": "stdout"
        }
      ]
    },
    {
      "cell_type": "code",
      "metadata": {
        "id": "vwMCq-UhYo1H",
        "colab_type": "code",
        "colab": {
          "base_uri": "https://localhost:8080/",
          "height": 54
        },
        "outputId": "c8e5c679-8e58-4102-fff6-308af64d58e2"
      },
      "source": [
        "from google.colab import drive\n",
        "drive.mount('/content/drive')"
      ],
      "execution_count": 3,
      "outputs": [
        {
          "output_type": "stream",
          "text": [
            "Drive already mounted at /content/drive; to attempt to forcibly remount, call drive.mount(\"/content/drive\", force_remount=True).\n"
          ],
          "name": "stdout"
        }
      ]
    },
    {
      "cell_type": "code",
      "metadata": {
        "id": "bFgRN3endqDV",
        "colab_type": "code",
        "colab": {}
      },
      "source": [
        "im_ohaze = []\n",
        "im_our =[]\n",
        "\n",
        "source = os.listdir('/content/')\n",
        "for file in source:\n",
        "  if(file.endswith('.jpg')):\n",
        "    if 'outdoor' in file:\n",
        "      im_ohaze.append(file)\n",
        "    else:\n",
        "      im_our.append(file)"
      ],
      "execution_count": 0,
      "outputs": []
    },
    {
      "cell_type": "code",
      "metadata": {
        "id": "YT0g79LP13Pn",
        "colab_type": "code",
        "colab": {
          "base_uri": "https://localhost:8080/",
          "height": 34
        },
        "outputId": "8b8f3042-35a3-4b9d-8771-fb9bb7a75636"
      },
      "source": [
        "print(len(im_ohaze))"
      ],
      "execution_count": 5,
      "outputs": [
        {
          "output_type": "stream",
          "text": [
            "46\n"
          ],
          "name": "stdout"
        }
      ]
    },
    {
      "cell_type": "code",
      "metadata": {
        "id": "ISzh3BkxJXqi",
        "colab_type": "code",
        "colab": {
          "base_uri": "https://localhost:8080/",
          "height": 806
        },
        "outputId": "0bc3f813-3099-4cbf-b86b-c889ce51f4ae"
      },
      "source": [
        "for im in im_ohaze:\n",
        "  print(im)"
      ],
      "execution_count": 6,
      "outputs": [
        {
          "output_type": "stream",
          "text": [
            "10_outdoor_GT.jpg\n",
            "37_outdoor_GT.jpg\n",
            "35_outdoor_hazy.jpg\n",
            "18_outdoor_GT.jpg\n",
            "24_outdoor_hazy.jpg\n",
            "04_outdoor_hazy.jpg\n",
            "19_outdoor_hazy.jpg\n",
            "44_outdoor_GT.jpg\n",
            "19_outdoor_GT.jpg\n",
            "04_outdoor_GT.jpg\n",
            "34_outdoor_GT.jpg\n",
            "14_outdoor_GT.jpg\n",
            "05_outdoor_hazy.jpg\n",
            "13_outdoor_GT.jpg\n",
            "42_outdoor_hazy.jpg\n",
            "40_outdoor_hazy.jpg\n",
            "01_outdoor_hazy.jpg\n",
            "40_outdoor_GT.jpg\n",
            "08_outdoor_hazy.jpg\n",
            "16_outdoor_GT.jpg\n",
            "07_outdoor_GT.jpg\n",
            "30_outdoor_GT.jpg\n",
            "14_outdoor_hazy.jpg\n",
            "38_outdoor_GT.jpg\n",
            "31_outdoor_hazy.jpg\n",
            "37_outdoor_hazy.jpg\n",
            "31_outdoor_GT.jpg\n",
            "12_outdoor_hazy.jpg\n",
            "25_outdoor_GT.jpg\n",
            "17_outdoor_hazy.jpg\n",
            "34_outdoor_hazy.jpg\n",
            "23_outdoor_hazy.jpg\n",
            "43_outdoor_GT.jpg\n",
            "30_outdoor_hazy.jpg\n",
            "28_outdoor_hazy.jpg\n",
            "11_outdoor_GT.jpg\n",
            "23_outdoor_GT.jpg\n",
            "28_outdoor_GT.jpg\n",
            "25_outdoor_hazy.jpg\n",
            "20_outdoor_hazy.jpg\n",
            "13_outdoor_hazy.jpg\n",
            "01_outdoor_GT.jpg\n",
            "39_outdoor_hazy.jpg\n",
            "45_outdoor_hazy.jpg\n",
            "42_outdoor_GT.jpg\n",
            "10_outdoor_hazy.jpg\n"
          ],
          "name": "stdout"
        }
      ]
    },
    {
      "cell_type": "code",
      "metadata": {
        "id": "HlpNFxxNAY_C",
        "colab_type": "code",
        "colab": {}
      },
      "source": [
        "our_img_label=[]\n",
        "with open('/content/our_img.csv') as file:\n",
        "  reader = csv.reader(file, delimiter = ',')\n",
        "  for row in reader:\n",
        "    l=[]\n",
        "    l.append(row[0])\n",
        "    l.append(row[1])\n",
        "    our_img_label.append(l)"
      ],
      "execution_count": 0,
      "outputs": []
    },
    {
      "cell_type": "code",
      "metadata": {
        "id": "hyMT413rZrp4",
        "colab_type": "code",
        "colab": {
          "base_uri": "https://localhost:8080/",
          "height": 54
        },
        "outputId": "ad352d18-b5ea-401b-ecde-b09f2ba63307"
      },
      "source": [
        "print(our_img_label)"
      ],
      "execution_count": 8,
      "outputs": [
        {
          "output_type": "stream",
          "text": [
            "[['1', '0'], ['2', '0'], ['3', '1'], ['4', '1'], ['5', '0'], ['6', '0'], ['7', '1'], ['8', '0'], ['9', '0'], ['10', '0'], ['11', '1'], ['12', '1'], ['13', '0'], ['14', '0'], ['15', '0'], ['16', '1'], ['17', '0'], ['18', '0'], ['19', '0'], ['20', '0'], ['21', '0'], ['22', '1'], ['23', '0'], ['24', '0'], ['25', '0'], ['26', '0'], ['27', '0']]\n"
          ],
          "name": "stdout"
        }
      ]
    },
    {
      "cell_type": "code",
      "metadata": {
        "id": "eoYWeGaYCgDt",
        "colab_type": "code",
        "colab": {}
      },
      "source": [
        "im_our.sort()\n",
        "temp=[]\n",
        "\n",
        "\n",
        "final_our={}\n",
        "\n",
        "for i in our_img_label:\n",
        "  for im in im_our:\n",
        "    if(i[0]==im[:-4]):   \n",
        "      final_our[im]=i[1]\n",
        "     "
      ],
      "execution_count": 0,
      "outputs": []
    },
    {
      "cell_type": "code",
      "metadata": {
        "id": "bg4chXiFCk4r",
        "colab_type": "code",
        "colab": {
          "base_uri": "https://localhost:8080/",
          "height": 54
        },
        "outputId": "ad78fa47-6cc2-4154-be92-55f07a0d63c1"
      },
      "source": [
        "print(final_our)"
      ],
      "execution_count": 10,
      "outputs": [
        {
          "output_type": "stream",
          "text": [
            "{'1.jpg': '0', '2.jpg': '0', '3.jpg': '1', '4.jpg': '1', '5.jpg': '0', '6.jpg': '0', '7.jpg': '1', '8.jpg': '0', '9.jpg': '0', '10.jpg': '0', '11.jpg': '1', '12.jpg': '1', '13.jpg': '0', '14.jpg': '0', '15.jpg': '0', '16.jpg': '1', '17.jpg': '0', '18.jpg': '0', '19.jpg': '0', '20.jpg': '0', '21.jpg': '0', '22.jpg': '1', '23.jpg': '0', '24.jpg': '0', '25.jpg': '0', '26.jpg': '0', '27.jpg': '0'}\n"
          ],
          "name": "stdout"
        }
      ]
    },
    {
      "cell_type": "code",
      "metadata": {
        "id": "v-vcscd0H4ZP",
        "colab_type": "code",
        "colab": {
          "base_uri": "https://localhost:8080/",
          "height": 806
        },
        "outputId": "e901f221-53c7-4eb5-b6d9-fbc5d085e017"
      },
      "source": [
        "for im in im_ohaze:\n",
        "  if 'GT' in im:\n",
        "    print(im[0:3]+im[-6:-4])\n",
        "\n",
        "  else:\n",
        "    print(im[0:2] + im[-9:-4])\n"
      ],
      "execution_count": 11,
      "outputs": [
        {
          "output_type": "stream",
          "text": [
            "10_GT\n",
            "37_GT\n",
            "35_hazy\n",
            "18_GT\n",
            "24_hazy\n",
            "04_hazy\n",
            "19_hazy\n",
            "44_GT\n",
            "19_GT\n",
            "04_GT\n",
            "34_GT\n",
            "14_GT\n",
            "05_hazy\n",
            "13_GT\n",
            "42_hazy\n",
            "40_hazy\n",
            "01_hazy\n",
            "40_GT\n",
            "08_hazy\n",
            "16_GT\n",
            "07_GT\n",
            "30_GT\n",
            "14_hazy\n",
            "38_GT\n",
            "31_hazy\n",
            "37_hazy\n",
            "31_GT\n",
            "12_hazy\n",
            "25_GT\n",
            "17_hazy\n",
            "34_hazy\n",
            "23_hazy\n",
            "43_GT\n",
            "30_hazy\n",
            "28_hazy\n",
            "11_GT\n",
            "23_GT\n",
            "28_GT\n",
            "25_hazy\n",
            "20_hazy\n",
            "13_hazy\n",
            "01_GT\n",
            "39_hazy\n",
            "45_hazy\n",
            "42_GT\n",
            "10_hazy\n"
          ],
          "name": "stdout"
        }
      ]
    },
    {
      "cell_type": "code",
      "metadata": {
        "id": "gXqbPg3EiUAm",
        "colab_type": "code",
        "colab": {}
      },
      "source": [
        "ohaze=[]\n",
        "with open('/content/OHAZE_LABELS.csv') as file:\n",
        "  reader = csv.reader(file)\n",
        "  for row in reader:\n",
        "    l=[]\n",
        "    l.append(row[0])\n",
        "    l.append(row[1])\n",
        "    ohaze.append(l)"
      ],
      "execution_count": 0,
      "outputs": []
    },
    {
      "cell_type": "code",
      "metadata": {
        "id": "P-amCcbkndpx",
        "colab_type": "code",
        "colab": {}
      },
      "source": [
        "ohaze_labels={}\n",
        "\n",
        "for i in ohaze:\n",
        "  for im in im_ohaze:\n",
        "    if 'GT' in im:\n",
        "      if(im[0:3]+im[-6:-4])==i[0]:\n",
        "        ohaze_labels[im]=i[1]\n",
        "    elif(im[0:2] + im[-9:-4])==i[0]:\n",
        "        ohaze_labels[im]=i[1]\n"
      ],
      "execution_count": 0,
      "outputs": []
    },
    {
      "cell_type": "code",
      "metadata": {
        "id": "IXz5f_W8o6qH",
        "colab_type": "code",
        "colab": {
          "base_uri": "https://localhost:8080/",
          "height": 34
        },
        "outputId": "8658d580-641f-4947-927c-8d372c5f3ba6"
      },
      "source": [
        "print(len(ohaze_labels))"
      ],
      "execution_count": 14,
      "outputs": [
        {
          "output_type": "stream",
          "text": [
            "26\n"
          ],
          "name": "stdout"
        }
      ]
    },
    {
      "cell_type": "code",
      "metadata": {
        "id": "APcrTS-Grndd",
        "colab_type": "code",
        "colab": {}
      },
      "source": [
        "#Reading shanghai and Beijing files \n",
        "\n",
        "temp=[]\n",
        "\n",
        "s = os.listdir('/content/drive/My Drive/Omega/Images/shanghai haze/')\n",
        "for file in s:\n",
        "  temp.append('/content/drive/My Drive/Omega/Images/shanghai haze/' + file)\n",
        "  \n",
        "\n",
        "newt=[]\n",
        "\n",
        "s = os.listdir('/content/drive/My Drive/Omega/Images/Beijing/')\n",
        "for file in s:\n",
        "  newt.append('/content/drive/My Drive/Omega/Images/Beijing/' + file)"
      ],
      "execution_count": 0,
      "outputs": []
    },
    {
      "cell_type": "code",
      "metadata": {
        "id": "H7HUqoV_2Yth",
        "colab_type": "code",
        "colab": {}
      },
      "source": [
        "\n",
        "newt.sort()\n",
        "beijing=newt"
      ],
      "execution_count": 0,
      "outputs": []
    },
    {
      "cell_type": "code",
      "metadata": {
        "id": "QlVpmWFU2k6x",
        "colab_type": "code",
        "colab": {
          "base_uri": "https://localhost:8080/",
          "height": 54
        },
        "outputId": "bf09299c-982b-4c62-af99-78ceb83119b1"
      },
      "source": [
        "print(beijing)"
      ],
      "execution_count": 17,
      "outputs": [
        {
          "output_type": "stream",
          "text": [
            "['/content/drive/My Drive/Omega/Images/Beijing/2014_01_06_0728.jpg', '/content/drive/My Drive/Omega/Images/Beijing/2014_01_16_0716.jpg', '/content/drive/My Drive/Omega/Images/Beijing/2014_03_11_0700.jpg', '/content/drive/My Drive/Omega/Images/Beijing/2014_03_12_0701.jpg', '/content/drive/My Drive/Omega/Images/Beijing/2014_03_17_0710.jpg', '/content/drive/My Drive/Omega/Images/Beijing/2014_03_24_0701.jpg', '/content/drive/My Drive/Omega/Images/Beijing/2014_03_25_0701.jpg', '/content/drive/My Drive/Omega/Images/Beijing/2014_03_27_0701.jpg', '/content/drive/My Drive/Omega/Images/Beijing/2014_04_01_0700.jpg', '/content/drive/My Drive/Omega/Images/Beijing/2014_04_02_0701.jpg', '/content/drive/My Drive/Omega/Images/Beijing/2014_04_14_0641.jpg', '/content/drive/My Drive/Omega/Images/Beijing/2014_04_18_0653.jpg', '/content/drive/My Drive/Omega/Images/Beijing/2014_04_19_0644.jpg', '/content/drive/My Drive/Omega/Images/Beijing/2014_05_14_0617.jpg', '/content/drive/My Drive/Omega/Images/Beijing/2014_05_24_0640.jpg', '/content/drive/My Drive/Omega/Images/Beijing/2014_07_06_0636.jpg', '/content/drive/My Drive/Omega/Images/Beijing/2014_07_22_0624.jpg', '/content/drive/My Drive/Omega/Images/Beijing/2014_07_26_0607.jpg', '/content/drive/My Drive/Omega/Images/Beijing/2014_07_29_0622.jpg', '/content/drive/My Drive/Omega/Images/Beijing/2014_07_31_0623.jpg', '/content/drive/My Drive/Omega/Images/Beijing/2014_08_12_0627.jpg', '/content/drive/My Drive/Omega/Images/Beijing/2014_08_31_0642.jpg', '/content/drive/My Drive/Omega/Images/Beijing/2014_09_02_0634.jpg', '/content/drive/My Drive/Omega/Images/Beijing/2014_09_06_0641.jpg', '/content/drive/My Drive/Omega/Images/Beijing/2014_09_08_0638.jpg', '/content/drive/My Drive/Omega/Images/Beijing/2014_09_25_0645.jpg', '/content/drive/My Drive/Omega/Images/Beijing/2014_10_08_0825.jpg', '/content/drive/My Drive/Omega/Images/Beijing/2014_10_09_0801.jpg', '/content/drive/My Drive/Omega/Images/Beijing/2014_10_11_0824.jpg', '/content/drive/My Drive/Omega/Images/Beijing/2014_10_25_0643.jpg', '/content/drive/My Drive/Omega/Images/Beijing/2014_10_26_0733.jpg', '/content/drive/My Drive/Omega/Images/Beijing/2014_10_30_0653.jpg', '/content/drive/My Drive/Omega/Images/Beijing/2014_10_31_0721.jpg', '/content/drive/My Drive/Omega/Images/Beijing/2014_11_16_0720.jpg', '/content/drive/My Drive/Omega/Images/Beijing/2014_11_17_0725.jpg', '/content/drive/My Drive/Omega/Images/Beijing/2014_11_19_0735.jpg', '/content/drive/My Drive/Omega/Images/Beijing/2014_11_20_0727.jpg', '/content/drive/My Drive/Omega/Images/Beijing/2014_11_22_0738.jpg', '/content/drive/My Drive/Omega/Images/Beijing/2014_11_25_0737.jpg', '/content/drive/My Drive/Omega/Images/Beijing/2014_11_26_0745.jpg', '/content/drive/My Drive/Omega/Images/Beijing/2014_11_29_0711.jpg', '/content/drive/My Drive/Omega/Images/Beijing/2014_12_08_0740.jpg', '/content/drive/My Drive/Omega/Images/Beijing/2014_12_09_0730.jpg', '/content/drive/My Drive/Omega/Images/Beijing/2014_12_10_0732.jpg']\n"
          ],
          "name": "stdout"
        }
      ]
    },
    {
      "cell_type": "code",
      "metadata": {
        "id": "6eHuVbHK3Vgv",
        "colab_type": "code",
        "colab": {}
      },
      "source": [
        "\n",
        "i=0\n",
        "beijing_labels={}\n",
        "\n",
        "with open('/content/beijing_labels.csv') as file:\n",
        "  reader = csv.reader(file, delimiter =',')\n",
        "  for row in reader:\n",
        "    beijing_labels[beijing[i]]=row[0]\n",
        "    i+=1\n",
        "    "
      ],
      "execution_count": 0,
      "outputs": []
    },
    {
      "cell_type": "code",
      "metadata": {
        "id": "Yk2Nt6747N9G",
        "colab_type": "code",
        "colab": {
          "base_uri": "https://localhost:8080/",
          "height": 54
        },
        "outputId": "1ba25825-da4b-4681-db74-a145d4e5e899"
      },
      "source": [
        "print(beijing_labels)"
      ],
      "execution_count": 19,
      "outputs": [
        {
          "output_type": "stream",
          "text": [
            "{'/content/drive/My Drive/Omega/Images/Beijing/2014_01_06_0728.jpg': '2', '/content/drive/My Drive/Omega/Images/Beijing/2014_01_16_0716.jpg': '0', '/content/drive/My Drive/Omega/Images/Beijing/2014_03_11_0700.jpg': '4', '/content/drive/My Drive/Omega/Images/Beijing/2014_03_12_0701.jpg': '4', '/content/drive/My Drive/Omega/Images/Beijing/2014_03_17_0710.jpg': '4', '/content/drive/My Drive/Omega/Images/Beijing/2014_03_24_0701.jpg': '0', '/content/drive/My Drive/Omega/Images/Beijing/2014_03_25_0701.jpg': '2', '/content/drive/My Drive/Omega/Images/Beijing/2014_03_27_0701.jpg': '0', '/content/drive/My Drive/Omega/Images/Beijing/2014_04_01_0700.jpg': '4', '/content/drive/My Drive/Omega/Images/Beijing/2014_04_02_0701.jpg': '0', '/content/drive/My Drive/Omega/Images/Beijing/2014_04_14_0641.jpg': '3', '/content/drive/My Drive/Omega/Images/Beijing/2014_04_18_0653.jpg': '0', '/content/drive/My Drive/Omega/Images/Beijing/2014_04_19_0644.jpg': '1', '/content/drive/My Drive/Omega/Images/Beijing/2014_05_14_0617.jpg': '0', '/content/drive/My Drive/Omega/Images/Beijing/2014_05_24_0640.jpg': '1', '/content/drive/My Drive/Omega/Images/Beijing/2014_07_06_0636.jpg': '0', '/content/drive/My Drive/Omega/Images/Beijing/2014_07_22_0624.jpg': '1', '/content/drive/My Drive/Omega/Images/Beijing/2014_07_26_0607.jpg': '1', '/content/drive/My Drive/Omega/Images/Beijing/2014_07_29_0622.jpg': '2', '/content/drive/My Drive/Omega/Images/Beijing/2014_07_31_0623.jpg': '1', '/content/drive/My Drive/Omega/Images/Beijing/2014_08_12_0627.jpg': '1', '/content/drive/My Drive/Omega/Images/Beijing/2014_08_31_0642.jpg': '1', '/content/drive/My Drive/Omega/Images/Beijing/2014_09_02_0634.jpg': '0', '/content/drive/My Drive/Omega/Images/Beijing/2014_09_06_0641.jpg': '1', '/content/drive/My Drive/Omega/Images/Beijing/2014_09_08_0638.jpg': '2', '/content/drive/My Drive/Omega/Images/Beijing/2014_09_25_0645.jpg': '0', '/content/drive/My Drive/Omega/Images/Beijing/2014_10_08_0825.jpg': '1', '/content/drive/My Drive/Omega/Images/Beijing/2014_10_09_0801.jpg': '1', '/content/drive/My Drive/Omega/Images/Beijing/2014_10_11_0824.jpg': '1', '/content/drive/My Drive/Omega/Images/Beijing/2014_10_25_0643.jpg': '0', '/content/drive/My Drive/Omega/Images/Beijing/2014_10_26_0733.jpg': '1', '/content/drive/My Drive/Omega/Images/Beijing/2014_10_30_0653.jpg': '4', '/content/drive/My Drive/Omega/Images/Beijing/2014_10_31_0721.jpg': '5', '/content/drive/My Drive/Omega/Images/Beijing/2014_11_16_0720.jpg': '3', '/content/drive/My Drive/Omega/Images/Beijing/2014_11_17_0725.jpg': '0', '/content/drive/My Drive/Omega/Images/Beijing/2014_11_19_0735.jpg': '4', '/content/drive/My Drive/Omega/Images/Beijing/2014_11_20_0727.jpg': '1', '/content/drive/My Drive/Omega/Images/Beijing/2014_11_22_0738.jpg': '0', '/content/drive/My Drive/Omega/Images/Beijing/2014_11_25_0737.jpg': '2', '/content/drive/My Drive/Omega/Images/Beijing/2014_11_26_0745.jpg': '3', '/content/drive/My Drive/Omega/Images/Beijing/2014_11_29_0711.jpg': '1', '/content/drive/My Drive/Omega/Images/Beijing/2014_12_08_0740.jpg': '1', '/content/drive/My Drive/Omega/Images/Beijing/2014_12_09_0730.jpg': '0', '/content/drive/My Drive/Omega/Images/Beijing/2014_12_10_0732.jpg': '2'}\n"
          ],
          "name": "stdout"
        }
      ]
    },
    {
      "cell_type": "code",
      "metadata": {
        "id": "8AUsu8Snwqz9",
        "colab_type": "code",
        "colab": {}
      },
      "source": [
        "shanghai_labels=[]\n",
        "\n",
        "temp.sort()\n",
        "shanghai=temp"
      ],
      "execution_count": 0,
      "outputs": []
    },
    {
      "cell_type": "code",
      "metadata": {
        "id": "IW9OMxNrx7U_",
        "colab_type": "code",
        "colab": {
          "base_uri": "https://localhost:8080/",
          "height": 54
        },
        "outputId": "a7d7931f-e2a0-460d-f791-4bdaa89a9c9d"
      },
      "source": [
        "\n",
        "\n",
        "\n",
        "print(shanghai)"
      ],
      "execution_count": 21,
      "outputs": [
        {
          "output_type": "stream",
          "text": [
            "['/content/drive/My Drive/Omega/Images/shanghai haze/201405181130.jpg', '/content/drive/My Drive/Omega/Images/shanghai haze/201405271215.jpg', '/content/drive/My Drive/Omega/Images/shanghai haze/201406071345.jpg', '/content/drive/My Drive/Omega/Images/shanghai haze/201406171415.jpg', '/content/drive/My Drive/Omega/Images/shanghai haze/201406211415.jpg', '/content/drive/My Drive/Omega/Images/shanghai haze/201406261545.jpg', '/content/drive/My Drive/Omega/Images/shanghai haze/201406271245.jpg', '/content/drive/My Drive/Omega/Images/shanghai haze/201407051015.jpg', '/content/drive/My Drive/Omega/Images/shanghai haze/201407091145.jpg', '/content/drive/My Drive/Omega/Images/shanghai haze/201407101545.jpg', '/content/drive/My Drive/Omega/Images/shanghai haze/201407141315.jpg', '/content/drive/My Drive/Omega/Images/shanghai haze/201407191015.jpg', '/content/drive/My Drive/Omega/Images/shanghai haze/201407211015.jpg', '/content/drive/My Drive/Omega/Images/shanghai haze/201407221245.jpg', '/content/drive/My Drive/Omega/Images/shanghai haze/201407241045.jpg', '/content/drive/My Drive/Omega/Images/shanghai haze/201407251045.jpg', '/content/drive/My Drive/Omega/Images/shanghai haze/201407271045.jpg', '/content/drive/My Drive/Omega/Images/shanghai haze/201407280845.jpg', '/content/drive/My Drive/Omega/Images/shanghai haze/201407291315.jpg', '/content/drive/My Drive/Omega/Images/shanghai haze/201408011045.jpg', '/content/drive/My Drive/Omega/Images/shanghai haze/201408021115.jpg', '/content/drive/My Drive/Omega/Images/shanghai haze/201408051245.jpg', '/content/drive/My Drive/Omega/Images/shanghai haze/201408081015.jpg', '/content/drive/My Drive/Omega/Images/shanghai haze/201408091015.jpg', '/content/drive/My Drive/Omega/Images/shanghai haze/201408100845.jpg', '/content/drive/My Drive/Omega/Images/shanghai haze/201408121315.jpg', '/content/drive/My Drive/Omega/Images/shanghai haze/201408141315.jpg', '/content/drive/My Drive/Omega/Images/shanghai haze/201408151400.jpg', '/content/drive/My Drive/Omega/Images/shanghai haze/201408170815.jpg', '/content/drive/My Drive/Omega/Images/shanghai haze/201408171215.jpg', '/content/drive/My Drive/Omega/Images/shanghai haze/201408181315.jpg', '/content/drive/My Drive/Omega/Images/shanghai haze/201408191445.jpg', '/content/drive/My Drive/Omega/Images/shanghai haze/201408210815.jpg', '/content/drive/My Drive/Omega/Images/shanghai haze/201408251215.jpg', '/content/drive/My Drive/Omega/Images/shanghai haze/201408291315.jpg', '/content/drive/My Drive/Omega/Images/shanghai haze/201408301445.jpg', '/content/drive/My Drive/Omega/Images/shanghai haze/201409011445.jpg', '/content/drive/My Drive/Omega/Images/shanghai haze/201409041215.jpg', '/content/drive/My Drive/Omega/Images/shanghai haze/201409071115.jpg', '/content/drive/My Drive/Omega/Images/shanghai haze/201409091045.jpg', '/content/drive/My Drive/Omega/Images/shanghai haze/201409121415.jpg', '/content/drive/My Drive/Omega/Images/shanghai haze/201409130800.jpg', '/content/drive/My Drive/Omega/Images/shanghai haze/201409131015.jpg', '/content/drive/My Drive/Omega/Images/shanghai haze/201409151145.jpg', '/content/drive/My Drive/Omega/Images/shanghai haze/201409181115.jpg', '/content/drive/My Drive/Omega/Images/shanghai haze/201409190815.jpg', '/content/drive/My Drive/Omega/Images/shanghai haze/201409211145.jpg', '/content/drive/My Drive/Omega/Images/shanghai haze/201409221515.jpg', '/content/drive/My Drive/Omega/Images/shanghai haze/201409231515.jpg', '/content/drive/My Drive/Omega/Images/shanghai haze/201409251015.jpg', '/content/drive/My Drive/Omega/Images/shanghai haze/201409271445.jpg', '/content/drive/My Drive/Omega/Images/shanghai haze/201409301045.jpg', '/content/drive/My Drive/Omega/Images/shanghai haze/201410021445.jpg', '/content/drive/My Drive/Omega/Images/shanghai haze/201410050815.jpg', '/content/drive/My Drive/Omega/Images/shanghai haze/201410081345.jpg', '/content/drive/My Drive/Omega/Images/shanghai haze/201410111045.jpg', '/content/drive/My Drive/Omega/Images/shanghai haze/201410131245.jpg', '/content/drive/My Drive/Omega/Images/shanghai haze/201410151515.jpg', '/content/drive/My Drive/Omega/Images/shanghai haze/201410181415.jpg', '/content/drive/My Drive/Omega/Images/shanghai haze/201410220815.jpg', '/content/drive/My Drive/Omega/Images/shanghai haze/201410250845.jpg', '/content/drive/My Drive/Omega/Images/shanghai haze/201410261315.jpg', '/content/drive/My Drive/Omega/Images/shanghai haze/201410281315.jpg', '/content/drive/My Drive/Omega/Images/shanghai haze/201410310815.jpg', '/content/drive/My Drive/Omega/Images/shanghai haze/201411050845.jpg', '/content/drive/My Drive/Omega/Images/shanghai haze/201411061045.jpg', '/content/drive/My Drive/Omega/Images/shanghai haze/201411091345.jpg', '/content/drive/My Drive/Omega/Images/shanghai haze/201411091515.jpg', '/content/drive/My Drive/Omega/Images/shanghai haze/201411111145.jpg', '/content/drive/My Drive/Omega/Images/shanghai haze/201411131315.jpg', '/content/drive/My Drive/Omega/Images/shanghai haze/201411141445.jpg', '/content/drive/My Drive/Omega/Images/shanghai haze/201411160815.jpg', '/content/drive/My Drive/Omega/Images/shanghai haze/201411191245.jpg', '/content/drive/My Drive/Omega/Images/shanghai haze/201411200815.jpg', '/content/drive/My Drive/Omega/Images/shanghai haze/201411211315.jpg', '/content/drive/My Drive/Omega/Images/shanghai haze/201411231345.jpg', '/content/drive/My Drive/Omega/Images/shanghai haze/201411281315.jpg', '/content/drive/My Drive/Omega/Images/shanghai haze/201411301345.jpg', '/content/drive/My Drive/Omega/Images/shanghai haze/201412031215.jpg', '/content/drive/My Drive/Omega/Images/shanghai haze/201412061115.jpg', '/content/drive/My Drive/Omega/Images/shanghai haze/201412090845.jpg', '/content/drive/My Drive/Omega/Images/shanghai haze/201412131015.jpg', '/content/drive/My Drive/Omega/Images/shanghai haze/201412161245.jpg', '/content/drive/My Drive/Omega/Images/shanghai haze/201412181515.jpg', '/content/drive/My Drive/Omega/Images/shanghai haze/201412190815.jpg', '/content/drive/My Drive/Omega/Images/shanghai haze/201412191215.jpg', '/content/drive/My Drive/Omega/Images/shanghai haze/201412201545.jpg', '/content/drive/My Drive/Omega/Images/shanghai haze/201412231045.jpg', '/content/drive/My Drive/Omega/Images/shanghai haze/201412250845.jpg', '/content/drive/My Drive/Omega/Images/shanghai haze/201412271015.jpg', '/content/drive/My Drive/Omega/Images/shanghai haze/201412290800.jpg', '/content/drive/My Drive/Omega/Images/shanghai haze/201412291545.jpg', '/content/drive/My Drive/Omega/Images/shanghai haze/201412301515.jpg', '/content/drive/My Drive/Omega/Images/shanghai haze/201412311315.jpg', '/content/drive/My Drive/Omega/Images/shanghai haze/201412311545.jpg']\n"
          ],
          "name": "stdout"
        }
      ]
    },
    {
      "cell_type": "code",
      "metadata": {
        "id": "a3sHdDS2yeSd",
        "colab_type": "code",
        "colab": {}
      },
      "source": [
        "\n",
        "shanghai_labels={}\n",
        "i=0\n",
        "with open('/content/shanghai_labels.csv') as file:\n",
        "  reader = csv.reader(file, delimiter =',')\n",
        "  for row in reader:\n",
        "    shanghai_labels[shanghai[i]]=row[0]\n",
        "    i+=1\n"
      ],
      "execution_count": 0,
      "outputs": []
    },
    {
      "cell_type": "code",
      "metadata": {
        "id": "IGGUSLTW0vvH",
        "colab_type": "code",
        "colab": {
          "base_uri": "https://localhost:8080/",
          "height": 54
        },
        "outputId": "2ba89a2b-6efd-4cc7-e422-802c7ee612ba"
      },
      "source": [
        "print(shanghai_labels)"
      ],
      "execution_count": 23,
      "outputs": [
        {
          "output_type": "stream",
          "text": [
            "{'/content/drive/My Drive/Omega/Images/shanghai haze/201405181130.jpg': '5', '/content/drive/My Drive/Omega/Images/shanghai haze/201405271215.jpg': '2', '/content/drive/My Drive/Omega/Images/shanghai haze/201406071345.jpg': '3', '/content/drive/My Drive/Omega/Images/shanghai haze/201406171415.jpg': '4', '/content/drive/My Drive/Omega/Images/shanghai haze/201406211415.jpg': '4', '/content/drive/My Drive/Omega/Images/shanghai haze/201406261545.jpg': '5', '/content/drive/My Drive/Omega/Images/shanghai haze/201406271245.jpg': '3', '/content/drive/My Drive/Omega/Images/shanghai haze/201407051015.jpg': '4', '/content/drive/My Drive/Omega/Images/shanghai haze/201407091145.jpg': '1', '/content/drive/My Drive/Omega/Images/shanghai haze/201407101545.jpg': '4', '/content/drive/My Drive/Omega/Images/shanghai haze/201407141315.jpg': '3', '/content/drive/My Drive/Omega/Images/shanghai haze/201407191015.jpg': '2', '/content/drive/My Drive/Omega/Images/shanghai haze/201407211015.jpg': '2', '/content/drive/My Drive/Omega/Images/shanghai haze/201407221245.jpg': '1', '/content/drive/My Drive/Omega/Images/shanghai haze/201407241045.jpg': '2', '/content/drive/My Drive/Omega/Images/shanghai haze/201407251045.jpg': '3', '/content/drive/My Drive/Omega/Images/shanghai haze/201407271045.jpg': '4', '/content/drive/My Drive/Omega/Images/shanghai haze/201407280845.jpg': '3', '/content/drive/My Drive/Omega/Images/shanghai haze/201407291315.jpg': '2', '/content/drive/My Drive/Omega/Images/shanghai haze/201408011045.jpg': '4', '/content/drive/My Drive/Omega/Images/shanghai haze/201408021115.jpg': '3', '/content/drive/My Drive/Omega/Images/shanghai haze/201408051245.jpg': '2', '/content/drive/My Drive/Omega/Images/shanghai haze/201408081015.jpg': '3', '/content/drive/My Drive/Omega/Images/shanghai haze/201408091015.jpg': '5', '/content/drive/My Drive/Omega/Images/shanghai haze/201408100845.jpg': '4', '/content/drive/My Drive/Omega/Images/shanghai haze/201408121315.jpg': '2', '/content/drive/My Drive/Omega/Images/shanghai haze/201408141315.jpg': '3', '/content/drive/My Drive/Omega/Images/shanghai haze/201408151400.jpg': '2', '/content/drive/My Drive/Omega/Images/shanghai haze/201408170815.jpg': '5', '/content/drive/My Drive/Omega/Images/shanghai haze/201408171215.jpg': '4', '/content/drive/My Drive/Omega/Images/shanghai haze/201408181315.jpg': '4', '/content/drive/My Drive/Omega/Images/shanghai haze/201408191445.jpg': '3', '/content/drive/My Drive/Omega/Images/shanghai haze/201408210815.jpg': '3', '/content/drive/My Drive/Omega/Images/shanghai haze/201408251215.jpg': '3', '/content/drive/My Drive/Omega/Images/shanghai haze/201408291315.jpg': '3', '/content/drive/My Drive/Omega/Images/shanghai haze/201408301445.jpg': '0', '/content/drive/My Drive/Omega/Images/shanghai haze/201409011445.jpg': '2', '/content/drive/My Drive/Omega/Images/shanghai haze/201409041215.jpg': '3', '/content/drive/My Drive/Omega/Images/shanghai haze/201409071115.jpg': '2', '/content/drive/My Drive/Omega/Images/shanghai haze/201409091045.jpg': '1', '/content/drive/My Drive/Omega/Images/shanghai haze/201409121415.jpg': '2', '/content/drive/My Drive/Omega/Images/shanghai haze/201409130800.jpg': '5', '/content/drive/My Drive/Omega/Images/shanghai haze/201409131015.jpg': '5', '/content/drive/My Drive/Omega/Images/shanghai haze/201409151145.jpg': '0', '/content/drive/My Drive/Omega/Images/shanghai haze/201409181115.jpg': '4', '/content/drive/My Drive/Omega/Images/shanghai haze/201409190815.jpg': '3', '/content/drive/My Drive/Omega/Images/shanghai haze/201409211145.jpg': '0', '/content/drive/My Drive/Omega/Images/shanghai haze/201409221515.jpg': '3', '/content/drive/My Drive/Omega/Images/shanghai haze/201409231515.jpg': '5', '/content/drive/My Drive/Omega/Images/shanghai haze/201409251015.jpg': '1', '/content/drive/My Drive/Omega/Images/shanghai haze/201409271445.jpg': '2', '/content/drive/My Drive/Omega/Images/shanghai haze/201409301045.jpg': '3', '/content/drive/My Drive/Omega/Images/shanghai haze/201410021445.jpg': '2', '/content/drive/My Drive/Omega/Images/shanghai haze/201410050815.jpg': '1', '/content/drive/My Drive/Omega/Images/shanghai haze/201410081345.jpg': '0', '/content/drive/My Drive/Omega/Images/shanghai haze/201410111045.jpg': '3', '/content/drive/My Drive/Omega/Images/shanghai haze/201410131245.jpg': '2', '/content/drive/My Drive/Omega/Images/shanghai haze/201410151515.jpg': '3', '/content/drive/My Drive/Omega/Images/shanghai haze/201410181415.jpg': '0', '/content/drive/My Drive/Omega/Images/shanghai haze/201410220815.jpg': '4', '/content/drive/My Drive/Omega/Images/shanghai haze/201410250845.jpg': '2', '/content/drive/My Drive/Omega/Images/shanghai haze/201410261315.jpg': '3', '/content/drive/My Drive/Omega/Images/shanghai haze/201410281315.jpg': '2', '/content/drive/My Drive/Omega/Images/shanghai haze/201410310815.jpg': '5', '/content/drive/My Drive/Omega/Images/shanghai haze/201411050845.jpg': '2', '/content/drive/My Drive/Omega/Images/shanghai haze/201411061045.jpg': '4', '/content/drive/My Drive/Omega/Images/shanghai haze/201411091345.jpg': '2', '/content/drive/My Drive/Omega/Images/shanghai haze/201411091515.jpg': '3', '/content/drive/My Drive/Omega/Images/shanghai haze/201411111145.jpg': '2', '/content/drive/My Drive/Omega/Images/shanghai haze/201411131315.jpg': '1', '/content/drive/My Drive/Omega/Images/shanghai haze/201411141445.jpg': '5', '/content/drive/My Drive/Omega/Images/shanghai haze/201411160815.jpg': '1', '/content/drive/My Drive/Omega/Images/shanghai haze/201411191245.jpg': '1', '/content/drive/My Drive/Omega/Images/shanghai haze/201411200815.jpg': '1', '/content/drive/My Drive/Omega/Images/shanghai haze/201411211315.jpg': '2', '/content/drive/My Drive/Omega/Images/shanghai haze/201411231345.jpg': '2', '/content/drive/My Drive/Omega/Images/shanghai haze/201411281315.jpg': '4', '/content/drive/My Drive/Omega/Images/shanghai haze/201411301345.jpg': '3', '/content/drive/My Drive/Omega/Images/shanghai haze/201412031215.jpg': '2', '/content/drive/My Drive/Omega/Images/shanghai haze/201412061115.jpg': '2', '/content/drive/My Drive/Omega/Images/shanghai haze/201412090845.jpg': '1', '/content/drive/My Drive/Omega/Images/shanghai haze/201412131015.jpg': '0', '/content/drive/My Drive/Omega/Images/shanghai haze/201412161245.jpg': '0', '/content/drive/My Drive/Omega/Images/shanghai haze/201412181515.jpg': '2', '/content/drive/My Drive/Omega/Images/shanghai haze/201412190815.jpg': '3', '/content/drive/My Drive/Omega/Images/shanghai haze/201412191215.jpg': '1', '/content/drive/My Drive/Omega/Images/shanghai haze/201412201545.jpg': '1', '/content/drive/My Drive/Omega/Images/shanghai haze/201412231045.jpg': '0', '/content/drive/My Drive/Omega/Images/shanghai haze/201412250845.jpg': '3', '/content/drive/My Drive/Omega/Images/shanghai haze/201412271015.jpg': '3', '/content/drive/My Drive/Omega/Images/shanghai haze/201412290800.jpg': '3', '/content/drive/My Drive/Omega/Images/shanghai haze/201412291545.jpg': '1', '/content/drive/My Drive/Omega/Images/shanghai haze/201412301515.jpg': '1', '/content/drive/My Drive/Omega/Images/shanghai haze/201412311315.jpg': '3'}\n"
          ],
          "name": "stdout"
        }
      ]
    },
    {
      "cell_type": "code",
      "metadata": {
        "id": "7ILgBNIT1fjs",
        "colab_type": "code",
        "colab": {
          "base_uri": "https://localhost:8080/",
          "height": 106
        },
        "outputId": "de11a42b-42c2-40dd-c09c-08970329399c"
      },
      "source": [
        "\n",
        "print(beijing_labels)\n",
        "print(shanghai_labels)\n",
        "print(ohaze_labels)\n",
        "print(final_our)"
      ],
      "execution_count": 24,
      "outputs": [
        {
          "output_type": "stream",
          "text": [
            "{'/content/drive/My Drive/Omega/Images/Beijing/2014_01_06_0728.jpg': '2', '/content/drive/My Drive/Omega/Images/Beijing/2014_01_16_0716.jpg': '0', '/content/drive/My Drive/Omega/Images/Beijing/2014_03_11_0700.jpg': '4', '/content/drive/My Drive/Omega/Images/Beijing/2014_03_12_0701.jpg': '4', '/content/drive/My Drive/Omega/Images/Beijing/2014_03_17_0710.jpg': '4', '/content/drive/My Drive/Omega/Images/Beijing/2014_03_24_0701.jpg': '0', '/content/drive/My Drive/Omega/Images/Beijing/2014_03_25_0701.jpg': '2', '/content/drive/My Drive/Omega/Images/Beijing/2014_03_27_0701.jpg': '0', '/content/drive/My Drive/Omega/Images/Beijing/2014_04_01_0700.jpg': '4', '/content/drive/My Drive/Omega/Images/Beijing/2014_04_02_0701.jpg': '0', '/content/drive/My Drive/Omega/Images/Beijing/2014_04_14_0641.jpg': '3', '/content/drive/My Drive/Omega/Images/Beijing/2014_04_18_0653.jpg': '0', '/content/drive/My Drive/Omega/Images/Beijing/2014_04_19_0644.jpg': '1', '/content/drive/My Drive/Omega/Images/Beijing/2014_05_14_0617.jpg': '0', '/content/drive/My Drive/Omega/Images/Beijing/2014_05_24_0640.jpg': '1', '/content/drive/My Drive/Omega/Images/Beijing/2014_07_06_0636.jpg': '0', '/content/drive/My Drive/Omega/Images/Beijing/2014_07_22_0624.jpg': '1', '/content/drive/My Drive/Omega/Images/Beijing/2014_07_26_0607.jpg': '1', '/content/drive/My Drive/Omega/Images/Beijing/2014_07_29_0622.jpg': '2', '/content/drive/My Drive/Omega/Images/Beijing/2014_07_31_0623.jpg': '1', '/content/drive/My Drive/Omega/Images/Beijing/2014_08_12_0627.jpg': '1', '/content/drive/My Drive/Omega/Images/Beijing/2014_08_31_0642.jpg': '1', '/content/drive/My Drive/Omega/Images/Beijing/2014_09_02_0634.jpg': '0', '/content/drive/My Drive/Omega/Images/Beijing/2014_09_06_0641.jpg': '1', '/content/drive/My Drive/Omega/Images/Beijing/2014_09_08_0638.jpg': '2', '/content/drive/My Drive/Omega/Images/Beijing/2014_09_25_0645.jpg': '0', '/content/drive/My Drive/Omega/Images/Beijing/2014_10_08_0825.jpg': '1', '/content/drive/My Drive/Omega/Images/Beijing/2014_10_09_0801.jpg': '1', '/content/drive/My Drive/Omega/Images/Beijing/2014_10_11_0824.jpg': '1', '/content/drive/My Drive/Omega/Images/Beijing/2014_10_25_0643.jpg': '0', '/content/drive/My Drive/Omega/Images/Beijing/2014_10_26_0733.jpg': '1', '/content/drive/My Drive/Omega/Images/Beijing/2014_10_30_0653.jpg': '4', '/content/drive/My Drive/Omega/Images/Beijing/2014_10_31_0721.jpg': '5', '/content/drive/My Drive/Omega/Images/Beijing/2014_11_16_0720.jpg': '3', '/content/drive/My Drive/Omega/Images/Beijing/2014_11_17_0725.jpg': '0', '/content/drive/My Drive/Omega/Images/Beijing/2014_11_19_0735.jpg': '4', '/content/drive/My Drive/Omega/Images/Beijing/2014_11_20_0727.jpg': '1', '/content/drive/My Drive/Omega/Images/Beijing/2014_11_22_0738.jpg': '0', '/content/drive/My Drive/Omega/Images/Beijing/2014_11_25_0737.jpg': '2', '/content/drive/My Drive/Omega/Images/Beijing/2014_11_26_0745.jpg': '3', '/content/drive/My Drive/Omega/Images/Beijing/2014_11_29_0711.jpg': '1', '/content/drive/My Drive/Omega/Images/Beijing/2014_12_08_0740.jpg': '1', '/content/drive/My Drive/Omega/Images/Beijing/2014_12_09_0730.jpg': '0', '/content/drive/My Drive/Omega/Images/Beijing/2014_12_10_0732.jpg': '2'}\n",
            "{'/content/drive/My Drive/Omega/Images/shanghai haze/201405181130.jpg': '5', '/content/drive/My Drive/Omega/Images/shanghai haze/201405271215.jpg': '2', '/content/drive/My Drive/Omega/Images/shanghai haze/201406071345.jpg': '3', '/content/drive/My Drive/Omega/Images/shanghai haze/201406171415.jpg': '4', '/content/drive/My Drive/Omega/Images/shanghai haze/201406211415.jpg': '4', '/content/drive/My Drive/Omega/Images/shanghai haze/201406261545.jpg': '5', '/content/drive/My Drive/Omega/Images/shanghai haze/201406271245.jpg': '3', '/content/drive/My Drive/Omega/Images/shanghai haze/201407051015.jpg': '4', '/content/drive/My Drive/Omega/Images/shanghai haze/201407091145.jpg': '1', '/content/drive/My Drive/Omega/Images/shanghai haze/201407101545.jpg': '4', '/content/drive/My Drive/Omega/Images/shanghai haze/201407141315.jpg': '3', '/content/drive/My Drive/Omega/Images/shanghai haze/201407191015.jpg': '2', '/content/drive/My Drive/Omega/Images/shanghai haze/201407211015.jpg': '2', '/content/drive/My Drive/Omega/Images/shanghai haze/201407221245.jpg': '1', '/content/drive/My Drive/Omega/Images/shanghai haze/201407241045.jpg': '2', '/content/drive/My Drive/Omega/Images/shanghai haze/201407251045.jpg': '3', '/content/drive/My Drive/Omega/Images/shanghai haze/201407271045.jpg': '4', '/content/drive/My Drive/Omega/Images/shanghai haze/201407280845.jpg': '3', '/content/drive/My Drive/Omega/Images/shanghai haze/201407291315.jpg': '2', '/content/drive/My Drive/Omega/Images/shanghai haze/201408011045.jpg': '4', '/content/drive/My Drive/Omega/Images/shanghai haze/201408021115.jpg': '3', '/content/drive/My Drive/Omega/Images/shanghai haze/201408051245.jpg': '2', '/content/drive/My Drive/Omega/Images/shanghai haze/201408081015.jpg': '3', '/content/drive/My Drive/Omega/Images/shanghai haze/201408091015.jpg': '5', '/content/drive/My Drive/Omega/Images/shanghai haze/201408100845.jpg': '4', '/content/drive/My Drive/Omega/Images/shanghai haze/201408121315.jpg': '2', '/content/drive/My Drive/Omega/Images/shanghai haze/201408141315.jpg': '3', '/content/drive/My Drive/Omega/Images/shanghai haze/201408151400.jpg': '2', '/content/drive/My Drive/Omega/Images/shanghai haze/201408170815.jpg': '5', '/content/drive/My Drive/Omega/Images/shanghai haze/201408171215.jpg': '4', '/content/drive/My Drive/Omega/Images/shanghai haze/201408181315.jpg': '4', '/content/drive/My Drive/Omega/Images/shanghai haze/201408191445.jpg': '3', '/content/drive/My Drive/Omega/Images/shanghai haze/201408210815.jpg': '3', '/content/drive/My Drive/Omega/Images/shanghai haze/201408251215.jpg': '3', '/content/drive/My Drive/Omega/Images/shanghai haze/201408291315.jpg': '3', '/content/drive/My Drive/Omega/Images/shanghai haze/201408301445.jpg': '0', '/content/drive/My Drive/Omega/Images/shanghai haze/201409011445.jpg': '2', '/content/drive/My Drive/Omega/Images/shanghai haze/201409041215.jpg': '3', '/content/drive/My Drive/Omega/Images/shanghai haze/201409071115.jpg': '2', '/content/drive/My Drive/Omega/Images/shanghai haze/201409091045.jpg': '1', '/content/drive/My Drive/Omega/Images/shanghai haze/201409121415.jpg': '2', '/content/drive/My Drive/Omega/Images/shanghai haze/201409130800.jpg': '5', '/content/drive/My Drive/Omega/Images/shanghai haze/201409131015.jpg': '5', '/content/drive/My Drive/Omega/Images/shanghai haze/201409151145.jpg': '0', '/content/drive/My Drive/Omega/Images/shanghai haze/201409181115.jpg': '4', '/content/drive/My Drive/Omega/Images/shanghai haze/201409190815.jpg': '3', '/content/drive/My Drive/Omega/Images/shanghai haze/201409211145.jpg': '0', '/content/drive/My Drive/Omega/Images/shanghai haze/201409221515.jpg': '3', '/content/drive/My Drive/Omega/Images/shanghai haze/201409231515.jpg': '5', '/content/drive/My Drive/Omega/Images/shanghai haze/201409251015.jpg': '1', '/content/drive/My Drive/Omega/Images/shanghai haze/201409271445.jpg': '2', '/content/drive/My Drive/Omega/Images/shanghai haze/201409301045.jpg': '3', '/content/drive/My Drive/Omega/Images/shanghai haze/201410021445.jpg': '2', '/content/drive/My Drive/Omega/Images/shanghai haze/201410050815.jpg': '1', '/content/drive/My Drive/Omega/Images/shanghai haze/201410081345.jpg': '0', '/content/drive/My Drive/Omega/Images/shanghai haze/201410111045.jpg': '3', '/content/drive/My Drive/Omega/Images/shanghai haze/201410131245.jpg': '2', '/content/drive/My Drive/Omega/Images/shanghai haze/201410151515.jpg': '3', '/content/drive/My Drive/Omega/Images/shanghai haze/201410181415.jpg': '0', '/content/drive/My Drive/Omega/Images/shanghai haze/201410220815.jpg': '4', '/content/drive/My Drive/Omega/Images/shanghai haze/201410250845.jpg': '2', '/content/drive/My Drive/Omega/Images/shanghai haze/201410261315.jpg': '3', '/content/drive/My Drive/Omega/Images/shanghai haze/201410281315.jpg': '2', '/content/drive/My Drive/Omega/Images/shanghai haze/201410310815.jpg': '5', '/content/drive/My Drive/Omega/Images/shanghai haze/201411050845.jpg': '2', '/content/drive/My Drive/Omega/Images/shanghai haze/201411061045.jpg': '4', '/content/drive/My Drive/Omega/Images/shanghai haze/201411091345.jpg': '2', '/content/drive/My Drive/Omega/Images/shanghai haze/201411091515.jpg': '3', '/content/drive/My Drive/Omega/Images/shanghai haze/201411111145.jpg': '2', '/content/drive/My Drive/Omega/Images/shanghai haze/201411131315.jpg': '1', '/content/drive/My Drive/Omega/Images/shanghai haze/201411141445.jpg': '5', '/content/drive/My Drive/Omega/Images/shanghai haze/201411160815.jpg': '1', '/content/drive/My Drive/Omega/Images/shanghai haze/201411191245.jpg': '1', '/content/drive/My Drive/Omega/Images/shanghai haze/201411200815.jpg': '1', '/content/drive/My Drive/Omega/Images/shanghai haze/201411211315.jpg': '2', '/content/drive/My Drive/Omega/Images/shanghai haze/201411231345.jpg': '2', '/content/drive/My Drive/Omega/Images/shanghai haze/201411281315.jpg': '4', '/content/drive/My Drive/Omega/Images/shanghai haze/201411301345.jpg': '3', '/content/drive/My Drive/Omega/Images/shanghai haze/201412031215.jpg': '2', '/content/drive/My Drive/Omega/Images/shanghai haze/201412061115.jpg': '2', '/content/drive/My Drive/Omega/Images/shanghai haze/201412090845.jpg': '1', '/content/drive/My Drive/Omega/Images/shanghai haze/201412131015.jpg': '0', '/content/drive/My Drive/Omega/Images/shanghai haze/201412161245.jpg': '0', '/content/drive/My Drive/Omega/Images/shanghai haze/201412181515.jpg': '2', '/content/drive/My Drive/Omega/Images/shanghai haze/201412190815.jpg': '3', '/content/drive/My Drive/Omega/Images/shanghai haze/201412191215.jpg': '1', '/content/drive/My Drive/Omega/Images/shanghai haze/201412201545.jpg': '1', '/content/drive/My Drive/Omega/Images/shanghai haze/201412231045.jpg': '0', '/content/drive/My Drive/Omega/Images/shanghai haze/201412250845.jpg': '3', '/content/drive/My Drive/Omega/Images/shanghai haze/201412271015.jpg': '3', '/content/drive/My Drive/Omega/Images/shanghai haze/201412290800.jpg': '3', '/content/drive/My Drive/Omega/Images/shanghai haze/201412291545.jpg': '1', '/content/drive/My Drive/Omega/Images/shanghai haze/201412301515.jpg': '1', '/content/drive/My Drive/Omega/Images/shanghai haze/201412311315.jpg': '3'}\n",
            "{'01_outdoor_GT.jpg': '2', '14_outdoor_GT.jpg': '1', '18_outdoor_GT.jpg': '1', '19_outdoor_GT.jpg': '1', '19_outdoor_hazy.jpg': '3', '20_outdoor_hazy.jpg': '3', '23_outdoor_GT.jpg': '1', '23_outdoor_hazy.jpg': '2', '24_outdoor_hazy.jpg': '3', '25_outdoor_GT.jpg': '1', '28_outdoor_GT.jpg': '1', '30_outdoor_GT.jpg': '1', '31_outdoor_hazy.jpg': '3', '34_outdoor_GT.jpg': '1', '34_outdoor_hazy.jpg': '3', '35_outdoor_hazy.jpg': '2', '37_outdoor_GT.jpg': '1', '37_outdoor_hazy.jpg': '3', '38_outdoor_GT.jpg': '1', '39_outdoor_hazy.jpg': '3', '40_outdoor_GT.jpg': '1', '40_outdoor_hazy.jpg': '3', '42_outdoor_GT.jpg': '1', '42_outdoor_hazy.jpg': '3', '43_outdoor_GT.jpg': '1', '44_outdoor_GT.jpg': '1'}\n",
            "{'1.jpg': '0', '2.jpg': '0', '3.jpg': '1', '4.jpg': '1', '5.jpg': '0', '6.jpg': '0', '7.jpg': '1', '8.jpg': '0', '9.jpg': '0', '10.jpg': '0', '11.jpg': '1', '12.jpg': '1', '13.jpg': '0', '14.jpg': '0', '15.jpg': '0', '16.jpg': '1', '17.jpg': '0', '18.jpg': '0', '19.jpg': '0', '20.jpg': '0', '21.jpg': '0', '22.jpg': '1', '23.jpg': '0', '24.jpg': '0', '25.jpg': '0', '26.jpg': '0', '27.jpg': '0'}\n"
          ],
          "name": "stdout"
        }
      ]
    },
    {
      "cell_type": "code",
      "metadata": {
        "id": "dbiHlN2s6gtp",
        "colab_type": "code",
        "colab": {}
      },
      "source": [
        "\n",
        "images =[]\n",
        "for key in beijing_labels:\n",
        "  images.append(key)\n",
        "for key in shanghai_labels:\n",
        "  images.append(key)\n",
        "for key in ohaze_labels:\n",
        "  images.append(key)\n",
        "for key in final_our:\n",
        "  images.append(key)\n",
        "  "
      ],
      "execution_count": 0,
      "outputs": []
    },
    {
      "cell_type": "code",
      "metadata": {
        "id": "0cUvOBPU7Plq",
        "colab_type": "code",
        "colab": {}
      },
      "source": [
        "\n",
        "labels =[]\n",
        "for key in beijing_labels:\n",
        "  labels.append(beijing_labels[key])\n",
        "for key in shanghai_labels:\n",
        "  labels.append(shanghai_labels[key])\n",
        "for key in ohaze_labels:\n",
        "  labels.append(ohaze_labels[key])\n",
        "for key in final_our:\n",
        "  labels.append(final_our[key])\n",
        "  "
      ],
      "execution_count": 0,
      "outputs": []
    },
    {
      "cell_type": "code",
      "metadata": {
        "id": "ZiaLA-2_7uHl",
        "colab_type": "code",
        "colab": {}
      },
      "source": [
        "omega = []\n",
        "for l in labels:\n",
        "  if(l == '0'):\n",
        "    omega.append(0.1)\n",
        "  elif(l == '1'):\n",
        "    omega.append(0.3)\n",
        "  elif(l == '2'):\n",
        "    omega.append(0.5)\n",
        "  elif(l == '3'):\n",
        "    omega.append(0.7)\n",
        "  elif(l == '4'):\n",
        "    omega.append(0.8)\n",
        "  elif(l == '5'):\n",
        "    omega.append(0.9)"
      ],
      "execution_count": 0,
      "outputs": []
    },
    {
      "cell_type": "code",
      "metadata": {
        "id": "7DOfXkomIgSU",
        "colab_type": "code",
        "colab": {
          "base_uri": "https://localhost:8080/",
          "height": 1000
        },
        "outputId": "596270c1-2c9e-40aa-cea7-82b2ef7ee55f"
      },
      "source": [
        "ctr=0\n",
        "\n",
        "x2_l=[]\n",
        "x1_l=[]\n",
        "\n",
        "\n",
        "for img in images:\n",
        "  im = cv2.imread(img)\n",
        "  im = cv2.resize(im, (256,256))\n",
        "  B=np.zeros((256,256))\n",
        "  D=np.zeros((256,256))\n",
        "  C=np.zeros((256,256))\n",
        "  # 3rd channel or im[2] has been split as b,g,r \n",
        "\n",
        "  b,g,r = cv2.split(im)\n",
        "\n",
        "  ctr+=1\n",
        "  for i in range(b.shape[0]):\n",
        "    for j in range(b.shape[1]):\n",
        "      D[i][j] = min(b[i][j], g[i][j], r[i][j])\n",
        "      B[i][j] = max(b[i][j], g[i][j], r[i][j])\n",
        "      C[i][j] = B[i][j] - D[i][j]\n",
        "\n",
        "  d = np.sum(D)/float(np.size(D))\n",
        "  b = np.sum(B)/float(np.size(B))\n",
        "  c = b-d \n",
        "  A = (0.33)*max(np.ndarray.flatten(B)) + (0.66)*b\n",
        "  \n",
        "  x1_l.append((A - d)/float(A)) \n",
        "  x2_l.append(c/float(A)) \n",
        "  print(ctr)"
      ],
      "execution_count": 28,
      "outputs": [
        {
          "output_type": "stream",
          "text": [
            "1\n",
            "2\n",
            "3\n",
            "4\n",
            "5\n",
            "6\n",
            "7\n",
            "8\n",
            "9\n",
            "10\n",
            "11\n",
            "12\n",
            "13\n",
            "14\n",
            "15\n",
            "16\n",
            "17\n",
            "18\n",
            "19\n",
            "20\n",
            "21\n",
            "22\n",
            "23\n",
            "24\n",
            "25\n",
            "26\n",
            "27\n",
            "28\n",
            "29\n",
            "30\n",
            "31\n",
            "32\n",
            "33\n",
            "34\n",
            "35\n",
            "36\n",
            "37\n",
            "38\n",
            "39\n",
            "40\n",
            "41\n",
            "42\n",
            "43\n",
            "44\n",
            "45\n",
            "46\n",
            "47\n",
            "48\n",
            "49\n",
            "50\n",
            "51\n",
            "52\n",
            "53\n",
            "54\n",
            "55\n",
            "56\n",
            "57\n",
            "58\n",
            "59\n",
            "60\n",
            "61\n",
            "62\n",
            "63\n",
            "64\n",
            "65\n",
            "66\n",
            "67\n",
            "68\n",
            "69\n",
            "70\n",
            "71\n",
            "72\n",
            "73\n",
            "74\n",
            "75\n",
            "76\n",
            "77\n",
            "78\n",
            "79\n",
            "80\n",
            "81\n",
            "82\n",
            "83\n",
            "84\n",
            "85\n",
            "86\n",
            "87\n",
            "88\n",
            "89\n",
            "90\n",
            "91\n",
            "92\n",
            "93\n",
            "94\n",
            "95\n",
            "96\n",
            "97\n",
            "98\n",
            "99\n",
            "100\n",
            "101\n",
            "102\n",
            "103\n",
            "104\n",
            "105\n",
            "106\n",
            "107\n",
            "108\n",
            "109\n",
            "110\n",
            "111\n",
            "112\n",
            "113\n",
            "114\n",
            "115\n",
            "116\n",
            "117\n",
            "118\n",
            "119\n",
            "120\n",
            "121\n",
            "122\n",
            "123\n",
            "124\n",
            "125\n",
            "126\n",
            "127\n",
            "128\n",
            "129\n",
            "130\n",
            "131\n",
            "132\n",
            "133\n",
            "134\n",
            "135\n",
            "136\n",
            "137\n",
            "138\n",
            "139\n",
            "140\n",
            "141\n",
            "142\n",
            "143\n",
            "144\n",
            "145\n",
            "146\n",
            "147\n",
            "148\n",
            "149\n",
            "150\n",
            "151\n",
            "152\n",
            "153\n",
            "154\n",
            "155\n",
            "156\n",
            "157\n",
            "158\n",
            "159\n",
            "160\n",
            "161\n",
            "162\n",
            "163\n",
            "164\n",
            "165\n",
            "166\n",
            "167\n",
            "168\n",
            "169\n",
            "170\n",
            "171\n",
            "172\n",
            "173\n",
            "174\n",
            "175\n",
            "176\n",
            "177\n",
            "178\n",
            "179\n",
            "180\n",
            "181\n",
            "182\n",
            "183\n",
            "184\n",
            "185\n",
            "186\n",
            "187\n",
            "188\n",
            "189\n",
            "190\n",
            "191\n"
          ],
          "name": "stdout"
        }
      ]
    },
    {
      "cell_type": "code",
      "metadata": {
        "id": "fscFCBU4LaLt",
        "colab_type": "code",
        "colab": {
          "base_uri": "https://localhost:8080/",
          "height": 51
        },
        "outputId": "617dcfca-af1d-4818-9cbd-83248bddf8df"
      },
      "source": [
        "print(len(x1_l))\n",
        "print(len(x2_l))"
      ],
      "execution_count": 29,
      "outputs": [
        {
          "output_type": "stream",
          "text": [
            "191\n",
            "191\n"
          ],
          "name": "stdout"
        }
      ]
    },
    {
      "cell_type": "code",
      "metadata": {
        "id": "5avaVox8NB0x",
        "colab_type": "code",
        "colab": {}
      },
      "source": [
        "x1_train=x1_l[:130]\n",
        "x1_train = np.resize(x1_train, (130,1))\n",
        "x2_train=x2_l[:130]\n",
        "x2_train = np.resize(x2_train, (130,1))\n",
        "\n",
        "x1_test=x1_l[130:]\n",
        "x1_test = np.resize(x1_test, (130,1))\n",
        "x2_test=x2_l[130:]\n",
        "x2_test = np.resize(x2_test, (130,1))\n",
        "\n",
        "y_train=omega[:130]\n",
        "y_train = np.resize(y_train, (130,1))\n",
        "y_test=omega[130:]\n",
        "y_test = np.resize(y_test, (130,1))"
      ],
      "execution_count": 0,
      "outputs": []
    },
    {
      "cell_type": "code",
      "metadata": {
        "id": "1y4QwuJXL7wB",
        "colab_type": "code",
        "colab": {}
      },
      "source": [
        "\n",
        "x1=tf.placeholder(dtype = tf.float32, shape = (None,1))\n",
        "x2=tf.placeholder(dtype = tf.float32, shape= (None,1))\n",
        "w=tf.placeholder(dtype = tf.float32, shape= (None,1))\n",
        "\n",
        "train =[]\n",
        "val =[]\n",
        "u =tf.Variable(5.1)\n",
        "v =tf.Variable(2.9)\n",
        "s =tf.Variable(0.2461)\n",
        "h = tf.math.exp(-0.5*(u*x1 + v*x2)+s)\n",
        "\n",
        "loss = tf.reduce_mean(tf.square(tf.subtract(w,h)), name = 'loss')\n",
        "opt = tf.train.AdamOptimizer(learning_rate = 0.001)\n",
        "train_op = opt.minimize(loss)\n",
        "\n",
        "init = tf.global_variables_initializer()\n",
        "\n",
        "with tf.Session() as sess:\n",
        "  sess.run(init)\n",
        "  for epoch in range(35000):\n",
        "    z = sess.run([loss,train_op, u, v, s],feed_dict={x1 :x1_train,x2 : x2_train, w : y_train })\n",
        "    z_val = sess.run([loss, u,v,s], feed_dict = {x1 : x1_test, x2 : x2_test, w : y_test})\n",
        "    "
      ],
      "execution_count": 0,
      "outputs": []
    },
    {
      "cell_type": "code",
      "metadata": {
        "id": "RYnzE0bMWzBs",
        "colab_type": "code",
        "colab": {
          "base_uri": "https://localhost:8080/",
          "height": 86
        },
        "outputId": "d8d0862b-8736-427c-aae2-cdd4e95a7f6e"
      },
      "source": [
        "print(z[0])\n",
        "print(z[2])\n",
        "print(z[3])\n",
        "print(z[4])"
      ],
      "execution_count": 37,
      "outputs": [
        {
          "output_type": "stream",
          "text": [
            "0.050826523\n",
            "12.25592\n",
            "-9.196996\n",
            "0.32244098\n"
          ],
          "name": "stdout"
        }
      ]
    },
    {
      "cell_type": "markdown",
      "metadata": {
        "id": "3Zx3aN02ojn1",
        "colab_type": "text"
      },
      "source": [
        ""
      ]
    },
    {
      "cell_type": "markdown",
      "metadata": {
        "id": "sGIKxsa1ojUf",
        "colab_type": "text"
      },
      "source": [
        "28.937319\n",
        "29.054438\n",
        "-0.6683243"
      ]
    },
    {
      "cell_type": "code",
      "metadata": {
        "id": "lRmMgOJOZ79c",
        "colab_type": "code",
        "colab": {}
      },
      "source": [
        "for i in range(0,len(train)):\n",
        "  print(str(train[i]) + '\\t' + str(val[i]))\n",
        "  \n",
        "  \n",
        "  \n",
        "  "
      ],
      "execution_count": 0,
      "outputs": []
    },
    {
      "cell_type": "code",
      "metadata": {
        "id": "ak5Od3SGZ_Og",
        "colab_type": "code",
        "colab": {
          "base_uri": "https://localhost:8080/",
          "height": 199
        },
        "outputId": "89c3f1fb-4b25-4fe9-960a-6d16ed6bdf6e"
      },
      "source": [
        "import matplotlib.pyplot as plt\n",
        "plt.plot(train[0])\n",
        "plt.plot(val[0])"
      ],
      "execution_count": 35,
      "outputs": [
        {
          "output_type": "error",
          "ename": "IndexError",
          "evalue": "ignored",
          "traceback": [
            "\u001b[0;31m---------------------------------------------------------------------------\u001b[0m",
            "\u001b[0;31mIndexError\u001b[0m                                Traceback (most recent call last)",
            "\u001b[0;32m<ipython-input-35-38c1864a2155>\u001b[0m in \u001b[0;36m<module>\u001b[0;34m()\u001b[0m\n\u001b[1;32m      1\u001b[0m \u001b[0;32mimport\u001b[0m \u001b[0mmatplotlib\u001b[0m\u001b[0;34m.\u001b[0m\u001b[0mpyplot\u001b[0m \u001b[0;32mas\u001b[0m \u001b[0mplt\u001b[0m\u001b[0;34m\u001b[0m\u001b[0;34m\u001b[0m\u001b[0m\n\u001b[0;32m----> 2\u001b[0;31m \u001b[0mplt\u001b[0m\u001b[0;34m.\u001b[0m\u001b[0mplot\u001b[0m\u001b[0;34m(\u001b[0m\u001b[0mtrain\u001b[0m\u001b[0;34m[\u001b[0m\u001b[0;36m0\u001b[0m\u001b[0;34m]\u001b[0m\u001b[0;34m)\u001b[0m\u001b[0;34m\u001b[0m\u001b[0;34m\u001b[0m\u001b[0m\n\u001b[0m\u001b[1;32m      3\u001b[0m \u001b[0mplt\u001b[0m\u001b[0;34m.\u001b[0m\u001b[0mplot\u001b[0m\u001b[0;34m(\u001b[0m\u001b[0mval\u001b[0m\u001b[0;34m[\u001b[0m\u001b[0;36m0\u001b[0m\u001b[0;34m]\u001b[0m\u001b[0;34m)\u001b[0m\u001b[0;34m\u001b[0m\u001b[0;34m\u001b[0m\u001b[0m\n",
            "\u001b[0;31mIndexError\u001b[0m: list index out of range"
          ]
        }
      ]
    },
    {
      "cell_type": "code",
      "metadata": {
        "id": "NxpLIxr2axPT",
        "colab_type": "code",
        "colab": {}
      },
      "source": [
        ""
      ],
      "execution_count": 0,
      "outputs": []
    }
  ]
}