{
  "nbformat": 4,
  "nbformat_minor": 0,
  "metadata": {
    "colab": {
      "name": "constantfinder.ipynb",
      "version": "0.3.2",
      "provenance": [],
      "include_colab_link": true
    },
    "kernelspec": {
      "name": "python3",
      "display_name": "Python 3"
    },
    "accelerator": "GPU"
  },
  "cells": [
    {
      "cell_type": "markdown",
      "metadata": {
        "id": "view-in-github",
        "colab_type": "text"
      },
      "source": [
        "<a href=\"https://colab.research.google.com/github/harshitadd/Celestini/blob/master/constantfinder.ipynb\" target=\"_parent\"><img src=\"https://colab.research.google.com/assets/colab-badge.svg\" alt=\"Open In Colab\"/></a>"
      ]
    },
    {
      "cell_type": "code",
      "metadata": {
        "id": "mQchns52IbcQ",
        "colab_type": "code",
        "colab": {}
      },
      "source": [
        "import tensorflow as tf \n",
        "import numpy as np \n",
        "import csv\n",
        "import os \n",
        "import cv2\n",
        "from google.colab.patches import cv2_imshow\n",
        "\n",
        "#!pip install unrar "
      ],
      "execution_count": 0,
      "outputs": []
    },
    {
      "cell_type": "code",
      "metadata": {
        "id": "-w5T2Tr9X9bN",
        "colab_type": "code",
        "colab": {
          "base_uri": "https://localhost:8080/",
          "height": 1000
        },
        "outputId": "e22505b3-4d0b-4c37-e4c0-197d16a0e7c5"
      },
      "source": [
        "!unrar e '/content/drive/My Drive/data.rar'\n",
        "\n",
        "#rar = rarfile.RarFile('/content/drive/My Drive/data.rar')"
      ],
      "execution_count": 55,
      "outputs": [
        {
          "output_type": "stream",
          "text": [
            "\n",
            "UNRAR 5.50 freeware      Copyright (c) 1993-2017 Alexander Roshal\n",
            "\n",
            "\n",
            "Extracting from /content/drive/My Drive/data.rar\n",
            "\n",
            "\n",
            "Would you like to replace the existing file 1.jpg\n",
            "1164390 bytes, modified on 2019-07-23 17:53\n",
            "with a new one\n",
            "1164390 bytes, modified on 2019-07-23 17:53\n",
            "\n",
            "[Y]es, [N]o, [A]ll, n[E]ver, [R]ename, [Q]uit Y\n",
            "\n",
            "Extracting  1.jpg                                                        \b\b\b\b  0%\b\b\b\b\b  OK \n",
            "\n",
            "Would you like to replace the existing file 10.jpg\n",
            "1679826 bytes, modified on 2019-07-23 18:04\n",
            "with a new one\n",
            "1679826 bytes, modified on 2019-07-23 18:04\n",
            "\n",
            "[Y]es, [N]o, [A]ll, n[E]ver, [R]ename, [Q]uit A\n",
            "\n",
            "Extracting  10.jpg                                                       \b\b\b\b  0%\b\b\b\b\b  OK \n",
            "Extracting  11.jpg                                                       \b\b\b\b  1%\b\b\b\b\b  OK \n",
            "Extracting  12.jpg                                                       \b\b\b\b  1%\b\b\b\b\b  OK \n",
            "Extracting  13.jpg                                                       \b\b\b\b  1%\b\b\b\b\b  OK \n",
            "Extracting  14.jpg                                                       \b\b\b\b  2%\b\b\b\b\b  OK \n",
            "Extracting  15.jpg                                                       \b\b\b\b  2%\b\b\b\b\b  OK \n",
            "Extracting  16.jpg                                                       \b\b\b\b  2%\b\b\b\b\b  OK \n",
            "Extracting  17.jpg                                                       \b\b\b\b  2%\b\b\b\b\b  OK \n",
            "Extracting  18.jpg                                                       \b\b\b\b  2%\b\b\b\b\b  OK \n",
            "Extracting  19.jpg                                                       \b\b\b\b  2%\b\b\b\b\b  OK \n",
            "Extracting  2.jpg                                                        \b\b\b\b  3%\b\b\b\b\b  OK \n",
            "Extracting  20.jpg                                                       \b\b\b\b  3%\b\b\b\b\b  OK \n",
            "Extracting  21.jpg                                                       \b\b\b\b  3%\b\b\b\b\b  OK \n",
            "Extracting  22.jpg                                                       \b\b\b\b  3%\b\b\b\b\b  OK \n",
            "Extracting  23.jpg                                                       \b\b\b\b  4%\b\b\b\b\b  OK \n",
            "Extracting  24.jpg                                                       \b\b\b\b  4%\b\b\b\b\b  OK \n",
            "Extracting  25.jpg                                                       \b\b\b\b  5%\b\b\b\b\b  OK \n",
            "Extracting  26.jpg                                                       \b\b\b\b  5%\b\b\b\b\b  OK \n",
            "Extracting  27.jpg                                                       \b\b\b\b  5%\b\b\b\b\b  OK \n",
            "Extracting  3.jpg                                                        \b\b\b\b  6%\b\b\b\b\b  OK \n",
            "Extracting  4.jpg                                                        \b\b\b\b  6%\b\b\b\b\b  OK \n",
            "Extracting  5.jpg                                                        \b\b\b\b  6%\b\b\b\b\b  OK \n",
            "Extracting  6.jpg                                                        \b\b\b\b  7%\b\b\b\b\b  OK \n",
            "Extracting  7.jpg                                                        \b\b\b\b  7%\b\b\b\b\b  OK \n",
            "Extracting  8.jpg                                                        \b\b\b\b  7%\b\b\b\b\b  OK \n",
            "Extracting  9.jpg                                                        \b\b\b\b  8%\b\b\b\b\b  OK \n",
            "Extracting  01_outdoor_GT.jpg                                            \b\b\b\b  8%\b\b\b\b  9%\b\b\b\b 10%\b\b\b\b\b  OK \n",
            "Extracting  01_outdoor_hazy.jpg                                          \b\b\b\b 10%\b\b\b\b 11%\b\b\b\b\b  OK \n",
            "Extracting  03_outdoor_GT.JPG                                            \b\b\b\b 12%\b\b\b\b 13%\b\b\b\b\b  OK \n",
            "Extracting  03_outdoor_hazy.JPG                                          \b\b\b\b 14%\b\b\b\b\b  OK \n",
            "Extracting  04_outdoor_GT.jpg                                            \b\b\b\b 16%\b\b\b\b\b  OK \n",
            "Extracting  04_outdoor_hazy.jpg                                          \b\b\b\b 17%\b\b\b\b\b  OK \n",
            "Extracting  05_outdoor_hazy.jpg                                          \b\b\b\b 18%\b\b\b\b 19%\b\b\b\b\b  OK \n",
            "Extracting  07_outdoor_GT.jpg                                            \b\b\b\b 20%\b\b\b\b 21%\b\b\b\b\b  OK \n",
            "Extracting  08_outdoor_hazy.jpg                                          \b\b\b\b 22%\b\b\b\b\b  OK \n",
            "Extracting  10_outdoor_GT.jpg                                            \b\b\b\b 22%\b\b\b\b 23%\b\b\b\b 24%\b\b\b\b\b  OK \n",
            "Extracting  10_outdoor_hazy.jpg                                          \b\b\b\b 24%\b\b\b\b 25%\b\b\b\b\b  OK \n",
            "Extracting  11_outdoor_GT.jpg                                            \b\b\b\b 25%\b\b\b\b 26%\b\b\b\b 27%\b\b\b\b\b  OK \n",
            "Extracting  12_outdoor_hazy.jpg                                          \b\b\b\b 27%\b\b\b\b 28%\b\b\b\b 29%\b\b\b\b\b  OK \n",
            "Extracting  13_outdoor_GT.jpg                                            \b\b\b\b 29%\b\b\b\b 30%\b\b\b\b 31%\b\b\b\b\b  OK \n",
            "Extracting  13_outdoor_hazy.jpg                                          \b\b\b\b 31%\b\b\b\b 32%\b\b\b\b\b  OK \n",
            "Extracting  14_outdoor_GT.jpg                                            \b\b\b\b 32%\b\b\b\b 33%\b\b\b\b 34%\b\b\b\b 35%\b\b\b\b\b  OK \n",
            "Extracting  14_outdoor_hazy.jpg                                          \b\b\b\b 35%\b\b\b\b 36%\b\b\b\b 37%\b\b\b\b\b  OK \n",
            "Extracting  16_outdoor_GT.jpg                                            \b\b\b\b 37%\b\b\b\b 38%\b\b\b\b 39%\b\b\b\b 40%\b\b\b\b\b  OK \n",
            "Extracting  17_outdoor_hazy.jpg                                          \b\b\b\b 40%\b\b\b\b 41%\b\b\b\b\b  OK \n",
            "Extracting  18_outdoor_GT.jpg                                            \b\b\b\b 42%\b\b\b\b\b  OK \n",
            "Extracting  19_outdoor_GT.jpg                                            \b\b\b\b 43%\b\b\b\b 45%\b\b\b\b\b  OK \n",
            "Extracting  19_outdoor_hazy.jpg                                          \b\b\b\b 45%\b\b\b\b 46%\b\b\b\b 47%\b\b\b\b 48%\b\b\b\b\b  OK \n",
            "Extracting  20_outdoor_hazy.jpg                                          \b\b\b\b 48%\b\b\b\b 49%\b\b\b\b 50%\b\b\b\b\b  OK \n",
            "Extracting  21_outdoor_GT.JPG                                            \b\b\b\b 51%\b\b\b\b 52%\b\b\b\b\b  OK \n",
            "Extracting  21_outdoor_hazy.JPG                                          \b\b\b\b 53%\b\b\b\b\b  OK \n",
            "Extracting  23_outdoor_GT.jpg                                            \b\b\b\b 53%\b\b\b\b 54%\b\b\b\b 55%\b\b\b\b\b  OK \n",
            "Extracting  23_outdoor_hazy.jpg                                          \b\b\b\b 55%\b\b\b\b 56%\b\b\b\b 57%\b\b\b\b\b  OK \n",
            "Extracting  24_outdoor_hazy.jpg                                          \b\b\b\b 57%\b\b\b\b 58%\b\b\b\b 59%\b\b\b\b\b  OK \n",
            "Extracting  25_outdoor_GT.jpg                                            \b\b\b\b 60%\b\b\b\b 61%\b\b\b\b\b  OK \n",
            "Extracting  25_outdoor_hazy.jpg                                          \b\b\b\b 62%\b\b\b\b 63%\b\b\b\b\b  OK \n",
            "Extracting  28_outdoor_GT.jpg                                            \b\b\b\b 64%\b\b\b\b\b  OK \n",
            "Extracting  28_outdoor_hazy.jpg                                          \b\b\b\b 65%\b\b\b\b\b  OK \n",
            "Extracting  30_outdoor_GT.jpg                                            \b\b\b\b 66%\b\b\b\b 67%\b\b\b\b\b  OK \n",
            "Extracting  30_outdoor_hazy.jpg                                          \b\b\b\b 67%\b\b\b\b 68%\b\b\b\b\b  OK \n",
            "Extracting  31_outdoor_GT.jpg                                            \b\b\b\b 69%\b\b\b\b\b  OK \n",
            "Extracting  31_outdoor_hazy.jpg                                          \b\b\b\b 69%\b\b\b\b 70%\b\b\b\b\b  OK \n",
            "Extracting  34_outdoor_GT.jpg                                            \b\b\b\b 71%\b\b\b\b 73%\b\b\b\b 74%\b\b\b\b\b  OK \n",
            "Extracting  34_outdoor_hazy.jpg                                          \b\b\b\b 74%\b\b\b\b 75%\b\b\b\b 76%\b\b\b\b 77%\b\b\b\b\b  OK \n",
            "Extracting  35_outdoor_hazy.jpg                                          \b\b\b\b 77%\b\b\b\b\b  OK \n",
            "Extracting  37_outdoor_GT.jpg                                            \b\b\b\b 78%\b\b\b\b 79%\b\b\b\b 80%\b\b\b\b\b  OK \n",
            "Extracting  37_outdoor_hazy.jpg                                          \b\b\b\b 80%\b\b\b\b 81%\b\b\b\b 82%\b\b\b\b\b  OK \n",
            "Extracting  38_outdoor_GT.jpg                                            \b\b\b\b 82%\b\b\b\b 83%\b\b\b\b 84%\b\b\b\b\b  OK \n",
            "Extracting  39_outdoor_hazy.jpg                                          \b\b\b\b 84%\b\b\b\b 85%\b\b\b\b\b  OK \n",
            "Extracting  40_outdoor_GT.jpg                                            \b\b\b\b 86%\b\b\b\b 87%\b\b\b\b\b  OK \n",
            "Extracting  40_outdoor_hazy.jpg                                          \b\b\b\b 87%\b\b\b\b 88%\b\b\b\b 89%\b\b\b\b\b  OK \n",
            "Extracting  42_outdoor_GT.jpg                                            \b\b\b\b 89%\b\b\b\b 90%\b\b\b\b 91%\b\b\b\b 92%\b\b\b\b\b  OK \n",
            "Extracting  42_outdoor_hazy.jpg                                          \b\b\b\b 93%\b\b\b\b 94%\b\b\b\b\b  OK \n",
            "Extracting  43_outdoor_GT.jpg                                            \b\b\b\b 95%\b\b\b\b 96%\b\b\b\b\b  OK \n",
            "Extracting  44_outdoor_GT.jpg                                            \b\b\b\b 98%\b\b\b\b\b  OK \n",
            "Extracting  45_outdoor_hazy.jpg                                          \b\b\b\b 98%\b\b\b\b 99%\b\b\b\b\b  OK \n",
            "Extracting  filr.txt                                                     \b\b\b\b 99%\b\b\b\b\b  OK \n",
            "Extracting  Book1.xlsx                                                   \b\b\b\b 99%\b\b\b\b\b  OK \n",
            "All OK\n"
          ],
          "name": "stdout"
        }
      ]
    },
    {
      "cell_type": "code",
      "metadata": {
        "id": "5SR2uyElWqBx",
        "colab_type": "code",
        "colab": {
          "base_uri": "https://localhost:8080/",
          "height": 123
        },
        "outputId": "751da39a-74dc-4a1d-f873-7e82330e8b04"
      },
      "source": [
        "qqfrom google.colab import drive\n",
        "drive.mount('/content/drive')"
      ],
      "execution_count": 2,
      "outputs": [
        {
          "output_type": "stream",
          "text": [
            "Go to this URL in a browser: https://accounts.google.com/o/oauth2/auth?client_id=947318989803-6bn6qk8qdgf4n4g3pfee6491hc0brc4i.apps.googleusercontent.com&redirect_uri=urn%3Aietf%3Awg%3Aoauth%3A2.0%3Aoob&scope=email%20https%3A%2F%2Fwww.googleapis.com%2Fauth%2Fdocs.test%20https%3A%2F%2Fwww.googleapis.com%2Fauth%2Fdrive%20https%3A%2F%2Fwww.googleapis.com%2Fauth%2Fdrive.photos.readonly%20https%3A%2F%2Fwww.googleapis.com%2Fauth%2Fpeopleapi.readonly&response_type=code\n",
            "\n",
            "Enter your authorization code:\n",
            "··········\n",
            "Mounted at /content/drive\n"
          ],
          "name": "stdout"
        }
      ]
    },
    {
      "cell_type": "code",
      "metadata": {
        "id": "bFgRN3endqDV",
        "colab_type": "code",
        "colab": {}
      },
      "source": [
        "im_ohaze = []\n",
        "im_our =[]\n",
        "for file in source:\n",
        "  if(file.endswith('.jpg')):\n",
        "    if 'outdoor' in file:\n",
        "      im_ohaze.append(file)\n",
        "    else:\n",
        "      im_our.append(file)"
      ],
      "execution_count": 0,
      "outputs": []
    },
    {
      "cell_type": "code",
      "metadata": {
        "id": "YT0g79LP13Pn",
        "colab_type": "code",
        "colab": {
          "base_uri": "https://localhost:8080/",
          "height": 34
        },
        "outputId": "fee416a6-f721-4f90-b301-4e5632b9efc5"
      },
      "source": [
        "print(len(im_ohaze))"
      ],
      "execution_count": 30,
      "outputs": [
        {
          "output_type": "stream",
          "text": [
            "46\n"
          ],
          "name": "stdout"
        }
      ]
    },
    {
      "cell_type": "code",
      "metadata": {
        "id": "ISzh3BkxJXqi",
        "colab_type": "code",
        "colab": {
          "base_uri": "https://localhost:8080/",
          "height": 806
        },
        "outputId": "e4e6e575-9081-465b-a9e8-b3df0253eda8"
      },
      "source": [
        "for im in im_ohaze:\n",
        "  print(im)"
      ],
      "execution_count": 79,
      "outputs": [
        {
          "output_type": "stream",
          "text": [
            "37_outdoor_GT.jpg\n",
            "19_outdoor_hazy.jpg\n",
            "01_outdoor_hazy.jpg\n",
            "42_outdoor_GT.jpg\n",
            "28_outdoor_GT.jpg\n",
            "39_outdoor_hazy.jpg\n",
            "40_outdoor_GT.jpg\n",
            "04_outdoor_GT.jpg\n",
            "28_outdoor_hazy.jpg\n",
            "37_outdoor_hazy.jpg\n",
            "45_outdoor_hazy.jpg\n",
            "14_outdoor_hazy.jpg\n",
            "20_outdoor_hazy.jpg\n",
            "44_outdoor_GT.jpg\n",
            "40_outdoor_hazy.jpg\n",
            "24_outdoor_hazy.jpg\n",
            "14_outdoor_GT.jpg\n",
            "25_outdoor_GT.jpg\n",
            "31_outdoor_GT.jpg\n",
            "18_outdoor_GT.jpg\n",
            "30_outdoor_GT.jpg\n",
            "42_outdoor_hazy.jpg\n",
            "07_outdoor_GT.jpg\n",
            "43_outdoor_GT.jpg\n",
            "16_outdoor_GT.jpg\n",
            "38_outdoor_GT.jpg\n",
            "04_outdoor_hazy.jpg\n",
            "19_outdoor_GT.jpg\n",
            "10_outdoor_GT.jpg\n",
            "13_outdoor_hazy.jpg\n",
            "25_outdoor_hazy.jpg\n",
            "10_outdoor_hazy.jpg\n",
            "30_outdoor_hazy.jpg\n",
            "34_outdoor_GT.jpg\n",
            "05_outdoor_hazy.jpg\n",
            "13_outdoor_GT.jpg\n",
            "23_outdoor_GT.jpg\n",
            "31_outdoor_hazy.jpg\n",
            "01_outdoor_GT.jpg\n",
            "17_outdoor_hazy.jpg\n",
            "12_outdoor_hazy.jpg\n",
            "08_outdoor_hazy.jpg\n",
            "23_outdoor_hazy.jpg\n",
            "35_outdoor_hazy.jpg\n",
            "11_outdoor_GT.jpg\n",
            "34_outdoor_hazy.jpg\n"
          ],
          "name": "stdout"
        }
      ]
    },
    {
      "cell_type": "code",
      "metadata": {
        "id": "isIUzkIeJerU",
        "colab_type": "code",
        "colab": {
          "base_uri": "https://localhost:8080/",
          "height": 34
        },
        "outputId": "03876c9c-583b-43c7-9daa-b73157e04643"
      },
      "source": [
        "with open('/content/filr.txt') as file:\n",
        "  print(file)"
      ],
      "execution_count": 80,
      "outputs": [
        {
          "output_type": "stream",
          "text": [
            "<_io.TextIOWrapper name='/content/filr.txt' mode='r' encoding='UTF-8'>\n"
          ],
          "name": "stdout"
        }
      ]
    },
    {
      "cell_type": "code",
      "metadata": {
        "id": "OsENxArWBelW",
        "colab_type": "code",
        "colab": {}
      },
      "source": [
        "mnx=[]\n",
        "for img in images:\n",
        "  im = cv2.imread(img)\n",
        "  im = cv2.resize(im, (256,256))\n",
        "  b,g,r = cv2.split(im) \n",
        "  mnx.append(b)\n",
        "  mnx.append(g)\n",
        "  mnx.append(r)\n",
        "  D = min(mnx)\n",
        "  B = max(mnx)\n",
        "  C = B-D \n",
        "  "
      ],
      "execution_count": 0,
      "outputs": []
    },
    {
      "cell_type": "code",
      "metadata": {
        "id": "bJMCiYduJNH-",
        "colab_type": "code",
        "colab": {}
      },
      "source": [
        "x1=tf.placeholder(dtype = tf.float32, shape = (None,1))\n",
        "x2=tf.placeholder(dtype = tf.float32, shape= (None,1))\n",
        "\n",
        "u =tf.Variable(5.1)\n",
        "v =tf.Variable(2.9)\n",
        "s =tf.Variable(0.2461)\n",
        "\n",
        "h = tf.math.exp(-0.5**(u*x1 + v*x2)+s)\n",
        "\n",
        "init = tf.global_variables_initializer()\n",
        "\n",
        "with tf.Session() as sess:\n",
        "  "
      ],
      "execution_count": 0,
      "outputs": []
    },
    {
      "cell_type": "code",
      "metadata": {
        "id": "HlpNFxxNAY_C",
        "colab_type": "code",
        "colab": {}
      },
      "source": [
        "our_img_label=[]\n",
        "source = os.listdir('/content/')\n",
        "with open('/content/our_img.csv') as file:\n",
        "  reader = csv.reader(file, delimiter = ',')\n",
        "  for row in reader:\n",
        "    l=[]\n",
        "    l.append(row[0])\n",
        "    l.append(row[1])\n",
        "    our_img_label.append(l)"
      ],
      "execution_count": 0,
      "outputs": []
    },
    {
      "cell_type": "code",
      "metadata": {
        "id": "eoYWeGaYCgDt",
        "colab_type": "code",
        "colab": {}
      },
      "source": [
        "im_our.sort()\n",
        "temp=[]\n",
        "\n",
        "\n",
        "final_our=[]\n",
        "\n",
        "for i in our_img_label:\n",
        "  for im in im_our:\n",
        "    if(i[0]==im[:-4]):\n",
        "      l=[]\n",
        "      l.append(im)\n",
        "      l.append(i[1])      \n",
        "      final_our.append(l)"
      ],
      "execution_count": 0,
      "outputs": []
    },
    {
      "cell_type": "code",
      "metadata": {
        "id": "bg4chXiFCk4r",
        "colab_type": "code",
        "colab": {
          "base_uri": "https://localhost:8080/",
          "height": 34
        },
        "outputId": "960a44f9-84b6-4539-f38d-87e3ffdd042d"
      },
      "source": [
        "print(len(final_our))"
      ],
      "execution_count": 147,
      "outputs": [
        {
          "output_type": "stream",
          "text": [
            "27\n"
          ],
          "name": "stdout"
        }
      ]
    },
    {
      "cell_type": "code",
      "metadata": {
        "id": "cUVhjqBJQo8k",
        "colab_type": "code",
        "colab": {}
      },
      "source": [
        " with open('/content/OHAZE_LABELS.csv') as file:\n",
        "    reader = csv.reader(file, delimiter = ',')\n",
        "    for row in reader:\n",
        "      "
      ],
      "execution_count": 0,
      "outputs": []
    },
    {
      "cell_type": "code",
      "metadata": {
        "id": "v-vcscd0H4ZP",
        "colab_type": "code",
        "colab": {
          "base_uri": "https://localhost:8080/",
          "height": 806
        },
        "outputId": "d5d64cf6-9404-41bd-daa9-52522194abca"
      },
      "source": [
        "for im in im_ohaze:\n",
        "  if 'GT' in im:\n",
        "    print(im[0:3]+im[-6:-4])\n",
        "#     im = cv2.imread('/content/' + im)\n",
        "#     im = cv2.resize(im, (8,8))\n",
        "  else:\n",
        "    print(im[0:2] + im[-9:-4])\n",
        "#     im = cv2.imread('/content/' + im)\n",
        "#     im = cv2.resize(im, (8,8))\n"
      ],
      "execution_count": 131,
      "outputs": [
        {
          "output_type": "stream",
          "text": [
            "37_GT\n",
            "19_hazy\n",
            "01_hazy\n",
            "42_GT\n",
            "28_GT\n",
            "39_hazy\n",
            "40_GT\n",
            "04_GT\n",
            "28_hazy\n",
            "37_hazy\n",
            "45_hazy\n",
            "14_hazy\n",
            "20_hazy\n",
            "44_GT\n",
            "40_hazy\n",
            "24_hazy\n",
            "14_GT\n",
            "25_GT\n",
            "31_GT\n",
            "18_GT\n",
            "30_GT\n",
            "42_hazy\n",
            "07_GT\n",
            "43_GT\n",
            "16_GT\n",
            "38_GT\n",
            "04_hazy\n",
            "19_GT\n",
            "10_GT\n",
            "13_hazy\n",
            "25_hazy\n",
            "10_hazy\n",
            "30_hazy\n",
            "34_GT\n",
            "05_hazy\n",
            "13_GT\n",
            "23_GT\n",
            "31_hazy\n",
            "01_GT\n",
            "17_hazy\n",
            "12_hazy\n",
            "08_hazy\n",
            "23_hazy\n",
            "35_hazy\n",
            "11_GT\n",
            "34_hazy\n"
          ],
          "name": "stdout"
        }
      ]
    },
    {
      "cell_type": "code",
      "metadata": {
        "id": "gXqbPg3EiUAm",
        "colab_type": "code",
        "colab": {}
      },
      "source": [
        "ohaze=[]\n",
        "with open('/content/OHAZE_LABELS.csv') as file:\n",
        "  reader = csv.reader(file)\n",
        "  for row in reader:\n",
        "    l=[]\n",
        "    l.append(row[0])\n",
        "    l.append(row[1])\n",
        "    ohaze.append(l)"
      ],
      "execution_count": 0,
      "outputs": []
    },
    {
      "cell_type": "code",
      "metadata": {
        "id": "P-amCcbkndpx",
        "colab_type": "code",
        "colab": {}
      },
      "source": [
        "ohaze_labels={}\n",
        "\n",
        "for i in ohaze:\n",
        "  for im in im_ohaze:\n",
        "    if 'GT' in im:\n",
        "      if(im[0:3]+im[-6:-4])==i[0]:\n",
        "        ohaze_labels[im]=i[1]\n",
        "  #     im = cv2.imread('/content/' + im)\n",
        "  #     im = cv2.resize(im, (8,8))\n",
        "    elif(im[0:2] + im[-9:-4])==i[0]:\n",
        "        ohaze_labels[im]=i[1]\n",
        "#     im = cv2.imread('/content/' + im)\n",
        "#     im = cv2.resize(im, (8,8))\n"
      ],
      "execution_count": 0,
      "outputs": []
    },
    {
      "cell_type": "code",
      "metadata": {
        "id": "IXz5f_W8o6qH",
        "colab_type": "code",
        "colab": {
          "base_uri": "https://localhost:8080/",
          "height": 34
        },
        "outputId": "b430af0b-edfd-4777-febb-0f68e28b4408"
      },
      "source": [
        "print(len(ohaze_labels))"
      ],
      "execution_count": 144,
      "outputs": [
        {
          "output_type": "stream",
          "text": [
            "26\n"
          ],
          "name": "stdout"
        }
      ]
    },
    {
      "cell_type": "code",
      "metadata": {
        "id": "APcrTS-Grndd",
        "colab_type": "code",
        "colab": {}
      },
      "source": [
        ""
      ],
      "execution_count": 0,
      "outputs": []
    }
  ]
}