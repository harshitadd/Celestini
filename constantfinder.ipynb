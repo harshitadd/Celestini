{
  "nbformat": 4,
  "nbformat_minor": 0,
  "metadata": {
    "colab": {
      "name": "constantfinder.ipynb",
      "version": "0.3.2",
      "provenance": [],
      "include_colab_link": true
    },
    "kernelspec": {
      "name": "python3",
      "display_name": "Python 3"
    },
    "accelerator": "GPU"
  },
  "cells": [
    {
      "cell_type": "markdown",
      "metadata": {
        "id": "view-in-github",
        "colab_type": "text"
      },
      "source": [
        "<a href=\"https://colab.research.google.com/github/harshitadd/Celestini/blob/master/constantfinder.ipynb\" target=\"_parent\"><img src=\"https://colab.research.google.com/assets/colab-badge.svg\" alt=\"Open In Colab\"/></a>"
      ]
    },
    {
      "cell_type": "code",
      "metadata": {
        "id": "mQchns52IbcQ",
        "colab_type": "code",
        "colab": {}
      },
      "source": [
        "import tensorflow as tf \n",
        "import numpy as np \n",
        "#!pip install unrar "
      ],
      "execution_count": 0,
      "outputs": []
    },
    {
      "cell_type": "code",
      "metadata": {
        "id": "-w5T2Tr9X9bN",
        "colab_type": "code",
        "colab": {}
      },
      "source": [
        "!unrar e '/content/drive/My Drive/data.rar'\n",
        "\n",
        "#rar = rarfile.RarFile('/content/drive/My Drive/data.rar')"
      ],
      "execution_count": 0,
      "outputs": []
    },
    {
      "cell_type": "code",
      "metadata": {
        "id": "5SR2uyElWqBx",
        "colab_type": "code",
        "colab": {
          "base_uri": "https://localhost:8080/",
          "height": 123
        },
        "outputId": "751da39a-74dc-4a1d-f873-7e82330e8b04"
      },
      "source": [
        "qqfrom google.colab import drive\n",
        "drive.mount('/content/drive')"
      ],
      "execution_count": 2,
      "outputs": [
        {
          "output_type": "stream",
          "text": [
            "Go to this URL in a browser: https://accounts.google.com/o/oauth2/auth?client_id=947318989803-6bn6qk8qdgf4n4g3pfee6491hc0brc4i.apps.googleusercontent.com&redirect_uri=urn%3Aietf%3Awg%3Aoauth%3A2.0%3Aoob&scope=email%20https%3A%2F%2Fwww.googleapis.com%2Fauth%2Fdocs.test%20https%3A%2F%2Fwww.googleapis.com%2Fauth%2Fdrive%20https%3A%2F%2Fwww.googleapis.com%2Fauth%2Fdrive.photos.readonly%20https%3A%2F%2Fwww.googleapis.com%2Fauth%2Fpeopleapi.readonly&response_type=code\n",
            "\n",
            "Enter your authorization code:\n",
            "··········\n",
            "Mounted at /content/drive\n"
          ],
          "name": "stdout"
        }
      ]
    },
    {
      "cell_type": "code",
      "metadata": {
        "id": "h8sqadAmWjwF",
        "colab_type": "code",
        "colab": {}
      },
      "source": [
        "import os \n",
        "\n",
        "source = os.listdir('/content/')\n"
      ],
      "execution_count": 0,
      "outputs": []
    },
    {
      "cell_type": "code",
      "metadata": {
        "id": "bFgRN3endqDV",
        "colab_type": "code",
        "colab": {}
      },
      "source": [
        "im_ohaze = []\n",
        "im_our =[]\n",
        "for file in source:\n",
        "  if(file.endswith('.jpg')):\n",
        "    if 'outdoor' in file:\n",
        "      im_ohaze.append(file)\n",
        "    else:\n",
        "      im_our.append(file)"
      ],
      "execution_count": 0,
      "outputs": []
    },
    {
      "cell_type": "code",
      "metadata": {
        "id": "YT0g79LP13Pn",
        "colab_type": "code",
        "colab": {
          "base_uri": "https://localhost:8080/",
          "height": 34
        },
        "outputId": "fee416a6-f721-4f90-b301-4e5632b9efc5"
      },
      "source": [
        "print(len(im_ohaze))"
      ],
      "execution_count": 30,
      "outputs": [
        {
          "output_type": "stream",
          "text": [
            "46\n"
          ],
          "name": "stdout"
        }
      ]
    },
    {
      "cell_type": "code",
      "metadata": {
        "id": "pZQsZpfE15yQ",
        "colab_type": "code",
        "colab": {
          "base_uri": "https://localhost:8080/",
          "height": 34
        },
        "outputId": "242fb5b4-5de8-4d4e-810b-67b8aa5154a0"
      },
      "source": [
        "print(len(im_our))"
      ],
      "execution_count": 31,
      "outputs": [
        {
          "output_type": "stream",
          "text": [
            "27\n"
          ],
          "name": "stdout"
        }
      ]
    },
    {
      "cell_type": "code",
      "metadata": {
        "id": "XjFq6Bexfl2P",
        "colab_type": "code",
        "colab": {
          "base_uri": "https://localhost:8080/",
          "height": 88
        },
        "outputId": "5913adee-b8ba-4fa0-a83f-ea167960f889"
      },
      "source": [
        "print(len(im))\n",
        "print(im)\n",
        "\n",
        "\n",
        "\n",
        "if 'outdoor' in im[0]:\n",
        "  print(im[0])\n",
        "\n"
      ],
      "execution_count": 26,
      "outputs": [
        {
          "output_type": "stream",
          "text": [
            "73\n",
            "['37_outdoor_GT.jpg', '19_outdoor_hazy.jpg', '1.jpg', '01_outdoor_hazy.jpg', '10.jpg', '42_outdoor_GT.jpg', '28_outdoor_GT.jpg', '39_outdoor_hazy.jpg', '2.jpg', '11.jpg', '40_outdoor_GT.jpg', '04_outdoor_GT.jpg', '28_outdoor_hazy.jpg', '37_outdoor_hazy.jpg', '9.jpg', '17.jpg', '45_outdoor_hazy.jpg', '14_outdoor_hazy.jpg', '20.jpg', '14.jpg', '20_outdoor_hazy.jpg', '44_outdoor_GT.jpg', '40_outdoor_hazy.jpg', '24_outdoor_hazy.jpg', '22.jpg', '14_outdoor_GT.jpg', '25_outdoor_GT.jpg', '8.jpg', '31_outdoor_GT.jpg', '18_outdoor_GT.jpg', '21.jpg', '19.jpg', '13.jpg', '30_outdoor_GT.jpg', '4.jpg', '27.jpg', '25.jpg', '12.jpg', '42_outdoor_hazy.jpg', '07_outdoor_GT.jpg', '43_outdoor_GT.jpg', '7.jpg', '16_outdoor_GT.jpg', '38_outdoor_GT.jpg', '04_outdoor_hazy.jpg', '24.jpg', '19_outdoor_GT.jpg', '10_outdoor_GT.jpg', '13_outdoor_hazy.jpg', '16.jpg', '25_outdoor_hazy.jpg', '10_outdoor_hazy.jpg', '30_outdoor_hazy.jpg', '3.jpg', '34_outdoor_GT.jpg', '05_outdoor_hazy.jpg', '6.jpg', '18.jpg', '13_outdoor_GT.jpg', '23_outdoor_GT.jpg', '15.jpg', '31_outdoor_hazy.jpg', '01_outdoor_GT.jpg', '23.jpg', '17_outdoor_hazy.jpg', '26.jpg', '5.jpg', '12_outdoor_hazy.jpg', '08_outdoor_hazy.jpg', '23_outdoor_hazy.jpg', '35_outdoor_hazy.jpg', '11_outdoor_GT.jpg', '34_outdoor_hazy.jpg']\n",
            "37_outdoor_GT.jpg\n"
          ],
          "name": "stdout"
        }
      ]
    },
    {
      "cell_type": "code",
      "metadata": {
        "id": "OsENxArWBelW",
        "colab_type": "code",
        "colab": {}
      },
      "source": [
        "mnx=[]\n",
        "for img in images:\n",
        "  im = cv2.imread(img)\n",
        "  im = cv2.resize(im, (256,256))\n",
        "  b,g,r = cv2.split(im) \n",
        "  mnx.append(b)\n",
        "  mnx.append(g)\n",
        "  mnx.append(r)\n",
        "  D = min(mnx)\n",
        "  B = max(mnx)\n",
        "  C = B-D \n",
        "  "
      ],
      "execution_count": 0,
      "outputs": []
    },
    {
      "cell_type": "code",
      "metadata": {
        "id": "bJMCiYduJNH-",
        "colab_type": "code",
        "colab": {}
      },
      "source": [
        "x1=tf.placeholder(dtype = tf.float32, shape = (None,1))\n",
        "x2=tf.placeholder(dtype = tf.float32, shape= (None,1))\n",
        "\n",
        "u =tf.Variable(5.1)\n",
        "v =tf.Variable(2.9)\n",
        "s =tf.Variable(0.2461)\n",
        "\n",
        "h = tf.math.exp(-0.5**(u*x1 + v*x2)+s)\n",
        "\n",
        "init = tf.global_variables_initializer()\n",
        "\n",
        "with tf.Session() as sess:\n",
        "  "
      ],
      "execution_count": 0,
      "outputs": []
    },
    {
      "cell_type": "code",
      "metadata": {
        "id": "HlpNFxxNAY_C",
        "colab_type": "code",
        "colab": {}
      },
      "source": [
        ""
      ],
      "execution_count": 0,
      "outputs": []
    }
  ]
}