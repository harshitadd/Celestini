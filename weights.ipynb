{
  "nbformat": 4,
  "nbformat_minor": 0,
  "metadata": {
    "colab": {
      "name": "weights.ipynb",
      "version": "0.3.2",
      "provenance": [],
      "include_colab_link": true
    },
    "kernelspec": {
      "name": "python3",
      "display_name": "Python 3"
    },
    "accelerator": "GPU"
  },
  "cells": [
    {
      "cell_type": "markdown",
      "metadata": {
        "id": "view-in-github",
        "colab_type": "text"
      },
      "source": [
        "<a href=\"https://colab.research.google.com/github/harshitadd/Celestini/blob/master/weights.ipynb\" target=\"_parent\"><img src=\"https://colab.research.google.com/assets/colab-badge.svg\" alt=\"Open In Colab\"/></a>"
      ]
    },
    {
      "cell_type": "code",
      "metadata": {
        "id": "fL7ZrNzUIngs",
        "colab_type": "code",
        "colab": {}
      },
      "source": [
        "import tensorflow as tf \n",
        "from tensorflow.python.tools import inspect_checkpoint as ckpt\n"
      ],
      "execution_count": 0,
      "outputs": []
    },
    {
      "cell_type": "code",
      "metadata": {
        "id": "zIqdzUv_LOgz",
        "colab_type": "code",
        "colab": {
          "base_uri": "https://localhost:8080/",
          "height": 122
        },
        "outputId": "0e66649f-e673-4fa7-c5f1-5ee0b54dfaea"
      },
      "source": [
        "ckpt.print_tensors_in_checkpoint_file(\"/content/check_weight.ckpt.data-00000-of-00001\", tensor_name='', all_tensors=True)\n"
      ],
      "execution_count": 8,
      "outputs": [
        {
          "output_type": "stream",
          "text": [
            "Unable to open table file /content/check_weight.ckpt.data-00000-of-00001: Data loss: not an sstable (bad magic number): perhaps your file is in a different file format and you need to use a different restore operator?\n",
            "\n",
            "It's likely that this is a V2 checkpoint and you need to provide the filename\n",
            "*prefix*.  Try removing the '.' and extension.  Try:\n",
            "inspect checkpoint --file_name = /content/check_weight.ckpt\n"
          ],
          "name": "stdout"
        }
      ]
    },
    {
      "cell_type": "code",
      "metadata": {
        "id": "c_0MXmisJ8VQ",
        "colab_type": "code",
        "colab": {}
      },
      "source": [
        "with tf.Session() as sess:\n",
        "    saver = tf.train.import_meta_graph('/content/check_weight.ckpt.meta')\n",
        "    saver.restore(sess, \"/content/check_weight.ckpt\")"
      ],
      "execution_count": 0,
      "outputs": []
    },
    {
      "cell_type": "code",
      "metadata": {
        "id": "21oB0ooII84e",
        "colab_type": "code",
        "colab": {
          "base_uri": "https://localhost:8080/",
          "height": 561
        },
        "outputId": "43b83d9c-ebb4-4135-e8b8-d022cc1deda9"
      },
      "source": [
        "val = tf.Variable(0)\n",
        "val = ckpt.print_tensors_in_checkpoint_file(\"/content/check_weight.ckpt\", tensor_name='w1', all_tensors=False)\n"
      ],
      "execution_count": 25,
      "outputs": [
        {
          "output_type": "stream",
          "text": [
            "tensor_name:  w1\n",
            "[[-0.01425472 -0.367743   -0.06392993 -0.26146567 -0.48555985  0.07070955\n",
            "  -0.74546856 -0.1976735  -0.67874575  0.11711964  0.08081994  0.02569619\n",
            "  -0.34274653 -1.3732344  -0.9979688 ]\n",
            " [ 0.0109078   0.2390643   0.29673636  0.67653495  0.16867572 -0.2225138\n",
            "   0.47879672 -0.38368562 -0.12672067 -0.03683507  0.10116805 -0.14285856\n",
            "   0.4868523   0.6997085   0.2649038 ]\n",
            " [-0.28817448  0.40555385  0.14471033 -0.22277503 -0.06969681 -0.04238646\n",
            "   0.3551959  -0.3150527   0.36707363  0.5569657   0.3549581   0.04929855\n",
            "   0.00442869 -0.0322117  -0.12499052]\n",
            " [-0.43934307  0.6683736   0.65835625  0.32297993  0.3877315   0.20382088\n",
            "  -0.03280743  0.11880645 -0.24748036 -0.14394528  0.29841137 -0.33159494\n",
            "  -0.27265948  0.17071223  0.6367972 ]\n",
            " [-0.03307167  0.5400921  -0.20752357 -0.11698342 -0.07857299 -0.21066691\n",
            "   0.6623914   0.4648352   0.6226499   0.6748389   0.59873235 -0.31261915\n",
            "  -0.01936174 -0.40511754 -0.20889115]\n",
            " [ 0.12497869  0.35819578  0.24583216 -0.37260324 -0.49179655  0.29334185\n",
            "   0.4172331  -0.4341759  -0.0484615  -0.18310148  0.51218396  0.4751403\n",
            "   0.20005019  0.05964887 -0.19368812]\n",
            " [ 0.02064744  0.05381585 -0.23244618 -0.21201876 -0.15329239  0.21906325\n",
            "  -0.8720529   0.36830553 -0.24118641  0.14570631 -0.16788144 -0.2693761\n",
            "   0.07605564 -0.41179204 -0.16611283]\n",
            " [ 0.4739093   0.40534607 -0.337273    0.5313764   0.21083999  0.5691616\n",
            "  -0.4865193  -0.00326225  0.23980552 -0.06777278  0.44003904 -0.42009008\n",
            "   0.41008145 -0.35744712 -0.2020822 ]\n",
            " [ 0.04329094 -0.1381912   0.48999077  0.23487692 -0.31635806  0.52839655\n",
            "   0.34267664 -0.22604814 -0.06531104  0.10295273  0.08056315 -0.32735378\n",
            "   0.36755472 -0.19288294 -0.22145881]\n",
            " [ 0.04285768  0.7476595   1.5486565   0.97542953 -0.24588545  0.9853088\n",
            "   1.3516544  -0.14679322  0.73253435  0.6698168   1.3207865   0.44290408\n",
            "   0.8218952   1.1340251   1.2066548 ]]\n",
            "# Total number of params: 1775\n"
          ],
          "name": "stdout"
        }
      ]
    }
  ]
}