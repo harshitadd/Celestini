{
  "nbformat": 4,
  "nbformat_minor": 0,
  "metadata": {
    "colab": {
      "name": "Model_WithKeras.ipynb",
      "provenance": [],
      "include_colab_link": true
    },
    "kernelspec": {
      "name": "python3",
      "display_name": "Python 3"
    },
    "accelerator": "GPU"
  },
  "cells": [
    {
      "cell_type": "markdown",
      "metadata": {
        "id": "view-in-github",
        "colab_type": "text"
      },
      "source": [
        "<a href=\"https://colab.research.google.com/github/harshitadd/Celestini/blob/master/Model_WithKeras.ipynb\" target=\"_parent\"><img src=\"https://colab.research.google.com/assets/colab-badge.svg\" alt=\"Open In Colab\"/></a>"
      ]
    },
    {
      "cell_type": "code",
      "metadata": {
        "id": "GB_ovQ-XfhRc",
        "colab_type": "code",
        "colab": {}
      },
      "source": [
        "import tensorflow as tf \n",
        "import pickle\n",
        "from sklearn.externals import joblib\n",
        "import numpy as np\n",
        "from tensorflow.python.client import device_lib\n",
        "from tensorflow.saved_model import simple_save\n",
        "import random\n",
        "import matplotlib.pyplot as plt \n",
        "import math\n",
        "from sklearn.model_selection import train_test_split\n",
        "from tensorflow.python import pywrap_tensorflow"
      ],
      "execution_count": 0,
      "outputs": []
    },
    {
      "cell_type": "markdown",
      "metadata": {
        "id": "BqfmC0FpnwAX",
        "colab_type": "text"
      },
      "source": [
        "The labels and Features files for the model have been listed in the repository to be included here. "
      ]
    },
    {
      "cell_type": "code",
      "metadata": {
        "id": "ElPlZWUSf04p",
        "colab_type": "code",
        "colab": {}
      },
      "source": [
        " \n",
        "with open('/content/featuresFinal_withNOV.bin','rb') as file:\n",
        "  f = pickle.load(file)\n",
        "  \n",
        "with open('/content/labelsFinal_withNOV.bin','rb') as file:\n",
        "  l = pickle.load(file)"
      ],
      "execution_count": 0,
      "outputs": []
    },
    {
      "cell_type": "code",
      "metadata": {
        "id": "KYARG24Ts2Ya",
        "colab_type": "code",
        "colab": {}
      },
      "source": [
        "features = []\n",
        "labels = []\n",
        "\n",
        "for i in f:\n",
        "  features.append(list(map(float,i)))\n",
        "for i in l:\n",
        "  labels.append(list(map(float,i)))"
      ],
      "execution_count": 0,
      "outputs": []
    },
    {
      "cell_type": "code",
      "metadata": {
        "id": "za07w39Et_A4",
        "colab_type": "code",
        "outputId": "df748eea-0470-455a-9132-68c5c4bb3f54",
        "colab": {
          "base_uri": "https://localhost:8080/",
          "height": 51
        }
      },
      "source": [
        "print(np.shape(features))\n",
        "print(np.shape(labels))"
      ],
      "execution_count": 5,
      "outputs": [
        {
          "output_type": "stream",
          "text": [
            "(2753, 10)\n",
            "(2753, 1)\n"
          ],
          "name": "stdout"
        }
      ]
    },
    {
      "cell_type": "code",
      "metadata": {
        "id": "pEWX04Xrf5pw",
        "colab_type": "code",
        "colab": {}
      },
      "source": [
        "x_train_t, x_test_t,y_train_t, y_test_t = train_test_split(features, labels, test_size = 0.3)"
      ],
      "execution_count": 0,
      "outputs": []
    },
    {
      "cell_type": "code",
      "metadata": {
        "id": "lKhLYx25gDmw",
        "colab_type": "code",
        "colab": {}
      },
      "source": [
        "tf.reset_default_graph()\n"
      ],
      "execution_count": 0,
      "outputs": []
    },
    {
      "cell_type": "code",
      "metadata": {
        "id": "GBsJRRwLgUtI",
        "colab_type": "code",
        "colab": {}
      },
      "source": [
        "print(device_lib.list_local_devices())\n",
        "\n"
      ],
      "execution_count": 0,
      "outputs": []
    },
    {
      "cell_type": "code",
      "metadata": {
        "id": "0U5s3T6kgWmD",
        "colab_type": "code",
        "colab": {}
      },
      "source": [
        "from keras.layers import Dense, Dropout, BatchNormalization\n",
        "from keras.models import Sequential\n",
        "from keras.optimizers import Adam\n",
        "model = Sequential()\n",
        "model.add(Dense(15, input_shape = (10, ), activation = 'relu'))\n",
        "model.add(Dense(25, activation = 'relu'))\n",
        "model.add(Dense(1,  activation = 'relu'))"
      ],
      "execution_count": 0,
      "outputs": []
    },
    {
      "cell_type": "code",
      "metadata": {
        "id": "qy1vyNq3gZGv",
        "colab_type": "code",
        "colab": {}
      },
      "source": [
        "model.compile(optimizer = Adam(lr = 0.001),loss='mse')\n",
        "model.summary()"
      ],
      "execution_count": 0,
      "outputs": []
    },
    {
      "cell_type": "code",
      "metadata": {
        "id": "qoTkDmTcgbdw",
        "colab_type": "code",
        "colab": {}
      },
      "source": [
        "hist = model.fit([x_train_t], [y_train_t], validation_split = 0.33, epochs = 200,verbose = 1, batch_size = 32, shuffle = True)"
      ],
      "execution_count": 0,
      "outputs": []
    },
    {
      "cell_type": "code",
      "metadata": {
        "id": "mcj9WCv8gfWQ",
        "colab_type": "code",
        "colab": {
          "base_uri": "https://localhost:8080/",
          "height": 282
        },
        "outputId": "72f2df2a-3ea9-4c7a-efa6-83a17bcd3861"
      },
      "source": [
        "##Plotting the learning curve \n",
        "\n",
        "tr = hist.history['loss']\n",
        "val_ls = hist.history['val_loss']\n",
        "plt.plot(tr[1:])\n",
        "plt.plot(val_ls[1:])"
      ],
      "execution_count": 19,
      "outputs": [
        {
          "output_type": "execute_result",
          "data": {
            "text/plain": [
              "[<matplotlib.lines.Line2D at 0x7fd0a0122a58>]"
            ]
          },
          "metadata": {
            "tags": []
          },
          "execution_count": 19
        },
        {
          "output_type": "display_data",
          "data": {
            "image/png": "[encoded data removed]",
            "text/plain": [
              "<Figure size 432x288 with 1 Axes>"
            ]
          },
          "metadata": {
            "tags": []
          }
        }
      ]
    },
    {
      "cell_type": "code",
      "metadata": {
        "id": "gryPzko7gjTS",
        "colab_type": "code",
        "outputId": "81e9b954-c5dc-421c-bf6b-6c2f3e4baa68",
        "colab": {
          "base_uri": "https://localhost:8080/",
          "height": 34
        }
      },
      "source": [
        "##Estimating the Root Mean Square Error of the Model - A metric of its performance\n",
        "\n",
        "predicted = model.predict([x_test_t])\n",
        "y_test_t=np.reshape(y_test_t, (np.shape(y_test_t)[0],1))\n",
        "\n",
        "actual =[]\n",
        "pred=[]\n",
        "se=0\n",
        "show = np.hstack((y_test_t, predicted))\n",
        "\n",
        "for i in show:\n",
        "  se+=(i[0]-i[1])**2\n",
        "  actual.append(i[0])\n",
        "  pred.append(i[1])\n",
        "  \n",
        "rmse = (se/np.size(y_test_t))**0.5\n",
        "print(rmse)"
      ],
      "execution_count": 20,
      "outputs": [
        {
          "output_type": "stream",
          "text": [
            "16.411977516900837\n"
          ],
          "name": "stdout"
        }
      ]
    },
    {
      "cell_type": "code",
      "metadata": {
        "id": "CtZFQGvBiOxg",
        "colab_type": "code",
        "outputId": "a22b6c7f-b5a9-49eb-fe66-f00939298315",
        "colab": {
          "base_uri": "https://localhost:8080/",
          "height": 282
        }
      },
      "source": [
        "plt.plot(actual)\n",
        "plt.plot(pred)"
      ],
      "execution_count": 21,
      "outputs": [
        {
          "output_type": "execute_result",
          "data": {
            "text/plain": [
              "[<matplotlib.lines.Line2D at 0x7fd0a009ab00>]"
            ]
          },
          "metadata": {
            "tags": []
          },
          "execution_count": 21
        },
        {
          "output_type": "display_data",
          "data": {
            "image/png": "[encoded data removed]",
            "text/plain": [
              "<Figure size 432x288 with 1 Axes>"
            ]
          },
          "metadata": {
            "tags": []
          }
        }
      ]
    },
    {
      "cell_type": "code",
      "metadata": {
        "id": "peDzBdcqkjzC",
        "colab_type": "code",
        "colab": {}
      },
      "source": [
        ""
      ],
      "execution_count": 0,
      "outputs": []
    }
  ]
}