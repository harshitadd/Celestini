{
 "cells": [
  {
   "cell_type": "code",
   "execution_count": 39,
   "metadata": {},
   "outputs": [
    {
     "name": "stdout",
     "output_type": "stream",
     "text": [
      "41°\n"
     ]
    }
   ],
   "source": [
    "import requests as rst \n",
    "from bs4 import BeautifulSoup as bs\n",
    "import csv \n",
    "\n",
    "url = 'https://weather.com/en-IN/weather/today/'\n",
    "page = rst.get(url)\n",
    "soup=bs(page.text,'lxml')\n",
    "\n",
    "k=0\n",
    "prime_data=[]\n",
    "\n",
    "csv_file=open('WeatherData.csv','w')\n",
    "csv_writer=csv.writer(csv_file)\n",
    "\n",
    "#scraping the time stamp\n",
    "\n",
    "for time in soup.find_all('p', class_='today_nowcard-timestamp'):\n",
    "    for t in time.find_all('span'):\n",
    "        k+=1\n",
    "        if(k%2==0):\n",
    "            temp=t.text\n",
    "            temp1=temp.split(' ')\n",
    "            temp=temp1[0]\n",
    "            \n",
    "csv_writer.writerow('Time :')\n",
    "csv_writer.writerow(temp)\n",
    "        \n",
    "#scraping the temperature \n",
    "\n",
    "for temp in soup.find_all('div',class_='today_nowcard-temp'):\n",
    "    for t in temp.find_all('span'):\n",
    "        \n",
    "csv_writer.writerow(['Temp :',t])\n",
    "#scraping the real time parameters \n",
    "\n",
    "for prime in soup.find_all('div',class_='today_nowcard-sidecar component panel'):\n",
    "    for td in prime.find_all('span',class_=''):\n",
    "        prime_data.append(td.text)\n",
    "    prime_data.pop(2)\n",
    "\n",
    "csv_writer.writerows(map(lambda x:[x],prime_data)) \n",
    "\n"
   ]
  },
  {
   "cell_type": "code",
   "execution_count": null,
   "metadata": {},
   "outputs": [],
   "source": []
  }
 ],
 "metadata": {
  "kernelspec": {
   "display_name": "Python 3",
   "language": "python",
   "name": "python3"
  },
  "language_info": {
   "codemirror_mode": {
    "name": "ipython",
    "version": 3
   },
   "file_extension": ".py",
   "mimetype": "text/x-python",
   "name": "python",
   "nbconvert_exporter": "python",
   "pygments_lexer": "ipython3",
   "version": "3.6.5"
  }
 },
 "nbformat": 4,
 "nbformat_minor": 2
}
