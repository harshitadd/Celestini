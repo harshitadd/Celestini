{
  "nbformat": 4,
  "nbformat_minor": 0,
  "metadata": {
    "colab": {
      "name": "Scaler.ipynb",
      "version": "0.3.2",
      "provenance": [],
      "include_colab_link": true
    },
    "kernelspec": {
      "name": "python3",
      "display_name": "Python 3"
    },
    "accelerator": "GPU"
  },
  "cells": [
    {
      "cell_type": "markdown",
      "metadata": {
        "id": "view-in-github",
        "colab_type": "text"
      },
      "source": [
        "<a href=\"https://colab.research.google.com/github/harshitadd/Celestini/blob/master/Scaler.ipynb\" target=\"_parent\"><img src=\"https://colab.research.google.com/assets/colab-badge.svg\" alt=\"Open In Colab\"/></a>"
      ]
    },
    {
      "cell_type": "code",
      "metadata": {
        "id": "VC6U3NL9fy8L",
        "colab_type": "code",
        "colab": {}
      },
      "source": [
        "import pickle "
      ],
      "execution_count": 0,
      "outputs": []
    },
    {
      "cell_type": "code",
      "metadata": {
        "id": "lYRoh9rtf-Om",
        "colab_type": "code",
        "colab": {}
      },
      "source": [
        "with open('/content/non_scaled_features.bin','rb') as file:\n",
        "  data = pickle.load(file)\n",
        "\n",
        "with open('/content/featuresFinal_withprevpm (1).bin','rb') as file:\n",
        "  scaled = pickle.load(file)\n",
        "  "
      ],
      "execution_count": 0,
      "outputs": []
    },
    {
      "cell_type": "code",
      "metadata": {
        "id": "qcfaSXGDgGPc",
        "colab_type": "code",
        "colab": {
          "base_uri": "https://localhost:8080/",
          "height": 187
        },
        "outputId": "4f0ede37-e13a-4a2b-eb9f-de3cae1f0d76"
      },
      "source": [
        "print(data)"
      ],
      "execution_count": 6,
      "outputs": [
        {
          "output_type": "stream",
          "text": [
            "[['10.0' '13.988058316798687' '18.30630111694336' ... '1001.0' '1.0'\n",
            "  '47.0']\n",
            " ['10.0' '13.011225805526196' '17.759958267211914' ... '1001.0' '1.0'\n",
            "  '47.0']\n",
            " ['11.0' '72.93656036709747' '38.76405715942383' ... '1001.0' '1.0'\n",
            "  '47.0']\n",
            " ...\n",
            " ['14' '61.739050515158446' '46.397361755371094' ... '996' '2.0' '28.0']\n",
            " ['15' '60.53267742978209' '45.918678283691406' ... '995' '2.0' '29.0']\n",
            " ['16' '59.436772626021934' '51.381996154785156' ... '995' '2.0' '29.0']]\n"
          ],
          "name": "stdout"
        }
      ]
    },
    {
      "cell_type": "code",
      "metadata": {
        "id": "Sr0z60e2gHfk",
        "colab_type": "code",
        "colab": {}
      },
      "source": [
        "temp =[]\n",
        "for x in data:\n",
        "  temp.append(float(x[9]))"
      ],
      "execution_count": 0,
      "outputs": []
    },
    {
      "cell_type": "code",
      "metadata": {
        "id": "vUtJDrd9gRJy",
        "colab_type": "code",
        "colab": {
          "base_uri": "https://localhost:8080/",
          "height": 34
        },
        "outputId": "588f9301-7c4e-4092-faca-60119f72ae88"
      },
      "source": [
        "print(len(temp))"
      ],
      "execution_count": 41,
      "outputs": [
        {
          "output_type": "stream",
          "text": [
            "2471\n"
          ],
          "name": "stdout"
        }
      ]
    },
    {
      "cell_type": "code",
      "metadata": {
        "id": "4V0FbM5OgSXF",
        "colab_type": "code",
        "colab": {
          "base_uri": "https://localhost:8080/",
          "height": 51
        },
        "outputId": "8b1fc5e0-f6c5-4401-8e1d-8372df0fcb0d"
      },
      "source": [
        "print(max(temp))\n",
        "print(min(temp))\n"
      ],
      "execution_count": 43,
      "outputs": [
        {
          "output_type": "stream",
          "text": [
            "190.0\n",
            "11.0\n"
          ],
          "name": "stdout"
        }
      ]
    },
    {
      "cell_type": "code",
      "metadata": {
        "id": "qeNkCMRTgXlT",
        "colab_type": "code",
        "colab": {}
      },
      "source": [
        "\n",
        "#features = np.hstack((hours, cont, ent , hum, tempr, deg, speed, pressure,trans,prev))\n",
        "\n"
      ],
      "execution_count": 0,
      "outputs": []
    },
    {
      "cell_type": "code",
      "metadata": {
        "id": "nYkmbpDFhU4Z",
        "colab_type": "code",
        "colab": {}
      },
      "source": [
        ""
      ],
      "execution_count": 0,
      "outputs": []
    }
  ]
}