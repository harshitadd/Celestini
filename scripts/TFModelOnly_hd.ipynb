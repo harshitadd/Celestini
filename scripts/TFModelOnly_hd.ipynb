{
  "nbformat": 4,
  "nbformat_minor": 0,
  "metadata": {
    "colab": {
      "name": "TFModelOnly_hd.ipynb",
      "version": "0.3.2",
      "provenance": [],
      "collapsed_sections": [],
      "include_colab_link": true
    },
    "kernelspec": {
      "name": "python3",
      "display_name": "Python 3"
    },
    "accelerator": "GPU"
  },
  "cells": [
    {
      "cell_type": "markdown",
      "metadata": {
        "id": "view-in-github",
        "colab_type": "text"
      },
      "source": [
        "<a href=\"https://colab.research.google.com/github/harshitadd/Celestini/blob/master/TFModelOnly_hd.ipynb\" target=\"_parent\"><img src=\"https://colab.research.google.com/assets/colab-badge.svg\" alt=\"Open In Colab\"/></a>"
      ]
    },
    {
      "cell_type": "code",
      "metadata": {
        "id": "s8hNHL0KEU9u",
        "colab_type": "code",
        "colab": {}
      },
      "source": [
        "import tensorflow as tf\n",
        "import numpy as np\n",
        "# from tensorflow.keras.layers import Dense\n",
        "# from tensorflow.keras.models import Model"
      ],
      "execution_count": 0,
      "outputs": []
    },
    {
      "cell_type": "code",
      "metadata": {
        "id": "1EUWfmNJShxk",
        "colab_type": "code",
        "colab": {
          "base_uri": "https://localhost:8080/",
          "height": 35
        },
        "outputId": "edc0b26b-4a37-4767-f40a-fb52c4fc2768"
      },
      "source": [
        "from google.colab import drive\n",
        "drive.mount('/content/drive')"
      ],
      "execution_count": 3,
      "outputs": [
        {
          "output_type": "stream",
          "text": [
            "Drive already mounted at /content/drive; to attempt to forcibly remount, call drive.mount(\"/content/drive\", force_remount=True).\n"
          ],
          "name": "stdout"
        }
      ]
    },
    {
      "cell_type": "code",
      "metadata": {
        "id": "E3mWOG4xtK1c",
        "colab_type": "code",
        "colab": {}
      },
      "source": [
        "import pickle\n",
        "with open('drive/My Drive/ffeatures64.bin', 'rb') as file:\n",
        "  features = pickle.load(file)\n",
        "with open('drive/My Drive/flabels64.bin', 'rb') as file:\n",
        "  labels = pickle.load(file)\n",
        "  \n",
        "from sklearn.model_selection import train_test_split\n",
        "x_train_f, x_test, y_train_f, y_test = train_test_split(features, labels, test_size = 0.3)"
      ],
      "execution_count": 0,
      "outputs": []
    },
    {
      "cell_type": "code",
      "metadata": {
        "id": "wzkuJfBhes0K",
        "colab_type": "code",
        "colab": {
          "base_uri": "https://localhost:8080/",
          "height": 35
        },
        "outputId": "d762ce2f-02a1-4339-b5e0-61f0a20fde11"
      },
      "source": [
        "print(features.shape)"
      ],
      "execution_count": 15,
      "outputs": [
        {
          "output_type": "stream",
          "text": [
            "(2253, 4106)\n"
          ],
          "name": "stdout"
        }
      ]
    },
    {
      "cell_type": "code",
      "metadata": {
        "id": "m1ukSxP036lP",
        "colab_type": "code",
        "colab": {}
      },
      "source": [
        "tf.reset_default_graph()"
      ],
      "execution_count": 0,
      "outputs": []
    },
    {
      "cell_type": "code",
      "metadata": {
        "id": "f8A0KVKP13p8",
        "colab_type": "code",
        "colab": {}
      },
      "source": [
        "from tensorflow.python.client import device_lib\n",
        "print(device_lib.list_local_devices())"
      ],
      "execution_count": 0,
      "outputs": []
    },
    {
      "cell_type": "code",
      "metadata": {
        "id": "-plxEpPZUrP7",
        "colab_type": "code",
        "colab": {}
      },
      "source": [
        "#Input/Output\n",
        "\n",
        "x = tf.placeholder(shape = (None, 4106), dtype = tf.float32, name='input')\n",
        "y = tf.placeholder(shape = (None, 1), dtype = tf.float32, name='target')\n",
        "\n",
        "#Weights and Biases\n",
        "\n",
        "w1 = tf.Variable(tf.random_normal([4106, 5000]))\n",
        "b1 = tf.Variable(tf.random_normal([1, 5000]))\n",
        "\n",
        "outw = tf.Variable(tf.random_normal([5000, 1]))\n",
        "outbias = tf.Variable(tf.random_normal([1, 1]))\n",
        "\n",
        "n = features.shape[1]\n",
        "\n",
        "lr = 0.001\n",
        "\n",
        "\n",
        "layer1 = tf.add(tf.matmul(x, w1), b1)\n",
        "# drop1 = tf.keras.layers.Dropout(rate = 0.5)(layer1)\n",
        "out = tf.add(tf.matmul(layer1, outw), outbias)\n"
      ],
      "execution_count": 0,
      "outputs": []
    },
    {
      "cell_type": "code",
      "metadata": {
        "id": "HzozgwQybJl-",
        "colab_type": "code",
        "colab": {}
      },
      "source": [
        "loss = tf.reduce_mean(tf.square(tf.subtract(y, out))) + 0.4*tf.reduce_max(tf.subtract(y, out), name = 'loss')\n",
        "opt = tf.train.AdamOptimizer(learning_rate=lr, name= 'optimizer')\n",
        "train_op = opt.minimize(loss, name='train')\n",
        "saver_def = tf.train.Saver().as_saver_def()"
      ],
      "execution_count": 0,
      "outputs": []
    },
    {
      "cell_type": "code",
      "metadata": {
        "id": "294psKULVkfN",
        "colab_type": "code",
        "outputId": "bedc541f-2ffb-45bb-cda1-0957c350eed1",
        "colab": {
          "base_uri": "https://localhost:8080/",
          "height": 191
        }
      },
      "source": [
        "import random\n",
        "import numpy as np\n",
        "\n",
        "l = 0.001\n",
        "l = np.array(l, dtype = np.float32)\n",
        "\n",
        "init = tf.global_variables_initializer()\n",
        "\n",
        "with tf.device(\"CPU:0\"):\n",
        "  saver = tf.train.Saver()\n",
        "  with tf.Session() as sess:\n",
        "    sess.run(init)\n",
        "#     saver.restore(sess, \"model.ckpt\")\n",
        "#     print(\"Model restored.\")\n",
        "\n",
        "  for i in range(3000):\n",
        "    x_train, x_val, y_train, y_val = train_test_split(x_train_f, y_train_f, test_size = 0.3)\n",
        "    ind = random.choice(range(len(x_train)))\n",
        "    x_train_batch = x_train[ind]\n",
        "    #print(x_train_batch)\n",
        "    y_train_batch = y_train[ind]\n",
        "    #print(y_train_batch)\n",
        "    ind = random.choice(range(len(x_val)))\n",
        "    #print(ind)\n",
        "    x_val_batch = x_val[ind]\n",
        "    #print(len(x_val_batch))\n",
        "    y_val_batch = y_val[ind]\n",
        "    #print(y_val_batch)\n",
        "    \n",
        "    for it in range(2):\n",
        "      \n",
        "      ind1 = random.choice(range(len(x_train)))\n",
        "      ind2 = random.choice(range(len(x_val)))\n",
        "      \n",
        "      x_train_batch = np.vstack((x_train_batch, x_train[ind1]))\n",
        "      y_train_batch = np.vstack((y_train_batch, y_train[ind1]))\n",
        "      x_val_batch = np.vstack((x_val_batch, x_val[ind2]))\n",
        "      print(x_val_batch)\n",
        "      y_val_batch = np.vstack((y_val_batch, y_val[ind2]))\n",
        "      print(y_val_batch)\n",
        "      \n",
        "    break\n",
        "#     for i in range(3000):\n",
        "#       z = sess.run([loss, train_op], feed_dict = {x: x_train_f, y:y_train_f})\n",
        "#       print(z[0])\n",
        "#     save_path = saver.save(sess, \"model.ckpt\")\n",
        "#     print(\"Model saved\")"
      ],
      "execution_count": 19,
      "outputs": [
        {
          "output_type": "stream",
          "text": [
            "[[0.75       0.65792145 0.67553564 ... 0.98728814 0.98728814 0.98728814]\n",
            " [0.08333333 0.85900419 0.80276818 ... 1.         1.         1.        ]]\n",
            "[[ 29.]\n",
            " [190.]]\n",
            "[[0.75       0.65792145 0.67553564 ... 0.98728814 0.98728814 0.98728814]\n",
            " [0.08333333 0.85900419 0.80276818 ... 1.         1.         1.        ]\n",
            " [1.         0.76694864 0.79401264 ... 0.99607843 0.99607843 0.99607843]]\n",
            "[[ 29.]\n",
            " [190.]\n",
            " [ 39.]]\n"
          ],
          "name": "stdout"
        }
      ]
    },
    {
      "cell_type": "code",
      "metadata": {
        "id": "xwsSLiDT4iFt",
        "colab_type": "code",
        "colab": {
          "base_uri": "https://localhost:8080/",
          "height": 35
        },
        "outputId": "a61ec141-02a5-45f6-ac87-9593541b875e"
      },
      "source": [
        "print(random.choice(range(100)))"
      ],
      "execution_count": 16,
      "outputs": [
        {
          "output_type": "stream",
          "text": [
            "84\n"
          ],
          "name": "stdout"
        }
      ]
    },
    {
      "cell_type": "code",
      "metadata": {
        "id": "LbvPuLsgjGju",
        "colab_type": "code",
        "colab": {}
      },
      "source": [
        "  print(tf.get_default_graph().as_graph_def())"
      ],
      "execution_count": 0,
      "outputs": []
    },
    {
      "cell_type": "code",
      "metadata": {
        "id": "gzHyAi-PKdfA",
        "colab_type": "code",
        "outputId": "ccba8d65-8b0b-4052-aa9e-84fa95467575",
        "colab": {
          "base_uri": "https://localhost:8080/",
          "height": 34
        }
      },
      "source": [
        "print(type(tf.get_default_graph().as_graph_def().SerializeToString()))"
      ],
      "execution_count": 0,
      "outputs": [
        {
          "output_type": "stream",
          "text": [
            "<class 'bytes'>\n"
          ],
          "name": "stdout"
        }
      ]
    },
    {
      "cell_type": "code",
      "metadata": {
        "id": "lggGT6T_sCsT",
        "colab_type": "code",
        "outputId": "d011e980-737c-4bce-87c7-65e4ad29aede",
        "colab": {
          "base_uri": "https://localhost:8080/",
          "height": 86
        }
      },
      "source": [
        "tf.trainable_variables()"
      ],
      "execution_count": 0,
      "outputs": [
        {
          "output_type": "execute_result",
          "data": {
            "text/plain": [
              "[<tf.Variable 'Variable:0' shape=(4106, 5000) dtype=float32_ref>,\n",
              " <tf.Variable 'Variable_1:0' shape=(1, 5000) dtype=float32_ref>,\n",
              " <tf.Variable 'Variable_2:0' shape=(5000, 1) dtype=float32_ref>,\n",
              " <tf.Variable 'Variable_3:0' shape=(1, 1) dtype=float32_ref>]"
            ]
          },
          "metadata": {
            "tags": []
          },
          "execution_count": 40
        }
      ]
    },
    {
      "cell_type": "code",
      "metadata": {
        "id": "cU9iyyzoJW8A",
        "colab_type": "code",
        "colab": {}
      },
      "source": [
        "with open('graph.pb', 'wb') as f:\n",
        "  f.write(tf.get_default_graph().as_graph_def().SerializeToString())"
      ],
      "execution_count": 0,
      "outputs": []
    },
    {
      "cell_type": "code",
      "metadata": {
        "id": "OuSzaOoIk_AX",
        "colab_type": "code",
        "outputId": "245a46ec-e944-4858-8f22-ec03bbc9ccad",
        "colab": {
          "base_uri": "https://localhost:8080/",
          "height": 34
        }
      },
      "source": [
        "print(np.shape(z))"
      ],
      "execution_count": 0,
      "outputs": [
        {
          "output_type": "stream",
          "text": [
            "(5, 4106)\n"
          ],
          "name": "stdout"
        }
      ]
    },
    {
      "cell_type": "code",
      "metadata": {
        "id": "PuFv_eS6922G",
        "colab_type": "code",
        "colab": {}
      },
      "source": [
        "ls = hist.history['loss']\n",
        "val_ls = hist.history['val_loss']\n",
        "import matplotlib.pyplot as plt\n",
        "plt.plot(ls)\n",
        "plt.plot(val_ls)"
      ],
      "execution_count": 0,
      "outputs": []
    },
    {
      "cell_type": "code",
      "metadata": {
        "id": "-duitrNzGudW",
        "colab_type": "code",
        "colab": {}
      },
      "source": [
        "model.save('85_111.h5')"
      ],
      "execution_count": 0,
      "outputs": []
    },
    {
      "cell_type": "code",
      "metadata": {
        "id": "OFp1hpmlS1uK",
        "colab_type": "code",
        "colab": {}
      },
      "source": [
        "model.save_weights('85_111_w.h5')"
      ],
      "execution_count": 0,
      "outputs": []
    },
    {
      "cell_type": "code",
      "metadata": {
        "id": "C2HFE3mdTDiO",
        "colab_type": "code",
        "colab": {}
      },
      "source": [
        "!pip install -U -q PyDrive\n",
        "!git clone https://github.com/Joshua1989/python_scientific_computing.git\n",
        "!git clone https://gist.github.com/dc7e60aa487430ea704a8cb3f2c5d6a6.git /tmp/colab_util_repo\n",
        "!mv /tmp/colab_util_repo/colab_util.py colab_util.py \n",
        "!rm -r /tmp/colab_util_repo\n",
        "from colab_util import *\n",
        "drive_handler = GoogleDriveHandler()\n",
        "test_folder_id = drive_handler.create_folder('Model')"
      ],
      "execution_count": 0,
      "outputs": []
    },
    {
      "cell_type": "code",
      "metadata": {
        "id": "DozqOLY8Uh4E",
        "colab_type": "code",
        "colab": {}
      },
      "source": [
        "drive_handler.upload('85_111.h5')"
      ],
      "execution_count": 0,
      "outputs": []
    },
    {
      "cell_type": "code",
      "metadata": {
        "id": "ccy6ZUvXeO-T",
        "colab_type": "code",
        "colab": {}
      },
      "source": [
        "import tensorflow as tf"
      ],
      "execution_count": 0,
      "outputs": []
    },
    {
      "cell_type": "code",
      "metadata": {
        "id": "VYlwCLrgT_nR",
        "colab_type": "code",
        "colab": {}
      },
      "source": [
        "tf.estimator.DNNLinearCombinedRegressor(\n",
        "       model_dir = '',\n",
        "       linear_feature_columns = wide_columns,\n",
        "       dnn_feature_columns = deep_columns,\n",
        "       dnn_hidden_units = hidden_units)"
      ],
      "execution_count": 0,
      "outputs": []
    },
    {
      "cell_type": "code",
      "metadata": {
        "id": "UIQ_aPjweNwZ",
        "colab_type": "code",
        "colab": {}
      },
      "source": [
        ""
      ],
      "execution_count": 0,
      "outputs": []
    }
  ]
}