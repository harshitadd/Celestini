{
  "nbformat": 4,
  "nbformat_minor": 0,
  "metadata": {
    "colab": {
      "name": "Dataset_Usable.ipynb",
      "provenance": [],
      "include_colab_link": true
    },
    "kernelspec": {
      "name": "python3",
      "display_name": "Python 3"
    },
    "accelerator": "GPU"
  },
  "cells": [
    {
      "cell_type": "markdown",
      "metadata": {
        "id": "view-in-github",
        "colab_type": "text"
      },
      "source": [
        "<a href=\"https://colab.research.google.com/github/harshitadd/Celestini/blob/master/Dataset_Usable.ipynb\" target=\"_parent\"><img src=\"https://colab.research.google.com/assets/colab-badge.svg\" alt=\"Open In Colab\"/></a>"
      ]
    },
    {
      "cell_type": "code",
      "metadata": {
        "id": "4-llAWZ0a4lj",
        "colab_type": "code",
        "colab": {}
      },
      "source": [
        "!pip install firebase-admin\n",
        "!pip install google-cloud-storage"
      ],
      "execution_count": 0,
      "outputs": []
    },
    {
      "cell_type": "code",
      "metadata": {
        "id": "F8Xk4FhNhXv0",
        "colab_type": "code",
        "colab": {}
      },
      "source": [
        "import firebase_admin\n",
        "from firebase_admin import credentials,db,storage \n",
        "from zipfile import ZipFile\n"
      ],
      "execution_count": 0,
      "outputs": []
    },
    {
      "cell_type": "code",
      "metadata": {
        "id": "9ZhYwSKChvoX",
        "colab_type": "code",
        "colab": {}
      },
      "source": [
        "cred = credentials.Certificate(\"credentials_alldata.json\")\n",
        "\n",
        "# Initialize the app with a service account, granting admin privileges\n",
        "app = firebase_admin.initialize_app(cred, {\n",
        "    'storageBucket': 'celestinidataset.appspot.com',\n",
        "}, name='all_data')"
      ],
      "execution_count": 0,
      "outputs": []
    },
    {
      "cell_type": "code",
      "metadata": {
        "id": "NBd0NveKjPeU",
        "colab_type": "code",
        "colab": {}
      },
      "source": [
        "bucket = storage.bucket(app=app)\n",
        "blobs = bucket.list_blobs()"
      ],
      "execution_count": 0,
      "outputs": []
    },
    {
      "cell_type": "code",
      "metadata": {
        "id": "DKiGjPpqjUlc",
        "colab_type": "code",
        "colab": {}
      },
      "source": [
        "'''\n",
        "Will be getting a 403 error because of unfavourable bucket response. \n",
        "'''\n",
        "\n",
        "for blob in blobs:\n",
        "    blob.download_to_filename('/content/' + \"EXTRACT\")   \n",
        "    file_name='/content/EXTRACT'\n",
        "    with ZipFile(file_name, 'r') as zip: \n",
        "      # printing all the contents of the zip file \n",
        "      zip.printdir() \n",
        "    \n",
        "    # extracting all the files \n",
        "      print('Extracting all the files now...') \n",
        "      zip.extractall() \n",
        "      print('Done!') \n",
        "      \n",
        "    \n",
        "    \n"
      ],
      "execution_count": 0,
      "outputs": []
    },
    {
      "cell_type": "code",
      "metadata": {
        "id": "6zC7Z0g5qEds",
        "colab_type": "code",
        "colab": {}
      },
      "source": [
        ""
      ],
      "execution_count": 0,
      "outputs": []
    }
  ]
}