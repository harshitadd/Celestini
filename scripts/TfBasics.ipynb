{
  "nbformat": 4,
  "nbformat_minor": 0,
  "metadata": {
    "colab": {
      "name": "TfBasics.ipynb",
      "version": "0.3.2",
      "provenance": [],
      "include_colab_link": true
    },
    "kernelspec": {
      "name": "python3",
      "display_name": "Python 3"
    },
    "accelerator": "GPU"
  },
  "cells": [
    {
      "cell_type": "markdown",
      "metadata": {
        "id": "view-in-github",
        "colab_type": "text"
      },
      "source": [
        "<a href=\"https://colab.research.google.com/github/harshitadd/Celestini/blob/master/TfBasics.ipynb\" target=\"_parent\"><img src=\"https://colab.research.google.com/assets/colab-badge.svg\" alt=\"Open In Colab\"/></a>"
      ]
    },
    {
      "cell_type": "code",
      "metadata": {
        "id": "nn83TgNA-qRO",
        "colab_type": "code",
        "colab": {}
      },
      "source": [
        "#!pip3 install --upgrade tensorflow\n",
        "import tensorflow as tf\n",
        "import matplotlib.pyplot as plt "
      ],
      "execution_count": 0,
      "outputs": []
    },
    {
      "cell_type": "code",
      "metadata": {
        "id": "1OmhXYh1-7t5",
        "colab_type": "code",
        "outputId": "011590b8-2763-4a5a-a3a3-b406cdc47e8a",
        "colab": {
          "base_uri": "https://localhost:8080/",
          "height": 35
        }
      },
      "source": [
        "print(tf.__version__)"
      ],
      "execution_count": 0,
      "outputs": [
        {
          "output_type": "stream",
          "text": [
            "1.14.0\n"
          ],
          "name": "stdout"
        }
      ]
    },
    {
      "cell_type": "code",
      "metadata": {
        "id": "WvFa4fygAUCj",
        "colab_type": "code",
        "colab": {}
      },
      "source": [
        "x = tf.Variable(8)\n",
        "f = x*x\n"
      ],
      "execution_count": 0,
      "outputs": []
    },
    {
      "cell_type": "markdown",
      "metadata": {
        "id": "z3_lEcKq11aQ",
        "colab_type": "text"
      },
      "source": [
        "1.tf.Variable() used to declare a variable which is not initialised until the init() func is called\n",
        "\n",
        "2.f = x*x denotes a computational graph and not a mathematical calc \n",
        "\n",
        "3.f is a tensor object "
      ]
    },
    {
      "cell_type": "code",
      "metadata": {
        "id": "7eg5sfc5OByv",
        "colab_type": "code",
        "outputId": "d1513112-f044-48fd-d0ba-d40417e8cc62",
        "colab": {
          "base_uri": "https://localhost:8080/",
          "height": 69
        }
      },
      "source": [
        "myrand = tf.random_normal((3,3),mean = 0, stddev = 1.0)\n",
        "sess = tf.InteractiveSession()\n",
        "\n",
        "print(myrand.eval())"
      ],
      "execution_count": 0,
      "outputs": [
        {
          "output_type": "stream",
          "text": [
            "[[-0.28887802 -1.0129563  -1.2101105 ]\n",
            " [ 1.2334859   0.4351745   0.03901125]\n",
            " [ 1.6087698   2.0962787  -1.1218095 ]]\n"
          ],
          "name": "stdout"
        }
      ]
    },
    {
      "cell_type": "code",
      "metadata": {
        "id": "Ju4EeaLmD1rR",
        "colab_type": "code",
        "outputId": "bdc3bddd-42ca-4e2f-eac8-3cb14e7d7113",
        "colab": {
          "base_uri": "https://localhost:8080/",
          "height": 52
        }
      },
      "source": [
        "##2 methods of initialisation :: ##global initialisation vs individual initialisation as session is responsible for the actual computation within the block (Since Session is a block of execution it comes as Session()) \n",
        "##All of these are methods as they create instances of these classes when invoked \n",
        "\n",
        "\n",
        "#INDIVIDUAL with session not defined as default\n",
        "\n",
        "sess = tf.Session()\n",
        "sess.run(x.initializer)\n",
        "sess.run(f)\n",
        "sess.close()\n",
        "\n",
        "#INDIVIDUAL with session defined as default \n",
        "with tf.Session() as sess:\n",
        "  x.initializer.run()\n",
        "  print(f.eval())\n",
        "\n",
        "#GLOBAL init\n",
        "init = tf.global_variables_initializer()\n",
        "\n",
        "with tf.Session() as sess:\n",
        "  init.run()\n",
        "  print(f.eval())\n",
        "\n",
        "# with tf.Session as sess:\n",
        "#   x.initializer.run()\n"
      ],
      "execution_count": 0,
      "outputs": [
        {
          "output_type": "stream",
          "text": [
            "64\n",
            "64\n"
          ],
          "name": "stdout"
        }
      ]
    },
    {
      "cell_type": "markdown",
      "metadata": {
        "id": "9Tikwbax3Z7k",
        "colab_type": "text"
      },
      "source": [
        "Phase of making graphs - computation phase \n",
        "Phase of testing graphs - execution phase "
      ]
    },
    {
      "cell_type": "code",
      "metadata": {
        "id": "eu0Z3MgpEOgf",
        "colab_type": "code",
        "outputId": "8298e2db-4d32-4cfd-abed-5635a3d81417",
        "colab": {
          "base_uri": "https://localhost:8080/",
          "height": 52
        }
      },
      "source": [
        "sess = tf.Session()\n",
        "sess.run(x.initializer)\n",
        "\n",
        "## shows that this is not a \n",
        "print(f)\n",
        "print(f.eval(session = sess))"
      ],
      "execution_count": 0,
      "outputs": [
        {
          "output_type": "stream",
          "text": [
            "Tensor(\"mul:0\", shape=(), dtype=int32)\n",
            "64\n"
          ],
          "name": "stdout"
        }
      ]
    },
    {
      "cell_type": "code",
      "metadata": {
        "id": "JSLrZJCHW8zu",
        "colab_type": "code",
        "outputId": "9b600423-b9c1-41cd-8a75-e3470320485c",
        "colab": {
          "base_uri": "https://localhost:8080/",
          "height": 87
        }
      },
      "source": [
        "##Variables can be shared across all graphs \n",
        "##Node values on the other hand will be cleared once the graph execution is complete \n",
        "\n",
        "w = tf.constant(64)\n",
        "n = w+x\n",
        "print(w)\n",
        "init = tf.global_variables_initializer()\n",
        "\n",
        "with tf.Session() as sess:\n",
        "  init.run()\n",
        "  print(w) \n",
        "  print(w.eval())\n",
        "  \n",
        "print(w)\n",
        "\n"
      ],
      "execution_count": 0,
      "outputs": [
        {
          "output_type": "stream",
          "text": [
            "Tensor(\"Const_12:0\", shape=(), dtype=int32)\n",
            "Tensor(\"Const_12:0\", shape=(), dtype=int32)\n",
            "64\n",
            "Tensor(\"Const_12:0\", shape=(), dtype=int32)\n"
          ],
          "name": "stdout"
        }
      ]
    },
    {
      "cell_type": "code",
      "metadata": {
        "id": "saaMaRX4gkOk",
        "colab_type": "code",
        "outputId": "42612428-b8b2-49a4-a073-f7b6c4d567cc",
        "colab": {
          "base_uri": "https://localhost:8080/",
          "height": 35
        }
      },
      "source": [
        "## Computing multiple values in a graph simulateneously \n",
        "\n",
        "a = tf.Variable(5)\n",
        "b = tf.Variable(10)\n",
        "d = b + tf.constant(5)\n",
        "c = a+d\n",
        "\n",
        "init = tf.global_variables_initializer()\n",
        "\n",
        "with tf.Session() as sess:\n",
        "  sess.run(init)\n",
        "  print(c.eval())"
      ],
      "execution_count": 0,
      "outputs": [
        {
          "output_type": "stream",
          "text": [
            "20\n"
          ],
          "name": "stdout"
        }
      ]
    },
    {
      "cell_type": "code",
      "metadata": {
        "id": "ieLYqqbSkeF1",
        "colab_type": "code",
        "colab": {}
      },
      "source": [
        "## Input and output are multidimensional arrays in tf and hence they are called tensor . \n",
        "## At the core, tensors are np ndarrays that usually contain floats. They may include strings as well (byte arrays )\n",
        "## nodes are the blocks that are created when some association is implied : so matmul creates a node rather than actually computing the matmul UNTIL the session is run and all the nodes are evaluated \n",
        "## tf automatically runs your card on the GPU if you have it (np wont)\n",
        "## tf.Variable/constant({value}, dtype, name ** Important so that it can be called )\n"
      ],
      "execution_count": 0,
      "outputs": []
    },
    {
      "cell_type": "markdown",
      "metadata": {
        "id": "9Awxobc99eYW",
        "colab_type": "text"
      },
      "source": [
        "AUTODIFF (Chain Rule)\n",
        "\n",
        "1. 4 main approaches : most common reverse mode autodiff ;  \n",
        "others include :: forward mode, symbolic, numerical \n",
        "2. can be employed using the gradient method :: gradient(operation, var) ;\n",
        "\n",
        "  #theta = tf.Variable(tf.random_uniform([n + 1, 1], -1.0, 1.0), name=\"theta\") \n",
        "  here operation can be say MSE : the op that has to be applied on the variable;\n",
        "  var is the variable who gradient is to be computed after the op has been applied to it \n",
        "  "
      ]
    },
    {
      "cell_type": "markdown",
      "metadata": {
        "id": "XBVfBaLhDZ2n",
        "colab_type": "text"
      },
      "source": [
        "Mini Batches : \n",
        "\n",
        "Created with placeholder - replace value at runtime ;\n",
        "\n",
        "Need to specify the output tensor's datatype \n",
        "\n"
      ]
    },
    {
      "cell_type": "code",
      "metadata": {
        "id": "6zntBUUC5vFJ",
        "colab_type": "code",
        "colab": {}
      },
      "source": [
        "## Random_normal \n",
        "l = []\n",
        "init = tf.global_variables_initializer()\n",
        "\n",
        "t = tf.random_normal([1,100])\n",
        "\n",
        "with tf.Session() as sess:\n",
        "  sess.run(init)\n",
        "  l = t.eval()\n",
        "  \n",
        "  \n",
        "                "
      ],
      "execution_count": 0,
      "outputs": []
    },
    {
      "cell_type": "code",
      "metadata": {
        "id": "GrH7kS9QHE0A",
        "colab_type": "code",
        "outputId": "f9b02b69-f743-481a-e688-44988d28a0a1",
        "colab": {
          "base_uri": "https://localhost:8080/",
          "height": 599
        }
      },
      "source": [
        "print(l[0])\n",
        "print(len(l[0]))\n",
        "plt.plot(l[0])"
      ],
      "execution_count": 0,
      "outputs": [
        {
          "output_type": "stream",
          "text": [
            "[-0.66186905 -0.36842868  1.7969819   0.8898488  -1.941692   -0.26661238\n",
            "  0.09392562  0.13334058  0.7129527  -0.46765906 -0.09407325 -0.4169778\n",
            " -0.04700751 -0.31740823 -1.2724003  -0.4153373  -0.07965001  0.63540465\n",
            " -0.10852363 -0.5161696  -1.0013121   1.0911027  -1.1877058   0.6575167\n",
            " -0.90276265 -0.80658203 -0.14455307 -1.1369829  -2.4406366  -0.22439957\n",
            "  1.0140579  -1.6078237   0.0235752   1.5089618   0.3141112  -1.4568931\n",
            "  0.6362899  -0.03927839 -0.23278816  0.77806234  2.7652216  -0.6485174\n",
            " -1.0365577  -0.69281906  0.09204502 -0.6861984  -0.6965619   0.77402526\n",
            "  0.2668729  -1.6083474  -0.15906017 -0.17159715  0.99036294  0.86607057\n",
            " -1.0252826  -1.362303   -1.4085763   0.01347194  0.62930506 -1.1510253\n",
            "  0.9694589  -1.1837059  -0.37654117 -0.3818948   1.0363026   0.8643735\n",
            "  0.25249472  0.31292668  1.1423922  -0.7472086  -1.5771618  -0.6332163\n",
            " -2.620354   -2.7169008   0.5179602  -0.8980784  -0.04378334  1.516151\n",
            "  0.45601234 -0.78334284 -0.18875793  1.3821107   0.44143674  1.3995122\n",
            " -0.74935967  0.06082501 -0.16623493 -1.4013243   0.64960027 -0.62805665\n",
            " -1.9307089  -0.08013833  0.51780784 -1.6362047  -0.46688855 -0.8692024\n",
            "  0.5242962   0.8629241  -0.06127531 -0.1871718 ]\n",
            "100\n"
          ],
          "name": "stdout"
        },
        {
          "output_type": "execute_result",
          "data": {
            "text/plain": [
              "[<matplotlib.lines.Line2D at 0x7efe060ad9e8>]"
            ]
          },
          "metadata": {
            "tags": []
          },
          "execution_count": 59
        },
        {
          "output_type": "display_data",
          "data": {
            "image/png": "[encoded data removed]",
            "text/plain": [
              "<Figure size 432x288 with 1 Axes>"
            ]
          },
          "metadata": {
            "tags": []
          }
        }
      ]
    },
    {
      "cell_type": "code",
      "metadata": {
        "id": "0wYIGjgoP4oH",
        "colab_type": "code",
        "colab": {}
      },
      "source": [
        ""
      ],
      "execution_count": 0,
      "outputs": []
    }
  ]
}