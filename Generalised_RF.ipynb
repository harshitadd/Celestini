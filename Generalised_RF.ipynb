{
  "nbformat": 4,
  "nbformat_minor": 0,
  "metadata": {
    "colab": {
      "name": "Generalised_RF.ipynb",
      "version": "0.3.2",
      "provenance": [],
      "include_colab_link": true
    },
    "kernelspec": {
      "name": "python3",
      "display_name": "Python 3"
    },
    "accelerator": "GPU"
  },
  "cells": [
    {
      "cell_type": "markdown",
      "metadata": {
        "id": "view-in-github",
        "colab_type": "text"
      },
      "source": [
        "<a href=\"https://colab.research.google.com/github/harshitadd/Celestini/blob/master/Generalised_RF.ipynb\" target=\"_parent\"><img src=\"https://colab.research.google.com/assets/colab-badge.svg\" alt=\"Open In Colab\"/></a>"
      ]
    },
    {
      "cell_type": "code",
      "metadata": {
        "id": "N2Ula7qGr9bh",
        "colab_type": "code",
        "colab": {
          "base_uri": "https://localhost:8080/",
          "height": 523
        },
        "outputId": "66734825-c745-4b45-ccac-927fc18d0664"
      },
      "source": [
        "!pip install firebase-admin\n",
        "import os \n",
        "import math\n",
        "import cv2\n",
        "import numpy as np \n",
        "import csv"
      ],
      "execution_count": 62,
      "outputs": [
        {
          "output_type": "stream",
          "text": [
            "Requirement already satisfied: firebase-admin in /usr/local/lib/python3.6/dist-packages (2.17.0)\n",
            "Requirement already satisfied: google-api-python-client>=1.7.8 in /usr/local/lib/python3.6/dist-packages (from firebase-admin) (1.7.9)\n",
            "Requirement already satisfied: google-api-core[grpc]<2.0.0dev,>=1.7.0; platform_python_implementation != \"PyPy\" in /usr/local/lib/python3.6/dist-packages (from firebase-admin) (1.13.0)\n",
            "Requirement already satisfied: six>=1.6.1 in /usr/local/lib/python3.6/dist-packages (from firebase-admin) (1.12.0)\n",
            "Requirement already satisfied: google-cloud-storage>=1.13.0 in /usr/local/lib/python3.6/dist-packages (from firebase-admin) (1.16.1)\n",
            "Requirement already satisfied: cachecontrol>=0.12.4 in /usr/local/lib/python3.6/dist-packages (from firebase-admin) (0.12.5)\n",
            "Requirement already satisfied: google-cloud-firestore>=0.31.0; platform_python_implementation != \"PyPy\" in /usr/local/lib/python3.6/dist-packages (from firebase-admin) (1.2.0)\n",
            "Requirement already satisfied: google-auth-httplib2>=0.0.3 in /usr/local/lib/python3.6/dist-packages (from google-api-python-client>=1.7.8->firebase-admin) (0.0.3)\n",
            "Requirement already satisfied: uritemplate<4dev,>=3.0.0 in /usr/local/lib/python3.6/dist-packages (from google-api-python-client>=1.7.8->firebase-admin) (3.0.0)\n",
            "Requirement already satisfied: httplib2<1dev,>=0.9.2 in /usr/local/lib/python3.6/dist-packages (from google-api-python-client>=1.7.8->firebase-admin) (0.11.3)\n",
            "Requirement already satisfied: google-auth>=1.4.1 in /usr/local/lib/python3.6/dist-packages (from google-api-python-client>=1.7.8->firebase-admin) (1.4.2)\n",
            "Requirement already satisfied: googleapis-common-protos!=1.5.4,<2.0dev,>=1.5.3 in /usr/local/lib/python3.6/dist-packages (from google-api-core[grpc]<2.0.0dev,>=1.7.0; platform_python_implementation != \"PyPy\"->firebase-admin) (1.6.0)\n",
            "Requirement already satisfied: protobuf>=3.4.0 in /usr/local/lib/python3.6/dist-packages (from google-api-core[grpc]<2.0.0dev,>=1.7.0; platform_python_implementation != \"PyPy\"->firebase-admin) (3.7.1)\n",
            "Requirement already satisfied: requests<3.0.0dev,>=2.18.0 in /usr/local/lib/python3.6/dist-packages (from google-api-core[grpc]<2.0.0dev,>=1.7.0; platform_python_implementation != \"PyPy\"->firebase-admin) (2.21.0)\n",
            "Requirement already satisfied: setuptools>=34.0.0 in /usr/local/lib/python3.6/dist-packages (from google-api-core[grpc]<2.0.0dev,>=1.7.0; platform_python_implementation != \"PyPy\"->firebase-admin) (41.0.1)\n",
            "Requirement already satisfied: pytz in /usr/local/lib/python3.6/dist-packages (from google-api-core[grpc]<2.0.0dev,>=1.7.0; platform_python_implementation != \"PyPy\"->firebase-admin) (2018.9)\n",
            "Requirement already satisfied: grpcio<2.0dev,>=1.8.2; extra == \"grpc\" in /usr/local/lib/python3.6/dist-packages (from google-api-core[grpc]<2.0.0dev,>=1.7.0; platform_python_implementation != \"PyPy\"->firebase-admin) (1.15.0)\n",
            "Requirement already satisfied: google-cloud-core<2.0dev,>=1.0.0 in /usr/local/lib/python3.6/dist-packages (from google-cloud-storage>=1.13.0->firebase-admin) (1.0.2)\n",
            "Requirement already satisfied: google-resumable-media>=0.3.1 in /usr/local/lib/python3.6/dist-packages (from google-cloud-storage>=1.13.0->firebase-admin) (0.3.2)\n",
            "Requirement already satisfied: msgpack in /usr/local/lib/python3.6/dist-packages (from cachecontrol>=0.12.4->firebase-admin) (0.5.6)\n",
            "Requirement already satisfied: rsa>=3.1.4 in /usr/local/lib/python3.6/dist-packages (from google-auth>=1.4.1->google-api-python-client>=1.7.8->firebase-admin) (4.0)\n",
            "Requirement already satisfied: cachetools>=2.0.0 in /usr/local/lib/python3.6/dist-packages (from google-auth>=1.4.1->google-api-python-client>=1.7.8->firebase-admin) (3.1.1)\n",
            "Requirement already satisfied: pyasn1-modules>=0.2.1 in /usr/local/lib/python3.6/dist-packages (from google-auth>=1.4.1->google-api-python-client>=1.7.8->firebase-admin) (0.2.5)\n",
            "Requirement already satisfied: urllib3<1.25,>=1.21.1 in /usr/local/lib/python3.6/dist-packages (from requests<3.0.0dev,>=2.18.0->google-api-core[grpc]<2.0.0dev,>=1.7.0; platform_python_implementation != \"PyPy\"->firebase-admin) (1.24.3)\n",
            "Requirement already satisfied: idna<2.9,>=2.5 in /usr/local/lib/python3.6/dist-packages (from requests<3.0.0dev,>=2.18.0->google-api-core[grpc]<2.0.0dev,>=1.7.0; platform_python_implementation != \"PyPy\"->firebase-admin) (2.8)\n",
            "Requirement already satisfied: certifi>=2017.4.17 in /usr/local/lib/python3.6/dist-packages (from requests<3.0.0dev,>=2.18.0->google-api-core[grpc]<2.0.0dev,>=1.7.0; platform_python_implementation != \"PyPy\"->firebase-admin) (2019.6.16)\n",
            "Requirement already satisfied: chardet<3.1.0,>=3.0.2 in /usr/local/lib/python3.6/dist-packages (from requests<3.0.0dev,>=2.18.0->google-api-core[grpc]<2.0.0dev,>=1.7.0; platform_python_implementation != \"PyPy\"->firebase-admin) (3.0.4)\n",
            "Requirement already satisfied: pyasn1>=0.1.3 in /usr/local/lib/python3.6/dist-packages (from rsa>=3.1.4->google-auth>=1.4.1->google-api-python-client>=1.7.8->firebase-admin) (0.4.5)\n"
          ],
          "name": "stdout"
        }
      ]
    },
    {
      "cell_type": "code",
      "metadata": {
        "id": "CT2XE3MBsUzz",
        "colab_type": "code",
        "colab": {}
      },
      "source": [
        "#Get Images from Firebase Storage\n",
        "import datetime\n",
        "import firebase_admin\n",
        "from firebase_admin import credentials\n",
        "from firebase_admin import storage\n",
        "\n",
        "# Fetch the service account key JSON file contents\n",
        "cred = credentials.Certificate(\"credentials.json\")\n",
        "\n",
        "# Initialize the app with a service account, granting admin privileges\n",
        "app = firebase_admin.initialize_app(cred, {\n",
        "    'storageBucket': 'fir-4ca2c.appspot.com',\n",
        "}, name='storage')"
      ],
      "execution_count": 0,
      "outputs": []
    },
    {
      "cell_type": "code",
      "metadata": {
        "id": "NLMCGQOIlLHS",
        "colab_type": "code",
        "colab": {}
      },
      "source": [
        "#Loading E1 - Lenovo data : 504 -- sscb labels \n",
        "\n",
        "data = []\n",
        "reading = []\n",
        "t = 0\n",
        "bucket = storage.bucket(app=app)\n",
        "blobs = bucket.list_blobs()\n",
        "\n",
        "imglenovo = []\n",
        "\n",
        "mits = set()\n",
        "for blob in blobs:\n",
        "  if blob.name[7:16]==\"lenovoinS\" :\n",
        "    if int(blob.name[-8:-6])<19 and int(blob.name[-8:-6])>5:\n",
        "      blob.download_to_filename('/content/' + \"lenovo\" + str(blob.name.split('/')[-1])+ '.jpeg')\n",
        "      imglenovo.append(\"lenovo\" + str(blob.name.split('/')[-1])+ '.jpeg') \n",
        "      print(\"lenovo\" + str(blob.name.split('/')[-1])+ '.jpeg')\n",
        "\n"
      ],
      "execution_count": 0,
      "outputs": []
    },
    {
      "cell_type": "code",
      "metadata": {
        "id": "daBFfEaa4mcb",
        "colab_type": "code",
        "colab": {}
      },
      "source": [
        "print(imglenovo[0])\n",
        "im_trans=[]\n",
        "im_ent=[]\n",
        "im_cont=[]\n",
        "k=0\n",
        "for img in imglenovo:\n",
        "  im = cv2.imread(img)\n",
        "  im = cv2.resize(im, (32,32))\n",
        "  im_trans.append(np.ndarray.flatten(transmission(im, retMean = False )))\n",
        "  im_ent.append(entropy(im))\n",
        "  im_cont.append(contrast(im))\n",
        "  k+=1\n",
        "  print(k)\n",
        "  \n",
        "  \n",
        "print(len(im_trans))\n",
        "print(len(im_ent))\n",
        "print(len(im_cont))"
      ],
      "execution_count": 0,
      "outputs": []
    },
    {
      "cell_type": "code",
      "metadata": {
        "id": "BH9N_VTg78Ck",
        "colab_type": "code",
        "colab": {}
      },
      "source": [
        "dict={}\n",
        "for i in range(0,505):\n",
        "  l=[]\n",
        "  l.append(im_trans[i])\n",
        "  l.append(im_ent[i])\n",
        "  l.append(im_cont[i])\n",
        "  dict[(imglenovo[i])]=l\n",
        "  "
      ],
      "execution_count": 0,
      "outputs": []
    },
    {
      "cell_type": "code",
      "metadata": {
        "id": "z3jB9nD8ykNb",
        "colab_type": "code",
        "colab": {}
      },
      "source": [
        "##Loading E2 - Mi data : 760 -- sscb labels \n",
        "bucket = storage.bucket(app=app)\n",
        "blobs = bucket.list_blobs()\n",
        "\n",
        "imgminote = []\n",
        "\n",
        "mits = set()\n",
        "for blob in blobs:\n",
        "  if blob.name[7:16]==\"minoteSSC\" :\n",
        "    if int(blob.name[-8:-6])<19 and int(blob.name[-8:-6])>5:\n",
        "        print(blob.name)\n",
        "\n",
        "        blob.download_to_filename('/content/' + \"minote\" + str(blob.name.split('/')[-1])+ '.jpeg')\n",
        "        imgminote.append(\"minote\" + str(blob.name.split('/')[-1])+ '.jpeg') \n",
        "        print(\"minote\" + str(blob.name.split('/')[-1])+ '.jpeg')\n"
      ],
      "execution_count": 0,
      "outputs": []
    },
    {
      "cell_type": "code",
      "metadata": {
        "id": "X1aCjys94qra",
        "colab_type": "code",
        "colab": {}
      },
      "source": [
        "print(imgminote[0])\n",
        "\n",
        "for img in imgminote:\n",
        "  im = cv2.imread(img)\n",
        "  im = cv2.resize(im, (32,32))\n",
        "  im_trans.append(np.ndarray.flatten(transmission(im, retMean = False )))\n",
        "  im_ent.append(entropy(im))\n",
        "  im_cont.append(contrast(im))\n",
        "  k+=1\n",
        "  print(k)\n",
        "  \n",
        "  \n",
        "print(len(im_trans))\n",
        "print(len(im_ent))\n",
        "print(len(im_cont))\n",
        "  "
      ],
      "execution_count": 0,
      "outputs": []
    },
    {
      "cell_type": "code",
      "metadata": {
        "id": "ZOimUX0fSoe8",
        "colab_type": "code",
        "colab": {}
      },
      "source": [
        "k=0\n",
        "for i in range(506,1330):\n",
        "  l=[]\n",
        "  l.append(im_trans[i])\n",
        "  l.append(im_ent[i])\n",
        "  l.append(im_cont[i])\n",
        "  dict[(imgminote[k])]=l\n",
        "  k+=1\n",
        "  \n"
      ],
      "execution_count": 0,
      "outputs": []
    },
    {
      "cell_type": "code",
      "metadata": {
        "id": "mrEjEN6Z-B7K",
        "colab_type": "code",
        "outputId": "fae1601b-6e8d-432f-97f0-f209c04ca640",
        "colab": {
          "base_uri": "https://localhost:8080/",
          "height": 121
        }
      },
      "source": [
        "k=0\n",
        "for key in dict:\n",
        "  k+=1\n",
        "  if(k==505):\n",
        "    print(key)\n",
        "    print(dict[key])\n",
        "  if(k==506):\n",
        "    print(key)\n",
        "    print(dict[key])\n",
        " "
      ],
      "execution_count": 0,
      "outputs": [
        {
          "output_type": "stream",
          "text": [
            "lenovo2019-07-02 14:43:53.jpeg\n",
            "[array([0.46902655, 0.46902655, 0.46902655, ..., 0.98672566, 0.98672566,\n",
            "       0.98672566]), 33.49928283691406, 55.60050763749207]\n",
            "minote2019-06-30 18:59:57.jpeg\n",
            "[array([0.32941176, 0.32941176, 0.31764706, ..., 0.83921569, 0.92941176,\n",
            "       0.92941176]), 43.589691162109375, 68.69164026918482]\n"
          ],
          "name": "stdout"
        }
      ]
    },
    {
      "cell_type": "code",
      "metadata": {
        "id": "0Vinw5BwAb22",
        "colab_type": "code",
        "colab": {}
      },
      "source": [
        "#converting all image timestamps into cpcb compatible timestamp \n",
        "tmp=[]\n",
        "for key in dict:\n",
        "  print(key[-24:])\n",
        "  temp=key[-24:-5]\n",
        "  temp=temp.split('-')\n",
        "  \n",
        "  newtemp=temp[2].split(' ')\n",
        "  \n",
        "  newesttemp=newtemp[1].split(':')\n",
        "  \n",
        "  j=int(newesttemp[1])\n",
        "  if(j<7.5):\n",
        "    final = newtemp[0] + '-' + temp[1] + '-' + temp[0] + ' ' + newesttemp[0] + ':' + '00'\n",
        "  elif(j<15 or j<22.5):\n",
        "    final = newtemp[0] + '-' + temp[1] + '-' + temp[0] + ' ' + newesttemp[0] + ':' + '15'\n",
        "  elif(j<30 or j<37.5):\n",
        "    final = newtemp[0] + '-' + temp[1] + '-' + temp[0] + ' ' + newesttemp[0] + ':' + '30'\n",
        "  elif(j<45 or j<52.5):\n",
        "    final = newtemp[0] + '-' + temp[1] + '-' + temp[0] + ' ' + newesttemp[0] + ':' + '45'\n",
        "  else:\n",
        "    final = newtemp[0] + '-' + temp[1] + '-' + temp[0] + ' ' + newesttemp[0] + ':' + '00'\n",
        "  tmp.append(final)\n",
        "  \n",
        "  "
      ],
      "execution_count": 0,
      "outputs": []
    },
    {
      "cell_type": "code",
      "metadata": {
        "id": "S8AJm2Zh_nLh",
        "colab_type": "code",
        "outputId": "2b8f5e58-3487-41ac-a14d-48bdeee6d652",
        "colab": {
          "base_uri": "https://localhost:8080/",
          "height": 35
        }
      },
      "source": [
        "k=0\n",
        "cpcb={}\n",
        "with open('/content/sscb_labels_27_2.csv') as file:\n",
        "  reader = csv.reader(file, delimiter =',')\n",
        "  for row in reader:\n",
        "    k+=1\n",
        "    if(k>=18):\n",
        "      cpcb[(row[0])]=row[2]\n",
        "      \n",
        "      \n",
        "print(len(cpcb))\n",
        "\n",
        "\n",
        "      \n",
        "    "
      ],
      "execution_count": 79,
      "outputs": [
        {
          "output_type": "stream",
          "text": [
            "466\n"
          ],
          "name": "stdout"
        }
      ]
    },
    {
      "cell_type": "code",
      "metadata": {
        "id": "fBSBIgF0EoqI",
        "colab_type": "code",
        "colab": {
          "base_uri": "https://localhost:8080/",
          "height": 72
        },
        "outputId": "79ad8286-8667-476a-f339-c4e2570a7026"
      },
      "source": [
        "# match={}\n",
        "# for t in cpcb: \n",
        "#   for key in tmp:\n",
        "#     if(key==t):\n",
        "#       match[key]=cpcb[t]\n",
        "      \n",
        "      \n",
        "# print(match)\n",
        "# print(len(match))\n",
        "      "
      ],
      "execution_count": 78,
      "outputs": [
        {
          "output_type": "stream",
          "text": [
            "{'27-06-2019 18:00': '36', '27-06-2019 18:15': '36', '27-06-2019 18:30': '36', '27-06-2019 18:45': '36', '28-06-2019 06:00': '180', '28-06-2019 06:15': '180', '28-06-2019 06:30': '180', '28-06-2019 06:45': '180', '28-06-2019 07:00': '190', '28-06-2019 07:15': '190', '28-06-2019 07:30': '190', '28-06-2019 07:45': '190', '28-06-2019 08:00': '92', '28-06-2019 08:15': '92', '28-06-2019 08:30': '92', '28-06-2019 08:45': '92', '28-06-2019 09:00': '45', '28-06-2019 09:15': '45', '28-06-2019 09:30': '45', '28-06-2019 09:45': '45', '28-06-2019 10:00': '30', '28-06-2019 10:15': '30', '28-06-2019 10:30': '30', '28-06-2019 10:45': '30', '28-06-2019 11:00': '23', '28-06-2019 11:15': '23', '28-06-2019 11:30': '23', '28-06-2019 11:45': '23', '28-06-2019 12:00': '24', '28-06-2019 12:15': '24', '28-06-2019 12:30': '24', '28-06-2019 12:45': '24', '28-06-2019 13:00': '27', '28-06-2019 13:15': '27', '28-06-2019 13:30': '27', '28-06-2019 13:45': '27', '28-06-2019 14:00': '27', '28-06-2019 14:15': '27', '28-06-2019 14:30': '27', '28-06-2019 14:45': '27', '28-06-2019 15:00': '29', '28-06-2019 15:15': '29', '28-06-2019 15:30': '29', '28-06-2019 15:45': '29', '28-06-2019 16:00': '40', '28-06-2019 16:15': '40', '28-06-2019 16:30': '40', '28-06-2019 16:45': '40', '28-06-2019 17:00': '44', '28-06-2019 17:15': '44', '28-06-2019 17:30': '44', '28-06-2019 17:45': '44', '28-06-2019 18:00': '35', '28-06-2019 18:15': '35', '28-06-2019 18:30': '35', '28-06-2019 18:45': '35', '29-06-2019 06:00': '103', '29-06-2019 06:15': '103', '29-06-2019 06:30': '103', '29-06-2019 06:45': '103', '29-06-2019 07:00': '94', '29-06-2019 07:15': '94', '29-06-2019 07:30': '94', '29-06-2019 07:45': '94', '29-06-2019 08:00': '66', '29-06-2019 08:15': '66', '29-06-2019 08:30': '66', '29-06-2019 08:45': '66', '29-06-2019 09:00': '51', '29-06-2019 09:15': '51', '29-06-2019 09:30': '51', '29-06-2019 09:45': '51', '29-06-2019 10:00': '39', '29-06-2019 10:15': '39', '29-06-2019 10:30': '39', '29-06-2019 10:45': '39', '29-06-2019 11:00': '39', '29-06-2019 11:15': '39', '29-06-2019 11:30': '39', '29-06-2019 11:45': '39', '29-06-2019 12:00': '44', '29-06-2019 12:15': '44', '29-06-2019 12:30': '44', '29-06-2019 12:45': '44', '29-06-2019 13:00': '44', '29-06-2019 13:15': '44', '29-06-2019 13:30': '44', '29-06-2019 13:45': '44', '29-06-2019 14:00': '46', '29-06-2019 14:15': '46', '29-06-2019 14:30': '46', '29-06-2019 14:45': '46', '29-06-2019 15:00': '55', '29-06-2019 15:15': '55', '29-06-2019 15:30': '55', '29-06-2019 15:45': '55', '29-06-2019 16:00': '62', '29-06-2019 16:15': '62', '29-06-2019 16:30': '62', '29-06-2019 16:45': '62', '29-06-2019 17:00': '41', '29-06-2019 17:15': '41', '29-06-2019 17:30': '41', '29-06-2019 17:45': '41', '29-06-2019 18:00': '39', '29-06-2019 18:15': '39', '29-06-2019 18:30': '39', '29-06-2019 18:45': '39', '30-06-2019 06:00': '146', '30-06-2019 06:15': '146', '30-06-2019 06:30': 'None', '30-06-2019 06:45': '45', '30-06-2019 07:00': '45', '30-06-2019 07:15': '45', '30-06-2019 07:30': 'None', '30-06-2019 07:45': '31', '30-06-2019 08:00': '31', '30-06-2019 08:15': '31', '30-06-2019 08:30': 'None', '30-06-2019 08:45': '44', '30-06-2019 09:00': '44', '30-06-2019 09:15': '44', '30-06-2019 09:30': 'None', '30-06-2019 09:45': '40', '30-06-2019 10:00': '40', '30-06-2019 10:15': '40', '30-06-2019 10:30': 'None', '30-06-2019 10:45': '44', '30-06-2019 11:00': '44', '30-06-2019 11:15': '44', '30-06-2019 11:30': 'None', '30-06-2019 11:45': '41', '30-06-2019 12:00': '41', '30-06-2019 12:15': '41', '30-06-2019 12:30': 'None', '30-06-2019 12:45': '48', '30-06-2019 13:00': '48', '30-06-2019 13:15': '48', '30-06-2019 13:30': 'None', '30-06-2019 13:45': '46', '30-06-2019 14:00': '46', '30-06-2019 14:15': '46', '30-06-2019 14:30': 'None', '30-06-2019 14:45': '56', '30-06-2019 15:00': '56', '30-06-2019 15:15': '56', '30-06-2019 15:30': 'None', '30-06-2019 15:45': '27', '30-06-2019 16:00': '27', '30-06-2019 16:15': '27', '30-06-2019 16:30': 'None', '30-06-2019 16:45': '46', '30-06-2019 17:00': '46', '30-06-2019 17:15': '46', '30-06-2019 17:30': 'None', '30-06-2019 17:45': '57', '30-06-2019 18:00': '57', '30-06-2019 18:15': '57', '30-06-2019 18:30': 'None', '30-06-2019 18:45': '51', '01-07-2019 06:00': '48', '01-07-2019 06:15': '48', '01-07-2019 06:30': 'None', '01-07-2019 06:45': '41', '01-07-2019 07:00': '41', '01-07-2019 07:15': '41', '01-07-2019 07:30': 'None', '01-07-2019 07:45': '56', '01-07-2019 08:00': '56', '01-07-2019 08:15': '56', '01-07-2019 08:30': 'None', '01-07-2019 08:45': '46', '01-07-2019 09:00': '46', '01-07-2019 09:15': '46', '01-07-2019 09:30': 'None', '01-07-2019 09:45': '38', '01-07-2019 10:00': '38', '01-07-2019 10:15': '38', '01-07-2019 10:30': 'None', '01-07-2019 10:45': '56', '01-07-2019 11:00': '56', '01-07-2019 11:15': '56', '01-07-2019 11:30': 'None', '01-07-2019 11:45': '44', '01-07-2019 12:00': '44', '01-07-2019 12:15': '44', '01-07-2019 12:30': 'None', '01-07-2019 12:45': '50', '01-07-2019 13:00': '50', '01-07-2019 13:15': '50', '01-07-2019 13:30': 'None', '01-07-2019 13:45': '53', '01-07-2019 14:00': '53', '01-07-2019 14:15': '53', '01-07-2019 14:30': 'None', '01-07-2019 14:45': '66', '01-07-2019 15:00': '66', '01-07-2019 15:15': '66', '01-07-2019 15:30': 'None', '01-07-2019 15:45': '63', '01-07-2019 16:00': '63', '01-07-2019 16:15': '63', '01-07-2019 16:30': 'None', '01-07-2019 16:45': '57', '01-07-2019 17:00': '57', '01-07-2019 17:15': '57', '01-07-2019 17:30': 'None', '01-07-2019 17:45': '63', '01-07-2019 18:00': '63', '01-07-2019 18:15': '63', '01-07-2019 18:30': 'None', '01-07-2019 18:45': '62', '02-07-2019 06:00': '55', '02-07-2019 06:15': '55', '02-07-2019 06:30': 'None', '02-07-2019 06:45': '48', '02-07-2019 07:00': '48', '02-07-2019 07:15': '48', '02-07-2019 07:30': 'None', '02-07-2019 07:45': '78', '02-07-2019 08:00': '78', '02-07-2019 08:15': '78', '02-07-2019 08:30': 'None', '02-07-2019 08:45': '46', '02-07-2019 09:00': '46', '02-07-2019 09:15': '46', '02-07-2019 09:30': 'None', '02-07-2019 09:45': '50', '02-07-2019 10:00': '50', '02-07-2019 10:15': '50', '02-07-2019 10:30': 'None', '02-07-2019 10:45': '57', '02-07-2019 11:00': '57', '02-07-2019 11:15': '57', '02-07-2019 11:30': 'None', '02-07-2019 11:45': '75', '02-07-2019 12:00': '75', '02-07-2019 12:15': '75', '02-07-2019 12:30': 'None', '02-07-2019 12:45': '89', '02-07-2019 13:00': '89', '02-07-2019 13:15': '89', '02-07-2019 13:30': 'None', '02-07-2019 13:45': '75', '02-07-2019 14:00': 'None', '02-07-2019 14:15': 'None'}\n",
            "246\n"
          ],
          "name": "stdout"
        }
      ]
    },
    {
      "cell_type": "code",
      "metadata": {
        "id": "v3VK5AL0_FpP",
        "colab_type": "code",
        "outputId": "29c32ddf-322e-418b-aeb2-6aee7e968a7e",
        "colab": {
          "base_uri": "https://localhost:8080/",
          "height": 235
        }
      },
      "source": [
        ""
      ],
      "execution_count": 73,
      "outputs": [
        {
          "output_type": "error",
          "ename": "ValueError",
          "evalue": "ignored",
          "traceback": [
            "\u001b[0;31m---------------------------------------------------------------------------\u001b[0m",
            "\u001b[0;31mValueError\u001b[0m                                Traceback (most recent call last)",
            "\u001b[0;32m<ipython-input-73-7328075a0398>\u001b[0m in \u001b[0;36m<module>\u001b[0;34m()\u001b[0m\n\u001b[1;32m      2\u001b[0m \u001b[0mk\u001b[0m\u001b[0;34m=\u001b[0m\u001b[0;36m0\u001b[0m\u001b[0;34m\u001b[0m\u001b[0;34m\u001b[0m\u001b[0m\n\u001b[1;32m      3\u001b[0m \u001b[0;32mfor\u001b[0m \u001b[0mt\u001b[0m \u001b[0;32min\u001b[0m \u001b[0mtmp\u001b[0m\u001b[0;34m:\u001b[0m\u001b[0;34m\u001b[0m\u001b[0;34m\u001b[0m\u001b[0m\n\u001b[0;32m----> 4\u001b[0;31m   \u001b[0;32mfor\u001b[0m \u001b[0mrow\u001b[0m \u001b[0;32min\u001b[0m \u001b[0mreader\u001b[0m\u001b[0;34m:\u001b[0m\u001b[0;34m\u001b[0m\u001b[0;34m\u001b[0m\u001b[0m\n\u001b[0m\u001b[1;32m      5\u001b[0m     \u001b[0;32mif\u001b[0m\u001b[0;34m(\u001b[0m\u001b[0mt\u001b[0m \u001b[0;34m==\u001b[0m \u001b[0mrow\u001b[0m\u001b[0;34m[\u001b[0m\u001b[0;36m0\u001b[0m\u001b[0;34m]\u001b[0m\u001b[0;34m)\u001b[0m\u001b[0;34m:\u001b[0m\u001b[0;34m\u001b[0m\u001b[0;34m\u001b[0m\u001b[0m\n\u001b[1;32m      6\u001b[0m       \u001b[0mk\u001b[0m\u001b[0;34m+=\u001b[0m\u001b[0;36m1\u001b[0m\u001b[0;34m\u001b[0m\u001b[0;34m\u001b[0m\u001b[0m\n",
            "\u001b[0;31mValueError\u001b[0m: I/O operation on closed file."
          ]
        }
      ]
    },
    {
      "cell_type": "code",
      "metadata": {
        "id": "Eyy03BlVbkyI",
        "colab_type": "code",
        "colab": {}
      },
      "source": [
        "def transmission(img, lt = 230, retMean = False):\n",
        "  ker = np.ones((3, 3))/9.0\n",
        "  imgrgb = cv2.cvtColor(img, cv2.COLOR_BGR2RGB)\n",
        "  b, g, r = cv2.split(img)\n",
        "  hsv = cv2.cvtColor(imgrgb, cv2.COLOR_RGB2HSV)\n",
        "  _, _, v = cv2.split(hsv)\n",
        "  v_blur = cv2.filter2D(v, -1, ker)\n",
        "  _,building_mask = cv2.threshold(v_blur, lt, 255, cv2.THRESH_BINARY)\n",
        "  sky = cv2.bitwise_and(imgrgb, imgrgb, mask = building_mask)\n",
        "  sky_mask = cv2.bitwise_not(building_mask, building_mask.copy())\n",
        "  building = cv2.bitwise_and(imgrgb, imgrgb, mask = sky_mask)\n",
        " \n",
        "  al = max(v_blur.flatten())\n",
        "  #Airlight Found. Now calculate Transmission Map\n",
        "  img_norm = img/float(al)\n",
        "  b, g, r = cv2.split(img_norm)\n",
        "  kernel = np.ones((3,3),np.uint8)\n",
        "  im_new = np.zeros((img.shape[0], img.shape[1]))\n",
        "  for i in range(img.shape[0]):\n",
        "    for j in range(img.shape[1]):\n",
        "      im_new[i][j] = min(b[i][j], g[i][j], r[i][j])\n",
        "  dcp = cv2.erode(im_new, kernel, iterations = 1)\n",
        "  #ax[3].imshow(im_new, cmap = 'gray')\n",
        "  #ax[4].imshow(dcp, cmap = 'gray')\n",
        "  tr = np.ones((dcp.shape[0], dcp.shape[1]))\n",
        "  for i in range(dcp.shape[0]):\n",
        "    for j in range(dcp.shape[1]):\n",
        "      tr[i][j] = 1 - dcp[i][j]\n",
        "  #ax[1].imshow(tr, cmap = 'gray')\n",
        "  if retMean == False:\n",
        "    return tr\n",
        "  elif retMean == True:\n",
        "    return np.mean(tr)"
      ],
      "execution_count": 0,
      "outputs": []
    },
    {
      "cell_type": "code",
      "metadata": {
        "id": "grjE8hvGbl9q",
        "colab_type": "code",
        "colab": {}
      },
      "source": [
        "def entropy(image):\n",
        "  image = cv2.cvtColor(image, cv2.COLOR_BGR2GRAY)\n",
        "  hist = cv2.calcHist( [image.astype('float32')],\n",
        "              [0], \n",
        "              None,\n",
        "               [256], \n",
        "              [0,256] )\n",
        "  h_norm = 0\n",
        "  h_norm = cv2.normalize(hist, h_norm)\n",
        "  ent = 0\n",
        "  for p in h_norm:\n",
        "    try:\n",
        "      ent += p*math.log(p, 2)\n",
        "    except:\n",
        "      pass\n",
        "    \n",
        "  return (-1 * ent[0])"
      ],
      "execution_count": 0,
      "outputs": []
    },
    {
      "cell_type": "code",
      "metadata": {
        "id": "dLOmXTRkbqS1",
        "colab_type": "code",
        "colab": {}
      },
      "source": [
        "def contrast(image):\n",
        "  image = cv2.cvtColor(image, cv2.COLOR_BGR2GRAY)\n",
        "  s = 0\n",
        "  ss = 0\n",
        "  mean = np.mean(image)\n",
        "  x = (-1 * mean * (np.ones(image.shape)))\n",
        "  ss = np.square(np.add(image, x))\n",
        "  cont = np.sqrt(np.sum(ss)/float(image.size))\n",
        "  return cont"
      ],
      "execution_count": 0,
      "outputs": []
    },
    {
      "cell_type": "code",
      "metadata": {
        "id": "h-Pc-hHNbMbZ",
        "colab_type": "code",
        "colab": {}
      },
      "source": [
        "#Reading images from all folders : \n",
        "images = []\n",
        "\n",
        "\n"
      ],
      "execution_count": 0,
      "outputs": []
    },
    {
      "cell_type": "code",
      "metadata": {
        "id": "1EqnVSr-uBZL",
        "colab_type": "code",
        "colab": {}
      },
      "source": [
        "#Enhancing JPEG timestamp and cpcb timestamp compatibility\n",
        "mint=[]\n",
        "for name in imglenovo:\n",
        "  #print(name)\n",
        "  mint.append(int(name[-2:]))\n",
        "\n",
        "print(jpg_names)\n",
        "print(mint)\n",
        "new_mint=[]\n",
        "for j in mint: \n",
        "  if(j<7.5):\n",
        "    new_mint.append('00')\n",
        "  elif(j<15 or j<22.5):\n",
        "    new_mint.append('15')\n",
        "  elif(j<30 or j<37.5):\n",
        "    new_mint.append('30')\n",
        "  elif(j<45 or j<52.5):\n",
        "    new_mint.append('45')\n",
        "  else:\n",
        "    new_mint.append('00')\n",
        "\n",
        "print(len(new_mint))\n",
        "\n",
        "\n",
        "#compat has original jpeg timestamp corresponding to the new timestamp \n",
        "compat={}\n",
        "k=0\n",
        "for name in jpg_names:\n",
        "  compat[name]=str(name[:-2])+str(new_mint[k])\n",
        "  k+=1 \n",
        "  \n",
        "print(compat)"
      ],
      "execution_count": 0,
      "outputs": []
    },
    {
      "cell_type": "code",
      "metadata": {
        "id": "X93dJGwg5qA5",
        "colab_type": "code",
        "colab": {}
      },
      "source": [
        "timestamps=[]\n",
        "for img in imglenovo:\n",
        "  timestamps.append(img[-24:])\n",
        "  \n",
        "print(len(timestamps))\n",
        "for img in imgminote:\n",
        "  timestamps.append(img[-24:])\n",
        "  "
      ],
      "execution_count": 0,
      "outputs": []
    },
    {
      "cell_type": "code",
      "metadata": {
        "id": "PExbNUewQUpS",
        "colab_type": "code",
        "colab": {}
      },
      "source": [
        ""
      ],
      "execution_count": 0,
      "outputs": []
    }
  ]
}