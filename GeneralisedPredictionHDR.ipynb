{
  "nbformat": 4,
  "nbformat_minor": 0,
  "metadata": {
    "colab": {
      "name": "GeneralisedPredictionHDR.ipynb",
      "version": "0.3.2",
      "provenance": [],
      "include_colab_link": true
    },
    "kernelspec": {
      "name": "python3",
      "display_name": "Python 3"
    },
    "accelerator": "GPU"
  },
  "cells": [
    {
      "cell_type": "markdown",
      "metadata": {
        "id": "view-in-github",
        "colab_type": "text"
      },
      "source": [
        "<a href=\"https://colab.research.google.com/github/harshitadd/Celestini/blob/master/GeneralisedPredictionHDR.ipynb\" target=\"_parent\"><img src=\"https://colab.research.google.com/assets/colab-badge.svg\" alt=\"Open In Colab\"/></a>"
      ]
    },
    {
      "cell_type": "code",
      "metadata": {
        "id": "gEDtqzYS5Qyr",
        "colab_type": "code",
        "colab": {}
      },
      "source": [
        "#!pip install firebase-admin\n",
        "import firebase_admin\n",
        "from firebase_admin import credentials, db , storage\n",
        "import numpy as np \n",
        "import cv2\n",
        "from google.colab.patches import cv2_imshow\n"
      ],
      "execution_count": 0,
      "outputs": []
    },
    {
      "cell_type": "code",
      "metadata": {
        "id": "JEWcCY255oiM",
        "colab_type": "code",
        "colab": {}
      },
      "source": [
        "cred = credentials.Certificate(\"credentials.json\")\n",
        "\n",
        "# Initialize the app with a service account, granting admin privileges\n",
        "app = firebase_admin.initialize_app(cred, {\n",
        "    'storageBucket': 'fir-4ca2c.appspot.com',\n",
        "}, name='storage')"
      ],
      "execution_count": 0,
      "outputs": []
    },
    {
      "cell_type": "code",
      "metadata": {
        "id": "EqvqHQUiVymh",
        "colab_type": "code",
        "colab": {}
      },
      "source": [
        "bucket = storage.bucket(app=app)\n",
        "blobs = bucket.list_blobs()\n",
        "\n",
        "#blobs is an interator :google.api_core.page_iterator.HTTPIterator object at 0x7f2cd11c84e0>\n",
        "\n",
        "imgEXPERIA = [] #has all the lenovo images by their name \n",
        "ctr=0\n",
        "mits = set()\n",
        "for blob in blobs:\n",
        "  if blob.name[7:26]==\"predict/bhrigu/hdr/\":\n",
        "    blob.download_to_filename('/content/' + \"EXPERIA\" + str(blob.name.split('/')[-1])+ '.jpeg')\n",
        "    imgEXPERIA.append(\"EXPERIA\" + str(blob.name.split('/')[-1])+ '.jpeg') \n",
        "    print(\"EXPERIA\" + str(blob.name.split('/')[-1])+ '.jpeg')\n",
        "      "
      ],
      "execution_count": 0,
      "outputs": []
    },
    {
      "cell_type": "code",
      "metadata": {
        "id": "Z8J2szsOAsm-",
        "colab_type": "code",
        "colab": {}
      },
      "source": [
        "bucket = storage.bucket(app=app)\n",
        "blobs = bucket.list_blobs()\n",
        "\n",
        "#blobs is an interator :google.api_core.page_iterator.HTTPIterator object at 0x7f2cd11c84e0>\n",
        "\n",
        "imgS7HDR = [] #has all the lenovo images by their name \n",
        "ctr=0\n",
        "mits = set()\n",
        "for blob in blobs:\n",
        "  if blob.name[7:21]==\"predict/s7/hdr\":\n",
        "    blob.download_to_filename('/content/' + \"S7HDR\" + str(blob.name.split('/')[-1])+ '.jpeg')\n",
        "    imgS7HDR.append(\"S7HDR\" + str(blob.name.split('/')[-1])+ '.jpeg') \n",
        "    print(\"S7HDR\" + str(blob.name.split('/')[-1])+ '.jpeg')\n",
        "      \n",
        "  \n",
        "     "
      ],
      "execution_count": 0,
      "outputs": []
    },
    {
      "cell_type": "code",
      "metadata": {
        "id": "aBXOS4NWBInX",
        "colab_type": "code",
        "colab": {}
      },
      "source": [
        "bucket = storage.bucket(app=app)\n",
        "blobs = bucket.list_blobs()\n",
        "\n",
        "#blobs is an interator :google.api_core.page_iterator.HTTPIterator object at 0x7f2cd11c84e0>\n",
        "\n",
        "imgASUSHDR = [] #has all the lenovo images by their name \n",
        "ctr=0\n",
        "mits = set()\n",
        "for blob in blobs:\n",
        "  if blob.name[7:28]==\"predict/divyanshu/hdr\":\n",
        "    blob.download_to_filename('/content/' + \"DIVHDR\" + str(blob.name.split('/')[-1])+ '.jpeg')\n",
        "    imgASUSHDR.append(\"DIVHDR\" + str(blob.name.split('/')[-1])+ '.jpeg') \n",
        "    print(\"DIVHDR\" + str(blob.name.split('/')[-1])+ '.jpeg')\n",
        "      "
      ],
      "execution_count": 0,
      "outputs": []
    },
    {
      "cell_type": "code",
      "metadata": {
        "id": "ozQXSiNHZmym",
        "colab_type": "code",
        "colab": {}
      },
      "source": [
        "XHDR =[]\n",
        "for img in imgEXPERIA:\n",
        "  try:\n",
        "    im = cv2.imread('/content/' + str(img))\n",
        "    im = cv2.resize(im, (256,256))\n",
        "    XHDR.append(cv2.rotate(im, rotateCode = cv2.ROTATE_90_CLOCKWISE))\n",
        "  except:\n",
        "    print(img)"
      ],
      "execution_count": 0,
      "outputs": []
    },
    {
      "cell_type": "code",
      "metadata": {
        "id": "NjIUSs4QEL7e",
        "colab_type": "code",
        "colab": {}
      },
      "source": [
        "S7HDR =[]\n",
        "for img in imgS7HDR:\n",
        "  try:\n",
        "    im = cv2.imread('/content/' + str(img))\n",
        "    im = cv2.resize(im, (256,256))\n",
        "    S7HDR.append(cv2.rotate(im, rotateCode = cv2.ROTATE_90_CLOCKWISE))\n",
        "  except:\n",
        "    print(img)"
      ],
      "execution_count": 0,
      "outputs": []
    },
    {
      "cell_type": "code",
      "metadata": {
        "id": "OBLI8JM-GTGK",
        "colab_type": "code",
        "colab": {}
      },
      "source": [
        "ASUSHDR =[]\n",
        "for img in imgASUSHDR:\n",
        "  try:\n",
        "    im = cv2.imread('/content/' + str(img))\n",
        "    im = cv2.resize(im, (256,256))\n",
        "    ASUSHDR.append(cv2.rotate(im, rotateCode = cv2.ROTATE_90_CLOCKWISE))\n",
        "  except:\n",
        "    print(img)"
      ],
      "execution_count": 0,
      "outputs": []
    },
    {
      "cell_type": "code",
      "metadata": {
        "id": "ahe61i1jGnFO",
        "colab_type": "code",
        "colab": {}
      },
      "source": [
        "match={}\n",
        "for name in imgS7HDR:\n",
        "  for n in imgASUSHDR:\n",
        "    for x in imgEXPERIA:\n",
        "      k=name.split(' ')\n",
        "      l=n.split(' ')\n",
        "      m=x.split(' ')\n",
        "      if(k[1][:-9]==l[1][:-9]==m[1][:-9] and k[0][-10:]==l[0][-10:]==m[0][-10:]):\n",
        "        tmp = str(k[0][-10:] + ' ' + str(k[1][:-5]))\n",
        "        match[tmp]=name,n,x\n"
      ],
      "execution_count": 0,
      "outputs": []
    },
    {
      "cell_type": "code",
      "metadata": {
        "id": "rctgRRcqGo7c",
        "colab_type": "code",
        "colab": {
          "base_uri": "https://localhost:8080/",
          "height": 34
        },
        "outputId": "0f94b30c-1c0a-4b30-af48-7026cd65c889"
      },
      "source": [
        "print(len(match))"
      ],
      "execution_count": 92,
      "outputs": [
        {
          "output_type": "stream",
          "text": [
            "9\n"
          ],
          "name": "stdout"
        }
      ]
    },
    {
      "cell_type": "code",
      "metadata": {
        "id": "DWweQ_utVusX",
        "colab_type": "code",
        "colab": {
          "base_uri": "https://localhost:8080/",
          "height": 54
        },
        "outputId": "a01efcde-fa15-4866-bb42-edb571706c1b"
      },
      "source": [
        "print(match)"
      ],
      "execution_count": 93,
      "outputs": [
        {
          "output_type": "stream",
          "text": [
            "{'2019-07-22 15:14:46': ('S7HDR2019-07-22 15:14:46.jpeg', 'DIVHDR2019-07-22 15:15:27.jpeg', 'EXPERIA2019-07-22 15:18:00.jpeg'), '2019-07-22 15:24:46': ('S7HDR2019-07-22 15:24:46.jpeg', 'DIVHDR2019-07-22 15:26:07.jpeg', 'EXPERIA2019-07-22 15:29:19.jpeg'), '2019-07-22 15:49:50': ('S7HDR2019-07-22 15:49:50.jpeg', 'DIVHDR2019-07-22 15:46:32.jpeg', 'EXPERIA2019-07-22 15:49:19.jpeg'), '2019-07-22 15:54:50': ('S7HDR2019-07-22 15:54:50.jpeg', 'DIVHDR2019-07-22 15:55:49.jpeg', 'EXPERIA2019-07-22 15:54:19.jpeg'), '2019-07-22 15:59:50': ('S7HDR2019-07-22 15:59:50.jpeg', 'DIVHDR2019-07-22 15:55:49.jpeg', 'EXPERIA2019-07-22 15:54:19.jpeg'), '2019-07-22 16:04:51': ('S7HDR2019-07-22 16:04:51.jpeg', 'DIVHDR2019-07-22 16:05:49.jpeg', 'EXPERIA2019-07-22 16:09:19.jpeg'), '2019-07-22 16:09:51': ('S7HDR2019-07-22 16:09:51.jpeg', 'DIVHDR2019-07-22 16:05:49.jpeg', 'EXPERIA2019-07-22 16:09:19.jpeg'), '2019-07-22 16:14:50': ('S7HDR2019-07-22 16:14:50.jpeg', 'DIVHDR2019-07-22 16:16:31.jpeg', 'EXPERIA2019-07-22 16:14:19.jpeg'), '2019-07-22 16:19:50': ('S7HDR2019-07-22 16:19:50.jpeg', 'DIVHDR2019-07-22 16:16:31.jpeg', 'EXPERIA2019-07-22 16:14:19.jpeg')}\n"
          ],
          "name": "stdout"
        }
      ]
    },
    {
      "cell_type": "code",
      "metadata": {
        "id": "5d4S7goQbRO5",
        "colab_type": "code",
        "colab": {}
      },
      "source": [
        "weather={}\n",
        "for key in match:\n",
        "  temp=key.split('-')\n",
        "  newtemp=temp[2].split(' ')\n",
        "  newesttemp=newtemp[1].split(':')\n",
        "  j=int(newesttemp[1])\n",
        "  if(j<=7.5):\n",
        "    final = temp[0] + '-' + temp[1] + '-' + newtemp[0] + ' ' + newesttemp[0] + ':' + '00'\n",
        "  elif(j<=15 or j<=22.5):\n",
        "    final = temp[0] + '-' + temp[1] + '-' + newtemp[0] + ' ' + newesttemp[0] + ':' + '15'\n",
        "  elif(j<=30 or j<=37.5):\n",
        "    final = temp[0] + '-' + temp[1] + '-' + newtemp[0] + ' ' + newesttemp[0] + ':' + '30'\n",
        "  elif(j<=45 or j<=52.5):\n",
        "    final = temp[0] + '-' + temp[1] + '-' + newtemp[0] + ' ' + newesttemp[0] + ':' + '45'\n",
        "  elif(j>52.5):\n",
        "    final = temp[0] + '-' + temp[1] + '-' + newtemp[0] + ' ' + newesttemp[0] + ':' + '00'\n",
        "  if(final not in weather):\n",
        "    weather[final]=match[key]\n",
        "  \n",
        " "
      ],
      "execution_count": 0,
      "outputs": []
    },
    {
      "cell_type": "code",
      "metadata": {
        "id": "n1KA4kErh4-D",
        "colab_type": "code",
        "colab": {
          "base_uri": "https://localhost:8080/",
          "height": 54
        },
        "outputId": "0036e08e-be0a-402e-d947-c6041d155c36"
      },
      "source": [
        "print(weather)"
      ],
      "execution_count": 100,
      "outputs": [
        {
          "output_type": "stream",
          "text": [
            "{'2019-07-22 15:15': ('S7HDR2019-07-22 15:14:46.jpeg', 'DIVHDR2019-07-22 15:15:27.jpeg', 'EXPERIA2019-07-22 15:18:00.jpeg'), '2019-07-22 15:30': ('S7HDR2019-07-22 15:24:46.jpeg', 'DIVHDR2019-07-22 15:26:07.jpeg', 'EXPERIA2019-07-22 15:29:19.jpeg'), '2019-07-22 15:45': ('S7HDR2019-07-22 15:49:50.jpeg', 'DIVHDR2019-07-22 15:46:32.jpeg', 'EXPERIA2019-07-22 15:49:19.jpeg'), '2019-07-22 15:00': ('S7HDR2019-07-22 15:54:50.jpeg', 'DIVHDR2019-07-22 15:55:49.jpeg', 'EXPERIA2019-07-22 15:54:19.jpeg'), '2019-07-22 16:00': ('S7HDR2019-07-22 16:04:51.jpeg', 'DIVHDR2019-07-22 16:05:49.jpeg', 'EXPERIA2019-07-22 16:09:19.jpeg'), '2019-07-22 16:15': ('S7HDR2019-07-22 16:09:51.jpeg', 'DIVHDR2019-07-22 16:05:49.jpeg', 'EXPERIA2019-07-22 16:09:19.jpeg')}\n"
          ],
          "name": "stdout"
        }
      ]
    },
    {
      "cell_type": "code",
      "metadata": {
        "id": "H5uR62p6ihHZ",
        "colab_type": "code",
        "colab": {}
      },
      "source": [
        "def transmission(img, lt = 230, retMean = False):\n",
        "  ker = np.ones((3, 3))/9.0\n",
        "  imgrgb = cv2.cvtColor(img, cv2.COLOR_BGR2RGB)\n",
        "  b, g, r = cv2.split(img)\n",
        "  hsv = cv2.cvtColor(imgrgb, cv2.COLOR_RGB2HSV)\n",
        "  _, _, v = cv2.split(hsv)\n",
        "  v_blur = cv2.filter2D(v, -1, ker)\n",
        "  _,building_mask = cv2.threshold(v_blur, lt, 255, cv2.THRESH_BINARY)\n",
        "  sky = cv2.bitwise_and(imgrgb, imgrgb, mask = building_mask)\n",
        "  sky_mask = cv2.bitwise_not(building_mask, building_mask.copy())\n",
        "  building = cv2.bitwise_and(imgrgb, imgrgb, mask = sky_mask)\n",
        " \n",
        "  al = max(v_blur.flatten())\n",
        "  #Airlight Found. Now calculate Transmission Map\n",
        "  img_norm = img/float(al)\n",
        "  b, g, r = cv2.split(img_norm)\n",
        "  kernel = np.ones((3,3),np.uint8)\n",
        "  im_new = np.zeros((img.shape[0], img.shape[1]))\n",
        "  for i in range(img.shape[0]):\n",
        "    for j in range(img.shape[1]):\n",
        "      im_new[i][j] = min(b[i][j], g[i][j], r[i][j])\n",
        "  dcp = cv2.erode(im_new, kernel, iterations = 1)\n",
        "  #ax[3].imshow(im_new, cmap = 'gray')\n",
        "  #ax[4].imshow(dcp, cmap = 'gray')\n",
        "  tr = np.ones((dcp.shape[0], dcp.shape[1]))\n",
        "  for i in range(dcp.shape[0]):\n",
        "    for j in range(dcp.shape[1]):\n",
        "      tr[i][j] = 1 - dcp[i][j]\n",
        "  #ax[1].imshow(tr, cmap = 'gray')\n",
        "  if retMean == False:\n",
        "    return tr\n",
        "  elif retMean == True:\n",
        "    return np.mean(tr)"
      ],
      "execution_count": 0,
      "outputs": []
    },
    {
      "cell_type": "code",
      "metadata": {
        "id": "o6uU3FY1ieZ7",
        "colab_type": "code",
        "colab": {}
      },
      "source": [
        "def entropy(image):\n",
        "  image = cv2.cvtColor(image, cv2.COLOR_BGR2GRAY)\n",
        "  hist = cv2.calcHist( [image.astype('float32')],\n",
        "              [0], \n",
        "              None,\n",
        "               [256], \n",
        "              [0,256] )\n",
        "  h_norm = 0\n",
        "  h_norm = cv2.normalize(hist, h_norm)\n",
        "  ent = 0\n",
        "  for p in h_norm:\n",
        "    try:\n",
        "      ent += p*math.log(p, 2)\n",
        "    except:\n",
        "      pass\n",
        "    \n",
        "  return (-1 * ent[0])"
      ],
      "execution_count": 0,
      "outputs": []
    },
    {
      "cell_type": "code",
      "metadata": {
        "id": "xrjDlVGLiYIT",
        "colab_type": "code",
        "colab": {}
      },
      "source": [
        "def contrast(image):\n",
        "  image = cv2.cvtColor(image, cv2.COLOR_BGR2GRAY)\n",
        "  s = 0\n",
        "  ss = 0\n",
        "  mean = np.mean(image)\n",
        "  x = (-1 * mean * (np.ones(image.shape)))\n",
        "  ss = np.square(np.add(image, x))\n",
        "  cont = np.sqrt(np.sum(ss)/float(image.size))\n",
        "  return cont"
      ],
      "execution_count": 0,
      "outputs": []
    },
    {
      "cell_type": "code",
      "metadata": {
        "id": "c-wlocDFcBH3",
        "colab_type": "code",
        "colab": {
          "base_uri": "https://localhost:8080/",
          "height": 34
        },
        "outputId": "1e2726e8-c1c3-4ce9-9298-9bdb9769fa04"
      },
      "source": [
        "cred = credentials.Certificate('credentials.json')\n",
        "\n",
        "# Initialize the app with a service account, granting admin privileges\n",
        "firebase_admin.initialize_app(cred, {\n",
        "    'databaseURL': 'https://fir-4ca2c.firebaseio.com/'\n",
        "})"
      ],
      "execution_count": 94,
      "outputs": [
        {
          "output_type": "execute_result",
          "data": {
            "text/plain": [
              "<firebase_admin.App at 0x7f1d67adb860>"
            ]
          },
          "metadata": {
            "tags": []
          },
          "execution_count": 94
        }
      ]
    },
    {
      "cell_type": "code",
      "metadata": {
        "id": "HQAnuHL1gnLX",
        "colab_type": "code",
        "colab": {}
      },
      "source": [
        "ref = db.reference()\n",
        "df = ref.get()"
      ],
      "execution_count": 0,
      "outputs": []
    },
    {
      "cell_type": "code",
      "metadata": {
        "id": "gWb7405ih8y_",
        "colab_type": "code",
        "colab": {}
      },
      "source": [
        "hours=[]\n",
        "hum=[]\n",
        "pressure=[]\n",
        "temp=[]\n",
        "vis=[]\n",
        "deg=[]\n",
        "speed=[]\n",
        "cc=[]\n",
        "desc=[]\n",
        "trans=[]\n",
        "cont=[]\n",
        "ent=[]\n",
        "pm=[]\n",
        "\n",
        "\n",
        "for e in feat:\n",
        "  #print(e[0])\n",
        "  hours.append(float(e[0][-5:-3]))\n",
        "  pm.append(float(e[4]))\n",
        "  trans.append(e[1])\n",
        "  ent.append(float(e[2]))\n",
        "  cont.append(float(e[3]))\n",
        "  for w in weather:                                      ##Matching weather data \n",
        "    if(e[0] == w):\n",
        "      hum.append(weather[w][0])\n",
        "      pressure.append(weather[w][1])\n",
        "      temp.append(weather[w][2]) \n",
        "      vis.append(weather[w][3])\n",
        "      deg.append(weather[w][4])\n",
        "      speed.append(weather[w][5])\n",
        "      cc.append(weather[w][6])\n",
        "      try:\n",
        "        desc.append(weather[w][7])\n",
        "      except:\n",
        "        #print(e[0])\n",
        "        desc.append(0)\n",
        "    "
      ],
      "execution_count": 0,
      "outputs": []
    }
  ]
}