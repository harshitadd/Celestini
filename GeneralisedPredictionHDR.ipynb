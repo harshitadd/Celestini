{
  "nbformat": 4,
  "nbformat_minor": 0,
  "metadata": {
    "colab": {
      "name": "GeneralisedPredictionHDR.ipynb",
      "version": "0.3.2",
      "provenance": [],
      "collapsed_sections": [],
      "include_colab_link": true
    },
    "kernelspec": {
      "name": "python3",
      "display_name": "Python 3"
    },
    "accelerator": "GPU"
  },
  "cells": [
    {
      "cell_type": "markdown",
      "metadata": {
        "id": "view-in-github",
        "colab_type": "text"
      },
      "source": [
        "<a href=\"https://colab.research.google.com/github/harshitadd/Celestini/blob/master/GeneralisedPredictionHDR.ipynb\" target=\"_parent\"><img src=\"https://colab.research.google.com/assets/colab-badge.svg\" alt=\"Open In Colab\"/></a>"
      ]
    },
    {
      "cell_type": "code",
      "metadata": {
        "id": "gEDtqzYS5Qyr",
        "colab_type": "code",
        "colab": {}
      },
      "source": [
        "!pip install firebase-admin\n",
        "import firebase_admin\n",
        "from firebase_admin import credentials, db , storage\n",
        "import numpy as np \n",
        "import cv2\n",
        "import math \n",
        "import pandas as pd\n",
        "from google.colab.patches import cv2_imshow\n"
      ],
      "execution_count": 0,
      "outputs": []
    },
    {
      "cell_type": "code",
      "metadata": {
        "id": "JEWcCY255oiM",
        "colab_type": "code",
        "colab": {}
      },
      "source": [
        "cred = credentials.Certificate(\"credentials.json\")\n",
        "\n",
        "# Initialize the app with a service account, granting admin privileges\n",
        "app = firebase_admin.initialize_app(cred, {\n",
        "    'storageBucket': 'fir-4ca2c.appspot.com',\n",
        "}, name='storage')"
      ],
      "execution_count": 0,
      "outputs": []
    },
    {
      "cell_type": "code",
      "metadata": {
        "id": "EqvqHQUiVymh",
        "colab_type": "code",
        "colab": {}
      },
      "source": [
        "##EXPERIA \n",
        "\n",
        "bucket = storage.bucket(app=app)\n",
        "blobs = bucket.list_blobs()\n",
        "\n",
        "#blobs is an interator :google.api_core.page_iterator.HTTPIterator object at 0x7f2cd11c84e0>\n",
        "\n",
        "imgEXPERIA = [] #has all the lenovo images by their name \n",
        "ctr=0\n",
        "mits = set()\n",
        "for blob in blobs:\n",
        "  if blob.name[7:26]==\"predict/bhrigu/hdr/\":\n",
        "    blob.download_to_filename('/content/' + \"EXPERIA\" + str(blob.name.split('/')[-1])+ '.jpeg')\n",
        "    imgEXPERIA.append(\"EXPERIA\" + str(blob.name.split('/')[-1])+ '.jpeg') \n",
        "    print(\"EXPERIA\" + str(blob.name.split('/')[-1])+ '.jpeg')\n",
        "  if blob.name[7:26]==\"predict/xperia/hdr/\":\n",
        "    print('reached')\n",
        "    blob.download_to_filename('/content/' + \"EXPERIA\" + str(blob.name.split('/')[-1])+ '.jpeg')\n",
        "    imgEXPERIA.append(\"EXPERIA\" + str(blob.name.split('/')[-1])+ '.jpeg') \n",
        "    print(\"EXPERIA\" + str(blob.name.split('/')[-1])+ '.jpeg')\n",
        "      "
      ],
      "execution_count": 0,
      "outputs": []
    },
    {
      "cell_type": "code",
      "metadata": {
        "id": "Stk9s-8kCyy1",
        "colab_type": "code",
        "colab": {}
      },
      "source": [
        "print(len(imgEXPERIA))\n"
      ],
      "execution_count": 0,
      "outputs": []
    },
    {
      "cell_type": "code",
      "metadata": {
        "id": "Mv0I0bA6a1oB",
        "colab_type": "code",
        "colab": {}
      },
      "source": [
        "XHDR =[]\n",
        "\n",
        "x_trans=[]\n",
        "x_cont=[]\n",
        "x_ent=[]\n",
        "\n",
        "for img in imgEXPERIA:\n",
        "    im = cv2.imread('/content/' + str(img))\n",
        "    im = cv2.resize(im, (256,256))\n",
        "    XHDR.append(cv2.rotate(im, rotateCode = cv2.ROTATE_90_CLOCKWISE))\n",
        "    x_trans.append(transmission(im, retMean = False))\n",
        "    x_cont.append(contrast(im))\n",
        "    x_ent.append(entropy(im))"
      ],
      "execution_count": 0,
      "outputs": []
    },
    {
      "cell_type": "code",
      "metadata": {
        "id": "c-wlocDFcBH3",
        "colab_type": "code",
        "colab": {}
      },
      "source": [
        "cred = credentials.Certificate('credentials.json')\n",
        "\n",
        "# Initialize the app with a service account, granting admin privileges\n",
        "firebase_admin.initialize_app(cred, {\n",
        "    'databaseURL': 'https://fir-4ca2c.firebaseio.com/'\n",
        "})"
      ],
      "execution_count": 0,
      "outputs": []
    },
    {
      "cell_type": "code",
      "metadata": {
        "id": "HQAnuHL1gnLX",
        "colab_type": "code",
        "colab": {}
      },
      "source": [
        "ref = db.reference()\n",
        "df = ref.get()"
      ],
      "execution_count": 0,
      "outputs": []
    },
    {
      "cell_type": "code",
      "metadata": {
        "id": "eCHWKUnfFTTw",
        "colab_type": "code",
        "colab": {}
      },
      "source": [
        "temp_weather = {}\n",
        "\n",
        "for key in df:\n",
        "  try:\n",
        "    l=[]\n",
        "    l.append(df[key]['main']['humidity'])\n",
        "    l.append(df[key]['main']['pressure'])\n",
        "    l.append(df[key]['main']['temp'])\n",
        "    l.append(df[key]['visibility'])\n",
        "    l.append(df[key]['wind']['deg'])\n",
        "    l.append(df[key]['wind']['speed'])\n",
        "    l.append(df[key]['clouds']['all'])\n",
        "    k = df[key]['weather'][0]['description']\n",
        "    if(k=='haze'):\n",
        "      l.append(0)\n",
        "    elif(k=='mist'):\n",
        "      l.append(1)\n",
        "    elif(k=='drizzle'):\n",
        "      l.append(2)\n",
        "    elif(k=='dust'):\n",
        "      l.append(3)\n",
        "    temp_weather[keytemp]=l\n",
        "  except:\n",
        "    print(key)\n",
        " "
      ],
      "execution_count": 0,
      "outputs": []
    },
    {
      "cell_type": "code",
      "metadata": {
        "id": "eIdyEdXDa7J2",
        "colab_type": "code",
        "colab": {}
      },
      "source": [
        "weather={}\n",
        "for key in match:\n",
        "  temp=key.split('-')\n",
        "  newtemp=temp[2].split(' ')\n",
        "  newesttemp=newtemp[1].split(':')\n",
        "  print(keytemp)\n",
        "  keytemp = (temp[0] + '-' + temp[1] + '-' + newtemp[0] + ' ' + newesttemp[0] + ':' + newesttemp[1] )\n",
        "\n",
        "  j=int(newesttemp[1])\n",
        "  if(j<=7.5):\n",
        "    final = temp[0] + '-' + temp[1] + '-' + newtemp[0] + ' ' + newesttemp[0] + ':' + '00'\n",
        "  elif(j<=15 or j<=22.5):\n",
        "    final = temp[0] + '-' + temp[1] + '-' + newtemp[0] + ' ' + newesttemp[0] + ':' + '15'\n",
        "  elif(j<=30 or j<=37.5):\n",
        "    final = temp[0] + '-' + temp[1] + '-' + newtemp[0] + ' ' + newesttemp[0] + ':' + '30'\n",
        "  elif(j<=45 or j<=52.5):\n",
        "    final = temp[0] + '-' + temp[1] + '-' + newtemp[0] + ' ' + newesttemp[0] + ':' + '45'\n",
        "  elif(j>52.5):\n",
        "    final = temp[0] + '-' + temp[1] + '-' + newtemp[0] + ' ' + newesttemp[0] + ':' + '00'\n",
        "  if(final not in weather):\n",
        "    weather[keytemp]=match[key]\n",
        "  "
      ],
      "execution_count": 0,
      "outputs": []
    },
    {
      "cell_type": "code",
      "metadata": {
        "id": "Z8J2szsOAsm-",
        "colab_type": "code",
        "colab": {}
      },
      "source": [
        "bucket = storage.bucket(app=app)\n",
        "blobs = bucket.list_blobs()\n",
        "\n",
        "#blobs is an interator :google.api_core.page_iterator.HTTPIterator object at 0x7f2cd11c84e0>\n",
        "\n",
        "imgS7HDR = [] #has all the lenovo images by their name \n",
        "ctr=0\n",
        "mits = set()\n",
        "for blob in blobs:\n",
        "  if blob.name[7:21]==\"predict/s7/hdr\":\n",
        "    blob.download_to_filename('/content/' + \"S7HDR\" + str(blob.name.split('/')[-1])+ '.jpeg')\n",
        "    imgS7HDR.append(\"S7HDR\" + str(blob.name.split('/')[-1])+ '.jpeg') \n",
        "    print(\"S7HDR\" + str(blob.name.split('/')[-1])+ '.jpeg')\n",
        "      \n",
        "  \n",
        "     "
      ],
      "execution_count": 0,
      "outputs": []
    },
    {
      "cell_type": "code",
      "metadata": {
        "id": "aBXOS4NWBInX",
        "colab_type": "code",
        "colab": {}
      },
      "source": [
        "bucket = storage.bucket(app=app)\n",
        "blobs = bucket.list_blobs()\n",
        "\n",
        "#blobs is an interator :google.api_core.page_iterator.HTTPIterator object at 0x7f2cd11c84e0>\n",
        "\n",
        "imgASUSHDR = [] #has all the lenovo images by their name \n",
        "ctr=0\n",
        "mits = set()\n",
        "for blob in blobs:\n",
        "  if blob.name[7:28]==\"predict/divyanshu/hdr\":\n",
        "    blob.download_to_filename('/content/' + \"DIVHDR\" + str(blob.name.split('/')[-1])+ '.jpeg')\n",
        "    imgASUSHDR.append(\"DIVHDR\" + str(blob.name.split('/')[-1])+ '.jpeg') \n",
        "    print(\"DIVHDR\" + str(blob.name.split('/')[-1])+ '.jpeg')\n",
        "      "
      ],
      "execution_count": 0,
      "outputs": []
    },
    {
      "cell_type": "code",
      "metadata": {
        "id": "zWidBnwhOKNl",
        "colab_type": "code",
        "colab": {}
      },
      "source": [
        "bucket = storage.bucket(app=app)\n",
        "blobs = bucket.list_blobs()\n",
        "\n",
        "#blobs is an interator :google.api_core.page_iterator.HTTPIterator object at 0x7f2cd11c84e0>\n",
        "\n",
        "imgMI = [] #has all the lenovo images by their name \n",
        "ctr=0\n",
        "mits = set()\n",
        "for blob in blobs:\n",
        "  if blob.name[7:25]==\"predict/minote/hdr\":\n",
        "    blob.download_to_filename('/content/' + \"MIHDR\" + str(blob.name.split('/')[-1])+ '.jpeg')\n",
        "    imgMI.append(\"MIHDR\" + str(blob.name.split('/')[-1])+ '.jpeg') \n",
        "    print(\"MIHDR\" + str(blob.name.split('/')[-1])+ '.jpeg')"
      ],
      "execution_count": 0,
      "outputs": []
    },
    {
      "cell_type": "code",
      "metadata": {
        "id": "7qtPqAyuTr2Q",
        "colab_type": "code",
        "colab": {}
      },
      "source": [
        "print(len(imgMI))"
      ],
      "execution_count": 0,
      "outputs": []
    },
    {
      "cell_type": "code",
      "metadata": {
        "id": "qbjS0nozOtVx",
        "colab_type": "code",
        "colab": {}
      },
      "source": [
        "MIHDR =[] \n",
        "\n",
        "mi_trans=[]\n",
        "mi_cont=[]\n",
        "mi_ent=[]\n",
        "\n",
        "for img in imgMI:\n",
        "  im = cv2.imread('/content/'+str(img))\n",
        "  im = cv2.resize(im, (256,256))\n",
        "  MIHDR.append(cv2.rotate(im, rotateCode = cv2.ROTATE_90_CLOCKWISE))\n",
        "  mi_trans.append(transmission(im,retMean=False))\n",
        "  mi_cont.append(contrast(im))\n",
        "  mi_ent.append(entropy)"
      ],
      "execution_count": 0,
      "outputs": []
    },
    {
      "cell_type": "code",
      "metadata": {
        "id": "ozQXSiNHZmym",
        "colab_type": "code",
        "colab": {}
      },
      "source": [
        ""
      ],
      "execution_count": 0,
      "outputs": []
    },
    {
      "cell_type": "code",
      "metadata": {
        "id": "NCzA13c_qaUF",
        "colab_type": "code",
        "colab": {}
      },
      "source": [
        "print(len(x_ent))"
      ],
      "execution_count": 0,
      "outputs": []
    },
    {
      "cell_type": "code",
      "metadata": {
        "id": "NjIUSs4QEL7e",
        "colab_type": "code",
        "colab": {}
      },
      "source": [
        "s7_trans=[]\n",
        "s7_cont=[]\n",
        "s7_ent=[]\n",
        "\n",
        "S7HDR =[]\n",
        "for img in imgS7HDR:\n",
        "  im = cv2.imread('/content/' + str(img))\n",
        "  im = cv2.resize(im, (256,256))\n",
        "  S7HDR.append(cv2.rotate(im, rotateCode = cv2.ROTATE_90_CLOCKWISE))\n",
        "  s7_trans.append(transmission(im, retMean = False))\n",
        "  s7_cont.append(im)\n",
        "  s7_ent.append(im)\n"
      ],
      "execution_count": 0,
      "outputs": []
    },
    {
      "cell_type": "code",
      "metadata": {
        "id": "5d4S7goQbRO5",
        "colab_type": "code",
        "colab": {}
      },
      "source": [
        "weather={}\n",
        "for key in match:\n",
        "  temp=key.split('-')\n",
        "  newtemp=temp[2].split(' ')\n",
        "  newesttemp=newtemp[1].split(':')\n",
        "  print(keytemp)\n",
        "  keytemp = (temp[0] + '-' + temp[1] + '-' + newtemp[0] + ' ' + newesttemp[0] + ':' + newesttemp[1] )\n",
        "\n",
        "  j=int(newesttemp[1])\n",
        "  if(j<=7.5):\n",
        "    final = temp[0] + '-' + temp[1] + '-' + newtemp[0] + ' ' + newesttemp[0] + ':' + '00'\n",
        "  elif(j<=15 or j<=22.5):\n",
        "    final = temp[0] + '-' + temp[1] + '-' + newtemp[0] + ' ' + newesttemp[0] + ':' + '15'\n",
        "  elif(j<=30 or j<=37.5):\n",
        "    final = temp[0] + '-' + temp[1] + '-' + newtemp[0] + ' ' + newesttemp[0] + ':' + '30'\n",
        "  elif(j<=45 or j<=52.5):\n",
        "    final = temp[0] + '-' + temp[1] + '-' + newtemp[0] + ' ' + newesttemp[0] + ':' + '45'\n",
        "  elif(j>52.5):\n",
        "    final = temp[0] + '-' + temp[1] + '-' + newtemp[0] + ' ' + newesttemp[0] + ':' + '00'\n",
        "  if(final not in weather):\n",
        "    weather[keytemp]=match[key]\n",
        "  \n",
        " "
      ],
      "execution_count": 0,
      "outputs": []
    },
    {
      "cell_type": "code",
      "metadata": {
        "id": "n1KA4kErh4-D",
        "colab_type": "code",
        "outputId": "1adad872-56ce-427c-8cf2-985e1fae7710",
        "colab": {
          "base_uri": "https://localhost:8080/",
          "height": 55
        }
      },
      "source": [
        "print(weather)"
      ],
      "execution_count": 0,
      "outputs": [
        {
          "output_type": "stream",
          "text": [
            "{'2019-07-22 15:24': ('S7HDR2019-07-22 15:24:46.jpeg', 'DIVHDR2019-07-22 15:26:07.jpeg', 'EXPERIA2019-07-22 15:29:19.jpeg'), '2019-07-22 15:49': ('S7HDR2019-07-22 15:49:50.jpeg', 'DIVHDR2019-07-22 15:46:32.jpeg', 'EXPERIA2019-07-22 15:49:19.jpeg'), '2019-07-22 15:54': ('S7HDR2019-07-22 15:54:50.jpeg', 'DIVHDR2019-07-22 15:55:49.jpeg', 'EXPERIA2019-07-22 15:54:19.jpeg'), '2019-07-22 15:59': ('S7HDR2019-07-22 15:59:50.jpeg', 'DIVHDR2019-07-22 15:55:49.jpeg', 'EXPERIA2019-07-22 15:54:19.jpeg'), '2019-07-22 16:04': ('S7HDR2019-07-22 16:04:51.jpeg', 'DIVHDR2019-07-22 16:05:49.jpeg', 'EXPERIA2019-07-22 16:09:19.jpeg'), '2019-07-22 16:09': ('S7HDR2019-07-22 16:09:51.jpeg', 'DIVHDR2019-07-22 16:05:49.jpeg', 'EXPERIA2019-07-22 16:09:19.jpeg'), '2019-07-22 16:14': ('S7HDR2019-07-22 16:14:50.jpeg', 'DIVHDR2019-07-22 16:16:31.jpeg', 'EXPERIA2019-07-22 16:14:19.jpeg'), '2019-07-22 16:19': ('S7HDR2019-07-22 16:19:50.jpeg', 'DIVHDR2019-07-22 16:16:31.jpeg', 'EXPERIA2019-07-22 16:14:19.jpeg'), '2019-07-22 16:29': ('S7HDR2019-07-22 16:29:50.jpeg', 'DIVHDR2019-07-22 16:25:50.jpeg', 'EXPERIA2019-07-22 16:29:19.jpeg'), '2019-07-22 16:39': ('S7HDR2019-07-22 16:39:50.jpeg', 'DIVHDR2019-07-22 16:36:12.jpeg', 'EXPERIA2019-07-22 16:39:19.jpeg'), '2019-07-22 16:49': ('S7HDR2019-07-22 16:49:51.jpeg', 'DIVHDR2019-07-22 16:47:13.jpeg', 'EXPERIA2019-07-22 16:49:19.jpeg'), '2019-07-22 16:54': ('S7HDR2019-07-22 16:54:50.jpeg', 'DIVHDR2019-07-22 16:59:02.jpeg', 'EXPERIA2019-07-22 16:59:19.jpeg'), '2019-07-22 17:04': ('S7HDR2019-07-22 17:04:50.jpeg', 'DIVHDR2019-07-22 17:06:31.jpeg', 'EXPERIA2019-07-22 17:09:19.jpeg'), '2019-07-22 17:09': ('S7HDR2019-07-22 17:09:51.jpeg', 'DIVHDR2019-07-22 17:06:31.jpeg', 'EXPERIA2019-07-22 17:09:19.jpeg'), '2019-07-22 17:14': ('S7HDR2019-07-22 17:14:50.jpeg', 'DIVHDR2019-07-22 17:16:32.jpeg', 'EXPERIA2019-07-22 17:19:19.jpeg'), '2019-07-22 17:19': ('S7HDR2019-07-22 17:19:50.jpeg', 'DIVHDR2019-07-22 17:16:32.jpeg', 'EXPERIA2019-07-22 17:19:19.jpeg'), '2019-07-22 17:24': ('S7HDR2019-07-22 17:24:50.jpeg', 'DIVHDR2019-07-22 17:26:12.jpeg', 'EXPERIA2019-07-22 17:29:19.jpeg'), '2019-07-22 17:29': ('S7HDR2019-07-22 17:29:52.jpeg', 'DIVHDR2019-07-22 17:26:12.jpeg', 'EXPERIA2019-07-22 17:29:19.jpeg'), '2019-07-22 17:34': ('S7HDR2019-07-22 17:34:50.jpeg', 'DIVHDR2019-07-22 17:36:33.jpeg', 'EXPERIA2019-07-22 17:37:32.jpeg'), '2019-07-22 17:39': ('S7HDR2019-07-22 17:39:52.jpeg', 'DIVHDR2019-07-22 17:36:33.jpeg', 'EXPERIA2019-07-22 17:37:32.jpeg')}\n"
          ],
          "name": "stdout"
        }
      ]
    },
    {
      "cell_type": "code",
      "metadata": {
        "id": "LJQL9aEjSYaK",
        "colab_type": "code",
        "colab": {}
      },
      "source": [
        "S7_trans=[]\n",
        "S7_cont=[]\n",
        "S7_ent=[]\n",
        "\n",
        "\n",
        "for key in weather:  \n",
        "  ## S7 \n",
        "  img = weather[key][0]\n",
        "  im = cv2.imread('/content/' + str(img))\n",
        "  im = cv2.resize(im, (256,256))\n",
        "  ASUSHDR.append(cv2.rotate(im, rotateCode = cv2.ROTATE_90_CLOCKWISE))\n",
        "  S7_trans.append(transmission(im, retMean = False))\n",
        "  S7_cont.append(contrast(im))\n",
        "  S7_ent.append(entropy(im))\n"
      ],
      "execution_count": 0,
      "outputs": []
    },
    {
      "cell_type": "code",
      "metadata": {
        "id": "OBLI8JM-GTGK",
        "colab_type": "code",
        "outputId": "18c0e9c5-e3c3-438b-8358-c9386568e570",
        "colab": {
          "base_uri": "https://localhost:8080/",
          "height": 35
        }
      },
      "source": [
        "print(len(S7_ent))"
      ],
      "execution_count": 0,
      "outputs": [
        {
          "output_type": "stream",
          "text": [
            "20\n"
          ],
          "name": "stdout"
        }
      ]
    },
    {
      "cell_type": "code",
      "metadata": {
        "id": "_KYMjck-FiX4",
        "colab_type": "code",
        "colab": {}
      },
      "source": [
        "\n",
        "print(len(temp_weather))"
      ],
      "execution_count": 0,
      "outputs": []
    },
    {
      "cell_type": "code",
      "metadata": {
        "id": "-irnM6HgLKJg",
        "colab_type": "code",
        "colab": {}
      },
      "source": [
        "print(temp_weather)"
      ],
      "execution_count": 0,
      "outputs": []
    },
    {
      "cell_type": "code",
      "metadata": {
        "id": "5KBLKW0cNBhJ",
        "colab_type": "code",
        "colab": {}
      },
      "source": [
        "print(temp_weather)\n",
        "print(weather)"
      ],
      "execution_count": 0,
      "outputs": []
    },
    {
      "cell_type": "code",
      "metadata": {
        "id": "1P5esB6RFpcu",
        "colab_type": "code",
        "colab": {}
      },
      "source": [
        "\n",
        "for key in temp_weather:\n",
        "  print(key[:-1])\n",
        "  for w in weather:\n",
        "    print(w[:-1])\n",
        "    if(key[:-4]==w[:-2]):\n",
        "      print(key)\n",
        "    break"
      ],
      "execution_count": 0,
      "outputs": []
    },
    {
      "cell_type": "code",
      "metadata": {
        "id": "gWb7405ih8y_",
        "colab_type": "code",
        "colab": {}
      },
      "source": [
        "hours=[]\n",
        "hum=[]\n",
        "pressure=[]\n",
        "temp=[]\n",
        "vis=[]\n",
        "deg=[]\n",
        "speed=[]\n",
        "cc=[]\n",
        "desc=[]\n",
        "trans=[]\n",
        "cont=[]\n",
        "ent=[]\n",
        "pm=[]\n",
        "\n",
        "\n",
        "for e in feat:\n",
        "  #print(e[0])\n",
        "  hours.append(float(e[0][-5:-3]))\n",
        "  pm.append(float(e[4]))\n",
        "  trans.append(e[1])\n",
        "  ent.append(float(e[2]))\n",
        "  cont.append(float(e[3]))\n",
        "  for w in weather:                                      ##Matching weather data \n",
        "    if(e[0] == w):\n",
        "      hum.append(weather[w][0])\n",
        "      pressure.append(weather[w][1])\n",
        "      temp.append(weather[w][2]) \n",
        "      vis.append(weather[w][3])\n",
        "      deg.append(weather[w][4])\n",
        "      speed.append(weather[w][5])\n",
        "      cc.append(weather[w][6])\n",
        "      try:\n",
        "        desc.append(weather[w][7])\n",
        "      except:\n",
        "        #print(e[0])\n",
        "        desc.append(0)\n",
        "    "
      ],
      "execution_count": 0,
      "outputs": []
    },
    {
      "cell_type": "code",
      "metadata": {
        "id": "H5uR62p6ihHZ",
        "colab_type": "code",
        "colab": {}
      },
      "source": [
        "def transmission(img, lt = 230, retMean = False):\n",
        "  ker = np.ones((3, 3))/9.0\n",
        "  imgrgb = cv2.cvtColor(img, cv2.COLOR_BGR2RGB)\n",
        "  b, g, r = cv2.split(img)\n",
        "  hsv = cv2.cvtColor(imgrgb, cv2.COLOR_RGB2HSV)\n",
        "  _, _, v = cv2.split(hsv)\n",
        "  v_blur = cv2.filter2D(v, -1, ker)\n",
        "  _,building_mask = cv2.threshold(v_blur, lt, 255, cv2.THRESH_BINARY)\n",
        "  sky = cv2.bitwise_and(imgrgb, imgrgb, mask = building_mask)\n",
        "  sky_mask = cv2.bitwise_not(building_mask, building_mask.copy())\n",
        "  building = cv2.bitwise_and(imgrgb, imgrgb, mask = sky_mask)\n",
        " \n",
        "  al = max(v_blur.flatten())\n",
        "  #Airlight Found. Now calculate Transmission Map\n",
        "  img_norm = img/float(al)\n",
        "  b, g, r = cv2.split(img_norm)\n",
        "  kernel = np.ones((3,3),np.uint8)\n",
        "  im_new = np.zeros((img.shape[0], img.shape[1]))\n",
        "  for i in range(img.shape[0]):\n",
        "    for j in range(img.shape[1]):\n",
        "      im_new[i][j] = min(b[i][j], g[i][j], r[i][j])\n",
        "  dcp = cv2.erode(im_new, kernel, iterations = 1)\n",
        "  #ax[3].imshow(im_new, cmap = 'gray')\n",
        "  #ax[4].imshow(dcp, cmap = 'gray')\n",
        "  tr = np.ones((dcp.shape[0], dcp.shape[1]))\n",
        "  for i in range(dcp.shape[0]):\n",
        "    for j in range(dcp.shape[1]):\n",
        "      tr[i][j] = 1 - dcp[i][j]\n",
        "  #ax[1].imshow(tr, cmap = 'gray')\n",
        "  if retMean == False:\n",
        "    return tr\n",
        "  elif retMean == True:\n",
        "    return np.mean(tr)"
      ],
      "execution_count": 0,
      "outputs": []
    },
    {
      "cell_type": "code",
      "metadata": {
        "id": "o6uU3FY1ieZ7",
        "colab_type": "code",
        "colab": {}
      },
      "source": [
        "def entropy(image):\n",
        "  image = cv2.cvtColor(image, cv2.COLOR_BGR2GRAY)\n",
        "  hist = cv2.calcHist( [image.astype('float32')],\n",
        "              [0], \n",
        "              None,\n",
        "               [256], \n",
        "              [0,256] )\n",
        "  h_norm = 0\n",
        "  h_norm = cv2.normalize(hist, h_norm)\n",
        "  ent = 0\n",
        "  for p in h_norm:\n",
        "    try:\n",
        "      ent += p*math.log(p, 2)\n",
        "    except:\n",
        "      pass\n",
        "    \n",
        "  return (-1 * ent[0])"
      ],
      "execution_count": 0,
      "outputs": []
    },
    {
      "cell_type": "code",
      "metadata": {
        "id": "xrjDlVGLiYIT",
        "colab_type": "code",
        "colab": {}
      },
      "source": [
        "def contrast(image):\n",
        "  image = cv2.cvtColor(image, cv2.COLOR_BGR2GRAY)\n",
        "  s = 0\n",
        "  ss = 0\n",
        "  mean = np.mean(image)\n",
        "  x = (-1 * mean * (np.ones(image.shape)))\n",
        "  ss = np.square(np.add(image, x))\n",
        "  cont = np.sqrt(np.sum(ss)/float(image.size))\n",
        "  return cont"
      ],
      "execution_count": 0,
      "outputs": []
    },
    {
      "cell_type": "code",
      "metadata": {
        "id": "ZzUhCTwSZaur",
        "colab_type": "code",
        "colab": {}
      },
      "source": [
        ""
      ],
      "execution_count": 0,
      "outputs": []
    }
  ]
}