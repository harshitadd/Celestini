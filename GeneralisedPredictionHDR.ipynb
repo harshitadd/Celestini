{
  "nbformat": 4,
  "nbformat_minor": 0,
  "metadata": {
    "colab": {
      "name": "GeneralisedPredictionHDR.ipynb",
      "version": "0.3.2",
      "provenance": [],
      "collapsed_sections": [],
      "include_colab_link": true
    },
    "kernelspec": {
      "name": "python3",
      "display_name": "Python 3"
    },
    "accelerator": "GPU"
  },
  "cells": [
    {
      "cell_type": "markdown",
      "metadata": {
        "id": "view-in-github",
        "colab_type": "text"
      },
      "source": [
        "<a href=\"https://colab.research.google.com/github/harshitadd/Celestini/blob/master/GeneralisedPredictionHDR.ipynb\" target=\"_parent\"><img src=\"https://colab.research.google.com/assets/colab-badge.svg\" alt=\"Open In Colab\"/></a>"
      ]
    },
    {
      "cell_type": "code",
      "metadata": {
        "id": "gEDtqzYS5Qyr",
        "colab_type": "code",
        "colab": {
          "base_uri": "https://localhost:8080/",
          "height": 575
        },
        "outputId": "9c1118ce-19e8-4146-9f2b-7dc961313c23"
      },
      "source": [
        "!pip install firebase-admin\n",
        "!pip install joblib\n",
        "from sklearn.externals import joblib\n",
        "import firebase_admin\n",
        "from firebase_admin import credentials, db , storage\n",
        "import numpy as np \n",
        "import cv2\n",
        "import math \n",
        "import pandas as pd\n",
        "from google.colab.patches import cv2_imshow\n"
      ],
      "execution_count": 96,
      "outputs": [
        {
          "output_type": "stream",
          "text": [
            "Requirement already satisfied: firebase-admin in /usr/local/lib/python3.6/dist-packages (2.17.0)\n",
            "Requirement already satisfied: google-api-core[grpc]<2.0.0dev,>=1.7.0; platform_python_implementation != \"PyPy\" in /usr/local/lib/python3.6/dist-packages (from firebase-admin) (1.13.0)\n",
            "Requirement already satisfied: google-cloud-storage>=1.13.0 in /usr/local/lib/python3.6/dist-packages (from firebase-admin) (1.16.1)\n",
            "Requirement already satisfied: google-cloud-firestore>=0.31.0; platform_python_implementation != \"PyPy\" in /usr/local/lib/python3.6/dist-packages (from firebase-admin) (1.3.0)\n",
            "Requirement already satisfied: six>=1.6.1 in /usr/local/lib/python3.6/dist-packages (from firebase-admin) (1.12.0)\n",
            "Requirement already satisfied: cachecontrol>=0.12.4 in /usr/local/lib/python3.6/dist-packages (from firebase-admin) (0.12.5)\n",
            "Requirement already satisfied: google-api-python-client>=1.7.8 in /usr/local/lib/python3.6/dist-packages (from firebase-admin) (1.7.9)\n",
            "Requirement already satisfied: google-auth<2.0dev,>=0.4.0 in /usr/local/lib/python3.6/dist-packages (from google-api-core[grpc]<2.0.0dev,>=1.7.0; platform_python_implementation != \"PyPy\"->firebase-admin) (1.4.2)\n",
            "Requirement already satisfied: requests<3.0.0dev,>=2.18.0 in /usr/local/lib/python3.6/dist-packages (from google-api-core[grpc]<2.0.0dev,>=1.7.0; platform_python_implementation != \"PyPy\"->firebase-admin) (2.21.0)\n",
            "Requirement already satisfied: pytz in /usr/local/lib/python3.6/dist-packages (from google-api-core[grpc]<2.0.0dev,>=1.7.0; platform_python_implementation != \"PyPy\"->firebase-admin) (2018.9)\n",
            "Requirement already satisfied: protobuf>=3.4.0 in /usr/local/lib/python3.6/dist-packages (from google-api-core[grpc]<2.0.0dev,>=1.7.0; platform_python_implementation != \"PyPy\"->firebase-admin) (3.7.1)\n",
            "Requirement already satisfied: googleapis-common-protos!=1.5.4,<2.0dev,>=1.5.3 in /usr/local/lib/python3.6/dist-packages (from google-api-core[grpc]<2.0.0dev,>=1.7.0; platform_python_implementation != \"PyPy\"->firebase-admin) (1.6.0)\n",
            "Requirement already satisfied: setuptools>=34.0.0 in /usr/local/lib/python3.6/dist-packages (from google-api-core[grpc]<2.0.0dev,>=1.7.0; platform_python_implementation != \"PyPy\"->firebase-admin) (41.0.1)\n",
            "Requirement already satisfied: grpcio<2.0dev,>=1.8.2; extra == \"grpc\" in /usr/local/lib/python3.6/dist-packages (from google-api-core[grpc]<2.0.0dev,>=1.7.0; platform_python_implementation != \"PyPy\"->firebase-admin) (1.15.0)\n",
            "Requirement already satisfied: google-cloud-core<2.0dev,>=1.0.0 in /usr/local/lib/python3.6/dist-packages (from google-cloud-storage>=1.13.0->firebase-admin) (1.0.2)\n",
            "Requirement already satisfied: google-resumable-media>=0.3.1 in /usr/local/lib/python3.6/dist-packages (from google-cloud-storage>=1.13.0->firebase-admin) (0.3.2)\n",
            "Requirement already satisfied: msgpack in /usr/local/lib/python3.6/dist-packages (from cachecontrol>=0.12.4->firebase-admin) (0.5.6)\n",
            "Requirement already satisfied: uritemplate<4dev,>=3.0.0 in /usr/local/lib/python3.6/dist-packages (from google-api-python-client>=1.7.8->firebase-admin) (3.0.0)\n",
            "Requirement already satisfied: google-auth-httplib2>=0.0.3 in /usr/local/lib/python3.6/dist-packages (from google-api-python-client>=1.7.8->firebase-admin) (0.0.3)\n",
            "Requirement already satisfied: httplib2<1dev,>=0.9.2 in /usr/local/lib/python3.6/dist-packages (from google-api-python-client>=1.7.8->firebase-admin) (0.11.3)\n",
            "Requirement already satisfied: rsa>=3.1.4 in /usr/local/lib/python3.6/dist-packages (from google-auth<2.0dev,>=0.4.0->google-api-core[grpc]<2.0.0dev,>=1.7.0; platform_python_implementation != \"PyPy\"->firebase-admin) (4.0)\n",
            "Requirement already satisfied: cachetools>=2.0.0 in /usr/local/lib/python3.6/dist-packages (from google-auth<2.0dev,>=0.4.0->google-api-core[grpc]<2.0.0dev,>=1.7.0; platform_python_implementation != \"PyPy\"->firebase-admin) (3.1.1)\n",
            "Requirement already satisfied: pyasn1-modules>=0.2.1 in /usr/local/lib/python3.6/dist-packages (from google-auth<2.0dev,>=0.4.0->google-api-core[grpc]<2.0.0dev,>=1.7.0; platform_python_implementation != \"PyPy\"->firebase-admin) (0.2.5)\n",
            "Requirement already satisfied: idna<2.9,>=2.5 in /usr/local/lib/python3.6/dist-packages (from requests<3.0.0dev,>=2.18.0->google-api-core[grpc]<2.0.0dev,>=1.7.0; platform_python_implementation != \"PyPy\"->firebase-admin) (2.8)\n",
            "Requirement already satisfied: certifi>=2017.4.17 in /usr/local/lib/python3.6/dist-packages (from requests<3.0.0dev,>=2.18.0->google-api-core[grpc]<2.0.0dev,>=1.7.0; platform_python_implementation != \"PyPy\"->firebase-admin) (2019.6.16)\n",
            "Requirement already satisfied: urllib3<1.25,>=1.21.1 in /usr/local/lib/python3.6/dist-packages (from requests<3.0.0dev,>=2.18.0->google-api-core[grpc]<2.0.0dev,>=1.7.0; platform_python_implementation != \"PyPy\"->firebase-admin) (1.24.3)\n",
            "Requirement already satisfied: chardet<3.1.0,>=3.0.2 in /usr/local/lib/python3.6/dist-packages (from requests<3.0.0dev,>=2.18.0->google-api-core[grpc]<2.0.0dev,>=1.7.0; platform_python_implementation != \"PyPy\"->firebase-admin) (3.0.4)\n",
            "Requirement already satisfied: pyasn1>=0.1.3 in /usr/local/lib/python3.6/dist-packages (from rsa>=3.1.4->google-auth<2.0dev,>=0.4.0->google-api-core[grpc]<2.0.0dev,>=1.7.0; platform_python_implementation != \"PyPy\"->firebase-admin) (0.4.5)\n",
            "Requirement already satisfied: joblib in /usr/local/lib/python3.6/dist-packages (0.13.2)\n"
          ],
          "name": "stdout"
        },
        {
          "output_type": "stream",
          "text": [
            "/usr/local/lib/python3.6/dist-packages/sklearn/externals/joblib/__init__.py:15: DeprecationWarning: sklearn.externals.joblib is deprecated in 0.21 and will be removed in 0.23. Please import this functionality directly from joblib, which can be installed with: pip install joblib. If this warning is raised when loading pickled models, you may need to re-serialize those models with scikit-learn 0.21+.\n",
            "  warnings.warn(msg, category=DeprecationWarning)\n"
          ],
          "name": "stderr"
        }
      ]
    },
    {
      "cell_type": "code",
      "metadata": {
        "id": "JEWcCY255oiM",
        "colab_type": "code",
        "colab": {}
      },
      "source": [
        "cred = credentials.Certificate(\"credentials.json\")\n",
        "\n",
        "# Initialize the app with a service account, granting admin privileges\n",
        "app = firebase_admin.initialize_app(cred, {\n",
        "    'storageBucket': 'fir-4ca2c.appspot.com',\n",
        "}, name='storage')"
      ],
      "execution_count": 0,
      "outputs": []
    },
    {
      "cell_type": "code",
      "metadata": {
        "id": "Ys2Dg4TWwSjL",
        "colab_type": "code",
        "colab": {}
      },
      "source": [
        "s1=joblib.load('S1.pkl')\n",
        "s2=joblib.load('S2.pkl')\n",
        "s3=joblib.load('S3.pkl')\n",
        "s4=joblib.load('S4.pkl')\n",
        "s5=joblib.load('S5.pkl')\n",
        "s6=joblib.load('S6.pkl')\n",
        "s7=joblib.load('S7.pkl')\n",
        "s8=joblib.load('S8.pkl')\n",
        "s9=joblib.load('S9.pkl')\n",
        "s10=joblib.load('S10.pkl')\n",
        "s11=joblib.load('S11.pkl')\n",
        "\n",
        "reg = joblib.load('AQImodel.pkl')\n",
        "lineareg = joblib.load('AQImodelLinear.pkl')"
      ],
      "execution_count": 0,
      "outputs": []
    },
    {
      "cell_type": "code",
      "metadata": {
        "id": "EqvqHQUiVymh",
        "colab_type": "code",
        "outputId": "68287c1b-c9d8-4746-ca61-8975fdf1b2a2",
        "colab": {
          "base_uri": "https://localhost:8080/",
          "height": 849
        }
      },
      "source": [
        "##EXPERIA \n",
        "\n",
        "bucket = storage.bucket(app=app)\n",
        "blobs = bucket.list_blobs()\n",
        "\n",
        "#blobs is an interator :google.api_core.page_iterator.HTTPIterator object at 0x7f2cd11c84e0>\n",
        "\n",
        "imgEXPERIA = [] #has all the lenovo images by their name \n",
        "ctr=0\n",
        "mits = set()\n",
        "for blob in blobs:\n",
        "  if blob.name[7:26]==\"predict/bhrigu/hdr/\":\n",
        "    blob.download_to_filename('/content/' + \"EXPERIA\" + str(blob.name.split('/')[-1])+ '.jpeg')\n",
        "    imgEXPERIA.append(\"EXPERIA\" + str(blob.name.split('/')[-1])+ '.jpeg') \n",
        "    print(\"EXPERIA\" + str(blob.name.split('/')[-1])+ '.jpeg')\n",
        "  if blob.name[7:26]==\"predict/xperia/hdr/\":\n",
        "    print('reached')\n",
        "    blob.download_to_filename('/content/' + \"EXPERIA\" + str(blob.name.split('/')[-1])+ '.jpeg')\n",
        "    imgEXPERIA.append(\"EXPERIA\" + str(blob.name.split('/')[-1])+ '.jpeg') \n",
        "    print(\"EXPERIA\" + str(blob.name.split('/')[-1])+ '.jpeg')\n",
        "      "
      ],
      "execution_count": 73,
      "outputs": [
        {
          "output_type": "stream",
          "text": [
            "EXPERIA2019-07-22 15:29:19.jpeg\n",
            "EXPERIA2019-07-22 15:34:19.jpeg\n",
            "EXPERIA2019-07-22 15:39:19.jpeg\n",
            "EXPERIA2019-07-22 15:44:19.jpeg\n",
            "EXPERIA2019-07-22 15:49:19.jpeg\n",
            "EXPERIA2019-07-22 15:54:19.jpeg\n",
            "EXPERIA2019-07-22 16:00:21.jpeg\n",
            "EXPERIA2019-07-22 16:04:19.jpeg\n",
            "EXPERIA2019-07-22 16:09:19.jpeg\n",
            "EXPERIA2019-07-22 16:14:19.jpeg\n",
            "EXPERIA2019-07-22 16:20:21.jpeg\n",
            "EXPERIA2019-07-22 16:24:19.jpeg\n",
            "EXPERIA2019-07-22 16:29:19.jpeg\n",
            "EXPERIA2019-07-22 16:34:19.jpeg\n",
            "EXPERIA2019-07-22 16:39:19.jpeg\n",
            "EXPERIA2019-07-22 16:44:19.jpeg\n",
            "EXPERIA2019-07-22 16:49:19.jpeg\n",
            "EXPERIA2019-07-22 16:54:19.jpeg\n",
            "EXPERIA2019-07-22 16:59:19.jpeg\n",
            "EXPERIA2019-07-22 17:04:19.jpeg\n",
            "EXPERIA2019-07-22 17:09:19.jpeg\n",
            "EXPERIA2019-07-22 17:14:19.jpeg\n",
            "EXPERIA2019-07-22 17:19:19.jpeg\n",
            "EXPERIA2019-07-22 17:24:19.jpeg\n",
            "EXPERIA2019-07-22 17:29:19.jpeg\n",
            "EXPERIA2019-07-22 17:34:19.jpeg\n",
            "EXPERIA2019-07-22 17:36:01.jpeg\n",
            "EXPERIA2019-07-22 17:37:32.jpeg\n",
            "EXPERIA2019-07-22 17:43:36.jpeg\n",
            "EXPERIA2019-07-22 17:47:32.jpeg\n",
            "EXPERIA2019-07-22 17:52:33.jpeg\n",
            "EXPERIA2019-07-22 17:59:06.jpeg\n",
            "EXPERIA2019-07-22 18:03:37.jpeg\n",
            "EXPERIA2019-07-22 18:07:32.jpeg\n",
            "reached\n",
            "EXPERIA2019-07-23 11:00:58.jpeg\n",
            "reached\n",
            "EXPERIA2019-07-23 11:47:15.jpeg\n",
            "reached\n",
            "EXPERIA2019-07-23 11:53:04.jpeg\n",
            "reached\n",
            "EXPERIA2019-07-23 12:02:15.jpeg\n",
            "reached\n",
            "EXPERIA2019-07-23 12:07:16.jpeg\n",
            "reached\n",
            "EXPERIA2019-07-23 12:12:16.jpeg\n",
            "reached\n",
            "EXPERIA2019-07-23 12:32:16.jpeg\n"
          ],
          "name": "stdout"
        }
      ]
    },
    {
      "cell_type": "code",
      "metadata": {
        "id": "Stk9s-8kCyy1",
        "colab_type": "code",
        "outputId": "096b1b45-3b3f-4462-dc21-9016273bf454",
        "colab": {
          "base_uri": "https://localhost:8080/",
          "height": 35
        }
      },
      "source": [
        "print(len(imgEXPERIA))\n"
      ],
      "execution_count": 74,
      "outputs": [
        {
          "output_type": "stream",
          "text": [
            "41\n"
          ],
          "name": "stdout"
        }
      ]
    },
    {
      "cell_type": "code",
      "metadata": {
        "id": "Mv0I0bA6a1oB",
        "colab_type": "code",
        "colab": {}
      },
      "source": [
        "XHDR =[]\n",
        "\n",
        "x_trans=[]\n",
        "x_cont=[]\n",
        "x_ent=[]\n",
        "\n",
        "for img in imgEXPERIA:\n",
        "    im = cv2.imread('/content/' + str(img))\n",
        "    im = cv2.resize(im, (256,256))\n",
        "    XHDR.append(cv2.rotate(im, rotateCode = cv2.ROTATE_90_CLOCKWISE))\n",
        "    \n",
        "    x_trans.append(transmission(im, retMean = False))\n",
        "    x_cont.append(contrast(im))\n",
        "    x_ent.append(entropy(im))"
      ],
      "execution_count": 0,
      "outputs": []
    },
    {
      "cell_type": "code",
      "metadata": {
        "id": "c-wlocDFcBH3",
        "colab_type": "code",
        "colab": {}
      },
      "source": [
        "cred = credentials.Certificate('credentials.json')\n",
        "\n",
        "# Initialize the app with a service account, granting admin privileges\n",
        "firebase_admin.initialize_app(cred, {\n",
        "    'databaseURL': 'https://fir-4ca2c.firebaseio.com/'\n",
        "})"
      ],
      "execution_count": 0,
      "outputs": []
    },
    {
      "cell_type": "code",
      "metadata": {
        "id": "HQAnuHL1gnLX",
        "colab_type": "code",
        "colab": {}
      },
      "source": [
        "ref = db.reference()\n",
        "df = ref.get()"
      ],
      "execution_count": 0,
      "outputs": []
    },
    {
      "cell_type": "code",
      "metadata": {
        "id": "eCHWKUnfFTTw",
        "colab_type": "code",
        "colab": {
          "base_uri": "https://localhost:8080/",
          "height": 69
        },
        "outputId": "802f4030-ce92-4893-fd6a-f27cf64d8205"
      },
      "source": [
        "temp_weather = {}\n",
        "\n",
        "for key in df:\n",
        "  try:\n",
        "    l=[]\n",
        "    l.append(df[key]['main']['humidity'])\n",
        "    l.append(df[key]['main']['pressure'])\n",
        "    l.append(df[key]['main']['temp'])\n",
        "    l.append(df[key]['visibility'])\n",
        "    l.append(df[key]['wind']['deg'])\n",
        "    l.append(df[key]['wind']['speed'])\n",
        "    l.append(df[key]['clouds']['all'])\n",
        "    k = df[key]['weather'][0]['description']\n",
        "    if(k=='haze'):\n",
        "      l.append(0)\n",
        "    elif(k=='mist'):\n",
        "      l.append(1)\n",
        "    elif(k=='drizzle'):\n",
        "      l.append(2)\n",
        "    elif(k=='dust'):\n",
        "      l.append(3)\n",
        "    temp_weather[key]=l\n",
        "  except:\n",
        "    print(key)\n",
        " "
      ],
      "execution_count": 79,
      "outputs": [
        {
          "output_type": "stream",
          "text": [
            "08-07-2019 02:52:50\n",
            "08-07-2019 02:57:50\n",
            "13-07-2019 12:43:49\n"
          ],
          "name": "stdout"
        }
      ]
    },
    {
      "cell_type": "code",
      "metadata": {
        "id": "ZtCJ8HnfcOCD",
        "colab_type": "code",
        "colab": {}
      },
      "source": [
        "print(len(temp_weather))"
      ],
      "execution_count": 0,
      "outputs": []
    },
    {
      "cell_type": "code",
      "metadata": {
        "id": "ix6WCI8lf0YM",
        "colab_type": "code",
        "colab": {}
      },
      "source": [
        "features=[]\n",
        "for key in temp_weather:\n",
        "  i=0\n",
        "  for k in imgEXPERIA:\n",
        "    i+=1\n",
        "    temp = k[12:-5]\n",
        "    temp = temp.split('-')\n",
        "    newk = temp[1].split(' ')\n",
        "    final = newk[0] + '-' + temp[0] + '-' + '2019' + ' ' + newk[1]\n",
        "    if(final[:-4] == key[:-4]):\n",
        "      try:\n",
        "        l = []\n",
        "        l.append(key[11:13])\n",
        "        l.append(x_trans[i])\n",
        "        l.append(x_ent[i])\n",
        "        l.append(x_cont[i])\n",
        "        l.append(temp_weather[key])\n",
        "        features.append(l)\n",
        "        break\n",
        "      except:\n",
        "        pass\n"
      ],
      "execution_count": 0,
      "outputs": []
    },
    {
      "cell_type": "code",
      "metadata": {
        "id": "DZ2qQXBds0ov",
        "colab_type": "code",
        "colab": {
          "base_uri": "https://localhost:8080/",
          "height": 243
        },
        "outputId": "f3b98bb2-0dfe-400e-d075-9b384c8f7081"
      },
      "source": [
        "print(features[0])"
      ],
      "execution_count": 89,
      "outputs": [
        {
          "output_type": "stream",
          "text": [
            "['15', array([[0.        , 0.        , 0.        , ..., 0.50588235, 0.50980392,\n",
            "        0.50980392],\n",
            "       [0.        , 0.        , 0.        , ..., 0.50588235, 0.51372549,\n",
            "        0.51372549],\n",
            "       [0.        , 0.        , 0.        , ..., 0.50588235, 0.51372549,\n",
            "        0.51372549],\n",
            "       ...,\n",
            "       [0.        , 0.        , 0.        , ..., 0.50196078, 0.50588235,\n",
            "        0.50588235],\n",
            "       [0.        , 0.        , 0.        , ..., 0.50196078, 0.50588235,\n",
            "        0.50588235],\n",
            "       [0.        , 0.        , 0.        , ..., 0.50196078, 0.50588235,\n",
            "        0.50588235]]), 11.699877738952637, 70.39109838990026, [56, 1000, 34.58, 3000, 90, 1, 75, 0]]\n"
          ],
          "name": "stdout"
        }
      ]
    },
    {
      "cell_type": "code",
      "metadata": {
        "id": "8kcBHhXFs3kZ",
        "colab_type": "code",
        "colab": {}
      },
      "source": [
        "hours=[]\n",
        "hum=[]\n",
        "pressure=[]\n",
        "temp=[]\n",
        "vis=[]\n",
        "deg=[]\n",
        "speed=[]\n",
        "cc=[]\n",
        "desc=[]\n",
        "trans=[]\n",
        "cont=[]\n",
        "ent=[]\n",
        "pm=[]\n",
        "\n",
        "\n",
        "for e in features:\n",
        "  #print(e[0])\n",
        "  hours.append(float(e[0]))\n",
        "  trans.append(e[1])\n",
        "  ent.append(float(e[2]))\n",
        "  cont.append(float(e[3]))\n",
        "  hum.append(e[4][0])\n",
        "  pressure.append(e[4][1])\n",
        "  temp.append(e[4][2]) \n",
        "  vis.append(e[4][3])\n",
        "  deg.append(e[4][4])\n",
        "  speed.append(e[4][5])\n",
        "  cc.append(e[4][6])\n",
        "  try:\n",
        "    desc.append(e[4][7])\n",
        "  except:\n",
        "    #print(e[0])\n",
        "    desc.append(0)\n",
        "\n",
        " "
      ],
      "execution_count": 0,
      "outputs": []
    },
    {
      "cell_type": "code",
      "metadata": {
        "id": "bxVhchrcuVPW",
        "colab_type": "code",
        "colab": {}
      },
      "source": [
        "print(len(hours))\n",
        "print(hours)\n",
        "print(len(trans))\n",
        "print(trans)\n",
        "print(len(cont))\n",
        "\n",
        "print(speed)\n",
        "print(len(cc))\n",
        "print(cc)\n",
        "print(len(desc))\n",
        "print(desc)\n",
        "\n"
      ],
      "execution_count": 0,
      "outputs": []
    },
    {
      "cell_type": "code",
      "metadata": {
        "id": "EDBK5O9lzDDi",
        "colab_type": "code",
        "colab": {
          "base_uri": "https://localhost:8080/",
          "height": 35
        },
        "outputId": "3b0fb106-b5f6-4805-e8a2-2e5ccded86a9"
      },
      "source": [
        "print(np.shape(trans[0]))"
      ],
      "execution_count": 111,
      "outputs": [
        {
          "output_type": "stream",
          "text": [
            "(256, 256)\n"
          ],
          "name": "stdout"
        }
      ]
    },
    {
      "cell_type": "code",
      "metadata": {
        "id": "eIdyEdXDa7J2",
        "colab_type": "code",
        "colab": {
          "base_uri": "https://localhost:8080/",
          "height": 433
        },
        "outputId": "e59f4978-3ed2-4756-d863-75c3eacd029f"
      },
      "source": [
        "final_shape=len(hours)\n",
        "\n",
        "#FEATURES \n",
        "\n",
        "\n",
        "trans = np.reshape(trans,(final_shape,1))\n",
        "\n",
        "hours = np.reshape(hours,(final_shape,1))\n",
        "cont = np.reshape(cont,(final_shape,1))\n",
        "ent = np.reshape(ent,(final_shape,1))\n",
        "hum = np.reshape(hum,(final_shape,1))\n",
        "pressure = np.reshape(pressure,(final_shape,1))\n",
        "temp = np.reshape(temp,(final_shape,1))\n",
        "vis = np.reshape(vis,(final_shape,1))\n",
        "deg = np.reshape(deg,(final_shape,1))\n",
        "speed = np.reshape(speed,(final_shape,1))\n",
        "cc = np.reshape(cc,(final_shape,1))\n",
        "desc = np.reshape(desc,(final_shape,1))\n",
        "\n",
        "\n",
        "hours = s1.fit_transform(hours)\n",
        "cont = s2.fit_transform(cont)\n",
        "ent = s3.fit_transform(ent)\n",
        "hum = s4.fit_transform(hum)\n",
        "pressure = s5.fit_transform(pressure)\n",
        "temp = s6.fit_transform(temp)\n",
        "vis = s7.fit_transform(vis)\n",
        "deg = s8.fit_transform(deg)\n",
        "speed = s9.fit_transform(speed)\n",
        "cc = s10.fit_transform(cc)\n",
        "des = s11.fit_transform(desc)\n",
        "\n",
        "\n",
        "test = np.hstack((hours,cont, ent, hum, pressure, temp, vis, deg, speed, cc, desc,trans))\n",
        "\n"
      ],
      "execution_count": 109,
      "outputs": [
        {
          "output_type": "error",
          "ename": "ValueError",
          "evalue": "ignored",
          "traceback": [
            "\u001b[0;31m---------------------------------------------------------------------------\u001b[0m",
            "\u001b[0;31mAttributeError\u001b[0m                            Traceback (most recent call last)",
            "\u001b[0;32m/usr/local/lib/python3.6/dist-packages/numpy/core/fromnumeric.py\u001b[0m in \u001b[0;36m_wrapfunc\u001b[0;34m(obj, method, *args, **kwds)\u001b[0m\n\u001b[1;32m     55\u001b[0m     \u001b[0;32mtry\u001b[0m\u001b[0;34m:\u001b[0m\u001b[0;34m\u001b[0m\u001b[0;34m\u001b[0m\u001b[0m\n\u001b[0;32m---> 56\u001b[0;31m         \u001b[0;32mreturn\u001b[0m \u001b[0mgetattr\u001b[0m\u001b[0;34m(\u001b[0m\u001b[0mobj\u001b[0m\u001b[0;34m,\u001b[0m \u001b[0mmethod\u001b[0m\u001b[0;34m)\u001b[0m\u001b[0;34m(\u001b[0m\u001b[0;34m*\u001b[0m\u001b[0margs\u001b[0m\u001b[0;34m,\u001b[0m \u001b[0;34m**\u001b[0m\u001b[0mkwds\u001b[0m\u001b[0;34m)\u001b[0m\u001b[0;34m\u001b[0m\u001b[0;34m\u001b[0m\u001b[0m\n\u001b[0m\u001b[1;32m     57\u001b[0m \u001b[0;34m\u001b[0m\u001b[0m\n",
            "\u001b[0;31mAttributeError\u001b[0m: 'list' object has no attribute 'reshape'",
            "\nDuring handling of the above exception, another exception occurred:\n",
            "\u001b[0;31mValueError\u001b[0m                                Traceback (most recent call last)",
            "\u001b[0;32m<ipython-input-109-056f14f2b6f4>\u001b[0m in \u001b[0;36m<module>\u001b[0;34m()\u001b[0m\n\u001b[1;32m      4\u001b[0m \u001b[0;34m\u001b[0m\u001b[0m\n\u001b[1;32m      5\u001b[0m \u001b[0;34m\u001b[0m\u001b[0m\n\u001b[0;32m----> 6\u001b[0;31m \u001b[0mtrans\u001b[0m \u001b[0;34m=\u001b[0m \u001b[0mnp\u001b[0m\u001b[0;34m.\u001b[0m\u001b[0mreshape\u001b[0m\u001b[0;34m(\u001b[0m\u001b[0mtrans\u001b[0m\u001b[0;34m,\u001b[0m\u001b[0;34m(\u001b[0m\u001b[0mfinal_shape\u001b[0m\u001b[0;34m,\u001b[0m\u001b[0;36m1\u001b[0m\u001b[0;34m)\u001b[0m\u001b[0;34m)\u001b[0m\u001b[0;34m\u001b[0m\u001b[0;34m\u001b[0m\u001b[0m\n\u001b[0m\u001b[1;32m      7\u001b[0m \u001b[0;34m\u001b[0m\u001b[0m\n\u001b[1;32m      8\u001b[0m \u001b[0mhours\u001b[0m \u001b[0;34m=\u001b[0m \u001b[0mnp\u001b[0m\u001b[0;34m.\u001b[0m\u001b[0mreshape\u001b[0m\u001b[0;34m(\u001b[0m\u001b[0mhours\u001b[0m\u001b[0;34m,\u001b[0m\u001b[0;34m(\u001b[0m\u001b[0mfinal_shape\u001b[0m\u001b[0;34m,\u001b[0m\u001b[0;36m1\u001b[0m\u001b[0;34m)\u001b[0m\u001b[0;34m)\u001b[0m\u001b[0;34m\u001b[0m\u001b[0;34m\u001b[0m\u001b[0m\n",
            "\u001b[0;32m/usr/local/lib/python3.6/dist-packages/numpy/core/fromnumeric.py\u001b[0m in \u001b[0;36mreshape\u001b[0;34m(a, newshape, order)\u001b[0m\n\u001b[1;32m    290\u001b[0m            [5, 6]])\n\u001b[1;32m    291\u001b[0m     \"\"\"\n\u001b[0;32m--> 292\u001b[0;31m     \u001b[0;32mreturn\u001b[0m \u001b[0m_wrapfunc\u001b[0m\u001b[0;34m(\u001b[0m\u001b[0ma\u001b[0m\u001b[0;34m,\u001b[0m \u001b[0;34m'reshape'\u001b[0m\u001b[0;34m,\u001b[0m \u001b[0mnewshape\u001b[0m\u001b[0;34m,\u001b[0m \u001b[0morder\u001b[0m\u001b[0;34m=\u001b[0m\u001b[0morder\u001b[0m\u001b[0;34m)\u001b[0m\u001b[0;34m\u001b[0m\u001b[0;34m\u001b[0m\u001b[0m\n\u001b[0m\u001b[1;32m    293\u001b[0m \u001b[0;34m\u001b[0m\u001b[0m\n\u001b[1;32m    294\u001b[0m \u001b[0;34m\u001b[0m\u001b[0m\n",
            "\u001b[0;32m/usr/local/lib/python3.6/dist-packages/numpy/core/fromnumeric.py\u001b[0m in \u001b[0;36m_wrapfunc\u001b[0;34m(obj, method, *args, **kwds)\u001b[0m\n\u001b[1;32m     64\u001b[0m     \u001b[0;31m# a downstream library like 'pandas'.\u001b[0m\u001b[0;34m\u001b[0m\u001b[0;34m\u001b[0m\u001b[0;34m\u001b[0m\u001b[0m\n\u001b[1;32m     65\u001b[0m     \u001b[0;32mexcept\u001b[0m \u001b[0;34m(\u001b[0m\u001b[0mAttributeError\u001b[0m\u001b[0;34m,\u001b[0m \u001b[0mTypeError\u001b[0m\u001b[0;34m)\u001b[0m\u001b[0;34m:\u001b[0m\u001b[0;34m\u001b[0m\u001b[0;34m\u001b[0m\u001b[0m\n\u001b[0;32m---> 66\u001b[0;31m         \u001b[0;32mreturn\u001b[0m \u001b[0m_wrapit\u001b[0m\u001b[0;34m(\u001b[0m\u001b[0mobj\u001b[0m\u001b[0;34m,\u001b[0m \u001b[0mmethod\u001b[0m\u001b[0;34m,\u001b[0m \u001b[0;34m*\u001b[0m\u001b[0margs\u001b[0m\u001b[0;34m,\u001b[0m \u001b[0;34m**\u001b[0m\u001b[0mkwds\u001b[0m\u001b[0;34m)\u001b[0m\u001b[0;34m\u001b[0m\u001b[0;34m\u001b[0m\u001b[0m\n\u001b[0m\u001b[1;32m     67\u001b[0m \u001b[0;34m\u001b[0m\u001b[0m\n\u001b[1;32m     68\u001b[0m \u001b[0;34m\u001b[0m\u001b[0m\n",
            "\u001b[0;32m/usr/local/lib/python3.6/dist-packages/numpy/core/fromnumeric.py\u001b[0m in \u001b[0;36m_wrapit\u001b[0;34m(obj, method, *args, **kwds)\u001b[0m\n\u001b[1;32m     44\u001b[0m     \u001b[0;32mexcept\u001b[0m \u001b[0mAttributeError\u001b[0m\u001b[0;34m:\u001b[0m\u001b[0;34m\u001b[0m\u001b[0;34m\u001b[0m\u001b[0m\n\u001b[1;32m     45\u001b[0m         \u001b[0mwrap\u001b[0m \u001b[0;34m=\u001b[0m \u001b[0;32mNone\u001b[0m\u001b[0;34m\u001b[0m\u001b[0;34m\u001b[0m\u001b[0m\n\u001b[0;32m---> 46\u001b[0;31m     \u001b[0mresult\u001b[0m \u001b[0;34m=\u001b[0m \u001b[0mgetattr\u001b[0m\u001b[0;34m(\u001b[0m\u001b[0masarray\u001b[0m\u001b[0;34m(\u001b[0m\u001b[0mobj\u001b[0m\u001b[0;34m)\u001b[0m\u001b[0;34m,\u001b[0m \u001b[0mmethod\u001b[0m\u001b[0;34m)\u001b[0m\u001b[0;34m(\u001b[0m\u001b[0;34m*\u001b[0m\u001b[0margs\u001b[0m\u001b[0;34m,\u001b[0m \u001b[0;34m**\u001b[0m\u001b[0mkwds\u001b[0m\u001b[0;34m)\u001b[0m\u001b[0;34m\u001b[0m\u001b[0;34m\u001b[0m\u001b[0m\n\u001b[0m\u001b[1;32m     47\u001b[0m     \u001b[0;32mif\u001b[0m \u001b[0mwrap\u001b[0m\u001b[0;34m:\u001b[0m\u001b[0;34m\u001b[0m\u001b[0;34m\u001b[0m\u001b[0m\n\u001b[1;32m     48\u001b[0m         \u001b[0;32mif\u001b[0m \u001b[0;32mnot\u001b[0m \u001b[0misinstance\u001b[0m\u001b[0;34m(\u001b[0m\u001b[0mresult\u001b[0m\u001b[0;34m,\u001b[0m \u001b[0mmu\u001b[0m\u001b[0;34m.\u001b[0m\u001b[0mndarray\u001b[0m\u001b[0;34m)\u001b[0m\u001b[0;34m:\u001b[0m\u001b[0;34m\u001b[0m\u001b[0;34m\u001b[0m\u001b[0m\n",
            "\u001b[0;31mValueError\u001b[0m: cannot reshape array of size 2883584 into shape (44,1)"
          ]
        }
      ]
    },
    {
      "cell_type": "code",
      "metadata": {
        "id": "knPV-rFOxhgy",
        "colab_type": "code",
        "colab": {
          "base_uri": "https://localhost:8080/",
          "height": 35
        },
        "outputId": "b45c7f0e-f85e-4903-e178-afe1f76b6281"
      },
      "source": [
        "print(len(test[0]))"
      ],
      "execution_count": 106,
      "outputs": [
        {
          "output_type": "stream",
          "text": [
            "11\n"
          ],
          "name": "stdout"
        }
      ]
    },
    {
      "cell_type": "code",
      "metadata": {
        "id": "T-_4zFpkxJ5T",
        "colab_type": "code",
        "colab": {
          "base_uri": "https://localhost:8080/",
          "height": 346
        },
        "outputId": "4883000d-fea2-49f6-f7f2-575fa4998977"
      },
      "source": [
        "\n",
        "print(reg.predict(test))\n",
        "\n"
      ],
      "execution_count": 105,
      "outputs": [
        {
          "output_type": "error",
          "ename": "ValueError",
          "evalue": "ignored",
          "traceback": [
            "\u001b[0;31m---------------------------------------------------------------------------\u001b[0m",
            "\u001b[0;31mValueError\u001b[0m                                Traceback (most recent call last)",
            "\u001b[0;32m<ipython-input-105-66265430b573>\u001b[0m in \u001b[0;36m<module>\u001b[0;34m()\u001b[0m\n\u001b[1;32m      1\u001b[0m \u001b[0;34m\u001b[0m\u001b[0m\n\u001b[0;32m----> 2\u001b[0;31m \u001b[0mprint\u001b[0m\u001b[0;34m(\u001b[0m\u001b[0mreg\u001b[0m\u001b[0;34m.\u001b[0m\u001b[0mpredict\u001b[0m\u001b[0;34m(\u001b[0m\u001b[0mtest\u001b[0m\u001b[0;34m)\u001b[0m\u001b[0;34m)\u001b[0m\u001b[0;34m\u001b[0m\u001b[0;34m\u001b[0m\u001b[0m\n\u001b[0m\u001b[1;32m      3\u001b[0m \u001b[0;34m\u001b[0m\u001b[0m\n",
            "\u001b[0;32m/usr/local/lib/python3.6/dist-packages/sklearn/ensemble/forest.py\u001b[0m in \u001b[0;36mpredict\u001b[0;34m(self, X)\u001b[0m\n\u001b[1;32m    691\u001b[0m         \u001b[0mcheck_is_fitted\u001b[0m\u001b[0;34m(\u001b[0m\u001b[0mself\u001b[0m\u001b[0;34m,\u001b[0m \u001b[0;34m'estimators_'\u001b[0m\u001b[0;34m)\u001b[0m\u001b[0;34m\u001b[0m\u001b[0;34m\u001b[0m\u001b[0m\n\u001b[1;32m    692\u001b[0m         \u001b[0;31m# Check data\u001b[0m\u001b[0;34m\u001b[0m\u001b[0;34m\u001b[0m\u001b[0;34m\u001b[0m\u001b[0m\n\u001b[0;32m--> 693\u001b[0;31m         \u001b[0mX\u001b[0m \u001b[0;34m=\u001b[0m \u001b[0mself\u001b[0m\u001b[0;34m.\u001b[0m\u001b[0m_validate_X_predict\u001b[0m\u001b[0;34m(\u001b[0m\u001b[0mX\u001b[0m\u001b[0;34m)\u001b[0m\u001b[0;34m\u001b[0m\u001b[0;34m\u001b[0m\u001b[0m\n\u001b[0m\u001b[1;32m    694\u001b[0m \u001b[0;34m\u001b[0m\u001b[0m\n\u001b[1;32m    695\u001b[0m         \u001b[0;31m# Assign chunk of trees to jobs\u001b[0m\u001b[0;34m\u001b[0m\u001b[0;34m\u001b[0m\u001b[0;34m\u001b[0m\u001b[0m\n",
            "\u001b[0;32m/usr/local/lib/python3.6/dist-packages/sklearn/ensemble/forest.py\u001b[0m in \u001b[0;36m_validate_X_predict\u001b[0;34m(self, X)\u001b[0m\n\u001b[1;32m    357\u001b[0m                                  \"call `fit` before exploiting the model.\")\n\u001b[1;32m    358\u001b[0m \u001b[0;34m\u001b[0m\u001b[0m\n\u001b[0;32m--> 359\u001b[0;31m         \u001b[0;32mreturn\u001b[0m \u001b[0mself\u001b[0m\u001b[0;34m.\u001b[0m\u001b[0mestimators_\u001b[0m\u001b[0;34m[\u001b[0m\u001b[0;36m0\u001b[0m\u001b[0;34m]\u001b[0m\u001b[0;34m.\u001b[0m\u001b[0m_validate_X_predict\u001b[0m\u001b[0;34m(\u001b[0m\u001b[0mX\u001b[0m\u001b[0;34m,\u001b[0m \u001b[0mcheck_input\u001b[0m\u001b[0;34m=\u001b[0m\u001b[0;32mTrue\u001b[0m\u001b[0;34m)\u001b[0m\u001b[0;34m\u001b[0m\u001b[0;34m\u001b[0m\u001b[0m\n\u001b[0m\u001b[1;32m    360\u001b[0m \u001b[0;34m\u001b[0m\u001b[0m\n\u001b[1;32m    361\u001b[0m     \u001b[0;34m@\u001b[0m\u001b[0mproperty\u001b[0m\u001b[0;34m\u001b[0m\u001b[0;34m\u001b[0m\u001b[0m\n",
            "\u001b[0;32m/usr/local/lib/python3.6/dist-packages/sklearn/tree/tree.py\u001b[0m in \u001b[0;36m_validate_X_predict\u001b[0;34m(self, X, check_input)\u001b[0m\n\u001b[1;32m    400\u001b[0m                              \u001b[0;34m\"match the input. Model n_features is %s and \"\u001b[0m\u001b[0;34m\u001b[0m\u001b[0;34m\u001b[0m\u001b[0m\n\u001b[1;32m    401\u001b[0m                              \u001b[0;34m\"input n_features is %s \"\u001b[0m\u001b[0;34m\u001b[0m\u001b[0;34m\u001b[0m\u001b[0m\n\u001b[0;32m--> 402\u001b[0;31m                              % (self.n_features_, n_features))\n\u001b[0m\u001b[1;32m    403\u001b[0m \u001b[0;34m\u001b[0m\u001b[0m\n\u001b[1;32m    404\u001b[0m         \u001b[0;32mreturn\u001b[0m \u001b[0mX\u001b[0m\u001b[0;34m\u001b[0m\u001b[0;34m\u001b[0m\u001b[0m\n",
            "\u001b[0;31mValueError\u001b[0m: Number of features of the model must match the input. Model n_features is 65546 and input n_features is 11 "
          ]
        }
      ]
    },
    {
      "cell_type": "code",
      "metadata": {
        "id": "Z8J2szsOAsm-",
        "colab_type": "code",
        "colab": {}
      },
      "source": [
        "bucket = storage.bucket(app=app)\n",
        "blobs = bucket.list_blobs()\n",
        "\n",
        "#blobs is an interator :google.api_core.page_iterator.HTTPIterator object at 0x7f2cd11c84e0>\n",
        "\n",
        "imgS7HDR = [] #has all the lenovo images by their name \n",
        "ctr=0\n",
        "mits = set()\n",
        "for blob in blobs:\n",
        "  if blob.name[7:21]==\"predict/s7/hdr\":\n",
        "    blob.download_to_filename('/content/' + \"S7HDR\" + str(blob.name.split('/')[-1])+ '.jpeg')\n",
        "    imgS7HDR.append(\"S7HDR\" + str(blob.name.split('/')[-1])+ '.jpeg') \n",
        "    print(\"S7HDR\" + str(blob.name.split('/')[-1])+ '.jpeg')\n",
        "      \n",
        "  \n",
        "     "
      ],
      "execution_count": 0,
      "outputs": []
    },
    {
      "cell_type": "code",
      "metadata": {
        "id": "aBXOS4NWBInX",
        "colab_type": "code",
        "colab": {}
      },
      "source": [
        "bucket = storage.bucket(app=app)\n",
        "blobs = bucket.list_blobs()\n",
        "\n",
        "#blobs is an interator :google.api_core.page_iterator.HTTPIterator object at 0x7f2cd11c84e0>\n",
        "\n",
        "imgASUSHDR = [] #has all the lenovo images by their name \n",
        "ctr=0\n",
        "mits = set()\n",
        "for blob in blobs:\n",
        "  if blob.name[7:28]==\"predict/divyanshu/hdr\":\n",
        "    blob.download_to_filename('/content/' + \"DIVHDR\" + str(blob.name.split('/')[-1])+ '.jpeg')\n",
        "    imgASUSHDR.append(\"DIVHDR\" + str(blob.name.split('/')[-1])+ '.jpeg') \n",
        "    print(\"DIVHDR\" + str(blob.name.split('/')[-1])+ '.jpeg')\n",
        "      "
      ],
      "execution_count": 0,
      "outputs": []
    },
    {
      "cell_type": "code",
      "metadata": {
        "id": "zWidBnwhOKNl",
        "colab_type": "code",
        "colab": {}
      },
      "source": [
        "bucket = storage.bucket(app=app)\n",
        "blobs = bucket.list_blobs()\n",
        "\n",
        "#blobs is an interator :google.api_core.page_iterator.HTTPIterator object at 0x7f2cd11c84e0>\n",
        "\n",
        "imgMI = [] #has all the lenovo images by their name \n",
        "ctr=0\n",
        "mits = set()\n",
        "for blob in blobs:\n",
        "  if blob.name[7:25]==\"predict/minote/hdr\":\n",
        "    blob.download_to_filename('/content/' + \"MIHDR\" + str(blob.name.split('/')[-1])+ '.jpeg')\n",
        "    imgMI.append(\"MIHDR\" + str(blob.name.split('/')[-1])+ '.jpeg') \n",
        "    print(\"MIHDR\" + str(blob.name.split('/')[-1])+ '.jpeg')"
      ],
      "execution_count": 0,
      "outputs": []
    },
    {
      "cell_type": "code",
      "metadata": {
        "id": "7qtPqAyuTr2Q",
        "colab_type": "code",
        "colab": {}
      },
      "source": [
        "print(len(imgMI))"
      ],
      "execution_count": 0,
      "outputs": []
    },
    {
      "cell_type": "code",
      "metadata": {
        "id": "qbjS0nozOtVx",
        "colab_type": "code",
        "colab": {}
      },
      "source": [
        "MIHDR =[] \n",
        "\n",
        "mi_trans=[]\n",
        "mi_cont=[]\n",
        "mi_ent=[]\n",
        "\n",
        "for img in imgMI:\n",
        "  im = cv2.imread('/content/'+str(img))\n",
        "  im = cv2.resize(im, (256,256))\n",
        "  MIHDR.append(cv2.rotate(im, rotateCode = cv2.ROTATE_90_CLOCKWISE))\n",
        "  mi_trans.append(transmission(im,retMean=False))\n",
        "  mi_cont.append(contrast(im))\n",
        "  mi_ent.append(entropy)"
      ],
      "execution_count": 0,
      "outputs": []
    },
    {
      "cell_type": "code",
      "metadata": {
        "id": "ozQXSiNHZmym",
        "colab_type": "code",
        "colab": {}
      },
      "source": [
        ""
      ],
      "execution_count": 0,
      "outputs": []
    },
    {
      "cell_type": "code",
      "metadata": {
        "id": "NCzA13c_qaUF",
        "colab_type": "code",
        "colab": {}
      },
      "source": [
        "print(len(x_ent))"
      ],
      "execution_count": 0,
      "outputs": []
    },
    {
      "cell_type": "code",
      "metadata": {
        "id": "NjIUSs4QEL7e",
        "colab_type": "code",
        "colab": {}
      },
      "source": [
        "s7_trans=[]\n",
        "s7_cont=[]\n",
        "s7_ent=[]\n",
        "\n",
        "S7HDR =[]\n",
        "for img in imgS7HDR:\n",
        "  im = cv2.imread('/content/' + str(img))\n",
        "  im = cv2.resize(im, (256,256))\n",
        "  S7HDR.append(cv2.rotate(im, rotateCode = cv2.ROTATE_90_CLOCKWISE))\n",
        "  s7_trans.append(transmission(im, retMean = False))\n",
        "  s7_cont.append(im)\n",
        "  s7_ent.append(im)\n"
      ],
      "execution_count": 0,
      "outputs": []
    },
    {
      "cell_type": "code",
      "metadata": {
        "id": "5d4S7goQbRO5",
        "colab_type": "code",
        "colab": {}
      },
      "source": [
        "weather={}\n",
        "for key in match:\n",
        "  temp=key.split('-')\n",
        "  newtemp=temp[2].split(' ')\n",
        "  newesttemp=newtemp[1].split(':')\n",
        "  print(keytemp)\n",
        "  keytemp = (temp[0] + '-' + temp[1] + '-' + newtemp[0] + ' ' + newesttemp[0] + ':' + newesttemp[1] )\n",
        "\n",
        "  j=int(newesttemp[1])\n",
        "  if(j<=7.5):\n",
        "    final = temp[0] + '-' + temp[1] + '-' + newtemp[0] + ' ' + newesttemp[0] + ':' + '00'\n",
        "  elif(j<=15 or j<=22.5):\n",
        "    final = temp[0] + '-' + temp[1] + '-' + newtemp[0] + ' ' + newesttemp[0] + ':' + '15'\n",
        "  elif(j<=30 or j<=37.5):\n",
        "    final = temp[0] + '-' + temp[1] + '-' + newtemp[0] + ' ' + newesttemp[0] + ':' + '30'\n",
        "  elif(j<=45 or j<=52.5):\n",
        "    final = temp[0] + '-' + temp[1] + '-' + newtemp[0] + ' ' + newesttemp[0] + ':' + '45'\n",
        "  elif(j>52.5):\n",
        "    final = temp[0] + '-' + temp[1] + '-' + newtemp[0] + ' ' + newesttemp[0] + ':' + '00'\n",
        "  if(final not in weather):\n",
        "    weather[keytemp]=match[key]\n",
        "  \n",
        " "
      ],
      "execution_count": 0,
      "outputs": []
    },
    {
      "cell_type": "code",
      "metadata": {
        "id": "n1KA4kErh4-D",
        "colab_type": "code",
        "outputId": "1adad872-56ce-427c-8cf2-985e1fae7710",
        "colab": {
          "base_uri": "https://localhost:8080/",
          "height": 55
        }
      },
      "source": [
        "print(weather)"
      ],
      "execution_count": 0,
      "outputs": [
        {
          "output_type": "stream",
          "text": [
            "{'2019-07-22 15:24': ('S7HDR2019-07-22 15:24:46.jpeg', 'DIVHDR2019-07-22 15:26:07.jpeg', 'EXPERIA2019-07-22 15:29:19.jpeg'), '2019-07-22 15:49': ('S7HDR2019-07-22 15:49:50.jpeg', 'DIVHDR2019-07-22 15:46:32.jpeg', 'EXPERIA2019-07-22 15:49:19.jpeg'), '2019-07-22 15:54': ('S7HDR2019-07-22 15:54:50.jpeg', 'DIVHDR2019-07-22 15:55:49.jpeg', 'EXPERIA2019-07-22 15:54:19.jpeg'), '2019-07-22 15:59': ('S7HDR2019-07-22 15:59:50.jpeg', 'DIVHDR2019-07-22 15:55:49.jpeg', 'EXPERIA2019-07-22 15:54:19.jpeg'), '2019-07-22 16:04': ('S7HDR2019-07-22 16:04:51.jpeg', 'DIVHDR2019-07-22 16:05:49.jpeg', 'EXPERIA2019-07-22 16:09:19.jpeg'), '2019-07-22 16:09': ('S7HDR2019-07-22 16:09:51.jpeg', 'DIVHDR2019-07-22 16:05:49.jpeg', 'EXPERIA2019-07-22 16:09:19.jpeg'), '2019-07-22 16:14': ('S7HDR2019-07-22 16:14:50.jpeg', 'DIVHDR2019-07-22 16:16:31.jpeg', 'EXPERIA2019-07-22 16:14:19.jpeg'), '2019-07-22 16:19': ('S7HDR2019-07-22 16:19:50.jpeg', 'DIVHDR2019-07-22 16:16:31.jpeg', 'EXPERIA2019-07-22 16:14:19.jpeg'), '2019-07-22 16:29': ('S7HDR2019-07-22 16:29:50.jpeg', 'DIVHDR2019-07-22 16:25:50.jpeg', 'EXPERIA2019-07-22 16:29:19.jpeg'), '2019-07-22 16:39': ('S7HDR2019-07-22 16:39:50.jpeg', 'DIVHDR2019-07-22 16:36:12.jpeg', 'EXPERIA2019-07-22 16:39:19.jpeg'), '2019-07-22 16:49': ('S7HDR2019-07-22 16:49:51.jpeg', 'DIVHDR2019-07-22 16:47:13.jpeg', 'EXPERIA2019-07-22 16:49:19.jpeg'), '2019-07-22 16:54': ('S7HDR2019-07-22 16:54:50.jpeg', 'DIVHDR2019-07-22 16:59:02.jpeg', 'EXPERIA2019-07-22 16:59:19.jpeg'), '2019-07-22 17:04': ('S7HDR2019-07-22 17:04:50.jpeg', 'DIVHDR2019-07-22 17:06:31.jpeg', 'EXPERIA2019-07-22 17:09:19.jpeg'), '2019-07-22 17:09': ('S7HDR2019-07-22 17:09:51.jpeg', 'DIVHDR2019-07-22 17:06:31.jpeg', 'EXPERIA2019-07-22 17:09:19.jpeg'), '2019-07-22 17:14': ('S7HDR2019-07-22 17:14:50.jpeg', 'DIVHDR2019-07-22 17:16:32.jpeg', 'EXPERIA2019-07-22 17:19:19.jpeg'), '2019-07-22 17:19': ('S7HDR2019-07-22 17:19:50.jpeg', 'DIVHDR2019-07-22 17:16:32.jpeg', 'EXPERIA2019-07-22 17:19:19.jpeg'), '2019-07-22 17:24': ('S7HDR2019-07-22 17:24:50.jpeg', 'DIVHDR2019-07-22 17:26:12.jpeg', 'EXPERIA2019-07-22 17:29:19.jpeg'), '2019-07-22 17:29': ('S7HDR2019-07-22 17:29:52.jpeg', 'DIVHDR2019-07-22 17:26:12.jpeg', 'EXPERIA2019-07-22 17:29:19.jpeg'), '2019-07-22 17:34': ('S7HDR2019-07-22 17:34:50.jpeg', 'DIVHDR2019-07-22 17:36:33.jpeg', 'EXPERIA2019-07-22 17:37:32.jpeg'), '2019-07-22 17:39': ('S7HDR2019-07-22 17:39:52.jpeg', 'DIVHDR2019-07-22 17:36:33.jpeg', 'EXPERIA2019-07-22 17:37:32.jpeg')}\n"
          ],
          "name": "stdout"
        }
      ]
    },
    {
      "cell_type": "code",
      "metadata": {
        "id": "LJQL9aEjSYaK",
        "colab_type": "code",
        "colab": {}
      },
      "source": [
        "S7_trans=[]\n",
        "S7_cont=[]\n",
        "S7_ent=[]\n",
        "\n",
        "\n",
        "for key in weather:  \n",
        "  ## S7 \n",
        "  img = weather[key][0]\n",
        "  im = cv2.imread('/content/' + str(img))\n",
        "  im = cv2.resize(im, (256,256))\n",
        "  ASUSHDR.append(cv2.rotate(im, rotateCode = cv2.ROTATE_90_CLOCKWISE))\n",
        "  S7_trans.append(transmission(im, retMean = False))\n",
        "  S7_cont.append(contrast(im))\n",
        "  S7_ent.append(entropy(im))\n"
      ],
      "execution_count": 0,
      "outputs": []
    },
    {
      "cell_type": "code",
      "metadata": {
        "id": "OBLI8JM-GTGK",
        "colab_type": "code",
        "outputId": "18c0e9c5-e3c3-438b-8358-c9386568e570",
        "colab": {
          "base_uri": "https://localhost:8080/",
          "height": 35
        }
      },
      "source": [
        "print(len(S7_ent))"
      ],
      "execution_count": 0,
      "outputs": [
        {
          "output_type": "stream",
          "text": [
            "20\n"
          ],
          "name": "stdout"
        }
      ]
    },
    {
      "cell_type": "code",
      "metadata": {
        "id": "_KYMjck-FiX4",
        "colab_type": "code",
        "colab": {}
      },
      "source": [
        "\n",
        "print(len(temp_weather))"
      ],
      "execution_count": 0,
      "outputs": []
    },
    {
      "cell_type": "code",
      "metadata": {
        "id": "-irnM6HgLKJg",
        "colab_type": "code",
        "colab": {}
      },
      "source": [
        "print(temp_weather)"
      ],
      "execution_count": 0,
      "outputs": []
    },
    {
      "cell_type": "code",
      "metadata": {
        "id": "5KBLKW0cNBhJ",
        "colab_type": "code",
        "colab": {}
      },
      "source": [
        "print(temp_weather)\n",
        "print(weather)"
      ],
      "execution_count": 0,
      "outputs": []
    },
    {
      "cell_type": "code",
      "metadata": {
        "id": "1P5esB6RFpcu",
        "colab_type": "code",
        "colab": {}
      },
      "source": [
        "\n",
        "for key in temp_weather:\n",
        "  print(key[:-1])\n",
        "  for w in weather:\n",
        "    print(w[:-1])\n",
        "    if(key[:-4]==w[:-2]):\n",
        "      print(key)\n",
        "    break"
      ],
      "execution_count": 0,
      "outputs": []
    },
    {
      "cell_type": "code",
      "metadata": {
        "id": "gWb7405ih8y_",
        "colab_type": "code",
        "colab": {}
      },
      "source": [
        "hours=[]\n",
        "hum=[]\n",
        "pressure=[]\n",
        "temp=[]\n",
        "vis=[]\n",
        "deg=[]\n",
        "speed=[]\n",
        "cc=[]\n",
        "desc=[]\n",
        "trans=[]\n",
        "cont=[]\n",
        "ent=[]\n",
        "pm=[]\n",
        "\n",
        "\n",
        "for e in feat:\n",
        "  #print(e[0])\n",
        "  hours.append(float(e[0][-5:-3]))\n",
        "  pm.append(float(e[4]))\n",
        "  trans.append(e[1])\n",
        "  ent.append(float(e[2]))\n",
        "  cont.append(float(e[3]))\n",
        "  for w in weather:                                      ##Matching weather data \n",
        "    if(e[0] == w):\n",
        "      hum.append(weather[w][0])\n",
        "      pressure.append(weather[w][1])\n",
        "      temp.append(weather[w][2]) \n",
        "      vis.append(weather[w][3])\n",
        "      deg.append(weather[w][4])\n",
        "      speed.append(weather[w][5])\n",
        "      cc.append(weather[w][6])\n",
        "      try:\n",
        "        desc.append(weather[w][7])\n",
        "      except:\n",
        "        #print(e[0])\n",
        "        desc.append(0)\n",
        "    "
      ],
      "execution_count": 0,
      "outputs": []
    },
    {
      "cell_type": "code",
      "metadata": {
        "id": "H5uR62p6ihHZ",
        "colab_type": "code",
        "colab": {}
      },
      "source": [
        "def transmission(img, lt = 230, retMean = False):\n",
        "  ker = np.ones((3, 3))/9.0\n",
        "  imgrgb = cv2.cvtColor(img, cv2.COLOR_BGR2RGB)\n",
        "  b, g, r = cv2.split(img)\n",
        "  hsv = cv2.cvtColor(imgrgb, cv2.COLOR_RGB2HSV)\n",
        "  _, _, v = cv2.split(hsv)\n",
        "  v_blur = cv2.filter2D(v, -1, ker)\n",
        "  _,building_mask = cv2.threshold(v_blur, lt, 255, cv2.THRESH_BINARY)\n",
        "  sky = cv2.bitwise_and(imgrgb, imgrgb, mask = building_mask)\n",
        "  sky_mask = cv2.bitwise_not(building_mask, building_mask.copy())\n",
        "  building = cv2.bitwise_and(imgrgb, imgrgb, mask = sky_mask)\n",
        " \n",
        "  al = max(v_blur.flatten())\n",
        "  #Airlight Found. Now calculate Transmission Map\n",
        "  img_norm = img/float(al)\n",
        "  b, g, r = cv2.split(img_norm)\n",
        "  kernel = np.ones((3,3),np.uint8)\n",
        "  im_new = np.zeros((img.shape[0], img.shape[1]))\n",
        "  for i in range(img.shape[0]):\n",
        "    for j in range(img.shape[1]):\n",
        "      im_new[i][j] = min(b[i][j], g[i][j], r[i][j])\n",
        "  dcp = cv2.erode(im_new, kernel, iterations = 1)\n",
        "  #ax[3].imshow(im_new, cmap = 'gray')\n",
        "  #ax[4].imshow(dcp, cmap = 'gray')\n",
        "  tr = np.ones((dcp.shape[0], dcp.shape[1]))\n",
        "  for i in range(dcp.shape[0]):\n",
        "    for j in range(dcp.shape[1]):\n",
        "      tr[i][j] = 1 - dcp[i][j]\n",
        "  #ax[1].imshow(tr, cmap = 'gray')\n",
        "  if retMean == False:\n",
        "    return tr\n",
        "  elif retMean == True:\n",
        "    return np.mean(tr)"
      ],
      "execution_count": 0,
      "outputs": []
    },
    {
      "cell_type": "code",
      "metadata": {
        "id": "o6uU3FY1ieZ7",
        "colab_type": "code",
        "colab": {}
      },
      "source": [
        "def entropy(image):\n",
        "  image = cv2.cvtColor(image, cv2.COLOR_BGR2GRAY)\n",
        "  hist = cv2.calcHist( [image.astype('float32')],\n",
        "              [0], \n",
        "              None,\n",
        "               [256], \n",
        "              [0,256] )\n",
        "  h_norm = 0\n",
        "  h_norm = cv2.normalize(hist, h_norm)\n",
        "  ent = 0\n",
        "  for p in h_norm:\n",
        "    try:\n",
        "      ent += p*math.log(p, 2)\n",
        "    except:\n",
        "      pass\n",
        "    \n",
        "  return (-1 * ent[0])"
      ],
      "execution_count": 0,
      "outputs": []
    },
    {
      "cell_type": "code",
      "metadata": {
        "id": "xrjDlVGLiYIT",
        "colab_type": "code",
        "colab": {}
      },
      "source": [
        "def contrast(image):\n",
        "  image = cv2.cvtColor(image, cv2.COLOR_BGR2GRAY)\n",
        "  s = 0\n",
        "  ss = 0\n",
        "  mean = np.mean(image)\n",
        "  x = (-1 * mean * (np.ones(image.shape)))\n",
        "  ss = np.square(np.add(image, x))\n",
        "  cont = np.sqrt(np.sum(ss)/float(image.size))\n",
        "  return cont"
      ],
      "execution_count": 0,
      "outputs": []
    },
    {
      "cell_type": "code",
      "metadata": {
        "id": "ZzUhCTwSZaur",
        "colab_type": "code",
        "colab": {}
      },
      "source": [
        ""
      ],
      "execution_count": 0,
      "outputs": []
    }
  ]
}