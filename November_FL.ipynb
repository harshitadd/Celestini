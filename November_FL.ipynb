{
  "nbformat": 4,
  "nbformat_minor": 0,
  "metadata": {
    "colab": {
      "name": "November_FL.ipynb",
      "provenance": [],
      "collapsed_sections": [],
      "include_colab_link": true
    },
    "kernelspec": {
      "name": "python3",
      "display_name": "Python 3"
    },
    "accelerator": "GPU"
  },
  "cells": [
    {
      "cell_type": "markdown",
      "metadata": {
        "id": "view-in-github",
        "colab_type": "text"
      },
      "source": [
        "<a href=\"https://colab.research.google.com/github/harshitadd/Celestini/blob/master/November_FL.ipynb\" target=\"_parent\"><img src=\"https://colab.research.google.com/assets/colab-badge.svg\" alt=\"Open In Colab\"/></a>"
      ]
    },
    {
      "cell_type": "code",
      "metadata": {
        "id": "VD9xtay4v73X",
        "colab_type": "code",
        "colab": {}
      },
      "source": [
        "!pip install firebase-admin "
      ],
      "execution_count": 0,
      "outputs": []
    },
    {
      "cell_type": "code",
      "metadata": {
        "id": "9X8mcdznwMhJ",
        "colab_type": "code",
        "colab": {}
      },
      "source": [
        "import firebase_admin\n",
        "from firebase_admin import credentials, db, storage \n",
        "import cv2 \n",
        "import math \n",
        "import numpy as np\n",
        "import matplotlib.pyplot as plt \n",
        "import csv \n",
        "import pandas as pd"
      ],
      "execution_count": 0,
      "outputs": []
    },
    {
      "cell_type": "code",
      "metadata": {
        "id": "sK1RgS9pwXs2",
        "colab_type": "code",
        "colab": {}
      },
      "source": [
        "\n",
        "cred = credentials.Certificate(\"/content/celestinihdr-2-firebase-adminsdk-x7gew-beb69daef0.json\")\n",
        "app = firebase_admin.initialize_app(cred, {\n",
        "    'storageBucket': 'celestinihdr-2.appspot.com',\n",
        "}, name='novemeber')"
      ],
      "execution_count": 0,
      "outputs": []
    },
    {
      "cell_type": "code",
      "metadata": {
        "id": "emOcaaN5woL9",
        "colab_type": "code",
        "colab": {}
      },
      "source": [
        "bucket = storage.bucket(app=app)\n",
        "blobs = bucket.list_blobs()\n",
        "\n",
        "anandvihar_hdr=[]\n",
        "wazirpur_hdr=[]\n",
        "wazirpur_jpeg={}\n",
        "ctr=0\n",
        "for blob in blobs:\n",
        "  if(blob.name[7:13]=='static' and blob.name[14]=='P' and blob.name[27]=='j' and int(blob.name[43:45])<18 and int(blob.name[43:45])>6):\n",
        "    blob.download_to_filename('/content/' + \"wazirpur_jpeg\" + str(blob.name.split('/')[-1])+ '.jpeg')\n",
        "    name = \"wazirpur_jpeg\" + str(blob.name.split('/')[-1])+ '.jpeg' \n",
        "    ctr+=1\n",
        "    print(ctr)\n",
        "    im = cv2.imread(name)\n",
        "    im = cv2.resize(im,(256,256))\n",
        "    wazirpur_jpeg[blob.name]=im\n",
        "  # if(blob.name[7:13]=='static' and blob.name[14]=='P' and blob.name[27]=='h' and int(blob.name[42:44])<18 and int(blob.name[42:44])>6): \n",
        "  #   blob.download_to_filename('/content/' + \"wazirpur_hdr\" + str(blob.name.split('/')[-1])+ '.jpeg')\n",
        "  #   name = \"wazirpur_hdr\" + str(blob.name.split('/')[-1])+ '.jpeg' \n",
        "  #   ctr+=1\n",
        "  #   print(ctr)\n",
        "  #   im = cv2.imread(name)\n",
        "  #   im = cv2.resize(im,(256,256))\n",
        "  #   wazirpur_hdr.append(im)\n",
        "  # if(blob.name[7:13]=='static' and blob.name[14]=='H' and blob.name[21]=='h'):\n",
        "  #    blob.download_to_filename('/content/' + \"anandvihar_hdr\" + str(blob.name.split('/')[-1])+ '.jpeg')\n",
        "  #    name = \"anandvihar_hdr\" + str(blob.name.split('/')[-1])+ '.jpeg' \n",
        "  #    ctr+=1\n",
        "  #    print(ctr)\n",
        "  #    im = cv2.imread(name)\n",
        "  #    im = cv2.resize(im,(256,256))\n",
        "  #    anandvihar_hdr.append(im)\n",
        "     \n",
        "    \n",
        "    "
      ],
      "execution_count": 0,
      "outputs": []
    },
    {
      "cell_type": "code",
      "metadata": {
        "id": "nqKscFgTlWVG",
        "colab_type": "code",
        "colab": {
          "base_uri": "https://localhost:8080/",
          "height": 34
        },
        "outputId": "73106309-c41d-4afc-c838-2b10683aa83d"
      },
      "source": [
        "for i in wazirpur_jpeg:\n",
        "  print(i)\n",
        "  break"
      ],
      "execution_count": 24,
      "outputs": [
        {
          "output_type": "stream",
          "text": [
            "images/static/Punjabi_Bagh/jpeg/2019-11-12 07:43:39_Shadipur, New Delhi - CPCB\n"
          ],
          "name": "stdout"
        }
      ]
    },
    {
      "cell_type": "code",
      "metadata": {
        "id": "0GNsZQMx5Gbv",
        "colab_type": "code",
        "outputId": "51b25b48-af5e-443d-ab31-4280519b2608",
        "colab": {
          "base_uri": "https://localhost:8080/",
          "height": 34
        }
      },
      "source": [
        "#print(len(wazirpur_hdr))\n",
        "print(len(wazirpur_jpeg))\n",
        "#print(len(anandvihar_hdr))"
      ],
      "execution_count": 5,
      "outputs": [
        {
          "output_type": "stream",
          "text": [
            "287\n"
          ],
          "name": "stdout"
        }
      ]
    },
    {
      "cell_type": "markdown",
      "metadata": {
        "id": "eZsL3Yfz-rNU",
        "colab_type": "text"
      },
      "source": [
        "IMAGE PARAMETERS "
      ]
    },
    {
      "cell_type": "code",
      "metadata": {
        "id": "8qNZJ6XF-ZoV",
        "colab_type": "code",
        "colab": {}
      },
      "source": [
        "def trans_deg(im):\n",
        "  B=np.zeros((256,256))\n",
        "  D=np.zeros((256,256))\n",
        "  C=np.zeros((256,256))\n",
        "  # 3rd channel or im[2] has been split as b,g,r \n",
        "\n",
        "  b,g,r = cv2.split(im)\n",
        "\n",
        "  for i in range(b.shape[0]):\n",
        "    for j in range(b.shape[1]):\n",
        "      D[i][j] = min(b[i][j], g[i][j], r[i][j])\n",
        "      B[i][j] = max(b[i][j], g[i][j], r[i][j])\n",
        "      C[i][j] = B[i][j] - D[i][j]\n",
        "\n",
        "  d = np.sum(D)/float(np.size(D))\n",
        "  b = np.sum(B)/float(np.size(B))\n",
        "  c = b-d \n",
        "  A = (0.33)*max(np.ndarray.flatten(B)) + (0.66)*b\n",
        "  \n",
        "  x1=((A - d)/float(A)) \n",
        "  x2=(c/float(A))\n",
        "  u = 10.127489\n",
        "  v= -8.336512\n",
        "  s = 0.13606234\n",
        "  \n",
        "  w = math.exp(-0.5*(u*x1 + v*x2)+s)\n",
        "  \n",
        "  if(w<=0.1):\n",
        "      w=0\n",
        "  elif(w<=0.3):\n",
        "    w=1\n",
        "  elif(w<=0.5):\n",
        "    w=2\n",
        "  elif(w<=0.7):\n",
        "    w=3\n",
        "  elif(w<=0.8):\n",
        "    w=4\n",
        "  elif(w<=0.9):\n",
        "    w=5\n",
        "    \n",
        "  return w"
      ],
      "execution_count": 0,
      "outputs": []
    },
    {
      "cell_type": "code",
      "metadata": {
        "id": "73K_Ywi2-WSk",
        "colab_type": "code",
        "colab": {}
      },
      "source": [
        "def entropy(image):\n",
        "  image = cv2.cvtColor(image, cv2.COLOR_BGR2GRAY)\n",
        "  hist = cv2.calcHist( [image.astype('float32')],\n",
        "              [0], \n",
        "              None,\n",
        "               [256], \n",
        "              [0,256] )\n",
        "  h_norm = 0\n",
        "  h_norm = cv2.normalize(hist, h_norm)\n",
        "  ent = 0\n",
        "  for p in h_norm:\n",
        "    try:\n",
        "      ent += p*math.log(p, 2)\n",
        "    except:\n",
        "      pass\n",
        "    \n",
        "  return (-1 * ent[0])"
      ],
      "execution_count": 0,
      "outputs": []
    },
    {
      "cell_type": "code",
      "metadata": {
        "id": "4nrSX6R89hT4",
        "colab_type": "code",
        "colab": {}
      },
      "source": [
        "def contrast(image):\n",
        "  image = cv2.cvtColor(image, cv2.COLOR_BGR2GRAY)\n",
        "  s = 0\n",
        "  ss = 0\n",
        "  mean = np.mean(image)\n",
        "  x = (-1 * mean * (np.ones(image.shape)))\n",
        "  ss = np.square(np.add(image, x))\n",
        "  cont = np.sqrt(np.sum(ss)/float(image.size))\n",
        "  return cont"
      ],
      "execution_count": 0,
      "outputs": []
    },
    {
      "cell_type": "code",
      "metadata": {
        "id": "oNcZufW2__Ce",
        "colab_type": "code",
        "outputId": "29267ee9-cb15-4487-aa90-976a6a5bc229",
        "colab": {
          "base_uri": "https://localhost:8080/",
          "height": 610
        }
      },
      "source": [
        "feat=[]\n",
        "ctr=0\n",
        "for i in wazirpur_jpeg:\n",
        "  l=[]\n",
        "  l.append(i[32:48])\n",
        "  l.append(entropy(wazirpur_jpeg[i]))\n",
        "  l.append(contrast(wazirpur_jpeg[i]))\n",
        "  l.append(trans_deg(wazirpur_jpeg[i]))\n",
        "  feat.append(l)\n",
        "  ctr+=1\n",
        "  print(ctr)"
      ],
      "execution_count": 107,
      "outputs": [
        {
          "output_type": "stream",
          "text": [
            "1\n",
            "2\n",
            "3\n",
            "4\n",
            "5\n",
            "6\n",
            "7\n",
            "8\n",
            "9\n",
            "10\n",
            "11\n",
            "12\n",
            "13\n",
            "14\n",
            "15\n"
          ],
          "name": "stdout"
        },
        {
          "output_type": "error",
          "ename": "KeyboardInterrupt",
          "evalue": "ignored",
          "traceback": [
            "\u001b[0;31m---------------------------------------------------------------------------\u001b[0m",
            "\u001b[0;31mKeyboardInterrupt\u001b[0m                         Traceback (most recent call last)",
            "\u001b[0;32m<ipython-input-107-fbf0dc7f2385>\u001b[0m in \u001b[0;36m<module>\u001b[0;34m()\u001b[0m\n\u001b[1;32m      6\u001b[0m   \u001b[0ml\u001b[0m\u001b[0;34m.\u001b[0m\u001b[0mappend\u001b[0m\u001b[0;34m(\u001b[0m\u001b[0mentropy\u001b[0m\u001b[0;34m(\u001b[0m\u001b[0mwazirpur_jpeg\u001b[0m\u001b[0;34m[\u001b[0m\u001b[0mi\u001b[0m\u001b[0;34m]\u001b[0m\u001b[0;34m)\u001b[0m\u001b[0;34m)\u001b[0m\u001b[0;34m\u001b[0m\u001b[0;34m\u001b[0m\u001b[0m\n\u001b[1;32m      7\u001b[0m   \u001b[0ml\u001b[0m\u001b[0;34m.\u001b[0m\u001b[0mappend\u001b[0m\u001b[0;34m(\u001b[0m\u001b[0mcontrast\u001b[0m\u001b[0;34m(\u001b[0m\u001b[0mwazirpur_jpeg\u001b[0m\u001b[0;34m[\u001b[0m\u001b[0mi\u001b[0m\u001b[0;34m]\u001b[0m\u001b[0;34m)\u001b[0m\u001b[0;34m)\u001b[0m\u001b[0;34m\u001b[0m\u001b[0;34m\u001b[0m\u001b[0m\n\u001b[0;32m----> 8\u001b[0;31m   \u001b[0ml\u001b[0m\u001b[0;34m.\u001b[0m\u001b[0mappend\u001b[0m\u001b[0;34m(\u001b[0m\u001b[0mtrans_deg\u001b[0m\u001b[0;34m(\u001b[0m\u001b[0mwazirpur_jpeg\u001b[0m\u001b[0;34m[\u001b[0m\u001b[0mi\u001b[0m\u001b[0;34m]\u001b[0m\u001b[0;34m)\u001b[0m\u001b[0;34m)\u001b[0m\u001b[0;34m\u001b[0m\u001b[0;34m\u001b[0m\u001b[0m\n\u001b[0m\u001b[1;32m      9\u001b[0m   \u001b[0mfeat\u001b[0m\u001b[0;34m.\u001b[0m\u001b[0mappend\u001b[0m\u001b[0;34m(\u001b[0m\u001b[0ml\u001b[0m\u001b[0;34m)\u001b[0m\u001b[0;34m\u001b[0m\u001b[0;34m\u001b[0m\u001b[0m\n\u001b[1;32m     10\u001b[0m   \u001b[0mctr\u001b[0m\u001b[0;34m+=\u001b[0m\u001b[0;36m1\u001b[0m\u001b[0;34m\u001b[0m\u001b[0;34m\u001b[0m\u001b[0m\n",
            "\u001b[0;32m<ipython-input-6-c84e2d9ef9e3>\u001b[0m in \u001b[0;36mtrans_deg\u001b[0;34m(im)\u001b[0m\n\u001b[1;32m      9\u001b[0m   \u001b[0;32mfor\u001b[0m \u001b[0mi\u001b[0m \u001b[0;32min\u001b[0m \u001b[0mrange\u001b[0m\u001b[0;34m(\u001b[0m\u001b[0mb\u001b[0m\u001b[0;34m.\u001b[0m\u001b[0mshape\u001b[0m\u001b[0;34m[\u001b[0m\u001b[0;36m0\u001b[0m\u001b[0;34m]\u001b[0m\u001b[0;34m)\u001b[0m\u001b[0;34m:\u001b[0m\u001b[0;34m\u001b[0m\u001b[0;34m\u001b[0m\u001b[0m\n\u001b[1;32m     10\u001b[0m     \u001b[0;32mfor\u001b[0m \u001b[0mj\u001b[0m \u001b[0;32min\u001b[0m \u001b[0mrange\u001b[0m\u001b[0;34m(\u001b[0m\u001b[0mb\u001b[0m\u001b[0;34m.\u001b[0m\u001b[0mshape\u001b[0m\u001b[0;34m[\u001b[0m\u001b[0;36m1\u001b[0m\u001b[0;34m]\u001b[0m\u001b[0;34m)\u001b[0m\u001b[0;34m:\u001b[0m\u001b[0;34m\u001b[0m\u001b[0;34m\u001b[0m\u001b[0m\n\u001b[0;32m---> 11\u001b[0;31m       \u001b[0mD\u001b[0m\u001b[0;34m[\u001b[0m\u001b[0mi\u001b[0m\u001b[0;34m]\u001b[0m\u001b[0;34m[\u001b[0m\u001b[0mj\u001b[0m\u001b[0;34m]\u001b[0m \u001b[0;34m=\u001b[0m \u001b[0mmin\u001b[0m\u001b[0;34m(\u001b[0m\u001b[0mb\u001b[0m\u001b[0;34m[\u001b[0m\u001b[0mi\u001b[0m\u001b[0;34m]\u001b[0m\u001b[0;34m[\u001b[0m\u001b[0mj\u001b[0m\u001b[0;34m]\u001b[0m\u001b[0;34m,\u001b[0m \u001b[0mg\u001b[0m\u001b[0;34m[\u001b[0m\u001b[0mi\u001b[0m\u001b[0;34m]\u001b[0m\u001b[0;34m[\u001b[0m\u001b[0mj\u001b[0m\u001b[0;34m]\u001b[0m\u001b[0;34m,\u001b[0m \u001b[0mr\u001b[0m\u001b[0;34m[\u001b[0m\u001b[0mi\u001b[0m\u001b[0;34m]\u001b[0m\u001b[0;34m[\u001b[0m\u001b[0mj\u001b[0m\u001b[0;34m]\u001b[0m\u001b[0;34m)\u001b[0m\u001b[0;34m\u001b[0m\u001b[0;34m\u001b[0m\u001b[0m\n\u001b[0m\u001b[1;32m     12\u001b[0m       \u001b[0mB\u001b[0m\u001b[0;34m[\u001b[0m\u001b[0mi\u001b[0m\u001b[0;34m]\u001b[0m\u001b[0;34m[\u001b[0m\u001b[0mj\u001b[0m\u001b[0;34m]\u001b[0m \u001b[0;34m=\u001b[0m \u001b[0mmax\u001b[0m\u001b[0;34m(\u001b[0m\u001b[0mb\u001b[0m\u001b[0;34m[\u001b[0m\u001b[0mi\u001b[0m\u001b[0;34m]\u001b[0m\u001b[0;34m[\u001b[0m\u001b[0mj\u001b[0m\u001b[0;34m]\u001b[0m\u001b[0;34m,\u001b[0m \u001b[0mg\u001b[0m\u001b[0;34m[\u001b[0m\u001b[0mi\u001b[0m\u001b[0;34m]\u001b[0m\u001b[0;34m[\u001b[0m\u001b[0mj\u001b[0m\u001b[0;34m]\u001b[0m\u001b[0;34m,\u001b[0m \u001b[0mr\u001b[0m\u001b[0;34m[\u001b[0m\u001b[0mi\u001b[0m\u001b[0;34m]\u001b[0m\u001b[0;34m[\u001b[0m\u001b[0mj\u001b[0m\u001b[0;34m]\u001b[0m\u001b[0;34m)\u001b[0m\u001b[0;34m\u001b[0m\u001b[0;34m\u001b[0m\u001b[0m\n\u001b[1;32m     13\u001b[0m       \u001b[0mC\u001b[0m\u001b[0;34m[\u001b[0m\u001b[0mi\u001b[0m\u001b[0;34m]\u001b[0m\u001b[0;34m[\u001b[0m\u001b[0mj\u001b[0m\u001b[0;34m]\u001b[0m \u001b[0;34m=\u001b[0m \u001b[0mB\u001b[0m\u001b[0;34m[\u001b[0m\u001b[0mi\u001b[0m\u001b[0;34m]\u001b[0m\u001b[0;34m[\u001b[0m\u001b[0mj\u001b[0m\u001b[0;34m]\u001b[0m \u001b[0;34m-\u001b[0m \u001b[0mD\u001b[0m\u001b[0;34m[\u001b[0m\u001b[0mi\u001b[0m\u001b[0;34m]\u001b[0m\u001b[0;34m[\u001b[0m\u001b[0mj\u001b[0m\u001b[0;34m]\u001b[0m\u001b[0;34m\u001b[0m\u001b[0;34m\u001b[0m\u001b[0m\n",
            "\u001b[0;31mKeyboardInterrupt\u001b[0m: "
          ]
        }
      ]
    },
    {
      "cell_type": "code",
      "metadata": {
        "id": "EM9hezJvxBOP",
        "colab_type": "code",
        "colab": {}
      },
      "source": [
        "#IMAGE NAME MODIFICATION - for label matching \n",
        "\n",
        "image_match={}\n",
        "for l in feat:\n",
        "  temp = l[0]\n",
        "  #print(temp)\n",
        "  temp=temp[-24:-1]\n",
        "  #print(temp)\n",
        "  temp=temp.split('-')\n",
        "  #print(temp)\n",
        "  newtemp=temp[2].split(' ')\n",
        "  #print(newtemp)\n",
        "  newesttemp=newtemp[1].split(':')\n",
        "  #print(newesttemp)\n",
        "  j=int(newesttemp[1])\n",
        "  if(j<=7.5):\n",
        "    final = newtemp[0] + '-' + temp[1] + '-' + temp[0] + ' ' + newesttemp[0] + ':' + '00'\n",
        "  elif(j<=15 or j<=22.5):\n",
        "    final = newtemp[0] + '-' + temp[1] + '-' + temp[0] + ' ' + newesttemp[0] + ':' + '15'\n",
        "  elif(j<=30 or j<=37.5):\n",
        "    final = newtemp[0] + '-' + temp[1] + '-' + temp[0] + ' ' + newesttemp[0] + ':' + '30'\n",
        "  elif(j<=45 or j<=52.5):\n",
        "    final = newtemp[0] + '-' + temp[1] + '-' + temp[0] + ' ' + newesttemp[0] + ':' + '45'\n",
        "  elif(j>52.5):\n",
        "    final = newtemp[0] + '-' + temp[1] + '-' + temp[0] + ' ' + newesttemp[0] + ':' + '00'\n",
        "  t=[]\n",
        "  t.append(final[11:13])\n",
        "  t.append(l[1])\n",
        "  t.append(l[2])\n",
        "  t.append(l[3])\n",
        "  image_match[final]=t\n",
        "\n",
        "  "
      ],
      "execution_count": 0,
      "outputs": []
    },
    {
      "cell_type": "markdown",
      "metadata": {
        "id": "PnLCYKZR-uox",
        "colab_type": "text"
      },
      "source": [
        "WEATHER PARAMETERS "
      ]
    },
    {
      "cell_type": "code",
      "metadata": {
        "id": "_zHTaeG9-wx9",
        "colab_type": "code",
        "colab": {}
      },
      "source": [
        "cred = credentials.Certificate('/content/credentials_weather.json')\n",
        "\n",
        "# The weather data after 1st July \n",
        "# Initialize the app with a service account, granting admin privileges\n",
        "new = firebase_admin.initialize_app(cred, {\n",
        "    'databaseURL': 'https://celestini-bd493.firebaseio.com/'\n",
        "}, name ='w')"
      ],
      "execution_count": 0,
      "outputs": []
    },
    {
      "cell_type": "code",
      "metadata": {
        "id": "NHxLw__S-tL3",
        "colab_type": "code",
        "colab": {}
      },
      "source": [
        "\n",
        "ref = db.reference(app=new)\n",
        "df = ref.get()\n"
      ],
      "execution_count": 0,
      "outputs": []
    },
    {
      "cell_type": "code",
      "metadata": {
        "id": "uGw8Qsn7_D63",
        "colab_type": "code",
        "colab": {}
      },
      "source": [
        "temp_weather = {}\n",
        "\n",
        "for key in df:\n",
        "  if(key[0:10]=='12-11-2019'):\n",
        "    l=[]\n",
        "    l.append(df[key]['main']['humidity'])\n",
        "    l.append(df[key]['main']['pressure'])\n",
        "    l.append(df[key]['main']['temp'])\n",
        "    l.append(df[key]['wind']['deg'])\n",
        "    l.append(df[key]['wind']['speed'])\n",
        "    temp_weather[key]=l\n",
        "      "
      ],
      "execution_count": 0,
      "outputs": []
    },
    {
      "cell_type": "markdown",
      "metadata": {
        "id": "rq9L9vrKnCfP",
        "colab_type": "text"
      },
      "source": [
        "LABELS "
      ]
    },
    {
      "cell_type": "code",
      "metadata": {
        "id": "w0_koQ-OlzWR",
        "colab_type": "code",
        "colab": {}
      },
      "source": [
        "df_ = pd.read_csv('/content/november_wazirpur.csv')\n",
        "data_ = df_.mask(df_.eq('None')).dropna()\n",
        "file_ = data_.to_csv('/content/wazirpur_labels_new.csv')\n",
        "\n",
        "label =[]\n",
        "k=0\n",
        "with open('/content/wazirpur_labels_new.csv') as file:\n",
        "  reader = csv.reader(file, delimiter =',')\n",
        "  for row in reader:\n",
        "    k+=1\n",
        "    if(k>3):\n",
        "      l=[]\n",
        "      l.append(row[1]) #DATE \n",
        "      l.append(row[3]) #PM\n",
        "      label.append(l) "
      ],
      "execution_count": 0,
      "outputs": []
    },
    {
      "cell_type": "code",
      "metadata": {
        "id": "1-mvVrHAn5KQ",
        "colab_type": "code",
        "colab": {}
      },
      "source": [
        "#WEATHER TMP MODIFICATION \n",
        "weather_match={}\n",
        "for i in temp_weather:\n",
        "  temp = i\n",
        "  l=[]\n",
        "  temp=temp[-24:-3]\n",
        "  temp=temp.split('-')\n",
        "  newtemp=temp[2].split(' ')\n",
        "  newesttemp=newtemp[1].split(':')\n",
        "  j=int(newesttemp[1])\n",
        "  if(j<=7.5):\n",
        "    final = temp[0] + '-' + temp[1] + '-' + temp[0] + ' ' + newesttemp[0] + ':' + '00'\n",
        "  elif(j<=15 or j<=22.5):\n",
        "    final = temp[0] + '-' + temp[1] + '-' + newtemp[0] + ' ' + newesttemp[0] + ':' + '15'\n",
        "  elif(j<=30 or j<=37.5):\n",
        "    final = temp[0] + '-' + temp[1] + '-' + newtemp[0] + ' ' + newesttemp[0] + ':' + '30'\n",
        "  elif(j<=45 or j<=52.5):\n",
        "    final = temp[0] + '-' + temp[1] + '-' + newtemp[0] + ' ' + newesttemp[0] + ':' + '45'\n",
        "  elif(j>52.5):\n",
        "    final = temp[0] + '-' + temp[1] + '-' + newtemp[0] + ' ' + newesttemp[0] + ':' + '00'\n",
        "  weather_match[final]=temp_weather[i]\n",
        "  \n",
        "  \n",
        "  "
      ],
      "execution_count": 0,
      "outputs": []
    },
    {
      "cell_type": "code",
      "metadata": {
        "id": "pDkWBKrqCwfF",
        "colab_type": "code",
        "colab": {
          "base_uri": "https://localhost:8080/",
          "height": 51
        },
        "outputId": "9c8b69b3-4b5a-4541-ae46-19c6a98af189"
      },
      "source": [
        "#GETTING THE PREVIOUS LABEL \n",
        "\n",
        "ctr=0\n",
        "for l in label:\n",
        "  ctr+=1\n",
        "  print(l[1])\n",
        "  print(label[ctr-4][1])\n",
        "  break\n",
        "  "
      ],
      "execution_count": 123,
      "outputs": [
        {
          "output_type": "stream",
          "text": [
            "216\n",
            "401\n"
          ],
          "name": "stdout"
        }
      ]
    },
    {
      "cell_type": "code",
      "metadata": {
        "id": "aXcyRUMr5S_K",
        "colab_type": "code",
        "colab": {
          "base_uri": "https://localhost:8080/",
          "height": 86
        },
        "outputId": "35eb7243-f7ac-4fd1-f96c-f88bca3e674f"
      },
      "source": [
        "ctr=0\n",
        "for i in image_match:\n",
        "  for l in label:\n",
        "    if(l[0]==i):\n",
        "      print(l)\n",
        "      print(image_match[i])\n",
        "      ctr+=1\n"
      ],
      "execution_count": 117,
      "outputs": [
        {
          "output_type": "stream",
          "text": [
            "['12-11-2019 07:00', '721']\n",
            "['07', 39.154083251953125, 74.91918491287663, 1]\n",
            "['12-11-2019 08:00', '697']\n",
            "['08', 22.566495895385742, 44.9361855178027, 2]\n"
          ],
          "name": "stdout"
        }
      ]
    },
    {
      "cell_type": "code",
      "metadata": {
        "id": "MjnHhqqd6oNn",
        "colab_type": "code",
        "colab": {
          "base_uri": "https://localhost:8080/",
          "height": 34
        },
        "outputId": "4ed3ba88-39dd-4652-83a6-2bdcfb5cc43f"
      },
      "source": [
        ""
      ],
      "execution_count": 66,
      "outputs": [
        {
          "output_type": "stream",
          "text": [
            "92\n"
          ],
          "name": "stdout"
        }
      ]
    },
    {
      "cell_type": "code",
      "metadata": {
        "id": "mCov4pW46p6z",
        "colab_type": "code",
        "colab": {}
      },
      "source": [
        "for i in image_match:\n",
        "  for l \n"
      ],
      "execution_count": 0,
      "outputs": []
    },
    {
      "cell_type": "code",
      "metadata": {
        "id": "gbm_Wx9L7Ufi",
        "colab_type": "code",
        "colab": {}
      },
      "source": [
        ""
      ],
      "execution_count": 0,
      "outputs": []
    }
  ]
}