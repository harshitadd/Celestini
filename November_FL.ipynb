{
  "nbformat": 4,
  "nbformat_minor": 0,
  "metadata": {
    "colab": {
      "name": "November_FL.ipynb",
      "provenance": [],
      "collapsed_sections": [],
      "include_colab_link": true
    },
    "kernelspec": {
      "name": "python3",
      "display_name": "Python 3"
    },
    "accelerator": "GPU"
  },
  "cells": [
    {
      "cell_type": "markdown",
      "metadata": {
        "id": "view-in-github",
        "colab_type": "text"
      },
      "source": [
        "<a href=\"https://colab.research.google.com/github/harshitadd/Celestini/blob/master/November_FL.ipynb\" target=\"_parent\"><img src=\"https://colab.research.google.com/assets/colab-badge.svg\" alt=\"Open In Colab\"/></a>"
      ]
    },
    {
      "cell_type": "code",
      "metadata": {
        "id": "VD9xtay4v73X",
        "colab_type": "code",
        "colab": {}
      },
      "source": [
        "!pip install firebase-admin "
      ],
      "execution_count": 0,
      "outputs": []
    },
    {
      "cell_type": "code",
      "metadata": {
        "id": "9X8mcdznwMhJ",
        "colab_type": "code",
        "colab": {}
      },
      "source": [
        "import firebase_admin\n",
        "from firebase_admin import credentials, db, storage \n",
        "import cv2 \n",
        "import math \n",
        "import numpy as np\n",
        "import matplotlib.pyplot as plt "
      ],
      "execution_count": 0,
      "outputs": []
    },
    {
      "cell_type": "code",
      "metadata": {
        "id": "sK1RgS9pwXs2",
        "colab_type": "code",
        "colab": {}
      },
      "source": [
        "\n",
        "cred = credentials.Certificate(\"/content/celestinihdr-2-firebase-adminsdk-x7gew-beb69daef0.json\")\n",
        "app = firebase_admin.initialize_app(cred, {\n",
        "    'storageBucket': 'celestinihdr-2.appspot.com',\n",
        "}, name='novemeber')"
      ],
      "execution_count": 0,
      "outputs": []
    },
    {
      "cell_type": "code",
      "metadata": {
        "id": "m6oiq0vT4UMV",
        "colab_type": "code",
        "colab": {}
      },
      "source": [
        "bucket = storage.bucket(app = app)\n",
        "blobs = bucket.list_blobs()\n",
        "for blob in blobs:\n",
        "  print(blob.name)"
      ],
      "execution_count": 0,
      "outputs": []
    },
    {
      "cell_type": "code",
      "metadata": {
        "id": "emOcaaN5woL9",
        "colab_type": "code",
        "colab": {}
      },
      "source": [
        "bucket = storage.bucket(app=app)\n",
        "blobs = bucket.list_blobs()\n",
        "\n",
        "anandvihar_hdr=[]\n",
        "wazirpur_hdr=[]\n",
        "wazirpur_jpeg={}\n",
        "ctr=0\n",
        "for blob in blobs:\n",
        "  if(blob.name[7:13]=='static' and blob.name[14]=='P' and blob.name[27]=='j' and int(blob.name[43:45])<18 and int(blob.name[43:45])>6):\n",
        "    blob.download_to_filename('/content/' + \"wazirpur_jpeg\" + str(blob.name.split('/')[-1])+ '.jpeg')\n",
        "    name = \"wazirpur_jpeg\" + str(blob.name.split('/')[-1])+ '.jpeg' \n",
        "    ctr+=1\n",
        "    print(ctr)\n",
        "    im = cv2.imread(name)\n",
        "    im = cv2.resize(im,(256,256))\n",
        "    wazirpur_jpeg[blob.name]=im\n",
        "  # if(blob.name[7:13]=='static' and blob.name[14]=='P' and blob.name[27]=='h' and int(blob.name[42:44])<18 and int(blob.name[42:44])>6): \n",
        "  #   blob.download_to_filename('/content/' + \"wazirpur_hdr\" + str(blob.name.split('/')[-1])+ '.jpeg')\n",
        "  #   name = \"wazirpur_hdr\" + str(blob.name.split('/')[-1])+ '.jpeg' \n",
        "  #   ctr+=1\n",
        "  #   print(ctr)\n",
        "  #   im = cv2.imread(name)\n",
        "  #   im = cv2.resize(im,(256,256))\n",
        "  #   wazirpur_hdr.append(im)\n",
        "  # if(blob.name[7:13]=='static' and blob.name[14]=='H' and blob.name[21]=='h'):\n",
        "  #    blob.download_to_filename('/content/' + \"anandvihar_hdr\" + str(blob.name.split('/')[-1])+ '.jpeg')\n",
        "  #    name = \"anandvihar_hdr\" + str(blob.name.split('/')[-1])+ '.jpeg' \n",
        "  #    ctr+=1\n",
        "  #    print(ctr)\n",
        "  #    im = cv2.imread(name)\n",
        "  #    im = cv2.resize(im,(256,256))\n",
        "  #    anandvihar_hdr.append(im)\n",
        "     \n",
        "    \n",
        "    "
      ],
      "execution_count": 0,
      "outputs": []
    },
    {
      "cell_type": "code",
      "metadata": {
        "id": "0GNsZQMx5Gbv",
        "colab_type": "code",
        "colab": {
          "base_uri": "https://localhost:8080/",
          "height": 34
        },
        "outputId": "b20a5e93-7402-422e-b199-668970da8ace"
      },
      "source": [
        "#print(len(wazirpur_hdr))\n",
        "print(len(wazirpur_jpeg))\n",
        "#print(len(anandvihar_hdr))"
      ],
      "execution_count": 37,
      "outputs": [
        {
          "output_type": "stream",
          "text": [
            "287\n"
          ],
          "name": "stdout"
        }
      ]
    },
    {
      "cell_type": "markdown",
      "metadata": {
        "id": "eZsL3Yfz-rNU",
        "colab_type": "text"
      },
      "source": [
        "IMAGE PARAMETERS "
      ]
    },
    {
      "cell_type": "code",
      "metadata": {
        "id": "8qNZJ6XF-ZoV",
        "colab_type": "code",
        "colab": {}
      },
      "source": [
        "def trans_deg(im):\n",
        "  B=np.zeros((256,256))\n",
        "  D=np.zeros((256,256))\n",
        "  C=np.zeros((256,256))\n",
        "  # 3rd channel or im[2] has been split as b,g,r \n",
        "\n",
        "  b,g,r = cv2.split(im)\n",
        "\n",
        "  for i in range(b.shape[0]):\n",
        "    for j in range(b.shape[1]):\n",
        "      D[i][j] = min(b[i][j], g[i][j], r[i][j])\n",
        "      B[i][j] = max(b[i][j], g[i][j], r[i][j])\n",
        "      C[i][j] = B[i][j] - D[i][j]\n",
        "\n",
        "  d = np.sum(D)/float(np.size(D))\n",
        "  b = np.sum(B)/float(np.size(B))\n",
        "  c = b-d \n",
        "  A = (0.33)*max(np.ndarray.flatten(B)) + (0.66)*b\n",
        "  \n",
        "  x1=((A - d)/float(A)) \n",
        "  x2=(c/float(A))\n",
        "  u = 10.127489\n",
        "  v= -8.336512\n",
        "  s = 0.13606234\n",
        "  \n",
        "  w = math.exp(-0.5*(u*x1 + v*x2)+s)\n",
        "  \n",
        "  if(w<=0.1):\n",
        "      w=0\n",
        "  elif(w<=0.3):\n",
        "    w=1\n",
        "  elif(w<=0.5):\n",
        "    w=2\n",
        "  elif(w<=0.7):\n",
        "    w=3\n",
        "  elif(w<=0.8):\n",
        "    w=4\n",
        "  elif(w<=0.9):\n",
        "    w=5\n",
        "    \n",
        "  return w"
      ],
      "execution_count": 0,
      "outputs": []
    },
    {
      "cell_type": "code",
      "metadata": {
        "id": "73K_Ywi2-WSk",
        "colab_type": "code",
        "colab": {}
      },
      "source": [
        "def entropy(image):\n",
        "  image = cv2.cvtColor(image, cv2.COLOR_BGR2GRAY)\n",
        "  hist = cv2.calcHist( [image.astype('float32')],\n",
        "              [0], \n",
        "              None,\n",
        "               [256], \n",
        "              [0,256] )\n",
        "  h_norm = 0\n",
        "  h_norm = cv2.normalize(hist, h_norm)\n",
        "  ent = 0\n",
        "  for p in h_norm:\n",
        "    try:\n",
        "      ent += p*math.log(p, 2)\n",
        "    except:\n",
        "      pass\n",
        "    \n",
        "  return (-1 * ent[0])"
      ],
      "execution_count": 0,
      "outputs": []
    },
    {
      "cell_type": "code",
      "metadata": {
        "id": "4nrSX6R89hT4",
        "colab_type": "code",
        "colab": {}
      },
      "source": [
        "def contrast(image):\n",
        "  image = cv2.cvtColor(image, cv2.COLOR_BGR2GRAY)\n",
        "  s = 0\n",
        "  ss = 0\n",
        "  mean = np.mean(image)\n",
        "  x = (-1 * mean * (np.ones(image.shape)))\n",
        "  ss = np.square(np.add(image, x))\n",
        "  cont = np.sqrt(np.sum(ss)/float(image.size))\n",
        "  return cont"
      ],
      "execution_count": 0,
      "outputs": []
    },
    {
      "cell_type": "code",
      "metadata": {
        "id": "oNcZufW2__Ce",
        "colab_type": "code",
        "colab": {
          "base_uri": "https://localhost:8080/",
          "height": 353
        },
        "outputId": "3225ad9b-5be7-448d-d351-ebf1548ccfce"
      },
      "source": [
        "feat=[]\n",
        "for i in wazirpur_jpeg:\n",
        "  feat.append(i[43:45])\n",
        "  feat.append(entropy(im))\n",
        "  feat.append(contrast(im))\n",
        "  feat.append(trans_deg(im))\n",
        "  \n",
        "  break"
      ],
      "execution_count": 47,
      "outputs": [
        {
          "output_type": "error",
          "ename": "TypeError",
          "evalue": "ignored",
          "traceback": [
            "\u001b[0;31m---------------------------------------------------------------------------\u001b[0m",
            "\u001b[0;31mTypeError\u001b[0m                                 Traceback (most recent call last)",
            "\u001b[0;32m<ipython-input-47-4ac2ad44c98b>\u001b[0m in \u001b[0;36m<module>\u001b[0;34m()\u001b[0m\n\u001b[1;32m      2\u001b[0m \u001b[0;32mfor\u001b[0m \u001b[0mi\u001b[0m \u001b[0;32min\u001b[0m \u001b[0mwazirpur_jpeg\u001b[0m\u001b[0;34m:\u001b[0m\u001b[0;34m\u001b[0m\u001b[0;34m\u001b[0m\u001b[0m\n\u001b[1;32m      3\u001b[0m   \u001b[0mfeat\u001b[0m\u001b[0;34m.\u001b[0m\u001b[0mappend\u001b[0m\u001b[0;34m(\u001b[0m\u001b[0mi\u001b[0m\u001b[0;34m[\u001b[0m\u001b[0;36m43\u001b[0m\u001b[0;34m:\u001b[0m\u001b[0;36m45\u001b[0m\u001b[0;34m]\u001b[0m\u001b[0;34m)\u001b[0m\u001b[0;34m\u001b[0m\u001b[0;34m\u001b[0m\u001b[0m\n\u001b[0;32m----> 4\u001b[0;31m   \u001b[0mfeat\u001b[0m\u001b[0;34m.\u001b[0m\u001b[0mappend\u001b[0m\u001b[0;34m(\u001b[0m\u001b[0mentropy\u001b[0m\u001b[0;34m(\u001b[0m\u001b[0mim\u001b[0m\u001b[0;34m)\u001b[0m\u001b[0;34m)\u001b[0m\u001b[0;34m\u001b[0m\u001b[0;34m\u001b[0m\u001b[0m\n\u001b[0m\u001b[1;32m      5\u001b[0m   \u001b[0mfeat\u001b[0m\u001b[0;34m.\u001b[0m\u001b[0mappend\u001b[0m\u001b[0;34m(\u001b[0m\u001b[0mcontrast\u001b[0m\u001b[0;34m(\u001b[0m\u001b[0mim\u001b[0m\u001b[0;34m)\u001b[0m\u001b[0;34m)\u001b[0m\u001b[0;34m\u001b[0m\u001b[0;34m\u001b[0m\u001b[0m\n\u001b[1;32m      6\u001b[0m   \u001b[0mfeat\u001b[0m\u001b[0;34m.\u001b[0m\u001b[0mappend\u001b[0m\u001b[0;34m(\u001b[0m\u001b[0mtrans_deg\u001b[0m\u001b[0;34m(\u001b[0m\u001b[0mim\u001b[0m\u001b[0;34m)\u001b[0m\u001b[0;34m)\u001b[0m\u001b[0;34m\u001b[0m\u001b[0;34m\u001b[0m\u001b[0m\n",
            "\u001b[0;32m<ipython-input-39-22c73c606ab4>\u001b[0m in \u001b[0;36mentropy\u001b[0;34m(image)\u001b[0m\n\u001b[1;32m      1\u001b[0m \u001b[0;32mdef\u001b[0m \u001b[0mentropy\u001b[0m\u001b[0;34m(\u001b[0m\u001b[0mimage\u001b[0m\u001b[0;34m)\u001b[0m\u001b[0;34m:\u001b[0m\u001b[0;34m\u001b[0m\u001b[0;34m\u001b[0m\u001b[0m\n\u001b[0;32m----> 2\u001b[0;31m   \u001b[0mimage\u001b[0m \u001b[0;34m=\u001b[0m \u001b[0mcv2\u001b[0m\u001b[0;34m.\u001b[0m\u001b[0mcvtColor\u001b[0m\u001b[0;34m(\u001b[0m\u001b[0mimage\u001b[0m\u001b[0;34m,\u001b[0m \u001b[0mcv2\u001b[0m\u001b[0;34m.\u001b[0m\u001b[0mCOLOR_BGR2GRAY\u001b[0m\u001b[0;34m)\u001b[0m\u001b[0;34m\u001b[0m\u001b[0;34m\u001b[0m\u001b[0m\n\u001b[0m\u001b[1;32m      3\u001b[0m   hist = cv2.calcHist( [image.astype('float32')],\n\u001b[1;32m      4\u001b[0m               \u001b[0;34m[\u001b[0m\u001b[0;36m0\u001b[0m\u001b[0;34m]\u001b[0m\u001b[0;34m,\u001b[0m\u001b[0;34m\u001b[0m\u001b[0;34m\u001b[0m\u001b[0m\n\u001b[1;32m      5\u001b[0m               \u001b[0;32mNone\u001b[0m\u001b[0;34m,\u001b[0m\u001b[0;34m\u001b[0m\u001b[0;34m\u001b[0m\u001b[0m\n",
            "\u001b[0;31mTypeError\u001b[0m: src is not a numpy array, neither a scalar"
          ]
        }
      ]
    },
    {
      "cell_type": "markdown",
      "metadata": {
        "id": "PnLCYKZR-uox",
        "colab_type": "text"
      },
      "source": [
        "WEATHER PARAMETERS "
      ]
    },
    {
      "cell_type": "code",
      "metadata": {
        "id": "_zHTaeG9-wx9",
        "colab_type": "code",
        "colab": {}
      },
      "source": [
        "cred = credentials.Certificate('/content/credentials_weather.json')\n",
        "\n",
        "##The weather data after 1st July \n",
        "\n",
        "# Initialize the app with a service account, granting admin privileges\n",
        "new = firebase_admin.initialize_app(cred, {\n",
        "    'databaseURL': 'https://celestini-bd493.firebaseio.com/'\n",
        "}, name ='w')"
      ],
      "execution_count": 0,
      "outputs": []
    },
    {
      "cell_type": "code",
      "metadata": {
        "id": "NHxLw__S-tL3",
        "colab_type": "code",
        "colab": {}
      },
      "source": [
        "\n",
        "ref = db.reference(app=new)\n",
        "df = ref.get()\n"
      ],
      "execution_count": 0,
      "outputs": []
    },
    {
      "cell_type": "code",
      "metadata": {
        "id": "uGw8Qsn7_D63",
        "colab_type": "code",
        "colab": {}
      },
      "source": [
        "temp_weather = {}\n",
        "\n",
        "for key in df:\n",
        "  try:\n",
        "    l=[]\n",
        "    l.append(df[key]['main']['humidity'])\n",
        "    l.append(df[key]['main']['pressure'])\n",
        "    l.append(df[key]['main']['temp'])\n",
        "    l.append(df[key]['visibility'])\n",
        "    l.append(df[key]['wind']['deg'])\n",
        "    l.append(df[key]['wind']['speed'])\n",
        "    l.append(df[key]['clouds']['all'])\n",
        "    k = df[key]['weather'][0]['description']\n",
        "    if(k=='haze'):\n",
        "      l.append(0)\n",
        "    elif(k=='mist'):\n",
        "      l.append(1)\n",
        "    elif(k=='drizzle'):\n",
        "      l.append(2)\n",
        "    elif(k=='dust'):\n",
        "      l.append(3)\n",
        "    temp_weather[key]=l\n",
        "  except:\n",
        "    print(key)\n",
        "    "
      ],
      "execution_count": 0,
      "outputs": []
    }
  ]
}