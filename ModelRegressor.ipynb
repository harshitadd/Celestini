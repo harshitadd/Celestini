{
  "nbformat": 4,
  "nbformat_minor": 0,
  "metadata": {
    "colab": {
      "name": "ModelRegressor.ipynb",
      "version": "0.3.2",
      "provenance": [],
      "collapsed_sections": [],
      "include_colab_link": true
    },
    "kernelspec": {
      "name": "python3",
      "display_name": "Python 3"
    },
    "accelerator": "GPU"
  },
  "cells": [
    {
      "cell_type": "markdown",
      "metadata": {
        "id": "view-in-github",
        "colab_type": "text"
      },
      "source": [
        "<a href=\"https://colab.research.google.com/github/harshitadd/Celestini/blob/master/ModelRegressor.ipynb\" target=\"_parent\"><img src=\"https://colab.research.google.com/assets/colab-badge.svg\" alt=\"Open In Colab\"/></a>"
      ]
    },
    {
      "cell_type": "code",
      "metadata": {
        "id": "Y0iXkkesy1DG",
        "colab_type": "code",
        "colab": {}
      },
      "source": [
        "!pip install firebase-admin\n",
        "import firebase_admin\n",
        "import cv2 \n",
        "from firebase_admin import credentials,db \n",
        "from google.colab.patches import cv2_imshow\n",
        "from sklearn.externals import joblib \n",
        "from firebase_admin import storage \n",
        "import pandas as pd \n",
        "import csv \n",
        "import numpy as np\n",
        "import math\n",
        "import matplotlib.pyplot as plt\n",
        "from sklearn.preprocessing import MinMaxScaler\n",
        "from sklearn.model_selection import train_test_split,cross_val_predict, cross_val_score\n",
        "from sklearn.metrics import mean_squared_error\n",
        "from sklearn.linear_model import LinearRegression \n",
        "from sklearn.ensemble import RandomForestRegressor"
      ],
      "execution_count": 0,
      "outputs": []
    },
    {
      "cell_type": "code",
      "metadata": {
        "id": "oqOvmLSwzyQw",
        "colab_type": "code",
        "colab": {}
      },
      "source": [
        "cred = credentials.Certificate(\"credentials.json\")\n",
        "\n",
        "# Initialize the app with a service account, granting admin privileges\n",
        "app = firebase_admin.initialize_app(cred, {\n",
        "    'storageBucket': 'fir-4ca2c.appspot.com',\n",
        "}, name='storage')"
      ],
      "execution_count": 0,
      "outputs": []
    },
    {
      "cell_type": "markdown",
      "metadata": {
        "id": "GIsZJu3Wesj4",
        "colab_type": "text"
      },
      "source": [
        "IMAGE GENERATION "
      ]
    },
    {
      "cell_type": "code",
      "metadata": {
        "id": "nb5tec571jfO",
        "colab_type": "code",
        "colab": {}
      },
      "source": [
        "##GETTING NAMES  -- ##Location - SSCB and DTU : Rotated images  \n",
        "\n",
        "bucket = storage.bucket(app=app)\n",
        "blobs = bucket.list_blobs()\n",
        "\n",
        "#blobs is an interator :google.api_core.page_iterator.HTTPIterator object at 0x7f2cd11c84e0>\n",
        "\n",
        "imglenovo = [] #has all the lenovo images by their name \n",
        "ctr=0\n",
        "mits = set()\n",
        "for blob in blobs:\n",
        "  if blob.name[7:16]==\"lenovoinS\" :\n",
        "    if int(blob.name[-8:-6])<19 and int(blob.name[-8:-6])>5:\n",
        "      blob.download_to_filename('/content/' + \"lenovo\" + str(blob.name.split('/')[-1])+ '.jpeg')\n",
        "      imglenovo.append(\"lenovo\" + str(blob.name.split('/')[-1])+ '.jpeg') \n",
        "      print(\"lenovo\" + str(blob.name.split('/')[-1])+ '.jpeg')\n",
        "     \n",
        "      \n",
        "    "
      ],
      "execution_count": 0,
      "outputs": []
    },
    {
      "cell_type": "code",
      "metadata": {
        "id": "yGsY3dWi6sgE",
        "colab_type": "code",
        "colab": {}
      },
      "source": [
        "##READING THEM \n",
        "\n",
        "dtu=[]\n",
        "sscb=[]\n",
        "for img in imglenovo:\n",
        "  if(img[11:16]>'07-02'):##These indicate the DTU Images - which need to be cropped and rotated \n",
        "    l=[]\n",
        "    l.append(img)\n",
        "    im = cv2.imread(img)\n",
        "    crop = im[700:3150, 0:3120]\n",
        "    crop = cv2.resize(crop, (int(np.shape(im)[1]*0.1), int(np.shape(im)[0]*0.1)))\n",
        "    im = cv2.resize(crop,(256,256))\n",
        "    im = cv2.rotate(im,rotateCode =cv2.ROTATE_90_COUNTERCLOCKWISE)\n",
        "    l.append(im)\n",
        "    dtu.append(l)\n",
        "  else:\n",
        "    l=[]\n",
        "    l.append(img)\n",
        "    im = cv2.imread(img)           ##These indicate the SSCB Images - rotation only \n",
        "    im = cv2.resize(im, (256,256))\n",
        "    im = cv2.rotate(im,rotateCode =cv2.ROTATE_90_CLOCKWISE)\n",
        "    l.append(im)\n",
        "    sscb.append(l)\n",
        "    \n",
        "    \n",
        "    "
      ],
      "execution_count": 0,
      "outputs": []
    },
    {
      "cell_type": "code",
      "metadata": {
        "id": "eitKE9Vs27qu",
        "colab_type": "code",
        "colab": {}
      },
      "source": [
        "## CHECKING BLOCK \n",
        "\n",
        "print(len(dtu))\n",
        "print(len(sscb))\n"
      ],
      "execution_count": 0,
      "outputs": []
    },
    {
      "cell_type": "code",
      "metadata": {
        "id": "2l-4Btpf9Jl-",
        "colab_type": "code",
        "colab": {}
      },
      "source": [
        "##GETTING NAMES - PUNJABI BAGH \n",
        "\n",
        "bucket = storage.bucket(app=app)\n",
        "blobs = bucket.list_blobs()\n",
        "\n",
        "imgpb = [] #has all the minote pictures by their name \n",
        "ctr=0\n",
        "mits = set()\n",
        "for blob in blobs:\n",
        "  if blob.name.split('/')[1]==\"rivers.jpg\" :\n",
        "    if int(blob.name[-8:-6])<19 and int(blob.name[-8:-6])>5:\n",
        "        blob.download_to_filename('/content/' + \"pb\" + str(blob.name.split('/')[-1])+ '.jpeg')\n",
        "        imgpb.append(\"pb\" + str(blob.name.split('/')[-1])+ '.jpeg') \n",
        "        print(\"pb\" + str(blob.name.split('/')[-1])+ '.jpeg')\n",
        "        ctr+=1\n",
        "        "
      ],
      "execution_count": 0,
      "outputs": []
    },
    {
      "cell_type": "code",
      "metadata": {
        "id": "Z5nyBCSA5h3K",
        "colab_type": "code",
        "colab": {}
      },
      "source": [
        "##READING IMAGES - Rotated\n",
        "\n",
        "pb=[]\n",
        "for img in imgpb:\n",
        "  l=[]\n",
        "  l.append(img)\n",
        "  im = cv2.imread(img)\n",
        "  im = cv2.resize(im, (256,256))\n",
        "  im = cv2.rotate(im,rotateCode =cv2.ROTATE_90_CLOCKWISE)\n",
        "  l.append(im)\n",
        "  pb.append(l)\n"
      ],
      "execution_count": 0,
      "outputs": []
    },
    {
      "cell_type": "code",
      "metadata": {
        "id": "3_Vzco4gB2rO",
        "colab_type": "code",
        "colab": {}
      },
      "source": [
        "print(len(pb))\n"
      ],
      "execution_count": 0,
      "outputs": []
    },
    {
      "cell_type": "code",
      "metadata": {
        "id": "w4c6N8N9MMuM",
        "colab_type": "code",
        "colab": {}
      },
      "source": [
        "##GETTING NAMES - Location : DTU AND SHADIPUR \n",
        "\n",
        "bucket = storage.bucket(app=app)\n",
        "blobs = bucket.list_blobs()\n",
        "\n",
        "imgminote = [] #has all the minote pictures by their name \n",
        "ctr=0\n",
        "mits = set()\n",
        "for blob in blobs:\n",
        "  if blob.name[7:16]==\"minoteSSC\" :\n",
        "    if int(blob.name[-8:-6])<19 and int(blob.name[-8:-6])>5:\n",
        "        blob.download_to_filename('/content/' + \"minote\" + str(blob.name.split('/')[-1])+ '.jpeg')\n",
        "        imgminote.append(\"minote\" + str(blob.name.split('/')[-1])+ '.jpeg') \n",
        "        print(\"minote\" + str(blob.name.split('/')[-1])+ '.jpeg')\n",
        "        ctr+=1\n",
        "        \n",
        "      \n"
      ],
      "execution_count": 0,
      "outputs": []
    },
    {
      "cell_type": "code",
      "metadata": {
        "id": "FTDORaRQMyHx",
        "colab_type": "code",
        "colab": {}
      },
      "source": [
        "##READING IMAGES - Location - SSCB and SHADIPUR ; Rotation \n",
        "shadipur = []\n",
        "for img in imgminote : \n",
        "  if(img[11:16]>'07-05'):  ##Shadipur images needed rotating  \n",
        "    l=[]\n",
        "    l.append(img)\n",
        "    im = cv2.imread(img)\n",
        "    im = cv2.resize(im, (256,256))\n",
        "    im = cv2.rotate(im, rotateCode = cv2.ROTATE_90_COUNTERCLOCKWISE)\n",
        "    l.append(im)\n",
        "    shadipur.append(l)\n",
        "  else:\n",
        "    l=[]\n",
        "    l.append(img)\n",
        "    im = cv2.imread(img)               ##SSCB images did not need any rotating \n",
        "    im = cv2.resize(im, (256,256))\n",
        "    l.append(im)\n",
        "    sscb.append(l)\n",
        "    "
      ],
      "execution_count": 0,
      "outputs": []
    },
    {
      "cell_type": "code",
      "metadata": {
        "id": "7BDx9S9AJi3j",
        "colab_type": "code",
        "colab": {}
      },
      "source": [
        "print(len(shadipur))\n",
        "print(len(sscb))"
      ],
      "execution_count": 0,
      "outputs": []
    },
    {
      "cell_type": "code",
      "metadata": {
        "colab_type": "code",
        "id": "iTP-5xJ57ivb",
        "colab": {}
      },
      "source": [
        "'''##GETTING NAMES - ITO  ## DONT RUN RIGHT NOW AS THERE IS NO WEATHER DATA FOR THIS \n",
        "\n",
        "bucket = storage.bucket(app=app)\n",
        "blobs = bucket.list_blobs()\n",
        "\n",
        "imgito = [] #has all the minote pictures by their name \n",
        "ctr=0\n",
        "mits = set()\n",
        "for blob in blobs:\n",
        "  if blob.name.split('/')[1]==\"Lenovo.JPG\" :\n",
        "    if int(blob.name[-8:-6])<19 and int(blob.name[-8:-6])>5:\n",
        "        blob.download_to_filename('/content/' + \"ito\" + str(blob.name.split('/')[-1])+ '.jpeg')\n",
        "        imgito.append(\"ito\" + str(blob.name.split('/')[-1])+ '.jpeg') \n",
        "        print(\"ito\" + str(blob.name.split('/')[-1])+ '.jpeg')\n",
        "        ctr+=1\n",
        "        \n",
        "        \n",
        "'''        "
      ],
      "execution_count": 0,
      "outputs": []
    },
    {
      "cell_type": "code",
      "metadata": {
        "id": "Ts2As6x-Zt2e",
        "colab_type": "code",
        "outputId": "a25bee7c-3b49-498e-a6b3-4d575174bb3e",
        "colab": {
          "base_uri": "https://localhost:8080/",
          "height": 35
        }
      },
      "source": [
        "print(len(imgito))"
      ],
      "execution_count": 0,
      "outputs": [
        {
          "output_type": "stream",
          "text": [
            "499\n"
          ],
          "name": "stdout"
        }
      ]
    },
    {
      "cell_type": "code",
      "metadata": {
        "id": "45qtbzVHV_ha",
        "colab_type": "code",
        "colab": {}
      },
      "source": [
        "##READING BLOCK \n",
        "'''\n",
        "ito=[]\n",
        "\n",
        "for img in imgito:\n",
        "  l=[]\n",
        "  l.append(img)\n",
        "  im = cv2.imread(img)\n",
        "  im = cv2.resize(im,(256,256))\n",
        "  im = cv2.rotate(im, rotateCode = cv2.ROTATE_90_COUNTERCLOCKWISE)\n",
        "  l.append(im)\n",
        "  ito.append(l)\n",
        " '''"
      ],
      "execution_count": 0,
      "outputs": []
    },
    {
      "cell_type": "code",
      "metadata": {
        "id": "GsrIISBbWLxN",
        "colab_type": "code",
        "colab": {}
      },
      "source": [
        "##CHECKING BLOCK \n",
        "\n",
        "# cv2_imshow(ito[0])\n",
        "# cv2_imshow(ito[100])\n"
      ],
      "execution_count": 0,
      "outputs": []
    },
    {
      "cell_type": "code",
      "metadata": {
        "id": "9n-O49FfewpL",
        "colab_type": "code",
        "colab": {}
      },
      "source": [
        "print(np.shape(sscb))    \n",
        "#print(np.shape(ito))      \n",
        "print(np.shape(dtu))  \n",
        "print(np.shape(shadipur))     \n",
        "print(np.shape(pb))     \n",
        "\n",
        "\n"
      ],
      "execution_count": 0,
      "outputs": []
    },
    {
      "cell_type": "markdown",
      "metadata": {
        "id": "ptqlPGjpBGcZ",
        "colab_type": "text"
      },
      "source": [
        "LABEL PROCESSING "
      ]
    },
    {
      "cell_type": "code",
      "metadata": {
        "id": "PAhWOZEkVc90",
        "colab_type": "code",
        "colab": {}
      },
      "source": [
        "##SSCB \n",
        "df = pd.read_csv('/content/sscb_labels.csv')\n",
        "data = df.mask(df.eq('None')).dropna()\n",
        "file = data.to_csv('/content/sscb_labels_new.csv')\n",
        "\n",
        "k=0\n",
        "cpcb=[]\n",
        "\n",
        "with open('/content/sscb_labels_new.csv') as file:\n",
        "  reader = csv.reader(file, delimiter =',')\n",
        "  for row in reader:\n",
        "    k+=1\n",
        "    if(k>3):\n",
        "      l=[]\n",
        "      l.append(row[1]) #DATE \n",
        "      l.append(row[3]) #PM\n",
        "      cpcb.append(l) "
      ],
      "execution_count": 0,
      "outputs": []
    },
    {
      "cell_type": "code",
      "metadata": {
        "id": "21pWKU-OXfJJ",
        "colab_type": "code",
        "colab": {}
      },
      "source": [
        "print(len(cpcb))"
      ],
      "execution_count": 0,
      "outputs": []
    },
    {
      "cell_type": "code",
      "metadata": {
        "id": "8qDb7aGeIVLr",
        "colab_type": "code",
        "colab": {}
      },
      "source": [
        "##TIMESTAMP MODIFICATION \n",
        "m_tmp=[]\n",
        "for tmp in sscb:\n",
        "  l=[]\n",
        "  temp=tmp[0]\n",
        "  temp=temp[-24:-5]\n",
        "  temp=temp.split('-')\n",
        "  newtemp=temp[2].split(' ')\n",
        "  newesttemp=newtemp[1].split(':')\n",
        "  j=int(newesttemp[1])\n",
        "  #print(j)\n",
        "  if(j<=7.5):\n",
        "    final = newtemp[0] + '-' + temp[1] + '-' + temp[0] + ' ' + newesttemp[0] + ':' + '00'\n",
        "  elif(j<=15 or j<=22.5):\n",
        "    final = newtemp[0] + '-' + temp[1] + '-' + temp[0] + ' ' + newesttemp[0] + ':' + '15'\n",
        "  elif(j<=30 or j<=37.5):\n",
        "    final = newtemp[0] + '-' + temp[1] + '-' + temp[0] + ' ' + newesttemp[0] + ':' + '30'\n",
        "  elif(j<=45 or j<=52.5):\n",
        "    final = newtemp[0] + '-' + temp[1] + '-' + temp[0] + ' ' + newesttemp[0] + ':' + '45'\n",
        "  elif(j>52.5):\n",
        "    final = newtemp[0] + '-' + temp[1] + '-' + temp[0] + ' ' + newesttemp[0] + ':' + '00'\n",
        "  l.append(tmp[0])\n",
        "  l.append(final)\n",
        "  l.append(tmp[1])\n",
        "  m_tmp.append(l)  \n",
        "  \n",
        "  "
      ],
      "execution_count": 0,
      "outputs": []
    },
    {
      "cell_type": "code",
      "metadata": {
        "id": "PGu8N8reJBlI",
        "colab_type": "code",
        "colab": {}
      },
      "source": [
        "feat=[]\n",
        "for val in cpcb:\n",
        "  for date in m_tmp:\n",
        "    if(val[0] == date[1]):\n",
        "      print(date[0])\n",
        "      im = date[2]\n",
        "      l=[]\n",
        "      l.append(val[0])\n",
        "      #l.append(transmission(im,retMean=True))\n",
        "      l.append(np.ndarray.flatten(transmission(im,retMean = False)))\n",
        "      l.append(entropy(im))\n",
        "      l.append(contrast(im))\n",
        "      l.append(val[1])\n",
        "      print('   -   -  ' + str(l))\n",
        "      feat.append(l)\n",
        "      \n",
        "   "
      ],
      "execution_count": 0,
      "outputs": []
    },
    {
      "cell_type": "code",
      "metadata": {
        "id": "h_6i2K3ZSXSt",
        "colab_type": "code",
        "colab": {}
      },
      "source": [
        "##DTU\n",
        "\n",
        "df = pd.read_csv('/content/dtu_labels.csv')\n",
        "data = df.mask(df.eq('None')).dropna()\n",
        "file = data.to_csv('/content/dtu_labels_new.csv')\n",
        "\n",
        "k=0\n",
        "cpcb=[]\n",
        "\n",
        "with open('/content/dtu_labels_new.csv') as file:\n",
        "  reader = csv.reader(file, delimiter =',')\n",
        "  for row in reader:\n",
        "    k+=1\n",
        "    if(k>3):\n",
        "      l=[]\n",
        "      l.append(row[1]) #DATE \n",
        "      l.append(row[3]) #PM\n",
        "      cpcb.append(l) "
      ],
      "execution_count": 0,
      "outputs": []
    },
    {
      "cell_type": "code",
      "metadata": {
        "id": "k5qFEFEnzypN",
        "colab_type": "code",
        "colab": {}
      },
      "source": [
        "##TIMESTAMP MODIFICATION \n",
        "\n",
        "\n",
        "m_tmp=[]\n",
        "for tmp in dtu:\n",
        "  l=[]\n",
        "  temp=tmp[0]\n",
        "  temp=temp[-24:-5]\n",
        "  temp=temp.split('-')\n",
        "  newtemp=temp[2].split(' ')\n",
        "  newesttemp=newtemp[1].split(':')\n",
        "  j=int(newesttemp[1])\n",
        "  #print(j)\n",
        "  if(j<=7.5):\n",
        "    final = newtemp[0] + '-' + temp[1] + '-' + temp[0] + ' ' + newesttemp[0] + ':' + '00'\n",
        "  elif(j<=15 or j<=22.5):\n",
        "    final = newtemp[0] + '-' + temp[1] + '-' + temp[0] + ' ' + newesttemp[0] + ':' + '15'\n",
        "  elif(j<=30 or j<=37.5):\n",
        "    final = newtemp[0] + '-' + temp[1] + '-' + temp[0] + ' ' + newesttemp[0] + ':' + '30'\n",
        "  elif(j<=45 or j<=52.5):\n",
        "    final = newtemp[0] + '-' + temp[1] + '-' + temp[0] + ' ' + newesttemp[0] + ':' + '45'\n",
        "  elif(j>52.5):\n",
        "    final = newtemp[0] + '-' + temp[1] + '-' + temp[0] + ' ' + newesttemp[0] + ':' + '00'\n",
        "  l.append(tmp[0])\n",
        "  l.append(final)\n",
        "  l.append(tmp[1])\n",
        "  m_tmp.append(l)  \n",
        "  "
      ],
      "execution_count": 0,
      "outputs": []
    },
    {
      "cell_type": "code",
      "metadata": {
        "id": "K7UAmzex0jTF",
        "colab_type": "code",
        "colab": {}
      },
      "source": [
        "for val in cpcb:\n",
        "  for date in m_tmp:\n",
        "    if(val[0] == date[1]):\n",
        "      print(date[0])\n",
        "      im = date[2]\n",
        "      l=[]\n",
        "      l.append(val[0])\n",
        "      #l.append(transmission(im,retMean=True))\n",
        "      l.append(np.ndarray.flatten(transmission(im,retMean = False)))\n",
        "      l.append(entropy(im))\n",
        "      l.append(contrast(im))\n",
        "      l.append(val[1])\n",
        "      print('   -   -  ' + str(l))\n",
        "      feat.append(l)\n",
        "      "
      ],
      "execution_count": 0,
      "outputs": []
    },
    {
      "cell_type": "code",
      "metadata": {
        "id": "a_Vq-XytSz4q",
        "colab_type": "code",
        "colab": {}
      },
      "source": [
        "## PUNJABI BAGH \n",
        "\n",
        "df = pd.read_csv('/content/pb_labels.csv')\n",
        "data = df.mask(df.eq('None')).dropna()\n",
        "file = data.to_csv('/content/labels_pb_new.csv')\n",
        "\n",
        "\n",
        "k=0\n",
        "cpcb=[]\n",
        "\n",
        "with open('/content/labels_pb_new.csv') as file:\n",
        "  reader = csv.reader(file, delimiter =',')\n",
        "  for row in reader:\n",
        "    k+=1\n",
        "    if(k>3):\n",
        "      l=[]\n",
        "      l.append(row[1]) #DATE \n",
        "      l.append(row[3]) #PM\n",
        "      cpcb.append(l) "
      ],
      "execution_count": 0,
      "outputs": []
    },
    {
      "cell_type": "code",
      "metadata": {
        "id": "y7cLQSiQTIVP",
        "colab_type": "code",
        "colab": {}
      },
      "source": [
        "##TIMESTAMP MODIFICATION \n",
        "\n",
        "m_tmp=[]\n",
        "for tmp in pb:\n",
        "  l=[]\n",
        "  temp=tmp[0]\n",
        "  temp=temp[-24:-5]\n",
        "  temp=temp.split('-')\n",
        "  newtemp=temp[2].split(' ')\n",
        "  newesttemp=newtemp[1].split(':')\n",
        "  j=int(newesttemp[1])\n",
        "  #print(j)\n",
        "  if(j<=7.5):\n",
        "    final = newtemp[0] + '-' + temp[1] + '-' + temp[0] + ' ' + newesttemp[0] + ':' + '00'\n",
        "  elif(j<=15 or j<=22.5):\n",
        "    final = newtemp[0] + '-' + temp[1] + '-' + temp[0] + ' ' + newesttemp[0] + ':' + '15'\n",
        "  elif(j<=30 or j<=37.5):\n",
        "    final = newtemp[0] + '-' + temp[1] + '-' + temp[0] + ' ' + newesttemp[0] + ':' + '30'\n",
        "  elif(j<=45 or j<=52.5):\n",
        "    final = newtemp[0] + '-' + temp[1] + '-' + temp[0] + ' ' + newesttemp[0] + ':' + '45'\n",
        "  elif(j>52.5):\n",
        "    final = newtemp[0] + '-' + temp[1] + '-' + temp[0] + ' ' + newesttemp[0] + ':' + '00'\n",
        "  l.append(tmp[0])\n",
        "  l.append(final)\n",
        "  l.append(tmp[1])\n",
        "  m_tmp.append(l)   "
      ],
      "execution_count": 0,
      "outputs": []
    },
    {
      "cell_type": "code",
      "metadata": {
        "id": "5lC01m43TO6z",
        "colab_type": "code",
        "colab": {}
      },
      "source": [
        "for val in cpcb:\n",
        "  for date in m_tmp:\n",
        "    if(val[0] == date[1]):\n",
        "      print(date[0])\n",
        "      im = date[2]\n",
        "      l=[]\n",
        "      l.append(val[0])\n",
        "      #l.append(transmission(im,retMean=True))\n",
        "      l.append(np.ndarray.flatten(transmission(im,retMean = False)))\n",
        "      l.append(entropy(im))\n",
        "      l.append(contrast(im))\n",
        "      l.append(val[1])\n",
        "      print('   -   -  ' + str(l))\n",
        "      feat.append(l)"
      ],
      "execution_count": 0,
      "outputs": []
    },
    {
      "cell_type": "code",
      "metadata": {
        "id": "GS5SblBb-2QT",
        "colab_type": "code",
        "colab": {}
      },
      "source": [
        "print(len(feat))"
      ],
      "execution_count": 0,
      "outputs": []
    },
    {
      "cell_type": "code",
      "metadata": {
        "id": "OzS07r9ITQyy",
        "colab_type": "code",
        "colab": {}
      },
      "source": [
        "## ITO \n",
        "'''df_ = pd.read_csv('/content/ito_labels.csv')\n",
        "data_ = df_.mask(df_.eq('None')).dropna()\n",
        "file_ = data_.to_csv('/content/ito_labels_new.csv')\n",
        "\n",
        "\n",
        "k=0\n",
        "cpcb=[]\n",
        "\n",
        "with open('/content/ito_labels_new.csv') as file:\n",
        "  reader = csv.reader(file, delimiter =',')\n",
        "  for row in reader:\n",
        "    k+=1\n",
        "    if(k>3):\n",
        "      l=[]\n",
        "      l.append(row[1]) #DATE \n",
        "      l.append(row[3]) #PM\n",
        "      cpcb.append(l) '''"
      ],
      "execution_count": 0,
      "outputs": []
    },
    {
      "cell_type": "code",
      "metadata": {
        "id": "nP3rFX_CUAAC",
        "colab_type": "code",
        "colab": {}
      },
      "source": [
        "##TIMESTAMP MODIFICATION \n",
        "'''m_tmp=[]\n",
        "for tmp in ito:\n",
        "  l=[]\n",
        "  temp=tmp[0]\n",
        "  temp=temp[-24:-5]\n",
        "  temp=temp.split('-')\n",
        "  newtemp=temp[2].split(' ')\n",
        "  newesttemp=newtemp[1].split(':')\n",
        "  j=int(newesttemp[1])\n",
        "  #print(j)\n",
        "  if(j<=7.5):\n",
        "    final = newtemp[0] + '-' + temp[1] + '-' + temp[0] + ' ' + newesttemp[0] + ':' + '00'\n",
        "  elif(j<=15 or j<=22.5):\n",
        "    final = newtemp[0] + '-' + temp[1] + '-' + temp[0] + ' ' + newesttemp[0] + ':' + '15'\n",
        "  elif(j<=30 or j<=37.5):\n",
        "    final = newtemp[0] + '-' + temp[1] + '-' + temp[0] + ' ' + newesttemp[0] + ':' + '30'\n",
        "  elif(j<=45 or j<=52.5):\n",
        "    final = newtemp[0] + '-' + temp[1] + '-' + temp[0] + ' ' + newesttemp[0] + ':' + '45'\n",
        "  elif(j>52.5):\n",
        "    final = newtemp[0] + '-' + temp[1] + '-' + temp[0] + ' ' + newesttemp[0] + ':' + '00'\n",
        "  l.append(tmp[0])\n",
        "  l.append(final)\n",
        "  l.append(tmp[1])\n",
        "  m_tmp.append(l) '''"
      ],
      "execution_count": 0,
      "outputs": []
    },
    {
      "cell_type": "code",
      "metadata": {
        "id": "Ys06d0qgUHM6",
        "colab_type": "code",
        "colab": {}
      },
      "source": [
        "'''for val in cpcb:\n",
        "  for date in m_tmp:\n",
        "    if(val[0] == date[1]):\n",
        "      print(date[0])\n",
        "      im = date[2]\n",
        "      l=[]\n",
        "      l.append(val[0])\n",
        "      #l.append(transmission(im,retMean=True))\n",
        "      l.append(np.ndarray.flatten(transmission(im,retMean = False)))\n",
        "      l.append(entropy(im))\n",
        "      l.append(contrast(im))\n",
        "      l.append(val[1])\n",
        "      print('   -   -  ' + str(l))\n",
        "      feat.append(l)'''"
      ],
      "execution_count": 0,
      "outputs": []
    },
    {
      "cell_type": "code",
      "metadata": {
        "id": "voxd0MAKnfXz",
        "colab_type": "code",
        "colab": {}
      },
      "source": [
        "print(len(feat))"
      ],
      "execution_count": 0,
      "outputs": []
    },
    {
      "cell_type": "code",
      "metadata": {
        "id": "ZwnLQHaiUJR-",
        "colab_type": "code",
        "colab": {}
      },
      "source": [
        "## SHADIPUR \n",
        "\n",
        "df_ = pd.read_csv('/content/shadipur_labels.csv')\n",
        "data_ = df_.mask(df_.eq('None')).dropna()\n",
        "file_ = data_.to_csv('/content/shadipur_labels_new.csv')\n",
        "\n",
        "\n",
        "k=0\n",
        "cpcb=[]\n",
        "\n",
        "with open('/content/shadipur_labels_new.csv') as file:\n",
        "  reader = csv.reader(file, delimiter =',')\n",
        "  for row in reader:\n",
        "    k+=1\n",
        "    if(k>3):\n",
        "      l=[]\n",
        "      l.append(row[1]) #DATE \n",
        "      l.append(row[3]) #PM\n",
        "      cpcb.append(l) "
      ],
      "execution_count": 0,
      "outputs": []
    },
    {
      "cell_type": "code",
      "metadata": {
        "id": "bMjYmfQOniXD",
        "colab_type": "code",
        "colab": {}
      },
      "source": [
        "print(len(cpcb))"
      ],
      "execution_count": 0,
      "outputs": []
    },
    {
      "cell_type": "code",
      "metadata": {
        "id": "vtv6OHZ0UYhU",
        "colab_type": "code",
        "colab": {}
      },
      "source": [
        "##TIMESTAMP MODIFICATION \n",
        "m_tmp=[]\n",
        "for tmp in shadipur:\n",
        "  l=[]\n",
        "  temp=tmp[0]\n",
        "  temp=temp[-24:-5]\n",
        "  temp=temp.split('-')\n",
        "  newtemp=temp[2].split(' ')\n",
        "  newesttemp=newtemp[1].split(':')\n",
        "  j=int(newesttemp[1])\n",
        "  #print(j)\n",
        "  if(j<=7.5):\n",
        "    final = newtemp[0] + '-' + temp[1] + '-' + temp[0] + ' ' + newesttemp[0] + ':' + '00'\n",
        "  elif(j<=15 or j<=22.5):\n",
        "    final = newtemp[0] + '-' + temp[1] + '-' + temp[0] + ' ' + newesttemp[0] + ':' + '15'\n",
        "  elif(j<=30 or j<=37.5):\n",
        "    final = newtemp[0] + '-' + temp[1] + '-' + temp[0] + ' ' + newesttemp[0] + ':' + '30'\n",
        "  elif(j<=45 or j<=52.5):\n",
        "    final = newtemp[0] + '-' + temp[1] + '-' + temp[0] + ' ' + newesttemp[0] + ':' + '45'\n",
        "  elif(j>52.5):\n",
        "    final = newtemp[0] + '-' + temp[1] + '-' + temp[0] + ' ' + newesttemp[0] + ':' + '00'\n",
        "  l.append(tmp[0])\n",
        "  l.append(final)\n",
        "  l.append(tmp[1])\n",
        "  m_tmp.append(l) \n",
        " "
      ],
      "execution_count": 0,
      "outputs": []
    },
    {
      "cell_type": "code",
      "metadata": {
        "id": "W-AXAPbGUdAQ",
        "colab_type": "code",
        "colab": {}
      },
      "source": [
        "\n",
        "for val in cpcb:\n",
        "  for date in m_tmp:\n",
        "    if(val[0] == date[1]):\n",
        "      print(date[0])\n",
        "      im = date[2]\n",
        "      l=[]\n",
        "      l.append(val[0])\n",
        "      #l.append(transmission(im,retMean=True))\n",
        "      l.append(np.ndarray.flatten(transmission(im,retMean = False)))\n",
        "      l.append(entropy(im))\n",
        "      l.append(contrast(im))\n",
        "      l.append(val[1])\n",
        "      print('   -   -  ' + str(l))\n",
        "      feat.append(l)"
      ],
      "execution_count": 0,
      "outputs": []
    },
    {
      "cell_type": "code",
      "metadata": {
        "id": "9j_bFL09om14",
        "colab_type": "code",
        "colab": {}
      },
      "source": [
        "print(len(feat))"
      ],
      "execution_count": 0,
      "outputs": []
    },
    {
      "cell_type": "markdown",
      "metadata": {
        "id": "skpHTzhPI9KM",
        "colab_type": "text"
      },
      "source": [
        "WEATHER DATA "
      ]
    },
    {
      "cell_type": "code",
      "metadata": {
        "id": "qNPdWBM9I88j",
        "colab_type": "code",
        "colab": {}
      },
      "source": [
        "cred = credentials.Certificate('credentials.json')\n",
        "\n",
        "# Initialize the app with a service account, granting admin privileges\n",
        "firebase_admin.initialize_app(cred, {\n",
        "    'databaseURL': 'https://fir-4ca2c.firebaseio.com/'\n",
        "})"
      ],
      "execution_count": 0,
      "outputs": []
    },
    {
      "cell_type": "code",
      "metadata": {
        "id": "SjDgCilSJhrT",
        "colab_type": "code",
        "colab": {}
      },
      "source": [
        "    \n",
        "ref = db.reference()\n",
        "df = ref.get()\n"
      ],
      "execution_count": 0,
      "outputs": []
    },
    {
      "cell_type": "code",
      "metadata": {
        "id": "prjXlrRyJllI",
        "colab_type": "code",
        "colab": {}
      },
      "source": [
        "temp_weather = {}\n",
        "\n",
        "for key in df:\n",
        "  try:\n",
        "    l=[]\n",
        "    l.append(df[key]['main']['humidity'])\n",
        "    l.append(df[key]['main']['pressure'])\n",
        "    l.append(df[key]['main']['temp'])\n",
        "    l.append(df[key]['visibility'])\n",
        "    l.append(df[key]['wind']['deg'])\n",
        "    l.append(df[key]['wind']['speed'])\n",
        "    l.append(df[key]['clouds']['all'])\n",
        "    k = df[key]['weather'][0]['description']\n",
        "    if(k=='haze'):\n",
        "      l.append(0)\n",
        "    elif(k=='mist'):\n",
        "      l.append(1)\n",
        "    elif(k=='drizzle'):\n",
        "      l.append(2)\n",
        "    elif(k=='dust'):\n",
        "      l.append(3)\n",
        "    temp_weather[key]=l\n",
        "  except:\n",
        "    print(key)"
      ],
      "execution_count": 0,
      "outputs": []
    },
    {
      "cell_type": "code",
      "metadata": {
        "id": "5ZtEqU5dJqT9",
        "colab_type": "code",
        "colab": {}
      },
      "source": [
        "weather={}\n",
        "for key in temp_weather:\n",
        "  temp=key.split('-')\n",
        "  newtemp=temp[2].split(' ')\n",
        "  newesttemp=newtemp[1].split(':')\n",
        "  j=int(newesttemp[1])\n",
        "  if(j<=7.5):\n",
        "    final = temp[0] + '-' + temp[1] + '-' + newtemp[0] + ' ' + newesttemp[0] + ':' + '00'\n",
        "  elif(j<=15 or j<=22.5):\n",
        "    final = temp[0] + '-' + temp[1] + '-' + newtemp[0] + ' ' + newesttemp[0] + ':' + '15'\n",
        "  elif(j<=30 or j<=37.5):\n",
        "    final = temp[0] + '-' + temp[1] + '-' + newtemp[0] + ' ' + newesttemp[0] + ':' + '30'\n",
        "  elif(j<=45 or j<=52.5):\n",
        "    final = temp[0] + '-' + temp[1] + '-' + newtemp[0] + ' ' + newesttemp[0] + ':' + '45'\n",
        "  elif(j>52.5):\n",
        "    final = temp[0] + '-' + temp[1] + '-' + newtemp[0] + ' ' + newesttemp[0] + ':' + '00'\n",
        "  if(final not in weather):\n",
        "    weather[final]=temp_weather[key]\n",
        "  \n",
        "  "
      ],
      "execution_count": 0,
      "outputs": []
    },
    {
      "cell_type": "code",
      "metadata": {
        "id": "lojx00mxzcgp",
        "colab_type": "code",
        "colab": {}
      },
      "source": [
        "hours=[]\n",
        "hum=[]\n",
        "pressure=[]\n",
        "temp=[]\n",
        "vis=[]\n",
        "deg=[]\n",
        "speed=[]\n",
        "cc=[]\n",
        "desc=[]\n",
        "trans=[]\n",
        "cont=[]\n",
        "ent=[]\n",
        "pm=[]\n",
        "\n",
        "\n",
        "for e in feat:\n",
        "  #print(e[0])\n",
        "  hours.append(float(e[0][-5:-3]))\n",
        "  pm.append(float(e[4]))\n",
        "  trans.append(e[1])\n",
        "  ent.append(float(e[2]))\n",
        "  cont.append(float(e[3]))\n",
        "  for w in weather:                                      ##Matching weather data \n",
        "    if(e[0] == w):\n",
        "      hum.append(weather[w][0])\n",
        "      pressure.append(weather[w][1])\n",
        "      temp.append(weather[w][2]) \n",
        "      vis.append(weather[w][3])\n",
        "      deg.append(weather[w][4])\n",
        "      speed.append(weather[w][5])\n",
        "      cc.append(weather[w][6])\n",
        "      try:\n",
        "        desc.append(weather[w][7])\n",
        "      except:\n",
        "        #print(e[0])\n",
        "        desc.append(0)\n",
        "    \n",
        " \n"
      ],
      "execution_count": 0,
      "outputs": []
    },
    {
      "cell_type": "code",
      "metadata": {
        "id": "MgPGV6bqLCZt",
        "colab_type": "code",
        "colab": {}
      },
      "source": [
        "##Adding ITO's data "
      ],
      "execution_count": 0,
      "outputs": []
    },
    {
      "cell_type": "code",
      "metadata": {
        "id": "ho2dMxcF0kEr",
        "colab_type": "code",
        "colab": {}
      },
      "source": [
        "print(len(hours))\n",
        "print(hours)\n",
        "print(len(trans))\n",
        "# print(trans)\n",
        "print(len(cont))\n",
        "print(cont)\n",
        "print(len(ent))\n",
        "print(ent)\n",
        "print(len(pm))\n",
        "print(pm)\n",
        "print(len(hum))\n",
        "print(hum)\n",
        "print(len(pressure))\n",
        "print(pressure)\n",
        "print(len(temp))\n",
        "print(temp)\n",
        "print(len(vis))\n",
        "print(vis)\n",
        "print(len(deg))\n",
        "print(deg)\n",
        "print(len(speed))\n",
        "print(speed)\n",
        "print(len(cc))\n",
        "print(cc)\n",
        "print(len(desc))\n",
        "print(desc)\n",
        "\n",
        "\n",
        "##with ITO - 2752 "
      ],
      "execution_count": 0,
      "outputs": []
    },
    {
      "cell_type": "code",
      "metadata": {
        "id": "oboQZqnmAATV",
        "colab_type": "code",
        "colab": {}
      },
      "source": [
        "final_shape=len(hours)\n",
        "\n",
        "#FEATURES \n",
        "\n",
        "hours = np.reshape(hours,(final_shape,1))\n",
        "cont = np.reshape(cont,(final_shape,1))\n",
        "ent = np.reshape(ent,(final_shape,1))\n",
        "hum = np.reshape(hum,(final_shape,1))\n",
        "pressure = np.reshape(pressure,(final_shape,1))\n",
        "temp = np.reshape(temp,(final_shape,1))\n",
        "vis = np.reshape(vis,(final_shape,1))\n",
        "deg = np.reshape(deg,(final_shape,1))\n",
        "speed = np.reshape(speed,(final_shape,1))\n",
        "cc = np.reshape(cc,(final_shape,1))\n",
        "desc = np.reshape(desc,(final_shape,1))\n",
        "\n",
        "#LABEL\n",
        "pm = np.reshape(pm,(final_shape,1))\n",
        "\n",
        "s1 = MinMaxScaler()\n",
        "hours = s1.fit_transform(hours)\n",
        "\n",
        "s2 = MinMaxScaler()\n",
        "cont = s2.fit_transform(cont)\n",
        "\n",
        "s3 = MinMaxScaler()\n",
        "ent = s3.fit_transform(ent)\n",
        "\n",
        "s4 = MinMaxScaler()\n",
        "hum = s4.fit_transform(hum)\n",
        "\n",
        "s5 = MinMaxScaler()\n",
        "pressure = s5.fit_transform(pressure)\n",
        "\n",
        "s6 = MinMaxScaler()\n",
        "temp = s6.fit_transform(temp)\n",
        "\n",
        "s7 = MinMaxScaler()\n",
        "vis = s7.fit_transform(vis)\n",
        "\n",
        "s8 = MinMaxScaler()\n",
        "deg = s8.fit_transform(deg)\n",
        "\n",
        "s9 = MinMaxScaler()\n",
        "speed = s9.fit_transform(speed)\n",
        "\n",
        "s10 = MinMaxScaler()\n",
        "cc = s10.fit_transform(cc)\n",
        "\n",
        "s11 = MinMaxScaler()\n",
        "des = s11.fit_transform(desc)\n",
        "\n",
        "\n",
        "joblib.dump(s1,'S1.pkl')\n",
        "joblib.dump(s2,'S2.pkl')\n",
        "joblib.dump(s3,'S3.pkl')\n",
        "joblib.dump(s4,'S4.pkl')\n",
        "joblib.dump(s5,'S5.pkl')\n",
        "joblib.dump(s6,'S6.pkl')\n",
        "joblib.dump(s7,'S7.pkl')\n",
        "joblib.dump(s8,'S8.pkl')\n",
        "joblib.dump(s9,'S9.pkl')\n",
        "joblib.dump(s10,'S10.pkl')\n",
        "joblib.dump(s11,'S11.pkl')\n",
        "\n",
        "features = np.hstack((hours, cont, ent, hum, temp, vis, deg, speed,cc, desc,pressure, trans))\n",
        "\n",
        "print(features[5])"
      ],
      "execution_count": 0,
      "outputs": []
    },
    {
      "cell_type": "code",
      "metadata": {
        "id": "ZQBjx8fZugBe",
        "colab_type": "code",
        "colab": {}
      },
      "source": [
        "print(s1)"
      ],
      "execution_count": 0,
      "outputs": []
    },
    {
      "cell_type": "code",
      "metadata": {
        "id": "U43D3JiECfXT",
        "colab_type": "code",
        "colab": {}
      },
      "source": [
        "lineareg = LinearRegression(normalize =False)\n",
        "cross = cross_val_score(lineareg, features, pm, scoring ='neg_mean_squared_error',cv=3)\n",
        "x_train, x_test, y_train, y_test = train_test_split(features, pm, test_size =0.2, random_state =42)\n",
        "\n",
        "lineareg.fit(x_train, y_train)\n",
        "\n",
        "pred = lineareg.predict(x_test)\n",
        "\n",
        "plt.plot(pred)\n",
        "plt.plot(y_test)\n",
        "\n",
        "print(mean_squared_error(pred, y_test)**0.5)\n",
        "\n",
        "\n",
        "#(500 IMAGES LESS THAN WITH THE PREVIOUS REGRESSOR !!!!! )\n"
      ],
      "execution_count": 0,
      "outputs": []
    },
    {
      "cell_type": "code",
      "metadata": {
        "id": "MbRzic2oEa88",
        "colab_type": "code",
        "colab": {}
      },
      "source": [
        "joblib.dump(lineareg,'AQImodelLinear.pkl')\n",
        "\n"
      ],
      "execution_count": 0,
      "outputs": []
    },
    {
      "cell_type": "code",
      "metadata": {
        "id": "H_K8d837DeMO",
        "colab_type": "code",
        "colab": {}
      },
      "source": [
        "print(((-1)*cross)**0.5)"
      ],
      "execution_count": 0,
      "outputs": []
    },
    {
      "cell_type": "code",
      "metadata": {
        "id": "6PIOW4xFDi3g",
        "colab_type": "code",
        "colab": {}
      },
      "source": [
        "d=[]\n",
        "for i in range(0,len(pred)):\n",
        "  print(str(y_test[i]) +'\\t'+ str(pred[i]))\n",
        "  k=y_test[i]-pred[i]\n",
        "  if(k<=20 and k>=-20):\n",
        "    d.append(k)\n"
      ],
      "execution_count": 0,
      "outputs": []
    },
    {
      "cell_type": "code",
      "metadata": {
        "id": "5i4VCLdGd0Rq",
        "colab_type": "code",
        "colab": {}
      },
      "source": [
        "plt.plot(d)"
      ],
      "execution_count": 0,
      "outputs": []
    },
    {
      "cell_type": "code",
      "metadata": {
        "id": "a5ZyaLqBDsB7",
        "colab_type": "code",
        "colab": {}
      },
      "source": [
        "reg = RandomForestRegressor(max_depth=3) \n",
        "cross = cross_val_score(reg, features, pm, scoring ='neg_mean_squared_error',cv=3)\n",
        "x_train, x_test, y_train, y_test = train_test_split(features, pm, test_size =0.2, random_state =42)\n",
        "\n",
        "reg.fit(x_train, y_train)\n",
        "\n",
        "pred = reg.predict(x_test)\n",
        "\n",
        "plt.plot(pred)\n",
        "plt.plot(y_test)\n",
        "\n",
        "print(mean_squared_error(pred, y_test)**0.5)\n"
      ],
      "execution_count": 0,
      "outputs": []
    },
    {
      "cell_type": "code",
      "metadata": {
        "id": "Gof3qo-0I8RY",
        "colab_type": "code",
        "colab": {}
      },
      "source": [
        "print(((-1)*cross)**0.5)"
      ],
      "execution_count": 0,
      "outputs": []
    },
    {
      "cell_type": "code",
      "metadata": {
        "id": "8zr2URGPKjfT",
        "colab_type": "code",
        "colab": {}
      },
      "source": [
        "\n",
        "for i in range(0,len(pred)):\n",
        "  print(str(y_test[i]) +'\\t'+ str(pred[i]))\n",
        "  \n",
        "  "
      ],
      "execution_count": 0,
      "outputs": []
    },
    {
      "cell_type": "code",
      "metadata": {
        "id": "UAXvCI8ipRwm",
        "colab_type": "code",
        "colab": {}
      },
      "source": [
        "def transmission(img, lt = 230, retMean = False):\n",
        "  ker = np.ones((3, 3))/9.0\n",
        "  imgrgb = cv2.cvtColor(img, cv2.COLOR_BGR2RGB)\n",
        "  b, g, r = cv2.split(img)\n",
        "  hsv = cv2.cvtColor(imgrgb, cv2.COLOR_RGB2HSV)\n",
        "  _, _, v = cv2.split(hsv)\n",
        "  v_blur = cv2.filter2D(v, -1, ker)\n",
        "  _,building_mask = cv2.threshold(v_blur, lt, 255, cv2.THRESH_BINARY)\n",
        "  sky = cv2.bitwise_and(imgrgb, imgrgb, mask = building_mask)\n",
        "  sky_mask = cv2.bitwise_not(building_mask, building_mask.copy())\n",
        "  building = cv2.bitwise_and(imgrgb, imgrgb, mask = sky_mask)\n",
        " \n",
        "  al = max(v_blur.flatten())\n",
        "  #Airlight Found. Now calculate Transmission Map\n",
        "  img_norm = img/float(al)\n",
        "  b, g, r = cv2.split(img_norm)\n",
        "  kernel = np.ones((3,3),np.uint8)\n",
        "  im_new = np.zeros((img.shape[0], img.shape[1]))\n",
        "  for i in range(img.shape[0]):\n",
        "    for j in range(img.shape[1]):\n",
        "      im_new[i][j] = min(b[i][j], g[i][j], r[i][j])\n",
        "  dcp = cv2.erode(im_new, kernel, iterations = 1)\n",
        "  #ax[3].imshow(im_new, cmap = 'gray')\n",
        "  #ax[4].imshow(dcp, cmap = 'gray')\n",
        "  tr = np.ones((dcp.shape[0], dcp.shape[1]))\n",
        "  for i in range(dcp.shape[0]):\n",
        "    for j in range(dcp.shape[1]):\n",
        "      tr[i][j] = 1 - dcp[i][j]\n",
        "  #ax[1].imshow(tr, cmap = 'gray')\n",
        "  if retMean == False:\n",
        "    return tr\n",
        "  elif retMean == True:\n",
        "    return np.mean(tr)"
      ],
      "execution_count": 0,
      "outputs": []
    },
    {
      "cell_type": "code",
      "metadata": {
        "id": "0u8yXSvapSPG",
        "colab_type": "code",
        "colab": {}
      },
      "source": [
        "def entropy(image):\n",
        "  image = cv2.cvtColor(image, cv2.COLOR_BGR2GRAY)\n",
        "  hist = cv2.calcHist( [image.astype('float32')],\n",
        "              [0], \n",
        "              None,\n",
        "               [256], \n",
        "              [0,256] )\n",
        "  h_norm = 0\n",
        "  h_norm = cv2.normalize(hist, h_norm)\n",
        "  ent = 0\n",
        "  for p in h_norm:\n",
        "    try:\n",
        "      ent += p*math.log(p, 2)\n",
        "    except:\n",
        "      pass\n",
        "    \n",
        "  return (-1 * ent[0])"
      ],
      "execution_count": 0,
      "outputs": []
    },
    {
      "cell_type": "code",
      "metadata": {
        "id": "HB5IbHV9pUhK",
        "colab_type": "code",
        "colab": {}
      },
      "source": [
        "def contrast(image):\n",
        "  image = cv2.cvtColor(image, cv2.COLOR_BGR2GRAY)\n",
        "  s = 0\n",
        "  ss = 0\n",
        "  mean = np.mean(image)\n",
        "  x = (-1 * mean * (np.ones(image.shape)))\n",
        "  ss = np.square(np.add(image, x))\n",
        "  cont = np.sqrt(np.sum(ss)/float(image.size))\n",
        "  return cont"
      ],
      "execution_count": 0,
      "outputs": []
    },
    {
      "cell_type": "code",
      "metadata": {
        "id": "8LfQYWPVpWhG",
        "colab_type": "code",
        "outputId": "4feb4e99-3714-40f6-da00-0202c4a0d2ea",
        "colab": {
          "base_uri": "https://localhost:8080/",
          "height": 107
        }
      },
      "source": [
        "from sklearn.ensemble import GradientBoostingRegressor\n",
        "\n",
        "gbrt = GradientBoostingRegressor(max_depth=2,n_estimators=120)\n",
        "\n",
        "cross = cross_val_score(gbrt, features, pm, scoring ='neg_mean_squared_error',cv=3)\n",
        "\n",
        "x_train, x_test, y_train, y_test = train_test_split(features, pm, test_size =0.2, random_state =42)\n",
        "\n",
        "gbrt.fit(x_train, y_train)\n",
        "\n",
        "y_pred = gbrt.predict(x_test)\n",
        "\n",
        "errors = [mean_squared_error(y_val, y_pred)\n",
        "for y_pred in gbrt.staged_predict(X_val)]\n",
        "\n",
        "bst_n_estimators = np.argmin(errors)\n",
        "\n",
        "gbrt_best = GradientBoostingRegressor(max_depth=2,n_estimators=bst_n_estimators)\n",
        "gbrt_best.fit(x_train, y_train) \n"
      ],
      "execution_count": 0,
      "outputs": [
        {
          "output_type": "stream",
          "text": [
            "/usr/local/lib/python3.6/dist-packages/sklearn/ensemble/gradient_boosting.py:1450: DataConversionWarning: A column-vector y was passed when a 1d array was expected. Please change the shape of y to (n_samples, ), for example using ravel().\n",
            "  y = column_or_1d(y, warn=True)\n",
            "/usr/local/lib/python3.6/dist-packages/sklearn/ensemble/gradient_boosting.py:1450: DataConversionWarning: A column-vector y was passed when a 1d array was expected. Please change the shape of y to (n_samples, ), for example using ravel().\n",
            "  y = column_or_1d(y, warn=True)\n"
          ],
          "name": "stderr"
        }
      ]
    },
    {
      "cell_type": "code",
      "metadata": {
        "id": "_5cNHBH_cWDQ",
        "colab_type": "code",
        "colab": {}
      },
      "source": [
        "print((cross*(-1))**0.5)"
      ],
      "execution_count": 0,
      "outputs": []
    },
    {
      "cell_type": "code",
      "metadata": {
        "id": "GxqXmou-bIAt",
        "colab_type": "code",
        "colab": {}
      },
      "source": [
        "pred = gbrt_best.predict(x_test)\n",
        "\n",
        "plt.plot(pred)\n",
        "plt.plot(y_test)\n",
        "\n",
        "print(mean_squared_error(pred, y_test)**0.5)"
      ],
      "execution_count": 0,
      "outputs": []
    },
    {
      "cell_type": "code",
      "metadata": {
        "id": "4vwWL2QIb6Kr",
        "colab_type": "code",
        "colab": {}
      },
      "source": [
        "pred = reg.predict(x_test)\n",
        "\n",
        "plt.plot(pred)\n",
        "plt.plot(y_test)\n",
        "\n",
        "print(mean_squared_error(pred, y_test)**0.5)"
      ],
      "execution_count": 0,
      "outputs": []
    },
    {
      "cell_type": "code",
      "metadata": {
        "id": "wMxE60xucMlv",
        "colab_type": "code",
        "colab": {}
      },
      "source": [
        "print(((-1)*cross)**0.5)"
      ],
      "execution_count": 0,
      "outputs": []
    }
  ]
}