{
  "nbformat": 4,
  "nbformat_minor": 0,
  "metadata": {
    "colab": {
      "name": "Regressor(LDR).ipynb",
      "version": "0.3.2",
      "provenance": [],
      "include_colab_link": true
    },
    "kernelspec": {
      "name": "python3",
      "display_name": "Python 3"
    },
    "accelerator": "GPU"
  },
  "cells": [
    {
      "cell_type": "markdown",
      "metadata": {
        "id": "view-in-github",
        "colab_type": "text"
      },
      "source": [
        "<a href=\"https://colab.research.google.com/github/harshitadd/Celestini/blob/master/Regressor(LDR).ipynb\" target=\"_parent\"><img src=\"https://colab.research.google.com/assets/colab-badge.svg\" alt=\"Open In Colab\"/></a>"
      ]
    },
    {
      "cell_type": "code",
      "metadata": {
        "id": "2IC6gSiYzA4S",
        "colab_type": "code",
        "colab": {}
      },
      "source": [
        "#!pip install firebase-admin\n",
        "import firebase_admin\n",
        "import cv2 \n",
        "import numpy as np \n",
        "from google.colab.patches import cv2_imshow"
      ],
      "execution_count": 0,
      "outputs": []
    },
    {
      "cell_type": "code",
      "metadata": {
        "id": "1PGUsqHszlIg",
        "colab_type": "code",
        "colab": {}
      },
      "source": [
        "from firebase_admin import credentials, storage "
      ],
      "execution_count": 0,
      "outputs": []
    },
    {
      "cell_type": "code",
      "metadata": {
        "id": "o_Tr2_tszzkd",
        "colab_type": "code",
        "colab": {}
      },
      "source": [
        "cred = credentials.Certificate('/content/credentials_new.json')\n",
        "\n",
        "##  only take the part from where the actual name starts \n",
        "\n",
        "app = firebase_admin.initialize_app(cred, {\n",
        "    'storageBucket': 'location-5f194.appspot.com',\n",
        "}, name='storage')"
      ],
      "execution_count": 0,
      "outputs": []
    },
    {
      "cell_type": "code",
      "metadata": {
        "id": "KWi9rPV-3Gn5",
        "colab_type": "code",
        "colab": {}
      },
      "source": [
        "s7_hdr=[]\n",
        "note4_hdr=[]\n",
        "minote_hdr=[]\n",
        "PatelNagarMi_hdr=[]\n",
        "gurgaonNote4_hdr=[]\n"
      ],
      "execution_count": 0,
      "outputs": []
    },
    {
      "cell_type": "code",
      "metadata": {
        "id": "epIhMbbL0ONS",
        "colab_type": "code",
        "colab": {}
      },
      "source": [
        "bucket = storage.bucket(app = app)\n",
        "blobs = bucket.list_blobs()\n",
        "ctr=0\n",
        "\n",
        "\n",
        "## Reading all the LDR images \n",
        "for blob in blobs:\n",
        "  if('s7' in blob.name and 'hdr' in blob.name and int(blob.name[-8:-6])<19 and int(blob.name[-8:-6])>5):\n",
        "      blob.download_to_filename('/content/' + \"s7_hdr\" + str(blob.name.split('/')[-1])+ '.jpeg')\n",
        "      name = \"s7_hdr\" + str(blob.name.split('/')[-1])+ '.jpeg' \n",
        "      ctr+=1\n",
        "      im = cv2.imread(name)\n",
        "      im = cv2.resize(im,(256,256))\n",
        "      s7_hdr.append(im)\n",
        "      print(ctr)\n",
        "  if('note4' in blob.name and 'hdr' in blob.name and int(blob.name[-8:-6])<19 and int(blob.name[-8:-6])>5):\n",
        "      blob.download_to_filename('/content/' + \"note4_hdr\" + str(blob.name.split('/')[-1])+ '.jpeg')\n",
        "      name = \"note4_hdr\" + str(blob.name.split('/')[-1])+ '.jpeg' \n",
        "      ctr+=1\n",
        "      im = cv2.imread(name)\n",
        "      im = cv2.resize(im,(256,256))\n",
        "      note4_hdr.append(im)\n",
        "      print(ctr)\n",
        "  if('minote' in blob.name and 'hdr' in blob.name and int(blob.name[-8:-6])<19 and int(blob.name[-8:-6])>5):\n",
        "      blob.download_to_filename('/content/' + \"minote_hdr\" + str(blob.name.split('/')[-1])+ '.jpeg')\n",
        "      name = \"minote_hdr\" + str(blob.name.split('/')[-1])+ '.jpeg' \n",
        "      ctr+=1\n",
        "      im = cv2.imread(name)\n",
        "      im = cv2.resize(im,(256,256))\n",
        "      minote_hdr.append(im)\n",
        "      print(ctr)\n",
        "  if('PatelNagarMi' in blob.name and 'hdr' in blob.name and int(blob.name[-8:-6])<19 and int(blob.name[-8:-6])>5):\n",
        "      blob.download_to_filename('/content/' + \"PatelNagarMi\" + str(blob.name.split('/')[-1])+ '.jpeg')\n",
        "      name = \"PatelNagarMi\" + str(blob.name.split('/')[-1])+ '.jpeg' \n",
        "      ctr+=1\n",
        "      im = cv2.imread(name)\n",
        "      im = cv2.resize(im,(256,256))\n",
        "      PatelNagarMi_hdr.append(im)\n",
        "      print(ctr)\n",
        "  if('gurgaonNote4' in blob.name and 'hdr' in blob.name and int(blob.name[-8:-6])<19 and int(blob.name[-8:-6])>5):\n",
        "      blob.download_to_filename('/content/' + \"gurgaonNote4\" + str(blob.name.split('/')[-1])+ '.jpeg')\n",
        "      name = \"gurgaonNote4\" + str(blob.name.split('/')[-1])+ '.jpeg' \n",
        "      ctr+=1\n",
        "      im = cv2.imread(name)\n",
        "      im = cv2.resize(im,(256,256))\n",
        "      gurgaonNote4_hdr.append(im)\n",
        "      print(ctr)"
      ],
      "execution_count": 0,
      "outputs": []
    },
    {
      "cell_type": "code",
      "metadata": {
        "id": "yKCBW6QyCPEl",
        "colab_type": "code",
        "colab": {
          "base_uri": "https://localhost:8080/",
          "height": 51
        },
        "outputId": "0d5469f7-46dc-49aa-c7ee-0f936c9a3d1d"
      },
      "source": [
        "print(len(note4_hdr))\n",
        "print(len(s7_hdr))"
      ],
      "execution_count": 23,
      "outputs": [
        {
          "output_type": "stream",
          "text": [
            "38\n",
            "168\n"
          ],
          "name": "stdout"
        }
      ]
    },
    {
      "cell_type": "code",
      "metadata": {
        "id": "rLdInN-cI1J2",
        "colab_type": "code",
        "colab": {}
      },
      "source": [
        ""
      ],
      "execution_count": 0,
      "outputs": []
    }
  ]
}